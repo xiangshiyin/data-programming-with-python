{
 "cells": [
  {
   "cell_type": "markdown",
   "metadata": {},
   "source": [
    "(**You can also open this notebook in Google Colab**)\n",
    "\n",
    "[![Open In Colab](https://colab.research.google.com/assets/colab-badge.svg)](https://colab.research.google.com/github/xiangshiyin/data-programming-with-python/blob/main/2023-fall/2023-09-05/notebook/code_demo.ipynb)"
   ]
  },
  {
   "cell_type": "markdown",
   "metadata": {},
   "source": [
    "# Recap of last class\n",
    "- Primitive data types\n",
    "  - Numbers (Integer vs. Floating point)\n",
    "  - String\n",
    "  - Boolean\n",
    "- Non-primitive data types\n",
    "  - `list`\n",
    "  - `tuple`\n",
    "  - `set`\n",
    "  - `dictionary`"
   ]
  },
  {
   "cell_type": "markdown",
   "metadata": {},
   "source": [
    "## Create `dictionary` vs. `set`"
   ]
  },
  {
   "cell_type": "code",
   "execution_count": null,
   "metadata": {},
   "outputs": [],
   "source": [
    "# create an empty dictionary\n"
   ]
  },
  {
   "cell_type": "code",
   "execution_count": null,
   "metadata": {},
   "outputs": [],
   "source": [
    "# create an empty set\n"
   ]
  },
  {
   "cell_type": "code",
   "execution_count": null,
   "metadata": {},
   "outputs": [],
   "source": [
    "# create a non-empty dictionary\n"
   ]
  },
  {
   "cell_type": "code",
   "execution_count": null,
   "metadata": {},
   "outputs": [],
   "source": [
    "# create a non-empty set\n"
   ]
  },
  {
   "cell_type": "code",
   "execution_count": null,
   "metadata": {},
   "outputs": [],
   "source": []
  },
  {
   "cell_type": "markdown",
   "metadata": {},
   "source": [
    "## Update `dictionary` vs. `set`"
   ]
  },
  {
   "cell_type": "code",
   "execution_count": 1,
   "metadata": {},
   "outputs": [
    {
     "data": {
      "text/plain": [
       "{1, 2, 3, 4}"
      ]
     },
     "execution_count": 1,
     "metadata": {},
     "output_type": "execute_result"
    }
   ],
   "source": [
    "# add an element to a set\n",
    "x = set([1,2,3])\n",
    "x.add(4)\n",
    "x"
   ]
  },
  {
   "cell_type": "code",
   "execution_count": 2,
   "metadata": {},
   "outputs": [
    {
     "data": {
      "text/plain": [
       "{1, 3, 4}"
      ]
     },
     "execution_count": 2,
     "metadata": {},
     "output_type": "execute_result"
    }
   ],
   "source": [
    "# remove an element from a set\n",
    "x.remove(2)\n",
    "x"
   ]
  },
  {
   "cell_type": "code",
   "execution_count": 3,
   "metadata": {},
   "outputs": [
    {
     "data": {
      "text/plain": [
       "{'a': 1, 'b': 2, 'c': 3}"
      ]
     },
     "execution_count": 3,
     "metadata": {},
     "output_type": "execute_result"
    }
   ],
   "source": [
    "# add a key-value pair to a dictionary\n",
    "y = {'a':1, 'b':2}\n",
    "y['c'] = 3\n",
    "y"
   ]
  },
  {
   "cell_type": "code",
   "execution_count": 4,
   "metadata": {},
   "outputs": [
    {
     "data": {
      "text/plain": [
       "{'a': 1, 'b': 2, 'c': 3, 'd': 4, 'e': 5}"
      ]
     },
     "execution_count": 4,
     "metadata": {},
     "output_type": "execute_result"
    }
   ],
   "source": [
    "# merge one dictionary into another\n",
    "z = {'d':4, 'e':5}\n",
    "y.update(z)\n",
    "y"
   ]
  },
  {
   "cell_type": "code",
   "execution_count": null,
   "metadata": {},
   "outputs": [],
   "source": []
  },
  {
   "cell_type": "markdown",
   "metadata": {},
   "source": [
    "**Similarities** between `set` and `dictionary`\n",
    "* Both are unordered collection\n",
    "* Both are mutable\n",
    "* Both have uniquess property (using the `hashing` mechanism)\n",
    "* Both are iterable"
   ]
  },
  {
   "cell_type": "markdown",
   "metadata": {},
   "source": [
    "## More exercise\n",
    "- Q1. Input student name, check if the student is registered in the class\n"
   ]
  },
  {
   "cell_type": "code",
   "execution_count": null,
   "metadata": {},
   "outputs": [],
   "source": []
  },
  {
   "cell_type": "code",
   "execution_count": null,
   "metadata": {},
   "outputs": [],
   "source": []
  },
  {
   "cell_type": "markdown",
   "metadata": {},
   "source": [
    "- Q2. TBD"
   ]
  },
  {
   "cell_type": "code",
   "execution_count": null,
   "metadata": {},
   "outputs": [],
   "source": []
  },
  {
   "cell_type": "code",
   "execution_count": null,
   "metadata": {},
   "outputs": [],
   "source": []
  },
  {
   "cell_type": "markdown",
   "metadata": {},
   "source": [
    "## How to improve Python coding\n",
    "- PRACTICE and PRACTICE and PRACTICE\n",
    "- Try it before asking `WHAT`\n",
    "- Break it and figure out `WHY`\n",
    "- Read other people's code and learn `HOW`\n",
    "\n",
    "\n",
    "Online platform - hackerrank, leetcode, etc."
   ]
  },
  {
   "cell_type": "code",
   "execution_count": null,
   "metadata": {},
   "outputs": [],
   "source": []
  },
  {
   "cell_type": "code",
   "execution_count": null,
   "metadata": {},
   "outputs": [],
   "source": []
  },
  {
   "cell_type": "markdown",
   "metadata": {},
   "source": [
    "# Conditions\n",
    "\n",
    "* The program will evaluate the boolean value of the expression to decide which statement to execute\n",
    "* The general code pattern looks like this:\n",
    "\n",
    "\n",
    "    ```python\n",
    "    if <exp>:\n",
    "        <statement>\n",
    "    elif <exp>:\n",
    "        <statement>\n",
    "    else:\n",
    "        <statement>\n",
    "    ```\n",
    "\n",
    "* The `<exp>` is generally an expression returnning a boolean value of `True/False`, common patterns include\n",
    "  * `<variable/expression> == True` or `<variable/expression>` (equals to True) or `<variable/expression> != False`\n",
    "  * `<variable/expression> == False` or `not <variable/expression>` (equals to False) or `<variable/expression> != True`\n",
    "  * `<variable/expression> != None` or `<variable/expression>`\n",
    "  * `<variable/expression> == None` or `not <variable/expression>` \n",
    "  * `variable_a` > `variable_b` (comparison operator could be `>`, `<`, `==`, `!=`, `>=`, `<=`)\n",
    "* You need to indent each line of the `<statement>` code block by the **same number of whitespace**. It is a required practice to indicate what block of code a statement belongs to. **Default indentation uses 4 spaces. You could use any number that works to you, but a minimum of 1 space has to be used.**\n",
    "\n",
    "Detailed explanation can be found [here](https://docs.google.com/presentation/d/15pB4adripXMd1-PTQyZObfxlD2-ablKSpDUrfIiKPFQ/edit#slide=id.g27b1fe4a13d_0_5)\n",
    "\n",
    "\n",
    "\n",
    "<center><img src=\"https://www.guru99.com/images/2013/04/if_then_flowchart.png\" style=\"height:400px;\"></center>"
   ]
  },
  {
   "cell_type": "code",
   "execution_count": 5,
   "metadata": {},
   "outputs": [
    {
     "name": "stdout",
     "output_type": "stream",
     "text": [
      "x is smaller than 5\n"
     ]
    }
   ],
   "source": [
    "# single branch\n",
    "\n",
    "x = 4\n",
    "if x < 5:\n",
    "    print('x is smaller than 5')"
   ]
  },
  {
   "cell_type": "code",
   "execution_count": 6,
   "metadata": {},
   "outputs": [],
   "source": [
    "# single branch\n",
    "\n",
    "x = 4\n",
    "if x > 5:\n",
    "    print('x is greater than 5')"
   ]
  },
  {
   "cell_type": "code",
   "execution_count": 7,
   "metadata": {},
   "outputs": [
    {
     "name": "stdout",
     "output_type": "stream",
     "text": [
      "x is smaller than 5\n"
     ]
    }
   ],
   "source": [
    "# double branches\n",
    "\n",
    "x = 4\n",
    "if x < 5:\n",
    "    print('x is smaller than 5')\n",
    "else:\n",
    "    print('x is greater than or equal to 5')"
   ]
  },
  {
   "cell_type": "code",
   "execution_count": 8,
   "metadata": {},
   "outputs": [],
   "source": [
    "# make it dynamic based on user input??\n"
   ]
  },
  {
   "cell_type": "code",
   "execution_count": null,
   "metadata": {},
   "outputs": [],
   "source": [
    "# multiple branches\n",
    "x = 3\n",
    "\n",
    "if x < 0:\n",
    "    print(\"It's negative\") \n",
    "elif x == 0:\n",
    "    print(\"Equal to zero\") \n",
    "elif 0 < x < 5:\n",
    "    print(\"Positive but smaller than 5\") \n",
    "else:\n",
    "    print(\"Positive and larger than or equal to 5\")"
   ]
  },
  {
   "cell_type": "code",
   "execution_count": null,
   "metadata": {},
   "outputs": [],
   "source": [
    "# make it dynamic based on user input??\n"
   ]
  },
  {
   "cell_type": "code",
   "execution_count": null,
   "metadata": {},
   "outputs": [],
   "source": []
  },
  {
   "cell_type": "markdown",
   "metadata": {},
   "source": [
    "# `indentation` in Python\n",
    "\n",
    "- The Python language design is distinguished by its emphasis on readability, simplicity, and explicitness. Some people go so far as to liken it to \"executable pseudocode\"\n",
    "- Python uses whitespace (tabs or spaces) to structure code instead of using braces as in many other languages like R, C++, Java, and Perl. Consider a for loop from a sorting algorithm, such as:\n",
    "    ```python\n",
    "    if x >= 5:\n",
    "        print(f\"x is greater or equal to 5\")\n",
    "    else:\n",
    "        print(f\"x is smaller than 5\")\n",
    "    ```\n",
    "- A colon denotes the start of an indented code block after which all of the code must be indented by the **same amount** until the end of the block\n",
    "- `Indentation` here means - **X consecutive spaces**\n",
    "  - There is no restrictions on the amount of spaces to use as long as you always stick to the same amount. However, **4 consecutive spaces** is the general standard people follow\n",
    "  - Many text editors have a setting that will replace tab stops with spaces automatically\n",
    "- Semicolons can be used, however, to separate multiple statements on a single line:\n",
    "    ```python\n",
    "    a = 5; b = 6; c = 7\n",
    "    ```\n",
    "  - Putting multiple statements on one line is generally discouraged in Python as it can make code less readable."
   ]
  },
  {
   "cell_type": "markdown",
   "metadata": {},
   "source": [
    "## Example - Write conditional statements in embedded style\n"
   ]
  },
  {
   "cell_type": "code",
   "execution_count": null,
   "metadata": {},
   "outputs": [],
   "source": []
  },
  {
   "cell_type": "code",
   "execution_count": null,
   "metadata": {},
   "outputs": [],
   "source": []
  },
  {
   "cell_type": "code",
   "execution_count": null,
   "metadata": {},
   "outputs": [],
   "source": []
  },
  {
   "cell_type": "markdown",
   "metadata": {},
   "source": [
    "# Loops\n",
    "## `while` loop"
   ]
  },
  {
   "cell_type": "code",
   "execution_count": null,
   "metadata": {},
   "outputs": [],
   "source": []
  },
  {
   "cell_type": "code",
   "execution_count": null,
   "metadata": {},
   "outputs": [],
   "source": []
  },
  {
   "cell_type": "markdown",
   "metadata": {},
   "source": [
    "## `for` loop"
   ]
  },
  {
   "cell_type": "code",
   "execution_count": null,
   "metadata": {},
   "outputs": [],
   "source": []
  },
  {
   "cell_type": "code",
   "execution_count": null,
   "metadata": {},
   "outputs": [],
   "source": []
  },
  {
   "cell_type": "markdown",
   "metadata": {},
   "source": [
    "## `list comprehension`"
   ]
  },
  {
   "cell_type": "code",
   "execution_count": null,
   "metadata": {},
   "outputs": [],
   "source": []
  },
  {
   "cell_type": "markdown",
   "metadata": {},
   "source": [
    "## Iterate through common Python data structures"
   ]
  },
  {
   "cell_type": "code",
   "execution_count": null,
   "metadata": {},
   "outputs": [],
   "source": []
  },
  {
   "cell_type": "code",
   "execution_count": null,
   "metadata": {},
   "outputs": [],
   "source": []
  },
  {
   "cell_type": "code",
   "execution_count": null,
   "metadata": {},
   "outputs": [],
   "source": []
  },
  {
   "cell_type": "markdown",
   "metadata": {},
   "source": [
    "# `Function` in Python"
   ]
  },
  {
   "cell_type": "markdown",
   "metadata": {},
   "source": [
    "## Create a `function`"
   ]
  },
  {
   "cell_type": "code",
   "execution_count": null,
   "metadata": {},
   "outputs": [],
   "source": []
  },
  {
   "cell_type": "code",
   "execution_count": null,
   "metadata": {},
   "outputs": [],
   "source": []
  },
  {
   "cell_type": "markdown",
   "metadata": {},
   "source": [
    "## Use/\"Call\" a `function`"
   ]
  },
  {
   "cell_type": "code",
   "execution_count": null,
   "metadata": {},
   "outputs": [],
   "source": []
  },
  {
   "cell_type": "code",
   "execution_count": null,
   "metadata": {},
   "outputs": [],
   "source": []
  },
  {
   "cell_type": "markdown",
   "metadata": {},
   "source": [
    "## Common built-in functions"
   ]
  },
  {
   "cell_type": "code",
   "execution_count": null,
   "metadata": {},
   "outputs": [],
   "source": []
  },
  {
   "cell_type": "code",
   "execution_count": null,
   "metadata": {},
   "outputs": [],
   "source": []
  },
  {
   "cell_type": "markdown",
   "metadata": {},
   "source": [
    "# `Class` and `objects`"
   ]
  },
  {
   "cell_type": "code",
   "execution_count": null,
   "metadata": {},
   "outputs": [],
   "source": []
  },
  {
   "cell_type": "code",
   "execution_count": null,
   "metadata": {},
   "outputs": [],
   "source": []
  },
  {
   "cell_type": "code",
   "execution_count": null,
   "metadata": {},
   "outputs": [],
   "source": []
  },
  {
   "cell_type": "markdown",
   "metadata": {},
   "source": [
    "# Files and `I/O`"
   ]
  },
  {
   "cell_type": "code",
   "execution_count": null,
   "metadata": {},
   "outputs": [],
   "source": []
  },
  {
   "cell_type": "code",
   "execution_count": null,
   "metadata": {},
   "outputs": [],
   "source": []
  },
  {
   "cell_type": "code",
   "execution_count": null,
   "metadata": {},
   "outputs": [],
   "source": []
  },
  {
   "cell_type": "code",
   "execution_count": null,
   "metadata": {},
   "outputs": [],
   "source": []
  }
 ],
 "metadata": {
  "kernelspec": {
   "display_name": "data-programming-with-python-h2fMFruk-py3.10",
   "language": "python",
   "name": "python3"
  },
  "language_info": {
   "codemirror_mode": {
    "name": "ipython",
    "version": 3
   },
   "file_extension": ".py",
   "mimetype": "text/x-python",
   "name": "python",
   "nbconvert_exporter": "python",
   "pygments_lexer": "ipython3",
   "version": "3.10.8"
  },
  "orig_nbformat": 4
 },
 "nbformat": 4,
 "nbformat_minor": 2
}
