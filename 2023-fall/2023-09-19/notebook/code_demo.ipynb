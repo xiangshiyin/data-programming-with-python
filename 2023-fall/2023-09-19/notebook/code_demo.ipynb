{
 "cells": [
  {
   "cell_type": "markdown",
   "metadata": {},
   "source": [
    "(**You can also open this notebook in Google Colab**)\n",
    "\n",
    "[![Open In Colab](https://colab.research.google.com/assets/colab-badge.svg)](https://colab.research.google.com/github/xiangshiyin/data-programming-with-python/blob/main/2023-fall/2023-09-19/notebook/code_demo.ipynb)"
   ]
  },
  {
   "cell_type": "markdown",
   "metadata": {},
   "source": [
    "# Python - extended topics"
   ]
  },
  {
   "cell_type": "markdown",
   "metadata": {},
   "source": [
    "## Class and Objects in Python\n",
    "\n",
    "In general\n",
    "- A `class` is a blueprint for declaring and creating objects\n",
    "- An `object` is a class instance that allows programmers to use variables and methods from inside the class\n",
    "- A class defines a set of `attributes` (`<--> properties`) and `methods` (`<--> functions`) that the objects of that class will have."
   ]
  },
  {
   "cell_type": "code",
   "execution_count": null,
   "metadata": {},
   "outputs": [],
   "source": []
  },
  {
   "cell_type": "markdown",
   "metadata": {},
   "source": [
    "### Create a class in Python"
   ]
  },
  {
   "cell_type": "code",
   "execution_count": null,
   "metadata": {},
   "outputs": [],
   "source": [
    "class table:\n",
    "    def __init__(self, l, w, h):\n",
    "        self.l = l\n",
    "        self.w = w\n",
    "        self.h = h\n",
    "        self.has_a_flat_top = True\n",
    "    \n",
    "    def hold_weight(self, weight):\n",
    "        print('Holding a weight of {weight} kg')"
   ]
  },
  {
   "cell_type": "markdown",
   "metadata": {},
   "source": [
    "### Create an object out of a class"
   ]
  },
  {
   "cell_type": "code",
   "execution_count": null,
   "metadata": {},
   "outputs": [],
   "source": []
  },
  {
   "cell_type": "markdown",
   "metadata": {},
   "source": [
    "### Access the attributes and methods of an object\n",
    "You can access the `attributes` and `methods` of class `table` use the following pattern\n",
    "```python\n",
    "table_1.l\n",
    "table_1.w\n",
    "table_1.h\n",
    "table_1.has_a_flat_top\n",
    "table_1.hold_weight(weight=10)\n",
    "```"
   ]
  },
  {
   "cell_type": "code",
   "execution_count": null,
   "metadata": {},
   "outputs": [],
   "source": []
  },
  {
   "cell_type": "markdown",
   "metadata": {},
   "source": [
    "### Class inheritance\n",
    "In Python, `class inheritance` is a mechanism by which a new class can be created from an existing class, inheriting its attributes and methods. The new class is called a `subclass` or `derived class`, while the existing class is called the `superclass` or `base class`.\n",
    "\n",
    "To create a subclass in Python, you can define a new class that inherits from the superclass using the syntax `class Subclass(Superclass)`\n",
    "\n",
    "```mermaid\n",
    "flowchart TD\n",
    "    animal-->dog\n",
    "    animal-->cat\n",
    "```\n",
    "\n",
    "```python\n",
    "class Animal:\n",
    "    def __init__(self, name):\n",
    "        self.name = name\n",
    "\n",
    "    def speak(self):\n",
    "        pass\n",
    "\n",
    "class Dog(Animal):\n",
    "    pass\n",
    "\n",
    "class Cat(Animal):\n",
    "    pass\n",
    "\n",
    "```"
   ]
  },
  {
   "cell_type": "code",
   "execution_count": null,
   "metadata": {},
   "outputs": [],
   "source": []
  },
  {
   "cell_type": "markdown",
   "metadata": {},
   "source": [
    "## Files and `I/O`\n",
    "* Major tool/function: `open(file, mode='r')` (https://docs.python.org/3/library/functions.html#open)\n",
    "* The default mode is 'r' (open for reading text, synonym of 'rt'). The available modes:\n",
    "\n",
    "    | Character | Meaning                                                         |\n",
    "    |-----------|-----------------------------------------------------------------|\n",
    "    | 'r'       | open for reading (default)                                      |\n",
    "    | 'w'       | open for writing, truncating the file first                     |\n",
    "    | 'a'       | open for writing, appending to the end of the file if it exists |\n",
    "    | 'b'       | binary mode                                                     |"
   ]
  },
  {
   "cell_type": "markdown",
   "metadata": {},
   "source": [
    "**read**"
   ]
  },
  {
   "cell_type": "code",
   "execution_count": null,
   "metadata": {},
   "outputs": [],
   "source": [
    "## Read from a file\n",
    "var = 'test-read.txt'\n",
    "fr = open(var,'r') # create one file handle\n",
    "lines = fr.readlines() # read all into a list\n",
    "fr.close()"
   ]
  },
  {
   "cell_type": "code",
   "execution_count": null,
   "metadata": {},
   "outputs": [],
   "source": [
    "## Another convenient way to automatically handle file handle closure\n",
    "\n",
    "with open('test-read.txt','r') as fr:\n",
    "    for line in fr.readlines():\n",
    "        print(line)"
   ]
  },
  {
   "cell_type": "code",
   "execution_count": null,
   "metadata": {},
   "outputs": [],
   "source": [
    "with open('test-read.txt','r') as fr:\n",
    "    for line in fr:\n",
    "        print(line)"
   ]
  },
  {
   "cell_type": "markdown",
   "metadata": {},
   "source": [
    "**write**"
   ]
  },
  {
   "cell_type": "code",
   "execution_count": null,
   "metadata": {},
   "outputs": [],
   "source": [
    "## open file in 'w' mode\n",
    "fw = open('test-write-1.txt','w')\n",
    "fw.write('this is a test')\n",
    "fw.close()"
   ]
  },
  {
   "cell_type": "code",
   "execution_count": null,
   "metadata": {},
   "outputs": [],
   "source": [
    "with open('test-write-1.txt','r') as fr:\n",
    "    for line in fr:\n",
    "        print(line)"
   ]
  },
  {
   "cell_type": "code",
   "execution_count": null,
   "metadata": {},
   "outputs": [],
   "source": [
    "## Write new content to a file\n",
    "with open('test-write.txt','w') as fw:\n",
    "    for i in range(6,11):\n",
    "        fw.write(f'this is line {i}\\n')"
   ]
  },
  {
   "cell_type": "code",
   "execution_count": null,
   "metadata": {},
   "outputs": [],
   "source": [
    "## Append to an existing file\n",
    "with open('test-write.txt','w') as fw:\n",
    "    for i in range(4,7):\n",
    "        fw.write(f'this is line {i}\\n')"
   ]
  },
  {
   "cell_type": "markdown",
   "metadata": {},
   "source": [
    "**append** - the correct way"
   ]
  },
  {
   "cell_type": "code",
   "execution_count": null,
   "metadata": {},
   "outputs": [],
   "source": [
    "## Read and write\n",
    "with open('test-write.txt','a') as fa:\n",
    "    fa.write('this is a new line\\n')\n",
    "    for i in range(7,10):\n",
    "        fa.write(f'this is line {i}\\n')"
   ]
  },
  {
   "cell_type": "markdown",
   "metadata": {},
   "source": [
    "## Library import in depth\n",
    "### A simple Python package\n",
    "Assume we have a package with the following file distribution\n",
    "```md\n",
    "└── sample_package\n",
    "    └── sample.py\n",
    "    └── subpackage\n",
    "        └── subsample.py\n",
    "```\n",
    "The content of `sample.py` is like\n",
    "```python\n",
    "x = 123\n",
    "y = 234\n",
    "\n",
    "def hello():\n",
    "    print('Hello World')\n",
    "```\n",
    "\n",
    "The content of `subsample.py`\n",
    "```python\n",
    "xx = 1\n",
    "yy = 2\n",
    "```\n",
    "\n",
    "### Things might be more complicated\n",
    "![](../pics/library_tree.png)\n",
    "\n",
    "***You could***\n",
    "* `import` the whole library, by `import a`\n",
    "* `import` a module (python script), by `import a.aa`\n",
    "* `import` a object (variable, function, class, etc.) in a module, by `import a.aa.aaa`, or `from a.aa import aaa`\n",
    "\n",
    "\n",
    "**However**, you should keep using the `<object>` name in the `import <object>` statement in your program to reference the object you imported. **Sometimes, this could be quite inconvenient** because the `<object>` string could be pretty long due to the complicatedd file structures in the python library\n",
    "\n",
    "**There are two ways** to solve the problem:\n",
    "* `from a import aa` (use the `from` statement to reference the complicated folder relationships)\n",
    "* `import a.aa as aa` (create an alias)"
   ]
  },
  {
   "cell_type": "code",
   "execution_count": null,
   "metadata": {},
   "outputs": [],
   "source": [
    "%%sh\n",
    "\n",
    "tree sample_package"
   ]
  },
  {
   "cell_type": "code",
   "execution_count": null,
   "metadata": {},
   "outputs": [],
   "source": [
    "from sample_package.sample import hello\n",
    "hello()"
   ]
  },
  {
   "cell_type": "code",
   "execution_count": null,
   "metadata": {},
   "outputs": [],
   "source": [
    "from sample_package.subpackage.subsample import xx"
   ]
  },
  {
   "cell_type": "code",
   "execution_count": null,
   "metadata": {},
   "outputs": [],
   "source": [
    "xx"
   ]
  },
  {
   "cell_type": "code",
   "execution_count": null,
   "metadata": {},
   "outputs": [],
   "source": []
  },
  {
   "cell_type": "code",
   "execution_count": null,
   "metadata": {},
   "outputs": [],
   "source": []
  }
 ],
 "metadata": {
  "kernelspec": {
   "display_name": "data-programming-with-python-h2fMFruk-py3.10",
   "language": "python",
   "name": "python3"
  },
  "language_info": {
   "codemirror_mode": {
    "name": "ipython",
    "version": 3
   },
   "file_extension": ".py",
   "mimetype": "text/x-python",
   "name": "python",
   "nbconvert_exporter": "python",
   "pygments_lexer": "ipython3",
   "version": "3.10.8"
  },
  "orig_nbformat": 4
 },
 "nbformat": 4,
 "nbformat_minor": 2
}
