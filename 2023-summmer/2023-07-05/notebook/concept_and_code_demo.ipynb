{
 "cells": [
  {
   "attachments": {},
   "cell_type": "markdown",
   "metadata": {},
   "source": [
    "# Today's Coding Topics\n",
    "[![Open In Colab](https://colab.research.google.com/assets/colab-badge.svg)](https://colab.research.google.com/github/xiangshiyin/data-programming-with-python/blob/main/2023-summmer/2023-07-05/notebook/concept_and_code_demo.ipynb)\n",
    "\n",
    "* Recap of previous lecture\n",
    "* Demos on common visulization libraries\n",
    "    * `matplotlib`\n",
    "    * `seaborn`\n",
    "* Regression Analysis"
   ]
  },
  {
   "attachments": {},
   "cell_type": "markdown",
   "metadata": {},
   "source": [
    "# The Python Visualization Landscape"
   ]
  },
  {
   "attachments": {},
   "cell_type": "markdown",
   "metadata": {},
   "source": [
    "\n",
    "`Visualization` is one of the most important tasks in data analysis. In data exploration stage, you could use visualization to identify outliers and some general patterns exist in the data. In modeling stage, you could use visualization to monitor the performance of your model. In reporting stage, you could use visualization to better illustrate the business insight you want to deliver to the audience. There are a couple of commonly used Python libraries that could help with these use cases:\n",
    "\n",
    "**Matplotlib**<br/>\n",
    "`matplotlib` is a comprehensive library for creating static, animated, and interactive visualizations in Python. It is the most popular plotting library in Python, which gives users different levels of control over every aspect of a figure.\n",
    "\n",
    "**Seaborn**<br/>\n",
    "`seaborn` provides a high-level interface for drawing attractive and informative statistical graphics. It builds on top of matplotlib and integrates closely with pandas data structures.\n",
    "\n",
    "**Plotly**<br/>\n",
    "`plotly` is an open source library enables users to create beautiful interactive web-based visualizations that can be displayed in Jupyter notebooks, saved to standalone HTML files, or served as part of pure Python-built web application using `Dash`\n",
    "\n",
    "**Bokeh**<br/>\n",
    "Bokeh is an interactive visualization library for modern web browsers. It provides elegant, concise construction of versatile graphics, and affords high-performance interactivity over large or streaming datasets. Bokeh can help anyone who would like to quickly and easily make interactive plots, dashboards, and data applications."
   ]
  },
  {
   "cell_type": "code",
   "execution_count": null,
   "metadata": {},
   "outputs": [],
   "source": []
  },
  {
   "attachments": {},
   "cell_type": "markdown",
   "metadata": {},
   "source": [
    "# Visualization with `matplotlib`\n",
    "\n",
    "* Comes with the `Anaconda` installation\n",
    "* If you don't have it on your computer, you could install it with pip or conda at the command line or terminal with\n",
    "`pip install matplotlib` or `conda install matplotlib`\n",
    "* `matplotlib` breaks a plot/graph into different components. With the library, you can add/delete/edit these components one by one based on detailed use cases.\n",
    "* With `matplotlib`, you could create reproducible figures in a programmatic way."
   ]
  },
  {
   "attachments": {},
   "cell_type": "markdown",
   "metadata": {},
   "source": [
    "![](https://matplotlib.org/_images/anatomy1.png)"
   ]
  },
  {
   "attachments": {},
   "cell_type": "markdown",
   "metadata": {},
   "source": [
    "## Import the core library"
   ]
  },
  {
   "cell_type": "code",
   "execution_count": null,
   "metadata": {},
   "outputs": [],
   "source": [
    "import matplotlib.pyplot as plt\n",
    "import numpy as np"
   ]
  },
  {
   "attachments": {},
   "cell_type": "markdown",
   "metadata": {},
   "source": [
    "**`matplotlib` provides two types of methods for you to contruct plots**\n",
    "* `Function based methods`: It is a Matlab style plotting functions. The coding is very concise, and you can control the plot from a few high level settings.\n",
    "* `Object-oriented methods`: It is a method that needs you to create figure objects, and all the plot control statements come from the methods or attributes associated with the figure object. The coding is a little bit more complicated, but you have a finer control on the figure components."
   ]
  },
  {
   "attachments": {},
   "cell_type": "markdown",
   "metadata": {},
   "source": [
    "## Figure paramter tuning"
   ]
  },
  {
   "attachments": {},
   "cell_type": "markdown",
   "metadata": {},
   "source": [
    "### Plot range"
   ]
  },
  {
   "cell_type": "code",
   "execution_count": null,
   "metadata": {},
   "outputs": [],
   "source": [
    "## revisit the simple X-Y plot\n",
    "\n",
    "fig, axes = plt.subplots()\n",
    "\n",
    "x = np.linspace(0,10,1000)\n",
    "y = [v ** 2 for v in x]\n",
    "\n",
    "axes.plot(x,y)\n",
    "axes.set_xlabel('X label')\n",
    "axes.set_ylabel('Y label')\n",
    "axes.set_title('This is another test')\n",
    "axes.set_xlim(0,3)\n",
    "axes.set_ylim(0,10)\n",
    "\n",
    "plt.show()"
   ]
  },
  {
   "attachments": {},
   "cell_type": "markdown",
   "metadata": {},
   "source": [
    "### Legend"
   ]
  },
  {
   "cell_type": "code",
   "execution_count": null,
   "metadata": {},
   "outputs": [],
   "source": [
    "## plot multiple lines in one graph\n",
    "\n",
    "fig, axes = plt.subplots()\n",
    "\n",
    "axes.plot(x,y,label='$x^2$')\n",
    "axes.plot(x, x**3, label='$x^3$')\n",
    "\n",
    "axes.set_xlabel('X label')\n",
    "axes.set_ylabel('Y label')\n",
    "axes.set_title('This is another test')\n",
    "axes.set_xlim(0,3)\n",
    "axes.set_ylim(0,10)\n",
    "\n",
    "axes.legend()\n",
    "plt.show()"
   ]
  },
  {
   "attachments": {},
   "cell_type": "markdown",
   "metadata": {},
   "source": [
    "You can customize the position of the legend box\n",
    "\n",
    "```sh\n",
    "        ===============   =============\n",
    "        Location String   Location Code\n",
    "        ===============   =============\n",
    "        'best'            0\n",
    "        'upper right'     1\n",
    "        'upper left'      2\n",
    "        'lower left'      3\n",
    "        'lower right'     4\n",
    "        'right'           5\n",
    "        'center left'     6\n",
    "        'center right'    7\n",
    "        'lower center'    8\n",
    "        'upper center'    9\n",
    "        'center'          10\n",
    "        ===============   =============\n",
    "```"
   ]
  },
  {
   "cell_type": "code",
   "execution_count": null,
   "metadata": {},
   "outputs": [],
   "source": [
    "fig, axes = plt.subplots()\n",
    "\n",
    "axes.plot(x,y,label='$x^2$')\n",
    "axes.plot(x, x**3, label='$x^3$')\n",
    "\n",
    "axes.set_xlabel('X label')\n",
    "axes.set_ylabel('Y label')\n",
    "axes.set_title('This is another test')\n",
    "axes.set_xlim(0,3)\n",
    "axes.set_ylim(0,10)\n",
    "\n",
    "axes.legend(loc=1) # customize the position\n",
    "plt.show()"
   ]
  },
  {
   "cell_type": "code",
   "execution_count": null,
   "metadata": {},
   "outputs": [],
   "source": []
  },
  {
   "attachments": {},
   "cell_type": "markdown",
   "metadata": {},
   "source": [
    "### Text"
   ]
  },
  {
   "cell_type": "code",
   "execution_count": null,
   "metadata": {},
   "outputs": [],
   "source": [
    "## add a text annotation at a specific position in the graph\n",
    "fig,ax = plt.subplots()\n",
    "\n",
    "t = np.arange(0.0, 5.0, 0.01)\n",
    "s = np.cos(2*np.pi*t)\n",
    "line, = plt.plot(t, s, lw=2)\n",
    "\n",
    "plt.annotate('local max', xy=(2, 1), xytext=(3, 1.5),\n",
    "             arrowprops=dict(facecolor='black', shrink=0.05),\n",
    "             )\n",
    "\n",
    "plt.ylim(-2, 2)\n",
    "plt.show()"
   ]
  },
  {
   "cell_type": "code",
   "execution_count": null,
   "metadata": {},
   "outputs": [],
   "source": [
    "mu, sigma = 100, 15\n",
    "x = mu + sigma * np.random.randn(10000)\n",
    "\n",
    "# the histogram of the data\n",
    "n, bins, patches = plt.hist(x, 50, density=1, facecolor='g', alpha=0.75)\n",
    "\n",
    "\n",
    "plt.xlabel('Smarts')\n",
    "plt.ylabel('Probability')\n",
    "plt.title('Histogram of IQ')\n",
    "plt.text(60, .025, r'$\\mu=100,\\ \\sigma=15$')\n",
    "plt.axis([40, 160, 0, 0.03]) # a different way to define x-y limits\n",
    "plt.grid(True)\n",
    "plt.show()"
   ]
  },
  {
   "attachments": {},
   "cell_type": "markdown",
   "metadata": {},
   "source": [
    "### Line colors, width, styles\n",
    "* For detailed parameter settings, check https://matplotlib.org/api/_as_gen/matplotlib.axes.Axes.plot.html"
   ]
  },
  {
   "cell_type": "code",
   "execution_count": null,
   "metadata": {},
   "outputs": [],
   "source": [
    "fig, ax = plt.subplots()\n",
    "\n",
    "x = np.linspace(0,5,20)\n",
    "ax.plot(x, x+1, color='b')\n",
    "ax.plot(x, x+2, color='g')\n",
    "ax.plot(x, x+3, color='r')\n",
    "\n",
    "plt.show()"
   ]
  },
  {
   "cell_type": "code",
   "execution_count": null,
   "metadata": {},
   "outputs": [],
   "source": [
    "fig, ax = plt.subplots(figsize=(12,6))\n",
    "\n",
    "ax.plot(x, x+1, color='r', linewidth=0.25)\n",
    "ax.plot(x, x+2, color='r', linewidth=0.50)\n",
    "ax.plot(x, x+3, color='r', linewidth=1.00)\n",
    "ax.plot(x, x+4, color='r', linewidth=2.00)\n",
    "\n",
    "plt.show()"
   ]
  },
  {
   "cell_type": "code",
   "execution_count": null,
   "metadata": {},
   "outputs": [],
   "source": [
    "fig, ax = plt.subplots(figsize=(12,6))\n",
    "\n",
    "ax.plot(x, x+1, color='r', linewidth=0.25)\n",
    "ax.plot(x, x+2, color='r', linewidth=0.50)\n",
    "ax.plot(x, x+3, color='r', linewidth=1.00)\n",
    "ax.plot(x, x+4, color='r', linewidth=2.00)\n",
    "\n",
    "ax.plot(x, x+5, color=\"green\", lw=3, linestyle='-')\n",
    "ax.plot(x, x+6, color=\"green\", lw=3, ls='-.')\n",
    "ax.plot(x, x+7, color=\"green\", lw=3, ls=':')\n",
    "\n",
    "plt.show()"
   ]
  },
  {
   "cell_type": "code",
   "execution_count": null,
   "metadata": {},
   "outputs": [],
   "source": [
    "fig, ax = plt.subplots(figsize=(12,6))\n",
    "\n",
    "ax.plot(x, x+1, color='r', linewidth=0.25)\n",
    "ax.plot(x, x+2, color='r', linewidth=0.50)\n",
    "ax.plot(x, x+3, color='r', linewidth=1.00)\n",
    "ax.plot(x, x+4, color='r', linewidth=2.00)\n",
    "\n",
    "ax.plot(x, x+5, color=\"green\", lw=3, linestyle='-')\n",
    "ax.plot(x, x+6, color=\"green\", lw=3, ls='-.')\n",
    "ax.plot(x, x+7, color=\"green\", lw=3, ls=':')\n",
    "\n",
    "ax.plot(x, x+ 8, color=\"blue\", lw=3, ls='-', marker='+')\n",
    "ax.plot(x, x+ 9, color=\"blue\", lw=3, ls='--', marker='o')\n",
    "ax.plot(x, x+10, color=\"blue\", lw=3, ls='-', marker='s')\n",
    "\n",
    "plt.show()"
   ]
  },
  {
   "cell_type": "code",
   "execution_count": null,
   "metadata": {},
   "outputs": [],
   "source": [
    "fig, ax = plt.subplots(figsize=(12,6))\n",
    "\n",
    "ax.plot(x, x+1, color='r', linewidth=0.25)\n",
    "ax.plot(x, x+2, color='r', linewidth=0.50)\n",
    "ax.plot(x, x+3, color='r', linewidth=1.00)\n",
    "ax.plot(x, x+4, color='r', linewidth=2.00)\n",
    "\n",
    "ax.plot(x, x+5, color=\"green\", lw=3, linestyle='-')\n",
    "ax.plot(x, x+6, color=\"green\", lw=3, ls='-.')\n",
    "ax.plot(x, x+7, color=\"green\", lw=3, ls=':')\n",
    "\n",
    "ax.plot(x, x+ 8, color=\"blue\", lw=3, ls='-', marker='+')\n",
    "ax.plot(x, x+ 9, color=\"blue\", lw=3, ls='--', marker='o')\n",
    "ax.plot(x, x+10, color=\"blue\", lw=3, ls='-', marker='s')\n",
    "\n",
    "ax.plot(x, x+11, color=\"purple\", lw=1, ls='-', marker='o', markersize=2)\n",
    "ax.plot(x, x+12, color=\"purple\", lw=1, ls='-', marker='o', markersize=4)\n",
    "ax.plot(x, x+13, color=\"purple\", lw=1, ls='-', marker='o', markersize=8, markerfacecolor=\"red\")\n",
    "ax.plot(x, x+14, color=\"purple\", lw=1, ls='-', marker='s', markersize=8, \n",
    "        markerfacecolor=\"yellow\", markeredgewidth=3, markeredgecolor=\"green\");\n",
    "\n",
    "plt.show()"
   ]
  },
  {
   "cell_type": "code",
   "execution_count": null,
   "metadata": {},
   "outputs": [],
   "source": []
  },
  {
   "attachments": {},
   "cell_type": "markdown",
   "metadata": {},
   "source": [
    "# Visualization with `seaborn`"
   ]
  },
  {
   "attachments": {},
   "cell_type": "markdown",
   "metadata": {},
   "source": [
    "## Import the core library"
   ]
  },
  {
   "cell_type": "code",
   "execution_count": null,
   "metadata": {},
   "outputs": [],
   "source": [
    "import seaborn as sns\n",
    "import numpy as np\n",
    "import pandas as pd\n",
    "import matplotlib.pyplot as plt"
   ]
  },
  {
   "attachments": {},
   "cell_type": "markdown",
   "metadata": {},
   "source": [
    "## Distribution of Data"
   ]
  },
  {
   "attachments": {},
   "cell_type": "markdown",
   "metadata": {},
   "source": [
    "* All about penguins: [[link](https://seaworld.org/animals/all-about/penguins/physical-characteristics/#:~:text=Flippers,modified%20into%20paddle%2Dlike%20flippers.&text=Each%20flipper%20is%20covered%20with,tapered%2C%20flattened%20flippers%20for%20swimming.)]"
   ]
  },
  {
   "cell_type": "code",
   "execution_count": null,
   "metadata": {},
   "outputs": [],
   "source": [
    "penguins = sns.load_dataset(\"penguins\")\n",
    "penguins.head(3)"
   ]
  },
  {
   "cell_type": "code",
   "execution_count": null,
   "metadata": {},
   "outputs": [],
   "source": [
    "type(penguins)"
   ]
  },
  {
   "cell_type": "code",
   "execution_count": null,
   "metadata": {},
   "outputs": [],
   "source": [
    "penguins.shape"
   ]
  },
  {
   "cell_type": "code",
   "execution_count": null,
   "metadata": {},
   "outputs": [],
   "source": [
    "penguins.island.unique()"
   ]
  },
  {
   "cell_type": "code",
   "execution_count": null,
   "metadata": {},
   "outputs": [],
   "source": [
    "penguins.species.unique()"
   ]
  },
  {
   "attachments": {},
   "cell_type": "markdown",
   "metadata": {},
   "source": [
    "### Single variable distribution"
   ]
  },
  {
   "cell_type": "code",
   "execution_count": null,
   "metadata": {},
   "outputs": [],
   "source": [
    "sns.histplot(penguins.flipper_length_mm)"
   ]
  },
  {
   "cell_type": "code",
   "execution_count": null,
   "metadata": {},
   "outputs": [],
   "source": [
    "sns.histplot(penguins.flipper_length_mm, kde=False, bins=30)"
   ]
  },
  {
   "attachments": {},
   "cell_type": "markdown",
   "metadata": {},
   "source": [
    "### Multi-variable joint distribution"
   ]
  },
  {
   "cell_type": "code",
   "execution_count": null,
   "metadata": {},
   "outputs": [],
   "source": [
    "sns.jointplot(x='flipper_length_mm',y='body_mass_g',data=penguins,kind='scatter')"
   ]
  },
  {
   "cell_type": "code",
   "execution_count": null,
   "metadata": {},
   "outputs": [],
   "source": [
    "sns.jointplot(x='flipper_length_mm',y='body_mass_g',data=penguins,kind='hex')"
   ]
  },
  {
   "cell_type": "code",
   "execution_count": null,
   "metadata": {},
   "outputs": [],
   "source": [
    "sns.jointplot(x='flipper_length_mm',y='body_mass_g',data=penguins,kind='reg')"
   ]
  },
  {
   "cell_type": "code",
   "execution_count": null,
   "metadata": {},
   "outputs": [],
   "source": [
    "sns.jointplot(x='flipper_length_mm',y='body_mass_g',data=penguins,hue='sex')"
   ]
  },
  {
   "attachments": {},
   "cell_type": "markdown",
   "metadata": {},
   "source": [
    "### Pair Plot"
   ]
  },
  {
   "cell_type": "code",
   "execution_count": null,
   "metadata": {},
   "outputs": [],
   "source": [
    "sns.pairplot(penguins, hue='island')\n",
    "# sns.pairplot(penguins)"
   ]
  },
  {
   "cell_type": "code",
   "execution_count": null,
   "metadata": {},
   "outputs": [],
   "source": [
    "sns.pairplot(penguins, hue='sex')"
   ]
  },
  {
   "cell_type": "code",
   "execution_count": null,
   "metadata": {},
   "outputs": [],
   "source": [
    "sns.pairplot(penguins, hue='sex',palette='rainbow')"
   ]
  },
  {
   "attachments": {},
   "cell_type": "markdown",
   "metadata": {},
   "source": [
    "### barplot and countplot"
   ]
  },
  {
   "attachments": {},
   "cell_type": "markdown",
   "metadata": {},
   "source": [
    "* `Barplot` shows point estimates and confidence intervals as rectangular bars. By default, it displays the mean value. You could also pass in a customized function\n",
    "* Reference: https://seaborn.pydata.org/generated/seaborn.barplot.html"
   ]
  },
  {
   "cell_type": "code",
   "execution_count": null,
   "metadata": {},
   "outputs": [],
   "source": [
    "sns.barplot(x='species',y='bill_length_mm',data=penguins) # by default it displays the mean values"
   ]
  },
  {
   "cell_type": "code",
   "execution_count": null,
   "metadata": {},
   "outputs": [],
   "source": [
    "sns.barplot(x='species',y='bill_length_mm',data=penguins,estimator=np.std)"
   ]
  },
  {
   "cell_type": "code",
   "execution_count": null,
   "metadata": {},
   "outputs": [],
   "source": [
    "sns.barplot(x='species',y='bill_length_mm',data=penguins,hue='sex')"
   ]
  },
  {
   "attachments": {},
   "cell_type": "markdown",
   "metadata": {},
   "source": [
    "* `Countplot` shows the counts of observations in each categorical bin using bars."
   ]
  },
  {
   "cell_type": "code",
   "execution_count": null,
   "metadata": {},
   "outputs": [],
   "source": [
    "sns.countplot(x='island',data=penguins)"
   ]
  },
  {
   "attachments": {},
   "cell_type": "markdown",
   "metadata": {},
   "source": [
    "### Boxplot/Violionplot/Stripplot"
   ]
  },
  {
   "cell_type": "code",
   "execution_count": null,
   "metadata": {},
   "outputs": [],
   "source": [
    "# sns.boxplot(x='species',y='flipper_length_mm',data=penguins)\n",
    "sns.boxplot(x='species',y='flipper_length_mm',data=penguins,hue='island')"
   ]
  },
  {
   "cell_type": "code",
   "execution_count": null,
   "metadata": {},
   "outputs": [],
   "source": [
    "sns.boxplot(y='species',x='flipper_length_mm',data=penguins,hue='island',orient='h')"
   ]
  },
  {
   "attachments": {},
   "cell_type": "markdown",
   "metadata": {},
   "source": [
    "`violin plot`: https://seaborn.pydata.org/generated/seaborn.violinplot.html"
   ]
  },
  {
   "cell_type": "code",
   "execution_count": null,
   "metadata": {},
   "outputs": [],
   "source": [
    "sns.violinplot(x='species',y='flipper_length_mm',data=penguins,hue='island')"
   ]
  },
  {
   "attachments": {},
   "cell_type": "markdown",
   "metadata": {},
   "source": [
    "`strip plot`: https://seaborn.pydata.org/generated/seaborn.stripplot.html"
   ]
  },
  {
   "cell_type": "code",
   "execution_count": null,
   "metadata": {},
   "outputs": [],
   "source": [
    "sns.stripplot(x='species',y='flipper_length_mm',data=penguins,hue='island')"
   ]
  },
  {
   "attachments": {},
   "cell_type": "markdown",
   "metadata": {},
   "source": [
    "A more general format\n",
    "\n",
    "`cat plot`: https://seaborn.pydata.org/generated/seaborn.catplot.html"
   ]
  },
  {
   "cell_type": "code",
   "execution_count": null,
   "metadata": {},
   "outputs": [],
   "source": [
    "sns.catplot(x='species',y='flipper_length_mm',data=penguins,hue='island',kind='box')"
   ]
  },
  {
   "attachments": {},
   "cell_type": "markdown",
   "metadata": {},
   "source": [
    "## Heatmap"
   ]
  },
  {
   "cell_type": "code",
   "execution_count": null,
   "metadata": {},
   "outputs": [],
   "source": [
    "penguins.info()"
   ]
  },
  {
   "cell_type": "code",
   "execution_count": null,
   "metadata": {},
   "outputs": [],
   "source": [
    "sns.heatmap(penguins.select_dtypes(include=np.number).corr(),cmap='coolwarm')"
   ]
  },
  {
   "cell_type": "code",
   "execution_count": null,
   "metadata": {},
   "outputs": [],
   "source": []
  },
  {
   "attachments": {},
   "cell_type": "markdown",
   "metadata": {},
   "source": [
    "## Grids"
   ]
  },
  {
   "cell_type": "code",
   "execution_count": null,
   "metadata": {},
   "outputs": [],
   "source": [
    "sns.PairGrid(penguins)"
   ]
  },
  {
   "cell_type": "code",
   "execution_count": null,
   "metadata": {},
   "outputs": [],
   "source": [
    "g = sns.PairGrid(penguins)\n",
    "g.map(plt.scatter)"
   ]
  },
  {
   "cell_type": "code",
   "execution_count": null,
   "metadata": {},
   "outputs": [],
   "source": [
    "g = sns.PairGrid(penguins)\n",
    "g.map_diag(plt.hist)\n",
    "g.map_upper(plt.scatter)\n",
    "g.map_lower(sns.kdeplot)"
   ]
  },
  {
   "cell_type": "code",
   "execution_count": null,
   "metadata": {},
   "outputs": [],
   "source": [
    "g = sns.JointGrid(x=\"bill_length_mm\", y=\"body_mass_g\", data=penguins)"
   ]
  },
  {
   "cell_type": "code",
   "execution_count": null,
   "metadata": {},
   "outputs": [],
   "source": [
    "g = sns.JointGrid(x=\"bill_length_mm\", y=\"body_mass_g\", data=penguins)\n",
    "g = g.plot(sns.regplot, sns.histplot)"
   ]
  },
  {
   "cell_type": "code",
   "execution_count": null,
   "metadata": {},
   "outputs": [],
   "source": []
  },
  {
   "attachments": {},
   "cell_type": "markdown",
   "metadata": {},
   "source": [
    "## Regression Plot\n",
    "\n",
    "* Reference: https://seaborn.pydata.org/tutorial/regression.html"
   ]
  },
  {
   "cell_type": "code",
   "execution_count": null,
   "metadata": {},
   "outputs": [],
   "source": [
    "sns.lmplot(x='flipper_length_mm',y='body_mass_g',data=penguins,)"
   ]
  },
  {
   "cell_type": "code",
   "execution_count": null,
   "metadata": {},
   "outputs": [],
   "source": [
    "sns.lmplot(x='flipper_length_mm',y='body_mass_g',data=penguins,hue='sex')"
   ]
  },
  {
   "cell_type": "code",
   "execution_count": null,
   "metadata": {},
   "outputs": [],
   "source": [
    "sns.lmplot(x='flipper_length_mm',y='body_mass_g',data=penguins,hue='sex',markers=['o','v'])"
   ]
  },
  {
   "cell_type": "code",
   "execution_count": null,
   "metadata": {},
   "outputs": [],
   "source": [
    "sns.lmplot(x='flipper_length_mm',y='body_mass_g',data=penguins,col='sex')"
   ]
  },
  {
   "cell_type": "code",
   "execution_count": null,
   "metadata": {},
   "outputs": [],
   "source": [
    "sns.lmplot(x='flipper_length_mm',y='body_mass_g',data=penguins,col='sex',row='species')"
   ]
  },
  {
   "cell_type": "code",
   "execution_count": null,
   "metadata": {},
   "outputs": [],
   "source": [
    "sns.lmplot(x='flipper_length_mm',y='body_mass_g',data=penguins,hue='sex',row='species')"
   ]
  },
  {
   "attachments": {},
   "cell_type": "markdown",
   "metadata": {},
   "source": [
    "## Colors and Styles"
   ]
  },
  {
   "attachments": {},
   "cell_type": "markdown",
   "metadata": {},
   "source": [
    "Reference: `matplotlib` colormap: https://matplotlib.org/3.1.1/gallery/color/colormap_reference.html"
   ]
  },
  {
   "cell_type": "code",
   "execution_count": null,
   "metadata": {},
   "outputs": [],
   "source": [
    "sns.set_style(style='darkgrid')\n",
    "# sns.set_context('notebook',font_scale=1)\n",
    "sns.lmplot(x='flipper_length_mm',y='body_mass_g',data=penguins,hue='sex',palette='seismic')"
   ]
  },
  {
   "cell_type": "code",
   "execution_count": null,
   "metadata": {},
   "outputs": [],
   "source": []
  },
  {
   "cell_type": "code",
   "execution_count": null,
   "metadata": {},
   "outputs": [],
   "source": []
  },
  {
   "attachments": {},
   "cell_type": "markdown",
   "metadata": {},
   "source": [
    "# Linear Regression\n",
    "\n",
    "Suppose you want to know **if money makes people happy**, so you download the Better Life Index data from the OECD’s website and stats about gross domestic product (GDP) per capita from the IMF’s website.\n",
    "* OECD: https://www.oecdbetterlifeindex.org/\n",
    "* IMF: https://ourworldindata.org/"
   ]
  },
  {
   "cell_type": "code",
   "execution_count": null,
   "metadata": {},
   "outputs": [],
   "source": [
    "import pandas as pd\n",
    "import numpy as np\n",
    "import matplotlib.pyplot as plt\n",
    "import seaborn as sns"
   ]
  },
  {
   "cell_type": "code",
   "execution_count": null,
   "metadata": {},
   "outputs": [],
   "source": [
    "pd.options.display.max_rows=None\n",
    "pd.options.display.max_columns=None"
   ]
  },
  {
   "attachments": {},
   "cell_type": "markdown",
   "metadata": {},
   "source": [
    "## Get the data"
   ]
  },
  {
   "cell_type": "code",
   "execution_count": null,
   "metadata": {},
   "outputs": [],
   "source": [
    "oecd_bli = pd.read_csv('../data/oecd-better-life-index.csv',sep=',',header=0)\n",
    "gdp_per_capita = pd.read_csv('../data/imf-gdp-per-capita.csv',sep=',',header=0,thousands=',')"
   ]
  },
  {
   "cell_type": "code",
   "execution_count": null,
   "metadata": {},
   "outputs": [],
   "source": [
    "oecd_bli.head(3)"
   ]
  },
  {
   "cell_type": "code",
   "execution_count": null,
   "metadata": {},
   "outputs": [],
   "source": [
    "gdp_per_capita.head(3)"
   ]
  },
  {
   "attachments": {},
   "cell_type": "markdown",
   "metadata": {},
   "source": [
    "## Transform the data\n",
    "\n",
    "Get the view of \n",
    "\n",
    "| Country | GDP per capita (USD) | Life satisfaction |\n",
    "|---------|----------------------|-------------------|"
   ]
  },
  {
   "attachments": {},
   "cell_type": "markdown",
   "metadata": {},
   "source": [
    "### format the oecd data"
   ]
  },
  {
   "cell_type": "code",
   "execution_count": null,
   "metadata": {},
   "outputs": [],
   "source": [
    "oecd_bli.Indicator.unique()"
   ]
  },
  {
   "cell_type": "code",
   "execution_count": null,
   "metadata": {},
   "outputs": [],
   "source": [
    "oecd_bli.Inequality.unique()"
   ]
  },
  {
   "cell_type": "code",
   "execution_count": null,
   "metadata": {},
   "outputs": [],
   "source": [
    "oecd_bli2 = oecd_bli.loc[\n",
    "    (oecd_bli.Inequality=='Total')&(oecd_bli.Indicator=='Life satisfaction'),\n",
    "    ['Country','Value']\n",
    "].rename(columns={'Country':'country','Value':'life_satisfaction'})"
   ]
  },
  {
   "cell_type": "code",
   "execution_count": null,
   "metadata": {},
   "outputs": [],
   "source": [
    "oecd_bli2.head(3)"
   ]
  },
  {
   "cell_type": "code",
   "execution_count": null,
   "metadata": {},
   "outputs": [],
   "source": [
    "oecd_bli2.country.nunique()"
   ]
  },
  {
   "cell_type": "code",
   "execution_count": null,
   "metadata": {},
   "outputs": [],
   "source": []
  },
  {
   "attachments": {},
   "cell_type": "markdown",
   "metadata": {},
   "source": [
    "### format the gdp per capita data"
   ]
  },
  {
   "cell_type": "code",
   "execution_count": null,
   "metadata": {},
   "outputs": [],
   "source": [
    "gdp_per_capita2 = gdp_per_capita.loc[:,['Country','2015']].rename(columns={\n",
    "    'Country':'country',\n",
    "    '2015':'gdp_per_capita'\n",
    "})\n",
    "gdp_per_capita2.head(3)"
   ]
  },
  {
   "cell_type": "code",
   "execution_count": null,
   "metadata": {},
   "outputs": [],
   "source": [
    "gdp_per_capita2.country.nunique()"
   ]
  },
  {
   "attachments": {},
   "cell_type": "markdown",
   "metadata": {},
   "source": [
    "### join the two"
   ]
  },
  {
   "cell_type": "code",
   "execution_count": null,
   "metadata": {},
   "outputs": [],
   "source": [
    "country_stats = pd.merge(\n",
    "    gdp_per_capita2,\n",
    "    oecd_bli2,\n",
    "    on='country'\n",
    ").sort_values(by='gdp_per_capita').reset_index(drop=True)"
   ]
  },
  {
   "cell_type": "code",
   "execution_count": null,
   "metadata": {},
   "outputs": [],
   "source": [
    "country_stats.head(3)"
   ]
  },
  {
   "cell_type": "code",
   "execution_count": null,
   "metadata": {},
   "outputs": [],
   "source": [
    "country_stats.shape"
   ]
  },
  {
   "attachments": {},
   "cell_type": "markdown",
   "metadata": {},
   "source": [
    "## split the data"
   ]
  },
  {
   "cell_type": "code",
   "execution_count": null,
   "metadata": {},
   "outputs": [],
   "source": [
    "# remove_indices = [2,3,8,12,37,38,39]\n",
    "# keep_indices = list(set(range(40)) - set(remove_indices))\n",
    "\n",
    "countries_remove = ['Brazil','Mexico','Chile','Czech Republic','Norway','Switzerland','Luxembourg']\n",
    "countries_keep = set(country_stats.country) - set(countries_remove)"
   ]
  },
  {
   "cell_type": "code",
   "execution_count": null,
   "metadata": {},
   "outputs": [],
   "source": [
    "# sample_data = country_stats.iloc[keep_indices]\n",
    "# missing_data = country_stats.iloc[remove_indices]\n",
    "sample_data = country_stats[country_stats.country.isin(countries_keep)]\n",
    "missing_data = country_stats[country_stats.country.isin(countries_remove)]"
   ]
  },
  {
   "cell_type": "code",
   "execution_count": null,
   "metadata": {},
   "outputs": [],
   "source": [
    "missing_data"
   ]
  },
  {
   "attachments": {},
   "cell_type": "markdown",
   "metadata": {},
   "source": [
    "## visualize the sample data"
   ]
  },
  {
   "cell_type": "code",
   "execution_count": null,
   "metadata": {},
   "outputs": [],
   "source": [
    "plt.scatter(sample_data.gdp_per_capita, sample_data.life_satisfaction, label = 'gap vs. happiness')\n",
    "plt.xlabel('gdp per capita')\n",
    "plt.ylabel('life satisfaction')\n",
    "plt.legend()\n",
    "\n",
    "plt.show()"
   ]
  },
  {
   "cell_type": "code",
   "execution_count": null,
   "metadata": {},
   "outputs": [],
   "source": [
    "sample_data[sample_data.country.isin(['Hungary','Korea','France','Australia','United States'])]"
   ]
  },
  {
   "cell_type": "code",
   "execution_count": null,
   "metadata": {},
   "outputs": [],
   "source": [
    "plt.scatter(sample_data.gdp_per_capita, sample_data.life_satisfaction)\n",
    "position_text = {\n",
    "    \"Hungary\": (15000, 5),\n",
    "    \"Korea\": (28000, 5.5),\n",
    "    \"France\": (35000, 6.0),\n",
    "    \"Australia\": (42000, 6.5),\n",
    "    \"United States\": (52000, 6.0),\n",
    "}\n",
    "\n",
    "for country, pos_text in position_text.items():\n",
    "    pos_data_x = sample_data.loc[sample_data.country==country,'gdp_per_capita']\n",
    "    pos_data_y = sample_data.loc[sample_data.country==country,'life_satisfaction']\n",
    "    country = \"U.S.\" if country == \"United States\" else country\n",
    "    plt.annotate(country, xy=(pos_data_x, pos_data_y), xytext=pos_text,\n",
    "            arrowprops=dict(facecolor='black', shrink=0.1))\n",
    "    plt.plot(pos_data_x, pos_data_y, \"ro\")\n",
    "\n",
    "plt.xlabel('GDP per capita (USD)')\n",
    "plt.ylabel('Life satisfaction')\n",
    "plt.show()"
   ]
  },
  {
   "attachments": {},
   "cell_type": "markdown",
   "metadata": {},
   "source": [
    "There seems to be a linear trend here!!"
   ]
  },
  {
   "attachments": {},
   "cell_type": "markdown",
   "metadata": {},
   "source": [
    "## Fit a linear regression model!"
   ]
  },
  {
   "attachments": {},
   "cell_type": "markdown",
   "metadata": {},
   "source": [
    "Linear regression model\n",
    "$$\n",
    "y = \\theta_0 + \\theta_1X\n",
    "$$\n",
    "\n",
    "The fit essentially minimized the Sum of Squared Errors (SSE)\n",
    "$$\n",
    "SSE = \\sum_{i=1}^{N} (y_i - \\hat{y_i})^2 = \\sum_{i=1}^{N} (y_i - \\theta_0 - \\theta_1X_i)^2\n",
    "$$\n",
    "Or, in the matrix form\n",
    "$$\n",
    "SSE = ||y - Xw||^2\n",
    "$$\n",
    "\n",
    "![](https://nextjournal.com/data/QmfPuPp4V74FyvTTojMj6ix9T8Skj1ji4GhX5Pr6zK8w4N?filename=linear-regression.png&content-type=image/png)"
   ]
  },
  {
   "cell_type": "code",
   "execution_count": null,
   "metadata": {},
   "outputs": [],
   "source": [
    "%%time\n",
    "\n",
    "from sklearn import linear_model\n",
    "lr = linear_model.LinearRegression()\n",
    "\n",
    "# prepare the data\n",
    "Xsample = np.c_[sample_data.gdp_per_capita]\n",
    "ysample = np.c_[sample_data.life_satisfaction]\n",
    "\n",
    "# train the model\n",
    "lr.fit(Xsample, ysample)\n",
    "\n",
    "# get the model parameters\n",
    "# t0, t1 = lr.intercept_[0], lr.coef_[0][0]\n",
    "t0 = lr.intercept_[0]\n",
    "t1 = lr.coef_[0][0]\n",
    "\n",
    "t0, t1"
   ]
  },
  {
   "cell_type": "code",
   "execution_count": null,
   "metadata": {},
   "outputs": [],
   "source": [
    "Xsample.ndim"
   ]
  },
  {
   "cell_type": "code",
   "execution_count": null,
   "metadata": {},
   "outputs": [],
   "source": []
  },
  {
   "cell_type": "code",
   "execution_count": null,
   "metadata": {},
   "outputs": [],
   "source": [
    "## same as previous plot\n",
    "plt.scatter(sample_data.gdp_per_capita, sample_data.life_satisfaction)\n",
    "position_text = {\n",
    "    \"Hungary\": (20000, 5),\n",
    "    \"Korea\": (28000, 5.5),\n",
    "    \"France\": (35000, 6.0),\n",
    "    \"Australia\": (42000, 6.5),\n",
    "    \"United States\": (52000, 6.0),\n",
    "}\n",
    "\n",
    "for country, pos_text in position_text.items():\n",
    "    pos_data_x = sample_data.loc[sample_data.country==country,'gdp_per_capita']\n",
    "    pos_data_y = sample_data.loc[sample_data.country==country,'life_satisfaction']\n",
    "    country = \"U.S.\" if country == \"United States\" else country\n",
    "    plt.annotate(country, xy=(pos_data_x, pos_data_y), xytext=pos_text,\n",
    "            arrowprops=dict(facecolor='black', shrink=0.1))\n",
    "    plt.plot(pos_data_x, pos_data_y, \"ro\")\n",
    "\n",
    "## plot the fitted line here\n",
    "X = np.linspace(start=0, stop=60000, num=1000)\n",
    "plt.plot(X, t1*X + t0, label='fitted line')\n",
    "plt.text(1000, 5, '$\\\\theta_0=5.16$')\n",
    "plt.text(1000, 4.8, '$\\\\theta_1=4.24 \\\\times 10^{-5}$')\n",
    "    \n",
    "plt.xlabel('GDP per capita (USD)')\n",
    "plt.ylabel('Life satisfaction')\n",
    "plt.legend()\n",
    "plt.show()"
   ]
  },
  {
   "attachments": {},
   "cell_type": "markdown",
   "metadata": {},
   "source": [
    "## Make predictions to a new country"
   ]
  },
  {
   "cell_type": "code",
   "execution_count": null,
   "metadata": {},
   "outputs": [],
   "source": [
    "gdp_per_capita2[gdp_per_capita2.country=='Cyprus']"
   ]
  },
  {
   "cell_type": "code",
   "execution_count": null,
   "metadata": {},
   "outputs": [],
   "source": [
    "X_new = [[22587.49]]\n",
    "lr.predict(X_new)"
   ]
  },
  {
   "cell_type": "code",
   "execution_count": null,
   "metadata": {},
   "outputs": [],
   "source": [
    "gdp_per_capita2[gdp_per_capita2.country=='China']"
   ]
  },
  {
   "cell_type": "code",
   "execution_count": null,
   "metadata": {},
   "outputs": [],
   "source": [
    "X_new = [[7989.72]]\n",
    "lr.predict(X_new)"
   ]
  },
  {
   "attachments": {},
   "cell_type": "markdown",
   "metadata": {},
   "source": [
    "## What happens when we add the missing countries back to the data?"
   ]
  },
  {
   "cell_type": "code",
   "execution_count": null,
   "metadata": {},
   "outputs": [],
   "source": [
    "missing_data"
   ]
  },
  {
   "cell_type": "code",
   "execution_count": null,
   "metadata": {},
   "outputs": [],
   "source": [
    "%%time\n",
    "\n",
    "lr2 = linear_model.LinearRegression()\n",
    "\n",
    "# prepare the data\n",
    "Xfull = np.c_[country_stats.gdp_per_capita]\n",
    "yfull = np.c_[country_stats.life_satisfaction]\n",
    "\n",
    "# train the model\n",
    "lr2.fit(Xfull, yfull)\n",
    "\n",
    "# get the model parameters\n",
    "t0full, t1full = lr2.intercept_[0], lr2.coef_[0][0]\n",
    "t0full, t1full"
   ]
  },
  {
   "cell_type": "code",
   "execution_count": null,
   "metadata": {},
   "outputs": [],
   "source": [
    "## same as previous plot\n",
    "plt.scatter(country_stats.gdp_per_capita, country_stats.life_satisfaction)\n",
    "\n",
    "X = np.linspace(start=0, stop=100000, num=1000)\n",
    "\n",
    "## plot the fitted line based on partial dataset\n",
    "plt.plot(X, t1*X + t0, label='fitted line (partial)')\n",
    "\n",
    "## plot the fitted line of the complete dataset\n",
    "plt.plot(X, t1full*X + t0full, label='fitted line (complete)')\n",
    "\n",
    "## highlight the countries from the missing data\n",
    "position_text2 = {\n",
    "    \"Brazil\": (-1000, 7),\n",
    "    \"Mexico\": (15000, 8),\n",
    "    \"Chile\": (30000, 8.2),\n",
    "    \"Czech Republic\": (45000, 8.5),\n",
    "    \"Norway\": (55000, 5),\n",
    "    \"Switzerland\": (75000, 6),\n",
    "    \"Luxembourg\": (85000, 5)\n",
    "}\n",
    "\n",
    "for country, pos_text in position_text2.items():\n",
    "    pos_data_x = country_stats.loc[country_stats.country==country,'gdp_per_capita']\n",
    "    pos_data_y = country_stats.loc[country_stats.country==country,'life_satisfaction']\n",
    "    country = \"U.S.\" if country == \"United States\" else country\n",
    "    plt.annotate(country, xy=(pos_data_x, pos_data_y), xytext=pos_text,\n",
    "            arrowprops=dict(facecolor='black', shrink=0.1))\n",
    "    plt.plot(pos_data_x, pos_data_y, \"ro\")\n",
    "\n",
    "plt.xlabel('GDP per capita (USD)')\n",
    "plt.ylabel('Life satisfaction')\n",
    "plt.legend()\n",
    "plt.show()"
   ]
  },
  {
   "attachments": {},
   "cell_type": "markdown",
   "metadata": {},
   "source": [
    "Apparently, the previous training data `sample_data` we used isn't representative!!"
   ]
  },
  {
   "attachments": {},
   "cell_type": "markdown",
   "metadata": {},
   "source": [
    "## Overfitting"
   ]
  },
  {
   "cell_type": "code",
   "execution_count": null,
   "metadata": {},
   "outputs": [],
   "source": [
    "## add polynomial features\n",
    "from sklearn import preprocessing\n",
    "\n",
    "df = 10\n",
    "poly = preprocessing.PolynomialFeatures(degree=df)\n",
    "scaler = preprocessing.StandardScaler()\n",
    "lr3 = linear_model.LinearRegression()\n",
    "\n",
    "Xfull_new = scaler.fit_transform(\n",
    "    poly.fit_transform(Xfull)\n",
    ")\n",
    "\n",
    "## fit linear regression model on Xfull_new\n",
    "lr3.fit(Xfull_new,yfull)"
   ]
  },
  {
   "cell_type": "code",
   "execution_count": null,
   "metadata": {},
   "outputs": [],
   "source": [
    "## define a set of new X\n",
    "X = np.c_[np.linspace(start=0, stop=100000, num=1000)]\n",
    "\n",
    "X_new = scaler.fit_transform(\n",
    "    poly.fit_transform(X)\n",
    ")\n",
    "\n",
    "## predict on the new X\n",
    "y = lr3.predict(X_new)"
   ]
  },
  {
   "cell_type": "code",
   "execution_count": null,
   "metadata": {},
   "outputs": [],
   "source": [
    "plt.scatter(country_stats.gdp_per_capita, country_stats.life_satisfaction)\n",
    "\n",
    "## plot the fitted line based on partial dataset\n",
    "plt.plot(X, t1*X + t0, label='fitted line (partial)')\n",
    "\n",
    "## plot the fitted line of the complete dataset\n",
    "plt.plot(X, t1full*X + t0full, label='fitted line (complete)')\n",
    "\n",
    "## highlight the countries from the missing data\n",
    "position_text2 = {\n",
    "    \"Brazil\": (-1000, 7),\n",
    "    \"Mexico\": (15000, 8),\n",
    "    \"Chile\": (30000, 8.2),\n",
    "    \"Czech Republic\": (45000, 8.5),\n",
    "    \"Norway\": (55000, 5),\n",
    "    \"Switzerland\": (75000, 6),\n",
    "    \"Luxembourg\": (85000, 5)\n",
    "}\n",
    "\n",
    "for country, pos_text in position_text2.items():\n",
    "    pos_data_x = country_stats.loc[country_stats.country==country,'gdp_per_capita']\n",
    "    pos_data_y = country_stats.loc[country_stats.country==country,'life_satisfaction']\n",
    "    country = \"U.S.\" if country == \"United States\" else country\n",
    "    plt.annotate(country, xy=(pos_data_x, pos_data_y), xytext=pos_text,\n",
    "            arrowprops=dict(facecolor='black', width=0.5, shrink=0.1, headwidth=5))\n",
    "    plt.plot(pos_data_x, pos_data_y, \"ro\")\n",
    "\n",
    "## plot the polynomial fit\n",
    "plt.plot(X,y,label='polynomial fit (df={})'.format(df))\n",
    "    \n",
    "    \n",
    "plt.xlabel('GDP per capita (USD)')\n",
    "plt.ylabel('Life satisfaction')\n",
    "plt.ylim(0,13)\n",
    "plt.legend()\n",
    "plt.show()"
   ]
  },
  {
   "attachments": {},
   "cell_type": "markdown",
   "metadata": {},
   "source": [
    "## Apply L2 Regularization (Ridge Regression)\n",
    "\n",
    "Instead of minimizing\n",
    "$$\n",
    "SSE = ||y - Xw||^2\n",
    "$$\n",
    "\n",
    "We will minimize\n",
    "$$\n",
    "SSE = ||y - Xw||^2 + \\alpha ||w||^2\n",
    "$$\n",
    "\n",
    "In the 2D situation\n",
    "\n",
    "$$\n",
    "SSE = ||y - Xw||^2 + \\alpha ||w||^2 = \\sum_{i=1}^{N} (y_i - \\theta_0 - \\theta_1X_i)^2 + \\alpha (\\theta_0^2 + \\theta_1^2)\n",
    "$$\n",
    "\n",
    "* https://scikit-learn.org/stable/modules/generated/sklearn.linear_model.Ridge.html\n",
    "* There is another kind of regularization called `L1 Regularization` (also called `Lasso Regression`)\n",
    "    * More details can be found here: https://scikit-learn.org/stable/modules/generated/sklearn.linear_model.Lasso.html\n",
    "    * Aur´elien G´eron `Hands-On Machine Learning with Scikit-Learn and TensorFlow` O’Reilly Media, 2022.\n",
    "        * Chapter 4\n",
    "    * Differences between `L1` and `L2` regularization\n",
    "        * https://www.linkedin.com/pulse/intuitive-visual-explanation-differences-between-l1-l2-xiaoli-chen/\n",
    "        * https://www.quora.com/What-is-the-difference-between-L1-and-L2-regularization-How-does-it-solve-the-problem-of-overfitting-Which-regularizer-to-use-and-when"
   ]
  },
  {
   "attachments": {},
   "cell_type": "markdown",
   "metadata": {},
   "source": [
    "The amount of regularization to apply during learning can be controlled by a hyperparameter. A hyperparameter is a parameter of a learning algorithm (not of the model). As such, it is not affected by the learning algorithm itself; it must be set prior to training and remains constant during training. \n",
    "\n",
    "Here, the parameter $\\alpha$ is a hyperparamter. If you set the regularization hyperparameter to a very large value, you will get an almost flat model (a slope close to zero); the learning algorithm will almost certainly not overfit the training data, but it will be less likely to find a good solution. Tuning hyperparameters is an important part of building a Machine Learning system"
   ]
  },
  {
   "cell_type": "code",
   "execution_count": null,
   "metadata": {},
   "outputs": [],
   "source": [
    "## apply regularization on the original fit on sample_data\n",
    "ridge = linear_model.Ridge(alpha=10**9.5)\n",
    "Xsample = np.c_[sample_data.gdp_per_capita]\n",
    "ysample = np.c_[sample_data.life_satisfaction]\n",
    "ridge.fit(Xsample, ysample)\n",
    "t0ridge, t1ridge = ridge.intercept_[0], ridge.coef_[0][0]"
   ]
  },
  {
   "cell_type": "code",
   "execution_count": null,
   "metadata": {},
   "outputs": [],
   "source": [
    "## same as previous plot\n",
    "plt.scatter(country_stats.gdp_per_capita, country_stats.life_satisfaction)\n",
    "\n",
    "X = np.linspace(start=0, stop=100000, num=1000)\n",
    "\n",
    "## plot the fitted line based on partial dataset\n",
    "plt.plot(X, t1*X + t0, label='fitted line (partial)')\n",
    "\n",
    "## plot the fitted line of the complete dataset\n",
    "plt.plot(X, t1full*X + t0full, label='fitted line (complete)')\n",
    "\n",
    "## plot the fitted line based on partial dataset with regularization\n",
    "plt.plot(X, t1ridge*X + t0ridge, label='fitted line (partial+regularization)')\n",
    "\n",
    "## highlight the countries from the missing data\n",
    "position_text2 = {\n",
    "    \"Brazil\": (-1000, 7),\n",
    "    \"Mexico\": (15000, 8),\n",
    "    \"Chile\": (30000, 8.2),\n",
    "    \"Czech Republic\": (45000, 8.5),\n",
    "    \"Norway\": (55000, 5),\n",
    "    \"Switzerland\": (75000, 6),\n",
    "    \"Luxembourg\": (85000, 5)\n",
    "}\n",
    "\n",
    "for country, pos_text in position_text2.items():\n",
    "    pos_data_x = country_stats.loc[country_stats.country==country,'gdp_per_capita']\n",
    "    pos_data_y = country_stats.loc[country_stats.country==country,'life_satisfaction']\n",
    "    country = \"U.S.\" if country == \"United States\" else country\n",
    "    plt.annotate(country, xy=(pos_data_x, pos_data_y), xytext=pos_text,\n",
    "            arrowprops=dict(facecolor='black', shrink=0.1))\n",
    "    plt.plot(pos_data_x, pos_data_y, \"ro\")\n",
    "\n",
    "plt.xlabel('GDP per capita (USD)')\n",
    "plt.ylabel('Life satisfaction')\n",
    "plt.legend()\n",
    "plt.ylim(4,12)\n",
    "plt.show()"
   ]
  },
  {
   "attachments": {},
   "cell_type": "markdown",
   "metadata": {},
   "source": [
    "### Vary the regularization parameter $\\alpha$"
   ]
  },
  {
   "cell_type": "code",
   "execution_count": null,
   "metadata": {},
   "outputs": [],
   "source": [
    "alphas = [10**i for i in range(20)]"
   ]
  },
  {
   "cell_type": "code",
   "execution_count": null,
   "metadata": {},
   "outputs": [],
   "source": [
    "Xsample = np.c_[sample_data.gdp_per_capita]\n",
    "ysample = np.c_[sample_data.life_satisfaction]"
   ]
  },
  {
   "cell_type": "code",
   "execution_count": null,
   "metadata": {},
   "outputs": [],
   "source": [
    "%%time\n",
    "\n",
    "from sklearn.metrics import mean_squared_error\n",
    "\n",
    "rmses = []\n",
    "r2s = []\n",
    "\n",
    "for a in alphas:\n",
    "    ridge = linear_model.Ridge(alpha=a)\n",
    "    ridge.fit(Xsample, ysample)\n",
    "    ysample_predict = ridge.predict(Xsample)\n",
    "    rmse = mean_squared_error(ysample, ysample_predict)\n",
    "    r2 = ridge.score(Xsample,ysample)\n",
    "    \n",
    "    rmses.append(rmse)\n",
    "    r2s.append(r2)"
   ]
  },
  {
   "cell_type": "code",
   "execution_count": null,
   "metadata": {},
   "outputs": [],
   "source": [
    "# plt.plot(alphas, rmses)\n",
    "plt.plot(list(range(20)), rmses)\n",
    "plt.show()"
   ]
  },
  {
   "cell_type": "code",
   "execution_count": null,
   "metadata": {},
   "outputs": [],
   "source": [
    "plt.plot(list(range(20)), r2s)\n",
    "plt.show()"
   ]
  },
  {
   "cell_type": "code",
   "execution_count": null,
   "metadata": {},
   "outputs": [],
   "source": []
  },
  {
   "cell_type": "code",
   "execution_count": null,
   "metadata": {},
   "outputs": [],
   "source": []
  },
  {
   "attachments": {},
   "cell_type": "markdown",
   "metadata": {},
   "source": [
    "# Logistic Regression\n",
    "\n",
    "The Logistic Regression model is typically used to fit/predict binary variable or variables with value between 0 and 1\n",
    "$$\n",
    "y = \\sigma(z) = \\frac{1}{1+e^{-z}} = \\frac{1}{1+e^{-(\\theta_0 + \\theta_1x_1 + \\theta_2x_2 + ... + \\theta_nx_n)}}\n",
    "$$\n",
    "\n",
    "$\\sigma(z)$ is also called the `sigmoid` function, it has the following property\n",
    "\n",
    "$$\n",
    "\\frac{d\\sigma(z)}{dz} = \\sigma(z)(1-\\sigma(z))\n",
    "$$\n",
    "\n",
    "![](https://upload.wikimedia.org/wikipedia/commons/thumb/8/88/Logistic-curve.svg/1200px-Logistic-curve.svg.png)\n",
    "\n",
    "Linear Regression vs. Logistic Regression:\n",
    "![](https://static.javatpoint.com/tutorial/machine-learning/images/linear-regression-vs-logistic-regression.png)\n",
    "![](https://saedsayad.com/images/LogReg_1.png)"
   ]
  },
  {
   "attachments": {},
   "cell_type": "markdown",
   "metadata": {},
   "source": [
    "**Example**\n",
    "* We'll look at the Pima Indian Diabetes dataset: https://www.kaggle.com/uciml/pima-indians-diabetes-database\n",
    "* We are going to predict diabetes using Logistic Regression Classifier"
   ]
  },
  {
   "attachments": {},
   "cell_type": "markdown",
   "metadata": {},
   "source": [
    "## Prepare the data"
   ]
  },
  {
   "cell_type": "code",
   "execution_count": null,
   "metadata": {},
   "outputs": [],
   "source": [
    "# load dataset\n",
    "pima = pd.read_csv(\"../data/diabetes.csv\", header=0, sep=',')\n",
    "pima.head(3)"
   ]
  },
  {
   "cell_type": "code",
   "execution_count": null,
   "metadata": {},
   "outputs": [],
   "source": [
    "pima.columns"
   ]
  },
  {
   "cell_type": "code",
   "execution_count": null,
   "metadata": {},
   "outputs": [],
   "source": [
    "X = pima[pima.columns[:-1]]\n",
    "y = pima.Outcome"
   ]
  },
  {
   "cell_type": "code",
   "execution_count": null,
   "metadata": {},
   "outputs": [],
   "source": [
    "X.head(3)"
   ]
  },
  {
   "cell_type": "code",
   "execution_count": null,
   "metadata": {},
   "outputs": [],
   "source": [
    "X.shape"
   ]
  },
  {
   "attachments": {},
   "cell_type": "markdown",
   "metadata": {},
   "source": [
    "Reference: https://scikit-learn.org/stable/modules/generated/sklearn.model_selection.train_test_split.html"
   ]
  },
  {
   "attachments": {},
   "cell_type": "markdown",
   "metadata": {},
   "source": [
    "## Train-Test split"
   ]
  },
  {
   "cell_type": "code",
   "execution_count": null,
   "metadata": {},
   "outputs": [],
   "source": [
    "# split X and y into training and testing sets\n",
    "from sklearn.model_selection import train_test_split\n",
    "X_train,X_test,y_train,y_test=train_test_split(X,y,test_size=0.3,random_state=123)"
   ]
  },
  {
   "attachments": {},
   "cell_type": "markdown",
   "metadata": {},
   "source": [
    "## Fit the model"
   ]
  },
  {
   "cell_type": "code",
   "execution_count": null,
   "metadata": {},
   "outputs": [],
   "source": [
    "# import the class\n",
    "from sklearn.linear_model import LogisticRegression\n",
    "\n",
    "# instantiate the model (using the default parameters)\n",
    "logreg = LogisticRegression()\n",
    "\n",
    "# fit the model with data\n",
    "logreg.fit(X_train,y_train)\n",
    "\n",
    "# predict values in test dataset\n",
    "y_pred=logreg.predict(X_test)"
   ]
  },
  {
   "cell_type": "code",
   "execution_count": null,
   "metadata": {},
   "outputs": [],
   "source": [
    "y_pred"
   ]
  },
  {
   "attachments": {},
   "cell_type": "markdown",
   "metadata": {},
   "source": [
    "Reference: https://scikit-learn.org/stable/modules/generated/sklearn.metrics.confusion_matrix.html"
   ]
  },
  {
   "attachments": {},
   "cell_type": "markdown",
   "metadata": {},
   "source": [
    "## Evaluate the model"
   ]
  },
  {
   "cell_type": "code",
   "execution_count": null,
   "metadata": {},
   "outputs": [],
   "source": [
    "# import the metrics class\n",
    "from sklearn import metrics\n",
    "cnf_matrix = metrics.confusion_matrix(y_test, y_pred)\n",
    "cnf_matrix"
   ]
  },
  {
   "cell_type": "code",
   "execution_count": null,
   "metadata": {},
   "outputs": [],
   "source": [
    "class_names=[0,1] # name  of classes\n",
    "fig, ax = plt.subplots()\n",
    "tick_marks = np.arange(len(class_names))\n",
    "plt.xticks(tick_marks, class_names)\n",
    "plt.yticks(tick_marks, class_names)\n",
    "# create heatmap\n",
    "sns.heatmap(pd.DataFrame(cnf_matrix), annot=True, cmap=\"YlGnBu\" ,fmt='g')\n",
    "ax.xaxis.set_label_position(\"top\")\n",
    "plt.tight_layout()\n",
    "plt.title('Confusion matrix', y=1.1)\n",
    "plt.ylabel('Actual label')\n",
    "plt.xlabel('Predicted label')"
   ]
  },
  {
   "cell_type": "code",
   "execution_count": null,
   "metadata": {},
   "outputs": [],
   "source": [
    "print(\"Accuracy:\",metrics.accuracy_score(y_test, y_pred))\n",
    "print(\"Precision:\",metrics.precision_score(y_test, y_pred))\n",
    "print(\"Recall:\",metrics.recall_score(y_test, y_pred))"
   ]
  },
  {
   "cell_type": "code",
   "execution_count": null,
   "metadata": {},
   "outputs": [],
   "source": [
    "logreg.score(X_test, y_test) # also returns the accuracy"
   ]
  },
  {
   "cell_type": "code",
   "execution_count": null,
   "metadata": {},
   "outputs": [],
   "source": [
    "# ROC curve\n",
    "y_pred_proba = logreg.predict_proba(X_test)[:,1]\n",
    "fpr, tpr, _ = metrics.roc_curve(y_test,  y_pred_proba)\n",
    "auc = metrics.roc_auc_score(y_test, y_pred_proba)\n",
    "plt.plot(fpr,tpr,label=\"auc=\"+str(auc))\n",
    "plt.legend(loc=4)\n",
    "plt.show()"
   ]
  },
  {
   "attachments": {},
   "cell_type": "markdown",
   "metadata": {},
   "source": [
    "## More"
   ]
  },
  {
   "cell_type": "code",
   "execution_count": null,
   "metadata": {},
   "outputs": [],
   "source": [
    "logreg.intercept_, logreg.coef_"
   ]
  },
  {
   "cell_type": "code",
   "execution_count": null,
   "metadata": {},
   "outputs": [],
   "source": [
    "pima.head(3)"
   ]
  },
  {
   "attachments": {},
   "cell_type": "markdown",
   "metadata": {},
   "source": [
    "$$\n",
    "p = \\sigma(z) = \\frac{1}{1+e^{-z}} = \\frac{1}{1+e^{-(\\theta_0 + \\theta_1x_1 + \\theta_2x_2 + ... + \\theta_nx_n)}}\n",
    "$$\n",
    "\n",
    "We could rewrite the relation to\n",
    "\n",
    "$$\n",
    "log(\\frac{p}{1-p}) = \\theta_0 + \\theta_1x_1 + \\theta_2x_2 + ... + \\theta_nx_n\n",
    "$$"
   ]
  },
  {
   "cell_type": "code",
   "execution_count": null,
   "metadata": {},
   "outputs": [],
   "source": [
    "df_coef = pd.DataFrame({\n",
    "    'feature': X.columns,\n",
    "    'coef': logreg.coef_[0]\n",
    "})"
   ]
  },
  {
   "cell_type": "code",
   "execution_count": null,
   "metadata": {},
   "outputs": [],
   "source": [
    "df_coef"
   ]
  },
  {
   "cell_type": "code",
   "execution_count": null,
   "metadata": {},
   "outputs": [],
   "source": []
  },
  {
   "cell_type": "code",
   "execution_count": null,
   "metadata": {},
   "outputs": [],
   "source": []
  }
 ],
 "metadata": {
  "kernelspec": {
   "display_name": "Python 3 (ipykernel)",
   "language": "python",
   "name": "python3"
  },
  "language_info": {
   "codemirror_mode": {
    "name": "ipython",
    "version": 3
   },
   "file_extension": ".py",
   "mimetype": "text/x-python",
   "name": "python",
   "nbconvert_exporter": "python",
   "pygments_lexer": "ipython3",
   "version": "3.10.8"
  },
  "toc": {
   "base_numbering": 1,
   "nav_menu": {},
   "number_sections": true,
   "sideBar": true,
   "skip_h1_title": false,
   "title_cell": "Table of Contents",
   "title_sidebar": "Contents",
   "toc_cell": false,
   "toc_position": {
    "height": "calc(100% - 180px)",
    "left": "10px",
    "top": "150px",
    "width": "384px"
   },
   "toc_section_display": true,
   "toc_window_display": true
  }
 },
 "nbformat": 4,
 "nbformat_minor": 4
}
