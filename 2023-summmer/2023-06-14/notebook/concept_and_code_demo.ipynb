{
 "cells": [
  {
   "cell_type": "code",
   "execution_count": null,
   "id": "b2b97a8c-cbf8-47c8-bd54-5e60c8b1594c",
   "metadata": {},
   "outputs": [],
   "source": []
  },
  {
   "cell_type": "markdown",
   "id": "d5e728c2-7049-4891-8ef7-fad17e45f58f",
   "metadata": {},
   "source": [
    "# Today's Coding Topics\n",
    "[![Open In Colab](https://colab.research.google.com/assets/colab-badge.svg)](https://colab.research.google.com/github/xiangshiyin/data-programming-with-python/blob/main/2023-summmer/2023-06-14/notebook/concept_and_code_demo.ipynb)\n",
    "\n",
    "* Recap of previous lecture\n",
    "* Numpy Arrays\n",
    "  * Numpy Array Indexing\n",
    "  * Numpy Array Operations\n",
    "  * Linear Algebra with Numpy\n",
    "* Application\n",
    "  * Linear Regression With Numpy Implementation\n",
    "  * Nearest Neighbor Search with Numpy Implementation\n"
   ]
  },
  {
   "cell_type": "markdown",
   "id": "e2ceceb2-bd6a-4e6c-a388-bb0633777856",
   "metadata": {},
   "source": [
    "# Recap of previous lecture"
   ]
  },
  {
   "cell_type": "markdown",
   "id": "96de63ce-7c20-4d1e-a39d-461dd482129d",
   "metadata": {},
   "source": [
    "## String operations"
   ]
  },
  {
   "cell_type": "code",
   "execution_count": null,
   "id": "34cd7d50-50da-4fc1-910b-ab8eebc884ac",
   "metadata": {},
   "outputs": [],
   "source": []
  },
  {
   "cell_type": "code",
   "execution_count": null,
   "id": "fdd46388-7b85-4523-8322-9f10317b5536",
   "metadata": {},
   "outputs": [],
   "source": [
    "# split string by certain delimiters\n",
    "x = 'a.b.c'\n",
    "x.split('.')"
   ]
  },
  {
   "cell_type": "code",
   "execution_count": null,
   "id": "892d92e3-d8bd-4f3f-9f43-0127bacd7e1c",
   "metadata": {},
   "outputs": [],
   "source": [
    "x = 'a.b.c'\n",
    "x.split(b)"
   ]
  },
  {
   "cell_type": "code",
   "execution_count": null,
   "id": "b887cad0-3b46-42de-8143-5752ad3db12a",
   "metadata": {},
   "outputs": [],
   "source": [
    "x = 'adbdc'\n",
    "# x.split('d')\n",
    "x.strip('d')"
   ]
  },
  {
   "cell_type": "code",
   "execution_count": null,
   "id": "2343ede3-ee00-4573-a356-f70551e3ffde",
   "metadata": {},
   "outputs": [],
   "source": [
    "# remove leading or trailing spaces\n",
    "x = 'd  abc   '\n",
    "x1 = x.strip('d')\n",
    "# x1\n",
    "type(x1)"
   ]
  },
  {
   "cell_type": "code",
   "execution_count": null,
   "id": "d8ee1add-1243-48b2-89eb-1e7220ef65d2",
   "metadata": {},
   "outputs": [],
   "source": [
    "x = '  abc   '\n",
    "x.lstrip()"
   ]
  },
  {
   "cell_type": "code",
   "execution_count": null,
   "id": "8afbaa73-fe77-4445-a0de-78be63b6c03c",
   "metadata": {},
   "outputs": [],
   "source": [
    "x = '  abc   '\n",
    "x.rstrip()"
   ]
  },
  {
   "cell_type": "code",
   "execution_count": null,
   "id": "79a0c9ce-1cd6-434c-b5bd-79fa40c718f7",
   "metadata": {},
   "outputs": [],
   "source": [
    "# replace\n",
    "\n",
    "x = 'abcd'\n",
    "x.replace('d', '1')"
   ]
  },
  {
   "cell_type": "code",
   "execution_count": null,
   "id": "c410879f-d82c-40e6-8b97-4682387765a5",
   "metadata": {},
   "outputs": [],
   "source": []
  },
  {
   "cell_type": "markdown",
   "id": "b5192f7b-2ec4-48d3-92f1-684acfb22f51",
   "metadata": {},
   "source": [
    "## File operations"
   ]
  },
  {
   "cell_type": "code",
   "execution_count": null,
   "id": "9603d906-22ad-42da-aec9-ffa47273ea16",
   "metadata": {},
   "outputs": [],
   "source": []
  },
  {
   "cell_type": "code",
   "execution_count": null,
   "id": "dbafe36c-6bc6-4ab6-b71c-b5b64d0f9a16",
   "metadata": {},
   "outputs": [],
   "source": [
    "## check if a path exists\n",
    "import os"
   ]
  },
  {
   "cell_type": "code",
   "execution_count": null,
   "id": "7a484a13-df7d-46a1-b5e2-f13b17773bac",
   "metadata": {},
   "outputs": [],
   "source": [
    "## Check if a director exists, you can replace the directory with yours\n",
    "os.path.exists('/Users/xyin/abc')"
   ]
  },
  {
   "cell_type": "code",
   "execution_count": null,
   "id": "bd19d91a-fb4d-4794-b270-1c11020819d0",
   "metadata": {},
   "outputs": [],
   "source": [
    "os.path.exists('/Users/xyin/Documents')"
   ]
  },
  {
   "cell_type": "code",
   "execution_count": null,
   "id": "24be6cea-1486-41e5-9a4d-6134c8813ad5",
   "metadata": {},
   "outputs": [],
   "source": [
    "## Check if a file exists\n",
    "os.path.exists('/Users/xiangshiyin/Documents/Teaching/data-programming-with-python/2023-summmer/2023-06-12/README.md')"
   ]
  },
  {
   "cell_type": "code",
   "execution_count": null,
   "id": "556f6c62-744d-4909-9575-7d29891a680f",
   "metadata": {},
   "outputs": [],
   "source": [
    "## check if it's a file or a directory\n",
    "os.path.isfile('/Users/xyin/Documents')"
   ]
  },
  {
   "cell_type": "code",
   "execution_count": null,
   "id": "73a4b24c-5b71-4cce-b7b4-6aecac351fb2",
   "metadata": {},
   "outputs": [],
   "source": [
    "os.path.isdir('/Users/xiangshiyin/Documents/Teaching/data-programming-with-python/2023-summmer/2023-06-12/README.md')"
   ]
  },
  {
   "cell_type": "code",
   "execution_count": null,
   "id": "16859509-ac3c-4054-8316-963b5428e3f0",
   "metadata": {},
   "outputs": [],
   "source": [
    "## find the true path, only works in MacOS/Linux. You need to replace the file directory with your own. For windows user, you need to try the relative directory pattern in windows\n",
    "os.path.realpath('concept_and_code_demo.ipynb')"
   ]
  },
  {
   "cell_type": "code",
   "execution_count": null,
   "id": "e36b9c89-2445-4130-80d5-98f8ec75dd05",
   "metadata": {},
   "outputs": [],
   "source": [
    "os.path.abspath('concept_and_code_demo.ipynb')"
   ]
  },
  {
   "cell_type": "code",
   "execution_count": null,
   "id": "19e9dc9c-9ab2-4e40-af4b-3bd671849327",
   "metadata": {},
   "outputs": [],
   "source": [
    "## find the parent directory of a file\n",
    "os.path.dirname('concept_and_code_demo.ipynb')"
   ]
  },
  {
   "cell_type": "code",
   "execution_count": null,
   "id": "21653825-b62b-47a4-8733-f538ea04ae4b",
   "metadata": {},
   "outputs": [],
   "source": [
    "## Join directories and files\n",
    "os.path.join('/Users/','/xyin','Documents')"
   ]
  },
  {
   "cell_type": "code",
   "execution_count": null,
   "id": "a8e8b9f0-3ee9-449d-8a54-99cd6b44ef2c",
   "metadata": {},
   "outputs": [],
   "source": [
    "## How do we create an empty file? Any guess?\n"
   ]
  },
  {
   "cell_type": "code",
   "execution_count": null,
   "id": "54756065-146b-418e-a875-d2f1b71a53e4",
   "metadata": {},
   "outputs": [],
   "source": [
    "## Create a directory\n",
    "os.mkdir('testdir')"
   ]
  },
  {
   "cell_type": "code",
   "execution_count": null,
   "id": "8666a68e-8ca0-4b0a-90f3-958f1d76c641",
   "metadata": {},
   "outputs": [],
   "source": [
    "## Rename a file\n",
    "os.rename('testfile.txt','testfile2.txt')"
   ]
  },
  {
   "cell_type": "code",
   "execution_count": null,
   "id": "fafb4024-4dcb-4123-9157-92a95c610ae9",
   "metadata": {},
   "outputs": [],
   "source": [
    "os.rename('testfile2.txt','testfile.txt')"
   ]
  },
  {
   "cell_type": "code",
   "execution_count": null,
   "id": "36aa0caf-8736-42f4-a76d-1574c990125b",
   "metadata": {},
   "outputs": [],
   "source": []
  },
  {
   "cell_type": "code",
   "execution_count": null,
   "id": "ee2461f8-331e-4cd6-b510-80cc6698a708",
   "metadata": {},
   "outputs": [],
   "source": []
  },
  {
   "cell_type": "markdown",
   "id": "41413a10-721d-4518-bf5d-77d13605656e",
   "metadata": {
    "slideshow": {
     "slide_type": "slide"
    }
   },
   "source": [
    "## Python Libraries - A Brief Introduction"
   ]
  },
  {
   "cell_type": "markdown",
   "id": "ad6053b8-cc47-43cb-b12d-a37b88ad5920",
   "metadata": {},
   "source": [
    "### What is a library?\n",
    "* A library is a collection of files/scripts that contains pre-written functions, constants, etc.\n",
    "* It makes our code easy to write and understand"
   ]
  },
  {
   "cell_type": "markdown",
   "id": "0381b741-c999-44df-bc63-923292ab6768",
   "metadata": {
    "slideshow": {
     "slide_type": "slide"
    }
   },
   "source": [
    "### Import the library\n",
    "* Use `import <libname>` to load the complete library into memory\n",
    "* Use `<libname>.<modulename>` to call the modules within the loaded library (Python uses `.` to reference modules and attributes of given library or object, we'll cover more on this in the next lecture)\n",
    "* You can also define an alias to the library like `import <libname> as abc`, and call the library module with `abc.<modulename>`"
   ]
  },
  {
   "cell_type": "code",
   "execution_count": null,
   "id": "b14aac9e-ec23-408d-9d51-d24ab806c993",
   "metadata": {},
   "outputs": [],
   "source": [
    "import string\n",
    "\n",
    "# string.ascii_lowercase\n",
    "string.ascii_uppercase"
   ]
  },
  {
   "cell_type": "markdown",
   "id": "39bd0ef7-6194-42c3-a932-e2c05a0c9a81",
   "metadata": {
    "slideshow": {
     "slide_type": "slide"
    }
   },
   "source": [
    "* You can also import specific modules of a library by doing `from <libname> import <modulename>`\n",
    "* In this case, you can directly use `<modulename>` to call the modules and execute certain operations"
   ]
  },
  {
   "cell_type": "code",
   "execution_count": null,
   "id": "56d391b5-b342-4edd-8be9-6a30030dd79c",
   "metadata": {},
   "outputs": [],
   "source": [
    "from string import ascii_lowercase,ascii_uppercase\n",
    "ascii_lowercase # , ascii_uppercase"
   ]
  },
  {
   "cell_type": "code",
   "execution_count": null,
   "id": "bfc55779-2e54-40b5-b21e-387821c399b5",
   "metadata": {},
   "outputs": [],
   "source": [
    "from string import *\n",
    "ascii_lowercase #, ascii_uppercase, digits"
   ]
  },
  {
   "cell_type": "markdown",
   "id": "1a6f0f28-e83c-4692-bc79-9075517456c1",
   "metadata": {
    "slideshow": {
     "slide_type": "slide"
    }
   },
   "source": [
    "### Get library documentation\n",
    "* You can always use `help()` function to pull the corresponding documentation of certain modules or submodules\n",
    "* Jupyter notebook and other commonly IDEs (integrated development environment) also has functionalities or plugins to help you access the documentation of certain libraries or modules"
   ]
  },
  {
   "cell_type": "code",
   "execution_count": null,
   "id": "b8ff5560-8d9e-4e13-b680-88176ea792b6",
   "metadata": {
    "scrolled": true
   },
   "outputs": [],
   "source": [
    "help(string)"
   ]
  },
  {
   "cell_type": "markdown",
   "id": "4d7a4bff-a587-43c8-97e1-f8092dca2f05",
   "metadata": {
    "slideshow": {
     "slide_type": "slide"
    }
   },
   "source": [
    "### Sample library\n",
    "* `math`: a collection of mathematical functions\n",
    "    * Official documentation: https://docs.python.org/3.8/library/math.html"
   ]
  },
  {
   "cell_type": "code",
   "execution_count": null,
   "id": "d62ea95b-1eb5-4c95-80de-5d78b434abb1",
   "metadata": {},
   "outputs": [],
   "source": [
    "import math\n",
    "math.ceil(4.6)"
   ]
  },
  {
   "cell_type": "code",
   "execution_count": null,
   "id": "2091be68-d4af-4bc5-a5a0-7616a8155b14",
   "metadata": {},
   "outputs": [],
   "source": [
    "math.floor(4.6)"
   ]
  },
  {
   "cell_type": "code",
   "execution_count": null,
   "id": "5dc79dc5-5550-4084-b471-2c62e658e4df",
   "metadata": {
    "scrolled": true
   },
   "outputs": [],
   "source": [
    "math.gcd(8,6) # math.gcd(a,b) returns the greatest common divisor of the integers a and b"
   ]
  },
  {
   "cell_type": "code",
   "execution_count": null,
   "id": "eda3d754-af10-4ace-b64f-33b095cc0e90",
   "metadata": {},
   "outputs": [],
   "source": [
    "math.exp(1) # math.exp(x) returns e raised to the power x, where e = 2.718281"
   ]
  },
  {
   "cell_type": "markdown",
   "id": "bfffc52c-86b6-44b1-94d7-fefd9c24efcd",
   "metadata": {
    "slideshow": {
     "slide_type": "slide"
    }
   },
   "source": [
    "`math.log(x[, base])`\n",
    "* With one argument, return the natural logarithm of x (to base e).\n",
    "* With two arguments, return the logarithm of x to the given base, calculated as log(x)/log(base)."
   ]
  },
  {
   "cell_type": "code",
   "execution_count": null,
   "id": "3cdf5d8f-17dd-4b05-b43b-e34a3a66ecfe",
   "metadata": {},
   "outputs": [],
   "source": [
    "math.log(100, 10)"
   ]
  },
  {
   "cell_type": "code",
   "execution_count": null,
   "id": "126f39eb-bba5-4bad-85b9-371c062fe676",
   "metadata": {},
   "outputs": [],
   "source": [
    "math.log(1)\n",
    "# math.log(4,2)"
   ]
  },
  {
   "cell_type": "code",
   "execution_count": null,
   "id": "4accaefe-7e1c-4c7f-ae45-6007523ca17f",
   "metadata": {},
   "outputs": [],
   "source": [
    "4 ** (1/2)"
   ]
  },
  {
   "cell_type": "code",
   "execution_count": null,
   "id": "b2847562-a63d-451f-bf22-1e8eb351c78c",
   "metadata": {},
   "outputs": [],
   "source": [
    "math.sqrt(4)"
   ]
  },
  {
   "cell_type": "code",
   "execution_count": null,
   "id": "66802e10-f1eb-4546-b340-783f38502d91",
   "metadata": {},
   "outputs": [],
   "source": []
  },
  {
   "cell_type": "markdown",
   "id": "dba2415b-37e1-4f0e-b3ab-8df53b85e07e",
   "metadata": {},
   "source": [
    "### Library import in depth\n",
    "#### A simple Python package\n",
    "Assume we have a package with the following file distribution\n",
    "```md\n",
    "└── sample_package\n",
    "    └── sample.py\n",
    "    └── subpackage\n",
    "        └── subsample.py\n",
    "```\n",
    "The content of `sample.py` is like\n",
    "```python\n",
    "x = 123\n",
    "y = 234\n",
    "\n",
    "def hello():\n",
    "    print('Hello World')\n",
    "```\n",
    "\n",
    "The content of `subsample.py`\n",
    "```python\n",
    "xx = 1\n",
    "yy = 2\n",
    "```\n",
    "\n",
    "### Things might be more complicated\n",
    "![](../pics/library_tree.png)\n",
    "\n",
    "***You could***\n",
    "* `import` the whole library, by `import a`\n",
    "* `import` a module (python script), by `import a.aa`\n",
    "* `import` a object (variable, function, class, etc.) in a module, by `import a.aa.aaa`, or `from a.aa import aaa`\n",
    "\n",
    "\n",
    "**However**, you should keep using the `<object>` name in the `import <object>` statement in your program to reference the object you imported. **Sometimes, this could be quite inconvenient** because the `<object>` string could be pretty long due to the complicatedd file structures in the python library\n",
    "\n",
    "**There are two ways** to solve the problem:\n",
    "* `from a import aa` (use the `from` statement to reference the complicated folder relationships)\n",
    "* `import a.aa as aa` (create an alias)"
   ]
  },
  {
   "cell_type": "code",
   "execution_count": null,
   "id": "8a22cf56-6db5-42a6-90d2-58a728cccddd",
   "metadata": {},
   "outputs": [],
   "source": [
    "%%sh\n",
    "\n",
    "tree sample_package"
   ]
  },
  {
   "cell_type": "code",
   "execution_count": null,
   "id": "a87230b7-29cb-45c6-9342-6860c46c686b",
   "metadata": {},
   "outputs": [],
   "source": [
    "from sample_package.sample import hello\n",
    "hello()"
   ]
  },
  {
   "cell_type": "code",
   "execution_count": null,
   "id": "8f923ea8-54a0-4b29-9744-abbaeac25ab5",
   "metadata": {},
   "outputs": [],
   "source": [
    "from sample_package.subpackage.subsample import xx"
   ]
  },
  {
   "cell_type": "code",
   "execution_count": null,
   "id": "1786d2ce-1cb1-408c-ada4-6ac13825b5c1",
   "metadata": {},
   "outputs": [],
   "source": [
    "xx"
   ]
  },
  {
   "cell_type": "code",
   "execution_count": null,
   "id": "a2e5b3d1-446f-4fde-aec1-3bc932ca2fab",
   "metadata": {},
   "outputs": [],
   "source": []
  },
  {
   "cell_type": "markdown",
   "id": "2f2ab2ef-ede4-418f-b245-cbc8be97e040",
   "metadata": {
    "slideshow": {
     "slide_type": "slide"
    }
   },
   "source": [
    "## Summary\n",
    "* Python is a high level scripting language\n",
    "* Common coding tools: Jupyter Notebook, Jupyter Lab, Visual Studio Code\n",
    "* Execute Python program in Jupyter Notebook\n",
    "* Basic Data Types: numbers, strings, booleans, list, tuples, sets, dict\n",
    "* Control statement: `if-else` clause and loops\n",
    "* Define and use a Python function\n",
    "* How to import and use Python libraries"
   ]
  },
  {
   "cell_type": "code",
   "execution_count": null,
   "id": "5850cf28-4e44-47c3-ae24-326e6087b1bf",
   "metadata": {},
   "outputs": [],
   "source": []
  },
  {
   "cell_type": "code",
   "execution_count": null,
   "id": "2b8d82b4-02af-4854-912a-54852f325582",
   "metadata": {},
   "outputs": [],
   "source": []
  },
  {
   "cell_type": "code",
   "execution_count": null,
   "id": "d01455b2-9eec-4902-8009-1a7b8ce655f6",
   "metadata": {},
   "outputs": [],
   "source": []
  },
  {
   "cell_type": "code",
   "execution_count": null,
   "id": "34976210-123c-462b-a222-b7314eb5cc7e",
   "metadata": {},
   "outputs": [],
   "source": []
  }
 ],
 "metadata": {
  "kernelspec": {
   "display_name": "Python 3 (ipykernel)",
   "language": "python",
   "name": "python3"
  },
  "language_info": {
   "codemirror_mode": {
    "name": "ipython",
    "version": 3
   },
   "file_extension": ".py",
   "mimetype": "text/x-python",
   "name": "python",
   "nbconvert_exporter": "python",
   "pygments_lexer": "ipython3",
   "version": "3.10.8"
  }
 },
 "nbformat": 4,
 "nbformat_minor": 5
}
