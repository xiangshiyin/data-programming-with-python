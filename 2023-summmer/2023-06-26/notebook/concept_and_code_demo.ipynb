{
 "cells": [
  {
   "cell_type": "markdown",
   "id": "b7f44070-28d4-468c-9cde-0a125bd33286",
   "metadata": {},
   "source": [
    "# Today's Coding Topics\n",
    "[![Open In Colab](https://colab.research.google.com/assets/colab-badge.svg)](https://colab.research.google.com/github/xiangshiyin/data-programming-with-python/blob/main/2023-summmer/2023-06-26/notebook/concept_and_code_demo.ipynb)\n",
    "\n",
    "* Recap of previous lecture\n",
    "* `Pandas` exercise\n"
   ]
  },
  {
   "cell_type": "code",
   "execution_count": null,
   "id": "c5f77814-6ce4-4f92-aabb-eb93b1a181d3",
   "metadata": {},
   "outputs": [],
   "source": []
  },
  {
   "cell_type": "markdown",
   "id": "65d758c9-b300-40cd-97dc-4f0915c65fcb",
   "metadata": {},
   "source": [
    "## Pandas intro\n",
    "\n",
    "* `pandas` is a Python package providing fast, flexible, and expressive data structures designed to make working with “relational” or “labeled” data both easy and intuitive. It aims to be the fundamental high-level building block for doing practical, real world data analysis in Python. Additionally, it has the broader goal of becoming the most powerful and flexible open source data analysis / manipulation tool available in any language. It is already well on its way toward this goal.\n",
    "* It is included in the installation of the Anaconda distribution\n",
    "* When working with tabular data, such as data stored in spreadsheets or databases, pandas is the right tool for you. pandas will help you to explore, clean and process your data. In pandas, a data table is called a DataFrame.\n",
    "\n",
    "<img align=\"center\" src=\"../pics/dataframe-structure.png\" style=\"height:300px;\">\n"
   ]
  },
  {
   "cell_type": "code",
   "execution_count": null,
   "id": "faba3eaa-0f18-442c-b181-e6960360e2d3",
   "metadata": {},
   "outputs": [],
   "source": [
    "import pandas as pd"
   ]
  },
  {
   "cell_type": "code",
   "execution_count": null,
   "id": "9fb38a3d-a9f2-4097-a06e-bfb839a674ae",
   "metadata": {},
   "outputs": [],
   "source": [
    "pd.__version__"
   ]
  },
  {
   "cell_type": "code",
   "execution_count": null,
   "id": "a9a7a9f5-370a-4426-8200-c2b4b623a76d",
   "metadata": {},
   "outputs": [],
   "source": []
  },
  {
   "cell_type": "code",
   "execution_count": null,
   "id": "1e2a1abb",
   "metadata": {},
   "outputs": [],
   "source": [
    "x = {\n",
    "    'A':[1,2,'a',4],\n",
    "    'B':np.arange(5,9),\n",
    "    'C':['abc','def','ghi','jkl']\n",
    "}"
   ]
  },
  {
   "cell_type": "code",
   "execution_count": null,
   "id": "05788ecb-7e2c-4075-9764-0879df5fc1a3",
   "metadata": {},
   "outputs": [],
   "source": [
    "# create df from a dictionary\n",
    "df1 = pd.DataFrame(x)"
   ]
  },
  {
   "cell_type": "code",
   "execution_count": null,
   "id": "bbfd3c4b-c4b7-4a57-8779-db6eb75e5839",
   "metadata": {},
   "outputs": [],
   "source": [
    "df1"
   ]
  },
  {
   "cell_type": "code",
   "execution_count": null,
   "id": "9dff82ca",
   "metadata": {},
   "outputs": [],
   "source": []
  },
  {
   "cell_type": "code",
   "execution_count": null,
   "id": "b94ba732-4b47-4983-98e4-20a513448481",
   "metadata": {},
   "outputs": [],
   "source": [
    "y = [\n",
    "    ['a','b','c'],\n",
    "    ['d','e','f']\n",
    "]"
   ]
  },
  {
   "cell_type": "code",
   "execution_count": null,
   "id": "c303bf06",
   "metadata": {},
   "outputs": [],
   "source": [
    "y"
   ]
  },
  {
   "cell_type": "code",
   "execution_count": null,
   "id": "5577a192-b4b5-420b-b6c0-cb960e38a73a",
   "metadata": {},
   "outputs": [],
   "source": [
    "# create df from a list\n",
    "df2 = pd.DataFrame(y, columns=['col1','col2','col3'])\n",
    "df2"
   ]
  },
  {
   "cell_type": "code",
   "execution_count": null,
   "id": "bf22f1a0",
   "metadata": {},
   "outputs": [],
   "source": []
  },
  {
   "cell_type": "markdown",
   "id": "42d63ef9-028c-4215-8883-1110dae7c11b",
   "metadata": {},
   "source": [
    "## Create `dataframe` from text file"
   ]
  },
  {
   "cell_type": "code",
   "execution_count": null,
   "id": "4f1dcc06-d56a-4ba7-a984-2dd7f3b31d42",
   "metadata": {},
   "outputs": [],
   "source": [
    "df = pd.read_csv('../data/imf-gdp-per-capita-2015.csv',sep=',',header=0, thousands=',')"
   ]
  },
  {
   "cell_type": "code",
   "execution_count": null,
   "id": "08761141",
   "metadata": {},
   "outputs": [],
   "source": [
    "df"
   ]
  },
  {
   "cell_type": "code",
   "execution_count": null,
   "id": "9c144015-0f05-4a0f-8e5f-81fce426df3b",
   "metadata": {},
   "outputs": [],
   "source": [
    "df.head(2)"
   ]
  },
  {
   "cell_type": "code",
   "execution_count": null,
   "id": "4f7dabeb-bd8b-44bb-ad17-c1e3dca809d4",
   "metadata": {},
   "outputs": [],
   "source": [
    "df.tail(2)"
   ]
  },
  {
   "cell_type": "code",
   "execution_count": null,
   "id": "f182f8a9-94c5-4059-acf6-27c6d1ee521c",
   "metadata": {},
   "outputs": [],
   "source": [
    "df.info()"
   ]
  },
  {
   "cell_type": "code",
   "execution_count": null,
   "id": "b7ec94a5-df46-4fa1-9038-f11b9c306dc8",
   "metadata": {},
   "outputs": [],
   "source": []
  },
  {
   "cell_type": "code",
   "execution_count": null,
   "id": "36b65990-0100-48b9-b4a3-6d7197bbfc2d",
   "metadata": {},
   "outputs": [],
   "source": []
  },
  {
   "cell_type": "code",
   "execution_count": null,
   "id": "d1b41106-c905-492e-a035-a3da5995c656",
   "metadata": {},
   "outputs": [],
   "source": []
  },
  {
   "cell_type": "markdown",
   "id": "ff2eae46-0569-48e1-a68a-ecd49eae8331",
   "metadata": {},
   "source": [
    "## Left-over topics"
   ]
  },
  {
   "cell_type": "code",
   "execution_count": null,
   "id": "e5995695-3829-4821-98cd-b20c4641d37e",
   "metadata": {},
   "outputs": [],
   "source": [
    "# create a dataframe from a numpy array, with columns labeled\n",
    "df = pd.DataFrame(np.random.randn(6,4), columns = ['Ann', \"Bob\", \"Charly\", \"Don\"])\n",
    "df"
   ]
  },
  {
   "cell_type": "markdown",
   "id": "a6338067-9aa6-4a44-9ac3-d984fba1ed32",
   "metadata": {},
   "source": [
    "**Apply functions/logics to the data**"
   ]
  },
  {
   "cell_type": "code",
   "execution_count": null,
   "id": "3a87069b-9295-487f-99ad-31f3411be8d2",
   "metadata": {},
   "outputs": [],
   "source": [
    "df"
   ]
  },
  {
   "cell_type": "code",
   "execution_count": null,
   "id": "4a00cae5-218d-4a94-b918-5f354635c394",
   "metadata": {},
   "outputs": [],
   "source": [
    "df.apply(np.cumsum) # apply the function on all columns"
   ]
  },
  {
   "cell_type": "code",
   "execution_count": null,
   "id": "bcac79c3-c7ec-4004-8fcf-25dabdaa176d",
   "metadata": {},
   "outputs": [],
   "source": [
    "df.apply(lambda x: -x) # apply the function on all columns"
   ]
  },
  {
   "cell_type": "code",
   "execution_count": null,
   "id": "037a9830-d464-4713-a7ee-92f62ca9e329",
   "metadata": {},
   "outputs": [],
   "source": [
    "df.Don.map(lambda x: x+1) # apply the function on one single column"
   ]
  },
  {
   "cell_type": "code",
   "execution_count": null,
   "id": "40664f65-9eb0-4333-812d-8da94fab4ada",
   "metadata": {},
   "outputs": [],
   "source": []
  },
  {
   "cell_type": "markdown",
   "id": "33404221-fba0-43b8-ab33-9194f694028f",
   "metadata": {},
   "source": [
    "**`dataframe` and table operations**"
   ]
  },
  {
   "cell_type": "code",
   "execution_count": null,
   "id": "feb054c6-fb1a-4c30-8dd1-b1295b35953e",
   "metadata": {},
   "outputs": [],
   "source": [
    "df = pd.DataFrame(np.random.randn(10, 4), columns=['a','b','c','d'])\n",
    "df"
   ]
  },
  {
   "cell_type": "markdown",
   "id": "de46c5b1-f1f5-45f3-811d-552f9b7bda1e",
   "metadata": {},
   "source": [
    "**Concat**"
   ]
  },
  {
   "cell_type": "code",
   "execution_count": null,
   "id": "862a3b2d-661b-443f-ac0e-6f576c24f28f",
   "metadata": {},
   "outputs": [],
   "source": [
    "pieces = [df[:3], df[7:]]\n",
    "print(\"pieces:\\n\", pieces)\n",
    "print(\"put back together:\\n\")\n",
    "# pd.concat(pieces, axis=1)\n",
    "pd.concat(pieces, axis=0)"
   ]
  },
  {
   "cell_type": "markdown",
   "id": "3baf6b67-ff12-43c2-bed1-22c72c37839a",
   "metadata": {},
   "source": [
    "**Append new data from another `dataframe`**"
   ]
  },
  {
   "cell_type": "code",
   "execution_count": null,
   "id": "ed3e446d-5821-4d2f-9385-138a62a98b9e",
   "metadata": {},
   "outputs": [],
   "source": [
    "df_p2 = pd.DataFrame(np.random.randn(4, 4), columns=['a','b','c','d'])\n",
    "df_p2"
   ]
  },
  {
   "cell_type": "code",
   "execution_count": null,
   "id": "4eb7e280-1351-4ee5-a2ba-7e153c1446fd",
   "metadata": {},
   "outputs": [],
   "source": []
  },
  {
   "cell_type": "code",
   "execution_count": null,
   "id": "68e53a4c-3800-463f-be62-a2b625f03278",
   "metadata": {},
   "outputs": [],
   "source": []
  },
  {
   "cell_type": "markdown",
   "id": "14d53544-c04e-4c75-92c5-0044917cb752",
   "metadata": {},
   "source": [
    "**Joins**\n",
    "\n",
    "More details at https://pandas.pydata.org/pandas-docs/stable/user_guide/merging.html\n",
    "![](../pics/joins.jpg)"
   ]
  },
  {
   "cell_type": "code",
   "execution_count": null,
   "id": "4c628906-c648-44cc-a3b3-26a3d65a55b0",
   "metadata": {},
   "outputs": [],
   "source": [
    "tb1 = pd.DataFrame({'key': ['foo', 'boo', 'foo'], 'lval': [1, 2, 3]})\n",
    "tb2 = pd.DataFrame({'key': ['foo', 'coo'], 'rval': [5, 6]})"
   ]
  },
  {
   "cell_type": "code",
   "execution_count": null,
   "id": "e9d50e83-916e-4227-9f9a-4c69efdde306",
   "metadata": {},
   "outputs": [],
   "source": [
    "tb1"
   ]
  },
  {
   "cell_type": "code",
   "execution_count": null,
   "id": "d999cde8-c55e-4d18-839e-f799ce6f0344",
   "metadata": {},
   "outputs": [],
   "source": [
    "tb2"
   ]
  },
  {
   "cell_type": "code",
   "execution_count": null,
   "id": "29d5f5e9-f55e-410c-8517-3df7a8dfd4b7",
   "metadata": {},
   "outputs": [],
   "source": [
    "pd.merge(tb1, tb2, on='key', how='inner')"
   ]
  },
  {
   "cell_type": "code",
   "execution_count": null,
   "id": "6168c293-2830-4461-967d-968b17e8fe9a",
   "metadata": {},
   "outputs": [],
   "source": [
    "pd.merge(tb1, tb2, on='key', how='left')"
   ]
  },
  {
   "cell_type": "code",
   "execution_count": null,
   "id": "6c6c315e-a089-4904-9697-d8ca4da6e92a",
   "metadata": {},
   "outputs": [],
   "source": [
    "pd.merge(tb1, tb2, on='key', how='right')"
   ]
  },
  {
   "cell_type": "code",
   "execution_count": null,
   "id": "08179eec-88ad-41b4-bf32-2d92d586ae00",
   "metadata": {},
   "outputs": [],
   "source": [
    "pd.merge(tb1, tb2, on='key', how='outer')"
   ]
  },
  {
   "cell_type": "code",
   "execution_count": null,
   "id": "c44d2ad1-f72c-4b55-911f-791c7965209c",
   "metadata": {},
   "outputs": [],
   "source": []
  },
  {
   "cell_type": "markdown",
   "id": "6eaa0cb9-582b-426c-8427-b97463b1da9f",
   "metadata": {},
   "source": [
    "**Grouping**\n",
    "\n",
    "By `group by` we are referring to a process involving one or more of the following steps\n",
    "\n",
    "* Splitting the data into groups based on some criteria\n",
    "* Applying a function to each group independently\n",
    "* Combining the results into a data structure\n",
    "See the Grouping section from the `pandas` official documentation: https://pandas.pydata.org/pandas-docs/stable/user_guide/groupby.html"
   ]
  },
  {
   "cell_type": "code",
   "execution_count": null,
   "id": "aa452f88-78a6-4fa9-87b5-31b3c95b44e8",
   "metadata": {},
   "outputs": [],
   "source": [
    "df = pd.DataFrame({'A' : ['foo', 'bar', 'foo', 'bar', 'foo', 'bar', 'foo', 'foo'],\n",
    "                   'B' : ['one', 'one', 'two', 'three', 'two', 'two', 'one', 'three'],\n",
    "                   'C' : np.random.randn(8),\n",
    "                   'D' : np.random.randn(8)})\n",
    "\n",
    "df"
   ]
  },
  {
   "cell_type": "code",
   "execution_count": null,
   "id": "a9d944d6-bc96-4705-804e-5515302a79cf",
   "metadata": {},
   "outputs": [],
   "source": []
  },
  {
   "cell_type": "code",
   "execution_count": null,
   "id": "b8ad9522-cce0-44f5-9c6f-370757268fc1",
   "metadata": {},
   "outputs": [],
   "source": []
  },
  {
   "cell_type": "code",
   "execution_count": null,
   "id": "3cab5174-5524-44fe-b88d-4bfb6cd70630",
   "metadata": {},
   "outputs": [],
   "source": [
    "df.groupby('A')['C'].mean().reset_index() # simple stats grouped by 1 column"
   ]
  },
  {
   "cell_type": "code",
   "execution_count": null,
   "id": "fb66ea2b-68db-408e-8753-c0c403e2ffc1",
   "metadata": {},
   "outputs": [],
   "source": [
    "df.groupby(['A','B']).sum().reset_index() # simple stats grouped by multiple columns"
   ]
  },
  {
   "cell_type": "code",
   "execution_count": null,
   "id": "e8fb5224-4469-4704-81b4-f280d2084cb8",
   "metadata": {},
   "outputs": [],
   "source": [
    "df.groupby(['A','B']).mean().reset_index() # simple stats grouped by multiple columns"
   ]
  },
  {
   "cell_type": "code",
   "execution_count": null,
   "id": "e7eda69e-e37f-4aaf-8ad9-626059566021",
   "metadata": {},
   "outputs": [],
   "source": []
  },
  {
   "cell_type": "code",
   "execution_count": null,
   "id": "6cba6875-1d89-40c1-b751-a4202f94b14e",
   "metadata": {},
   "outputs": [],
   "source": [
    "# df.groupby(['A','B'])['C'].apply(lambda x: np.sum(x**2)).reset_index() # customized aggregation\n",
    "df.groupby(['A','B'])['C'].apply(lambda x: np.sum(x)).reset_index() # customized aggregation"
   ]
  },
  {
   "cell_type": "code",
   "execution_count": null,
   "id": "e78f4ea2-13b0-43fd-be4f-aa1769ff3ba4",
   "metadata": {},
   "outputs": [],
   "source": []
  },
  {
   "cell_type": "markdown",
   "id": "40ad2d84-87d5-4d0c-9b39-138dd354166a",
   "metadata": {},
   "source": [
    "**Pivot table**"
   ]
  },
  {
   "cell_type": "code",
   "execution_count": null,
   "id": "6dcd0e4a-8524-495d-ab08-b30fd2a0b30d",
   "metadata": {},
   "outputs": [],
   "source": [
    "df = pd.DataFrame({'ModelNumber' : ['one', 'one', 'two', 'three'] * 3,\n",
    "                   'Submodel' : ['A', 'B', 'C'] * 4,\n",
    "                   'Type' : ['foo', 'foo', 'foo', 'bar', 'bar', 'bar'] * 2,\n",
    "                   'Xval' : np.random.randn(12),\n",
    "                   'Yval' : np.random.randn(12)})\n",
    "\n",
    "df"
   ]
  },
  {
   "cell_type": "markdown",
   "id": "1e640a94-e102-46d8-b7ed-301fda1560e4",
   "metadata": {},
   "source": [
    "We can produce pivot tables from this data very easily:"
   ]
  },
  {
   "cell_type": "code",
   "execution_count": null,
   "id": "1eee58c3-0454-47ce-8ab7-a72ebfdb3183",
   "metadata": {},
   "outputs": [],
   "source": [
    "pd.pivot_table(\n",
    "    df\n",
    "    , values='Xval'\n",
    "    , index=['ModelNumber', 'Submodel']\n",
    "    , columns=['Type']\n",
    ")"
   ]
  },
  {
   "cell_type": "code",
   "execution_count": null,
   "id": "de07f41e-d653-4468-b24d-8a91a09e1451",
   "metadata": {},
   "outputs": [],
   "source": [
    "pd.pivot_table(\n",
    "    df\n",
    "    , values='Xval'\n",
    "    , index=['ModelNumber', 'Submodel']\n",
    "    , columns=['Type']\n",
    "#     , aggfunc='count'\n",
    "    ,aggfunc=lambda x: abs(x)\n",
    ")"
   ]
  },
  {
   "cell_type": "markdown",
   "id": "8276ce68-9661-46d0-aad0-4c66777fed0e",
   "metadata": {},
   "source": [
    "**Write/Export `dataframe` to files**"
   ]
  },
  {
   "cell_type": "markdown",
   "id": "a1e6430b-3c05-488e-958a-128657a25146",
   "metadata": {},
   "source": [
    "**CSV file**"
   ]
  },
  {
   "cell_type": "code",
   "execution_count": null,
   "id": "34d13252-45f4-4b36-b5dc-778cd635b578",
   "metadata": {},
   "outputs": [],
   "source": [
    "df"
   ]
  },
  {
   "cell_type": "code",
   "execution_count": null,
   "id": "1ec66ba4-5d44-4a37-84d3-5f650173b09e",
   "metadata": {},
   "outputs": [],
   "source": [
    "df.to_csv('../data/to-csv-test.csv',sep=',',header=True,index=None)"
   ]
  },
  {
   "cell_type": "markdown",
   "id": "a1735c93-021b-4517-b477-775e8ef85bfc",
   "metadata": {},
   "source": [
    "**Excel spreadsheet**"
   ]
  },
  {
   "cell_type": "code",
   "execution_count": null,
   "id": "19965915-a833-4117-948e-26bd8c2670e7",
   "metadata": {},
   "outputs": [],
   "source": [
    "df.to_excel('../data/to-excel-test.xlsx',sheet_name='tab1',header=True,index=None)"
   ]
  },
  {
   "cell_type": "code",
   "execution_count": null,
   "id": "0d050d7c-0721-4b57-a270-a0f4a99ac23b",
   "metadata": {},
   "outputs": [],
   "source": []
  },
  {
   "cell_type": "code",
   "execution_count": null,
   "id": "916daffc-29e1-4cd5-b2ff-bb15b31389d8",
   "metadata": {},
   "outputs": [],
   "source": []
  },
  {
   "cell_type": "code",
   "execution_count": null,
   "id": "a327fd94-c96a-4134-98d7-6ad90ff9d34d",
   "metadata": {},
   "outputs": [],
   "source": []
  },
  {
   "cell_type": "markdown",
   "id": "fbdcf681-358b-41e8-9f2d-280cfc5c7bd6",
   "metadata": {},
   "source": [
    "# Pandas Exercise\n",
    "\n",
    "Microsoft created a long time ago the fictitious multinational manufacturing company called Adventure Works and shipped the AdventureWorks database as part of SQL Server.\n",
    "\n",
    "**TASK**\n",
    "1. write the Python Pandas expression to produce a table as described in the problem statements.\n",
    "2. The SQL expression may give you a hint. It also allows you to see both systems side-by-side.\n",
    "3. If you don't know SQL just ignore the SQL code."
   ]
  },
  {
   "cell_type": "code",
   "execution_count": null,
   "id": "39b87811-1746-423d-91bb-4082937f7431",
   "metadata": {},
   "outputs": [],
   "source": [
    "import pandas as pd\n",
    "import numpy as np"
   ]
  },
  {
   "cell_type": "code",
   "execution_count": null,
   "id": "36f56b15-defe-4243-9dac-34ac209ad4fa",
   "metadata": {},
   "outputs": [],
   "source": [
    "pd.set_option('display.max_columns',None) #unlimited\n",
    "pd.set_option('display.max_rows',None)"
   ]
  },
  {
   "cell_type": "markdown",
   "id": "85ab923a-9f2b-4944-9d79-08e0148f2ca7",
   "metadata": {},
   "source": [
    "## import the dataset"
   ]
  },
  {
   "cell_type": "code",
   "execution_count": null,
   "id": "d813ee73-969d-477c-b3b3-28e37846a9a2",
   "metadata": {},
   "outputs": [],
   "source": [
    "%%time\n",
    "\n",
    "Employees = pd.read_excel('../data/Employees.xls')\n",
    "Territory = pd.read_excel('../data/SalesTerritory.xls')\n",
    "Customers = pd.read_excel('../data/Customers.xls')\n",
    "Orders = pd.read_excel('../data/ItemsOrdered.xls')"
   ]
  },
  {
   "cell_type": "code",
   "execution_count": null,
   "id": "3b3faa66-24e8-433d-89bb-a11e0565154c",
   "metadata": {},
   "outputs": [],
   "source": [
    "Employees.head(3)"
   ]
  },
  {
   "cell_type": "code",
   "execution_count": null,
   "id": "d98ee868-88a3-41f0-8336-58422aab139b",
   "metadata": {},
   "outputs": [],
   "source": [
    "Territory.head(3)"
   ]
  },
  {
   "cell_type": "code",
   "execution_count": null,
   "id": "6ea27727-ec36-43fd-a74b-43620200da16",
   "metadata": {},
   "outputs": [],
   "source": [
    "Customers.head(3)"
   ]
  },
  {
   "cell_type": "code",
   "execution_count": null,
   "id": "0599601b-3fb5-456a-ab22-21fd9891dc64",
   "metadata": {},
   "outputs": [],
   "source": [
    "Orders.head(3)"
   ]
  },
  {
   "cell_type": "code",
   "execution_count": null,
   "id": "5bde7da6-4e2b-4942-b82d-248f3dd578f1",
   "metadata": {},
   "outputs": [],
   "source": []
  },
  {
   "cell_type": "markdown",
   "id": "2b2813ff-48fd-4d53-bdd7-d065e9c09b56",
   "metadata": {},
   "source": [
    "## Filtering"
   ]
  },
  {
   "cell_type": "markdown",
   "id": "68eebfc3-b4cc-456c-b6ee-25af5458bc4e",
   "metadata": {},
   "source": [
    "### Provide a list of employees that are married\n",
    "\n",
    "SQL logic\n",
    "```sql\n",
    "SELECT \n",
    "  e.EmployeeID\n",
    "  , e.FirstName\n",
    "  , e.LastName \n",
    "FROM dbo.Employees AS e\n",
    "WHERE e.MaritalStatus = 'M';\n",
    "```"
   ]
  },
  {
   "cell_type": "code",
   "execution_count": null,
   "id": "4ae7028c-3a27-4f75-b601-3f48f430cdb0",
   "metadata": {},
   "outputs": [],
   "source": [
    "Employees.MaritalStatus.unique()"
   ]
  },
  {
   "cell_type": "code",
   "execution_count": null,
   "id": "0bb4e36c-4289-4b20-af01-fd782157bc69",
   "metadata": {},
   "outputs": [],
   "source": [
    "## select by condition\n",
    "Employees.loc[Employees.MaritalStatus == 'M', ['EmployeeID', 'FirstName', 'LastName']].head(3)"
   ]
  },
  {
   "cell_type": "code",
   "execution_count": null,
   "id": "6c860d71-c32f-43ac-b03b-28347cd2681e",
   "metadata": {},
   "outputs": [],
   "source": [
    "Employees.loc[Employees.MaritalStatus == 'M', ['EmployeeID', 'FirstName', 'LastName']].shape"
   ]
  },
  {
   "cell_type": "code",
   "execution_count": null,
   "id": "718063af-37c8-486f-bf9c-298fadb6bb2b",
   "metadata": {},
   "outputs": [],
   "source": [
    "Employees.loc[Employees.MaritalStatus == 'S', ['EmployeeID', 'FirstName', 'LastName']].shape[0]"
   ]
  },
  {
   "cell_type": "markdown",
   "id": "318bf4a2-1b14-495a-a7d7-4fb56903c3f9",
   "metadata": {},
   "source": [
    "### Show me a list of employees that have a lastname that begins with \"R\"\n",
    "\n",
    "SQL logic\n",
    "```sql\n",
    "SELECT \n",
    "  e.EmployeeID\n",
    "  , e.FirstName\n",
    "  , e.LastName \n",
    "FROM dbo.Employees AS e\n",
    "WHERE e.LastName LIKE 'R%';\n",
    "```"
   ]
  },
  {
   "cell_type": "code",
   "execution_count": null,
   "id": "87a38322-e36d-40ea-8b52-2d5a4a4a670c",
   "metadata": {},
   "outputs": [],
   "source": [
    "'Robert'.startswith('R')"
   ]
  },
  {
   "cell_type": "code",
   "execution_count": null,
   "id": "ce8411b7-16b6-4516-b9be-2680ec9fce1b",
   "metadata": {},
   "outputs": [],
   "source": [
    "Employees.loc[Employees.LastName.str.startswith(\"R\"), ['EmployeeID', 'FirstName', 'LastName']].head(10)"
   ]
  },
  {
   "cell_type": "code",
   "execution_count": null,
   "id": "fc426b07-bd03-4939-995d-facde07cbaa9",
   "metadata": {},
   "outputs": [],
   "source": [
    "Employees.loc[Employees.LastName.str.startswith(\"R\"), ['EmployeeID', 'FirstName', 'LastName']].shape[0]"
   ]
  },
  {
   "cell_type": "code",
   "execution_count": null,
   "id": "4f21127d-13b5-4ce7-bbbd-ab5f0b848103",
   "metadata": {},
   "outputs": [],
   "source": [
    "Employees.loc[Employees.LastName.map(lambda x: str(x).startswith('R')), ['EmployeeID', 'FirstName', 'LastName']].shape[0]"
   ]
  },
  {
   "cell_type": "code",
   "execution_count": null,
   "id": "f518ea68-2538-4be2-9c95-73d22d08343c",
   "metadata": {},
   "outputs": [],
   "source": []
  },
  {
   "cell_type": "code",
   "execution_count": null,
   "id": "3ae24def-3765-43c7-87fb-fa6f89402c7b",
   "metadata": {},
   "outputs": [],
   "source": []
  },
  {
   "cell_type": "markdown",
   "id": "51f5f7c6-be9d-4107-b0ed-0e933b043ddf",
   "metadata": {},
   "source": [
    "### Show me a list of employees that have a lastname that ends with \"r\"\n",
    "\n",
    "SQL logic\n",
    "```sql\n",
    "SELECT \n",
    "  e.EmployeeID\n",
    "  , e.FirstName\n",
    "  , e.LastName \n",
    "FROM dbo.Employees AS e\n",
    "WHERE e.LastName LIKE '%r';\n",
    "```"
   ]
  },
  {
   "cell_type": "code",
   "execution_count": null,
   "id": "709aebe4-32d8-437b-bd24-456db3c7e195",
   "metadata": {},
   "outputs": [],
   "source": [
    "# 'Robert'.endswith('t')\n",
    "'Robert'.endswith('a')"
   ]
  },
  {
   "cell_type": "code",
   "execution_count": null,
   "id": "44d8cc91-8ca8-4a28-9ed7-739193e24c83",
   "metadata": {},
   "outputs": [],
   "source": [
    "Employees.loc[Employees.LastName.map(lambda x: str(x).endswith('r')), ['EmployeeID', 'FirstName', 'LastName']].head(10)"
   ]
  },
  {
   "cell_type": "markdown",
   "id": "645d57b1-bde8-44ba-a828-66bf0df48d52",
   "metadata": {},
   "source": [
    "### Provide a list of employees that have a hyphenated lastname.\n",
    "\n",
    "SQL logic\n",
    "```sql\n",
    "SELECT \n",
    "  e.EmployeeID\n",
    "  , e.FirstName\n",
    "  , e.LastName \n",
    "FROM dbo.Employees AS e\n",
    "WHERE e.LastName LIKE '%-%';\n",
    "```"
   ]
  },
  {
   "cell_type": "code",
   "execution_count": null,
   "id": "89d94970-8b60-4fae-a75f-de7ac7b820ee",
   "metadata": {},
   "outputs": [],
   "source": [
    "'d' in 'abc'"
   ]
  },
  {
   "cell_type": "code",
   "execution_count": null,
   "id": "31f716f5-913d-4032-9d25-f54d49a754c5",
   "metadata": {},
   "outputs": [],
   "source": [
    "# Employees.loc[Employees.LastName.apply(lambda x: '-' in str(x)), \n",
    "#               ['EmployeeID', 'FirstName', 'LastName']].head(3)\n",
    "\n",
    "Employees.loc[Employees.LastName.apply(lambda x: '-' in str(x)), \n",
    "              ['EmployeeID', 'FirstName', 'LastName']].shape[0]\n",
    "\n",
    "# Employees.loc[Employees.LastName.str.contains('-'), \n",
    "#               ['EmployeeID', 'FirstName', 'LastName']].head(3)"
   ]
  },
  {
   "cell_type": "markdown",
   "id": "4b65daab-3bb0-4f7e-a875-2ed00f83c88e",
   "metadata": {},
   "source": [
    "### Provide a list of employees that are on salary and have more than 35 vacation hours left.\n",
    "\n",
    "SQL logic\n",
    "```sql\n",
    "SELECT \t\n",
    "  e.EmployeeID\n",
    "  , e.FirstName\n",
    "  , e.LastName\n",
    "  , e.VacationHours\n",
    "  , e.SalariedFlag\n",
    "FROM dbo.Employees AS e\n",
    "WHERE (e.SalariedFlag = 1) AND (e.VacationHours > 35);\n",
    "```"
   ]
  },
  {
   "cell_type": "code",
   "execution_count": null,
   "id": "9efbf957-f37b-4c74-bf7d-d7fcfab98411",
   "metadata": {},
   "outputs": [],
   "source": [
    "Employees.head(3)"
   ]
  },
  {
   "cell_type": "code",
   "execution_count": null,
   "id": "e36b5b0e-08ad-471c-bbfe-3fdf13c62dd6",
   "metadata": {},
   "outputs": [],
   "source": [
    "Employees.columns"
   ]
  },
  {
   "cell_type": "code",
   "execution_count": null,
   "id": "f7c0a5bb-f6fe-49f3-84f0-09ed8f6650d0",
   "metadata": {},
   "outputs": [],
   "source": []
  },
  {
   "cell_type": "code",
   "execution_count": null,
   "id": "65b3e6d2-f4b6-49eb-bc3a-b631e36f3171",
   "metadata": {},
   "outputs": [],
   "source": [
    "Employees.SalariedFlag.unique()"
   ]
  },
  {
   "cell_type": "code",
   "execution_count": null,
   "id": "8f2241f9-a287-40a1-8f30-5378ceb387b1",
   "metadata": {},
   "outputs": [],
   "source": [
    "Employees.loc[(Employees.SalariedFlag==1)&(Employees.VacationHours>35), \n",
    "              ['EmployeeID', 'FirstName', 'LastName','VacationHours','SalariedFlag']].head(3)"
   ]
  },
  {
   "cell_type": "code",
   "execution_count": null,
   "id": "4ba956c8-cf7b-4edb-adc5-40681ac60284",
   "metadata": {},
   "outputs": [],
   "source": [
    "Employees.loc[(Employees.SalariedFlag==1)&(Employees.VacationHours>35), \n",
    "              ['EmployeeID', 'FirstName', 'LastName','VacationHours','SalariedFlag']].shape"
   ]
  },
  {
   "cell_type": "code",
   "execution_count": null,
   "id": "77c1d4a6-a830-48a7-b8c8-baa01769edc3",
   "metadata": {},
   "outputs": [],
   "source": [
    "Employees.loc[(Employees.SalariedFlag==1)&(Employees.VacationHours>35), \n",
    "              ['EmployeeID', 'FirstName', 'LastName','VacationHours','SalariedFlag']].EmployeeID.nunique()\n",
    "\n",
    "# list(Employees.loc[(Employees.SalariedFlag==1)&(Employees.VacationHours>35), \n",
    "#               ['EmployeeID', 'FirstName', 'LastName','VacationHours','SalariedFlag']].EmployeeID)"
   ]
  },
  {
   "cell_type": "markdown",
   "id": "769b25a8-92c8-449d-b7c9-6d777aa315a5",
   "metadata": {},
   "source": [
    "### Show the same as above but limit it to American employees. [practice]\n",
    "\n",
    "SQL logic\n",
    "```sql\n",
    "SELECT DISTINCT CountryName FROM dbo.Employees;\n",
    "\n",
    "SELECT \t\n",
    "  e.EmployeeID \n",
    "  , e.FirstName\n",
    "  , e.LastName\n",
    "  , e.VacationHours\n",
    "  , e.SalariedFlag\n",
    "  , e.CountryName\n",
    "FROM dbo.Employees AS e\n",
    "WHERE \n",
    "  e.SalariedFlag = 1\n",
    "  AND e.VacationHours > 35\n",
    "  AND e.CountryName = 'United States';\n",
    "```"
   ]
  },
  {
   "cell_type": "code",
   "execution_count": null,
   "id": "caaa575b-55bf-4efb-bdc0-da2c18bd2cb9",
   "metadata": {},
   "outputs": [],
   "source": [
    "Employees.CountryName.unique()"
   ]
  },
  {
   "cell_type": "code",
   "execution_count": null,
   "id": "22bfc5f6-2092-4b81-91fc-cab5e7189b27",
   "metadata": {},
   "outputs": [],
   "source": []
  },
  {
   "cell_type": "markdown",
   "id": "3faee3ef-2402-4955-97a0-8f1e06f9b61c",
   "metadata": {},
   "source": [
    "### Change the logic to include anyone who meets any of the 3 conditions (i.e., people who are either married, live in Washington state, or have more than 35 vacation hours left)\n",
    "\n",
    "SQL logic\n",
    "```sql\n",
    "SELECT \t\n",
    "  e.EmployeeID\n",
    "  ,e.FirstName\n",
    "  ,e.LastName\n",
    "  ,e.MaritalStatus\n",
    "  ,e.VacationHours\n",
    "  ,e.SalariedFlag\n",
    "  ,e.StateProvinceName\n",
    "  ,e.CountryName\n",
    "FROM dbo.Employees AS e\n",
    "WHERE \n",
    "  e.MaritalStatus = 'M' \n",
    "  OR e.VacationHours > 35 \n",
    "  OR e.StateProvinceName = 'Washington'\n",
    "\t;\n",
    "```"
   ]
  },
  {
   "cell_type": "code",
   "execution_count": null,
   "id": "388009d7-1ad1-4447-927f-8cd2f053f56f",
   "metadata": {},
   "outputs": [],
   "source": [
    "Employees.loc[(Employees.MaritalStatus=='M')|(Employees.VacationHours>35)|(Employees.StateProvinceName=='Washington'), \n",
    "              ['EmployeeID', 'FirstName', 'LastName','MaritalStatus','VacationHours','SalariedFlag','StateProvinceName','CountryName']].head(10)"
   ]
  },
  {
   "cell_type": "markdown",
   "id": "4cfd4f86-3aad-4709-b501-12568b1844dd",
   "metadata": {},
   "source": [
    "## Joins\n",
    "![](../pics/joins.jpg)"
   ]
  },
  {
   "cell_type": "markdown",
   "id": "8ee99904-f9ed-4073-9e19-47f87acd3fa9",
   "metadata": {},
   "source": [
    "### Show me all the employees, and if any are salespeople then show me the details about their sales territory\n",
    "```sql\n",
    "SELECT e.EmployeeID ,e.FirstName + ' ' + e.LastName AS EmployeeName ,st.* \n",
    "FROM dbo.Employees AS e \n",
    "INNER JOIN dbo.SalesTerritory AS st ON e.TerritoryID = st.TerritoryID\n",
    "```"
   ]
  },
  {
   "cell_type": "code",
   "execution_count": null,
   "id": "de747ed4-6bf9-492e-87b2-1aef50818e10",
   "metadata": {},
   "outputs": [],
   "source": [
    "Territory.shape"
   ]
  },
  {
   "cell_type": "code",
   "execution_count": null,
   "id": "90a3de03-8a41-48ed-927d-6452f1f621f3",
   "metadata": {},
   "outputs": [],
   "source": [
    "Territory"
   ]
  },
  {
   "cell_type": "code",
   "execution_count": null,
   "id": "3c05adf4-9de3-41c7-b1f1-b0bf77409512",
   "metadata": {},
   "outputs": [],
   "source": [
    "Employees.columns"
   ]
  },
  {
   "cell_type": "code",
   "execution_count": null,
   "id": "d26b1198-7ab5-46f1-9a50-2130bebab3c9",
   "metadata": {},
   "outputs": [],
   "source": [
    "Employees.head(10)"
   ]
  },
  {
   "cell_type": "code",
   "execution_count": null,
   "id": "096d5aac-acbe-4bc7-928b-bdb526d02574",
   "metadata": {},
   "outputs": [],
   "source": [
    "df = pd.merge(\n",
    "    Employees.loc[:,['TerritoryID','EmployeeID','FirstName','LastName']],\n",
    "    Territory,\n",
    "    on = 'TerritoryID',\n",
    "    how = 'inner'\n",
    ")\n",
    "df.head(3)"
   ]
  },
  {
   "cell_type": "code",
   "execution_count": null,
   "id": "66c27fdf-c5bc-4baa-ad28-0a567aa27df8",
   "metadata": {},
   "outputs": [],
   "source": [
    "df.loc[(df.FirstName=='Ben')&(df.LastName=='Miller'),:]"
   ]
  },
  {
   "cell_type": "code",
   "execution_count": null,
   "id": "d418a5bf-7027-472f-af98-2ac414392894",
   "metadata": {},
   "outputs": [],
   "source": [
    "df.shape"
   ]
  },
  {
   "cell_type": "code",
   "execution_count": null,
   "id": "36d663b7-9b9b-45a7-815d-5c80427e8620",
   "metadata": {},
   "outputs": [],
   "source": [
    "df = pd.merge(\n",
    "    Employees.loc[:,['TerritoryID','EmployeeID','FirstName','LastName']],\n",
    "    Territory,\n",
    "    on = 'TerritoryID',\n",
    "    how = 'left'\n",
    ")\n",
    "df.head(3)"
   ]
  },
  {
   "cell_type": "code",
   "execution_count": null,
   "id": "d65cde38-8d2c-4f33-b09d-41186cfe6284",
   "metadata": {},
   "outputs": [],
   "source": [
    "df.shape"
   ]
  },
  {
   "cell_type": "code",
   "execution_count": null,
   "id": "2de81d02-8ffa-49be-bb3d-8f1ac5182eb9",
   "metadata": {},
   "outputs": [],
   "source": [
    "Employees.shape"
   ]
  },
  {
   "cell_type": "code",
   "execution_count": null,
   "id": "724c73bd-864b-47d6-84c0-6d3ab7df26f3",
   "metadata": {},
   "outputs": [],
   "source": [
    "df['EmployeeName'] = [\n",
    "    first + ' ' + last\n",
    "    for first,last in zip(df.FirstName, df.LastName)\n",
    "]"
   ]
  },
  {
   "cell_type": "code",
   "execution_count": null,
   "id": "8e765552-6752-45b6-b7bd-de4c64bec544",
   "metadata": {},
   "outputs": [],
   "source": [
    "df.head(3)"
   ]
  },
  {
   "cell_type": "markdown",
   "id": "7d340314-8c25-4287-b1b0-74d341fe7ab4",
   "metadata": {},
   "source": [
    "### For those sales territories, also show what customers fall under them\n",
    "```sql\n",
    "SELECT * \n",
    "FROM dbo.SalesTerritory AS st \n",
    "LEFT OUTER JOIN dbo.Customers AS c ON c.SalesTerritoryID = st.TerritoryID ;\n",
    "```"
   ]
  },
  {
   "cell_type": "code",
   "execution_count": null,
   "id": "7adb1757-96e7-4261-b68d-e7079ea431de",
   "metadata": {},
   "outputs": [],
   "source": [
    "Customers.head(3)"
   ]
  },
  {
   "cell_type": "code",
   "execution_count": null,
   "id": "8aaf2057-1a4e-454a-bb99-6f65a4fb5c4f",
   "metadata": {},
   "outputs": [],
   "source": [
    "Territory.head(3)"
   ]
  },
  {
   "cell_type": "code",
   "execution_count": null,
   "id": "45cad95e-0c83-4360-93d0-f18c8bef232f",
   "metadata": {},
   "outputs": [],
   "source": [
    "df = pd.merge(\n",
    "    Territory,\n",
    "    Customers,\n",
    "#     on = 'TerritoryID',\n",
    "    left_on='TerritoryID',\n",
    "    right_on='SalesTerritoryID',\n",
    "    how = 'left'\n",
    ")\n",
    "df.head(3)"
   ]
  },
  {
   "cell_type": "code",
   "execution_count": null,
   "id": "854a271c-d976-4858-be87-8ee1a1c6036e",
   "metadata": {},
   "outputs": [],
   "source": [
    "df = pd.merge(\n",
    "    Territory,\n",
    "    Customers.rename(columns={'SalesTerritoryID':'TerritoryID'}),\n",
    "    on = 'TerritoryID',\n",
    "    how = 'left'\n",
    ")\n",
    "df.head(3)"
   ]
  },
  {
   "cell_type": "markdown",
   "id": "c6ee959b-d787-45db-be9d-42164e2db88a",
   "metadata": {},
   "source": [
    "Are there any sales territories that don't have any customers associated?"
   ]
  },
  {
   "cell_type": "code",
   "execution_count": null,
   "id": "07a62640-3a4c-48e1-ada5-6a677ef1db2b",
   "metadata": {},
   "outputs": [],
   "source": [
    "# df.loc[condition, column_list]\n",
    "df[df.CustomerID.isna()]"
   ]
  },
  {
   "cell_type": "markdown",
   "id": "238ecdac-7363-4b37-a8f1-0dc5aae5583f",
   "metadata": {},
   "source": [
    "## Grouping\n",
    "\n",
    "Reading Materials: \n",
    "* (official doc): https://pandas.pydata.org/pandas-docs/stable/reference/api/pandas.DataFrame.agg.html\n",
    "* (summary) https://www.shanelynn.ie/summarising-aggregation-and-grouping-data-in-python-pandas/"
   ]
  },
  {
   "cell_type": "markdown",
   "id": "319bc4cb-cfda-494f-83c5-6e73ce4058e3",
   "metadata": {},
   "source": [
    "### What is the earliest birthdate for all employees?\n",
    "\n",
    "SQL logic\n",
    "```sql\n",
    "SELECT MIN(e.BirthDate) FROM dbo.Employees AS e;\n",
    "```"
   ]
  },
  {
   "cell_type": "code",
   "execution_count": null,
   "id": "ef2406db-ef06-40e3-b220-7b3d0c2cf608",
   "metadata": {},
   "outputs": [],
   "source": [
    "Employees.head(3)"
   ]
  },
  {
   "cell_type": "code",
   "execution_count": null,
   "id": "e43a449d-d2ad-4d12-9045-07de55789ed6",
   "metadata": {},
   "outputs": [],
   "source": [
    "Employees.describe()"
   ]
  },
  {
   "cell_type": "code",
   "execution_count": null,
   "id": "254a53ac-eb34-4fdb-9a75-795590f05bda",
   "metadata": {},
   "outputs": [],
   "source": [
    "Employees.dtypes"
   ]
  },
  {
   "cell_type": "code",
   "execution_count": null,
   "id": "77ce8afb-622b-44a9-924d-35633b659f80",
   "metadata": {},
   "outputs": [],
   "source": [
    "type(Employees.dtypes)"
   ]
  },
  {
   "cell_type": "code",
   "execution_count": null,
   "id": "8c9b4961-4428-428e-a14c-a2331fca9cfc",
   "metadata": {},
   "outputs": [],
   "source": [
    "Employees.loc[:,['BirthDate']].head(3)"
   ]
  },
  {
   "cell_type": "code",
   "execution_count": null,
   "id": "557e0f31-c863-4b0d-91ef-46861e053672",
   "metadata": {},
   "outputs": [],
   "source": [
    "# Employees.dtypes.reset_index()\n",
    "# Employees.dtypes['BirthDate']\n",
    "str(Employees.dtypes['BirthDate'])"
   ]
  },
  {
   "cell_type": "code",
   "execution_count": null,
   "id": "3d83970e-dba6-424d-917e-049149697a47",
   "metadata": {},
   "outputs": [],
   "source": [
    "Employees.BirthDate.dtypes"
   ]
  },
  {
   "cell_type": "code",
   "execution_count": null,
   "id": "61d96b5e-45f9-4391-84b5-08e939672af9",
   "metadata": {},
   "outputs": [],
   "source": [
    "Employees.BirthDate.min()"
   ]
  },
  {
   "cell_type": "code",
   "execution_count": null,
   "id": "05823566-e813-423a-be49-de81da61259b",
   "metadata": {},
   "outputs": [],
   "source": [
    "Employees.BirthDate.max()"
   ]
  },
  {
   "cell_type": "code",
   "execution_count": null,
   "id": "ad0ce595-ef64-4dad-9ed2-ef8725257e25",
   "metadata": {},
   "outputs": [],
   "source": [
    "Employees.BirthDate.nunique()"
   ]
  },
  {
   "cell_type": "markdown",
   "id": "8ca206cc-f514-41ea-a4c1-0d63b97c6835",
   "metadata": {},
   "source": [
    "### Add to the above, the most recent birthdate for all employees\n",
    "\n",
    "SQL logic\n",
    "```sql\n",
    "SELECT \n",
    "  MIN(e.BirthDate) AS 'Earliest Birthday'\n",
    "  , MAX(e.BirthDate) AS 'Most Reecent Birthday'\n",
    "FROM dbo.Employees AS e;\n",
    "```"
   ]
  },
  {
   "cell_type": "code",
   "execution_count": null,
   "id": "67a8d0f4-d6ef-49be-8611-d63047b001ca",
   "metadata": {},
   "outputs": [],
   "source": [
    "x = [4,5,1,2,3]\n",
    "min(x), max(x)"
   ]
  },
  {
   "cell_type": "markdown",
   "id": "b46adfae-1e92-4a61-9feb-4c2c662e3294",
   "metadata": {},
   "source": [
    "* Lexicographic order [[wikipedia](https://en.wikipedia.org/wiki/Lexicographic_order)]"
   ]
  },
  {
   "cell_type": "code",
   "execution_count": null,
   "id": "b99b7440-7346-41d6-a96e-04af5154b535",
   "metadata": {},
   "outputs": [],
   "source": [
    "'2ab' < '1ab'"
   ]
  },
  {
   "cell_type": "code",
   "execution_count": null,
   "id": "17c3dea8-d6d2-4a67-9811-ba59f6075e28",
   "metadata": {},
   "outputs": [],
   "source": [
    "# 'abcdefg'\n",
    "\n",
    "'a' > 'b'"
   ]
  },
  {
   "cell_type": "code",
   "execution_count": null,
   "id": "c29dcae6-8f14-4fb1-976f-b62495f1455a",
   "metadata": {},
   "outputs": [],
   "source": [
    "Employees.agg({'BirthDate':['min','max']}).T\n",
    "\n",
    "# Employees.agg({'BirthDate':['min','max']})"
   ]
  },
  {
   "cell_type": "code",
   "execution_count": null,
   "id": "746bd194-9a49-409c-b52f-1b47f4f31272",
   "metadata": {},
   "outputs": [],
   "source": [
    "Employees.agg({'BirthDate':[min,max]}).T"
   ]
  },
  {
   "cell_type": "code",
   "execution_count": null,
   "id": "32e2b937-153a-4ab8-a527-1177c57ac8fb",
   "metadata": {},
   "outputs": [],
   "source": [
    "Employees.agg({'BirthDate':[min,max]}).T.reset_index(drop=True)\n",
    "# Employees.agg({'BirthDate':['min','max']}).T.reset_index(drop=False)"
   ]
  },
  {
   "cell_type": "markdown",
   "id": "c2a25333-743b-4157-9e9b-62900c03da6d",
   "metadata": {},
   "source": [
    "### Show the above results broken down by gender\n",
    "\n",
    "SQL logic\n",
    "```sql\n",
    "SELECT \n",
    "  e.Gender\n",
    "  , MIN(e.BirthDate) AS 'Earliest Birthday'\n",
    "  , MAX(e.BirthDate) AS 'Most Reecent Birthday'\n",
    "FROM dbo.Employees AS e\n",
    "GROUP BY e.Gender\n",
    ";\n",
    "```"
   ]
  },
  {
   "cell_type": "code",
   "execution_count": null,
   "id": "be57135b-6e3b-4b73-aec1-ee4cd1cebca2",
   "metadata": {},
   "outputs": [],
   "source": [
    "Employees.groupby('Gender')['BirthDate'].min().reset_index()"
   ]
  },
  {
   "cell_type": "code",
   "execution_count": null,
   "id": "001517e9-90f3-45e0-8522-d6c2f03eb682",
   "metadata": {},
   "outputs": [],
   "source": [
    "Employees.groupby('Gender').agg({'BirthDate':[min,max]})"
   ]
  },
  {
   "cell_type": "code",
   "execution_count": null,
   "id": "a7d58209-5ab9-4b4d-bf37-408e49c4a572",
   "metadata": {},
   "outputs": [],
   "source": [
    "Employees.groupby('Gender').agg(\n",
    "    min_bday=('BirthDate',min),\n",
    "    max_bday=('BirthDate',max)\n",
    ").reset_index()"
   ]
  },
  {
   "cell_type": "markdown",
   "id": "739f22eb-0a4e-4926-9405-c45efa22483b",
   "metadata": {},
   "source": [
    "### Show the above results broken down by gender, and salaried/hourly\n",
    "\n",
    "SQL logic\n",
    "```sql\n",
    "SELECT \n",
    "  e.Gender\n",
    "  , e.SalariedFlag\n",
    "  , MIN(e.BirthDate) AS 'Earliest Birthday'\n",
    "  , MAX(e.BirthDate) AS 'Most Reecent Birthday'\n",
    "FROM dbo.Employees AS e\n",
    "GROUP BY e.Gender, e.SalariedFlag\n",
    ";\n",
    "```"
   ]
  },
  {
   "cell_type": "code",
   "execution_count": null,
   "id": "5664e16b-249a-4bc0-a386-26693dd81b68",
   "metadata": {},
   "outputs": [],
   "source": [
    "Employees.groupby(['Gender','SalariedFlag']).agg(\n",
    "    min_bday=('BirthDate',min),\n",
    "    max_bday=('BirthDate',max)\n",
    ").reset_index()"
   ]
  },
  {
   "cell_type": "markdown",
   "id": "88a6ac4a-be2f-48da-b5ff-fb78e139fc29",
   "metadata": {},
   "source": [
    "### What are the average vacation hours for all employees?\n",
    "\n",
    "SQL logic\n",
    "```sql\n",
    "SELECT AVG(e.VacationHours)\n",
    "FROM dbo.Employees AS e\t\n",
    ";\n",
    "```"
   ]
  },
  {
   "cell_type": "code",
   "execution_count": null,
   "id": "2309c030-c4a1-41a6-a670-49d29f797053",
   "metadata": {},
   "outputs": [],
   "source": [
    "Employees.VacationHours.mean()"
   ]
  },
  {
   "cell_type": "markdown",
   "id": "d4a9c426-e72f-4e91-aa3e-6353b1087b09",
   "metadata": {},
   "source": [
    "### Show the above results broken down and ordered by job title¶\n",
    "\n",
    "SQL logic\n",
    "```sql\n",
    "SELECT \n",
    "  e.JobTitle\n",
    "  , AVG(e.VacationHours) AS 'Average Vacation'\n",
    "  , MIN(e.VacationHours) AS 'Minimum Vacation'\n",
    "FROM dbo.Employees AS e\n",
    "GROUP BY e.JobTitle\n",
    ";\n",
    "```"
   ]
  },
  {
   "cell_type": "code",
   "execution_count": null,
   "id": "d226f0bd-ac6a-4cab-a4b7-cb826306732a",
   "metadata": {},
   "outputs": [],
   "source": [
    "Employees.groupby('JobTitle')['VacationHours'].min().reset_index().head(3)"
   ]
  },
  {
   "cell_type": "code",
   "execution_count": null,
   "id": "e3d76cb6-849d-4f52-96e5-8cb135921cc9",
   "metadata": {},
   "outputs": [],
   "source": [
    "Employees.groupby('JobTitle')['VacationHours'].mean().reset_index().head(3)"
   ]
  },
  {
   "cell_type": "code",
   "execution_count": null,
   "id": "02a73c8e-ddc6-4edf-9704-c619aa0e1b6e",
   "metadata": {},
   "outputs": [],
   "source": [
    "Employees.groupby('JobTitle')['VacationHours'].apply(lambda x: sum(x)/len(x)).reset_index().head(3)"
   ]
  },
  {
   "cell_type": "code",
   "execution_count": null,
   "id": "2b867cd2-fa06-469f-b91b-364ea09335ee",
   "metadata": {
    "scrolled": true
   },
   "outputs": [],
   "source": [
    "Employees.groupby('JobTitle').agg(\n",
    "    avg_pto_left=('VacationHours',lambda x: sum(x)/len(x)),\n",
    "    min_pto_left=('VacationHours',min)\n",
    ").reset_index()"
   ]
  },
  {
   "cell_type": "code",
   "execution_count": null,
   "id": "65b021b8-5bc2-4e98-94f5-343b6adca42a",
   "metadata": {},
   "outputs": [],
   "source": []
  },
  {
   "cell_type": "code",
   "execution_count": null,
   "id": "d02540ce-d4ea-4170-b02c-6c64d7c6e5a5",
   "metadata": {},
   "outputs": [],
   "source": []
  },
  {
   "cell_type": "code",
   "execution_count": null,
   "id": "ec04cd1a-d297-4843-b948-1a58ae94e5cf",
   "metadata": {},
   "outputs": [],
   "source": []
  },
  {
   "cell_type": "markdown",
   "id": "759b09a7-7737-4653-9911-0ae552d9781f",
   "metadata": {},
   "source": [
    "# The Python Statistics Landscape\n",
    "\n",
    "There are many Python statistics libraries for you to work with.\n",
    "\n",
    "* **Foundation Libraries**\n",
    "    * `statistics`: built-in Python library for descriptive statistics (link: https://docs.python.org/3/library/statistics.html)\n",
    "    * `numpy`: numerical computing, numpy arrays, covered in lecture 03\n",
    "    * `scipy`: scientific computing based on numpy, the `scipy.stats` module (link: https://docs.scipy.org/doc/scipy/reference/stats.html) covers a large number of probability distributions and statistical functions (link: https://www.scipy.org/)\n",
    "    \n",
    "* **Data Science Libraries**\n",
    "    * `pandas`: 1D and 2D labeled data manipulations and computation, covered in lecture 04\n",
    "    * `statsmodels`: a Python module that provides classes and functions for the estimation of many different statistical models, as well as for conducting statistical tests, and statistical data exploration (link: https://www.statsmodels.org/stable/index.html)\n",
    "    * `matplotlib`: graphs and visualization (link: https://matplotlib.org/)"
   ]
  },
  {
   "cell_type": "markdown",
   "id": "5e86f7dd-fc57-4917-93d4-f78635fde08a",
   "metadata": {},
   "source": [
    "# Descriptive Statistical Analysis\n",
    "\n",
    "Descriptive statistics is about describing and summarizing data. It uses two main approaches:\n",
    "\n",
    "* The quantitative approach describes and summarizes data numerically.\n",
    "* The visual approach illustrates data with charts, plots, histograms, and other graphs.\n",
    "\n",
    "You can apply descriptive statistics to one or many datasets or variables. When you describe and summarize a single variable, you’re performing univariate analysis. When you search for statistical relationships among a pair of variables, you’re doing a bivariate analysis. Similarly, a multivariate analysis is concerned with multiple variables at once.\n"
   ]
  },
  {
   "cell_type": "markdown",
   "id": "879dc9df-8b7b-4eb7-a95c-8dd9b3e395c5",
   "metadata": {},
   "source": [
    "**[Case Study]**\n",
    "\n",
    "**Atlanta Police Department Crime Data** ![APD Logo](https://atlantapd.galls.com/photos/partners/atlantapd/logo.jpg)\n",
    "\n",
    "\n",
    "The Atlanta Police Department provides raw crime data at http://www.atlantapd.org/i-want-to/crime-data-downloads\n"
   ]
  },
  {
   "cell_type": "code",
   "execution_count": null,
   "id": "97fa7b22-4da8-46ec-843c-125ca1ed671f",
   "metadata": {},
   "outputs": [],
   "source": [
    "import pandas as pd\n",
    "import matplotlib.pyplot as plt"
   ]
  },
  {
   "cell_type": "markdown",
   "id": "19e98e2f-bdcf-4317-b1d8-d1d81298dc5e",
   "metadata": {},
   "source": [
    "## Load the 2009-2019 crime data"
   ]
  },
  {
   "cell_type": "code",
   "execution_count": null,
   "id": "f71e32a5-9e16-42c3-84c2-0957d4cc5a74",
   "metadata": {},
   "outputs": [],
   "source": [
    "df = pd.read_csv('../data/COBRA-2009-2019.csv',sep=',',header=0)\n",
    "df.head(3)"
   ]
  },
  {
   "cell_type": "code",
   "execution_count": null,
   "id": "4e8422b5-9b01-4a56-af1f-f5c6f5fede8f",
   "metadata": {},
   "outputs": [],
   "source": [
    "df.shape"
   ]
  },
  {
   "cell_type": "code",
   "execution_count": null,
   "id": "314beeaf-c731-4e4f-850f-697146294442",
   "metadata": {},
   "outputs": [],
   "source": [
    "df.info()"
   ]
  },
  {
   "cell_type": "markdown",
   "id": "b3c10acf-8888-41a2-b937-c292096e711d",
   "metadata": {},
   "source": [
    "## Quantitative Analysis"
   ]
  },
  {
   "cell_type": "code",
   "execution_count": null,
   "id": "2b87125c-e551-44b1-b67b-ebbfad7d8d79",
   "metadata": {},
   "outputs": [],
   "source": [
    "df['rpt_yr'] = df['Report Date'].map(lambda x: x[:4])\n",
    "\n",
    "df.head(3)"
   ]
  },
  {
   "cell_type": "code",
   "execution_count": null,
   "id": "55a4662d-fd2b-4c49-aea5-a7abc42db3d3",
   "metadata": {},
   "outputs": [],
   "source": [
    "## number of reports every year\n",
    "# df['rpt_yr'] = df['Report Date'].map(lambda x: x[:4])\n",
    "\n",
    "num_rpt_by_yr = df.groupby('rpt_yr').agg(\n",
    "    num_row=('Report Number',len),\n",
    "    num_rpt=('Report Number',lambda x: len(set(x)))\n",
    ").reset_index()\n",
    "num_rpt_by_yr"
   ]
  },
  {
   "cell_type": "code",
   "execution_count": null,
   "id": "16bce962-7782-4443-a386-1615b1351975",
   "metadata": {},
   "outputs": [],
   "source": [
    "df.groupby('rpt_yr')['Report Number'].nunique().reset_index()"
   ]
  },
  {
   "cell_type": "code",
   "execution_count": null,
   "id": "930c5b78-2c16-4996-842f-1dda80341b4c",
   "metadata": {},
   "outputs": [],
   "source": [
    "## number of cases per shift in 2019\n",
    "num_rpt_by_shift = df[df.rpt_yr=='2019'].groupby('Shift Occurence').agg(\n",
    "    num_rpt=('Report Number',lambda x: len(set(x)))\n",
    ").reset_index()\n",
    "num_rpt_by_shift"
   ]
  },
  {
   "cell_type": "code",
   "execution_count": null,
   "id": "32436974-b87f-440e-9537-f67fd0d4a8a2",
   "metadata": {},
   "outputs": [],
   "source": [
    "## number of cases per shift in the past 3 years\n",
    "num_rpt_by_yr_shift = df[df.rpt_yr>='2017'].groupby(['rpt_yr','Shift Occurence']).agg(\n",
    "    num_rpt=('Report Number',lambda x: len(set(x)))\n",
    ").reset_index()\n",
    "# num_rpt_by_yr_shift\n",
    "num_rpt_by_yr_shift.sort_values(by=['Shift Occurence','rpt_yr'])"
   ]
  },
  {
   "cell_type": "code",
   "execution_count": null,
   "id": "7808e4ff-bfb0-4830-9c94-4fa018175615",
   "metadata": {},
   "outputs": [],
   "source": [
    "## % of cases per shift in the past 3 years\n",
    "num_rpt_by_yr_shift2 = pd.merge(\n",
    "    num_rpt_by_yr_shift,\n",
    "    num_rpt_by_yr.loc[:,['rpt_yr','num_rpt']].copy().rename(columns={'num_rpt':'annual_total'}),\n",
    "    on='rpt_yr'\n",
    ")\n",
    "num_rpt_by_yr_shift2.sort_values(by=['Shift Occurence','rpt_yr'])"
   ]
  },
  {
   "cell_type": "code",
   "execution_count": null,
   "id": "03758b1e-32bc-40f3-8145-e78e62c37d07",
   "metadata": {},
   "outputs": [],
   "source": [
    "num_rpt_by_yr_shift2['percent'] = [\n",
    "    round(subtotal/total,2)\n",
    "    for subtotal,total in zip(num_rpt_by_yr_shift2.num_rpt,num_rpt_by_yr_shift2.annual_total)\n",
    "]\n",
    "num_rpt_by_yr_shift2.sort_values(by=['Shift Occurence','rpt_yr'])"
   ]
  },
  {
   "cell_type": "markdown",
   "id": "956ce05d-ac56-4cfc-98f6-d66f426004e9",
   "metadata": {},
   "source": [
    "**Can you do better??**"
   ]
  },
  {
   "cell_type": "markdown",
   "id": "a061d987-9b9c-4183-8951-ea29d0807eb2",
   "metadata": {},
   "source": [
    "## Visual Analysis"
   ]
  },
  {
   "cell_type": "markdown",
   "id": "b8520dff-9e33-43e9-9b77-f4976902cf2a",
   "metadata": {},
   "source": [
    "### Visualize the YOY change of % by shift with bar chart"
   ]
  },
  {
   "cell_type": "code",
   "execution_count": null,
   "id": "275bd5b5-a190-40a9-b2aa-20e8c76e00fb",
   "metadata": {},
   "outputs": [],
   "source": [
    "num_rpt_by_yr_shift2.rpt_yr = num_rpt_by_yr_shift2.rpt_yr.astype(int)\n",
    "dw = num_rpt_by_yr_shift2[num_rpt_by_yr_shift2['Shift Occurence']=='Day Watch']\n",
    "ew = num_rpt_by_yr_shift2[num_rpt_by_yr_shift2['Shift Occurence']=='Evening Watch']\n",
    "mw = num_rpt_by_yr_shift2[num_rpt_by_yr_shift2['Shift Occurence']=='Morning Watch']\n",
    "unk = num_rpt_by_yr_shift2[num_rpt_by_yr_shift2['Shift Occurence']=='Unknown']\n",
    "\n",
    "plt.plot(dw.rpt_yr, dw.percent, '-o', label='day watch')\n",
    "plt.plot(ew.rpt_yr, ew.percent, '-o', label='evening watch')\n",
    "plt.plot(mw.rpt_yr, mw.percent, '-o', label='morning watch')\n",
    "plt.plot(unk.rpt_yr, unk.percent, '-o', label='unknown')\n",
    "\n",
    "plt.xticks(ticks=[2017,2018,2019])\n",
    "plt.legend()\n",
    "plt.show()"
   ]
  },
  {
   "cell_type": "code",
   "execution_count": null,
   "id": "3f0638cb-3ce2-4323-bc44-fd7427d5a2b2",
   "metadata": {},
   "outputs": [],
   "source": []
  }
 ],
 "metadata": {
  "kernelspec": {
   "display_name": "Python 3 (ipykernel)",
   "language": "python",
   "name": "python3"
  },
  "language_info": {
   "codemirror_mode": {
    "name": "ipython",
    "version": 3
   },
   "file_extension": ".py",
   "mimetype": "text/x-python",
   "name": "python",
   "nbconvert_exporter": "python",
   "pygments_lexer": "ipython3",
   "version": "3.10.8"
  }
 },
 "nbformat": 4,
 "nbformat_minor": 5
}
