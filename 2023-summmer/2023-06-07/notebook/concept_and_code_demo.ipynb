{
 "cells": [
  {
   "cell_type": "markdown",
   "id": "88576fd4-fe3e-42f7-8341-f0e7030f8065",
   "metadata": {},
   "source": [
    "# Today's Coding Topics\n",
    "[![Open In Colab](https://colab.research.google.com/assets/colab-badge.svg)](https://colab.research.google.com/github/xiangshiyin/data-programming-with-python/blob/main/2023-summmer/2023-06-07/notebook/concept_and_code_demo.ipynb)\n",
    "\n",
    "- Recap of previous lecture\n",
    "- Non-primitive data types in Python\n",
    "- Control statements (conditions and loops)\n",
    "- Functions\n"
   ]
  },
  {
   "cell_type": "markdown",
   "id": "8ee6cba1-87f6-4937-bb71-967d0b66b4fc",
   "metadata": {},
   "source": [
    "# Recap of previous lecture"
   ]
  },
  {
   "cell_type": "markdown",
   "id": "c5a29d36-1915-44d2-aa5b-9500d8ed2d1b",
   "metadata": {},
   "source": [
    "## `Hello World` and primitive data types"
   ]
  },
  {
   "cell_type": "code",
   "execution_count": null,
   "id": "de49041d-38f6-475b-a10f-1582fafc32c0",
   "metadata": {},
   "outputs": [],
   "source": []
  },
  {
   "cell_type": "markdown",
   "id": "d83d1fec-171e-4613-84ff-6e660e5b3522",
   "metadata": {},
   "source": [
    "## What is `eval()` really doing?\n",
    "\n",
    "[Official Documentation](https://docs.python.org/3/library/functions.html#eval)"
   ]
  },
  {
   "cell_type": "code",
   "execution_count": null,
   "id": "f8d815b3-f7f5-4a06-9bc6-d9d2d9c60895",
   "metadata": {},
   "outputs": [],
   "source": []
  },
  {
   "cell_type": "code",
   "execution_count": null,
   "id": "6a5697dc-1417-4006-b29f-0f5060553971",
   "metadata": {},
   "outputs": [],
   "source": []
  },
  {
   "cell_type": "markdown",
   "id": "cd121389-5bba-48e2-9a87-32be2b640bba",
   "metadata": {},
   "source": [
    "## String formatting"
   ]
  },
  {
   "cell_type": "markdown",
   "id": "3a48c802-ddbf-4fff-85f9-e4fc87401806",
   "metadata": {},
   "source": [
    "**Challenge** - Align a string to right with a predefined window width"
   ]
  },
  {
   "cell_type": "code",
   "execution_count": null,
   "id": "9e2761b9-278f-4304-b279-2d5e18c01136",
   "metadata": {},
   "outputs": [],
   "source": [
    "\"{:>10}\".format(\"Test\")"
   ]
  },
  {
   "cell_type": "code",
   "execution_count": null,
   "id": "7ff0782e-f27e-45c7-b199-0457c83f269c",
   "metadata": {},
   "outputs": [],
   "source": [
    "\"{:^10}\".format(\"Test\")"
   ]
  },
  {
   "cell_type": "code",
   "execution_count": null,
   "id": "f4b24174-ed1c-42b9-818d-d27c4d6d459a",
   "metadata": {},
   "outputs": [],
   "source": [
    "\"{:<10}\".format(\"Test\")"
   ]
  },
  {
   "cell_type": "code",
   "execution_count": null,
   "id": "d297eb56-2cd0-4af4-8da8-40af753ef39e",
   "metadata": {},
   "outputs": [],
   "source": [
    "\"{:>10}\".format(\"This is our first class, I enjoy meeting everyone here\")"
   ]
  },
  {
   "cell_type": "code",
   "execution_count": null,
   "id": "5ff4897b-2b7e-4e04-b8c5-7aff20fd3209",
   "metadata": {},
   "outputs": [],
   "source": [
    "# A different way!!\n",
    "\"Test\".ljust(10, ' ')"
   ]
  },
  {
   "cell_type": "markdown",
   "id": "1c70d66c-fd8d-4d76-adf8-0996263bb608",
   "metadata": {},
   "source": [
    "##### Replace a character within a string"
   ]
  },
  {
   "cell_type": "code",
   "execution_count": null,
   "id": "1a4c464b-e227-45cc-8b78-e4526ee7515a",
   "metadata": {},
   "outputs": [],
   "source": []
  },
  {
   "cell_type": "code",
   "execution_count": null,
   "id": "658fb34e-66f6-45dd-b539-fabb58e38d00",
   "metadata": {},
   "outputs": [],
   "source": []
  },
  {
   "cell_type": "markdown",
   "id": "7cef9bf1-d1a0-4f04-9522-85e6ae540b5a",
   "metadata": {},
   "source": [
    "## Boolean"
   ]
  },
  {
   "cell_type": "markdown",
   "id": "8dd9fe72-bde2-4214-97ad-2f611ee5947a",
   "metadata": {
    "slideshow": {
     "slide_type": "slide"
    }
   },
   "source": [
    "This built-in data type that can take up the values: `True` and `False`, which often makes them interchangeable with the integers 1 and 0. Booleans are useful in conditional and comparison expressions."
   ]
  },
  {
   "cell_type": "code",
   "execution_count": null,
   "id": "3db156ad-0a5d-4e49-a402-e9e93aa5e86c",
   "metadata": {},
   "outputs": [],
   "source": [
    "x = 1\n",
    "x == 1\n",
    "# print(x==1)\n",
    "# print(not x==2)\n",
    "print(x!=2)"
   ]
  },
  {
   "cell_type": "code",
   "execution_count": null,
   "id": "1aa0c777-cd36-4d9a-a11d-989a8b9520f5",
   "metadata": {
    "scrolled": true
   },
   "outputs": [],
   "source": [
    "(100>10) and (100<200)"
   ]
  },
  {
   "cell_type": "code",
   "execution_count": null,
   "id": "293e7aed-dffd-434c-a850-ef0387386c87",
   "metadata": {},
   "outputs": [],
   "source": [
    "(100>10) or (100>200)"
   ]
  },
  {
   "cell_type": "code",
   "execution_count": null,
   "id": "a0fae26e-2c02-4640-95ed-fc5fbadf0df6",
   "metadata": {},
   "outputs": [],
   "source": [
    "((100>10) & (100<200))==True\n",
    "# ((100>10) & (100<200))==False"
   ]
  },
  {
   "cell_type": "code",
   "execution_count": null,
   "id": "27b531d6-3d1b-49d3-834d-276171608187",
   "metadata": {},
   "outputs": [],
   "source": [
    "((100>10) & (100<200))==1"
   ]
  },
  {
   "cell_type": "markdown",
   "id": "288961f3-9ee0-4bbb-8ee9-b8ba3f765368",
   "metadata": {
    "slideshow": {
     "slide_type": "slide"
    }
   },
   "source": [
    "**Logical operators**\n",
    "\n",
    "| Operator                                                              | Description                                                                        |\n",
    "|-----------------------------------------------------------------------|------------------------------------------------------------------------------------|\n",
    "| or                                                                    | Boolean OR                                                                         |\n",
    "| and                                                                   | Boolean AND                                                                        |\n",
    "| not x                                                                 | Boolean NOT                                                                        |\n",
    "| in, not in, is, is not, <, <=, >, >=, !=, ==                          | Comparisons, including membership tests and identity tests                         |"
   ]
  },
  {
   "cell_type": "code",
   "execution_count": null,
   "id": "60b1cbd5-a757-4e94-8e64-9197fce97105",
   "metadata": {},
   "outputs": [],
   "source": []
  },
  {
   "cell_type": "code",
   "execution_count": null,
   "id": "0caaf4dd-a286-4278-80cd-eac0ac398bd4",
   "metadata": {},
   "outputs": [],
   "source": []
  },
  {
   "cell_type": "code",
   "execution_count": null,
   "id": "206db408-a415-462f-8f1b-0ae36ec474f3",
   "metadata": {},
   "outputs": [],
   "source": []
  },
  {
   "cell_type": "code",
   "execution_count": null,
   "id": "c122a4b7-443b-41b3-a8f6-da4794b8e450",
   "metadata": {},
   "outputs": [],
   "source": []
  },
  {
   "cell_type": "markdown",
   "id": "d9bfd7d8-a729-4f1b-90a4-277308b82a40",
   "metadata": {
    "slideshow": {
     "slide_type": "slide"
    }
   },
   "source": [
    "# Non-Primitive Data Types\n",
    "## List \n",
    "\n",
    "[[official documentation](https://docs.python.org/3/tutorial/datastructures.html)]\n",
    "* List is a mutable sequence, typically used to store a collection of separate values. It is generally represented in a list of comma separated values(items) between a square bracket.\n",
    "* It is normally used to store homogeneous items. However, items in a list don't necessarily need to be of the same data type.\n",
    "* <span style=\"color:blue\">Each item of a list is assigned a index number representing its position, and the index starts from 0</span>"
   ]
  },
  {
   "cell_type": "markdown",
   "id": "a4959009-2bd3-4598-b96f-9a57c0a03e9c",
   "metadata": {
    "slideshow": {
     "slide_type": "fragment"
    }
   },
   "source": [
    "Does this sound familiar?"
   ]
  },
  {
   "cell_type": "markdown",
   "id": "4ddd22fd-62a8-4a65-bb00-4742dcc352ac",
   "metadata": {
    "slideshow": {
     "slide_type": "fragment"
    }
   },
   "source": [
    "**Both `String` and `List` belong to the so-called `Sequential Data Type`!**"
   ]
  },
  {
   "cell_type": "markdown",
   "id": "31f653e0-32c4-434b-98e0-72e3bd539dde",
   "metadata": {
    "slideshow": {
     "slide_type": "slide"
    }
   },
   "source": [
    "### List operations"
   ]
  },
  {
   "cell_type": "code",
   "execution_count": null,
   "id": "db7419a6-99c3-4dfd-828e-5fc369477210",
   "metadata": {},
   "outputs": [],
   "source": [
    "## Create a list, an empty list\n",
    "x = [1,2,3]"
   ]
  },
  {
   "cell_type": "code",
   "execution_count": null,
   "id": "b00c03a9-b65a-445e-b759-ae2af8eacb2f",
   "metadata": {},
   "outputs": [],
   "source": [
    "x[2]"
   ]
  },
  {
   "cell_type": "code",
   "execution_count": null,
   "id": "067a6338-3301-4721-a908-ee5db5441648",
   "metadata": {},
   "outputs": [],
   "source": [
    "## Check the length of a string\n",
    "len(x)"
   ]
  },
  {
   "cell_type": "code",
   "execution_count": null,
   "id": "d1f0695f-2f2d-4422-9436-c39e8b83ffdf",
   "metadata": {},
   "outputs": [],
   "source": [
    "## Position based indexing\n",
    "# x[1]\n",
    "x = [1,2,3,4,5]\n",
    "x[1:3]\n",
    "# x[1:]"
   ]
  },
  {
   "cell_type": "code",
   "execution_count": null,
   "id": "adb3e810-9431-4ff7-b27f-dc7bde559191",
   "metadata": {
    "slideshow": {
     "slide_type": "slide"
    }
   },
   "outputs": [],
   "source": [
    "## Negative indexing\n",
    "x[-1]"
   ]
  },
  {
   "cell_type": "code",
   "execution_count": null,
   "id": "5afda8c9-e3c7-4a58-b61c-18a4f35e97c1",
   "metadata": {},
   "outputs": [],
   "source": [
    "## Slicing a list\n",
    "x[1:3]"
   ]
  },
  {
   "cell_type": "code",
   "execution_count": null,
   "id": "d6f0c232-564e-4676-b03c-f3e1312fc06c",
   "metadata": {},
   "outputs": [],
   "source": [
    "x"
   ]
  },
  {
   "cell_type": "code",
   "execution_count": null,
   "id": "e810e9fe-94bf-4a03-b609-c15ee6ce2e89",
   "metadata": {},
   "outputs": [],
   "source": [
    "x[1:]"
   ]
  },
  {
   "cell_type": "code",
   "execution_count": null,
   "id": "5a6d00dc-a73b-4e95-afce-631438fb342f",
   "metadata": {
    "slideshow": {
     "slide_type": "slide"
    }
   },
   "outputs": [],
   "source": [
    "## Append an item to the end of the list\n",
    "x = [1,2,3]\n",
    "x.append(4)\n",
    "x"
   ]
  },
  {
   "cell_type": "code",
   "execution_count": null,
   "id": "328a2ad6-beda-4267-9e9b-67c49cf599ba",
   "metadata": {},
   "outputs": [],
   "source": [
    "## Extend the list by appending all the items from another list\n",
    "# x.extend([5,6,7])\n",
    "x = [1,2,3]\n",
    "x = x + [4,5,6]\n",
    "x"
   ]
  },
  {
   "cell_type": "markdown",
   "id": "c18e9984-0aa1-4680-a8e9-ff21d7e55d53",
   "metadata": {
    "slideshow": {
     "slide_type": "slide"
    }
   },
   "source": [
    "How about the operations we used for strings? (`+` and `*`)"
   ]
  },
  {
   "cell_type": "code",
   "execution_count": null,
   "id": "ee55903d-fe92-464a-8529-f8fc511ab521",
   "metadata": {},
   "outputs": [],
   "source": [
    "x = [1,2,3]\n",
    "x1 = [4,5,6]\n",
    "x + x1"
   ]
  },
  {
   "cell_type": "code",
   "execution_count": null,
   "id": "627c0192-454f-4b88-8745-c77d9f21a088",
   "metadata": {},
   "outputs": [],
   "source": [
    "x*3"
   ]
  },
  {
   "cell_type": "code",
   "execution_count": null,
   "id": "80429356-4197-4142-a32a-dda9a57667cc",
   "metadata": {},
   "outputs": [],
   "source": [
    "## Extend the list by appending all the items from another list\n",
    "x = [1,2,3]\n",
    "x.extend([4,5,6])\n",
    "x"
   ]
  },
  {
   "cell_type": "code",
   "execution_count": null,
   "id": "3231abf4-9c22-43c9-bb8c-b60a308703fc",
   "metadata": {},
   "outputs": [],
   "source": [
    "x = [1,2,3]\n",
    "# x = x + [4]\n",
    "x.append(4)\n",
    "x"
   ]
  },
  {
   "cell_type": "code",
   "execution_count": null,
   "id": "63f9eea9-9e80-4280-8c70-a6b4df4bcb3c",
   "metadata": {},
   "outputs": [],
   "source": []
  },
  {
   "cell_type": "code",
   "execution_count": null,
   "id": "7d53d089-cc06-4329-9843-085d73bbc5d3",
   "metadata": {},
   "outputs": [],
   "source": [
    "## Augment the list by repeating the set of elements multiple times\n",
    "[1,2,3]*3"
   ]
  },
  {
   "cell_type": "markdown",
   "id": "bfc1e186-e51c-4d51-ad56-47ff41815c12",
   "metadata": {
    "slideshow": {
     "slide_type": "slide"
    }
   },
   "source": [
    "Other interesting listing operations"
   ]
  },
  {
   "cell_type": "code",
   "execution_count": null,
   "id": "63dd564b-f71f-4b83-9be8-225a23ef531b",
   "metadata": {},
   "outputs": [],
   "source": [
    "## value in list, value not in list\n",
    "x = [1,2,3]\n",
    "5 in x"
   ]
  },
  {
   "cell_type": "code",
   "execution_count": null,
   "id": "5b8f817c-9a8e-41cf-9684-0dde21a861bd",
   "metadata": {},
   "outputs": [],
   "source": [
    "## list.insert(i, x)\n",
    "x = [1,2,3]\n",
    "x.insert(1,4)\n",
    "x"
   ]
  },
  {
   "cell_type": "code",
   "execution_count": null,
   "id": "5779ea8d-fc43-4139-806b-1b165337fbfb",
   "metadata": {},
   "outputs": [],
   "source": [
    "x"
   ]
  },
  {
   "cell_type": "code",
   "execution_count": null,
   "id": "bcdc9d45-30cf-484b-94f3-654cf85d744b",
   "metadata": {},
   "outputs": [],
   "source": [
    "x.pop()"
   ]
  },
  {
   "cell_type": "code",
   "execution_count": null,
   "id": "02659ee2-a1e0-4a48-af13-38bb21928599",
   "metadata": {},
   "outputs": [],
   "source": [
    "x"
   ]
  },
  {
   "cell_type": "code",
   "execution_count": null,
   "id": "a80e8c35-4bd1-4b90-97a2-bb62594ad961",
   "metadata": {},
   "outputs": [],
   "source": [
    "## list.pop(i)\n",
    "x = [1,4,2,3]\n",
    "x.pop(1)"
   ]
  },
  {
   "cell_type": "code",
   "execution_count": null,
   "id": "f236a990-aadb-4101-99c5-2fc44e94e71f",
   "metadata": {},
   "outputs": [],
   "source": [
    "x"
   ]
  },
  {
   "cell_type": "code",
   "execution_count": null,
   "id": "da1d02ab-625d-41b3-8c80-f5ef79373a99",
   "metadata": {
    "slideshow": {
     "slide_type": "slide"
    }
   },
   "outputs": [],
   "source": [
    "## list.sort()\n",
    "x = [4,5,2,1]\n",
    "x.sort() # x.sort() does in-place sorting\n",
    "x"
   ]
  },
  {
   "cell_type": "code",
   "execution_count": null,
   "id": "aa0041f8-825b-45c7-8213-c1bff94c7467",
   "metadata": {},
   "outputs": [],
   "source": [
    "## sorted()\n",
    "x = [4,5,2,1]\n",
    "sorted(x) # sorted(x) output a new list holding the sorted values"
   ]
  },
  {
   "cell_type": "code",
   "execution_count": null,
   "id": "f061dcb5-6204-4777-813b-830293e22419",
   "metadata": {},
   "outputs": [],
   "source": [
    "x # element order in x isn't impacted by sorted(), the sort is not in place"
   ]
  },
  {
   "cell_type": "code",
   "execution_count": null,
   "id": "26a05909-45f2-4bf8-ad18-16e9619f676b",
   "metadata": {},
   "outputs": [],
   "source": [
    "## The del statement\n",
    "del x\n",
    "x"
   ]
  },
  {
   "cell_type": "markdown",
   "id": "69f3ec7e-5356-4bb2-87ad-ca6b97caea0d",
   "metadata": {
    "slideshow": {
     "slide_type": "slide"
    }
   },
   "source": [
    "### copy vs. reference (case study)"
   ]
  },
  {
   "cell_type": "code",
   "execution_count": null,
   "id": "3c2e3a26-eeb9-4a13-813f-2a6b483ad785",
   "metadata": {},
   "outputs": [],
   "source": [
    "l1 = [1,2,3]\n",
    "l2 = l1\n",
    "l2"
   ]
  },
  {
   "cell_type": "code",
   "execution_count": null,
   "id": "bbacb1e9-6f76-462c-82ea-54501d6ed16e",
   "metadata": {},
   "outputs": [],
   "source": [
    "l1[1] = 4\n",
    "l1"
   ]
  },
  {
   "cell_type": "code",
   "execution_count": null,
   "id": "233c52d0-b0fb-44dc-85c0-e2dc27bc118a",
   "metadata": {},
   "outputs": [],
   "source": [
    "l2"
   ]
  },
  {
   "cell_type": "code",
   "execution_count": null,
   "id": "d7d9061a-769b-4d99-996d-903ce3b46071",
   "metadata": {},
   "outputs": [],
   "source": []
  },
  {
   "cell_type": "code",
   "execution_count": null,
   "id": "433eae19-6bf2-4828-bd20-64cd25aa9991",
   "metadata": {},
   "outputs": [],
   "source": [
    "## What happens to l2?\n",
    "l1 = [1,2,3]\n",
    "l2 = l1\n",
    "l2\n",
    "# print('The ID of variable l1 is: ', id(l1))\n",
    "# print('The ID of variable l2 is: ', id(l2))\n",
    "# l1[1] = 5\n",
    "# print('After the value change ...')\n",
    "# print('The value of l2 is: ', l2)\n",
    "# print('The ID of variable l1 is: ', id(l1))\n",
    "# print('The ID of variable l2 is: ', id(l2))"
   ]
  },
  {
   "cell_type": "markdown",
   "id": "cd76f111-228d-4d0b-95e4-06c3bcd065ac",
   "metadata": {
    "slideshow": {
     "slide_type": "fragment"
    }
   },
   "source": [
    "<center><img src=\"../pics/reference-vs-copy-p6.png\"\" style=\"height:250px;\"></center>"
   ]
  },
  {
   "cell_type": "code",
   "execution_count": null,
   "id": "f678bc50-a72e-417e-bfe6-7bde1f23fa95",
   "metadata": {
    "scrolled": true,
    "slideshow": {
     "slide_type": "slide"
    }
   },
   "outputs": [],
   "source": [
    "## Any way to prevent this?\n",
    "l1 = [1,2,3]\n",
    "l2 = l1.copy()\n",
    "l1[1] = 4\n",
    "l2\n",
    "# print('The ID of variable l1 is: ', id(l1))\n",
    "# print('The ID of variable l2 is: ', id(l2))\n",
    "# l1[1] = 5\n",
    "# print('After the value change ...')\n",
    "# print('The value of l2 is: ', l2)\n",
    "# print('The ID of variable l1 is: ', id(l1))\n",
    "# print('The ID of variable l2 is: ', id(l2))\n",
    "# print(l1)"
   ]
  },
  {
   "cell_type": "markdown",
   "id": "efc8245b-1b7b-4bec-b402-a3a09d52d573",
   "metadata": {
    "slideshow": {
     "slide_type": "fragment"
    }
   },
   "source": [
    "<center><img src=\"../pics/reference-vs-copy-p7.png\"\" style=\"height:250px;\"></center>"
   ]
  },
  {
   "cell_type": "code",
   "execution_count": null,
   "id": "79dd3e38-f1fc-4996-81db-19dbd0c77f83",
   "metadata": {
    "slideshow": {
     "slide_type": "slide"
    }
   },
   "outputs": [],
   "source": [
    "## Any other ways?\n",
    "import copy\n",
    "l1 = [1,2,3]\n",
    "l2 = copy.copy(l1) ## equivalent to l1.copy()\n",
    "print('The ID of variable l1 is: ', id(l1))\n",
    "print('The ID of variable l2 is: ', id(l2))\n",
    "l1[1] = 5\n",
    "print('After the value change ...')\n",
    "print('The value of l2 is: ', l2)\n",
    "print('The ID of variable l1 is: ', id(l1))\n",
    "print('The ID of variable l2 is: ', id(l2))"
   ]
  },
  {
   "cell_type": "markdown",
   "id": "df9a971d-64b0-4a8a-8d6f-14956c956f81",
   "metadata": {
    "slideshow": {
     "slide_type": "slide"
    }
   },
   "source": [
    "**Key take-away here**:\n",
    "\n",
    "[For non-primitive data structures]\n",
    "* In Python, every variable is holding a reference to an object (a value or an abstract to a compound object) in the memory\n",
    "* Therefore, value assignment `VarB=VarA` only copies the reference `VarA` holds. `VarB` and `VarA` are just two different aliases to the same object.\n",
    "* If you need to create a separate copy from the original object, you need to explicitly call certain modules to do it. Such as `copy.copy()` and `list.copy()` we used in the case study.\n",
    "* Usually, \"shallow copy\" via `copy.copy()` (or `list.copy()` for a list object) would be sufficient for you to create a separate copy. However, under certain special scenarios, you might need to consider using \"deep copy\" `copy.deepcopy()`.\n"
   ]
  },
  {
   "cell_type": "markdown",
   "id": "4ddfaea2-9f60-4797-907a-029c8970f1f2",
   "metadata": {
    "slideshow": {
     "slide_type": "slide"
    }
   },
   "source": [
    "* Offline Reading: **Shallow & Deep Copy**\n",
    "    * [Doc #1](https://towardsdatascience.com/assignment-shallow-or-deep-a-story-about-pythons-memory-management-b8fad87bfa6c)\n",
    "    * [Doc #2](https://www.programiz.com/python-programming/shallow-deep-copy)"
   ]
  },
  {
   "cell_type": "markdown",
   "id": "4ab6ecbc-eb73-4a78-97fe-bfe68ebe0c95",
   "metadata": {
    "slideshow": {
     "slide_type": "slide"
    }
   },
   "source": [
    "## Tuples\n",
    "* Tuples are immutable sequences, typically used to store heterogeneous items.\n",
    "* It is normally represented by a list of comma separated values(items) with surrounding parentheses\n",
    "\n",
    "*Summary*:\n",
    "* List, string, tuple are also called the `Sequence` type"
   ]
  },
  {
   "cell_type": "code",
   "execution_count": null,
   "id": "baccebe3-647a-496d-8618-811396c3fe52",
   "metadata": {},
   "outputs": [],
   "source": [
    "## Create a tuple\n",
    "x = (1,2)\n",
    "x"
   ]
  },
  {
   "cell_type": "code",
   "execution_count": null,
   "id": "f2ea02c1-aa88-4193-ba0f-961c0b736639",
   "metadata": {},
   "outputs": [],
   "source": [
    "## Tuples can be constructed with or without parentheses\n",
    "x = 1,2\n",
    "x"
   ]
  },
  {
   "cell_type": "code",
   "execution_count": null,
   "id": "c11d8204-7c81-4eed-905a-0ce2bb9bf059",
   "metadata": {
    "slideshow": {
     "slide_type": "slide"
    }
   },
   "outputs": [],
   "source": [
    "## Indexing and slicing\n",
    "x = (1,2,3)\n",
    "x[1]"
   ]
  },
  {
   "cell_type": "code",
   "execution_count": null,
   "id": "25aa4136-e7e8-402b-8bd9-df252d6b62e5",
   "metadata": {},
   "outputs": [],
   "source": [
    "## Value in tuple, value not in tuple\n",
    "# 2 in x\n",
    "4 in x"
   ]
  },
  {
   "cell_type": "code",
   "execution_count": null,
   "id": "20f18e83-5a47-47d7-a2f7-b48c87c10a68",
   "metadata": {
    "slideshow": {
     "slide_type": "slide"
    }
   },
   "outputs": [],
   "source": [
    "## Unpacking tuples\n",
    "x,y = (1,2)\n",
    "print(x,y)"
   ]
  },
  {
   "cell_type": "code",
   "execution_count": null,
   "id": "015ca6e1-6cb2-44ce-b29f-f01d9e49ae95",
   "metadata": {},
   "outputs": [],
   "source": [
    "## Is it really immutable?\n",
    "x = (1,2,3)\n",
    "x[1]=4"
   ]
  },
  {
   "cell_type": "markdown",
   "id": "3a0f666f-5baa-493d-8241-7692bf6d45e1",
   "metadata": {
    "slideshow": {
     "slide_type": "slide"
    }
   },
   "source": [
    "## Sets\n",
    "* A set is an unordered collection with no duplicate elements, same to the mathematical concept of `set`\n",
    "* Set objects support mathematical operations like union, intersection, difference, and symmetric difference\n",
    "* A good tutorial on Set operations: https://www.geeksforgeeks.org/python-set-operations-union-intersection-difference-symmetric-difference/"
   ]
  },
  {
   "cell_type": "code",
   "execution_count": null,
   "id": "7e177a4a-081d-414a-bbe2-a73e8e32d93d",
   "metadata": {},
   "outputs": [],
   "source": [
    "## Create a set: {} and set()\n",
    "x = {1,2,3,4}\n",
    "x"
   ]
  },
  {
   "cell_type": "code",
   "execution_count": null,
   "id": "da3dd72f-4bac-452f-8f8b-bfd010f37808",
   "metadata": {},
   "outputs": [],
   "source": [
    "## Value in a set, value not in a set\n",
    "2 in x"
   ]
  },
  {
   "cell_type": "code",
   "execution_count": null,
   "id": "de8e2197-ca9c-41a2-a920-392dead9faac",
   "metadata": {
    "slideshow": {
     "slide_type": "slide"
    }
   },
   "outputs": [],
   "source": [
    "## Union, intersection, difference, symmetric difference\n",
    "x = {1,2,3}\n",
    "y = {3,4,5}\n",
    "\n",
    "x & y"
   ]
  },
  {
   "cell_type": "code",
   "execution_count": null,
   "id": "d371d94c-9824-4df6-bede-4e2fdbcd4bc8",
   "metadata": {},
   "outputs": [],
   "source": [
    "## Add an element\n",
    "x = x.union({6})\n",
    "x"
   ]
  },
  {
   "cell_type": "code",
   "execution_count": null,
   "id": "ad76afb1-a6bf-44a9-8bf3-51ea355e3dcf",
   "metadata": {},
   "outputs": [],
   "source": [
    "## You can also do\n",
    "x.add(7)\n",
    "x"
   ]
  },
  {
   "cell_type": "code",
   "execution_count": null,
   "id": "bf213d8f-0cad-41c7-88f2-cc2f936dd720",
   "metadata": {
    "slideshow": {
     "slide_type": "slide"
    }
   },
   "outputs": [],
   "source": [
    "## Add elements from another collection\n",
    "x = {1,2,3}\n",
    "y = {4,5,6}\n",
    "x = x.union(y)\n",
    "x"
   ]
  },
  {
   "cell_type": "code",
   "execution_count": null,
   "id": "e8cb3e42-2a99-402c-8b86-9f25a43526ef",
   "metadata": {},
   "outputs": [],
   "source": [
    "## You can use set to find the distinct values in a sequence (list, tuple, etc.)\n",
    "x = [1,2,2,2,2,2,2,3]\n",
    "set(x)"
   ]
  },
  {
   "cell_type": "markdown",
   "id": "da8fe23c-c7b5-4191-8c9f-8d851bd9b544",
   "metadata": {
    "slideshow": {
     "slide_type": "slide"
    }
   },
   "source": [
    "## Dictionary\n",
    "* Dictionary is the most commonly used data structure to store key-value pairs\n",
    "* Keys are unique within one dictionary, and search by key is of [constant time complexity](https://en.wikipedia.org/wiki/Time_complexity)\n",
    "* The general format of a dictionary: `{key1:value1, key2:value2}`\n"
   ]
  },
  {
   "cell_type": "code",
   "execution_count": null,
   "id": "60422eb3-a495-4d0f-b950-c480c97fb3d5",
   "metadata": {},
   "outputs": [],
   "source": [
    "## create a dictionary with {}\n",
    "x = {'a':1, 'b':2}\n",
    "# x\n",
    "x['b']"
   ]
  },
  {
   "cell_type": "code",
   "execution_count": null,
   "id": "55245db8-5273-47d7-90ff-1576e15dba19",
   "metadata": {},
   "outputs": [],
   "source": [
    "## create a dictionary from a sequence\n",
    "y = dict([['a',1],['b',2]])\n",
    "y"
   ]
  },
  {
   "cell_type": "code",
   "execution_count": null,
   "id": "7813648d-cf1a-4fd1-810f-fb88b566f667",
   "metadata": {
    "slideshow": {
     "slide_type": "slide"
    }
   },
   "outputs": [],
   "source": [
    "## get keys and values from a dictionary\n",
    "y = dict([['a',1],['b',2]])\n",
    "list(y.keys())"
   ]
  },
  {
   "cell_type": "code",
   "execution_count": null,
   "id": "c2d9ecde-6567-4b7c-bc87-591a3e017979",
   "metadata": {},
   "outputs": [],
   "source": [
    "## find value by key\n",
    "list(y.values())"
   ]
  },
  {
   "cell_type": "code",
   "execution_count": null,
   "id": "f7bd83e8-2342-4ab1-9fe2-5a912b844842",
   "metadata": {
    "slideshow": {
     "slide_type": "slide"
    }
   },
   "outputs": [],
   "source": [
    "## dict.get(key, default)\n",
    "x = {'a':1, 'b':2}\n",
    "# x['a']\n",
    "# x.get('a')\n",
    "x.get('c',-1)"
   ]
  },
  {
   "cell_type": "code",
   "execution_count": null,
   "id": "cf1904bf-f6b5-48f8-9dc5-2fbcbd0ca19e",
   "metadata": {},
   "outputs": [],
   "source": [
    "## key in dict, key not in dict\n",
    "# 'c' in x\n",
    "'a' in x"
   ]
  },
  {
   "cell_type": "code",
   "execution_count": null,
   "id": "7b1e3434-ec74-47fe-b331-0b4ca0c0df32",
   "metadata": {},
   "outputs": [],
   "source": []
  },
  {
   "cell_type": "markdown",
   "id": "ce20a748-8a71-4102-8191-9251c3eabace",
   "metadata": {},
   "source": [
    "# Control Structures (conditions and loops)"
   ]
  },
  {
   "cell_type": "markdown",
   "id": "e36f0678-cac0-4519-b6d3-2949d374a8d1",
   "metadata": {
    "slideshow": {
     "slide_type": "slide"
    }
   },
   "source": [
    "## Conditions\n",
    "\n",
    "* The program will evaluate the boolean value of the expression to decide which statement to execute\n",
    "* The general code pattern looks like this:\n",
    "```python\n",
    "if <exp>:\n",
    "    <statement>\n",
    "elif <exp>:\n",
    "    <statement>\n",
    "else:\n",
    "    <statement>\n",
    "```\n",
    "* You need to indent each line of the `<statement>` code block by the **same number of whitespace**. It is a required practice to indicate what block of code a statement belongs to. **Default indentation uses 4 spaces. You could use any number that works to you, but a minimum of 1 space has to be used.**\n",
    "\n",
    "Detailed explanation can be found [here](https://docs.google.com/presentation/d/1T8cfUbD1nhGtIAzM6uJuLPAcYzCAfCs5q_4XgVkFQPM/edit#slide=id.p)\n",
    "\n",
    "\n",
    "\n",
    "<center><img src=\"https://www.guru99.com/images/2013/04/if_then_flowchart.png\" style=\"height:400px;\"></center>"
   ]
  },
  {
   "cell_type": "markdown",
   "id": "ce6b9776-e6e3-4183-b351-2925269e3b61",
   "metadata": {},
   "source": [
    "**Example 1**: Print reminder message based on input temperature"
   ]
  },
  {
   "cell_type": "code",
   "execution_count": null,
   "id": "29d444ba-3183-43a3-a073-56057fc2c2b3",
   "metadata": {},
   "outputs": [],
   "source": []
  },
  {
   "cell_type": "code",
   "execution_count": null,
   "id": "30000207-7c9b-4e21-8f91-a1c5183311f9",
   "metadata": {},
   "outputs": [],
   "source": []
  },
  {
   "cell_type": "markdown",
   "id": "0d30880e-edd5-4151-a0c1-8b5fd3cbd0ec",
   "metadata": {
    "slideshow": {
     "slide_type": "slide"
    }
   },
   "source": [
    "**Example 2**: $BMI = w/h^2$(w: weight in kg, h: height in m)\n",
    "<img align=\"right\" src=\"https://i0.wp.com/b-reddy.org/wp-content/uploads/2014/05/bmi-scale.png\" style=\"height:250px;\">"
   ]
  },
  {
   "cell_type": "code",
   "execution_count": null,
   "id": "08a7dac4-6ebc-4bcf-94c1-a78096870323",
   "metadata": {},
   "outputs": [],
   "source": [
    "bmi = eval(input('Please input your BMI value: '))\n",
    "# bmi = 24\n",
    "\n",
    "if bmi<15:\n",
    "    print('Category: Very severely underweight')\n",
    "elif bmi>=15 and bmi<16:\n",
    "    print('Category: Severely underweight')\n",
    "elif bmi>=16 and bmi<18.5:\n",
    "    print('Category: Underweight')\n",
    "elif bmi>=18.5 and bmi<25:\n",
    "    print('Category: Normal')\n",
    "elif bmi>=25 and bmi<30:\n",
    "    print('Category: Overweight')\n",
    "elif bmi>=30 and bmi<35:\n",
    "    print('Category: Obese Class I')\n",
    "elif bmi>=35 and bmi<40:\n",
    "    print('Category: Obese Class II')\n",
    "else:\n",
    "    print('Category: Obese Class III')"
   ]
  },
  {
   "cell_type": "markdown",
   "id": "665f7732-b505-4925-a684-e68955631b0a",
   "metadata": {
    "slideshow": {
     "slide_type": "slide"
    }
   },
   "source": [
    "**Example 3**:"
   ]
  },
  {
   "cell_type": "code",
   "execution_count": null,
   "id": "725492ca-0842-4f76-a88c-504f186bb669",
   "metadata": {},
   "outputs": [],
   "source": [
    "name = input('What\\'s the person\\'s name?')\n",
    "registered = ['John','Adam']\n",
    "if name in registered:\n",
    "    print('{} is registered'.format(name))\n",
    "# else:\n",
    "#     print('{} is not registered'.format(name))"
   ]
  },
  {
   "cell_type": "markdown",
   "id": "0e1a29ca-5226-48c2-9983-547e4badab3e",
   "metadata": {
    "slideshow": {
     "slide_type": "slide"
    }
   },
   "source": [
    "### One-line If-else Statement\n",
    "```python\n",
    "var = <value1> if <exp> else <value2>\n",
    "```"
   ]
  },
  {
   "cell_type": "code",
   "execution_count": null,
   "id": "6350a494-6c27-4fa0-a7fd-0d2cfc191597",
   "metadata": {},
   "outputs": [],
   "source": [
    "score = eval(input('Please input your exam score: '))\n",
    "# message = 'Congrats, you passed!' if score>=60 else 'Sorry, you failed :-('\n",
    "\n",
    "if score >= 60:\n",
    "    print('Congrats, you passed!')\n",
    "else:\n",
    "    print('Sorry, you failed :-(')\n",
    "\n",
    "# print(message)"
   ]
  },
  {
   "cell_type": "code",
   "execution_count": null,
   "id": "a2304757-4967-4c2b-aa51-77c46b4b5e5b",
   "metadata": {},
   "outputs": [],
   "source": []
  },
  {
   "cell_type": "markdown",
   "id": "8c978ae1-3323-4af3-8128-ba1f96c60f13",
   "metadata": {},
   "source": [
    "# Functions"
   ]
  },
  {
   "cell_type": "code",
   "execution_count": null,
   "id": "81deb570-1ca7-4e45-b3ac-0a4f6eacc937",
   "metadata": {},
   "outputs": [],
   "source": []
  },
  {
   "cell_type": "code",
   "execution_count": null,
   "id": "cfdd01d5-f93d-4749-8e7a-47228e62012b",
   "metadata": {},
   "outputs": [],
   "source": []
  },
  {
   "cell_type": "code",
   "execution_count": null,
   "id": "f0fa0243-4e92-4dd9-8f1f-e5c3ac38fd80",
   "metadata": {},
   "outputs": [],
   "source": []
  }
 ],
 "metadata": {
  "kernelspec": {
   "display_name": "Python 3 (ipykernel)",
   "language": "python",
   "name": "python3"
  },
  "language_info": {
   "codemirror_mode": {
    "name": "ipython",
    "version": 3
   },
   "file_extension": ".py",
   "mimetype": "text/x-python",
   "name": "python",
   "nbconvert_exporter": "python",
   "pygments_lexer": "ipython3",
   "version": "3.10.8"
  }
 },
 "nbformat": 4,
 "nbformat_minor": 5
}
