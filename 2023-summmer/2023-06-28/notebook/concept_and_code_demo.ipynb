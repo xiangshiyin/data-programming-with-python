{
 "cells": [
  {
   "cell_type": "code",
   "execution_count": null,
   "id": "024856d7-648d-44c1-b822-a5beaf0cc3af",
   "metadata": {},
   "outputs": [],
   "source": []
  },
  {
   "cell_type": "markdown",
   "id": "45ec4e81-f9fc-4208-b99a-d00c23717bb9",
   "metadata": {},
   "source": [
    "# Today's Coding Topics\n",
    "[![Open In Colab](https://colab.research.google.com/assets/colab-badge.svg)](https://colab.research.google.com/github/xiangshiyin/data-programming-with-python/blob/main/2023-summmer/2023-06-28/notebook/concept_and_code_demo.ipynb)\n",
    "\n",
    "* Recap of previous lecture\n",
    "* Statistics with Python\n"
   ]
  },
  {
   "cell_type": "code",
   "execution_count": null,
   "id": "62f82cfb-f23c-4955-b701-33fdec166555",
   "metadata": {},
   "outputs": [],
   "source": []
  },
  {
   "cell_type": "markdown",
   "id": "de60722e-0724-4c9a-95a3-ff5c190408d6",
   "metadata": {},
   "source": [
    "# Recap of previous lecture"
   ]
  },
  {
   "cell_type": "code",
   "execution_count": null,
   "id": "d4e7ba2e-7595-45da-a84c-b7dffec1110f",
   "metadata": {},
   "outputs": [],
   "source": []
  },
  {
   "cell_type": "code",
   "execution_count": null,
   "id": "39b87811-1746-423d-91bb-4082937f7431",
   "metadata": {},
   "outputs": [],
   "source": [
    "import pandas as pd\n",
    "import numpy as np"
   ]
  },
  {
   "cell_type": "code",
   "execution_count": null,
   "id": "36f56b15-defe-4243-9dac-34ac209ad4fa",
   "metadata": {},
   "outputs": [],
   "source": [
    "pd.set_option('display.max_columns',None) #unlimited\n",
    "pd.set_option('display.max_rows',None)"
   ]
  },
  {
   "cell_type": "markdown",
   "id": "a6e8ef73-980a-4417-a96c-fc54b2c2432a",
   "metadata": {},
   "source": [
    "## Pandas practice"
   ]
  },
  {
   "cell_type": "code",
   "execution_count": null,
   "id": "d813ee73-969d-477c-b3b3-28e37846a9a2",
   "metadata": {},
   "outputs": [],
   "source": [
    "%%time\n",
    "\n",
    "Employees = pd.read_excel('../data/Employees.xls')\n",
    "Territory = pd.read_excel('../data/SalesTerritory.xls')\n",
    "Customers = pd.read_excel('../data/Customers.xls')\n",
    "Orders = pd.read_excel('../data/ItemsOrdered.xls')"
   ]
  },
  {
   "cell_type": "code",
   "execution_count": null,
   "id": "12207ff8-0410-4ba9-9476-699cfac53c0b",
   "metadata": {},
   "outputs": [],
   "source": []
  },
  {
   "cell_type": "code",
   "execution_count": null,
   "id": "da953ce8-29fe-41d1-b72d-83fc092ea55d",
   "metadata": {},
   "outputs": [],
   "source": []
  },
  {
   "cell_type": "markdown",
   "id": "578a555a-3af7-4f47-a2d8-666269f3cf82",
   "metadata": {},
   "source": [
    "### Grouping\n",
    "\n",
    "Reading Materials: \n",
    "* (official doc): https://pandas.pydata.org/pandas-docs/stable/reference/api/pandas.DataFrame.agg.html\n",
    "* (summary) https://www.shanelynn.ie/summarising-aggregation-and-grouping-data-in-python-pandas/"
   ]
  },
  {
   "cell_type": "markdown",
   "id": "bad5f6fc-1546-474f-a8a7-085606192302",
   "metadata": {},
   "source": [
    "#### What is the earliest birthdate for all employees?\n",
    "\n",
    "SQL logic\n",
    "```sql\n",
    "SELECT MIN(e.BirthDate) FROM dbo.Employees AS e;\n",
    "```"
   ]
  },
  {
   "cell_type": "code",
   "execution_count": null,
   "id": "de39a313-cf74-48c5-89e4-bae7a1d5a1de",
   "metadata": {},
   "outputs": [],
   "source": [
    "Employees.head(3)"
   ]
  },
  {
   "cell_type": "code",
   "execution_count": null,
   "id": "f7da448d-30f8-4552-93f8-49fc91340475",
   "metadata": {},
   "outputs": [],
   "source": [
    "Employees.columns"
   ]
  },
  {
   "cell_type": "code",
   "execution_count": null,
   "id": "81fe4544-4254-425d-9214-03f6a068fc1d",
   "metadata": {},
   "outputs": [],
   "source": [
    "type(Employees.dtypes)"
   ]
  },
  {
   "cell_type": "code",
   "execution_count": null,
   "id": "e1841969-f50a-4086-9599-8f6f12b4453a",
   "metadata": {},
   "outputs": [],
   "source": [
    "Employees.loc[:,['BirthDate']].head(3)"
   ]
  },
  {
   "cell_type": "code",
   "execution_count": null,
   "id": "45062c58-390e-46c0-a0b7-3883d0e6a45d",
   "metadata": {},
   "outputs": [],
   "source": []
  },
  {
   "cell_type": "code",
   "execution_count": null,
   "id": "cff0083e-dff7-4bd8-bc82-eb20986eab3c",
   "metadata": {},
   "outputs": [],
   "source": [
    "Employees.dtypes"
   ]
  },
  {
   "cell_type": "code",
   "execution_count": null,
   "id": "bf213802-3a03-4543-bcf4-b1b7631b7426",
   "metadata": {},
   "outputs": [],
   "source": []
  },
  {
   "cell_type": "code",
   "execution_count": null,
   "id": "7866b50a-3d90-4fc6-954b-f18d62cddab6",
   "metadata": {},
   "outputs": [],
   "source": [
    "# Employees.dtypes.reset_index()\n",
    "# Employees.dtypes['BirthDate']\n",
    "str(Employees.dtypes['BirthDate'])"
   ]
  },
  {
   "cell_type": "code",
   "execution_count": null,
   "id": "904badf0-7352-4dac-ade0-dade2ef3fba0",
   "metadata": {},
   "outputs": [],
   "source": [
    "Employees.BirthDate.dtypes"
   ]
  },
  {
   "cell_type": "code",
   "execution_count": null,
   "id": "543fb6d5-3951-4fbd-82d4-b60b08518d99",
   "metadata": {},
   "outputs": [],
   "source": [
    "'1970-01-01' < '2023-06-26'"
   ]
  },
  {
   "cell_type": "code",
   "execution_count": null,
   "id": "b4d8d8d7-b8d8-47cb-ade3-deb7bdc330ce",
   "metadata": {},
   "outputs": [],
   "source": [
    "Employees.BirthDate.min()"
   ]
  },
  {
   "cell_type": "code",
   "execution_count": null,
   "id": "3f4190e2-af63-498c-bdd2-b555a4f7ec53",
   "metadata": {},
   "outputs": [],
   "source": [
    "Employees.BirthDate.max()"
   ]
  },
  {
   "cell_type": "code",
   "execution_count": null,
   "id": "c809cc2e-68ad-48d3-a8ac-e6f06e2a529a",
   "metadata": {},
   "outputs": [],
   "source": [
    "Employees.BirthDate.nunique()"
   ]
  },
  {
   "cell_type": "code",
   "execution_count": null,
   "id": "36a418da-b105-4ed9-84b4-41c84ff71eb1",
   "metadata": {},
   "outputs": [],
   "source": []
  },
  {
   "cell_type": "code",
   "execution_count": null,
   "id": "c551706c-07b2-4485-be93-8c9195b9eb26",
   "metadata": {},
   "outputs": [],
   "source": []
  },
  {
   "cell_type": "markdown",
   "id": "2bce2572-18e1-4ac5-9078-7690d795110d",
   "metadata": {},
   "source": [
    "#### Add to the above, the most recent birthdate for all employees\n",
    "\n",
    "SQL logic\n",
    "```sql\n",
    "SELECT \n",
    "  MIN(e.BirthDate) AS 'Earliest Birthday'\n",
    "  , MAX(e.BirthDate) AS 'Most Reecent Birthday'\n",
    "FROM dbo.Employees AS e;\n",
    "```"
   ]
  },
  {
   "cell_type": "code",
   "execution_count": null,
   "id": "d9dda64b-f5fc-4179-89f9-845202f74673",
   "metadata": {},
   "outputs": [],
   "source": [
    "x = [4,5,1,2,3]\n",
    "min(x), max(x)"
   ]
  },
  {
   "cell_type": "markdown",
   "id": "38676e22-0dad-4be7-8327-a3778cd3e3a6",
   "metadata": {},
   "source": [
    "* Lexicographic order [[wikipedia](https://en.wikipedia.org/wiki/Lexicographic_order)]"
   ]
  },
  {
   "cell_type": "code",
   "execution_count": null,
   "id": "97531f4a-46f8-44b5-9d5a-9533328c5ff3",
   "metadata": {},
   "outputs": [],
   "source": [
    "'2ab' < '1ab'"
   ]
  },
  {
   "cell_type": "code",
   "execution_count": null,
   "id": "c9e3a653-b159-4468-8e0e-0c7ce63e8cc3",
   "metadata": {},
   "outputs": [],
   "source": [
    "# 'abcdefg'\n",
    "\n",
    "'a' > 'b'"
   ]
  },
  {
   "cell_type": "code",
   "execution_count": null,
   "id": "f27d132c-fea4-4860-881e-e0ab11a3d269",
   "metadata": {},
   "outputs": [],
   "source": [
    "Employees.agg({'BirthDate':['min','max']}).T\n",
    "\n",
    "# Employees.agg({'BirthDate':['min','max']})"
   ]
  },
  {
   "cell_type": "code",
   "execution_count": null,
   "id": "6911aa5a-33c0-4719-b6e5-053ff1b670d5",
   "metadata": {},
   "outputs": [],
   "source": [
    "Employees.agg({'BirthDate':[min,max]}).T"
   ]
  },
  {
   "cell_type": "code",
   "execution_count": null,
   "id": "b93f94db-230a-43eb-8276-45fe71538273",
   "metadata": {},
   "outputs": [],
   "source": [
    "Employees.agg({'BirthDate':[min,max]}).T.reset_index(drop=True)\n",
    "# Employees.agg({'BirthDate':['min','max']}).T.reset_index(drop=False)"
   ]
  },
  {
   "cell_type": "markdown",
   "id": "fcf8690f-3022-4903-aa97-7c44f83b57e3",
   "metadata": {},
   "source": [
    "#### Show the above results broken down by gender\n",
    "\n",
    "SQL logic\n",
    "```sql\n",
    "SELECT \n",
    "  e.Gender\n",
    "  , MIN(e.BirthDate) AS 'Earliest Birthday'\n",
    "  , MAX(e.BirthDate) AS 'Most Reecent Birthday'\n",
    "FROM dbo.Employees AS e\n",
    "GROUP BY e.Gender\n",
    ";\n",
    "```"
   ]
  },
  {
   "cell_type": "code",
   "execution_count": null,
   "id": "3d6e0d70-9914-4669-a7d2-4350fd06db7f",
   "metadata": {},
   "outputs": [],
   "source": [
    "Employees.groupby('Gender')['BirthDate'].min().reset_index()"
   ]
  },
  {
   "cell_type": "code",
   "execution_count": null,
   "id": "f5dc608d-bbe2-4d89-963e-044266a8b15b",
   "metadata": {},
   "outputs": [],
   "source": [
    "Employees.groupby('Gender').agg({'BirthDate':[min,max]})"
   ]
  },
  {
   "cell_type": "code",
   "execution_count": null,
   "id": "6d89d4b3-791c-4b3f-a3c5-6849a6730859",
   "metadata": {},
   "outputs": [],
   "source": [
    "Employees.groupby('Gender').agg(\n",
    "    min_bday=('BirthDate',min),\n",
    "    max_bday=('BirthDate',max)\n",
    ").reset_index()"
   ]
  },
  {
   "cell_type": "markdown",
   "id": "8b5982c9-2a4c-4a65-8b02-f088994622c3",
   "metadata": {},
   "source": [
    "#### Show the above results broken down by gender, and salaried/hourly\n",
    "\n",
    "SQL logic\n",
    "```sql\n",
    "SELECT \n",
    "  e.Gender\n",
    "  , e.SalariedFlag\n",
    "  , MIN(e.BirthDate) AS 'Earliest Birthday'\n",
    "  , MAX(e.BirthDate) AS 'Most Reecent Birthday'\n",
    "FROM dbo.Employees AS e\n",
    "GROUP BY e.Gender, e.SalariedFlag\n",
    ";\n",
    "```"
   ]
  },
  {
   "cell_type": "code",
   "execution_count": null,
   "id": "14dd5856-e655-49d4-974c-fc32f45fa871",
   "metadata": {},
   "outputs": [],
   "source": [
    "Employees.groupby(['Gender','SalariedFlag']).agg(\n",
    "    min_bday=('BirthDate',min),\n",
    "    max_bday=('BirthDate',max)\n",
    ").reset_index()"
   ]
  },
  {
   "cell_type": "markdown",
   "id": "8e53f80d-a50e-4101-8f03-1470abe9cdef",
   "metadata": {},
   "source": [
    "#### What are the average vacation hours for all employees?\n",
    "\n",
    "SQL logic\n",
    "```sql\n",
    "SELECT AVG(e.VacationHours)\n",
    "FROM dbo.Employees AS e\t\n",
    ";\n",
    "```"
   ]
  },
  {
   "cell_type": "code",
   "execution_count": null,
   "id": "968529b8-a8e9-43ad-aa4d-9e2f572e8249",
   "metadata": {},
   "outputs": [],
   "source": [
    "Employees.VacationHours.mean()"
   ]
  },
  {
   "cell_type": "markdown",
   "id": "e28ebf62-6537-4d7c-82d1-154376e9b442",
   "metadata": {},
   "source": [
    "#### Show the above results broken down and ordered by job title¶\n",
    "\n",
    "SQL logic\n",
    "```sql\n",
    "SELECT \n",
    "  e.JobTitle\n",
    "  , AVG(e.VacationHours) AS 'Average Vacation'\n",
    "  , MIN(e.VacationHours) AS 'Minimum Vacation'\n",
    "FROM dbo.Employees AS e\n",
    "GROUP BY e.JobTitle\n",
    ";\n",
    "```"
   ]
  },
  {
   "cell_type": "code",
   "execution_count": null,
   "id": "aa001b15-1828-4d01-ad69-286832ff7f83",
   "metadata": {},
   "outputs": [],
   "source": [
    "Employees.groupby('JobTitle')['VacationHours'].min().reset_index().head(3)"
   ]
  },
  {
   "cell_type": "code",
   "execution_count": null,
   "id": "0e993d77-dc2e-4edc-89e8-bf8fc2c8bf26",
   "metadata": {},
   "outputs": [],
   "source": [
    "Employees.groupby('JobTitle')['VacationHours'].mean().reset_index().head(3)"
   ]
  },
  {
   "cell_type": "code",
   "execution_count": null,
   "id": "f103fc48-f49b-458d-b309-043f5f532387",
   "metadata": {},
   "outputs": [],
   "source": [
    "Employees.groupby('JobTitle')['VacationHours'].apply(lambda x: sum(x)/len(x)).reset_index().head(3)"
   ]
  },
  {
   "cell_type": "code",
   "execution_count": null,
   "id": "29f6ad1c-0fe3-456e-877b-5856e1b3e4f6",
   "metadata": {
    "scrolled": true
   },
   "outputs": [],
   "source": [
    "Employees.groupby('JobTitle').agg(\n",
    "    avg_pto_left=('VacationHours',lambda x: sum(x)/len(x)),\n",
    "    min_pto_left=('VacationHours',min)\n",
    ").reset_index()"
   ]
  },
  {
   "cell_type": "code",
   "execution_count": null,
   "id": "00fb585c-fe9b-43e0-be39-5af0b702f317",
   "metadata": {},
   "outputs": [],
   "source": []
  },
  {
   "cell_type": "code",
   "execution_count": null,
   "id": "694f0842-51ef-42ed-8065-57bc64b6685f",
   "metadata": {},
   "outputs": [],
   "source": []
  },
  {
   "cell_type": "code",
   "execution_count": null,
   "id": "6bf8b9d7-1023-47e9-be9b-f6b3a9fc5d45",
   "metadata": {},
   "outputs": [],
   "source": []
  },
  {
   "cell_type": "markdown",
   "id": "da19c409-5b34-4796-8403-373e121cdec0",
   "metadata": {},
   "source": [
    "# The Python Statistics Landscape\n",
    "\n",
    "There are many Python statistics libraries for you to work with.\n",
    "\n",
    "* **Foundation Libraries**\n",
    "    * `statistics`: built-in Python library for descriptive statistics (link: https://docs.python.org/3/library/statistics.html)\n",
    "    * `numpy`: numerical computing, numpy arrays, covered in lecture 03\n",
    "    * `scipy`: scientific computing based on numpy, the `scipy.stats` module (link: https://docs.scipy.org/doc/scipy/reference/stats.html) covers a large number of probability distributions and statistical functions (link: https://www.scipy.org/)\n",
    "    \n",
    "* **Data Science Libraries**\n",
    "    * `pandas`: 1D and 2D labeled data manipulations and computation, covered in lecture 04\n",
    "    * `statsmodels`: a Python module that provides classes and functions for the estimation of many different statistical models, as well as for conducting statistical tests, and statistical data exploration (link: https://www.statsmodels.org/stable/index.html)\n",
    "    * `matplotlib`: graphs and visualization (link: https://matplotlib.org/)"
   ]
  },
  {
   "cell_type": "markdown",
   "id": "bf57c044-806f-43ff-8d0e-d780b921f3eb",
   "metadata": {},
   "source": [
    "# Descriptive Statistical Analysis\n",
    "\n",
    "Descriptive statistics is about describing and summarizing data. It uses two main approaches:\n",
    "\n",
    "* The quantitative approach describes and summarizes data numerically.\n",
    "* The visual approach illustrates data with charts, plots, histograms, and other graphs.\n",
    "\n",
    "You can apply descriptive statistics to one or many datasets or variables. When you describe and summarize a single variable, you’re performing univariate analysis. When you search for statistical relationships among a pair of variables, you’re doing a bivariate analysis. Similarly, a multivariate analysis is concerned with multiple variables at once.\n"
   ]
  },
  {
   "cell_type": "markdown",
   "id": "913fbef7-c1f8-4870-86ba-e91c41c283f4",
   "metadata": {},
   "source": [
    "**[Case Study]**\n",
    "\n",
    "**Atlanta Police Department Crime Data** ![APD Logo](https://atlantapd.galls.com/photos/partners/atlantapd/logo.jpg)\n",
    "\n",
    "\n",
    "The Atlanta Police Department provides raw crime data at http://www.atlantapd.org/i-want-to/crime-data-downloads\n"
   ]
  },
  {
   "cell_type": "code",
   "execution_count": null,
   "id": "23f23567-33af-4d01-ab1b-42919d09f943",
   "metadata": {},
   "outputs": [],
   "source": [
    "import pandas as pd\n",
    "import matplotlib.pyplot as plt"
   ]
  },
  {
   "cell_type": "markdown",
   "id": "ef83d8fe-1b91-47a4-8aa6-42ea81bf9c89",
   "metadata": {},
   "source": [
    "## Load the 2009-2019 crime data"
   ]
  },
  {
   "cell_type": "code",
   "execution_count": null,
   "id": "e4a124ac-27f4-45a7-a02d-c2f8fbb4cc0a",
   "metadata": {},
   "outputs": [],
   "source": [
    "df = pd.read_csv('../data/COBRA-2009-2019.csv',sep=',',header=0)\n",
    "df.head(3)"
   ]
  },
  {
   "cell_type": "code",
   "execution_count": null,
   "id": "a2ac9ca6-e2b5-40ba-abfe-733a4a115160",
   "metadata": {},
   "outputs": [],
   "source": [
    "df.shape"
   ]
  },
  {
   "cell_type": "code",
   "execution_count": null,
   "id": "b7d5c65a-05b6-4ee8-994b-78697f812e3b",
   "metadata": {},
   "outputs": [],
   "source": [
    "df.info()"
   ]
  },
  {
   "cell_type": "markdown",
   "id": "afd816dd-260e-414d-9b30-20febb813cfa",
   "metadata": {},
   "source": [
    "## Quantitative Analysis"
   ]
  },
  {
   "cell_type": "code",
   "execution_count": null,
   "id": "2a1c4429-27b5-47a2-a37d-81169474aef0",
   "metadata": {},
   "outputs": [],
   "source": [
    "df['rpt_yr'] = df['Report Date'].map(lambda x: x[:4])\n",
    "\n",
    "df.head(3)"
   ]
  },
  {
   "cell_type": "code",
   "execution_count": null,
   "id": "616c7d00-de58-4d6b-a054-e69c9f60592d",
   "metadata": {},
   "outputs": [],
   "source": [
    "## number of reports every year\n",
    "# df['rpt_yr'] = df['Report Date'].map(lambda x: x[:4])\n",
    "\n",
    "num_rpt_by_yr = df.groupby('rpt_yr').agg(\n",
    "    num_row=('Report Number',len),\n",
    "    num_rpt=('Report Number',lambda x: len(set(x)))\n",
    ").reset_index()\n",
    "num_rpt_by_yr"
   ]
  },
  {
   "cell_type": "code",
   "execution_count": null,
   "id": "b4cc6ac0-9a42-4751-b8f9-6535eab08944",
   "metadata": {},
   "outputs": [],
   "source": [
    "df.groupby('rpt_yr')['Report Number'].nunique().reset_index()"
   ]
  },
  {
   "cell_type": "code",
   "execution_count": null,
   "id": "51766d7b-71f5-47e6-b549-01cdd7b4a3f7",
   "metadata": {},
   "outputs": [],
   "source": [
    "## number of cases per shift in 2019\n",
    "num_rpt_by_shift = df[df.rpt_yr=='2019'].groupby('Shift Occurence').agg(\n",
    "    num_rpt=('Report Number',lambda x: len(set(x)))\n",
    ").reset_index()\n",
    "num_rpt_by_shift"
   ]
  },
  {
   "cell_type": "code",
   "execution_count": null,
   "id": "906700f2-b98b-49fc-a9d7-e3a9b7907fa5",
   "metadata": {},
   "outputs": [],
   "source": [
    "## number of cases per shift in the past 3 years\n",
    "num_rpt_by_yr_shift = df[df.rpt_yr>='2017'].groupby(['rpt_yr','Shift Occurence']).agg(\n",
    "    num_rpt=('Report Number',lambda x: len(set(x)))\n",
    ").reset_index()\n",
    "# num_rpt_by_yr_shift\n",
    "num_rpt_by_yr_shift.sort_values(by=['Shift Occurence','rpt_yr'])"
   ]
  },
  {
   "cell_type": "code",
   "execution_count": null,
   "id": "072deb3a-aa09-493d-99c8-c13ead919002",
   "metadata": {},
   "outputs": [],
   "source": [
    "## % of cases per shift in the past 3 years\n",
    "num_rpt_by_yr_shift2 = pd.merge(\n",
    "    num_rpt_by_yr_shift,\n",
    "    num_rpt_by_yr.loc[:,['rpt_yr','num_rpt']].copy().rename(columns={'num_rpt':'annual_total'}),\n",
    "    on='rpt_yr'\n",
    ")\n",
    "num_rpt_by_yr_shift2.sort_values(by=['Shift Occurence','rpt_yr'])"
   ]
  },
  {
   "cell_type": "code",
   "execution_count": null,
   "id": "f2787770-4839-417b-ad2b-311a718703e2",
   "metadata": {},
   "outputs": [],
   "source": [
    "num_rpt_by_yr_shift2['percent'] = [\n",
    "    round(subtotal/total,2)\n",
    "    for subtotal,total in zip(num_rpt_by_yr_shift2.num_rpt,num_rpt_by_yr_shift2.annual_total)\n",
    "]\n",
    "num_rpt_by_yr_shift2.sort_values(by=['Shift Occurence','rpt_yr'])"
   ]
  },
  {
   "cell_type": "markdown",
   "id": "02e64ae6-ee90-4011-b7a4-bdd2324159e2",
   "metadata": {},
   "source": [
    "**Can you do better??**"
   ]
  },
  {
   "cell_type": "markdown",
   "id": "6d64b10f-539b-49ae-8114-eff918a0c008",
   "metadata": {},
   "source": [
    "## Visual Analysis"
   ]
  },
  {
   "cell_type": "markdown",
   "id": "4a58569d-ca31-4c10-b462-6e6379673e93",
   "metadata": {},
   "source": [
    "### Visualize the YOY change of % by shift with bar chart"
   ]
  },
  {
   "cell_type": "code",
   "execution_count": null,
   "id": "86c14464-8155-4c79-ac13-daa587ee7270",
   "metadata": {},
   "outputs": [],
   "source": [
    "num_rpt_by_yr_shift2.rpt_yr = num_rpt_by_yr_shift2.rpt_yr.astype(int)\n",
    "dw = num_rpt_by_yr_shift2[num_rpt_by_yr_shift2['Shift Occurence']=='Day Watch']\n",
    "ew = num_rpt_by_yr_shift2[num_rpt_by_yr_shift2['Shift Occurence']=='Evening Watch']\n",
    "mw = num_rpt_by_yr_shift2[num_rpt_by_yr_shift2['Shift Occurence']=='Morning Watch']\n",
    "unk = num_rpt_by_yr_shift2[num_rpt_by_yr_shift2['Shift Occurence']=='Unknown']\n",
    "\n",
    "plt.plot(dw.rpt_yr, dw.percent, '-o', label='day watch')\n",
    "plt.plot(ew.rpt_yr, ew.percent, '-o', label='evening watch')\n",
    "plt.plot(mw.rpt_yr, mw.percent, '-o', label='morning watch')\n",
    "plt.plot(unk.rpt_yr, unk.percent, '-o', label='unknown')\n",
    "\n",
    "plt.xticks(ticks=[2017,2018,2019])\n",
    "plt.legend()\n",
    "plt.show()"
   ]
  },
  {
   "cell_type": "markdown",
   "id": "c2a559d3-fd40-4b97-bbd0-9e10c947f067",
   "metadata": {},
   "source": [
    "# Hypothesis Test and Confidence Interval"
   ]
  },
  {
   "cell_type": "markdown",
   "id": "6cc7d7c8-0017-4f90-98a8-d0baee650993",
   "metadata": {},
   "source": [
    "## Statistical Distributions"
   ]
  },
  {
   "cell_type": "markdown",
   "id": "3a140464-b40c-4e4d-9fb6-00fcd9ade854",
   "metadata": {},
   "source": [
    "### Normal distribution\n",
    "\n",
    "The Normal distribution or Gaussian distribution is by far the most important of all the distribution functions. This is due to the fact that the mean values of all distribution functions approximate a normal distribution for large enough sample numbers. Mathematically, the normal distribution is characterized by a mean value $\\mu$, and a standard deviation $\\sigma$:\n",
    "$$\n",
    "f(x) = \\frac{1}{\\sigma\\sqrt{2\\pi}}e^{-\\frac{(x-\\mu)^2}{2\\sigma^2}}\n",
    "$$\n",
    "\n",
    "When $\\mu=0$ and $\\sigma=1$, the distribution is called the `standard normal distribution`:\n",
    "$$\n",
    "f(x) = \\frac{1}{\\sqrt{2\\pi}}e^{-\\frac{x^2}{2}}\n",
    "$$\n",
    "\n",
    "The **68-95-997** rule:\n",
    "![](https://miro.medium.com/max/24000/1*IZ2II2HYKeoMrdLU5jW6Dw.png)\n",
    "\n",
    "| Range      | Probability within range | Probability outside range |\n",
    "|------------|--------------------------|---------------------------|\n",
    "| Mean ± 1SD | 68.3%                    | 31.7%                     |\n",
    "| Mean ± 2SD | 95.4%                    | 4.6%                      |\n",
    "| Mean ± 3SD | 99.7%                    | 0.27%                     |"
   ]
  },
  {
   "cell_type": "markdown",
   "id": "9fa2c142-4018-4d5e-8e43-6a6e6714aa15",
   "metadata": {},
   "source": [
    "**Generate random samples from the normal distribution**"
   ]
  },
  {
   "cell_type": "code",
   "execution_count": null,
   "id": "3e0b6e47-f64f-4292-b3bd-0d0f30e14c78",
   "metadata": {},
   "outputs": [],
   "source": [
    "from scipy import stats\n",
    "\n",
    "rvs = stats.norm.rvs(loc=0, scale=1, size=5, random_state=123)\n",
    "rvs"
   ]
  },
  {
   "cell_type": "code",
   "execution_count": null,
   "id": "a4ae1772-3713-4f67-8111-e06bbdb76b76",
   "metadata": {},
   "outputs": [],
   "source": [
    "type(rvs)"
   ]
  },
  {
   "cell_type": "code",
   "execution_count": null,
   "id": "9f9abfdd-debb-4e1d-b74d-fe06e2189e8c",
   "metadata": {},
   "outputs": [],
   "source": [
    "import numpy as np"
   ]
  },
  {
   "cell_type": "code",
   "execution_count": null,
   "id": "af3248bf-c858-4fb6-afd2-6660f2045566",
   "metadata": {},
   "outputs": [],
   "source": [
    "np.random.seed(123)\n",
    "np.random.randn(5) # Return a sample (or samples) from the \"standard normal\" distribution."
   ]
  },
  {
   "cell_type": "markdown",
   "id": "a3c7fd86-ea92-44b4-a356-c0d456e4ea6e",
   "metadata": {},
   "source": [
    "For random samples from $N(\\mu, \\sigma^2)$, use:\n",
    "\n",
    "$$\\sigma \\cdot np.random.randn(...) + \\mu$$"
   ]
  },
  {
   "cell_type": "code",
   "execution_count": null,
   "id": "a0f39c6f-6088-41eb-bfaf-522949cb9b6e",
   "metadata": {},
   "outputs": [],
   "source": [
    "import matplotlib.pyplot as plt"
   ]
  },
  {
   "cell_type": "code",
   "execution_count": null,
   "id": "31abb73d-1735-433d-94cf-09fc75a89bcd",
   "metadata": {},
   "outputs": [],
   "source": [
    "# plt.hist(np.random.randn(10000))\n",
    "plt.hist(np.random.randn(10000),density=True)\n",
    "plt.title('Histogram of random samples from standard normal distribution')\n",
    "plt.show()"
   ]
  },
  {
   "cell_type": "markdown",
   "id": "01ba22f8-ccbf-40e5-bed4-5b8643c8117b",
   "metadata": {},
   "source": [
    "**Calculate PDF**"
   ]
  },
  {
   "cell_type": "code",
   "execution_count": null,
   "id": "e7cd6fd2-3f47-4f47-ac1c-b19c992eb511",
   "metadata": {},
   "outputs": [],
   "source": [
    "stats.norm.pdf(x=[-3,-2,-1,1,2,3],loc=0,scale=1)"
   ]
  },
  {
   "cell_type": "code",
   "execution_count": null,
   "id": "ee23a35c-9905-4970-b7ec-57ea802712f9",
   "metadata": {},
   "outputs": [],
   "source": [
    "## you could also do\n",
    "distNorm = stats.norm(loc=0,scale=1)\n",
    "distNorm.pdf(x=[-3,-2,-1,1,2,3])"
   ]
  },
  {
   "cell_type": "code",
   "execution_count": null,
   "id": "d80075d6-a584-4071-b645-99af9a97d7d3",
   "metadata": {},
   "outputs": [],
   "source": [
    "# the histogram from random sample\n",
    "plt.hist(np.random.randn(10000),density=True,label='random sample') \n",
    "# construct the pdf curve\n",
    "xs = np.linspace(start=-4,stop=4,num=100)\n",
    "ys = stats.norm.pdf(x=xs)\n",
    "plt.plot(xs,ys,label='norm pdf')\n",
    "\n",
    "plt.title('hist vs. pdf (Normal Distribution)')\n",
    "plt.legend()\n",
    "plt.show()"
   ]
  },
  {
   "cell_type": "markdown",
   "id": "de33aec1-eeb2-473d-a141-612dbd3dc871",
   "metadata": {},
   "source": [
    "**Calculate CDF** (Cumulative Distribution Function)"
   ]
  },
  {
   "cell_type": "code",
   "execution_count": null,
   "id": "012beade-2f9c-4ec2-b1f4-fd8b5cbe9137",
   "metadata": {},
   "outputs": [],
   "source": [
    "stats.norm.cdf(x=[-3,-2,-1,1,2,3],loc=0,scale=1)"
   ]
  },
  {
   "cell_type": "code",
   "execution_count": null,
   "id": "4dbffc6f-aba8-47b7-b23f-96440e788de9",
   "metadata": {},
   "outputs": [],
   "source": [
    "# the histogram from random sample\n",
    "plt.hist(np.random.randn(10000),density=True,label='random sample') \n",
    "# construct the pdf curve\n",
    "xs = np.linspace(start=-4,stop=4,num=100)\n",
    "ys_pdf = stats.norm.pdf(x=xs)\n",
    "plt.plot(xs,ys_pdf,label='norm pdf')\n",
    "\n",
    "# construct the cdf curve\n",
    "ys_cdf = stats.norm.cdf(x=xs)\n",
    "plt.plot(xs,ys_cdf,label='norm cdf')\n",
    "\n",
    "plt.title('hist vs. pdf (Normal Distribution)')\n",
    "plt.legend()\n",
    "plt.grid()\n",
    "plt.show()"
   ]
  },
  {
   "cell_type": "markdown",
   "id": "ec3b5682-d906-458b-8b22-da37fe8b3f99",
   "metadata": {},
   "source": [
    "**`ppf`: Percent Point Function (Inverse of CDF)**"
   ]
  },
  {
   "cell_type": "code",
   "execution_count": null,
   "id": "f5bb1316-8bb0-468e-bdb1-16006a22e27a",
   "metadata": {},
   "outputs": [],
   "source": [
    "stats.norm.ppf([0.05,0.95])"
   ]
  },
  {
   "cell_type": "code",
   "execution_count": null,
   "id": "47126ec7-bc3d-486e-b551-1ceb7a919e90",
   "metadata": {},
   "outputs": [],
   "source": []
  },
  {
   "cell_type": "markdown",
   "id": "530e1102-0e0e-4044-8e4e-d367b85404cf",
   "metadata": {},
   "source": [
    "**Central limit theorem**\n",
    "\n",
    "https://en.wikipedia.org/wiki/Central_limit_theorem\n",
    "\n",
    "In probability theory, the **central limit theorem (CLT)** establishes that in some situations, when independent random variables are added, their properly normalized sum tends toward a normal distribution (informally a bell curve), even if the original variables themselves are not normally distributed. The theorem is a key concept in probability theory, because it implies that probabilistic and statistical methods that work for normal distributions can be applied to many problems involving other types of distributions.\n",
    "\n",
    "More specifically, central limit theorem states that if $ X_{1},X_{2},...,X_{n}$ are each a random sample of size $n$, taken from a population with mean $\\mu$ and finite variance $\\sigma^2$ and if $\\bar{X}$ is the sample mean, then the limiting form of the distribution of $Z=\\frac {{\\bar {X}}_{n}-\\mu }{\\sigma /\\surd n}$ as $n\\to \\infty$, is the standard normal distribution.\n",
    "\n",
    "![](https://i.ytimg.com/vi/4YLtvNeRIrg/maxresdefault.jpg)"
   ]
  },
  {
   "cell_type": "code",
   "execution_count": null,
   "id": "4eb32226-a777-4956-a7b5-70ea62e18e61",
   "metadata": {},
   "outputs": [],
   "source": []
  },
  {
   "cell_type": "markdown",
   "id": "d66f62f3-84b7-41f4-badc-8344fceb57c8",
   "metadata": {},
   "source": [
    "### $t$ distribution\n",
    "\n",
    "The sample distribution of mean values for samples from a normally distributed population. Typically used for small sample numbers, when the true mean/SD are not known.\n",
    "\n",
    "If $\\bar{x}$ is the sample mean, and $s$ is the sample standard deviation, then\n",
    "$$\n",
    "\\frac{\\bar{x}-\\mu}{s/\\sqrt{n}} \\sim t_{\\nu}\n",
    "$$ where $\\nu=n-1$ represents the degree of freedom, and $n$ is the sample size.\n",
    "\n",
    "When $n$ is large enough, $t$ distribution asymptotically approaches standard normal distribution"
   ]
  },
  {
   "cell_type": "code",
   "execution_count": null,
   "id": "f93de666-21e9-4f53-b8c3-62c522445cd9",
   "metadata": {},
   "outputs": [],
   "source": [
    "# generate random numbers from the t distribution\n",
    "\n",
    "n = 20\n",
    "df = n - 1\n",
    "rvs = stats.t.rvs(df=df,size=5,random_state=123)\n",
    "rvs"
   ]
  },
  {
   "cell_type": "code",
   "execution_count": null,
   "id": "820822c0-97f3-47e4-be7a-7d3a6092d1da",
   "metadata": {},
   "outputs": [],
   "source": [
    "rvs = stats.t.rvs(df,size=5,random_state=123)\n",
    "rvs"
   ]
  },
  {
   "cell_type": "code",
   "execution_count": null,
   "id": "2f38cfe6-2ac1-4e4d-9ec3-01365e531d79",
   "metadata": {},
   "outputs": [],
   "source": [
    "# plot the pdf of t distribution\n",
    "xs = np.linspace(start=-4,stop=4,num=100)\n",
    "ys_1 = stats.t.pdf(x=xs,df=1)\n",
    "ys_5 = stats.t.pdf(x=xs,df=5)\n",
    "ys_10 = stats.t.pdf(x=xs,df=10)\n",
    "ys_20 = stats.t.pdf(x=xs,df=20)\n",
    "ys_100 = stats.t.pdf(x=xs,df=100)\n",
    "plt.plot(xs,ys_1,label='df=1')\n",
    "plt.plot(xs,ys_5,label='df=5')\n",
    "plt.plot(xs,ys_10,label='df=10')\n",
    "plt.plot(xs,ys_20,label='df=20')\n",
    "plt.plot(xs,ys_100,label='df=100')\n",
    "# plot the pdf of standard normal distribution\n",
    "ys = stats.norm.pdf(x=xs)\n",
    "plt.plot(xs,ys,'o',label='norm pdf')\n",
    "plt.legend()\n",
    "plt.show()"
   ]
  },
  {
   "cell_type": "code",
   "execution_count": null,
   "id": "2847c103-41a1-4ed1-aff3-7d0f06e2209b",
   "metadata": {},
   "outputs": [],
   "source": [
    "# plot the cdf of t distribution\n",
    "xs = np.linspace(start=-4,stop=4,num=100)\n",
    "ys_1 = stats.t.cdf(x=xs,df=1)\n",
    "ys_5 = stats.t.cdf(x=xs,df=5)\n",
    "ys_10 = stats.t.cdf(x=xs,df=10)\n",
    "ys_20 = stats.t.cdf(x=xs,df=20)\n",
    "ys_100 = stats.t.cdf(x=xs,df=100)\n",
    "plt.plot(xs,ys_1,label='df=1')\n",
    "plt.plot(xs,ys_5,label='df=5')\n",
    "plt.plot(xs,ys_10,label='df=10')\n",
    "plt.plot(xs,ys_20,label='df=20')\n",
    "plt.plot(xs,ys_100,label='df=100')\n",
    "# plot the cdf of standard normal distribution\n",
    "ys = stats.norm.cdf(x=xs)\n",
    "plt.plot(xs,ys,'o',label='norm cdf')\n",
    "plt.legend()\n",
    "plt.show()"
   ]
  },
  {
   "cell_type": "code",
   "execution_count": null,
   "id": "a2b8ee4c-8c75-4482-b659-b944482b8405",
   "metadata": {},
   "outputs": [],
   "source": []
  },
  {
   "cell_type": "markdown",
   "id": "ed6fdfda-4573-4f70-996a-32ff91f6257d",
   "metadata": {},
   "source": [
    "**`ppf`: Percent Point Function (Inverse of CDF)**"
   ]
  },
  {
   "cell_type": "code",
   "execution_count": null,
   "id": "0c66c6a1-7a1d-40f3-8a4b-85ebde239910",
   "metadata": {},
   "outputs": [],
   "source": [
    "# when n=20, df = n-1 =19\n",
    "stats.t.ppf([0.05,0.95],df=df)"
   ]
  },
  {
   "cell_type": "markdown",
   "id": "894922e1-0112-4cd1-b0de-10fe84a7e76e",
   "metadata": {},
   "source": [
    "### $\\chi^2 distribution$\n",
    "$\\chi^2$ (chi-square) distribution describes the distribution of the summed squares of random variates from a standard normal distribution. The sum squares of $n$ independent random samples from standard normal distribution follows a chi-square distribution of $n$ degrees of freedom:\n",
    "$$\n",
    "\\sum_{i=1}^{n}X_i^2 \\sim \\chi_n^2\n",
    "$$\n",
    "For $n$ independent random samples from normal distribution with a standard deviation of $\\sigma$, the following test statistic follows the chi-square distribution of $n-1$ degrees of freedom:\n",
    "$$\n",
    "\\sum_{i=1}^{n}(\\frac{X_i-\\bar{X}}{\\sigma})^2 = (n-1)\\frac{s}{\\sigma^2} \\sim \\chi_{n-1}^2\n",
    "$$\n",
    "where $s$ stands for sample standard deviation. This can be used in hypothesis test of comparison between sample standard deviation and population standard deviation.\n",
    "\n",
    "It is also commonly used in statistical independence or association between two or more categorical variables using the following test statistic:\n",
    "$$\n",
    "\\sum_{i=1}^{k}\\frac{({frequency}_{observed} - {frequency}_{expected})^2}{{frequency}_{expected}} \\sim \\chi_{df}^2\n",
    "$$\n",
    "where \n",
    "$$\n",
    "df = k - 1 - #_parameters_estimated\n",
    "$$ see example here: http://sites.utexas.edu/sos/guided/inferential/categorical/chi2/\n"
   ]
  },
  {
   "cell_type": "code",
   "execution_count": null,
   "id": "e0ce4349-4fac-4afe-81f4-8ba1043dcc96",
   "metadata": {},
   "outputs": [],
   "source": [
    "n = 20\n",
    "df = n-1\n",
    "rvs = stats.chi2.rvs(df=df,size=5,random_state=123)\n",
    "rvs"
   ]
  },
  {
   "cell_type": "code",
   "execution_count": null,
   "id": "1ccce4e5-d8d0-4cd9-be72-1506e9b98670",
   "metadata": {},
   "outputs": [],
   "source": [
    "# plot the pdf of chi2 distribution\n",
    "plt.figure(figsize=(20,10))\n",
    "\n",
    "xs = np.linspace(start=0,stop=100,num=1000)\n",
    "ys_1 = stats.chi2.pdf(x=xs,df=1)\n",
    "ys_2 = stats.chi2.pdf(x=xs,df=2)\n",
    "ys_3 = stats.chi2.pdf(x=xs,df=3)\n",
    "ys_4 = stats.chi2.pdf(x=xs,df=4)\n",
    "ys_6 = stats.chi2.pdf(x=xs,df=6)\n",
    "ys_9 = stats.chi2.pdf(x=xs,df=9)\n",
    "plt.plot(xs,ys_1,label='df=1')\n",
    "plt.plot(xs,ys_2,label='df=2')\n",
    "plt.plot(xs,ys_3,label='df=3')\n",
    "plt.plot(xs,ys_4,label='df=4')\n",
    "plt.plot(xs,ys_6,label='df=6')\n",
    "plt.plot(xs,ys_9,label='df=9')\n",
    "plt.xlim(0,20)\n",
    "plt.ylim(0,0.5)\n",
    "plt.legend()\n",
    "plt.show()\n"
   ]
  },
  {
   "cell_type": "code",
   "execution_count": null,
   "id": "9df485be-872c-41c9-87f0-e6481d2a2e44",
   "metadata": {},
   "outputs": [],
   "source": [
    "# plot the cdf of chi2 distribution\n",
    "plt.figure(figsize=(20,10))\n",
    "\n",
    "xs = np.linspace(start=0,stop=100,num=1000)\n",
    "ys_1 = stats.chi2.cdf(x=xs,df=1)\n",
    "ys_2 = stats.chi2.cdf(x=xs,df=2)\n",
    "ys_3 = stats.chi2.cdf(x=xs,df=3)\n",
    "ys_4 = stats.chi2.cdf(x=xs,df=4)\n",
    "ys_6 = stats.chi2.cdf(x=xs,df=6)\n",
    "ys_9 = stats.chi2.cdf(x=xs,df=9)\n",
    "plt.plot(xs,ys_1,label='df=1')\n",
    "plt.plot(xs,ys_2,label='df=2')\n",
    "plt.plot(xs,ys_3,label='df=3')\n",
    "plt.plot(xs,ys_4,label='df=4')\n",
    "plt.plot(xs,ys_6,label='df=6')\n",
    "plt.plot(xs,ys_9,label='df=9')\n",
    "plt.xlim(0,20)\n",
    "plt.ylim(0,1)\n",
    "plt.legend()\n",
    "plt.show()"
   ]
  },
  {
   "cell_type": "markdown",
   "id": "32ab6046-0575-487c-9aca-3482652e4f24",
   "metadata": {},
   "source": [
    "**`ppf`: Percent Point Function (Inverse of CDF)**"
   ]
  },
  {
   "cell_type": "code",
   "execution_count": null,
   "id": "732a9631-663c-40ec-86b4-e8c8c3b5c5c6",
   "metadata": {},
   "outputs": [],
   "source": [
    "# when df=9\n",
    "stats.chi2.ppf([0.05,0.95],df=9)"
   ]
  },
  {
   "cell_type": "markdown",
   "id": "6fc297db-e9ec-4adf-aeb9-6ccac15b6428",
   "metadata": {},
   "source": [
    "### $F$ distribution\n",
    "\n",
    "This distribution is named after Sir Ronald Fisher, who developed the F distribution for use in determining critical values in **ANOVAs** (`Analysis Of Variance`).\n",
    "\n",
    "If we want to investigate whether two groups have the same variance, we have to calculate the ratio of the sample standard deviations squared (assume $S_1^2 > S_2^2$):\n",
    "$$\n",
    "\\frac{S_1^2}{S_2^2} \\sim F_{df_1,df_2} = \\frac{\\chi_{df_1}^2/df_1}{\\chi_{df_2}^2/df_2} \\sim F_{N_1-1,N_2-1}\n",
    "$$\n",
    "where $\\chi_{df_1}^2$ and $\\chi_{df_2}^2$ are the chi-squared statistics of sample one and two respectively, and $df_1$ and $df_2$ are their degrees of freedom, in which case\n",
    "$$\n",
    "df_1 = N_1-1\n",
    "$$\n",
    "and\n",
    "$$\n",
    "df_2 = N_2-1\n",
    "$$ ($N_1$ and $N_2$ are sample sizes of the two samples)"
   ]
  },
  {
   "cell_type": "code",
   "execution_count": null,
   "id": "522a8edd-d281-465a-9941-a8f08771640e",
   "metadata": {},
   "outputs": [],
   "source": [
    "# plot the pdf of F distribution\n",
    "plt.figure(figsize=(20,10))\n",
    "\n",
    "xs = np.linspace(start=0,stop=5,num=1000)\n",
    "ys_11 = stats.f.pdf(x=xs,dfn=1,dfd=1)\n",
    "ys_21 = stats.f.pdf(x=xs,dfn=2,dfd=1)\n",
    "ys_52 = stats.f.pdf(x=xs,dfn=5,dfd=2)\n",
    "ys_100100 = stats.f.pdf(x=xs,dfn=100,dfd=100)\n",
    "plt.plot(xs,ys_11,label='F(1/1)')\n",
    "plt.plot(xs,ys_21,label='F(2/1)')\n",
    "plt.plot(xs,ys_52,label='F(5/2)')\n",
    "plt.plot(xs,ys_100100,label='F(100/100)')\n",
    "\n",
    "plt.xlim(0,3)\n",
    "plt.ylim(0,3)\n",
    "plt.legend()\n",
    "plt.show()"
   ]
  },
  {
   "cell_type": "code",
   "execution_count": null,
   "id": "33113b71-c92f-488b-a4b1-56d448de59be",
   "metadata": {},
   "outputs": [],
   "source": [
    "# plot the cdf of F distribution\n",
    "plt.figure(figsize=(20,10))\n",
    "\n",
    "xs = np.linspace(start=0,stop=5,num=1000)\n",
    "ys_11 = stats.f.cdf(x=xs,dfn=1,dfd=1)\n",
    "ys_21 = stats.f.cdf(x=xs,dfn=2,dfd=1)\n",
    "ys_52 = stats.f.cdf(x=xs,dfn=5,dfd=2)\n",
    "ys_100100 = stats.f.cdf(x=xs,dfn=100,dfd=100)\n",
    "plt.plot(xs,ys_11,label='F(1/1)')\n",
    "plt.plot(xs,ys_21,label='F(2/1)')\n",
    "plt.plot(xs,ys_52,label='F(5/2)')\n",
    "plt.plot(xs,ys_100100,label='F(100/100)')\n",
    "\n",
    "plt.xlim(0,3)\n",
    "plt.ylim(0,1)\n",
    "plt.legend()\n",
    "plt.show()"
   ]
  },
  {
   "cell_type": "markdown",
   "id": "7529980c-1bba-42c5-98fd-86eaec8a127a",
   "metadata": {},
   "source": [
    "**`ppf`: Percent Point Function (Inverse of CDF)**"
   ]
  },
  {
   "cell_type": "code",
   "execution_count": null,
   "id": "ab5b0669-d885-4bae-a43e-ea05640b4c54",
   "metadata": {},
   "outputs": [],
   "source": [
    "# when dfn=100, dfd=100\n",
    "stats.f.ppf([0.05,0.95],dfn=100,dfd=100)"
   ]
  },
  {
   "cell_type": "markdown",
   "id": "44c3067f-299b-4001-8ea9-ad01e05f18fe",
   "metadata": {},
   "source": [
    "## Hypothesis Test\n",
    "\n",
    "wikipedia: https://en.wikipedia.org/wiki/Statistical_hypothesis_testing"
   ]
  },
  {
   "cell_type": "markdown",
   "id": "6ce15d62-96d5-44b3-9fc3-996a085b0957",
   "metadata": {},
   "source": [
    "`Hypothesis` is a statement about a parameter. A `hypothesis test` is a standard procedure to test a statement (the `hypothesis`), and typically we need to select between two complementary `hypothesis`:\n",
    "* `Null hypothesis` ($H_0$): A statment about an established fact of a parameter. The null hypothesis is generally assumed to be true until evidence indicates otherwise (similar to the case that a defendant of a jury trial is presumed innocent until proven guilty). It is normally expressed as Math equation, and **it must contain a condition of equality, such as $=,\\geq, \\leq $**.\n",
    "* `Alternative hypothesis` ($H_1$): A statement that the parameter has a value that differs from the null hypothesis.\n",
    " Needs a strong support from data to change our thinking and contradicts Ho. Expressed as Math statement it contains $\\neq, <, >$.\n",
    "\n",
    "We also need a `test statistic` (a quantity derived from the sample). Typically it is selected or defined in such a way as to quantify, within observed data, behaviours that would distinguish the `null` from the `alternative hypothesis`, where such an alternative is prescribed, or that would characterize the null hypothesis if there is no explicitly stated alternative hypothesis. Normally, we should have a good idea on the sampling distribution of the test statistic.\n",
    "* List of commonly used `test statistic`: https://en.wikipedia.org/wiki/Test_statistic\n",
    "\n",
    "| Null Hypothesis        | Alternative Hypothesis      | Type of Alternative |\n",
    "|------------------------|-----------------------------|---------------------|\n",
    "|                        | $H_1$: $\\theta < \\theta_0$    | lower one-sided     |\n",
    "| $H_0$: $\\theta=\\theta_0$ | $H_1$: $\\theta > \\theta_0$    | upper one-sided     |\n",
    "|                        | $H_1$: $\\theta \\neq \\theta_0$ | two-sided           |\n",
    "\n",
    "|                                   | $H_0$ is true (Truly not guilty) |    $H_1$ is true (Truly guilty)   |\n",
    "|-----------------------------------|---------------------------|----------------------------|\n",
    "|  Accept null hypothesis Acquittal |        Right decision       | Wrong decision **Type II Error** |\n",
    "| Reject null hypothesis Conviction | Wrong decision **Type I Error** |        Right decision        |"
   ]
  },
  {
   "cell_type": "markdown",
   "id": "1baeef5d-f94b-48ac-b7bb-ddadce44c2bf",
   "metadata": {},
   "source": [
    "### One Population Proportion"
   ]
  },
  {
   "cell_type": "markdown",
   "id": "1c821202-ca63-4757-809a-50ac66080343",
   "metadata": {},
   "source": [
    "**Example: How to tell if a coin is fair?**\n",
    "\n",
    "**Problem**: Suppose we tossed a coin 100 times and we have obtained 38\n",
    "Heads and 62 Tails. Is the coin biased toward tails? "
   ]
  },
  {
   "cell_type": "markdown",
   "id": "b899c174-0091-4ac2-b199-186345055e95",
   "metadata": {},
   "source": [
    "$H_0$: $p_{head} = 0.5$\n",
    "\n",
    "$H_1$: $p_{head} \\neq 0.5$ (two-sided)\n",
    "\n",
    "Significance level $\\alpha=0.05$\n",
    "\n",
    "`Test statistic`: $z = \\frac{\\hat{p}-p_0}{SD(p_0)} \\sim N(0,1)$ according to `central limit theorem`, where $SD(p_0) =\\sqrt{\\frac{p_0q_0}{n}} = \\sqrt{\\frac{p_0(1-p_0)}{n}} $.\n",
    "![](https://www.investopedia.com/thmb/pF9cbALKXUA617NzyoKozi1B0rQ=/954x380/filters:no_upscale():max_bytes(150000):strip_icc()/Clipboard01-5c94e6b446e0fb00010ae8ed.jpg)"
   ]
  },
  {
   "cell_type": "code",
   "execution_count": null,
   "id": "17f3aa95-463e-4fdd-a7d7-44540d5cd37c",
   "metadata": {},
   "outputs": [],
   "source": [
    "n = 100\n",
    "p = 38/n\n",
    "sd = (p*(1-p)/n)**0.5\n",
    "z = (p-0.5)/sd"
   ]
  },
  {
   "cell_type": "code",
   "execution_count": null,
   "id": "98bb0029-b346-42cb-abb1-7c903cac87df",
   "metadata": {},
   "outputs": [],
   "source": [
    "z"
   ]
  },
  {
   "cell_type": "code",
   "execution_count": null,
   "id": "70d72037-cbbd-4e4c-9d8d-dcb65454ede0",
   "metadata": {},
   "outputs": [],
   "source": [
    "p = 2 * stats.norm.cdf(z) # two-sided"
   ]
  },
  {
   "cell_type": "code",
   "execution_count": null,
   "id": "e7fab42a-4221-4e29-a19e-4cbadaad4a21",
   "metadata": {},
   "outputs": [],
   "source": [
    "p"
   ]
  },
  {
   "cell_type": "code",
   "execution_count": null,
   "id": "218e9298-88e5-418e-ab6a-0eafb08a884d",
   "metadata": {},
   "outputs": [],
   "source": [
    "stats.norm.ppf([0.025,0.975]) # the 5% confidence interval boundary for two-sided alternative hypothesis"
   ]
  },
  {
   "cell_type": "markdown",
   "id": "89b75a3f-e351-4539-a11d-8b20b3f9d8c6",
   "metadata": {},
   "source": [
    "We can also do t-test: $t = \\frac{\\hat{p}-p_0}{SD(p_0)} \\sim t_{n-1}$"
   ]
  },
  {
   "cell_type": "code",
   "execution_count": null,
   "id": "a6ed457a-607e-424d-ab81-6f0d391852b5",
   "metadata": {},
   "outputs": [],
   "source": [
    "p = 2 * stats.t.cdf(z, df = n-1) # two-sided\n",
    "p"
   ]
  },
  {
   "cell_type": "code",
   "execution_count": null,
   "id": "a98c3eb8-0d09-44e1-bed4-99a92b70a5d5",
   "metadata": {},
   "outputs": [],
   "source": [
    "stats.t.ppf([0.025,0.975], df=n-1) # the 5% confidence interval boundary for two-sided alternative hypothesis"
   ]
  },
  {
   "cell_type": "markdown",
   "id": "8b6014af-1438-4e56-ba65-6abbf9aaec4f",
   "metadata": {},
   "source": [
    "We can also use the `statsmodels` library to do the z-test"
   ]
  },
  {
   "cell_type": "code",
   "execution_count": null,
   "id": "d2aa5b79-75f5-4df5-ba77-bec7a0215fe0",
   "metadata": {},
   "outputs": [],
   "source": [
    "import statsmodels.api as sm"
   ]
  },
  {
   "cell_type": "code",
   "execution_count": null,
   "id": "fdc74398-0cc2-4c02-b401-98b441c721bb",
   "metadata": {},
   "outputs": [],
   "source": [
    "sm.stats.proportions_ztest(count=38,nobs=100,value=0.5,alternative='two-sided')"
   ]
  },
  {
   "cell_type": "markdown",
   "id": "f3dd8d89-235a-4159-b729-85469c4a4fc6",
   "metadata": {},
   "source": [
    "### Two Population Proportion Difference"
   ]
  },
  {
   "cell_type": "markdown",
   "id": "646b9e09-f1f0-41e7-b575-79fb771417b1",
   "metadata": {},
   "source": [
    "**Problem**: A car manufacturer aims to improve the quality of the products by reducing the defects and also increase the customer satisfaction. Therefore, he monitors the efficiency of two assembly lines in the shop floor. In line A there are 18 defects reported out of 200 samples. While the line B shows 25 defects out of 600 cars. At α 5%, is the differences between two assembly procedures are significant?"
   ]
  },
  {
   "cell_type": "markdown",
   "id": "f91b858e-2fe1-4b86-b750-68cec79119ba",
   "metadata": {},
   "source": [
    "$H_0$: $p_1 - p_2 = 0$\n",
    "\n",
    "$H_1$: $p_1 - p_2 \\neq 0$ (two-sided)\n",
    "\n",
    "Significance level $\\alpha=0.05$\n",
    "\n",
    "`Test statistic`: $z = \\frac{\\hat{p_1}-\\hat{p_2} - 0}{SD} \\sim N(0,1)$ according to `central limit theorem`, where $SD = \\sqrt{p_0(1-p_0)(\\frac{1}{n_1}+\\frac{1}{n_2})}$, and $p_0 = \\frac{x_1+x_2}{n_1+n_2}$."
   ]
  },
  {
   "cell_type": "code",
   "execution_count": null,
   "id": "0528532f-33ff-481c-81c7-3d8f10431788",
   "metadata": {},
   "outputs": [],
   "source": [
    "import math\n",
    "\n",
    "x1 = 18\n",
    "n1 = 200\n",
    "x2 = 25\n",
    "n2 = 600\n",
    "\n",
    "p1 = x1/n1\n",
    "p2 = x2/n2\n",
    "p0 = (x1+x2)/(n1+n2)\n",
    "# sd = math.sqrt(p1*(1-p1)/n1 + p2*(1-p2)/n2)\n",
    "sd = math.sqrt(p0*(1-p0)*(1/n1 + 1/n2))\n",
    "z = (p1-p2)/sd\n",
    "z"
   ]
  },
  {
   "cell_type": "code",
   "execution_count": null,
   "id": "28032be3-454c-4b45-9ad9-2657ac33543b",
   "metadata": {},
   "outputs": [],
   "source": [
    "p = 2 * (1-stats.norm.cdf(z)) # two-sided\n",
    "p"
   ]
  },
  {
   "cell_type": "code",
   "execution_count": null,
   "id": "39cb4f4d-781e-4670-9bef-c0ccfd1b7d1c",
   "metadata": {},
   "outputs": [],
   "source": [
    "p1, p2"
   ]
  },
  {
   "cell_type": "markdown",
   "id": "c9d0c63e-097e-4b31-8381-c958cbe71e52",
   "metadata": {},
   "source": [
    "We can also use the `statsmodels` library to do the z-test"
   ]
  },
  {
   "cell_type": "code",
   "execution_count": null,
   "id": "21092ca5-d241-4894-af0e-410d1e2b8b5e",
   "metadata": {},
   "outputs": [],
   "source": [
    "sm.stats.proportions_ztest(\n",
    "    count=np.array([x1,x2]),\n",
    "    nobs=np.array([n1,n2]),\n",
    "    value=0,\n",
    "    alternative='two-sided'\n",
    ")"
   ]
  },
  {
   "cell_type": "code",
   "execution_count": null,
   "id": "b471786f-f707-42ae-874e-debd8b732d03",
   "metadata": {},
   "outputs": [],
   "source": [
    "sm.stats.proportions_ztest(\n",
    "    count=np.array([x1,x2]),\n",
    "    nobs=np.array([n1,n2]),\n",
    "    value=0,\n",
    "    alternative='larger'\n",
    ")"
   ]
  },
  {
   "cell_type": "markdown",
   "id": "7a6c7ad8-f00f-4655-9051-8f5ea5108eb2",
   "metadata": {},
   "source": [
    "### One Population Mean\n",
    "\n",
    "**Problem**: Your company wants to improve sales. Past sales data indicate that the average sale was \\\\$100 per transaction. After training your sales force, recent sales data (taken from a sample of 25 salesmen) indicates an average sale of \\\\$130, with a standard deviation of \\\\$15. Did the training work? Test your hypothesis at a 5\\% alpha level.\n",
    "\n",
    "$H_0$: $\\mu = \\mu_0$\n",
    "\n",
    "$H_1$: $\\mu \\geq \\mu_0$ (upper one-side)\n",
    "\n",
    "Significance level $\\alpha=0.05$\n",
    "\n",
    "`z-test`: $z = \\frac{\\bar{x} - \\mu_0}{s/\\sqrt{n}} \\sim N(0,1)$, where $s$ is the sample standard deviation\n",
    "\n",
    "`t-test`: $t = \\frac{\\bar{x} - \\mu_0}{s/\\sqrt{n}} \\sim t_{n-1}$, where $s$ is the sample standard deviation, and $n$ is the sample size"
   ]
  },
  {
   "cell_type": "code",
   "execution_count": null,
   "id": "81d21f5c-bc89-4ba8-abc2-5c10a462fece",
   "metadata": {},
   "outputs": [],
   "source": [
    "## z-test\n",
    "mu0 = 100\n",
    "xbar = 130\n",
    "n = 25\n",
    "s = 15\n",
    "\n",
    "z = (xbar - mu0)/(s/math.sqrt(n))\n",
    "z"
   ]
  },
  {
   "cell_type": "code",
   "execution_count": null,
   "id": "0870e7d9-7f80-438c-afb2-99f5b92826fc",
   "metadata": {},
   "outputs": [],
   "source": [
    "p = 1-stats.norm.cdf(z)\n",
    "p"
   ]
  },
  {
   "cell_type": "code",
   "execution_count": null,
   "id": "0b10fe35-4041-4f4d-8fb5-08ad5a5287a8",
   "metadata": {},
   "outputs": [],
   "source": [
    "## t-test\n",
    "t = z\n",
    "p = 1-stats.t.cdf(t, df=n-1)\n",
    "p"
   ]
  },
  {
   "cell_type": "markdown",
   "id": "a8e0d835-0e2f-4d28-a1df-67d02adda42a",
   "metadata": {},
   "source": [
    "### Two Population Mean Difference\n",
    "\n",
    "**Problem #1**: Does right‐ or left‐handedness affect how fast people type? Random samples of students from a typing class are given a typing speed test (words per minute), and the results are compared. Significance level for the test: 0.10. Because you are looking for a difference between the groups in either direction (right‐handed faster than left, or vice versa), this is a two‐tailed test.\n",
    "\n",
    "| Group | Handedness | n  | $\\bar{x}$ | s   |\n",
    "|-------|------------|----|-----------|-----|\n",
    "| 1     | Left       | 9  | 59.3      | 4.3 |\n",
    "| 2     | Right      | 16 | 55.8      | 5.7 |\n",
    "\n",
    "$H_0$: $\\mu_1 - \\mu_2 = 0$\n",
    "\n",
    "$H_1$: $\\mu_1 - \\mu_2 \\neq 0$ (two-sided)\n",
    "\n",
    "Significance level $\\alpha=0.05$\n",
    "\n",
    "Like before, assume the two groups have the same variance, we could do either `z-test` or `t-test`.\n",
    "$$\n",
    "\\frac{\\bar{x_1} - \\bar{x_2} - 0}{\\sqrt{s_p^2(\\frac{1}{n_1} + \\frac{1}{n_2})}} \\sim N(0,1)\n",
    "$$\n",
    "or\n",
    "$$\n",
    "\\frac{\\bar{x_1} - \\bar{x_2} - 0}{\\sqrt{s_p^2(\\frac{1}{n_1} + \\frac{1}{n_2})}} \\sim t_{n_1+n_2-2}\n",
    "$$\n",
    "Here, $s_p$ is the pooled variance $s_p^2 = \\frac{(n_1-1)s_1^2 + (n_2-1)s_2^2}{n_1+n_2-2}$\n"
   ]
  },
  {
   "cell_type": "code",
   "execution_count": null,
   "id": "69678550-97fa-431a-9b27-d16262bacb5e",
   "metadata": {},
   "outputs": [],
   "source": [
    "n1 = 9\n",
    "n2 = 16\n",
    "\n",
    "xbar1 = 59.3\n",
    "xbar2 = 55.8\n",
    "\n",
    "s1 = 4.3\n",
    "s2 = 5.7\n",
    "\n",
    "sp = math.sqrt(((n1-1)*(s1**2) + (n2-1)*(s2**2))/(n1+n2-2))\n",
    "sp"
   ]
  },
  {
   "cell_type": "code",
   "execution_count": null,
   "id": "df35d7f5-d324-4f0a-8d3f-8ca432058ab3",
   "metadata": {},
   "outputs": [],
   "source": [
    "# z test\n",
    "z = (xbar1 - xbar2)/(sp*math.sqrt(1/n1+1/n2))\n",
    "z"
   ]
  },
  {
   "cell_type": "code",
   "execution_count": null,
   "id": "fb3f45d6-07e8-42cb-9247-cdd5fc47ac4a",
   "metadata": {},
   "outputs": [],
   "source": [
    "p = (1-stats.norm.cdf(z))*2\n",
    "p"
   ]
  },
  {
   "cell_type": "code",
   "execution_count": null,
   "id": "c99bdf5f-c109-4e01-b9ed-25e27f3c3384",
   "metadata": {},
   "outputs": [],
   "source": [
    "## t-test\n",
    "t = z\n",
    "p = (1-stats.t.cdf(t, df=n1+n2-2))*2\n",
    "p"
   ]
  },
  {
   "cell_type": "markdown",
   "id": "9b572f19-b319-4ffd-85b7-1e53fab08478",
   "metadata": {},
   "source": [
    "**Problem #2**: An experiment is conducted to determine whether intensive tutoring (covering a great deal of material in a fixed amount of time) is more effective than paced tutoring (covering less material in the same amount of time). Two randomly chosen groups are tutored separately and then administered proficiency tests. Use a significance level of α < 0.05.\n",
    "\n",
    "| Group | Method | n  | $\\bar{x}$ | s   |\n",
    "|-------|------------|----|-----------|-----|\n",
    "| 1     | Intensive       | 12  | 46.31      | 6.44 |\n",
    "| 2     | Paced      | 10 | 42.79      | 7.52 |\n",
    "\n",
    "\n",
    "$H_0$: $\\mu_1 - \\mu_2 = 0$\n",
    "\n",
    "$H_1$: $\\mu_1 - \\mu_2 \\neq 0$ (two-sided)\n",
    "\n",
    "Significance level $\\alpha=0.05$\n",
    "\n",
    "Like before, assume the two groups have the same variance, we could do either `z-test` or `t-test`.\n",
    "$$\n",
    "\\frac{\\bar{x_1} - \\bar{x_2} - 0}{\\sqrt{\\frac{s_1^2}{n_1} + \\frac{s_2^2}{n_2}}} \\sim N(0,1)\n",
    "$$\n",
    "or\n",
    "$$\n",
    "\\frac{\\bar{x_1} - \\bar{x_2} - 0}{\\sqrt{\\frac{s_1^2}{n_1} + \\frac{s_2^2}{n_2}}} \\sim t_{n_1+n_2-2}\n",
    "$$\n",
    "\n"
   ]
  },
  {
   "cell_type": "code",
   "execution_count": null,
   "id": "7c21bf83-5287-4066-a34f-06279eca4817",
   "metadata": {},
   "outputs": [],
   "source": [
    "n1 = 12\n",
    "n2 = 10\n",
    "\n",
    "xbar1 = 46.31\n",
    "xbar2 = 42.79\n",
    "\n",
    "s1 = 6.44\n",
    "s2 = 7.52\n",
    "\n",
    "# z-test\n",
    "z = (xbar1-xbar2)/math.sqrt(s1**2/n1 + s2**2/n2)\n",
    "z"
   ]
  },
  {
   "cell_type": "code",
   "execution_count": null,
   "id": "e8b249a3-9f9b-4e34-99c3-78e19f234eb8",
   "metadata": {},
   "outputs": [],
   "source": [
    "p = (1-stats.norm.cdf(z))*2\n",
    "p"
   ]
  },
  {
   "cell_type": "code",
   "execution_count": null,
   "id": "09fa9ca1-3606-44e7-90dc-9b67e474976b",
   "metadata": {},
   "outputs": [],
   "source": [
    "# t-test\n",
    "\n",
    "t = z\n",
    "p = (1-stats.t.cdf(t, df=n1+n2-2))*2\n",
    "p"
   ]
  },
  {
   "cell_type": "code",
   "execution_count": null,
   "id": "2793fbf6-d640-47e5-80a5-fddecdd97218",
   "metadata": {},
   "outputs": [],
   "source": []
  },
  {
   "cell_type": "code",
   "execution_count": null,
   "id": "2c29ebfd-e304-4c62-8a00-99a3a6c60da8",
   "metadata": {},
   "outputs": [],
   "source": []
  },
  {
   "cell_type": "code",
   "execution_count": null,
   "id": "30a1f1e5-9791-4ac5-ad44-2dcca848d800",
   "metadata": {},
   "outputs": [],
   "source": []
  },
  {
   "cell_type": "code",
   "execution_count": null,
   "id": "d2d340d7-d831-4c06-87d8-f51b4ba1e7ae",
   "metadata": {},
   "outputs": [],
   "source": []
  },
  {
   "cell_type": "code",
   "execution_count": null,
   "id": "9938046b-2254-46dd-9519-b14f7b3f3243",
   "metadata": {},
   "outputs": [],
   "source": []
  }
 ],
 "metadata": {
  "kernelspec": {
   "display_name": "Python 3 (ipykernel)",
   "language": "python",
   "name": "python3"
  },
  "language_info": {
   "codemirror_mode": {
    "name": "ipython",
    "version": 3
   },
   "file_extension": ".py",
   "mimetype": "text/x-python",
   "name": "python",
   "nbconvert_exporter": "python",
   "pygments_lexer": "ipython3",
   "version": "3.10.8"
  }
 },
 "nbformat": 4,
 "nbformat_minor": 5
}
