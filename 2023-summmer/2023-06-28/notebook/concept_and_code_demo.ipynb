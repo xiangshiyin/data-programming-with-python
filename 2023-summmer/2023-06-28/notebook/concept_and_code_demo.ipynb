{
 "cells": [
  {
   "cell_type": "code",
   "execution_count": null,
   "id": "024856d7-648d-44c1-b822-a5beaf0cc3af",
   "metadata": {},
   "outputs": [],
   "source": []
  },
  {
   "cell_type": "markdown",
   "id": "45ec4e81-f9fc-4208-b99a-d00c23717bb9",
   "metadata": {},
   "source": [
    "# Today's Coding Topics\n",
    "[![Open In Colab](https://colab.research.google.com/assets/colab-badge.svg)](https://colab.research.google.com/github/xiangshiyin/data-programming-with-python/blob/main/2023-summmer/2023-06-28/notebook/concept_and_code_demo.ipynb)\n",
    "\n",
    "* Recap of previous lecture\n",
    "* Statistics with Python\n"
   ]
  },
  {
   "cell_type": "code",
   "execution_count": null,
   "id": "62f82cfb-f23c-4955-b701-33fdec166555",
   "metadata": {},
   "outputs": [],
   "source": []
  },
  {
   "cell_type": "markdown",
   "id": "de60722e-0724-4c9a-95a3-ff5c190408d6",
   "metadata": {},
   "source": [
    "# Recap of previous lecture"
   ]
  },
  {
   "cell_type": "code",
   "execution_count": null,
   "id": "d4e7ba2e-7595-45da-a84c-b7dffec1110f",
   "metadata": {},
   "outputs": [],
   "source": []
  },
  {
   "cell_type": "code",
   "execution_count": 1,
   "id": "39b87811-1746-423d-91bb-4082937f7431",
   "metadata": {},
   "outputs": [],
   "source": [
    "import pandas as pd\n",
    "import numpy as np"
   ]
  },
  {
   "cell_type": "code",
   "execution_count": 2,
   "id": "36f56b15-defe-4243-9dac-34ac209ad4fa",
   "metadata": {},
   "outputs": [],
   "source": [
    "pd.set_option('display.max_columns',None) #unlimited\n",
    "pd.set_option('display.max_rows',None)"
   ]
  },
  {
   "cell_type": "code",
   "execution_count": null,
   "id": "bf847217",
   "metadata": {},
   "outputs": [],
   "source": []
  },
  {
   "cell_type": "markdown",
   "id": "a6e8ef73-980a-4417-a96c-fc54b2c2432a",
   "metadata": {},
   "source": [
    "## Pandas practice"
   ]
  },
  {
   "cell_type": "code",
   "execution_count": 3,
   "id": "d813ee73-969d-477c-b3b3-28e37846a9a2",
   "metadata": {},
   "outputs": [
    {
     "name": "stdout",
     "output_type": "stream",
     "text": [
      "CPU times: user 41.7 ms, sys: 5.25 ms, total: 46.9 ms\n",
      "Wall time: 47.8 ms\n"
     ]
    }
   ],
   "source": [
    "%%time\n",
    "\n",
    "Employees = pd.read_excel('../data/Employees.xls')\n",
    "Territory = pd.read_excel('../data/SalesTerritory.xls')\n",
    "Customers = pd.read_excel('../data/Customers.xls')\n",
    "Orders = pd.read_excel('../data/ItemsOrdered.xls')"
   ]
  },
  {
   "cell_type": "code",
   "execution_count": null,
   "id": "12207ff8-0410-4ba9-9476-699cfac53c0b",
   "metadata": {},
   "outputs": [],
   "source": []
  },
  {
   "cell_type": "code",
   "execution_count": 4,
   "id": "fbec9a74",
   "metadata": {},
   "outputs": [
    {
     "data": {
      "text/html": [
       "<div>\n",
       "<style scoped>\n",
       "    .dataframe tbody tr th:only-of-type {\n",
       "        vertical-align: middle;\n",
       "    }\n",
       "\n",
       "    .dataframe tbody tr th {\n",
       "        vertical-align: top;\n",
       "    }\n",
       "\n",
       "    .dataframe thead th {\n",
       "        text-align: right;\n",
       "    }\n",
       "</style>\n",
       "<table border=\"1\" class=\"dataframe\">\n",
       "  <thead>\n",
       "    <tr style=\"text-align: right;\">\n",
       "      <th></th>\n",
       "      <th>EmployeeID</th>\n",
       "      <th>ManagerID</th>\n",
       "      <th>TerritoryID</th>\n",
       "      <th>Title</th>\n",
       "      <th>FirstName</th>\n",
       "      <th>MiddleName</th>\n",
       "      <th>LastName</th>\n",
       "      <th>Suffix</th>\n",
       "      <th>JobTitle</th>\n",
       "      <th>NationalIDNumber</th>\n",
       "      <th>BirthDate</th>\n",
       "      <th>MaritalStatus</th>\n",
       "      <th>Gender</th>\n",
       "      <th>HireDate</th>\n",
       "      <th>SalariedFlag</th>\n",
       "      <th>VacationHours</th>\n",
       "      <th>SickLeaveHours</th>\n",
       "      <th>PhoneNumber</th>\n",
       "      <th>PhoneNumberType</th>\n",
       "      <th>EmailAddress</th>\n",
       "      <th>AddressLine1</th>\n",
       "      <th>AddressLine2</th>\n",
       "      <th>City</th>\n",
       "      <th>StateProvinceName</th>\n",
       "      <th>PostalCode</th>\n",
       "      <th>CountryName</th>\n",
       "    </tr>\n",
       "  </thead>\n",
       "  <tbody>\n",
       "    <tr>\n",
       "      <th>0</th>\n",
       "      <td>259</td>\n",
       "      <td>250.0</td>\n",
       "      <td>NaN</td>\n",
       "      <td>NaN</td>\n",
       "      <td>Ben</td>\n",
       "      <td>T</td>\n",
       "      <td>Miller</td>\n",
       "      <td>NaN</td>\n",
       "      <td>Buyer</td>\n",
       "      <td>20269531</td>\n",
       "      <td>1967-07-05</td>\n",
       "      <td>M</td>\n",
       "      <td>M</td>\n",
       "      <td>2004-04-09</td>\n",
       "      <td>0</td>\n",
       "      <td>55</td>\n",
       "      <td>47</td>\n",
       "      <td>151-555-0113</td>\n",
       "      <td>Work</td>\n",
       "      <td>ben0@adventure-works.com</td>\n",
       "      <td>101 Candy Rd.</td>\n",
       "      <td>NaN</td>\n",
       "      <td>Redmond</td>\n",
       "      <td>Washington</td>\n",
       "      <td>98052</td>\n",
       "      <td>United States</td>\n",
       "    </tr>\n",
       "    <tr>\n",
       "      <th>1</th>\n",
       "      <td>278</td>\n",
       "      <td>274.0</td>\n",
       "      <td>6.0</td>\n",
       "      <td>NaN</td>\n",
       "      <td>Garrett</td>\n",
       "      <td>R</td>\n",
       "      <td>Vargas</td>\n",
       "      <td>NaN</td>\n",
       "      <td>Sales Representative</td>\n",
       "      <td>234474252</td>\n",
       "      <td>1969-03-07</td>\n",
       "      <td>M</td>\n",
       "      <td>M</td>\n",
       "      <td>2005-07-01</td>\n",
       "      <td>1</td>\n",
       "      <td>33</td>\n",
       "      <td>36</td>\n",
       "      <td>922-555-0165</td>\n",
       "      <td>Work</td>\n",
       "      <td>garrett1@mapleleafmail.ca</td>\n",
       "      <td>10203 Acorn Avenue</td>\n",
       "      <td>NaN</td>\n",
       "      <td>Calgary</td>\n",
       "      <td>Alberta</td>\n",
       "      <td>T2P 2G8</td>\n",
       "      <td>Canada</td>\n",
       "    </tr>\n",
       "  </tbody>\n",
       "</table>\n",
       "</div>"
      ],
      "text/plain": [
       "   EmployeeID  ManagerID  TerritoryID Title FirstName MiddleName LastName  \\\n",
       "0         259      250.0          NaN   NaN       Ben          T   Miller   \n",
       "1         278      274.0          6.0   NaN   Garrett          R   Vargas   \n",
       "\n",
       "  Suffix              JobTitle  NationalIDNumber   BirthDate MaritalStatus  \\\n",
       "0    NaN                 Buyer          20269531  1967-07-05             M   \n",
       "1    NaN  Sales Representative         234474252  1969-03-07             M   \n",
       "\n",
       "  Gender   HireDate  SalariedFlag  VacationHours  SickLeaveHours  \\\n",
       "0      M 2004-04-09             0             55              47   \n",
       "1      M 2005-07-01             1             33              36   \n",
       "\n",
       "    PhoneNumber PhoneNumberType               EmailAddress  \\\n",
       "0  151-555-0113            Work   ben0@adventure-works.com   \n",
       "1  922-555-0165            Work  garrett1@mapleleafmail.ca   \n",
       "\n",
       "         AddressLine1 AddressLine2     City StateProvinceName PostalCode  \\\n",
       "0       101 Candy Rd.          NaN  Redmond        Washington      98052   \n",
       "1  10203 Acorn Avenue          NaN  Calgary           Alberta    T2P 2G8   \n",
       "\n",
       "     CountryName  \n",
       "0  United States  \n",
       "1         Canada  "
      ]
     },
     "execution_count": 4,
     "metadata": {},
     "output_type": "execute_result"
    }
   ],
   "source": [
    "Employees.head(2)"
   ]
  },
  {
   "cell_type": "code",
   "execution_count": 5,
   "id": "dd757cc0",
   "metadata": {},
   "outputs": [
    {
     "data": {
      "text/html": [
       "<div>\n",
       "<style scoped>\n",
       "    .dataframe tbody tr th:only-of-type {\n",
       "        vertical-align: middle;\n",
       "    }\n",
       "\n",
       "    .dataframe tbody tr th {\n",
       "        vertical-align: top;\n",
       "    }\n",
       "\n",
       "    .dataframe thead th {\n",
       "        text-align: right;\n",
       "    }\n",
       "</style>\n",
       "<table border=\"1\" class=\"dataframe\">\n",
       "  <thead>\n",
       "    <tr style=\"text-align: right;\">\n",
       "      <th></th>\n",
       "      <th>TerritoryID</th>\n",
       "      <th>Name</th>\n",
       "      <th>CountryCode</th>\n",
       "      <th>Region</th>\n",
       "      <th>SalesYTD</th>\n",
       "      <th>SalesLastYear</th>\n",
       "    </tr>\n",
       "  </thead>\n",
       "  <tbody>\n",
       "    <tr>\n",
       "      <th>0</th>\n",
       "      <td>1</td>\n",
       "      <td>Northwest</td>\n",
       "      <td>US</td>\n",
       "      <td>North America</td>\n",
       "      <td>7887186.79</td>\n",
       "      <td>3298694.49</td>\n",
       "    </tr>\n",
       "    <tr>\n",
       "      <th>1</th>\n",
       "      <td>2</td>\n",
       "      <td>Northeast</td>\n",
       "      <td>US</td>\n",
       "      <td>North America</td>\n",
       "      <td>2402176.85</td>\n",
       "      <td>3607148.94</td>\n",
       "    </tr>\n",
       "  </tbody>\n",
       "</table>\n",
       "</div>"
      ],
      "text/plain": [
       "   TerritoryID       Name CountryCode         Region    SalesYTD  \\\n",
       "0            1  Northwest          US  North America  7887186.79   \n",
       "1            2  Northeast          US  North America  2402176.85   \n",
       "\n",
       "   SalesLastYear  \n",
       "0     3298694.49  \n",
       "1     3607148.94  "
      ]
     },
     "execution_count": 5,
     "metadata": {},
     "output_type": "execute_result"
    }
   ],
   "source": [
    "Territory.head(2)"
   ]
  },
  {
   "cell_type": "code",
   "execution_count": 6,
   "id": "45f15bd5",
   "metadata": {},
   "outputs": [
    {
     "data": {
      "text/html": [
       "<div>\n",
       "<style scoped>\n",
       "    .dataframe tbody tr th:only-of-type {\n",
       "        vertical-align: middle;\n",
       "    }\n",
       "\n",
       "    .dataframe tbody tr th {\n",
       "        vertical-align: top;\n",
       "    }\n",
       "\n",
       "    .dataframe thead th {\n",
       "        text-align: right;\n",
       "    }\n",
       "</style>\n",
       "<table border=\"1\" class=\"dataframe\">\n",
       "  <thead>\n",
       "    <tr style=\"text-align: right;\">\n",
       "      <th></th>\n",
       "      <th>CustomerID</th>\n",
       "      <th>SalesTerritoryID</th>\n",
       "      <th>FirstName</th>\n",
       "      <th>LastName</th>\n",
       "      <th>City</th>\n",
       "      <th>StateName</th>\n",
       "    </tr>\n",
       "  </thead>\n",
       "  <tbody>\n",
       "    <tr>\n",
       "      <th>0</th>\n",
       "      <td>10101</td>\n",
       "      <td>1</td>\n",
       "      <td>John</td>\n",
       "      <td>Gray</td>\n",
       "      <td>Lynden</td>\n",
       "      <td>Washington</td>\n",
       "    </tr>\n",
       "    <tr>\n",
       "      <th>1</th>\n",
       "      <td>10298</td>\n",
       "      <td>4</td>\n",
       "      <td>Leroy</td>\n",
       "      <td>Brown</td>\n",
       "      <td>Pinetop</td>\n",
       "      <td>Arizona</td>\n",
       "    </tr>\n",
       "  </tbody>\n",
       "</table>\n",
       "</div>"
      ],
      "text/plain": [
       "   CustomerID  SalesTerritoryID FirstName LastName     City   StateName\n",
       "0       10101                 1      John     Gray   Lynden  Washington\n",
       "1       10298                 4     Leroy    Brown  Pinetop     Arizona"
      ]
     },
     "execution_count": 6,
     "metadata": {},
     "output_type": "execute_result"
    }
   ],
   "source": [
    "Customers.head(2)"
   ]
  },
  {
   "cell_type": "code",
   "execution_count": 7,
   "id": "4cae11ef",
   "metadata": {},
   "outputs": [
    {
     "data": {
      "text/html": [
       "<div>\n",
       "<style scoped>\n",
       "    .dataframe tbody tr th:only-of-type {\n",
       "        vertical-align: middle;\n",
       "    }\n",
       "\n",
       "    .dataframe tbody tr th {\n",
       "        vertical-align: top;\n",
       "    }\n",
       "\n",
       "    .dataframe thead th {\n",
       "        text-align: right;\n",
       "    }\n",
       "</style>\n",
       "<table border=\"1\" class=\"dataframe\">\n",
       "  <thead>\n",
       "    <tr style=\"text-align: right;\">\n",
       "      <th></th>\n",
       "      <th>CustomerID</th>\n",
       "      <th>OrderDate</th>\n",
       "      <th>Item</th>\n",
       "      <th>Quantity</th>\n",
       "      <th>Price</th>\n",
       "    </tr>\n",
       "  </thead>\n",
       "  <tbody>\n",
       "    <tr>\n",
       "      <th>0</th>\n",
       "      <td>10330</td>\n",
       "      <td>2004-06-30</td>\n",
       "      <td>Pogo stick</td>\n",
       "      <td>1</td>\n",
       "      <td>28.0</td>\n",
       "    </tr>\n",
       "    <tr>\n",
       "      <th>1</th>\n",
       "      <td>10101</td>\n",
       "      <td>2004-06-30</td>\n",
       "      <td>Raft</td>\n",
       "      <td>1</td>\n",
       "      <td>58.0</td>\n",
       "    </tr>\n",
       "  </tbody>\n",
       "</table>\n",
       "</div>"
      ],
      "text/plain": [
       "   CustomerID  OrderDate        Item  Quantity  Price\n",
       "0       10330 2004-06-30  Pogo stick         1   28.0\n",
       "1       10101 2004-06-30        Raft         1   58.0"
      ]
     },
     "execution_count": 7,
     "metadata": {},
     "output_type": "execute_result"
    }
   ],
   "source": [
    "Orders.head(2)"
   ]
  },
  {
   "cell_type": "code",
   "execution_count": null,
   "id": "da953ce8-29fe-41d1-b72d-83fc092ea55d",
   "metadata": {},
   "outputs": [],
   "source": []
  },
  {
   "cell_type": "markdown",
   "id": "578a555a-3af7-4f47-a2d8-666269f3cf82",
   "metadata": {},
   "source": [
    "### Grouping\n",
    "\n",
    "Reading Materials: \n",
    "* (official doc): https://pandas.pydata.org/pandas-docs/stable/reference/api/pandas.DataFrame.agg.html\n",
    "* (summary) https://www.shanelynn.ie/summarising-aggregation-and-grouping-data-in-python-pandas/"
   ]
  },
  {
   "cell_type": "markdown",
   "id": "bad5f6fc-1546-474f-a8a7-085606192302",
   "metadata": {},
   "source": [
    "#### What is the earliest birthdate for all employees?\n",
    "\n",
    "SQL logic\n",
    "```sql\n",
    "SELECT MIN(e.BirthDate) FROM dbo.Employees AS e;\n",
    "```"
   ]
  },
  {
   "cell_type": "code",
   "execution_count": 8,
   "id": "de39a313-cf74-48c5-89e4-bae7a1d5a1de",
   "metadata": {},
   "outputs": [
    {
     "data": {
      "text/html": [
       "<div>\n",
       "<style scoped>\n",
       "    .dataframe tbody tr th:only-of-type {\n",
       "        vertical-align: middle;\n",
       "    }\n",
       "\n",
       "    .dataframe tbody tr th {\n",
       "        vertical-align: top;\n",
       "    }\n",
       "\n",
       "    .dataframe thead th {\n",
       "        text-align: right;\n",
       "    }\n",
       "</style>\n",
       "<table border=\"1\" class=\"dataframe\">\n",
       "  <thead>\n",
       "    <tr style=\"text-align: right;\">\n",
       "      <th></th>\n",
       "      <th>EmployeeID</th>\n",
       "      <th>ManagerID</th>\n",
       "      <th>TerritoryID</th>\n",
       "      <th>Title</th>\n",
       "      <th>FirstName</th>\n",
       "      <th>MiddleName</th>\n",
       "      <th>LastName</th>\n",
       "      <th>Suffix</th>\n",
       "      <th>JobTitle</th>\n",
       "      <th>NationalIDNumber</th>\n",
       "      <th>BirthDate</th>\n",
       "      <th>MaritalStatus</th>\n",
       "      <th>Gender</th>\n",
       "      <th>HireDate</th>\n",
       "      <th>SalariedFlag</th>\n",
       "      <th>VacationHours</th>\n",
       "      <th>SickLeaveHours</th>\n",
       "      <th>PhoneNumber</th>\n",
       "      <th>PhoneNumberType</th>\n",
       "      <th>EmailAddress</th>\n",
       "      <th>AddressLine1</th>\n",
       "      <th>AddressLine2</th>\n",
       "      <th>City</th>\n",
       "      <th>StateProvinceName</th>\n",
       "      <th>PostalCode</th>\n",
       "      <th>CountryName</th>\n",
       "    </tr>\n",
       "  </thead>\n",
       "  <tbody>\n",
       "    <tr>\n",
       "      <th>0</th>\n",
       "      <td>259</td>\n",
       "      <td>250.0</td>\n",
       "      <td>NaN</td>\n",
       "      <td>NaN</td>\n",
       "      <td>Ben</td>\n",
       "      <td>T</td>\n",
       "      <td>Miller</td>\n",
       "      <td>NaN</td>\n",
       "      <td>Buyer</td>\n",
       "      <td>20269531</td>\n",
       "      <td>1967-07-05</td>\n",
       "      <td>M</td>\n",
       "      <td>M</td>\n",
       "      <td>2004-04-09</td>\n",
       "      <td>0</td>\n",
       "      <td>55</td>\n",
       "      <td>47</td>\n",
       "      <td>151-555-0113</td>\n",
       "      <td>Work</td>\n",
       "      <td>ben0@adventure-works.com</td>\n",
       "      <td>101 Candy Rd.</td>\n",
       "      <td>NaN</td>\n",
       "      <td>Redmond</td>\n",
       "      <td>Washington</td>\n",
       "      <td>98052</td>\n",
       "      <td>United States</td>\n",
       "    </tr>\n",
       "    <tr>\n",
       "      <th>1</th>\n",
       "      <td>278</td>\n",
       "      <td>274.0</td>\n",
       "      <td>6.0</td>\n",
       "      <td>NaN</td>\n",
       "      <td>Garrett</td>\n",
       "      <td>R</td>\n",
       "      <td>Vargas</td>\n",
       "      <td>NaN</td>\n",
       "      <td>Sales Representative</td>\n",
       "      <td>234474252</td>\n",
       "      <td>1969-03-07</td>\n",
       "      <td>M</td>\n",
       "      <td>M</td>\n",
       "      <td>2005-07-01</td>\n",
       "      <td>1</td>\n",
       "      <td>33</td>\n",
       "      <td>36</td>\n",
       "      <td>922-555-0165</td>\n",
       "      <td>Work</td>\n",
       "      <td>garrett1@mapleleafmail.ca</td>\n",
       "      <td>10203 Acorn Avenue</td>\n",
       "      <td>NaN</td>\n",
       "      <td>Calgary</td>\n",
       "      <td>Alberta</td>\n",
       "      <td>T2P 2G8</td>\n",
       "      <td>Canada</td>\n",
       "    </tr>\n",
       "    <tr>\n",
       "      <th>2</th>\n",
       "      <td>204</td>\n",
       "      <td>26.0</td>\n",
       "      <td>NaN</td>\n",
       "      <td>NaN</td>\n",
       "      <td>Gabe</td>\n",
       "      <td>B</td>\n",
       "      <td>Mares</td>\n",
       "      <td>NaN</td>\n",
       "      <td>Production Technician - WC40</td>\n",
       "      <td>440379437</td>\n",
       "      <td>1982-06-11</td>\n",
       "      <td>M</td>\n",
       "      <td>M</td>\n",
       "      <td>2003-04-09</td>\n",
       "      <td>0</td>\n",
       "      <td>57</td>\n",
       "      <td>48</td>\n",
       "      <td>310-555-0117</td>\n",
       "      <td>Work</td>\n",
       "      <td>gabe0@adventure-works.com</td>\n",
       "      <td>1061 Buskrik Avenue</td>\n",
       "      <td>NaN</td>\n",
       "      <td>Edmonds</td>\n",
       "      <td>Washington</td>\n",
       "      <td>98020</td>\n",
       "      <td>United States</td>\n",
       "    </tr>\n",
       "  </tbody>\n",
       "</table>\n",
       "</div>"
      ],
      "text/plain": [
       "   EmployeeID  ManagerID  TerritoryID Title FirstName MiddleName LastName  \\\n",
       "0         259      250.0          NaN   NaN       Ben          T   Miller   \n",
       "1         278      274.0          6.0   NaN   Garrett          R   Vargas   \n",
       "2         204       26.0          NaN   NaN      Gabe          B    Mares   \n",
       "\n",
       "  Suffix                      JobTitle  NationalIDNumber   BirthDate  \\\n",
       "0    NaN                         Buyer          20269531  1967-07-05   \n",
       "1    NaN          Sales Representative         234474252  1969-03-07   \n",
       "2    NaN  Production Technician - WC40         440379437  1982-06-11   \n",
       "\n",
       "  MaritalStatus Gender   HireDate  SalariedFlag  VacationHours  \\\n",
       "0             M      M 2004-04-09             0             55   \n",
       "1             M      M 2005-07-01             1             33   \n",
       "2             M      M 2003-04-09             0             57   \n",
       "\n",
       "   SickLeaveHours   PhoneNumber PhoneNumberType               EmailAddress  \\\n",
       "0              47  151-555-0113            Work   ben0@adventure-works.com   \n",
       "1              36  922-555-0165            Work  garrett1@mapleleafmail.ca   \n",
       "2              48  310-555-0117            Work  gabe0@adventure-works.com   \n",
       "\n",
       "          AddressLine1 AddressLine2     City StateProvinceName PostalCode  \\\n",
       "0        101 Candy Rd.          NaN  Redmond        Washington      98052   \n",
       "1   10203 Acorn Avenue          NaN  Calgary           Alberta    T2P 2G8   \n",
       "2  1061 Buskrik Avenue          NaN  Edmonds        Washington      98020   \n",
       "\n",
       "     CountryName  \n",
       "0  United States  \n",
       "1         Canada  \n",
       "2  United States  "
      ]
     },
     "execution_count": 8,
     "metadata": {},
     "output_type": "execute_result"
    }
   ],
   "source": [
    "Employees.head(3)"
   ]
  },
  {
   "cell_type": "code",
   "execution_count": 9,
   "id": "f7da448d-30f8-4552-93f8-49fc91340475",
   "metadata": {},
   "outputs": [
    {
     "data": {
      "text/plain": [
       "Index(['EmployeeID', 'ManagerID', 'TerritoryID', 'Title', 'FirstName',\n",
       "       'MiddleName', 'LastName', 'Suffix', 'JobTitle', 'NationalIDNumber',\n",
       "       'BirthDate', 'MaritalStatus', 'Gender', 'HireDate', 'SalariedFlag',\n",
       "       'VacationHours', 'SickLeaveHours', 'PhoneNumber', 'PhoneNumberType',\n",
       "       'EmailAddress', 'AddressLine1', 'AddressLine2', 'City',\n",
       "       'StateProvinceName', 'PostalCode', 'CountryName'],\n",
       "      dtype='object')"
      ]
     },
     "execution_count": 9,
     "metadata": {},
     "output_type": "execute_result"
    }
   ],
   "source": [
    "Employees.columns"
   ]
  },
  {
   "cell_type": "code",
   "execution_count": 10,
   "id": "81fe4544-4254-425d-9214-03f6a068fc1d",
   "metadata": {},
   "outputs": [
    {
     "data": {
      "text/plain": [
       "pandas.core.series.Series"
      ]
     },
     "execution_count": 10,
     "metadata": {},
     "output_type": "execute_result"
    }
   ],
   "source": [
    "type(Employees.dtypes)"
   ]
  },
  {
   "cell_type": "code",
   "execution_count": 11,
   "id": "d2a8c2ee",
   "metadata": {},
   "outputs": [
    {
     "name": "stdout",
     "output_type": "stream",
     "text": [
      "<class 'pandas.core.frame.DataFrame'>\n",
      "RangeIndex: 291 entries, 0 to 290\n",
      "Data columns (total 26 columns):\n",
      " #   Column             Non-Null Count  Dtype         \n",
      "---  ------             --------------  -----         \n",
      " 0   EmployeeID         291 non-null    int64         \n",
      " 1   ManagerID          290 non-null    float64       \n",
      " 2   TerritoryID        14 non-null     float64       \n",
      " 3   Title              8 non-null      object        \n",
      " 4   FirstName          291 non-null    object        \n",
      " 5   MiddleName         278 non-null    object        \n",
      " 6   LastName           291 non-null    object        \n",
      " 7   Suffix             2 non-null      object        \n",
      " 8   JobTitle           291 non-null    object        \n",
      " 9   NationalIDNumber   291 non-null    int64         \n",
      " 10  BirthDate          291 non-null    object        \n",
      " 11  MaritalStatus      291 non-null    object        \n",
      " 12  Gender             291 non-null    object        \n",
      " 13  HireDate           291 non-null    datetime64[ns]\n",
      " 14  SalariedFlag       291 non-null    int64         \n",
      " 15  VacationHours      291 non-null    int64         \n",
      " 16  SickLeaveHours     291 non-null    int64         \n",
      " 17  PhoneNumber        291 non-null    object        \n",
      " 18  PhoneNumberType    291 non-null    object        \n",
      " 19  EmailAddress       291 non-null    object        \n",
      " 20  AddressLine1       291 non-null    object        \n",
      " 21  AddressLine2       8 non-null      object        \n",
      " 22  City               291 non-null    object        \n",
      " 23  StateProvinceName  291 non-null    object        \n",
      " 24  PostalCode         291 non-null    object        \n",
      " 25  CountryName        291 non-null    object        \n",
      "dtypes: datetime64[ns](1), float64(2), int64(5), object(18)\n",
      "memory usage: 59.2+ KB\n"
     ]
    }
   ],
   "source": [
    "Employees.info()"
   ]
  },
  {
   "cell_type": "code",
   "execution_count": null,
   "id": "73baf99b",
   "metadata": {},
   "outputs": [],
   "source": []
  },
  {
   "cell_type": "code",
   "execution_count": 13,
   "id": "e1841969-f50a-4086-9599-8f6f12b4453a",
   "metadata": {},
   "outputs": [
    {
     "data": {
      "text/html": [
       "<div>\n",
       "<style scoped>\n",
       "    .dataframe tbody tr th:only-of-type {\n",
       "        vertical-align: middle;\n",
       "    }\n",
       "\n",
       "    .dataframe tbody tr th {\n",
       "        vertical-align: top;\n",
       "    }\n",
       "\n",
       "    .dataframe thead th {\n",
       "        text-align: right;\n",
       "    }\n",
       "</style>\n",
       "<table border=\"1\" class=\"dataframe\">\n",
       "  <thead>\n",
       "    <tr style=\"text-align: right;\">\n",
       "      <th></th>\n",
       "      <th>BirthDate</th>\n",
       "    </tr>\n",
       "  </thead>\n",
       "  <tbody>\n",
       "    <tr>\n",
       "      <th>0</th>\n",
       "      <td>1967-07-05</td>\n",
       "    </tr>\n",
       "    <tr>\n",
       "      <th>1</th>\n",
       "      <td>1969-03-07</td>\n",
       "    </tr>\n",
       "    <tr>\n",
       "      <th>2</th>\n",
       "      <td>1982-06-11</td>\n",
       "    </tr>\n",
       "  </tbody>\n",
       "</table>\n",
       "</div>"
      ],
      "text/plain": [
       "    BirthDate\n",
       "0  1967-07-05\n",
       "1  1969-03-07\n",
       "2  1982-06-11"
      ]
     },
     "execution_count": 13,
     "metadata": {},
     "output_type": "execute_result"
    }
   ],
   "source": [
    "Employees.loc[:,['BirthDate']].head(3)"
   ]
  },
  {
   "cell_type": "code",
   "execution_count": null,
   "id": "45062c58-390e-46c0-a0b7-3883d0e6a45d",
   "metadata": {},
   "outputs": [],
   "source": []
  },
  {
   "cell_type": "code",
   "execution_count": null,
   "id": "bf213802-3a03-4543-bcf4-b1b7631b7426",
   "metadata": {},
   "outputs": [],
   "source": []
  },
  {
   "cell_type": "code",
   "execution_count": null,
   "id": "7866b50a-3d90-4fc6-954b-f18d62cddab6",
   "metadata": {},
   "outputs": [],
   "source": [
    "# Employees.dtypes.reset_index()\n",
    "# Employees.dtypes['BirthDate']\n",
    "str(Employees.dtypes['BirthDate'])"
   ]
  },
  {
   "cell_type": "code",
   "execution_count": null,
   "id": "904badf0-7352-4dac-ade0-dade2ef3fba0",
   "metadata": {},
   "outputs": [],
   "source": [
    "Employees.BirthDate.dtypes"
   ]
  },
  {
   "cell_type": "code",
   "execution_count": 15,
   "id": "543fb6d5-3951-4fbd-82d4-b60b08518d99",
   "metadata": {},
   "outputs": [
    {
     "data": {
      "text/plain": [
       "True"
      ]
     },
     "execution_count": 15,
     "metadata": {},
     "output_type": "execute_result"
    }
   ],
   "source": [
    "'1970-01-01' < '2023-06-26'"
   ]
  },
  {
   "cell_type": "code",
   "execution_count": 16,
   "id": "b4d8d8d7-b8d8-47cb-ade3-deb7bdc330ce",
   "metadata": {},
   "outputs": [
    {
     "data": {
      "text/plain": [
       "'1945-11-17'"
      ]
     },
     "execution_count": 16,
     "metadata": {},
     "output_type": "execute_result"
    }
   ],
   "source": [
    "Employees.BirthDate.min()"
   ]
  },
  {
   "cell_type": "code",
   "execution_count": 17,
   "id": "3f4190e2-af63-498c-bdd2-b555a4f7ec53",
   "metadata": {},
   "outputs": [
    {
     "data": {
      "text/plain": [
       "'1985-07-01'"
      ]
     },
     "execution_count": 17,
     "metadata": {},
     "output_type": "execute_result"
    }
   ],
   "source": [
    "Employees.BirthDate.max()"
   ]
  },
  {
   "cell_type": "code",
   "execution_count": 18,
   "id": "c809cc2e-68ad-48d3-a8ac-e6f06e2a529a",
   "metadata": {},
   "outputs": [
    {
     "data": {
      "text/plain": [
       "279"
      ]
     },
     "execution_count": 18,
     "metadata": {},
     "output_type": "execute_result"
    }
   ],
   "source": [
    "Employees.BirthDate.nunique()"
   ]
  },
  {
   "cell_type": "code",
   "execution_count": 19,
   "id": "36a418da-b105-4ed9-84b4-41c84ff71eb1",
   "metadata": {},
   "outputs": [
    {
     "data": {
      "text/plain": [
       "(291, 26)"
      ]
     },
     "execution_count": 19,
     "metadata": {},
     "output_type": "execute_result"
    }
   ],
   "source": [
    "Employees.shape"
   ]
  },
  {
   "cell_type": "code",
   "execution_count": 20,
   "id": "cfabad4c",
   "metadata": {},
   "outputs": [
    {
     "data": {
      "text/plain": [
       "291"
      ]
     },
     "execution_count": 20,
     "metadata": {},
     "output_type": "execute_result"
    }
   ],
   "source": [
    "Employees.EmployeeID.nunique()"
   ]
  },
  {
   "cell_type": "code",
   "execution_count": null,
   "id": "c551706c-07b2-4485-be93-8c9195b9eb26",
   "metadata": {},
   "outputs": [],
   "source": []
  },
  {
   "cell_type": "markdown",
   "id": "2bce2572-18e1-4ac5-9078-7690d795110d",
   "metadata": {},
   "source": [
    "#### Add to the above, the most recent birthdate for all employees\n",
    "\n",
    "SQL logic\n",
    "```sql\n",
    "SELECT \n",
    "  MIN(e.BirthDate) AS 'Earliest Birthday'\n",
    "  , MAX(e.BirthDate) AS 'Most Reecent Birthday'\n",
    "FROM dbo.Employees AS e;\n",
    "```"
   ]
  },
  {
   "cell_type": "code",
   "execution_count": 22,
   "id": "d9dda64b-f5fc-4179-89f9-845202f74673",
   "metadata": {},
   "outputs": [
    {
     "data": {
      "text/plain": [
       "(1, 5)"
      ]
     },
     "execution_count": 22,
     "metadata": {},
     "output_type": "execute_result"
    }
   ],
   "source": [
    "x = [4,5,1,2,3]\n",
    "min(x), max(x)"
   ]
  },
  {
   "cell_type": "markdown",
   "id": "38676e22-0dad-4be7-8327-a3778cd3e3a6",
   "metadata": {},
   "source": [
    "* Lexicographic order [[wikipedia](https://en.wikipedia.org/wiki/Lexicographic_order)]"
   ]
  },
  {
   "cell_type": "code",
   "execution_count": null,
   "id": "97531f4a-46f8-44b5-9d5a-9533328c5ff3",
   "metadata": {},
   "outputs": [],
   "source": [
    "'2ab' < '1ab'"
   ]
  },
  {
   "cell_type": "code",
   "execution_count": null,
   "id": "c9e3a653-b159-4468-8e0e-0c7ce63e8cc3",
   "metadata": {},
   "outputs": [],
   "source": [
    "# 'abcdefg'\n",
    "\n",
    "'a' > 'b'"
   ]
  },
  {
   "cell_type": "code",
   "execution_count": null,
   "id": "25a546f9",
   "metadata": {},
   "outputs": [],
   "source": []
  },
  {
   "cell_type": "code",
   "execution_count": null,
   "id": "5f8d1cbd",
   "metadata": {},
   "outputs": [],
   "source": []
  },
  {
   "cell_type": "code",
   "execution_count": null,
   "id": "7d64669a",
   "metadata": {},
   "outputs": [],
   "source": []
  },
  {
   "cell_type": "code",
   "execution_count": 21,
   "id": "4e79e14d",
   "metadata": {},
   "outputs": [
    {
     "data": {
      "text/html": [
       "<div>\n",
       "<style scoped>\n",
       "    .dataframe tbody tr th:only-of-type {\n",
       "        vertical-align: middle;\n",
       "    }\n",
       "\n",
       "    .dataframe tbody tr th {\n",
       "        vertical-align: top;\n",
       "    }\n",
       "\n",
       "    .dataframe thead th {\n",
       "        text-align: right;\n",
       "    }\n",
       "</style>\n",
       "<table border=\"1\" class=\"dataframe\">\n",
       "  <thead>\n",
       "    <tr style=\"text-align: right;\">\n",
       "      <th></th>\n",
       "      <th>BirthDate</th>\n",
       "    </tr>\n",
       "  </thead>\n",
       "  <tbody>\n",
       "    <tr>\n",
       "      <th>min</th>\n",
       "      <td>1945-11-17</td>\n",
       "    </tr>\n",
       "    <tr>\n",
       "      <th>max</th>\n",
       "      <td>1985-07-01</td>\n",
       "    </tr>\n",
       "  </tbody>\n",
       "</table>\n",
       "</div>"
      ],
      "text/plain": [
       "      BirthDate\n",
       "min  1945-11-17\n",
       "max  1985-07-01"
      ]
     },
     "execution_count": 21,
     "metadata": {},
     "output_type": "execute_result"
    }
   ],
   "source": [
    "Employees.agg({'BirthDate':[min,max]})"
   ]
  },
  {
   "cell_type": "code",
   "execution_count": 23,
   "id": "6911aa5a-33c0-4719-b6e5-053ff1b670d5",
   "metadata": {},
   "outputs": [
    {
     "data": {
      "text/html": [
       "<div>\n",
       "<style scoped>\n",
       "    .dataframe tbody tr th:only-of-type {\n",
       "        vertical-align: middle;\n",
       "    }\n",
       "\n",
       "    .dataframe tbody tr th {\n",
       "        vertical-align: top;\n",
       "    }\n",
       "\n",
       "    .dataframe thead th {\n",
       "        text-align: right;\n",
       "    }\n",
       "</style>\n",
       "<table border=\"1\" class=\"dataframe\">\n",
       "  <thead>\n",
       "    <tr style=\"text-align: right;\">\n",
       "      <th></th>\n",
       "      <th>min</th>\n",
       "      <th>max</th>\n",
       "    </tr>\n",
       "  </thead>\n",
       "  <tbody>\n",
       "    <tr>\n",
       "      <th>BirthDate</th>\n",
       "      <td>1945-11-17</td>\n",
       "      <td>1985-07-01</td>\n",
       "    </tr>\n",
       "  </tbody>\n",
       "</table>\n",
       "</div>"
      ],
      "text/plain": [
       "                  min         max\n",
       "BirthDate  1945-11-17  1985-07-01"
      ]
     },
     "execution_count": 23,
     "metadata": {},
     "output_type": "execute_result"
    }
   ],
   "source": [
    "Employees.agg({'BirthDate':[min,max]}).T"
   ]
  },
  {
   "cell_type": "code",
   "execution_count": 24,
   "id": "f4b2298c",
   "metadata": {},
   "outputs": [
    {
     "data": {
      "text/html": [
       "<div>\n",
       "<style scoped>\n",
       "    .dataframe tbody tr th:only-of-type {\n",
       "        vertical-align: middle;\n",
       "    }\n",
       "\n",
       "    .dataframe tbody tr th {\n",
       "        vertical-align: top;\n",
       "    }\n",
       "\n",
       "    .dataframe thead th {\n",
       "        text-align: right;\n",
       "    }\n",
       "</style>\n",
       "<table border=\"1\" class=\"dataframe\">\n",
       "  <thead>\n",
       "    <tr style=\"text-align: right;\">\n",
       "      <th></th>\n",
       "      <th>index</th>\n",
       "      <th>min</th>\n",
       "      <th>max</th>\n",
       "    </tr>\n",
       "  </thead>\n",
       "  <tbody>\n",
       "    <tr>\n",
       "      <th>0</th>\n",
       "      <td>BirthDate</td>\n",
       "      <td>1945-11-17</td>\n",
       "      <td>1985-07-01</td>\n",
       "    </tr>\n",
       "  </tbody>\n",
       "</table>\n",
       "</div>"
      ],
      "text/plain": [
       "       index         min         max\n",
       "0  BirthDate  1945-11-17  1985-07-01"
      ]
     },
     "execution_count": 24,
     "metadata": {},
     "output_type": "execute_result"
    }
   ],
   "source": [
    "Employees.agg({'BirthDate':[min,max]}).T.reset_index()"
   ]
  },
  {
   "cell_type": "code",
   "execution_count": null,
   "id": "1c6d8e8a",
   "metadata": {},
   "outputs": [],
   "source": []
  },
  {
   "cell_type": "code",
   "execution_count": 25,
   "id": "b93f94db-230a-43eb-8276-45fe71538273",
   "metadata": {},
   "outputs": [
    {
     "data": {
      "text/html": [
       "<div>\n",
       "<style scoped>\n",
       "    .dataframe tbody tr th:only-of-type {\n",
       "        vertical-align: middle;\n",
       "    }\n",
       "\n",
       "    .dataframe tbody tr th {\n",
       "        vertical-align: top;\n",
       "    }\n",
       "\n",
       "    .dataframe thead th {\n",
       "        text-align: right;\n",
       "    }\n",
       "</style>\n",
       "<table border=\"1\" class=\"dataframe\">\n",
       "  <thead>\n",
       "    <tr style=\"text-align: right;\">\n",
       "      <th></th>\n",
       "      <th>min</th>\n",
       "      <th>max</th>\n",
       "    </tr>\n",
       "  </thead>\n",
       "  <tbody>\n",
       "    <tr>\n",
       "      <th>0</th>\n",
       "      <td>1945-11-17</td>\n",
       "      <td>1985-07-01</td>\n",
       "    </tr>\n",
       "  </tbody>\n",
       "</table>\n",
       "</div>"
      ],
      "text/plain": [
       "          min         max\n",
       "0  1945-11-17  1985-07-01"
      ]
     },
     "execution_count": 25,
     "metadata": {},
     "output_type": "execute_result"
    }
   ],
   "source": [
    "Employees.agg({'BirthDate':[min,max]}).T.reset_index(drop=True)"
   ]
  },
  {
   "cell_type": "code",
   "execution_count": null,
   "id": "bb9dfb9d",
   "metadata": {},
   "outputs": [],
   "source": []
  },
  {
   "cell_type": "code",
   "execution_count": null,
   "id": "3218e210",
   "metadata": {},
   "outputs": [],
   "source": []
  },
  {
   "cell_type": "markdown",
   "id": "fcf8690f-3022-4903-aa97-7c44f83b57e3",
   "metadata": {},
   "source": [
    "#### Show the above results broken down by gender\n",
    "\n",
    "SQL logic\n",
    "```sql\n",
    "SELECT \n",
    "  e.Gender\n",
    "  , MIN(e.BirthDate) AS 'Earliest Birthday'\n",
    "  , MAX(e.BirthDate) AS 'Most Reecent Birthday'\n",
    "FROM dbo.Employees AS e\n",
    "GROUP BY e.Gender\n",
    ";\n",
    "```"
   ]
  },
  {
   "cell_type": "code",
   "execution_count": 26,
   "id": "33388286",
   "metadata": {},
   "outputs": [
    {
     "data": {
      "text/plain": [
       "Gender\n",
       "F    1946-10-29\n",
       "M    1945-11-17\n",
       "Name: BirthDate, dtype: object"
      ]
     },
     "execution_count": 26,
     "metadata": {},
     "output_type": "execute_result"
    }
   ],
   "source": [
    "Employees.groupby('Gender')['BirthDate'].min()"
   ]
  },
  {
   "cell_type": "code",
   "execution_count": 27,
   "id": "3d6e0d70-9914-4669-a7d2-4350fd06db7f",
   "metadata": {},
   "outputs": [
    {
     "data": {
      "text/html": [
       "<div>\n",
       "<style scoped>\n",
       "    .dataframe tbody tr th:only-of-type {\n",
       "        vertical-align: middle;\n",
       "    }\n",
       "\n",
       "    .dataframe tbody tr th {\n",
       "        vertical-align: top;\n",
       "    }\n",
       "\n",
       "    .dataframe thead th {\n",
       "        text-align: right;\n",
       "    }\n",
       "</style>\n",
       "<table border=\"1\" class=\"dataframe\">\n",
       "  <thead>\n",
       "    <tr style=\"text-align: right;\">\n",
       "      <th></th>\n",
       "      <th>Gender</th>\n",
       "      <th>BirthDate</th>\n",
       "    </tr>\n",
       "  </thead>\n",
       "  <tbody>\n",
       "    <tr>\n",
       "      <th>0</th>\n",
       "      <td>F</td>\n",
       "      <td>1946-10-29</td>\n",
       "    </tr>\n",
       "    <tr>\n",
       "      <th>1</th>\n",
       "      <td>M</td>\n",
       "      <td>1945-11-17</td>\n",
       "    </tr>\n",
       "  </tbody>\n",
       "</table>\n",
       "</div>"
      ],
      "text/plain": [
       "  Gender   BirthDate\n",
       "0      F  1946-10-29\n",
       "1      M  1945-11-17"
      ]
     },
     "execution_count": 27,
     "metadata": {},
     "output_type": "execute_result"
    }
   ],
   "source": [
    "Employees.groupby('Gender')['BirthDate'].min().reset_index()"
   ]
  },
  {
   "cell_type": "code",
   "execution_count": 28,
   "id": "d2984861",
   "metadata": {},
   "outputs": [
    {
     "data": {
      "text/html": [
       "<div>\n",
       "<style scoped>\n",
       "    .dataframe tbody tr th:only-of-type {\n",
       "        vertical-align: middle;\n",
       "    }\n",
       "\n",
       "    .dataframe tbody tr th {\n",
       "        vertical-align: top;\n",
       "    }\n",
       "\n",
       "    .dataframe thead th {\n",
       "        text-align: right;\n",
       "    }\n",
       "</style>\n",
       "<table border=\"1\" class=\"dataframe\">\n",
       "  <thead>\n",
       "    <tr style=\"text-align: right;\">\n",
       "      <th></th>\n",
       "      <th>Gender</th>\n",
       "      <th>BirthDate</th>\n",
       "    </tr>\n",
       "  </thead>\n",
       "  <tbody>\n",
       "    <tr>\n",
       "      <th>0</th>\n",
       "      <td>F</td>\n",
       "      <td>1985-07-01</td>\n",
       "    </tr>\n",
       "    <tr>\n",
       "      <th>1</th>\n",
       "      <td>M</td>\n",
       "      <td>1985-05-07</td>\n",
       "    </tr>\n",
       "  </tbody>\n",
       "</table>\n",
       "</div>"
      ],
      "text/plain": [
       "  Gender   BirthDate\n",
       "0      F  1985-07-01\n",
       "1      M  1985-05-07"
      ]
     },
     "execution_count": 28,
     "metadata": {},
     "output_type": "execute_result"
    }
   ],
   "source": [
    "Employees.groupby('Gender')['BirthDate'].max().reset_index()"
   ]
  },
  {
   "cell_type": "code",
   "execution_count": null,
   "id": "0359e1d1",
   "metadata": {},
   "outputs": [],
   "source": []
  },
  {
   "cell_type": "code",
   "execution_count": 29,
   "id": "f5dc608d-bbe2-4d89-963e-044266a8b15b",
   "metadata": {},
   "outputs": [
    {
     "data": {
      "text/html": [
       "<div>\n",
       "<style scoped>\n",
       "    .dataframe tbody tr th:only-of-type {\n",
       "        vertical-align: middle;\n",
       "    }\n",
       "\n",
       "    .dataframe tbody tr th {\n",
       "        vertical-align: top;\n",
       "    }\n",
       "\n",
       "    .dataframe thead tr th {\n",
       "        text-align: left;\n",
       "    }\n",
       "\n",
       "    .dataframe thead tr:last-of-type th {\n",
       "        text-align: right;\n",
       "    }\n",
       "</style>\n",
       "<table border=\"1\" class=\"dataframe\">\n",
       "  <thead>\n",
       "    <tr>\n",
       "      <th></th>\n",
       "      <th colspan=\"2\" halign=\"left\">BirthDate</th>\n",
       "    </tr>\n",
       "    <tr>\n",
       "      <th></th>\n",
       "      <th>min</th>\n",
       "      <th>max</th>\n",
       "    </tr>\n",
       "    <tr>\n",
       "      <th>Gender</th>\n",
       "      <th></th>\n",
       "      <th></th>\n",
       "    </tr>\n",
       "  </thead>\n",
       "  <tbody>\n",
       "    <tr>\n",
       "      <th>F</th>\n",
       "      <td>1946-10-29</td>\n",
       "      <td>1985-07-01</td>\n",
       "    </tr>\n",
       "    <tr>\n",
       "      <th>M</th>\n",
       "      <td>1945-11-17</td>\n",
       "      <td>1985-05-07</td>\n",
       "    </tr>\n",
       "  </tbody>\n",
       "</table>\n",
       "</div>"
      ],
      "text/plain": [
       "         BirthDate            \n",
       "               min         max\n",
       "Gender                        \n",
       "F       1946-10-29  1985-07-01\n",
       "M       1945-11-17  1985-05-07"
      ]
     },
     "execution_count": 29,
     "metadata": {},
     "output_type": "execute_result"
    }
   ],
   "source": [
    "Employees.groupby('Gender').agg({'BirthDate':[min,max]})"
   ]
  },
  {
   "cell_type": "code",
   "execution_count": 31,
   "id": "b0292923",
   "metadata": {},
   "outputs": [
    {
     "data": {
      "text/html": [
       "<div>\n",
       "<style scoped>\n",
       "    .dataframe tbody tr th:only-of-type {\n",
       "        vertical-align: middle;\n",
       "    }\n",
       "\n",
       "    .dataframe tbody tr th {\n",
       "        vertical-align: top;\n",
       "    }\n",
       "\n",
       "    .dataframe thead th {\n",
       "        text-align: right;\n",
       "    }\n",
       "</style>\n",
       "<table border=\"1\" class=\"dataframe\">\n",
       "  <thead>\n",
       "    <tr style=\"text-align: right;\">\n",
       "      <th></th>\n",
       "      <th>min_bday</th>\n",
       "      <th>max_bday</th>\n",
       "    </tr>\n",
       "    <tr>\n",
       "      <th>Gender</th>\n",
       "      <th></th>\n",
       "      <th></th>\n",
       "    </tr>\n",
       "  </thead>\n",
       "  <tbody>\n",
       "    <tr>\n",
       "      <th>F</th>\n",
       "      <td>1946-10-29</td>\n",
       "      <td>1985-07-01</td>\n",
       "    </tr>\n",
       "    <tr>\n",
       "      <th>M</th>\n",
       "      <td>1945-11-17</td>\n",
       "      <td>1985-05-07</td>\n",
       "    </tr>\n",
       "  </tbody>\n",
       "</table>\n",
       "</div>"
      ],
      "text/plain": [
       "          min_bday    max_bday\n",
       "Gender                        \n",
       "F       1946-10-29  1985-07-01\n",
       "M       1945-11-17  1985-05-07"
      ]
     },
     "execution_count": 31,
     "metadata": {},
     "output_type": "execute_result"
    }
   ],
   "source": [
    "Employees.groupby('Gender').agg(\n",
    "    min_bday=('BirthDate',min),\n",
    "    max_bday=('BirthDate',max)\n",
    ")"
   ]
  },
  {
   "cell_type": "code",
   "execution_count": null,
   "id": "6e379e79",
   "metadata": {},
   "outputs": [],
   "source": []
  },
  {
   "cell_type": "code",
   "execution_count": 32,
   "id": "6d89d4b3-791c-4b3f-a3c5-6849a6730859",
   "metadata": {},
   "outputs": [
    {
     "data": {
      "text/html": [
       "<div>\n",
       "<style scoped>\n",
       "    .dataframe tbody tr th:only-of-type {\n",
       "        vertical-align: middle;\n",
       "    }\n",
       "\n",
       "    .dataframe tbody tr th {\n",
       "        vertical-align: top;\n",
       "    }\n",
       "\n",
       "    .dataframe thead th {\n",
       "        text-align: right;\n",
       "    }\n",
       "</style>\n",
       "<table border=\"1\" class=\"dataframe\">\n",
       "  <thead>\n",
       "    <tr style=\"text-align: right;\">\n",
       "      <th></th>\n",
       "      <th>Gender</th>\n",
       "      <th>min_bday</th>\n",
       "      <th>max_bday</th>\n",
       "    </tr>\n",
       "  </thead>\n",
       "  <tbody>\n",
       "    <tr>\n",
       "      <th>0</th>\n",
       "      <td>F</td>\n",
       "      <td>1946-10-29</td>\n",
       "      <td>1985-07-01</td>\n",
       "    </tr>\n",
       "    <tr>\n",
       "      <th>1</th>\n",
       "      <td>M</td>\n",
       "      <td>1945-11-17</td>\n",
       "      <td>1985-05-07</td>\n",
       "    </tr>\n",
       "  </tbody>\n",
       "</table>\n",
       "</div>"
      ],
      "text/plain": [
       "  Gender    min_bday    max_bday\n",
       "0      F  1946-10-29  1985-07-01\n",
       "1      M  1945-11-17  1985-05-07"
      ]
     },
     "execution_count": 32,
     "metadata": {},
     "output_type": "execute_result"
    }
   ],
   "source": [
    "Employees.groupby('Gender').agg(\n",
    "    min_bday=('BirthDate',min),\n",
    "    max_bday=('BirthDate',max)\n",
    ").reset_index()"
   ]
  },
  {
   "cell_type": "code",
   "execution_count": null,
   "id": "2fa4477e",
   "metadata": {},
   "outputs": [],
   "source": []
  },
  {
   "cell_type": "markdown",
   "id": "8b5982c9-2a4c-4a65-8b02-f088994622c3",
   "metadata": {},
   "source": [
    "#### Show the above results broken down by gender, and salaried/hourly\n",
    "\n",
    "SQL logic\n",
    "```sql\n",
    "SELECT \n",
    "  e.Gender\n",
    "  , e.SalariedFlag\n",
    "  , MIN(e.BirthDate) AS 'Earliest Birthday'\n",
    "  , MAX(e.BirthDate) AS 'Most Reecent Birthday'\n",
    "FROM dbo.Employees AS e\n",
    "GROUP BY e.Gender, e.SalariedFlag\n",
    ";\n",
    "```"
   ]
  },
  {
   "cell_type": "code",
   "execution_count": 34,
   "id": "91fd7bfa",
   "metadata": {},
   "outputs": [
    {
     "data": {
      "text/html": [
       "<div>\n",
       "<style scoped>\n",
       "    .dataframe tbody tr th:only-of-type {\n",
       "        vertical-align: middle;\n",
       "    }\n",
       "\n",
       "    .dataframe tbody tr th {\n",
       "        vertical-align: top;\n",
       "    }\n",
       "\n",
       "    .dataframe thead th {\n",
       "        text-align: right;\n",
       "    }\n",
       "</style>\n",
       "<table border=\"1\" class=\"dataframe\">\n",
       "  <thead>\n",
       "    <tr style=\"text-align: right;\">\n",
       "      <th></th>\n",
       "      <th>SalariedFlag</th>\n",
       "    </tr>\n",
       "  </thead>\n",
       "  <tbody>\n",
       "    <tr>\n",
       "      <th>0</th>\n",
       "      <td>0</td>\n",
       "    </tr>\n",
       "    <tr>\n",
       "      <th>1</th>\n",
       "      <td>1</td>\n",
       "    </tr>\n",
       "    <tr>\n",
       "      <th>2</th>\n",
       "      <td>0</td>\n",
       "    </tr>\n",
       "    <tr>\n",
       "      <th>3</th>\n",
       "      <td>0</td>\n",
       "    </tr>\n",
       "    <tr>\n",
       "      <th>4</th>\n",
       "      <td>0</td>\n",
       "    </tr>\n",
       "  </tbody>\n",
       "</table>\n",
       "</div>"
      ],
      "text/plain": [
       "   SalariedFlag\n",
       "0             0\n",
       "1             1\n",
       "2             0\n",
       "3             0\n",
       "4             0"
      ]
     },
     "execution_count": 34,
     "metadata": {},
     "output_type": "execute_result"
    }
   ],
   "source": [
    "Employees.loc[:, ['SalariedFlag']].head(5)"
   ]
  },
  {
   "cell_type": "code",
   "execution_count": 35,
   "id": "7f741bd9",
   "metadata": {},
   "outputs": [
    {
     "data": {
      "text/plain": [
       "2"
      ]
     },
     "execution_count": 35,
     "metadata": {},
     "output_type": "execute_result"
    }
   ],
   "source": [
    "Employees.SalariedFlag.nunique()"
   ]
  },
  {
   "cell_type": "code",
   "execution_count": null,
   "id": "02582cdd",
   "metadata": {},
   "outputs": [],
   "source": []
  },
  {
   "cell_type": "code",
   "execution_count": 36,
   "id": "14dd5856-e655-49d4-974c-fc32f45fa871",
   "metadata": {},
   "outputs": [
    {
     "data": {
      "text/html": [
       "<div>\n",
       "<style scoped>\n",
       "    .dataframe tbody tr th:only-of-type {\n",
       "        vertical-align: middle;\n",
       "    }\n",
       "\n",
       "    .dataframe tbody tr th {\n",
       "        vertical-align: top;\n",
       "    }\n",
       "\n",
       "    .dataframe thead th {\n",
       "        text-align: right;\n",
       "    }\n",
       "</style>\n",
       "<table border=\"1\" class=\"dataframe\">\n",
       "  <thead>\n",
       "    <tr style=\"text-align: right;\">\n",
       "      <th></th>\n",
       "      <th>Gender</th>\n",
       "      <th>SalariedFlag</th>\n",
       "      <th>min_bday</th>\n",
       "      <th>max_bday</th>\n",
       "    </tr>\n",
       "  </thead>\n",
       "  <tbody>\n",
       "    <tr>\n",
       "      <th>0</th>\n",
       "      <td>F</td>\n",
       "      <td>0</td>\n",
       "      <td>1948-05-25</td>\n",
       "      <td>1985-07-01</td>\n",
       "    </tr>\n",
       "    <tr>\n",
       "      <th>1</th>\n",
       "      <td>F</td>\n",
       "      <td>1</td>\n",
       "      <td>1946-10-29</td>\n",
       "      <td>1980-07-06</td>\n",
       "    </tr>\n",
       "    <tr>\n",
       "      <th>2</th>\n",
       "      <td>M</td>\n",
       "      <td>0</td>\n",
       "      <td>1946-04-03</td>\n",
       "      <td>1985-05-07</td>\n",
       "    </tr>\n",
       "    <tr>\n",
       "      <th>3</th>\n",
       "      <td>M</td>\n",
       "      <td>1</td>\n",
       "      <td>1945-11-17</td>\n",
       "      <td>1982-04-14</td>\n",
       "    </tr>\n",
       "  </tbody>\n",
       "</table>\n",
       "</div>"
      ],
      "text/plain": [
       "  Gender  SalariedFlag    min_bday    max_bday\n",
       "0      F             0  1948-05-25  1985-07-01\n",
       "1      F             1  1946-10-29  1980-07-06\n",
       "2      M             0  1946-04-03  1985-05-07\n",
       "3      M             1  1945-11-17  1982-04-14"
      ]
     },
     "execution_count": 36,
     "metadata": {},
     "output_type": "execute_result"
    }
   ],
   "source": [
    "Employees.groupby(['Gender','SalariedFlag']).agg(\n",
    "    min_bday=('BirthDate',min),\n",
    "    max_bday=('BirthDate',max)\n",
    ").reset_index()"
   ]
  },
  {
   "cell_type": "code",
   "execution_count": null,
   "id": "c8c120f5",
   "metadata": {},
   "outputs": [],
   "source": []
  },
  {
   "cell_type": "markdown",
   "id": "8e53f80d-a50e-4101-8f03-1470abe9cdef",
   "metadata": {},
   "source": [
    "#### What are the average vacation hours for all employees?\n",
    "\n",
    "SQL logic\n",
    "```sql\n",
    "SELECT AVG(e.VacationHours)\n",
    "FROM dbo.Employees AS e\t\n",
    ";\n",
    "```"
   ]
  },
  {
   "cell_type": "code",
   "execution_count": 37,
   "id": "968529b8-a8e9-43ad-aa4d-9e2f572e8249",
   "metadata": {},
   "outputs": [
    {
     "data": {
      "text/plain": [
       "50.628865979381445"
      ]
     },
     "execution_count": 37,
     "metadata": {},
     "output_type": "execute_result"
    }
   ],
   "source": [
    "Employees.VacationHours.mean()"
   ]
  },
  {
   "cell_type": "code",
   "execution_count": null,
   "id": "88552b5a",
   "metadata": {},
   "outputs": [],
   "source": []
  },
  {
   "cell_type": "markdown",
   "id": "e28ebf62-6537-4d7c-82d1-154376e9b442",
   "metadata": {},
   "source": [
    "#### Show the above results broken down and ordered by job title¶\n",
    "\n",
    "SQL logic\n",
    "```sql\n",
    "SELECT \n",
    "  e.JobTitle\n",
    "  , AVG(e.VacationHours) AS 'Average Vacation'\n",
    "  , MIN(e.VacationHours) AS 'Minimum Vacation'\n",
    "FROM dbo.Employees AS e\n",
    "GROUP BY e.JobTitle\n",
    ";\n",
    "```"
   ]
  },
  {
   "cell_type": "code",
   "execution_count": 38,
   "id": "aa001b15-1828-4d01-ad69-286832ff7f83",
   "metadata": {},
   "outputs": [
    {
     "data": {
      "text/html": [
       "<div>\n",
       "<style scoped>\n",
       "    .dataframe tbody tr th:only-of-type {\n",
       "        vertical-align: middle;\n",
       "    }\n",
       "\n",
       "    .dataframe tbody tr th {\n",
       "        vertical-align: top;\n",
       "    }\n",
       "\n",
       "    .dataframe thead th {\n",
       "        text-align: right;\n",
       "    }\n",
       "</style>\n",
       "<table border=\"1\" class=\"dataframe\">\n",
       "  <thead>\n",
       "    <tr style=\"text-align: right;\">\n",
       "      <th></th>\n",
       "      <th>JobTitle</th>\n",
       "      <th>VacationHours</th>\n",
       "    </tr>\n",
       "  </thead>\n",
       "  <tbody>\n",
       "    <tr>\n",
       "      <th>0</th>\n",
       "      <td>Accountant</td>\n",
       "      <td>58</td>\n",
       "    </tr>\n",
       "    <tr>\n",
       "      <th>1</th>\n",
       "      <td>Accounts Manager</td>\n",
       "      <td>57</td>\n",
       "    </tr>\n",
       "    <tr>\n",
       "      <th>2</th>\n",
       "      <td>Accounts Payable Specialist</td>\n",
       "      <td>63</td>\n",
       "    </tr>\n",
       "  </tbody>\n",
       "</table>\n",
       "</div>"
      ],
      "text/plain": [
       "                      JobTitle  VacationHours\n",
       "0                   Accountant             58\n",
       "1             Accounts Manager             57\n",
       "2  Accounts Payable Specialist             63"
      ]
     },
     "execution_count": 38,
     "metadata": {},
     "output_type": "execute_result"
    }
   ],
   "source": [
    "Employees.groupby('JobTitle')['VacationHours'].min().reset_index().head(3)"
   ]
  },
  {
   "cell_type": "code",
   "execution_count": 39,
   "id": "0e993d77-dc2e-4edc-89e8-bf8fc2c8bf26",
   "metadata": {},
   "outputs": [
    {
     "data": {
      "text/html": [
       "<div>\n",
       "<style scoped>\n",
       "    .dataframe tbody tr th:only-of-type {\n",
       "        vertical-align: middle;\n",
       "    }\n",
       "\n",
       "    .dataframe tbody tr th {\n",
       "        vertical-align: top;\n",
       "    }\n",
       "\n",
       "    .dataframe thead th {\n",
       "        text-align: right;\n",
       "    }\n",
       "</style>\n",
       "<table border=\"1\" class=\"dataframe\">\n",
       "  <thead>\n",
       "    <tr style=\"text-align: right;\">\n",
       "      <th></th>\n",
       "      <th>JobTitle</th>\n",
       "      <th>VacationHours</th>\n",
       "    </tr>\n",
       "  </thead>\n",
       "  <tbody>\n",
       "    <tr>\n",
       "      <th>0</th>\n",
       "      <td>Accountant</td>\n",
       "      <td>58.5</td>\n",
       "    </tr>\n",
       "    <tr>\n",
       "      <th>1</th>\n",
       "      <td>Accounts Manager</td>\n",
       "      <td>57.0</td>\n",
       "    </tr>\n",
       "    <tr>\n",
       "      <th>2</th>\n",
       "      <td>Accounts Payable Specialist</td>\n",
       "      <td>63.5</td>\n",
       "    </tr>\n",
       "  </tbody>\n",
       "</table>\n",
       "</div>"
      ],
      "text/plain": [
       "                      JobTitle  VacationHours\n",
       "0                   Accountant           58.5\n",
       "1             Accounts Manager           57.0\n",
       "2  Accounts Payable Specialist           63.5"
      ]
     },
     "execution_count": 39,
     "metadata": {},
     "output_type": "execute_result"
    }
   ],
   "source": [
    "Employees.groupby('JobTitle')['VacationHours'].mean().reset_index().head(3)"
   ]
  },
  {
   "cell_type": "code",
   "execution_count": null,
   "id": "e592802e",
   "metadata": {},
   "outputs": [],
   "source": []
  },
  {
   "cell_type": "code",
   "execution_count": 43,
   "id": "f103fc48-f49b-458d-b309-043f5f532387",
   "metadata": {
    "scrolled": false
   },
   "outputs": [
    {
     "data": {
      "text/html": [
       "<div>\n",
       "<style scoped>\n",
       "    .dataframe tbody tr th:only-of-type {\n",
       "        vertical-align: middle;\n",
       "    }\n",
       "\n",
       "    .dataframe tbody tr th {\n",
       "        vertical-align: top;\n",
       "    }\n",
       "\n",
       "    .dataframe thead th {\n",
       "        text-align: right;\n",
       "    }\n",
       "</style>\n",
       "<table border=\"1\" class=\"dataframe\">\n",
       "  <thead>\n",
       "    <tr style=\"text-align: right;\">\n",
       "      <th></th>\n",
       "      <th>JobTitle</th>\n",
       "      <th>VacationHours</th>\n",
       "    </tr>\n",
       "  </thead>\n",
       "  <tbody>\n",
       "    <tr>\n",
       "      <th>0</th>\n",
       "      <td>Accountant</td>\n",
       "      <td>58.5</td>\n",
       "    </tr>\n",
       "    <tr>\n",
       "      <th>1</th>\n",
       "      <td>Accounts Manager</td>\n",
       "      <td>57.0</td>\n",
       "    </tr>\n",
       "    <tr>\n",
       "      <th>2</th>\n",
       "      <td>Accounts Payable Specialist</td>\n",
       "      <td>63.5</td>\n",
       "    </tr>\n",
       "  </tbody>\n",
       "</table>\n",
       "</div>"
      ],
      "text/plain": [
       "                      JobTitle  VacationHours\n",
       "0                   Accountant           58.5\n",
       "1             Accounts Manager           57.0\n",
       "2  Accounts Payable Specialist           63.5"
      ]
     },
     "execution_count": 43,
     "metadata": {},
     "output_type": "execute_result"
    }
   ],
   "source": [
    "Employees.groupby('JobTitle')['VacationHours'].apply(lambda x: sum(x)/len(x)).reset_index().head(3)"
   ]
  },
  {
   "cell_type": "code",
   "execution_count": null,
   "id": "863410c5",
   "metadata": {},
   "outputs": [],
   "source": []
  },
  {
   "cell_type": "code",
   "execution_count": 44,
   "id": "29f6ad1c-0fe3-456e-877b-5856e1b3e4f6",
   "metadata": {
    "scrolled": false
   },
   "outputs": [
    {
     "data": {
      "text/html": [
       "<div>\n",
       "<style scoped>\n",
       "    .dataframe tbody tr th:only-of-type {\n",
       "        vertical-align: middle;\n",
       "    }\n",
       "\n",
       "    .dataframe tbody tr th {\n",
       "        vertical-align: top;\n",
       "    }\n",
       "\n",
       "    .dataframe thead th {\n",
       "        text-align: right;\n",
       "    }\n",
       "</style>\n",
       "<table border=\"1\" class=\"dataframe\">\n",
       "  <thead>\n",
       "    <tr style=\"text-align: right;\">\n",
       "      <th></th>\n",
       "      <th>JobTitle</th>\n",
       "      <th>avg_pto_left</th>\n",
       "      <th>min_pto_left</th>\n",
       "    </tr>\n",
       "  </thead>\n",
       "  <tbody>\n",
       "    <tr>\n",
       "      <th>0</th>\n",
       "      <td>Accountant</td>\n",
       "      <td>58.5</td>\n",
       "      <td>58</td>\n",
       "    </tr>\n",
       "    <tr>\n",
       "      <th>1</th>\n",
       "      <td>Accounts Manager</td>\n",
       "      <td>57.0</td>\n",
       "      <td>57</td>\n",
       "    </tr>\n",
       "    <tr>\n",
       "      <th>2</th>\n",
       "      <td>Accounts Payable Specialist</td>\n",
       "      <td>63.5</td>\n",
       "      <td>63</td>\n",
       "    </tr>\n",
       "  </tbody>\n",
       "</table>\n",
       "</div>"
      ],
      "text/plain": [
       "                      JobTitle  avg_pto_left  min_pto_left\n",
       "0                   Accountant          58.5            58\n",
       "1             Accounts Manager          57.0            57\n",
       "2  Accounts Payable Specialist          63.5            63"
      ]
     },
     "execution_count": 44,
     "metadata": {},
     "output_type": "execute_result"
    }
   ],
   "source": [
    "Employees.groupby('JobTitle').agg(\n",
    "    avg_pto_left=('VacationHours',lambda x: sum(x)/len(x)),\n",
    "    min_pto_left=('VacationHours',min)\n",
    ").reset_index().head(3)"
   ]
  },
  {
   "cell_type": "code",
   "execution_count": null,
   "id": "00fb585c-fe9b-43e0-be39-5af0b702f317",
   "metadata": {},
   "outputs": [],
   "source": []
  },
  {
   "cell_type": "code",
   "execution_count": null,
   "id": "694f0842-51ef-42ed-8065-57bc64b6685f",
   "metadata": {},
   "outputs": [],
   "source": []
  },
  {
   "cell_type": "code",
   "execution_count": null,
   "id": "6bf8b9d7-1023-47e9-be9b-f6b3a9fc5d45",
   "metadata": {},
   "outputs": [],
   "source": []
  },
  {
   "cell_type": "markdown",
   "id": "da19c409-5b34-4796-8403-373e121cdec0",
   "metadata": {},
   "source": [
    "# The Python Statistics Landscape\n",
    "\n",
    "There are many Python statistics libraries for you to work with.\n",
    "\n",
    "* **Foundation Libraries**\n",
    "    * `statistics`: built-in Python library for descriptive statistics (link: https://docs.python.org/3/library/statistics.html)\n",
    "    * `numpy`: numerical computing, numpy arrays\n",
    "    * `scipy`: scientific computing based on numpy, the `scipy.stats` module (link: https://docs.scipy.org/doc/scipy/reference/stats.html) covers a large number of probability distributions and statistical functions (link: https://www.scipy.org/)\n",
    "    \n",
    "* **Data Science Libraries**\n",
    "    * `pandas`: 1D and 2D labeled data manipulations and computation\n",
    "    * `statsmodels`: a Python module that provides classes and functions for the estimation of many different statistical models, as well as for conducting statistical tests, and statistical data exploration (link: https://www.statsmodels.org/stable/index.html)\n",
    "    * `matplotlib`: graphs and visualization (link: https://matplotlib.org/)"
   ]
  },
  {
   "cell_type": "markdown",
   "id": "bf57c044-806f-43ff-8d0e-d780b921f3eb",
   "metadata": {},
   "source": [
    "# Descriptive Statistical Analysis\n",
    "\n",
    "Descriptive statistics is about describing and summarizing data. It uses two main approaches:\n",
    "\n",
    "* The quantitative approach describes and summarizes data numerically.\n",
    "* The visual approach illustrates data with charts, plots, histograms, and other graphs.\n",
    "\n",
    "You can apply descriptive statistics to one or many datasets or variables. When you describe and summarize a single variable, you’re performing univariate analysis. When you search for statistical relationships among a pair of variables, you’re doing a bivariate analysis. Similarly, a multivariate analysis is concerned with multiple variables at once.\n"
   ]
  },
  {
   "cell_type": "markdown",
   "id": "913fbef7-c1f8-4870-86ba-e91c41c283f4",
   "metadata": {},
   "source": [
    "**[Case Study]**\n",
    "\n",
    "**Atlanta Police Department Crime Data** ![APD Logo](https://atlantapd.galls.com/photos/partners/atlantapd/logo.jpg)\n",
    "\n",
    "\n",
    "The Atlanta Police Department provides raw crime data at http://www.atlantapd.org/i-want-to/crime-data-downloads\n"
   ]
  },
  {
   "cell_type": "code",
   "execution_count": 45,
   "id": "23f23567-33af-4d01-ab1b-42919d09f943",
   "metadata": {},
   "outputs": [],
   "source": [
    "import pandas as pd\n",
    "import matplotlib.pyplot as plt"
   ]
  },
  {
   "cell_type": "markdown",
   "id": "ef83d8fe-1b91-47a4-8aa6-42ea81bf9c89",
   "metadata": {},
   "source": [
    "## Load the 2009-2019 crime data"
   ]
  },
  {
   "cell_type": "code",
   "execution_count": 46,
   "id": "e4a124ac-27f4-45a7-a02d-c2f8fbb4cc0a",
   "metadata": {},
   "outputs": [
    {
     "name": "stderr",
     "output_type": "stream",
     "text": [
      "/var/folders/78/njcscll93_s6cc27zw_h0pmr0000gn/T/ipykernel_34604/4255288397.py:1: DtypeWarning: Columns (3,11) have mixed types. Specify dtype option on import or set low_memory=False.\n",
      "  df = pd.read_csv('../data/COBRA-2009-2019.csv',sep=',',header=0)\n"
     ]
    },
    {
     "data": {
      "text/html": [
       "<div>\n",
       "<style scoped>\n",
       "    .dataframe tbody tr th:only-of-type {\n",
       "        vertical-align: middle;\n",
       "    }\n",
       "\n",
       "    .dataframe tbody tr th {\n",
       "        vertical-align: top;\n",
       "    }\n",
       "\n",
       "    .dataframe thead th {\n",
       "        text-align: right;\n",
       "    }\n",
       "</style>\n",
       "<table border=\"1\" class=\"dataframe\">\n",
       "  <thead>\n",
       "    <tr style=\"text-align: right;\">\n",
       "      <th></th>\n",
       "      <th>Report Number</th>\n",
       "      <th>Report Date</th>\n",
       "      <th>Occur Date</th>\n",
       "      <th>Occur Time</th>\n",
       "      <th>Possible Date</th>\n",
       "      <th>Possible Time</th>\n",
       "      <th>Beat</th>\n",
       "      <th>Apartment Office Prefix</th>\n",
       "      <th>Apartment Number</th>\n",
       "      <th>Location</th>\n",
       "      <th>Shift Occurence</th>\n",
       "      <th>Location Type</th>\n",
       "      <th>UCR Literal</th>\n",
       "      <th>UCR #</th>\n",
       "      <th>IBR Code</th>\n",
       "      <th>Neighborhood</th>\n",
       "      <th>NPU</th>\n",
       "      <th>Latitude</th>\n",
       "      <th>Longitude</th>\n",
       "    </tr>\n",
       "  </thead>\n",
       "  <tbody>\n",
       "    <tr>\n",
       "      <th>0</th>\n",
       "      <td>90010930</td>\n",
       "      <td>2009-01-01</td>\n",
       "      <td>2009-01-01</td>\n",
       "      <td>1145</td>\n",
       "      <td>2009-01-01</td>\n",
       "      <td>1148.0</td>\n",
       "      <td>411.0</td>\n",
       "      <td>NaN</td>\n",
       "      <td>NaN</td>\n",
       "      <td>2841 GREENBRIAR PKWY</td>\n",
       "      <td>Day Watch</td>\n",
       "      <td>8</td>\n",
       "      <td>LARCENY-NON VEHICLE</td>\n",
       "      <td>630</td>\n",
       "      <td>2303</td>\n",
       "      <td>Greenbriar</td>\n",
       "      <td>R</td>\n",
       "      <td>33.68845</td>\n",
       "      <td>-84.49328</td>\n",
       "    </tr>\n",
       "    <tr>\n",
       "      <th>1</th>\n",
       "      <td>90011083</td>\n",
       "      <td>2009-01-01</td>\n",
       "      <td>2009-01-01</td>\n",
       "      <td>1330</td>\n",
       "      <td>2009-01-01</td>\n",
       "      <td>1330.0</td>\n",
       "      <td>511.0</td>\n",
       "      <td>NaN</td>\n",
       "      <td>NaN</td>\n",
       "      <td>12 BROAD ST SW</td>\n",
       "      <td>Day Watch</td>\n",
       "      <td>9</td>\n",
       "      <td>LARCENY-NON VEHICLE</td>\n",
       "      <td>630</td>\n",
       "      <td>2303</td>\n",
       "      <td>Downtown</td>\n",
       "      <td>M</td>\n",
       "      <td>33.75320</td>\n",
       "      <td>-84.39201</td>\n",
       "    </tr>\n",
       "    <tr>\n",
       "      <th>2</th>\n",
       "      <td>90011208</td>\n",
       "      <td>2009-01-01</td>\n",
       "      <td>2009-01-01</td>\n",
       "      <td>1500</td>\n",
       "      <td>2009-01-01</td>\n",
       "      <td>1520.0</td>\n",
       "      <td>407.0</td>\n",
       "      <td>NaN</td>\n",
       "      <td>NaN</td>\n",
       "      <td>3500 MARTIN L KING JR DR SW</td>\n",
       "      <td>Unknown</td>\n",
       "      <td>8</td>\n",
       "      <td>LARCENY-NON VEHICLE</td>\n",
       "      <td>630</td>\n",
       "      <td>2303</td>\n",
       "      <td>Adamsville</td>\n",
       "      <td>H</td>\n",
       "      <td>33.75735</td>\n",
       "      <td>-84.50282</td>\n",
       "    </tr>\n",
       "  </tbody>\n",
       "</table>\n",
       "</div>"
      ],
      "text/plain": [
       "   Report Number Report Date  Occur Date Occur Time Possible Date  \\\n",
       "0       90010930  2009-01-01  2009-01-01       1145    2009-01-01   \n",
       "1       90011083  2009-01-01  2009-01-01       1330    2009-01-01   \n",
       "2       90011208  2009-01-01  2009-01-01       1500    2009-01-01   \n",
       "\n",
       "   Possible Time   Beat Apartment Office Prefix Apartment Number  \\\n",
       "0         1148.0  411.0                     NaN              NaN   \n",
       "1         1330.0  511.0                     NaN              NaN   \n",
       "2         1520.0  407.0                     NaN              NaN   \n",
       "\n",
       "                      Location Shift Occurence Location Type  \\\n",
       "0         2841 GREENBRIAR PKWY       Day Watch             8   \n",
       "1               12 BROAD ST SW       Day Watch             9   \n",
       "2  3500 MARTIN L KING JR DR SW         Unknown             8   \n",
       "\n",
       "           UCR Literal  UCR # IBR Code Neighborhood NPU  Latitude  Longitude  \n",
       "0  LARCENY-NON VEHICLE    630     2303   Greenbriar   R  33.68845  -84.49328  \n",
       "1  LARCENY-NON VEHICLE    630     2303     Downtown   M  33.75320  -84.39201  \n",
       "2  LARCENY-NON VEHICLE    630     2303   Adamsville   H  33.75735  -84.50282  "
      ]
     },
     "execution_count": 46,
     "metadata": {},
     "output_type": "execute_result"
    }
   ],
   "source": [
    "df = pd.read_csv('../data/COBRA-2009-2019.csv',sep=',',header=0)\n",
    "df.head(3)"
   ]
  },
  {
   "cell_type": "code",
   "execution_count": 47,
   "id": "a2ac9ca6-e2b5-40ba-abfe-733a4a115160",
   "metadata": {},
   "outputs": [
    {
     "data": {
      "text/plain": [
       "(342914, 19)"
      ]
     },
     "execution_count": 47,
     "metadata": {},
     "output_type": "execute_result"
    }
   ],
   "source": [
    "df.shape"
   ]
  },
  {
   "cell_type": "code",
   "execution_count": 48,
   "id": "b7d5c65a-05b6-4ee8-994b-78697f812e3b",
   "metadata": {},
   "outputs": [
    {
     "name": "stdout",
     "output_type": "stream",
     "text": [
      "<class 'pandas.core.frame.DataFrame'>\n",
      "RangeIndex: 342914 entries, 0 to 342913\n",
      "Data columns (total 19 columns):\n",
      " #   Column                   Non-Null Count   Dtype  \n",
      "---  ------                   --------------   -----  \n",
      " 0   Report Number            342914 non-null  int64  \n",
      " 1   Report Date              342914 non-null  object \n",
      " 2   Occur Date               342914 non-null  object \n",
      " 3   Occur Time               342914 non-null  object \n",
      " 4   Possible Date            342896 non-null  object \n",
      " 5   Possible Time            342895 non-null  float64\n",
      " 6   Beat                     342890 non-null  float64\n",
      " 7   Apartment Office Prefix  10094 non-null   object \n",
      " 8   Apartment Number         68274 non-null   object \n",
      " 9   Location                 342912 non-null  object \n",
      " 10  Shift Occurence          342914 non-null  object \n",
      " 11  Location Type            333698 non-null  object \n",
      " 12  UCR Literal              342914 non-null  object \n",
      " 13  UCR #                    342914 non-null  int64  \n",
      " 14  IBR Code                 342744 non-null  object \n",
      " 15  Neighborhood             330551 non-null  object \n",
      " 16  NPU                      342775 non-null  object \n",
      " 17  Latitude                 342914 non-null  float64\n",
      " 18  Longitude                342914 non-null  float64\n",
      "dtypes: float64(4), int64(2), object(13)\n",
      "memory usage: 49.7+ MB\n"
     ]
    }
   ],
   "source": [
    "df.info()"
   ]
  },
  {
   "cell_type": "code",
   "execution_count": null,
   "id": "14ef6f1e",
   "metadata": {},
   "outputs": [],
   "source": []
  },
  {
   "cell_type": "markdown",
   "id": "afd816dd-260e-414d-9b30-20febb813cfa",
   "metadata": {},
   "source": [
    "## Quantitative Analysis"
   ]
  },
  {
   "cell_type": "code",
   "execution_count": 49,
   "id": "158beaa0",
   "metadata": {},
   "outputs": [
    {
     "data": {
      "text/html": [
       "<div>\n",
       "<style scoped>\n",
       "    .dataframe tbody tr th:only-of-type {\n",
       "        vertical-align: middle;\n",
       "    }\n",
       "\n",
       "    .dataframe tbody tr th {\n",
       "        vertical-align: top;\n",
       "    }\n",
       "\n",
       "    .dataframe thead th {\n",
       "        text-align: right;\n",
       "    }\n",
       "</style>\n",
       "<table border=\"1\" class=\"dataframe\">\n",
       "  <thead>\n",
       "    <tr style=\"text-align: right;\">\n",
       "      <th></th>\n",
       "      <th>Report Number</th>\n",
       "      <th>Report Date</th>\n",
       "      <th>Occur Date</th>\n",
       "      <th>Occur Time</th>\n",
       "      <th>Possible Date</th>\n",
       "      <th>Possible Time</th>\n",
       "      <th>Beat</th>\n",
       "      <th>Apartment Office Prefix</th>\n",
       "      <th>Apartment Number</th>\n",
       "      <th>Location</th>\n",
       "      <th>Shift Occurence</th>\n",
       "      <th>Location Type</th>\n",
       "      <th>UCR Literal</th>\n",
       "      <th>UCR #</th>\n",
       "      <th>IBR Code</th>\n",
       "      <th>Neighborhood</th>\n",
       "      <th>NPU</th>\n",
       "      <th>Latitude</th>\n",
       "      <th>Longitude</th>\n",
       "    </tr>\n",
       "  </thead>\n",
       "  <tbody>\n",
       "    <tr>\n",
       "      <th>0</th>\n",
       "      <td>90010930</td>\n",
       "      <td>2009-01-01</td>\n",
       "      <td>2009-01-01</td>\n",
       "      <td>1145</td>\n",
       "      <td>2009-01-01</td>\n",
       "      <td>1148.0</td>\n",
       "      <td>411.0</td>\n",
       "      <td>NaN</td>\n",
       "      <td>NaN</td>\n",
       "      <td>2841 GREENBRIAR PKWY</td>\n",
       "      <td>Day Watch</td>\n",
       "      <td>8</td>\n",
       "      <td>LARCENY-NON VEHICLE</td>\n",
       "      <td>630</td>\n",
       "      <td>2303</td>\n",
       "      <td>Greenbriar</td>\n",
       "      <td>R</td>\n",
       "      <td>33.68845</td>\n",
       "      <td>-84.49328</td>\n",
       "    </tr>\n",
       "    <tr>\n",
       "      <th>1</th>\n",
       "      <td>90011083</td>\n",
       "      <td>2009-01-01</td>\n",
       "      <td>2009-01-01</td>\n",
       "      <td>1330</td>\n",
       "      <td>2009-01-01</td>\n",
       "      <td>1330.0</td>\n",
       "      <td>511.0</td>\n",
       "      <td>NaN</td>\n",
       "      <td>NaN</td>\n",
       "      <td>12 BROAD ST SW</td>\n",
       "      <td>Day Watch</td>\n",
       "      <td>9</td>\n",
       "      <td>LARCENY-NON VEHICLE</td>\n",
       "      <td>630</td>\n",
       "      <td>2303</td>\n",
       "      <td>Downtown</td>\n",
       "      <td>M</td>\n",
       "      <td>33.75320</td>\n",
       "      <td>-84.39201</td>\n",
       "    </tr>\n",
       "  </tbody>\n",
       "</table>\n",
       "</div>"
      ],
      "text/plain": [
       "   Report Number Report Date  Occur Date Occur Time Possible Date  \\\n",
       "0       90010930  2009-01-01  2009-01-01       1145    2009-01-01   \n",
       "1       90011083  2009-01-01  2009-01-01       1330    2009-01-01   \n",
       "\n",
       "   Possible Time   Beat Apartment Office Prefix Apartment Number  \\\n",
       "0         1148.0  411.0                     NaN              NaN   \n",
       "1         1330.0  511.0                     NaN              NaN   \n",
       "\n",
       "               Location Shift Occurence Location Type          UCR Literal  \\\n",
       "0  2841 GREENBRIAR PKWY       Day Watch             8  LARCENY-NON VEHICLE   \n",
       "1        12 BROAD ST SW       Day Watch             9  LARCENY-NON VEHICLE   \n",
       "\n",
       "   UCR # IBR Code Neighborhood NPU  Latitude  Longitude  \n",
       "0    630     2303   Greenbriar   R  33.68845  -84.49328  \n",
       "1    630     2303     Downtown   M  33.75320  -84.39201  "
      ]
     },
     "execution_count": 49,
     "metadata": {},
     "output_type": "execute_result"
    }
   ],
   "source": [
    "df.head(2)"
   ]
  },
  {
   "cell_type": "code",
   "execution_count": null,
   "id": "0115c349",
   "metadata": {},
   "outputs": [],
   "source": [
    "# yyyy-mm-dd"
   ]
  },
  {
   "cell_type": "code",
   "execution_count": 50,
   "id": "fe2f1bb3",
   "metadata": {},
   "outputs": [
    {
     "data": {
      "text/plain": [
       "'yyyy'"
      ]
     },
     "execution_count": 50,
     "metadata": {},
     "output_type": "execute_result"
    }
   ],
   "source": [
    "'yyyy-mm-dd'[:4]"
   ]
  },
  {
   "cell_type": "code",
   "execution_count": null,
   "id": "83743804",
   "metadata": {},
   "outputs": [],
   "source": []
  },
  {
   "cell_type": "code",
   "execution_count": null,
   "id": "09938e9c",
   "metadata": {},
   "outputs": [],
   "source": []
  },
  {
   "cell_type": "code",
   "execution_count": 53,
   "id": "9eff6a05",
   "metadata": {},
   "outputs": [
    {
     "data": {
      "text/plain": [
       "list"
      ]
     },
     "execution_count": 53,
     "metadata": {},
     "output_type": "execute_result"
    }
   ],
   "source": [
    "x = df['Report Date'].map(lambda x: x[:4])\n",
    "# type(x)\n",
    "y = list(x)\n",
    "type(y)"
   ]
  },
  {
   "cell_type": "code",
   "execution_count": 54,
   "id": "9368bf92",
   "metadata": {},
   "outputs": [
    {
     "data": {
      "text/plain": [
       "342914"
      ]
     },
     "execution_count": 54,
     "metadata": {},
     "output_type": "execute_result"
    }
   ],
   "source": [
    "len(y)"
   ]
  },
  {
   "cell_type": "code",
   "execution_count": 55,
   "id": "4c9807cc",
   "metadata": {},
   "outputs": [
    {
     "data": {
      "text/plain": [
       "['2009',\n",
       " '2009',\n",
       " '2009',\n",
       " '2009',\n",
       " '2009',\n",
       " '2009',\n",
       " '2009',\n",
       " '2009',\n",
       " '2009',\n",
       " '2009']"
      ]
     },
     "execution_count": 55,
     "metadata": {},
     "output_type": "execute_result"
    }
   ],
   "source": [
    "y[:10]"
   ]
  },
  {
   "cell_type": "code",
   "execution_count": null,
   "id": "f767b477",
   "metadata": {},
   "outputs": [],
   "source": []
  },
  {
   "cell_type": "code",
   "execution_count": null,
   "id": "66ff10a1",
   "metadata": {},
   "outputs": [],
   "source": []
  },
  {
   "cell_type": "code",
   "execution_count": null,
   "id": "a120da81",
   "metadata": {},
   "outputs": [],
   "source": []
  },
  {
   "cell_type": "code",
   "execution_count": 56,
   "id": "2a1c4429-27b5-47a2-a37d-81169474aef0",
   "metadata": {},
   "outputs": [
    {
     "data": {
      "text/html": [
       "<div>\n",
       "<style scoped>\n",
       "    .dataframe tbody tr th:only-of-type {\n",
       "        vertical-align: middle;\n",
       "    }\n",
       "\n",
       "    .dataframe tbody tr th {\n",
       "        vertical-align: top;\n",
       "    }\n",
       "\n",
       "    .dataframe thead th {\n",
       "        text-align: right;\n",
       "    }\n",
       "</style>\n",
       "<table border=\"1\" class=\"dataframe\">\n",
       "  <thead>\n",
       "    <tr style=\"text-align: right;\">\n",
       "      <th></th>\n",
       "      <th>Report Number</th>\n",
       "      <th>Report Date</th>\n",
       "      <th>Occur Date</th>\n",
       "      <th>Occur Time</th>\n",
       "      <th>Possible Date</th>\n",
       "      <th>Possible Time</th>\n",
       "      <th>Beat</th>\n",
       "      <th>Apartment Office Prefix</th>\n",
       "      <th>Apartment Number</th>\n",
       "      <th>Location</th>\n",
       "      <th>Shift Occurence</th>\n",
       "      <th>Location Type</th>\n",
       "      <th>UCR Literal</th>\n",
       "      <th>UCR #</th>\n",
       "      <th>IBR Code</th>\n",
       "      <th>Neighborhood</th>\n",
       "      <th>NPU</th>\n",
       "      <th>Latitude</th>\n",
       "      <th>Longitude</th>\n",
       "      <th>rpt_yr</th>\n",
       "    </tr>\n",
       "  </thead>\n",
       "  <tbody>\n",
       "    <tr>\n",
       "      <th>0</th>\n",
       "      <td>90010930</td>\n",
       "      <td>2009-01-01</td>\n",
       "      <td>2009-01-01</td>\n",
       "      <td>1145</td>\n",
       "      <td>2009-01-01</td>\n",
       "      <td>1148.0</td>\n",
       "      <td>411.0</td>\n",
       "      <td>NaN</td>\n",
       "      <td>NaN</td>\n",
       "      <td>2841 GREENBRIAR PKWY</td>\n",
       "      <td>Day Watch</td>\n",
       "      <td>8</td>\n",
       "      <td>LARCENY-NON VEHICLE</td>\n",
       "      <td>630</td>\n",
       "      <td>2303</td>\n",
       "      <td>Greenbriar</td>\n",
       "      <td>R</td>\n",
       "      <td>33.68845</td>\n",
       "      <td>-84.49328</td>\n",
       "      <td>2009</td>\n",
       "    </tr>\n",
       "    <tr>\n",
       "      <th>1</th>\n",
       "      <td>90011083</td>\n",
       "      <td>2009-01-01</td>\n",
       "      <td>2009-01-01</td>\n",
       "      <td>1330</td>\n",
       "      <td>2009-01-01</td>\n",
       "      <td>1330.0</td>\n",
       "      <td>511.0</td>\n",
       "      <td>NaN</td>\n",
       "      <td>NaN</td>\n",
       "      <td>12 BROAD ST SW</td>\n",
       "      <td>Day Watch</td>\n",
       "      <td>9</td>\n",
       "      <td>LARCENY-NON VEHICLE</td>\n",
       "      <td>630</td>\n",
       "      <td>2303</td>\n",
       "      <td>Downtown</td>\n",
       "      <td>M</td>\n",
       "      <td>33.75320</td>\n",
       "      <td>-84.39201</td>\n",
       "      <td>2009</td>\n",
       "    </tr>\n",
       "    <tr>\n",
       "      <th>2</th>\n",
       "      <td>90011208</td>\n",
       "      <td>2009-01-01</td>\n",
       "      <td>2009-01-01</td>\n",
       "      <td>1500</td>\n",
       "      <td>2009-01-01</td>\n",
       "      <td>1520.0</td>\n",
       "      <td>407.0</td>\n",
       "      <td>NaN</td>\n",
       "      <td>NaN</td>\n",
       "      <td>3500 MARTIN L KING JR DR SW</td>\n",
       "      <td>Unknown</td>\n",
       "      <td>8</td>\n",
       "      <td>LARCENY-NON VEHICLE</td>\n",
       "      <td>630</td>\n",
       "      <td>2303</td>\n",
       "      <td>Adamsville</td>\n",
       "      <td>H</td>\n",
       "      <td>33.75735</td>\n",
       "      <td>-84.50282</td>\n",
       "      <td>2009</td>\n",
       "    </tr>\n",
       "  </tbody>\n",
       "</table>\n",
       "</div>"
      ],
      "text/plain": [
       "   Report Number Report Date  Occur Date Occur Time Possible Date  \\\n",
       "0       90010930  2009-01-01  2009-01-01       1145    2009-01-01   \n",
       "1       90011083  2009-01-01  2009-01-01       1330    2009-01-01   \n",
       "2       90011208  2009-01-01  2009-01-01       1500    2009-01-01   \n",
       "\n",
       "   Possible Time   Beat Apartment Office Prefix Apartment Number  \\\n",
       "0         1148.0  411.0                     NaN              NaN   \n",
       "1         1330.0  511.0                     NaN              NaN   \n",
       "2         1520.0  407.0                     NaN              NaN   \n",
       "\n",
       "                      Location Shift Occurence Location Type  \\\n",
       "0         2841 GREENBRIAR PKWY       Day Watch             8   \n",
       "1               12 BROAD ST SW       Day Watch             9   \n",
       "2  3500 MARTIN L KING JR DR SW         Unknown             8   \n",
       "\n",
       "           UCR Literal  UCR # IBR Code Neighborhood NPU  Latitude  Longitude  \\\n",
       "0  LARCENY-NON VEHICLE    630     2303   Greenbriar   R  33.68845  -84.49328   \n",
       "1  LARCENY-NON VEHICLE    630     2303     Downtown   M  33.75320  -84.39201   \n",
       "2  LARCENY-NON VEHICLE    630     2303   Adamsville   H  33.75735  -84.50282   \n",
       "\n",
       "  rpt_yr  \n",
       "0   2009  \n",
       "1   2009  \n",
       "2   2009  "
      ]
     },
     "execution_count": 56,
     "metadata": {},
     "output_type": "execute_result"
    }
   ],
   "source": [
    "df['rpt_yr'] = df['Report Date'].map(lambda x: x[:4])\n",
    "\n",
    "df.head(3)"
   ]
  },
  {
   "cell_type": "code",
   "execution_count": 57,
   "id": "c82f2a88",
   "metadata": {},
   "outputs": [
    {
     "data": {
      "text/html": [
       "<div>\n",
       "<style scoped>\n",
       "    .dataframe tbody tr th:only-of-type {\n",
       "        vertical-align: middle;\n",
       "    }\n",
       "\n",
       "    .dataframe tbody tr th {\n",
       "        vertical-align: top;\n",
       "    }\n",
       "\n",
       "    .dataframe thead th {\n",
       "        text-align: right;\n",
       "    }\n",
       "</style>\n",
       "<table border=\"1\" class=\"dataframe\">\n",
       "  <thead>\n",
       "    <tr style=\"text-align: right;\">\n",
       "      <th></th>\n",
       "      <th>Report Number</th>\n",
       "      <th>Report Date</th>\n",
       "      <th>rpt_yr</th>\n",
       "    </tr>\n",
       "  </thead>\n",
       "  <tbody>\n",
       "    <tr>\n",
       "      <th>0</th>\n",
       "      <td>90010930</td>\n",
       "      <td>2009-01-01</td>\n",
       "      <td>2009</td>\n",
       "    </tr>\n",
       "    <tr>\n",
       "      <th>1</th>\n",
       "      <td>90011083</td>\n",
       "      <td>2009-01-01</td>\n",
       "      <td>2009</td>\n",
       "    </tr>\n",
       "    <tr>\n",
       "      <th>2</th>\n",
       "      <td>90011208</td>\n",
       "      <td>2009-01-01</td>\n",
       "      <td>2009</td>\n",
       "    </tr>\n",
       "    <tr>\n",
       "      <th>3</th>\n",
       "      <td>90011218</td>\n",
       "      <td>2009-01-01</td>\n",
       "      <td>2009</td>\n",
       "    </tr>\n",
       "    <tr>\n",
       "      <th>4</th>\n",
       "      <td>90011289</td>\n",
       "      <td>2009-01-01</td>\n",
       "      <td>2009</td>\n",
       "    </tr>\n",
       "    <tr>\n",
       "      <th>5</th>\n",
       "      <td>90011327</td>\n",
       "      <td>2009-01-01</td>\n",
       "      <td>2009</td>\n",
       "    </tr>\n",
       "    <tr>\n",
       "      <th>6</th>\n",
       "      <td>90011450</td>\n",
       "      <td>2009-01-01</td>\n",
       "      <td>2009</td>\n",
       "    </tr>\n",
       "    <tr>\n",
       "      <th>7</th>\n",
       "      <td>90011608</td>\n",
       "      <td>2009-01-01</td>\n",
       "      <td>2009</td>\n",
       "    </tr>\n",
       "    <tr>\n",
       "      <th>8</th>\n",
       "      <td>90010721</td>\n",
       "      <td>2009-01-01</td>\n",
       "      <td>2009</td>\n",
       "    </tr>\n",
       "    <tr>\n",
       "      <th>9</th>\n",
       "      <td>90010108</td>\n",
       "      <td>2009-01-01</td>\n",
       "      <td>2009</td>\n",
       "    </tr>\n",
       "  </tbody>\n",
       "</table>\n",
       "</div>"
      ],
      "text/plain": [
       "   Report Number Report Date rpt_yr\n",
       "0       90010930  2009-01-01   2009\n",
       "1       90011083  2009-01-01   2009\n",
       "2       90011208  2009-01-01   2009\n",
       "3       90011218  2009-01-01   2009\n",
       "4       90011289  2009-01-01   2009\n",
       "5       90011327  2009-01-01   2009\n",
       "6       90011450  2009-01-01   2009\n",
       "7       90011608  2009-01-01   2009\n",
       "8       90010721  2009-01-01   2009\n",
       "9       90010108  2009-01-01   2009"
      ]
     },
     "execution_count": 57,
     "metadata": {},
     "output_type": "execute_result"
    }
   ],
   "source": [
    "df.loc[:, ['Report Number', 'Report Date', 'rpt_yr']].head(10)"
   ]
  },
  {
   "cell_type": "code",
   "execution_count": null,
   "id": "7a04e150",
   "metadata": {},
   "outputs": [],
   "source": []
  },
  {
   "cell_type": "code",
   "execution_count": 58,
   "id": "c08081cc",
   "metadata": {},
   "outputs": [
    {
     "data": {
      "text/html": [
       "<div>\n",
       "<style scoped>\n",
       "    .dataframe tbody tr th:only-of-type {\n",
       "        vertical-align: middle;\n",
       "    }\n",
       "\n",
       "    .dataframe tbody tr th {\n",
       "        vertical-align: top;\n",
       "    }\n",
       "\n",
       "    .dataframe thead th {\n",
       "        text-align: right;\n",
       "    }\n",
       "</style>\n",
       "<table border=\"1\" class=\"dataframe\">\n",
       "  <thead>\n",
       "    <tr style=\"text-align: right;\">\n",
       "      <th></th>\n",
       "      <th>Report Number</th>\n",
       "      <th>Report Date</th>\n",
       "      <th>rpt_yr</th>\n",
       "      <th>rpt_yr_2</th>\n",
       "    </tr>\n",
       "  </thead>\n",
       "  <tbody>\n",
       "    <tr>\n",
       "      <th>0</th>\n",
       "      <td>90010930</td>\n",
       "      <td>2009-01-01</td>\n",
       "      <td>2009</td>\n",
       "      <td>2009</td>\n",
       "    </tr>\n",
       "    <tr>\n",
       "      <th>1</th>\n",
       "      <td>90011083</td>\n",
       "      <td>2009-01-01</td>\n",
       "      <td>2009</td>\n",
       "      <td>2009</td>\n",
       "    </tr>\n",
       "    <tr>\n",
       "      <th>2</th>\n",
       "      <td>90011208</td>\n",
       "      <td>2009-01-01</td>\n",
       "      <td>2009</td>\n",
       "      <td>2009</td>\n",
       "    </tr>\n",
       "    <tr>\n",
       "      <th>3</th>\n",
       "      <td>90011218</td>\n",
       "      <td>2009-01-01</td>\n",
       "      <td>2009</td>\n",
       "      <td>2009</td>\n",
       "    </tr>\n",
       "    <tr>\n",
       "      <th>4</th>\n",
       "      <td>90011289</td>\n",
       "      <td>2009-01-01</td>\n",
       "      <td>2009</td>\n",
       "      <td>2009</td>\n",
       "    </tr>\n",
       "    <tr>\n",
       "      <th>5</th>\n",
       "      <td>90011327</td>\n",
       "      <td>2009-01-01</td>\n",
       "      <td>2009</td>\n",
       "      <td>2009</td>\n",
       "    </tr>\n",
       "    <tr>\n",
       "      <th>6</th>\n",
       "      <td>90011450</td>\n",
       "      <td>2009-01-01</td>\n",
       "      <td>2009</td>\n",
       "      <td>2009</td>\n",
       "    </tr>\n",
       "    <tr>\n",
       "      <th>7</th>\n",
       "      <td>90011608</td>\n",
       "      <td>2009-01-01</td>\n",
       "      <td>2009</td>\n",
       "      <td>2009</td>\n",
       "    </tr>\n",
       "    <tr>\n",
       "      <th>8</th>\n",
       "      <td>90010721</td>\n",
       "      <td>2009-01-01</td>\n",
       "      <td>2009</td>\n",
       "      <td>2009</td>\n",
       "    </tr>\n",
       "    <tr>\n",
       "      <th>9</th>\n",
       "      <td>90010108</td>\n",
       "      <td>2009-01-01</td>\n",
       "      <td>2009</td>\n",
       "      <td>2009</td>\n",
       "    </tr>\n",
       "  </tbody>\n",
       "</table>\n",
       "</div>"
      ],
      "text/plain": [
       "   Report Number Report Date rpt_yr rpt_yr_2\n",
       "0       90010930  2009-01-01   2009     2009\n",
       "1       90011083  2009-01-01   2009     2009\n",
       "2       90011208  2009-01-01   2009     2009\n",
       "3       90011218  2009-01-01   2009     2009\n",
       "4       90011289  2009-01-01   2009     2009\n",
       "5       90011327  2009-01-01   2009     2009\n",
       "6       90011450  2009-01-01   2009     2009\n",
       "7       90011608  2009-01-01   2009     2009\n",
       "8       90010721  2009-01-01   2009     2009\n",
       "9       90010108  2009-01-01   2009     2009"
      ]
     },
     "execution_count": 58,
     "metadata": {},
     "output_type": "execute_result"
    }
   ],
   "source": [
    "df['rpt_yr_2'] = df['Report Date'].apply(lambda x: x[:4])\n",
    "\n",
    "df.loc[:, ['Report Number', 'Report Date', 'rpt_yr', 'rpt_yr_2']].head(10)"
   ]
  },
  {
   "cell_type": "code",
   "execution_count": null,
   "id": "2fa98c61",
   "metadata": {},
   "outputs": [],
   "source": []
  },
  {
   "cell_type": "code",
   "execution_count": null,
   "id": "49697c1b",
   "metadata": {},
   "outputs": [],
   "source": []
  },
  {
   "cell_type": "code",
   "execution_count": 69,
   "id": "616c7d00-de58-4d6b-a054-e69c9f60592d",
   "metadata": {},
   "outputs": [
    {
     "data": {
      "text/html": [
       "<div>\n",
       "<style scoped>\n",
       "    .dataframe tbody tr th:only-of-type {\n",
       "        vertical-align: middle;\n",
       "    }\n",
       "\n",
       "    .dataframe tbody tr th {\n",
       "        vertical-align: top;\n",
       "    }\n",
       "\n",
       "    .dataframe thead th {\n",
       "        text-align: right;\n",
       "    }\n",
       "</style>\n",
       "<table border=\"1\" class=\"dataframe\">\n",
       "  <thead>\n",
       "    <tr style=\"text-align: right;\">\n",
       "      <th></th>\n",
       "      <th>rpt_yr</th>\n",
       "      <th>num_row</th>\n",
       "      <th>num_rpt</th>\n",
       "    </tr>\n",
       "  </thead>\n",
       "  <tbody>\n",
       "    <tr>\n",
       "      <th>0</th>\n",
       "      <td>2009</td>\n",
       "      <td>39395</td>\n",
       "      <td>39362</td>\n",
       "    </tr>\n",
       "    <tr>\n",
       "      <th>1</th>\n",
       "      <td>2010</td>\n",
       "      <td>35500</td>\n",
       "      <td>35462</td>\n",
       "    </tr>\n",
       "    <tr>\n",
       "      <th>2</th>\n",
       "      <td>2011</td>\n",
       "      <td>34871</td>\n",
       "      <td>34848</td>\n",
       "    </tr>\n",
       "    <tr>\n",
       "      <th>3</th>\n",
       "      <td>2012</td>\n",
       "      <td>33405</td>\n",
       "      <td>33391</td>\n",
       "    </tr>\n",
       "    <tr>\n",
       "      <th>4</th>\n",
       "      <td>2013</td>\n",
       "      <td>32439</td>\n",
       "      <td>32423</td>\n",
       "    </tr>\n",
       "  </tbody>\n",
       "</table>\n",
       "</div>"
      ],
      "text/plain": [
       "  rpt_yr  num_row  num_rpt\n",
       "0   2009    39395    39362\n",
       "1   2010    35500    35462\n",
       "2   2011    34871    34848\n",
       "3   2012    33405    33391\n",
       "4   2013    32439    32423"
      ]
     },
     "execution_count": 69,
     "metadata": {},
     "output_type": "execute_result"
    }
   ],
   "source": [
    "## number of reports every year\n",
    "# df['rpt_yr'] = df['Report Date'].map(lambda x: x[:4])\n",
    "\n",
    "num_rpt_by_yr = df.groupby('rpt_yr').agg(\n",
    "    num_row=('Report Number',len),\n",
    "    num_rpt=('Report Number',lambda x: len(set(x)))\n",
    ").reset_index()\n",
    "num_rpt_by_yr.head(5)"
   ]
  },
  {
   "cell_type": "code",
   "execution_count": null,
   "id": "08da24cf",
   "metadata": {},
   "outputs": [],
   "source": []
  },
  {
   "cell_type": "code",
   "execution_count": 62,
   "id": "71c75965",
   "metadata": {},
   "outputs": [
    {
     "data": {
      "text/html": [
       "<div>\n",
       "<style scoped>\n",
       "    .dataframe tbody tr th:only-of-type {\n",
       "        vertical-align: middle;\n",
       "    }\n",
       "\n",
       "    .dataframe tbody tr th {\n",
       "        vertical-align: top;\n",
       "    }\n",
       "\n",
       "    .dataframe thead th {\n",
       "        text-align: right;\n",
       "    }\n",
       "</style>\n",
       "<table border=\"1\" class=\"dataframe\">\n",
       "  <thead>\n",
       "    <tr style=\"text-align: right;\">\n",
       "      <th></th>\n",
       "      <th>rpt_yr</th>\n",
       "      <th>Report Number</th>\n",
       "    </tr>\n",
       "  </thead>\n",
       "  <tbody>\n",
       "    <tr>\n",
       "      <th>0</th>\n",
       "      <td>2009</td>\n",
       "      <td>39395</td>\n",
       "    </tr>\n",
       "    <tr>\n",
       "      <th>1</th>\n",
       "      <td>2010</td>\n",
       "      <td>35500</td>\n",
       "    </tr>\n",
       "    <tr>\n",
       "      <th>2</th>\n",
       "      <td>2011</td>\n",
       "      <td>34871</td>\n",
       "    </tr>\n",
       "    <tr>\n",
       "      <th>3</th>\n",
       "      <td>2012</td>\n",
       "      <td>33405</td>\n",
       "    </tr>\n",
       "    <tr>\n",
       "      <th>4</th>\n",
       "      <td>2013</td>\n",
       "      <td>32439</td>\n",
       "    </tr>\n",
       "  </tbody>\n",
       "</table>\n",
       "</div>"
      ],
      "text/plain": [
       "  rpt_yr  Report Number\n",
       "0   2009          39395\n",
       "1   2010          35500\n",
       "2   2011          34871\n",
       "3   2012          33405\n",
       "4   2013          32439"
      ]
     },
     "execution_count": 62,
     "metadata": {},
     "output_type": "execute_result"
    }
   ],
   "source": [
    "df.groupby('rpt_yr')['Report Number'].apply(lambda x: len(x)).reset_index().head(5)"
   ]
  },
  {
   "cell_type": "code",
   "execution_count": 64,
   "id": "4760d14e",
   "metadata": {},
   "outputs": [
    {
     "name": "stdout",
     "output_type": "stream",
     "text": [
      "342914\n",
      "342609\n"
     ]
    }
   ],
   "source": [
    "rowcount = df.shape[0]\n",
    "num_unique_report_number = df['Report Number'].nunique()\n",
    "print(rowcount)\n",
    "print(num_unique_report_number)"
   ]
  },
  {
   "cell_type": "code",
   "execution_count": null,
   "id": "37a2e0f3",
   "metadata": {},
   "outputs": [],
   "source": []
  },
  {
   "cell_type": "code",
   "execution_count": 65,
   "id": "72afde6a",
   "metadata": {},
   "outputs": [
    {
     "data": {
      "text/plain": [
       "4"
      ]
     },
     "execution_count": 65,
     "metadata": {},
     "output_type": "execute_result"
    }
   ],
   "source": [
    "x = [1,2,3,4]\n",
    "len(x)"
   ]
  },
  {
   "cell_type": "code",
   "execution_count": 66,
   "id": "65dc5b0f",
   "metadata": {},
   "outputs": [
    {
     "data": {
      "text/plain": [
       "4"
      ]
     },
     "execution_count": 66,
     "metadata": {},
     "output_type": "execute_result"
    }
   ],
   "source": [
    "x = [1,1,2,2,3,4]\n",
    "len(set(x))"
   ]
  },
  {
   "cell_type": "code",
   "execution_count": null,
   "id": "78d55f35",
   "metadata": {},
   "outputs": [],
   "source": []
  },
  {
   "cell_type": "code",
   "execution_count": 67,
   "id": "cf23bea0",
   "metadata": {},
   "outputs": [
    {
     "data": {
      "text/html": [
       "<div>\n",
       "<style scoped>\n",
       "    .dataframe tbody tr th:only-of-type {\n",
       "        vertical-align: middle;\n",
       "    }\n",
       "\n",
       "    .dataframe tbody tr th {\n",
       "        vertical-align: top;\n",
       "    }\n",
       "\n",
       "    .dataframe thead th {\n",
       "        text-align: right;\n",
       "    }\n",
       "</style>\n",
       "<table border=\"1\" class=\"dataframe\">\n",
       "  <thead>\n",
       "    <tr style=\"text-align: right;\">\n",
       "      <th></th>\n",
       "      <th>rpt_yr</th>\n",
       "      <th>Report Number</th>\n",
       "    </tr>\n",
       "  </thead>\n",
       "  <tbody>\n",
       "    <tr>\n",
       "      <th>0</th>\n",
       "      <td>2009</td>\n",
       "      <td>39362</td>\n",
       "    </tr>\n",
       "    <tr>\n",
       "      <th>1</th>\n",
       "      <td>2010</td>\n",
       "      <td>35462</td>\n",
       "    </tr>\n",
       "    <tr>\n",
       "      <th>2</th>\n",
       "      <td>2011</td>\n",
       "      <td>34848</td>\n",
       "    </tr>\n",
       "    <tr>\n",
       "      <th>3</th>\n",
       "      <td>2012</td>\n",
       "      <td>33391</td>\n",
       "    </tr>\n",
       "    <tr>\n",
       "      <th>4</th>\n",
       "      <td>2013</td>\n",
       "      <td>32423</td>\n",
       "    </tr>\n",
       "  </tbody>\n",
       "</table>\n",
       "</div>"
      ],
      "text/plain": [
       "  rpt_yr  Report Number\n",
       "0   2009          39362\n",
       "1   2010          35462\n",
       "2   2011          34848\n",
       "3   2012          33391\n",
       "4   2013          32423"
      ]
     },
     "execution_count": 67,
     "metadata": {},
     "output_type": "execute_result"
    }
   ],
   "source": [
    "df.groupby('rpt_yr')['Report Number'].apply(lambda x: len(set(x))).reset_index().head(5)"
   ]
  },
  {
   "cell_type": "code",
   "execution_count": 68,
   "id": "6d781b37",
   "metadata": {},
   "outputs": [
    {
     "data": {
      "text/html": [
       "<div>\n",
       "<style scoped>\n",
       "    .dataframe tbody tr th:only-of-type {\n",
       "        vertical-align: middle;\n",
       "    }\n",
       "\n",
       "    .dataframe tbody tr th {\n",
       "        vertical-align: top;\n",
       "    }\n",
       "\n",
       "    .dataframe thead th {\n",
       "        text-align: right;\n",
       "    }\n",
       "</style>\n",
       "<table border=\"1\" class=\"dataframe\">\n",
       "  <thead>\n",
       "    <tr style=\"text-align: right;\">\n",
       "      <th></th>\n",
       "      <th>rpt_yr</th>\n",
       "      <th>Report Number</th>\n",
       "    </tr>\n",
       "  </thead>\n",
       "  <tbody>\n",
       "    <tr>\n",
       "      <th>0</th>\n",
       "      <td>2009</td>\n",
       "      <td>39395</td>\n",
       "    </tr>\n",
       "    <tr>\n",
       "      <th>1</th>\n",
       "      <td>2010</td>\n",
       "      <td>35500</td>\n",
       "    </tr>\n",
       "    <tr>\n",
       "      <th>2</th>\n",
       "      <td>2011</td>\n",
       "      <td>34871</td>\n",
       "    </tr>\n",
       "    <tr>\n",
       "      <th>3</th>\n",
       "      <td>2012</td>\n",
       "      <td>33405</td>\n",
       "    </tr>\n",
       "    <tr>\n",
       "      <th>4</th>\n",
       "      <td>2013</td>\n",
       "      <td>32439</td>\n",
       "    </tr>\n",
       "  </tbody>\n",
       "</table>\n",
       "</div>"
      ],
      "text/plain": [
       "  rpt_yr  Report Number\n",
       "0   2009          39395\n",
       "1   2010          35500\n",
       "2   2011          34871\n",
       "3   2012          33405\n",
       "4   2013          32439"
      ]
     },
     "execution_count": 68,
     "metadata": {},
     "output_type": "execute_result"
    }
   ],
   "source": [
    "df.groupby('rpt_yr')['Report Number'].apply(lambda x: len(x)).reset_index().head(5)"
   ]
  },
  {
   "cell_type": "code",
   "execution_count": null,
   "id": "562f72f4",
   "metadata": {},
   "outputs": [],
   "source": []
  },
  {
   "cell_type": "code",
   "execution_count": 70,
   "id": "9b113b6e",
   "metadata": {},
   "outputs": [
    {
     "data": {
      "text/html": [
       "<div>\n",
       "<style scoped>\n",
       "    .dataframe tbody tr th:only-of-type {\n",
       "        vertical-align: middle;\n",
       "    }\n",
       "\n",
       "    .dataframe tbody tr th {\n",
       "        vertical-align: top;\n",
       "    }\n",
       "\n",
       "    .dataframe thead th {\n",
       "        text-align: right;\n",
       "    }\n",
       "</style>\n",
       "<table border=\"1\" class=\"dataframe\">\n",
       "  <thead>\n",
       "    <tr style=\"text-align: right;\">\n",
       "      <th></th>\n",
       "      <th>rpt_yr</th>\n",
       "      <th>Report Number</th>\n",
       "    </tr>\n",
       "  </thead>\n",
       "  <tbody>\n",
       "    <tr>\n",
       "      <th>0</th>\n",
       "      <td>2009</td>\n",
       "      <td>39395</td>\n",
       "    </tr>\n",
       "    <tr>\n",
       "      <th>1</th>\n",
       "      <td>2010</td>\n",
       "      <td>35500</td>\n",
       "    </tr>\n",
       "    <tr>\n",
       "      <th>2</th>\n",
       "      <td>2011</td>\n",
       "      <td>34871</td>\n",
       "    </tr>\n",
       "    <tr>\n",
       "      <th>3</th>\n",
       "      <td>2012</td>\n",
       "      <td>33405</td>\n",
       "    </tr>\n",
       "    <tr>\n",
       "      <th>4</th>\n",
       "      <td>2013</td>\n",
       "      <td>32439</td>\n",
       "    </tr>\n",
       "    <tr>\n",
       "      <th>5</th>\n",
       "      <td>2014</td>\n",
       "      <td>31128</td>\n",
       "    </tr>\n",
       "    <tr>\n",
       "      <th>6</th>\n",
       "      <td>2015</td>\n",
       "      <td>30087</td>\n",
       "    </tr>\n",
       "    <tr>\n",
       "      <th>7</th>\n",
       "      <td>2016</td>\n",
       "      <td>29022</td>\n",
       "    </tr>\n",
       "    <tr>\n",
       "      <th>8</th>\n",
       "      <td>2017</td>\n",
       "      <td>26410</td>\n",
       "    </tr>\n",
       "    <tr>\n",
       "      <th>9</th>\n",
       "      <td>2018</td>\n",
       "      <td>25627</td>\n",
       "    </tr>\n",
       "    <tr>\n",
       "      <th>10</th>\n",
       "      <td>2019</td>\n",
       "      <td>25030</td>\n",
       "    </tr>\n",
       "  </tbody>\n",
       "</table>\n",
       "</div>"
      ],
      "text/plain": [
       "   rpt_yr  Report Number\n",
       "0    2009          39395\n",
       "1    2010          35500\n",
       "2    2011          34871\n",
       "3    2012          33405\n",
       "4    2013          32439\n",
       "5    2014          31128\n",
       "6    2015          30087\n",
       "7    2016          29022\n",
       "8    2017          26410\n",
       "9    2018          25627\n",
       "10   2019          25030"
      ]
     },
     "execution_count": 70,
     "metadata": {},
     "output_type": "execute_result"
    }
   ],
   "source": [
    "df.groupby('rpt_yr')['Report Number'].apply(lambda x: len(x)).reset_index()"
   ]
  },
  {
   "cell_type": "code",
   "execution_count": null,
   "id": "7185e5e6",
   "metadata": {},
   "outputs": [],
   "source": []
  },
  {
   "cell_type": "code",
   "execution_count": null,
   "id": "0a78f0f0",
   "metadata": {},
   "outputs": [],
   "source": []
  },
  {
   "cell_type": "code",
   "execution_count": 72,
   "id": "d0d0f157",
   "metadata": {},
   "outputs": [
    {
     "data": {
      "text/html": [
       "<div>\n",
       "<style scoped>\n",
       "    .dataframe tbody tr th:only-of-type {\n",
       "        vertical-align: middle;\n",
       "    }\n",
       "\n",
       "    .dataframe tbody tr th {\n",
       "        vertical-align: top;\n",
       "    }\n",
       "\n",
       "    .dataframe thead th {\n",
       "        text-align: right;\n",
       "    }\n",
       "</style>\n",
       "<table border=\"1\" class=\"dataframe\">\n",
       "  <thead>\n",
       "    <tr style=\"text-align: right;\">\n",
       "      <th></th>\n",
       "      <th>Report Number</th>\n",
       "      <th>Report Date</th>\n",
       "      <th>Occur Date</th>\n",
       "      <th>Occur Time</th>\n",
       "      <th>Possible Date</th>\n",
       "      <th>Possible Time</th>\n",
       "      <th>Beat</th>\n",
       "      <th>Apartment Office Prefix</th>\n",
       "      <th>Apartment Number</th>\n",
       "      <th>Location</th>\n",
       "      <th>Shift Occurence</th>\n",
       "      <th>Location Type</th>\n",
       "      <th>UCR Literal</th>\n",
       "      <th>UCR #</th>\n",
       "      <th>IBR Code</th>\n",
       "      <th>Neighborhood</th>\n",
       "      <th>NPU</th>\n",
       "      <th>Latitude</th>\n",
       "      <th>Longitude</th>\n",
       "      <th>rpt_yr</th>\n",
       "      <th>rpt_yr_2</th>\n",
       "    </tr>\n",
       "  </thead>\n",
       "  <tbody>\n",
       "    <tr>\n",
       "      <th>0</th>\n",
       "      <td>90010930</td>\n",
       "      <td>2009-01-01</td>\n",
       "      <td>2009-01-01</td>\n",
       "      <td>1145</td>\n",
       "      <td>2009-01-01</td>\n",
       "      <td>1148.0</td>\n",
       "      <td>411.0</td>\n",
       "      <td>NaN</td>\n",
       "      <td>NaN</td>\n",
       "      <td>2841 GREENBRIAR PKWY</td>\n",
       "      <td>Day Watch</td>\n",
       "      <td>8</td>\n",
       "      <td>LARCENY-NON VEHICLE</td>\n",
       "      <td>630</td>\n",
       "      <td>2303</td>\n",
       "      <td>Greenbriar</td>\n",
       "      <td>R</td>\n",
       "      <td>33.68845</td>\n",
       "      <td>-84.49328</td>\n",
       "      <td>2009</td>\n",
       "      <td>2009</td>\n",
       "    </tr>\n",
       "    <tr>\n",
       "      <th>1</th>\n",
       "      <td>90011083</td>\n",
       "      <td>2009-01-01</td>\n",
       "      <td>2009-01-01</td>\n",
       "      <td>1330</td>\n",
       "      <td>2009-01-01</td>\n",
       "      <td>1330.0</td>\n",
       "      <td>511.0</td>\n",
       "      <td>NaN</td>\n",
       "      <td>NaN</td>\n",
       "      <td>12 BROAD ST SW</td>\n",
       "      <td>Day Watch</td>\n",
       "      <td>9</td>\n",
       "      <td>LARCENY-NON VEHICLE</td>\n",
       "      <td>630</td>\n",
       "      <td>2303</td>\n",
       "      <td>Downtown</td>\n",
       "      <td>M</td>\n",
       "      <td>33.75320</td>\n",
       "      <td>-84.39201</td>\n",
       "      <td>2009</td>\n",
       "      <td>2009</td>\n",
       "    </tr>\n",
       "    <tr>\n",
       "      <th>2</th>\n",
       "      <td>90011208</td>\n",
       "      <td>2009-01-01</td>\n",
       "      <td>2009-01-01</td>\n",
       "      <td>1500</td>\n",
       "      <td>2009-01-01</td>\n",
       "      <td>1520.0</td>\n",
       "      <td>407.0</td>\n",
       "      <td>NaN</td>\n",
       "      <td>NaN</td>\n",
       "      <td>3500 MARTIN L KING JR DR SW</td>\n",
       "      <td>Unknown</td>\n",
       "      <td>8</td>\n",
       "      <td>LARCENY-NON VEHICLE</td>\n",
       "      <td>630</td>\n",
       "      <td>2303</td>\n",
       "      <td>Adamsville</td>\n",
       "      <td>H</td>\n",
       "      <td>33.75735</td>\n",
       "      <td>-84.50282</td>\n",
       "      <td>2009</td>\n",
       "      <td>2009</td>\n",
       "    </tr>\n",
       "    <tr>\n",
       "      <th>3</th>\n",
       "      <td>90011218</td>\n",
       "      <td>2009-01-01</td>\n",
       "      <td>2009-01-01</td>\n",
       "      <td>1450</td>\n",
       "      <td>2009-01-01</td>\n",
       "      <td>1510.0</td>\n",
       "      <td>210.0</td>\n",
       "      <td>NaN</td>\n",
       "      <td>NaN</td>\n",
       "      <td>3393 PEACHTREE RD NE</td>\n",
       "      <td>Evening Watch</td>\n",
       "      <td>8</td>\n",
       "      <td>LARCENY-NON VEHICLE</td>\n",
       "      <td>630</td>\n",
       "      <td>2303</td>\n",
       "      <td>Lenox</td>\n",
       "      <td>B</td>\n",
       "      <td>33.84676</td>\n",
       "      <td>-84.36212</td>\n",
       "      <td>2009</td>\n",
       "      <td>2009</td>\n",
       "    </tr>\n",
       "    <tr>\n",
       "      <th>4</th>\n",
       "      <td>90011289</td>\n",
       "      <td>2009-01-01</td>\n",
       "      <td>2009-01-01</td>\n",
       "      <td>1600</td>\n",
       "      <td>2009-01-01</td>\n",
       "      <td>1700.0</td>\n",
       "      <td>411.0</td>\n",
       "      <td>NaN</td>\n",
       "      <td>NaN</td>\n",
       "      <td>2841 GREENBRIAR PKWY SW</td>\n",
       "      <td>Unknown</td>\n",
       "      <td>8</td>\n",
       "      <td>LARCENY-NON VEHICLE</td>\n",
       "      <td>630</td>\n",
       "      <td>2303</td>\n",
       "      <td>Greenbriar</td>\n",
       "      <td>R</td>\n",
       "      <td>33.68677</td>\n",
       "      <td>-84.49773</td>\n",
       "      <td>2009</td>\n",
       "      <td>2009</td>\n",
       "    </tr>\n",
       "    <tr>\n",
       "      <th>5</th>\n",
       "      <td>90011327</td>\n",
       "      <td>2009-01-01</td>\n",
       "      <td>2009-01-01</td>\n",
       "      <td>1645</td>\n",
       "      <td>2009-01-01</td>\n",
       "      <td>1645.0</td>\n",
       "      <td>609.0</td>\n",
       "      <td>NaN</td>\n",
       "      <td>NaN</td>\n",
       "      <td>1217 CAROLINE ST NE</td>\n",
       "      <td>Evening Watch</td>\n",
       "      <td>24</td>\n",
       "      <td>LARCENY-NON VEHICLE</td>\n",
       "      <td>630</td>\n",
       "      <td>2303</td>\n",
       "      <td>Edgewood</td>\n",
       "      <td>O</td>\n",
       "      <td>33.75786</td>\n",
       "      <td>-84.34875</td>\n",
       "      <td>2009</td>\n",
       "      <td>2009</td>\n",
       "    </tr>\n",
       "    <tr>\n",
       "      <th>6</th>\n",
       "      <td>90011450</td>\n",
       "      <td>2009-01-01</td>\n",
       "      <td>2009-01-01</td>\n",
       "      <td>1740</td>\n",
       "      <td>2009-01-01</td>\n",
       "      <td>1815.0</td>\n",
       "      <td>408.0</td>\n",
       "      <td>NaN</td>\n",
       "      <td>NaN</td>\n",
       "      <td>2685 METROPOLITAN PARKWAY</td>\n",
       "      <td>Evening Watch</td>\n",
       "      <td>12</td>\n",
       "      <td>LARCENY-NON VEHICLE</td>\n",
       "      <td>630</td>\n",
       "      <td>2303</td>\n",
       "      <td>Venetian Hills</td>\n",
       "      <td>S</td>\n",
       "      <td>33.70827</td>\n",
       "      <td>-84.45385</td>\n",
       "      <td>2009</td>\n",
       "      <td>2009</td>\n",
       "    </tr>\n",
       "    <tr>\n",
       "      <th>7</th>\n",
       "      <td>90011608</td>\n",
       "      <td>2009-01-01</td>\n",
       "      <td>2009-01-01</td>\n",
       "      <td>1627</td>\n",
       "      <td>2009-01-01</td>\n",
       "      <td>2110.0</td>\n",
       "      <td>210.0</td>\n",
       "      <td>NaN</td>\n",
       "      <td>NaN</td>\n",
       "      <td>3393 PEACHTREE RD</td>\n",
       "      <td>Evening Watch</td>\n",
       "      <td>8</td>\n",
       "      <td>LARCENY-NON VEHICLE</td>\n",
       "      <td>630</td>\n",
       "      <td>2303</td>\n",
       "      <td>Lenox</td>\n",
       "      <td>B</td>\n",
       "      <td>33.84676</td>\n",
       "      <td>-84.36212</td>\n",
       "      <td>2009</td>\n",
       "      <td>2009</td>\n",
       "    </tr>\n",
       "    <tr>\n",
       "      <th>8</th>\n",
       "      <td>90010721</td>\n",
       "      <td>2009-01-01</td>\n",
       "      <td>2009-01-01</td>\n",
       "      <td>815</td>\n",
       "      <td>2009-01-01</td>\n",
       "      <td>820.0</td>\n",
       "      <td>411.0</td>\n",
       "      <td>NaN</td>\n",
       "      <td>NaN</td>\n",
       "      <td>3030 HEADLAND DR SW</td>\n",
       "      <td>Day Watch</td>\n",
       "      <td>12</td>\n",
       "      <td>LARCENY-NON VEHICLE</td>\n",
       "      <td>630</td>\n",
       "      <td>2303</td>\n",
       "      <td>Greenbriar</td>\n",
       "      <td>R</td>\n",
       "      <td>33.68841</td>\n",
       "      <td>-84.48742</td>\n",
       "      <td>2009</td>\n",
       "      <td>2009</td>\n",
       "    </tr>\n",
       "    <tr>\n",
       "      <th>9</th>\n",
       "      <td>90010108</td>\n",
       "      <td>2009-01-01</td>\n",
       "      <td>2008-12-31</td>\n",
       "      <td>2000</td>\n",
       "      <td>2009-01-01</td>\n",
       "      <td>100.0</td>\n",
       "      <td>507.0</td>\n",
       "      <td>NaN</td>\n",
       "      <td>NaN</td>\n",
       "      <td>360 MARIETTA ST NW</td>\n",
       "      <td>Morning Watch</td>\n",
       "      <td>18</td>\n",
       "      <td>LARCENY-FROM VEHICLE</td>\n",
       "      <td>640</td>\n",
       "      <td>2305</td>\n",
       "      <td>Downtown</td>\n",
       "      <td>M</td>\n",
       "      <td>33.76269</td>\n",
       "      <td>-84.39702</td>\n",
       "      <td>2009</td>\n",
       "      <td>2009</td>\n",
       "    </tr>\n",
       "  </tbody>\n",
       "</table>\n",
       "</div>"
      ],
      "text/plain": [
       "   Report Number Report Date  Occur Date Occur Time Possible Date  \\\n",
       "0       90010930  2009-01-01  2009-01-01       1145    2009-01-01   \n",
       "1       90011083  2009-01-01  2009-01-01       1330    2009-01-01   \n",
       "2       90011208  2009-01-01  2009-01-01       1500    2009-01-01   \n",
       "3       90011218  2009-01-01  2009-01-01       1450    2009-01-01   \n",
       "4       90011289  2009-01-01  2009-01-01       1600    2009-01-01   \n",
       "5       90011327  2009-01-01  2009-01-01       1645    2009-01-01   \n",
       "6       90011450  2009-01-01  2009-01-01       1740    2009-01-01   \n",
       "7       90011608  2009-01-01  2009-01-01       1627    2009-01-01   \n",
       "8       90010721  2009-01-01  2009-01-01        815    2009-01-01   \n",
       "9       90010108  2009-01-01  2008-12-31       2000    2009-01-01   \n",
       "\n",
       "   Possible Time   Beat Apartment Office Prefix Apartment Number  \\\n",
       "0         1148.0  411.0                     NaN              NaN   \n",
       "1         1330.0  511.0                     NaN              NaN   \n",
       "2         1520.0  407.0                     NaN              NaN   \n",
       "3         1510.0  210.0                     NaN              NaN   \n",
       "4         1700.0  411.0                     NaN              NaN   \n",
       "5         1645.0  609.0                     NaN              NaN   \n",
       "6         1815.0  408.0                     NaN              NaN   \n",
       "7         2110.0  210.0                     NaN              NaN   \n",
       "8          820.0  411.0                     NaN              NaN   \n",
       "9          100.0  507.0                     NaN              NaN   \n",
       "\n",
       "                      Location Shift Occurence Location Type  \\\n",
       "0         2841 GREENBRIAR PKWY       Day Watch             8   \n",
       "1               12 BROAD ST SW       Day Watch             9   \n",
       "2  3500 MARTIN L KING JR DR SW         Unknown             8   \n",
       "3         3393 PEACHTREE RD NE   Evening Watch             8   \n",
       "4      2841 GREENBRIAR PKWY SW         Unknown             8   \n",
       "5          1217 CAROLINE ST NE   Evening Watch            24   \n",
       "6    2685 METROPOLITAN PARKWAY   Evening Watch            12   \n",
       "7            3393 PEACHTREE RD   Evening Watch             8   \n",
       "8          3030 HEADLAND DR SW       Day Watch            12   \n",
       "9           360 MARIETTA ST NW   Morning Watch            18   \n",
       "\n",
       "            UCR Literal  UCR # IBR Code    Neighborhood NPU  Latitude  \\\n",
       "0   LARCENY-NON VEHICLE    630     2303      Greenbriar   R  33.68845   \n",
       "1   LARCENY-NON VEHICLE    630     2303        Downtown   M  33.75320   \n",
       "2   LARCENY-NON VEHICLE    630     2303      Adamsville   H  33.75735   \n",
       "3   LARCENY-NON VEHICLE    630     2303           Lenox   B  33.84676   \n",
       "4   LARCENY-NON VEHICLE    630     2303      Greenbriar   R  33.68677   \n",
       "5   LARCENY-NON VEHICLE    630     2303        Edgewood   O  33.75786   \n",
       "6   LARCENY-NON VEHICLE    630     2303  Venetian Hills   S  33.70827   \n",
       "7   LARCENY-NON VEHICLE    630     2303           Lenox   B  33.84676   \n",
       "8   LARCENY-NON VEHICLE    630     2303      Greenbriar   R  33.68841   \n",
       "9  LARCENY-FROM VEHICLE    640     2305        Downtown   M  33.76269   \n",
       "\n",
       "   Longitude rpt_yr rpt_yr_2  \n",
       "0  -84.49328   2009     2009  \n",
       "1  -84.39201   2009     2009  \n",
       "2  -84.50282   2009     2009  \n",
       "3  -84.36212   2009     2009  \n",
       "4  -84.49773   2009     2009  \n",
       "5  -84.34875   2009     2009  \n",
       "6  -84.45385   2009     2009  \n",
       "7  -84.36212   2009     2009  \n",
       "8  -84.48742   2009     2009  \n",
       "9  -84.39702   2009     2009  "
      ]
     },
     "execution_count": 72,
     "metadata": {},
     "output_type": "execute_result"
    }
   ],
   "source": [
    "df.head(10)"
   ]
  },
  {
   "cell_type": "code",
   "execution_count": 73,
   "id": "f317db47",
   "metadata": {},
   "outputs": [
    {
     "data": {
      "text/plain": [
       "array(['Day Watch', 'Unknown', 'Evening Watch', 'Morning Watch'],\n",
       "      dtype=object)"
      ]
     },
     "execution_count": 73,
     "metadata": {},
     "output_type": "execute_result"
    }
   ],
   "source": [
    "df['Shift Occurence'].unique()"
   ]
  },
  {
   "cell_type": "code",
   "execution_count": null,
   "id": "a6238f50",
   "metadata": {},
   "outputs": [],
   "source": []
  },
  {
   "cell_type": "code",
   "execution_count": null,
   "id": "7880dbfe",
   "metadata": {},
   "outputs": [],
   "source": []
  },
  {
   "cell_type": "code",
   "execution_count": 79,
   "id": "51766d7b-71f5-47e6-b549-01cdd7b4a3f7",
   "metadata": {},
   "outputs": [
    {
     "data": {
      "text/html": [
       "<div>\n",
       "<style scoped>\n",
       "    .dataframe tbody tr th:only-of-type {\n",
       "        vertical-align: middle;\n",
       "    }\n",
       "\n",
       "    .dataframe tbody tr th {\n",
       "        vertical-align: top;\n",
       "    }\n",
       "\n",
       "    .dataframe thead th {\n",
       "        text-align: right;\n",
       "    }\n",
       "</style>\n",
       "<table border=\"1\" class=\"dataframe\">\n",
       "  <thead>\n",
       "    <tr style=\"text-align: right;\">\n",
       "      <th></th>\n",
       "      <th>Shift Occurence</th>\n",
       "      <th>num_rpt</th>\n",
       "    </tr>\n",
       "  </thead>\n",
       "  <tbody>\n",
       "    <tr>\n",
       "      <th>0</th>\n",
       "      <td>Day Watch</td>\n",
       "      <td>7054</td>\n",
       "    </tr>\n",
       "    <tr>\n",
       "      <th>1</th>\n",
       "      <td>Evening Watch</td>\n",
       "      <td>10677</td>\n",
       "    </tr>\n",
       "    <tr>\n",
       "      <th>2</th>\n",
       "      <td>Morning Watch</td>\n",
       "      <td>6539</td>\n",
       "    </tr>\n",
       "    <tr>\n",
       "      <th>3</th>\n",
       "      <td>Unknown</td>\n",
       "      <td>722</td>\n",
       "    </tr>\n",
       "  </tbody>\n",
       "</table>\n",
       "</div>"
      ],
      "text/plain": [
       "  Shift Occurence  num_rpt\n",
       "0       Day Watch     7054\n",
       "1   Evening Watch    10677\n",
       "2   Morning Watch     6539\n",
       "3         Unknown      722"
      ]
     },
     "execution_count": 79,
     "metadata": {},
     "output_type": "execute_result"
    }
   ],
   "source": [
    "## number of cases per shift in 2019\n",
    "num_rpt_by_shift = df[df.rpt_yr=='2019'].groupby('Shift Occurence').agg(\n",
    "    num_rpt=('Report Number',lambda x: len(set(x)))\n",
    ").reset_index()\n",
    "num_rpt_by_shift"
   ]
  },
  {
   "cell_type": "code",
   "execution_count": null,
   "id": "41ac5618",
   "metadata": {},
   "outputs": [],
   "source": []
  },
  {
   "cell_type": "code",
   "execution_count": 75,
   "id": "1320137b",
   "metadata": {},
   "outputs": [
    {
     "data": {
      "text/html": [
       "<div>\n",
       "<style scoped>\n",
       "    .dataframe tbody tr th:only-of-type {\n",
       "        vertical-align: middle;\n",
       "    }\n",
       "\n",
       "    .dataframe tbody tr th {\n",
       "        vertical-align: top;\n",
       "    }\n",
       "\n",
       "    .dataframe thead th {\n",
       "        text-align: right;\n",
       "    }\n",
       "</style>\n",
       "<table border=\"1\" class=\"dataframe\">\n",
       "  <thead>\n",
       "    <tr style=\"text-align: right;\">\n",
       "      <th></th>\n",
       "      <th>Report Number</th>\n",
       "      <th>rpt_yr</th>\n",
       "    </tr>\n",
       "  </thead>\n",
       "  <tbody>\n",
       "    <tr>\n",
       "      <th>317884</th>\n",
       "      <td>190010087</td>\n",
       "      <td>2019</td>\n",
       "    </tr>\n",
       "    <tr>\n",
       "      <th>317885</th>\n",
       "      <td>190010095</td>\n",
       "      <td>2019</td>\n",
       "    </tr>\n",
       "    <tr>\n",
       "      <th>317886</th>\n",
       "      <td>190010365</td>\n",
       "      <td>2019</td>\n",
       "    </tr>\n",
       "    <tr>\n",
       "      <th>317887</th>\n",
       "      <td>190010456</td>\n",
       "      <td>2019</td>\n",
       "    </tr>\n",
       "    <tr>\n",
       "      <th>317888</th>\n",
       "      <td>190010532</td>\n",
       "      <td>2019</td>\n",
       "    </tr>\n",
       "  </tbody>\n",
       "</table>\n",
       "</div>"
      ],
      "text/plain": [
       "        Report Number rpt_yr\n",
       "317884      190010087   2019\n",
       "317885      190010095   2019\n",
       "317886      190010365   2019\n",
       "317887      190010456   2019\n",
       "317888      190010532   2019"
      ]
     },
     "execution_count": 75,
     "metadata": {},
     "output_type": "execute_result"
    }
   ],
   "source": [
    "df.loc[df.rpt_yr=='2019', ['Report Number', 'rpt_yr']].head(5)"
   ]
  },
  {
   "cell_type": "code",
   "execution_count": null,
   "id": "2916f80c",
   "metadata": {},
   "outputs": [],
   "source": []
  },
  {
   "cell_type": "code",
   "execution_count": null,
   "id": "3231d78c",
   "metadata": {},
   "outputs": [],
   "source": []
  },
  {
   "cell_type": "code",
   "execution_count": null,
   "id": "f4914d1b",
   "metadata": {},
   "outputs": [],
   "source": []
  },
  {
   "cell_type": "code",
   "execution_count": 80,
   "id": "906700f2-b98b-49fc-a9d7-e3a9b7907fa5",
   "metadata": {},
   "outputs": [
    {
     "data": {
      "text/html": [
       "<div>\n",
       "<style scoped>\n",
       "    .dataframe tbody tr th:only-of-type {\n",
       "        vertical-align: middle;\n",
       "    }\n",
       "\n",
       "    .dataframe tbody tr th {\n",
       "        vertical-align: top;\n",
       "    }\n",
       "\n",
       "    .dataframe thead th {\n",
       "        text-align: right;\n",
       "    }\n",
       "</style>\n",
       "<table border=\"1\" class=\"dataframe\">\n",
       "  <thead>\n",
       "    <tr style=\"text-align: right;\">\n",
       "      <th></th>\n",
       "      <th>rpt_yr</th>\n",
       "      <th>Shift Occurence</th>\n",
       "      <th>num_rpt</th>\n",
       "    </tr>\n",
       "  </thead>\n",
       "  <tbody>\n",
       "    <tr>\n",
       "      <th>0</th>\n",
       "      <td>2017</td>\n",
       "      <td>Day Watch</td>\n",
       "      <td>8690</td>\n",
       "    </tr>\n",
       "    <tr>\n",
       "      <th>1</th>\n",
       "      <td>2017</td>\n",
       "      <td>Evening Watch</td>\n",
       "      <td>10929</td>\n",
       "    </tr>\n",
       "    <tr>\n",
       "      <th>2</th>\n",
       "      <td>2017</td>\n",
       "      <td>Morning Watch</td>\n",
       "      <td>5820</td>\n",
       "    </tr>\n",
       "    <tr>\n",
       "      <th>3</th>\n",
       "      <td>2017</td>\n",
       "      <td>Unknown</td>\n",
       "      <td>938</td>\n",
       "    </tr>\n",
       "    <tr>\n",
       "      <th>4</th>\n",
       "      <td>2018</td>\n",
       "      <td>Day Watch</td>\n",
       "      <td>7975</td>\n",
       "    </tr>\n",
       "    <tr>\n",
       "      <th>5</th>\n",
       "      <td>2018</td>\n",
       "      <td>Evening Watch</td>\n",
       "      <td>10813</td>\n",
       "    </tr>\n",
       "    <tr>\n",
       "      <th>6</th>\n",
       "      <td>2018</td>\n",
       "      <td>Morning Watch</td>\n",
       "      <td>5992</td>\n",
       "    </tr>\n",
       "    <tr>\n",
       "      <th>7</th>\n",
       "      <td>2018</td>\n",
       "      <td>Unknown</td>\n",
       "      <td>824</td>\n",
       "    </tr>\n",
       "    <tr>\n",
       "      <th>8</th>\n",
       "      <td>2019</td>\n",
       "      <td>Day Watch</td>\n",
       "      <td>7054</td>\n",
       "    </tr>\n",
       "    <tr>\n",
       "      <th>9</th>\n",
       "      <td>2019</td>\n",
       "      <td>Evening Watch</td>\n",
       "      <td>10677</td>\n",
       "    </tr>\n",
       "    <tr>\n",
       "      <th>10</th>\n",
       "      <td>2019</td>\n",
       "      <td>Morning Watch</td>\n",
       "      <td>6539</td>\n",
       "    </tr>\n",
       "    <tr>\n",
       "      <th>11</th>\n",
       "      <td>2019</td>\n",
       "      <td>Unknown</td>\n",
       "      <td>722</td>\n",
       "    </tr>\n",
       "  </tbody>\n",
       "</table>\n",
       "</div>"
      ],
      "text/plain": [
       "   rpt_yr Shift Occurence  num_rpt\n",
       "0    2017       Day Watch     8690\n",
       "1    2017   Evening Watch    10929\n",
       "2    2017   Morning Watch     5820\n",
       "3    2017         Unknown      938\n",
       "4    2018       Day Watch     7975\n",
       "5    2018   Evening Watch    10813\n",
       "6    2018   Morning Watch     5992\n",
       "7    2018         Unknown      824\n",
       "8    2019       Day Watch     7054\n",
       "9    2019   Evening Watch    10677\n",
       "10   2019   Morning Watch     6539\n",
       "11   2019         Unknown      722"
      ]
     },
     "execution_count": 80,
     "metadata": {},
     "output_type": "execute_result"
    }
   ],
   "source": [
    "## number of cases per shift in the past 3 years\n",
    "num_rpt_by_yr_shift = df[df.rpt_yr>='2017'].groupby(['rpt_yr','Shift Occurence']).agg(\n",
    "    num_rpt=('Report Number',lambda x: len(set(x)))\n",
    ").reset_index()\n",
    "num_rpt_by_yr_shift"
   ]
  },
  {
   "cell_type": "code",
   "execution_count": null,
   "id": "9c033f34",
   "metadata": {},
   "outputs": [],
   "source": []
  },
  {
   "cell_type": "code",
   "execution_count": null,
   "id": "54c13b8e",
   "metadata": {},
   "outputs": [],
   "source": []
  },
  {
   "cell_type": "code",
   "execution_count": 81,
   "id": "bde0a433",
   "metadata": {},
   "outputs": [
    {
     "data": {
      "text/html": [
       "<div>\n",
       "<style scoped>\n",
       "    .dataframe tbody tr th:only-of-type {\n",
       "        vertical-align: middle;\n",
       "    }\n",
       "\n",
       "    .dataframe tbody tr th {\n",
       "        vertical-align: top;\n",
       "    }\n",
       "\n",
       "    .dataframe thead th {\n",
       "        text-align: right;\n",
       "    }\n",
       "</style>\n",
       "<table border=\"1\" class=\"dataframe\">\n",
       "  <thead>\n",
       "    <tr style=\"text-align: right;\">\n",
       "      <th></th>\n",
       "      <th>rpt_yr</th>\n",
       "      <th>Shift Occurence</th>\n",
       "      <th>num_rpt</th>\n",
       "    </tr>\n",
       "  </thead>\n",
       "  <tbody>\n",
       "    <tr>\n",
       "      <th>0</th>\n",
       "      <td>2017</td>\n",
       "      <td>Day Watch</td>\n",
       "      <td>8690</td>\n",
       "    </tr>\n",
       "    <tr>\n",
       "      <th>4</th>\n",
       "      <td>2018</td>\n",
       "      <td>Day Watch</td>\n",
       "      <td>7975</td>\n",
       "    </tr>\n",
       "    <tr>\n",
       "      <th>8</th>\n",
       "      <td>2019</td>\n",
       "      <td>Day Watch</td>\n",
       "      <td>7054</td>\n",
       "    </tr>\n",
       "    <tr>\n",
       "      <th>1</th>\n",
       "      <td>2017</td>\n",
       "      <td>Evening Watch</td>\n",
       "      <td>10929</td>\n",
       "    </tr>\n",
       "    <tr>\n",
       "      <th>5</th>\n",
       "      <td>2018</td>\n",
       "      <td>Evening Watch</td>\n",
       "      <td>10813</td>\n",
       "    </tr>\n",
       "    <tr>\n",
       "      <th>9</th>\n",
       "      <td>2019</td>\n",
       "      <td>Evening Watch</td>\n",
       "      <td>10677</td>\n",
       "    </tr>\n",
       "    <tr>\n",
       "      <th>2</th>\n",
       "      <td>2017</td>\n",
       "      <td>Morning Watch</td>\n",
       "      <td>5820</td>\n",
       "    </tr>\n",
       "    <tr>\n",
       "      <th>6</th>\n",
       "      <td>2018</td>\n",
       "      <td>Morning Watch</td>\n",
       "      <td>5992</td>\n",
       "    </tr>\n",
       "    <tr>\n",
       "      <th>10</th>\n",
       "      <td>2019</td>\n",
       "      <td>Morning Watch</td>\n",
       "      <td>6539</td>\n",
       "    </tr>\n",
       "    <tr>\n",
       "      <th>3</th>\n",
       "      <td>2017</td>\n",
       "      <td>Unknown</td>\n",
       "      <td>938</td>\n",
       "    </tr>\n",
       "    <tr>\n",
       "      <th>7</th>\n",
       "      <td>2018</td>\n",
       "      <td>Unknown</td>\n",
       "      <td>824</td>\n",
       "    </tr>\n",
       "    <tr>\n",
       "      <th>11</th>\n",
       "      <td>2019</td>\n",
       "      <td>Unknown</td>\n",
       "      <td>722</td>\n",
       "    </tr>\n",
       "  </tbody>\n",
       "</table>\n",
       "</div>"
      ],
      "text/plain": [
       "   rpt_yr Shift Occurence  num_rpt\n",
       "0    2017       Day Watch     8690\n",
       "4    2018       Day Watch     7975\n",
       "8    2019       Day Watch     7054\n",
       "1    2017   Evening Watch    10929\n",
       "5    2018   Evening Watch    10813\n",
       "9    2019   Evening Watch    10677\n",
       "2    2017   Morning Watch     5820\n",
       "6    2018   Morning Watch     5992\n",
       "10   2019   Morning Watch     6539\n",
       "3    2017         Unknown      938\n",
       "7    2018         Unknown      824\n",
       "11   2019         Unknown      722"
      ]
     },
     "execution_count": 81,
     "metadata": {},
     "output_type": "execute_result"
    }
   ],
   "source": [
    "num_rpt_by_yr_shift.sort_values(by=['Shift Occurence','rpt_yr'])"
   ]
  },
  {
   "cell_type": "code",
   "execution_count": 83,
   "id": "bce09cdb",
   "metadata": {},
   "outputs": [
    {
     "data": {
      "text/html": [
       "<div>\n",
       "<style scoped>\n",
       "    .dataframe tbody tr th:only-of-type {\n",
       "        vertical-align: middle;\n",
       "    }\n",
       "\n",
       "    .dataframe tbody tr th {\n",
       "        vertical-align: top;\n",
       "    }\n",
       "\n",
       "    .dataframe thead th {\n",
       "        text-align: right;\n",
       "    }\n",
       "</style>\n",
       "<table border=\"1\" class=\"dataframe\">\n",
       "  <thead>\n",
       "    <tr style=\"text-align: right;\">\n",
       "      <th></th>\n",
       "      <th>rpt_yr</th>\n",
       "      <th>Shift Occurence</th>\n",
       "      <th>num_rpt</th>\n",
       "    </tr>\n",
       "  </thead>\n",
       "  <tbody>\n",
       "    <tr>\n",
       "      <th>3</th>\n",
       "      <td>2017</td>\n",
       "      <td>Unknown</td>\n",
       "      <td>938</td>\n",
       "    </tr>\n",
       "    <tr>\n",
       "      <th>2</th>\n",
       "      <td>2017</td>\n",
       "      <td>Morning Watch</td>\n",
       "      <td>5820</td>\n",
       "    </tr>\n",
       "    <tr>\n",
       "      <th>0</th>\n",
       "      <td>2017</td>\n",
       "      <td>Day Watch</td>\n",
       "      <td>8690</td>\n",
       "    </tr>\n",
       "    <tr>\n",
       "      <th>1</th>\n",
       "      <td>2017</td>\n",
       "      <td>Evening Watch</td>\n",
       "      <td>10929</td>\n",
       "    </tr>\n",
       "    <tr>\n",
       "      <th>7</th>\n",
       "      <td>2018</td>\n",
       "      <td>Unknown</td>\n",
       "      <td>824</td>\n",
       "    </tr>\n",
       "    <tr>\n",
       "      <th>6</th>\n",
       "      <td>2018</td>\n",
       "      <td>Morning Watch</td>\n",
       "      <td>5992</td>\n",
       "    </tr>\n",
       "    <tr>\n",
       "      <th>4</th>\n",
       "      <td>2018</td>\n",
       "      <td>Day Watch</td>\n",
       "      <td>7975</td>\n",
       "    </tr>\n",
       "    <tr>\n",
       "      <th>5</th>\n",
       "      <td>2018</td>\n",
       "      <td>Evening Watch</td>\n",
       "      <td>10813</td>\n",
       "    </tr>\n",
       "    <tr>\n",
       "      <th>11</th>\n",
       "      <td>2019</td>\n",
       "      <td>Unknown</td>\n",
       "      <td>722</td>\n",
       "    </tr>\n",
       "    <tr>\n",
       "      <th>10</th>\n",
       "      <td>2019</td>\n",
       "      <td>Morning Watch</td>\n",
       "      <td>6539</td>\n",
       "    </tr>\n",
       "    <tr>\n",
       "      <th>8</th>\n",
       "      <td>2019</td>\n",
       "      <td>Day Watch</td>\n",
       "      <td>7054</td>\n",
       "    </tr>\n",
       "    <tr>\n",
       "      <th>9</th>\n",
       "      <td>2019</td>\n",
       "      <td>Evening Watch</td>\n",
       "      <td>10677</td>\n",
       "    </tr>\n",
       "  </tbody>\n",
       "</table>\n",
       "</div>"
      ],
      "text/plain": [
       "   rpt_yr Shift Occurence  num_rpt\n",
       "3    2017         Unknown      938\n",
       "2    2017   Morning Watch     5820\n",
       "0    2017       Day Watch     8690\n",
       "1    2017   Evening Watch    10929\n",
       "7    2018         Unknown      824\n",
       "6    2018   Morning Watch     5992\n",
       "4    2018       Day Watch     7975\n",
       "5    2018   Evening Watch    10813\n",
       "11   2019         Unknown      722\n",
       "10   2019   Morning Watch     6539\n",
       "8    2019       Day Watch     7054\n",
       "9    2019   Evening Watch    10677"
      ]
     },
     "execution_count": 83,
     "metadata": {},
     "output_type": "execute_result"
    }
   ],
   "source": [
    "num_rpt_by_yr_shift.sort_values(by=['rpt_yr', 'num_rpt'])"
   ]
  },
  {
   "cell_type": "code",
   "execution_count": null,
   "id": "718766bc",
   "metadata": {},
   "outputs": [],
   "source": []
  },
  {
   "cell_type": "code",
   "execution_count": null,
   "id": "1d2d9979",
   "metadata": {},
   "outputs": [],
   "source": []
  },
  {
   "cell_type": "code",
   "execution_count": 85,
   "id": "072deb3a-aa09-493d-99c8-c13ead919002",
   "metadata": {},
   "outputs": [
    {
     "data": {
      "text/html": [
       "<div>\n",
       "<style scoped>\n",
       "    .dataframe tbody tr th:only-of-type {\n",
       "        vertical-align: middle;\n",
       "    }\n",
       "\n",
       "    .dataframe tbody tr th {\n",
       "        vertical-align: top;\n",
       "    }\n",
       "\n",
       "    .dataframe thead th {\n",
       "        text-align: right;\n",
       "    }\n",
       "</style>\n",
       "<table border=\"1\" class=\"dataframe\">\n",
       "  <thead>\n",
       "    <tr style=\"text-align: right;\">\n",
       "      <th></th>\n",
       "      <th>rpt_yr</th>\n",
       "      <th>Shift Occurence</th>\n",
       "      <th>num_rpt</th>\n",
       "      <th>annual_total</th>\n",
       "    </tr>\n",
       "  </thead>\n",
       "  <tbody>\n",
       "    <tr>\n",
       "      <th>0</th>\n",
       "      <td>2017</td>\n",
       "      <td>Day Watch</td>\n",
       "      <td>8690</td>\n",
       "      <td>26377</td>\n",
       "    </tr>\n",
       "    <tr>\n",
       "      <th>1</th>\n",
       "      <td>2017</td>\n",
       "      <td>Evening Watch</td>\n",
       "      <td>10929</td>\n",
       "      <td>26377</td>\n",
       "    </tr>\n",
       "    <tr>\n",
       "      <th>2</th>\n",
       "      <td>2017</td>\n",
       "      <td>Morning Watch</td>\n",
       "      <td>5820</td>\n",
       "      <td>26377</td>\n",
       "    </tr>\n",
       "    <tr>\n",
       "      <th>3</th>\n",
       "      <td>2017</td>\n",
       "      <td>Unknown</td>\n",
       "      <td>938</td>\n",
       "      <td>26377</td>\n",
       "    </tr>\n",
       "    <tr>\n",
       "      <th>4</th>\n",
       "      <td>2018</td>\n",
       "      <td>Day Watch</td>\n",
       "      <td>7975</td>\n",
       "      <td>25604</td>\n",
       "    </tr>\n",
       "    <tr>\n",
       "      <th>5</th>\n",
       "      <td>2018</td>\n",
       "      <td>Evening Watch</td>\n",
       "      <td>10813</td>\n",
       "      <td>25604</td>\n",
       "    </tr>\n",
       "    <tr>\n",
       "      <th>6</th>\n",
       "      <td>2018</td>\n",
       "      <td>Morning Watch</td>\n",
       "      <td>5992</td>\n",
       "      <td>25604</td>\n",
       "    </tr>\n",
       "    <tr>\n",
       "      <th>7</th>\n",
       "      <td>2018</td>\n",
       "      <td>Unknown</td>\n",
       "      <td>824</td>\n",
       "      <td>25604</td>\n",
       "    </tr>\n",
       "    <tr>\n",
       "      <th>8</th>\n",
       "      <td>2019</td>\n",
       "      <td>Day Watch</td>\n",
       "      <td>7054</td>\n",
       "      <td>24992</td>\n",
       "    </tr>\n",
       "    <tr>\n",
       "      <th>9</th>\n",
       "      <td>2019</td>\n",
       "      <td>Evening Watch</td>\n",
       "      <td>10677</td>\n",
       "      <td>24992</td>\n",
       "    </tr>\n",
       "    <tr>\n",
       "      <th>10</th>\n",
       "      <td>2019</td>\n",
       "      <td>Morning Watch</td>\n",
       "      <td>6539</td>\n",
       "      <td>24992</td>\n",
       "    </tr>\n",
       "    <tr>\n",
       "      <th>11</th>\n",
       "      <td>2019</td>\n",
       "      <td>Unknown</td>\n",
       "      <td>722</td>\n",
       "      <td>24992</td>\n",
       "    </tr>\n",
       "  </tbody>\n",
       "</table>\n",
       "</div>"
      ],
      "text/plain": [
       "   rpt_yr Shift Occurence  num_rpt  annual_total\n",
       "0    2017       Day Watch     8690         26377\n",
       "1    2017   Evening Watch    10929         26377\n",
       "2    2017   Morning Watch     5820         26377\n",
       "3    2017         Unknown      938         26377\n",
       "4    2018       Day Watch     7975         25604\n",
       "5    2018   Evening Watch    10813         25604\n",
       "6    2018   Morning Watch     5992         25604\n",
       "7    2018         Unknown      824         25604\n",
       "8    2019       Day Watch     7054         24992\n",
       "9    2019   Evening Watch    10677         24992\n",
       "10   2019   Morning Watch     6539         24992\n",
       "11   2019         Unknown      722         24992"
      ]
     },
     "execution_count": 85,
     "metadata": {},
     "output_type": "execute_result"
    }
   ],
   "source": [
    "## % of cases per shift in the past 3 years\n",
    "num_rpt_by_yr_shift2 = pd.merge(\n",
    "    num_rpt_by_yr_shift,\n",
    "    num_rpt_by_yr.loc[:,['rpt_yr','num_rpt']].copy().rename(columns={'num_rpt':'annual_total'}),\n",
    "    on='rpt_yr'\n",
    ")\n",
    "num_rpt_by_yr_shift2\n",
    "\n",
    "# num_rpt_by_yr_shift2.sort_values(by=['Shift Occurence','rpt_yr'])"
   ]
  },
  {
   "cell_type": "code",
   "execution_count": 86,
   "id": "f2787770-4839-417b-ad2b-311a718703e2",
   "metadata": {},
   "outputs": [
    {
     "data": {
      "text/html": [
       "<div>\n",
       "<style scoped>\n",
       "    .dataframe tbody tr th:only-of-type {\n",
       "        vertical-align: middle;\n",
       "    }\n",
       "\n",
       "    .dataframe tbody tr th {\n",
       "        vertical-align: top;\n",
       "    }\n",
       "\n",
       "    .dataframe thead th {\n",
       "        text-align: right;\n",
       "    }\n",
       "</style>\n",
       "<table border=\"1\" class=\"dataframe\">\n",
       "  <thead>\n",
       "    <tr style=\"text-align: right;\">\n",
       "      <th></th>\n",
       "      <th>rpt_yr</th>\n",
       "      <th>Shift Occurence</th>\n",
       "      <th>num_rpt</th>\n",
       "      <th>annual_total</th>\n",
       "      <th>percent</th>\n",
       "    </tr>\n",
       "  </thead>\n",
       "  <tbody>\n",
       "    <tr>\n",
       "      <th>0</th>\n",
       "      <td>2017</td>\n",
       "      <td>Day Watch</td>\n",
       "      <td>8690</td>\n",
       "      <td>26377</td>\n",
       "      <td>0.33</td>\n",
       "    </tr>\n",
       "    <tr>\n",
       "      <th>4</th>\n",
       "      <td>2018</td>\n",
       "      <td>Day Watch</td>\n",
       "      <td>7975</td>\n",
       "      <td>25604</td>\n",
       "      <td>0.31</td>\n",
       "    </tr>\n",
       "    <tr>\n",
       "      <th>8</th>\n",
       "      <td>2019</td>\n",
       "      <td>Day Watch</td>\n",
       "      <td>7054</td>\n",
       "      <td>24992</td>\n",
       "      <td>0.28</td>\n",
       "    </tr>\n",
       "    <tr>\n",
       "      <th>1</th>\n",
       "      <td>2017</td>\n",
       "      <td>Evening Watch</td>\n",
       "      <td>10929</td>\n",
       "      <td>26377</td>\n",
       "      <td>0.41</td>\n",
       "    </tr>\n",
       "    <tr>\n",
       "      <th>5</th>\n",
       "      <td>2018</td>\n",
       "      <td>Evening Watch</td>\n",
       "      <td>10813</td>\n",
       "      <td>25604</td>\n",
       "      <td>0.42</td>\n",
       "    </tr>\n",
       "    <tr>\n",
       "      <th>9</th>\n",
       "      <td>2019</td>\n",
       "      <td>Evening Watch</td>\n",
       "      <td>10677</td>\n",
       "      <td>24992</td>\n",
       "      <td>0.43</td>\n",
       "    </tr>\n",
       "    <tr>\n",
       "      <th>2</th>\n",
       "      <td>2017</td>\n",
       "      <td>Morning Watch</td>\n",
       "      <td>5820</td>\n",
       "      <td>26377</td>\n",
       "      <td>0.22</td>\n",
       "    </tr>\n",
       "    <tr>\n",
       "      <th>6</th>\n",
       "      <td>2018</td>\n",
       "      <td>Morning Watch</td>\n",
       "      <td>5992</td>\n",
       "      <td>25604</td>\n",
       "      <td>0.23</td>\n",
       "    </tr>\n",
       "    <tr>\n",
       "      <th>10</th>\n",
       "      <td>2019</td>\n",
       "      <td>Morning Watch</td>\n",
       "      <td>6539</td>\n",
       "      <td>24992</td>\n",
       "      <td>0.26</td>\n",
       "    </tr>\n",
       "    <tr>\n",
       "      <th>3</th>\n",
       "      <td>2017</td>\n",
       "      <td>Unknown</td>\n",
       "      <td>938</td>\n",
       "      <td>26377</td>\n",
       "      <td>0.04</td>\n",
       "    </tr>\n",
       "    <tr>\n",
       "      <th>7</th>\n",
       "      <td>2018</td>\n",
       "      <td>Unknown</td>\n",
       "      <td>824</td>\n",
       "      <td>25604</td>\n",
       "      <td>0.03</td>\n",
       "    </tr>\n",
       "    <tr>\n",
       "      <th>11</th>\n",
       "      <td>2019</td>\n",
       "      <td>Unknown</td>\n",
       "      <td>722</td>\n",
       "      <td>24992</td>\n",
       "      <td>0.03</td>\n",
       "    </tr>\n",
       "  </tbody>\n",
       "</table>\n",
       "</div>"
      ],
      "text/plain": [
       "   rpt_yr Shift Occurence  num_rpt  annual_total  percent\n",
       "0    2017       Day Watch     8690         26377     0.33\n",
       "4    2018       Day Watch     7975         25604     0.31\n",
       "8    2019       Day Watch     7054         24992     0.28\n",
       "1    2017   Evening Watch    10929         26377     0.41\n",
       "5    2018   Evening Watch    10813         25604     0.42\n",
       "9    2019   Evening Watch    10677         24992     0.43\n",
       "2    2017   Morning Watch     5820         26377     0.22\n",
       "6    2018   Morning Watch     5992         25604     0.23\n",
       "10   2019   Morning Watch     6539         24992     0.26\n",
       "3    2017         Unknown      938         26377     0.04\n",
       "7    2018         Unknown      824         25604     0.03\n",
       "11   2019         Unknown      722         24992     0.03"
      ]
     },
     "execution_count": 86,
     "metadata": {},
     "output_type": "execute_result"
    }
   ],
   "source": [
    "num_rpt_by_yr_shift2['percent'] = [\n",
    "    round(subtotal/total,2)\n",
    "    for subtotal,total in zip(num_rpt_by_yr_shift2.num_rpt,num_rpt_by_yr_shift2.annual_total)\n",
    "]\n",
    "num_rpt_by_yr_shift2.sort_values(by=['Shift Occurence','rpt_yr'])"
   ]
  },
  {
   "cell_type": "markdown",
   "id": "02e64ae6-ee90-4011-b7a4-bdd2324159e2",
   "metadata": {},
   "source": [
    "**Can you do better??**"
   ]
  },
  {
   "cell_type": "code",
   "execution_count": null,
   "id": "3318280f",
   "metadata": {},
   "outputs": [],
   "source": []
  },
  {
   "cell_type": "markdown",
   "id": "6d64b10f-539b-49ae-8114-eff918a0c008",
   "metadata": {},
   "source": [
    "## Visual Analysis"
   ]
  },
  {
   "cell_type": "markdown",
   "id": "4a58569d-ca31-4c10-b462-6e6379673e93",
   "metadata": {},
   "source": [
    "### Visualize the YOY change of % by shift with bar chart"
   ]
  },
  {
   "cell_type": "code",
   "execution_count": 87,
   "id": "86c14464-8155-4c79-ac13-daa587ee7270",
   "metadata": {},
   "outputs": [
    {
     "data": {
      "image/png": "[encoded data removed]",
      "text/plain": [
       "<Figure size 640x480 with 1 Axes>"
      ]
     },
     "metadata": {},
     "output_type": "display_data"
    }
   ],
   "source": [
    "num_rpt_by_yr_shift2.rpt_yr = num_rpt_by_yr_shift2.rpt_yr.astype(int)\n",
    "dw = num_rpt_by_yr_shift2[num_rpt_by_yr_shift2['Shift Occurence']=='Day Watch']\n",
    "ew = num_rpt_by_yr_shift2[num_rpt_by_yr_shift2['Shift Occurence']=='Evening Watch']\n",
    "mw = num_rpt_by_yr_shift2[num_rpt_by_yr_shift2['Shift Occurence']=='Morning Watch']\n",
    "unk = num_rpt_by_yr_shift2[num_rpt_by_yr_shift2['Shift Occurence']=='Unknown']\n",
    "\n",
    "plt.plot(dw.rpt_yr, dw.percent, '-o', label='day watch')\n",
    "plt.plot(ew.rpt_yr, ew.percent, '-o', label='evening watch')\n",
    "plt.plot(mw.rpt_yr, mw.percent, '-o', label='morning watch')\n",
    "plt.plot(unk.rpt_yr, unk.percent, '-o', label='unknown')\n",
    "\n",
    "plt.xticks(ticks=[2017,2018,2019])\n",
    "plt.legend()\n",
    "plt.show()"
   ]
  },
  {
   "cell_type": "code",
   "execution_count": null,
   "id": "af40647c",
   "metadata": {},
   "outputs": [],
   "source": []
  },
  {
   "cell_type": "markdown",
   "id": "c2a559d3-fd40-4b97-bbd0-9e10c947f067",
   "metadata": {},
   "source": [
    "# Hypothesis Test and Confidence Interval"
   ]
  },
  {
   "cell_type": "markdown",
   "id": "6cc7d7c8-0017-4f90-98a8-d0baee650993",
   "metadata": {},
   "source": [
    "## Statistical Distributions"
   ]
  },
  {
   "cell_type": "markdown",
   "id": "3a140464-b40c-4e4d-9fb6-00fcd9ade854",
   "metadata": {},
   "source": [
    "### Normal distribution\n",
    "\n",
    "The Normal distribution or Gaussian distribution is by far the most important of all the distribution functions. This is due to the fact that the mean values of all distribution functions approximate a normal distribution for large enough sample numbers. Mathematically, the normal distribution is characterized by a mean value $\\mu$, and a standard deviation $\\sigma$:\n",
    "$$\n",
    "f(x) = \\frac{1}{\\sigma\\sqrt{2\\pi}}e^{-\\frac{(x-\\mu)^2}{2\\sigma^2}}\n",
    "$$\n",
    "\n",
    "When $\\mu=0$ and $\\sigma=1$, the distribution is called the `standard normal distribution`:\n",
    "$$\n",
    "f(x) = \\frac{1}{\\sqrt{2\\pi}}e^{-\\frac{x^2}{2}}\n",
    "$$\n",
    "\n",
    "The **68-95-997** rule:\n",
    "![](https://miro.medium.com/max/24000/1*IZ2II2HYKeoMrdLU5jW6Dw.png)\n",
    "\n",
    "| Range      | Probability within range | Probability outside range |\n",
    "|------------|--------------------------|---------------------------|\n",
    "| Mean ± 1SD | 68.3%                    | 31.7%                     |\n",
    "| Mean ± 2SD | 95.4%                    | 4.6%                      |\n",
    "| Mean ± 3SD | 99.7%                    | 0.27%                     |"
   ]
  },
  {
   "cell_type": "markdown",
   "id": "9fa2c142-4018-4d5e-8e43-6a6e6714aa15",
   "metadata": {},
   "source": [
    "**Generate random samples from the normal distribution**"
   ]
  },
  {
   "cell_type": "code",
   "execution_count": 88,
   "id": "3e0b6e47-f64f-4292-b3bd-0d0f30e14c78",
   "metadata": {},
   "outputs": [
    {
     "data": {
      "text/plain": [
       "array([-1.0856306 ,  0.99734545,  0.2829785 , -1.50629471, -0.57860025])"
      ]
     },
     "execution_count": 88,
     "metadata": {},
     "output_type": "execute_result"
    }
   ],
   "source": [
    "from scipy import stats\n",
    "\n",
    "rvs = stats.norm.rvs(loc=0, scale=1, size=5, random_state=123)\n",
    "rvs"
   ]
  },
  {
   "cell_type": "code",
   "execution_count": 89,
   "id": "e2982812",
   "metadata": {},
   "outputs": [
    {
     "data": {
      "text/plain": [
       "array([-1.0856306 ,  0.99734545,  0.2829785 , -1.50629471, -0.57860025])"
      ]
     },
     "execution_count": 89,
     "metadata": {},
     "output_type": "execute_result"
    }
   ],
   "source": [
    "rvs = stats.norm.rvs(loc=0, scale=1, size=5, random_state=123) # seed\n",
    "rvs"
   ]
  },
  {
   "cell_type": "code",
   "execution_count": 91,
   "id": "3adc9c95",
   "metadata": {},
   "outputs": [
    {
     "data": {
      "text/plain": [
       "array([ 1.23090849, -0.75663022, -0.25577907,  0.7135196 ,  0.29877573])"
      ]
     },
     "execution_count": 91,
     "metadata": {},
     "output_type": "execute_result"
    }
   ],
   "source": [
    "rvs = stats.norm.rvs(loc=0, scale=1, size=5)\n",
    "rvs"
   ]
  },
  {
   "cell_type": "code",
   "execution_count": 92,
   "id": "1b787e04",
   "metadata": {},
   "outputs": [
    {
     "data": {
      "text/plain": [
       "array([-0.12248136,  1.28847593,  1.36963438, -0.08191368, -1.30175304])"
      ]
     },
     "execution_count": 92,
     "metadata": {},
     "output_type": "execute_result"
    }
   ],
   "source": [
    "rvs = stats.norm.rvs(loc=0, scale=1, size=5)\n",
    "rvs"
   ]
  },
  {
   "cell_type": "code",
   "execution_count": null,
   "id": "5e8bfbf5",
   "metadata": {},
   "outputs": [],
   "source": []
  },
  {
   "cell_type": "code",
   "execution_count": 99,
   "id": "a5a1aa58",
   "metadata": {},
   "outputs": [
    {
     "data": {
      "text/plain": [
       "array([-0.20470766,  0.47894334, -0.51943872, -0.5557303 ,  1.96578057])"
      ]
     },
     "execution_count": 99,
     "metadata": {},
     "output_type": "execute_result"
    }
   ],
   "source": [
    "rvs = stats.norm.rvs(loc=0, scale=1, size=5, random_state=12345)\n",
    "rvs"
   ]
  },
  {
   "cell_type": "code",
   "execution_count": null,
   "id": "c4f0e363",
   "metadata": {},
   "outputs": [],
   "source": []
  },
  {
   "cell_type": "code",
   "execution_count": null,
   "id": "da877aa5",
   "metadata": {},
   "outputs": [],
   "source": []
  },
  {
   "cell_type": "code",
   "execution_count": 93,
   "id": "a4ae1772-3713-4f67-8111-e06bbdb76b76",
   "metadata": {},
   "outputs": [
    {
     "data": {
      "text/plain": [
       "numpy.ndarray"
      ]
     },
     "execution_count": 93,
     "metadata": {},
     "output_type": "execute_result"
    }
   ],
   "source": [
    "type(rvs)"
   ]
  },
  {
   "cell_type": "code",
   "execution_count": null,
   "id": "2fc74455",
   "metadata": {},
   "outputs": [],
   "source": []
  },
  {
   "cell_type": "code",
   "execution_count": 94,
   "id": "9f9abfdd-debb-4e1d-b74d-fe06e2189e8c",
   "metadata": {},
   "outputs": [],
   "source": [
    "import numpy as np"
   ]
  },
  {
   "cell_type": "code",
   "execution_count": 95,
   "id": "af3248bf-c858-4fb6-afd2-6660f2045566",
   "metadata": {},
   "outputs": [
    {
     "data": {
      "text/plain": [
       "array([-1.0856306 ,  0.99734545,  0.2829785 , -1.50629471, -0.57860025])"
      ]
     },
     "execution_count": 95,
     "metadata": {},
     "output_type": "execute_result"
    }
   ],
   "source": [
    "np.random.seed(123)\n",
    "np.random.randn(5) # Return a sample (or samples) from the \"standard normal\" distribution."
   ]
  },
  {
   "cell_type": "code",
   "execution_count": null,
   "id": "09f3dfba",
   "metadata": {},
   "outputs": [],
   "source": []
  },
  {
   "cell_type": "code",
   "execution_count": null,
   "id": "f1e3c5dc",
   "metadata": {},
   "outputs": [],
   "source": []
  },
  {
   "cell_type": "markdown",
   "id": "a3c7fd86-ea92-44b4-a356-c0d456e4ea6e",
   "metadata": {},
   "source": [
    "For random samples from $N(\\mu, \\sigma^2)$, use:\n",
    "\n",
    "$$\\sigma \\cdot np.random.randn(...) + \\mu$$"
   ]
  },
  {
   "cell_type": "code",
   "execution_count": 96,
   "id": "a0f39c6f-6088-41eb-bfaf-522949cb9b6e",
   "metadata": {},
   "outputs": [],
   "source": [
    "import matplotlib.pyplot as plt"
   ]
  },
  {
   "cell_type": "code",
   "execution_count": 97,
   "id": "31abb73d-1735-433d-94cf-09fc75a89bcd",
   "metadata": {},
   "outputs": [
    {
     "data": {
      "image/png": "[encoded data removed]",
      "text/plain": [
       "<Figure size 640x480 with 1 Axes>"
      ]
     },
     "metadata": {},
     "output_type": "display_data"
    }
   ],
   "source": [
    "# plt.hist(np.random.randn(10000))\n",
    "plt.hist(np.random.randn(10000),density=True)\n",
    "plt.title('Histogram of random samples from standard normal distribution')\n",
    "plt.show()"
   ]
  },
  {
   "cell_type": "code",
   "execution_count": null,
   "id": "4a716672",
   "metadata": {},
   "outputs": [],
   "source": []
  },
  {
   "cell_type": "markdown",
   "id": "01ba22f8-ccbf-40e5-bed4-5b8643c8117b",
   "metadata": {},
   "source": [
    "**Calculate PDF**"
   ]
  },
  {
   "cell_type": "code",
   "execution_count": 100,
   "id": "e7cd6fd2-3f47-4f47-ac1c-b19c992eb511",
   "metadata": {},
   "outputs": [
    {
     "data": {
      "text/plain": [
       "array([0.00443185, 0.05399097, 0.24197072, 0.24197072, 0.05399097,\n",
       "       0.00443185])"
      ]
     },
     "execution_count": 100,
     "metadata": {},
     "output_type": "execute_result"
    }
   ],
   "source": [
    "stats.norm.pdf(x=[-3,-2,-1,1,2,3],loc=0,scale=1)"
   ]
  },
  {
   "cell_type": "code",
   "execution_count": null,
   "id": "ee23a35c-9905-4970-b7ec-57ea802712f9",
   "metadata": {},
   "outputs": [],
   "source": [
    "## you could also do\n",
    "distNorm = stats.norm(loc=0,scale=1)\n",
    "distNorm.pdf(x=[-3,-2,-1,1,2,3])"
   ]
  },
  {
   "cell_type": "code",
   "execution_count": null,
   "id": "9afcba18",
   "metadata": {},
   "outputs": [],
   "source": []
  },
  {
   "cell_type": "code",
   "execution_count": 101,
   "id": "d80075d6-a584-4071-b645-99af9a97d7d3",
   "metadata": {},
   "outputs": [
    {
     "data": {
      "image/png": "[encoded data removed]",
      "text/plain": [
       "<Figure size 640x480 with 1 Axes>"
      ]
     },
     "metadata": {},
     "output_type": "display_data"
    }
   ],
   "source": [
    "# the histogram from random sample\n",
    "plt.hist(np.random.randn(10000),density=True,label='random sample') \n",
    "# construct the pdf curve\n",
    "xs = np.linspace(start=-4,stop=4,num=100)\n",
    "ys = stats.norm.pdf(x=xs)\n",
    "plt.plot(xs,ys,label='norm pdf')\n",
    "\n",
    "plt.title('hist vs. pdf (Normal Distribution)')\n",
    "plt.legend()\n",
    "plt.show()"
   ]
  },
  {
   "cell_type": "code",
   "execution_count": null,
   "id": "1a8b6ef8",
   "metadata": {},
   "outputs": [],
   "source": []
  },
  {
   "cell_type": "markdown",
   "id": "de33aec1-eeb2-473d-a141-612dbd3dc871",
   "metadata": {},
   "source": [
    "**Calculate CDF** (Cumulative Distribution Function)"
   ]
  },
  {
   "cell_type": "code",
   "execution_count": 102,
   "id": "012beade-2f9c-4ec2-b1f4-fd8b5cbe9137",
   "metadata": {},
   "outputs": [
    {
     "data": {
      "text/plain": [
       "array([0.0013499 , 0.02275013, 0.15865525, 0.84134475, 0.97724987,\n",
       "       0.9986501 ])"
      ]
     },
     "execution_count": 102,
     "metadata": {},
     "output_type": "execute_result"
    }
   ],
   "source": [
    "stats.norm.cdf(x=[-3,-2,-1,1,2,3],loc=0,scale=1)"
   ]
  },
  {
   "cell_type": "code",
   "execution_count": 103,
   "id": "4dbffc6f-aba8-47b7-b23f-96440e788de9",
   "metadata": {},
   "outputs": [
    {
     "data": {
      "image/png": "[encoded data removed]",
      "text/plain": [
       "<Figure size 640x480 with 1 Axes>"
      ]
     },
     "metadata": {},
     "output_type": "display_data"
    }
   ],
   "source": [
    "# the histogram from random sample\n",
    "plt.hist(np.random.randn(10000),density=True,label='random sample') \n",
    "# construct the pdf curve\n",
    "xs = np.linspace(start=-4,stop=4,num=100)\n",
    "ys_pdf = stats.norm.pdf(x=xs)\n",
    "plt.plot(xs,ys_pdf,label='norm pdf')\n",
    "\n",
    "# construct the cdf curve\n",
    "ys_cdf = stats.norm.cdf(x=xs)\n",
    "plt.plot(xs,ys_cdf,label='norm cdf')\n",
    "\n",
    "plt.title('hist vs. pdf (Normal Distribution)')\n",
    "plt.legend()\n",
    "plt.grid()\n",
    "plt.show()"
   ]
  },
  {
   "cell_type": "markdown",
   "id": "ec3b5682-d906-458b-8b22-da37fe8b3f99",
   "metadata": {},
   "source": [
    "**`ppf`: Percent Point Function (Inverse of CDF)**"
   ]
  },
  {
   "cell_type": "code",
   "execution_count": 104,
   "id": "f5bb1316-8bb0-468e-bdb1-16006a22e27a",
   "metadata": {},
   "outputs": [
    {
     "data": {
      "text/plain": [
       "array([-1.64485363,  1.64485363])"
      ]
     },
     "execution_count": 104,
     "metadata": {},
     "output_type": "execute_result"
    }
   ],
   "source": [
    "stats.norm.ppf([0.05,0.95])"
   ]
  },
  {
   "cell_type": "code",
   "execution_count": null,
   "id": "47126ec7-bc3d-486e-b551-1ceb7a919e90",
   "metadata": {},
   "outputs": [],
   "source": []
  },
  {
   "cell_type": "markdown",
   "id": "530e1102-0e0e-4044-8e4e-d367b85404cf",
   "metadata": {},
   "source": [
    "**Central limit theorem**\n",
    "\n",
    "https://en.wikipedia.org/wiki/Central_limit_theorem\n",
    "\n",
    "In probability theory, the **central limit theorem (CLT)** establishes that in some situations, when independent random variables are added, their properly normalized sum tends toward a normal distribution (informally a bell curve), even if the original variables themselves are not normally distributed. The theorem is a key concept in probability theory, because it implies that probabilistic and statistical methods that work for normal distributions can be applied to many problems involving other types of distributions.\n",
    "\n",
    "More specifically, central limit theorem states that if $ X_{1},X_{2},...,X_{n}$ are each a random sample of size $n$, taken from a population with mean $\\mu$ and finite variance $\\sigma^2$ and if $\\bar{X}$ is the sample mean, then the limiting form of the distribution of $Z=\\frac {{\\bar {X}}_{n}-\\mu }{\\sigma /\\surd n}$ as $n\\to \\infty$, is the standard normal distribution.\n",
    "\n",
    "![](https://i.ytimg.com/vi/4YLtvNeRIrg/maxresdefault.jpg)"
   ]
  },
  {
   "cell_type": "code",
   "execution_count": null,
   "id": "4eb32226-a777-4956-a7b5-70ea62e18e61",
   "metadata": {},
   "outputs": [],
   "source": []
  },
  {
   "cell_type": "markdown",
   "id": "d66f62f3-84b7-41f4-badc-8344fceb57c8",
   "metadata": {},
   "source": [
    "### $t$ distribution\n",
    "\n",
    "The sample distribution of mean values for samples from a normally distributed population. Typically used for small sample numbers, when the true mean/SD are not known.\n",
    "\n",
    "If $\\bar{x}$ is the sample mean, and $s$ is the sample standard deviation, then\n",
    "$$\n",
    "\\frac{\\bar{x}-\\mu}{s/\\sqrt{n}} \\sim t_{\\nu}\n",
    "$$ where $\\nu=n-1$ represents the degree of freedom, and $n$ is the sample size.\n",
    "\n",
    "When $n$ is large enough, $t$ distribution asymptotically approaches standard normal distribution"
   ]
  },
  {
   "cell_type": "code",
   "execution_count": 105,
   "id": "f93de666-21e9-4f53-b8c3-62c522445cd9",
   "metadata": {},
   "outputs": [
    {
     "data": {
      "text/plain": [
       "array([-0.94529783,  1.65722056, -2.65632182, -0.3537019 ,  1.69379771])"
      ]
     },
     "execution_count": 105,
     "metadata": {},
     "output_type": "execute_result"
    }
   ],
   "source": [
    "# generate random numbers from the t distribution\n",
    "\n",
    "n = 20\n",
    "df = n - 1\n",
    "rvs = stats.t.rvs(df=df,size=5,random_state=123)\n",
    "rvs"
   ]
  },
  {
   "cell_type": "code",
   "execution_count": 106,
   "id": "820822c0-97f3-47e4-be7a-7d3a6092d1da",
   "metadata": {},
   "outputs": [
    {
     "data": {
      "text/plain": [
       "array([-0.94529783,  1.65722056, -2.65632182, -0.3537019 ,  1.69379771])"
      ]
     },
     "execution_count": 106,
     "metadata": {},
     "output_type": "execute_result"
    }
   ],
   "source": [
    "rvs = stats.t.rvs(df,size=5,random_state=123)\n",
    "rvs"
   ]
  },
  {
   "cell_type": "code",
   "execution_count": null,
   "id": "4b88dcf4",
   "metadata": {},
   "outputs": [],
   "source": []
  },
  {
   "cell_type": "code",
   "execution_count": 110,
   "id": "2f38cfe6-2ac1-4e4d-9ec3-01365e531d79",
   "metadata": {},
   "outputs": [
    {
     "data": {
      "image/png": "[encoded data removed]",
      "text/plain": [
       "<Figure size 640x480 with 1 Axes>"
      ]
     },
     "metadata": {},
     "output_type": "display_data"
    }
   ],
   "source": [
    "# plot the pdf of t distribution\n",
    "xs = np.linspace(start=-4,stop=4,num=100)\n",
    "ys_1 = stats.t.pdf(x=xs,df=1)\n",
    "ys_5 = stats.t.pdf(x=xs,df=5)\n",
    "ys_10 = stats.t.pdf(x=xs,df=10)\n",
    "ys_20 = stats.t.pdf(x=xs,df=20)\n",
    "ys_100 = stats.t.pdf(x=xs,df=100)\n",
    "plt.plot(xs,ys_1,label='df=1')\n",
    "plt.plot(xs,ys_5,label='df=5')\n",
    "plt.plot(xs,ys_10,label='df=10')\n",
    "plt.plot(xs,ys_20,label='df=20')\n",
    "plt.plot(xs,ys_100,label='df=100')\n",
    "\n",
    "# plot the pdf of standard normal distribution\n",
    "ys = stats.norm.pdf(x=xs)\n",
    "plt.plot(xs,ys,'o',label='norm pdf')\n",
    "plt.legend()\n",
    "plt.show()"
   ]
  },
  {
   "cell_type": "code",
   "execution_count": 111,
   "id": "2847c103-41a1-4ed1-aff3-7d0f06e2209b",
   "metadata": {},
   "outputs": [
    {
     "data": {
      "image/png": "[encoded data removed]",
      "text/plain": [
       "<Figure size 640x480 with 1 Axes>"
      ]
     },
     "metadata": {},
     "output_type": "display_data"
    }
   ],
   "source": [
    "# plot the cdf of t distribution\n",
    "xs = np.linspace(start=-4,stop=4,num=100)\n",
    "ys_1 = stats.t.cdf(x=xs,df=1)\n",
    "ys_5 = stats.t.cdf(x=xs,df=5)\n",
    "ys_10 = stats.t.cdf(x=xs,df=10)\n",
    "ys_20 = stats.t.cdf(x=xs,df=20)\n",
    "ys_100 = stats.t.cdf(x=xs,df=100)\n",
    "plt.plot(xs,ys_1,label='df=1')\n",
    "plt.plot(xs,ys_5,label='df=5')\n",
    "plt.plot(xs,ys_10,label='df=10')\n",
    "plt.plot(xs,ys_20,label='df=20')\n",
    "plt.plot(xs,ys_100,label='df=100')\n",
    "# plot the cdf of standard normal distribution\n",
    "ys = stats.norm.cdf(x=xs)\n",
    "plt.plot(xs,ys,'o',label='norm cdf')\n",
    "plt.legend()\n",
    "plt.show()"
   ]
  },
  {
   "cell_type": "code",
   "execution_count": null,
   "id": "a2b8ee4c-8c75-4482-b659-b944482b8405",
   "metadata": {},
   "outputs": [],
   "source": []
  },
  {
   "cell_type": "markdown",
   "id": "ed6fdfda-4573-4f70-996a-32ff91f6257d",
   "metadata": {},
   "source": [
    "**`ppf`: Percent Point Function (Inverse of CDF)**"
   ]
  },
  {
   "cell_type": "code",
   "execution_count": 112,
   "id": "0c66c6a1-7a1d-40f3-8a4b-85ebde239910",
   "metadata": {},
   "outputs": [
    {
     "data": {
      "text/plain": [
       "array([-1.72913281,  1.72913281])"
      ]
     },
     "execution_count": 112,
     "metadata": {},
     "output_type": "execute_result"
    }
   ],
   "source": [
    "# when n=20, df = n-1 =19\n",
    "stats.t.ppf([0.05,0.95],df=df)"
   ]
  },
  {
   "cell_type": "code",
   "execution_count": null,
   "id": "a6f8944d",
   "metadata": {},
   "outputs": [],
   "source": []
  },
  {
   "cell_type": "markdown",
   "id": "894922e1-0112-4cd1-b0de-10fe84a7e76e",
   "metadata": {},
   "source": [
    "### $\\chi^2 distribution$\n",
    "$\\chi^2$ (chi-square) distribution describes the distribution of the summed squares of random variates from a standard normal distribution. The sum squares of $n$ independent random samples from standard normal distribution follows a chi-square distribution of $n$ degrees of freedom:\n",
    "$$\n",
    "\\sum_{i=1}^{n}X_i^2 \\sim \\chi_n^2\n",
    "$$\n",
    "For $n$ independent random samples from normal distribution with a standard deviation of $\\sigma$, the following test statistic follows the chi-square distribution of $n-1$ degrees of freedom:\n",
    "$$\n",
    "\\sum_{i=1}^{n}(\\frac{X_i-\\bar{X}}{\\sigma})^2 = (n-1)\\frac{s}{\\sigma^2} \\sim \\chi_{n-1}^2\n",
    "$$\n",
    "where $s$ stands for sample standard deviation. This can be used in hypothesis test of comparison between sample standard deviation and population standard deviation.\n",
    "\n",
    "It is also commonly used in statistical independence or association between two or more categorical variables using the following test statistic:\n",
    "$$\n",
    "\\sum_{i=1}^{k}\\frac{({frequency}_{observed} - {frequency}_{expected})^2}{{frequency}_{expected}} \\sim \\chi_{df}^2\n",
    "$$\n",
    "where \n",
    "$$\n",
    "df = k - 1 - #_parameters_estimated\n",
    "$$ see example here: http://sites.utexas.edu/sos/guided/inferential/categorical/chi2/\n"
   ]
  },
  {
   "cell_type": "code",
   "execution_count": 113,
   "id": "e0ce4349-4fac-4afe-81f4-8ba1043dcc96",
   "metadata": {},
   "outputs": [
    {
     "data": {
      "text/plain": [
       "array([12.51393828, 25.05996342, 15.04818121, 30.26163094,  7.21528779])"
      ]
     },
     "execution_count": 113,
     "metadata": {},
     "output_type": "execute_result"
    }
   ],
   "source": [
    "n = 20\n",
    "df = n-1\n",
    "rvs = stats.chi2.rvs(df=df,size=5,random_state=123)\n",
    "rvs"
   ]
  },
  {
   "cell_type": "code",
   "execution_count": null,
   "id": "b5ab912c",
   "metadata": {},
   "outputs": [],
   "source": []
  },
  {
   "cell_type": "code",
   "execution_count": 114,
   "id": "1ccce4e5-d8d0-4cd9-be72-1506e9b98670",
   "metadata": {},
   "outputs": [
    {
     "data": {
      "image/png": "[encoded data removed]",
      "text/plain": [
       "<Figure size 2000x1000 with 1 Axes>"
      ]
     },
     "metadata": {},
     "output_type": "display_data"
    }
   ],
   "source": [
    "# plot the pdf of chi2 distribution\n",
    "plt.figure(figsize=(20,10))\n",
    "\n",
    "xs = np.linspace(start=0,stop=100,num=1000)\n",
    "ys_1 = stats.chi2.pdf(x=xs,df=1)\n",
    "ys_2 = stats.chi2.pdf(x=xs,df=2)\n",
    "ys_3 = stats.chi2.pdf(x=xs,df=3)\n",
    "ys_4 = stats.chi2.pdf(x=xs,df=4)\n",
    "ys_6 = stats.chi2.pdf(x=xs,df=6)\n",
    "ys_9 = stats.chi2.pdf(x=xs,df=9)\n",
    "plt.plot(xs,ys_1,label='df=1')\n",
    "plt.plot(xs,ys_2,label='df=2')\n",
    "plt.plot(xs,ys_3,label='df=3')\n",
    "plt.plot(xs,ys_4,label='df=4')\n",
    "plt.plot(xs,ys_6,label='df=6')\n",
    "plt.plot(xs,ys_9,label='df=9')\n",
    "plt.xlim(0,20)\n",
    "plt.ylim(0,0.5)\n",
    "plt.legend()\n",
    "plt.show()\n"
   ]
  },
  {
   "cell_type": "code",
   "execution_count": 115,
   "id": "9df485be-872c-41c9-87f0-e6481d2a2e44",
   "metadata": {},
   "outputs": [
    {
     "data": {
      "image/png": "[encoded data removed]",
      "text/plain": [
       "<Figure size 2000x1000 with 1 Axes>"
      ]
     },
     "metadata": {},
     "output_type": "display_data"
    }
   ],
   "source": [
    "# plot the cdf of chi2 distribution\n",
    "plt.figure(figsize=(20,10))\n",
    "\n",
    "xs = np.linspace(start=0,stop=100,num=1000)\n",
    "ys_1 = stats.chi2.cdf(x=xs,df=1)\n",
    "ys_2 = stats.chi2.cdf(x=xs,df=2)\n",
    "ys_3 = stats.chi2.cdf(x=xs,df=3)\n",
    "ys_4 = stats.chi2.cdf(x=xs,df=4)\n",
    "ys_6 = stats.chi2.cdf(x=xs,df=6)\n",
    "ys_9 = stats.chi2.cdf(x=xs,df=9)\n",
    "plt.plot(xs,ys_1,label='df=1')\n",
    "plt.plot(xs,ys_2,label='df=2')\n",
    "plt.plot(xs,ys_3,label='df=3')\n",
    "plt.plot(xs,ys_4,label='df=4')\n",
    "plt.plot(xs,ys_6,label='df=6')\n",
    "plt.plot(xs,ys_9,label='df=9')\n",
    "plt.xlim(0,20)\n",
    "plt.ylim(0,1)\n",
    "plt.legend()\n",
    "plt.show()"
   ]
  },
  {
   "cell_type": "markdown",
   "id": "32ab6046-0575-487c-9aca-3482652e4f24",
   "metadata": {},
   "source": [
    "**`ppf`: Percent Point Function (Inverse of CDF)**"
   ]
  },
  {
   "cell_type": "code",
   "execution_count": 116,
   "id": "732a9631-663c-40ec-86b4-e8c8c3b5c5c6",
   "metadata": {},
   "outputs": [
    {
     "data": {
      "text/plain": [
       "array([ 3.32511284, 16.9189776 ])"
      ]
     },
     "execution_count": 116,
     "metadata": {},
     "output_type": "execute_result"
    }
   ],
   "source": [
    "# when df=9\n",
    "stats.chi2.ppf([0.05,0.95],df=9)"
   ]
  },
  {
   "cell_type": "code",
   "execution_count": null,
   "id": "69b37f90",
   "metadata": {},
   "outputs": [],
   "source": []
  },
  {
   "cell_type": "markdown",
   "id": "6fc297db-e9ec-4adf-aeb9-6ccac15b6428",
   "metadata": {},
   "source": [
    "### $F$ distribution\n",
    "\n",
    "This distribution is named after Sir Ronald Fisher, who developed the F distribution for use in determining critical values in **ANOVAs** (`Analysis Of Variance`).\n",
    "\n",
    "If we want to investigate whether two groups have the same variance, we have to calculate the ratio of the sample standard deviations squared (assume $S_1^2 > S_2^2$):\n",
    "$$\n",
    "\\frac{S_1^2}{S_2^2} \\sim F_{df_1,df_2} = \\frac{\\chi_{df_1}^2/df_1}{\\chi_{df_2}^2/df_2} \\sim F_{N_1-1,N_2-1}\n",
    "$$\n",
    "where $\\chi_{df_1}^2$ and $\\chi_{df_2}^2$ are the chi-squared statistics of sample one and two respectively, and $df_1$ and $df_2$ are their degrees of freedom, in which case\n",
    "$$\n",
    "df_1 = N_1-1\n",
    "$$\n",
    "and\n",
    "$$\n",
    "df_2 = N_2-1\n",
    "$$ ($N_1$ and $N_2$ are sample sizes of the two samples)"
   ]
  },
  {
   "cell_type": "code",
   "execution_count": 117,
   "id": "522a8edd-d281-465a-9941-a8f08771640e",
   "metadata": {},
   "outputs": [
    {
     "data": {
      "image/png": "[encoded data removed]",
      "text/plain": [
       "<Figure size 2000x1000 with 1 Axes>"
      ]
     },
     "metadata": {},
     "output_type": "display_data"
    }
   ],
   "source": [
    "# plot the pdf of F distribution\n",
    "plt.figure(figsize=(20,10))\n",
    "\n",
    "xs = np.linspace(start=0,stop=5,num=1000)\n",
    "ys_11 = stats.f.pdf(x=xs,dfn=1,dfd=1)\n",
    "ys_21 = stats.f.pdf(x=xs,dfn=2,dfd=1)\n",
    "ys_52 = stats.f.pdf(x=xs,dfn=5,dfd=2)\n",
    "ys_100100 = stats.f.pdf(x=xs,dfn=100,dfd=100)\n",
    "plt.plot(xs,ys_11,label='F(1/1)')\n",
    "plt.plot(xs,ys_21,label='F(2/1)')\n",
    "plt.plot(xs,ys_52,label='F(5/2)')\n",
    "plt.plot(xs,ys_100100,label='F(100/100)')\n",
    "\n",
    "plt.xlim(0,3)\n",
    "plt.ylim(0,3)\n",
    "plt.legend()\n",
    "plt.show()"
   ]
  },
  {
   "cell_type": "code",
   "execution_count": 118,
   "id": "33113b71-c92f-488b-a4b1-56d448de59be",
   "metadata": {},
   "outputs": [
    {
     "data": {
      "image/png": "[encoded data removed]",
      "text/plain": [
       "<Figure size 2000x1000 with 1 Axes>"
      ]
     },
     "metadata": {},
     "output_type": "display_data"
    }
   ],
   "source": [
    "# plot the cdf of F distribution\n",
    "plt.figure(figsize=(20,10))\n",
    "\n",
    "xs = np.linspace(start=0,stop=5,num=1000)\n",
    "ys_11 = stats.f.cdf(x=xs,dfn=1,dfd=1)\n",
    "ys_21 = stats.f.cdf(x=xs,dfn=2,dfd=1)\n",
    "ys_52 = stats.f.cdf(x=xs,dfn=5,dfd=2)\n",
    "ys_100100 = stats.f.cdf(x=xs,dfn=100,dfd=100)\n",
    "plt.plot(xs,ys_11,label='F(1/1)')\n",
    "plt.plot(xs,ys_21,label='F(2/1)')\n",
    "plt.plot(xs,ys_52,label='F(5/2)')\n",
    "plt.plot(xs,ys_100100,label='F(100/100)')\n",
    "\n",
    "plt.xlim(0,3)\n",
    "plt.ylim(0,1)\n",
    "plt.legend()\n",
    "plt.show()"
   ]
  },
  {
   "cell_type": "markdown",
   "id": "7529980c-1bba-42c5-98fd-86eaec8a127a",
   "metadata": {},
   "source": [
    "**`ppf`: Percent Point Function (Inverse of CDF)**"
   ]
  },
  {
   "cell_type": "code",
   "execution_count": 119,
   "id": "ab5b0669-d885-4bae-a43e-ea05640b4c54",
   "metadata": {},
   "outputs": [
    {
     "data": {
      "text/plain": [
       "array([0.71853557, 1.39171955])"
      ]
     },
     "execution_count": 119,
     "metadata": {},
     "output_type": "execute_result"
    }
   ],
   "source": [
    "# when dfn=100, dfd=100\n",
    "stats.f.ppf([0.05,0.95],dfn=100,dfd=100)"
   ]
  },
  {
   "cell_type": "code",
   "execution_count": null,
   "id": "ac98751d",
   "metadata": {},
   "outputs": [],
   "source": []
  },
  {
   "cell_type": "markdown",
   "id": "44c3067f-299b-4001-8ea9-ad01e05f18fe",
   "metadata": {},
   "source": [
    "## Hypothesis Test\n",
    "\n",
    "wikipedia: https://en.wikipedia.org/wiki/Statistical_hypothesis_testing"
   ]
  },
  {
   "cell_type": "markdown",
   "id": "6ce15d62-96d5-44b3-9fc3-996a085b0957",
   "metadata": {},
   "source": [
    "`Hypothesis` is a statement about a parameter. A `hypothesis test` is a standard procedure to test a statement (the `hypothesis`), and typically we need to select between two complementary `hypothesis`:\n",
    "* `Null hypothesis` ($H_0$): A statment about an established fact of a parameter. The null hypothesis is generally assumed to be true until evidence indicates otherwise (similar to the case that a defendant of a jury trial is presumed innocent until proven guilty). It is normally expressed as Math equation, and **it must contain a condition of equality, such as $=,\\geq, \\leq $**.\n",
    "* `Alternative hypothesis` ($H_1$): A statement that the parameter has a value that differs from the null hypothesis.\n",
    " Needs a strong support from data to change our thinking and contradicts Ho. Expressed as Math statement it contains $\\neq, <, >$.\n",
    "\n",
    "We also need a `test statistic` (a quantity derived from the sample). Typically it is selected or defined in such a way as to quantify, within observed data, behaviours that would distinguish the `null` from the `alternative hypothesis`, where such an alternative is prescribed, or that would characterize the null hypothesis if there is no explicitly stated alternative hypothesis. Normally, we should have a good idea on the sampling distribution of the test statistic.\n",
    "* List of commonly used `test statistic`: https://en.wikipedia.org/wiki/Test_statistic\n",
    "\n",
    "| Null Hypothesis        | Alternative Hypothesis      | Type of Alternative |\n",
    "|------------------------|-----------------------------|---------------------|\n",
    "|                        | $H_1$: $\\theta < \\theta_0$    | lower one-sided     |\n",
    "| $H_0$: $\\theta=\\theta_0$ | $H_1$: $\\theta > \\theta_0$    | upper one-sided     |\n",
    "|                        | $H_1$: $\\theta \\neq \\theta_0$ | two-sided           |\n",
    "\n",
    "|                                   | $H_0$ is true (Truly not guilty) |    $H_1$ is true (Truly guilty)   |\n",
    "|-----------------------------------|---------------------------|----------------------------|\n",
    "|  Accept null hypothesis Acquittal |        Right decision       | Wrong decision **Type II Error** |\n",
    "| Reject null hypothesis Conviction | Wrong decision **Type I Error** |        Right decision        |"
   ]
  },
  {
   "cell_type": "markdown",
   "id": "1baeef5d-f94b-48ac-b7bb-ddadce44c2bf",
   "metadata": {},
   "source": [
    "### One Population Proportion"
   ]
  },
  {
   "cell_type": "markdown",
   "id": "1c821202-ca63-4757-809a-50ac66080343",
   "metadata": {},
   "source": [
    "**Example: How to tell if a coin is fair?**\n",
    "\n",
    "**Problem**: Suppose we tossed a coin 100 times and we have obtained 38\n",
    "Heads and 62 Tails. Is the coin biased toward tails? "
   ]
  },
  {
   "cell_type": "markdown",
   "id": "b899c174-0091-4ac2-b199-186345055e95",
   "metadata": {},
   "source": [
    "$H_0$: $p_{head} = 0.5$\n",
    "\n",
    "$H_1$: $p_{head} \\neq 0.5$ (two-sided)\n",
    "\n",
    "Significance level $\\alpha=0.05$\n",
    "\n",
    "`Test statistic`: $z = \\frac{\\hat{p}-p_0}{SD(p_0)} \\sim N(0,1)$ according to `central limit theorem`, where $SD(p_0) =\\sqrt{\\frac{p_0q_0}{n}} = \\sqrt{\\frac{p_0(1-p_0)}{n}} $.\n",
    "![](https://www.investopedia.com/thmb/pF9cbALKXUA617NzyoKozi1B0rQ=/954x380/filters:no_upscale():max_bytes(150000):strip_icc()/Clipboard01-5c94e6b446e0fb00010ae8ed.jpg)"
   ]
  },
  {
   "cell_type": "code",
   "execution_count": 120,
   "id": "17f3aa95-463e-4fdd-a7d7-44540d5cd37c",
   "metadata": {},
   "outputs": [],
   "source": [
    "n = 100\n",
    "p = 38/n\n",
    "sd = (p*(1-p)/n)**0.5\n",
    "z = (p-0.5)/sd"
   ]
  },
  {
   "cell_type": "code",
   "execution_count": 121,
   "id": "98bb0029-b346-42cb-abb1-7c903cac87df",
   "metadata": {},
   "outputs": [
    {
     "data": {
      "text/plain": [
       "-2.4722569302909876"
      ]
     },
     "execution_count": 121,
     "metadata": {},
     "output_type": "execute_result"
    }
   ],
   "source": [
    "z"
   ]
  },
  {
   "cell_type": "code",
   "execution_count": 122,
   "id": "70d72037-cbbd-4e4c-9d8d-dcb65454ede0",
   "metadata": {},
   "outputs": [],
   "source": [
    "p = 2 * stats.norm.cdf(z) # two-sided"
   ]
  },
  {
   "cell_type": "code",
   "execution_count": 123,
   "id": "e7fab42a-4221-4e29-a19e-4cbadaad4a21",
   "metadata": {},
   "outputs": [
    {
     "data": {
      "text/plain": [
       "0.013426298293326975"
      ]
     },
     "execution_count": 123,
     "metadata": {},
     "output_type": "execute_result"
    }
   ],
   "source": [
    "p"
   ]
  },
  {
   "cell_type": "code",
   "execution_count": null,
   "id": "8992c606",
   "metadata": {},
   "outputs": [],
   "source": []
  },
  {
   "cell_type": "code",
   "execution_count": 124,
   "id": "218e9298-88e5-418e-ab6a-0eafb08a884d",
   "metadata": {},
   "outputs": [
    {
     "data": {
      "text/plain": [
       "array([-1.95996398,  1.95996398])"
      ]
     },
     "execution_count": 124,
     "metadata": {},
     "output_type": "execute_result"
    }
   ],
   "source": [
    "stats.norm.ppf([0.025,0.975]) # the 5% confidence interval boundary for two-sided alternative hypothesis"
   ]
  },
  {
   "cell_type": "code",
   "execution_count": null,
   "id": "015c9b34",
   "metadata": {},
   "outputs": [],
   "source": []
  },
  {
   "cell_type": "code",
   "execution_count": null,
   "id": "1bb63e27",
   "metadata": {},
   "outputs": [],
   "source": []
  },
  {
   "cell_type": "markdown",
   "id": "89b75a3f-e351-4539-a11d-8b20b3f9d8c6",
   "metadata": {},
   "source": [
    "We can also do t-test: $t = \\frac{\\hat{p}-p_0}{SD(p_0)} \\sim t_{n-1}$"
   ]
  },
  {
   "cell_type": "code",
   "execution_count": 125,
   "id": "a6ed457a-607e-424d-ab81-6f0d391852b5",
   "metadata": {},
   "outputs": [
    {
     "data": {
      "text/plain": [
       "0.015131634778085726"
      ]
     },
     "execution_count": 125,
     "metadata": {},
     "output_type": "execute_result"
    }
   ],
   "source": [
    "p = 2 * stats.t.cdf(z, df = n-1) # two-sided\n",
    "p"
   ]
  },
  {
   "cell_type": "code",
   "execution_count": 126,
   "id": "a98c3eb8-0d09-44e1-bed4-99a92b70a5d5",
   "metadata": {},
   "outputs": [
    {
     "data": {
      "text/plain": [
       "array([-1.98421695,  1.98421695])"
      ]
     },
     "execution_count": 126,
     "metadata": {},
     "output_type": "execute_result"
    }
   ],
   "source": [
    "stats.t.ppf([0.025,0.975], df=n-1) # the 5% confidence interval boundary for two-sided alternative hypothesis"
   ]
  },
  {
   "cell_type": "code",
   "execution_count": null,
   "id": "fb0f3973",
   "metadata": {},
   "outputs": [],
   "source": []
  },
  {
   "cell_type": "code",
   "execution_count": null,
   "id": "a0d4514b",
   "metadata": {},
   "outputs": [],
   "source": []
  },
  {
   "cell_type": "markdown",
   "id": "8b6014af-1438-4e56-ba65-6abbf9aaec4f",
   "metadata": {},
   "source": [
    "We can also use the `statsmodels` library to do the z-test"
   ]
  },
  {
   "cell_type": "code",
   "execution_count": null,
   "id": "d2aa5b79-75f5-4df5-ba77-bec7a0215fe0",
   "metadata": {},
   "outputs": [],
   "source": [
    "import statsmodels.api as sm"
   ]
  },
  {
   "cell_type": "code",
   "execution_count": null,
   "id": "fdc74398-0cc2-4c02-b401-98b441c721bb",
   "metadata": {},
   "outputs": [],
   "source": [
    "sm.stats.proportions_ztest(count=38,nobs=100,value=0.5,alternative='two-sided')"
   ]
  },
  {
   "cell_type": "markdown",
   "id": "f3dd8d89-235a-4159-b729-85469c4a4fc6",
   "metadata": {},
   "source": [
    "### Two Population Proportion Difference"
   ]
  },
  {
   "cell_type": "markdown",
   "id": "646b9e09-f1f0-41e7-b575-79fb771417b1",
   "metadata": {},
   "source": [
    "**Problem**: A car manufacturer aims to improve the quality of the products by reducing the defects and also increase the customer satisfaction. Therefore, he monitors the efficiency of two assembly lines in the shop floor. In line A there are 18 defects reported out of 200 samples. While the line B shows 25 defects out of 600 cars. At α 5%, is the differences between two assembly procedures are significant?"
   ]
  },
  {
   "cell_type": "markdown",
   "id": "f91b858e-2fe1-4b86-b750-68cec79119ba",
   "metadata": {},
   "source": [
    "$H_0$: $p_1 - p_2 = 0$\n",
    "\n",
    "$H_1$: $p_1 - p_2 \\neq 0$ (two-sided)\n",
    "\n",
    "Significance level $\\alpha=0.05$\n",
    "\n",
    "`Test statistic`: $z = \\frac{\\hat{p_1}-\\hat{p_2} - 0}{SD} \\sim N(0,1)$ according to `central limit theorem`, where $SD = \\sqrt{p_0(1-p_0)(\\frac{1}{n_1}+\\frac{1}{n_2})}$, and $p_0 = \\frac{x_1+x_2}{n_1+n_2}$."
   ]
  },
  {
   "cell_type": "code",
   "execution_count": null,
   "id": "0528532f-33ff-481c-81c7-3d8f10431788",
   "metadata": {},
   "outputs": [],
   "source": [
    "import math\n",
    "\n",
    "x1 = 18\n",
    "n1 = 200\n",
    "x2 = 25\n",
    "n2 = 600\n",
    "\n",
    "p1 = x1/n1\n",
    "p2 = x2/n2\n",
    "p0 = (x1+x2)/(n1+n2)\n",
    "# sd = math.sqrt(p1*(1-p1)/n1 + p2*(1-p2)/n2)\n",
    "sd = math.sqrt(p0*(1-p0)*(1/n1 + 1/n2))\n",
    "z = (p1-p2)/sd\n",
    "z"
   ]
  },
  {
   "cell_type": "code",
   "execution_count": null,
   "id": "28032be3-454c-4b45-9ad9-2657ac33543b",
   "metadata": {},
   "outputs": [],
   "source": [
    "p = 2 * (1-stats.norm.cdf(z)) # two-sided\n",
    "p"
   ]
  },
  {
   "cell_type": "code",
   "execution_count": null,
   "id": "39cb4f4d-781e-4670-9bef-c0ccfd1b7d1c",
   "metadata": {},
   "outputs": [],
   "source": [
    "p1, p2"
   ]
  },
  {
   "cell_type": "markdown",
   "id": "c9d0c63e-097e-4b31-8381-c958cbe71e52",
   "metadata": {},
   "source": [
    "We can also use the `statsmodels` library to do the z-test"
   ]
  },
  {
   "cell_type": "code",
   "execution_count": null,
   "id": "21092ca5-d241-4894-af0e-410d1e2b8b5e",
   "metadata": {},
   "outputs": [],
   "source": [
    "sm.stats.proportions_ztest(\n",
    "    count=np.array([x1,x2]),\n",
    "    nobs=np.array([n1,n2]),\n",
    "    value=0,\n",
    "    alternative='two-sided'\n",
    ")"
   ]
  },
  {
   "cell_type": "code",
   "execution_count": null,
   "id": "b471786f-f707-42ae-874e-debd8b732d03",
   "metadata": {},
   "outputs": [],
   "source": [
    "sm.stats.proportions_ztest(\n",
    "    count=np.array([x1,x2]),\n",
    "    nobs=np.array([n1,n2]),\n",
    "    value=0,\n",
    "    alternative='larger'\n",
    ")"
   ]
  },
  {
   "cell_type": "markdown",
   "id": "7a6c7ad8-f00f-4655-9051-8f5ea5108eb2",
   "metadata": {},
   "source": [
    "### One Population Mean\n",
    "\n",
    "**Problem**: Your company wants to improve sales. Past sales data indicate that the average sale was \\\\$100 per transaction. After training your sales force, recent sales data (taken from a sample of 25 salesmen) indicates an average sale of \\\\$130, with a standard deviation of \\\\$15. Did the training work? Test your hypothesis at a 5\\% alpha level.\n",
    "\n",
    "$H_0$: $\\mu = \\mu_0$\n",
    "\n",
    "$H_1$: $\\mu \\geq \\mu_0$ (upper one-side)\n",
    "\n",
    "Significance level $\\alpha=0.05$\n",
    "\n",
    "`z-test`: $z = \\frac{\\bar{x} - \\mu_0}{s/\\sqrt{n}} \\sim N(0,1)$, where $s$ is the sample standard deviation\n",
    "\n",
    "`t-test`: $t = \\frac{\\bar{x} - \\mu_0}{s/\\sqrt{n}} \\sim t_{n-1}$, where $s$ is the sample standard deviation, and $n$ is the sample size"
   ]
  },
  {
   "cell_type": "code",
   "execution_count": null,
   "id": "81d21f5c-bc89-4ba8-abc2-5c10a462fece",
   "metadata": {},
   "outputs": [],
   "source": [
    "## z-test\n",
    "mu0 = 100\n",
    "xbar = 130\n",
    "n = 25\n",
    "s = 15\n",
    "\n",
    "z = (xbar - mu0)/(s/math.sqrt(n))\n",
    "z"
   ]
  },
  {
   "cell_type": "code",
   "execution_count": null,
   "id": "0870e7d9-7f80-438c-afb2-99f5b92826fc",
   "metadata": {},
   "outputs": [],
   "source": [
    "p = 1-stats.norm.cdf(z)\n",
    "p"
   ]
  },
  {
   "cell_type": "code",
   "execution_count": null,
   "id": "0b10fe35-4041-4f4d-8fb5-08ad5a5287a8",
   "metadata": {},
   "outputs": [],
   "source": [
    "## t-test\n",
    "t = z\n",
    "p = 1-stats.t.cdf(t, df=n-1)\n",
    "p"
   ]
  },
  {
   "cell_type": "markdown",
   "id": "a8e0d835-0e2f-4d28-a1df-67d02adda42a",
   "metadata": {},
   "source": [
    "### Two Population Mean Difference\n",
    "\n",
    "**Problem #1**: Does right‐ or left‐handedness affect how fast people type? Random samples of students from a typing class are given a typing speed test (words per minute), and the results are compared. Significance level for the test: 0.10. Because you are looking for a difference between the groups in either direction (right‐handed faster than left, or vice versa), this is a two‐tailed test.\n",
    "\n",
    "| Group | Handedness | n  | $\\bar{x}$ | s   |\n",
    "|-------|------------|----|-----------|-----|\n",
    "| 1     | Left       | 9  | 59.3      | 4.3 |\n",
    "| 2     | Right      | 16 | 55.8      | 5.7 |\n",
    "\n",
    "$H_0$: $\\mu_1 - \\mu_2 = 0$\n",
    "\n",
    "$H_1$: $\\mu_1 - \\mu_2 \\neq 0$ (two-sided)\n",
    "\n",
    "Significance level $\\alpha=0.05$\n",
    "\n",
    "Like before, assume the two groups have the same variance, we could do either `z-test` or `t-test`.\n",
    "$$\n",
    "\\frac{\\bar{x_1} - \\bar{x_2} - 0}{\\sqrt{s_p^2(\\frac{1}{n_1} + \\frac{1}{n_2})}} \\sim N(0,1)\n",
    "$$\n",
    "or\n",
    "$$\n",
    "\\frac{\\bar{x_1} - \\bar{x_2} - 0}{\\sqrt{s_p^2(\\frac{1}{n_1} + \\frac{1}{n_2})}} \\sim t_{n_1+n_2-2}\n",
    "$$\n",
    "Here, $s_p$ is the pooled variance $s_p^2 = \\frac{(n_1-1)s_1^2 + (n_2-1)s_2^2}{n_1+n_2-2}$\n"
   ]
  },
  {
   "cell_type": "code",
   "execution_count": null,
   "id": "69678550-97fa-431a-9b27-d16262bacb5e",
   "metadata": {},
   "outputs": [],
   "source": [
    "n1 = 9\n",
    "n2 = 16\n",
    "\n",
    "xbar1 = 59.3\n",
    "xbar2 = 55.8\n",
    "\n",
    "s1 = 4.3\n",
    "s2 = 5.7\n",
    "\n",
    "sp = math.sqrt(((n1-1)*(s1**2) + (n2-1)*(s2**2))/(n1+n2-2))\n",
    "sp"
   ]
  },
  {
   "cell_type": "code",
   "execution_count": null,
   "id": "df35d7f5-d324-4f0a-8d3f-8ca432058ab3",
   "metadata": {},
   "outputs": [],
   "source": [
    "# z test\n",
    "z = (xbar1 - xbar2)/(sp*math.sqrt(1/n1+1/n2))\n",
    "z"
   ]
  },
  {
   "cell_type": "code",
   "execution_count": null,
   "id": "fb3f45d6-07e8-42cb-9247-cdd5fc47ac4a",
   "metadata": {},
   "outputs": [],
   "source": [
    "p = (1-stats.norm.cdf(z))*2\n",
    "p"
   ]
  },
  {
   "cell_type": "code",
   "execution_count": null,
   "id": "c99bdf5f-c109-4e01-b9ed-25e27f3c3384",
   "metadata": {},
   "outputs": [],
   "source": [
    "## t-test\n",
    "t = z\n",
    "p = (1-stats.t.cdf(t, df=n1+n2-2))*2\n",
    "p"
   ]
  },
  {
   "cell_type": "markdown",
   "id": "9b572f19-b319-4ffd-85b7-1e53fab08478",
   "metadata": {},
   "source": [
    "**Problem #2**: An experiment is conducted to determine whether intensive tutoring (covering a great deal of material in a fixed amount of time) is more effective than paced tutoring (covering less material in the same amount of time). Two randomly chosen groups are tutored separately and then administered proficiency tests. Use a significance level of α < 0.05.\n",
    "\n",
    "| Group | Method | n  | $\\bar{x}$ | s   |\n",
    "|-------|------------|----|-----------|-----|\n",
    "| 1     | Intensive       | 12  | 46.31      | 6.44 |\n",
    "| 2     | Paced      | 10 | 42.79      | 7.52 |\n",
    "\n",
    "\n",
    "$H_0$: $\\mu_1 - \\mu_2 = 0$\n",
    "\n",
    "$H_1$: $\\mu_1 - \\mu_2 \\neq 0$ (two-sided)\n",
    "\n",
    "Significance level $\\alpha=0.05$\n",
    "\n",
    "Like before, assume the two groups have the same variance, we could do either `z-test` or `t-test`.\n",
    "$$\n",
    "\\frac{\\bar{x_1} - \\bar{x_2} - 0}{\\sqrt{\\frac{s_1^2}{n_1} + \\frac{s_2^2}{n_2}}} \\sim N(0,1)\n",
    "$$\n",
    "or\n",
    "$$\n",
    "\\frac{\\bar{x_1} - \\bar{x_2} - 0}{\\sqrt{\\frac{s_1^2}{n_1} + \\frac{s_2^2}{n_2}}} \\sim t_{n_1+n_2-2}\n",
    "$$\n",
    "\n"
   ]
  },
  {
   "cell_type": "code",
   "execution_count": null,
   "id": "7c21bf83-5287-4066-a34f-06279eca4817",
   "metadata": {},
   "outputs": [],
   "source": [
    "n1 = 12\n",
    "n2 = 10\n",
    "\n",
    "xbar1 = 46.31\n",
    "xbar2 = 42.79\n",
    "\n",
    "s1 = 6.44\n",
    "s2 = 7.52\n",
    "\n",
    "# z-test\n",
    "z = (xbar1-xbar2)/math.sqrt(s1**2/n1 + s2**2/n2)\n",
    "z"
   ]
  },
  {
   "cell_type": "code",
   "execution_count": null,
   "id": "e8b249a3-9f9b-4e34-99c3-78e19f234eb8",
   "metadata": {},
   "outputs": [],
   "source": [
    "p = (1-stats.norm.cdf(z))*2\n",
    "p"
   ]
  },
  {
   "cell_type": "code",
   "execution_count": null,
   "id": "09fa9ca1-3606-44e7-90dc-9b67e474976b",
   "metadata": {},
   "outputs": [],
   "source": [
    "# t-test\n",
    "\n",
    "t = z\n",
    "p = (1-stats.t.cdf(t, df=n1+n2-2))*2\n",
    "p"
   ]
  },
  {
   "cell_type": "code",
   "execution_count": null,
   "id": "2793fbf6-d640-47e5-80a5-fddecdd97218",
   "metadata": {},
   "outputs": [],
   "source": []
  },
  {
   "cell_type": "code",
   "execution_count": null,
   "id": "2c29ebfd-e304-4c62-8a00-99a3a6c60da8",
   "metadata": {},
   "outputs": [],
   "source": []
  },
  {
   "cell_type": "code",
   "execution_count": null,
   "id": "30a1f1e5-9791-4ac5-ad44-2dcca848d800",
   "metadata": {},
   "outputs": [],
   "source": []
  },
  {
   "cell_type": "code",
   "execution_count": null,
   "id": "d2d340d7-d831-4c06-87d8-f51b4ba1e7ae",
   "metadata": {},
   "outputs": [],
   "source": []
  },
  {
   "cell_type": "code",
   "execution_count": null,
   "id": "9938046b-2254-46dd-9519-b14f7b3f3243",
   "metadata": {},
   "outputs": [],
   "source": []
  }
 ],
 "metadata": {
  "kernelspec": {
   "display_name": "Python 3 (ipykernel)",
   "language": "python",
   "name": "python3"
  },
  "language_info": {
   "codemirror_mode": {
    "name": "ipython",
    "version": 3
   },
   "file_extension": ".py",
   "mimetype": "text/x-python",
   "name": "python",
   "nbconvert_exporter": "python",
   "pygments_lexer": "ipython3",
   "version": "3.10.8"
  }
 },
 "nbformat": 4,
 "nbformat_minor": 5
}
