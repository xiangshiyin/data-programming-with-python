{
 "cells": [
  {
   "cell_type": "markdown",
   "metadata": {},
   "source": [
    "# Today's Coding Topics\n",
    "[![Open In Colab](https://colab.research.google.com/assets/colab-badge.svg)](https://colab.research.google.com/github/xiangshiyin/data-programming-with-python/blob/main/2023-summmer/2023-07-03/notebook/concept_and_code_demo.ipynb)\n",
    "\n",
    "* Recap of previous lecture\n",
    "* The Python visualization landscape\n",
    "* Demos on common visulization libraries\n",
    "    * `matplotlib`\n",
    "    * `seaborn`\n",
    "* Appendix\n",
    "    * `plotly`\n",
    "    * `bokeh`"
   ]
  },
  {
   "cell_type": "markdown",
   "metadata": {},
   "source": [
    "# Homework recap"
   ]
  },
  {
   "cell_type": "code",
   "execution_count": null,
   "metadata": {},
   "outputs": [],
   "source": []
  },
  {
   "cell_type": "code",
   "execution_count": null,
   "metadata": {},
   "outputs": [],
   "source": []
  },
  {
   "cell_type": "markdown",
   "metadata": {},
   "source": [
    "# Recap on Python and Hypothesis Test"
   ]
  },
  {
   "cell_type": "markdown",
   "metadata": {},
   "source": [
    "There are many Python statistics libraries for you to work with.\n",
    "\n",
    "* **Foundation Libraries**\n",
    "    * `statistics`: built-in Python library for descriptive statistics (link: https://docs.python.org/3/library/statistics.html)\n",
    "    * `numpy`: numerical computing, numpy arrays\n",
    "    * `scipy`: scientific computing based on numpy, the `scipy.stats` module (link: https://docs.scipy.org/doc/scipy/reference/stats.html) covers a large number of probability distributions and statistical functions (link: https://www.scipy.org/)\n",
    "    \n",
    "* **Data Science Libraries**\n",
    "    * `pandas`: 1D and 2D labeled data manipulations and computation\n",
    "    * `statsmodels`: a Python module that provides classes and functions for the estimation of many different statistical models, as well as for conducting statistical tests, and statistical data exploration (link: https://www.statsmodels.org/stable/index.html)\n",
    "    * `matplotlib`: graphs and visualization (link: https://matplotlib.org/)"
   ]
  },
  {
   "cell_type": "markdown",
   "metadata": {},
   "source": [
    "## Hypothesis Test\n",
    "\n",
    "wikipedia: https://en.wikipedia.org/wiki/Statistical_hypothesis_testing"
   ]
  },
  {
   "cell_type": "markdown",
   "metadata": {},
   "source": [
    "`Hypothesis` is a statement about a parameter. A `hypothesis test` is a standard procedure to test a statement (the `hypothesis`), and typically we need to select between two complementary `hypothesis`:\n",
    "* `Null hypothesis` ($H_0$): A statment about an established fact of a parameter. The null hypothesis is generally assumed to be true until evidence indicates otherwise (similar to the case that a defendant of a jury trial is presumed innocent until proven guilty). It is normally expressed as Math equation, and **it must contain a condition of equality, such as $=,\\geq, \\leq $**.\n",
    "* `Alternative hypothesis` ($H_1$): A statement that the parameter has a value that differs from the null hypothesis.\n",
    " Needs a strong support from data to change our thinking and contradicts Ho. Expressed as Math statement it contains $\\neq, <, >$.\n",
    "\n",
    "We also need a `test statistic` (a quantity derived from the sample). Typically it is selected or defined in such a way as to quantify, within observed data, behaviours that would distinguish the `null` from the `alternative hypothesis`, where such an alternative is prescribed, or that would characterize the null hypothesis if there is no explicitly stated alternative hypothesis. Normally, we should have a good idea on the sampling distribution of the test statistic.\n",
    "* List of commonly used `test statistic`: https://en.wikipedia.org/wiki/Test_statistic\n",
    "\n",
    "| Null Hypothesis        | Alternative Hypothesis      | Type of Alternative |\n",
    "|------------------------|-----------------------------|---------------------|\n",
    "|                        | $H_1$: $\\theta < \\theta_0$    | lower one-sided     |\n",
    "| $H_0$: $\\theta=\\theta_0$ | $H_1$: $\\theta > \\theta_0$    | upper one-sided     |\n",
    "|                        | $H_1$: $\\theta \\neq \\theta_0$ | two-sided           |\n",
    "\n",
    "|                                   | $H_0$ is true (Truly not guilty) |    $H_1$ is true (Truly guilty)   |\n",
    "|-----------------------------------|---------------------------|----------------------------|\n",
    "|  Accept null hypothesis Acquittal |        Right decision       | Wrong decision **Type II Error** |\n",
    "| Reject null hypothesis Conviction | Wrong decision **Type I Error** |        Right decision        |"
   ]
  },
  {
   "cell_type": "markdown",
   "metadata": {},
   "source": [
    "### One Population Proportion"
   ]
  },
  {
   "cell_type": "markdown",
   "metadata": {},
   "source": [
    "**Example: How to tell if a coin is fair?**\n",
    "\n",
    "**Problem**: Suppose we tossed a coin 100 times and we have obtained 38\n",
    "Heads and 62 Tails. Is the coin biased toward tails? "
   ]
  },
  {
   "cell_type": "markdown",
   "metadata": {},
   "source": [
    "$H_0$: $p_{head} = 0.5$\n",
    "\n",
    "$H_1$: $p_{head} \\neq 0.5$ (two-sided)\n",
    "\n",
    "Significance level $\\alpha=0.05$\n",
    "\n",
    "`Test statistic`: $z = \\frac{\\hat{p}-p_0}{SD(p_0)} \\sim N(0,1)$ according to `central limit theorem`, where $SD(p_0) =\\sqrt{\\frac{p_0q_0}{n}} = \\sqrt{\\frac{p_0(1-p_0)}{n}} $.\n",
    "![](https://www.investopedia.com/thmb/pF9cbALKXUA617NzyoKozi1B0rQ=/954x380/filters:no_upscale():max_bytes(150000):strip_icc()/Clipboard01-5c94e6b446e0fb00010ae8ed.jpg)"
   ]
  },
  {
   "cell_type": "code",
   "execution_count": null,
   "metadata": {},
   "outputs": [],
   "source": [
    "from scipy import stats\n",
    "import numpy as np"
   ]
  },
  {
   "cell_type": "code",
   "execution_count": null,
   "metadata": {},
   "outputs": [],
   "source": [
    "n = 100\n",
    "p = 38/n\n",
    "sd = (p*(1-p)/n)**0.5\n",
    "z = (p-0.5)/sd"
   ]
  },
  {
   "cell_type": "code",
   "execution_count": null,
   "metadata": {},
   "outputs": [],
   "source": [
    "z"
   ]
  },
  {
   "cell_type": "code",
   "execution_count": null,
   "metadata": {},
   "outputs": [],
   "source": [
    "p = 2 * stats.norm.cdf(z) # two-sided"
   ]
  },
  {
   "cell_type": "code",
   "execution_count": null,
   "metadata": {},
   "outputs": [],
   "source": [
    "p"
   ]
  },
  {
   "cell_type": "code",
   "execution_count": null,
   "metadata": {},
   "outputs": [],
   "source": [
    "stats.norm.ppf([0.025,0.975]) # the 5% confidence interval boundary for two-sided alternative hypothesis"
   ]
  },
  {
   "cell_type": "markdown",
   "metadata": {},
   "source": [
    "We can also do t-test: $t = \\frac{\\hat{p}-p_0}{SD(p_0)} \\sim t_{n-1}$"
   ]
  },
  {
   "cell_type": "code",
   "execution_count": null,
   "metadata": {},
   "outputs": [],
   "source": [
    "p = 2 * stats.t.cdf(z, df = n-1) # two-sided\n",
    "p"
   ]
  },
  {
   "cell_type": "code",
   "execution_count": null,
   "metadata": {},
   "outputs": [],
   "source": [
    "stats.t.ppf([0.025,0.975], df=n-1) # the 5% confidence interval boundary for two-sided alternative hypothesis"
   ]
  },
  {
   "cell_type": "markdown",
   "metadata": {},
   "source": [
    "We can also use the `statsmodels` library to do the z-test"
   ]
  },
  {
   "cell_type": "code",
   "execution_count": null,
   "metadata": {},
   "outputs": [],
   "source": [
    "import statsmodels.api as sm"
   ]
  },
  {
   "cell_type": "code",
   "execution_count": null,
   "metadata": {},
   "outputs": [],
   "source": [
    "sm.stats.proportions_ztest(count=38,nobs=100,value=0.5,alternative='two-sided')"
   ]
  },
  {
   "cell_type": "markdown",
   "metadata": {},
   "source": [
    "### Two Population Proportion Difference"
   ]
  },
  {
   "cell_type": "markdown",
   "metadata": {},
   "source": [
    "**Problem**: A car manufacturer aims to improve the quality of the products by reducing the defects and also increase the customer satisfaction. Therefore, he monitors the efficiency of two assembly lines in the shop floor. In line A there are 18 defects reported out of 200 samples. While the line B shows 25 defects out of 600 cars. At α 5%, is the differences between two assembly procedures are significant?"
   ]
  },
  {
   "cell_type": "markdown",
   "metadata": {},
   "source": [
    "$H_0$: $p_1 - p_2 = 0$\n",
    "\n",
    "$H_1$: $p_1 - p_2 \\neq 0$ (two-sided)\n",
    "\n",
    "Significance level $\\alpha=0.05$\n",
    "\n",
    "`Test statistic`: $z = \\frac{\\hat{p_1}-\\hat{p_2} - 0}{SD} \\sim N(0,1)$ according to `central limit theorem`, where $SD = \\sqrt{p_0(1-p_0)(\\frac{1}{n_1}+\\frac{1}{n_2})}$, and $p_0 = \\frac{x_1+x_2}{n_1+n_2}$."
   ]
  },
  {
   "cell_type": "code",
   "execution_count": null,
   "metadata": {},
   "outputs": [],
   "source": [
    "import math\n",
    "\n",
    "x1 = 18\n",
    "n1 = 200\n",
    "x2 = 25\n",
    "n2 = 600\n",
    "\n",
    "p1 = x1/n1\n",
    "p2 = x2/n2\n",
    "p0 = (x1+x2)/(n1+n2)\n",
    "# sd = math.sqrt(p1*(1-p1)/n1 + p2*(1-p2)/n2)\n",
    "sd = math.sqrt(p0*(1-p0)*(1/n1 + 1/n2))\n",
    "z = (p1-p2)/sd\n",
    "z"
   ]
  },
  {
   "cell_type": "code",
   "execution_count": null,
   "metadata": {
    "scrolled": true
   },
   "outputs": [],
   "source": [
    "p = 2 * (1-stats.norm.cdf(z)) # two-sided\n",
    "p"
   ]
  },
  {
   "cell_type": "code",
   "execution_count": null,
   "metadata": {},
   "outputs": [],
   "source": [
    "p1, p2"
   ]
  },
  {
   "cell_type": "markdown",
   "metadata": {},
   "source": [
    "We can also use the `statsmodels` library to do the z-test"
   ]
  },
  {
   "cell_type": "code",
   "execution_count": null,
   "metadata": {},
   "outputs": [],
   "source": [
    "import statsmodels.api as sm"
   ]
  },
  {
   "cell_type": "code",
   "execution_count": null,
   "metadata": {},
   "outputs": [],
   "source": [
    "sm.stats.proportions_ztest(\n",
    "    count=np.array([x1,x2]),\n",
    "    nobs=np.array([n1,n2]),\n",
    "    value=0,\n",
    "    alternative='two-sided'\n",
    ")"
   ]
  },
  {
   "cell_type": "code",
   "execution_count": null,
   "metadata": {},
   "outputs": [],
   "source": [
    "sm.stats.proportions_ztest(\n",
    "    count=np.array([x1,x2]),\n",
    "    nobs=np.array([n1,n2]),\n",
    "    value=0,\n",
    "    alternative='larger'\n",
    ")"
   ]
  },
  {
   "cell_type": "markdown",
   "metadata": {},
   "source": [
    "### One Population Mean\n",
    "\n",
    "**Problem**: Your company wants to improve sales. Past sales data indicate that the average sale was \\\\$100 per transaction. After training your sales force, recent sales data (taken from a sample of 25 salesmen) indicates an average sale of \\\\$130, with a standard deviation of \\\\$15. Did the training work? Test your hypothesis at a 5\\% alpha level.\n",
    "\n",
    "$H_0$: $\\mu = \\mu_0$\n",
    "\n",
    "$H_1$: $\\mu \\geq \\mu_0$ (upper one-side)\n",
    "\n",
    "Significance level $\\alpha=0.05$\n",
    "\n",
    "`z-test`: $z = \\frac{\\bar{x} - \\mu_0}{s/\\sqrt{n}} \\sim N(0,1)$, where $s$ is the sample standard deviation\n",
    "\n",
    "`t-test`: $t = \\frac{\\bar{x} - \\mu_0}{s/\\sqrt{n}} \\sim t_{n-1}$, where $s$ is the sample standard deviation, and $n$ is the sample size"
   ]
  },
  {
   "cell_type": "code",
   "execution_count": null,
   "metadata": {},
   "outputs": [],
   "source": [
    "## z-test\n",
    "mu0 = 100\n",
    "xbar = 130\n",
    "n = 25\n",
    "s = 15\n",
    "\n",
    "z = (xbar - mu0)/(s/math.sqrt(n))\n",
    "z"
   ]
  },
  {
   "cell_type": "code",
   "execution_count": null,
   "metadata": {},
   "outputs": [],
   "source": [
    "p = 1-stats.norm.cdf(z)\n",
    "p"
   ]
  },
  {
   "cell_type": "code",
   "execution_count": null,
   "metadata": {},
   "outputs": [],
   "source": [
    "## t-test\n",
    "t = z\n",
    "p = 1-stats.t.cdf(t, df=n-1)\n",
    "p"
   ]
  },
  {
   "cell_type": "markdown",
   "metadata": {},
   "source": [
    "### Two Population Mean Difference\n",
    "\n",
    "**Problem #1**: Does right‐ or left‐handedness affect how fast people type? Random samples of students from a typing class are given a typing speed test (words per minute), and the results are compared. Significance level for the test: 0.10. Because you are looking for a difference between the groups in either direction (right‐handed faster than left, or vice versa), this is a two‐tailed test.\n",
    "\n",
    "| Group | Handedness | n  | $\\bar{x}$ | s   |\n",
    "|-------|------------|----|-----------|-----|\n",
    "| 1     | Left       | 9  | 59.3      | 4.3 |\n",
    "| 2     | Right      | 16 | 55.8      | 5.7 |\n",
    "\n",
    "$H_0$: $\\mu_1 - \\mu_2 = 0$\n",
    "\n",
    "$H_1$: $\\mu_1 - \\mu_2 \\neq 0$ (two-sided)\n",
    "\n",
    "Significance level $\\alpha=0.05$\n",
    "\n",
    "Like before, assume the two groups have the same variance, we could do either `z-test` or `t-test`.\n",
    "$$\n",
    "\\frac{\\bar{x_1} - \\bar{x_2} - 0}{\\sqrt{s_p^2(\\frac{1}{n_1} + \\frac{1}{n_2})}} \\sim N(0,1)\n",
    "$$\n",
    "or\n",
    "$$\n",
    "\\frac{\\bar{x_1} - \\bar{x_2} - 0}{\\sqrt{s_p^2(\\frac{1}{n_1} + \\frac{1}{n_2})}} \\sim t_{n_1+n_2-2}\n",
    "$$\n",
    "Here, $s_p$ is the pooled variance $s_p^2 = \\frac{(n_1-1)s_1^2 + (n_2-1)s_2^2}{n_1+n_2-2}$\n"
   ]
  },
  {
   "cell_type": "code",
   "execution_count": null,
   "metadata": {},
   "outputs": [],
   "source": [
    "n1 = 9\n",
    "n2 = 16\n",
    "\n",
    "xbar1 = 59.3\n",
    "xbar2 = 55.8\n",
    "\n",
    "s1 = 4.3\n",
    "s2 = 5.7\n",
    "\n",
    "sp = math.sqrt(((n1-1)*(s1**2) + (n2-1)*(s2**2))/(n1+n2-2))\n",
    "sp"
   ]
  },
  {
   "cell_type": "code",
   "execution_count": null,
   "metadata": {},
   "outputs": [],
   "source": [
    "# z test\n",
    "z = (xbar1 - xbar2)/(sp*math.sqrt(1/n1+1/n2))\n",
    "z"
   ]
  },
  {
   "cell_type": "code",
   "execution_count": null,
   "metadata": {},
   "outputs": [],
   "source": [
    "p = (1-stats.norm.cdf(z))*2\n",
    "p"
   ]
  },
  {
   "cell_type": "code",
   "execution_count": null,
   "metadata": {},
   "outputs": [],
   "source": [
    "## t-test\n",
    "t = z\n",
    "p = (1-stats.t.cdf(t, df=n1+n2-2))*2\n",
    "p"
   ]
  },
  {
   "cell_type": "markdown",
   "metadata": {},
   "source": [
    "**Problem #2**: An experiment is conducted to determine whether intensive tutoring (covering a great deal of material in a fixed amount of time) is more effective than paced tutoring (covering less material in the same amount of time). Two randomly chosen groups are tutored separately and then administered proficiency tests. Use a significance level of α < 0.05.\n",
    "\n",
    "| Group | Method | n  | $\\bar{x}$ | s   |\n",
    "|-------|------------|----|-----------|-----|\n",
    "| 1     | Intensive       | 12  | 46.31      | 6.44 |\n",
    "| 2     | Paced      | 10 | 42.79      | 7.52 |\n",
    "\n",
    "\n",
    "$H_0$: $\\mu_1 - \\mu_2 = 0$\n",
    "\n",
    "$H_1$: $\\mu_1 - \\mu_2 \\neq 0$ (two-sided)\n",
    "\n",
    "Significance level $\\alpha=0.05$\n",
    "\n",
    "Like before, assume the two groups have the same variance, we could do either `z-test` or `t-test`.\n",
    "$$\n",
    "\\frac{\\bar{x_1} - \\bar{x_2} - 0}{\\sqrt{\\frac{s_1^2}{n_1} + \\frac{s_2^2}{n_2}}} \\sim N(0,1)\n",
    "$$\n",
    "or\n",
    "$$\n",
    "\\frac{\\bar{x_1} - \\bar{x_2} - 0}{\\sqrt{\\frac{s_1^2}{n_1} + \\frac{s_2^2}{n_2}}} \\sim t_{n_1+n_2-2}\n",
    "$$\n",
    "\n"
   ]
  },
  {
   "cell_type": "code",
   "execution_count": null,
   "metadata": {},
   "outputs": [],
   "source": [
    "n1 = 12\n",
    "n2 = 10\n",
    "\n",
    "xbar1 = 46.31\n",
    "xbar2 = 42.79\n",
    "\n",
    "s1 = 6.44\n",
    "s2 = 7.52\n",
    "\n",
    "# z-test\n",
    "z = (xbar1-xbar2)/math.sqrt(s1**2/n1 + s2**2/n2)\n",
    "z"
   ]
  },
  {
   "cell_type": "code",
   "execution_count": null,
   "metadata": {},
   "outputs": [],
   "source": [
    "p = (1-stats.norm.cdf(z))*2\n",
    "p"
   ]
  },
  {
   "cell_type": "code",
   "execution_count": null,
   "metadata": {},
   "outputs": [],
   "source": [
    "# t-test\n",
    "\n",
    "t = z\n",
    "p = (1-stats.t.cdf(t, df=n1+n2-2))*2\n",
    "p"
   ]
  },
  {
   "cell_type": "code",
   "execution_count": null,
   "metadata": {},
   "outputs": [],
   "source": []
  },
  {
   "cell_type": "markdown",
   "metadata": {},
   "source": [
    "# Residual Topics on Statistics"
   ]
  },
  {
   "cell_type": "markdown",
   "metadata": {},
   "source": [
    "## Correlation Analysis\n",
    "\n",
    "### One pair of variables\n",
    "\n",
    "https://en.wikipedia.org/wiki/Correlation_and_dependence\n",
    "\n",
    "`Pearson's correlation coefficient`\n",
    "$$\n",
    "r = \\frac{\\sum_{i=1}^n(X_i-\\bar{X})(Y_i-\\bar{Y})}{\\sqrt{\\sum_{i=1}^n(X_i-\\bar{X})^2}\\sqrt{\\sum_{i=1}^n(Y_i-\\bar{Y})^2}}\n",
    "$$\n",
    "\n",
    "With the sample covariance $s_{xy}$ defined as\n",
    "$$\n",
    "s_{xy} = \\frac{\\sum_{i=1}^n(X_i-\\bar{X})(Y_i-\\bar{Y})}{n-1}\n",
    "$$\n",
    "and $s_x$, $s_y$ the sample standard deviations of the x and y values, then\n",
    "$$\n",
    "r = \\frac{s_{xy}}{s_x\\cdot s_y}\n",
    "$$\n",
    "\n",
    "Example 1: \n",
    "![](https://www.mathsisfun.com/data/images/correlation-examples.svg)\n",
    "\n",
    "Example 2:\n",
    "![](https://upload.wikimedia.org/wikipedia/commons/thumb/d/d4/Correlation_examples2.svg/1200px-Correlation_examples2.svg.png)"
   ]
  },
  {
   "cell_type": "markdown",
   "metadata": {},
   "source": [
    "[offline-reading] `Spearman's Correlation`: https://machinelearningmastery.com/how-to-use-correlation-to-understand-the-relationship-between-variables/"
   ]
  },
  {
   "cell_type": "markdown",
   "metadata": {},
   "source": [
    "Generate the dataset"
   ]
  },
  {
   "cell_type": "code",
   "execution_count": null,
   "metadata": {},
   "outputs": [],
   "source": [
    "import numpy as np\n",
    "import matplotlib.pyplot as plt"
   ]
  },
  {
   "cell_type": "code",
   "execution_count": null,
   "metadata": {},
   "outputs": [],
   "source": [
    "np.random.seed(123)\n",
    "data1 = 20 * np.random.randn(1000) + 100\n",
    "data1[:10]"
   ]
  },
  {
   "cell_type": "code",
   "execution_count": null,
   "metadata": {},
   "outputs": [],
   "source": [
    "data1 = 20 * np.random.randn(1000) + 100\n",
    "data1[:10]"
   ]
  },
  {
   "cell_type": "code",
   "execution_count": null,
   "metadata": {},
   "outputs": [],
   "source": []
  },
  {
   "cell_type": "code",
   "execution_count": null,
   "metadata": {},
   "outputs": [],
   "source": []
  },
  {
   "cell_type": "code",
   "execution_count": null,
   "metadata": {},
   "outputs": [],
   "source": [
    "# seed random number generator\n",
    "np.random.seed(123)\n",
    "# prepare data\n",
    "data1 = 20 * np.random.randn(1000) + 100\n",
    "data2 = data1 + (10 * np.random.randn(1000) + 50)\n",
    "\n",
    "# summarize\n",
    "print('data1: mean={:.3f} stdv={:.3f}'.format(np.mean(data1), np.std(data1)))\n",
    "print('data2: mean={:.3f} stdv={:.3f}'.format(np.mean(data2), np.std(data2)))\n",
    "# plot\n",
    "plt.scatter(data1, data2)\n",
    "plt.show()"
   ]
  },
  {
   "cell_type": "markdown",
   "metadata": {},
   "source": [
    "Follow the formula to calculate the correlation between `data1` and `data2`"
   ]
  },
  {
   "cell_type": "code",
   "execution_count": null,
   "metadata": {},
   "outputs": [],
   "source": [
    "# compute the covariance\n",
    "covariance = np.cov(data1,data2)\n",
    "covariance"
   ]
  },
  {
   "cell_type": "code",
   "execution_count": null,
   "metadata": {},
   "outputs": [],
   "source": [
    "s1 = np.std(data1)\n",
    "s2 = np.std(data2)\n",
    "r_manual = covariance[0,1]/(s1*s2)\n",
    "r_manual"
   ]
  },
  {
   "cell_type": "code",
   "execution_count": null,
   "metadata": {},
   "outputs": [],
   "source": [
    "from scipy import stats"
   ]
  },
  {
   "cell_type": "code",
   "execution_count": null,
   "metadata": {},
   "outputs": [],
   "source": [
    "# a quicker way to calculate the correlation\n",
    "\n",
    "stats.pearsonr(data1,data2)"
   ]
  },
  {
   "cell_type": "code",
   "execution_count": null,
   "metadata": {},
   "outputs": [],
   "source": [
    "corr, _  = stats.pearsonr(data1,data2)\n",
    "corr"
   ]
  },
  {
   "cell_type": "markdown",
   "metadata": {},
   "source": [
    "### Multivariate correlations\n",
    "\n",
    "`Sample data`: fake dataset from a personally test of 200 individuals\n",
    "(Source: https://raphaelvallat.com/correlation.html)\n",
    "\n",
    "The personality dimensions are defined according to the Big Five model (or OCEAN), and are typically measured on a 1 to 5 scale\n",
    "* Openness to experience (inventive/curious vs. consistent/cautious)\n",
    "* Conscientiousness (efficient/organized vs. easy-going/careless)\n",
    "* Extraversion (outgoing/energetic vs. solitary/reserved)\n",
    "* Agreeableness (friendly/compassionate vs. challenging/detached)\n",
    "* Neuroticism (sensitive/nervous vs. secure/confident)"
   ]
  },
  {
   "cell_type": "code",
   "execution_count": null,
   "metadata": {},
   "outputs": [],
   "source": [
    "import pandas as pd"
   ]
  },
  {
   "cell_type": "code",
   "execution_count": null,
   "metadata": {},
   "outputs": [],
   "source": [
    "df = pd.read_csv('../data/data_corr.csv',sep=',',header=0)\n",
    "df"
   ]
  },
  {
   "cell_type": "code",
   "execution_count": null,
   "metadata": {},
   "outputs": [],
   "source": [
    "df.shape"
   ]
  },
  {
   "cell_type": "code",
   "execution_count": null,
   "metadata": {},
   "outputs": [],
   "source": [
    "df.describe()"
   ]
  },
  {
   "cell_type": "code",
   "execution_count": null,
   "metadata": {},
   "outputs": [],
   "source": [
    "df.corr()"
   ]
  },
  {
   "cell_type": "code",
   "execution_count": null,
   "metadata": {},
   "outputs": [],
   "source": [
    "df.corr().T"
   ]
  },
  {
   "cell_type": "code",
   "execution_count": null,
   "metadata": {},
   "outputs": [],
   "source": [
    "type(df.corr())"
   ]
  },
  {
   "cell_type": "code",
   "execution_count": null,
   "metadata": {},
   "outputs": [],
   "source": [
    "corrs = df.corr()\n",
    "corrs"
   ]
  },
  {
   "cell_type": "code",
   "execution_count": null,
   "metadata": {},
   "outputs": [],
   "source": [
    "corrs.describe()"
   ]
  },
  {
   "cell_type": "code",
   "execution_count": null,
   "metadata": {},
   "outputs": [],
   "source": [
    "import seaborn as sns\n",
    "sns.pairplot(df)"
   ]
  },
  {
   "cell_type": "code",
   "execution_count": null,
   "metadata": {},
   "outputs": [],
   "source": [
    "# sns.heatmap(corrs, cmap='Spectral', vmin=-0.4, vmax=0.4) #http://seaborn.pydata.org/tutorial/color_palettes.html\n",
    "sns.heatmap(corrs, cmap='Spectral')\n",
    "plt.title('Correlation Matrix')\n",
    "plt.show()"
   ]
  },
  {
   "cell_type": "code",
   "execution_count": null,
   "metadata": {},
   "outputs": [],
   "source": [
    "# we can also create a map to cover half of the matrix\n",
    "mask = np.zeros_like(corrs)\n",
    "# find the indices of the upper triangle of the given matrix\n",
    "## https://numpy.org/doc/stable/reference/generated/numpy.triu_indices_from.html\n",
    "mask[np.triu_indices_from(mask)] = True\n",
    "mask"
   ]
  },
  {
   "cell_type": "code",
   "execution_count": null,
   "metadata": {},
   "outputs": [],
   "source": [
    "# sns.heatmap(corrs, cmap='Spectral', vmin=-0.4, vmax=0.4, mask=mask)\n",
    "sns.heatmap(corrs, cmap='Spectral', mask=mask)\n",
    "plt.title('Correlation Matrix')\n",
    "plt.show()"
   ]
  },
  {
   "cell_type": "markdown",
   "metadata": {},
   "source": [
    "## Outlier Analysis"
   ]
  },
  {
   "cell_type": "markdown",
   "metadata": {},
   "source": [
    "### The Linear Regression Example"
   ]
  },
  {
   "cell_type": "code",
   "execution_count": null,
   "metadata": {},
   "outputs": [],
   "source": [
    "n = 100  # numeber of samples\n",
    "X_raw = np.random.rand(n).reshape(n,1)*99\n",
    "y = -7.3 + 2.5*X_raw + np.random.randn(n).reshape(n,1)*25.0\n",
    "\n",
    "plt.figure(figsize=(10,5))\n",
    "plt.xlabel('X')\n",
    "plt.ylabel('y')\n",
    "plt.xticks(fontsize=14)\n",
    "plt.yticks(fontsize=14)\n",
    "plt.plot(X_raw, y, \"o\")\n",
    "plt.show()"
   ]
  },
  {
   "cell_type": "code",
   "execution_count": null,
   "metadata": {},
   "outputs": [],
   "source": [
    "X_raw.flatten()"
   ]
  },
  {
   "cell_type": "code",
   "execution_count": null,
   "metadata": {},
   "outputs": [],
   "source": [
    "X_raw.shape"
   ]
  },
  {
   "cell_type": "code",
   "execution_count": null,
   "metadata": {},
   "outputs": [],
   "source": [
    "y.shape"
   ]
  },
  {
   "cell_type": "code",
   "execution_count": null,
   "metadata": {},
   "outputs": [],
   "source": [
    "corr, _  = stats.pearsonr(X_raw.flatten(),y.flatten())\n",
    "corr"
   ]
  },
  {
   "cell_type": "code",
   "execution_count": null,
   "metadata": {},
   "outputs": [],
   "source": [
    "# fit with the closed-form solution\n",
    "## reconstruct X\n",
    "X = np.hstack((np.ones((n,1)), X_raw))\n",
    "beta = np.linalg.inv(X.T.dot(X)).dot(X.T).dot(y)\n",
    "y_hat = X.dot(beta)\n",
    "\n",
    "plt.figure(figsize=(10,5))\n",
    "plt.xticks(fontsize=14)\n",
    "plt.yticks(fontsize=14)\n",
    "plt.xlabel('X')\n",
    "plt.ylabel('y')\n",
    "plt.plot(X_raw, y, \"o\", label='raw data')\n",
    "plt.plot(X_raw, y_hat, label='initial fitted line')\n",
    "plt.legend()\n",
    "plt.show()"
   ]
  },
  {
   "cell_type": "code",
   "execution_count": null,
   "metadata": {},
   "outputs": [],
   "source": [
    "# What if we add an additional data points?\n",
    "\n",
    "X_raw2 = np.append(X_raw, [[40]], axis=0)\n",
    "y2 = np.append(y,[[5000]], axis=0)"
   ]
  },
  {
   "cell_type": "code",
   "execution_count": null,
   "metadata": {},
   "outputs": [],
   "source": [
    "plt.figure(figsize=(10,5))\n",
    "plt.xticks(fontsize=14)\n",
    "plt.yticks(fontsize=14)\n",
    "plt.plot(X_raw2, y2, \"o\", label='raw data')\n",
    "plt.plot(X_raw, y_hat, label='initial fitted line')\n",
    "plt.legend()\n",
    "plt.show()"
   ]
  },
  {
   "cell_type": "code",
   "execution_count": null,
   "metadata": {
    "scrolled": false
   },
   "outputs": [],
   "source": [
    "# Fit the data again\n",
    "X2 = np.hstack((np.ones((n+1,1)), X_raw2))\n",
    "beta2 = np.linalg.inv(X2.T.dot(X2)).dot(X2.T).dot(y2)\n",
    "y_hat2 = X2.dot(beta2)\n",
    "\n",
    "plt.figure(figsize=(10,5))\n",
    "plt.xticks(fontsize=14)\n",
    "plt.yticks(fontsize=14)\n",
    "plt.ylim(0,500)\n",
    "plt.plot(X_raw2, y2, \"o\", label='raw data')\n",
    "plt.plot(X_raw, y_hat, label='initial fitted line')\n",
    "plt.plot(X_raw2, y_hat2, label='later fitted line')\n",
    "plt.legend()\n",
    "plt.show()"
   ]
  },
  {
   "cell_type": "code",
   "execution_count": null,
   "metadata": {},
   "outputs": [],
   "source": [
    "X_raw2[-3:]"
   ]
  },
  {
   "cell_type": "code",
   "execution_count": null,
   "metadata": {},
   "outputs": [],
   "source": [
    "y2[-3:]"
   ]
  },
  {
   "cell_type": "code",
   "execution_count": null,
   "metadata": {},
   "outputs": [],
   "source": [
    "X_raw[-3:]"
   ]
  },
  {
   "cell_type": "code",
   "execution_count": null,
   "metadata": {},
   "outputs": [],
   "source": [
    "y[-3:]"
   ]
  },
  {
   "cell_type": "code",
   "execution_count": null,
   "metadata": {},
   "outputs": [],
   "source": [
    "beta"
   ]
  },
  {
   "cell_type": "code",
   "execution_count": null,
   "metadata": {},
   "outputs": [],
   "source": [
    "beta2"
   ]
  },
  {
   "cell_type": "markdown",
   "metadata": {},
   "source": [
    "### Find outliers from the data distribution\n",
    "\n",
    "The **68-95-997** rule:\n",
    "![](https://miro.medium.com/max/24000/1*IZ2II2HYKeoMrdLU5jW6Dw.png)"
   ]
  },
  {
   "cell_type": "code",
   "execution_count": null,
   "metadata": {},
   "outputs": [],
   "source": [
    "def find_anomalies(data):\n",
    "    #define a list to accumlate anomalies\n",
    "    anomalies = []\n",
    "    \n",
    "    # Set upper and lower limit to 3 standard deviation\n",
    "    data_std = np.std(data)\n",
    "    data_mean = np.mean(data)\n",
    "    anomaly_cut_off = data_std * 3\n",
    "    \n",
    "    lower_limit  = data_mean - anomaly_cut_off \n",
    "    upper_limit = data_mean + anomaly_cut_off\n",
    "    # Generate outliers\n",
    "    for outlier in data:\n",
    "        if outlier > upper_limit or outlier < lower_limit:\n",
    "            anomalies.append(outlier)\n",
    "    return anomalies\n",
    "\n",
    "# test the function\n",
    "demodata = np.random.randn(50000)  * 20 + 20\n",
    "anomalies = find_anomalies(demodata)"
   ]
  },
  {
   "cell_type": "code",
   "execution_count": null,
   "metadata": {},
   "outputs": [],
   "source": [
    "plt.plot(anomalies,'o',label='\"outliers\"')\n",
    "plt.legend()\n",
    "plt.show()"
   ]
  },
  {
   "cell_type": "code",
   "execution_count": null,
   "metadata": {},
   "outputs": [],
   "source": [
    "find_anomalies(y2)"
   ]
  },
  {
   "cell_type": "markdown",
   "metadata": {},
   "source": [
    "### Boxplot\n",
    "![](https://miro.medium.com/max/18000/1*2c21SkzJMf3frPXPAR_gZA.png)\n",
    "More on `boxplot`: https://pythonbasics.org/seaborn-boxplot/\n",
    "\n",
    "`IQR`: Interquartile Range\n",
    "* A given dataset is divided into four defined intervals via 3 data points (`Q1`,`Q2`,`Q3`) based upon the values of the data and how they compare to the entire dataset\n",
    "* `Q1`: 25% percentile\n",
    "* `Q2`: 50% percentile, or the median\n",
    "* `Q3`: 75% percentile\n"
   ]
  },
  {
   "cell_type": "code",
   "execution_count": null,
   "metadata": {},
   "outputs": [],
   "source": [
    "sns.boxplot(data=y2)\n",
    "plt.show()"
   ]
  },
  {
   "cell_type": "code",
   "execution_count": null,
   "metadata": {},
   "outputs": [],
   "source": [
    "np.percentile(a = y2, q = [25,50,75])"
   ]
  },
  {
   "cell_type": "markdown",
   "metadata": {},
   "source": [
    "More on outlier detection: https://towardsdatascience.com/5-ways-to-detect-outliers-that-every-data-scientist-should-know-python-code-70a54335a623"
   ]
  },
  {
   "cell_type": "code",
   "execution_count": null,
   "metadata": {},
   "outputs": [],
   "source": []
  },
  {
   "cell_type": "code",
   "execution_count": null,
   "metadata": {},
   "outputs": [],
   "source": []
  },
  {
   "cell_type": "markdown",
   "metadata": {},
   "source": [
    "# The Python Visualization Landscape"
   ]
  },
  {
   "cell_type": "markdown",
   "metadata": {},
   "source": [
    "\n",
    "`Visualization` is one of the most important tasks in data analysis. In data exploration stage, you could use visualization to identify outliers and some general patterns exist in the data. In modeling stage, you could use visualization to monitor the performance of your model. In reporting stage, you could use visualization to better illustrate the business insight you want to deliver to the audience. There are a couple of commonly used Python libraries that could help with these use cases:\n",
    "\n",
    "**Matplotlib**<br/>\n",
    "`matplotlib` is a comprehensive library for creating static, animated, and interactive visualizations in Python. It is the most popular plotting library in Python, which gives users different levels of control over every aspect of a figure.\n",
    "\n",
    "**Seaborn**<br/>\n",
    "`seaborn` provides a high-level interface for drawing attractive and informative statistical graphics. It builds on top of matplotlib and integrates closely with pandas data structures.\n",
    "\n",
    "**Plotly**<br/>\n",
    "`plotly` is an open source library enables users to create beautiful interactive web-based visualizations that can be displayed in Jupyter notebooks, saved to standalone HTML files, or served as part of pure Python-built web application using `Dash`\n",
    "\n",
    "**Bokeh**<br/>\n",
    "Bokeh is an interactive visualization library for modern web browsers. It provides elegant, concise construction of versatile graphics, and affords high-performance interactivity over large or streaming datasets. Bokeh can help anyone who would like to quickly and easily make interactive plots, dashboards, and data applications."
   ]
  },
  {
   "cell_type": "code",
   "execution_count": null,
   "metadata": {},
   "outputs": [],
   "source": []
  },
  {
   "cell_type": "markdown",
   "metadata": {},
   "source": [
    "# Visualization with `matplotlib`\n",
    "\n",
    "* Comes with the `Anaconda` installation\n",
    "* If you don't have it on your computer, you could install it with pip or conda at the command line or terminal with\n",
    "`pip install matplotlib` or `conda install matplotlib`\n",
    "* `matplotlib` breaks a plot/graph into different components. With the library, you can add/delete/edit these components one by one based on detailed use cases.\n",
    "* With `matplotlib`, you could create reproducible figures in a programmatic way."
   ]
  },
  {
   "cell_type": "markdown",
   "metadata": {},
   "source": [
    "![](https://matplotlib.org/_images/anatomy1.png)"
   ]
  },
  {
   "cell_type": "markdown",
   "metadata": {},
   "source": [
    "## Import the core library"
   ]
  },
  {
   "cell_type": "code",
   "execution_count": null,
   "metadata": {},
   "outputs": [],
   "source": [
    "import matplotlib.pyplot as plt"
   ]
  },
  {
   "cell_type": "markdown",
   "metadata": {},
   "source": [
    "**`matplotlib` provides two types of methods for you to contruct plots**\n",
    "* `Function based methods`: It is a Matlab style plotting functions. The coding is very concise, and you can control the plot from a few high level settings.\n",
    "* `Object-oriented methods`: It is a method that needs you to create figure objects, and all the plot control statements come from the methods or attributes associated with the figure object. The coding is a little bit more complicated, but you have a finer control on the figure components."
   ]
  },
  {
   "cell_type": "markdown",
   "metadata": {},
   "source": [
    "## Function Based Methods"
   ]
  },
  {
   "cell_type": "markdown",
   "metadata": {},
   "source": [
    "### A simple X-Y plot"
   ]
  },
  {
   "cell_type": "code",
   "execution_count": null,
   "metadata": {},
   "outputs": [],
   "source": [
    "import numpy as np\n",
    "x = np.linspace(0,5,10)\n",
    "y = x ** 2"
   ]
  },
  {
   "cell_type": "code",
   "execution_count": null,
   "metadata": {
    "scrolled": false
   },
   "outputs": [],
   "source": [
    "plt.plot(x,y,'ro')\n",
    "# plt.plot(x,y)\n",
    "plt.show()"
   ]
  },
  {
   "cell_type": "code",
   "execution_count": null,
   "metadata": {
    "scrolled": false
   },
   "outputs": [],
   "source": [
    "plt.plot(x,y,'ro-')\n",
    "plt.show()"
   ]
  },
  {
   "cell_type": "markdown",
   "metadata": {},
   "source": [
    "The format string typically is constructed by 3 components\n",
    "```python\n",
    "fmt = '[marker][line][color]'\n",
    "```\n",
    "* Check https://matplotlib.org/3.3.2/api/_as_gen/matplotlib.pyplot.plot.html for more details on format strings"
   ]
  },
  {
   "cell_type": "code",
   "execution_count": null,
   "metadata": {},
   "outputs": [],
   "source": [
    "## add titles and x-y axis labels\n",
    "\n",
    "plt.plot(x,y,'ro-')\n",
    "plt.title('This is a test plot')\n",
    "plt.xlabel('X label')\n",
    "plt.ylabel('Y label')\n",
    "plt.show()"
   ]
  },
  {
   "cell_type": "markdown",
   "metadata": {},
   "source": [
    "### Multiple curves on the same plot"
   ]
  },
  {
   "cell_type": "code",
   "execution_count": null,
   "metadata": {},
   "outputs": [],
   "source": [
    "plt.plot(x,y,'ro-')\n",
    "plt.plot(x,x**3,'g:')\n",
    "plt.title('This is a test plot')\n",
    "plt.xlabel('X label')\n",
    "plt.ylabel('Y label')\n",
    "plt.show()"
   ]
  },
  {
   "cell_type": "code",
   "execution_count": null,
   "metadata": {},
   "outputs": [],
   "source": [
    "plt.plot(x,y)\n",
    "plt.plot(x,x**3)\n",
    "plt.title('This is a test plot')\n",
    "plt.xlabel('X label')\n",
    "plt.ylabel('Y label')\n",
    "plt.show()"
   ]
  },
  {
   "cell_type": "code",
   "execution_count": null,
   "metadata": {},
   "outputs": [],
   "source": [
    "plt.plot(x,y,'ro-', label='curve I')\n",
    "plt.plot(x,x**3,'g:', label='curve II')\n",
    "plt.title('This is a test plot')\n",
    "plt.xlabel('X label')\n",
    "plt.ylabel('Y label')\n",
    "plt.legend()\n",
    "plt.show()"
   ]
  },
  {
   "cell_type": "markdown",
   "metadata": {},
   "source": [
    "### Multiple plots on the same canvas"
   ]
  },
  {
   "cell_type": "code",
   "execution_count": null,
   "metadata": {},
   "outputs": [],
   "source": [
    "# plt.subplot(nrows, ncols, plot_number)\n",
    "plt.subplot(1,2,1)\n",
    "plt.plot(x, y, 'r--')\n",
    "plt.subplot(1,2,2)\n",
    "plt.plot(x, x, 'g*-')\n",
    "plt.show()"
   ]
  },
  {
   "cell_type": "code",
   "execution_count": null,
   "metadata": {},
   "outputs": [],
   "source": [
    "## add titles axis labels\n",
    "plt.subplot(1,2,1)\n",
    "plt.plot(x, y, 'r--')\n",
    "plt.title('plot I')\n",
    "plt.subplot(1,2,2)\n",
    "plt.plot(x, x, 'g*-')\n",
    "plt.title('plot II')\n",
    "plt.show()"
   ]
  },
  {
   "cell_type": "markdown",
   "metadata": {},
   "source": [
    "## Object-Oriented Methods"
   ]
  },
  {
   "cell_type": "markdown",
   "metadata": {},
   "source": [
    "### A simple X-Y plot"
   ]
  },
  {
   "cell_type": "code",
   "execution_count": null,
   "metadata": {},
   "outputs": [],
   "source": [
    "fig = plt.figure()\n",
    "\n",
    "# Specify the dimensions [left, bottom, width, height] of the new axes\n",
    "axes = fig.add_axes([0.1,0.1,0.8,0.8])\n",
    "\n",
    "plt.show()"
   ]
  },
  {
   "cell_type": "code",
   "execution_count": null,
   "metadata": {},
   "outputs": [],
   "source": [
    "fig = plt.figure()\n",
    "\n",
    "# Specify the dimensions [left, bottom, width, height] of the new axes\n",
    "axes = fig.add_axes([0,0,1,1])\n",
    "\n",
    "plt.show()"
   ]
  },
  {
   "cell_type": "code",
   "execution_count": null,
   "metadata": {},
   "outputs": [],
   "source": [
    "fig = plt.figure()\n",
    "\n",
    "# Specify the dimensions [left, bottom, width, height] of the new axes\n",
    "axes = fig.add_axes([0.1,0.1,0.8,0.8])\n",
    "\n",
    "axes.plot(x, y, 'ro-')\n",
    "axes.set_xlabel('X label')\n",
    "axes.set_ylabel('Y label')\n",
    "axes.set_title('This is another test')\n",
    "\n",
    "plt.show()"
   ]
  },
  {
   "cell_type": "code",
   "execution_count": null,
   "metadata": {},
   "outputs": [],
   "source": [
    "fig = plt.figure()\n",
    "\n",
    "axes1 = fig.add_axes([0.1,0.1,0.8,0.8])\n",
    "axes2 = fig.add_axes([0.2,0.5,0.5,0.3])\n",
    "\n",
    "plt.show()"
   ]
  },
  {
   "cell_type": "code",
   "execution_count": null,
   "metadata": {},
   "outputs": [],
   "source": [
    "fig = plt.figure()\n",
    "\n",
    "axes1 = fig.add_axes([0.1,0.1,0.8,0.8])\n",
    "axes2 = fig.add_axes([0.2,0.5,0.5,0.3])\n",
    "\n",
    "axes1.plot(x,y)\n",
    "axes1.set_xlabel('X1 label')\n",
    "axes1.set_ylabel('Y1 label')\n",
    "axes1.set_title('Axes1 title')\n",
    "\n",
    "axes2.plot(x,y)\n",
    "axes2.set_xlabel('X2 label')\n",
    "axes2.set_ylabel('Y2 label')\n",
    "axes2.set_title('Axes2 title')\n",
    "\n",
    "plt.show()"
   ]
  },
  {
   "cell_type": "markdown",
   "metadata": {},
   "source": [
    "### Multiple curves on the same plot"
   ]
  },
  {
   "cell_type": "code",
   "execution_count": null,
   "metadata": {},
   "outputs": [],
   "source": [
    "fig = plt.figure()\n",
    "\n",
    "# Specify the dimensions [left, bottom, width, height] of the new axes\n",
    "axes = fig.add_axes([0,0,1,1])\n",
    "\n",
    "axes.plot(x, y, 'ro-')\n",
    "axes.plot(x, x**3)\n",
    "axes.set_xlabel('X label')\n",
    "axes.set_ylabel('Y label')\n",
    "axes.set_title('This is another test')\n",
    "\n",
    "plt.show()"
   ]
  },
  {
   "cell_type": "code",
   "execution_count": null,
   "metadata": {},
   "outputs": [],
   "source": []
  },
  {
   "cell_type": "markdown",
   "metadata": {},
   "source": [
    "### Multiple plots on the same canvas"
   ]
  },
  {
   "cell_type": "code",
   "execution_count": null,
   "metadata": {},
   "outputs": [],
   "source": [
    "## revisit the simple X-Y plot\n",
    "\n",
    "fig, axes = plt.subplots()\n",
    "\n",
    "axes.plot(x,y)\n",
    "axes.set_xlabel('X label')\n",
    "axes.set_ylabel('Y label')\n",
    "axes.set_title('This is another test')\n",
    "\n",
    "plt.show()"
   ]
  },
  {
   "cell_type": "code",
   "execution_count": null,
   "metadata": {},
   "outputs": [],
   "source": [
    "fig, axes = plt.subplots(nrows=1, ncols=2)\n",
    "# axes"
   ]
  },
  {
   "cell_type": "code",
   "execution_count": null,
   "metadata": {},
   "outputs": [],
   "source": [
    "fig, axes = plt.subplots(nrows=1, ncols=2)\n",
    "\n",
    "# for ax in axes:\n",
    "# for ax in axes:\n",
    "for idx,ax in enumerate(axes):\n",
    "    ax.plot(x,y)\n",
    "    ax.set_xlabel('X label')\n",
    "    ax.set_ylabel('Y label')\n",
    "    ax.set_title('plot {}'.format(idx+1))    \n",
    "plt.show()"
   ]
  },
  {
   "cell_type": "code",
   "execution_count": null,
   "metadata": {
    "scrolled": true
   },
   "outputs": [],
   "source": [
    "fig, axes = plt.subplots(nrows=1, ncols=2)\n",
    "\n",
    "# for ax in axes:\n",
    "for idx,ax in enumerate(axes):\n",
    "    ax.plot(x,y)\n",
    "    ax.set_xlabel('X label')\n",
    "    ax.set_ylabel('Y label')\n",
    "    ax.set_title('plot {}'.format(idx+1))    \n",
    "\n",
    "plt.tight_layout()\n",
    "plt.show()"
   ]
  },
  {
   "cell_type": "markdown",
   "metadata": {},
   "source": [
    "## Save figures"
   ]
  },
  {
   "cell_type": "code",
   "execution_count": null,
   "metadata": {},
   "outputs": [],
   "source": [
    "fig.savefig('test1.png') # Supports format of PNG, JPG, EPS, SVG, PGF and PDF"
   ]
  },
  {
   "cell_type": "code",
   "execution_count": null,
   "metadata": {},
   "outputs": [],
   "source": [
    "fig.savefig('test.png',dpi=1000) # dpi: resolution in dots per inch"
   ]
  },
  {
   "cell_type": "markdown",
   "metadata": {},
   "source": [
    "## Different types of plots"
   ]
  },
  {
   "cell_type": "markdown",
   "metadata": {},
   "source": [
    "### Scatter plot"
   ]
  },
  {
   "cell_type": "code",
   "execution_count": null,
   "metadata": {},
   "outputs": [],
   "source": [
    "plt.scatter(x,y)\n",
    "plt.show()"
   ]
  },
  {
   "cell_type": "code",
   "execution_count": null,
   "metadata": {},
   "outputs": [],
   "source": [
    "## a fancier scatter plot\n",
    "\n",
    "data = {'a': np.arange(50),\n",
    "        'c': np.random.randint(0, 50, 50),\n",
    "        'd': np.random.randn(50)}\n",
    "data['b'] = data['a'] + 10 * np.random.randn(50)\n",
    "data['d'] = np.abs(data['d']) * 100\n",
    "\n",
    "plt.scatter('a', 'b', c='c', s='d', data=data)\n",
    "plt.xlabel('entry a')\n",
    "plt.ylabel('entry b')\n",
    "plt.show()"
   ]
  },
  {
   "cell_type": "markdown",
   "metadata": {},
   "source": [
    "### Bar chart"
   ]
  },
  {
   "cell_type": "code",
   "execution_count": null,
   "metadata": {},
   "outputs": [],
   "source": [
    "names = ['group_a', 'group_b', 'group_c']\n",
    "values = [1, 10, 100]\n",
    "\n",
    "plt.figure()\n",
    "plt.bar(names, values)\n",
    "\n",
    "plt.show()"
   ]
  },
  {
   "cell_type": "code",
   "execution_count": null,
   "metadata": {},
   "outputs": [],
   "source": [
    "names = ['group_a', 'group_b', 'group_c']\n",
    "values = [1, 10, 100]\n",
    "\n",
    "fig,axes = plt.subplots()\n",
    "axes.bar(names, values)\n",
    "\n",
    "plt.show()\n"
   ]
  },
  {
   "cell_type": "code",
   "execution_count": null,
   "metadata": {},
   "outputs": [],
   "source": [
    "fig,axes = plt.subplots(1,2)\n",
    "\n",
    "axes[0].bar(names, values)\n",
    "axes[1].step(names, values)\n",
    "\n",
    "plt.show()\n"
   ]
  },
  {
   "cell_type": "code",
   "execution_count": null,
   "metadata": {},
   "outputs": [],
   "source": [
    "## different representations\n",
    "\n",
    "names = ['group_a', 'group_b', 'group_c']\n",
    "values = [1, 10, 100]\n",
    "\n",
    "plt.figure(figsize=(9, 3))\n",
    "\n",
    "plt.subplot(131)\n",
    "plt.bar(names, values)\n",
    "plt.subplot(132)\n",
    "plt.scatter(names, values)\n",
    "plt.subplot(133)\n",
    "plt.plot(names, values)\n",
    "plt.tight_layout()\n",
    "plt.show()"
   ]
  },
  {
   "cell_type": "markdown",
   "metadata": {},
   "source": [
    "### Histogram"
   ]
  },
  {
   "cell_type": "code",
   "execution_count": null,
   "metadata": {},
   "outputs": [],
   "source": [
    "data = np.random.randn(1000)\n",
    "plt.hist(data)\n",
    "plt.show()"
   ]
  },
  {
   "cell_type": "code",
   "execution_count": null,
   "metadata": {},
   "outputs": [],
   "source": [
    "plt.hist(data, bins=100)\n",
    "plt.show()"
   ]
  },
  {
   "cell_type": "code",
   "execution_count": null,
   "metadata": {},
   "outputs": [],
   "source": [
    "data = np.random.randn(1000)\n",
    "plt.hist(data, bins=100, density=True)\n",
    "plt.show()"
   ]
  },
  {
   "cell_type": "markdown",
   "metadata": {},
   "source": [
    "### Box plot"
   ]
  },
  {
   "cell_type": "code",
   "execution_count": null,
   "metadata": {},
   "outputs": [],
   "source": [
    "data.shape"
   ]
  },
  {
   "cell_type": "code",
   "execution_count": null,
   "metadata": {},
   "outputs": [],
   "source": [
    "plt.boxplot(data, vert=True, patch_artist=True)\n",
    "plt.show()"
   ]
  },
  {
   "cell_type": "code",
   "execution_count": null,
   "metadata": {},
   "outputs": [],
   "source": [
    "data = [\n",
    "    np.random.randn(1000),\n",
    "    np.random.randn(1000)*5 + 2,\n",
    "    np.random.randn(1000)*2 - 2\n",
    "]\n",
    "\n",
    "plt.boxplot(data,vert=True)\n",
    "plt.show()"
   ]
  },
  {
   "cell_type": "markdown",
   "metadata": {},
   "source": [
    "### Color fill"
   ]
  },
  {
   "cell_type": "code",
   "execution_count": null,
   "metadata": {},
   "outputs": [],
   "source": [
    "fig,axes = plt.subplots()\n",
    "axes.fill_between(x, x**2, x**3, color=\"green\")\n",
    "\n",
    "plt.show()\n"
   ]
  },
  {
   "cell_type": "code",
   "execution_count": null,
   "metadata": {},
   "outputs": [],
   "source": []
  },
  {
   "cell_type": "markdown",
   "metadata": {},
   "source": [
    "## Figure paramter tuning"
   ]
  },
  {
   "cell_type": "markdown",
   "metadata": {},
   "source": [
    "### Plot range"
   ]
  },
  {
   "cell_type": "code",
   "execution_count": null,
   "metadata": {},
   "outputs": [],
   "source": [
    "## revisit the simple X-Y plot\n",
    "\n",
    "fig, axes = plt.subplots()\n",
    "\n",
    "axes.plot(x,y)\n",
    "axes.set_xlabel('X label')\n",
    "axes.set_ylabel('Y label')\n",
    "axes.set_title('This is another test')\n",
    "axes.set_xlim(0,3)\n",
    "axes.set_ylim(0,10)\n",
    "\n",
    "plt.show()"
   ]
  },
  {
   "cell_type": "markdown",
   "metadata": {},
   "source": [
    "### Legend"
   ]
  },
  {
   "cell_type": "code",
   "execution_count": null,
   "metadata": {},
   "outputs": [],
   "source": [
    "## plot multiple lines in one graph\n",
    "\n",
    "fig, axes = plt.subplots()\n",
    "\n",
    "axes.plot(x,y,label='$x^2$')\n",
    "axes.plot(x, x**3, label='$x^3$')\n",
    "\n",
    "axes.set_xlabel('X label')\n",
    "axes.set_ylabel('Y label')\n",
    "axes.set_title('This is another test')\n",
    "axes.set_xlim(0,3)\n",
    "axes.set_ylim(0,10)\n",
    "\n",
    "axes.legend()\n",
    "plt.show()"
   ]
  },
  {
   "cell_type": "markdown",
   "metadata": {},
   "source": [
    "You can customize the position of the legend box\n",
    "\n",
    "```sh\n",
    "        ===============   =============\n",
    "        Location String   Location Code\n",
    "        ===============   =============\n",
    "        'best'            0\n",
    "        'upper right'     1\n",
    "        'upper left'      2\n",
    "        'lower left'      3\n",
    "        'lower right'     4\n",
    "        'right'           5\n",
    "        'center left'     6\n",
    "        'center right'    7\n",
    "        'lower center'    8\n",
    "        'upper center'    9\n",
    "        'center'          10\n",
    "        ===============   =============\n",
    "```"
   ]
  },
  {
   "cell_type": "code",
   "execution_count": null,
   "metadata": {},
   "outputs": [],
   "source": [
    "fig, axes = plt.subplots()\n",
    "\n",
    "axes.plot(x,y,label='$x^2$')\n",
    "axes.plot(x, x**3, label='$x^3$')\n",
    "\n",
    "axes.set_xlabel('X label')\n",
    "axes.set_ylabel('Y label')\n",
    "axes.set_title('This is another test')\n",
    "axes.set_xlim(0,3)\n",
    "axes.set_ylim(0,10)\n",
    "\n",
    "axes.legend(loc=1) # customize the position\n",
    "plt.show()"
   ]
  },
  {
   "cell_type": "code",
   "execution_count": null,
   "metadata": {},
   "outputs": [],
   "source": []
  },
  {
   "cell_type": "markdown",
   "metadata": {},
   "source": [
    "### Text"
   ]
  },
  {
   "cell_type": "code",
   "execution_count": null,
   "metadata": {},
   "outputs": [],
   "source": [
    "## add a text annotation at a specific position in the graph\n",
    "fig,ax = plt.subplots()\n",
    "\n",
    "t = np.arange(0.0, 5.0, 0.01)\n",
    "s = np.cos(2*np.pi*t)\n",
    "line, = plt.plot(t, s, lw=2)\n",
    "\n",
    "plt.annotate('local max', xy=(2, 1), xytext=(3, 1.5),\n",
    "             arrowprops=dict(facecolor='black', shrink=0.05),\n",
    "             )\n",
    "\n",
    "plt.ylim(-2, 2)\n",
    "plt.show()"
   ]
  },
  {
   "cell_type": "code",
   "execution_count": null,
   "metadata": {},
   "outputs": [],
   "source": [
    "mu, sigma = 100, 15\n",
    "x = mu + sigma * np.random.randn(10000)\n",
    "\n",
    "# the histogram of the data\n",
    "n, bins, patches = plt.hist(x, 50, density=1, facecolor='g', alpha=0.75)\n",
    "\n",
    "\n",
    "plt.xlabel('Smarts')\n",
    "plt.ylabel('Probability')\n",
    "plt.title('Histogram of IQ')\n",
    "plt.text(60, .025, r'$\\mu=100,\\ \\sigma=15$')\n",
    "plt.axis([40, 160, 0, 0.03])\n",
    "plt.grid(True)\n",
    "plt.show()"
   ]
  },
  {
   "cell_type": "markdown",
   "metadata": {},
   "source": [
    "### Line colors, width, styles\n",
    "* For detailed parameter settings, check https://matplotlib.org/api/_as_gen/matplotlib.axes.Axes.plot.html"
   ]
  },
  {
   "cell_type": "code",
   "execution_count": null,
   "metadata": {},
   "outputs": [],
   "source": [
    "fig, ax = plt.subplots()\n",
    "\n",
    "x = np.linspace(0,5,20)\n",
    "ax.plot(x, x+1, color='b')\n",
    "ax.plot(x, x+2, color='g')\n",
    "ax.plot(x, x+3, color='r')\n",
    "\n",
    "plt.show()"
   ]
  },
  {
   "cell_type": "code",
   "execution_count": null,
   "metadata": {},
   "outputs": [],
   "source": [
    "fig, ax = plt.subplots(figsize=(12,6))\n",
    "\n",
    "ax.plot(x, x+1, color='r', linewidth=0.25)\n",
    "ax.plot(x, x+2, color='r', linewidth=0.50)\n",
    "ax.plot(x, x+3, color='r', linewidth=1.00)\n",
    "ax.plot(x, x+4, color='r', linewidth=2.00)\n",
    "\n",
    "plt.show()"
   ]
  },
  {
   "cell_type": "code",
   "execution_count": null,
   "metadata": {},
   "outputs": [],
   "source": [
    "fig, ax = plt.subplots(figsize=(12,6))\n",
    "\n",
    "ax.plot(x, x+1, color='r', linewidth=0.25)\n",
    "ax.plot(x, x+2, color='r', linewidth=0.50)\n",
    "ax.plot(x, x+3, color='r', linewidth=1.00)\n",
    "ax.plot(x, x+4, color='r', linewidth=2.00)\n",
    "\n",
    "ax.plot(x, x+5, color=\"green\", lw=3, linestyle='-')\n",
    "ax.plot(x, x+6, color=\"green\", lw=3, ls='-.')\n",
    "ax.plot(x, x+7, color=\"green\", lw=3, ls=':')\n",
    "\n",
    "plt.show()"
   ]
  },
  {
   "cell_type": "code",
   "execution_count": null,
   "metadata": {},
   "outputs": [],
   "source": [
    "fig, ax = plt.subplots(figsize=(12,6))\n",
    "\n",
    "ax.plot(x, x+1, color='r', linewidth=0.25)\n",
    "ax.plot(x, x+2, color='r', linewidth=0.50)\n",
    "ax.plot(x, x+3, color='r', linewidth=1.00)\n",
    "ax.plot(x, x+4, color='r', linewidth=2.00)\n",
    "\n",
    "ax.plot(x, x+5, color=\"green\", lw=3, linestyle='-')\n",
    "ax.plot(x, x+6, color=\"green\", lw=3, ls='-.')\n",
    "ax.plot(x, x+7, color=\"green\", lw=3, ls=':')\n",
    "\n",
    "ax.plot(x, x+ 8, color=\"blue\", lw=3, ls='-', marker='+')\n",
    "ax.plot(x, x+ 9, color=\"blue\", lw=3, ls='--', marker='o')\n",
    "ax.plot(x, x+10, color=\"blue\", lw=3, ls='-', marker='s')\n",
    "\n",
    "plt.show()"
   ]
  },
  {
   "cell_type": "code",
   "execution_count": null,
   "metadata": {},
   "outputs": [],
   "source": [
    "fig, ax = plt.subplots(figsize=(12,6))\n",
    "\n",
    "ax.plot(x, x+1, color='r', linewidth=0.25)\n",
    "ax.plot(x, x+2, color='r', linewidth=0.50)\n",
    "ax.plot(x, x+3, color='r', linewidth=1.00)\n",
    "ax.plot(x, x+4, color='r', linewidth=2.00)\n",
    "\n",
    "ax.plot(x, x+5, color=\"green\", lw=3, linestyle='-')\n",
    "ax.plot(x, x+6, color=\"green\", lw=3, ls='-.')\n",
    "ax.plot(x, x+7, color=\"green\", lw=3, ls=':')\n",
    "\n",
    "ax.plot(x, x+ 8, color=\"blue\", lw=3, ls='-', marker='+')\n",
    "ax.plot(x, x+ 9, color=\"blue\", lw=3, ls='--', marker='o')\n",
    "ax.plot(x, x+10, color=\"blue\", lw=3, ls='-', marker='s')\n",
    "\n",
    "ax.plot(x, x+11, color=\"purple\", lw=1, ls='-', marker='o', markersize=2)\n",
    "ax.plot(x, x+12, color=\"purple\", lw=1, ls='-', marker='o', markersize=4)\n",
    "ax.plot(x, x+13, color=\"purple\", lw=1, ls='-', marker='o', markersize=8, markerfacecolor=\"red\")\n",
    "ax.plot(x, x+14, color=\"purple\", lw=1, ls='-', marker='s', markersize=8, \n",
    "        markerfacecolor=\"yellow\", markeredgewidth=3, markeredgecolor=\"green\");\n",
    "\n",
    "plt.show()"
   ]
  },
  {
   "cell_type": "code",
   "execution_count": null,
   "metadata": {},
   "outputs": [],
   "source": []
  },
  {
   "cell_type": "markdown",
   "metadata": {},
   "source": [
    "# Visualization with `seaborn`"
   ]
  },
  {
   "cell_type": "markdown",
   "metadata": {},
   "source": [
    "## Import the core library"
   ]
  },
  {
   "cell_type": "code",
   "execution_count": null,
   "metadata": {},
   "outputs": [],
   "source": [
    "import seaborn as sns"
   ]
  },
  {
   "cell_type": "markdown",
   "metadata": {},
   "source": [
    "## Distribution of Data"
   ]
  },
  {
   "cell_type": "markdown",
   "metadata": {},
   "source": [
    "* All about penguins: [[link](https://seaworld.org/animals/all-about/penguins/physical-characteristics/#:~:text=Flippers,modified%20into%20paddle%2Dlike%20flippers.&text=Each%20flipper%20is%20covered%20with,tapered%2C%20flattened%20flippers%20for%20swimming.)]"
   ]
  },
  {
   "cell_type": "code",
   "execution_count": null,
   "metadata": {},
   "outputs": [],
   "source": [
    "penguins = sns.load_dataset(\"penguins\")\n",
    "penguins.head(3)"
   ]
  },
  {
   "cell_type": "code",
   "execution_count": null,
   "metadata": {},
   "outputs": [],
   "source": [
    "type(penguins)"
   ]
  },
  {
   "cell_type": "code",
   "execution_count": null,
   "metadata": {},
   "outputs": [],
   "source": [
    "penguins.shape"
   ]
  },
  {
   "cell_type": "code",
   "execution_count": null,
   "metadata": {},
   "outputs": [],
   "source": [
    "penguins.island.unique()"
   ]
  },
  {
   "cell_type": "code",
   "execution_count": null,
   "metadata": {},
   "outputs": [],
   "source": [
    "penguins.species.unique()"
   ]
  },
  {
   "cell_type": "markdown",
   "metadata": {},
   "source": [
    "### Single variable distribution"
   ]
  },
  {
   "cell_type": "code",
   "execution_count": null,
   "metadata": {},
   "outputs": [],
   "source": [
    "sns.distplot(penguins.flipper_length_mm)"
   ]
  },
  {
   "cell_type": "code",
   "execution_count": null,
   "metadata": {},
   "outputs": [],
   "source": [
    "sns.distplot(penguins.flipper_length_mm, kde=False, bins=30)"
   ]
  },
  {
   "cell_type": "markdown",
   "metadata": {},
   "source": [
    "### Multi-variable joint distribution"
   ]
  },
  {
   "cell_type": "code",
   "execution_count": null,
   "metadata": {},
   "outputs": [],
   "source": [
    "sns.jointplot(x='flipper_length_mm',y='body_mass_g',data=penguins,kind='scatter')"
   ]
  },
  {
   "cell_type": "code",
   "execution_count": null,
   "metadata": {},
   "outputs": [],
   "source": [
    "sns.jointplot(x='flipper_length_mm',y='body_mass_g',data=penguins,kind='hex')"
   ]
  },
  {
   "cell_type": "code",
   "execution_count": null,
   "metadata": {},
   "outputs": [],
   "source": [
    "sns.jointplot(x='flipper_length_mm',y='body_mass_g',data=penguins,kind='reg')"
   ]
  },
  {
   "cell_type": "code",
   "execution_count": null,
   "metadata": {},
   "outputs": [],
   "source": [
    "sns.jointplot(x='flipper_length_mm',y='body_mass_g',data=penguins,hue='sex')"
   ]
  },
  {
   "cell_type": "markdown",
   "metadata": {},
   "source": [
    "### Pair Plot"
   ]
  },
  {
   "cell_type": "code",
   "execution_count": null,
   "metadata": {},
   "outputs": [],
   "source": [
    "sns.pairplot(penguins, hue='sex')\n",
    "# sns.pairplot(penguins)"
   ]
  },
  {
   "cell_type": "code",
   "execution_count": null,
   "metadata": {},
   "outputs": [],
   "source": [
    "sns.pairplot(penguins, hue='sex')"
   ]
  },
  {
   "cell_type": "code",
   "execution_count": null,
   "metadata": {},
   "outputs": [],
   "source": [
    "sns.pairplot(penguins, hue='sex',palette='rainbow')"
   ]
  },
  {
   "cell_type": "markdown",
   "metadata": {},
   "source": [
    "### barplot and countplot"
   ]
  },
  {
   "cell_type": "markdown",
   "metadata": {},
   "source": [
    "* `Barplot` shows point estimates and confidence intervals as rectangular bars. By default, it displays the mean value. You could also pass in a customized function\n",
    "* Reference: https://seaborn.pydata.org/generated/seaborn.barplot.html"
   ]
  },
  {
   "cell_type": "code",
   "execution_count": null,
   "metadata": {},
   "outputs": [],
   "source": [
    "sns.barplot(x='species',y='bill_length_mm',data=penguins) # by default it displays the mean values"
   ]
  },
  {
   "cell_type": "code",
   "execution_count": null,
   "metadata": {},
   "outputs": [],
   "source": [
    "sns.barplot(x='species',y='bill_length_mm',data=penguins,estimator=np.std)"
   ]
  },
  {
   "cell_type": "code",
   "execution_count": null,
   "metadata": {},
   "outputs": [],
   "source": [
    "sns.barplot(x='species',y='bill_length_mm',data=penguins,hue='sex')"
   ]
  },
  {
   "cell_type": "markdown",
   "metadata": {},
   "source": [
    "* `Countplot` shows the counts of observations in each categorical bin using bars."
   ]
  },
  {
   "cell_type": "code",
   "execution_count": null,
   "metadata": {},
   "outputs": [],
   "source": [
    "sns.countplot(x='island',data=penguins)"
   ]
  },
  {
   "cell_type": "markdown",
   "metadata": {},
   "source": [
    "### Boxplot/Violionplot/Stripplot"
   ]
  },
  {
   "cell_type": "code",
   "execution_count": null,
   "metadata": {},
   "outputs": [],
   "source": [
    "sns.boxplot(x='species',y='flipper_length_mm',data=penguins,hue='island')"
   ]
  },
  {
   "cell_type": "code",
   "execution_count": null,
   "metadata": {},
   "outputs": [],
   "source": [
    "sns.boxplot(y='species',x='flipper_length_mm',data=penguins,hue='island',orient='h')"
   ]
  },
  {
   "cell_type": "code",
   "execution_count": null,
   "metadata": {},
   "outputs": [],
   "source": [
    "sns.violinplot(x='species',y='flipper_length_mm',data=penguins,hue='island')"
   ]
  },
  {
   "cell_type": "code",
   "execution_count": null,
   "metadata": {},
   "outputs": [],
   "source": [
    "sns.stripplot(x='species',y='flipper_length_mm',data=penguins,hue='island')"
   ]
  },
  {
   "cell_type": "code",
   "execution_count": null,
   "metadata": {},
   "outputs": [],
   "source": [
    "# a more general format"
   ]
  },
  {
   "cell_type": "code",
   "execution_count": null,
   "metadata": {},
   "outputs": [],
   "source": [
    "sns.catplot(x='species',y='flipper_length_mm',data=penguins,hue='island',kind='box')"
   ]
  },
  {
   "cell_type": "markdown",
   "metadata": {},
   "source": [
    "## Heatmap"
   ]
  },
  {
   "cell_type": "code",
   "execution_count": null,
   "metadata": {},
   "outputs": [],
   "source": [
    "sns.heatmap(penguins.corr(),cmap='coolwarm')"
   ]
  },
  {
   "cell_type": "code",
   "execution_count": null,
   "metadata": {},
   "outputs": [],
   "source": [
    "penguins.dtypes"
   ]
  },
  {
   "cell_type": "markdown",
   "metadata": {},
   "source": [
    "## Grids"
   ]
  },
  {
   "cell_type": "code",
   "execution_count": null,
   "metadata": {},
   "outputs": [],
   "source": [
    "sns.PairGrid(penguins)"
   ]
  },
  {
   "cell_type": "code",
   "execution_count": null,
   "metadata": {},
   "outputs": [],
   "source": [
    "g = sns.PairGrid(penguins)\n",
    "g.map(plt.scatter)"
   ]
  },
  {
   "cell_type": "code",
   "execution_count": null,
   "metadata": {},
   "outputs": [],
   "source": [
    "g = sns.PairGrid(penguins)\n",
    "g.map_diag(plt.hist)\n",
    "g.map_upper(plt.scatter)\n",
    "g.map_lower(sns.kdeplot)"
   ]
  },
  {
   "cell_type": "code",
   "execution_count": null,
   "metadata": {},
   "outputs": [],
   "source": [
    "g = sns.JointGrid(x=\"bill_length_mm\", y=\"body_mass_g\", data=penguins)"
   ]
  },
  {
   "cell_type": "code",
   "execution_count": null,
   "metadata": {},
   "outputs": [],
   "source": [
    "g = sns.JointGrid(x=\"bill_length_mm\", y=\"body_mass_g\", data=penguins)\n",
    "g = g.plot(sns.regplot, sns.histplot)"
   ]
  },
  {
   "cell_type": "code",
   "execution_count": null,
   "metadata": {},
   "outputs": [],
   "source": []
  },
  {
   "cell_type": "markdown",
   "metadata": {},
   "source": [
    "## Regression Plot\n",
    "\n",
    "* Reference: https://seaborn.pydata.org/tutorial/regression.html"
   ]
  },
  {
   "cell_type": "code",
   "execution_count": null,
   "metadata": {},
   "outputs": [],
   "source": [
    "sns.lmplot(x='flipper_length_mm',y='body_mass_g',data=penguins,)"
   ]
  },
  {
   "cell_type": "code",
   "execution_count": null,
   "metadata": {},
   "outputs": [],
   "source": [
    "sns.lmplot(x='flipper_length_mm',y='body_mass_g',data=penguins,hue='sex')"
   ]
  },
  {
   "cell_type": "code",
   "execution_count": null,
   "metadata": {
    "scrolled": false
   },
   "outputs": [],
   "source": [
    "sns.lmplot(x='flipper_length_mm',y='body_mass_g',data=penguins,hue='sex',markers=['o','v'])"
   ]
  },
  {
   "cell_type": "code",
   "execution_count": null,
   "metadata": {},
   "outputs": [],
   "source": [
    "sns.lmplot(x='flipper_length_mm',y='body_mass_g',data=penguins,col='sex')"
   ]
  },
  {
   "cell_type": "code",
   "execution_count": null,
   "metadata": {},
   "outputs": [],
   "source": [
    "sns.lmplot(x='flipper_length_mm',y='body_mass_g',data=penguins,col='sex',row='species')"
   ]
  },
  {
   "cell_type": "code",
   "execution_count": null,
   "metadata": {},
   "outputs": [],
   "source": [
    "sns.lmplot(x='flipper_length_mm',y='body_mass_g',data=penguins,hue='sex',row='species')"
   ]
  },
  {
   "cell_type": "markdown",
   "metadata": {},
   "source": [
    "## Colors and Styles"
   ]
  },
  {
   "cell_type": "markdown",
   "metadata": {},
   "source": [
    "Reference: `matplotlib` colormap: https://matplotlib.org/3.1.1/gallery/color/colormap_reference.html"
   ]
  },
  {
   "cell_type": "code",
   "execution_count": null,
   "metadata": {},
   "outputs": [],
   "source": [
    "sns.set_style(style='darkgrid')\n",
    "# sns.set_context('notebook',font_scale=1)\n",
    "sns.lmplot(x='flipper_length_mm',y='body_mass_g',data=penguins,hue='sex',palette='seismic')"
   ]
  },
  {
   "cell_type": "markdown",
   "metadata": {},
   "source": [
    "# Appendix I: Visualization with `plotly`"
   ]
  },
  {
   "cell_type": "markdown",
   "metadata": {},
   "source": [
    "* Getting Started with Plotly in Python: https://plotly.com/python/getting-started/"
   ]
  },
  {
   "cell_type": "markdown",
   "metadata": {},
   "source": [
    "# Appendix II: Visulization with `bokeh`"
   ]
  },
  {
   "cell_type": "markdown",
   "metadata": {},
   "source": [
    "* Bokeh documentation: https://docs.bokeh.org/en/latest/index.html\n",
    "    * Quick tutorial: [[link](https://mybinder.org/v2/gh/bokeh/bokeh-notebooks/master?filepath=tutorial%2F00%20-%20Introduction%20and%20Setup.ipynb)]"
   ]
  },
  {
   "cell_type": "code",
   "execution_count": null,
   "metadata": {},
   "outputs": [],
   "source": []
  }
 ],
 "metadata": {
  "kernelspec": {
   "display_name": "Python 3 (ipykernel)",
   "language": "python",
   "name": "python3"
  },
  "language_info": {
   "codemirror_mode": {
    "name": "ipython",
    "version": 3
   },
   "file_extension": ".py",
   "mimetype": "text/x-python",
   "name": "python",
   "nbconvert_exporter": "python",
   "pygments_lexer": "ipython3",
   "version": "3.10.8"
  },
  "toc": {
   "base_numbering": 1,
   "nav_menu": {},
   "number_sections": true,
   "sideBar": true,
   "skip_h1_title": false,
   "title_cell": "Table of Contents",
   "title_sidebar": "Contents",
   "toc_cell": false,
   "toc_position": {
    "height": "calc(100% - 180px)",
    "left": "10px",
    "top": "150px",
    "width": "384px"
   },
   "toc_section_display": true,
   "toc_window_display": true
  }
 },
 "nbformat": 4,
 "nbformat_minor": 4
}
