{
 "cells": [
  {
   "attachments": {},
   "cell_type": "markdown",
   "metadata": {},
   "source": [
    "# Today's Coding Topics\n",
    "[![Open In Colab](https://colab.research.google.com/assets/colab-badge.svg)](https://colab.research.google.com/github/xiangshiyin/data-programming-with-python/blob/main/2023-summmer/2023-06-05/notebook/concept_and_code_demo.ipynb)\n",
    "\n",
    "- A simple Python program\n",
    "  - Convert temperature from Celcius to Fahrenheit\n",
    "  - Comments in Python program\n",
    "- Variables\n",
    "- Basic Data Types\n",
    "  - Primitive Data Types\n",
    "    - Numbers\n",
    "    - Strings\n",
    "    - Booleans\n",
    "  - Non-Primitive Data Types\n",
    "    - List\n",
    "    - Tuples\n",
    "    - Sets"
   ]
  },
  {
   "cell_type": "code",
   "execution_count": null,
   "metadata": {},
   "outputs": [],
   "source": []
  }
 ],
 "metadata": {
  "language_info": {
   "name": "python"
  },
  "orig_nbformat": 4
 },
 "nbformat": 4,
 "nbformat_minor": 2
}
