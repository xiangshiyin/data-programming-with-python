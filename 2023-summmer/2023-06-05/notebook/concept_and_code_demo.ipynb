{
 "cells": [
  {
   "cell_type": "markdown",
   "metadata": {},
   "source": [
    "# Today's Coding Topics\n",
    "[![Open In Colab](https://colab.research.google.com/assets/colab-badge.svg)](https://colab.research.google.com/github/xiangshiyin/data-programming-with-python/blob/main/2023-summmer/2023-06-05/notebook/concept_and_code_demo.ipynb)\n",
    "\n",
    "- A simple Python program\n",
    "  - Convert temperature from Celcius to Fahrenheit\n",
    "  - Comments in Python program\n",
    "- Variables\n",
    "- Basic Data Types\n",
    "  - Primitive Data Types\n",
    "    - Numbers\n",
    "    - Strings\n",
    "    - Booleans"
   ]
  },
  {
   "cell_type": "markdown",
   "metadata": {},
   "source": [
    "## A simple Python program"
   ]
  },
  {
   "cell_type": "markdown",
   "metadata": {},
   "source": [
    "### Convert temperature from Celcius to Fahrenheit"
   ]
  },
  {
   "cell_type": "code",
   "execution_count": 6,
   "metadata": {},
   "outputs": [
    {
     "name": "stdout",
     "output_type": "stream",
     "text": [
      "Please enter a temperature value in Celsius: 30\n",
      "It is 86.0 in Fahrenheit\n"
     ]
    }
   ],
   "source": [
    "## Create a program that gets user input of temperature in Celsius, and return the corresponding Fahrenheit\n",
    "celcius_temp = eval(input('Please enter a temperature value in Celsius: '))\n",
    "print('It is ' + str(celcius_temp*9/5+32) + ' in Fahrenheit')"
   ]
  },
  {
   "cell_type": "markdown",
   "metadata": {},
   "source": [
    "Questions:\n",
    "* What does `eval()` do?\n",
    "* What does `input()` do?"
   ]
  },
  {
   "cell_type": "code",
   "execution_count": 5,
   "metadata": {},
   "outputs": [
    {
     "data": {
      "text/plain": [
       "str"
      ]
     },
     "execution_count": 5,
     "metadata": {},
     "output_type": "execute_result"
    }
   ],
   "source": [
    "type(c_temp)"
   ]
  },
  {
   "cell_type": "code",
   "execution_count": 7,
   "metadata": {},
   "outputs": [
    {
     "name": "stdout",
     "output_type": "stream",
     "text": [
      "Please enter a temperature value in Celsius: 30\n",
      "It is 86.0 in Fahrenheit\n"
     ]
    }
   ],
   "source": [
    "# replacing function eval() with int()\n",
    "celcius_temp = int(input('Please enter a temperature value in Celsius: '))\n",
    "print('It is ' + str(celcius_temp*9/5+32) + ' in Fahrenheit')"
   ]
  },
  {
   "cell_type": "markdown",
   "metadata": {},
   "source": [
    "### Comments in Python Program"
   ]
  },
  {
   "cell_type": "markdown",
   "metadata": {},
   "source": [
    "* Single-Line comment starts with the hash character, `#`"
   ]
  },
  {
   "cell_type": "code",
   "execution_count": 10,
   "metadata": {},
   "outputs": [
    {
     "name": "stdout",
     "output_type": "stream",
     "text": [
      "Please enter a temperature value in Celsius 3\n",
      "It is 37.4 in Fahrenheit\n"
     ]
    }
   ],
   "source": [
    "# replacing function eval() with int()\n",
    "# this is the 2nd line of comment\n",
    "# this is the 3rd line of comment\n",
    "celcius_temp = int(input('Please enter a temperature value in Celsius '))\n",
    "print('It is ' + str(celcius_temp*9/5+32) + ' in Fahrenheit')"
   ]
  },
  {
   "cell_type": "markdown",
   "metadata": {},
   "source": [
    "* Multi-Line comment"
   ]
  },
  {
   "cell_type": "code",
   "execution_count": 9,
   "metadata": {},
   "outputs": [
    {
     "name": "stdout",
     "output_type": "stream",
     "text": [
      "Please enter a temperature value in Celsius: 30\n",
      "It is 86.0 in Fahrenheit\n"
     ]
    }
   ],
   "source": [
    "'''\n",
    "This is a program to convert celcius degrees to farenheit degrees\n",
    "'''\n",
    "celcius_temp = int(input('Please enter a temperature value in Celsius: '))\n",
    "print('It is ' + str(celcius_temp*9/5+32) + ' in Fahrenheit')"
   ]
  },
  {
   "cell_type": "code",
   "execution_count": 15,
   "metadata": {},
   "outputs": [
    {
     "data": {
      "text/plain": [
       "int"
      ]
     },
     "execution_count": 15,
     "metadata": {},
     "output_type": "execute_result"
    }
   ],
   "source": [
    "type(eval('1234'))"
   ]
  },
  {
   "cell_type": "code",
   "execution_count": 12,
   "metadata": {},
   "outputs": [
    {
     "data": {
      "text/plain": [
       "float"
      ]
     },
     "execution_count": 12,
     "metadata": {},
     "output_type": "execute_result"
    }
   ],
   "source": [
    "type(eval('1.234'))"
   ]
  },
  {
   "cell_type": "code",
   "execution_count": 16,
   "metadata": {},
   "outputs": [
    {
     "ename": "NameError",
     "evalue": "name 'a' is not defined",
     "output_type": "error",
     "traceback": [
      "\u001b[0;31m---------------------------------------------------------------------------\u001b[0m",
      "\u001b[0;31mNameError\u001b[0m                                 Traceback (most recent call last)",
      "Cell \u001b[0;32mIn[16], line 1\u001b[0m\n\u001b[0;32m----> 1\u001b[0m \u001b[38;5;28;43meval\u001b[39;49m\u001b[43m(\u001b[49m\u001b[38;5;124;43m'\u001b[39;49m\u001b[38;5;124;43ma\u001b[39;49m\u001b[38;5;124;43m'\u001b[39;49m\u001b[43m)\u001b[49m\n",
      "File \u001b[0;32m<string>:1\u001b[0m\n",
      "\u001b[0;31mNameError\u001b[0m: name 'a' is not defined"
     ]
    }
   ],
   "source": [
    "eval('a')"
   ]
  },
  {
   "cell_type": "code",
   "execution_count": null,
   "metadata": {},
   "outputs": [],
   "source": []
  },
  {
   "cell_type": "code",
   "execution_count": 14,
   "metadata": {},
   "outputs": [
    {
     "name": "stdout",
     "output_type": "stream",
     "text": [
      "Help on built-in function eval in module builtins:\n",
      "\n",
      "eval(source, globals=None, locals=None, /)\n",
      "    Evaluate the given source in the context of globals and locals.\n",
      "    \n",
      "    The source may be a string representing a Python expression\n",
      "    or a code object as returned by compile().\n",
      "    The globals must be a dictionary and locals can be any mapping,\n",
      "    defaulting to the current globals and locals.\n",
      "    If only globals is given, locals defaults to it.\n",
      "\n"
     ]
    }
   ],
   "source": [
    "help(eval)"
   ]
  },
  {
   "cell_type": "markdown",
   "metadata": {},
   "source": [
    "## Variables\n",
    "(The Fundamental Building Block of Python Programming)\n",
    "* A Python variable is a reserved memory location to store values. It is a placeholder where you could use to save parameters that'll be repeatly used in your program. The assignment statement (a.k.a. definition) of a variable normally follows the pattern of `VariableName = Value`. Unlike other programming languages (such as C/C++/Java), you don't need to clarify the data type of the variable.\n",
    "* `=` is the assigning operator in Python, not the logic operator (`equal`, we'll talk about this later)\n",
    "* Value can be of any data structure"
   ]
  },
  {
   "cell_type": "code",
   "execution_count": 17,
   "metadata": {},
   "outputs": [
    {
     "name": "stdout",
     "output_type": "stream",
     "text": [
      "1\n"
     ]
    }
   ],
   "source": [
    "## Declare a variable and initialize it\n",
    "x = 1\n",
    "print(x)"
   ]
  },
  {
   "cell_type": "code",
   "execution_count": null,
   "metadata": {},
   "outputs": [],
   "source": []
  },
  {
   "cell_type": "code",
   "execution_count": 18,
   "metadata": {},
   "outputs": [
    {
     "name": "stdout",
     "output_type": "stream",
     "text": [
      "2\n"
     ]
    }
   ],
   "source": [
    "## Change the value of a variable\n",
    "x = 2\n",
    "print(x)"
   ]
  },
  {
   "cell_type": "code",
   "execution_count": 19,
   "metadata": {},
   "outputs": [
    {
     "data": {
      "text/plain": [
       "-1.0"
      ]
     },
     "execution_count": 19,
     "metadata": {},
     "output_type": "execute_result"
    }
   ],
   "source": [
    "x + 2 - x*2 - x/2"
   ]
  },
  {
   "cell_type": "code",
   "execution_count": 20,
   "metadata": {},
   "outputs": [
    {
     "ename": "NameError",
     "evalue": "name 'x' is not defined",
     "output_type": "error",
     "traceback": [
      "\u001b[0;31m---------------------------------------------------------------------------\u001b[0m",
      "\u001b[0;31mNameError\u001b[0m                                 Traceback (most recent call last)",
      "Cell \u001b[0;32mIn[20], line 3\u001b[0m\n\u001b[1;32m      1\u001b[0m \u001b[38;5;66;03m## Delete a variable\u001b[39;00m\n\u001b[1;32m      2\u001b[0m \u001b[38;5;28;01mdel\u001b[39;00m(x)\n\u001b[0;32m----> 3\u001b[0m \u001b[38;5;28mprint\u001b[39m(\u001b[43mx\u001b[49m)\n",
      "\u001b[0;31mNameError\u001b[0m: name 'x' is not defined"
     ]
    }
   ],
   "source": [
    "## Delete a variable\n",
    "del(x)\n",
    "print(x)"
   ]
  },
  {
   "cell_type": "code",
   "execution_count": 21,
   "metadata": {},
   "outputs": [
    {
     "name": "stdout",
     "output_type": "stream",
     "text": [
      "The value of x is 3\n",
      "The value of y is 3\n"
     ]
    }
   ],
   "source": [
    "## You can also initialize a new variable with a pre-defined variable\n",
    "x = 3\n",
    "y = x\n",
    "print('The value of x is {}'.format(x))\n",
    "print('The value of y is {}'.format(y))"
   ]
  },
  {
   "cell_type": "code",
   "execution_count": 22,
   "metadata": {},
   "outputs": [
    {
     "name": "stdout",
     "output_type": "stream",
     "text": [
      "The value of y is  3\n",
      "The value of x is  4\n"
     ]
    }
   ],
   "source": [
    "## Would y be impacted when we change the value of x?\n",
    "x = 4\n",
    "# print('The value of x is {}'.format(x))\n",
    "print('The value of y is ', y)\n",
    "print('The value of x is ', x)"
   ]
  },
  {
   "cell_type": "code",
   "execution_count": null,
   "metadata": {},
   "outputs": [],
   "source": []
  },
  {
   "cell_type": "markdown",
   "metadata": {},
   "source": [
    "## Basic Data Types"
   ]
  },
  {
   "cell_type": "markdown",
   "metadata": {},
   "source": [
    "**Primitive Data Types**\n",
    "[[Official Documentation]( https://docs.python.org/3.8/library/stdtypes.html#numeric-types-int-float-complex)]"
   ]
  },
  {
   "cell_type": "markdown",
   "metadata": {},
   "source": [
    "### Numbers\n",
    "* There are three distinct numeric types: **integers**, **floating point numbers**, and **complex numbers**"
   ]
  },
  {
   "cell_type": "markdown",
   "metadata": {},
   "source": [
    "To define a variable of numeric data type, follow the syntax `VarName = value`"
   ]
  },
  {
   "cell_type": "code",
   "execution_count": 23,
   "metadata": {},
   "outputs": [
    {
     "name": "stdout",
     "output_type": "stream",
     "text": [
      "Data Type of intNum is  <class 'int'>\n"
     ]
    }
   ],
   "source": [
    "intNum = 1\n",
    "# print(intNum)\n",
    "print('Data Type of intNum is ', type(intNum))"
   ]
  },
  {
   "cell_type": "markdown",
   "metadata": {},
   "source": [
    "You could use the function `int()` to cast the value type to `integer`"
   ]
  },
  {
   "cell_type": "code",
   "execution_count": 24,
   "metadata": {},
   "outputs": [
    {
     "name": "stdout",
     "output_type": "stream",
     "text": [
      "1\n",
      "Data Type of intNum2 is  <class 'int'>\n"
     ]
    }
   ],
   "source": [
    "intNum2 = int(1.5)\n",
    "print(intNum2)\n",
    "print('Data Type of intNum2 is ', type(intNum2)) # type()"
   ]
  },
  {
   "cell_type": "markdown",
   "metadata": {},
   "source": [
    "To define a floating point number, follow the syntax `VarName = value` or `VarName = float(value)`"
   ]
  },
  {
   "cell_type": "code",
   "execution_count": 25,
   "metadata": {},
   "outputs": [
    {
     "data": {
      "text/plain": [
       "float"
      ]
     },
     "execution_count": 25,
     "metadata": {},
     "output_type": "execute_result"
    }
   ],
   "source": [
    "x = 2.123\n",
    "type(x)"
   ]
  },
  {
   "cell_type": "code",
   "execution_count": 26,
   "metadata": {},
   "outputs": [
    {
     "name": "stdout",
     "output_type": "stream",
     "text": [
      "2.0\n",
      "Data Type of floatNum is  <class 'float'>\n"
     ]
    }
   ],
   "source": [
    "floatNum = 2. # or 2.\n",
    "print(floatNum)\n",
    "print('Data Type of floatNum is ', type(floatNum))"
   ]
  },
  {
   "cell_type": "code",
   "execution_count": 27,
   "metadata": {},
   "outputs": [
    {
     "name": "stdout",
     "output_type": "stream",
     "text": [
      "2.0\n",
      "Data Type of floatNum2 is  <class 'float'>\n"
     ]
    }
   ],
   "source": [
    "floatNum2 = float(2)\n",
    "print(floatNum2)\n",
    "print('Data Type of floatNum2 is ', type(floatNum2))"
   ]
  },
  {
   "cell_type": "markdown",
   "metadata": {},
   "source": [
    "**Arithmetic Operations**\n",
    "\n",
    "| Operation       | Result                                                                      |\n",
    "|-----------------|-----------------------------------------------------------------------------|\n",
    "| x + y           | sum of x and y                                                              |\n",
    "| x - y           | difference of x and y                                                       |\n",
    "| x * y           | product of x and y                                                          |\n",
    "| x / y           | quotient of x and y                                                         |\n",
    "| x // y          | floored quotient of x and y                                                 |\n",
    "| x % y           | remainder of x / y                                                          |\n",
    "| -x              | x negated                                                                   |\n",
    "| +x              | x unchanged                                                                 |\n",
    "| abs(x)          | absolute value or magnitude of x                                            |\n",
    "| complex(re, im) | a complex number with real part re, imaginary part im. im defaults to zero. |\n",
    "| c.conjugate()   | conjugate of the complex number c                                           |\n",
    "| divmod(x, y)    | the pair (x // y, x % y)                                                    |\n",
    "| pow(x, y)       | x to the power y                                                            |\n",
    "| x ** y          | x to the power y                                                            |"
   ]
  },
  {
   "cell_type": "markdown",
   "metadata": {},
   "source": [
    "![](../pics/division.jpg)"
   ]
  },
  {
   "cell_type": "code",
   "execution_count": 28,
   "metadata": {},
   "outputs": [
    {
     "data": {
      "text/plain": [
       "3.5"
      ]
     },
     "execution_count": 28,
     "metadata": {},
     "output_type": "execute_result"
    }
   ],
   "source": [
    "7/2"
   ]
  },
  {
   "cell_type": "code",
   "execution_count": 30,
   "metadata": {},
   "outputs": [
    {
     "data": {
      "text/plain": [
       "2"
      ]
     },
     "execution_count": 30,
     "metadata": {},
     "output_type": "execute_result"
    }
   ],
   "source": [
    "7 // 3"
   ]
  },
  {
   "cell_type": "code",
   "execution_count": 31,
   "metadata": {},
   "outputs": [
    {
     "data": {
      "text/plain": [
       "1"
      ]
     },
     "execution_count": 31,
     "metadata": {},
     "output_type": "execute_result"
    }
   ],
   "source": [
    "7 % 3"
   ]
  },
  {
   "cell_type": "code",
   "execution_count": null,
   "metadata": {},
   "outputs": [],
   "source": [
    "## division, quotient, remainder\n",
    "# print(7/3)\n",
    "# print(7//3)\n",
    "print(7%3)"
   ]
  },
  {
   "cell_type": "code",
   "execution_count": null,
   "metadata": {},
   "outputs": [],
   "source": [
    "## a power of a number\n",
    "print(2**5)"
   ]
  },
  {
   "cell_type": "markdown",
   "metadata": {},
   "source": [
    "**Challenge** - Can you write a program to check if an input number is even or odd??"
   ]
  },
  {
   "cell_type": "code",
   "execution_count": 33,
   "metadata": {},
   "outputs": [
    {
     "name": "stdout",
     "output_type": "stream",
     "text": [
      "Put in an integer: 1234\n",
      "0\n"
     ]
    }
   ],
   "source": [
    "x = eval(input('Put in an integer: '))\n",
    "remainder = x % 2\n",
    "print(remainder)"
   ]
  },
  {
   "cell_type": "markdown",
   "metadata": {
    "slideshow": {
     "slide_type": "slide"
    }
   },
   "source": [
    "### Strings\n",
    "\n",
    "* Strings are textual data, and are normally written in a variety of ways:\n",
    "    * Single quotes: 'allows embedded \"double\" quotes'\n",
    "    * Double quotes: \"allows embedded 'single' quotes\"\n",
    "    * Triple quoted: '''Three single quotes''' or \"\"\"Three double quotes\"\"\"\n",
    "* Some programming languages use single quotes for literal char s, double quotes for literal String s. In Python, there isn't such distinction. You can use them in both char and String\n",
    "* You can use `\\` to escape special characters"
   ]
  },
  {
   "cell_type": "code",
   "execution_count": 34,
   "metadata": {},
   "outputs": [
    {
     "name": "stdout",
     "output_type": "stream",
     "text": [
      "allows embedded \"double\" quotes\n"
     ]
    }
   ],
   "source": [
    "x = 'allows embedded \"double\" quotes'\n",
    "print(x)"
   ]
  },
  {
   "cell_type": "code",
   "execution_count": 35,
   "metadata": {},
   "outputs": [
    {
     "name": "stdout",
     "output_type": "stream",
     "text": [
      "allows embedded 'single' quotes\n"
     ]
    }
   ],
   "source": [
    "x = \"allows embedded 'single' quotes\"\n",
    "print(x)"
   ]
  },
  {
   "cell_type": "code",
   "execution_count": 36,
   "metadata": {},
   "outputs": [
    {
     "name": "stdout",
     "output_type": "stream",
     "text": [
      "\n",
      "1\n",
      "2\n",
      "3\n",
      "\n"
     ]
    }
   ],
   "source": [
    "x = \"\"\"\n",
    "1\n",
    "2\n",
    "3\n",
    "\"\"\"\n",
    "print(x)"
   ]
  },
  {
   "cell_type": "code",
   "execution_count": 37,
   "metadata": {},
   "outputs": [
    {
     "name": "stdout",
     "output_type": "stream",
     "text": [
      "a\n",
      "b\n"
     ]
    }
   ],
   "source": [
    "x = \"a\\nb\"\n",
    "print(x)"
   ]
  },
  {
   "cell_type": "code",
   "execution_count": 38,
   "metadata": {},
   "outputs": [
    {
     "name": "stdout",
     "output_type": "stream",
     "text": [
      "a\tb\n"
     ]
    }
   ],
   "source": [
    "x = \"a\\tb\"\n",
    "print(x)"
   ]
  },
  {
   "cell_type": "code",
   "execution_count": null,
   "metadata": {},
   "outputs": [],
   "source": []
  },
  {
   "cell_type": "markdown",
   "metadata": {
    "slideshow": {
     "slide_type": "slide"
    }
   },
   "source": [
    "Define string variables"
   ]
  },
  {
   "cell_type": "code",
   "execution_count": null,
   "metadata": {},
   "outputs": [],
   "source": [
    "## single line strings\n",
    "# x = 'this is a string'\n",
    "x = \"this is a string\"\n",
    "# print(x)\n",
    "x"
   ]
  },
  {
   "cell_type": "code",
   "execution_count": null,
   "metadata": {},
   "outputs": [],
   "source": [
    "type(x)"
   ]
  },
  {
   "cell_type": "code",
   "execution_count": null,
   "metadata": {},
   "outputs": [],
   "source": [
    "## multi-line strings\n",
    "x = '''\n",
    "this is line 1\n",
    "this is line 2\n",
    "'''\n",
    "print(x)"
   ]
  },
  {
   "cell_type": "code",
   "execution_count": null,
   "metadata": {},
   "outputs": [],
   "source": [
    "x"
   ]
  },
  {
   "cell_type": "code",
   "execution_count": null,
   "metadata": {},
   "outputs": [],
   "source": []
  },
  {
   "cell_type": "code",
   "execution_count": 39,
   "metadata": {},
   "outputs": [
    {
     "name": "stdout",
     "output_type": "stream",
     "text": [
      "this is line1 \n",
      "this is line2\n"
     ]
    }
   ],
   "source": [
    "## deal with special characters\n",
    "x = 'this is line1 \\nthis is line2'\n",
    "print(x)"
   ]
  },
  {
   "cell_type": "code",
   "execution_count": 40,
   "metadata": {},
   "outputs": [
    {
     "name": "stdout",
     "output_type": "stream",
     "text": [
      "this is line1\tthis is line2\n"
     ]
    }
   ],
   "source": [
    "x = 'this is line1\\tthis is line2'\n",
    "print(x)"
   ]
  },
  {
   "cell_type": "code",
   "execution_count": null,
   "metadata": {},
   "outputs": [],
   "source": []
  },
  {
   "cell_type": "markdown",
   "metadata": {
    "slideshow": {
     "slide_type": "slide"
    }
   },
   "source": [
    "#### String operations\n",
    "##### Indexing and slicing strings\n",
    "* <span style=\"color:blue\">Each character of the string is assigned a index number representing its position in the string, and index number starts from 0</span>"
   ]
  },
  {
   "cell_type": "code",
   "execution_count": 42,
   "metadata": {},
   "outputs": [
    {
     "data": {
      "text/plain": [
       "54"
      ]
     },
     "execution_count": 42,
     "metadata": {},
     "output_type": "execute_result"
    }
   ],
   "source": [
    "## check the length of a string, with function len()\n",
    "# x = 'abcdefg'\n",
    "x = ' fadgj;lasjglsajgl;jgl;jgl;j;gj;jdg;pojgj;sdajgo;ajgoj'\n",
    "len(x)"
   ]
  },
  {
   "cell_type": "code",
   "execution_count": 43,
   "metadata": {},
   "outputs": [
    {
     "data": {
      "text/plain": [
       "' '"
      ]
     },
     "execution_count": 43,
     "metadata": {},
     "output_type": "execute_result"
    }
   ],
   "source": [
    "## position based indexing, the index always starts from 0\n",
    "x[0]"
   ]
  },
  {
   "cell_type": "code",
   "execution_count": 44,
   "metadata": {},
   "outputs": [
    {
     "data": {
      "text/plain": [
       "'s'"
      ]
     },
     "execution_count": 44,
     "metadata": {},
     "output_type": "execute_result"
    }
   ],
   "source": [
    "x[9]"
   ]
  },
  {
   "cell_type": "code",
   "execution_count": null,
   "metadata": {},
   "outputs": [],
   "source": []
  },
  {
   "cell_type": "code",
   "execution_count": 46,
   "metadata": {
    "slideshow": {
     "slide_type": "slide"
    }
   },
   "outputs": [
    {
     "data": {
      "text/plain": [
       "'f'"
      ]
     },
     "execution_count": 46,
     "metadata": {},
     "output_type": "execute_result"
    }
   ],
   "source": [
    "## negative indexing\n",
    "x = 'abcdefg'\n",
    "# x[-1]\n",
    "x[-2]\n",
    "# # x[0]\n",
    "# x[-3]\n",
    "# x[-3]"
   ]
  },
  {
   "cell_type": "code",
   "execution_count": 47,
   "metadata": {},
   "outputs": [
    {
     "data": {
      "text/plain": [
       "'cdefghijk'"
      ]
     },
     "execution_count": 47,
     "metadata": {},
     "output_type": "execute_result"
    }
   ],
   "source": [
    "## slicing a string\n",
    "x = 'abcdefghijk'\n",
    "# x[2:6]\n",
    "x[2:]"
   ]
  },
  {
   "cell_type": "code",
   "execution_count": 48,
   "metadata": {},
   "outputs": [
    {
     "data": {
      "text/plain": [
       "'cdef'"
      ]
     },
     "execution_count": 48,
     "metadata": {},
     "output_type": "execute_result"
    }
   ],
   "source": [
    "x[2:6] # [2,6)"
   ]
  },
  {
   "cell_type": "code",
   "execution_count": 49,
   "metadata": {},
   "outputs": [
    {
     "data": {
      "text/plain": [
       "'abcdef'"
      ]
     },
     "execution_count": 49,
     "metadata": {},
     "output_type": "execute_result"
    }
   ],
   "source": [
    "x[:6]"
   ]
  },
  {
   "cell_type": "markdown",
   "metadata": {
    "slideshow": {
     "slide_type": "slide"
    }
   },
   "source": [
    "##### Special operators/functions\n",
    "* `+` concatenates two strings\n",
    "* `*` repeats given string a certain number of times\n",
    "* str.`lower()` and str.`upper()` change the case of strings"
   ]
  },
  {
   "cell_type": "code",
   "execution_count": 51,
   "metadata": {},
   "outputs": [
    {
     "data": {
      "text/plain": [
       "'abc def'"
      ]
     },
     "execution_count": 51,
     "metadata": {},
     "output_type": "execute_result"
    }
   ],
   "source": [
    "## concatenate strings\n",
    "x = 'abc'\n",
    "y = ' def'\n",
    "x + y"
   ]
  },
  {
   "cell_type": "code",
   "execution_count": 52,
   "metadata": {},
   "outputs": [
    {
     "data": {
      "text/plain": [
       "'abcabcabc'"
      ]
     },
     "execution_count": 52,
     "metadata": {},
     "output_type": "execute_result"
    }
   ],
   "source": [
    "x * 3"
   ]
  },
  {
   "cell_type": "code",
   "execution_count": 55,
   "metadata": {},
   "outputs": [
    {
     "name": "stdout",
     "output_type": "stream",
     "text": [
      "abc\n"
     ]
    }
   ],
   "source": [
    "x1 = 'ABC'\n",
    "x2 = x1.lower()\n",
    "print(x2)"
   ]
  },
  {
   "cell_type": "code",
   "execution_count": 56,
   "metadata": {},
   "outputs": [
    {
     "name": "stdout",
     "output_type": "stream",
     "text": [
      "ABC\n"
     ]
    }
   ],
   "source": [
    "x1 = 'abC'\n",
    "x2 = x1.upper()\n",
    "print(x2)"
   ]
  },
  {
   "cell_type": "code",
   "execution_count": 53,
   "metadata": {},
   "outputs": [
    {
     "data": {
      "text/plain": [
       "'ABC'"
      ]
     },
     "execution_count": 53,
     "metadata": {},
     "output_type": "execute_result"
    }
   ],
   "source": [
    "## concatenate strings\n",
    "x = 'abc'\n",
    "y = 'def'\n",
    "# x+y\n",
    "# x*3\n",
    "x1 = 'ABC'\n",
    "x1.lower()\n",
    "\n",
    "x.upper()"
   ]
  },
  {
   "cell_type": "code",
   "execution_count": 57,
   "metadata": {
    "slideshow": {
     "slide_type": "slide"
    }
   },
   "outputs": [
    {
     "data": {
      "text/plain": [
       "'abcabcabcabcabc'"
      ]
     },
     "execution_count": 57,
     "metadata": {},
     "output_type": "execute_result"
    }
   ],
   "source": [
    "## repeat strings\n",
    "'abc'*5"
   ]
  },
  {
   "cell_type": "markdown",
   "metadata": {
    "slideshow": {
     "slide_type": "slide"
    }
   },
   "source": [
    "#### String formatting [[Official Documentation](https://docs.python.org/3.8/library/string.html#formatstrings)]\n",
    "\n",
    "##### \"Old C style\" string formatting\n",
    "The `%` operator is used to format a set of variables enclosed in a `tuple` (a fixed size list, will be covered later in this class), together with a format string, which contains normal text together with `argument specifiers`.\n",
    "\n",
    "Common `argument specifiers` include:\n",
    "* `%s` - String (or any object with a string representation, like numbers)\n",
    "* `%d` - Integers\n",
    "* `%f` - Floating point numbers (by default, it keeps 6 decimal digits)\n",
    "* `%.<number of digits>f` - Floating point numbers with a fixed amount of digits to the right of the dot.\n"
   ]
  },
  {
   "cell_type": "code",
   "execution_count": 59,
   "metadata": {
    "slideshow": {
     "slide_type": "slide"
    }
   },
   "outputs": [
    {
     "data": {
      "text/plain": [
       "'My name is John'"
      ]
     },
     "execution_count": 59,
     "metadata": {},
     "output_type": "execute_result"
    }
   ],
   "source": [
    "## format string with 1 placeholder\n",
    "name = 'John'\n",
    "'My name is %s' % name"
   ]
  },
  {
   "cell_type": "code",
   "execution_count": 60,
   "metadata": {
    "scrolled": true
   },
   "outputs": [
    {
     "data": {
      "text/plain": [
       "'Hello Xiangshi. Your current bank account balance is $123.40'"
      ]
     },
     "execution_count": 60,
     "metadata": {},
     "output_type": "execute_result"
    }
   ],
   "source": [
    "## format string with 2 placeholder\n",
    "name = 'Xiangshi'\n",
    "balance = 123.4\n",
    "'Hello %s. Your current bank account balance is $%.2f' % (name, balance)"
   ]
  },
  {
   "cell_type": "markdown",
   "metadata": {
    "slideshow": {
     "slide_type": "slide"
    }
   },
   "source": [
    "##### String formatting via the format() function\n",
    "* In Python 3, you can also format strings by calling the `.format()` method on a string object. `{}` is used as a replacement field for values you'd like to plug in, and also a container for `format specifications`.\n",
    "* A general convention is that <ins>an empty format specification produces the same result as if you had called the function `str()` on the value</ins>. A non-empty format specifications typically modifies the result.\n",
    "* The common pattern of a replacement field is like `{field_name:format_spec}`\n",
    "* Check the [official documentation](https://docs.python.org/3.8/library/string.html#formatstrings) for more details on `format specifications` pattern"
   ]
  },
  {
   "cell_type": "markdown",
   "metadata": {
    "slideshow": {
     "slide_type": "slide"
    }
   },
   "source": [
    "* Example 1: no format modification\n",
    "```\n",
    "\"{} {}\".format(a,b), \"{0} {1}\".format(a,b), or \"{A} {B}\".format(A=a,B=b)\n",
    "```"
   ]
  },
  {
   "cell_type": "code",
   "execution_count": 62,
   "metadata": {},
   "outputs": [
    {
     "data": {
      "text/plain": [
       "'2 plus 1 is 3'"
      ]
     },
     "execution_count": 62,
     "metadata": {},
     "output_type": "execute_result"
    }
   ],
   "source": [
    "a = 1\n",
    "b = 2\n",
    "c = a + b\n",
    "# '{} plus {} is {}'.format(b,a,c) \n",
    "'{B} plus {A} is {C}'.format(B=b,A=a,C=c) "
   ]
  },
  {
   "cell_type": "markdown",
   "metadata": {
    "slideshow": {
     "slide_type": "slide"
    }
   },
   "source": [
    "\n",
    "* Example 2: floating point number"
   ]
  },
  {
   "cell_type": "code",
   "execution_count": 65,
   "metadata": {},
   "outputs": [
    {
     "data": {
      "text/plain": [
       "'1.000000 plus 2.000000 is 3.000000'"
      ]
     },
     "execution_count": 65,
     "metadata": {},
     "output_type": "execute_result"
    }
   ],
   "source": [
    "a = 1\n",
    "b = 2\n",
    "c = a + b\n",
    "'{A:f} plus {B:f} is {C:f}'.format(A=a,B=b,C=c) \n",
    "# '{A:d} plus {B:d} is {C:d}'.format(A=a,B=b,C=c) \n",
    "# you can also use index as the field_name\n",
    "# '{0:f} plus {1:f} is {2:f}'.format(a,b,c) \n",
    "# '{:f} plus {:f} is {:f}'.format(a,b,c) "
   ]
  },
  {
   "cell_type": "code",
   "execution_count": 66,
   "metadata": {},
   "outputs": [
    {
     "data": {
      "text/plain": [
       "'1.00 plus 2.00 is 3.00'"
      ]
     },
     "execution_count": 66,
     "metadata": {},
     "output_type": "execute_result"
    }
   ],
   "source": [
    "## control the precision\n",
    "'{A:.2f} plus {B:.2f} is {C:.2f}'.format(A=a,B=b,C=c) "
   ]
  },
  {
   "cell_type": "code",
   "execution_count": 69,
   "metadata": {},
   "outputs": [
    {
     "name": "stdout",
     "output_type": "stream",
     "text": [
      "     1\n",
      "   1.0\n",
      "  1.00\n",
      " 1.000\n",
      "1.0000\n"
     ]
    }
   ],
   "source": [
    "## align the number\n",
    "print('{:>6.0f}'.format(1))\n",
    "print('{:>6.1f}'.format(1))\n",
    "print('{:>6.2f}'.format(1))\n",
    "print('{:>6.3f}'.format(1))\n",
    "print('{:>6.4f}'.format(1))"
   ]
  },
  {
   "cell_type": "code",
   "execution_count": 71,
   "metadata": {},
   "outputs": [
    {
     "name": "stdout",
     "output_type": "stream",
     "text": [
      "1     \n",
      "1.0   \n"
     ]
    }
   ],
   "source": [
    "print('{:<6.0f}'.format(1))\n",
    "print('{:<6.1f}'.format(1))"
   ]
  },
  {
   "cell_type": "code",
   "execution_count": 72,
   "metadata": {},
   "outputs": [
    {
     "name": "stdout",
     "output_type": "stream",
     "text": [
      "  1   \n",
      " 1.0  \n"
     ]
    }
   ],
   "source": [
    "print('{:^6.0f}'.format(1))\n",
    "print('{:^6.1f}'.format(1))"
   ]
  },
  {
   "cell_type": "code",
   "execution_count": null,
   "metadata": {},
   "outputs": [],
   "source": []
  },
  {
   "cell_type": "markdown",
   "metadata": {},
   "source": [
    "##### The `f string` formatting\n",
    "* Starting from Python 3.6, the `f string` formatting became available\n",
    "* It in general carrys the same coding style as the `format()` function and is even conciser!!"
   ]
  },
  {
   "cell_type": "code",
   "execution_count": 74,
   "metadata": {},
   "outputs": [
    {
     "data": {
      "text/plain": [
       "'2 plus 3 is 5'"
      ]
     },
     "execution_count": 74,
     "metadata": {},
     "output_type": "execute_result"
    }
   ],
   "source": [
    "a = 3\n",
    "b = 2\n",
    "c = a + b\n",
    "f'{b} plus {a} is {c}'"
   ]
  },
  {
   "cell_type": "markdown",
   "metadata": {},
   "source": [
    "* Offline reading: https://realpython.com/python-f-strings/"
   ]
  },
  {
   "cell_type": "code",
   "execution_count": null,
   "metadata": {},
   "outputs": [],
   "source": []
  },
  {
   "cell_type": "markdown",
   "metadata": {},
   "source": [
    "**Challenge** - Align a string to right with a predefined window width"
   ]
  },
  {
   "cell_type": "code",
   "execution_count": null,
   "metadata": {},
   "outputs": [],
   "source": [
    "\"{:>10}\".format(\"Test\")"
   ]
  },
  {
   "cell_type": "code",
   "execution_count": null,
   "metadata": {},
   "outputs": [],
   "source": [
    "\"{:^10}\".format(\"Test\")"
   ]
  },
  {
   "cell_type": "code",
   "execution_count": null,
   "metadata": {},
   "outputs": [],
   "source": [
    "\"{:<10}\".format(\"Test\")"
   ]
  },
  {
   "cell_type": "code",
   "execution_count": null,
   "metadata": {},
   "outputs": [],
   "source": [
    "\"{:>10}\".format(\"This is our first class, I enjoy meeting everyone here\")"
   ]
  },
  {
   "cell_type": "code",
   "execution_count": null,
   "metadata": {},
   "outputs": [],
   "source": [
    "# A different way!!\n",
    "\"Test\".ljust(10, ' ')"
   ]
  },
  {
   "cell_type": "markdown",
   "metadata": {},
   "source": [
    "##### Replace a character within a string"
   ]
  },
  {
   "cell_type": "code",
   "execution_count": null,
   "metadata": {},
   "outputs": [],
   "source": []
  },
  {
   "cell_type": "markdown",
   "metadata": {
    "slideshow": {
     "slide_type": "slide"
    }
   },
   "source": [
    "### Boolean\n",
    "This built-in data type that can take up the values: `True` and `False`, which often makes them interchangeable with the integers 1 and 0. Booleans are useful in conditional and comparison expressions."
   ]
  },
  {
   "cell_type": "code",
   "execution_count": null,
   "metadata": {},
   "outputs": [],
   "source": [
    "x = 1\n",
    "x == 1\n",
    "# print(x==1)\n",
    "# print(not x==2)\n",
    "print(x!=2)"
   ]
  },
  {
   "cell_type": "code",
   "execution_count": null,
   "metadata": {
    "scrolled": true
   },
   "outputs": [],
   "source": [
    "(100>10) and (100<200)"
   ]
  },
  {
   "cell_type": "code",
   "execution_count": null,
   "metadata": {},
   "outputs": [],
   "source": [
    "(100>10) or (100>200)"
   ]
  },
  {
   "cell_type": "code",
   "execution_count": null,
   "metadata": {},
   "outputs": [],
   "source": [
    "((100>10) & (100<200))==True\n",
    "# ((100>10) & (100<200))==False"
   ]
  },
  {
   "cell_type": "code",
   "execution_count": null,
   "metadata": {},
   "outputs": [],
   "source": [
    "((100>10) & (100<200))==1"
   ]
  },
  {
   "cell_type": "markdown",
   "metadata": {
    "slideshow": {
     "slide_type": "slide"
    }
   },
   "source": [
    "**Logical operators**\n",
    "\n",
    "| Operator                                                              | Description                                                                        |\n",
    "|-----------------------------------------------------------------------|------------------------------------------------------------------------------------|\n",
    "| or                                                                    | Boolean OR                                                                         |\n",
    "| and                                                                   | Boolean AND                                                                        |\n",
    "| not x                                                                 | Boolean NOT                                                                        |\n",
    "| in, not in, is, is not, <, <=, >, >=, !=, ==                          | Comparisons, including membership tests and identity tests                         |"
   ]
  },
  {
   "cell_type": "code",
   "execution_count": null,
   "metadata": {},
   "outputs": [],
   "source": []
  },
  {
   "cell_type": "code",
   "execution_count": null,
   "metadata": {},
   "outputs": [],
   "source": []
  },
  {
   "cell_type": "code",
   "execution_count": null,
   "metadata": {},
   "outputs": [],
   "source": []
  }
 ],
 "metadata": {
  "kernelspec": {
   "display_name": "Python 3 (ipykernel)",
   "language": "python",
   "name": "python3"
  },
  "language_info": {
   "codemirror_mode": {
    "name": "ipython",
    "version": 3
   },
   "file_extension": ".py",
   "mimetype": "text/x-python",
   "name": "python",
   "nbconvert_exporter": "python",
   "pygments_lexer": "ipython3",
   "version": "3.10.8"
  }
 },
 "nbformat": 4,
 "nbformat_minor": 4
}
