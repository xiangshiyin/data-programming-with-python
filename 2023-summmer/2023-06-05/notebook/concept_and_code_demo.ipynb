{
 "cells": [
  {
   "attachments": {},
   "cell_type": "markdown",
   "metadata": {},
   "source": [
    "# Today's Coding Topics\n",
    "[![Open In Colab](https://colab.research.google.com/assets/colab-badge.svg)](https://colab.research.google.com/github/xiangshiyin/data-programming-with-python/blob/main/2023-summmer/2023-06-05/notebook/concept_and_code_demo.ipynb)\n",
    "\n",
    "- A simple Python program\n",
    "  - Convert temperature from Celcius to Fahrenheit\n",
    "  - Comments in Python program\n",
    "- Variables\n",
    "- Basic Data Types\n",
    "  - Primitive Data Types\n",
    "    - Numbers\n",
    "    - Strings\n",
    "    - Booleans"
   ]
  },
  {
   "attachments": {},
   "cell_type": "markdown",
   "metadata": {},
   "source": [
    "## A simple Python program"
   ]
  },
  {
   "attachments": {},
   "cell_type": "markdown",
   "metadata": {},
   "source": [
    "### Convert temperature from Celcius to Fahrenheit"
   ]
  },
  {
   "cell_type": "code",
   "execution_count": null,
   "metadata": {},
   "outputs": [],
   "source": [
    "## Create a program that gets user input of temperature in Celsius, and return the corresponding Fahrenheit\n",
    "c_temp = eval(input('Please enter a temperature value in Celsius: '))\n",
    "print('It is ' + str(c_temp*9/5+32) + ' in Fahrenheit')"
   ]
  },
  {
   "cell_type": "code",
   "execution_count": null,
   "metadata": {},
   "outputs": [],
   "source": []
  },
  {
   "attachments": {},
   "cell_type": "markdown",
   "metadata": {},
   "source": [
    "### Comments in Python Program"
   ]
  },
  {
   "attachments": {},
   "cell_type": "markdown",
   "metadata": {},
   "source": [
    "* Single-Line comment starts with the hash character, `#`"
   ]
  },
  {
   "cell_type": "code",
   "execution_count": null,
   "metadata": {},
   "outputs": [],
   "source": []
  },
  {
   "attachments": {},
   "cell_type": "markdown",
   "metadata": {},
   "source": [
    "* Multi-Line comment"
   ]
  },
  {
   "cell_type": "code",
   "execution_count": null,
   "metadata": {},
   "outputs": [],
   "source": []
  },
  {
   "attachments": {},
   "cell_type": "markdown",
   "metadata": {},
   "source": [
    "## Variables\n",
    "(The Fundamental Building Block of Python Programming)\n",
    "* A Python variable is a reserved memory location to store values. It is a placeholder where you could use to save parameters that'll be repeatly used in your program. The assignment statement (a.k.a. definition) of a variable normally follows the pattern of `VariableName = Value`. Unlike other programming languages (such as C/C++/Java), you don't need to clarify the data type of the variable.\n",
    "* `=` is the assigning operator in Python, not the logic operator (`equal`, we'll talk about this later)\n",
    "* Value can be of any data structure"
   ]
  },
  {
   "cell_type": "code",
   "execution_count": null,
   "metadata": {},
   "outputs": [],
   "source": [
    "## Declare a variable and initialize it\n",
    "x = 1\n",
    "print(x)"
   ]
  },
  {
   "cell_type": "code",
   "execution_count": null,
   "metadata": {},
   "outputs": [],
   "source": []
  },
  {
   "cell_type": "code",
   "execution_count": null,
   "metadata": {},
   "outputs": [],
   "source": [
    "## Change the value of a variable\n",
    "x = 2\n",
    "print(x)"
   ]
  },
  {
   "cell_type": "code",
   "execution_count": null,
   "metadata": {},
   "outputs": [],
   "source": [
    "x + 2 - x*2 - x/2"
   ]
  },
  {
   "cell_type": "code",
   "execution_count": null,
   "metadata": {},
   "outputs": [],
   "source": [
    "## Delete a variable\n",
    "del(x)\n",
    "print(x)"
   ]
  },
  {
   "cell_type": "code",
   "execution_count": null,
   "metadata": {},
   "outputs": [],
   "source": [
    "## You can also initialize a new variable with a pre-defined variable\n",
    "x = 3\n",
    "y = x\n",
    "print('The value of x is {}'.format(x))\n",
    "print('The value of y is {}'.format(y))"
   ]
  },
  {
   "cell_type": "code",
   "execution_count": null,
   "metadata": {},
   "outputs": [],
   "source": [
    "## Would y be impacted when we change the value of x?\n",
    "x = 4\n",
    "# print('The value of x is {}'.format(x))\n",
    "print('The value of y is ', y)\n",
    "print('The value of x is ', x)"
   ]
  },
  {
   "cell_type": "code",
   "execution_count": null,
   "metadata": {},
   "outputs": [],
   "source": []
  },
  {
   "attachments": {},
   "cell_type": "markdown",
   "metadata": {},
   "source": [
    "## Basic Data Types"
   ]
  },
  {
   "attachments": {},
   "cell_type": "markdown",
   "metadata": {},
   "source": [
    "**Primitive Data Types**\n",
    "[[Official Documentation]( https://docs.python.org/3.8/library/stdtypes.html#numeric-types-int-float-complex)]"
   ]
  },
  {
   "attachments": {},
   "cell_type": "markdown",
   "metadata": {},
   "source": [
    "### Numbers\n",
    "* There are three distinct numeric types: **integers**, **floating point numbers**, and **complex numbers**"
   ]
  },
  {
   "attachments": {},
   "cell_type": "markdown",
   "metadata": {},
   "source": [
    "To define a variable of numeric data type, follow the syntax `VarName = value`"
   ]
  },
  {
   "cell_type": "code",
   "execution_count": null,
   "metadata": {},
   "outputs": [],
   "source": [
    "intNum = 1\n",
    "# print(intNum)\n",
    "print('Data Type of intNum is ', type(intNum))"
   ]
  },
  {
   "attachments": {},
   "cell_type": "markdown",
   "metadata": {},
   "source": [
    "You could use the function `int()` to cast the value type to `integer`"
   ]
  },
  {
   "cell_type": "code",
   "execution_count": null,
   "metadata": {},
   "outputs": [],
   "source": [
    "intNum2 = int(1.5)\n",
    "print(intNum2)\n",
    "print('Data Type of intNum2 is ', type(intNum2)) # type()"
   ]
  },
  {
   "attachments": {},
   "cell_type": "markdown",
   "metadata": {},
   "source": [
    "To define a floating point number, follow the syntax `VarName = value` or `VarName = float(value)`"
   ]
  },
  {
   "cell_type": "code",
   "execution_count": null,
   "metadata": {},
   "outputs": [],
   "source": [
    "x = 2.123\n",
    "type(x)"
   ]
  },
  {
   "cell_type": "code",
   "execution_count": null,
   "metadata": {},
   "outputs": [],
   "source": [
    "floatNum = 2. # or 2.\n",
    "print(floatNum)\n",
    "print('Data Type of floatNum is ', type(floatNum))"
   ]
  },
  {
   "cell_type": "code",
   "execution_count": null,
   "metadata": {},
   "outputs": [],
   "source": [
    "floatNum2 = float(2)\n",
    "print(floatNum2)\n",
    "print('Data Type of floatNum2 is ', type(floatNum2))"
   ]
  },
  {
   "attachments": {},
   "cell_type": "markdown",
   "metadata": {},
   "source": [
    "**Arithmetic Operations**\n",
    "\n",
    "| Operation       | Result                                                                      |\n",
    "|-----------------|-----------------------------------------------------------------------------|\n",
    "| x + y           | sum of x and y                                                              |\n",
    "| x - y           | difference of x and y                                                       |\n",
    "| x * y           | product of x and y                                                          |\n",
    "| x / y           | quotient of x and y                                                         |\n",
    "| x // y          | floored quotient of x and y                                                 |\n",
    "| x % y           | remainder of x / y                                                          |\n",
    "| -x              | x negated                                                                   |\n",
    "| +x              | x unchanged                                                                 |\n",
    "| abs(x)          | absolute value or magnitude of x                                            |\n",
    "| complex(re, im) | a complex number with real part re, imaginary part im. im defaults to zero. |\n",
    "| c.conjugate()   | conjugate of the complex number c                                           |\n",
    "| divmod(x, y)    | the pair (x // y, x % y)                                                    |\n",
    "| pow(x, y)       | x to the power y                                                            |\n",
    "| x ** y          | x to the power y                                                            |"
   ]
  },
  {
   "attachments": {},
   "cell_type": "markdown",
   "metadata": {},
   "source": [
    "![](../pics/division.jpg)"
   ]
  },
  {
   "cell_type": "code",
   "execution_count": null,
   "metadata": {},
   "outputs": [],
   "source": [
    "## division, quotient, remainder\n",
    "# print(7/3)\n",
    "# print(7//3)\n",
    "print(7%3)"
   ]
  },
  {
   "cell_type": "code",
   "execution_count": null,
   "metadata": {},
   "outputs": [],
   "source": [
    "## a power of a number\n",
    "print(2**5)"
   ]
  },
  {
   "attachments": {},
   "cell_type": "markdown",
   "metadata": {},
   "source": [
    "**Challenge** - Can you write a program to check if an input number is even or odd??"
   ]
  },
  {
   "cell_type": "code",
   "execution_count": null,
   "metadata": {},
   "outputs": [],
   "source": []
  },
  {
   "attachments": {},
   "cell_type": "markdown",
   "metadata": {
    "slideshow": {
     "slide_type": "slide"
    }
   },
   "source": [
    "### Strings\n",
    "\n",
    "* Strings are textual data, and are normally written in a variety of ways:\n",
    "    * Single quotes: 'allows embedded \"double\" quotes'\n",
    "    * Double quotes: \"allows embedded 'single' quotes\"\n",
    "    * Triple quoted: '''Three single quotes''' or \"\"\"Three double quotes\"\"\"\n",
    "* Some programming languages use single quotes for literal char s, double quotes for literal String s. In Python, there isn't such distinction. You can use them in both char and String\n",
    "* You can use `\\` to escape special characters"
   ]
  },
  {
   "attachments": {},
   "cell_type": "markdown",
   "metadata": {
    "slideshow": {
     "slide_type": "slide"
    }
   },
   "source": [
    "Define string variables"
   ]
  },
  {
   "cell_type": "code",
   "execution_count": null,
   "metadata": {},
   "outputs": [],
   "source": [
    "## single line strings\n",
    "# x = 'this is a string'\n",
    "x = \"this is a string\"\n",
    "# print(x)\n",
    "x"
   ]
  },
  {
   "cell_type": "code",
   "execution_count": null,
   "metadata": {},
   "outputs": [],
   "source": [
    "type(x)"
   ]
  },
  {
   "cell_type": "code",
   "execution_count": null,
   "metadata": {},
   "outputs": [],
   "source": [
    "## multi-line strings\n",
    "x = '''\n",
    "this is line 1\n",
    "this is line 2\n",
    "'''\n",
    "print(x)"
   ]
  },
  {
   "cell_type": "code",
   "execution_count": null,
   "metadata": {},
   "outputs": [],
   "source": [
    "x"
   ]
  },
  {
   "cell_type": "code",
   "execution_count": null,
   "metadata": {},
   "outputs": [],
   "source": []
  },
  {
   "cell_type": "code",
   "execution_count": null,
   "metadata": {},
   "outputs": [],
   "source": [
    "## deal with special characters\n",
    "x = 'this is line1 \\nthis is line2'\n",
    "print(x)"
   ]
  },
  {
   "cell_type": "code",
   "execution_count": null,
   "metadata": {},
   "outputs": [],
   "source": [
    "x = 'this is line1\\tthis is line2'\n",
    "print(x)"
   ]
  },
  {
   "cell_type": "code",
   "execution_count": null,
   "metadata": {},
   "outputs": [],
   "source": []
  },
  {
   "attachments": {},
   "cell_type": "markdown",
   "metadata": {
    "slideshow": {
     "slide_type": "slide"
    }
   },
   "source": [
    "#### String operations\n",
    "##### Indexing and slicing strings\n",
    "* <span style=\"color:blue\">Each character of the string is assigned a index number representing its position in the string, and index number starts from 0</span>"
   ]
  },
  {
   "cell_type": "code",
   "execution_count": null,
   "metadata": {},
   "outputs": [],
   "source": [
    "## check the length of a string\n",
    "# x = 'abcdefg'\n",
    "x = ' fadgj;lasjglsajgl;jgl;jgl;j;gj;jdg;pojgj;sdajgo;ajgoj'\n",
    "len(x)"
   ]
  },
  {
   "cell_type": "code",
   "execution_count": null,
   "metadata": {},
   "outputs": [],
   "source": [
    "## position based indexing\n",
    "x[9]"
   ]
  },
  {
   "cell_type": "code",
   "execution_count": null,
   "metadata": {
    "slideshow": {
     "slide_type": "slide"
    }
   },
   "outputs": [],
   "source": [
    "## negative indexing\n",
    "x = 'abcdefg'\n",
    "# # x[0]\n",
    "# x[-3]\n",
    "x[-3]"
   ]
  },
  {
   "cell_type": "code",
   "execution_count": null,
   "metadata": {},
   "outputs": [],
   "source": [
    "## slicing a string\n",
    "x = 'abcdefghijk'\n",
    "# x[2:6]\n",
    "x[2:]"
   ]
  },
  {
   "attachments": {},
   "cell_type": "markdown",
   "metadata": {
    "slideshow": {
     "slide_type": "slide"
    }
   },
   "source": [
    "##### Special operators/functions\n",
    "* `+` concatenates two strings\n",
    "* `*` repeats given string a certain number of times\n",
    "* str.`lower()` and str.`upper()` change the case of strings"
   ]
  },
  {
   "cell_type": "code",
   "execution_count": null,
   "metadata": {},
   "outputs": [],
   "source": [
    "## concatenate strings\n",
    "x = 'abc'\n",
    "y = 'def'\n",
    "# x+y\n",
    "# x*3\n",
    "x1 = 'ABC'\n",
    "x1.lower()\n",
    "\n",
    "x.upper()"
   ]
  },
  {
   "cell_type": "code",
   "execution_count": null,
   "metadata": {
    "slideshow": {
     "slide_type": "slide"
    }
   },
   "outputs": [],
   "source": [
    "## repeat strings\n",
    "'abc'*5"
   ]
  },
  {
   "attachments": {},
   "cell_type": "markdown",
   "metadata": {
    "slideshow": {
     "slide_type": "slide"
    }
   },
   "source": [
    "#### String formatting [[Official Documentation](https://docs.python.org/3.8/library/string.html#formatstrings)]\n",
    "\n",
    "##### \"Old C style\" string formatting\n",
    "The `%` operator is used to format a set of variables enclosed in a `tuple` (a fixed size list, will be covered later in this class), together with a format string, which contains normal text together with `argument specifiers`.\n",
    "\n",
    "Common `argument specifiers` include:\n",
    "* `%s` - String (or any object with a string representation, like numbers)\n",
    "* `%d` - Integers\n",
    "* `%f` - Floating point numbers (by default, it keeps 6 decimal digits)\n",
    "* `%.<number of digits>f` - Floating point numbers with a fixed amount of digits to the right of the dot.\n"
   ]
  },
  {
   "cell_type": "code",
   "execution_count": null,
   "metadata": {
    "slideshow": {
     "slide_type": "slide"
    }
   },
   "outputs": [],
   "source": [
    "## format string with 1 placeholder\n",
    "name = 'Xiangshi'\n",
    "'My name is %s' % name"
   ]
  },
  {
   "cell_type": "code",
   "execution_count": null,
   "metadata": {
    "scrolled": true
   },
   "outputs": [],
   "source": [
    "## format string with 2 placeholder\n",
    "name = 'Xiangshi'\n",
    "balance = 123.4\n",
    "'Hello %s. Your current bank account balance is $%.2f' % (name, balance)"
   ]
  },
  {
   "attachments": {},
   "cell_type": "markdown",
   "metadata": {
    "slideshow": {
     "slide_type": "slide"
    }
   },
   "source": [
    "##### String formatting via the format() function\n",
    "* In Python 3, you can also format strings by calling the `.format()` method on a string object. `{}` is used as a replacement field for values you'd like to plug in, and also a container for `format specifications`.\n",
    "* A general convention is that <ins>an empty format specification produces the same result as if you had called the function `str()` on the value</ins>. A non-empty format specifications typically modifies the result.\n",
    "* The common pattern of a replacement field is like `{field_name:format_spec}`\n",
    "* Check the [official documentation](https://docs.python.org/3.8/library/string.html#formatstrings) for more details on `format specifications` pattern"
   ]
  },
  {
   "attachments": {},
   "cell_type": "markdown",
   "metadata": {
    "slideshow": {
     "slide_type": "slide"
    }
   },
   "source": [
    "* Example 1: no format modification\n",
    "```\n",
    "\"{} {}\".format(a,b), \"{0} {1}\".format(a,b), or \"{A} {B}\".format(A=a,B=b)\n",
    "```"
   ]
  },
  {
   "cell_type": "code",
   "execution_count": null,
   "metadata": {},
   "outputs": [],
   "source": [
    "a = 1\n",
    "b = 2\n",
    "c = a + b\n",
    "'{} plus {} is {}'.format(b,a,c) \n",
    "# '{B} plus {A} is {C}'.format(B=b,A=a,C=c) "
   ]
  },
  {
   "attachments": {},
   "cell_type": "markdown",
   "metadata": {
    "slideshow": {
     "slide_type": "slide"
    }
   },
   "source": [
    "\n",
    "* Example 2: floating point number"
   ]
  },
  {
   "cell_type": "code",
   "execution_count": null,
   "metadata": {},
   "outputs": [],
   "source": [
    "a = 1\n",
    "b = 2\n",
    "c = a + b\n",
    "'{A:f} plus {B:f} is {C:f}'.format(A=a,B=b,C=c) \n",
    "# you can also use index as the field_name\n",
    "# '{0:f} plus {1:f} is {2:f}'.format(a,b,c) \n",
    "# '{:f} plus {:f} is {:f}'.format(a,b,c) "
   ]
  },
  {
   "cell_type": "code",
   "execution_count": null,
   "metadata": {},
   "outputs": [],
   "source": [
    "## control the precision\n",
    "'{A:.2f} plus {B:.2f} is {C:.2f}'.format(A=a,B=b,C=c) "
   ]
  },
  {
   "cell_type": "code",
   "execution_count": null,
   "metadata": {},
   "outputs": [],
   "source": [
    "## align the number\n",
    "print('{:>5.0f}'.format(1))\n",
    "print('{:>5.1f}'.format(1))\n",
    "print('{:>5.2f}'.format(1))\n",
    "print('{:>5.3f}'.format(1))\n",
    "# print('{:>5.4f}'.format(1))"
   ]
  },
  {
   "attachments": {},
   "cell_type": "markdown",
   "metadata": {},
   "source": [
    "##### The `f string` formatting\n",
    "* Starting from Python 3.6, the `f string` formatting became available\n",
    "* It in general carrys the same coding style as the `format()` function and is even conciser!!"
   ]
  },
  {
   "cell_type": "code",
   "execution_count": null,
   "metadata": {},
   "outputs": [],
   "source": [
    "a = 1\n",
    "b = 2\n",
    "c = a + b\n",
    "f'{b} plus {a} is {c}'"
   ]
  },
  {
   "attachments": {},
   "cell_type": "markdown",
   "metadata": {},
   "source": [
    "* Offline reading: https://realpython.com/python-f-strings/"
   ]
  },
  {
   "cell_type": "code",
   "execution_count": null,
   "metadata": {},
   "outputs": [],
   "source": []
  },
  {
   "attachments": {},
   "cell_type": "markdown",
   "metadata": {},
   "source": [
    "**Challenge** - Align a string to right with a predefined window width"
   ]
  },
  {
   "cell_type": "code",
   "execution_count": null,
   "metadata": {},
   "outputs": [],
   "source": [
    "\"{:>10}\".format(\"Test\")"
   ]
  },
  {
   "cell_type": "code",
   "execution_count": null,
   "metadata": {},
   "outputs": [],
   "source": [
    "\"{:^10}\".format(\"Test\")"
   ]
  },
  {
   "cell_type": "code",
   "execution_count": null,
   "metadata": {},
   "outputs": [],
   "source": [
    "\"{:<10}\".format(\"Test\")"
   ]
  },
  {
   "cell_type": "code",
   "execution_count": null,
   "metadata": {},
   "outputs": [],
   "source": [
    "\"{:>10}\".format(\"This is our first class, I enjoy meeting everyone here\")"
   ]
  },
  {
   "cell_type": "code",
   "execution_count": null,
   "metadata": {},
   "outputs": [],
   "source": [
    "# A different way!!\n",
    "\"Test\".ljust(10, ' ')"
   ]
  },
  {
   "attachments": {},
   "cell_type": "markdown",
   "metadata": {},
   "source": [
    "##### Replace a character within a string"
   ]
  },
  {
   "cell_type": "code",
   "execution_count": null,
   "metadata": {},
   "outputs": [],
   "source": []
  },
  {
   "attachments": {},
   "cell_type": "markdown",
   "metadata": {
    "slideshow": {
     "slide_type": "slide"
    }
   },
   "source": [
    "### Boolean\n",
    "This built-in data type that can take up the values: `True` and `False`, which often makes them interchangeable with the integers 1 and 0. Booleans are useful in conditional and comparison expressions."
   ]
  },
  {
   "cell_type": "code",
   "execution_count": null,
   "metadata": {},
   "outputs": [],
   "source": [
    "x = 1\n",
    "x == 1\n",
    "# print(x==1)\n",
    "# print(not x==2)\n",
    "print(x!=2)"
   ]
  },
  {
   "cell_type": "code",
   "execution_count": null,
   "metadata": {
    "scrolled": true
   },
   "outputs": [],
   "source": [
    "(100>10) and (100<200)"
   ]
  },
  {
   "cell_type": "code",
   "execution_count": null,
   "metadata": {},
   "outputs": [],
   "source": [
    "(100>10) or (100>200)"
   ]
  },
  {
   "cell_type": "code",
   "execution_count": null,
   "metadata": {},
   "outputs": [],
   "source": [
    "((100>10) & (100<200))==True\n",
    "# ((100>10) & (100<200))==False"
   ]
  },
  {
   "cell_type": "code",
   "execution_count": null,
   "metadata": {},
   "outputs": [],
   "source": [
    "((100>10) & (100<200))==1"
   ]
  },
  {
   "attachments": {},
   "cell_type": "markdown",
   "metadata": {
    "slideshow": {
     "slide_type": "slide"
    }
   },
   "source": [
    "**Logical operators**\n",
    "\n",
    "| Operator                                                              | Description                                                                        |\n",
    "|-----------------------------------------------------------------------|------------------------------------------------------------------------------------|\n",
    "| or                                                                    | Boolean OR                                                                         |\n",
    "| and                                                                   | Boolean AND                                                                        |\n",
    "| not x                                                                 | Boolean NOT                                                                        |\n",
    "| in, not in, is, is not, <, <=, >, >=, !=, ==                          | Comparisons, including membership tests and identity tests                         |"
   ]
  },
  {
   "cell_type": "code",
   "execution_count": null,
   "metadata": {},
   "outputs": [],
   "source": []
  },
  {
   "cell_type": "code",
   "execution_count": null,
   "metadata": {},
   "outputs": [],
   "source": []
  },
  {
   "cell_type": "code",
   "execution_count": null,
   "metadata": {},
   "outputs": [],
   "source": []
  }
 ],
 "metadata": {
  "kernelspec": {
   "display_name": "Python 3 (ipykernel)",
   "language": "python",
   "name": "python3"
  },
  "language_info": {
   "codemirror_mode": {
    "name": "ipython",
    "version": 3
   },
   "file_extension": ".py",
   "mimetype": "text/x-python",
   "name": "python",
   "nbconvert_exporter": "python",
   "pygments_lexer": "ipython3",
   "version": "3.10.8"
  }
 },
 "nbformat": 4,
 "nbformat_minor": 4
}
