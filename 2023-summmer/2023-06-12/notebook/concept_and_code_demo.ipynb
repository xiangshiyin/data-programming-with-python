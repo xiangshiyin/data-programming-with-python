{
 "cells": [
  {
   "cell_type": "code",
   "execution_count": null,
   "id": "f46eda06-967b-4bbc-95fe-070c47663754",
   "metadata": {},
   "outputs": [],
   "source": []
  },
  {
   "cell_type": "markdown",
   "id": "ae6ce161-7697-4fbd-a438-1224f2ebfe1d",
   "metadata": {},
   "source": [
    "# Today's Coding Topics\n",
    "[![Open In Colab](https://colab.research.google.com/assets/colab-badge.svg)](https://colab.research.google.com/github/xiangshiyin/data-programming-with-python/blob/main/2023-summmer/2023-06-12/notebook/concept_and_code_demo.ipynb)\n",
    "\n",
    "* Recap of previous lecture\n",
    "* `for` loops\n",
    "* `functions` in Python\n",
    "* Files and I/O\n",
    "* Python libraries and how to use them\n",
    "* Hands-on practices\n"
   ]
  },
  {
   "cell_type": "markdown",
   "id": "ec18f107-4123-4c8f-93e6-51b6a5ee10c8",
   "metadata": {},
   "source": [
    "# Recap of previous lecture"
   ]
  },
  {
   "cell_type": "code",
   "execution_count": null,
   "id": "25955929-d416-44ad-9776-e8b224f87d4b",
   "metadata": {},
   "outputs": [],
   "source": []
  },
  {
   "cell_type": "markdown",
   "id": "eee28ecf-7ad2-4df2-972e-6ff54541b699",
   "metadata": {},
   "source": [
    "## Loops"
   ]
  },
  {
   "cell_type": "markdown",
   "id": "c491bd13-ca8f-4125-90c3-d9217f71c7be",
   "metadata": {},
   "source": [
    "### `while` loops"
   ]
  },
  {
   "cell_type": "markdown",
   "id": "9254ac1d-076b-499f-8ea3-b09ae271a85d",
   "metadata": {},
   "source": [
    "* Example: print text in an iterative way\n",
    "\n",
    "  * Requirements:\n",
    "    * Print the given text sentence by sentence.\n",
    "    * Customize the number of sentence to print by user input"
   ]
  },
  {
   "cell_type": "code",
   "execution_count": null,
   "id": "09f79966-dd46-4088-9f77-d047e8e86d44",
   "metadata": {},
   "outputs": [],
   "source": [
    "text = \"The Dursleys had everything they wanted, but they also had a secret, and their greatest fear was that somebody would discover it. They didn't think they could bear it if anyone found out about the Potters. Mrs. Potter was Mrs. Dursley's sister, but they hadn't met for several years; in fact, Mrs. Dursley pretended she didn't have a sister, because her sister and her good-for-nothing husband were as unDursleyish as it was possible to be. The Dursleys shuddered to think what the neighbors would say if the Potters arrived in the street. The Dursleys knew that the Potters had a small son, too, but they had never even seen him. This boy was another good reason for keeping the Potters away; they didn't want Dudley mixing with a child like that.\"\n",
    "\n",
    "## Collect number of sentences from keyboard input\n",
    "\n",
    "## Create a loop to print the text sentence by sentence\n"
   ]
  },
  {
   "cell_type": "markdown",
   "id": "c8f928dc-528c-439b-840d-e5523873fcf6",
   "metadata": {},
   "source": [
    "### `for` loops"
   ]
  },
  {
   "cell_type": "markdown",
   "id": "9d86d026-e393-42e4-bb05-04caae83600a",
   "metadata": {},
   "source": [
    "* **Example 1**:  Iterate through a range"
   ]
  },
  {
   "cell_type": "code",
   "execution_count": null,
   "id": "f26e9d16-bd98-470c-b04a-5d43e38cdf3c",
   "metadata": {},
   "outputs": [],
   "source": []
  },
  {
   "cell_type": "markdown",
   "id": "14e9949f-36e1-4d86-95ad-fc758c9bdf28",
   "metadata": {},
   "source": [
    "* **Example 2**: Iterate through list"
   ]
  },
  {
   "cell_type": "code",
   "execution_count": null,
   "id": "2d5334b6-91ab-4154-adb8-6b77072ac442",
   "metadata": {},
   "outputs": [],
   "source": []
  },
  {
   "cell_type": "markdown",
   "id": "7e8ca683-1c4a-41c4-9876-7dfed4f23f5c",
   "metadata": {},
   "source": [
    "* **Example 3**: Iterate through a dictionary"
   ]
  },
  {
   "cell_type": "code",
   "execution_count": null,
   "id": "8b2ea07c-887a-42d1-bcdd-210d69200a6c",
   "metadata": {},
   "outputs": [],
   "source": []
  },
  {
   "cell_type": "code",
   "execution_count": null,
   "id": "0ac3a542-3e5c-4e5d-974e-b8eb3e9af870",
   "metadata": {},
   "outputs": [],
   "source": []
  },
  {
   "cell_type": "markdown",
   "id": "35999f1d-5f64-4bbb-81c1-6501f83f86ef",
   "metadata": {},
   "source": [
    "### `break` and `continue` statements\n",
    "* `break` is used to exit a loop\n",
    "* `continue` is used to skip the code block after the continue statement for the current iteration"
   ]
  },
  {
   "cell_type": "markdown",
   "id": "998c1f77-bc23-4bb5-af70-66f934ede672",
   "metadata": {
    "slideshow": {
     "slide_type": "slide"
    }
   },
   "source": [
    "**Example 1**: print the even numbers in a range\n",
    "* Requirements:\n",
    "    * Define the range from keyboard input\n",
    "    * Print the even numbers within the range one at a time"
   ]
  },
  {
   "cell_type": "code",
   "execution_count": null,
   "id": "7199eeb0-960f-4074-aa93-bce4f6bc9f05",
   "metadata": {},
   "outputs": [],
   "source": [
    "numrange = eval(input('Input the upper bound of the range: '))\n",
    "for num in range(numrange):\n"
   ]
  },
  {
   "cell_type": "code",
   "execution_count": null,
   "id": "25c5b974-e6d9-462c-a337-6afdc499a684",
   "metadata": {
    "slideshow": {
     "slide_type": "slide"
    }
   },
   "outputs": [],
   "source": [
    "## How do we achieve the same goal with the break statement?\n",
    "numrange = eval(input('Input the upper bound of the range: '))\n",
    "num = 0\n",
    "while numrange>0:\n"
   ]
  },
  {
   "cell_type": "code",
   "execution_count": null,
   "id": "1cf036e8-e86e-4213-81f1-4931d3074ac3",
   "metadata": {},
   "outputs": [],
   "source": [
    "## The above two code examples all seem to be an overkill ..."
   ]
  },
  {
   "cell_type": "markdown",
   "id": "2c60ccbc-8e7e-44a0-bb37-fbee975b7d89",
   "metadata": {},
   "source": [
    "**Example 2**: Reverse a list\n",
    "* Requirements:\n",
    "    * For any input list, reverse the sequence in-place\n",
    "* Example:\n",
    "    * Input: [1,2,3,4]\n",
    "    * Output: [4,3,2,1]"
   ]
  },
  {
   "cell_type": "code",
   "execution_count": null,
   "id": "e6e5e034-2e75-4f94-a109-cee3a9dbe56f",
   "metadata": {},
   "outputs": [],
   "source": []
  },
  {
   "cell_type": "code",
   "execution_count": null,
   "id": "3e37a6eb-2485-4281-a04b-13d1e248d185",
   "metadata": {},
   "outputs": [],
   "source": []
  },
  {
   "cell_type": "code",
   "execution_count": null,
   "id": "16a7adee-1268-490e-9b08-d2be48215ac0",
   "metadata": {},
   "outputs": [],
   "source": []
  },
  {
   "cell_type": "markdown",
   "id": "cdb38c60-088b-4cc8-b8d9-16992387a966",
   "metadata": {},
   "source": [
    "### List Comprehensions\n",
    "List comprehensions are a convenient and widely used Python language feature. They allow you to concisely form a new list by filtering the elements of a collection, transforming the elements passing the filter into one concise expression. They take the basic form:\n",
    "\n",
    "`[expr for value in collection if condition]`\n",
    "\n",
    "This is equivalent to the following for loop:\n",
    "\n",
    "```python\n",
    "result = [] for value in collection:\n",
    "\n",
    "if condition:\n",
    "\n",
    "result.append(expr)\n",
    "```"
   ]
  },
  {
   "cell_type": "code",
   "execution_count": null,
   "id": "771aef8d-134a-4d93-8359-396bc2dac0c3",
   "metadata": {},
   "outputs": [],
   "source": []
  },
  {
   "cell_type": "code",
   "execution_count": null,
   "id": "344db3e9-7e0e-4473-9398-d8b5d1cf117d",
   "metadata": {},
   "outputs": [],
   "source": []
  },
  {
   "cell_type": "code",
   "execution_count": null,
   "id": "af9d2d64-10ef-4d50-aef9-55bc81e5d967",
   "metadata": {},
   "outputs": [],
   "source": []
  },
  {
   "cell_type": "markdown",
   "id": "a509e18d-d369-430c-b760-09f2f205be9c",
   "metadata": {},
   "source": [
    "# Functions"
   ]
  },
  {
   "cell_type": "markdown",
   "id": "04719d59-673f-4f43-8924-ceb654995bc3",
   "metadata": {
    "slideshow": {
     "slide_type": "slide"
    }
   },
   "source": [
    "## Create a function"
   ]
  },
  {
   "cell_type": "code",
   "execution_count": null,
   "id": "606f65bb-7742-4cbe-bd51-264c987cc18f",
   "metadata": {},
   "outputs": [],
   "source": [
    "## simple hello world\n",
    "def hello():\n",
    "       \n",
    "    \n",
    "## call the function\n",
    "hello()"
   ]
  },
  {
   "cell_type": "code",
   "execution_count": null,
   "id": "c06f60d9-3324-4a83-80da-e55993766588",
   "metadata": {},
   "outputs": [],
   "source": [
    "## two sum\n",
    "def twoSum(num1,num2):\n",
    "\n",
    "## call the function\n",
    "twoSum(1,2)"
   ]
  },
  {
   "cell_type": "code",
   "execution_count": null,
   "id": "d71a25bf-f24f-48a4-91d5-d18141fa6ed4",
   "metadata": {},
   "outputs": [],
   "source": [
    "x = twoSum(1,2)\n",
    "print(x)"
   ]
  },
  {
   "cell_type": "markdown",
   "id": "75fa2c47-6fed-426f-8272-7471dcdd4fb1",
   "metadata": {},
   "source": [
    "### Practice: Calculate the factorial of an integer\n",
    "In mathematics, the factorial of a positive integer n, denoted by n!, is the product of all positive integers less than or equal to n:\n",
    "\n",
    "$n!=n\\times(n-1)\\times(n-2)\\times(n-3)\\times...\\times3\\times2\\times1$\n",
    "\n",
    "For example,\n",
    "$5!=5\\times4\\times3\\times2\\times1=120$"
   ]
  },
  {
   "cell_type": "code",
   "execution_count": null,
   "id": "dced7b85-2d0d-425a-9d0d-304209bafeee",
   "metadata": {},
   "outputs": [],
   "source": [
    "## The lazy way\n",
    "import math\n",
    "math.factorial(5)"
   ]
  },
  {
   "cell_type": "code",
   "execution_count": null,
   "id": "cecea327-ac16-4f80-a993-b67dad4cba15",
   "metadata": {},
   "outputs": [],
   "source": [
    "def fact(n):\n",
    "\n",
    "\n",
    "x = fact(5)\n"
   ]
  },
  {
   "cell_type": "markdown",
   "id": "8e2d56a6-c4c0-4925-a8e8-2fc9fec9fe65",
   "metadata": {},
   "source": [
    "### Practice: Sum up all integers within a range"
   ]
  },
  {
   "cell_type": "code",
   "execution_count": null,
   "id": "0da76eca-b14d-4fcf-bb88-1c1ee2e7143e",
   "metadata": {},
   "outputs": [],
   "source": [
    "def sumAll(n):\n",
    "\n",
    "\n",
    "sumAll(5) # 0 + 1 + 2 + 3 + 4"
   ]
  },
  {
   "cell_type": "markdown",
   "id": "e3164be4-a3ef-4643-babf-c72d01bcf4a9",
   "metadata": {
    "slideshow": {
     "slide_type": "slide"
    }
   },
   "source": [
    "## Lambda Expression\n",
    "* Lambda expressions (sometimes called lambda forms) are often used to create anonymous functions. The expression `lambda <parameters>: <expression>` yields a function object. \n",
    "* You can also name it like `func = lambda <parameters>: <expression>`. The named object behaves like a function object defined with:\n",
    "```python\n",
    "def func(parameters):\n",
    "    return expression\n",
    "```\n",
    "* It can take any number of arguments, but can only have one expression\n",
    "* Note that the function can't contain statement or annotations"
   ]
  },
  {
   "cell_type": "code",
   "execution_count": null,
   "id": "d721bcbf-b16f-42d0-8222-dec04a83cb20",
   "metadata": {},
   "outputs": [],
   "source": [
    "f = lambda a: a**(1/2)\n",
    "f(5)"
   ]
  },
  {
   "cell_type": "code",
   "execution_count": null,
   "id": "0c58ec40-62d1-4f5f-9988-5cc35959eb41",
   "metadata": {},
   "outputs": [],
   "source": [
    "f = lambda a,b: (a**2+b**2)**(1/2) ## validate the pythagorean theorem\n",
    "f(3,4)"
   ]
  },
  {
   "cell_type": "markdown",
   "id": "1e4017da-fe41-400b-a0b2-d188766a9ec7",
   "metadata": {
    "slideshow": {
     "slide_type": "slide"
    }
   },
   "source": [
    "## Built-In Functions\n",
    "[[Official Documentation](https://docs.python.org/3/library/functions.html)]\n",
    "* We actually have used many built-in functions: `enumerate()`, `min()`, `max()`, `int()`, `float()`, `complex()`, `eval()`, `input()`, `list()`, `type()`, etc.\n",
    "* Here are more ..."
   ]
  },
  {
   "cell_type": "markdown",
   "id": "a56d0e0c-2e83-4bb8-bb34-8cbae9a16a1d",
   "metadata": {
    "slideshow": {
     "slide_type": "slide"
    }
   },
   "source": [
    "**any(), all()**\n",
    "* `any()` takes an `iterable`<sup>[*](#footenote1)</sup>, and return `True` if any of the items is `True`\n",
    "* `all()` takes an `iterable`, and return `True` only if all of the items are `True`\n",
    "\n",
    "<a name=\"footnote1\">*</a> `iterable` is an object that you can loop over. Sequences are a very common type of `iterable`."
   ]
  },
  {
   "cell_type": "code",
   "execution_count": null,
   "id": "96b2b444-555a-464f-bb33-d9813e2091aa",
   "metadata": {
    "slideshow": {
     "slide_type": "-"
    }
   },
   "outputs": [],
   "source": [
    "any([False, False, False, False])"
   ]
  },
  {
   "cell_type": "code",
   "execution_count": null,
   "id": "3561a113-5bcd-4d89-9133-9bea82fa7914",
   "metadata": {},
   "outputs": [],
   "source": [
    "all([True, True, True, False])"
   ]
  },
  {
   "cell_type": "markdown",
   "id": "e7f3149d-6ac0-444a-8043-9d2d246b14eb",
   "metadata": {
    "slideshow": {
     "slide_type": "slide"
    }
   },
   "source": [
    "**map()**\n",
    "* `map(func, iter)` applies `func` to every item of the `iterable`, returns an `iterator`<sup>[*](#footenote2)</sup> of the results\n",
    "\n",
    "<a name=\"footnote2\">*</a> `iterator` is an object representing a stream of data. You can use the built-in `next()` function to retrieve the items one by one, and you can also loop over it. A clear distinction between `iterable` and `iterator` is that you can't see all the items of an iterator if you print it. You need to use `list()` function to see the complete set.\n",
    "\n",
    "Offline reading: **Iteration, Iterables, Iterators, and Looping** [Doc #3](https://towardsdatascience.com/python-basics-iteration-and-looping-6ca63b30835c)"
   ]
  },
  {
   "cell_type": "code",
   "execution_count": null,
   "id": "9cef47a2-e3e5-4e3f-91b6-c6a4fb657d45",
   "metadata": {},
   "outputs": [],
   "source": [
    "outputs = map(lambda x: x**2, [1,2,3])\n",
    "print(outputs)\n",
    "i = 0\n",
    "while i<3:\n",
    "    print(next(outputs))\n",
    "    i+=1"
   ]
  },
  {
   "cell_type": "code",
   "execution_count": null,
   "id": "ddfacb07-4610-4713-a0a0-60b592f5349f",
   "metadata": {},
   "outputs": [],
   "source": [
    "list(outputs)"
   ]
  },
  {
   "cell_type": "code",
   "execution_count": null,
   "id": "946aed34-1eb7-4e9d-a54b-cb6c8f8301c3",
   "metadata": {
    "scrolled": true
   },
   "outputs": [],
   "source": [
    "outputs = map(lambda x: x**2, [1,2,3])\n",
    "list(outputs)"
   ]
  },
  {
   "cell_type": "markdown",
   "id": "7dd5103e-92e8-40b6-9dcf-dd1a8c34e731",
   "metadata": {
    "slideshow": {
     "slide_type": "slide"
    }
   },
   "source": [
    "**zip()**\n",
    "* `zip(*iterables)` takes a list of iterables and returns an iterator that aggregates the elements"
   ]
  },
  {
   "cell_type": "code",
   "execution_count": null,
   "id": "eaaf8616-ec91-411f-913e-dcbdda9717d7",
   "metadata": {},
   "outputs": [],
   "source": [
    "## Print the full names of the past 4 presidents of United States\n",
    "first_name = ['Donald','Barack','George','Bill']\n",
    "last_name = ['Trump','Obama','Bush','Clinton']"
   ]
  },
  {
   "cell_type": "code",
   "execution_count": null,
   "id": "191bb99a-dbf8-42b7-baf7-06c89a01a441",
   "metadata": {},
   "outputs": [],
   "source": [
    "['{} {}'.format(first,last) for first,last in zip(first_name,last_name)]"
   ]
  },
  {
   "cell_type": "markdown",
   "id": "396a126f-2c04-4ee8-aaaf-53570c5b47af",
   "metadata": {
    "slideshow": {
     "slide_type": "slide"
    }
   },
   "source": [
    "**abs(), round()**\n",
    "\n",
    "* `abs(num)` returns the absolute value of the input `num`\n",
    "* `round(num,precision)` rounds the input `num` to the defined `precision` digits"
   ]
  },
  {
   "cell_type": "code",
   "execution_count": null,
   "id": "b268b064-f280-4768-b11b-7a2d20ba92c9",
   "metadata": {},
   "outputs": [],
   "source": [
    "## abs()\n",
    "abs(-12)"
   ]
  },
  {
   "cell_type": "code",
   "execution_count": null,
   "id": "7024a0ab-10e3-4529-81b8-aa8eeb07fc25",
   "metadata": {},
   "outputs": [],
   "source": [
    "## round()\n",
    "round(3.567,2)"
   ]
  },
  {
   "cell_type": "code",
   "execution_count": null,
   "id": "de7d4c17-54da-45e7-af4c-5ff9d25f0e8f",
   "metadata": {},
   "outputs": [],
   "source": []
  },
  {
   "cell_type": "code",
   "execution_count": null,
   "id": "5904252c-2351-4e95-bbe7-347aa72fcf81",
   "metadata": {},
   "outputs": [],
   "source": []
  },
  {
   "cell_type": "code",
   "execution_count": null,
   "id": "fa188014-02d8-42d4-b312-0988a109ad93",
   "metadata": {},
   "outputs": [],
   "source": []
  }
 ],
 "metadata": {
  "kernelspec": {
   "display_name": "Python 3 (ipykernel)",
   "language": "python",
   "name": "python3"
  },
  "language_info": {
   "codemirror_mode": {
    "name": "ipython",
    "version": 3
   },
   "file_extension": ".py",
   "mimetype": "text/x-python",
   "name": "python",
   "nbconvert_exporter": "python",
   "pygments_lexer": "ipython3",
   "version": "3.10.8"
  }
 },
 "nbformat": 4,
 "nbformat_minor": 5
}
