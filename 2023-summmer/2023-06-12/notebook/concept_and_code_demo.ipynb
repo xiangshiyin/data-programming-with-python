{
 "cells": [
  {
   "cell_type": "code",
   "execution_count": null,
   "id": "f46eda06-967b-4bbc-95fe-070c47663754",
   "metadata": {},
   "outputs": [],
   "source": []
  },
  {
   "attachments": {},
   "cell_type": "markdown",
   "id": "ae6ce161-7697-4fbd-a438-1224f2ebfe1d",
   "metadata": {},
   "source": [
    "# Today's Coding Topics\n",
    "[![Open In Colab](https://colab.research.google.com/assets/colab-badge.svg)](https://colab.research.google.com/github/xiangshiyin/data-programming-with-python/blob/main/2023-summmer/2023-06-12/notebook/concept_and_code_demo.ipynb)\n",
    "\n",
    "* Recap of previous lecture\n",
    "* `for` loops\n",
    "* `functions` in Python\n",
    "* Files and I/O\n",
    "* Python libraries and how to use them\n",
    "* Hands-on practices\n"
   ]
  },
  {
   "attachments": {},
   "cell_type": "markdown",
   "id": "ec18f107-4123-4c8f-93e6-51b6a5ee10c8",
   "metadata": {},
   "source": [
    "# Recap of previous lecture"
   ]
  },
  {
   "cell_type": "code",
   "execution_count": null,
   "id": "17594da2-ea46-4e57-b2a4-f709b29d1f62",
   "metadata": {},
   "outputs": [],
   "source": []
  },
  {
   "cell_type": "code",
   "execution_count": null,
   "id": "9077b1dc-903b-46d3-8112-5b9fca1770c3",
   "metadata": {},
   "outputs": [],
   "source": []
  },
  {
   "attachments": {},
   "cell_type": "markdown",
   "id": "40d644ae-064d-4255-80d6-bbebc99b1e3b",
   "metadata": {},
   "source": [
    "## More on `string` type\n"
   ]
  },
  {
   "cell_type": "code",
   "execution_count": null,
   "id": "7fc6fa77-cdfc-4062-9b42-a3816026776f",
   "metadata": {},
   "outputs": [],
   "source": [
    "# split string by certain delimiters\n",
    "x = 'a.b.c'\n",
    "x.split('.')"
   ]
  },
  {
   "cell_type": "code",
   "execution_count": null,
   "id": "2d1684c0-7b57-4977-892f-35df468e79a5",
   "metadata": {},
   "outputs": [],
   "source": [
    "x = 'a.b.c'\n",
    "x.split(b)"
   ]
  },
  {
   "cell_type": "code",
   "execution_count": null,
   "id": "90005f72-2e82-462f-963a-67a155af8dc5",
   "metadata": {},
   "outputs": [],
   "source": [
    "x = 'adbdc'\n",
    "# x.split('d')\n",
    "x.strip('d')"
   ]
  },
  {
   "cell_type": "code",
   "execution_count": null,
   "id": "852a5629-fa2f-402b-a7a2-0cd761e2f43d",
   "metadata": {},
   "outputs": [],
   "source": [
    "# remove leading or trailing spaces\n",
    "x = 'd  abc   '\n",
    "x1 = x.strip('d')\n",
    "# x1\n",
    "type(x1)"
   ]
  },
  {
   "cell_type": "code",
   "execution_count": null,
   "id": "6210253f-27f2-49eb-9d20-fc78c524b63b",
   "metadata": {},
   "outputs": [],
   "source": [
    "x = '  abc   '\n",
    "x.lstrip()"
   ]
  },
  {
   "cell_type": "code",
   "execution_count": null,
   "id": "d207173d-80db-4f0e-a5f2-4999167031c5",
   "metadata": {},
   "outputs": [],
   "source": [
    "x = '  abc   '\n",
    "x.rstrip()"
   ]
  },
  {
   "cell_type": "code",
   "execution_count": null,
   "id": "8bb64d57-acff-429e-8e2f-56246bd1e6b7",
   "metadata": {},
   "outputs": [],
   "source": [
    "# replace\n",
    "\n",
    "x = 'abcd'\n",
    "x.replace('d', '1')"
   ]
  },
  {
   "cell_type": "code",
   "execution_count": null,
   "id": "25955929-d416-44ad-9776-e8b224f87d4b",
   "metadata": {},
   "outputs": [],
   "source": []
  },
  {
   "attachments": {},
   "cell_type": "markdown",
   "id": "eee28ecf-7ad2-4df2-972e-6ff54541b699",
   "metadata": {},
   "source": [
    "## Loops"
   ]
  },
  {
   "attachments": {},
   "cell_type": "markdown",
   "id": "c491bd13-ca8f-4125-90c3-d9217f71c7be",
   "metadata": {},
   "source": [
    "### `while` loops"
   ]
  },
  {
   "attachments": {},
   "cell_type": "markdown",
   "id": "9254ac1d-076b-499f-8ea3-b09ae271a85d",
   "metadata": {},
   "source": [
    "* Example: print text in an iterative way\n",
    "\n",
    "  * Requirements:\n",
    "    * Print the given text sentence by sentence.\n",
    "    * Customize the number of sentence to print by user input"
   ]
  },
  {
   "cell_type": "code",
   "execution_count": null,
   "id": "09f79966-dd46-4088-9f77-d047e8e86d44",
   "metadata": {},
   "outputs": [],
   "source": [
    "text = \"The Dursleys had everything they wanted, but they also had a secret, and their greatest fear was that somebody would discover it. They didn't think they could bear it if anyone found out about the Potters. Mrs. Potter was Mrs. Dursley's sister, but they hadn't met for several years; in fact, Mrs. Dursley pretended she didn't have a sister, because her sister and her good-for-nothing husband were as unDursleyish as it was possible to be. The Dursleys shuddered to think what the neighbors would say if the Potters arrived in the street. The Dursleys knew that the Potters had a small son, too, but they had never even seen him. This boy was another good reason for keeping the Potters away; they didn't want Dudley mixing with a child like that.\"\n",
    "\n",
    "## Collect number of sentences from keyboard input\n",
    "\n",
    "## Create a loop to print the text sentence by sentence\n"
   ]
  },
  {
   "attachments": {},
   "cell_type": "markdown",
   "id": "c8f928dc-528c-439b-840d-e5523873fcf6",
   "metadata": {},
   "source": [
    "### `for` loops"
   ]
  },
  {
   "attachments": {},
   "cell_type": "markdown",
   "id": "9d86d026-e393-42e4-bb05-04caae83600a",
   "metadata": {},
   "source": [
    "* **Example 1**:  Iterate through a range"
   ]
  },
  {
   "cell_type": "code",
   "execution_count": null,
   "id": "f26e9d16-bd98-470c-b04a-5d43e38cdf3c",
   "metadata": {},
   "outputs": [],
   "source": []
  },
  {
   "attachments": {},
   "cell_type": "markdown",
   "id": "14e9949f-36e1-4d86-95ad-fc758c9bdf28",
   "metadata": {},
   "source": [
    "* **Example 2**: Iterate through list"
   ]
  },
  {
   "cell_type": "code",
   "execution_count": null,
   "id": "2d5334b6-91ab-4154-adb8-6b77072ac442",
   "metadata": {},
   "outputs": [],
   "source": []
  },
  {
   "attachments": {},
   "cell_type": "markdown",
   "id": "7e8ca683-1c4a-41c4-9876-7dfed4f23f5c",
   "metadata": {},
   "source": [
    "* **Example 3**: Iterate through a dictionary"
   ]
  },
  {
   "cell_type": "code",
   "execution_count": null,
   "id": "8b2ea07c-887a-42d1-bcdd-210d69200a6c",
   "metadata": {},
   "outputs": [],
   "source": []
  },
  {
   "cell_type": "code",
   "execution_count": null,
   "id": "0ac3a542-3e5c-4e5d-974e-b8eb3e9af870",
   "metadata": {},
   "outputs": [],
   "source": []
  },
  {
   "attachments": {},
   "cell_type": "markdown",
   "id": "35999f1d-5f64-4bbb-81c1-6501f83f86ef",
   "metadata": {},
   "source": [
    "### `break` and `continue` statements\n",
    "* `break` is used to exit a loop\n",
    "* `continue` is used to skip the code block after the continue statement for the current iteration"
   ]
  },
  {
   "attachments": {},
   "cell_type": "markdown",
   "id": "998c1f77-bc23-4bb5-af70-66f934ede672",
   "metadata": {
    "slideshow": {
     "slide_type": "slide"
    }
   },
   "source": [
    "**Example 1**: print the even numbers in a range\n",
    "* Requirements:\n",
    "    * Define the range from keyboard input\n",
    "    * Print the even numbers within the range one at a time"
   ]
  },
  {
   "cell_type": "code",
   "execution_count": null,
   "id": "7199eeb0-960f-4074-aa93-bce4f6bc9f05",
   "metadata": {},
   "outputs": [],
   "source": [
    "numrange = eval(input('Input the upper bound of the range: '))\n",
    "for num in range(numrange):\n"
   ]
  },
  {
   "cell_type": "code",
   "execution_count": null,
   "id": "25c5b974-e6d9-462c-a337-6afdc499a684",
   "metadata": {
    "slideshow": {
     "slide_type": "slide"
    }
   },
   "outputs": [],
   "source": [
    "## How do we achieve the same goal with the break statement?\n",
    "numrange = eval(input('Input the upper bound of the range: '))\n",
    "num = 0\n",
    "while numrange>0:\n"
   ]
  },
  {
   "cell_type": "code",
   "execution_count": null,
   "id": "1cf036e8-e86e-4213-81f1-4931d3074ac3",
   "metadata": {},
   "outputs": [],
   "source": [
    "## The above two code examples all seem to be an overkill ..."
   ]
  },
  {
   "attachments": {},
   "cell_type": "markdown",
   "id": "2c60ccbc-8e7e-44a0-bb37-fbee975b7d89",
   "metadata": {},
   "source": [
    "**Example 2**: Reverse a list\n",
    "* Requirements:\n",
    "    * For any input list, reverse the sequence in-place\n",
    "* Example:\n",
    "    * Input: [1,2,3,4]\n",
    "    * Output: [4,3,2,1]"
   ]
  },
  {
   "cell_type": "code",
   "execution_count": null,
   "id": "e6e5e034-2e75-4f94-a109-cee3a9dbe56f",
   "metadata": {},
   "outputs": [],
   "source": []
  },
  {
   "cell_type": "code",
   "execution_count": null,
   "id": "3e37a6eb-2485-4281-a04b-13d1e248d185",
   "metadata": {},
   "outputs": [],
   "source": []
  },
  {
   "cell_type": "code",
   "execution_count": null,
   "id": "16a7adee-1268-490e-9b08-d2be48215ac0",
   "metadata": {},
   "outputs": [],
   "source": []
  },
  {
   "attachments": {},
   "cell_type": "markdown",
   "id": "cdb38c60-088b-4cc8-b8d9-16992387a966",
   "metadata": {},
   "source": [
    "### List Comprehensions\n",
    "List comprehensions are a convenient and widely used Python language feature. They allow you to concisely form a new list by filtering the elements of a collection, transforming the elements passing the filter into one concise expression. They take the basic form:\n",
    "\n",
    "`[expr for value in collection if condition]`\n",
    "\n",
    "This is equivalent to the following for loop:\n",
    "\n",
    "```python\n",
    "result = [] for value in collection:\n",
    "\n",
    "if condition:\n",
    "\n",
    "result.append(expr)\n",
    "```"
   ]
  },
  {
   "cell_type": "code",
   "execution_count": null,
   "id": "771aef8d-134a-4d93-8359-396bc2dac0c3",
   "metadata": {},
   "outputs": [],
   "source": []
  },
  {
   "cell_type": "code",
   "execution_count": null,
   "id": "344db3e9-7e0e-4473-9398-d8b5d1cf117d",
   "metadata": {},
   "outputs": [],
   "source": []
  },
  {
   "cell_type": "code",
   "execution_count": null,
   "id": "af9d2d64-10ef-4d50-aef9-55bc81e5d967",
   "metadata": {},
   "outputs": [],
   "source": []
  },
  {
   "attachments": {},
   "cell_type": "markdown",
   "id": "a509e18d-d369-430c-b760-09f2f205be9c",
   "metadata": {},
   "source": [
    "# Functions"
   ]
  },
  {
   "attachments": {},
   "cell_type": "markdown",
   "id": "04719d59-673f-4f43-8924-ceb654995bc3",
   "metadata": {
    "slideshow": {
     "slide_type": "slide"
    }
   },
   "source": [
    "## Create a function"
   ]
  },
  {
   "cell_type": "code",
   "execution_count": null,
   "id": "606f65bb-7742-4cbe-bd51-264c987cc18f",
   "metadata": {},
   "outputs": [],
   "source": [
    "## simple hello world\n",
    "def hello():\n",
    "       \n",
    "    \n",
    "## call the function\n",
    "hello()"
   ]
  },
  {
   "cell_type": "code",
   "execution_count": null,
   "id": "c06f60d9-3324-4a83-80da-e55993766588",
   "metadata": {},
   "outputs": [],
   "source": [
    "## two sum\n",
    "def twoSum(num1,num2):\n",
    "\n",
    "## call the function\n",
    "twoSum(1,2)"
   ]
  },
  {
   "cell_type": "code",
   "execution_count": null,
   "id": "d71a25bf-f24f-48a4-91d5-d18141fa6ed4",
   "metadata": {},
   "outputs": [],
   "source": [
    "x = twoSum(1,2)\n",
    "print(x)"
   ]
  },
  {
   "attachments": {},
   "cell_type": "markdown",
   "id": "75fa2c47-6fed-426f-8272-7471dcdd4fb1",
   "metadata": {},
   "source": [
    "### Practice: Calculate the factorial of an integer\n",
    "In mathematics, the factorial of a positive integer n, denoted by n!, is the product of all positive integers less than or equal to n:\n",
    "\n",
    "$n!=n\\times(n-1)\\times(n-2)\\times(n-3)\\times...\\times3\\times2\\times1$\n",
    "\n",
    "For example,\n",
    "$5!=5\\times4\\times3\\times2\\times1=120$"
   ]
  },
  {
   "cell_type": "code",
   "execution_count": null,
   "id": "dced7b85-2d0d-425a-9d0d-304209bafeee",
   "metadata": {},
   "outputs": [],
   "source": [
    "## The lazy way\n",
    "import math\n",
    "math.factorial(5)"
   ]
  },
  {
   "cell_type": "code",
   "execution_count": null,
   "id": "cecea327-ac16-4f80-a993-b67dad4cba15",
   "metadata": {},
   "outputs": [],
   "source": [
    "def fact(n):\n",
    "\n",
    "\n",
    "x = fact(5)\n"
   ]
  },
  {
   "attachments": {},
   "cell_type": "markdown",
   "id": "8e2d56a6-c4c0-4925-a8e8-2fc9fec9fe65",
   "metadata": {},
   "source": [
    "### Practice: Sum up all integers within a range"
   ]
  },
  {
   "cell_type": "code",
   "execution_count": null,
   "id": "0da76eca-b14d-4fcf-bb88-1c1ee2e7143e",
   "metadata": {},
   "outputs": [],
   "source": [
    "def sumAll(n):\n",
    "\n",
    "\n",
    "sumAll(5) # 0 + 1 + 2 + 3 + 4"
   ]
  },
  {
   "attachments": {},
   "cell_type": "markdown",
   "id": "e3164be4-a3ef-4643-babf-c72d01bcf4a9",
   "metadata": {
    "slideshow": {
     "slide_type": "slide"
    }
   },
   "source": [
    "## Lambda Expression\n",
    "* Lambda expressions (sometimes called lambda forms) are often used to create anonymous functions. The expression `lambda <parameters>: <expression>` yields a function object. \n",
    "* You can also name it like `func = lambda <parameters>: <expression>`. The named object behaves like a function object defined with:\n",
    "```python\n",
    "def func(parameters):\n",
    "    return expression\n",
    "```\n",
    "* It can take any number of arguments, but can only have one expression\n",
    "* Note that the function can't contain statement or annotations"
   ]
  },
  {
   "cell_type": "code",
   "execution_count": null,
   "id": "d721bcbf-b16f-42d0-8222-dec04a83cb20",
   "metadata": {},
   "outputs": [],
   "source": [
    "f = lambda a: a**(1/2)\n",
    "f(5)"
   ]
  },
  {
   "cell_type": "code",
   "execution_count": null,
   "id": "0c58ec40-62d1-4f5f-9988-5cc35959eb41",
   "metadata": {},
   "outputs": [],
   "source": [
    "f = lambda a,b: (a**2+b**2)**(1/2) ## validate the pythagorean theorem\n",
    "f(3,4)"
   ]
  },
  {
   "attachments": {},
   "cell_type": "markdown",
   "id": "1e4017da-fe41-400b-a0b2-d188766a9ec7",
   "metadata": {
    "slideshow": {
     "slide_type": "slide"
    }
   },
   "source": [
    "## Built-In Functions\n",
    "[[Official Documentation](https://docs.python.org/3/library/functions.html)]\n",
    "* We actually have used many built-in functions: `enumerate()`, `min()`, `max()`, `int()`, `float()`, `complex()`, `eval()`, `input()`, `list()`, `type()`, etc.\n",
    "* Here are more ..."
   ]
  },
  {
   "attachments": {},
   "cell_type": "markdown",
   "id": "a56d0e0c-2e83-4bb8-bb34-8cbae9a16a1d",
   "metadata": {
    "slideshow": {
     "slide_type": "slide"
    }
   },
   "source": [
    "**any(), all()**\n",
    "* `any()` takes an `iterable`<sup>[*](#footenote1)</sup>, and return `True` if any of the items is `True`\n",
    "* `all()` takes an `iterable`, and return `True` only if all of the items are `True`\n",
    "\n",
    "<a name=\"footnote1\">*</a> `iterable` is an object that you can loop over. Sequences are a very common type of `iterable`."
   ]
  },
  {
   "cell_type": "code",
   "execution_count": null,
   "id": "96b2b444-555a-464f-bb33-d9813e2091aa",
   "metadata": {
    "slideshow": {
     "slide_type": "-"
    }
   },
   "outputs": [],
   "source": [
    "any([False, False, False, False])"
   ]
  },
  {
   "cell_type": "code",
   "execution_count": null,
   "id": "3561a113-5bcd-4d89-9133-9bea82fa7914",
   "metadata": {},
   "outputs": [],
   "source": [
    "all([True, True, True, False])"
   ]
  },
  {
   "attachments": {},
   "cell_type": "markdown",
   "id": "e7f3149d-6ac0-444a-8043-9d2d246b14eb",
   "metadata": {
    "slideshow": {
     "slide_type": "slide"
    }
   },
   "source": [
    "**map()**\n",
    "* `map(func, iter)` applies `func` to every item of the `iterable`, returns an `iterator`<sup>[*](#footenote2)</sup> of the results\n",
    "\n",
    "<a name=\"footnote2\">*</a> `iterator` is an object representing a stream of data. You can use the built-in `next()` function to retrieve the items one by one, and you can also loop over it. A clear distinction between `iterable` and `iterator` is that you can't see all the items of an iterator if you print it. You need to use `list()` function to see the complete set.\n",
    "\n",
    "Offline reading: **Iteration, Iterables, Iterators, and Looping** [Doc #3](https://towardsdatascience.com/python-basics-iteration-and-looping-6ca63b30835c)"
   ]
  },
  {
   "cell_type": "code",
   "execution_count": null,
   "id": "9cef47a2-e3e5-4e3f-91b6-c6a4fb657d45",
   "metadata": {},
   "outputs": [],
   "source": [
    "outputs = map(lambda x: x**2, [1,2,3])\n",
    "print(outputs)\n",
    "i = 0\n",
    "while i<3:\n",
    "    print(next(outputs))\n",
    "    i+=1"
   ]
  },
  {
   "cell_type": "code",
   "execution_count": null,
   "id": "ddfacb07-4610-4713-a0a0-60b592f5349f",
   "metadata": {},
   "outputs": [],
   "source": [
    "list(outputs)"
   ]
  },
  {
   "cell_type": "code",
   "execution_count": null,
   "id": "946aed34-1eb7-4e9d-a54b-cb6c8f8301c3",
   "metadata": {
    "scrolled": true
   },
   "outputs": [],
   "source": [
    "outputs = map(lambda x: x**2, [1,2,3])\n",
    "list(outputs)"
   ]
  },
  {
   "attachments": {},
   "cell_type": "markdown",
   "id": "7dd5103e-92e8-40b6-9dcf-dd1a8c34e731",
   "metadata": {
    "slideshow": {
     "slide_type": "slide"
    }
   },
   "source": [
    "**zip()**\n",
    "* `zip(*iterables)` takes a list of iterables and returns an iterator that aggregates the elements"
   ]
  },
  {
   "cell_type": "code",
   "execution_count": null,
   "id": "eaaf8616-ec91-411f-913e-dcbdda9717d7",
   "metadata": {},
   "outputs": [],
   "source": [
    "## Print the full names of the past 4 presidents of United States\n",
    "first_name = ['Donald','Barack','George','Bill']\n",
    "last_name = ['Trump','Obama','Bush','Clinton']"
   ]
  },
  {
   "cell_type": "code",
   "execution_count": null,
   "id": "191bb99a-dbf8-42b7-baf7-06c89a01a441",
   "metadata": {},
   "outputs": [],
   "source": [
    "['{} {}'.format(first,last) for first,last in zip(first_name,last_name)]"
   ]
  },
  {
   "attachments": {},
   "cell_type": "markdown",
   "id": "396a126f-2c04-4ee8-aaaf-53570c5b47af",
   "metadata": {
    "slideshow": {
     "slide_type": "slide"
    }
   },
   "source": [
    "**abs(), round()**\n",
    "\n",
    "* `abs(num)` returns the absolute value of the input `num`\n",
    "* `round(num,precision)` rounds the input `num` to the defined `precision` digits"
   ]
  },
  {
   "cell_type": "code",
   "execution_count": null,
   "id": "b268b064-f280-4768-b11b-7a2d20ba92c9",
   "metadata": {},
   "outputs": [],
   "source": [
    "## abs()\n",
    "abs(-12)"
   ]
  },
  {
   "cell_type": "code",
   "execution_count": null,
   "id": "7024a0ab-10e3-4529-81b8-aa8eeb07fc25",
   "metadata": {},
   "outputs": [],
   "source": [
    "## round()\n",
    "round(3.567,2)"
   ]
  },
  {
   "cell_type": "code",
   "execution_count": null,
   "id": "de7d4c17-54da-45e7-af4c-5ff9d25f0e8f",
   "metadata": {},
   "outputs": [],
   "source": []
  },
  {
   "attachments": {},
   "cell_type": "markdown",
   "id": "62309212-c39e-4203-a588-574578c94491",
   "metadata": {},
   "source": [
    "# Files and I/O in Python"
   ]
  },
  {
   "cell_type": "code",
   "execution_count": null,
   "id": "fa188014-02d8-42d4-b312-0988a109ad93",
   "metadata": {},
   "outputs": [],
   "source": []
  },
  {
   "attachments": {},
   "cell_type": "markdown",
   "id": "664fff18-90be-449d-b9b9-a55fc5d3e427",
   "metadata": {},
   "source": [
    "## Read from and write to files\n",
    "\n",
    "* Major tool/function: `open(file, mode='r')` (https://docs.python.org/3/library/functions.html#open)\n",
    "* The default mode is 'r' (open for reading text, synonym of 'rt'). The available modes:\n",
    "\n",
    "| Character | Meaning                                                         |\n",
    "|-----------|-----------------------------------------------------------------|\n",
    "| 'r'       | open for reading (default)                                      |\n",
    "| 'w'       | open for writing, truncating the file first                     |\n",
    "| 'x'       | open for exclusive creation, failing if the file already exists |\n",
    "| 'a'       | open for writing, appending to the end of the file if it exists |\n",
    "| 'b'       | binary mode                                                     |\n",
    "| 't'       | text mode (default)                                             |\n",
    "| '+'       | open for updating (reading and writing)                         |"
   ]
  },
  {
   "attachments": {},
   "cell_type": "markdown",
   "id": "ba67fa6e-5705-48e4-a017-2e3ff4c11cc3",
   "metadata": {},
   "source": [
    "**read**"
   ]
  },
  {
   "cell_type": "code",
   "execution_count": null,
   "id": "9a73eb60-f0ca-40f0-be21-f3075bf3d31a",
   "metadata": {},
   "outputs": [],
   "source": [
    "## Read from a file\n",
    "var = 'test-read.txt'\n",
    "fr = open(var,'r') # create one file handle\n",
    "# fr\n",
    "# fr.readlines()\n",
    "# for line in fr.readlines():\n",
    "#     print(line)\n",
    "# fr.close()\n",
    "\n",
    "\n",
    "lines = fr.readlines()\n",
    "\n",
    "fr.close()"
   ]
  },
  {
   "cell_type": "code",
   "execution_count": null,
   "id": "2a33f9df-0f73-43cb-9ff0-9a9f69318af3",
   "metadata": {},
   "outputs": [],
   "source": [
    "lines"
   ]
  },
  {
   "cell_type": "code",
   "execution_count": null,
   "id": "4cb8134c-86ac-463a-8361-3aa685e72026",
   "metadata": {
    "scrolled": true
   },
   "outputs": [],
   "source": [
    "fr.readlines()"
   ]
  },
  {
   "cell_type": "code",
   "execution_count": null,
   "id": "64a882cd-3396-43bd-9c56-2aa2645cc3ad",
   "metadata": {},
   "outputs": [],
   "source": [
    "## Read from a file\n",
    "fr = open('test-read.txt','r') # create one file handle\n",
    "fr.readlines()"
   ]
  },
  {
   "cell_type": "code",
   "execution_count": null,
   "id": "723ee811-28d0-4962-b320-403d247f0b3f",
   "metadata": {},
   "outputs": [],
   "source": [
    "## Another convenient way to automatically handle file handle closure\n",
    "\n",
    "with open('test-read.txt','r') as fr:\n",
    "    for line in fr.readlines():\n",
    "        print(line)"
   ]
  },
  {
   "cell_type": "code",
   "execution_count": null,
   "id": "31e173c8-7be2-4f82-a0e6-500c6c317d4f",
   "metadata": {},
   "outputs": [],
   "source": [
    "with open('test-read.txt','r') as fr:\n",
    "    for line in fr:\n",
    "        print(line)"
   ]
  },
  {
   "attachments": {},
   "cell_type": "markdown",
   "id": "892f1cbc-18ce-4b83-b209-985797374a9f",
   "metadata": {},
   "source": [
    "**write**"
   ]
  },
  {
   "cell_type": "code",
   "execution_count": null,
   "id": "be5e4f56-bca6-417a-8f8a-c5e72650ec58",
   "metadata": {},
   "outputs": [],
   "source": [
    "## open file in 'w' mode\n",
    "fw =  open('test-read-1.txt','w')\n",
    "fw.write('this is a test')\n",
    "fw.close()"
   ]
  },
  {
   "cell_type": "code",
   "execution_count": null,
   "id": "b8dc4e87-3d00-45f3-b5ff-a7e7fea00bd8",
   "metadata": {},
   "outputs": [],
   "source": [
    "with open('test-read.txt','r') as fr:\n",
    "    for line in fr:\n",
    "        print(line)"
   ]
  },
  {
   "cell_type": "code",
   "execution_count": null,
   "id": "1b10f0ae-06c9-4ac1-8ef8-3df03863de4c",
   "metadata": {},
   "outputs": [],
   "source": [
    "## Write to a file\n",
    "with open('test-read-2.txt','w') as fw:\n",
    "    for i in range(1,6):\n",
    "        fw.write('this is line {}\\n'.format(i))"
   ]
  },
  {
   "cell_type": "code",
   "execution_count": null,
   "id": "008727bc-95d2-4e75-9b8e-a096823ada78",
   "metadata": {},
   "outputs": [],
   "source": [
    "fw =  open('test-read.txt','w')\n",
    "fw.close()"
   ]
  },
  {
   "cell_type": "code",
   "execution_count": null,
   "id": "21ffc399-cdb1-41d7-8f35-0506febf419e",
   "metadata": {},
   "outputs": [],
   "source": []
  },
  {
   "cell_type": "code",
   "execution_count": null,
   "id": "e4769478-a6f1-4935-a310-61b2bf89ea7b",
   "metadata": {},
   "outputs": [],
   "source": [
    "## Write new content to a file\n",
    "with open('test-read.txt','w') as fw:\n",
    "    for i in range(6,11):\n",
    "        fw.write('this is line {}\\n'.format(i))"
   ]
  },
  {
   "cell_type": "code",
   "execution_count": null,
   "id": "b6a32f78-9c24-41eb-a580-98c9264d994d",
   "metadata": {},
   "outputs": [],
   "source": [
    "## Append to an existing file\n",
    "with open('test-read.txt','w') as fw:\n",
    "    for i in range(11,16):\n",
    "        fw.write('this is line {}\\n'.format(i))"
   ]
  },
  {
   "cell_type": "code",
   "execution_count": null,
   "id": "e578b244-bb66-47dc-aa7a-5cd7e9d377a8",
   "metadata": {},
   "outputs": [],
   "source": [
    "## Read and write\n",
    "with open('test-read.txt','a+') as fr:\n",
    "    fr.write('this is a new line\\n')\n",
    "#     for line in fr:\n",
    "#         print(line)\n",
    "#     fr.readlines()"
   ]
  },
  {
   "cell_type": "code",
   "execution_count": null,
   "id": "db944d21-0dd4-4e71-8395-f82c371b9a22",
   "metadata": {},
   "outputs": [],
   "source": [
    "with open('test-read.txt','r+') as fr:\n",
    "    for line in fr:\n",
    "        print(line)"
   ]
  },
  {
   "attachments": {},
   "cell_type": "markdown",
   "id": "2fae23b5-06c4-439b-9f10-1cbade059c4c",
   "metadata": {},
   "source": [
    "## Manipulating the file system"
   ]
  },
  {
   "cell_type": "code",
   "execution_count": null,
   "id": "8ee12134-6437-4919-a3c5-1a3ea34ac4c1",
   "metadata": {},
   "outputs": [],
   "source": [
    "## check if a path exists\n",
    "import os"
   ]
  },
  {
   "cell_type": "code",
   "execution_count": null,
   "id": "c04dcfab-d59a-489d-9c4f-f682b7c858a2",
   "metadata": {},
   "outputs": [],
   "source": [
    "## Check if a director exists, you can replace the directory with yours\n",
    "os.path.exists('/Users/xyin/abc')"
   ]
  },
  {
   "cell_type": "code",
   "execution_count": null,
   "id": "ab26d5d6-3beb-4521-ad45-d3d312ed5a33",
   "metadata": {},
   "outputs": [],
   "source": [
    "os.path.exists('/Users/xyin/Documents')"
   ]
  },
  {
   "cell_type": "code",
   "execution_count": null,
   "id": "f213d566-4fee-43fe-a8d4-a8f98a08c695",
   "metadata": {},
   "outputs": [],
   "source": [
    "## Check if a file exists\n",
    "os.path.exists('/Users/xiangshiyin/Documents/Teaching/data-programming-with-python/2023-summmer/2023-06-12/README.md')"
   ]
  },
  {
   "cell_type": "code",
   "execution_count": null,
   "id": "91af5461-5a14-4bd1-8789-819988ce7eab",
   "metadata": {},
   "outputs": [],
   "source": [
    "## check if it's a file or a directory\n",
    "os.path.isfile('/Users/xyin/Documents')"
   ]
  },
  {
   "cell_type": "code",
   "execution_count": null,
   "id": "c88d6a5d-6924-4136-9cec-f0537cb27b80",
   "metadata": {},
   "outputs": [],
   "source": [
    "os.path.isdir('/Users/xiangshiyin/Documents/Teaching/data-programming-with-python/2023-summmer/2023-06-12/README.md')"
   ]
  },
  {
   "cell_type": "code",
   "execution_count": null,
   "id": "f02157ac-882f-4037-aa04-301b8a57047b",
   "metadata": {},
   "outputs": [],
   "source": [
    "## find the true path, only works in MacOS/Linux. You need to replace the file directory with your own. For windows user, you need to try the relative directory pattern in windows\n",
    "os.path.realpath('concept_and_code_demo.ipynb')"
   ]
  },
  {
   "cell_type": "code",
   "execution_count": null,
   "id": "c7920814-fd05-433e-b6f8-149c92c85f47",
   "metadata": {},
   "outputs": [],
   "source": [
    "os.path.abspath('concept_and_code_demo.ipynb')"
   ]
  },
  {
   "cell_type": "code",
   "execution_count": null,
   "id": "aa75d4fc-183c-46d4-826b-525d7d05a054",
   "metadata": {},
   "outputs": [],
   "source": [
    "## find the parent directory of a file\n",
    "os.path.dirname('concept_and_code_demo.ipynb')"
   ]
  },
  {
   "cell_type": "code",
   "execution_count": null,
   "id": "2ab83398-d601-4ba8-9103-b25352c74866",
   "metadata": {},
   "outputs": [],
   "source": [
    "## Join directories and files\n",
    "os.path.join('/Users/','/xyin','Documents')"
   ]
  },
  {
   "cell_type": "code",
   "execution_count": null,
   "id": "c87dbea8-1785-4f22-adcf-31aca219a56b",
   "metadata": {},
   "outputs": [],
   "source": [
    "## How do we create an empty file? Any guess?\n"
   ]
  },
  {
   "cell_type": "code",
   "execution_count": null,
   "id": "986d975d-49b4-4382-a189-db3cddafe7e1",
   "metadata": {},
   "outputs": [],
   "source": [
    "## Create a directory\n",
    "os.mkdir('testdir')"
   ]
  },
  {
   "cell_type": "code",
   "execution_count": null,
   "id": "c1597df1-eac9-4f4f-ad1a-957c6f34e1bb",
   "metadata": {},
   "outputs": [],
   "source": [
    "## Rename a file\n",
    "os.rename('testfile.txt','testfile2.txt')"
   ]
  },
  {
   "cell_type": "code",
   "execution_count": null,
   "id": "45843f0c-51f0-4086-8e4a-c3e9304ecc54",
   "metadata": {},
   "outputs": [],
   "source": [
    "os.rename('testfile2.txt','testfile.txt')"
   ]
  },
  {
   "cell_type": "code",
   "execution_count": null,
   "id": "e41e9903-c4c6-4d95-abea-c4065e621019",
   "metadata": {},
   "outputs": [],
   "source": []
  },
  {
   "cell_type": "code",
   "execution_count": null,
   "id": "24a574ce-f1e8-4b4f-a271-9668008a1951",
   "metadata": {},
   "outputs": [],
   "source": []
  },
  {
   "cell_type": "code",
   "execution_count": null,
   "id": "24c4ae0b-238f-484e-ab26-e8822aa310ba",
   "metadata": {},
   "outputs": [],
   "source": []
  },
  {
   "cell_type": "markdown",
   "id": "46fa8508-dfa8-454c-bcf9-72765e2f2693",
   "metadata": {},
   "source": [
    "## Example"
   ]
  },
  {
   "cell_type": "markdown",
   "id": "c6c0999f-3170-4a2c-8126-4e91c3d85180",
   "metadata": {},
   "source": [
    "### Read the whole book"
   ]
  },
  {
   "cell_type": "code",
   "execution_count": null,
   "id": "686f4e22-991d-43c1-b154-35a5e40689f3",
   "metadata": {},
   "outputs": [],
   "source": [
    "## read the whole book\n",
    "with open('hp.txt', 'r') as file:\n",
    "    content = file.readlines()"
   ]
  },
  {
   "cell_type": "code",
   "execution_count": null,
   "id": "a079fb32-cfee-4d35-9d4d-59299baf1581",
   "metadata": {},
   "outputs": [],
   "source": [
    "content[:10]"
   ]
  },
  {
   "cell_type": "code",
   "execution_count": null,
   "id": "530fb159-8580-4274-b931-088abb3b5b9a",
   "metadata": {},
   "outputs": [],
   "source": [
    "for c in content[:10]:\n",
    "    print(c)"
   ]
  },
  {
   "cell_type": "markdown",
   "id": "f0005489-9028-44c8-b615-4831e5291245",
   "metadata": {},
   "source": [
    "### Can we do a little cleaning of the book?"
   ]
  },
  {
   "cell_type": "code",
   "execution_count": null,
   "id": "f6175eed-1b93-4d71-ac9f-db256a78cd9b",
   "metadata": {},
   "outputs": [],
   "source": [
    "## common punctuations\n",
    "\n",
    "import string\n",
    "string.punctuation"
   ]
  },
  {
   "cell_type": "code",
   "execution_count": null,
   "id": "2e793fe2-4d2c-409b-8b9c-ba1223411be1",
   "metadata": {},
   "outputs": [],
   "source": [
    "## most straighforward way\n",
    "\n",
    "x = 'I love soccer, do you?'\n",
    "x.replace(',', '')"
   ]
  },
  {
   "cell_type": "code",
   "execution_count": null,
   "id": "dc52a963-6f59-431e-943b-469947e1ee11",
   "metadata": {},
   "outputs": [],
   "source": [
    "len(string.punctuation)"
   ]
  },
  {
   "cell_type": "code",
   "execution_count": null,
   "id": "43dc8a2e-7e6f-4bf9-96fb-000d3d2a571c",
   "metadata": {},
   "outputs": [],
   "source": [
    "for p in string.punctuation:\n",
    "    x = x.replace(p, '')"
   ]
  },
  {
   "cell_type": "code",
   "execution_count": null,
   "id": "dd935c74-56fc-4074-b781-c5f849c4b16b",
   "metadata": {},
   "outputs": [],
   "source": [
    "x"
   ]
  },
  {
   "cell_type": "code",
   "execution_count": null,
   "id": "99047791-8e5c-4af9-a37f-f4d6c6e21baa",
   "metadata": {},
   "outputs": [],
   "source": []
  },
  {
   "cell_type": "code",
   "execution_count": null,
   "id": "4f31e745-5425-49e2-a333-bc743fde46eb",
   "metadata": {},
   "outputs": [],
   "source": []
  },
  {
   "cell_type": "code",
   "execution_count": null,
   "id": "cf769be9-802b-4dc6-9639-4c1f5048990b",
   "metadata": {},
   "outputs": [],
   "source": [
    "## remove all common punctuations\n",
    "text = 'I love soccer, do you?'\n",
    "translator = str.maketrans('', '', string.punctuation)\n",
    "clean_text = text.translate(translator)\n",
    "\n",
    "clean_text"
   ]
  },
  {
   "cell_type": "code",
   "execution_count": null,
   "id": "19a20b6a-d324-4e84-9148-dfeb16f14d09",
   "metadata": {},
   "outputs": [],
   "source": []
  },
  {
   "cell_type": "code",
   "execution_count": null,
   "id": "c35355a5-00df-43e1-98b8-8f4587e3fb29",
   "metadata": {},
   "outputs": [],
   "source": [
    "## remove punctuations in the book\n",
    "with open('hp.txt', 'r') as file:\n",
    "    content = file.read()"
   ]
  },
  {
   "cell_type": "code",
   "execution_count": null,
   "id": "7ae8037c-3dba-4afd-b7c1-6efce707a499",
   "metadata": {},
   "outputs": [],
   "source": [
    "type(content)"
   ]
  },
  {
   "cell_type": "code",
   "execution_count": null,
   "id": "b8bf500a-4661-41d9-8733-92b2d49142e5",
   "metadata": {},
   "outputs": [],
   "source": [
    "content[:200]"
   ]
  },
  {
   "cell_type": "code",
   "execution_count": null,
   "id": "0f6e5944-748b-4580-9dc8-2c1223529219",
   "metadata": {},
   "outputs": [],
   "source": []
  },
  {
   "cell_type": "code",
   "execution_count": null,
   "id": "587a9050-8b3f-4c53-89a3-307ded4f8806",
   "metadata": {},
   "outputs": [],
   "source": [
    "translator = str.maketrans('', '', string.punctuation)\n",
    "content2 = content.translate(translator)\n",
    "\n",
    "content2[:200]"
   ]
  },
  {
   "cell_type": "code",
   "execution_count": null,
   "id": "40b21f0f-6f57-433f-be7a-49afc068997b",
   "metadata": {},
   "outputs": [],
   "source": [
    "content_copy = content\n",
    "content_copy[:200]"
   ]
  },
  {
   "cell_type": "code",
   "execution_count": null,
   "id": "3f1b6d96-33f9-48c0-9b54-7df84d57c45b",
   "metadata": {},
   "outputs": [],
   "source": [
    "for p in string.punctuation:\n",
    "    content_copy = content_copy.replace(p, '')\n",
    "content_copy[:200]"
   ]
  },
  {
   "cell_type": "code",
   "execution_count": null,
   "id": "99870abc-e58f-4595-b53c-1286ba4324dd",
   "metadata": {},
   "outputs": [],
   "source": []
  },
  {
   "cell_type": "code",
   "execution_count": null,
   "id": "843dc95d-099e-401f-9c5c-7d56582a9207",
   "metadata": {},
   "outputs": [],
   "source": []
  },
  {
   "cell_type": "code",
   "execution_count": null,
   "id": "cda1cee9-abe7-4ec0-93c3-b903e03f57de",
   "metadata": {},
   "outputs": [],
   "source": [
    "## cast the content to lower case\n",
    "\n",
    "content3 = content2.lower()"
   ]
  },
  {
   "cell_type": "code",
   "execution_count": null,
   "id": "a7e3e8a4-2ec7-4656-ba33-5cc21002a3f5",
   "metadata": {},
   "outputs": [],
   "source": [
    "content3[:200]"
   ]
  },
  {
   "cell_type": "markdown",
   "id": "8eb933a5-4de3-41fc-8b6e-5f80ca51da35",
   "metadata": {},
   "source": [
    "### What are the frequently used words?"
   ]
  },
  {
   "cell_type": "code",
   "execution_count": null,
   "id": "acf41624-36ae-4fb0-ab5a-bdc263bf7bd4",
   "metadata": {},
   "outputs": [],
   "source": [
    "words = content3.split()"
   ]
  },
  {
   "cell_type": "code",
   "execution_count": null,
   "id": "dd9fe93f-699c-4a00-98ad-4390d13263ee",
   "metadata": {},
   "outputs": [],
   "source": [
    "words[:10]"
   ]
  },
  {
   "cell_type": "code",
   "execution_count": null,
   "id": "247097b8-be42-4100-b1ee-fe3eba4da2fe",
   "metadata": {
    "scrolled": true
   },
   "outputs": [],
   "source": [
    "len(words)"
   ]
  },
  {
   "cell_type": "code",
   "execution_count": null,
   "id": "62489dcb-20fa-4de5-8aa2-c2dd5fb954f3",
   "metadata": {},
   "outputs": [],
   "source": []
  },
  {
   "cell_type": "code",
   "execution_count": null,
   "id": "02322e59-5798-4e3f-941e-354b7c3c2721",
   "metadata": {},
   "outputs": [],
   "source": [
    "## get word frequency\n",
    "counter = {}\n",
    "\n",
    "for w in words:\n",
    "    if not w in counter:\n",
    "        counter[w] = 1\n",
    "    else:\n",
    "        counter[w] += 1\n",
    "# print(counter)"
   ]
  },
  {
   "cell_type": "code",
   "execution_count": null,
   "id": "59135179-3836-4bab-90ec-1fa5eabcfdb8",
   "metadata": {},
   "outputs": [],
   "source": [
    "counter['harry']"
   ]
  },
  {
   "cell_type": "code",
   "execution_count": null,
   "id": "78780e8e-c612-4de1-b7b4-aef9553491df",
   "metadata": {},
   "outputs": [],
   "source": [
    "counter['snape']"
   ]
  },
  {
   "cell_type": "code",
   "execution_count": null,
   "id": "8ccbbb6c-0bb1-4c1a-91f0-ef321c26c460",
   "metadata": {},
   "outputs": [],
   "source": [
    "counter['dumbledore']"
   ]
  },
  {
   "cell_type": "code",
   "execution_count": null,
   "id": "bb1a9709-22e8-43d2-8cc6-4a06a3f8c04f",
   "metadata": {},
   "outputs": [],
   "source": []
  },
  {
   "cell_type": "code",
   "execution_count": null,
   "id": "f75fa8b1-9835-4e7a-83aa-fe1b245bcede",
   "metadata": {},
   "outputs": [],
   "source": [
    "## rank the words by frequency\n",
    "words_ranked = sorted(counter.keys(), key=lambda x: -1 * counter[x])"
   ]
  },
  {
   "cell_type": "code",
   "execution_count": null,
   "id": "8f2d5ebc-d2ce-4afe-98af-dd2f8f9d993e",
   "metadata": {
    "scrolled": true
   },
   "outputs": [],
   "source": [
    "words_ranked[:20]"
   ]
  },
  {
   "cell_type": "code",
   "execution_count": null,
   "id": "926cbcef-ea0f-4a8a-a8f5-9d186151cde9",
   "metadata": {},
   "outputs": [],
   "source": [
    "## Do all the words make sense?\n"
   ]
  },
  {
   "cell_type": "markdown",
   "id": "c39ce250-023a-4ca2-a67e-0d989fa45022",
   "metadata": {},
   "source": [
    "### Remove the stop words"
   ]
  },
  {
   "cell_type": "code",
   "execution_count": null,
   "id": "41882b81-ef46-4189-9bed-3063944bad12",
   "metadata": {},
   "outputs": [],
   "source": [
    "# pip install nltk\n",
    "import nltk\n",
    "nltk.download('stopwords')\n",
    "from nltk.corpus import stopwords"
   ]
  },
  {
   "cell_type": "code",
   "execution_count": null,
   "id": "8911d2f7-822c-4f7c-bda3-4c5e0dc2be89",
   "metadata": {},
   "outputs": [],
   "source": [
    "### get the stop words\n",
    "stop_words = set(stopwords.words('english'))"
   ]
  },
  {
   "cell_type": "code",
   "execution_count": null,
   "id": "2e375b16-76d5-4faf-ac3f-0c0d31e403c2",
   "metadata": {},
   "outputs": [],
   "source": [
    "len(stop_words)"
   ]
  },
  {
   "cell_type": "code",
   "execution_count": null,
   "id": "81afb442-a689-41e4-a7dc-1dc2580fd2d1",
   "metadata": {},
   "outputs": [],
   "source": [
    "stop_words_ch = set(stopwords.words('chinese'))\n",
    "len(stop_words_ch)"
   ]
  },
  {
   "cell_type": "code",
   "execution_count": null,
   "id": "3408f11e-da1a-426d-9b42-925a487bc57e",
   "metadata": {},
   "outputs": [],
   "source": []
  },
  {
   "cell_type": "code",
   "execution_count": null,
   "id": "edcb159a-9f98-4b6a-b405-89ba9fb42546",
   "metadata": {},
   "outputs": [],
   "source": [
    "### filter out the stop words\n",
    "words_ranked2 = []\n",
    "for w in words_ranked:\n",
    "    if w not in stop_words:\n",
    "        words_ranked2.append(w)"
   ]
  },
  {
   "cell_type": "code",
   "execution_count": null,
   "id": "79d636fc-445d-4187-8b65-c4a58addfef5",
   "metadata": {},
   "outputs": [],
   "source": [
    "## display the \"cleaned\" version\n",
    "len(words_ranked2)"
   ]
  },
  {
   "cell_type": "code",
   "execution_count": null,
   "id": "bb7dc724-bae4-4e91-82f5-663da7044b2e",
   "metadata": {},
   "outputs": [],
   "source": [
    "len(words_ranked)"
   ]
  },
  {
   "cell_type": "code",
   "execution_count": null,
   "id": "4bb29bcf-071d-4248-be66-3e6f47ea2105",
   "metadata": {
    "scrolled": true
   },
   "outputs": [],
   "source": [
    "len(words_ranked2) / len(words_ranked)"
   ]
  },
  {
   "cell_type": "code",
   "execution_count": null,
   "id": "0aeb5e5a-0983-4734-817e-520f10bc1a4d",
   "metadata": {},
   "outputs": [],
   "source": [
    "for w in words_ranked2[:50]:\n",
    "    print(w, counter[w])"
   ]
  },
  {
   "cell_type": "code",
   "execution_count": null,
   "id": "fe7af113-1542-44a3-b0c2-84feb2d26e50",
   "metadata": {},
   "outputs": [],
   "source": []
  },
  {
   "cell_type": "code",
   "execution_count": null,
   "id": "1f85b8bd-f758-4c4a-ab7c-f1349ae254df",
   "metadata": {},
   "outputs": [],
   "source": []
  },
  {
   "cell_type": "code",
   "execution_count": null,
   "id": "7fadbbc3-7fef-4789-b1e6-35ddee9d15c1",
   "metadata": {},
   "outputs": [],
   "source": []
  },
  {
   "cell_type": "code",
   "execution_count": null,
   "id": "57d2f542-9d0c-4838-b671-a25160328239",
   "metadata": {},
   "outputs": [],
   "source": []
  },
  {
   "cell_type": "markdown",
   "id": "a59d28ae-4a3f-4c73-80a5-426c9d05771d",
   "metadata": {
    "slideshow": {
     "slide_type": "slide"
    }
   },
   "source": [
    "# Python Libraries - A Brief Introduction"
   ]
  },
  {
   "cell_type": "markdown",
   "id": "c512ed00-b075-4608-a766-9e543d86dc4f",
   "metadata": {},
   "source": [
    "## What is a library?\n",
    "* A library is a collection of files/scripts that contains pre-written functions, constants, etc.\n",
    "* It makes our code easy to write and understand"
   ]
  },
  {
   "cell_type": "markdown",
   "id": "ba5c2330-99a0-47fa-8a9e-e63b50fc688d",
   "metadata": {
    "slideshow": {
     "slide_type": "slide"
    }
   },
   "source": [
    "## Import the library\n",
    "* Use `import <libname>` to load the complete library into memory\n",
    "* Use `<libname>.<modulename>` to call the modules within the loaded library (Python uses `.` to reference modules and attributes of given library or object, we'll cover more on this in the next lecture)\n",
    "* You can also define an alias to the library like `import <libname> as abc`, and call the library module with `abc.<modulename>`"
   ]
  },
  {
   "cell_type": "code",
   "execution_count": null,
   "id": "6ae9c49c-5a0d-4718-bee7-29d0302731f2",
   "metadata": {},
   "outputs": [],
   "source": [
    "import string\n",
    "\n",
    "# string.ascii_lowercase\n",
    "string.ascii_uppercase"
   ]
  },
  {
   "cell_type": "markdown",
   "id": "f59edd70-f105-4846-b2eb-b622b07b1eb6",
   "metadata": {
    "slideshow": {
     "slide_type": "slide"
    }
   },
   "source": [
    "* You can also import specific modules of a library by doing `from <libname> import <modulename>`\n",
    "* In this case, you can directly use `<modulename>` to call the modules and execute certain operations"
   ]
  },
  {
   "cell_type": "code",
   "execution_count": null,
   "id": "e84dd6b3-1447-4849-89c4-784a080ec22b",
   "metadata": {},
   "outputs": [],
   "source": [
    "from string import ascii_lowercase,ascii_uppercase\n",
    "ascii_lowercase # , ascii_uppercase"
   ]
  },
  {
   "cell_type": "code",
   "execution_count": null,
   "id": "87be2bc8-9499-4796-b64d-c193042db0e6",
   "metadata": {},
   "outputs": [],
   "source": [
    "from string import *\n",
    "ascii_lowercase #, ascii_uppercase, digits"
   ]
  },
  {
   "cell_type": "markdown",
   "id": "12787eec-ebb6-4396-90c4-604d7445088b",
   "metadata": {
    "slideshow": {
     "slide_type": "slide"
    }
   },
   "source": [
    "## Get library documentation\n",
    "* You can always use `help()` function to pull the corresponding documentation of certain modules or submodules\n",
    "* Jupyter notebook and other commonly IDEs (integrated development environment) also has functionalities or plugins to help you access the documentation of certain libraries or modules"
   ]
  },
  {
   "cell_type": "code",
   "execution_count": null,
   "id": "c6c7f8f7-5863-4a77-862b-d6548fd0a1af",
   "metadata": {
    "scrolled": true
   },
   "outputs": [],
   "source": [
    "help(string)"
   ]
  },
  {
   "cell_type": "markdown",
   "id": "f6cbb5b9-bfd9-4950-8024-10f4169efd98",
   "metadata": {
    "slideshow": {
     "slide_type": "slide"
    }
   },
   "source": [
    "## Sample library\n",
    "* `math`: a collection of mathematical functions\n",
    "    * Official documentation: https://docs.python.org/3.8/library/math.html"
   ]
  },
  {
   "cell_type": "code",
   "execution_count": null,
   "id": "47ffd6f1-2716-42bd-a2e3-d0fb5ed8f37a",
   "metadata": {},
   "outputs": [],
   "source": [
    "import math\n",
    "math.ceil(4.6)"
   ]
  },
  {
   "cell_type": "code",
   "execution_count": null,
   "id": "1ded0e2a-27cc-472c-a85a-5d9b7c4f42e7",
   "metadata": {},
   "outputs": [],
   "source": [
    "math.floor(4.6)"
   ]
  },
  {
   "cell_type": "code",
   "execution_count": null,
   "id": "c9af2643-831e-4c1c-bf8f-567ec4f93c38",
   "metadata": {
    "scrolled": true
   },
   "outputs": [],
   "source": [
    "math.gcd(8,6) # math.gcd(a,b) returns the greatest common divisor of the integers a and b"
   ]
  },
  {
   "cell_type": "code",
   "execution_count": null,
   "id": "feacaec1-767a-4d86-a02c-18f20d99c666",
   "metadata": {},
   "outputs": [],
   "source": [
    "math.exp(1) # math.exp(x) returns e raised to the power x, where e = 2.718281"
   ]
  },
  {
   "cell_type": "markdown",
   "id": "f0cd43ee-fc6f-475f-bf60-539bd5853b6b",
   "metadata": {
    "slideshow": {
     "slide_type": "slide"
    }
   },
   "source": [
    "`math.log(x[, base])`\n",
    "* With one argument, return the natural logarithm of x (to base e).\n",
    "* With two arguments, return the logarithm of x to the given base, calculated as log(x)/log(base)."
   ]
  },
  {
   "cell_type": "code",
   "execution_count": null,
   "id": "4d5b8b66-4542-47ed-8dc4-79273514b0c0",
   "metadata": {},
   "outputs": [],
   "source": [
    "math.log(100, 10)"
   ]
  },
  {
   "cell_type": "code",
   "execution_count": null,
   "id": "3ae2c283-4c22-483a-a39c-dc360fd2cbf5",
   "metadata": {},
   "outputs": [],
   "source": [
    "math.log(1)\n",
    "# math.log(4,2)"
   ]
  },
  {
   "cell_type": "code",
   "execution_count": null,
   "id": "85df506f-a2f2-44be-aed7-70801d92df63",
   "metadata": {},
   "outputs": [],
   "source": [
    "4 ** (1/2)"
   ]
  },
  {
   "cell_type": "code",
   "execution_count": null,
   "id": "3ded2cbf-bee8-4556-940f-5bf9673f8971",
   "metadata": {},
   "outputs": [],
   "source": [
    "math.sqrt(4)"
   ]
  },
  {
   "cell_type": "code",
   "execution_count": null,
   "id": "5400ca7d",
   "metadata": {},
   "outputs": [],
   "source": []
  },
  {
   "cell_type": "markdown",
   "id": "e7b6daaf-78fa-4eb9-8d2d-9663256ef02b",
   "metadata": {},
   "source": [
    "## Library import in depth\n",
    "### A simple Python package\n",
    "Assume we have a package with the following file distribution\n",
    "```md\n",
    "└── sample_package\n",
    "    └── sample.py\n",
    "    └── subpackage\n",
    "        └── subsample.py\n",
    "```\n",
    "The content of `sample.py` is like\n",
    "```python\n",
    "x = 123\n",
    "y = 234\n",
    "\n",
    "def hello():\n",
    "    print('Hello World')\n",
    "```\n",
    "\n",
    "The content of `subsample.py`\n",
    "```python\n",
    "xx = 1\n",
    "yy = 2\n",
    "```\n",
    "\n",
    "### Things might be more complicated\n",
    "![](../pics/library_tree.png)\n",
    "\n",
    "***You could***\n",
    "* `import` the whole library, by `import a`\n",
    "* `import` a module (python script), by `import a.aa`\n",
    "* `import` a object (variable, function, class, etc.) in a module, by `import a.aa.aaa`, or `from a.aa import aaa`\n",
    "\n",
    "\n",
    "**However**, you should keep using the `<object>` name in the `import <object>` statement in your program to reference the object you imported. **Sometimes, this could be quite inconvenient** because the `<object>` string could be pretty long due to the complicatedd file structures in the python library\n",
    "\n",
    "**There are two ways** to solve the problem:\n",
    "* `from a import aa` (use the `from` statement to reference the complicated folder relationships)\n",
    "* `import a.aa as aa` (create an alias)"
   ]
  },
  {
   "cell_type": "code",
   "execution_count": null,
   "id": "5b54030d-5e0e-489a-a3cb-a88a6d099dab",
   "metadata": {},
   "outputs": [],
   "source": [
    "%%sh\n",
    "\n",
    "tree sample_package"
   ]
  },
  {
   "cell_type": "code",
   "execution_count": null,
   "id": "b8d9ec5e-fb9f-4eb7-bcd1-461104ce5e03",
   "metadata": {},
   "outputs": [],
   "source": [
    "from sample_package.sample import hello\n",
    "hello()"
   ]
  },
  {
   "cell_type": "code",
   "execution_count": null,
   "id": "29179f17-d8ac-4c58-b0da-23687a7f5ac9",
   "metadata": {},
   "outputs": [],
   "source": [
    "from sample_package.subpackage.subsample import xx"
   ]
  },
  {
   "cell_type": "code",
   "execution_count": null,
   "id": "686498d2-7e36-4701-bf0f-6d59bd166346",
   "metadata": {},
   "outputs": [],
   "source": [
    "xx"
   ]
  },
  {
   "cell_type": "code",
   "execution_count": null,
   "id": "f7ed786f-8eb4-4d51-b112-d8d654ed9813",
   "metadata": {},
   "outputs": [],
   "source": []
  }
 ],
 "metadata": {
  "kernelspec": {
   "display_name": "Python 3 (ipykernel)",
   "language": "python",
   "name": "python3"
  },
  "language_info": {
   "codemirror_mode": {
    "name": "ipython",
    "version": 3
   },
   "file_extension": ".py",
   "mimetype": "text/x-python",
   "name": "python",
   "nbconvert_exporter": "python",
   "pygments_lexer": "ipython3",
   "version": "3.10.8"
  }
 },
 "nbformat": 4,
 "nbformat_minor": 5
}
