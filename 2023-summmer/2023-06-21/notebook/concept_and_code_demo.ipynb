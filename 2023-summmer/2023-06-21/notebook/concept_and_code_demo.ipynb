{
 "cells": [
  {
   "cell_type": "markdown",
   "id": "82b295d4-7a81-47cb-b956-7d3c50ff6e0c",
   "metadata": {},
   "source": [
    "# Today's Coding Topics\n",
    "[![Open In Colab](https://colab.research.google.com/assets/colab-badge.svg)](https://colab.research.google.com/github/xiangshiyin/data-programming-with-python/blob/main/2023-summmer/2023-06-21/notebook/concept_and_code_demo.ipynb)\n",
    "\n",
    "* Recap of previous lecture\n",
    "  * Numpy\n",
    "  * Nearest neighbor search example review\n",
    "  * Special topic: namespaces in Python\n",
    "* `Pandas`\n"
   ]
  },
  {
   "cell_type": "code",
   "execution_count": null,
   "id": "26e30fd5-ad18-4d91-b4af-3e4bd0d35713",
   "metadata": {},
   "outputs": [],
   "source": []
  },
  {
   "cell_type": "markdown",
   "id": "3ecc3648-7de2-43bc-b101-a6a37e7939f1",
   "metadata": {},
   "source": [
    "# Special topic"
   ]
  },
  {
   "cell_type": "code",
   "execution_count": null,
   "id": "6f9605cc-491f-462e-8482-d87a3a995ef8",
   "metadata": {},
   "outputs": [],
   "source": []
  },
  {
   "cell_type": "markdown",
   "id": "94bfa642-fab0-4b88-964b-1a71601e21f8",
   "metadata": {},
   "source": [
    "## Concepts: Scope and Namespace"
   ]
  },
  {
   "cell_type": "markdown",
   "id": "bf4b2e87-c0cf-4444-8770-513a71b8cb11",
   "metadata": {},
   "source": [
    "### How to find the Sherlock Homes Museum? what if we only know the street name?\n",
    "![](../pics/221b-baker-street-address.png)"
   ]
  },
  {
   "cell_type": "markdown",
   "id": "6eddb871-01af-438c-90ef-6f4d26703244",
   "metadata": {},
   "source": [
    "**We need to find the appropriate streetname within certain scopes/domains**\n",
    "* Different scope of search areas result in different addresses, and different search result\n",
    "    * uk\n",
    "    * uk, london\n",
    "    * uk, london, 221b baker street\n",
    "    \n",
    "**Same logic also applies to variable/object identification in Python programming!**\n",
    "* We need the address (`NAMESPACE`) to find a place(`VARIABLE/OBJECT`)\n",
    "* Different scope(`SCOPE`) of search areas result in different addresses(`NAMESPACE`), and different search result(`VARIABLE/OBJECT`)\n",
    "* If we represent the `namespace` in the `python` way:\n",
    "    * uk\n",
    "    * uk.london\n",
    "    * uk.london.221bBakerStreet"
   ]
  },
  {
   "cell_type": "markdown",
   "id": "3ec63131-1873-46e3-85ec-8cca43fdd681",
   "metadata": {},
   "source": [
    "**Python defines different `SCOPE`s by indenting the code and creating code blocks!** Below are the places where we see code indentations:\n",
    "* Function definition\n",
    "* Loops (for/while)\n",
    "* Conditional statment (if-else)\n",
    "\n",
    "Therefore, `SCOPE`s in Python code can be defined by:\n",
    "* Function definition\n",
    "* (*SPECIAL*) Script file where the code belongs to\n",
    "\n",
    "When you use a variable in your code, **Python will use the following orders to try different `SCOPE`s and locate the appropriate `VARIABLE/OBJECT`**\n",
    "* The `local scope`: the code block where you use the variable\n",
    "* The `enclosed scope`\n",
    "* The `global scope`: the script file (Jupyter Notebook in our lecture demo) where you code belongs to\n",
    "* The `built-in scope`\n",
    "\n"
   ]
  },
  {
   "cell_type": "markdown",
   "id": "306c8a62-87c7-4323-8950-263556b19987",
   "metadata": {},
   "source": [
    "![](../pics/scope.png)"
   ]
  },
  {
   "cell_type": "code",
   "execution_count": null,
   "id": "ed51eeef-8633-4388-a5c9-8caa58b3e018",
   "metadata": {},
   "outputs": [],
   "source": [
    "import numpy as np"
   ]
  },
  {
   "cell_type": "markdown",
   "id": "335e4c30-5a42-48a4-bcd7-5a22995f252d",
   "metadata": {},
   "source": [
    "### Global & Local Variables\n",
    "* Global variable: Variables you defined in the global scope\n",
    "* Local variable: Variables you defined in a local scope"
   ]
  },
  {
   "cell_type": "code",
   "execution_count": null,
   "id": "b6c8fe85",
   "metadata": {},
   "outputs": [],
   "source": []
  },
  {
   "cell_type": "code",
   "execution_count": 1,
   "id": "0dd2e66f",
   "metadata": {},
   "outputs": [
    {
     "name": "stdout",
     "output_type": "stream",
     "text": [
      "From function test():  I am a new string\n"
     ]
    }
   ],
   "source": [
    "def test():\n",
    "    s = 'I am a new string' # the local scope\n",
    "    print('From function test(): ',s) # use the local scope\n",
    "\n",
    "test()"
   ]
  },
  {
   "cell_type": "code",
   "execution_count": 2,
   "id": "a8faed5e-08da-4dd7-8bf0-d0e0bcf459c1",
   "metadata": {},
   "outputs": [
    {
     "name": "stdout",
     "output_type": "stream",
     "text": [
      "From function test():  I am a string\n"
     ]
    }
   ],
   "source": [
    "s = 'I am a string' # the global scope\n",
    "def test():\n",
    "    print('From function test(): ',s) # use the global scope\n",
    "\n",
    "test()\n"
   ]
  },
  {
   "cell_type": "code",
   "execution_count": 4,
   "id": "417bfbec-51ec-4a1f-aa7f-442c546f0e99",
   "metadata": {},
   "outputs": [
    {
     "name": "stdout",
     "output_type": "stream",
     "text": [
      "From function test():  I am a new string\n",
      "Outside function test():  I am a string\n"
     ]
    }
   ],
   "source": [
    "s = 'I am a string' # the global scope\n",
    "def test():\n",
    "    s = 'I am a new string' # the local scope\n",
    "    print('From function test(): ',s) # use the local scope\n",
    "\n",
    "test()\n",
    "print('Outside function test(): ',s) # the global scope"
   ]
  },
  {
   "cell_type": "code",
   "execution_count": 6,
   "id": "22b6d1e5-2749-4237-9765-020afcdcd4a2",
   "metadata": {},
   "outputs": [
    {
     "ename": "UnboundLocalError",
     "evalue": "local variable 's' referenced before assignment",
     "output_type": "error",
     "traceback": [
      "\u001b[0;31m---------------------------------------------------------------------------\u001b[0m",
      "\u001b[0;31mUnboundLocalError\u001b[0m                         Traceback (most recent call last)",
      "Cell \u001b[0;32mIn[6], line 7\u001b[0m\n\u001b[1;32m      4\u001b[0m     s \u001b[38;5;241m=\u001b[39m \u001b[38;5;124m'\u001b[39m\u001b[38;5;124mI am a new string\u001b[39m\u001b[38;5;124m'\u001b[39m \u001b[38;5;66;03m# the local scope\u001b[39;00m\n\u001b[1;32m      5\u001b[0m     \u001b[38;5;28mprint\u001b[39m(\u001b[38;5;124m'\u001b[39m\u001b[38;5;124mFrom function test(), after assignment: \u001b[39m\u001b[38;5;124m'\u001b[39m,s)\n\u001b[0;32m----> 7\u001b[0m \u001b[43mtest\u001b[49m\u001b[43m(\u001b[49m\u001b[43m)\u001b[49m\n",
      "Cell \u001b[0;32mIn[6], line 3\u001b[0m, in \u001b[0;36mtest\u001b[0;34m()\u001b[0m\n\u001b[1;32m      2\u001b[0m \u001b[38;5;28;01mdef\u001b[39;00m \u001b[38;5;21mtest\u001b[39m():\n\u001b[0;32m----> 3\u001b[0m     \u001b[38;5;28mprint\u001b[39m(\u001b[38;5;124m'\u001b[39m\u001b[38;5;124mFrom function test(), before assignment: \u001b[39m\u001b[38;5;124m'\u001b[39m,\u001b[43ms\u001b[49m) \u001b[38;5;66;03m# will try the local scope first\u001b[39;00m\n\u001b[1;32m      4\u001b[0m     s \u001b[38;5;241m=\u001b[39m \u001b[38;5;124m'\u001b[39m\u001b[38;5;124mI am a new string\u001b[39m\u001b[38;5;124m'\u001b[39m \u001b[38;5;66;03m# the local scope\u001b[39;00m\n\u001b[1;32m      5\u001b[0m     \u001b[38;5;28mprint\u001b[39m(\u001b[38;5;124m'\u001b[39m\u001b[38;5;124mFrom function test(), after assignment: \u001b[39m\u001b[38;5;124m'\u001b[39m,s)\n",
      "\u001b[0;31mUnboundLocalError\u001b[0m: local variable 's' referenced before assignment"
     ]
    }
   ],
   "source": [
    "s = 'I am a string' # the global scope\n",
    "def test():\n",
    "    print('From function test(), before assignment: ',s) # will try the local scope first\n",
    "    s = 'I am a new string' # the local scope\n",
    "    print('From function test(), after assignment: ',s)\n",
    "\n",
    "test()"
   ]
  },
  {
   "cell_type": "code",
   "execution_count": null,
   "id": "17190e3c",
   "metadata": {},
   "outputs": [],
   "source": []
  },
  {
   "cell_type": "markdown",
   "id": "c533e8f5",
   "metadata": {},
   "source": [
    "**Test the following code on scope/namespace offline and see if you can understand it**"
   ]
  },
  {
   "cell_type": "code",
   "execution_count": null,
   "id": "5c38d1a8-9a07-4211-80df-149aa6f6eded",
   "metadata": {},
   "outputs": [],
   "source": [
    "var = 123\n",
    "\n",
    "def test():\n",
    "    var = 124\n",
    "    print(var)\n",
    "\n",
    "def test1():\n",
    "    var = 1234\n",
    "    print(var)\n",
    "    \n",
    "test()\n",
    "test1()\n",
    "print(var)"
   ]
  },
  {
   "cell_type": "code",
   "execution_count": null,
   "id": "8bcf6ad9-3072-4fe3-84eb-01f44062b136",
   "metadata": {},
   "outputs": [],
   "source": [
    "var = 123\n",
    "id(var)"
   ]
  },
  {
   "cell_type": "code",
   "execution_count": null,
   "id": "f6277f75-4838-4d7b-96a2-adac1ff40e88",
   "metadata": {},
   "outputs": [],
   "source": [
    "var = 123\n",
    "\n",
    "def test():\n",
    "    var = 124\n",
    "#     print(var)\n",
    "    print(id(var))\n",
    "\n",
    "def test1():\n",
    "    var = 1234\n",
    "#     print(var)\n",
    "    print(id(var))\n",
    "    \n",
    "test()\n",
    "test1()\n",
    "print(id(var))"
   ]
  },
  {
   "cell_type": "code",
   "execution_count": null,
   "id": "8a35620e-1fad-4227-844d-fe709f6f14c2",
   "metadata": {},
   "outputs": [],
   "source": []
  },
  {
   "cell_type": "code",
   "execution_count": null,
   "id": "47f54b6d-55bb-440f-bc4e-e34ddfc0743d",
   "metadata": {},
   "outputs": [],
   "source": []
  },
  {
   "cell_type": "code",
   "execution_count": null,
   "id": "375ccbe3-e3e4-4586-9c7f-a736811cdc68",
   "metadata": {},
   "outputs": [],
   "source": [
    "s = 'I am a string' # the global scope\n",
    "def test():\n",
    "    global s\n",
    "    print('From function test(), before assignment: ',s) # will try the global scope\n",
    "    s = 'I am a new string'\n",
    "    print('From function test(), after assignment: ',s)\n",
    "\n",
    "test()\n",
    "print('From outside test(), ', s)"
   ]
  },
  {
   "cell_type": "code",
   "execution_count": null,
   "id": "3600c4f8-494f-4e31-975f-e8d8426bb4ba",
   "metadata": {},
   "outputs": [],
   "source": [
    "s = 'I am a string' # the global scope\n",
    "def test():\n",
    "#     global s\n",
    "#     print('From function test(), before assignment: ',s) # will try the global scope\n",
    "    s = 'I am a new string'\n",
    "    print('From function test(), after assignment: ',s)\n",
    "\n",
    "test()\n",
    "print('From outside test(), ', s)"
   ]
  },
  {
   "cell_type": "code",
   "execution_count": null,
   "id": "fee2931c-f693-45e8-bb43-91e5936e4b65",
   "metadata": {},
   "outputs": [],
   "source": [
    "a = [1,2,3]\n",
    "for i in range(3):\n",
    "    a = 4\n",
    "    print(i,a)\n",
    "print(a)"
   ]
  },
  {
   "cell_type": "markdown",
   "id": "501de98b-6030-4baf-bbba-abb38225a9b9",
   "metadata": {},
   "source": [
    "### Reading Materials\n",
    "* Fabrizio Romano *Learning Python: Learn to code like a professional with Python - an opensource, versatile, and powerful programming language* Packt Publishing, 2015. Chapter 1"
   ]
  },
  {
   "cell_type": "markdown",
   "id": "5d52e803-2702-4cfb-adda-0c54c1cdb15b",
   "metadata": {},
   "source": [
    "### More Examples"
   ]
  },
  {
   "cell_type": "code",
   "execution_count": null,
   "id": "1f13ca9a-d8d8-40f8-9a30-bfff5b1fb659",
   "metadata": {
    "scrolled": true
   },
   "outputs": [],
   "source": [
    "s = 'I am a string'\n",
    "def test1():\n",
    "    s = 'I am a new string'\n",
    "    print('From function test1(): ',s)\n",
    "\n",
    "def test2():\n",
    "    s = 'I am another new string'\n",
    "    print('From function test2(): ',s)\n",
    "\n",
    "print('Outside function test1() and test2(), before calling the 2 functions: ',s)\n",
    "test1()\n",
    "test2()\n",
    "print('Outside function test1() and test2(), after calling the 2 functions: ',s)"
   ]
  },
  {
   "cell_type": "markdown",
   "id": "649a7d3b-7f37-4a12-b001-c438fc3d08e4",
   "metadata": {},
   "source": [
    "### Passing parameters to the function"
   ]
  },
  {
   "cell_type": "code",
   "execution_count": null,
   "id": "34cf639e-52e0-455c-9561-e44d8b744af0",
   "metadata": {},
   "outputs": [],
   "source": [
    "s = 'I am a string'\n",
    "def test(s):\n",
    "    print('From function test(), before assignment: ',s)\n",
    "    s = 'I am a new string'\n",
    "    print('From function test(), after assignment: ',s)\n",
    "\n",
    "print('Outside function test(), before calling test(): ',s)    \n",
    "test(s)\n",
    "print('Outside function test(), after calling test() ',s)"
   ]
  },
  {
   "cell_type": "code",
   "execution_count": null,
   "id": "5d1c72cb-a4a7-4793-a871-079549934fbd",
   "metadata": {},
   "outputs": [],
   "source": [
    "## The above code is actually equivalent to the following code\n",
    "\n",
    "s = 'I am a string'\n",
    "def test(s_local):\n",
    "    print('From function test(), before assignment: ',s_local)\n",
    "    s_local = 'I am a new string'\n",
    "    print('From function test(), after assignment: ',s_local)\n",
    "\n",
    "print('Outside function test(), before calling test(): ',s)    \n",
    "test(s_local=s)\n",
    "print('Outside function test(), after calling test() ',s)"
   ]
  },
  {
   "cell_type": "code",
   "execution_count": null,
   "id": "73954263-ed2f-4e85-8437-97ea4b4950d2",
   "metadata": {},
   "outputs": [],
   "source": [
    "s = [1,2,3]\n",
    "def test(s):\n",
    "    print('From function test(), before assignment: ',s)\n",
    "    s[1] = 5\n",
    "    print('From function test(), after assignment: ',s)\n",
    "\n",
    "print('Outside function test(), before calling test(): ',s)    \n",
    "test(s)\n",
    "print('Outside function test(), after calling test() ',s)"
   ]
  },
  {
   "cell_type": "code",
   "execution_count": null,
   "id": "b942efee-bcc1-4c56-8085-23b5882726bb",
   "metadata": {},
   "outputs": [],
   "source": []
  },
  {
   "cell_type": "code",
   "execution_count": null,
   "id": "fd7e37a3-e3b4-4ccb-91d4-4c310fae2ba2",
   "metadata": {},
   "outputs": [],
   "source": []
  },
  {
   "cell_type": "code",
   "execution_count": null,
   "id": "c1084569-146a-4d27-98d1-d8fc72a7b48a",
   "metadata": {
    "scrolled": true
   },
   "outputs": [],
   "source": [
    "## The above code is actually equivalent to the following code\n",
    "\n",
    "s = [1,2,3]\n",
    "def test(s_local):\n",
    "    print('From function test(), before assignment: ',s_local)\n",
    "    s_local[1]=5\n",
    "    print('From function test(), after assignment: ',s_local)\n",
    "\n",
    "print('Outside function test(), before calling test(): ',s)    \n",
    "test(s_local=s)\n",
    "print('Outside function test(), after calling test() ',s)"
   ]
  },
  {
   "cell_type": "code",
   "execution_count": null,
   "id": "3475025c-636a-4f51-a54d-6dc04de0504a",
   "metadata": {},
   "outputs": [],
   "source": []
  },
  {
   "cell_type": "code",
   "execution_count": null,
   "id": "af9b416a-ce7b-4695-bf3d-15029308a74c",
   "metadata": {},
   "outputs": [],
   "source": []
  },
  {
   "cell_type": "code",
   "execution_count": null,
   "id": "55818391-92df-474d-9be5-f498eb44b838",
   "metadata": {},
   "outputs": [],
   "source": []
  },
  {
   "cell_type": "markdown",
   "id": "76a27977-7001-4c7b-8d86-f7e917189b16",
   "metadata": {},
   "source": [
    "# Recap of previous lecture"
   ]
  },
  {
   "cell_type": "markdown",
   "id": "3c5977eb-964b-4e99-85f9-0d446ccffe23",
   "metadata": {},
   "source": [
    "## Numpy and Numpy Arrays"
   ]
  },
  {
   "cell_type": "markdown",
   "id": "1091c3c1-2c53-4f48-8c11-fba0d66f6456",
   "metadata": {},
   "source": [
    "## import `numpy`"
   ]
  },
  {
   "cell_type": "code",
   "execution_count": 7,
   "id": "af78ad1d-c0d6-45b4-8c7d-55ce21bff295",
   "metadata": {},
   "outputs": [],
   "source": [
    "import numpy as np"
   ]
  },
  {
   "cell_type": "code",
   "execution_count": null,
   "id": "bc181400",
   "metadata": {},
   "outputs": [],
   "source": [
    "# import numpy"
   ]
  },
  {
   "cell_type": "code",
   "execution_count": null,
   "id": "8e345063-a1f3-44e3-a3e0-72160da228ff",
   "metadata": {},
   "outputs": [],
   "source": []
  },
  {
   "cell_type": "markdown",
   "id": "8cac6955-1ff2-49b0-926d-7d0b34e8f8c8",
   "metadata": {},
   "source": [
    "## Create numpy arrays"
   ]
  },
  {
   "cell_type": "code",
   "execution_count": 8,
   "id": "4f09ef33-685d-4256-bc15-f1f51f0acffe",
   "metadata": {},
   "outputs": [],
   "source": [
    "aList = [1,2,3,4]\n",
    "aNumpyArray = np.array(aList)"
   ]
  },
  {
   "cell_type": "code",
   "execution_count": 9,
   "id": "def16d51-093c-4ca7-97d3-bc3c31e2d197",
   "metadata": {},
   "outputs": [
    {
     "data": {
      "text/plain": [
       "array([1, 2, 3, 4])"
      ]
     },
     "execution_count": 9,
     "metadata": {},
     "output_type": "execute_result"
    }
   ],
   "source": [
    "aNumpyArray"
   ]
  },
  {
   "cell_type": "code",
   "execution_count": 10,
   "id": "e57250fa",
   "metadata": {},
   "outputs": [
    {
     "data": {
      "text/plain": [
       "numpy.ndarray"
      ]
     },
     "execution_count": 10,
     "metadata": {},
     "output_type": "execute_result"
    }
   ],
   "source": [
    "type(aNumpyArray)"
   ]
  },
  {
   "cell_type": "code",
   "execution_count": null,
   "id": "ecf481f8",
   "metadata": {},
   "outputs": [],
   "source": []
  },
  {
   "cell_type": "code",
   "execution_count": 11,
   "id": "f615fe2c-b53e-499e-a9a5-3224032966cb",
   "metadata": {},
   "outputs": [
    {
     "data": {
      "text/plain": [
       "1"
      ]
     },
     "execution_count": 11,
     "metadata": {},
     "output_type": "execute_result"
    }
   ],
   "source": [
    "aNumpyArray.ndim"
   ]
  },
  {
   "cell_type": "code",
   "execution_count": 12,
   "id": "11a467f5-ba41-41a0-8329-8382a9011f76",
   "metadata": {},
   "outputs": [
    {
     "data": {
      "text/plain": [
       "(4,)"
      ]
     },
     "execution_count": 12,
     "metadata": {},
     "output_type": "execute_result"
    }
   ],
   "source": [
    "aNumpyArray.shape"
   ]
  },
  {
   "cell_type": "code",
   "execution_count": 13,
   "id": "cb7e5f5c",
   "metadata": {},
   "outputs": [
    {
     "data": {
      "text/plain": [
       "4"
      ]
     },
     "execution_count": 13,
     "metadata": {},
     "output_type": "execute_result"
    }
   ],
   "source": [
    "len(aNumpyArray)"
   ]
  },
  {
   "cell_type": "code",
   "execution_count": null,
   "id": "3466ff20",
   "metadata": {},
   "outputs": [],
   "source": []
  },
  {
   "cell_type": "code",
   "execution_count": 14,
   "id": "98de0d93-6d97-4239-a340-67f1c7990ff3",
   "metadata": {},
   "outputs": [
    {
     "data": {
      "text/plain": [
       "5.0"
      ]
     },
     "execution_count": 14,
     "metadata": {},
     "output_type": "execute_result"
    }
   ],
   "source": [
    "## get the absolute size of a vector\n",
    "bList = [3,4]\n",
    "bNumpyArray = np.array(bList)\n",
    "np.linalg.norm(bNumpyArray)"
   ]
  },
  {
   "cell_type": "code",
   "execution_count": null,
   "id": "8e7bf435-a947-42fc-a66c-c99a42c501a4",
   "metadata": {},
   "outputs": [],
   "source": []
  },
  {
   "cell_type": "code",
   "execution_count": null,
   "id": "865251fd-53e8-4717-a989-6a0dea1bb1c8",
   "metadata": {},
   "outputs": [],
   "source": []
  },
  {
   "cell_type": "code",
   "execution_count": 15,
   "id": "f8ac2eaf-0cd1-40e0-9740-e127c6357115",
   "metadata": {},
   "outputs": [],
   "source": [
    "aNumpyArray = np.array(aList).reshape(2,2)"
   ]
  },
  {
   "cell_type": "code",
   "execution_count": 18,
   "id": "f4d2b59e",
   "metadata": {},
   "outputs": [
    {
     "data": {
      "text/plain": [
       "array([[1, 2],\n",
       "       [3, 4]])"
      ]
     },
     "execution_count": 18,
     "metadata": {},
     "output_type": "execute_result"
    }
   ],
   "source": [
    "aNumpyArray"
   ]
  },
  {
   "cell_type": "code",
   "execution_count": 16,
   "id": "9fb14221-859c-47b6-a520-327fdf486aa2",
   "metadata": {},
   "outputs": [
    {
     "data": {
      "text/plain": [
       "2"
      ]
     },
     "execution_count": 16,
     "metadata": {},
     "output_type": "execute_result"
    }
   ],
   "source": [
    "aNumpyArray.ndim"
   ]
  },
  {
   "cell_type": "code",
   "execution_count": 17,
   "id": "28a3f71a-d2b0-4afb-9d9a-9dc6e57f01c5",
   "metadata": {},
   "outputs": [
    {
     "data": {
      "text/plain": [
       "(2, 2)"
      ]
     },
     "execution_count": 17,
     "metadata": {},
     "output_type": "execute_result"
    }
   ],
   "source": [
    "aNumpyArray.shape"
   ]
  },
  {
   "cell_type": "code",
   "execution_count": 19,
   "id": "45f33fd7-c87b-4b19-8dc9-3255e099b95d",
   "metadata": {},
   "outputs": [
    {
     "data": {
      "text/plain": [
       "array([[-2. ,  1. ],\n",
       "       [ 1.5, -0.5]])"
      ]
     },
     "execution_count": 19,
     "metadata": {},
     "output_type": "execute_result"
    }
   ],
   "source": [
    "## get the inverse of the 1D vector\n",
    "np.linalg.inv(aNumpyArray)"
   ]
  },
  {
   "cell_type": "code",
   "execution_count": null,
   "id": "70406b49-15a9-4963-a925-270120054b26",
   "metadata": {},
   "outputs": [],
   "source": []
  },
  {
   "cell_type": "code",
   "execution_count": null,
   "id": "fd4c88c4-529c-48ec-9153-9f2a63333584",
   "metadata": {},
   "outputs": [],
   "source": []
  },
  {
   "cell_type": "markdown",
   "id": "569ee0a4-9267-40ab-8ab5-d5d86baf1d9b",
   "metadata": {},
   "source": [
    "## Operations on numpy arrays"
   ]
  },
  {
   "cell_type": "code",
   "execution_count": 20,
   "id": "254d33a7-96be-40e5-a0cc-87fd2552752d",
   "metadata": {},
   "outputs": [
    {
     "data": {
      "text/plain": [
       "array([[1, 3],\n",
       "       [2, 4]])"
      ]
     },
     "execution_count": 20,
     "metadata": {},
     "output_type": "execute_result"
    }
   ],
   "source": [
    "aNumpyArray.T"
   ]
  },
  {
   "cell_type": "code",
   "execution_count": null,
   "id": "27a6950b",
   "metadata": {},
   "outputs": [],
   "source": []
  },
  {
   "cell_type": "code",
   "execution_count": 21,
   "id": "f5f401dc",
   "metadata": {},
   "outputs": [
    {
     "data": {
      "text/plain": [
       "[1, 2, 3, 4]"
      ]
     },
     "execution_count": 21,
     "metadata": {},
     "output_type": "execute_result"
    }
   ],
   "source": [
    "aList"
   ]
  },
  {
   "cell_type": "code",
   "execution_count": 22,
   "id": "392e2c7d-f6b2-466d-a1af-9ce27300bc79",
   "metadata": {},
   "outputs": [],
   "source": [
    "a = np.array(aList).reshape(2,2)\n",
    "b = np.eye(2)"
   ]
  },
  {
   "cell_type": "code",
   "execution_count": 23,
   "id": "eee45c1f-8723-4a6c-8c87-a92fe444412d",
   "metadata": {},
   "outputs": [
    {
     "data": {
      "text/plain": [
       "array([[1., 0.],\n",
       "       [0., 1.]])"
      ]
     },
     "execution_count": 23,
     "metadata": {},
     "output_type": "execute_result"
    }
   ],
   "source": [
    "b"
   ]
  },
  {
   "cell_type": "code",
   "execution_count": 24,
   "id": "a5807f60-0e73-4535-a41e-79256c341d2b",
   "metadata": {},
   "outputs": [
    {
     "data": {
      "text/plain": [
       "array([[1., 2.],\n",
       "       [3., 4.]])"
      ]
     },
     "execution_count": 24,
     "metadata": {},
     "output_type": "execute_result"
    }
   ],
   "source": [
    "a.dot(b)"
   ]
  },
  {
   "cell_type": "code",
   "execution_count": null,
   "id": "5b7a6ace-3479-48bd-8550-219eb28041b3",
   "metadata": {},
   "outputs": [],
   "source": []
  },
  {
   "cell_type": "code",
   "execution_count": null,
   "id": "03db4e18-f5de-42cc-9593-3dc886bed829",
   "metadata": {},
   "outputs": [],
   "source": []
  },
  {
   "cell_type": "markdown",
   "id": "01db74e7-5c38-4b6c-9c83-bd1b55c77e94",
   "metadata": {},
   "source": [
    "## Generate random numbers with `numpy`"
   ]
  },
  {
   "cell_type": "code",
   "execution_count": 25,
   "id": "77b9c45f-1df1-4db9-ac16-54159dabb39c",
   "metadata": {},
   "outputs": [
    {
     "data": {
      "text/plain": [
       "array([0.39005013, 0.38692671, 0.10284686])"
      ]
     },
     "execution_count": 25,
     "metadata": {},
     "output_type": "execute_result"
    }
   ],
   "source": [
    "np.random.rand(3)"
   ]
  },
  {
   "cell_type": "code",
   "execution_count": 26,
   "id": "8983990d-319a-497b-b0cc-4be74afaf224",
   "metadata": {},
   "outputs": [
    {
     "data": {
      "text/plain": [
       "array([[-0.16557136,  0.928737  ],\n",
       "       [-0.13932115,  0.66782438]])"
      ]
     },
     "execution_count": 26,
     "metadata": {},
     "output_type": "execute_result"
    }
   ],
   "source": [
    "np.random.randn(2,2)"
   ]
  },
  {
   "cell_type": "code",
   "execution_count": 27,
   "id": "b924fd50-ad39-4eb5-9f77-77af2253cf57",
   "metadata": {},
   "outputs": [
    {
     "data": {
      "text/plain": [
       "array([2, 5, 5, 5, 5, 6, 1, 2, 7, 3, 3, 1, 8, 0, 8, 9, 4, 6, 1, 2, 6, 8,\n",
       "       9, 8, 1, 0, 4, 8, 9, 5, 0, 3, 6, 9, 2, 9, 7, 8, 7, 0, 4, 3, 4, 4,\n",
       "       6, 3, 4, 0, 4, 8, 8, 5, 0, 9, 2, 1, 0, 7, 1, 3, 1, 1, 0, 2, 0, 7,\n",
       "       2, 9, 7, 7, 8, 1, 6, 3, 5, 4, 3, 7, 6, 1, 7, 8, 3, 2, 3, 9, 2, 0,\n",
       "       9, 0, 3, 7, 3, 6, 9, 9, 4, 2, 1, 7])"
      ]
     },
     "execution_count": 27,
     "metadata": {},
     "output_type": "execute_result"
    }
   ],
   "source": [
    "np.random.randint(low=0, high=10, size=100)"
   ]
  },
  {
   "cell_type": "code",
   "execution_count": 28,
   "id": "a9ae8ce9",
   "metadata": {},
   "outputs": [
    {
     "data": {
      "text/plain": [
       "100"
      ]
     },
     "execution_count": 28,
     "metadata": {},
     "output_type": "execute_result"
    }
   ],
   "source": [
    "len(np.random.randint(low=0, high=10, size=100))"
   ]
  },
  {
   "cell_type": "code",
   "execution_count": null,
   "id": "00b15855-8b64-4a5e-83e7-7367b60b9fcf",
   "metadata": {},
   "outputs": [],
   "source": []
  },
  {
   "cell_type": "markdown",
   "id": "25a9d071-43b3-4408-be56-856546e12fb2",
   "metadata": {},
   "source": [
    "## Example: Nearest neighbor search\n",
    "\n",
    "Euclidean distance between 2 points $(x_1,y_1,z_1)$ and $(x_2,y_2,z_2)$ is:\n",
    "$$\\sqrt{(x_2-x_1)^2+(y_2-y1)^2+(z_2-z_1)^2}$$"
   ]
  },
  {
   "cell_type": "code",
   "execution_count": null,
   "id": "d28b228c",
   "metadata": {},
   "outputs": [],
   "source": []
  },
  {
   "cell_type": "code",
   "execution_count": null,
   "id": "651c8989",
   "metadata": {},
   "outputs": [],
   "source": []
  },
  {
   "cell_type": "code",
   "execution_count": 34,
   "id": "623d73a0",
   "metadata": {},
   "outputs": [
    {
     "name": "stdout",
     "output_type": "stream",
     "text": [
      "The shortest distance to the target is 1.7320508075688772\n",
      "The nearest neighbor is [3, 4, 4]\n"
     ]
    }
   ],
   "source": [
    "### Pure iterative Python ###\n",
    "points = [[9,2,8],[4,7,2],[3,4,4],[5,6,9],[5,0,7],[8,2,7],[0,3,2],[7,3,0],[6,1,1],[2,9,6]]\n",
    "target = [4,5,3]\n",
    "\n",
    "shortest_distance = 10 ** 10\n",
    "nearest_neighbor = []\n",
    "for point in points:\n",
    "    x,y,z = point\n",
    "    x0,y0,z0 = target\n",
    "    # magic to calculate the distance\n",
    "    d = ((x-x0)**2 + (y-y0)**2 + (z-z0)**2) ** 0.5\n",
    "    # figure out if this distance is the minimum distance\n",
    "    if d <= shortest_distance:\n",
    "        shortest_distance = d\n",
    "        nearest_neighbor = [x,y,z]\n",
    "    \n",
    "    # if so, print the distance and point, and disclare that this is the closest data point to qPoint\n",
    "\n",
    "print(f'The shortest distance to the target is {shortest_distance}')\n",
    "print(f'The nearest neighbor is {nearest_neighbor}')"
   ]
  },
  {
   "cell_type": "code",
   "execution_count": null,
   "id": "bd84474b",
   "metadata": {},
   "outputs": [],
   "source": []
  },
  {
   "cell_type": "code",
   "execution_count": 38,
   "id": "ddd2df49-329f-4bfa-a1ac-104c76d0a564",
   "metadata": {},
   "outputs": [
    {
     "name": "stdout",
     "output_type": "stream",
     "text": [
      "2\n",
      "Nearest point to q:  [3 4 4]\n"
     ]
    }
   ],
   "source": [
    "# # # Equivalent NumPy vectorization # # #\n",
    "import numpy as np\n",
    "points = np.array([[9,2,8],[4,7,2],[3,4,4],[5,6,9],[5,0,7],[8,2,7],[0,3,2],[7,3,0],[6,1,1],[2,9,6]])\n",
    "# points.shape\n",
    "target = np.array([4,5,3]).reshape(1,3)\n",
    "minIdx = np.argmin(np.linalg.norm(points-target,axis=1))  # compute all euclidean distances at once and return the index of the smallest one\n",
    "print(minIdx)\n",
    "print('Nearest point to q: ', points[minIdx])"
   ]
  },
  {
   "cell_type": "markdown",
   "id": "7e13233c",
   "metadata": {},
   "source": [
    "### breakdown of the numpy logic above"
   ]
  },
  {
   "cell_type": "code",
   "execution_count": 39,
   "id": "45160497",
   "metadata": {},
   "outputs": [
    {
     "data": {
      "text/plain": [
       "array([[9, 2, 8],\n",
       "       [4, 7, 2],\n",
       "       [3, 4, 4],\n",
       "       [5, 6, 9],\n",
       "       [5, 0, 7],\n",
       "       [8, 2, 7],\n",
       "       [0, 3, 2],\n",
       "       [7, 3, 0],\n",
       "       [6, 1, 1],\n",
       "       [2, 9, 6]])"
      ]
     },
     "execution_count": 39,
     "metadata": {},
     "output_type": "execute_result"
    }
   ],
   "source": [
    "points"
   ]
  },
  {
   "cell_type": "code",
   "execution_count": 40,
   "id": "46114e4d",
   "metadata": {},
   "outputs": [
    {
     "data": {
      "text/plain": [
       "array([[4, 5, 3]])"
      ]
     },
     "execution_count": 40,
     "metadata": {},
     "output_type": "execute_result"
    }
   ],
   "source": [
    "target"
   ]
  },
  {
   "cell_type": "code",
   "execution_count": 41,
   "id": "a9d4257e",
   "metadata": {},
   "outputs": [
    {
     "data": {
      "text/plain": [
       "array([[ 5, -3,  5],\n",
       "       [ 0,  2, -1],\n",
       "       [-1, -1,  1],\n",
       "       [ 1,  1,  6],\n",
       "       [ 1, -5,  4],\n",
       "       [ 4, -3,  4],\n",
       "       [-4, -2, -1],\n",
       "       [ 3, -2, -3],\n",
       "       [ 2, -4, -2],\n",
       "       [-2,  4,  3]])"
      ]
     },
     "execution_count": 41,
     "metadata": {},
     "output_type": "execute_result"
    }
   ],
   "source": [
    "points-target"
   ]
  },
  {
   "cell_type": "code",
   "execution_count": 42,
   "id": "571032f1",
   "metadata": {},
   "outputs": [
    {
     "data": {
      "text/plain": [
       "array([7.68114575, 2.23606798, 1.73205081, 6.164414  , 6.4807407 ,\n",
       "       6.40312424, 4.58257569, 4.69041576, 4.89897949, 5.38516481])"
      ]
     },
     "execution_count": 42,
     "metadata": {},
     "output_type": "execute_result"
    }
   ],
   "source": [
    "np.linalg.norm(points-target,axis=1)"
   ]
  },
  {
   "cell_type": "code",
   "execution_count": 43,
   "id": "81625295",
   "metadata": {},
   "outputs": [
    {
     "data": {
      "text/plain": [
       "2"
      ]
     },
     "execution_count": 43,
     "metadata": {},
     "output_type": "execute_result"
    }
   ],
   "source": [
    "np.argmin(np.linalg.norm(points-target,axis=1)) # the index value of the minimum distances above"
   ]
  },
  {
   "cell_type": "code",
   "execution_count": null,
   "id": "e54b0b7a",
   "metadata": {},
   "outputs": [],
   "source": [
    "# this index happens to be the row index of the original data point in matrix `points`"
   ]
  },
  {
   "cell_type": "code",
   "execution_count": 44,
   "id": "4e6f013d",
   "metadata": {},
   "outputs": [
    {
     "data": {
      "text/plain": [
       "array([3, 4, 4])"
      ]
     },
     "execution_count": 44,
     "metadata": {},
     "output_type": "execute_result"
    }
   ],
   "source": [
    "points[minIdx]"
   ]
  },
  {
   "cell_type": "code",
   "execution_count": null,
   "id": "67f51bfd-c8dc-4ee2-85f7-5eb88c3debc0",
   "metadata": {},
   "outputs": [],
   "source": []
  },
  {
   "cell_type": "markdown",
   "id": "675a3595-aa6b-4fa8-95c9-6ef47da56656",
   "metadata": {},
   "source": [
    "# Quick Tutorial on Pandas\n",
    "\n",
    "* `pandas` is a Python package providing fast, flexible, and expressive data structures designed to make working with “relational” or “labeled” data both easy and intuitive. It aims to be the fundamental high-level building block for doing practical, real world data analysis in Python. Additionally, it has the broader goal of becoming the most powerful and flexible open source data analysis / manipulation tool available in any language. It is already well on its way toward this goal.\n",
    "* It is included in the installation of the Anaconda distribution\n",
    "* When working with tabular data, such as data stored in spreadsheets or databases, pandas is the right tool for you. pandas will help you to explore, clean and process your data. In pandas, a data table is called a DataFrame.\n",
    "\n",
    "<img align=\"center\" src=\"../pics/dataframe-structure.png\" style=\"height:300px;\">\n"
   ]
  },
  {
   "cell_type": "markdown",
   "id": "71a18ea9-bd2d-44c0-a4b5-3ee250e50f6f",
   "metadata": {},
   "source": [
    "## Import the core libraries"
   ]
  },
  {
   "cell_type": "code",
   "execution_count": 45,
   "id": "faba3eaa-0f18-442c-b181-e6960360e2d3",
   "metadata": {},
   "outputs": [],
   "source": [
    "import pandas as pd\n",
    "\n",
    "import numpy as np\n",
    "import matplotlib.pyplot as plt"
   ]
  },
  {
   "cell_type": "markdown",
   "id": "eed43f5c-bb7f-4b32-9e4f-1fa9d9e6aee1",
   "metadata": {},
   "source": [
    "## Create `dataframe` from raw data"
   ]
  },
  {
   "cell_type": "code",
   "execution_count": 46,
   "id": "7d27cac2-a419-4b34-8869-ac3aad4cf590",
   "metadata": {},
   "outputs": [
    {
     "data": {
      "text/plain": [
       "{'A': [1, 2, 'a', 4],\n",
       " 'B': array([5, 6, 7, 8]),\n",
       " 'C': ['abc', 'def', 'ghi', 'jkl']}"
      ]
     },
     "execution_count": 46,
     "metadata": {},
     "output_type": "execute_result"
    }
   ],
   "source": [
    "{\n",
    "    'A':[1,2,'a',4],\n",
    "    'B':np.arange(5,9),\n",
    "    'C':['abc','def','ghi','jkl']\n",
    "}"
   ]
  },
  {
   "cell_type": "code",
   "execution_count": null,
   "id": "d40690d3",
   "metadata": {},
   "outputs": [],
   "source": []
  },
  {
   "cell_type": "code",
   "execution_count": 47,
   "id": "1e2a1abb",
   "metadata": {},
   "outputs": [],
   "source": [
    "x = {\n",
    "    'A':[1,2,'a',4],\n",
    "    'B':np.arange(5,9),\n",
    "    'C':['abc','def','ghi','jkl']\n",
    "}"
   ]
  },
  {
   "cell_type": "code",
   "execution_count": 48,
   "id": "05788ecb-7e2c-4075-9764-0879df5fc1a3",
   "metadata": {},
   "outputs": [],
   "source": [
    "# create df from a dictionary\n",
    "df1 = pd.DataFrame(x)"
   ]
  },
  {
   "cell_type": "code",
   "execution_count": 49,
   "id": "bbfd3c4b-c4b7-4a57-8779-db6eb75e5839",
   "metadata": {},
   "outputs": [
    {
     "data": {
      "text/html": [
       "<div>\n",
       "<style scoped>\n",
       "    .dataframe tbody tr th:only-of-type {\n",
       "        vertical-align: middle;\n",
       "    }\n",
       "\n",
       "    .dataframe tbody tr th {\n",
       "        vertical-align: top;\n",
       "    }\n",
       "\n",
       "    .dataframe thead th {\n",
       "        text-align: right;\n",
       "    }\n",
       "</style>\n",
       "<table border=\"1\" class=\"dataframe\">\n",
       "  <thead>\n",
       "    <tr style=\"text-align: right;\">\n",
       "      <th></th>\n",
       "      <th>A</th>\n",
       "      <th>B</th>\n",
       "      <th>C</th>\n",
       "    </tr>\n",
       "  </thead>\n",
       "  <tbody>\n",
       "    <tr>\n",
       "      <th>0</th>\n",
       "      <td>1</td>\n",
       "      <td>5</td>\n",
       "      <td>abc</td>\n",
       "    </tr>\n",
       "    <tr>\n",
       "      <th>1</th>\n",
       "      <td>2</td>\n",
       "      <td>6</td>\n",
       "      <td>def</td>\n",
       "    </tr>\n",
       "    <tr>\n",
       "      <th>2</th>\n",
       "      <td>a</td>\n",
       "      <td>7</td>\n",
       "      <td>ghi</td>\n",
       "    </tr>\n",
       "    <tr>\n",
       "      <th>3</th>\n",
       "      <td>4</td>\n",
       "      <td>8</td>\n",
       "      <td>jkl</td>\n",
       "    </tr>\n",
       "  </tbody>\n",
       "</table>\n",
       "</div>"
      ],
      "text/plain": [
       "   A  B    C\n",
       "0  1  5  abc\n",
       "1  2  6  def\n",
       "2  a  7  ghi\n",
       "3  4  8  jkl"
      ]
     },
     "execution_count": 49,
     "metadata": {},
     "output_type": "execute_result"
    }
   ],
   "source": [
    "df1"
   ]
  },
  {
   "cell_type": "code",
   "execution_count": null,
   "id": "9dff82ca",
   "metadata": {},
   "outputs": [],
   "source": []
  },
  {
   "cell_type": "code",
   "execution_count": 51,
   "id": "b94ba732-4b47-4983-98e4-20a513448481",
   "metadata": {},
   "outputs": [],
   "source": [
    "y = [\n",
    "    ['a','b','c'],\n",
    "    ['d','e','f']\n",
    "]"
   ]
  },
  {
   "cell_type": "code",
   "execution_count": 52,
   "id": "c303bf06",
   "metadata": {},
   "outputs": [
    {
     "data": {
      "text/plain": [
       "[['a', 'b', 'c'], ['d', 'e', 'f']]"
      ]
     },
     "execution_count": 52,
     "metadata": {},
     "output_type": "execute_result"
    }
   ],
   "source": [
    "y"
   ]
  },
  {
   "cell_type": "code",
   "execution_count": 53,
   "id": "5577a192-b4b5-420b-b6c0-cb960e38a73a",
   "metadata": {},
   "outputs": [
    {
     "data": {
      "text/html": [
       "<div>\n",
       "<style scoped>\n",
       "    .dataframe tbody tr th:only-of-type {\n",
       "        vertical-align: middle;\n",
       "    }\n",
       "\n",
       "    .dataframe tbody tr th {\n",
       "        vertical-align: top;\n",
       "    }\n",
       "\n",
       "    .dataframe thead th {\n",
       "        text-align: right;\n",
       "    }\n",
       "</style>\n",
       "<table border=\"1\" class=\"dataframe\">\n",
       "  <thead>\n",
       "    <tr style=\"text-align: right;\">\n",
       "      <th></th>\n",
       "      <th>col1</th>\n",
       "      <th>col2</th>\n",
       "      <th>col3</th>\n",
       "    </tr>\n",
       "  </thead>\n",
       "  <tbody>\n",
       "    <tr>\n",
       "      <th>0</th>\n",
       "      <td>a</td>\n",
       "      <td>b</td>\n",
       "      <td>c</td>\n",
       "    </tr>\n",
       "    <tr>\n",
       "      <th>1</th>\n",
       "      <td>d</td>\n",
       "      <td>e</td>\n",
       "      <td>f</td>\n",
       "    </tr>\n",
       "  </tbody>\n",
       "</table>\n",
       "</div>"
      ],
      "text/plain": [
       "  col1 col2 col3\n",
       "0    a    b    c\n",
       "1    d    e    f"
      ]
     },
     "execution_count": 53,
     "metadata": {},
     "output_type": "execute_result"
    }
   ],
   "source": [
    "# create df from a list\n",
    "df2 = pd.DataFrame(y, columns=['col1','col2','col3'])\n",
    "df2"
   ]
  },
  {
   "cell_type": "code",
   "execution_count": null,
   "id": "bf22f1a0",
   "metadata": {},
   "outputs": [],
   "source": []
  },
  {
   "cell_type": "code",
   "execution_count": null,
   "id": "3dc2d7ae-2ec6-40e4-bfad-072f22fbc247",
   "metadata": {},
   "outputs": [],
   "source": [
    "[3] * 4"
   ]
  },
  {
   "cell_type": "code",
   "execution_count": 54,
   "id": "101b68a4-1e18-4c5d-a727-7a80eea302c8",
   "metadata": {},
   "outputs": [],
   "source": [
    "# create df with fancier settings\n",
    "z = {\n",
    "    'A': 1.,\n",
    "    'B': pd.Timestamp('20130102'),\n",
    "    'C': pd.Series(1, index=list(range(4)), dtype='float32'),\n",
    "    'D': np.array([3] * 4, dtype='int32'),\n",
    "    'E': pd.Categorical([\"test\", \"train\", \"test\", \"train\"]),\n",
    "    'F': 'foo'\n",
    "}\n",
    "df3 = pd.DataFrame(z) "
   ]
  },
  {
   "cell_type": "code",
   "execution_count": 55,
   "id": "631f8f64-e9d2-4fa0-b5a4-1817f34ea375",
   "metadata": {},
   "outputs": [
    {
     "data": {
      "text/html": [
       "<div>\n",
       "<style scoped>\n",
       "    .dataframe tbody tr th:only-of-type {\n",
       "        vertical-align: middle;\n",
       "    }\n",
       "\n",
       "    .dataframe tbody tr th {\n",
       "        vertical-align: top;\n",
       "    }\n",
       "\n",
       "    .dataframe thead th {\n",
       "        text-align: right;\n",
       "    }\n",
       "</style>\n",
       "<table border=\"1\" class=\"dataframe\">\n",
       "  <thead>\n",
       "    <tr style=\"text-align: right;\">\n",
       "      <th></th>\n",
       "      <th>A</th>\n",
       "      <th>B</th>\n",
       "      <th>C</th>\n",
       "      <th>D</th>\n",
       "      <th>E</th>\n",
       "      <th>F</th>\n",
       "    </tr>\n",
       "  </thead>\n",
       "  <tbody>\n",
       "    <tr>\n",
       "      <th>0</th>\n",
       "      <td>1.0</td>\n",
       "      <td>2013-01-02</td>\n",
       "      <td>1.0</td>\n",
       "      <td>3</td>\n",
       "      <td>test</td>\n",
       "      <td>foo</td>\n",
       "    </tr>\n",
       "    <tr>\n",
       "      <th>1</th>\n",
       "      <td>1.0</td>\n",
       "      <td>2013-01-02</td>\n",
       "      <td>1.0</td>\n",
       "      <td>3</td>\n",
       "      <td>train</td>\n",
       "      <td>foo</td>\n",
       "    </tr>\n",
       "    <tr>\n",
       "      <th>2</th>\n",
       "      <td>1.0</td>\n",
       "      <td>2013-01-02</td>\n",
       "      <td>1.0</td>\n",
       "      <td>3</td>\n",
       "      <td>test</td>\n",
       "      <td>foo</td>\n",
       "    </tr>\n",
       "    <tr>\n",
       "      <th>3</th>\n",
       "      <td>1.0</td>\n",
       "      <td>2013-01-02</td>\n",
       "      <td>1.0</td>\n",
       "      <td>3</td>\n",
       "      <td>train</td>\n",
       "      <td>foo</td>\n",
       "    </tr>\n",
       "  </tbody>\n",
       "</table>\n",
       "</div>"
      ],
      "text/plain": [
       "     A          B    C  D      E    F\n",
       "0  1.0 2013-01-02  1.0  3   test  foo\n",
       "1  1.0 2013-01-02  1.0  3  train  foo\n",
       "2  1.0 2013-01-02  1.0  3   test  foo\n",
       "3  1.0 2013-01-02  1.0  3  train  foo"
      ]
     },
     "execution_count": 55,
     "metadata": {},
     "output_type": "execute_result"
    }
   ],
   "source": [
    "df3"
   ]
  },
  {
   "cell_type": "code",
   "execution_count": 56,
   "id": "a7515b0a-e058-4fe0-93fb-98ad89727661",
   "metadata": {},
   "outputs": [
    {
     "data": {
      "text/plain": [
       "(4, 6)"
      ]
     },
     "execution_count": 56,
     "metadata": {},
     "output_type": "execute_result"
    }
   ],
   "source": [
    "df3.shape"
   ]
  },
  {
   "cell_type": "code",
   "execution_count": 57,
   "id": "9d98aeab-7bc2-406d-b385-a0cd6d82b6a2",
   "metadata": {},
   "outputs": [
    {
     "data": {
      "text/plain": [
       "2"
      ]
     },
     "execution_count": 57,
     "metadata": {},
     "output_type": "execute_result"
    }
   ],
   "source": [
    "df3.ndim"
   ]
  },
  {
   "cell_type": "code",
   "execution_count": null,
   "id": "d4e63dab-93ea-49d4-98c9-093a315c9fde",
   "metadata": {},
   "outputs": [],
   "source": []
  },
  {
   "cell_type": "markdown",
   "id": "205d9044-4daf-4142-b8c5-705bde6359e0",
   "metadata": {},
   "source": [
    "References\n",
    "* `Series`: https://pandas.pydata.org/pandas-docs/stable/user_guide/dsintro.html#series\n",
    "* `Time series and date functionality`: https://pandas.pydata.org/pandas-docs/stable/user_guide/timeseries.html#time-series-date-functionality"
   ]
  },
  {
   "cell_type": "markdown",
   "id": "efa83238-973b-4f1d-9f4f-1b6edc02e6ab",
   "metadata": {},
   "source": [
    "## Create `dataframe` from text file"
   ]
  },
  {
   "cell_type": "code",
   "execution_count": 60,
   "id": "2d267909",
   "metadata": {},
   "outputs": [
    {
     "data": {
      "text/html": [
       "<div>\n",
       "<style scoped>\n",
       "    .dataframe tbody tr th:only-of-type {\n",
       "        vertical-align: middle;\n",
       "    }\n",
       "\n",
       "    .dataframe tbody tr th {\n",
       "        vertical-align: top;\n",
       "    }\n",
       "\n",
       "    .dataframe thead th {\n",
       "        text-align: right;\n",
       "    }\n",
       "</style>\n",
       "<table border=\"1\" class=\"dataframe\">\n",
       "  <thead>\n",
       "    <tr style=\"text-align: right;\">\n",
       "      <th></th>\n",
       "      <th>Country</th>\n",
       "      <th>Subject Descriptor</th>\n",
       "      <th>Units</th>\n",
       "      <th>Scale</th>\n",
       "      <th>Country/Series-specific Notes</th>\n",
       "      <th>2015</th>\n",
       "      <th>Estimates Start After</th>\n",
       "    </tr>\n",
       "  </thead>\n",
       "  <tbody>\n",
       "    <tr>\n",
       "      <th>0</th>\n",
       "      <td>Afghanistan</td>\n",
       "      <td>Gross domestic product per capita, current prices</td>\n",
       "      <td>U.S. dollars</td>\n",
       "      <td>Units</td>\n",
       "      <td>See notes for:  Gross domestic product, curren...</td>\n",
       "      <td>599.994</td>\n",
       "      <td>2013.0</td>\n",
       "    </tr>\n",
       "    <tr>\n",
       "      <th>1</th>\n",
       "      <td>Albania</td>\n",
       "      <td>Gross domestic product per capita, current prices</td>\n",
       "      <td>U.S. dollars</td>\n",
       "      <td>Units</td>\n",
       "      <td>See notes for:  Gross domestic product, curren...</td>\n",
       "      <td>3,995.38</td>\n",
       "      <td>2010.0</td>\n",
       "    </tr>\n",
       "    <tr>\n",
       "      <th>2</th>\n",
       "      <td>Algeria</td>\n",
       "      <td>Gross domestic product per capita, current prices</td>\n",
       "      <td>U.S. dollars</td>\n",
       "      <td>Units</td>\n",
       "      <td>See notes for:  Gross domestic product, curren...</td>\n",
       "      <td>4,318.14</td>\n",
       "      <td>2014.0</td>\n",
       "    </tr>\n",
       "    <tr>\n",
       "      <th>3</th>\n",
       "      <td>Angola</td>\n",
       "      <td>Gross domestic product per capita, current prices</td>\n",
       "      <td>U.S. dollars</td>\n",
       "      <td>Units</td>\n",
       "      <td>See notes for:  Gross domestic product, curren...</td>\n",
       "      <td>4,100.32</td>\n",
       "      <td>2014.0</td>\n",
       "    </tr>\n",
       "    <tr>\n",
       "      <th>4</th>\n",
       "      <td>Antigua and Barbuda</td>\n",
       "      <td>Gross domestic product per capita, current prices</td>\n",
       "      <td>U.S. dollars</td>\n",
       "      <td>Units</td>\n",
       "      <td>See notes for:  Gross domestic product, curren...</td>\n",
       "      <td>14,414.30</td>\n",
       "      <td>2011.0</td>\n",
       "    </tr>\n",
       "    <tr>\n",
       "      <th>...</th>\n",
       "      <td>...</td>\n",
       "      <td>...</td>\n",
       "      <td>...</td>\n",
       "      <td>...</td>\n",
       "      <td>...</td>\n",
       "      <td>...</td>\n",
       "      <td>...</td>\n",
       "    </tr>\n",
       "    <tr>\n",
       "      <th>184</th>\n",
       "      <td>Venezuela</td>\n",
       "      <td>Gross domestic product per capita, current prices</td>\n",
       "      <td>U.S. dollars</td>\n",
       "      <td>Units</td>\n",
       "      <td>See notes for:  Gross domestic product, curren...</td>\n",
       "      <td>7,744.75</td>\n",
       "      <td>2010.0</td>\n",
       "    </tr>\n",
       "    <tr>\n",
       "      <th>185</th>\n",
       "      <td>Vietnam</td>\n",
       "      <td>Gross domestic product per capita, current prices</td>\n",
       "      <td>U.S. dollars</td>\n",
       "      <td>Units</td>\n",
       "      <td>See notes for:  Gross domestic product, curren...</td>\n",
       "      <td>2,088.34</td>\n",
       "      <td>2012.0</td>\n",
       "    </tr>\n",
       "    <tr>\n",
       "      <th>186</th>\n",
       "      <td>Yemen</td>\n",
       "      <td>Gross domestic product per capita, current prices</td>\n",
       "      <td>U.S. dollars</td>\n",
       "      <td>Units</td>\n",
       "      <td>See notes for:  Gross domestic product, curren...</td>\n",
       "      <td>1,302.94</td>\n",
       "      <td>2008.0</td>\n",
       "    </tr>\n",
       "    <tr>\n",
       "      <th>187</th>\n",
       "      <td>Zambia</td>\n",
       "      <td>Gross domestic product per capita, current prices</td>\n",
       "      <td>U.S. dollars</td>\n",
       "      <td>Units</td>\n",
       "      <td>See notes for:  Gross domestic product, curren...</td>\n",
       "      <td>1,350.15</td>\n",
       "      <td>2010.0</td>\n",
       "    </tr>\n",
       "    <tr>\n",
       "      <th>188</th>\n",
       "      <td>Zimbabwe</td>\n",
       "      <td>Gross domestic product per capita, current prices</td>\n",
       "      <td>U.S. dollars</td>\n",
       "      <td>Units</td>\n",
       "      <td>See notes for:  Gross domestic product, curren...</td>\n",
       "      <td>1,064.35</td>\n",
       "      <td>2012.0</td>\n",
       "    </tr>\n",
       "  </tbody>\n",
       "</table>\n",
       "<p>189 rows × 7 columns</p>\n",
       "</div>"
      ],
      "text/plain": [
       "                 Country                                 Subject Descriptor  \\\n",
       "0            Afghanistan  Gross domestic product per capita, current prices   \n",
       "1                Albania  Gross domestic product per capita, current prices   \n",
       "2                Algeria  Gross domestic product per capita, current prices   \n",
       "3                 Angola  Gross domestic product per capita, current prices   \n",
       "4    Antigua and Barbuda  Gross domestic product per capita, current prices   \n",
       "..                   ...                                                ...   \n",
       "184            Venezuela  Gross domestic product per capita, current prices   \n",
       "185              Vietnam  Gross domestic product per capita, current prices   \n",
       "186                Yemen  Gross domestic product per capita, current prices   \n",
       "187               Zambia  Gross domestic product per capita, current prices   \n",
       "188             Zimbabwe  Gross domestic product per capita, current prices   \n",
       "\n",
       "            Units  Scale                      Country/Series-specific Notes  \\\n",
       "0    U.S. dollars  Units  See notes for:  Gross domestic product, curren...   \n",
       "1    U.S. dollars  Units  See notes for:  Gross domestic product, curren...   \n",
       "2    U.S. dollars  Units  See notes for:  Gross domestic product, curren...   \n",
       "3    U.S. dollars  Units  See notes for:  Gross domestic product, curren...   \n",
       "4    U.S. dollars  Units  See notes for:  Gross domestic product, curren...   \n",
       "..            ...    ...                                                ...   \n",
       "184  U.S. dollars  Units  See notes for:  Gross domestic product, curren...   \n",
       "185  U.S. dollars  Units  See notes for:  Gross domestic product, curren...   \n",
       "186  U.S. dollars  Units  See notes for:  Gross domestic product, curren...   \n",
       "187  U.S. dollars  Units  See notes for:  Gross domestic product, curren...   \n",
       "188  U.S. dollars  Units  See notes for:  Gross domestic product, curren...   \n",
       "\n",
       "          2015  Estimates Start After  \n",
       "0      599.994                 2013.0  \n",
       "1     3,995.38                 2010.0  \n",
       "2     4,318.14                 2014.0  \n",
       "3     4,100.32                 2014.0  \n",
       "4    14,414.30                 2011.0  \n",
       "..         ...                    ...  \n",
       "184   7,744.75                 2010.0  \n",
       "185   2,088.34                 2012.0  \n",
       "186   1,302.94                 2008.0  \n",
       "187   1,350.15                 2010.0  \n",
       "188   1,064.35                 2012.0  \n",
       "\n",
       "[189 rows x 7 columns]"
      ]
     },
     "execution_count": 60,
     "metadata": {},
     "output_type": "execute_result"
    }
   ],
   "source": [
    "df = pd.read_csv('../data/imf-gdp-per-capita-2015.csv')\n",
    "df"
   ]
  },
  {
   "cell_type": "code",
   "execution_count": 58,
   "id": "4f1dcc06-d56a-4ba7-a984-2dd7f3b31d42",
   "metadata": {},
   "outputs": [],
   "source": [
    "df = pd.read_csv('../data/imf-gdp-per-capita-2015.csv',sep=',',header=0)"
   ]
  },
  {
   "cell_type": "code",
   "execution_count": 59,
   "id": "08761141",
   "metadata": {},
   "outputs": [
    {
     "data": {
      "text/html": [
       "<div>\n",
       "<style scoped>\n",
       "    .dataframe tbody tr th:only-of-type {\n",
       "        vertical-align: middle;\n",
       "    }\n",
       "\n",
       "    .dataframe tbody tr th {\n",
       "        vertical-align: top;\n",
       "    }\n",
       "\n",
       "    .dataframe thead th {\n",
       "        text-align: right;\n",
       "    }\n",
       "</style>\n",
       "<table border=\"1\" class=\"dataframe\">\n",
       "  <thead>\n",
       "    <tr style=\"text-align: right;\">\n",
       "      <th></th>\n",
       "      <th>Country</th>\n",
       "      <th>Subject Descriptor</th>\n",
       "      <th>Units</th>\n",
       "      <th>Scale</th>\n",
       "      <th>Country/Series-specific Notes</th>\n",
       "      <th>2015</th>\n",
       "      <th>Estimates Start After</th>\n",
       "    </tr>\n",
       "  </thead>\n",
       "  <tbody>\n",
       "    <tr>\n",
       "      <th>0</th>\n",
       "      <td>Afghanistan</td>\n",
       "      <td>Gross domestic product per capita, current prices</td>\n",
       "      <td>U.S. dollars</td>\n",
       "      <td>Units</td>\n",
       "      <td>See notes for:  Gross domestic product, curren...</td>\n",
       "      <td>599.994</td>\n",
       "      <td>2013.0</td>\n",
       "    </tr>\n",
       "    <tr>\n",
       "      <th>1</th>\n",
       "      <td>Albania</td>\n",
       "      <td>Gross domestic product per capita, current prices</td>\n",
       "      <td>U.S. dollars</td>\n",
       "      <td>Units</td>\n",
       "      <td>See notes for:  Gross domestic product, curren...</td>\n",
       "      <td>3,995.38</td>\n",
       "      <td>2010.0</td>\n",
       "    </tr>\n",
       "    <tr>\n",
       "      <th>2</th>\n",
       "      <td>Algeria</td>\n",
       "      <td>Gross domestic product per capita, current prices</td>\n",
       "      <td>U.S. dollars</td>\n",
       "      <td>Units</td>\n",
       "      <td>See notes for:  Gross domestic product, curren...</td>\n",
       "      <td>4,318.14</td>\n",
       "      <td>2014.0</td>\n",
       "    </tr>\n",
       "    <tr>\n",
       "      <th>3</th>\n",
       "      <td>Angola</td>\n",
       "      <td>Gross domestic product per capita, current prices</td>\n",
       "      <td>U.S. dollars</td>\n",
       "      <td>Units</td>\n",
       "      <td>See notes for:  Gross domestic product, curren...</td>\n",
       "      <td>4,100.32</td>\n",
       "      <td>2014.0</td>\n",
       "    </tr>\n",
       "    <tr>\n",
       "      <th>4</th>\n",
       "      <td>Antigua and Barbuda</td>\n",
       "      <td>Gross domestic product per capita, current prices</td>\n",
       "      <td>U.S. dollars</td>\n",
       "      <td>Units</td>\n",
       "      <td>See notes for:  Gross domestic product, curren...</td>\n",
       "      <td>14,414.30</td>\n",
       "      <td>2011.0</td>\n",
       "    </tr>\n",
       "    <tr>\n",
       "      <th>...</th>\n",
       "      <td>...</td>\n",
       "      <td>...</td>\n",
       "      <td>...</td>\n",
       "      <td>...</td>\n",
       "      <td>...</td>\n",
       "      <td>...</td>\n",
       "      <td>...</td>\n",
       "    </tr>\n",
       "    <tr>\n",
       "      <th>184</th>\n",
       "      <td>Venezuela</td>\n",
       "      <td>Gross domestic product per capita, current prices</td>\n",
       "      <td>U.S. dollars</td>\n",
       "      <td>Units</td>\n",
       "      <td>See notes for:  Gross domestic product, curren...</td>\n",
       "      <td>7,744.75</td>\n",
       "      <td>2010.0</td>\n",
       "    </tr>\n",
       "    <tr>\n",
       "      <th>185</th>\n",
       "      <td>Vietnam</td>\n",
       "      <td>Gross domestic product per capita, current prices</td>\n",
       "      <td>U.S. dollars</td>\n",
       "      <td>Units</td>\n",
       "      <td>See notes for:  Gross domestic product, curren...</td>\n",
       "      <td>2,088.34</td>\n",
       "      <td>2012.0</td>\n",
       "    </tr>\n",
       "    <tr>\n",
       "      <th>186</th>\n",
       "      <td>Yemen</td>\n",
       "      <td>Gross domestic product per capita, current prices</td>\n",
       "      <td>U.S. dollars</td>\n",
       "      <td>Units</td>\n",
       "      <td>See notes for:  Gross domestic product, curren...</td>\n",
       "      <td>1,302.94</td>\n",
       "      <td>2008.0</td>\n",
       "    </tr>\n",
       "    <tr>\n",
       "      <th>187</th>\n",
       "      <td>Zambia</td>\n",
       "      <td>Gross domestic product per capita, current prices</td>\n",
       "      <td>U.S. dollars</td>\n",
       "      <td>Units</td>\n",
       "      <td>See notes for:  Gross domestic product, curren...</td>\n",
       "      <td>1,350.15</td>\n",
       "      <td>2010.0</td>\n",
       "    </tr>\n",
       "    <tr>\n",
       "      <th>188</th>\n",
       "      <td>Zimbabwe</td>\n",
       "      <td>Gross domestic product per capita, current prices</td>\n",
       "      <td>U.S. dollars</td>\n",
       "      <td>Units</td>\n",
       "      <td>See notes for:  Gross domestic product, curren...</td>\n",
       "      <td>1,064.35</td>\n",
       "      <td>2012.0</td>\n",
       "    </tr>\n",
       "  </tbody>\n",
       "</table>\n",
       "<p>189 rows × 7 columns</p>\n",
       "</div>"
      ],
      "text/plain": [
       "                 Country                                 Subject Descriptor  \\\n",
       "0            Afghanistan  Gross domestic product per capita, current prices   \n",
       "1                Albania  Gross domestic product per capita, current prices   \n",
       "2                Algeria  Gross domestic product per capita, current prices   \n",
       "3                 Angola  Gross domestic product per capita, current prices   \n",
       "4    Antigua and Barbuda  Gross domestic product per capita, current prices   \n",
       "..                   ...                                                ...   \n",
       "184            Venezuela  Gross domestic product per capita, current prices   \n",
       "185              Vietnam  Gross domestic product per capita, current prices   \n",
       "186                Yemen  Gross domestic product per capita, current prices   \n",
       "187               Zambia  Gross domestic product per capita, current prices   \n",
       "188             Zimbabwe  Gross domestic product per capita, current prices   \n",
       "\n",
       "            Units  Scale                      Country/Series-specific Notes  \\\n",
       "0    U.S. dollars  Units  See notes for:  Gross domestic product, curren...   \n",
       "1    U.S. dollars  Units  See notes for:  Gross domestic product, curren...   \n",
       "2    U.S. dollars  Units  See notes for:  Gross domestic product, curren...   \n",
       "3    U.S. dollars  Units  See notes for:  Gross domestic product, curren...   \n",
       "4    U.S. dollars  Units  See notes for:  Gross domestic product, curren...   \n",
       "..            ...    ...                                                ...   \n",
       "184  U.S. dollars  Units  See notes for:  Gross domestic product, curren...   \n",
       "185  U.S. dollars  Units  See notes for:  Gross domestic product, curren...   \n",
       "186  U.S. dollars  Units  See notes for:  Gross domestic product, curren...   \n",
       "187  U.S. dollars  Units  See notes for:  Gross domestic product, curren...   \n",
       "188  U.S. dollars  Units  See notes for:  Gross domestic product, curren...   \n",
       "\n",
       "          2015  Estimates Start After  \n",
       "0      599.994                 2013.0  \n",
       "1     3,995.38                 2010.0  \n",
       "2     4,318.14                 2014.0  \n",
       "3     4,100.32                 2014.0  \n",
       "4    14,414.30                 2011.0  \n",
       "..         ...                    ...  \n",
       "184   7,744.75                 2010.0  \n",
       "185   2,088.34                 2012.0  \n",
       "186   1,302.94                 2008.0  \n",
       "187   1,350.15                 2010.0  \n",
       "188   1,064.35                 2012.0  \n",
       "\n",
       "[189 rows x 7 columns]"
      ]
     },
     "execution_count": 59,
     "metadata": {},
     "output_type": "execute_result"
    }
   ],
   "source": [
    "df"
   ]
  },
  {
   "cell_type": "code",
   "execution_count": 61,
   "id": "9c144015-0f05-4a0f-8e5f-81fce426df3b",
   "metadata": {},
   "outputs": [
    {
     "data": {
      "text/html": [
       "<div>\n",
       "<style scoped>\n",
       "    .dataframe tbody tr th:only-of-type {\n",
       "        vertical-align: middle;\n",
       "    }\n",
       "\n",
       "    .dataframe tbody tr th {\n",
       "        vertical-align: top;\n",
       "    }\n",
       "\n",
       "    .dataframe thead th {\n",
       "        text-align: right;\n",
       "    }\n",
       "</style>\n",
       "<table border=\"1\" class=\"dataframe\">\n",
       "  <thead>\n",
       "    <tr style=\"text-align: right;\">\n",
       "      <th></th>\n",
       "      <th>Country</th>\n",
       "      <th>Subject Descriptor</th>\n",
       "      <th>Units</th>\n",
       "      <th>Scale</th>\n",
       "      <th>Country/Series-specific Notes</th>\n",
       "      <th>2015</th>\n",
       "      <th>Estimates Start After</th>\n",
       "    </tr>\n",
       "  </thead>\n",
       "  <tbody>\n",
       "    <tr>\n",
       "      <th>0</th>\n",
       "      <td>Afghanistan</td>\n",
       "      <td>Gross domestic product per capita, current prices</td>\n",
       "      <td>U.S. dollars</td>\n",
       "      <td>Units</td>\n",
       "      <td>See notes for:  Gross domestic product, curren...</td>\n",
       "      <td>599.994</td>\n",
       "      <td>2013.0</td>\n",
       "    </tr>\n",
       "    <tr>\n",
       "      <th>1</th>\n",
       "      <td>Albania</td>\n",
       "      <td>Gross domestic product per capita, current prices</td>\n",
       "      <td>U.S. dollars</td>\n",
       "      <td>Units</td>\n",
       "      <td>See notes for:  Gross domestic product, curren...</td>\n",
       "      <td>3,995.38</td>\n",
       "      <td>2010.0</td>\n",
       "    </tr>\n",
       "    <tr>\n",
       "      <th>2</th>\n",
       "      <td>Algeria</td>\n",
       "      <td>Gross domestic product per capita, current prices</td>\n",
       "      <td>U.S. dollars</td>\n",
       "      <td>Units</td>\n",
       "      <td>See notes for:  Gross domestic product, curren...</td>\n",
       "      <td>4,318.14</td>\n",
       "      <td>2014.0</td>\n",
       "    </tr>\n",
       "    <tr>\n",
       "      <th>3</th>\n",
       "      <td>Angola</td>\n",
       "      <td>Gross domestic product per capita, current prices</td>\n",
       "      <td>U.S. dollars</td>\n",
       "      <td>Units</td>\n",
       "      <td>See notes for:  Gross domestic product, curren...</td>\n",
       "      <td>4,100.32</td>\n",
       "      <td>2014.0</td>\n",
       "    </tr>\n",
       "    <tr>\n",
       "      <th>4</th>\n",
       "      <td>Antigua and Barbuda</td>\n",
       "      <td>Gross domestic product per capita, current prices</td>\n",
       "      <td>U.S. dollars</td>\n",
       "      <td>Units</td>\n",
       "      <td>See notes for:  Gross domestic product, curren...</td>\n",
       "      <td>14,414.30</td>\n",
       "      <td>2011.0</td>\n",
       "    </tr>\n",
       "    <tr>\n",
       "      <th>5</th>\n",
       "      <td>Argentina</td>\n",
       "      <td>Gross domestic product per capita, current prices</td>\n",
       "      <td>U.S. dollars</td>\n",
       "      <td>Units</td>\n",
       "      <td>See notes for:  Gross domestic product, curren...</td>\n",
       "      <td>13,588.85</td>\n",
       "      <td>2013.0</td>\n",
       "    </tr>\n",
       "    <tr>\n",
       "      <th>6</th>\n",
       "      <td>Armenia</td>\n",
       "      <td>Gross domestic product per capita, current prices</td>\n",
       "      <td>U.S. dollars</td>\n",
       "      <td>Units</td>\n",
       "      <td>See notes for:  Gross domestic product, curren...</td>\n",
       "      <td>3,534.86</td>\n",
       "      <td>2014.0</td>\n",
       "    </tr>\n",
       "    <tr>\n",
       "      <th>7</th>\n",
       "      <td>Australia</td>\n",
       "      <td>Gross domestic product per capita, current prices</td>\n",
       "      <td>U.S. dollars</td>\n",
       "      <td>Units</td>\n",
       "      <td>See notes for:  Gross domestic product, curren...</td>\n",
       "      <td>50,961.87</td>\n",
       "      <td>2014.0</td>\n",
       "    </tr>\n",
       "    <tr>\n",
       "      <th>8</th>\n",
       "      <td>Austria</td>\n",
       "      <td>Gross domestic product per capita, current prices</td>\n",
       "      <td>U.S. dollars</td>\n",
       "      <td>Units</td>\n",
       "      <td>See notes for:  Gross domestic product, curren...</td>\n",
       "      <td>43,724.03</td>\n",
       "      <td>2015.0</td>\n",
       "    </tr>\n",
       "    <tr>\n",
       "      <th>9</th>\n",
       "      <td>Azerbaijan</td>\n",
       "      <td>Gross domestic product per capita, current prices</td>\n",
       "      <td>U.S. dollars</td>\n",
       "      <td>Units</td>\n",
       "      <td>See notes for:  Gross domestic product, curren...</td>\n",
       "      <td>5,739.43</td>\n",
       "      <td>2014.0</td>\n",
       "    </tr>\n",
       "  </tbody>\n",
       "</table>\n",
       "</div>"
      ],
      "text/plain": [
       "               Country                                 Subject Descriptor  \\\n",
       "0          Afghanistan  Gross domestic product per capita, current prices   \n",
       "1              Albania  Gross domestic product per capita, current prices   \n",
       "2              Algeria  Gross domestic product per capita, current prices   \n",
       "3               Angola  Gross domestic product per capita, current prices   \n",
       "4  Antigua and Barbuda  Gross domestic product per capita, current prices   \n",
       "5            Argentina  Gross domestic product per capita, current prices   \n",
       "6              Armenia  Gross domestic product per capita, current prices   \n",
       "7            Australia  Gross domestic product per capita, current prices   \n",
       "8              Austria  Gross domestic product per capita, current prices   \n",
       "9           Azerbaijan  Gross domestic product per capita, current prices   \n",
       "\n",
       "          Units  Scale                      Country/Series-specific Notes  \\\n",
       "0  U.S. dollars  Units  See notes for:  Gross domestic product, curren...   \n",
       "1  U.S. dollars  Units  See notes for:  Gross domestic product, curren...   \n",
       "2  U.S. dollars  Units  See notes for:  Gross domestic product, curren...   \n",
       "3  U.S. dollars  Units  See notes for:  Gross domestic product, curren...   \n",
       "4  U.S. dollars  Units  See notes for:  Gross domestic product, curren...   \n",
       "5  U.S. dollars  Units  See notes for:  Gross domestic product, curren...   \n",
       "6  U.S. dollars  Units  See notes for:  Gross domestic product, curren...   \n",
       "7  U.S. dollars  Units  See notes for:  Gross domestic product, curren...   \n",
       "8  U.S. dollars  Units  See notes for:  Gross domestic product, curren...   \n",
       "9  U.S. dollars  Units  See notes for:  Gross domestic product, curren...   \n",
       "\n",
       "        2015  Estimates Start After  \n",
       "0    599.994                 2013.0  \n",
       "1   3,995.38                 2010.0  \n",
       "2   4,318.14                 2014.0  \n",
       "3   4,100.32                 2014.0  \n",
       "4  14,414.30                 2011.0  \n",
       "5  13,588.85                 2013.0  \n",
       "6   3,534.86                 2014.0  \n",
       "7  50,961.87                 2014.0  \n",
       "8  43,724.03                 2015.0  \n",
       "9   5,739.43                 2014.0  "
      ]
     },
     "execution_count": 61,
     "metadata": {},
     "output_type": "execute_result"
    }
   ],
   "source": [
    "df.head(10)"
   ]
  },
  {
   "cell_type": "code",
   "execution_count": 62,
   "id": "9f2035a5-51b1-4621-a6dc-ba05c17e4144",
   "metadata": {},
   "outputs": [
    {
     "data": {
      "text/plain": [
       "(189, 7)"
      ]
     },
     "execution_count": 62,
     "metadata": {},
     "output_type": "execute_result"
    }
   ],
   "source": [
    "df.shape"
   ]
  },
  {
   "cell_type": "code",
   "execution_count": 63,
   "id": "81ba7a4f",
   "metadata": {},
   "outputs": [
    {
     "data": {
      "text/plain": [
       "2"
      ]
     },
     "execution_count": 63,
     "metadata": {},
     "output_type": "execute_result"
    }
   ],
   "source": [
    "df.ndim"
   ]
  },
  {
   "cell_type": "code",
   "execution_count": null,
   "id": "9811ff20",
   "metadata": {},
   "outputs": [],
   "source": []
  },
  {
   "cell_type": "code",
   "execution_count": 64,
   "id": "2d5b5d98-dda8-478d-ae21-c673fc2ca2ae",
   "metadata": {},
   "outputs": [
    {
     "data": {
      "text/plain": [
       "Country                           object\n",
       "Subject Descriptor                object\n",
       "Units                             object\n",
       "Scale                             object\n",
       "Country/Series-specific Notes     object\n",
       "2015                              object\n",
       "Estimates Start After            float64\n",
       "dtype: object"
      ]
     },
     "execution_count": 64,
     "metadata": {},
     "output_type": "execute_result"
    }
   ],
   "source": [
    "df.dtypes"
   ]
  },
  {
   "cell_type": "code",
   "execution_count": 65,
   "id": "470b266a",
   "metadata": {},
   "outputs": [
    {
     "data": {
      "text/plain": [
       "Index(['Country', 'Subject Descriptor', 'Units', 'Scale',\n",
       "       'Country/Series-specific Notes', '2015', 'Estimates Start After'],\n",
       "      dtype='object')"
      ]
     },
     "execution_count": 65,
     "metadata": {},
     "output_type": "execute_result"
    }
   ],
   "source": [
    "df.columns"
   ]
  },
  {
   "cell_type": "code",
   "execution_count": null,
   "id": "074638ca",
   "metadata": {},
   "outputs": [],
   "source": []
  },
  {
   "cell_type": "code",
   "execution_count": 66,
   "id": "ea1595f9-1e40-474d-99e0-680eb98375d7",
   "metadata": {},
   "outputs": [
    {
     "data": {
      "text/plain": [
       "['Country',\n",
       " 'Subject Descriptor',\n",
       " 'Units',\n",
       " 'Scale',\n",
       " 'Country/Series-specific Notes',\n",
       " '2015',\n",
       " 'Estimates Start After']"
      ]
     },
     "execution_count": 66,
     "metadata": {},
     "output_type": "execute_result"
    }
   ],
   "source": [
    "list(df.columns)"
   ]
  },
  {
   "cell_type": "code",
   "execution_count": null,
   "id": "cc1ac0e6",
   "metadata": {},
   "outputs": [],
   "source": []
  },
  {
   "cell_type": "code",
   "execution_count": 67,
   "id": "50d18d60-7497-4bd3-8470-220d3965edea",
   "metadata": {},
   "outputs": [
    {
     "name": "stdout",
     "output_type": "stream",
     "text": [
      "<class 'pandas.core.frame.DataFrame'>\n",
      "RangeIndex: 189 entries, 0 to 188\n",
      "Data columns (total 7 columns):\n",
      " #   Column                         Non-Null Count  Dtype  \n",
      "---  ------                         --------------  -----  \n",
      " 0   Country                        189 non-null    object \n",
      " 1   Subject Descriptor             189 non-null    object \n",
      " 2   Units                          189 non-null    object \n",
      " 3   Scale                          189 non-null    object \n",
      " 4   Country/Series-specific Notes  188 non-null    object \n",
      " 5   2015                           187 non-null    object \n",
      " 6   Estimates Start After          188 non-null    float64\n",
      "dtypes: float64(1), object(6)\n",
      "memory usage: 10.5+ KB\n"
     ]
    }
   ],
   "source": [
    "df.info()"
   ]
  },
  {
   "cell_type": "code",
   "execution_count": null,
   "id": "bfd34bdf-2972-4cde-8a4f-963096bbe3e8",
   "metadata": {},
   "outputs": [],
   "source": []
  },
  {
   "cell_type": "code",
   "execution_count": null,
   "id": "dfa6eb80-1775-41a6-af2e-237797325729",
   "metadata": {},
   "outputs": [],
   "source": [
    "df = pd.read_csv('../data/imf-gdp-per-capita-2015.csv',sep=',',header=0, thousands=',')\n",
    "df.head(10)"
   ]
  },
  {
   "cell_type": "code",
   "execution_count": null,
   "id": "b7245b54-d12a-4390-9ba0-8380393a4cd2",
   "metadata": {},
   "outputs": [],
   "source": [
    "df.info()"
   ]
  },
  {
   "cell_type": "code",
   "execution_count": null,
   "id": "af4a01ba-91ff-41b4-8f3b-6c94775b32ce",
   "metadata": {},
   "outputs": [],
   "source": []
  },
  {
   "cell_type": "code",
   "execution_count": null,
   "id": "37e442b4-47dc-4126-a2e2-6d9be0deb28a",
   "metadata": {},
   "outputs": [],
   "source": []
  },
  {
   "cell_type": "markdown",
   "id": "eaf500a2-153c-42c2-9f44-d6568160fa3d",
   "metadata": {},
   "source": [
    "## Create `dataframe` from excel spreadsheet"
   ]
  },
  {
   "cell_type": "code",
   "execution_count": null,
   "id": "901dbcf7-e375-42c9-b93a-fed6440b3f90",
   "metadata": {},
   "outputs": [],
   "source": [
    "# pd.read_excel() # press shift + tab"
   ]
  },
  {
   "cell_type": "code",
   "execution_count": 68,
   "id": "6c18afb3-c1e5-4c32-b4d9-f1c2254c812e",
   "metadata": {},
   "outputs": [
    {
     "data": {
      "text/html": [
       "<div>\n",
       "<style scoped>\n",
       "    .dataframe tbody tr th:only-of-type {\n",
       "        vertical-align: middle;\n",
       "    }\n",
       "\n",
       "    .dataframe tbody tr th {\n",
       "        vertical-align: top;\n",
       "    }\n",
       "\n",
       "    .dataframe thead th {\n",
       "        text-align: right;\n",
       "    }\n",
       "</style>\n",
       "<table border=\"1\" class=\"dataframe\">\n",
       "  <thead>\n",
       "    <tr style=\"text-align: right;\">\n",
       "      <th></th>\n",
       "      <th>col1</th>\n",
       "      <th>col2</th>\n",
       "      <th>col3</th>\n",
       "    </tr>\n",
       "  </thead>\n",
       "  <tbody>\n",
       "    <tr>\n",
       "      <th>0</th>\n",
       "      <td>1</td>\n",
       "      <td>a</td>\n",
       "      <td>a12</td>\n",
       "    </tr>\n",
       "    <tr>\n",
       "      <th>1</th>\n",
       "      <td>2</td>\n",
       "      <td>b</td>\n",
       "      <td>b23</td>\n",
       "    </tr>\n",
       "    <tr>\n",
       "      <th>2</th>\n",
       "      <td>3</td>\n",
       "      <td>c</td>\n",
       "      <td>c31</td>\n",
       "    </tr>\n",
       "  </tbody>\n",
       "</table>\n",
       "</div>"
      ],
      "text/plain": [
       "   col1 col2 col3\n",
       "0     1    a  a12\n",
       "1     2    b  b23\n",
       "2     3    c  c31"
      ]
     },
     "execution_count": 68,
     "metadata": {},
     "output_type": "execute_result"
    }
   ],
   "source": [
    "## import from excel spreadsheet (need to have package `openpyxl` pre-installed)\n",
    "df2 = pd.read_excel(io='../data/excel-test-file.xlsx', sheet_name='tab1', header=0)\n",
    "\n",
    "df2.head(5)"
   ]
  },
  {
   "cell_type": "code",
   "execution_count": 69,
   "id": "5a621531-7fc6-4210-8a6d-33609b6055f2",
   "metadata": {},
   "outputs": [
    {
     "data": {
      "text/html": [
       "<div>\n",
       "<style scoped>\n",
       "    .dataframe tbody tr th:only-of-type {\n",
       "        vertical-align: middle;\n",
       "    }\n",
       "\n",
       "    .dataframe tbody tr th {\n",
       "        vertical-align: top;\n",
       "    }\n",
       "\n",
       "    .dataframe thead th {\n",
       "        text-align: right;\n",
       "    }\n",
       "</style>\n",
       "<table border=\"1\" class=\"dataframe\">\n",
       "  <thead>\n",
       "    <tr style=\"text-align: right;\">\n",
       "      <th></th>\n",
       "      <th>col4</th>\n",
       "      <th>col5</th>\n",
       "    </tr>\n",
       "  </thead>\n",
       "  <tbody>\n",
       "    <tr>\n",
       "      <th>0</th>\n",
       "      <td>d</td>\n",
       "      <td>4</td>\n",
       "    </tr>\n",
       "    <tr>\n",
       "      <th>1</th>\n",
       "      <td>e</td>\n",
       "      <td>5</td>\n",
       "    </tr>\n",
       "    <tr>\n",
       "      <th>2</th>\n",
       "      <td>f</td>\n",
       "      <td>6</td>\n",
       "    </tr>\n",
       "  </tbody>\n",
       "</table>\n",
       "</div>"
      ],
      "text/plain": [
       "  col4  col5\n",
       "0    d     4\n",
       "1    e     5\n",
       "2    f     6"
      ]
     },
     "execution_count": 69,
     "metadata": {},
     "output_type": "execute_result"
    }
   ],
   "source": [
    "df3 = pd.read_excel(io='../data/excel-test-file.xlsx',sheet_name='tab2',header=0)\n",
    "df3.head(3)"
   ]
  },
  {
   "cell_type": "markdown",
   "id": "516c5a7f-3053-4439-bcd8-ff194a6e1067",
   "metadata": {},
   "source": [
    "## [SPECIAL] Create `Series`\n",
    "\n",
    "One-dimensional ndarray with axis labels (including time series)."
   ]
  },
  {
   "cell_type": "code",
   "execution_count": null,
   "id": "e956c404-eb41-4733-9079-e77881025c71",
   "metadata": {},
   "outputs": [],
   "source": [
    "s = pd.Series([1,3,5,7,9],index=['a','b','c','d','e'])\n",
    "s"
   ]
  },
  {
   "cell_type": "code",
   "execution_count": null,
   "id": "f348b056-7b30-43fa-86e5-7a041111e8e5",
   "metadata": {},
   "outputs": [],
   "source": [
    "type(s)"
   ]
  },
  {
   "cell_type": "code",
   "execution_count": null,
   "id": "13ebd6ea-2055-42dd-ac72-9332c3a94c73",
   "metadata": {},
   "outputs": [],
   "source": [
    "s['a']"
   ]
  },
  {
   "cell_type": "code",
   "execution_count": null,
   "id": "0efe6963-a1f1-4062-9ea5-a4bb3e1364c8",
   "metadata": {},
   "outputs": [],
   "source": [
    "s['c']"
   ]
  },
  {
   "cell_type": "code",
   "execution_count": null,
   "id": "53b9e567-9e05-45e0-8dda-f044972969eb",
   "metadata": {},
   "outputs": [],
   "source": []
  },
  {
   "cell_type": "code",
   "execution_count": null,
   "id": "40257d95-ed3a-41b1-95ee-8490ef9dc317",
   "metadata": {},
   "outputs": [],
   "source": []
  },
  {
   "cell_type": "markdown",
   "id": "47cc8968-9140-4523-b19d-63294bf4e50a",
   "metadata": {},
   "source": [
    "## View `dataframe`"
   ]
  },
  {
   "cell_type": "code",
   "execution_count": 70,
   "id": "8cffa5d0-452f-43d7-bf4f-b619c746d067",
   "metadata": {},
   "outputs": [
    {
     "data": {
      "text/html": [
       "<div>\n",
       "<style scoped>\n",
       "    .dataframe tbody tr th:only-of-type {\n",
       "        vertical-align: middle;\n",
       "    }\n",
       "\n",
       "    .dataframe tbody tr th {\n",
       "        vertical-align: top;\n",
       "    }\n",
       "\n",
       "    .dataframe thead th {\n",
       "        text-align: right;\n",
       "    }\n",
       "</style>\n",
       "<table border=\"1\" class=\"dataframe\">\n",
       "  <thead>\n",
       "    <tr style=\"text-align: right;\">\n",
       "      <th></th>\n",
       "      <th>Ann</th>\n",
       "      <th>Bob</th>\n",
       "      <th>Charly</th>\n",
       "      <th>Don</th>\n",
       "    </tr>\n",
       "  </thead>\n",
       "  <tbody>\n",
       "    <tr>\n",
       "      <th>0</th>\n",
       "      <td>0.062223</td>\n",
       "      <td>1.760995</td>\n",
       "      <td>-0.564789</td>\n",
       "      <td>-0.377276</td>\n",
       "    </tr>\n",
       "    <tr>\n",
       "      <th>1</th>\n",
       "      <td>0.058386</td>\n",
       "      <td>-1.317107</td>\n",
       "      <td>0.789512</td>\n",
       "      <td>0.579092</td>\n",
       "    </tr>\n",
       "    <tr>\n",
       "      <th>2</th>\n",
       "      <td>-0.173459</td>\n",
       "      <td>0.436061</td>\n",
       "      <td>-0.469290</td>\n",
       "      <td>1.605012</td>\n",
       "    </tr>\n",
       "    <tr>\n",
       "      <th>3</th>\n",
       "      <td>0.617496</td>\n",
       "      <td>0.693855</td>\n",
       "      <td>0.646148</td>\n",
       "      <td>0.627287</td>\n",
       "    </tr>\n",
       "    <tr>\n",
       "      <th>4</th>\n",
       "      <td>-1.074106</td>\n",
       "      <td>0.847441</td>\n",
       "      <td>0.421393</td>\n",
       "      <td>-0.408364</td>\n",
       "    </tr>\n",
       "    <tr>\n",
       "      <th>5</th>\n",
       "      <td>0.376635</td>\n",
       "      <td>-0.279863</td>\n",
       "      <td>-0.701821</td>\n",
       "      <td>-0.500150</td>\n",
       "    </tr>\n",
       "  </tbody>\n",
       "</table>\n",
       "</div>"
      ],
      "text/plain": [
       "        Ann       Bob    Charly       Don\n",
       "0  0.062223  1.760995 -0.564789 -0.377276\n",
       "1  0.058386 -1.317107  0.789512  0.579092\n",
       "2 -0.173459  0.436061 -0.469290  1.605012\n",
       "3  0.617496  0.693855  0.646148  0.627287\n",
       "4 -1.074106  0.847441  0.421393 -0.408364\n",
       "5  0.376635 -0.279863 -0.701821 -0.500150"
      ]
     },
     "execution_count": 70,
     "metadata": {},
     "output_type": "execute_result"
    }
   ],
   "source": [
    "# create a dataframe from a numpy array, with columns labeled\n",
    "df = pd.DataFrame(np.random.randn(6,4), columns = ['Ann', \"Bob\", \"Charly\", \"Don\"])\n",
    "df"
   ]
  },
  {
   "cell_type": "markdown",
   "id": "84a820a5-b0e4-412a-bc1a-18afdd6721a9",
   "metadata": {},
   "source": [
    "**df.head()**"
   ]
  },
  {
   "cell_type": "code",
   "execution_count": 71,
   "id": "f81d1f77-18d9-49d8-a5af-8be85fd1bc98",
   "metadata": {},
   "outputs": [
    {
     "data": {
      "text/html": [
       "<div>\n",
       "<style scoped>\n",
       "    .dataframe tbody tr th:only-of-type {\n",
       "        vertical-align: middle;\n",
       "    }\n",
       "\n",
       "    .dataframe tbody tr th {\n",
       "        vertical-align: top;\n",
       "    }\n",
       "\n",
       "    .dataframe thead th {\n",
       "        text-align: right;\n",
       "    }\n",
       "</style>\n",
       "<table border=\"1\" class=\"dataframe\">\n",
       "  <thead>\n",
       "    <tr style=\"text-align: right;\">\n",
       "      <th></th>\n",
       "      <th>Ann</th>\n",
       "      <th>Bob</th>\n",
       "      <th>Charly</th>\n",
       "      <th>Don</th>\n",
       "    </tr>\n",
       "  </thead>\n",
       "  <tbody>\n",
       "    <tr>\n",
       "      <th>0</th>\n",
       "      <td>0.062223</td>\n",
       "      <td>1.760995</td>\n",
       "      <td>-0.564789</td>\n",
       "      <td>-0.377276</td>\n",
       "    </tr>\n",
       "    <tr>\n",
       "      <th>1</th>\n",
       "      <td>0.058386</td>\n",
       "      <td>-1.317107</td>\n",
       "      <td>0.789512</td>\n",
       "      <td>0.579092</td>\n",
       "    </tr>\n",
       "  </tbody>\n",
       "</table>\n",
       "</div>"
      ],
      "text/plain": [
       "        Ann       Bob    Charly       Don\n",
       "0  0.062223  1.760995 -0.564789 -0.377276\n",
       "1  0.058386 -1.317107  0.789512  0.579092"
      ]
     },
     "execution_count": 71,
     "metadata": {},
     "output_type": "execute_result"
    }
   ],
   "source": [
    "df.head(2)"
   ]
  },
  {
   "cell_type": "code",
   "execution_count": 72,
   "id": "99551cf2-9061-4218-9669-4f40165578e5",
   "metadata": {},
   "outputs": [
    {
     "data": {
      "text/html": [
       "<div>\n",
       "<style scoped>\n",
       "    .dataframe tbody tr th:only-of-type {\n",
       "        vertical-align: middle;\n",
       "    }\n",
       "\n",
       "    .dataframe tbody tr th {\n",
       "        vertical-align: top;\n",
       "    }\n",
       "\n",
       "    .dataframe thead th {\n",
       "        text-align: right;\n",
       "    }\n",
       "</style>\n",
       "<table border=\"1\" class=\"dataframe\">\n",
       "  <thead>\n",
       "    <tr style=\"text-align: right;\">\n",
       "      <th></th>\n",
       "      <th>Ann</th>\n",
       "      <th>Bob</th>\n",
       "      <th>Charly</th>\n",
       "      <th>Don</th>\n",
       "    </tr>\n",
       "  </thead>\n",
       "  <tbody>\n",
       "    <tr>\n",
       "      <th>0</th>\n",
       "      <td>0.062223</td>\n",
       "      <td>1.760995</td>\n",
       "      <td>-0.564789</td>\n",
       "      <td>-0.377276</td>\n",
       "    </tr>\n",
       "    <tr>\n",
       "      <th>1</th>\n",
       "      <td>0.058386</td>\n",
       "      <td>-1.317107</td>\n",
       "      <td>0.789512</td>\n",
       "      <td>0.579092</td>\n",
       "    </tr>\n",
       "    <tr>\n",
       "      <th>2</th>\n",
       "      <td>-0.173459</td>\n",
       "      <td>0.436061</td>\n",
       "      <td>-0.469290</td>\n",
       "      <td>1.605012</td>\n",
       "    </tr>\n",
       "    <tr>\n",
       "      <th>3</th>\n",
       "      <td>0.617496</td>\n",
       "      <td>0.693855</td>\n",
       "      <td>0.646148</td>\n",
       "      <td>0.627287</td>\n",
       "    </tr>\n",
       "    <tr>\n",
       "      <th>4</th>\n",
       "      <td>-1.074106</td>\n",
       "      <td>0.847441</td>\n",
       "      <td>0.421393</td>\n",
       "      <td>-0.408364</td>\n",
       "    </tr>\n",
       "  </tbody>\n",
       "</table>\n",
       "</div>"
      ],
      "text/plain": [
       "        Ann       Bob    Charly       Don\n",
       "0  0.062223  1.760995 -0.564789 -0.377276\n",
       "1  0.058386 -1.317107  0.789512  0.579092\n",
       "2 -0.173459  0.436061 -0.469290  1.605012\n",
       "3  0.617496  0.693855  0.646148  0.627287\n",
       "4 -1.074106  0.847441  0.421393 -0.408364"
      ]
     },
     "execution_count": 72,
     "metadata": {},
     "output_type": "execute_result"
    }
   ],
   "source": [
    "df.head()"
   ]
  },
  {
   "cell_type": "code",
   "execution_count": null,
   "id": "cc8fdf7c-ab36-4e8d-99c0-379f2bd9ca59",
   "metadata": {},
   "outputs": [],
   "source": []
  },
  {
   "cell_type": "code",
   "execution_count": null,
   "id": "72ae4b96",
   "metadata": {},
   "outputs": [],
   "source": []
  },
  {
   "cell_type": "markdown",
   "id": "72207afd-225b-400e-8f99-966fb4df45f6",
   "metadata": {},
   "source": [
    "**df.tail()**"
   ]
  },
  {
   "cell_type": "code",
   "execution_count": 73,
   "id": "0cbfbcc0-ca78-4341-815a-797ae3c58bf5",
   "metadata": {
    "scrolled": true
   },
   "outputs": [
    {
     "data": {
      "text/html": [
       "<div>\n",
       "<style scoped>\n",
       "    .dataframe tbody tr th:only-of-type {\n",
       "        vertical-align: middle;\n",
       "    }\n",
       "\n",
       "    .dataframe tbody tr th {\n",
       "        vertical-align: top;\n",
       "    }\n",
       "\n",
       "    .dataframe thead th {\n",
       "        text-align: right;\n",
       "    }\n",
       "</style>\n",
       "<table border=\"1\" class=\"dataframe\">\n",
       "  <thead>\n",
       "    <tr style=\"text-align: right;\">\n",
       "      <th></th>\n",
       "      <th>Ann</th>\n",
       "      <th>Bob</th>\n",
       "      <th>Charly</th>\n",
       "      <th>Don</th>\n",
       "    </tr>\n",
       "  </thead>\n",
       "  <tbody>\n",
       "    <tr>\n",
       "      <th>4</th>\n",
       "      <td>-1.074106</td>\n",
       "      <td>0.847441</td>\n",
       "      <td>0.421393</td>\n",
       "      <td>-0.408364</td>\n",
       "    </tr>\n",
       "    <tr>\n",
       "      <th>5</th>\n",
       "      <td>0.376635</td>\n",
       "      <td>-0.279863</td>\n",
       "      <td>-0.701821</td>\n",
       "      <td>-0.500150</td>\n",
       "    </tr>\n",
       "  </tbody>\n",
       "</table>\n",
       "</div>"
      ],
      "text/plain": [
       "        Ann       Bob    Charly       Don\n",
       "4 -1.074106  0.847441  0.421393 -0.408364\n",
       "5  0.376635 -0.279863 -0.701821 -0.500150"
      ]
     },
     "execution_count": 73,
     "metadata": {},
     "output_type": "execute_result"
    }
   ],
   "source": [
    "df.tail(2)"
   ]
  },
  {
   "cell_type": "code",
   "execution_count": 74,
   "id": "9656a93e-5c8a-4845-ba0c-ba7df9518b9d",
   "metadata": {},
   "outputs": [
    {
     "data": {
      "text/html": [
       "<div>\n",
       "<style scoped>\n",
       "    .dataframe tbody tr th:only-of-type {\n",
       "        vertical-align: middle;\n",
       "    }\n",
       "\n",
       "    .dataframe tbody tr th {\n",
       "        vertical-align: top;\n",
       "    }\n",
       "\n",
       "    .dataframe thead th {\n",
       "        text-align: right;\n",
       "    }\n",
       "</style>\n",
       "<table border=\"1\" class=\"dataframe\">\n",
       "  <thead>\n",
       "    <tr style=\"text-align: right;\">\n",
       "      <th></th>\n",
       "      <th>Ann</th>\n",
       "      <th>Bob</th>\n",
       "      <th>Charly</th>\n",
       "      <th>Don</th>\n",
       "    </tr>\n",
       "  </thead>\n",
       "  <tbody>\n",
       "    <tr>\n",
       "      <th>1</th>\n",
       "      <td>0.058386</td>\n",
       "      <td>-1.317107</td>\n",
       "      <td>0.789512</td>\n",
       "      <td>0.579092</td>\n",
       "    </tr>\n",
       "    <tr>\n",
       "      <th>2</th>\n",
       "      <td>-0.173459</td>\n",
       "      <td>0.436061</td>\n",
       "      <td>-0.469290</td>\n",
       "      <td>1.605012</td>\n",
       "    </tr>\n",
       "    <tr>\n",
       "      <th>3</th>\n",
       "      <td>0.617496</td>\n",
       "      <td>0.693855</td>\n",
       "      <td>0.646148</td>\n",
       "      <td>0.627287</td>\n",
       "    </tr>\n",
       "    <tr>\n",
       "      <th>4</th>\n",
       "      <td>-1.074106</td>\n",
       "      <td>0.847441</td>\n",
       "      <td>0.421393</td>\n",
       "      <td>-0.408364</td>\n",
       "    </tr>\n",
       "    <tr>\n",
       "      <th>5</th>\n",
       "      <td>0.376635</td>\n",
       "      <td>-0.279863</td>\n",
       "      <td>-0.701821</td>\n",
       "      <td>-0.500150</td>\n",
       "    </tr>\n",
       "  </tbody>\n",
       "</table>\n",
       "</div>"
      ],
      "text/plain": [
       "        Ann       Bob    Charly       Don\n",
       "1  0.058386 -1.317107  0.789512  0.579092\n",
       "2 -0.173459  0.436061 -0.469290  1.605012\n",
       "3  0.617496  0.693855  0.646148  0.627287\n",
       "4 -1.074106  0.847441  0.421393 -0.408364\n",
       "5  0.376635 -0.279863 -0.701821 -0.500150"
      ]
     },
     "execution_count": 74,
     "metadata": {},
     "output_type": "execute_result"
    }
   ],
   "source": [
    "df.tail()"
   ]
  },
  {
   "cell_type": "code",
   "execution_count": null,
   "id": "59399fc8-9608-4770-b284-0df31f4adc81",
   "metadata": {},
   "outputs": [],
   "source": []
  },
  {
   "cell_type": "markdown",
   "id": "4c6bc4a2-a424-43b0-89fd-8d054e5a8572",
   "metadata": {},
   "source": [
    "**`dataframe` attributes**"
   ]
  },
  {
   "cell_type": "code",
   "execution_count": 77,
   "id": "59aa7937",
   "metadata": {},
   "outputs": [
    {
     "data": {
      "text/html": [
       "<div>\n",
       "<style scoped>\n",
       "    .dataframe tbody tr th:only-of-type {\n",
       "        vertical-align: middle;\n",
       "    }\n",
       "\n",
       "    .dataframe tbody tr th {\n",
       "        vertical-align: top;\n",
       "    }\n",
       "\n",
       "    .dataframe thead th {\n",
       "        text-align: right;\n",
       "    }\n",
       "</style>\n",
       "<table border=\"1\" class=\"dataframe\">\n",
       "  <thead>\n",
       "    <tr style=\"text-align: right;\">\n",
       "      <th></th>\n",
       "      <th>Ann</th>\n",
       "      <th>Bob</th>\n",
       "      <th>Charly</th>\n",
       "      <th>Don</th>\n",
       "    </tr>\n",
       "  </thead>\n",
       "  <tbody>\n",
       "    <tr>\n",
       "      <th>0</th>\n",
       "      <td>0.062223</td>\n",
       "      <td>1.760995</td>\n",
       "      <td>-0.564789</td>\n",
       "      <td>-0.377276</td>\n",
       "    </tr>\n",
       "    <tr>\n",
       "      <th>1</th>\n",
       "      <td>0.058386</td>\n",
       "      <td>-1.317107</td>\n",
       "      <td>0.789512</td>\n",
       "      <td>0.579092</td>\n",
       "    </tr>\n",
       "    <tr>\n",
       "      <th>2</th>\n",
       "      <td>-0.173459</td>\n",
       "      <td>0.436061</td>\n",
       "      <td>-0.469290</td>\n",
       "      <td>1.605012</td>\n",
       "    </tr>\n",
       "    <tr>\n",
       "      <th>3</th>\n",
       "      <td>0.617496</td>\n",
       "      <td>0.693855</td>\n",
       "      <td>0.646148</td>\n",
       "      <td>0.627287</td>\n",
       "    </tr>\n",
       "    <tr>\n",
       "      <th>4</th>\n",
       "      <td>-1.074106</td>\n",
       "      <td>0.847441</td>\n",
       "      <td>0.421393</td>\n",
       "      <td>-0.408364</td>\n",
       "    </tr>\n",
       "    <tr>\n",
       "      <th>5</th>\n",
       "      <td>0.376635</td>\n",
       "      <td>-0.279863</td>\n",
       "      <td>-0.701821</td>\n",
       "      <td>-0.500150</td>\n",
       "    </tr>\n",
       "  </tbody>\n",
       "</table>\n",
       "</div>"
      ],
      "text/plain": [
       "        Ann       Bob    Charly       Don\n",
       "0  0.062223  1.760995 -0.564789 -0.377276\n",
       "1  0.058386 -1.317107  0.789512  0.579092\n",
       "2 -0.173459  0.436061 -0.469290  1.605012\n",
       "3  0.617496  0.693855  0.646148  0.627287\n",
       "4 -1.074106  0.847441  0.421393 -0.408364\n",
       "5  0.376635 -0.279863 -0.701821 -0.500150"
      ]
     },
     "execution_count": 77,
     "metadata": {},
     "output_type": "execute_result"
    }
   ],
   "source": [
    "df"
   ]
  },
  {
   "cell_type": "code",
   "execution_count": null,
   "id": "a52d8875",
   "metadata": {},
   "outputs": [],
   "source": []
  },
  {
   "cell_type": "code",
   "execution_count": 76,
   "id": "0bc1e966",
   "metadata": {},
   "outputs": [
    {
     "data": {
      "text/plain": [
       "['Ann', 'Bob', 'Charly', 'Don']"
      ]
     },
     "execution_count": 76,
     "metadata": {},
     "output_type": "execute_result"
    }
   ],
   "source": [
    "list(df.columns)"
   ]
  },
  {
   "cell_type": "code",
   "execution_count": 75,
   "id": "21a7d277-4bac-49e4-b747-4eb66ce6d236",
   "metadata": {},
   "outputs": [
    {
     "data": {
      "text/plain": [
       "[0, 1, 2, 3, 4, 5]"
      ]
     },
     "execution_count": 75,
     "metadata": {},
     "output_type": "execute_result"
    }
   ],
   "source": [
    "list(df.index)"
   ]
  },
  {
   "cell_type": "code",
   "execution_count": null,
   "id": "99e14c3a-dcc3-4235-a49f-09112e3c1641",
   "metadata": {},
   "outputs": [],
   "source": []
  },
  {
   "cell_type": "code",
   "execution_count": 78,
   "id": "270f1f16-953f-4607-803d-c86399ff3d1d",
   "metadata": {},
   "outputs": [
    {
     "data": {
      "text/plain": [
       "DatetimeIndex(['2020-08-25', '2020-09-01', '2020-09-08', '2020-09-15',\n",
       "               '2020-09-22', '2020-09-29', '2020-10-06', '2020-10-13',\n",
       "               '2020-10-20', '2020-10-27', '2020-11-03', '2020-11-10',\n",
       "               '2020-11-17', '2020-11-24', '2020-12-01'],\n",
       "              dtype='datetime64[ns]', freq='7D')"
      ]
     },
     "execution_count": 78,
     "metadata": {},
     "output_type": "execute_result"
    }
   ],
   "source": [
    "dates = pd.date_range(start='20200825', end='20201201', freq='7D')\n",
    "dates"
   ]
  },
  {
   "cell_type": "code",
   "execution_count": 79,
   "id": "516a3f5c-4aa2-41f8-ac8b-b168b26262a6",
   "metadata": {},
   "outputs": [
    {
     "data": {
      "text/plain": [
       "pandas.core.indexes.datetimes.DatetimeIndex"
      ]
     },
     "execution_count": 79,
     "metadata": {},
     "output_type": "execute_result"
    }
   ],
   "source": [
    "type(dates)"
   ]
  },
  {
   "cell_type": "code",
   "execution_count": 80,
   "id": "ae5658cd-b144-40f1-9f06-2c9a28d48591",
   "metadata": {},
   "outputs": [
    {
     "data": {
      "text/plain": [
       "1"
      ]
     },
     "execution_count": 80,
     "metadata": {},
     "output_type": "execute_result"
    }
   ],
   "source": [
    "dates.ndim"
   ]
  },
  {
   "cell_type": "code",
   "execution_count": 81,
   "id": "19261426",
   "metadata": {},
   "outputs": [
    {
     "data": {
      "text/plain": [
       "15"
      ]
     },
     "execution_count": 81,
     "metadata": {},
     "output_type": "execute_result"
    }
   ],
   "source": [
    "len(dates)"
   ]
  },
  {
   "cell_type": "code",
   "execution_count": 82,
   "id": "58e8f832-04ab-4905-a1fe-fa04b0e04ae4",
   "metadata": {},
   "outputs": [
    {
     "data": {
      "text/plain": [
       "DatetimeIndex(['2020-08-25', '2020-09-01', '2020-09-08', '2020-09-15',\n",
       "               '2020-09-22', '2020-09-29'],\n",
       "              dtype='datetime64[ns]', freq='7D')"
      ]
     },
     "execution_count": 82,
     "metadata": {},
     "output_type": "execute_result"
    }
   ],
   "source": [
    "dates[:6]"
   ]
  },
  {
   "cell_type": "code",
   "execution_count": null,
   "id": "15457aaa-6be8-46c2-91a9-9b06f48a4973",
   "metadata": {},
   "outputs": [],
   "source": []
  },
  {
   "cell_type": "code",
   "execution_count": 83,
   "id": "73a282dc-4972-4928-b24f-365e83a8cd02",
   "metadata": {},
   "outputs": [
    {
     "data": {
      "text/html": [
       "<div>\n",
       "<style scoped>\n",
       "    .dataframe tbody tr th:only-of-type {\n",
       "        vertical-align: middle;\n",
       "    }\n",
       "\n",
       "    .dataframe tbody tr th {\n",
       "        vertical-align: top;\n",
       "    }\n",
       "\n",
       "    .dataframe thead th {\n",
       "        text-align: right;\n",
       "    }\n",
       "</style>\n",
       "<table border=\"1\" class=\"dataframe\">\n",
       "  <thead>\n",
       "    <tr style=\"text-align: right;\">\n",
       "      <th></th>\n",
       "      <th>Ann</th>\n",
       "      <th>Bob</th>\n",
       "      <th>Charly</th>\n",
       "      <th>Don</th>\n",
       "    </tr>\n",
       "  </thead>\n",
       "  <tbody>\n",
       "    <tr>\n",
       "      <th>2020-08-25</th>\n",
       "      <td>0.062223</td>\n",
       "      <td>1.760995</td>\n",
       "      <td>-0.564789</td>\n",
       "      <td>-0.377276</td>\n",
       "    </tr>\n",
       "    <tr>\n",
       "      <th>2020-09-01</th>\n",
       "      <td>0.058386</td>\n",
       "      <td>-1.317107</td>\n",
       "      <td>0.789512</td>\n",
       "      <td>0.579092</td>\n",
       "    </tr>\n",
       "    <tr>\n",
       "      <th>2020-09-08</th>\n",
       "      <td>-0.173459</td>\n",
       "      <td>0.436061</td>\n",
       "      <td>-0.469290</td>\n",
       "      <td>1.605012</td>\n",
       "    </tr>\n",
       "    <tr>\n",
       "      <th>2020-09-15</th>\n",
       "      <td>0.617496</td>\n",
       "      <td>0.693855</td>\n",
       "      <td>0.646148</td>\n",
       "      <td>0.627287</td>\n",
       "    </tr>\n",
       "    <tr>\n",
       "      <th>2020-09-22</th>\n",
       "      <td>-1.074106</td>\n",
       "      <td>0.847441</td>\n",
       "      <td>0.421393</td>\n",
       "      <td>-0.408364</td>\n",
       "    </tr>\n",
       "    <tr>\n",
       "      <th>2020-09-29</th>\n",
       "      <td>0.376635</td>\n",
       "      <td>-0.279863</td>\n",
       "      <td>-0.701821</td>\n",
       "      <td>-0.500150</td>\n",
       "    </tr>\n",
       "  </tbody>\n",
       "</table>\n",
       "</div>"
      ],
      "text/plain": [
       "                 Ann       Bob    Charly       Don\n",
       "2020-08-25  0.062223  1.760995 -0.564789 -0.377276\n",
       "2020-09-01  0.058386 -1.317107  0.789512  0.579092\n",
       "2020-09-08 -0.173459  0.436061 -0.469290  1.605012\n",
       "2020-09-15  0.617496  0.693855  0.646148  0.627287\n",
       "2020-09-22 -1.074106  0.847441  0.421393 -0.408364\n",
       "2020-09-29  0.376635 -0.279863 -0.701821 -0.500150"
      ]
     },
     "execution_count": 83,
     "metadata": {},
     "output_type": "execute_result"
    }
   ],
   "source": [
    "df.index = dates[:6]\n",
    "df"
   ]
  },
  {
   "cell_type": "code",
   "execution_count": 84,
   "id": "68f5df39-d5b4-479f-b620-42b24f546d75",
   "metadata": {},
   "outputs": [
    {
     "data": {
      "text/plain": [
       "DatetimeIndex(['2020-08-25', '2020-09-01', '2020-09-08', '2020-09-15',\n",
       "               '2020-09-22', '2020-09-29'],\n",
       "              dtype='datetime64[ns]', freq='7D')"
      ]
     },
     "execution_count": 84,
     "metadata": {},
     "output_type": "execute_result"
    }
   ],
   "source": [
    "df.index"
   ]
  },
  {
   "cell_type": "code",
   "execution_count": null,
   "id": "a6d8581c-2dbc-4072-a27b-9cda4ed3870a",
   "metadata": {},
   "outputs": [],
   "source": [
    "# df.columns\n",
    "list(df.columns)"
   ]
  },
  {
   "cell_type": "code",
   "execution_count": 85,
   "id": "6206f681-7f3c-4419-9576-8ebda2a3a9f2",
   "metadata": {},
   "outputs": [
    {
     "data": {
      "text/plain": [
       "Ann       float64\n",
       "Bob       float64\n",
       "Charly    float64\n",
       "Don       float64\n",
       "dtype: object"
      ]
     },
     "execution_count": 85,
     "metadata": {},
     "output_type": "execute_result"
    }
   ],
   "source": [
    "df.dtypes"
   ]
  },
  {
   "cell_type": "code",
   "execution_count": 86,
   "id": "61360187-f8cd-49f6-b7bb-915c835a12b4",
   "metadata": {},
   "outputs": [
    {
     "data": {
      "text/plain": [
       "array([[ 0.06222332,  1.7609946 , -0.56478946, -0.37727557],\n",
       "       [ 0.05838613, -1.31710656,  0.78951209,  0.57909244],\n",
       "       [-0.17345887,  0.43606057, -0.46929005,  1.60501154],\n",
       "       [ 0.61749585,  0.69385488,  0.64614782,  0.6272868 ],\n",
       "       [-1.07410618,  0.84744058,  0.42139343, -0.40836448],\n",
       "       [ 0.37663496, -0.2798634 , -0.70182056, -0.50015037]])"
      ]
     },
     "execution_count": 86,
     "metadata": {},
     "output_type": "execute_result"
    }
   ],
   "source": [
    "df.values # convert df to numpy array"
   ]
  },
  {
   "cell_type": "code",
   "execution_count": 87,
   "id": "ac8fcefb-99f6-4c56-bdef-b76cf8039b19",
   "metadata": {},
   "outputs": [
    {
     "data": {
      "text/plain": [
       "(6, 4)"
      ]
     },
     "execution_count": 87,
     "metadata": {},
     "output_type": "execute_result"
    }
   ],
   "source": [
    "df.values.shape"
   ]
  },
  {
   "cell_type": "code",
   "execution_count": null,
   "id": "cb1209d3",
   "metadata": {},
   "outputs": [],
   "source": []
  },
  {
   "cell_type": "code",
   "execution_count": 88,
   "id": "302c2cf8-13bd-4526-9b0e-509b977b518b",
   "metadata": {},
   "outputs": [
    {
     "data": {
      "text/plain": [
       "array([[ 0.06222332,  1.7609946 , -0.56478946, -0.37727557],\n",
       "       [ 0.05838613, -1.31710656,  0.78951209,  0.57909244],\n",
       "       [-0.17345887,  0.43606057, -0.46929005,  1.60501154],\n",
       "       [ 0.61749585,  0.69385488,  0.64614782,  0.6272868 ],\n",
       "       [-1.07410618,  0.84744058,  0.42139343, -0.40836448],\n",
       "       [ 0.37663496, -0.2798634 , -0.70182056, -0.50015037]])"
      ]
     },
     "execution_count": 88,
     "metadata": {},
     "output_type": "execute_result"
    }
   ],
   "source": [
    "# you can also do\n",
    "df.to_numpy()"
   ]
  },
  {
   "cell_type": "code",
   "execution_count": 91,
   "id": "c2d00651",
   "metadata": {},
   "outputs": [],
   "source": [
    "array = df.values\n",
    "df2 = pd.DataFrame(array, columns = ['Ann', \"Bob\", \"Charly\", \"Don\"])"
   ]
  },
  {
   "cell_type": "code",
   "execution_count": 92,
   "id": "25b89fb4",
   "metadata": {},
   "outputs": [
    {
     "name": "stdout",
     "output_type": "stream",
     "text": [
      "<class 'pandas.core.frame.DataFrame'>\n",
      "RangeIndex: 6 entries, 0 to 5\n",
      "Data columns (total 4 columns):\n",
      " #   Column  Non-Null Count  Dtype  \n",
      "---  ------  --------------  -----  \n",
      " 0   Ann     6 non-null      float64\n",
      " 1   Bob     6 non-null      float64\n",
      " 2   Charly  6 non-null      float64\n",
      " 3   Don     6 non-null      float64\n",
      "dtypes: float64(4)\n",
      "memory usage: 320.0 bytes\n"
     ]
    }
   ],
   "source": [
    "df2.info()"
   ]
  },
  {
   "cell_type": "code",
   "execution_count": null,
   "id": "0069438c",
   "metadata": {},
   "outputs": [],
   "source": []
  },
  {
   "cell_type": "markdown",
   "id": "4bf878f1-ee9d-4dbe-a8f9-0f9deeb6c33c",
   "metadata": {},
   "source": [
    "**df.describe()**"
   ]
  },
  {
   "cell_type": "code",
   "execution_count": 93,
   "id": "772e5e10-f4e3-42d0-a476-ef58b6571be4",
   "metadata": {},
   "outputs": [
    {
     "data": {
      "text/html": [
       "<div>\n",
       "<style scoped>\n",
       "    .dataframe tbody tr th:only-of-type {\n",
       "        vertical-align: middle;\n",
       "    }\n",
       "\n",
       "    .dataframe tbody tr th {\n",
       "        vertical-align: top;\n",
       "    }\n",
       "\n",
       "    .dataframe thead th {\n",
       "        text-align: right;\n",
       "    }\n",
       "</style>\n",
       "<table border=\"1\" class=\"dataframe\">\n",
       "  <thead>\n",
       "    <tr style=\"text-align: right;\">\n",
       "      <th></th>\n",
       "      <th>Ann</th>\n",
       "      <th>Bob</th>\n",
       "      <th>Charly</th>\n",
       "      <th>Don</th>\n",
       "    </tr>\n",
       "  </thead>\n",
       "  <tbody>\n",
       "    <tr>\n",
       "      <th>count</th>\n",
       "      <td>6.000000</td>\n",
       "      <td>6.000000</td>\n",
       "      <td>6.000000</td>\n",
       "      <td>6.000000</td>\n",
       "    </tr>\n",
       "    <tr>\n",
       "      <th>mean</th>\n",
       "      <td>-0.022137</td>\n",
       "      <td>0.356897</td>\n",
       "      <td>0.020192</td>\n",
       "      <td>0.254267</td>\n",
       "    </tr>\n",
       "    <tr>\n",
       "      <th>std</th>\n",
       "      <td>0.585028</td>\n",
       "      <td>1.052586</td>\n",
       "      <td>0.670483</td>\n",
       "      <td>0.833815</td>\n",
       "    </tr>\n",
       "    <tr>\n",
       "      <th>min</th>\n",
       "      <td>-1.074106</td>\n",
       "      <td>-1.317107</td>\n",
       "      <td>-0.701821</td>\n",
       "      <td>-0.500150</td>\n",
       "    </tr>\n",
       "    <tr>\n",
       "      <th>25%</th>\n",
       "      <td>-0.115498</td>\n",
       "      <td>-0.100882</td>\n",
       "      <td>-0.540915</td>\n",
       "      <td>-0.400592</td>\n",
       "    </tr>\n",
       "    <tr>\n",
       "      <th>50%</th>\n",
       "      <td>0.060305</td>\n",
       "      <td>0.564958</td>\n",
       "      <td>-0.023948</td>\n",
       "      <td>0.100908</td>\n",
       "    </tr>\n",
       "    <tr>\n",
       "      <th>75%</th>\n",
       "      <td>0.298032</td>\n",
       "      <td>0.809044</td>\n",
       "      <td>0.589959</td>\n",
       "      <td>0.615238</td>\n",
       "    </tr>\n",
       "    <tr>\n",
       "      <th>max</th>\n",
       "      <td>0.617496</td>\n",
       "      <td>1.760995</td>\n",
       "      <td>0.789512</td>\n",
       "      <td>1.605012</td>\n",
       "    </tr>\n",
       "  </tbody>\n",
       "</table>\n",
       "</div>"
      ],
      "text/plain": [
       "            Ann       Bob    Charly       Don\n",
       "count  6.000000  6.000000  6.000000  6.000000\n",
       "mean  -0.022137  0.356897  0.020192  0.254267\n",
       "std    0.585028  1.052586  0.670483  0.833815\n",
       "min   -1.074106 -1.317107 -0.701821 -0.500150\n",
       "25%   -0.115498 -0.100882 -0.540915 -0.400592\n",
       "50%    0.060305  0.564958 -0.023948  0.100908\n",
       "75%    0.298032  0.809044  0.589959  0.615238\n",
       "max    0.617496  1.760995  0.789512  1.605012"
      ]
     },
     "execution_count": 93,
     "metadata": {},
     "output_type": "execute_result"
    }
   ],
   "source": [
    "df.describe() # generate descriptive stats on the data"
   ]
  },
  {
   "cell_type": "code",
   "execution_count": null,
   "id": "d01c956b",
   "metadata": {},
   "outputs": [],
   "source": []
  },
  {
   "cell_type": "markdown",
   "id": "0203a36a-bd5d-42d8-991b-2cd61f1cc89d",
   "metadata": {},
   "source": [
    "**df.transpose()**"
   ]
  },
  {
   "cell_type": "code",
   "execution_count": 94,
   "id": "2ac3f7aa-da4c-4d3f-aaba-fcbd4b9b92fd",
   "metadata": {},
   "outputs": [
    {
     "data": {
      "text/html": [
       "<div>\n",
       "<style scoped>\n",
       "    .dataframe tbody tr th:only-of-type {\n",
       "        vertical-align: middle;\n",
       "    }\n",
       "\n",
       "    .dataframe tbody tr th {\n",
       "        vertical-align: top;\n",
       "    }\n",
       "\n",
       "    .dataframe thead th {\n",
       "        text-align: right;\n",
       "    }\n",
       "</style>\n",
       "<table border=\"1\" class=\"dataframe\">\n",
       "  <thead>\n",
       "    <tr style=\"text-align: right;\">\n",
       "      <th></th>\n",
       "      <th>Ann</th>\n",
       "      <th>Bob</th>\n",
       "      <th>Charly</th>\n",
       "      <th>Don</th>\n",
       "    </tr>\n",
       "  </thead>\n",
       "  <tbody>\n",
       "    <tr>\n",
       "      <th>2020-08-25</th>\n",
       "      <td>0.062223</td>\n",
       "      <td>1.760995</td>\n",
       "      <td>-0.564789</td>\n",
       "      <td>-0.377276</td>\n",
       "    </tr>\n",
       "    <tr>\n",
       "      <th>2020-09-01</th>\n",
       "      <td>0.058386</td>\n",
       "      <td>-1.317107</td>\n",
       "      <td>0.789512</td>\n",
       "      <td>0.579092</td>\n",
       "    </tr>\n",
       "    <tr>\n",
       "      <th>2020-09-08</th>\n",
       "      <td>-0.173459</td>\n",
       "      <td>0.436061</td>\n",
       "      <td>-0.469290</td>\n",
       "      <td>1.605012</td>\n",
       "    </tr>\n",
       "    <tr>\n",
       "      <th>2020-09-15</th>\n",
       "      <td>0.617496</td>\n",
       "      <td>0.693855</td>\n",
       "      <td>0.646148</td>\n",
       "      <td>0.627287</td>\n",
       "    </tr>\n",
       "    <tr>\n",
       "      <th>2020-09-22</th>\n",
       "      <td>-1.074106</td>\n",
       "      <td>0.847441</td>\n",
       "      <td>0.421393</td>\n",
       "      <td>-0.408364</td>\n",
       "    </tr>\n",
       "    <tr>\n",
       "      <th>2020-09-29</th>\n",
       "      <td>0.376635</td>\n",
       "      <td>-0.279863</td>\n",
       "      <td>-0.701821</td>\n",
       "      <td>-0.500150</td>\n",
       "    </tr>\n",
       "  </tbody>\n",
       "</table>\n",
       "</div>"
      ],
      "text/plain": [
       "                 Ann       Bob    Charly       Don\n",
       "2020-08-25  0.062223  1.760995 -0.564789 -0.377276\n",
       "2020-09-01  0.058386 -1.317107  0.789512  0.579092\n",
       "2020-09-08 -0.173459  0.436061 -0.469290  1.605012\n",
       "2020-09-15  0.617496  0.693855  0.646148  0.627287\n",
       "2020-09-22 -1.074106  0.847441  0.421393 -0.408364\n",
       "2020-09-29  0.376635 -0.279863 -0.701821 -0.500150"
      ]
     },
     "execution_count": 94,
     "metadata": {},
     "output_type": "execute_result"
    }
   ],
   "source": [
    "df"
   ]
  },
  {
   "cell_type": "code",
   "execution_count": 95,
   "id": "92c6c713-e1a1-40e0-b6ad-e044c2f4a06b",
   "metadata": {},
   "outputs": [
    {
     "data": {
      "text/html": [
       "<div>\n",
       "<style scoped>\n",
       "    .dataframe tbody tr th:only-of-type {\n",
       "        vertical-align: middle;\n",
       "    }\n",
       "\n",
       "    .dataframe tbody tr th {\n",
       "        vertical-align: top;\n",
       "    }\n",
       "\n",
       "    .dataframe thead th {\n",
       "        text-align: right;\n",
       "    }\n",
       "</style>\n",
       "<table border=\"1\" class=\"dataframe\">\n",
       "  <thead>\n",
       "    <tr style=\"text-align: right;\">\n",
       "      <th></th>\n",
       "      <th>2020-08-25</th>\n",
       "      <th>2020-09-01</th>\n",
       "      <th>2020-09-08</th>\n",
       "      <th>2020-09-15</th>\n",
       "      <th>2020-09-22</th>\n",
       "      <th>2020-09-29</th>\n",
       "    </tr>\n",
       "  </thead>\n",
       "  <tbody>\n",
       "    <tr>\n",
       "      <th>Ann</th>\n",
       "      <td>0.062223</td>\n",
       "      <td>0.058386</td>\n",
       "      <td>-0.173459</td>\n",
       "      <td>0.617496</td>\n",
       "      <td>-1.074106</td>\n",
       "      <td>0.376635</td>\n",
       "    </tr>\n",
       "    <tr>\n",
       "      <th>Bob</th>\n",
       "      <td>1.760995</td>\n",
       "      <td>-1.317107</td>\n",
       "      <td>0.436061</td>\n",
       "      <td>0.693855</td>\n",
       "      <td>0.847441</td>\n",
       "      <td>-0.279863</td>\n",
       "    </tr>\n",
       "    <tr>\n",
       "      <th>Charly</th>\n",
       "      <td>-0.564789</td>\n",
       "      <td>0.789512</td>\n",
       "      <td>-0.469290</td>\n",
       "      <td>0.646148</td>\n",
       "      <td>0.421393</td>\n",
       "      <td>-0.701821</td>\n",
       "    </tr>\n",
       "    <tr>\n",
       "      <th>Don</th>\n",
       "      <td>-0.377276</td>\n",
       "      <td>0.579092</td>\n",
       "      <td>1.605012</td>\n",
       "      <td>0.627287</td>\n",
       "      <td>-0.408364</td>\n",
       "      <td>-0.500150</td>\n",
       "    </tr>\n",
       "  </tbody>\n",
       "</table>\n",
       "</div>"
      ],
      "text/plain": [
       "        2020-08-25  2020-09-01  2020-09-08  2020-09-15  2020-09-22  2020-09-29\n",
       "Ann       0.062223    0.058386   -0.173459    0.617496   -1.074106    0.376635\n",
       "Bob       1.760995   -1.317107    0.436061    0.693855    0.847441   -0.279863\n",
       "Charly   -0.564789    0.789512   -0.469290    0.646148    0.421393   -0.701821\n",
       "Don      -0.377276    0.579092    1.605012    0.627287   -0.408364   -0.500150"
      ]
     },
     "execution_count": 95,
     "metadata": {},
     "output_type": "execute_result"
    }
   ],
   "source": [
    "# transpose a datafrme\n",
    "\n",
    "df.transpose()\n",
    "# type(df.transpose())"
   ]
  },
  {
   "cell_type": "code",
   "execution_count": 96,
   "id": "f4de461b-3b6d-4170-a1ce-552685a860d5",
   "metadata": {},
   "outputs": [
    {
     "data": {
      "text/html": [
       "<div>\n",
       "<style scoped>\n",
       "    .dataframe tbody tr th:only-of-type {\n",
       "        vertical-align: middle;\n",
       "    }\n",
       "\n",
       "    .dataframe tbody tr th {\n",
       "        vertical-align: top;\n",
       "    }\n",
       "\n",
       "    .dataframe thead th {\n",
       "        text-align: right;\n",
       "    }\n",
       "</style>\n",
       "<table border=\"1\" class=\"dataframe\">\n",
       "  <thead>\n",
       "    <tr style=\"text-align: right;\">\n",
       "      <th></th>\n",
       "      <th>2020-08-25</th>\n",
       "      <th>2020-09-01</th>\n",
       "      <th>2020-09-08</th>\n",
       "      <th>2020-09-15</th>\n",
       "      <th>2020-09-22</th>\n",
       "      <th>2020-09-29</th>\n",
       "    </tr>\n",
       "  </thead>\n",
       "  <tbody>\n",
       "    <tr>\n",
       "      <th>Ann</th>\n",
       "      <td>0.062223</td>\n",
       "      <td>0.058386</td>\n",
       "      <td>-0.173459</td>\n",
       "      <td>0.617496</td>\n",
       "      <td>-1.074106</td>\n",
       "      <td>0.376635</td>\n",
       "    </tr>\n",
       "    <tr>\n",
       "      <th>Bob</th>\n",
       "      <td>1.760995</td>\n",
       "      <td>-1.317107</td>\n",
       "      <td>0.436061</td>\n",
       "      <td>0.693855</td>\n",
       "      <td>0.847441</td>\n",
       "      <td>-0.279863</td>\n",
       "    </tr>\n",
       "    <tr>\n",
       "      <th>Charly</th>\n",
       "      <td>-0.564789</td>\n",
       "      <td>0.789512</td>\n",
       "      <td>-0.469290</td>\n",
       "      <td>0.646148</td>\n",
       "      <td>0.421393</td>\n",
       "      <td>-0.701821</td>\n",
       "    </tr>\n",
       "    <tr>\n",
       "      <th>Don</th>\n",
       "      <td>-0.377276</td>\n",
       "      <td>0.579092</td>\n",
       "      <td>1.605012</td>\n",
       "      <td>0.627287</td>\n",
       "      <td>-0.408364</td>\n",
       "      <td>-0.500150</td>\n",
       "    </tr>\n",
       "  </tbody>\n",
       "</table>\n",
       "</div>"
      ],
      "text/plain": [
       "        2020-08-25  2020-09-01  2020-09-08  2020-09-15  2020-09-22  2020-09-29\n",
       "Ann       0.062223    0.058386   -0.173459    0.617496   -1.074106    0.376635\n",
       "Bob       1.760995   -1.317107    0.436061    0.693855    0.847441   -0.279863\n",
       "Charly   -0.564789    0.789512   -0.469290    0.646148    0.421393   -0.701821\n",
       "Don      -0.377276    0.579092    1.605012    0.627287   -0.408364   -0.500150"
      ]
     },
     "execution_count": 96,
     "metadata": {},
     "output_type": "execute_result"
    }
   ],
   "source": [
    "df.T # you can also do it this way"
   ]
  },
  {
   "cell_type": "markdown",
   "id": "3cb20efd-88fb-49c8-a254-5908952ee774",
   "metadata": {},
   "source": [
    "**sort `dataframe`**"
   ]
  },
  {
   "cell_type": "code",
   "execution_count": 97,
   "id": "b83bd9e2-94f9-4180-ad0d-f0d579726a45",
   "metadata": {},
   "outputs": [
    {
     "data": {
      "text/html": [
       "<div>\n",
       "<style scoped>\n",
       "    .dataframe tbody tr th:only-of-type {\n",
       "        vertical-align: middle;\n",
       "    }\n",
       "\n",
       "    .dataframe tbody tr th {\n",
       "        vertical-align: top;\n",
       "    }\n",
       "\n",
       "    .dataframe thead th {\n",
       "        text-align: right;\n",
       "    }\n",
       "</style>\n",
       "<table border=\"1\" class=\"dataframe\">\n",
       "  <thead>\n",
       "    <tr style=\"text-align: right;\">\n",
       "      <th></th>\n",
       "      <th>Ann</th>\n",
       "      <th>Bob</th>\n",
       "      <th>Charly</th>\n",
       "      <th>Don</th>\n",
       "    </tr>\n",
       "  </thead>\n",
       "  <tbody>\n",
       "    <tr>\n",
       "      <th>2020-08-25</th>\n",
       "      <td>0.062223</td>\n",
       "      <td>1.760995</td>\n",
       "      <td>-0.564789</td>\n",
       "      <td>-0.377276</td>\n",
       "    </tr>\n",
       "    <tr>\n",
       "      <th>2020-09-01</th>\n",
       "      <td>0.058386</td>\n",
       "      <td>-1.317107</td>\n",
       "      <td>0.789512</td>\n",
       "      <td>0.579092</td>\n",
       "    </tr>\n",
       "    <tr>\n",
       "      <th>2020-09-08</th>\n",
       "      <td>-0.173459</td>\n",
       "      <td>0.436061</td>\n",
       "      <td>-0.469290</td>\n",
       "      <td>1.605012</td>\n",
       "    </tr>\n",
       "    <tr>\n",
       "      <th>2020-09-15</th>\n",
       "      <td>0.617496</td>\n",
       "      <td>0.693855</td>\n",
       "      <td>0.646148</td>\n",
       "      <td>0.627287</td>\n",
       "    </tr>\n",
       "    <tr>\n",
       "      <th>2020-09-22</th>\n",
       "      <td>-1.074106</td>\n",
       "      <td>0.847441</td>\n",
       "      <td>0.421393</td>\n",
       "      <td>-0.408364</td>\n",
       "    </tr>\n",
       "    <tr>\n",
       "      <th>2020-09-29</th>\n",
       "      <td>0.376635</td>\n",
       "      <td>-0.279863</td>\n",
       "      <td>-0.701821</td>\n",
       "      <td>-0.500150</td>\n",
       "    </tr>\n",
       "  </tbody>\n",
       "</table>\n",
       "</div>"
      ],
      "text/plain": [
       "                 Ann       Bob    Charly       Don\n",
       "2020-08-25  0.062223  1.760995 -0.564789 -0.377276\n",
       "2020-09-01  0.058386 -1.317107  0.789512  0.579092\n",
       "2020-09-08 -0.173459  0.436061 -0.469290  1.605012\n",
       "2020-09-15  0.617496  0.693855  0.646148  0.627287\n",
       "2020-09-22 -1.074106  0.847441  0.421393 -0.408364\n",
       "2020-09-29  0.376635 -0.279863 -0.701821 -0.500150"
      ]
     },
     "execution_count": 97,
     "metadata": {},
     "output_type": "execute_result"
    }
   ],
   "source": [
    "df"
   ]
  },
  {
   "cell_type": "code",
   "execution_count": 98,
   "id": "63fdf710-c4c9-47a6-afcc-c974ab51518c",
   "metadata": {},
   "outputs": [
    {
     "data": {
      "text/html": [
       "<div>\n",
       "<style scoped>\n",
       "    .dataframe tbody tr th:only-of-type {\n",
       "        vertical-align: middle;\n",
       "    }\n",
       "\n",
       "    .dataframe tbody tr th {\n",
       "        vertical-align: top;\n",
       "    }\n",
       "\n",
       "    .dataframe thead th {\n",
       "        text-align: right;\n",
       "    }\n",
       "</style>\n",
       "<table border=\"1\" class=\"dataframe\">\n",
       "  <thead>\n",
       "    <tr style=\"text-align: right;\">\n",
       "      <th></th>\n",
       "      <th>Ann</th>\n",
       "      <th>Bob</th>\n",
       "      <th>Charly</th>\n",
       "      <th>Don</th>\n",
       "    </tr>\n",
       "  </thead>\n",
       "  <tbody>\n",
       "    <tr>\n",
       "      <th>2020-09-29</th>\n",
       "      <td>0.376635</td>\n",
       "      <td>-0.279863</td>\n",
       "      <td>-0.701821</td>\n",
       "      <td>-0.500150</td>\n",
       "    </tr>\n",
       "    <tr>\n",
       "      <th>2020-09-22</th>\n",
       "      <td>-1.074106</td>\n",
       "      <td>0.847441</td>\n",
       "      <td>0.421393</td>\n",
       "      <td>-0.408364</td>\n",
       "    </tr>\n",
       "    <tr>\n",
       "      <th>2020-09-15</th>\n",
       "      <td>0.617496</td>\n",
       "      <td>0.693855</td>\n",
       "      <td>0.646148</td>\n",
       "      <td>0.627287</td>\n",
       "    </tr>\n",
       "    <tr>\n",
       "      <th>2020-09-08</th>\n",
       "      <td>-0.173459</td>\n",
       "      <td>0.436061</td>\n",
       "      <td>-0.469290</td>\n",
       "      <td>1.605012</td>\n",
       "    </tr>\n",
       "    <tr>\n",
       "      <th>2020-09-01</th>\n",
       "      <td>0.058386</td>\n",
       "      <td>-1.317107</td>\n",
       "      <td>0.789512</td>\n",
       "      <td>0.579092</td>\n",
       "    </tr>\n",
       "    <tr>\n",
       "      <th>2020-08-25</th>\n",
       "      <td>0.062223</td>\n",
       "      <td>1.760995</td>\n",
       "      <td>-0.564789</td>\n",
       "      <td>-0.377276</td>\n",
       "    </tr>\n",
       "  </tbody>\n",
       "</table>\n",
       "</div>"
      ],
      "text/plain": [
       "                 Ann       Bob    Charly       Don\n",
       "2020-09-29  0.376635 -0.279863 -0.701821 -0.500150\n",
       "2020-09-22 -1.074106  0.847441  0.421393 -0.408364\n",
       "2020-09-15  0.617496  0.693855  0.646148  0.627287\n",
       "2020-09-08 -0.173459  0.436061 -0.469290  1.605012\n",
       "2020-09-01  0.058386 -1.317107  0.789512  0.579092\n",
       "2020-08-25  0.062223  1.760995 -0.564789 -0.377276"
      ]
     },
     "execution_count": 98,
     "metadata": {},
     "output_type": "execute_result"
    }
   ],
   "source": [
    "# sort_index(), by labels (index or column)\n",
    "# df\n",
    "df.sort_index(axis=0, ascending=False)"
   ]
  },
  {
   "cell_type": "code",
   "execution_count": null,
   "id": "0104f906-9dd4-44ac-9402-c1c79f3f3984",
   "metadata": {},
   "outputs": [],
   "source": [
    "df"
   ]
  },
  {
   "cell_type": "code",
   "execution_count": 99,
   "id": "d4c3c8e3-9436-4d54-8508-956f66b6b022",
   "metadata": {},
   "outputs": [
    {
     "data": {
      "text/html": [
       "<div>\n",
       "<style scoped>\n",
       "    .dataframe tbody tr th:only-of-type {\n",
       "        vertical-align: middle;\n",
       "    }\n",
       "\n",
       "    .dataframe tbody tr th {\n",
       "        vertical-align: top;\n",
       "    }\n",
       "\n",
       "    .dataframe thead th {\n",
       "        text-align: right;\n",
       "    }\n",
       "</style>\n",
       "<table border=\"1\" class=\"dataframe\">\n",
       "  <thead>\n",
       "    <tr style=\"text-align: right;\">\n",
       "      <th></th>\n",
       "      <th>Don</th>\n",
       "      <th>Charly</th>\n",
       "      <th>Bob</th>\n",
       "      <th>Ann</th>\n",
       "    </tr>\n",
       "  </thead>\n",
       "  <tbody>\n",
       "    <tr>\n",
       "      <th>2020-08-25</th>\n",
       "      <td>-0.377276</td>\n",
       "      <td>-0.564789</td>\n",
       "      <td>1.760995</td>\n",
       "      <td>0.062223</td>\n",
       "    </tr>\n",
       "    <tr>\n",
       "      <th>2020-09-01</th>\n",
       "      <td>0.579092</td>\n",
       "      <td>0.789512</td>\n",
       "      <td>-1.317107</td>\n",
       "      <td>0.058386</td>\n",
       "    </tr>\n",
       "    <tr>\n",
       "      <th>2020-09-08</th>\n",
       "      <td>1.605012</td>\n",
       "      <td>-0.469290</td>\n",
       "      <td>0.436061</td>\n",
       "      <td>-0.173459</td>\n",
       "    </tr>\n",
       "    <tr>\n",
       "      <th>2020-09-15</th>\n",
       "      <td>0.627287</td>\n",
       "      <td>0.646148</td>\n",
       "      <td>0.693855</td>\n",
       "      <td>0.617496</td>\n",
       "    </tr>\n",
       "    <tr>\n",
       "      <th>2020-09-22</th>\n",
       "      <td>-0.408364</td>\n",
       "      <td>0.421393</td>\n",
       "      <td>0.847441</td>\n",
       "      <td>-1.074106</td>\n",
       "    </tr>\n",
       "    <tr>\n",
       "      <th>2020-09-29</th>\n",
       "      <td>-0.500150</td>\n",
       "      <td>-0.701821</td>\n",
       "      <td>-0.279863</td>\n",
       "      <td>0.376635</td>\n",
       "    </tr>\n",
       "  </tbody>\n",
       "</table>\n",
       "</div>"
      ],
      "text/plain": [
       "                 Don    Charly       Bob       Ann\n",
       "2020-08-25 -0.377276 -0.564789  1.760995  0.062223\n",
       "2020-09-01  0.579092  0.789512 -1.317107  0.058386\n",
       "2020-09-08  1.605012 -0.469290  0.436061 -0.173459\n",
       "2020-09-15  0.627287  0.646148  0.693855  0.617496\n",
       "2020-09-22 -0.408364  0.421393  0.847441 -1.074106\n",
       "2020-09-29 -0.500150 -0.701821 -0.279863  0.376635"
      ]
     },
     "execution_count": 99,
     "metadata": {},
     "output_type": "execute_result"
    }
   ],
   "source": [
    "df.sort_index(axis=1, ascending=False)"
   ]
  },
  {
   "cell_type": "code",
   "execution_count": null,
   "id": "6c1216ef-f517-4e40-86ed-5fb5a5909956",
   "metadata": {},
   "outputs": [],
   "source": [
    "# sort_values(), by values\n",
    "df"
   ]
  },
  {
   "cell_type": "code",
   "execution_count": 100,
   "id": "10d5e8ed-d702-40a2-baad-8c94b2907f1a",
   "metadata": {},
   "outputs": [
    {
     "data": {
      "text/html": [
       "<div>\n",
       "<style scoped>\n",
       "    .dataframe tbody tr th:only-of-type {\n",
       "        vertical-align: middle;\n",
       "    }\n",
       "\n",
       "    .dataframe tbody tr th {\n",
       "        vertical-align: top;\n",
       "    }\n",
       "\n",
       "    .dataframe thead th {\n",
       "        text-align: right;\n",
       "    }\n",
       "</style>\n",
       "<table border=\"1\" class=\"dataframe\">\n",
       "  <thead>\n",
       "    <tr style=\"text-align: right;\">\n",
       "      <th></th>\n",
       "      <th>Ann</th>\n",
       "      <th>Bob</th>\n",
       "      <th>Charly</th>\n",
       "      <th>Don</th>\n",
       "    </tr>\n",
       "  </thead>\n",
       "  <tbody>\n",
       "    <tr>\n",
       "      <th>2020-09-22</th>\n",
       "      <td>-1.074106</td>\n",
       "      <td>0.847441</td>\n",
       "      <td>0.421393</td>\n",
       "      <td>-0.408364</td>\n",
       "    </tr>\n",
       "    <tr>\n",
       "      <th>2020-09-08</th>\n",
       "      <td>-0.173459</td>\n",
       "      <td>0.436061</td>\n",
       "      <td>-0.469290</td>\n",
       "      <td>1.605012</td>\n",
       "    </tr>\n",
       "    <tr>\n",
       "      <th>2020-09-01</th>\n",
       "      <td>0.058386</td>\n",
       "      <td>-1.317107</td>\n",
       "      <td>0.789512</td>\n",
       "      <td>0.579092</td>\n",
       "    </tr>\n",
       "    <tr>\n",
       "      <th>2020-08-25</th>\n",
       "      <td>0.062223</td>\n",
       "      <td>1.760995</td>\n",
       "      <td>-0.564789</td>\n",
       "      <td>-0.377276</td>\n",
       "    </tr>\n",
       "    <tr>\n",
       "      <th>2020-09-29</th>\n",
       "      <td>0.376635</td>\n",
       "      <td>-0.279863</td>\n",
       "      <td>-0.701821</td>\n",
       "      <td>-0.500150</td>\n",
       "    </tr>\n",
       "    <tr>\n",
       "      <th>2020-09-15</th>\n",
       "      <td>0.617496</td>\n",
       "      <td>0.693855</td>\n",
       "      <td>0.646148</td>\n",
       "      <td>0.627287</td>\n",
       "    </tr>\n",
       "  </tbody>\n",
       "</table>\n",
       "</div>"
      ],
      "text/plain": [
       "                 Ann       Bob    Charly       Don\n",
       "2020-09-22 -1.074106  0.847441  0.421393 -0.408364\n",
       "2020-09-08 -0.173459  0.436061 -0.469290  1.605012\n",
       "2020-09-01  0.058386 -1.317107  0.789512  0.579092\n",
       "2020-08-25  0.062223  1.760995 -0.564789 -0.377276\n",
       "2020-09-29  0.376635 -0.279863 -0.701821 -0.500150\n",
       "2020-09-15  0.617496  0.693855  0.646148  0.627287"
      ]
     },
     "execution_count": 100,
     "metadata": {},
     "output_type": "execute_result"
    }
   ],
   "source": [
    "df.sort_values(by='Ann', ascending=True)\n",
    "# df.sort_values(by=['Ann','Bob'], ascending=True)"
   ]
  },
  {
   "cell_type": "code",
   "execution_count": null,
   "id": "22e02459-130e-4b5a-bb03-2419c59621de",
   "metadata": {},
   "outputs": [],
   "source": []
  },
  {
   "cell_type": "markdown",
   "id": "97936d34-f810-440b-b379-3ab195a4caec",
   "metadata": {},
   "source": [
    "## Select `dataframe`\n",
    "\n",
    "Pandas documentation on select and indexing `dataframe`:\n",
    "* https://pandas.pydata.org/pandas-docs/stable/user_guide/indexing.html#indexing\n",
    "* https://pandas.pydata.org/pandas-docs/stable/user_guide/advanced.html#advanced"
   ]
  },
  {
   "cell_type": "markdown",
   "id": "11c9c80e-82b2-4dc9-8aa2-92af73b36ef7",
   "metadata": {},
   "source": [
    "### Select columns\n",
    "\n",
    "Selecting a single column, which yields a Series, equivalent to df.A"
   ]
  },
  {
   "cell_type": "code",
   "execution_count": 101,
   "id": "760d3cab",
   "metadata": {},
   "outputs": [
    {
     "data": {
      "text/html": [
       "<div>\n",
       "<style scoped>\n",
       "    .dataframe tbody tr th:only-of-type {\n",
       "        vertical-align: middle;\n",
       "    }\n",
       "\n",
       "    .dataframe tbody tr th {\n",
       "        vertical-align: top;\n",
       "    }\n",
       "\n",
       "    .dataframe thead th {\n",
       "        text-align: right;\n",
       "    }\n",
       "</style>\n",
       "<table border=\"1\" class=\"dataframe\">\n",
       "  <thead>\n",
       "    <tr style=\"text-align: right;\">\n",
       "      <th></th>\n",
       "      <th>Ann</th>\n",
       "      <th>Bob</th>\n",
       "      <th>Charly</th>\n",
       "      <th>Don</th>\n",
       "    </tr>\n",
       "  </thead>\n",
       "  <tbody>\n",
       "    <tr>\n",
       "      <th>2020-08-25</th>\n",
       "      <td>0.062223</td>\n",
       "      <td>1.760995</td>\n",
       "      <td>-0.564789</td>\n",
       "      <td>-0.377276</td>\n",
       "    </tr>\n",
       "    <tr>\n",
       "      <th>2020-09-01</th>\n",
       "      <td>0.058386</td>\n",
       "      <td>-1.317107</td>\n",
       "      <td>0.789512</td>\n",
       "      <td>0.579092</td>\n",
       "    </tr>\n",
       "    <tr>\n",
       "      <th>2020-09-08</th>\n",
       "      <td>-0.173459</td>\n",
       "      <td>0.436061</td>\n",
       "      <td>-0.469290</td>\n",
       "      <td>1.605012</td>\n",
       "    </tr>\n",
       "    <tr>\n",
       "      <th>2020-09-15</th>\n",
       "      <td>0.617496</td>\n",
       "      <td>0.693855</td>\n",
       "      <td>0.646148</td>\n",
       "      <td>0.627287</td>\n",
       "    </tr>\n",
       "    <tr>\n",
       "      <th>2020-09-22</th>\n",
       "      <td>-1.074106</td>\n",
       "      <td>0.847441</td>\n",
       "      <td>0.421393</td>\n",
       "      <td>-0.408364</td>\n",
       "    </tr>\n",
       "    <tr>\n",
       "      <th>2020-09-29</th>\n",
       "      <td>0.376635</td>\n",
       "      <td>-0.279863</td>\n",
       "      <td>-0.701821</td>\n",
       "      <td>-0.500150</td>\n",
       "    </tr>\n",
       "  </tbody>\n",
       "</table>\n",
       "</div>"
      ],
      "text/plain": [
       "                 Ann       Bob    Charly       Don\n",
       "2020-08-25  0.062223  1.760995 -0.564789 -0.377276\n",
       "2020-09-01  0.058386 -1.317107  0.789512  0.579092\n",
       "2020-09-08 -0.173459  0.436061 -0.469290  1.605012\n",
       "2020-09-15  0.617496  0.693855  0.646148  0.627287\n",
       "2020-09-22 -1.074106  0.847441  0.421393 -0.408364\n",
       "2020-09-29  0.376635 -0.279863 -0.701821 -0.500150"
      ]
     },
     "execution_count": 101,
     "metadata": {},
     "output_type": "execute_result"
    }
   ],
   "source": [
    "df"
   ]
  },
  {
   "cell_type": "code",
   "execution_count": null,
   "id": "b7a9e98c",
   "metadata": {},
   "outputs": [],
   "source": []
  },
  {
   "cell_type": "code",
   "execution_count": 102,
   "id": "0bc6f40d-8ae2-4ba8-977f-64fdf90618f5",
   "metadata": {},
   "outputs": [
    {
     "data": {
      "text/plain": [
       "2020-08-25    0.062223\n",
       "2020-09-01    0.058386\n",
       "2020-09-08   -0.173459\n",
       "2020-09-15    0.617496\n",
       "2020-09-22   -1.074106\n",
       "2020-09-29    0.376635\n",
       "Freq: 7D, Name: Ann, dtype: float64"
      ]
     },
     "execution_count": 102,
     "metadata": {},
     "output_type": "execute_result"
    }
   ],
   "source": [
    "df['Ann']"
   ]
  },
  {
   "cell_type": "code",
   "execution_count": 103,
   "id": "7a2bf8ff-2e9b-4f67-9c6a-d9bf086ea0ab",
   "metadata": {},
   "outputs": [
    {
     "data": {
      "text/plain": [
       "pandas.core.frame.DataFrame"
      ]
     },
     "execution_count": 103,
     "metadata": {},
     "output_type": "execute_result"
    }
   ],
   "source": [
    "type(df)"
   ]
  },
  {
   "cell_type": "code",
   "execution_count": 104,
   "id": "ca6995e5-a4ec-459b-b3c8-22ed56d84ef8",
   "metadata": {},
   "outputs": [
    {
     "data": {
      "text/plain": [
       "pandas.core.series.Series"
      ]
     },
     "execution_count": 104,
     "metadata": {},
     "output_type": "execute_result"
    }
   ],
   "source": [
    "type(df['Ann'])"
   ]
  },
  {
   "cell_type": "code",
   "execution_count": 105,
   "id": "17f21b03-8a03-4842-a7ca-fcb2fc9b3007",
   "metadata": {},
   "outputs": [
    {
     "data": {
      "text/plain": [
       "2020-08-25    0.062223\n",
       "2020-09-01    0.058386\n",
       "2020-09-08   -0.173459\n",
       "2020-09-15    0.617496\n",
       "2020-09-22   -1.074106\n",
       "2020-09-29    0.376635\n",
       "Freq: 7D, Name: Ann, dtype: float64"
      ]
     },
     "execution_count": 105,
     "metadata": {},
     "output_type": "execute_result"
    }
   ],
   "source": [
    "df.Ann"
   ]
  },
  {
   "cell_type": "code",
   "execution_count": 106,
   "id": "394e3b5f-057f-4c3a-a63b-7f1f8165d4b7",
   "metadata": {},
   "outputs": [
    {
     "data": {
      "text/plain": [
       "pandas.core.series.Series"
      ]
     },
     "execution_count": 106,
     "metadata": {},
     "output_type": "execute_result"
    }
   ],
   "source": [
    "type(df['Ann'])"
   ]
  },
  {
   "cell_type": "code",
   "execution_count": null,
   "id": "1a8485a8",
   "metadata": {},
   "outputs": [],
   "source": []
  },
  {
   "cell_type": "code",
   "execution_count": null,
   "id": "beb59f9c",
   "metadata": {},
   "outputs": [],
   "source": []
  },
  {
   "cell_type": "markdown",
   "id": "c6cf36a9-7a23-455b-9da3-f2f54add2de9",
   "metadata": {},
   "source": [
    "Selecting multiple columns yields a dataframe, which references a subset of the original dataframe. Note you are NOT creating a new copy here!"
   ]
  },
  {
   "cell_type": "code",
   "execution_count": 107,
   "id": "aac19078-9405-4e09-a3c4-8f23a3fd4129",
   "metadata": {},
   "outputs": [
    {
     "data": {
      "text/html": [
       "<div>\n",
       "<style scoped>\n",
       "    .dataframe tbody tr th:only-of-type {\n",
       "        vertical-align: middle;\n",
       "    }\n",
       "\n",
       "    .dataframe tbody tr th {\n",
       "        vertical-align: top;\n",
       "    }\n",
       "\n",
       "    .dataframe thead th {\n",
       "        text-align: right;\n",
       "    }\n",
       "</style>\n",
       "<table border=\"1\" class=\"dataframe\">\n",
       "  <thead>\n",
       "    <tr style=\"text-align: right;\">\n",
       "      <th></th>\n",
       "      <th>Ann</th>\n",
       "      <th>Bob</th>\n",
       "    </tr>\n",
       "  </thead>\n",
       "  <tbody>\n",
       "    <tr>\n",
       "      <th>2020-08-25</th>\n",
       "      <td>0.062223</td>\n",
       "      <td>1.760995</td>\n",
       "    </tr>\n",
       "    <tr>\n",
       "      <th>2020-09-01</th>\n",
       "      <td>0.058386</td>\n",
       "      <td>-1.317107</td>\n",
       "    </tr>\n",
       "    <tr>\n",
       "      <th>2020-09-08</th>\n",
       "      <td>-0.173459</td>\n",
       "      <td>0.436061</td>\n",
       "    </tr>\n",
       "    <tr>\n",
       "      <th>2020-09-15</th>\n",
       "      <td>0.617496</td>\n",
       "      <td>0.693855</td>\n",
       "    </tr>\n",
       "    <tr>\n",
       "      <th>2020-09-22</th>\n",
       "      <td>-1.074106</td>\n",
       "      <td>0.847441</td>\n",
       "    </tr>\n",
       "    <tr>\n",
       "      <th>2020-09-29</th>\n",
       "      <td>0.376635</td>\n",
       "      <td>-0.279863</td>\n",
       "    </tr>\n",
       "  </tbody>\n",
       "</table>\n",
       "</div>"
      ],
      "text/plain": [
       "                 Ann       Bob\n",
       "2020-08-25  0.062223  1.760995\n",
       "2020-09-01  0.058386 -1.317107\n",
       "2020-09-08 -0.173459  0.436061\n",
       "2020-09-15  0.617496  0.693855\n",
       "2020-09-22 -1.074106  0.847441\n",
       "2020-09-29  0.376635 -0.279863"
      ]
     },
     "execution_count": 107,
     "metadata": {},
     "output_type": "execute_result"
    }
   ],
   "source": [
    "df[['Ann','Bob']]"
   ]
  },
  {
   "cell_type": "code",
   "execution_count": 108,
   "id": "92d424dd-6c33-40d0-a5e9-7f0be320089b",
   "metadata": {},
   "outputs": [
    {
     "data": {
      "text/plain": [
       "pandas.core.frame.DataFrame"
      ]
     },
     "execution_count": 108,
     "metadata": {},
     "output_type": "execute_result"
    }
   ],
   "source": [
    "type(df[['Ann','Bob']])"
   ]
  },
  {
   "cell_type": "code",
   "execution_count": null,
   "id": "cad9d9c1",
   "metadata": {},
   "outputs": [],
   "source": []
  },
  {
   "cell_type": "code",
   "execution_count": 109,
   "id": "6523e273",
   "metadata": {},
   "outputs": [
    {
     "data": {
      "text/html": [
       "<div>\n",
       "<style scoped>\n",
       "    .dataframe tbody tr th:only-of-type {\n",
       "        vertical-align: middle;\n",
       "    }\n",
       "\n",
       "    .dataframe tbody tr th {\n",
       "        vertical-align: top;\n",
       "    }\n",
       "\n",
       "    .dataframe thead th {\n",
       "        text-align: right;\n",
       "    }\n",
       "</style>\n",
       "<table border=\"1\" class=\"dataframe\">\n",
       "  <thead>\n",
       "    <tr style=\"text-align: right;\">\n",
       "      <th></th>\n",
       "      <th>Ann</th>\n",
       "    </tr>\n",
       "  </thead>\n",
       "  <tbody>\n",
       "    <tr>\n",
       "      <th>2020-08-25</th>\n",
       "      <td>0.062223</td>\n",
       "    </tr>\n",
       "    <tr>\n",
       "      <th>2020-09-01</th>\n",
       "      <td>0.058386</td>\n",
       "    </tr>\n",
       "    <tr>\n",
       "      <th>2020-09-08</th>\n",
       "      <td>-0.173459</td>\n",
       "    </tr>\n",
       "    <tr>\n",
       "      <th>2020-09-15</th>\n",
       "      <td>0.617496</td>\n",
       "    </tr>\n",
       "    <tr>\n",
       "      <th>2020-09-22</th>\n",
       "      <td>-1.074106</td>\n",
       "    </tr>\n",
       "    <tr>\n",
       "      <th>2020-09-29</th>\n",
       "      <td>0.376635</td>\n",
       "    </tr>\n",
       "  </tbody>\n",
       "</table>\n",
       "</div>"
      ],
      "text/plain": [
       "                 Ann\n",
       "2020-08-25  0.062223\n",
       "2020-09-01  0.058386\n",
       "2020-09-08 -0.173459\n",
       "2020-09-15  0.617496\n",
       "2020-09-22 -1.074106\n",
       "2020-09-29  0.376635"
      ]
     },
     "execution_count": 109,
     "metadata": {},
     "output_type": "execute_result"
    }
   ],
   "source": [
    "df[['Ann']]"
   ]
  },
  {
   "cell_type": "code",
   "execution_count": null,
   "id": "09914f85",
   "metadata": {},
   "outputs": [],
   "source": []
  },
  {
   "cell_type": "markdown",
   "id": "f56047fc-a058-4a3d-b759-4cdf5e5a6adc",
   "metadata": {},
   "source": [
    "### Select by labels\n",
    "* You could use `.loc` method of `dataframe` to select data by labels. Typical format is like\n",
    "```python\n",
    "df.loc[row_indexer, column_indexer]\n",
    "```\n",
    "* More details can be found here: https://pandas.pydata.org/pandas-docs/stable/user_guide/indexing.html#indexing\n"
   ]
  },
  {
   "cell_type": "code",
   "execution_count": 110,
   "id": "4aecd66b-6299-4ef3-ade1-03c27e3f544b",
   "metadata": {},
   "outputs": [
    {
     "data": {
      "text/plain": [
       "DatetimeIndex(['2020-08-25', '2020-09-01', '2020-09-08', '2020-09-15',\n",
       "               '2020-09-22', '2020-09-29', '2020-10-06', '2020-10-13',\n",
       "               '2020-10-20', '2020-10-27', '2020-11-03', '2020-11-10',\n",
       "               '2020-11-17', '2020-11-24', '2020-12-01'],\n",
       "              dtype='datetime64[ns]', freq=None)"
      ]
     },
     "execution_count": 110,
     "metadata": {},
     "output_type": "execute_result"
    }
   ],
   "source": [
    "dates = pd.date_range(start='20200825', end='20201201', periods=15)\n",
    "dates"
   ]
  },
  {
   "cell_type": "code",
   "execution_count": 111,
   "id": "013cd3aa-77c2-43bc-b852-0d13e15bc5b8",
   "metadata": {},
   "outputs": [
    {
     "data": {
      "text/html": [
       "<div>\n",
       "<style scoped>\n",
       "    .dataframe tbody tr th:only-of-type {\n",
       "        vertical-align: middle;\n",
       "    }\n",
       "\n",
       "    .dataframe tbody tr th {\n",
       "        vertical-align: top;\n",
       "    }\n",
       "\n",
       "    .dataframe thead th {\n",
       "        text-align: right;\n",
       "    }\n",
       "</style>\n",
       "<table border=\"1\" class=\"dataframe\">\n",
       "  <thead>\n",
       "    <tr style=\"text-align: right;\">\n",
       "      <th></th>\n",
       "      <th>Ann</th>\n",
       "      <th>Bob</th>\n",
       "      <th>Charly</th>\n",
       "      <th>Don</th>\n",
       "    </tr>\n",
       "  </thead>\n",
       "  <tbody>\n",
       "    <tr>\n",
       "      <th>2020-08-25</th>\n",
       "      <td>0.062223</td>\n",
       "      <td>1.760995</td>\n",
       "      <td>-0.564789</td>\n",
       "      <td>-0.377276</td>\n",
       "    </tr>\n",
       "    <tr>\n",
       "      <th>2020-09-01</th>\n",
       "      <td>0.058386</td>\n",
       "      <td>-1.317107</td>\n",
       "      <td>0.789512</td>\n",
       "      <td>0.579092</td>\n",
       "    </tr>\n",
       "    <tr>\n",
       "      <th>2020-09-08</th>\n",
       "      <td>-0.173459</td>\n",
       "      <td>0.436061</td>\n",
       "      <td>-0.469290</td>\n",
       "      <td>1.605012</td>\n",
       "    </tr>\n",
       "    <tr>\n",
       "      <th>2020-09-15</th>\n",
       "      <td>0.617496</td>\n",
       "      <td>0.693855</td>\n",
       "      <td>0.646148</td>\n",
       "      <td>0.627287</td>\n",
       "    </tr>\n",
       "    <tr>\n",
       "      <th>2020-09-22</th>\n",
       "      <td>-1.074106</td>\n",
       "      <td>0.847441</td>\n",
       "      <td>0.421393</td>\n",
       "      <td>-0.408364</td>\n",
       "    </tr>\n",
       "    <tr>\n",
       "      <th>2020-09-29</th>\n",
       "      <td>0.376635</td>\n",
       "      <td>-0.279863</td>\n",
       "      <td>-0.701821</td>\n",
       "      <td>-0.500150</td>\n",
       "    </tr>\n",
       "  </tbody>\n",
       "</table>\n",
       "</div>"
      ],
      "text/plain": [
       "                 Ann       Bob    Charly       Don\n",
       "2020-08-25  0.062223  1.760995 -0.564789 -0.377276\n",
       "2020-09-01  0.058386 -1.317107  0.789512  0.579092\n",
       "2020-09-08 -0.173459  0.436061 -0.469290  1.605012\n",
       "2020-09-15  0.617496  0.693855  0.646148  0.627287\n",
       "2020-09-22 -1.074106  0.847441  0.421393 -0.408364\n",
       "2020-09-29  0.376635 -0.279863 -0.701821 -0.500150"
      ]
     },
     "execution_count": 111,
     "metadata": {},
     "output_type": "execute_result"
    }
   ],
   "source": [
    "df"
   ]
  },
  {
   "cell_type": "code",
   "execution_count": 112,
   "id": "ec6d74d5-00c5-4719-93b3-5360204695be",
   "metadata": {},
   "outputs": [
    {
     "data": {
      "text/plain": [
       "DatetimeIndex(['2020-08-25', '2020-09-01', '2020-09-08', '2020-09-15',\n",
       "               '2020-09-22', '2020-09-29'],\n",
       "              dtype='datetime64[ns]', freq='7D')"
      ]
     },
     "execution_count": 112,
     "metadata": {},
     "output_type": "execute_result"
    }
   ],
   "source": [
    "df.index"
   ]
  },
  {
   "cell_type": "code",
   "execution_count": 113,
   "id": "1d68e38e-c67b-4de0-95b5-1c6cb5054a76",
   "metadata": {},
   "outputs": [
    {
     "data": {
      "text/plain": [
       "Timestamp('2020-08-25 00:00:00')"
      ]
     },
     "execution_count": 113,
     "metadata": {},
     "output_type": "execute_result"
    }
   ],
   "source": [
    "dates[0]"
   ]
  },
  {
   "cell_type": "code",
   "execution_count": 114,
   "id": "8ebeed69-ca52-4244-97a8-0dc3a750cd78",
   "metadata": {},
   "outputs": [
    {
     "data": {
      "text/plain": [
       "Ann       0.062223\n",
       "Bob       1.760995\n",
       "Charly   -0.564789\n",
       "Don      -0.377276\n",
       "Name: 2020-08-25 00:00:00, dtype: float64"
      ]
     },
     "execution_count": 114,
     "metadata": {},
     "output_type": "execute_result"
    }
   ],
   "source": [
    "# by row label\n",
    "df.loc[dates[0]]"
   ]
  },
  {
   "cell_type": "code",
   "execution_count": 116,
   "id": "d8424864",
   "metadata": {},
   "outputs": [
    {
     "data": {
      "text/html": [
       "<div>\n",
       "<style scoped>\n",
       "    .dataframe tbody tr th:only-of-type {\n",
       "        vertical-align: middle;\n",
       "    }\n",
       "\n",
       "    .dataframe tbody tr th {\n",
       "        vertical-align: top;\n",
       "    }\n",
       "\n",
       "    .dataframe thead th {\n",
       "        text-align: right;\n",
       "    }\n",
       "</style>\n",
       "<table border=\"1\" class=\"dataframe\">\n",
       "  <thead>\n",
       "    <tr style=\"text-align: right;\">\n",
       "      <th></th>\n",
       "      <th>Ann</th>\n",
       "      <th>Bob</th>\n",
       "      <th>Charly</th>\n",
       "      <th>Don</th>\n",
       "    </tr>\n",
       "  </thead>\n",
       "  <tbody>\n",
       "    <tr>\n",
       "      <th>2020-08-25</th>\n",
       "      <td>0.062223</td>\n",
       "      <td>1.760995</td>\n",
       "      <td>-0.564789</td>\n",
       "      <td>-0.377276</td>\n",
       "    </tr>\n",
       "  </tbody>\n",
       "</table>\n",
       "</div>"
      ],
      "text/plain": [
       "                 Ann       Bob    Charly       Don\n",
       "2020-08-25  0.062223  1.760995 -0.564789 -0.377276"
      ]
     },
     "execution_count": 116,
     "metadata": {},
     "output_type": "execute_result"
    }
   ],
   "source": [
    "df.loc[[dates[0]]]"
   ]
  },
  {
   "cell_type": "code",
   "execution_count": null,
   "id": "315437cb",
   "metadata": {},
   "outputs": [],
   "source": []
  },
  {
   "cell_type": "code",
   "execution_count": 115,
   "id": "2ac2709b-0d76-416f-a03e-92f1e427ecd1",
   "metadata": {},
   "outputs": [
    {
     "data": {
      "text/html": [
       "<div>\n",
       "<style scoped>\n",
       "    .dataframe tbody tr th:only-of-type {\n",
       "        vertical-align: middle;\n",
       "    }\n",
       "\n",
       "    .dataframe tbody tr th {\n",
       "        vertical-align: top;\n",
       "    }\n",
       "\n",
       "    .dataframe thead th {\n",
       "        text-align: right;\n",
       "    }\n",
       "</style>\n",
       "<table border=\"1\" class=\"dataframe\">\n",
       "  <thead>\n",
       "    <tr style=\"text-align: right;\">\n",
       "      <th></th>\n",
       "      <th>Ann</th>\n",
       "      <th>Bob</th>\n",
       "    </tr>\n",
       "  </thead>\n",
       "  <tbody>\n",
       "    <tr>\n",
       "      <th>2020-08-25</th>\n",
       "      <td>0.062223</td>\n",
       "      <td>1.760995</td>\n",
       "    </tr>\n",
       "    <tr>\n",
       "      <th>2020-09-01</th>\n",
       "      <td>0.058386</td>\n",
       "      <td>-1.317107</td>\n",
       "    </tr>\n",
       "  </tbody>\n",
       "</table>\n",
       "</div>"
      ],
      "text/plain": [
       "                 Ann       Bob\n",
       "2020-08-25  0.062223  1.760995\n",
       "2020-09-01  0.058386 -1.317107"
      ]
     },
     "execution_count": 115,
     "metadata": {},
     "output_type": "execute_result"
    }
   ],
   "source": [
    "# by row and column label\n",
    "df.loc[dates[0:2],['Ann','Bob']]"
   ]
  },
  {
   "cell_type": "code",
   "execution_count": 117,
   "id": "63781452-f821-456c-afea-fff0dd3ea17a",
   "metadata": {},
   "outputs": [
    {
     "data": {
      "text/plain": [
       "Ann    0.062223\n",
       "Bob    1.760995\n",
       "Name: 2020-08-25 00:00:00, dtype: float64"
      ]
     },
     "execution_count": 117,
     "metadata": {},
     "output_type": "execute_result"
    }
   ],
   "source": [
    "df.loc['2020-08-25',['Ann','Bob']] # get a Series"
   ]
  },
  {
   "cell_type": "code",
   "execution_count": 118,
   "id": "c4e96f78-be9b-4117-83b5-2a288674c197",
   "metadata": {},
   "outputs": [
    {
     "data": {
      "text/html": [
       "<div>\n",
       "<style scoped>\n",
       "    .dataframe tbody tr th:only-of-type {\n",
       "        vertical-align: middle;\n",
       "    }\n",
       "\n",
       "    .dataframe tbody tr th {\n",
       "        vertical-align: top;\n",
       "    }\n",
       "\n",
       "    .dataframe thead th {\n",
       "        text-align: right;\n",
       "    }\n",
       "</style>\n",
       "<table border=\"1\" class=\"dataframe\">\n",
       "  <thead>\n",
       "    <tr style=\"text-align: right;\">\n",
       "      <th></th>\n",
       "      <th>Ann</th>\n",
       "      <th>Bob</th>\n",
       "    </tr>\n",
       "  </thead>\n",
       "  <tbody>\n",
       "    <tr>\n",
       "      <th>2020-08-25</th>\n",
       "      <td>0.062223</td>\n",
       "      <td>1.760995</td>\n",
       "    </tr>\n",
       "    <tr>\n",
       "      <th>2020-09-01</th>\n",
       "      <td>0.058386</td>\n",
       "      <td>-1.317107</td>\n",
       "    </tr>\n",
       "    <tr>\n",
       "      <th>2020-09-08</th>\n",
       "      <td>-0.173459</td>\n",
       "      <td>0.436061</td>\n",
       "    </tr>\n",
       "  </tbody>\n",
       "</table>\n",
       "</div>"
      ],
      "text/plain": [
       "                 Ann       Bob\n",
       "2020-08-25  0.062223  1.760995\n",
       "2020-09-01  0.058386 -1.317107\n",
       "2020-09-08 -0.173459  0.436061"
      ]
     },
     "execution_count": 118,
     "metadata": {},
     "output_type": "execute_result"
    }
   ],
   "source": [
    "df.loc['2020-08-25':'2020-09-08',['Ann','Bob']] # note here the row for '2020-09-08' is also displayed"
   ]
  },
  {
   "cell_type": "code",
   "execution_count": 119,
   "id": "556e2afb-b909-460b-a766-0f3a1c9c8505",
   "metadata": {},
   "outputs": [
    {
     "data": {
      "text/html": [
       "<div>\n",
       "<style scoped>\n",
       "    .dataframe tbody tr th:only-of-type {\n",
       "        vertical-align: middle;\n",
       "    }\n",
       "\n",
       "    .dataframe tbody tr th {\n",
       "        vertical-align: top;\n",
       "    }\n",
       "\n",
       "    .dataframe thead th {\n",
       "        text-align: right;\n",
       "    }\n",
       "</style>\n",
       "<table border=\"1\" class=\"dataframe\">\n",
       "  <thead>\n",
       "    <tr style=\"text-align: right;\">\n",
       "      <th></th>\n",
       "      <th>Ann</th>\n",
       "    </tr>\n",
       "  </thead>\n",
       "  <tbody>\n",
       "    <tr>\n",
       "      <th>2020-08-25</th>\n",
       "      <td>0.062223</td>\n",
       "    </tr>\n",
       "    <tr>\n",
       "      <th>2020-09-01</th>\n",
       "      <td>0.058386</td>\n",
       "    </tr>\n",
       "    <tr>\n",
       "      <th>2020-09-08</th>\n",
       "      <td>-0.173459</td>\n",
       "    </tr>\n",
       "    <tr>\n",
       "      <th>2020-09-15</th>\n",
       "      <td>0.617496</td>\n",
       "    </tr>\n",
       "    <tr>\n",
       "      <th>2020-09-22</th>\n",
       "      <td>-1.074106</td>\n",
       "    </tr>\n",
       "    <tr>\n",
       "      <th>2020-09-29</th>\n",
       "      <td>0.376635</td>\n",
       "    </tr>\n",
       "  </tbody>\n",
       "</table>\n",
       "</div>"
      ],
      "text/plain": [
       "                 Ann\n",
       "2020-08-25  0.062223\n",
       "2020-09-01  0.058386\n",
       "2020-09-08 -0.173459\n",
       "2020-09-15  0.617496\n",
       "2020-09-22 -1.074106\n",
       "2020-09-29  0.376635"
      ]
     },
     "execution_count": 119,
     "metadata": {},
     "output_type": "execute_result"
    }
   ],
   "source": [
    "# by column label only\n",
    "df.loc[:,['Ann']] # note that you'll get a dataframe instead of a Series"
   ]
  },
  {
   "cell_type": "code",
   "execution_count": 120,
   "id": "d7ebfab5-9f30-43ab-9b75-92bb72e7f959",
   "metadata": {},
   "outputs": [
    {
     "data": {
      "text/plain": [
       "0.062223322476072096"
      ]
     },
     "execution_count": 120,
     "metadata": {},
     "output_type": "execute_result"
    }
   ],
   "source": [
    "# what if I just want to get the value of a particular cell?\n",
    "df.loc['2020-08-25','Ann']"
   ]
  },
  {
   "cell_type": "code",
   "execution_count": 121,
   "id": "2ac916d8-18f3-4a07-8368-d02afff6a4b2",
   "metadata": {},
   "outputs": [
    {
     "data": {
      "text/plain": [
       "0.062223322476072096"
      ]
     },
     "execution_count": 121,
     "metadata": {},
     "output_type": "execute_result"
    }
   ],
   "source": [
    "# you can also do\n",
    "df.at['2020-08-25','Ann']"
   ]
  },
  {
   "cell_type": "markdown",
   "id": "91c792cb-b146-4f9e-b6d7-4a931e78d791",
   "metadata": {},
   "source": [
    "### Select by Position\n",
    "\n",
    "* You could use `.iloc` method of `dataframe` to select data by labels. Typical format is like\n",
    "```python\n",
    "df.iloc[row_position_indexer, column_position_indexer]\n",
    "```\n",
    "* More details can be found here: https://pandas.pydata.org/pandas-docs/stable/user_guide/indexing.html#indexing"
   ]
  },
  {
   "cell_type": "code",
   "execution_count": 122,
   "id": "26fe6e15-c3a9-4130-9f02-85ab6fa35ecc",
   "metadata": {},
   "outputs": [
    {
     "data": {
      "text/html": [
       "<div>\n",
       "<style scoped>\n",
       "    .dataframe tbody tr th:only-of-type {\n",
       "        vertical-align: middle;\n",
       "    }\n",
       "\n",
       "    .dataframe tbody tr th {\n",
       "        vertical-align: top;\n",
       "    }\n",
       "\n",
       "    .dataframe thead th {\n",
       "        text-align: right;\n",
       "    }\n",
       "</style>\n",
       "<table border=\"1\" class=\"dataframe\">\n",
       "  <thead>\n",
       "    <tr style=\"text-align: right;\">\n",
       "      <th></th>\n",
       "      <th>Ann</th>\n",
       "      <th>Bob</th>\n",
       "      <th>Charly</th>\n",
       "      <th>Don</th>\n",
       "    </tr>\n",
       "  </thead>\n",
       "  <tbody>\n",
       "    <tr>\n",
       "      <th>2020-08-25</th>\n",
       "      <td>0.062223</td>\n",
       "      <td>1.760995</td>\n",
       "      <td>-0.564789</td>\n",
       "      <td>-0.377276</td>\n",
       "    </tr>\n",
       "    <tr>\n",
       "      <th>2020-09-01</th>\n",
       "      <td>0.058386</td>\n",
       "      <td>-1.317107</td>\n",
       "      <td>0.789512</td>\n",
       "      <td>0.579092</td>\n",
       "    </tr>\n",
       "    <tr>\n",
       "      <th>2020-09-08</th>\n",
       "      <td>-0.173459</td>\n",
       "      <td>0.436061</td>\n",
       "      <td>-0.469290</td>\n",
       "      <td>1.605012</td>\n",
       "    </tr>\n",
       "    <tr>\n",
       "      <th>2020-09-15</th>\n",
       "      <td>0.617496</td>\n",
       "      <td>0.693855</td>\n",
       "      <td>0.646148</td>\n",
       "      <td>0.627287</td>\n",
       "    </tr>\n",
       "    <tr>\n",
       "      <th>2020-09-22</th>\n",
       "      <td>-1.074106</td>\n",
       "      <td>0.847441</td>\n",
       "      <td>0.421393</td>\n",
       "      <td>-0.408364</td>\n",
       "    </tr>\n",
       "    <tr>\n",
       "      <th>2020-09-29</th>\n",
       "      <td>0.376635</td>\n",
       "      <td>-0.279863</td>\n",
       "      <td>-0.701821</td>\n",
       "      <td>-0.500150</td>\n",
       "    </tr>\n",
       "  </tbody>\n",
       "</table>\n",
       "</div>"
      ],
      "text/plain": [
       "                 Ann       Bob    Charly       Don\n",
       "2020-08-25  0.062223  1.760995 -0.564789 -0.377276\n",
       "2020-09-01  0.058386 -1.317107  0.789512  0.579092\n",
       "2020-09-08 -0.173459  0.436061 -0.469290  1.605012\n",
       "2020-09-15  0.617496  0.693855  0.646148  0.627287\n",
       "2020-09-22 -1.074106  0.847441  0.421393 -0.408364\n",
       "2020-09-29  0.376635 -0.279863 -0.701821 -0.500150"
      ]
     },
     "execution_count": 122,
     "metadata": {},
     "output_type": "execute_result"
    }
   ],
   "source": [
    "df"
   ]
  },
  {
   "cell_type": "code",
   "execution_count": 123,
   "id": "959da867-e02d-421c-8f77-cbb1291b4a39",
   "metadata": {},
   "outputs": [
    {
     "data": {
      "text/plain": [
       "Ann       0.062223\n",
       "Bob       1.760995\n",
       "Charly   -0.564789\n",
       "Don      -0.377276\n",
       "Name: 2020-08-25 00:00:00, dtype: float64"
      ]
     },
     "execution_count": 123,
     "metadata": {},
     "output_type": "execute_result"
    }
   ],
   "source": [
    "# select by row position\n",
    "df.iloc[0]"
   ]
  },
  {
   "cell_type": "code",
   "execution_count": 124,
   "id": "28e90e05-79ab-406d-afac-337a85299638",
   "metadata": {},
   "outputs": [
    {
     "data": {
      "text/html": [
       "<div>\n",
       "<style scoped>\n",
       "    .dataframe tbody tr th:only-of-type {\n",
       "        vertical-align: middle;\n",
       "    }\n",
       "\n",
       "    .dataframe tbody tr th {\n",
       "        vertical-align: top;\n",
       "    }\n",
       "\n",
       "    .dataframe thead th {\n",
       "        text-align: right;\n",
       "    }\n",
       "</style>\n",
       "<table border=\"1\" class=\"dataframe\">\n",
       "  <thead>\n",
       "    <tr style=\"text-align: right;\">\n",
       "      <th></th>\n",
       "      <th>Ann</th>\n",
       "      <th>Bob</th>\n",
       "      <th>Charly</th>\n",
       "      <th>Don</th>\n",
       "    </tr>\n",
       "  </thead>\n",
       "  <tbody>\n",
       "    <tr>\n",
       "      <th>2020-08-25</th>\n",
       "      <td>0.062223</td>\n",
       "      <td>1.760995</td>\n",
       "      <td>-0.564789</td>\n",
       "      <td>-0.377276</td>\n",
       "    </tr>\n",
       "    <tr>\n",
       "      <th>2020-09-01</th>\n",
       "      <td>0.058386</td>\n",
       "      <td>-1.317107</td>\n",
       "      <td>0.789512</td>\n",
       "      <td>0.579092</td>\n",
       "    </tr>\n",
       "  </tbody>\n",
       "</table>\n",
       "</div>"
      ],
      "text/plain": [
       "                 Ann       Bob    Charly       Don\n",
       "2020-08-25  0.062223  1.760995 -0.564789 -0.377276\n",
       "2020-09-01  0.058386 -1.317107  0.789512  0.579092"
      ]
     },
     "execution_count": 124,
     "metadata": {},
     "output_type": "execute_result"
    }
   ],
   "source": [
    "# select by row position range\n",
    "df.iloc[0:2] # note that only the only one end of the range is included, different from df.loc"
   ]
  },
  {
   "cell_type": "code",
   "execution_count": 125,
   "id": "58010fea-88e0-409f-ae70-79631a19b69d",
   "metadata": {},
   "outputs": [
    {
     "data": {
      "text/html": [
       "<div>\n",
       "<style scoped>\n",
       "    .dataframe tbody tr th:only-of-type {\n",
       "        vertical-align: middle;\n",
       "    }\n",
       "\n",
       "    .dataframe tbody tr th {\n",
       "        vertical-align: top;\n",
       "    }\n",
       "\n",
       "    .dataframe thead th {\n",
       "        text-align: right;\n",
       "    }\n",
       "</style>\n",
       "<table border=\"1\" class=\"dataframe\">\n",
       "  <thead>\n",
       "    <tr style=\"text-align: right;\">\n",
       "      <th></th>\n",
       "      <th>Ann</th>\n",
       "      <th>Bob</th>\n",
       "      <th>Charly</th>\n",
       "      <th>Don</th>\n",
       "    </tr>\n",
       "  </thead>\n",
       "  <tbody>\n",
       "    <tr>\n",
       "      <th>2020-08-25</th>\n",
       "      <td>0.062223</td>\n",
       "      <td>1.760995</td>\n",
       "      <td>-0.564789</td>\n",
       "      <td>-0.377276</td>\n",
       "    </tr>\n",
       "    <tr>\n",
       "      <th>2020-09-01</th>\n",
       "      <td>0.058386</td>\n",
       "      <td>-1.317107</td>\n",
       "      <td>0.789512</td>\n",
       "      <td>0.579092</td>\n",
       "    </tr>\n",
       "  </tbody>\n",
       "</table>\n",
       "</div>"
      ],
      "text/plain": [
       "                 Ann       Bob    Charly       Don\n",
       "2020-08-25  0.062223  1.760995 -0.564789 -0.377276\n",
       "2020-09-01  0.058386 -1.317107  0.789512  0.579092"
      ]
     },
     "execution_count": 125,
     "metadata": {},
     "output_type": "execute_result"
    }
   ],
   "source": [
    "# you can also do\n",
    "df.iloc[0:2,]"
   ]
  },
  {
   "cell_type": "code",
   "execution_count": 126,
   "id": "0e9ee5d5",
   "metadata": {},
   "outputs": [
    {
     "data": {
      "text/html": [
       "<div>\n",
       "<style scoped>\n",
       "    .dataframe tbody tr th:only-of-type {\n",
       "        vertical-align: middle;\n",
       "    }\n",
       "\n",
       "    .dataframe tbody tr th {\n",
       "        vertical-align: top;\n",
       "    }\n",
       "\n",
       "    .dataframe thead th {\n",
       "        text-align: right;\n",
       "    }\n",
       "</style>\n",
       "<table border=\"1\" class=\"dataframe\">\n",
       "  <thead>\n",
       "    <tr style=\"text-align: right;\">\n",
       "      <th></th>\n",
       "      <th>Ann</th>\n",
       "      <th>Bob</th>\n",
       "      <th>Charly</th>\n",
       "      <th>Don</th>\n",
       "    </tr>\n",
       "  </thead>\n",
       "  <tbody>\n",
       "    <tr>\n",
       "      <th>2020-08-25</th>\n",
       "      <td>0.062223</td>\n",
       "      <td>1.760995</td>\n",
       "      <td>-0.564789</td>\n",
       "      <td>-0.377276</td>\n",
       "    </tr>\n",
       "    <tr>\n",
       "      <th>2020-09-01</th>\n",
       "      <td>0.058386</td>\n",
       "      <td>-1.317107</td>\n",
       "      <td>0.789512</td>\n",
       "      <td>0.579092</td>\n",
       "    </tr>\n",
       "  </tbody>\n",
       "</table>\n",
       "</div>"
      ],
      "text/plain": [
       "                 Ann       Bob    Charly       Don\n",
       "2020-08-25  0.062223  1.760995 -0.564789 -0.377276\n",
       "2020-09-01  0.058386 -1.317107  0.789512  0.579092"
      ]
     },
     "execution_count": 126,
     "metadata": {},
     "output_type": "execute_result"
    }
   ],
   "source": [
    "df.iloc[0:2,:]"
   ]
  },
  {
   "cell_type": "code",
   "execution_count": null,
   "id": "cf411477",
   "metadata": {},
   "outputs": [],
   "source": []
  },
  {
   "cell_type": "code",
   "execution_count": 127,
   "id": "f2037d9a-f731-4c43-898e-257c149b5b6f",
   "metadata": {},
   "outputs": [
    {
     "data": {
      "text/html": [
       "<div>\n",
       "<style scoped>\n",
       "    .dataframe tbody tr th:only-of-type {\n",
       "        vertical-align: middle;\n",
       "    }\n",
       "\n",
       "    .dataframe tbody tr th {\n",
       "        vertical-align: top;\n",
       "    }\n",
       "\n",
       "    .dataframe thead th {\n",
       "        text-align: right;\n",
       "    }\n",
       "</style>\n",
       "<table border=\"1\" class=\"dataframe\">\n",
       "  <thead>\n",
       "    <tr style=\"text-align: right;\">\n",
       "      <th></th>\n",
       "      <th>Ann</th>\n",
       "      <th>Bob</th>\n",
       "    </tr>\n",
       "  </thead>\n",
       "  <tbody>\n",
       "    <tr>\n",
       "      <th>2020-08-25</th>\n",
       "      <td>0.062223</td>\n",
       "      <td>1.760995</td>\n",
       "    </tr>\n",
       "    <tr>\n",
       "      <th>2020-09-01</th>\n",
       "      <td>0.058386</td>\n",
       "      <td>-1.317107</td>\n",
       "    </tr>\n",
       "    <tr>\n",
       "      <th>2020-09-08</th>\n",
       "      <td>-0.173459</td>\n",
       "      <td>0.436061</td>\n",
       "    </tr>\n",
       "    <tr>\n",
       "      <th>2020-09-15</th>\n",
       "      <td>0.617496</td>\n",
       "      <td>0.693855</td>\n",
       "    </tr>\n",
       "    <tr>\n",
       "      <th>2020-09-22</th>\n",
       "      <td>-1.074106</td>\n",
       "      <td>0.847441</td>\n",
       "    </tr>\n",
       "    <tr>\n",
       "      <th>2020-09-29</th>\n",
       "      <td>0.376635</td>\n",
       "      <td>-0.279863</td>\n",
       "    </tr>\n",
       "  </tbody>\n",
       "</table>\n",
       "</div>"
      ],
      "text/plain": [
       "                 Ann       Bob\n",
       "2020-08-25  0.062223  1.760995\n",
       "2020-09-01  0.058386 -1.317107\n",
       "2020-09-08 -0.173459  0.436061\n",
       "2020-09-15  0.617496  0.693855\n",
       "2020-09-22 -1.074106  0.847441\n",
       "2020-09-29  0.376635 -0.279863"
      ]
     },
     "execution_count": 127,
     "metadata": {},
     "output_type": "execute_result"
    }
   ],
   "source": [
    "# select by column position range\n",
    "df.iloc[:,0:2]"
   ]
  },
  {
   "cell_type": "code",
   "execution_count": 128,
   "id": "edbabd91-0a60-4801-8261-8b79f3aafe72",
   "metadata": {},
   "outputs": [
    {
     "data": {
      "text/html": [
       "<div>\n",
       "<style scoped>\n",
       "    .dataframe tbody tr th:only-of-type {\n",
       "        vertical-align: middle;\n",
       "    }\n",
       "\n",
       "    .dataframe tbody tr th {\n",
       "        vertical-align: top;\n",
       "    }\n",
       "\n",
       "    .dataframe thead th {\n",
       "        text-align: right;\n",
       "    }\n",
       "</style>\n",
       "<table border=\"1\" class=\"dataframe\">\n",
       "  <thead>\n",
       "    <tr style=\"text-align: right;\">\n",
       "      <th></th>\n",
       "      <th>Ann</th>\n",
       "      <th>Bob</th>\n",
       "    </tr>\n",
       "  </thead>\n",
       "  <tbody>\n",
       "    <tr>\n",
       "      <th>2020-08-25</th>\n",
       "      <td>0.062223</td>\n",
       "      <td>1.760995</td>\n",
       "    </tr>\n",
       "    <tr>\n",
       "      <th>2020-09-01</th>\n",
       "      <td>0.058386</td>\n",
       "      <td>-1.317107</td>\n",
       "    </tr>\n",
       "  </tbody>\n",
       "</table>\n",
       "</div>"
      ],
      "text/plain": [
       "                 Ann       Bob\n",
       "2020-08-25  0.062223  1.760995\n",
       "2020-09-01  0.058386 -1.317107"
      ]
     },
     "execution_count": 128,
     "metadata": {},
     "output_type": "execute_result"
    }
   ],
   "source": [
    "# select by row and column position range\n",
    "df.iloc[0:2,0:2]"
   ]
  },
  {
   "cell_type": "code",
   "execution_count": 129,
   "id": "d17fdee2-8011-46a5-bcf4-87b36732eef4",
   "metadata": {},
   "outputs": [
    {
     "data": {
      "text/plain": [
       "0.062223322476072096"
      ]
     },
     "execution_count": 129,
     "metadata": {},
     "output_type": "execute_result"
    }
   ],
   "source": [
    "# what if I just want to get the value of a particular cell?\n",
    "df.iloc[0,0]"
   ]
  },
  {
   "cell_type": "code",
   "execution_count": 130,
   "id": "4c31f839-b60c-44a5-bf38-6d0ade96b9a4",
   "metadata": {},
   "outputs": [
    {
     "data": {
      "text/plain": [
       "0.062223322476072096"
      ]
     },
     "execution_count": 130,
     "metadata": {},
     "output_type": "execute_result"
    }
   ],
   "source": [
    "# you can also do\n",
    "df.iat[0,0]"
   ]
  },
  {
   "cell_type": "code",
   "execution_count": null,
   "id": "273a0dde",
   "metadata": {},
   "outputs": [],
   "source": []
  },
  {
   "cell_type": "markdown",
   "id": "b4947aaa-87b7-46b7-8794-f238ab71697d",
   "metadata": {},
   "source": [
    "### Select by conditions"
   ]
  },
  {
   "cell_type": "code",
   "execution_count": 131,
   "id": "ab44bccc-ecef-4cf6-b5b5-32a809b431fd",
   "metadata": {},
   "outputs": [
    {
     "data": {
      "text/html": [
       "<div>\n",
       "<style scoped>\n",
       "    .dataframe tbody tr th:only-of-type {\n",
       "        vertical-align: middle;\n",
       "    }\n",
       "\n",
       "    .dataframe tbody tr th {\n",
       "        vertical-align: top;\n",
       "    }\n",
       "\n",
       "    .dataframe thead th {\n",
       "        text-align: right;\n",
       "    }\n",
       "</style>\n",
       "<table border=\"1\" class=\"dataframe\">\n",
       "  <thead>\n",
       "    <tr style=\"text-align: right;\">\n",
       "      <th></th>\n",
       "      <th>Ann</th>\n",
       "      <th>Bob</th>\n",
       "      <th>Charly</th>\n",
       "      <th>Don</th>\n",
       "    </tr>\n",
       "  </thead>\n",
       "  <tbody>\n",
       "    <tr>\n",
       "      <th>2020-08-25</th>\n",
       "      <td>0.062223</td>\n",
       "      <td>1.760995</td>\n",
       "      <td>-0.564789</td>\n",
       "      <td>-0.377276</td>\n",
       "    </tr>\n",
       "    <tr>\n",
       "      <th>2020-09-01</th>\n",
       "      <td>0.058386</td>\n",
       "      <td>-1.317107</td>\n",
       "      <td>0.789512</td>\n",
       "      <td>0.579092</td>\n",
       "    </tr>\n",
       "    <tr>\n",
       "      <th>2020-09-08</th>\n",
       "      <td>-0.173459</td>\n",
       "      <td>0.436061</td>\n",
       "      <td>-0.469290</td>\n",
       "      <td>1.605012</td>\n",
       "    </tr>\n",
       "    <tr>\n",
       "      <th>2020-09-15</th>\n",
       "      <td>0.617496</td>\n",
       "      <td>0.693855</td>\n",
       "      <td>0.646148</td>\n",
       "      <td>0.627287</td>\n",
       "    </tr>\n",
       "    <tr>\n",
       "      <th>2020-09-22</th>\n",
       "      <td>-1.074106</td>\n",
       "      <td>0.847441</td>\n",
       "      <td>0.421393</td>\n",
       "      <td>-0.408364</td>\n",
       "    </tr>\n",
       "    <tr>\n",
       "      <th>2020-09-29</th>\n",
       "      <td>0.376635</td>\n",
       "      <td>-0.279863</td>\n",
       "      <td>-0.701821</td>\n",
       "      <td>-0.500150</td>\n",
       "    </tr>\n",
       "  </tbody>\n",
       "</table>\n",
       "</div>"
      ],
      "text/plain": [
       "                 Ann       Bob    Charly       Don\n",
       "2020-08-25  0.062223  1.760995 -0.564789 -0.377276\n",
       "2020-09-01  0.058386 -1.317107  0.789512  0.579092\n",
       "2020-09-08 -0.173459  0.436061 -0.469290  1.605012\n",
       "2020-09-15  0.617496  0.693855  0.646148  0.627287\n",
       "2020-09-22 -1.074106  0.847441  0.421393 -0.408364\n",
       "2020-09-29  0.376635 -0.279863 -0.701821 -0.500150"
      ]
     },
     "execution_count": 131,
     "metadata": {},
     "output_type": "execute_result"
    }
   ],
   "source": [
    "df"
   ]
  },
  {
   "cell_type": "code",
   "execution_count": 132,
   "id": "eb39bfe5-9109-4dc5-9003-fabe9d2928c3",
   "metadata": {},
   "outputs": [
    {
     "data": {
      "text/html": [
       "<div>\n",
       "<style scoped>\n",
       "    .dataframe tbody tr th:only-of-type {\n",
       "        vertical-align: middle;\n",
       "    }\n",
       "\n",
       "    .dataframe tbody tr th {\n",
       "        vertical-align: top;\n",
       "    }\n",
       "\n",
       "    .dataframe thead th {\n",
       "        text-align: right;\n",
       "    }\n",
       "</style>\n",
       "<table border=\"1\" class=\"dataframe\">\n",
       "  <thead>\n",
       "    <tr style=\"text-align: right;\">\n",
       "      <th></th>\n",
       "      <th>Ann</th>\n",
       "      <th>Bob</th>\n",
       "      <th>Charly</th>\n",
       "      <th>Don</th>\n",
       "    </tr>\n",
       "  </thead>\n",
       "  <tbody>\n",
       "    <tr>\n",
       "      <th>2020-08-25</th>\n",
       "      <td>0.062223</td>\n",
       "      <td>1.760995</td>\n",
       "      <td>-0.564789</td>\n",
       "      <td>-0.377276</td>\n",
       "    </tr>\n",
       "    <tr>\n",
       "      <th>2020-09-01</th>\n",
       "      <td>0.058386</td>\n",
       "      <td>-1.317107</td>\n",
       "      <td>0.789512</td>\n",
       "      <td>0.579092</td>\n",
       "    </tr>\n",
       "    <tr>\n",
       "      <th>2020-09-15</th>\n",
       "      <td>0.617496</td>\n",
       "      <td>0.693855</td>\n",
       "      <td>0.646148</td>\n",
       "      <td>0.627287</td>\n",
       "    </tr>\n",
       "    <tr>\n",
       "      <th>2020-09-29</th>\n",
       "      <td>0.376635</td>\n",
       "      <td>-0.279863</td>\n",
       "      <td>-0.701821</td>\n",
       "      <td>-0.500150</td>\n",
       "    </tr>\n",
       "  </tbody>\n",
       "</table>\n",
       "</div>"
      ],
      "text/plain": [
       "                 Ann       Bob    Charly       Don\n",
       "2020-08-25  0.062223  1.760995 -0.564789 -0.377276\n",
       "2020-09-01  0.058386 -1.317107  0.789512  0.579092\n",
       "2020-09-15  0.617496  0.693855  0.646148  0.627287\n",
       "2020-09-29  0.376635 -0.279863 -0.701821 -0.500150"
      ]
     },
     "execution_count": 132,
     "metadata": {},
     "output_type": "execute_result"
    }
   ],
   "source": [
    "df[df.Ann>=0]"
   ]
  },
  {
   "cell_type": "code",
   "execution_count": 133,
   "id": "cf622051-0d78-4785-b5f9-6007a9a3431d",
   "metadata": {},
   "outputs": [
    {
     "data": {
      "text/html": [
       "<div>\n",
       "<style scoped>\n",
       "    .dataframe tbody tr th:only-of-type {\n",
       "        vertical-align: middle;\n",
       "    }\n",
       "\n",
       "    .dataframe tbody tr th {\n",
       "        vertical-align: top;\n",
       "    }\n",
       "\n",
       "    .dataframe thead th {\n",
       "        text-align: right;\n",
       "    }\n",
       "</style>\n",
       "<table border=\"1\" class=\"dataframe\">\n",
       "  <thead>\n",
       "    <tr style=\"text-align: right;\">\n",
       "      <th></th>\n",
       "      <th>Ann</th>\n",
       "      <th>Bob</th>\n",
       "    </tr>\n",
       "  </thead>\n",
       "  <tbody>\n",
       "    <tr>\n",
       "      <th>2020-08-25</th>\n",
       "      <td>0.062223</td>\n",
       "      <td>1.760995</td>\n",
       "    </tr>\n",
       "    <tr>\n",
       "      <th>2020-09-01</th>\n",
       "      <td>0.058386</td>\n",
       "      <td>-1.317107</td>\n",
       "    </tr>\n",
       "    <tr>\n",
       "      <th>2020-09-15</th>\n",
       "      <td>0.617496</td>\n",
       "      <td>0.693855</td>\n",
       "    </tr>\n",
       "    <tr>\n",
       "      <th>2020-09-29</th>\n",
       "      <td>0.376635</td>\n",
       "      <td>-0.279863</td>\n",
       "    </tr>\n",
       "  </tbody>\n",
       "</table>\n",
       "</div>"
      ],
      "text/plain": [
       "                 Ann       Bob\n",
       "2020-08-25  0.062223  1.760995\n",
       "2020-09-01  0.058386 -1.317107\n",
       "2020-09-15  0.617496  0.693855\n",
       "2020-09-29  0.376635 -0.279863"
      ]
     },
     "execution_count": 133,
     "metadata": {},
     "output_type": "execute_result"
    }
   ],
   "source": [
    "df.loc[df.Ann>=0,['Ann','Bob']]"
   ]
  },
  {
   "cell_type": "code",
   "execution_count": 134,
   "id": "bd9c576c-943e-4943-b481-e6be28e6cebe",
   "metadata": {
    "scrolled": true
   },
   "outputs": [
    {
     "data": {
      "text/html": [
       "<div>\n",
       "<style scoped>\n",
       "    .dataframe tbody tr th:only-of-type {\n",
       "        vertical-align: middle;\n",
       "    }\n",
       "\n",
       "    .dataframe tbody tr th {\n",
       "        vertical-align: top;\n",
       "    }\n",
       "\n",
       "    .dataframe thead th {\n",
       "        text-align: right;\n",
       "    }\n",
       "</style>\n",
       "<table border=\"1\" class=\"dataframe\">\n",
       "  <thead>\n",
       "    <tr style=\"text-align: right;\">\n",
       "      <th></th>\n",
       "      <th>Ann</th>\n",
       "      <th>Bob</th>\n",
       "    </tr>\n",
       "  </thead>\n",
       "  <tbody>\n",
       "    <tr>\n",
       "      <th>2020-08-25</th>\n",
       "      <td>0.062223</td>\n",
       "      <td>1.760995</td>\n",
       "    </tr>\n",
       "    <tr>\n",
       "      <th>2020-09-01</th>\n",
       "      <td>0.058386</td>\n",
       "      <td>-1.317107</td>\n",
       "    </tr>\n",
       "    <tr>\n",
       "      <th>2020-09-08</th>\n",
       "      <td>-0.173459</td>\n",
       "      <td>0.436061</td>\n",
       "    </tr>\n",
       "    <tr>\n",
       "      <th>2020-09-15</th>\n",
       "      <td>0.617496</td>\n",
       "      <td>0.693855</td>\n",
       "    </tr>\n",
       "    <tr>\n",
       "      <th>2020-09-29</th>\n",
       "      <td>0.376635</td>\n",
       "      <td>-0.279863</td>\n",
       "    </tr>\n",
       "  </tbody>\n",
       "</table>\n",
       "</div>"
      ],
      "text/plain": [
       "                 Ann       Bob\n",
       "2020-08-25  0.062223  1.760995\n",
       "2020-09-01  0.058386 -1.317107\n",
       "2020-09-08 -0.173459  0.436061\n",
       "2020-09-15  0.617496  0.693855\n",
       "2020-09-29  0.376635 -0.279863"
      ]
     },
     "execution_count": 134,
     "metadata": {},
     "output_type": "execute_result"
    }
   ],
   "source": [
    "df.loc[(df.Ann>=-0.5)&(df.Ann<=1.4),['Ann','Bob']]"
   ]
  },
  {
   "cell_type": "markdown",
   "id": "322368c7-1757-4516-9ae8-b1b4b7725651",
   "metadata": {},
   "source": [
    "### Set values"
   ]
  },
  {
   "cell_type": "code",
   "execution_count": 135,
   "id": "9308545b-bf5a-4687-b9b3-7553f632d70a",
   "metadata": {},
   "outputs": [
    {
     "data": {
      "text/html": [
       "<div>\n",
       "<style scoped>\n",
       "    .dataframe tbody tr th:only-of-type {\n",
       "        vertical-align: middle;\n",
       "    }\n",
       "\n",
       "    .dataframe tbody tr th {\n",
       "        vertical-align: top;\n",
       "    }\n",
       "\n",
       "    .dataframe thead th {\n",
       "        text-align: right;\n",
       "    }\n",
       "</style>\n",
       "<table border=\"1\" class=\"dataframe\">\n",
       "  <thead>\n",
       "    <tr style=\"text-align: right;\">\n",
       "      <th></th>\n",
       "      <th>Ann</th>\n",
       "      <th>Bob</th>\n",
       "      <th>Charly</th>\n",
       "      <th>Don</th>\n",
       "    </tr>\n",
       "  </thead>\n",
       "  <tbody>\n",
       "    <tr>\n",
       "      <th>2020-08-25</th>\n",
       "      <td>0.062223</td>\n",
       "      <td>1.760995</td>\n",
       "      <td>-0.564789</td>\n",
       "      <td>-0.377276</td>\n",
       "    </tr>\n",
       "    <tr>\n",
       "      <th>2020-09-01</th>\n",
       "      <td>0.058386</td>\n",
       "      <td>-1.317107</td>\n",
       "      <td>0.789512</td>\n",
       "      <td>0.579092</td>\n",
       "    </tr>\n",
       "    <tr>\n",
       "      <th>2020-09-08</th>\n",
       "      <td>-0.173459</td>\n",
       "      <td>0.436061</td>\n",
       "      <td>-0.469290</td>\n",
       "      <td>1.605012</td>\n",
       "    </tr>\n",
       "    <tr>\n",
       "      <th>2020-09-15</th>\n",
       "      <td>0.617496</td>\n",
       "      <td>0.693855</td>\n",
       "      <td>0.646148</td>\n",
       "      <td>0.627287</td>\n",
       "    </tr>\n",
       "    <tr>\n",
       "      <th>2020-09-22</th>\n",
       "      <td>-1.074106</td>\n",
       "      <td>0.847441</td>\n",
       "      <td>0.421393</td>\n",
       "      <td>-0.408364</td>\n",
       "    </tr>\n",
       "    <tr>\n",
       "      <th>2020-09-29</th>\n",
       "      <td>0.376635</td>\n",
       "      <td>-0.279863</td>\n",
       "      <td>-0.701821</td>\n",
       "      <td>-0.500150</td>\n",
       "    </tr>\n",
       "  </tbody>\n",
       "</table>\n",
       "</div>"
      ],
      "text/plain": [
       "                 Ann       Bob    Charly       Don\n",
       "2020-08-25  0.062223  1.760995 -0.564789 -0.377276\n",
       "2020-09-01  0.058386 -1.317107  0.789512  0.579092\n",
       "2020-09-08 -0.173459  0.436061 -0.469290  1.605012\n",
       "2020-09-15  0.617496  0.693855  0.646148  0.627287\n",
       "2020-09-22 -1.074106  0.847441  0.421393 -0.408364\n",
       "2020-09-29  0.376635 -0.279863 -0.701821 -0.500150"
      ]
     },
     "execution_count": 135,
     "metadata": {},
     "output_type": "execute_result"
    }
   ],
   "source": [
    "df"
   ]
  },
  {
   "cell_type": "code",
   "execution_count": 136,
   "id": "7e2857d7-14eb-4782-b1b3-5f09a1d25ce1",
   "metadata": {},
   "outputs": [
    {
     "data": {
      "text/html": [
       "<div>\n",
       "<style scoped>\n",
       "    .dataframe tbody tr th:only-of-type {\n",
       "        vertical-align: middle;\n",
       "    }\n",
       "\n",
       "    .dataframe tbody tr th {\n",
       "        vertical-align: top;\n",
       "    }\n",
       "\n",
       "    .dataframe thead th {\n",
       "        text-align: right;\n",
       "    }\n",
       "</style>\n",
       "<table border=\"1\" class=\"dataframe\">\n",
       "  <thead>\n",
       "    <tr style=\"text-align: right;\">\n",
       "      <th></th>\n",
       "      <th>Ann</th>\n",
       "      <th>Bob</th>\n",
       "      <th>Charly</th>\n",
       "      <th>Don</th>\n",
       "      <th>E</th>\n",
       "    </tr>\n",
       "  </thead>\n",
       "  <tbody>\n",
       "    <tr>\n",
       "      <th>2020-08-25</th>\n",
       "      <td>0.062223</td>\n",
       "      <td>1.760995</td>\n",
       "      <td>-0.564789</td>\n",
       "      <td>-0.377276</td>\n",
       "      <td>5</td>\n",
       "    </tr>\n",
       "    <tr>\n",
       "      <th>2020-09-01</th>\n",
       "      <td>0.058386</td>\n",
       "      <td>-1.317107</td>\n",
       "      <td>0.789512</td>\n",
       "      <td>0.579092</td>\n",
       "      <td>5</td>\n",
       "    </tr>\n",
       "    <tr>\n",
       "      <th>2020-09-08</th>\n",
       "      <td>-0.173459</td>\n",
       "      <td>0.436061</td>\n",
       "      <td>-0.469290</td>\n",
       "      <td>1.605012</td>\n",
       "      <td>5</td>\n",
       "    </tr>\n",
       "    <tr>\n",
       "      <th>2020-09-15</th>\n",
       "      <td>0.617496</td>\n",
       "      <td>0.693855</td>\n",
       "      <td>0.646148</td>\n",
       "      <td>0.627287</td>\n",
       "      <td>5</td>\n",
       "    </tr>\n",
       "    <tr>\n",
       "      <th>2020-09-22</th>\n",
       "      <td>-1.074106</td>\n",
       "      <td>0.847441</td>\n",
       "      <td>0.421393</td>\n",
       "      <td>-0.408364</td>\n",
       "      <td>5</td>\n",
       "    </tr>\n",
       "    <tr>\n",
       "      <th>2020-09-29</th>\n",
       "      <td>0.376635</td>\n",
       "      <td>-0.279863</td>\n",
       "      <td>-0.701821</td>\n",
       "      <td>-0.500150</td>\n",
       "      <td>5</td>\n",
       "    </tr>\n",
       "  </tbody>\n",
       "</table>\n",
       "</div>"
      ],
      "text/plain": [
       "                 Ann       Bob    Charly       Don  E\n",
       "2020-08-25  0.062223  1.760995 -0.564789 -0.377276  5\n",
       "2020-09-01  0.058386 -1.317107  0.789512  0.579092  5\n",
       "2020-09-08 -0.173459  0.436061 -0.469290  1.605012  5\n",
       "2020-09-15  0.617496  0.693855  0.646148  0.627287  5\n",
       "2020-09-22 -1.074106  0.847441  0.421393 -0.408364  5\n",
       "2020-09-29  0.376635 -0.279863 -0.701821 -0.500150  5"
      ]
     },
     "execution_count": 136,
     "metadata": {},
     "output_type": "execute_result"
    }
   ],
   "source": [
    "# add a new column\n",
    "df['E'] = 5\n",
    "df"
   ]
  },
  {
   "cell_type": "code",
   "execution_count": 137,
   "id": "9761ce95-bc40-4308-833b-6fa91abaaed4",
   "metadata": {},
   "outputs": [
    {
     "data": {
      "text/html": [
       "<div>\n",
       "<style scoped>\n",
       "    .dataframe tbody tr th:only-of-type {\n",
       "        vertical-align: middle;\n",
       "    }\n",
       "\n",
       "    .dataframe tbody tr th {\n",
       "        vertical-align: top;\n",
       "    }\n",
       "\n",
       "    .dataframe thead th {\n",
       "        text-align: right;\n",
       "    }\n",
       "</style>\n",
       "<table border=\"1\" class=\"dataframe\">\n",
       "  <thead>\n",
       "    <tr style=\"text-align: right;\">\n",
       "      <th></th>\n",
       "      <th>Ann</th>\n",
       "      <th>Bob</th>\n",
       "      <th>Charly</th>\n",
       "      <th>Don</th>\n",
       "      <th>E</th>\n",
       "      <th>F</th>\n",
       "    </tr>\n",
       "  </thead>\n",
       "  <tbody>\n",
       "    <tr>\n",
       "      <th>2020-08-25</th>\n",
       "      <td>0.062223</td>\n",
       "      <td>1.760995</td>\n",
       "      <td>-0.564789</td>\n",
       "      <td>-0.377276</td>\n",
       "      <td>5</td>\n",
       "      <td>0</td>\n",
       "    </tr>\n",
       "    <tr>\n",
       "      <th>2020-09-01</th>\n",
       "      <td>0.058386</td>\n",
       "      <td>-1.317107</td>\n",
       "      <td>0.789512</td>\n",
       "      <td>0.579092</td>\n",
       "      <td>5</td>\n",
       "      <td>1</td>\n",
       "    </tr>\n",
       "    <tr>\n",
       "      <th>2020-09-08</th>\n",
       "      <td>-0.173459</td>\n",
       "      <td>0.436061</td>\n",
       "      <td>-0.469290</td>\n",
       "      <td>1.605012</td>\n",
       "      <td>5</td>\n",
       "      <td>2</td>\n",
       "    </tr>\n",
       "    <tr>\n",
       "      <th>2020-09-15</th>\n",
       "      <td>0.617496</td>\n",
       "      <td>0.693855</td>\n",
       "      <td>0.646148</td>\n",
       "      <td>0.627287</td>\n",
       "      <td>5</td>\n",
       "      <td>3</td>\n",
       "    </tr>\n",
       "    <tr>\n",
       "      <th>2020-09-22</th>\n",
       "      <td>-1.074106</td>\n",
       "      <td>0.847441</td>\n",
       "      <td>0.421393</td>\n",
       "      <td>-0.408364</td>\n",
       "      <td>5</td>\n",
       "      <td>4</td>\n",
       "    </tr>\n",
       "    <tr>\n",
       "      <th>2020-09-29</th>\n",
       "      <td>0.376635</td>\n",
       "      <td>-0.279863</td>\n",
       "      <td>-0.701821</td>\n",
       "      <td>-0.500150</td>\n",
       "      <td>5</td>\n",
       "      <td>5</td>\n",
       "    </tr>\n",
       "  </tbody>\n",
       "</table>\n",
       "</div>"
      ],
      "text/plain": [
       "                 Ann       Bob    Charly       Don  E  F\n",
       "2020-08-25  0.062223  1.760995 -0.564789 -0.377276  5  0\n",
       "2020-09-01  0.058386 -1.317107  0.789512  0.579092  5  1\n",
       "2020-09-08 -0.173459  0.436061 -0.469290  1.605012  5  2\n",
       "2020-09-15  0.617496  0.693855  0.646148  0.627287  5  3\n",
       "2020-09-22 -1.074106  0.847441  0.421393 -0.408364  5  4\n",
       "2020-09-29  0.376635 -0.279863 -0.701821 -0.500150  5  5"
      ]
     },
     "execution_count": 137,
     "metadata": {},
     "output_type": "execute_result"
    }
   ],
   "source": [
    "df['F'] = np.arange(6)\n",
    "df"
   ]
  },
  {
   "cell_type": "code",
   "execution_count": 138,
   "id": "fce79b74-5589-4985-b3a0-8c934bbe3af6",
   "metadata": {},
   "outputs": [
    {
     "data": {
      "text/html": [
       "<div>\n",
       "<style scoped>\n",
       "    .dataframe tbody tr th:only-of-type {\n",
       "        vertical-align: middle;\n",
       "    }\n",
       "\n",
       "    .dataframe tbody tr th {\n",
       "        vertical-align: top;\n",
       "    }\n",
       "\n",
       "    .dataframe thead th {\n",
       "        text-align: right;\n",
       "    }\n",
       "</style>\n",
       "<table border=\"1\" class=\"dataframe\">\n",
       "  <thead>\n",
       "    <tr style=\"text-align: right;\">\n",
       "      <th></th>\n",
       "      <th>Ann</th>\n",
       "      <th>Bob</th>\n",
       "      <th>Charly</th>\n",
       "      <th>Don</th>\n",
       "      <th>E</th>\n",
       "      <th>F</th>\n",
       "    </tr>\n",
       "  </thead>\n",
       "  <tbody>\n",
       "    <tr>\n",
       "      <th>2020-08-25</th>\n",
       "      <td>0.062223</td>\n",
       "      <td>1.760995</td>\n",
       "      <td>-0.564789</td>\n",
       "      <td>-0.377276</td>\n",
       "      <td>3</td>\n",
       "      <td>0</td>\n",
       "    </tr>\n",
       "    <tr>\n",
       "      <th>2020-09-01</th>\n",
       "      <td>0.058386</td>\n",
       "      <td>-1.317107</td>\n",
       "      <td>0.789512</td>\n",
       "      <td>0.579092</td>\n",
       "      <td>5</td>\n",
       "      <td>1</td>\n",
       "    </tr>\n",
       "    <tr>\n",
       "      <th>2020-09-08</th>\n",
       "      <td>-0.173459</td>\n",
       "      <td>0.436061</td>\n",
       "      <td>-0.469290</td>\n",
       "      <td>1.605012</td>\n",
       "      <td>5</td>\n",
       "      <td>2</td>\n",
       "    </tr>\n",
       "    <tr>\n",
       "      <th>2020-09-15</th>\n",
       "      <td>0.617496</td>\n",
       "      <td>0.693855</td>\n",
       "      <td>0.646148</td>\n",
       "      <td>0.627287</td>\n",
       "      <td>5</td>\n",
       "      <td>3</td>\n",
       "    </tr>\n",
       "    <tr>\n",
       "      <th>2020-09-22</th>\n",
       "      <td>-1.074106</td>\n",
       "      <td>0.847441</td>\n",
       "      <td>0.421393</td>\n",
       "      <td>-0.408364</td>\n",
       "      <td>5</td>\n",
       "      <td>4</td>\n",
       "    </tr>\n",
       "    <tr>\n",
       "      <th>2020-09-29</th>\n",
       "      <td>0.376635</td>\n",
       "      <td>-0.279863</td>\n",
       "      <td>-0.701821</td>\n",
       "      <td>-0.500150</td>\n",
       "      <td>5</td>\n",
       "      <td>5</td>\n",
       "    </tr>\n",
       "  </tbody>\n",
       "</table>\n",
       "</div>"
      ],
      "text/plain": [
       "                 Ann       Bob    Charly       Don  E  F\n",
       "2020-08-25  0.062223  1.760995 -0.564789 -0.377276  3  0\n",
       "2020-09-01  0.058386 -1.317107  0.789512  0.579092  5  1\n",
       "2020-09-08 -0.173459  0.436061 -0.469290  1.605012  5  2\n",
       "2020-09-15  0.617496  0.693855  0.646148  0.627287  5  3\n",
       "2020-09-22 -1.074106  0.847441  0.421393 -0.408364  5  4\n",
       "2020-09-29  0.376635 -0.279863 -0.701821 -0.500150  5  5"
      ]
     },
     "execution_count": 138,
     "metadata": {},
     "output_type": "execute_result"
    }
   ],
   "source": [
    "# set values by labels\n",
    "df.loc['2020-08-25','E'] = 3\n",
    "# df.at['2020-08-25','E'] = 3\n",
    "df"
   ]
  },
  {
   "cell_type": "code",
   "execution_count": 140,
   "id": "909ae762-a373-4621-ac0b-b69f53a2876e",
   "metadata": {},
   "outputs": [
    {
     "data": {
      "text/html": [
       "<div>\n",
       "<style scoped>\n",
       "    .dataframe tbody tr th:only-of-type {\n",
       "        vertical-align: middle;\n",
       "    }\n",
       "\n",
       "    .dataframe tbody tr th {\n",
       "        vertical-align: top;\n",
       "    }\n",
       "\n",
       "    .dataframe thead th {\n",
       "        text-align: right;\n",
       "    }\n",
       "</style>\n",
       "<table border=\"1\" class=\"dataframe\">\n",
       "  <thead>\n",
       "    <tr style=\"text-align: right;\">\n",
       "      <th></th>\n",
       "      <th>Ann</th>\n",
       "      <th>Bob</th>\n",
       "      <th>Charly</th>\n",
       "      <th>Don</th>\n",
       "      <th>E</th>\n",
       "      <th>F</th>\n",
       "    </tr>\n",
       "  </thead>\n",
       "  <tbody>\n",
       "    <tr>\n",
       "      <th>2020-08-25</th>\n",
       "      <td>0.062223</td>\n",
       "      <td>1.760995</td>\n",
       "      <td>-0.564789</td>\n",
       "      <td>-0.377276</td>\n",
       "      <td>3</td>\n",
       "      <td>-1</td>\n",
       "    </tr>\n",
       "    <tr>\n",
       "      <th>2020-09-01</th>\n",
       "      <td>0.058386</td>\n",
       "      <td>-1.317107</td>\n",
       "      <td>0.789512</td>\n",
       "      <td>0.579092</td>\n",
       "      <td>5</td>\n",
       "      <td>1</td>\n",
       "    </tr>\n",
       "    <tr>\n",
       "      <th>2020-09-08</th>\n",
       "      <td>-0.173459</td>\n",
       "      <td>0.436061</td>\n",
       "      <td>-0.469290</td>\n",
       "      <td>1.605012</td>\n",
       "      <td>5</td>\n",
       "      <td>2</td>\n",
       "    </tr>\n",
       "    <tr>\n",
       "      <th>2020-09-15</th>\n",
       "      <td>0.617496</td>\n",
       "      <td>0.693855</td>\n",
       "      <td>0.646148</td>\n",
       "      <td>0.627287</td>\n",
       "      <td>5</td>\n",
       "      <td>3</td>\n",
       "    </tr>\n",
       "    <tr>\n",
       "      <th>2020-09-22</th>\n",
       "      <td>-1.074106</td>\n",
       "      <td>0.847441</td>\n",
       "      <td>0.421393</td>\n",
       "      <td>-0.408364</td>\n",
       "      <td>5</td>\n",
       "      <td>4</td>\n",
       "    </tr>\n",
       "    <tr>\n",
       "      <th>2020-09-29</th>\n",
       "      <td>0.376635</td>\n",
       "      <td>-0.279863</td>\n",
       "      <td>-0.701821</td>\n",
       "      <td>-0.500150</td>\n",
       "      <td>5</td>\n",
       "      <td>5</td>\n",
       "    </tr>\n",
       "  </tbody>\n",
       "</table>\n",
       "</div>"
      ],
      "text/plain": [
       "                 Ann       Bob    Charly       Don  E  F\n",
       "2020-08-25  0.062223  1.760995 -0.564789 -0.377276  3 -1\n",
       "2020-09-01  0.058386 -1.317107  0.789512  0.579092  5  1\n",
       "2020-09-08 -0.173459  0.436061 -0.469290  1.605012  5  2\n",
       "2020-09-15  0.617496  0.693855  0.646148  0.627287  5  3\n",
       "2020-09-22 -1.074106  0.847441  0.421393 -0.408364  5  4\n",
       "2020-09-29  0.376635 -0.279863 -0.701821 -0.500150  5  5"
      ]
     },
     "execution_count": 140,
     "metadata": {},
     "output_type": "execute_result"
    }
   ],
   "source": [
    "# set values by position\n",
    "df.iloc[0,5] = -1\n",
    "df"
   ]
  },
  {
   "cell_type": "code",
   "execution_count": 141,
   "id": "e62a7b96-869f-466d-9eb2-4cac0b09f5b4",
   "metadata": {},
   "outputs": [
    {
     "data": {
      "text/html": [
       "<div>\n",
       "<style scoped>\n",
       "    .dataframe tbody tr th:only-of-type {\n",
       "        vertical-align: middle;\n",
       "    }\n",
       "\n",
       "    .dataframe tbody tr th {\n",
       "        vertical-align: top;\n",
       "    }\n",
       "\n",
       "    .dataframe thead th {\n",
       "        text-align: right;\n",
       "    }\n",
       "</style>\n",
       "<table border=\"1\" class=\"dataframe\">\n",
       "  <thead>\n",
       "    <tr style=\"text-align: right;\">\n",
       "      <th></th>\n",
       "      <th>Ann</th>\n",
       "      <th>Bob</th>\n",
       "      <th>Charly</th>\n",
       "      <th>Don</th>\n",
       "      <th>E</th>\n",
       "      <th>F</th>\n",
       "    </tr>\n",
       "  </thead>\n",
       "  <tbody>\n",
       "    <tr>\n",
       "      <th>2020-08-25</th>\n",
       "      <td>0.062223</td>\n",
       "      <td>1.760995</td>\n",
       "      <td>-0.564789</td>\n",
       "      <td>-0.377276</td>\n",
       "      <td>4</td>\n",
       "      <td>-1</td>\n",
       "    </tr>\n",
       "    <tr>\n",
       "      <th>2020-09-01</th>\n",
       "      <td>0.058386</td>\n",
       "      <td>-1.317107</td>\n",
       "      <td>0.789512</td>\n",
       "      <td>0.579092</td>\n",
       "      <td>4</td>\n",
       "      <td>1</td>\n",
       "    </tr>\n",
       "    <tr>\n",
       "      <th>2020-09-08</th>\n",
       "      <td>-0.173459</td>\n",
       "      <td>0.436061</td>\n",
       "      <td>-0.469290</td>\n",
       "      <td>1.605012</td>\n",
       "      <td>5</td>\n",
       "      <td>2</td>\n",
       "    </tr>\n",
       "    <tr>\n",
       "      <th>2020-09-15</th>\n",
       "      <td>0.617496</td>\n",
       "      <td>0.693855</td>\n",
       "      <td>0.646148</td>\n",
       "      <td>0.627287</td>\n",
       "      <td>4</td>\n",
       "      <td>3</td>\n",
       "    </tr>\n",
       "    <tr>\n",
       "      <th>2020-09-22</th>\n",
       "      <td>-1.074106</td>\n",
       "      <td>0.847441</td>\n",
       "      <td>0.421393</td>\n",
       "      <td>-0.408364</td>\n",
       "      <td>5</td>\n",
       "      <td>4</td>\n",
       "    </tr>\n",
       "    <tr>\n",
       "      <th>2020-09-29</th>\n",
       "      <td>0.376635</td>\n",
       "      <td>-0.279863</td>\n",
       "      <td>-0.701821</td>\n",
       "      <td>-0.500150</td>\n",
       "      <td>4</td>\n",
       "      <td>5</td>\n",
       "    </tr>\n",
       "  </tbody>\n",
       "</table>\n",
       "</div>"
      ],
      "text/plain": [
       "                 Ann       Bob    Charly       Don  E  F\n",
       "2020-08-25  0.062223  1.760995 -0.564789 -0.377276  4 -1\n",
       "2020-09-01  0.058386 -1.317107  0.789512  0.579092  4  1\n",
       "2020-09-08 -0.173459  0.436061 -0.469290  1.605012  5  2\n",
       "2020-09-15  0.617496  0.693855  0.646148  0.627287  4  3\n",
       "2020-09-22 -1.074106  0.847441  0.421393 -0.408364  5  4\n",
       "2020-09-29  0.376635 -0.279863 -0.701821 -0.500150  4  5"
      ]
     },
     "execution_count": 141,
     "metadata": {},
     "output_type": "execute_result"
    }
   ],
   "source": [
    "# set values by condition\n",
    "df.loc[df.Ann>0,'E'] = 4\n",
    "df"
   ]
  },
  {
   "cell_type": "code",
   "execution_count": null,
   "id": "d432c610",
   "metadata": {},
   "outputs": [],
   "source": []
  },
  {
   "cell_type": "markdown",
   "id": "4fd3a2f9-ec84-4a59-bef7-4ef839108fd1",
   "metadata": {},
   "source": [
    "## Missing values\n",
    "\n",
    "`pandas` primarily uses the value np.nan to represent missing data. It is by default not included in computations. See the [Missing Data section](https://pandas.pydata.org/pandas-docs/stable/user_guide/missing_data.html#missing-data) from `pandas` official documentation for more details.\n",
    "\n",
    "Reindexing allows you to change/add/delete the index on a specified axis. This returns a copy of the data."
   ]
  },
  {
   "cell_type": "code",
   "execution_count": 142,
   "id": "4e4181f9-4f7d-4331-963e-427e5b5b519c",
   "metadata": {},
   "outputs": [
    {
     "data": {
      "text/html": [
       "<div>\n",
       "<style scoped>\n",
       "    .dataframe tbody tr th:only-of-type {\n",
       "        vertical-align: middle;\n",
       "    }\n",
       "\n",
       "    .dataframe tbody tr th {\n",
       "        vertical-align: top;\n",
       "    }\n",
       "\n",
       "    .dataframe thead th {\n",
       "        text-align: right;\n",
       "    }\n",
       "</style>\n",
       "<table border=\"1\" class=\"dataframe\">\n",
       "  <thead>\n",
       "    <tr style=\"text-align: right;\">\n",
       "      <th></th>\n",
       "      <th>Ann</th>\n",
       "      <th>Bob</th>\n",
       "      <th>Charly</th>\n",
       "      <th>Don</th>\n",
       "      <th>E</th>\n",
       "      <th>F</th>\n",
       "      <th>G</th>\n",
       "    </tr>\n",
       "  </thead>\n",
       "  <tbody>\n",
       "    <tr>\n",
       "      <th>2020-08-25</th>\n",
       "      <td>0.062223</td>\n",
       "      <td>1.760995</td>\n",
       "      <td>-0.564789</td>\n",
       "      <td>-0.377276</td>\n",
       "      <td>4</td>\n",
       "      <td>-1</td>\n",
       "      <td>NaN</td>\n",
       "    </tr>\n",
       "    <tr>\n",
       "      <th>2020-09-01</th>\n",
       "      <td>0.058386</td>\n",
       "      <td>-1.317107</td>\n",
       "      <td>0.789512</td>\n",
       "      <td>0.579092</td>\n",
       "      <td>4</td>\n",
       "      <td>1</td>\n",
       "      <td>NaN</td>\n",
       "    </tr>\n",
       "    <tr>\n",
       "      <th>2020-09-08</th>\n",
       "      <td>-0.173459</td>\n",
       "      <td>0.436061</td>\n",
       "      <td>-0.469290</td>\n",
       "      <td>1.605012</td>\n",
       "      <td>5</td>\n",
       "      <td>2</td>\n",
       "      <td>NaN</td>\n",
       "    </tr>\n",
       "    <tr>\n",
       "      <th>2020-09-15</th>\n",
       "      <td>0.617496</td>\n",
       "      <td>0.693855</td>\n",
       "      <td>0.646148</td>\n",
       "      <td>0.627287</td>\n",
       "      <td>4</td>\n",
       "      <td>3</td>\n",
       "      <td>NaN</td>\n",
       "    </tr>\n",
       "    <tr>\n",
       "      <th>2020-09-22</th>\n",
       "      <td>-1.074106</td>\n",
       "      <td>0.847441</td>\n",
       "      <td>0.421393</td>\n",
       "      <td>-0.408364</td>\n",
       "      <td>5</td>\n",
       "      <td>4</td>\n",
       "      <td>NaN</td>\n",
       "    </tr>\n",
       "    <tr>\n",
       "      <th>2020-09-29</th>\n",
       "      <td>0.376635</td>\n",
       "      <td>-0.279863</td>\n",
       "      <td>-0.701821</td>\n",
       "      <td>-0.500150</td>\n",
       "      <td>4</td>\n",
       "      <td>5</td>\n",
       "      <td>NaN</td>\n",
       "    </tr>\n",
       "  </tbody>\n",
       "</table>\n",
       "</div>"
      ],
      "text/plain": [
       "                 Ann       Bob    Charly       Don  E  F   G\n",
       "2020-08-25  0.062223  1.760995 -0.564789 -0.377276  4 -1 NaN\n",
       "2020-09-01  0.058386 -1.317107  0.789512  0.579092  4  1 NaN\n",
       "2020-09-08 -0.173459  0.436061 -0.469290  1.605012  5  2 NaN\n",
       "2020-09-15  0.617496  0.693855  0.646148  0.627287  4  3 NaN\n",
       "2020-09-22 -1.074106  0.847441  0.421393 -0.408364  5  4 NaN\n",
       "2020-09-29  0.376635 -0.279863 -0.701821 -0.500150  4  5 NaN"
      ]
     },
     "execution_count": 142,
     "metadata": {},
     "output_type": "execute_result"
    }
   ],
   "source": [
    "df1 = df.reindex(index=dates[:6],columns=list(df.columns)+['G'])\n",
    "df1"
   ]
  },
  {
   "cell_type": "code",
   "execution_count": 143,
   "id": "67a4dbdb-8549-4b4c-9838-87adbbbe00c7",
   "metadata": {},
   "outputs": [
    {
     "data": {
      "text/html": [
       "<div>\n",
       "<style scoped>\n",
       "    .dataframe tbody tr th:only-of-type {\n",
       "        vertical-align: middle;\n",
       "    }\n",
       "\n",
       "    .dataframe tbody tr th {\n",
       "        vertical-align: top;\n",
       "    }\n",
       "\n",
       "    .dataframe thead th {\n",
       "        text-align: right;\n",
       "    }\n",
       "</style>\n",
       "<table border=\"1\" class=\"dataframe\">\n",
       "  <thead>\n",
       "    <tr style=\"text-align: right;\">\n",
       "      <th></th>\n",
       "      <th>Ann</th>\n",
       "      <th>Bob</th>\n",
       "      <th>Charly</th>\n",
       "      <th>Don</th>\n",
       "      <th>E</th>\n",
       "      <th>F</th>\n",
       "      <th>G</th>\n",
       "    </tr>\n",
       "  </thead>\n",
       "  <tbody>\n",
       "    <tr>\n",
       "      <th>2020-08-25</th>\n",
       "      <td>0.062223</td>\n",
       "      <td>1.760995</td>\n",
       "      <td>-0.564789</td>\n",
       "      <td>-0.377276</td>\n",
       "      <td>4</td>\n",
       "      <td>-1</td>\n",
       "      <td>1.0</td>\n",
       "    </tr>\n",
       "    <tr>\n",
       "      <th>2020-09-01</th>\n",
       "      <td>0.058386</td>\n",
       "      <td>-1.317107</td>\n",
       "      <td>0.789512</td>\n",
       "      <td>0.579092</td>\n",
       "      <td>4</td>\n",
       "      <td>1</td>\n",
       "      <td>1.0</td>\n",
       "    </tr>\n",
       "    <tr>\n",
       "      <th>2020-09-08</th>\n",
       "      <td>-0.173459</td>\n",
       "      <td>0.436061</td>\n",
       "      <td>-0.469290</td>\n",
       "      <td>1.605012</td>\n",
       "      <td>5</td>\n",
       "      <td>2</td>\n",
       "      <td>1.0</td>\n",
       "    </tr>\n",
       "    <tr>\n",
       "      <th>2020-09-15</th>\n",
       "      <td>0.617496</td>\n",
       "      <td>0.693855</td>\n",
       "      <td>0.646148</td>\n",
       "      <td>0.627287</td>\n",
       "      <td>4</td>\n",
       "      <td>3</td>\n",
       "      <td>NaN</td>\n",
       "    </tr>\n",
       "    <tr>\n",
       "      <th>2020-09-22</th>\n",
       "      <td>-1.074106</td>\n",
       "      <td>0.847441</td>\n",
       "      <td>0.421393</td>\n",
       "      <td>-0.408364</td>\n",
       "      <td>5</td>\n",
       "      <td>4</td>\n",
       "      <td>NaN</td>\n",
       "    </tr>\n",
       "    <tr>\n",
       "      <th>2020-09-29</th>\n",
       "      <td>0.376635</td>\n",
       "      <td>-0.279863</td>\n",
       "      <td>-0.701821</td>\n",
       "      <td>-0.500150</td>\n",
       "      <td>4</td>\n",
       "      <td>5</td>\n",
       "      <td>NaN</td>\n",
       "    </tr>\n",
       "  </tbody>\n",
       "</table>\n",
       "</div>"
      ],
      "text/plain": [
       "                 Ann       Bob    Charly       Don  E  F    G\n",
       "2020-08-25  0.062223  1.760995 -0.564789 -0.377276  4 -1  1.0\n",
       "2020-09-01  0.058386 -1.317107  0.789512  0.579092  4  1  1.0\n",
       "2020-09-08 -0.173459  0.436061 -0.469290  1.605012  5  2  1.0\n",
       "2020-09-15  0.617496  0.693855  0.646148  0.627287  4  3  NaN\n",
       "2020-09-22 -1.074106  0.847441  0.421393 -0.408364  5  4  NaN\n",
       "2020-09-29  0.376635 -0.279863 -0.701821 -0.500150  4  5  NaN"
      ]
     },
     "execution_count": 143,
     "metadata": {},
     "output_type": "execute_result"
    }
   ],
   "source": [
    "# fill in values at some locations\n",
    "df1.loc['2020-08-25':'2020-09-08','G'] = 1\n",
    "df1"
   ]
  },
  {
   "cell_type": "code",
   "execution_count": 144,
   "id": "55bd32ce-1ff1-4d26-844b-efe53d152b47",
   "metadata": {},
   "outputs": [
    {
     "data": {
      "text/html": [
       "<div>\n",
       "<style scoped>\n",
       "    .dataframe tbody tr th:only-of-type {\n",
       "        vertical-align: middle;\n",
       "    }\n",
       "\n",
       "    .dataframe tbody tr th {\n",
       "        vertical-align: top;\n",
       "    }\n",
       "\n",
       "    .dataframe thead th {\n",
       "        text-align: right;\n",
       "    }\n",
       "</style>\n",
       "<table border=\"1\" class=\"dataframe\">\n",
       "  <thead>\n",
       "    <tr style=\"text-align: right;\">\n",
       "      <th></th>\n",
       "      <th>Ann</th>\n",
       "      <th>Bob</th>\n",
       "      <th>Charly</th>\n",
       "      <th>Don</th>\n",
       "      <th>E</th>\n",
       "      <th>F</th>\n",
       "      <th>G</th>\n",
       "    </tr>\n",
       "  </thead>\n",
       "  <tbody>\n",
       "    <tr>\n",
       "      <th>2020-08-25</th>\n",
       "      <td>False</td>\n",
       "      <td>False</td>\n",
       "      <td>False</td>\n",
       "      <td>False</td>\n",
       "      <td>False</td>\n",
       "      <td>False</td>\n",
       "      <td>False</td>\n",
       "    </tr>\n",
       "    <tr>\n",
       "      <th>2020-09-01</th>\n",
       "      <td>False</td>\n",
       "      <td>False</td>\n",
       "      <td>False</td>\n",
       "      <td>False</td>\n",
       "      <td>False</td>\n",
       "      <td>False</td>\n",
       "      <td>False</td>\n",
       "    </tr>\n",
       "    <tr>\n",
       "      <th>2020-09-08</th>\n",
       "      <td>False</td>\n",
       "      <td>False</td>\n",
       "      <td>False</td>\n",
       "      <td>False</td>\n",
       "      <td>False</td>\n",
       "      <td>False</td>\n",
       "      <td>False</td>\n",
       "    </tr>\n",
       "    <tr>\n",
       "      <th>2020-09-15</th>\n",
       "      <td>False</td>\n",
       "      <td>False</td>\n",
       "      <td>False</td>\n",
       "      <td>False</td>\n",
       "      <td>False</td>\n",
       "      <td>False</td>\n",
       "      <td>True</td>\n",
       "    </tr>\n",
       "    <tr>\n",
       "      <th>2020-09-22</th>\n",
       "      <td>False</td>\n",
       "      <td>False</td>\n",
       "      <td>False</td>\n",
       "      <td>False</td>\n",
       "      <td>False</td>\n",
       "      <td>False</td>\n",
       "      <td>True</td>\n",
       "    </tr>\n",
       "    <tr>\n",
       "      <th>2020-09-29</th>\n",
       "      <td>False</td>\n",
       "      <td>False</td>\n",
       "      <td>False</td>\n",
       "      <td>False</td>\n",
       "      <td>False</td>\n",
       "      <td>False</td>\n",
       "      <td>True</td>\n",
       "    </tr>\n",
       "  </tbody>\n",
       "</table>\n",
       "</div>"
      ],
      "text/plain": [
       "              Ann    Bob  Charly    Don      E      F      G\n",
       "2020-08-25  False  False   False  False  False  False  False\n",
       "2020-09-01  False  False   False  False  False  False  False\n",
       "2020-09-08  False  False   False  False  False  False  False\n",
       "2020-09-15  False  False   False  False  False  False   True\n",
       "2020-09-22  False  False   False  False  False  False   True\n",
       "2020-09-29  False  False   False  False  False  False   True"
      ]
     },
     "execution_count": 144,
     "metadata": {},
     "output_type": "execute_result"
    }
   ],
   "source": [
    "# to get the boolean mask where values are nan\n",
    "df1.isna()"
   ]
  },
  {
   "cell_type": "code",
   "execution_count": 145,
   "id": "515b07cd-eff1-42c6-9fd9-897a53b3d0c0",
   "metadata": {},
   "outputs": [
    {
     "data": {
      "text/html": [
       "<div>\n",
       "<style scoped>\n",
       "    .dataframe tbody tr th:only-of-type {\n",
       "        vertical-align: middle;\n",
       "    }\n",
       "\n",
       "    .dataframe tbody tr th {\n",
       "        vertical-align: top;\n",
       "    }\n",
       "\n",
       "    .dataframe thead th {\n",
       "        text-align: right;\n",
       "    }\n",
       "</style>\n",
       "<table border=\"1\" class=\"dataframe\">\n",
       "  <thead>\n",
       "    <tr style=\"text-align: right;\">\n",
       "      <th></th>\n",
       "      <th>Ann</th>\n",
       "      <th>Bob</th>\n",
       "      <th>Charly</th>\n",
       "      <th>Don</th>\n",
       "      <th>E</th>\n",
       "      <th>F</th>\n",
       "      <th>G</th>\n",
       "    </tr>\n",
       "  </thead>\n",
       "  <tbody>\n",
       "    <tr>\n",
       "      <th>2020-08-25</th>\n",
       "      <td>False</td>\n",
       "      <td>False</td>\n",
       "      <td>False</td>\n",
       "      <td>False</td>\n",
       "      <td>False</td>\n",
       "      <td>False</td>\n",
       "      <td>False</td>\n",
       "    </tr>\n",
       "    <tr>\n",
       "      <th>2020-09-01</th>\n",
       "      <td>False</td>\n",
       "      <td>False</td>\n",
       "      <td>False</td>\n",
       "      <td>False</td>\n",
       "      <td>False</td>\n",
       "      <td>False</td>\n",
       "      <td>False</td>\n",
       "    </tr>\n",
       "    <tr>\n",
       "      <th>2020-09-08</th>\n",
       "      <td>False</td>\n",
       "      <td>False</td>\n",
       "      <td>False</td>\n",
       "      <td>False</td>\n",
       "      <td>False</td>\n",
       "      <td>False</td>\n",
       "      <td>False</td>\n",
       "    </tr>\n",
       "    <tr>\n",
       "      <th>2020-09-15</th>\n",
       "      <td>False</td>\n",
       "      <td>False</td>\n",
       "      <td>False</td>\n",
       "      <td>False</td>\n",
       "      <td>False</td>\n",
       "      <td>False</td>\n",
       "      <td>True</td>\n",
       "    </tr>\n",
       "    <tr>\n",
       "      <th>2020-09-22</th>\n",
       "      <td>False</td>\n",
       "      <td>False</td>\n",
       "      <td>False</td>\n",
       "      <td>False</td>\n",
       "      <td>False</td>\n",
       "      <td>False</td>\n",
       "      <td>True</td>\n",
       "    </tr>\n",
       "    <tr>\n",
       "      <th>2020-09-29</th>\n",
       "      <td>False</td>\n",
       "      <td>False</td>\n",
       "      <td>False</td>\n",
       "      <td>False</td>\n",
       "      <td>False</td>\n",
       "      <td>False</td>\n",
       "      <td>True</td>\n",
       "    </tr>\n",
       "  </tbody>\n",
       "</table>\n",
       "</div>"
      ],
      "text/plain": [
       "              Ann    Bob  Charly    Don      E      F      G\n",
       "2020-08-25  False  False   False  False  False  False  False\n",
       "2020-09-01  False  False   False  False  False  False  False\n",
       "2020-09-08  False  False   False  False  False  False  False\n",
       "2020-09-15  False  False   False  False  False  False   True\n",
       "2020-09-22  False  False   False  False  False  False   True\n",
       "2020-09-29  False  False   False  False  False  False   True"
      ]
     },
     "execution_count": 145,
     "metadata": {},
     "output_type": "execute_result"
    }
   ],
   "source": [
    "# you can also do\n",
    "pd.isna(df1)"
   ]
  },
  {
   "cell_type": "code",
   "execution_count": 146,
   "id": "c5be2315-443d-46ae-8cbb-1ff2336ce5c5",
   "metadata": {},
   "outputs": [
    {
     "data": {
      "text/html": [
       "<div>\n",
       "<style scoped>\n",
       "    .dataframe tbody tr th:only-of-type {\n",
       "        vertical-align: middle;\n",
       "    }\n",
       "\n",
       "    .dataframe tbody tr th {\n",
       "        vertical-align: top;\n",
       "    }\n",
       "\n",
       "    .dataframe thead th {\n",
       "        text-align: right;\n",
       "    }\n",
       "</style>\n",
       "<table border=\"1\" class=\"dataframe\">\n",
       "  <thead>\n",
       "    <tr style=\"text-align: right;\">\n",
       "      <th></th>\n",
       "      <th>Ann</th>\n",
       "      <th>Bob</th>\n",
       "      <th>Charly</th>\n",
       "      <th>Don</th>\n",
       "      <th>E</th>\n",
       "      <th>F</th>\n",
       "      <th>G</th>\n",
       "    </tr>\n",
       "  </thead>\n",
       "  <tbody>\n",
       "    <tr>\n",
       "      <th>2020-08-25</th>\n",
       "      <td>0.062223</td>\n",
       "      <td>1.760995</td>\n",
       "      <td>-0.564789</td>\n",
       "      <td>-0.377276</td>\n",
       "      <td>4</td>\n",
       "      <td>-1</td>\n",
       "      <td>1.0</td>\n",
       "    </tr>\n",
       "    <tr>\n",
       "      <th>2020-09-01</th>\n",
       "      <td>0.058386</td>\n",
       "      <td>-1.317107</td>\n",
       "      <td>0.789512</td>\n",
       "      <td>0.579092</td>\n",
       "      <td>4</td>\n",
       "      <td>1</td>\n",
       "      <td>1.0</td>\n",
       "    </tr>\n",
       "    <tr>\n",
       "      <th>2020-09-08</th>\n",
       "      <td>-0.173459</td>\n",
       "      <td>0.436061</td>\n",
       "      <td>-0.469290</td>\n",
       "      <td>1.605012</td>\n",
       "      <td>5</td>\n",
       "      <td>2</td>\n",
       "      <td>1.0</td>\n",
       "    </tr>\n",
       "  </tbody>\n",
       "</table>\n",
       "</div>"
      ],
      "text/plain": [
       "                 Ann       Bob    Charly       Don  E  F    G\n",
       "2020-08-25  0.062223  1.760995 -0.564789 -0.377276  4 -1  1.0\n",
       "2020-09-01  0.058386 -1.317107  0.789512  0.579092  4  1  1.0\n",
       "2020-09-08 -0.173459  0.436061 -0.469290  1.605012  5  2  1.0"
      ]
     },
     "execution_count": 146,
     "metadata": {},
     "output_type": "execute_result"
    }
   ],
   "source": [
    "# drop any rows that have missing values\n",
    "df2 = df1.copy()\n",
    "df2.dropna(how='any')"
   ]
  },
  {
   "cell_type": "code",
   "execution_count": 147,
   "id": "4e9ec036-2e9d-45a8-afcb-7be0a0ddd41f",
   "metadata": {
    "scrolled": true
   },
   "outputs": [
    {
     "data": {
      "text/html": [
       "<div>\n",
       "<style scoped>\n",
       "    .dataframe tbody tr th:only-of-type {\n",
       "        vertical-align: middle;\n",
       "    }\n",
       "\n",
       "    .dataframe tbody tr th {\n",
       "        vertical-align: top;\n",
       "    }\n",
       "\n",
       "    .dataframe thead th {\n",
       "        text-align: right;\n",
       "    }\n",
       "</style>\n",
       "<table border=\"1\" class=\"dataframe\">\n",
       "  <thead>\n",
       "    <tr style=\"text-align: right;\">\n",
       "      <th></th>\n",
       "      <th>Ann</th>\n",
       "      <th>Bob</th>\n",
       "      <th>Charly</th>\n",
       "      <th>Don</th>\n",
       "      <th>E</th>\n",
       "      <th>F</th>\n",
       "      <th>G</th>\n",
       "    </tr>\n",
       "  </thead>\n",
       "  <tbody>\n",
       "    <tr>\n",
       "      <th>2020-08-25</th>\n",
       "      <td>0.062223</td>\n",
       "      <td>1.760995</td>\n",
       "      <td>-0.564789</td>\n",
       "      <td>-0.377276</td>\n",
       "      <td>4</td>\n",
       "      <td>-1</td>\n",
       "      <td>1.0</td>\n",
       "    </tr>\n",
       "    <tr>\n",
       "      <th>2020-09-01</th>\n",
       "      <td>0.058386</td>\n",
       "      <td>-1.317107</td>\n",
       "      <td>0.789512</td>\n",
       "      <td>0.579092</td>\n",
       "      <td>4</td>\n",
       "      <td>1</td>\n",
       "      <td>1.0</td>\n",
       "    </tr>\n",
       "    <tr>\n",
       "      <th>2020-09-08</th>\n",
       "      <td>-0.173459</td>\n",
       "      <td>0.436061</td>\n",
       "      <td>-0.469290</td>\n",
       "      <td>1.605012</td>\n",
       "      <td>5</td>\n",
       "      <td>2</td>\n",
       "      <td>1.0</td>\n",
       "    </tr>\n",
       "    <tr>\n",
       "      <th>2020-09-15</th>\n",
       "      <td>0.617496</td>\n",
       "      <td>0.693855</td>\n",
       "      <td>0.646148</td>\n",
       "      <td>0.627287</td>\n",
       "      <td>4</td>\n",
       "      <td>3</td>\n",
       "      <td>NaN</td>\n",
       "    </tr>\n",
       "    <tr>\n",
       "      <th>2020-09-22</th>\n",
       "      <td>-1.074106</td>\n",
       "      <td>0.847441</td>\n",
       "      <td>0.421393</td>\n",
       "      <td>-0.408364</td>\n",
       "      <td>5</td>\n",
       "      <td>4</td>\n",
       "      <td>NaN</td>\n",
       "    </tr>\n",
       "    <tr>\n",
       "      <th>2020-09-29</th>\n",
       "      <td>0.376635</td>\n",
       "      <td>-0.279863</td>\n",
       "      <td>-0.701821</td>\n",
       "      <td>-0.500150</td>\n",
       "      <td>4</td>\n",
       "      <td>5</td>\n",
       "      <td>NaN</td>\n",
       "    </tr>\n",
       "  </tbody>\n",
       "</table>\n",
       "</div>"
      ],
      "text/plain": [
       "                 Ann       Bob    Charly       Don  E  F    G\n",
       "2020-08-25  0.062223  1.760995 -0.564789 -0.377276  4 -1  1.0\n",
       "2020-09-01  0.058386 -1.317107  0.789512  0.579092  4  1  1.0\n",
       "2020-09-08 -0.173459  0.436061 -0.469290  1.605012  5  2  1.0\n",
       "2020-09-15  0.617496  0.693855  0.646148  0.627287  4  3  NaN\n",
       "2020-09-22 -1.074106  0.847441  0.421393 -0.408364  5  4  NaN\n",
       "2020-09-29  0.376635 -0.279863 -0.701821 -0.500150  4  5  NaN"
      ]
     },
     "execution_count": 147,
     "metadata": {},
     "output_type": "execute_result"
    }
   ],
   "source": [
    "df2 # df2 is not impacted since the inplace flag is not flipped"
   ]
  },
  {
   "cell_type": "code",
   "execution_count": 148,
   "id": "e01e1fef-b130-4982-99cb-fc5da1e9b535",
   "metadata": {},
   "outputs": [
    {
     "data": {
      "text/html": [
       "<div>\n",
       "<style scoped>\n",
       "    .dataframe tbody tr th:only-of-type {\n",
       "        vertical-align: middle;\n",
       "    }\n",
       "\n",
       "    .dataframe tbody tr th {\n",
       "        vertical-align: top;\n",
       "    }\n",
       "\n",
       "    .dataframe thead th {\n",
       "        text-align: right;\n",
       "    }\n",
       "</style>\n",
       "<table border=\"1\" class=\"dataframe\">\n",
       "  <thead>\n",
       "    <tr style=\"text-align: right;\">\n",
       "      <th></th>\n",
       "      <th>Ann</th>\n",
       "      <th>Bob</th>\n",
       "      <th>Charly</th>\n",
       "      <th>Don</th>\n",
       "      <th>E</th>\n",
       "      <th>F</th>\n",
       "      <th>G</th>\n",
       "    </tr>\n",
       "  </thead>\n",
       "  <tbody>\n",
       "    <tr>\n",
       "      <th>2020-08-25</th>\n",
       "      <td>0.062223</td>\n",
       "      <td>1.760995</td>\n",
       "      <td>-0.564789</td>\n",
       "      <td>-0.377276</td>\n",
       "      <td>4</td>\n",
       "      <td>-1</td>\n",
       "      <td>1.0</td>\n",
       "    </tr>\n",
       "    <tr>\n",
       "      <th>2020-09-01</th>\n",
       "      <td>0.058386</td>\n",
       "      <td>-1.317107</td>\n",
       "      <td>0.789512</td>\n",
       "      <td>0.579092</td>\n",
       "      <td>4</td>\n",
       "      <td>1</td>\n",
       "      <td>1.0</td>\n",
       "    </tr>\n",
       "    <tr>\n",
       "      <th>2020-09-08</th>\n",
       "      <td>-0.173459</td>\n",
       "      <td>0.436061</td>\n",
       "      <td>-0.469290</td>\n",
       "      <td>1.605012</td>\n",
       "      <td>5</td>\n",
       "      <td>2</td>\n",
       "      <td>1.0</td>\n",
       "    </tr>\n",
       "    <tr>\n",
       "      <th>2020-09-15</th>\n",
       "      <td>0.617496</td>\n",
       "      <td>0.693855</td>\n",
       "      <td>0.646148</td>\n",
       "      <td>0.627287</td>\n",
       "      <td>4</td>\n",
       "      <td>3</td>\n",
       "      <td>-999.0</td>\n",
       "    </tr>\n",
       "    <tr>\n",
       "      <th>2020-09-22</th>\n",
       "      <td>-1.074106</td>\n",
       "      <td>0.847441</td>\n",
       "      <td>0.421393</td>\n",
       "      <td>-0.408364</td>\n",
       "      <td>5</td>\n",
       "      <td>4</td>\n",
       "      <td>-999.0</td>\n",
       "    </tr>\n",
       "    <tr>\n",
       "      <th>2020-09-29</th>\n",
       "      <td>0.376635</td>\n",
       "      <td>-0.279863</td>\n",
       "      <td>-0.701821</td>\n",
       "      <td>-0.500150</td>\n",
       "      <td>4</td>\n",
       "      <td>5</td>\n",
       "      <td>-999.0</td>\n",
       "    </tr>\n",
       "  </tbody>\n",
       "</table>\n",
       "</div>"
      ],
      "text/plain": [
       "                 Ann       Bob    Charly       Don  E  F      G\n",
       "2020-08-25  0.062223  1.760995 -0.564789 -0.377276  4 -1    1.0\n",
       "2020-09-01  0.058386 -1.317107  0.789512  0.579092  4  1    1.0\n",
       "2020-09-08 -0.173459  0.436061 -0.469290  1.605012  5  2    1.0\n",
       "2020-09-15  0.617496  0.693855  0.646148  0.627287  4  3 -999.0\n",
       "2020-09-22 -1.074106  0.847441  0.421393 -0.408364  5  4 -999.0\n",
       "2020-09-29  0.376635 -0.279863 -0.701821 -0.500150  4  5 -999.0"
      ]
     },
     "execution_count": 148,
     "metadata": {},
     "output_type": "execute_result"
    }
   ],
   "source": [
    "# fill missing values\n",
    "df1.fillna(value=-999)"
   ]
  },
  {
   "cell_type": "code",
   "execution_count": null,
   "id": "9ee1a19e",
   "metadata": {},
   "outputs": [],
   "source": []
  },
  {
   "cell_type": "markdown",
   "id": "73d8f796-d2aa-4770-8301-da3f1ce0017b",
   "metadata": {},
   "source": [
    "## Operations on `dataframe`"
   ]
  },
  {
   "cell_type": "markdown",
   "id": "0d31ba84-00a5-4de0-a871-dce9c15d39c3",
   "metadata": {},
   "source": [
    "**Stats**"
   ]
  },
  {
   "cell_type": "code",
   "execution_count": 149,
   "id": "d3f9a808",
   "metadata": {},
   "outputs": [
    {
     "data": {
      "text/html": [
       "<div>\n",
       "<style scoped>\n",
       "    .dataframe tbody tr th:only-of-type {\n",
       "        vertical-align: middle;\n",
       "    }\n",
       "\n",
       "    .dataframe tbody tr th {\n",
       "        vertical-align: top;\n",
       "    }\n",
       "\n",
       "    .dataframe thead th {\n",
       "        text-align: right;\n",
       "    }\n",
       "</style>\n",
       "<table border=\"1\" class=\"dataframe\">\n",
       "  <thead>\n",
       "    <tr style=\"text-align: right;\">\n",
       "      <th></th>\n",
       "      <th>Ann</th>\n",
       "      <th>Bob</th>\n",
       "      <th>Charly</th>\n",
       "      <th>Don</th>\n",
       "      <th>E</th>\n",
       "      <th>F</th>\n",
       "    </tr>\n",
       "  </thead>\n",
       "  <tbody>\n",
       "    <tr>\n",
       "      <th>count</th>\n",
       "      <td>6.000000</td>\n",
       "      <td>6.000000</td>\n",
       "      <td>6.000000</td>\n",
       "      <td>6.000000</td>\n",
       "      <td>6.000000</td>\n",
       "      <td>6.000000</td>\n",
       "    </tr>\n",
       "    <tr>\n",
       "      <th>mean</th>\n",
       "      <td>-0.022137</td>\n",
       "      <td>0.356897</td>\n",
       "      <td>0.020192</td>\n",
       "      <td>0.254267</td>\n",
       "      <td>4.333333</td>\n",
       "      <td>2.333333</td>\n",
       "    </tr>\n",
       "    <tr>\n",
       "      <th>std</th>\n",
       "      <td>0.585028</td>\n",
       "      <td>1.052586</td>\n",
       "      <td>0.670483</td>\n",
       "      <td>0.833815</td>\n",
       "      <td>0.516398</td>\n",
       "      <td>2.160247</td>\n",
       "    </tr>\n",
       "    <tr>\n",
       "      <th>min</th>\n",
       "      <td>-1.074106</td>\n",
       "      <td>-1.317107</td>\n",
       "      <td>-0.701821</td>\n",
       "      <td>-0.500150</td>\n",
       "      <td>4.000000</td>\n",
       "      <td>-1.000000</td>\n",
       "    </tr>\n",
       "    <tr>\n",
       "      <th>25%</th>\n",
       "      <td>-0.115498</td>\n",
       "      <td>-0.100882</td>\n",
       "      <td>-0.540915</td>\n",
       "      <td>-0.400592</td>\n",
       "      <td>4.000000</td>\n",
       "      <td>1.250000</td>\n",
       "    </tr>\n",
       "    <tr>\n",
       "      <th>50%</th>\n",
       "      <td>0.060305</td>\n",
       "      <td>0.564958</td>\n",
       "      <td>-0.023948</td>\n",
       "      <td>0.100908</td>\n",
       "      <td>4.000000</td>\n",
       "      <td>2.500000</td>\n",
       "    </tr>\n",
       "    <tr>\n",
       "      <th>75%</th>\n",
       "      <td>0.298032</td>\n",
       "      <td>0.809044</td>\n",
       "      <td>0.589959</td>\n",
       "      <td>0.615238</td>\n",
       "      <td>4.750000</td>\n",
       "      <td>3.750000</td>\n",
       "    </tr>\n",
       "    <tr>\n",
       "      <th>max</th>\n",
       "      <td>0.617496</td>\n",
       "      <td>1.760995</td>\n",
       "      <td>0.789512</td>\n",
       "      <td>1.605012</td>\n",
       "      <td>5.000000</td>\n",
       "      <td>5.000000</td>\n",
       "    </tr>\n",
       "  </tbody>\n",
       "</table>\n",
       "</div>"
      ],
      "text/plain": [
       "            Ann       Bob    Charly       Don         E         F\n",
       "count  6.000000  6.000000  6.000000  6.000000  6.000000  6.000000\n",
       "mean  -0.022137  0.356897  0.020192  0.254267  4.333333  2.333333\n",
       "std    0.585028  1.052586  0.670483  0.833815  0.516398  2.160247\n",
       "min   -1.074106 -1.317107 -0.701821 -0.500150  4.000000 -1.000000\n",
       "25%   -0.115498 -0.100882 -0.540915 -0.400592  4.000000  1.250000\n",
       "50%    0.060305  0.564958 -0.023948  0.100908  4.000000  2.500000\n",
       "75%    0.298032  0.809044  0.589959  0.615238  4.750000  3.750000\n",
       "max    0.617496  1.760995  0.789512  1.605012  5.000000  5.000000"
      ]
     },
     "execution_count": 149,
     "metadata": {},
     "output_type": "execute_result"
    }
   ],
   "source": [
    "df.describe()"
   ]
  },
  {
   "cell_type": "code",
   "execution_count": null,
   "id": "9c9fe184",
   "metadata": {},
   "outputs": [],
   "source": []
  },
  {
   "cell_type": "code",
   "execution_count": 150,
   "id": "b74956cc-c4b6-4c73-968c-029fe58779b4",
   "metadata": {},
   "outputs": [
    {
     "data": {
      "text/html": [
       "<div>\n",
       "<style scoped>\n",
       "    .dataframe tbody tr th:only-of-type {\n",
       "        vertical-align: middle;\n",
       "    }\n",
       "\n",
       "    .dataframe tbody tr th {\n",
       "        vertical-align: top;\n",
       "    }\n",
       "\n",
       "    .dataframe thead th {\n",
       "        text-align: right;\n",
       "    }\n",
       "</style>\n",
       "<table border=\"1\" class=\"dataframe\">\n",
       "  <thead>\n",
       "    <tr style=\"text-align: right;\">\n",
       "      <th></th>\n",
       "      <th>Ann</th>\n",
       "      <th>Bob</th>\n",
       "      <th>Charly</th>\n",
       "      <th>Don</th>\n",
       "      <th>E</th>\n",
       "      <th>F</th>\n",
       "    </tr>\n",
       "  </thead>\n",
       "  <tbody>\n",
       "    <tr>\n",
       "      <th>2020-08-25</th>\n",
       "      <td>0.062223</td>\n",
       "      <td>1.760995</td>\n",
       "      <td>-0.564789</td>\n",
       "      <td>-0.377276</td>\n",
       "      <td>4</td>\n",
       "      <td>-1</td>\n",
       "    </tr>\n",
       "    <tr>\n",
       "      <th>2020-09-01</th>\n",
       "      <td>0.058386</td>\n",
       "      <td>-1.317107</td>\n",
       "      <td>0.789512</td>\n",
       "      <td>0.579092</td>\n",
       "      <td>4</td>\n",
       "      <td>1</td>\n",
       "    </tr>\n",
       "    <tr>\n",
       "      <th>2020-09-08</th>\n",
       "      <td>-0.173459</td>\n",
       "      <td>0.436061</td>\n",
       "      <td>-0.469290</td>\n",
       "      <td>1.605012</td>\n",
       "      <td>5</td>\n",
       "      <td>2</td>\n",
       "    </tr>\n",
       "    <tr>\n",
       "      <th>2020-09-15</th>\n",
       "      <td>0.617496</td>\n",
       "      <td>0.693855</td>\n",
       "      <td>0.646148</td>\n",
       "      <td>0.627287</td>\n",
       "      <td>4</td>\n",
       "      <td>3</td>\n",
       "    </tr>\n",
       "    <tr>\n",
       "      <th>2020-09-22</th>\n",
       "      <td>-1.074106</td>\n",
       "      <td>0.847441</td>\n",
       "      <td>0.421393</td>\n",
       "      <td>-0.408364</td>\n",
       "      <td>5</td>\n",
       "      <td>4</td>\n",
       "    </tr>\n",
       "    <tr>\n",
       "      <th>2020-09-29</th>\n",
       "      <td>0.376635</td>\n",
       "      <td>-0.279863</td>\n",
       "      <td>-0.701821</td>\n",
       "      <td>-0.500150</td>\n",
       "      <td>4</td>\n",
       "      <td>5</td>\n",
       "    </tr>\n",
       "  </tbody>\n",
       "</table>\n",
       "</div>"
      ],
      "text/plain": [
       "                 Ann       Bob    Charly       Don  E  F\n",
       "2020-08-25  0.062223  1.760995 -0.564789 -0.377276  4 -1\n",
       "2020-09-01  0.058386 -1.317107  0.789512  0.579092  4  1\n",
       "2020-09-08 -0.173459  0.436061 -0.469290  1.605012  5  2\n",
       "2020-09-15  0.617496  0.693855  0.646148  0.627287  4  3\n",
       "2020-09-22 -1.074106  0.847441  0.421393 -0.408364  5  4\n",
       "2020-09-29  0.376635 -0.279863 -0.701821 -0.500150  4  5"
      ]
     },
     "execution_count": 150,
     "metadata": {},
     "output_type": "execute_result"
    }
   ],
   "source": [
    "df"
   ]
  },
  {
   "cell_type": "code",
   "execution_count": 151,
   "id": "6ba3c243-4923-4026-a22a-49718e6af500",
   "metadata": {},
   "outputs": [
    {
     "data": {
      "text/plain": [
       "[-0.022137466126505894,\n",
       " 0.3568967773533347,\n",
       " 0.020192211252075026,\n",
       " 0.25426672868286554,\n",
       " 4.333333333333333,\n",
       " 2.3333333333333335]"
      ]
     },
     "execution_count": 151,
     "metadata": {},
     "output_type": "execute_result"
    }
   ],
   "source": [
    "# df.mean()\n",
    "list(df.mean())"
   ]
  },
  {
   "cell_type": "code",
   "execution_count": 152,
   "id": "997b8335-ae6c-429a-8f6f-05cbacbb05ab",
   "metadata": {},
   "outputs": [
    {
     "data": {
      "text/plain": [
       "Ann      -0.022137\n",
       "Bob       0.356897\n",
       "Charly    0.020192\n",
       "Don       0.254267\n",
       "E         4.333333\n",
       "F         2.333333\n",
       "dtype: float64"
      ]
     },
     "execution_count": 152,
     "metadata": {},
     "output_type": "execute_result"
    }
   ],
   "source": [
    "df.mean()"
   ]
  },
  {
   "cell_type": "code",
   "execution_count": 153,
   "id": "230b7529-9874-47e4-95ab-f69347ddf4ba",
   "metadata": {},
   "outputs": [
    {
     "data": {
      "text/plain": [
       "array([-0.02213747,  0.35689678,  0.02019221,  0.25426673,  4.33333333,\n",
       "        2.33333333])"
      ]
     },
     "execution_count": 153,
     "metadata": {},
     "output_type": "execute_result"
    }
   ],
   "source": [
    "df.mean().values"
   ]
  },
  {
   "cell_type": "code",
   "execution_count": 155,
   "id": "a156cd4e-bfe7-4ce1-8147-d1153c44d086",
   "metadata": {},
   "outputs": [
    {
     "data": {
      "text/plain": [
       "Ann      -0.022137\n",
       "Bob       0.356897\n",
       "Charly    0.020192\n",
       "Don       0.254267\n",
       "E         4.333333\n",
       "F         2.333333\n",
       "dtype: float64"
      ]
     },
     "execution_count": 155,
     "metadata": {},
     "output_type": "execute_result"
    }
   ],
   "source": [
    "df.mean(axis=0)"
   ]
  },
  {
   "cell_type": "code",
   "execution_count": 156,
   "id": "50c9f881-a207-4163-b421-3cde3b9f43c5",
   "metadata": {},
   "outputs": [
    {
     "data": {
      "text/plain": [
       "2020-08-25    0.646859\n",
       "2020-09-01    0.851647\n",
       "2020-09-08    1.399721\n",
       "2020-09-15    1.597464\n",
       "2020-09-22    1.464394\n",
       "2020-09-29    1.315800\n",
       "Freq: 7D, dtype: float64"
      ]
     },
     "execution_count": 156,
     "metadata": {},
     "output_type": "execute_result"
    }
   ],
   "source": [
    "df.mean(axis=1)"
   ]
  },
  {
   "cell_type": "code",
   "execution_count": null,
   "id": "6a2077d1-adc7-4775-a24b-9f1f989381c2",
   "metadata": {},
   "outputs": [],
   "source": []
  },
  {
   "cell_type": "code",
   "execution_count": null,
   "id": "2f97224b-8cfe-4475-bb90-e6d63c6020df",
   "metadata": {},
   "outputs": [],
   "source": []
  },
  {
   "cell_type": "markdown",
   "id": "451850c2-dbbb-4c65-a5b0-e3e0d78e0274",
   "metadata": {},
   "source": [
    "**Histogram**"
   ]
  },
  {
   "cell_type": "code",
   "execution_count": 157,
   "id": "b0d1f2fc-9dc4-41c0-8317-4480b4d9cf4f",
   "metadata": {},
   "outputs": [
    {
     "data": {
      "text/html": [
       "<div>\n",
       "<style scoped>\n",
       "    .dataframe tbody tr th:only-of-type {\n",
       "        vertical-align: middle;\n",
       "    }\n",
       "\n",
       "    .dataframe tbody tr th {\n",
       "        vertical-align: top;\n",
       "    }\n",
       "\n",
       "    .dataframe thead th {\n",
       "        text-align: right;\n",
       "    }\n",
       "</style>\n",
       "<table border=\"1\" class=\"dataframe\">\n",
       "  <thead>\n",
       "    <tr style=\"text-align: right;\">\n",
       "      <th></th>\n",
       "      <th>Ann</th>\n",
       "      <th>Bob</th>\n",
       "      <th>Charly</th>\n",
       "      <th>Don</th>\n",
       "      <th>E</th>\n",
       "      <th>F</th>\n",
       "    </tr>\n",
       "  </thead>\n",
       "  <tbody>\n",
       "    <tr>\n",
       "      <th>2020-08-25</th>\n",
       "      <td>0.062223</td>\n",
       "      <td>1.760995</td>\n",
       "      <td>-0.564789</td>\n",
       "      <td>-0.377276</td>\n",
       "      <td>4</td>\n",
       "      <td>-1</td>\n",
       "    </tr>\n",
       "    <tr>\n",
       "      <th>2020-09-01</th>\n",
       "      <td>0.058386</td>\n",
       "      <td>-1.317107</td>\n",
       "      <td>0.789512</td>\n",
       "      <td>0.579092</td>\n",
       "      <td>4</td>\n",
       "      <td>1</td>\n",
       "    </tr>\n",
       "    <tr>\n",
       "      <th>2020-09-08</th>\n",
       "      <td>-0.173459</td>\n",
       "      <td>0.436061</td>\n",
       "      <td>-0.469290</td>\n",
       "      <td>1.605012</td>\n",
       "      <td>5</td>\n",
       "      <td>2</td>\n",
       "    </tr>\n",
       "    <tr>\n",
       "      <th>2020-09-15</th>\n",
       "      <td>0.617496</td>\n",
       "      <td>0.693855</td>\n",
       "      <td>0.646148</td>\n",
       "      <td>0.627287</td>\n",
       "      <td>4</td>\n",
       "      <td>3</td>\n",
       "    </tr>\n",
       "    <tr>\n",
       "      <th>2020-09-22</th>\n",
       "      <td>-1.074106</td>\n",
       "      <td>0.847441</td>\n",
       "      <td>0.421393</td>\n",
       "      <td>-0.408364</td>\n",
       "      <td>5</td>\n",
       "      <td>4</td>\n",
       "    </tr>\n",
       "    <tr>\n",
       "      <th>2020-09-29</th>\n",
       "      <td>0.376635</td>\n",
       "      <td>-0.279863</td>\n",
       "      <td>-0.701821</td>\n",
       "      <td>-0.500150</td>\n",
       "      <td>4</td>\n",
       "      <td>5</td>\n",
       "    </tr>\n",
       "  </tbody>\n",
       "</table>\n",
       "</div>"
      ],
      "text/plain": [
       "                 Ann       Bob    Charly       Don  E  F\n",
       "2020-08-25  0.062223  1.760995 -0.564789 -0.377276  4 -1\n",
       "2020-09-01  0.058386 -1.317107  0.789512  0.579092  4  1\n",
       "2020-09-08 -0.173459  0.436061 -0.469290  1.605012  5  2\n",
       "2020-09-15  0.617496  0.693855  0.646148  0.627287  4  3\n",
       "2020-09-22 -1.074106  0.847441  0.421393 -0.408364  5  4\n",
       "2020-09-29  0.376635 -0.279863 -0.701821 -0.500150  4  5"
      ]
     },
     "execution_count": 157,
     "metadata": {},
     "output_type": "execute_result"
    }
   ],
   "source": [
    "df"
   ]
  },
  {
   "cell_type": "code",
   "execution_count": 158,
   "id": "c6cc3fc1-028e-4b59-97cd-94a2a70088e1",
   "metadata": {},
   "outputs": [
    {
     "data": {
      "text/html": [
       "<div>\n",
       "<style scoped>\n",
       "    .dataframe tbody tr th:only-of-type {\n",
       "        vertical-align: middle;\n",
       "    }\n",
       "\n",
       "    .dataframe tbody tr th {\n",
       "        vertical-align: top;\n",
       "    }\n",
       "\n",
       "    .dataframe thead th {\n",
       "        text-align: right;\n",
       "    }\n",
       "</style>\n",
       "<table border=\"1\" class=\"dataframe\">\n",
       "  <thead>\n",
       "    <tr style=\"text-align: right;\">\n",
       "      <th></th>\n",
       "      <th>Ann</th>\n",
       "      <th>Bob</th>\n",
       "      <th>Charly</th>\n",
       "      <th>Don</th>\n",
       "      <th>E</th>\n",
       "      <th>F</th>\n",
       "      <th>histcol</th>\n",
       "    </tr>\n",
       "  </thead>\n",
       "  <tbody>\n",
       "    <tr>\n",
       "      <th>2020-08-25</th>\n",
       "      <td>0.062223</td>\n",
       "      <td>1.760995</td>\n",
       "      <td>-0.564789</td>\n",
       "      <td>-0.377276</td>\n",
       "      <td>4</td>\n",
       "      <td>-1</td>\n",
       "      <td>0</td>\n",
       "    </tr>\n",
       "    <tr>\n",
       "      <th>2020-09-01</th>\n",
       "      <td>0.058386</td>\n",
       "      <td>-1.317107</td>\n",
       "      <td>0.789512</td>\n",
       "      <td>0.579092</td>\n",
       "      <td>4</td>\n",
       "      <td>1</td>\n",
       "      <td>2</td>\n",
       "    </tr>\n",
       "    <tr>\n",
       "      <th>2020-09-08</th>\n",
       "      <td>-0.173459</td>\n",
       "      <td>0.436061</td>\n",
       "      <td>-0.469290</td>\n",
       "      <td>1.605012</td>\n",
       "      <td>5</td>\n",
       "      <td>2</td>\n",
       "      <td>1</td>\n",
       "    </tr>\n",
       "    <tr>\n",
       "      <th>2020-09-15</th>\n",
       "      <td>0.617496</td>\n",
       "      <td>0.693855</td>\n",
       "      <td>0.646148</td>\n",
       "      <td>0.627287</td>\n",
       "      <td>4</td>\n",
       "      <td>3</td>\n",
       "      <td>0</td>\n",
       "    </tr>\n",
       "    <tr>\n",
       "      <th>2020-09-22</th>\n",
       "      <td>-1.074106</td>\n",
       "      <td>0.847441</td>\n",
       "      <td>0.421393</td>\n",
       "      <td>-0.408364</td>\n",
       "      <td>5</td>\n",
       "      <td>4</td>\n",
       "      <td>1</td>\n",
       "    </tr>\n",
       "    <tr>\n",
       "      <th>2020-09-29</th>\n",
       "      <td>0.376635</td>\n",
       "      <td>-0.279863</td>\n",
       "      <td>-0.701821</td>\n",
       "      <td>-0.500150</td>\n",
       "      <td>4</td>\n",
       "      <td>5</td>\n",
       "      <td>0</td>\n",
       "    </tr>\n",
       "  </tbody>\n",
       "</table>\n",
       "</div>"
      ],
      "text/plain": [
       "                 Ann       Bob    Charly       Don  E  F  histcol\n",
       "2020-08-25  0.062223  1.760995 -0.564789 -0.377276  4 -1        0\n",
       "2020-09-01  0.058386 -1.317107  0.789512  0.579092  4  1        2\n",
       "2020-09-08 -0.173459  0.436061 -0.469290  1.605012  5  2        1\n",
       "2020-09-15  0.617496  0.693855  0.646148  0.627287  4  3        0\n",
       "2020-09-22 -1.074106  0.847441  0.421393 -0.408364  5  4        1\n",
       "2020-09-29  0.376635 -0.279863 -0.701821 -0.500150  4  5        0"
      ]
     },
     "execution_count": 158,
     "metadata": {},
     "output_type": "execute_result"
    }
   ],
   "source": [
    "df['histcol'] = np.random.randint(0,3,size=6)\n",
    "df"
   ]
  },
  {
   "cell_type": "code",
   "execution_count": 159,
   "id": "567a2a5c-af7b-4d2f-a1d2-b0f99c8e3ffd",
   "metadata": {},
   "outputs": [
    {
     "data": {
      "text/plain": [
       "histcol\n",
       "0    3\n",
       "1    2\n",
       "2    1\n",
       "Name: count, dtype: int64"
      ]
     },
     "execution_count": 159,
     "metadata": {},
     "output_type": "execute_result"
    }
   ],
   "source": [
    "df.histcol.value_counts()"
   ]
  },
  {
   "cell_type": "code",
   "execution_count": 160,
   "id": "2e74ae49-6fe0-45d7-b825-03fe1bf01d4d",
   "metadata": {},
   "outputs": [
    {
     "data": {
      "text/plain": [
       "3"
      ]
     },
     "execution_count": 160,
     "metadata": {},
     "output_type": "execute_result"
    }
   ],
   "source": [
    "df.histcol.nunique()"
   ]
  },
  {
   "cell_type": "code",
   "execution_count": 161,
   "id": "8018690e-c3f4-4149-9e5d-c832ea7c085b",
   "metadata": {},
   "outputs": [
    {
     "data": {
      "text/plain": [
       "array([0, 2, 1])"
      ]
     },
     "execution_count": 161,
     "metadata": {},
     "output_type": "execute_result"
    }
   ],
   "source": [
    "df.histcol.unique()"
   ]
  },
  {
   "cell_type": "code",
   "execution_count": 162,
   "id": "e5bf0dc5-6338-4f98-bf85-a9d32fb4434e",
   "metadata": {},
   "outputs": [
    {
     "data": {
      "text/plain": [
       "<Axes: >"
      ]
     },
     "execution_count": 162,
     "metadata": {},
     "output_type": "execute_result"
    },
    {
     "data": {
      "image/png": "[encoded data removed]",
      "text/plain": [
       "<Figure size 640x480 with 1 Axes>"
      ]
     },
     "metadata": {},
     "output_type": "display_data"
    }
   ],
   "source": [
    "# df.histcol.hist()\n",
    "df.histcol.hist(density=True)"
   ]
  },
  {
   "cell_type": "code",
   "execution_count": null,
   "id": "8680d4b3",
   "metadata": {},
   "outputs": [],
   "source": []
  },
  {
   "cell_type": "code",
   "execution_count": null,
   "id": "7495ab25",
   "metadata": {},
   "outputs": [],
   "source": []
  },
  {
   "cell_type": "code",
   "execution_count": null,
   "id": "c1b56098",
   "metadata": {},
   "outputs": [],
   "source": []
  },
  {
   "cell_type": "markdown",
   "id": "dfb96972",
   "metadata": {},
   "source": [
    "## Go through these examples below you have time, we'll try to cover it next time"
   ]
  },
  {
   "cell_type": "markdown",
   "id": "e983d460-9c73-4776-acf8-48e0186af3ce",
   "metadata": {},
   "source": [
    "**Apply functions/logics to the data**"
   ]
  },
  {
   "cell_type": "code",
   "execution_count": null,
   "id": "3a87069b-9295-487f-99ad-31f3411be8d2",
   "metadata": {},
   "outputs": [],
   "source": [
    "df"
   ]
  },
  {
   "cell_type": "code",
   "execution_count": null,
   "id": "4a00cae5-218d-4a94-b918-5f354635c394",
   "metadata": {},
   "outputs": [],
   "source": [
    "df.apply(np.cumsum) # apply the function on all columns"
   ]
  },
  {
   "cell_type": "code",
   "execution_count": null,
   "id": "bcac79c3-c7ec-4004-8fcf-25dabdaa176d",
   "metadata": {},
   "outputs": [],
   "source": [
    "df.apply(lambda x: -x) # apply the function on all columns"
   ]
  },
  {
   "cell_type": "code",
   "execution_count": null,
   "id": "037a9830-d464-4713-a7ee-92f62ca9e329",
   "metadata": {},
   "outputs": [],
   "source": [
    "df.E.map(lambda x: x+1) # apply the function on one single column"
   ]
  },
  {
   "cell_type": "code",
   "execution_count": null,
   "id": "40664f65-9eb0-4333-812d-8da94fab4ada",
   "metadata": {},
   "outputs": [],
   "source": []
  },
  {
   "cell_type": "markdown",
   "id": "97a4212b-9776-4e99-a7d9-c40f5c15f996",
   "metadata": {},
   "source": [
    "## `dataframe` and table operations"
   ]
  },
  {
   "cell_type": "code",
   "execution_count": null,
   "id": "feb054c6-fb1a-4c30-8dd1-b1295b35953e",
   "metadata": {},
   "outputs": [],
   "source": [
    "df = pd.DataFrame(np.random.randn(10, 4), columns=['a','b','c','d'])\n",
    "df"
   ]
  },
  {
   "cell_type": "markdown",
   "id": "48bbbff7-2927-4ac3-8ee5-c5b3978ac7a8",
   "metadata": {},
   "source": [
    "**Concat**"
   ]
  },
  {
   "cell_type": "code",
   "execution_count": null,
   "id": "862a3b2d-661b-443f-ac0e-6f576c24f28f",
   "metadata": {},
   "outputs": [],
   "source": [
    "pieces = [df[:3], df[7:]]\n",
    "print(\"pieces:\\n\", pieces)\n",
    "print(\"put back together:\\n\")\n",
    "# pd.concat(pieces, axis=1)\n",
    "pd.concat(pieces, axis=0)"
   ]
  },
  {
   "cell_type": "markdown",
   "id": "4e91cd00-34df-4494-9777-d5d403166ad2",
   "metadata": {},
   "source": [
    "**Append new data from another `dataframe`**"
   ]
  },
  {
   "cell_type": "code",
   "execution_count": null,
   "id": "ed3e446d-5821-4d2f-9385-138a62a98b9e",
   "metadata": {},
   "outputs": [],
   "source": [
    "df_p2 = pd.DataFrame(np.random.randn(4, 4), columns=['a','b','c','d'])\n",
    "df_p2"
   ]
  },
  {
   "cell_type": "code",
   "execution_count": null,
   "id": "4eb7e280-1351-4ee5-a2ba-7e153c1446fd",
   "metadata": {},
   "outputs": [],
   "source": []
  },
  {
   "cell_type": "code",
   "execution_count": null,
   "id": "9fb38a3d-a9f2-4097-a06e-bfb839a674ae",
   "metadata": {},
   "outputs": [],
   "source": [
    "pd.__version__"
   ]
  },
  {
   "cell_type": "code",
   "execution_count": null,
   "id": "916daffc-29e1-4cd5-b2ff-bb15b31389d8",
   "metadata": {},
   "outputs": [],
   "source": []
  },
  {
   "cell_type": "markdown",
   "id": "da3bca0f-aaa8-43c4-85f0-5c7b65eaf132",
   "metadata": {},
   "source": [
    "**Joins**\n",
    "\n",
    "More details at https://pandas.pydata.org/pandas-docs/stable/user_guide/merging.html\n",
    "![](joins.jpg)"
   ]
  },
  {
   "cell_type": "code",
   "execution_count": null,
   "id": "7558cd26-90b2-4e6f-ad5b-991df2f1a372",
   "metadata": {},
   "outputs": [],
   "source": [
    "tb1 = pd.DataFrame({'key': ['foo', 'boo', 'foo'], 'lval': [1, 2, 3]})\n",
    "tb2 = pd.DataFrame({'key': ['foo', 'coo'], 'rval': [5, 6]})"
   ]
  },
  {
   "cell_type": "code",
   "execution_count": null,
   "id": "9a395a49-d59f-4f2e-a545-1881da98bc64",
   "metadata": {},
   "outputs": [],
   "source": [
    "tb1"
   ]
  },
  {
   "cell_type": "code",
   "execution_count": null,
   "id": "ecf39b7c-44dc-4e28-a499-9f03c73e4927",
   "metadata": {},
   "outputs": [],
   "source": [
    "tb2"
   ]
  },
  {
   "cell_type": "code",
   "execution_count": null,
   "id": "6e55112d-2448-437d-bb65-ab6b81665be0",
   "metadata": {},
   "outputs": [],
   "source": [
    "pd.merge(tb1, tb2, on='key', how='inner')"
   ]
  },
  {
   "cell_type": "code",
   "execution_count": null,
   "id": "64bd732f-8dd7-4959-af78-f32f1debae12",
   "metadata": {},
   "outputs": [],
   "source": [
    "pd.merge(tb1, tb2, on='key', how='left')"
   ]
  },
  {
   "cell_type": "code",
   "execution_count": null,
   "id": "2de01da8-5641-402e-9d9d-e68dd3bb411f",
   "metadata": {},
   "outputs": [],
   "source": [
    "pd.merge(tb1, tb2, on='key', how='right')"
   ]
  },
  {
   "cell_type": "code",
   "execution_count": null,
   "id": "da8476d2-f836-4b87-bcb9-0dbb7fde0659",
   "metadata": {},
   "outputs": [],
   "source": [
    "pd.merge(tb1, tb2, on='key', how='outer')"
   ]
  },
  {
   "cell_type": "code",
   "execution_count": null,
   "id": "d5177a9a-5017-4b34-adac-464291228626",
   "metadata": {},
   "outputs": [],
   "source": []
  },
  {
   "cell_type": "markdown",
   "id": "c9f23f11-54a2-4bff-a36f-287a35ff684a",
   "metadata": {},
   "source": [
    "**Grouping**\n",
    "\n",
    "By `group by` we are referring to a process involving one or more of the following steps\n",
    "\n",
    "* Splitting the data into groups based on some criteria\n",
    "* Applying a function to each group independently\n",
    "* Combining the results into a data structure\n",
    "See the Grouping section from the `pandas` official documentation: https://pandas.pydata.org/pandas-docs/stable/user_guide/groupby.html"
   ]
  },
  {
   "cell_type": "code",
   "execution_count": null,
   "id": "a2a67465-5675-44b7-8a00-f55632b80283",
   "metadata": {},
   "outputs": [],
   "source": [
    "df = pd.DataFrame({'A' : ['foo', 'bar', 'foo', 'bar', 'foo', 'bar', 'foo', 'foo'],\n",
    "                   'B' : ['one', 'one', 'two', 'three', 'two', 'two', 'one', 'three'],\n",
    "                   'C' : np.random.randn(8),\n",
    "                   'D' : np.random.randn(8)})\n",
    "\n",
    "df"
   ]
  },
  {
   "cell_type": "code",
   "execution_count": null,
   "id": "c4b557ae-2712-464d-8555-2754b9a93512",
   "metadata": {},
   "outputs": [],
   "source": []
  },
  {
   "cell_type": "code",
   "execution_count": null,
   "id": "661821ce-5901-4d6e-8b58-ce256cd801b4",
   "metadata": {},
   "outputs": [],
   "source": []
  },
  {
   "cell_type": "code",
   "execution_count": null,
   "id": "81b6c3fb-bb17-44d4-8bd8-327f7e66bdda",
   "metadata": {},
   "outputs": [],
   "source": [
    "df.groupby('A')['C'].mean().reset_index() # simple stats grouped by 1 column"
   ]
  },
  {
   "cell_type": "code",
   "execution_count": null,
   "id": "08a858a7-cccb-43a9-a881-ad3d206f8737",
   "metadata": {},
   "outputs": [],
   "source": [
    "df.groupby(['A','B']).sum().reset_index() # simple stats grouped by multiple columns"
   ]
  },
  {
   "cell_type": "code",
   "execution_count": null,
   "id": "4312bef0-094a-43bf-9dc4-03b0f323da85",
   "metadata": {},
   "outputs": [],
   "source": [
    "df.groupby(['A','B']).mean().reset_index() # simple stats grouped by multiple columns"
   ]
  },
  {
   "cell_type": "code",
   "execution_count": null,
   "id": "a0c53419-b665-492f-9f7b-b3eaf5270e52",
   "metadata": {},
   "outputs": [],
   "source": []
  },
  {
   "cell_type": "code",
   "execution_count": null,
   "id": "32070e39-e419-4485-832c-d01b96c376c1",
   "metadata": {},
   "outputs": [],
   "source": [
    "# df.groupby(['A','B'])['C'].apply(lambda x: np.sum(x**2)).reset_index() # customized aggregation\n",
    "df.groupby(['A','B'])['C'].apply(lambda x: np.sum(x)).reset_index() # customized aggregation"
   ]
  },
  {
   "cell_type": "code",
   "execution_count": null,
   "id": "dde057b6-402c-403f-8809-f1c2bb9184da",
   "metadata": {},
   "outputs": [],
   "source": []
  },
  {
   "cell_type": "markdown",
   "id": "d9af646c-71ef-4276-8019-80d29ad791bd",
   "metadata": {},
   "source": [
    "**Pivot table**"
   ]
  },
  {
   "cell_type": "code",
   "execution_count": null,
   "id": "6423318d-708b-497b-a3b9-d9ac951ee206",
   "metadata": {},
   "outputs": [],
   "source": [
    "df = pd.DataFrame({'ModelNumber' : ['one', 'one', 'two', 'three'] * 3,\n",
    "                   'Submodel' : ['A', 'B', 'C'] * 4,\n",
    "                   'Type' : ['foo', 'foo', 'foo', 'bar', 'bar', 'bar'] * 2,\n",
    "                   'Xval' : np.random.randn(12),\n",
    "                   'Yval' : np.random.randn(12)})\n",
    "\n",
    "df"
   ]
  },
  {
   "cell_type": "markdown",
   "id": "8ed278e8-fbcc-44bf-b8b8-342d844f9f1e",
   "metadata": {},
   "source": [
    "We can produce pivot tables from this data very easily:"
   ]
  },
  {
   "cell_type": "code",
   "execution_count": null,
   "id": "1d5b7afb-91d0-405f-9aab-0010ef8d9da8",
   "metadata": {},
   "outputs": [],
   "source": [
    "pd.pivot_table(\n",
    "    df\n",
    "    , values='Xval'\n",
    "    , index=['ModelNumber', 'Submodel']\n",
    "    , columns=['Type']\n",
    ")"
   ]
  },
  {
   "cell_type": "code",
   "execution_count": null,
   "id": "46103e8c-fa7c-4669-8b83-2fbb3a669d82",
   "metadata": {},
   "outputs": [],
   "source": [
    "pd.pivot_table(\n",
    "    df\n",
    "    , values='Xval'\n",
    "    , index=['ModelNumber', 'Submodel']\n",
    "    , columns=['Type']\n",
    "#     , aggfunc='count'\n",
    "    ,aggfunc=lambda x: abs(x)\n",
    ")"
   ]
  },
  {
   "cell_type": "markdown",
   "id": "b1e86638-7079-4a01-a864-19f0946f9148",
   "metadata": {},
   "source": [
    "## Write/Export `dataframe` to files"
   ]
  },
  {
   "cell_type": "markdown",
   "id": "5e28a010-ff31-4b37-877e-15013c6848de",
   "metadata": {},
   "source": [
    "**CSV file**"
   ]
  },
  {
   "cell_type": "code",
   "execution_count": null,
   "id": "0224be16-4131-4c1d-8eda-b6bdad716fd7",
   "metadata": {},
   "outputs": [],
   "source": [
    "df"
   ]
  },
  {
   "cell_type": "code",
   "execution_count": null,
   "id": "1b40b81e-429c-40e5-8fa5-5f92bc87a978",
   "metadata": {},
   "outputs": [],
   "source": [
    "df.to_csv('../data/to-csv-test.csv',sep=',',header=True,index=None)"
   ]
  },
  {
   "cell_type": "markdown",
   "id": "63995e18-e080-4751-a525-43230259f91b",
   "metadata": {},
   "source": [
    "**Excel spreadsheet**"
   ]
  },
  {
   "cell_type": "code",
   "execution_count": null,
   "id": "f47431ba-4a12-4d77-8e5c-d21b52d02c80",
   "metadata": {},
   "outputs": [],
   "source": [
    "df.to_excel('../data/to-excel-test.xlsx',sheet_name='tab1',header=True,index=None)"
   ]
  },
  {
   "cell_type": "code",
   "execution_count": null,
   "id": "a327fd94-c96a-4134-98d7-6ad90ff9d34d",
   "metadata": {},
   "outputs": [],
   "source": []
  },
  {
   "cell_type": "markdown",
   "id": "88704cc7-137d-4745-bdcc-78c013a2ae85",
   "metadata": {},
   "source": [
    "## Pandas and time series data [offline-reading]\n",
    "\n",
    "Please check `pandas` official documentations:\n",
    "* https://pandas.pydata.org/pandas-docs/stable/user_guide/10min.html#time-series\n",
    "* https://pandas.pydata.org/pandas-docs/stable/user_guide/timeseries.html"
   ]
  },
  {
   "cell_type": "code",
   "execution_count": null,
   "id": "b72ba0ca-dee2-441f-aad1-eaecc6af9689",
   "metadata": {},
   "outputs": [],
   "source": [
    "rng = pd.date_range('1/1/2012', periods=10, freq='S')\n",
    "rng"
   ]
  },
  {
   "cell_type": "code",
   "execution_count": null,
   "id": "ebca7920-570a-439a-9700-b15a6b6bacfe",
   "metadata": {},
   "outputs": [],
   "source": [
    "ts = pd.Series(np.random.randint(0, 500, len(rng)), index=rng)\n",
    "ts"
   ]
  },
  {
   "cell_type": "code",
   "execution_count": null,
   "id": "8430fa7b-fcaa-4a2a-a9ec-d143f50751e1",
   "metadata": {},
   "outputs": [],
   "source": [
    "ts.resample('2S').mean()"
   ]
  },
  {
   "cell_type": "code",
   "execution_count": null,
   "id": "97e3f865-d152-4e36-8424-f83b0bb654ab",
   "metadata": {},
   "outputs": [],
   "source": []
  },
  {
   "cell_type": "code",
   "execution_count": null,
   "id": "c037a5e6-04c6-434d-b343-00d687ba76aa",
   "metadata": {},
   "outputs": [],
   "source": []
  },
  {
   "cell_type": "markdown",
   "id": "2d534a20-cb4f-49f8-b01e-9c2e293a4faa",
   "metadata": {},
   "source": [
    "More on `resampling` can be found at https://pandas.pydata.org/pandas-docs/stable/user_guide/timeseries.html#resampling"
   ]
  },
  {
   "cell_type": "code",
   "execution_count": null,
   "id": "6e68427f-3c16-415a-a10c-c58fa08e66ee",
   "metadata": {},
   "outputs": [],
   "source": [
    "ts.rolling(window=5).mean() # rolling average"
   ]
  },
  {
   "cell_type": "code",
   "execution_count": null,
   "id": "887269dc-ce31-45eb-a031-9439918f7ab7",
   "metadata": {},
   "outputs": [],
   "source": [
    "ts.rolling(window=5, center=True).mean() # set the label at the center"
   ]
  },
  {
   "cell_type": "code",
   "execution_count": null,
   "id": "9804f563-b719-484e-9eb3-a4410a01bb93",
   "metadata": {},
   "outputs": [],
   "source": []
  },
  {
   "cell_type": "markdown",
   "id": "dac0cb68-de0e-4484-aa04-aa86dbaf8529",
   "metadata": {},
   "source": [
    "More on `pandas.Series.rolling` can be found at https://pandas.pydata.org/pandas-docs/stable/reference/api/pandas.Series.rolling.html"
   ]
  },
  {
   "cell_type": "code",
   "execution_count": null,
   "id": "6a8c29fb-34ea-4c19-bf7e-63db1cef0e16",
   "metadata": {},
   "outputs": [],
   "source": [
    "ts.plot()"
   ]
  },
  {
   "cell_type": "code",
   "execution_count": null,
   "id": "bae7b042-f23c-4d12-9aaf-cb68be4b7d57",
   "metadata": {},
   "outputs": [],
   "source": []
  },
  {
   "cell_type": "code",
   "execution_count": null,
   "id": "0f043cfd-51ef-4b80-852c-3db1de55e934",
   "metadata": {},
   "outputs": [],
   "source": []
  }
 ],
 "metadata": {
  "kernelspec": {
   "display_name": "Python 3 (ipykernel)",
   "language": "python",
   "name": "python3"
  },
  "language_info": {
   "codemirror_mode": {
    "name": "ipython",
    "version": 3
   },
   "file_extension": ".py",
   "mimetype": "text/x-python",
   "name": "python",
   "nbconvert_exporter": "python",
   "pygments_lexer": "ipython3",
   "version": "3.10.8"
  }
 },
 "nbformat": 4,
 "nbformat_minor": 5
}
