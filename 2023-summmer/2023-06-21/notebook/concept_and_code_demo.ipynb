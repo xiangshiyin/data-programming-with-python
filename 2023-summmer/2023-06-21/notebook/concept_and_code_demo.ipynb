{
 "cells": [
  {
   "cell_type": "markdown",
   "id": "82b295d4-7a81-47cb-b956-7d3c50ff6e0c",
   "metadata": {},
   "source": [
    "# Today's Coding Topics\n",
    "[![Open In Colab](https://colab.research.google.com/assets/colab-badge.svg)](https://colab.research.google.com/github/xiangshiyin/data-programming-with-python/blob/main/2023-summmer/2023-06-21/notebook/concept_and_code_demo.ipynb)\n",
    "\n",
    "* Recap of previous lecture\n",
    "  * Numpy\n",
    "  * Nearest neighbor search example review\n",
    "  * Special topic: namespaces in Python\n",
    "* `Pandas`\n"
   ]
  },
  {
   "cell_type": "code",
   "execution_count": null,
   "id": "26e30fd5-ad18-4d91-b4af-3e4bd0d35713",
   "metadata": {},
   "outputs": [],
   "source": []
  },
  {
   "cell_type": "markdown",
   "id": "3ecc3648-7de2-43bc-b101-a6a37e7939f1",
   "metadata": {},
   "source": [
    "# Special topic"
   ]
  },
  {
   "cell_type": "code",
   "execution_count": null,
   "id": "6f9605cc-491f-462e-8482-d87a3a995ef8",
   "metadata": {},
   "outputs": [],
   "source": []
  },
  {
   "cell_type": "markdown",
   "id": "94bfa642-fab0-4b88-964b-1a71601e21f8",
   "metadata": {},
   "source": [
    "## Concepts: Scope and Namespace"
   ]
  },
  {
   "cell_type": "markdown",
   "id": "bf4b2e87-c0cf-4444-8770-513a71b8cb11",
   "metadata": {},
   "source": [
    "### How to find the Sherlock Homes Museum? what if we only know the street name?\n",
    "![](../pics/221b-baker-street-address.png)"
   ]
  },
  {
   "cell_type": "markdown",
   "id": "6eddb871-01af-438c-90ef-6f4d26703244",
   "metadata": {},
   "source": [
    "**We need to find the appropriate streetname within certain scopes/domains**\n",
    "* Different scope of search areas result in different addresses, and different search result\n",
    "    * uk\n",
    "    * uk, london\n",
    "    * uk, london, 221b baker street\n",
    "    \n",
    "**Same logic also applies to variable/object identification in Python programming!**\n",
    "* We need the address (`NAMESPACE`) to find a place(`VARIABLE/OBJECT`)\n",
    "* Different scope(`SCOPE`) of search areas result in different addresses(`NAMESPACE`), and different search result(`VARIABLE/OBJECT`)\n",
    "* If we represent the `namespace` in the `python` way:\n",
    "    * uk\n",
    "    * uk.london\n",
    "    * uk.london.221bBakerStreet"
   ]
  },
  {
   "cell_type": "markdown",
   "id": "3ec63131-1873-46e3-85ec-8cca43fdd681",
   "metadata": {},
   "source": [
    "**Python defines different `SCOPE`s by indenting the code and creating code blocks!** Below are the places where we see code indentations:\n",
    "* Function definition\n",
    "* Loops (for/while)\n",
    "* Conditional statment (if-else)\n",
    "\n",
    "Therefore, `SCOPE`s in Python code can be defined by:\n",
    "* Function definition\n",
    "* (*SPECIAL*) Script file where the code belongs to\n",
    "\n",
    "When you use a variable in your code, **Python will use the following orders to try different `SCOPE`s and locate the appropriate `VARIABLE/OBJECT`**\n",
    "* The `local scope`: the code block where you use the variable\n",
    "* The `enclosed scope`\n",
    "* The `global scope`: the script file (Jupyter Notebook in our lecture demo) where you code belongs to\n",
    "* The `built-in scope`\n",
    "\n"
   ]
  },
  {
   "cell_type": "markdown",
   "id": "306c8a62-87c7-4323-8950-263556b19987",
   "metadata": {},
   "source": [
    "![](../pics/scope.png)"
   ]
  },
  {
   "cell_type": "code",
   "execution_count": null,
   "id": "ed51eeef-8633-4388-a5c9-8caa58b3e018",
   "metadata": {},
   "outputs": [],
   "source": [
    "import numpy as np"
   ]
  },
  {
   "cell_type": "markdown",
   "id": "335e4c30-5a42-48a4-bcd7-5a22995f252d",
   "metadata": {},
   "source": [
    "### Global & Local Variables\n",
    "* Global variable: Variables you defined in the global scope\n",
    "* Local variable: Variables you defined in a local scope"
   ]
  },
  {
   "cell_type": "code",
   "execution_count": null,
   "id": "a8faed5e-08da-4dd7-8bf0-d0e0bcf459c1",
   "metadata": {},
   "outputs": [],
   "source": [
    "s = 'I am a string' # the global scope\n",
    "def test():\n",
    "    print('From function test(): ',s) # use the global scope\n",
    "\n",
    "test()"
   ]
  },
  {
   "cell_type": "code",
   "execution_count": null,
   "id": "417bfbec-51ec-4a1f-aa7f-442c546f0e99",
   "metadata": {},
   "outputs": [],
   "source": [
    "s = 'I am a string' # the global scope\n",
    "def test():\n",
    "    s = 'I am a new string' # the local scope\n",
    "    print('From function test(): ',s) # use the local scope\n",
    "\n",
    "test()\n",
    "print('Outside function test(): ',s) # the global scope"
   ]
  },
  {
   "cell_type": "code",
   "execution_count": null,
   "id": "22b6d1e5-2749-4237-9765-020afcdcd4a2",
   "metadata": {},
   "outputs": [],
   "source": [
    "s = 'I am a string' # the global scope\n",
    "def test():\n",
    "    s = 'I am a new string' # the local scope\n",
    "    print('From function test(), before assignment: ',s) # will try the local scope first\n",
    "    print('From function test(), after assignment: ',s)\n",
    "\n",
    "test()"
   ]
  },
  {
   "cell_type": "code",
   "execution_count": null,
   "id": "5c38d1a8-9a07-4211-80df-149aa6f6eded",
   "metadata": {},
   "outputs": [],
   "source": [
    "var = 123\n",
    "\n",
    "def test():\n",
    "    var = 124\n",
    "    print(var)\n",
    "\n",
    "def test1():\n",
    "    var = 1234\n",
    "    print(var)\n",
    "    \n",
    "test()\n",
    "test1()\n",
    "print(var)"
   ]
  },
  {
   "cell_type": "code",
   "execution_count": null,
   "id": "8bcf6ad9-3072-4fe3-84eb-01f44062b136",
   "metadata": {},
   "outputs": [],
   "source": [
    "var = 123\n",
    "id(var)"
   ]
  },
  {
   "cell_type": "code",
   "execution_count": null,
   "id": "f6277f75-4838-4d7b-96a2-adac1ff40e88",
   "metadata": {},
   "outputs": [],
   "source": [
    "var = 123\n",
    "\n",
    "def test():\n",
    "    var = 124\n",
    "#     print(var)\n",
    "    print(id(var))\n",
    "\n",
    "def test1():\n",
    "    var = 1234\n",
    "#     print(var)\n",
    "    print(id(var))\n",
    "    \n",
    "test()\n",
    "test1()\n",
    "print(id(var))"
   ]
  },
  {
   "cell_type": "code",
   "execution_count": null,
   "id": "8a35620e-1fad-4227-844d-fe709f6f14c2",
   "metadata": {},
   "outputs": [],
   "source": []
  },
  {
   "cell_type": "code",
   "execution_count": null,
   "id": "47f54b6d-55bb-440f-bc4e-e34ddfc0743d",
   "metadata": {},
   "outputs": [],
   "source": []
  },
  {
   "cell_type": "code",
   "execution_count": null,
   "id": "375ccbe3-e3e4-4586-9c7f-a736811cdc68",
   "metadata": {},
   "outputs": [],
   "source": [
    "s = 'I am a string' # the global scope\n",
    "def test():\n",
    "    global s\n",
    "    print('From function test(), before assignment: ',s) # will try the global scope\n",
    "    s = 'I am a new string'\n",
    "    print('From function test(), after assignment: ',s)\n",
    "\n",
    "test()\n",
    "print('From outside test(), ', s)"
   ]
  },
  {
   "cell_type": "code",
   "execution_count": null,
   "id": "3600c4f8-494f-4e31-975f-e8d8426bb4ba",
   "metadata": {},
   "outputs": [],
   "source": [
    "s = 'I am a string' # the global scope\n",
    "def test():\n",
    "#     global s\n",
    "#     print('From function test(), before assignment: ',s) # will try the global scope\n",
    "    s = 'I am a new string'\n",
    "    print('From function test(), after assignment: ',s)\n",
    "\n",
    "test()\n",
    "print('From outside test(), ', s)"
   ]
  },
  {
   "cell_type": "code",
   "execution_count": null,
   "id": "fee2931c-f693-45e8-bb43-91e5936e4b65",
   "metadata": {},
   "outputs": [],
   "source": [
    "a = [1,2,3]\n",
    "for i in range(3):\n",
    "    a = 4\n",
    "    print(i,a)\n",
    "print(a)"
   ]
  },
  {
   "cell_type": "markdown",
   "id": "501de98b-6030-4baf-bbba-abb38225a9b9",
   "metadata": {},
   "source": [
    "### Reading Materials\n",
    "* Fabrizio Romano *Learning Python: Learn to code like a professional with Python - an opensource, versatile, and powerful programming language* Packt Publishing, 2015. Chapter 1"
   ]
  },
  {
   "cell_type": "markdown",
   "id": "5d52e803-2702-4cfb-adda-0c54c1cdb15b",
   "metadata": {},
   "source": [
    "### More Examples"
   ]
  },
  {
   "cell_type": "code",
   "execution_count": null,
   "id": "1f13ca9a-d8d8-40f8-9a30-bfff5b1fb659",
   "metadata": {
    "scrolled": true
   },
   "outputs": [],
   "source": [
    "s = 'I am a string'\n",
    "def test1():\n",
    "    s = 'I am a new string'\n",
    "    print('From function test1(): ',s)\n",
    "\n",
    "def test2():\n",
    "    s = 'I am another new string'\n",
    "    print('From function test2(): ',s)\n",
    "\n",
    "print('Outside function test1() and test2(), before calling the 2 functions: ',s)\n",
    "test1()\n",
    "test2()\n",
    "print('Outside function test1() and test2(), after calling the 2 functions: ',s)"
   ]
  },
  {
   "cell_type": "markdown",
   "id": "649a7d3b-7f37-4a12-b001-c438fc3d08e4",
   "metadata": {},
   "source": [
    "### Passing parameters to the function"
   ]
  },
  {
   "cell_type": "code",
   "execution_count": null,
   "id": "34cf639e-52e0-455c-9561-e44d8b744af0",
   "metadata": {},
   "outputs": [],
   "source": [
    "s = 'I am a string'\n",
    "def test(s):\n",
    "    print('From function test(), before assignment: ',s)\n",
    "    s = 'I am a new string'\n",
    "    print('From function test(), after assignment: ',s)\n",
    "\n",
    "print('Outside function test(), before calling test(): ',s)    \n",
    "test(s)\n",
    "print('Outside function test(), after calling test() ',s)"
   ]
  },
  {
   "cell_type": "code",
   "execution_count": null,
   "id": "5d1c72cb-a4a7-4793-a871-079549934fbd",
   "metadata": {},
   "outputs": [],
   "source": [
    "## The above code is actually equivalent to the following code\n",
    "\n",
    "s = 'I am a string'\n",
    "def test(s_local):\n",
    "    print('From function test(), before assignment: ',s_local)\n",
    "    s_local = 'I am a new string'\n",
    "    print('From function test(), after assignment: ',s_local)\n",
    "\n",
    "print('Outside function test(), before calling test(): ',s)    \n",
    "test(s_local=s)\n",
    "print('Outside function test(), after calling test() ',s)"
   ]
  },
  {
   "cell_type": "code",
   "execution_count": null,
   "id": "73954263-ed2f-4e85-8437-97ea4b4950d2",
   "metadata": {},
   "outputs": [],
   "source": [
    "s = [1,2,3]\n",
    "def test(s):\n",
    "    print('From function test(), before assignment: ',s)\n",
    "    s[1] = 5\n",
    "    print('From function test(), after assignment: ',s)\n",
    "\n",
    "print('Outside function test(), before calling test(): ',s)    \n",
    "test(s)\n",
    "print('Outside function test(), after calling test() ',s)"
   ]
  },
  {
   "cell_type": "code",
   "execution_count": null,
   "id": "b942efee-bcc1-4c56-8085-23b5882726bb",
   "metadata": {},
   "outputs": [],
   "source": []
  },
  {
   "cell_type": "code",
   "execution_count": null,
   "id": "fd7e37a3-e3b4-4ccb-91d4-4c310fae2ba2",
   "metadata": {},
   "outputs": [],
   "source": []
  },
  {
   "cell_type": "code",
   "execution_count": null,
   "id": "c1084569-146a-4d27-98d1-d8fc72a7b48a",
   "metadata": {
    "scrolled": true
   },
   "outputs": [],
   "source": [
    "## The above code is actually equivalent to the following code\n",
    "\n",
    "s = [1,2,3]\n",
    "def test(s_local):\n",
    "    print('From function test(), before assignment: ',s_local)\n",
    "    s_local[1]=5\n",
    "    print('From function test(), after assignment: ',s_local)\n",
    "\n",
    "print('Outside function test(), before calling test(): ',s)    \n",
    "test(s_local=s)\n",
    "print('Outside function test(), after calling test() ',s)"
   ]
  },
  {
   "cell_type": "code",
   "execution_count": null,
   "id": "3475025c-636a-4f51-a54d-6dc04de0504a",
   "metadata": {},
   "outputs": [],
   "source": []
  },
  {
   "cell_type": "code",
   "execution_count": null,
   "id": "af9b416a-ce7b-4695-bf3d-15029308a74c",
   "metadata": {},
   "outputs": [],
   "source": []
  },
  {
   "cell_type": "code",
   "execution_count": null,
   "id": "55818391-92df-474d-9be5-f498eb44b838",
   "metadata": {},
   "outputs": [],
   "source": []
  },
  {
   "cell_type": "markdown",
   "id": "76a27977-7001-4c7b-8d86-f7e917189b16",
   "metadata": {},
   "source": [
    "# Recap of previous lecture"
   ]
  },
  {
   "cell_type": "markdown",
   "id": "3c5977eb-964b-4e99-85f9-0d446ccffe23",
   "metadata": {},
   "source": [
    "## Numpy and Numpy Arrays"
   ]
  },
  {
   "cell_type": "markdown",
   "id": "1091c3c1-2c53-4f48-8c11-fba0d66f6456",
   "metadata": {},
   "source": [
    "## import `numpy`"
   ]
  },
  {
   "cell_type": "code",
   "execution_count": null,
   "id": "af78ad1d-c0d6-45b4-8c7d-55ce21bff295",
   "metadata": {},
   "outputs": [],
   "source": [
    "import numpy as np"
   ]
  },
  {
   "cell_type": "code",
   "execution_count": null,
   "id": "8e345063-a1f3-44e3-a3e0-72160da228ff",
   "metadata": {},
   "outputs": [],
   "source": []
  },
  {
   "cell_type": "markdown",
   "id": "8cac6955-1ff2-49b0-926d-7d0b34e8f8c8",
   "metadata": {},
   "source": [
    "## Create numpy arrays"
   ]
  },
  {
   "cell_type": "code",
   "execution_count": null,
   "id": "4f09ef33-685d-4256-bc15-f1f51f0acffe",
   "metadata": {},
   "outputs": [],
   "source": [
    "aList = [1,2,3,4]\n",
    "aNumpyArray = np.array(aList)"
   ]
  },
  {
   "cell_type": "code",
   "execution_count": null,
   "id": "def16d51-093c-4ca7-97d3-bc3c31e2d197",
   "metadata": {},
   "outputs": [],
   "source": [
    "aNumpyArray"
   ]
  },
  {
   "cell_type": "code",
   "execution_count": null,
   "id": "f615fe2c-b53e-499e-a9a5-3224032966cb",
   "metadata": {},
   "outputs": [],
   "source": [
    "aNumpyArray.ndim"
   ]
  },
  {
   "cell_type": "code",
   "execution_count": null,
   "id": "11a467f5-ba41-41a0-8329-8382a9011f76",
   "metadata": {},
   "outputs": [],
   "source": [
    "aNumpyArray.shape"
   ]
  },
  {
   "cell_type": "code",
   "execution_count": null,
   "id": "98de0d93-6d97-4239-a340-67f1c7990ff3",
   "metadata": {},
   "outputs": [],
   "source": [
    "## get the absolute size of a vector\n",
    "bList = [3,4]\n",
    "bNumpyArray = np.array(bList)\n",
    "np.linalg.norm(bNumpyArray)"
   ]
  },
  {
   "cell_type": "code",
   "execution_count": null,
   "id": "8e7bf435-a947-42fc-a66c-c99a42c501a4",
   "metadata": {},
   "outputs": [],
   "source": []
  },
  {
   "cell_type": "code",
   "execution_count": null,
   "id": "865251fd-53e8-4717-a989-6a0dea1bb1c8",
   "metadata": {},
   "outputs": [],
   "source": []
  },
  {
   "cell_type": "code",
   "execution_count": null,
   "id": "f8ac2eaf-0cd1-40e0-9740-e127c6357115",
   "metadata": {},
   "outputs": [],
   "source": [
    "aNumpyArray = np.array(aList).reshape(2,2)"
   ]
  },
  {
   "cell_type": "code",
   "execution_count": null,
   "id": "9fb14221-859c-47b6-a520-327fdf486aa2",
   "metadata": {},
   "outputs": [],
   "source": [
    "aNumpyArray.ndim"
   ]
  },
  {
   "cell_type": "code",
   "execution_count": null,
   "id": "28a3f71a-d2b0-4afb-9d9a-9dc6e57f01c5",
   "metadata": {},
   "outputs": [],
   "source": [
    "aNumpyArray.shape"
   ]
  },
  {
   "cell_type": "code",
   "execution_count": null,
   "id": "45f33fd7-c87b-4b19-8dc9-3255e099b95d",
   "metadata": {},
   "outputs": [],
   "source": [
    "## get the inverse of the 1D vector\n",
    "np.linalg.inv(aNumpyArray)"
   ]
  },
  {
   "cell_type": "code",
   "execution_count": null,
   "id": "70406b49-15a9-4963-a925-270120054b26",
   "metadata": {},
   "outputs": [],
   "source": []
  },
  {
   "cell_type": "code",
   "execution_count": null,
   "id": "fd4c88c4-529c-48ec-9153-9f2a63333584",
   "metadata": {},
   "outputs": [],
   "source": []
  },
  {
   "cell_type": "markdown",
   "id": "569ee0a4-9267-40ab-8ab5-d5d86baf1d9b",
   "metadata": {},
   "source": [
    "## Operations on numpy arrays"
   ]
  },
  {
   "cell_type": "code",
   "execution_count": null,
   "id": "254d33a7-96be-40e5-a0cc-87fd2552752d",
   "metadata": {},
   "outputs": [],
   "source": [
    "aNumpyArray.T"
   ]
  },
  {
   "cell_type": "code",
   "execution_count": null,
   "id": "392e2c7d-f6b2-466d-a1af-9ce27300bc79",
   "metadata": {},
   "outputs": [],
   "source": [
    "a = np.array(aList).reshape(2,2)\n",
    "b = np.eye(2)"
   ]
  },
  {
   "cell_type": "code",
   "execution_count": null,
   "id": "eee45c1f-8723-4a6c-8c87-a92fe444412d",
   "metadata": {},
   "outputs": [],
   "source": [
    "b"
   ]
  },
  {
   "cell_type": "code",
   "execution_count": null,
   "id": "a5807f60-0e73-4535-a41e-79256c341d2b",
   "metadata": {},
   "outputs": [],
   "source": [
    "a.dot(b)"
   ]
  },
  {
   "cell_type": "code",
   "execution_count": null,
   "id": "5b7a6ace-3479-48bd-8550-219eb28041b3",
   "metadata": {},
   "outputs": [],
   "source": []
  },
  {
   "cell_type": "code",
   "execution_count": null,
   "id": "03db4e18-f5de-42cc-9593-3dc886bed829",
   "metadata": {},
   "outputs": [],
   "source": []
  },
  {
   "cell_type": "markdown",
   "id": "01db74e7-5c38-4b6c-9c83-bd1b55c77e94",
   "metadata": {},
   "source": [
    "## Generate random numbers with `numpy`"
   ]
  },
  {
   "cell_type": "code",
   "execution_count": null,
   "id": "77b9c45f-1df1-4db9-ac16-54159dabb39c",
   "metadata": {},
   "outputs": [],
   "source": [
    "np.random.rand(3)"
   ]
  },
  {
   "cell_type": "code",
   "execution_count": null,
   "id": "8983990d-319a-497b-b0cc-4be74afaf224",
   "metadata": {},
   "outputs": [],
   "source": [
    "np.random.randn(2,2)"
   ]
  },
  {
   "cell_type": "code",
   "execution_count": null,
   "id": "b924fd50-ad39-4eb5-9f77-77af2253cf57",
   "metadata": {},
   "outputs": [],
   "source": [
    "np.random.randint(low=0, high=10, size=100)"
   ]
  },
  {
   "cell_type": "code",
   "execution_count": null,
   "id": "00b15855-8b64-4a5e-83e7-7367b60b9fcf",
   "metadata": {},
   "outputs": [],
   "source": []
  },
  {
   "cell_type": "markdown",
   "id": "25a9d071-43b3-4408-be56-856546e12fb2",
   "metadata": {},
   "source": [
    "## Example: Nearest neighbor search\n",
    "\n",
    "Euclidean distance between 2 points $(x_1,y_1,z_1)$ and $(x_2,y_2,z_2)$ is:\n",
    "$$\\sqrt{(x_2-x_1)^2+(y_2-y1)^2+(z_2-z_1)^2}$$"
   ]
  },
  {
   "cell_type": "code",
   "execution_count": null,
   "id": "7e1a5192-3b2f-428d-818f-1c00b68f338d",
   "metadata": {},
   "outputs": [],
   "source": [
    "\n",
    "### Pure iterative Python ###\n",
    "points = [[9,2,8],[4,7,2],[3,4,4],[5,6,9],[5,0,7],[8,2,7],[0,3,2],[7,3,0],[6,1,1],[2,9,6]]\n",
    "qPoint = [4,5,3]\n",
    "\n",
    "minIdx = -1\n",
    "minDist = -1\n",
    "for idx, point in enumerate(points):  # iterate over all points\n",
    "    print('index is {}, point is {}'.format(idx, point))\n",
    "    dist = sum([(dp-dq)**2 for dp,dq in zip(point,qPoint)])**0.5  # compute the euclidean distance for each point to q\n",
    "    if dist < minDist or minDist < 0:  # if necessary, update minimum distance and index of the corresponding point\n",
    "        minDist = dist\n",
    "        minIdx = idx\n",
    "\n",
    "print('Nearest point to q: ', points[minIdx])"
   ]
  },
  {
   "cell_type": "code",
   "execution_count": null,
   "id": "ddd2df49-329f-4bfa-a1ac-104c76d0a564",
   "metadata": {},
   "outputs": [],
   "source": [
    "# # # Equivalent NumPy vectorization # # #\n",
    "import numpy as np\n",
    "points = np.array([[9,2,8],[4,7,2],[3,4,4],[5,6,9],[5,0,7],[8,2,7],[0,3,2],[7,3,0],[6,1,1],[2,9,6]])\n",
    "qPoint = np.array([4,5,3]).reshape(1,3)\n",
    "minIdx = np.argmin(np.linalg.norm(points-qPoint,axis=1))  # compute all euclidean distances at once and return the index of the smallest one\n",
    "print('Nearest point to q: ', points[minIdx])"
   ]
  },
  {
   "cell_type": "code",
   "execution_count": null,
   "id": "67f51bfd-c8dc-4ee2-85f7-5eb88c3debc0",
   "metadata": {},
   "outputs": [],
   "source": []
  },
  {
   "cell_type": "markdown",
   "id": "675a3595-aa6b-4fa8-95c9-6ef47da56656",
   "metadata": {},
   "source": [
    "# Quick Tutorial on Pandas\n",
    "\n",
    "* `pandas` is a Python package providing fast, flexible, and expressive data structures designed to make working with “relational” or “labeled” data both easy and intuitive. It aims to be the fundamental high-level building block for doing practical, real world data analysis in Python. Additionally, it has the broader goal of becoming the most powerful and flexible open source data analysis / manipulation tool available in any language. It is already well on its way toward this goal.\n",
    "* It is included in the installation of the Anaconda distribution\n",
    "* When working with tabular data, such as data stored in spreadsheets or databases, pandas is the right tool for you. pandas will help you to explore, clean and process your data. In pandas, a data table is called a DataFrame.\n",
    "\n",
    "<img align=\"center\" src=\"../pics/dataframe-structure.png\" style=\"height:300px;\">\n"
   ]
  },
  {
   "cell_type": "markdown",
   "id": "71a18ea9-bd2d-44c0-a4b5-3ee250e50f6f",
   "metadata": {},
   "source": [
    "## Import the core libraries"
   ]
  },
  {
   "cell_type": "code",
   "execution_count": null,
   "id": "faba3eaa-0f18-442c-b181-e6960360e2d3",
   "metadata": {},
   "outputs": [],
   "source": [
    "import pandas as pd\n",
    "\n",
    "import numpy as np\n",
    "import matplotlib.pyplot as plt"
   ]
  },
  {
   "cell_type": "markdown",
   "id": "eed43f5c-bb7f-4b32-9e4f-1fa9d9e6aee1",
   "metadata": {},
   "source": [
    "## Create `dataframe` from raw data"
   ]
  },
  {
   "cell_type": "code",
   "execution_count": null,
   "id": "7d27cac2-a419-4b34-8869-ac3aad4cf590",
   "metadata": {},
   "outputs": [],
   "source": [
    "{\n",
    "    'A':[1,2,'a',4],\n",
    "    'B':np.arange(5,9),\n",
    "    'C':['abc','def','ghi','jkl']\n",
    "}"
   ]
  },
  {
   "cell_type": "code",
   "execution_count": null,
   "id": "05788ecb-7e2c-4075-9764-0879df5fc1a3",
   "metadata": {},
   "outputs": [],
   "source": [
    "# create df from a dictionary\n",
    "df1 = pd.DataFrame({\n",
    "    'A':[1,2,'a',4],\n",
    "    'B':np.arange(5,9),\n",
    "    'C':['abc','def','ghi','jkl']\n",
    "})"
   ]
  },
  {
   "cell_type": "code",
   "execution_count": null,
   "id": "bbfd3c4b-c4b7-4a57-8779-db6eb75e5839",
   "metadata": {},
   "outputs": [],
   "source": [
    "df1"
   ]
  },
  {
   "cell_type": "code",
   "execution_count": null,
   "id": "b94ba732-4b47-4983-98e4-20a513448481",
   "metadata": {},
   "outputs": [],
   "source": [
    "[\n",
    "    ['a','b','c'],\n",
    "    ['d','e','f']\n",
    "]"
   ]
  },
  {
   "cell_type": "code",
   "execution_count": null,
   "id": "5577a192-b4b5-420b-b6c0-cb960e38a73a",
   "metadata": {},
   "outputs": [],
   "source": [
    "# create df from a list\n",
    "df2 = pd.DataFrame([\n",
    "    ['a','b','c'],\n",
    "    ['d','e','f']\n",
    "], columns=['col1','col2','col3'])\n",
    "df2"
   ]
  },
  {
   "cell_type": "code",
   "execution_count": null,
   "id": "3dc2d7ae-2ec6-40e4-bfad-072f22fbc247",
   "metadata": {},
   "outputs": [],
   "source": [
    "[3] * 4"
   ]
  },
  {
   "cell_type": "code",
   "execution_count": null,
   "id": "101b68a4-1e18-4c5d-a727-7a80eea302c8",
   "metadata": {},
   "outputs": [],
   "source": [
    "# create df with fancier settings\n",
    "df3 = pd.DataFrame({\n",
    "    'A': 1.,\n",
    "    'B': pd.Timestamp('20130102'),\n",
    "    'C': pd.Series(1, index=list(range(4)), dtype='float32'),\n",
    "    'D': np.array([3] * 4, dtype='int32'),\n",
    "    'E': pd.Categorical([\"test\", \"train\", \"test\", \"train\"]),\n",
    "    'F': 'foo'\n",
    "}) "
   ]
  },
  {
   "cell_type": "code",
   "execution_count": null,
   "id": "631f8f64-e9d2-4fa0-b5a4-1817f34ea375",
   "metadata": {},
   "outputs": [],
   "source": [
    "df3"
   ]
  },
  {
   "cell_type": "code",
   "execution_count": null,
   "id": "a7515b0a-e058-4fe0-93fb-98ad89727661",
   "metadata": {},
   "outputs": [],
   "source": [
    "df3.shape"
   ]
  },
  {
   "cell_type": "code",
   "execution_count": null,
   "id": "9d98aeab-7bc2-406d-b385-a0cd6d82b6a2",
   "metadata": {},
   "outputs": [],
   "source": [
    "df3.ndim"
   ]
  },
  {
   "cell_type": "code",
   "execution_count": null,
   "id": "d4e63dab-93ea-49d4-98c9-093a315c9fde",
   "metadata": {},
   "outputs": [],
   "source": []
  },
  {
   "cell_type": "markdown",
   "id": "205d9044-4daf-4142-b8c5-705bde6359e0",
   "metadata": {},
   "source": [
    "References\n",
    "* `Series`: https://pandas.pydata.org/pandas-docs/stable/user_guide/dsintro.html#series\n",
    "* `Time series and date functionality`: https://pandas.pydata.org/pandas-docs/stable/user_guide/timeseries.html#time-series-date-functionality"
   ]
  },
  {
   "cell_type": "markdown",
   "id": "efa83238-973b-4f1d-9f4f-1b6edc02e6ab",
   "metadata": {},
   "source": [
    "## Create `dataframe` from text file"
   ]
  },
  {
   "cell_type": "code",
   "execution_count": null,
   "id": "4f1dcc06-d56a-4ba7-a984-2dd7f3b31d42",
   "metadata": {},
   "outputs": [],
   "source": [
    "df = pd.read_csv('../data/imf-gdp-per-capita-2015.csv',sep=',',header=0)"
   ]
  },
  {
   "cell_type": "code",
   "execution_count": null,
   "id": "9c144015-0f05-4a0f-8e5f-81fce426df3b",
   "metadata": {},
   "outputs": [],
   "source": [
    "df.head(10)"
   ]
  },
  {
   "cell_type": "code",
   "execution_count": null,
   "id": "9f2035a5-51b1-4621-a6dc-ba05c17e4144",
   "metadata": {},
   "outputs": [],
   "source": [
    "df.shape"
   ]
  },
  {
   "cell_type": "code",
   "execution_count": null,
   "id": "2d5b5d98-dda8-478d-ae21-c673fc2ca2ae",
   "metadata": {},
   "outputs": [],
   "source": [
    "df.dtypes"
   ]
  },
  {
   "cell_type": "code",
   "execution_count": null,
   "id": "ea1595f9-1e40-474d-99e0-680eb98375d7",
   "metadata": {},
   "outputs": [],
   "source": [
    "list(df.columns)"
   ]
  },
  {
   "cell_type": "code",
   "execution_count": null,
   "id": "50d18d60-7497-4bd3-8470-220d3965edea",
   "metadata": {},
   "outputs": [],
   "source": [
    "df.info()"
   ]
  },
  {
   "cell_type": "code",
   "execution_count": null,
   "id": "bfd34bdf-2972-4cde-8a4f-963096bbe3e8",
   "metadata": {},
   "outputs": [],
   "source": []
  },
  {
   "cell_type": "code",
   "execution_count": null,
   "id": "dfa6eb80-1775-41a6-af2e-237797325729",
   "metadata": {},
   "outputs": [],
   "source": [
    "df = pd.read_csv('../data/imf-gdp-per-capita-2015.csv',sep=',',header=0, thousands=',')\n",
    "df.head(10)"
   ]
  },
  {
   "cell_type": "code",
   "execution_count": null,
   "id": "b7245b54-d12a-4390-9ba0-8380393a4cd2",
   "metadata": {},
   "outputs": [],
   "source": [
    "df.info()"
   ]
  },
  {
   "cell_type": "code",
   "execution_count": null,
   "id": "af4a01ba-91ff-41b4-8f3b-6c94775b32ce",
   "metadata": {},
   "outputs": [],
   "source": []
  },
  {
   "cell_type": "code",
   "execution_count": null,
   "id": "37e442b4-47dc-4126-a2e2-6d9be0deb28a",
   "metadata": {},
   "outputs": [],
   "source": []
  },
  {
   "cell_type": "markdown",
   "id": "eaf500a2-153c-42c2-9f44-d6568160fa3d",
   "metadata": {},
   "source": [
    "## Create `dataframe` from excel spreadsheet"
   ]
  },
  {
   "cell_type": "code",
   "execution_count": null,
   "id": "901dbcf7-e375-42c9-b93a-fed6440b3f90",
   "metadata": {},
   "outputs": [],
   "source": [
    "# pd.read_excel() # press shift + tab"
   ]
  },
  {
   "cell_type": "code",
   "execution_count": null,
   "id": "6c18afb3-c1e5-4c32-b4d9-f1c2254c812e",
   "metadata": {},
   "outputs": [],
   "source": [
    "## import from excel spreadsheet (need to have package `openpyxl` pre-installed)\n",
    "df2 = pd.read_excel(io='../data/excel-test-file.xlsx', sheet_name='tab1', header=0)\n",
    "\n",
    "df2.head(5)"
   ]
  },
  {
   "cell_type": "code",
   "execution_count": null,
   "id": "5a621531-7fc6-4210-8a6d-33609b6055f2",
   "metadata": {},
   "outputs": [],
   "source": [
    "df3 = pd.read_excel(io='../data/excel-test-file.xlsx',sheet_name='tab2',header=0)\n",
    "df3.head(3)"
   ]
  },
  {
   "cell_type": "markdown",
   "id": "516c5a7f-3053-4439-bcd8-ff194a6e1067",
   "metadata": {},
   "source": [
    "## [SPECIAL] Create `Series`\n",
    "\n",
    "One-dimensional ndarray with axis labels (including time series)."
   ]
  },
  {
   "cell_type": "code",
   "execution_count": null,
   "id": "e956c404-eb41-4733-9079-e77881025c71",
   "metadata": {},
   "outputs": [],
   "source": [
    "s = pd.Series([1,3,5,7,9],index=['a','b','c','d','e'])\n",
    "s"
   ]
  },
  {
   "cell_type": "code",
   "execution_count": null,
   "id": "f348b056-7b30-43fa-86e5-7a041111e8e5",
   "metadata": {},
   "outputs": [],
   "source": [
    "type(s)"
   ]
  },
  {
   "cell_type": "code",
   "execution_count": null,
   "id": "13ebd6ea-2055-42dd-ac72-9332c3a94c73",
   "metadata": {},
   "outputs": [],
   "source": [
    "s['a']"
   ]
  },
  {
   "cell_type": "code",
   "execution_count": null,
   "id": "0efe6963-a1f1-4062-9ea5-a4bb3e1364c8",
   "metadata": {},
   "outputs": [],
   "source": [
    "s['c']"
   ]
  },
  {
   "cell_type": "code",
   "execution_count": null,
   "id": "53b9e567-9e05-45e0-8dda-f044972969eb",
   "metadata": {},
   "outputs": [],
   "source": []
  },
  {
   "cell_type": "code",
   "execution_count": null,
   "id": "40257d95-ed3a-41b1-95ee-8490ef9dc317",
   "metadata": {},
   "outputs": [],
   "source": []
  },
  {
   "cell_type": "markdown",
   "id": "47cc8968-9140-4523-b19d-63294bf4e50a",
   "metadata": {},
   "source": [
    "## View `dataframe`"
   ]
  },
  {
   "cell_type": "code",
   "execution_count": null,
   "id": "8cffa5d0-452f-43d7-bf4f-b619c746d067",
   "metadata": {},
   "outputs": [],
   "source": [
    "# create a dataframe from a numpy array, with columns labeled\n",
    "df = pd.DataFrame(np.random.randn(6,4), columns = ['Ann', \"Bob\", \"Charly\", \"Don\"])\n",
    "df"
   ]
  },
  {
   "cell_type": "markdown",
   "id": "84a820a5-b0e4-412a-bc1a-18afdd6721a9",
   "metadata": {},
   "source": [
    "**df.head()**"
   ]
  },
  {
   "cell_type": "code",
   "execution_count": null,
   "id": "f81d1f77-18d9-49d8-a5af-8be85fd1bc98",
   "metadata": {},
   "outputs": [],
   "source": [
    "df.head(2)"
   ]
  },
  {
   "cell_type": "code",
   "execution_count": null,
   "id": "99551cf2-9061-4218-9669-4f40165578e5",
   "metadata": {},
   "outputs": [],
   "source": [
    "df.head()"
   ]
  },
  {
   "cell_type": "code",
   "execution_count": null,
   "id": "cc8fdf7c-ab36-4e8d-99c0-379f2bd9ca59",
   "metadata": {},
   "outputs": [],
   "source": []
  },
  {
   "cell_type": "markdown",
   "id": "72207afd-225b-400e-8f99-966fb4df45f6",
   "metadata": {},
   "source": [
    "**df.tail()**"
   ]
  },
  {
   "cell_type": "code",
   "execution_count": null,
   "id": "0cbfbcc0-ca78-4341-815a-797ae3c58bf5",
   "metadata": {
    "scrolled": true
   },
   "outputs": [],
   "source": [
    "df.tail(2)"
   ]
  },
  {
   "cell_type": "code",
   "execution_count": null,
   "id": "9656a93e-5c8a-4845-ba0c-ba7df9518b9d",
   "metadata": {},
   "outputs": [],
   "source": [
    "df.tail()"
   ]
  },
  {
   "cell_type": "code",
   "execution_count": null,
   "id": "59399fc8-9608-4770-b284-0df31f4adc81",
   "metadata": {},
   "outputs": [],
   "source": []
  },
  {
   "cell_type": "markdown",
   "id": "4c6bc4a2-a424-43b0-89fd-8d054e5a8572",
   "metadata": {},
   "source": [
    "**`dataframe` attributes**"
   ]
  },
  {
   "cell_type": "code",
   "execution_count": null,
   "id": "21a7d277-4bac-49e4-b747-4eb66ce6d236",
   "metadata": {},
   "outputs": [],
   "source": [
    "list(df.index)"
   ]
  },
  {
   "cell_type": "code",
   "execution_count": null,
   "id": "5110fae9-1e04-4a8c-8af0-6ad78c78f807",
   "metadata": {},
   "outputs": [],
   "source": [
    "df"
   ]
  },
  {
   "cell_type": "code",
   "execution_count": null,
   "id": "99e14c3a-dcc3-4235-a49f-09112e3c1641",
   "metadata": {},
   "outputs": [],
   "source": []
  },
  {
   "cell_type": "code",
   "execution_count": null,
   "id": "270f1f16-953f-4607-803d-c86399ff3d1d",
   "metadata": {},
   "outputs": [],
   "source": [
    "dates = pd.date_range(start='20200825', end='20201201', freq='7D')\n",
    "dates"
   ]
  },
  {
   "cell_type": "code",
   "execution_count": null,
   "id": "516a3f5c-4aa2-41f8-ac8b-b168b26262a6",
   "metadata": {},
   "outputs": [],
   "source": [
    "type(dates)"
   ]
  },
  {
   "cell_type": "code",
   "execution_count": null,
   "id": "ae5658cd-b144-40f1-9f06-2c9a28d48591",
   "metadata": {},
   "outputs": [],
   "source": [
    "dates.ndim"
   ]
  },
  {
   "cell_type": "code",
   "execution_count": null,
   "id": "58e8f832-04ab-4905-a1fe-fa04b0e04ae4",
   "metadata": {},
   "outputs": [],
   "source": []
  },
  {
   "cell_type": "code",
   "execution_count": null,
   "id": "15457aaa-6be8-46c2-91a9-9b06f48a4973",
   "metadata": {},
   "outputs": [],
   "source": []
  },
  {
   "cell_type": "code",
   "execution_count": null,
   "id": "73a282dc-4972-4928-b24f-365e83a8cd02",
   "metadata": {},
   "outputs": [],
   "source": [
    "df.index = dates[:6]\n",
    "df"
   ]
  },
  {
   "cell_type": "code",
   "execution_count": null,
   "id": "68f5df39-d5b4-479f-b620-42b24f546d75",
   "metadata": {},
   "outputs": [],
   "source": [
    "df.index"
   ]
  },
  {
   "cell_type": "code",
   "execution_count": null,
   "id": "a6d8581c-2dbc-4072-a27b-9cda4ed3870a",
   "metadata": {},
   "outputs": [],
   "source": [
    "# df.columns\n",
    "list(df.columns)"
   ]
  },
  {
   "cell_type": "code",
   "execution_count": null,
   "id": "6206f681-7f3c-4419-9576-8ebda2a3a9f2",
   "metadata": {},
   "outputs": [],
   "source": [
    "df.dtypes"
   ]
  },
  {
   "cell_type": "code",
   "execution_count": null,
   "id": "61360187-f8cd-49f6-b7bb-915c835a12b4",
   "metadata": {},
   "outputs": [],
   "source": [
    "df.values # convert df to numpy array"
   ]
  },
  {
   "cell_type": "code",
   "execution_count": null,
   "id": "ac8fcefb-99f6-4c56-bdef-b76cf8039b19",
   "metadata": {},
   "outputs": [],
   "source": [
    "df.values.shape"
   ]
  },
  {
   "cell_type": "code",
   "execution_count": null,
   "id": "302c2cf8-13bd-4526-9b0e-509b977b518b",
   "metadata": {},
   "outputs": [],
   "source": [
    "# you can also do\n",
    "df.to_numpy()"
   ]
  },
  {
   "cell_type": "markdown",
   "id": "4bf878f1-ee9d-4dbe-a8f9-0f9deeb6c33c",
   "metadata": {},
   "source": [
    "**df.describe()**"
   ]
  },
  {
   "cell_type": "code",
   "execution_count": null,
   "id": "772e5e10-f4e3-42d0-a476-ef58b6571be4",
   "metadata": {},
   "outputs": [],
   "source": [
    "df.describe() # generate descriptive stats on the data"
   ]
  },
  {
   "cell_type": "markdown",
   "id": "0203a36a-bd5d-42d8-991b-2cd61f1cc89d",
   "metadata": {},
   "source": [
    "**df.transpose()**"
   ]
  },
  {
   "cell_type": "code",
   "execution_count": null,
   "id": "2ac3f7aa-da4c-4d3f-aaba-fcbd4b9b92fd",
   "metadata": {},
   "outputs": [],
   "source": [
    "df"
   ]
  },
  {
   "cell_type": "code",
   "execution_count": null,
   "id": "92c6c713-e1a1-40e0-b6ad-e044c2f4a06b",
   "metadata": {},
   "outputs": [],
   "source": [
    "# transpose a datafrme\n",
    "\n",
    "df.transpose()\n",
    "# type(df.transpose())"
   ]
  },
  {
   "cell_type": "code",
   "execution_count": null,
   "id": "f4de461b-3b6d-4170-a1ce-552685a860d5",
   "metadata": {},
   "outputs": [],
   "source": [
    "df.T # you can also do it this way"
   ]
  },
  {
   "cell_type": "markdown",
   "id": "3cb20efd-88fb-49c8-a254-5908952ee774",
   "metadata": {},
   "source": [
    "**sort `dataframe`**"
   ]
  },
  {
   "cell_type": "code",
   "execution_count": null,
   "id": "b83bd9e2-94f9-4180-ad0d-f0d579726a45",
   "metadata": {},
   "outputs": [],
   "source": [
    "df"
   ]
  },
  {
   "cell_type": "code",
   "execution_count": null,
   "id": "63fdf710-c4c9-47a6-afcc-c974ab51518c",
   "metadata": {},
   "outputs": [],
   "source": [
    "# sort_index(), by labels (index or column)\n",
    "# df\n",
    "df.sort_index(axis=0, ascending=False)"
   ]
  },
  {
   "cell_type": "code",
   "execution_count": null,
   "id": "0104f906-9dd4-44ac-9402-c1c79f3f3984",
   "metadata": {},
   "outputs": [],
   "source": [
    "df"
   ]
  },
  {
   "cell_type": "code",
   "execution_count": null,
   "id": "d4c3c8e3-9436-4d54-8508-956f66b6b022",
   "metadata": {},
   "outputs": [],
   "source": [
    "df.sort_index(axis=1, ascending=False)"
   ]
  },
  {
   "cell_type": "code",
   "execution_count": null,
   "id": "6c1216ef-f517-4e40-86ed-5fb5a5909956",
   "metadata": {},
   "outputs": [],
   "source": [
    "# sort_values(), by values\n",
    "df"
   ]
  },
  {
   "cell_type": "code",
   "execution_count": null,
   "id": "10d5e8ed-d702-40a2-baad-8c94b2907f1a",
   "metadata": {},
   "outputs": [],
   "source": [
    "df.sort_values(by='Ann', ascending=True)\n",
    "# df.sort_values(by=['Ann','Bob'], ascending=True)"
   ]
  },
  {
   "cell_type": "code",
   "execution_count": null,
   "id": "22e02459-130e-4b5a-bb03-2419c59621de",
   "metadata": {},
   "outputs": [],
   "source": []
  },
  {
   "cell_type": "markdown",
   "id": "97936d34-f810-440b-b379-3ab195a4caec",
   "metadata": {},
   "source": [
    "## Select `dataframe`\n",
    "\n",
    "Pandas documentation on select and indexing `dataframe`:\n",
    "* https://pandas.pydata.org/pandas-docs/stable/user_guide/indexing.html#indexing\n",
    "* https://pandas.pydata.org/pandas-docs/stable/user_guide/advanced.html#advanced"
   ]
  },
  {
   "cell_type": "markdown",
   "id": "11c9c80e-82b2-4dc9-8aa2-92af73b36ef7",
   "metadata": {},
   "source": [
    "### Select columns\n",
    "\n",
    "Selecting a single column, which yields a Series, equivalent to df.A"
   ]
  },
  {
   "cell_type": "code",
   "execution_count": null,
   "id": "0bc6f40d-8ae2-4ba8-977f-64fdf90618f5",
   "metadata": {},
   "outputs": [],
   "source": [
    "df['Ann']"
   ]
  },
  {
   "cell_type": "code",
   "execution_count": null,
   "id": "7a2bf8ff-2e9b-4f67-9c6a-d9bf086ea0ab",
   "metadata": {},
   "outputs": [],
   "source": [
    "type(df)"
   ]
  },
  {
   "cell_type": "code",
   "execution_count": null,
   "id": "ca6995e5-a4ec-459b-b3c8-22ed56d84ef8",
   "metadata": {},
   "outputs": [],
   "source": [
    "type(df['Ann'])"
   ]
  },
  {
   "cell_type": "code",
   "execution_count": null,
   "id": "17f21b03-8a03-4842-a7ca-fcb2fc9b3007",
   "metadata": {},
   "outputs": [],
   "source": [
    "df.Ann"
   ]
  },
  {
   "cell_type": "code",
   "execution_count": null,
   "id": "394e3b5f-057f-4c3a-a63b-7f1f8165d4b7",
   "metadata": {},
   "outputs": [],
   "source": [
    "type(df['Ann'])"
   ]
  },
  {
   "cell_type": "markdown",
   "id": "c6cf36a9-7a23-455b-9da3-f2f54add2de9",
   "metadata": {},
   "source": [
    "Selecting multiple columns yields a dataframe, which references a subset of the original dataframe. Note you are NOT creating a new copy here!"
   ]
  },
  {
   "cell_type": "code",
   "execution_count": null,
   "id": "aac19078-9405-4e09-a3c4-8f23a3fd4129",
   "metadata": {},
   "outputs": [],
   "source": [
    "df[['Ann','Bob']]"
   ]
  },
  {
   "cell_type": "code",
   "execution_count": null,
   "id": "92d424dd-6c33-40d0-a5e9-7f0be320089b",
   "metadata": {},
   "outputs": [],
   "source": [
    "type(df[['Ann','Bob']])"
   ]
  },
  {
   "cell_type": "markdown",
   "id": "f56047fc-a058-4a3d-b759-4cdf5e5a6adc",
   "metadata": {},
   "source": [
    "### Select by labels\n",
    "* You could use `.loc` method of `dataframe` to select data by labels. Typical format is like\n",
    "```python\n",
    "df.loc[row_indexer, column_indexer]\n",
    "```\n",
    "* More details can be found here: https://pandas.pydata.org/pandas-docs/stable/user_guide/indexing.html#indexing\n"
   ]
  },
  {
   "cell_type": "code",
   "execution_count": null,
   "id": "4aecd66b-6299-4ef3-ade1-03c27e3f544b",
   "metadata": {},
   "outputs": [],
   "source": [
    "dates = pd.date_range(start='20200825', end='20201201', periods=15)\n",
    "dates"
   ]
  },
  {
   "cell_type": "code",
   "execution_count": null,
   "id": "013cd3aa-77c2-43bc-b852-0d13e15bc5b8",
   "metadata": {},
   "outputs": [],
   "source": [
    "df"
   ]
  },
  {
   "cell_type": "code",
   "execution_count": null,
   "id": "ec6d74d5-00c5-4719-93b3-5360204695be",
   "metadata": {},
   "outputs": [],
   "source": [
    "df.index"
   ]
  },
  {
   "cell_type": "code",
   "execution_count": null,
   "id": "1d68e38e-c67b-4de0-95b5-1c6cb5054a76",
   "metadata": {},
   "outputs": [],
   "source": [
    "dates[0]"
   ]
  },
  {
   "cell_type": "code",
   "execution_count": null,
   "id": "8ebeed69-ca52-4244-97a8-0dc3a750cd78",
   "metadata": {},
   "outputs": [],
   "source": [
    "# by row label\n",
    "df.loc[dates[0]]"
   ]
  },
  {
   "cell_type": "code",
   "execution_count": null,
   "id": "2ac2709b-0d76-416f-a03e-92f1e427ecd1",
   "metadata": {},
   "outputs": [],
   "source": [
    "# by row and column label\n",
    "df.loc[dates[0:2],['Ann','Bob']]"
   ]
  },
  {
   "cell_type": "code",
   "execution_count": null,
   "id": "63781452-f821-456c-afea-fff0dd3ea17a",
   "metadata": {},
   "outputs": [],
   "source": [
    "df.loc['2020-08-25',['Ann','Bob']] # get a Series"
   ]
  },
  {
   "cell_type": "code",
   "execution_count": null,
   "id": "c4e96f78-be9b-4117-83b5-2a288674c197",
   "metadata": {},
   "outputs": [],
   "source": [
    "df.loc['2020-08-25':'2020-09-08',['Ann','Bob']] # note here the row for '2020-09-08' is also displayed"
   ]
  },
  {
   "cell_type": "code",
   "execution_count": null,
   "id": "556e2afb-b909-460b-a766-0f3a1c9c8505",
   "metadata": {},
   "outputs": [],
   "source": [
    "# by column label only\n",
    "df.loc[:,['Ann']] # note that you'll get a dataframe instead of a Series"
   ]
  },
  {
   "cell_type": "code",
   "execution_count": null,
   "id": "d7ebfab5-9f30-43ab-9b75-92bb72e7f959",
   "metadata": {},
   "outputs": [],
   "source": [
    "# what if I just want to get the value of a particular cell?\n",
    "df.loc['2020-08-25','Ann']"
   ]
  },
  {
   "cell_type": "code",
   "execution_count": null,
   "id": "2ac916d8-18f3-4a07-8368-d02afff6a4b2",
   "metadata": {},
   "outputs": [],
   "source": [
    "# you can also do\n",
    "df.at['2020-08-25','Ann']"
   ]
  },
  {
   "cell_type": "markdown",
   "id": "91c792cb-b146-4f9e-b6d7-4a931e78d791",
   "metadata": {},
   "source": [
    "### Select by Position\n",
    "\n",
    "* You could use `.iloc` method of `dataframe` to select data by labels. Typical format is like\n",
    "```python\n",
    "df.iloc[row_position_indexer, column_position_indexer]\n",
    "```\n",
    "* More details can be found here: https://pandas.pydata.org/pandas-docs/stable/user_guide/indexing.html#indexing"
   ]
  },
  {
   "cell_type": "code",
   "execution_count": null,
   "id": "26fe6e15-c3a9-4130-9f02-85ab6fa35ecc",
   "metadata": {},
   "outputs": [],
   "source": [
    "df"
   ]
  },
  {
   "cell_type": "code",
   "execution_count": null,
   "id": "959da867-e02d-421c-8f77-cbb1291b4a39",
   "metadata": {},
   "outputs": [],
   "source": [
    "# select by row position\n",
    "df.iloc[0]"
   ]
  },
  {
   "cell_type": "code",
   "execution_count": null,
   "id": "28e90e05-79ab-406d-afac-337a85299638",
   "metadata": {},
   "outputs": [],
   "source": [
    "# select by row position range\n",
    "df.iloc[0:2] # note that only the only one end of the range is included, different from df.loc"
   ]
  },
  {
   "cell_type": "code",
   "execution_count": null,
   "id": "58010fea-88e0-409f-ae70-79631a19b69d",
   "metadata": {},
   "outputs": [],
   "source": [
    "# you can also do\n",
    "df.iloc[0:2,]"
   ]
  },
  {
   "cell_type": "code",
   "execution_count": null,
   "id": "f2037d9a-f731-4c43-898e-257c149b5b6f",
   "metadata": {},
   "outputs": [],
   "source": [
    "# select by column position range\n",
    "df.iloc[:,0:2]"
   ]
  },
  {
   "cell_type": "code",
   "execution_count": null,
   "id": "edbabd91-0a60-4801-8261-8b79f3aafe72",
   "metadata": {},
   "outputs": [],
   "source": [
    "# select by row and column position range\n",
    "df.iloc[0:2,0:2]"
   ]
  },
  {
   "cell_type": "code",
   "execution_count": null,
   "id": "d17fdee2-8011-46a5-bcf4-87b36732eef4",
   "metadata": {},
   "outputs": [],
   "source": [
    "# what if I just want to get the value of a particular cell?\n",
    "df.iloc[0,0]"
   ]
  },
  {
   "cell_type": "code",
   "execution_count": null,
   "id": "4c31f839-b60c-44a5-bf38-6d0ade96b9a4",
   "metadata": {},
   "outputs": [],
   "source": [
    "# you can also do\n",
    "df.iat[0,0]"
   ]
  },
  {
   "cell_type": "markdown",
   "id": "b4947aaa-87b7-46b7-8794-f238ab71697d",
   "metadata": {},
   "source": [
    "### Select by conditions"
   ]
  },
  {
   "cell_type": "code",
   "execution_count": null,
   "id": "ab44bccc-ecef-4cf6-b5b5-32a809b431fd",
   "metadata": {},
   "outputs": [],
   "source": [
    "df"
   ]
  },
  {
   "cell_type": "code",
   "execution_count": null,
   "id": "eb39bfe5-9109-4dc5-9003-fabe9d2928c3",
   "metadata": {},
   "outputs": [],
   "source": [
    "df[df.Ann>=0]"
   ]
  },
  {
   "cell_type": "code",
   "execution_count": null,
   "id": "cf622051-0d78-4785-b5f9-6007a9a3431d",
   "metadata": {},
   "outputs": [],
   "source": [
    "df.loc[df.Ann>=0,['Ann','Bob']]"
   ]
  },
  {
   "cell_type": "code",
   "execution_count": null,
   "id": "bd9c576c-943e-4943-b481-e6be28e6cebe",
   "metadata": {
    "scrolled": true
   },
   "outputs": [],
   "source": [
    "df.loc[(df.Ann>=-0.5)&(df.Ann<=1.4),['Ann','Bob']]"
   ]
  },
  {
   "cell_type": "markdown",
   "id": "322368c7-1757-4516-9ae8-b1b4b7725651",
   "metadata": {},
   "source": [
    "### Set values"
   ]
  },
  {
   "cell_type": "code",
   "execution_count": null,
   "id": "9308545b-bf5a-4687-b9b3-7553f632d70a",
   "metadata": {},
   "outputs": [],
   "source": [
    "df"
   ]
  },
  {
   "cell_type": "code",
   "execution_count": null,
   "id": "7e2857d7-14eb-4782-b1b3-5f09a1d25ce1",
   "metadata": {},
   "outputs": [],
   "source": [
    "# add a new column\n",
    "df['E'] = 5\n",
    "df"
   ]
  },
  {
   "cell_type": "code",
   "execution_count": null,
   "id": "9761ce95-bc40-4308-833b-6fa91abaaed4",
   "metadata": {},
   "outputs": [],
   "source": [
    "df['F'] = np.arange(6)\n",
    "df"
   ]
  },
  {
   "cell_type": "code",
   "execution_count": null,
   "id": "fce79b74-5589-4985-b3a0-8c934bbe3af6",
   "metadata": {},
   "outputs": [],
   "source": [
    "# set values by labels\n",
    "df.loc['2020-08-25','E'] = 3\n",
    "# df.at['2020-08-25','E'] = 3\n",
    "df"
   ]
  },
  {
   "cell_type": "code",
   "execution_count": null,
   "id": "909ae762-a373-4621-ac0b-b69f53a2876e",
   "metadata": {},
   "outputs": [],
   "source": [
    "# set values by position\n",
    "df.iloc[0,5] = -1\n",
    "df"
   ]
  },
  {
   "cell_type": "code",
   "execution_count": null,
   "id": "e62a7b96-869f-466d-9eb2-4cac0b09f5b4",
   "metadata": {},
   "outputs": [],
   "source": [
    "# set values by condition\n",
    "df.loc[df.Ann>0,'E'] = 4\n",
    "df"
   ]
  },
  {
   "cell_type": "markdown",
   "id": "4fd3a2f9-ec84-4a59-bef7-4ef839108fd1",
   "metadata": {},
   "source": [
    "## Missing values\n",
    "\n",
    "`pandas` primarily uses the value np.nan to represent missing data. It is by default not included in computations. See the [Missing Data section](https://pandas.pydata.org/pandas-docs/stable/user_guide/missing_data.html#missing-data) from `pandas` official documentation for more details.\n",
    "\n",
    "Reindexing allows you to change/add/delete the index on a specified axis. This returns a copy of the data."
   ]
  },
  {
   "cell_type": "code",
   "execution_count": null,
   "id": "4e4181f9-4f7d-4331-963e-427e5b5b519c",
   "metadata": {},
   "outputs": [],
   "source": [
    "df1 = df.reindex(index=dates[:6],columns=list(df.columns)+['G'])\n",
    "df1"
   ]
  },
  {
   "cell_type": "code",
   "execution_count": null,
   "id": "67a4dbdb-8549-4b4c-9838-87adbbbe00c7",
   "metadata": {},
   "outputs": [],
   "source": [
    "# fill in values at some locations\n",
    "df1.loc['2020-08-25':'2020-09-08','G'] = 1\n",
    "df1"
   ]
  },
  {
   "cell_type": "code",
   "execution_count": null,
   "id": "55bd32ce-1ff1-4d26-844b-efe53d152b47",
   "metadata": {},
   "outputs": [],
   "source": [
    "# to get the boolean mask where values are nan\n",
    "df1.isna()"
   ]
  },
  {
   "cell_type": "code",
   "execution_count": null,
   "id": "515b07cd-eff1-42c6-9fd9-897a53b3d0c0",
   "metadata": {},
   "outputs": [],
   "source": [
    "# you can also do\n",
    "pd.isna(df1)"
   ]
  },
  {
   "cell_type": "code",
   "execution_count": null,
   "id": "c5be2315-443d-46ae-8cbb-1ff2336ce5c5",
   "metadata": {},
   "outputs": [],
   "source": [
    "# drop any rows that have missing values\n",
    "df2 = df1.copy()\n",
    "df2.dropna(how='any')"
   ]
  },
  {
   "cell_type": "code",
   "execution_count": null,
   "id": "4e9ec036-2e9d-45a8-afcb-7be0a0ddd41f",
   "metadata": {
    "scrolled": true
   },
   "outputs": [],
   "source": [
    "df2 # df2 is not impacted since the inplace flag is not flipped"
   ]
  },
  {
   "cell_type": "code",
   "execution_count": null,
   "id": "e01e1fef-b130-4982-99cb-fc5da1e9b535",
   "metadata": {},
   "outputs": [],
   "source": [
    "# fill missing values\n",
    "df1.fillna(value=-999)"
   ]
  },
  {
   "cell_type": "markdown",
   "id": "73d8f796-d2aa-4770-8301-da3f1ce0017b",
   "metadata": {},
   "source": [
    "## Operations on `dataframe`"
   ]
  },
  {
   "cell_type": "markdown",
   "id": "0d31ba84-00a5-4de0-a871-dce9c15d39c3",
   "metadata": {},
   "source": [
    "**Stats**"
   ]
  },
  {
   "cell_type": "code",
   "execution_count": null,
   "id": "b74956cc-c4b6-4c73-968c-029fe58779b4",
   "metadata": {},
   "outputs": [],
   "source": [
    "df"
   ]
  },
  {
   "cell_type": "code",
   "execution_count": null,
   "id": "6ba3c243-4923-4026-a22a-49718e6af500",
   "metadata": {},
   "outputs": [],
   "source": [
    "# df.mean()\n",
    "list(df.mean())"
   ]
  },
  {
   "cell_type": "code",
   "execution_count": null,
   "id": "997b8335-ae6c-429a-8f6f-05cbacbb05ab",
   "metadata": {},
   "outputs": [],
   "source": [
    "df.mean()"
   ]
  },
  {
   "cell_type": "code",
   "execution_count": null,
   "id": "230b7529-9874-47e4-95ab-f69347ddf4ba",
   "metadata": {},
   "outputs": [],
   "source": [
    "df.mean().values"
   ]
  },
  {
   "cell_type": "code",
   "execution_count": null,
   "id": "a156cd4e-bfe7-4ce1-8147-d1153c44d086",
   "metadata": {},
   "outputs": [],
   "source": [
    "df.mean(axis=0)"
   ]
  },
  {
   "cell_type": "code",
   "execution_count": null,
   "id": "50c9f881-a207-4163-b421-3cde3b9f43c5",
   "metadata": {},
   "outputs": [],
   "source": [
    "df.mean(axis=1)"
   ]
  },
  {
   "cell_type": "code",
   "execution_count": null,
   "id": "6a2077d1-adc7-4775-a24b-9f1f989381c2",
   "metadata": {},
   "outputs": [],
   "source": []
  },
  {
   "cell_type": "code",
   "execution_count": null,
   "id": "2f97224b-8cfe-4475-bb90-e6d63c6020df",
   "metadata": {},
   "outputs": [],
   "source": []
  },
  {
   "cell_type": "markdown",
   "id": "451850c2-dbbb-4c65-a5b0-e3e0d78e0274",
   "metadata": {},
   "source": [
    "**Histogram**"
   ]
  },
  {
   "cell_type": "code",
   "execution_count": null,
   "id": "b0d1f2fc-9dc4-41c0-8317-4480b4d9cf4f",
   "metadata": {},
   "outputs": [],
   "source": [
    "df"
   ]
  },
  {
   "cell_type": "code",
   "execution_count": null,
   "id": "c6cc3fc1-028e-4b59-97cd-94a2a70088e1",
   "metadata": {},
   "outputs": [],
   "source": [
    "df['histcol'] = np.random.randint(0,3,size=6)\n",
    "df"
   ]
  },
  {
   "cell_type": "code",
   "execution_count": null,
   "id": "567a2a5c-af7b-4d2f-a1d2-b0f99c8e3ffd",
   "metadata": {},
   "outputs": [],
   "source": [
    "df.histcol.value_counts()"
   ]
  },
  {
   "cell_type": "code",
   "execution_count": null,
   "id": "2e74ae49-6fe0-45d7-b825-03fe1bf01d4d",
   "metadata": {},
   "outputs": [],
   "source": [
    "df.histcol.nunique()"
   ]
  },
  {
   "cell_type": "code",
   "execution_count": null,
   "id": "8018690e-c3f4-4149-9e5d-c832ea7c085b",
   "metadata": {},
   "outputs": [],
   "source": [
    "df.histcol.unique()"
   ]
  },
  {
   "cell_type": "code",
   "execution_count": null,
   "id": "e5bf0dc5-6338-4f98-bf85-a9d32fb4434e",
   "metadata": {},
   "outputs": [],
   "source": [
    "# df.histcol.hist()\n",
    "df.histcol.hist(density=True)"
   ]
  },
  {
   "cell_type": "markdown",
   "id": "e983d460-9c73-4776-acf8-48e0186af3ce",
   "metadata": {},
   "source": [
    "**Apply functions/logics to the data**"
   ]
  },
  {
   "cell_type": "code",
   "execution_count": null,
   "id": "3a87069b-9295-487f-99ad-31f3411be8d2",
   "metadata": {},
   "outputs": [],
   "source": [
    "df"
   ]
  },
  {
   "cell_type": "code",
   "execution_count": null,
   "id": "4a00cae5-218d-4a94-b918-5f354635c394",
   "metadata": {},
   "outputs": [],
   "source": [
    "df.apply(np.cumsum) # apply the function on all columns"
   ]
  },
  {
   "cell_type": "code",
   "execution_count": null,
   "id": "bcac79c3-c7ec-4004-8fcf-25dabdaa176d",
   "metadata": {},
   "outputs": [],
   "source": [
    "df.apply(lambda x: -x) # apply the function on all columns"
   ]
  },
  {
   "cell_type": "code",
   "execution_count": null,
   "id": "037a9830-d464-4713-a7ee-92f62ca9e329",
   "metadata": {},
   "outputs": [],
   "source": [
    "df.E.map(lambda x: x+1) # apply the function on one single column"
   ]
  },
  {
   "cell_type": "code",
   "execution_count": null,
   "id": "40664f65-9eb0-4333-812d-8da94fab4ada",
   "metadata": {},
   "outputs": [],
   "source": []
  },
  {
   "cell_type": "markdown",
   "id": "97a4212b-9776-4e99-a7d9-c40f5c15f996",
   "metadata": {},
   "source": [
    "## `dataframe` and table operations"
   ]
  },
  {
   "cell_type": "code",
   "execution_count": null,
   "id": "feb054c6-fb1a-4c30-8dd1-b1295b35953e",
   "metadata": {},
   "outputs": [],
   "source": [
    "df = pd.DataFrame(np.random.randn(10, 4), columns=['a','b','c','d'])\n",
    "df"
   ]
  },
  {
   "cell_type": "markdown",
   "id": "48bbbff7-2927-4ac3-8ee5-c5b3978ac7a8",
   "metadata": {},
   "source": [
    "**Concat**"
   ]
  },
  {
   "cell_type": "code",
   "execution_count": null,
   "id": "862a3b2d-661b-443f-ac0e-6f576c24f28f",
   "metadata": {},
   "outputs": [],
   "source": [
    "pieces = [df[:3], df[7:]]\n",
    "print(\"pieces:\\n\", pieces)\n",
    "print(\"put back together:\\n\")\n",
    "# pd.concat(pieces, axis=1)\n",
    "pd.concat(pieces, axis=0)"
   ]
  },
  {
   "cell_type": "markdown",
   "id": "4e91cd00-34df-4494-9777-d5d403166ad2",
   "metadata": {},
   "source": [
    "**Append new data from another `dataframe`**"
   ]
  },
  {
   "cell_type": "code",
   "execution_count": null,
   "id": "ed3e446d-5821-4d2f-9385-138a62a98b9e",
   "metadata": {},
   "outputs": [],
   "source": [
    "df_p2 = pd.DataFrame(np.random.randn(4, 4), columns=['a','b','c','d'])\n",
    "df_p2"
   ]
  },
  {
   "cell_type": "code",
   "execution_count": null,
   "id": "4eb7e280-1351-4ee5-a2ba-7e153c1446fd",
   "metadata": {},
   "outputs": [],
   "source": []
  },
  {
   "cell_type": "code",
   "execution_count": null,
   "id": "9fb38a3d-a9f2-4097-a06e-bfb839a674ae",
   "metadata": {},
   "outputs": [],
   "source": [
    "pd.__version__"
   ]
  },
  {
   "cell_type": "code",
   "execution_count": null,
   "id": "916daffc-29e1-4cd5-b2ff-bb15b31389d8",
   "metadata": {},
   "outputs": [],
   "source": []
  },
  {
   "cell_type": "markdown",
   "id": "da3bca0f-aaa8-43c4-85f0-5c7b65eaf132",
   "metadata": {},
   "source": [
    "**Joins**\n",
    "\n",
    "More details at https://pandas.pydata.org/pandas-docs/stable/user_guide/merging.html\n",
    "![](joins.jpg)"
   ]
  },
  {
   "cell_type": "code",
   "execution_count": null,
   "id": "7558cd26-90b2-4e6f-ad5b-991df2f1a372",
   "metadata": {},
   "outputs": [],
   "source": [
    "tb1 = pd.DataFrame({'key': ['foo', 'boo', 'foo'], 'lval': [1, 2, 3]})\n",
    "tb2 = pd.DataFrame({'key': ['foo', 'coo'], 'rval': [5, 6]})"
   ]
  },
  {
   "cell_type": "code",
   "execution_count": null,
   "id": "9a395a49-d59f-4f2e-a545-1881da98bc64",
   "metadata": {},
   "outputs": [],
   "source": [
    "tb1"
   ]
  },
  {
   "cell_type": "code",
   "execution_count": null,
   "id": "ecf39b7c-44dc-4e28-a499-9f03c73e4927",
   "metadata": {},
   "outputs": [],
   "source": [
    "tb2"
   ]
  },
  {
   "cell_type": "code",
   "execution_count": null,
   "id": "6e55112d-2448-437d-bb65-ab6b81665be0",
   "metadata": {},
   "outputs": [],
   "source": [
    "pd.merge(tb1, tb2, on='key', how='inner')"
   ]
  },
  {
   "cell_type": "code",
   "execution_count": null,
   "id": "64bd732f-8dd7-4959-af78-f32f1debae12",
   "metadata": {},
   "outputs": [],
   "source": [
    "pd.merge(tb1, tb2, on='key', how='left')"
   ]
  },
  {
   "cell_type": "code",
   "execution_count": null,
   "id": "2de01da8-5641-402e-9d9d-e68dd3bb411f",
   "metadata": {},
   "outputs": [],
   "source": [
    "pd.merge(tb1, tb2, on='key', how='right')"
   ]
  },
  {
   "cell_type": "code",
   "execution_count": null,
   "id": "da8476d2-f836-4b87-bcb9-0dbb7fde0659",
   "metadata": {},
   "outputs": [],
   "source": [
    "pd.merge(tb1, tb2, on='key', how='outer')"
   ]
  },
  {
   "cell_type": "code",
   "execution_count": null,
   "id": "d5177a9a-5017-4b34-adac-464291228626",
   "metadata": {},
   "outputs": [],
   "source": []
  },
  {
   "cell_type": "markdown",
   "id": "c9f23f11-54a2-4bff-a36f-287a35ff684a",
   "metadata": {},
   "source": [
    "**Grouping**\n",
    "\n",
    "By `group by` we are referring to a process involving one or more of the following steps\n",
    "\n",
    "* Splitting the data into groups based on some criteria\n",
    "* Applying a function to each group independently\n",
    "* Combining the results into a data structure\n",
    "See the Grouping section from the `pandas` official documentation: https://pandas.pydata.org/pandas-docs/stable/user_guide/groupby.html"
   ]
  },
  {
   "cell_type": "code",
   "execution_count": null,
   "id": "a2a67465-5675-44b7-8a00-f55632b80283",
   "metadata": {},
   "outputs": [],
   "source": [
    "df = pd.DataFrame({'A' : ['foo', 'bar', 'foo', 'bar', 'foo', 'bar', 'foo', 'foo'],\n",
    "                   'B' : ['one', 'one', 'two', 'three', 'two', 'two', 'one', 'three'],\n",
    "                   'C' : np.random.randn(8),\n",
    "                   'D' : np.random.randn(8)})\n",
    "\n",
    "df"
   ]
  },
  {
   "cell_type": "code",
   "execution_count": null,
   "id": "c4b557ae-2712-464d-8555-2754b9a93512",
   "metadata": {},
   "outputs": [],
   "source": []
  },
  {
   "cell_type": "code",
   "execution_count": null,
   "id": "661821ce-5901-4d6e-8b58-ce256cd801b4",
   "metadata": {},
   "outputs": [],
   "source": []
  },
  {
   "cell_type": "code",
   "execution_count": null,
   "id": "81b6c3fb-bb17-44d4-8bd8-327f7e66bdda",
   "metadata": {},
   "outputs": [],
   "source": [
    "df.groupby('A')['C'].mean().reset_index() # simple stats grouped by 1 column"
   ]
  },
  {
   "cell_type": "code",
   "execution_count": null,
   "id": "08a858a7-cccb-43a9-a881-ad3d206f8737",
   "metadata": {},
   "outputs": [],
   "source": [
    "df.groupby(['A','B']).sum().reset_index() # simple stats grouped by multiple columns"
   ]
  },
  {
   "cell_type": "code",
   "execution_count": null,
   "id": "4312bef0-094a-43bf-9dc4-03b0f323da85",
   "metadata": {},
   "outputs": [],
   "source": [
    "df.groupby(['A','B']).mean().reset_index() # simple stats grouped by multiple columns"
   ]
  },
  {
   "cell_type": "code",
   "execution_count": null,
   "id": "a0c53419-b665-492f-9f7b-b3eaf5270e52",
   "metadata": {},
   "outputs": [],
   "source": []
  },
  {
   "cell_type": "code",
   "execution_count": null,
   "id": "32070e39-e419-4485-832c-d01b96c376c1",
   "metadata": {},
   "outputs": [],
   "source": [
    "# df.groupby(['A','B'])['C'].apply(lambda x: np.sum(x**2)).reset_index() # customized aggregation\n",
    "df.groupby(['A','B'])['C'].apply(lambda x: np.sum(x)).reset_index() # customized aggregation"
   ]
  },
  {
   "cell_type": "code",
   "execution_count": null,
   "id": "dde057b6-402c-403f-8809-f1c2bb9184da",
   "metadata": {},
   "outputs": [],
   "source": []
  },
  {
   "cell_type": "markdown",
   "id": "d9af646c-71ef-4276-8019-80d29ad791bd",
   "metadata": {},
   "source": [
    "**Pivot table**"
   ]
  },
  {
   "cell_type": "code",
   "execution_count": null,
   "id": "6423318d-708b-497b-a3b9-d9ac951ee206",
   "metadata": {},
   "outputs": [],
   "source": [
    "df = pd.DataFrame({'ModelNumber' : ['one', 'one', 'two', 'three'] * 3,\n",
    "                   'Submodel' : ['A', 'B', 'C'] * 4,\n",
    "                   'Type' : ['foo', 'foo', 'foo', 'bar', 'bar', 'bar'] * 2,\n",
    "                   'Xval' : np.random.randn(12),\n",
    "                   'Yval' : np.random.randn(12)})\n",
    "\n",
    "df"
   ]
  },
  {
   "cell_type": "markdown",
   "id": "8ed278e8-fbcc-44bf-b8b8-342d844f9f1e",
   "metadata": {},
   "source": [
    "We can produce pivot tables from this data very easily:"
   ]
  },
  {
   "cell_type": "code",
   "execution_count": null,
   "id": "1d5b7afb-91d0-405f-9aab-0010ef8d9da8",
   "metadata": {},
   "outputs": [],
   "source": [
    "pd.pivot_table(\n",
    "    df\n",
    "    , values='Xval'\n",
    "    , index=['ModelNumber', 'Submodel']\n",
    "    , columns=['Type']\n",
    ")"
   ]
  },
  {
   "cell_type": "code",
   "execution_count": null,
   "id": "46103e8c-fa7c-4669-8b83-2fbb3a669d82",
   "metadata": {},
   "outputs": [],
   "source": [
    "pd.pivot_table(\n",
    "    df\n",
    "    , values='Xval'\n",
    "    , index=['ModelNumber', 'Submodel']\n",
    "    , columns=['Type']\n",
    "#     , aggfunc='count'\n",
    "    ,aggfunc=lambda x: abs(x)\n",
    ")"
   ]
  },
  {
   "cell_type": "markdown",
   "id": "b1e86638-7079-4a01-a864-19f0946f9148",
   "metadata": {},
   "source": [
    "## Write/Export `dataframe` to files"
   ]
  },
  {
   "cell_type": "markdown",
   "id": "5e28a010-ff31-4b37-877e-15013c6848de",
   "metadata": {},
   "source": [
    "**CSV file**"
   ]
  },
  {
   "cell_type": "code",
   "execution_count": null,
   "id": "0224be16-4131-4c1d-8eda-b6bdad716fd7",
   "metadata": {},
   "outputs": [],
   "source": [
    "df"
   ]
  },
  {
   "cell_type": "code",
   "execution_count": null,
   "id": "1b40b81e-429c-40e5-8fa5-5f92bc87a978",
   "metadata": {},
   "outputs": [],
   "source": [
    "df.to_csv('../data/to-csv-test.csv',sep=',',header=True,index=None)"
   ]
  },
  {
   "cell_type": "markdown",
   "id": "63995e18-e080-4751-a525-43230259f91b",
   "metadata": {},
   "source": [
    "**Excel spreadsheet**"
   ]
  },
  {
   "cell_type": "code",
   "execution_count": null,
   "id": "f47431ba-4a12-4d77-8e5c-d21b52d02c80",
   "metadata": {},
   "outputs": [],
   "source": [
    "df.to_excel('../data/to-excel-test.xlsx',sheet_name='tab1',header=True,index=None)"
   ]
  },
  {
   "cell_type": "code",
   "execution_count": null,
   "id": "a327fd94-c96a-4134-98d7-6ad90ff9d34d",
   "metadata": {},
   "outputs": [],
   "source": []
  },
  {
   "cell_type": "markdown",
   "id": "88704cc7-137d-4745-bdcc-78c013a2ae85",
   "metadata": {},
   "source": [
    "## Pandas and time series data [offline-reading]\n",
    "\n",
    "Please check `pandas` official documentations:\n",
    "* https://pandas.pydata.org/pandas-docs/stable/user_guide/10min.html#time-series\n",
    "* https://pandas.pydata.org/pandas-docs/stable/user_guide/timeseries.html"
   ]
  },
  {
   "cell_type": "code",
   "execution_count": null,
   "id": "b72ba0ca-dee2-441f-aad1-eaecc6af9689",
   "metadata": {},
   "outputs": [],
   "source": [
    "rng = pd.date_range('1/1/2012', periods=10, freq='S')\n",
    "rng"
   ]
  },
  {
   "cell_type": "code",
   "execution_count": null,
   "id": "ebca7920-570a-439a-9700-b15a6b6bacfe",
   "metadata": {},
   "outputs": [],
   "source": [
    "ts = pd.Series(np.random.randint(0, 500, len(rng)), index=rng)\n",
    "ts"
   ]
  },
  {
   "cell_type": "code",
   "execution_count": null,
   "id": "8430fa7b-fcaa-4a2a-a9ec-d143f50751e1",
   "metadata": {},
   "outputs": [],
   "source": [
    "ts.resample('2S').mean()"
   ]
  },
  {
   "cell_type": "code",
   "execution_count": null,
   "id": "97e3f865-d152-4e36-8424-f83b0bb654ab",
   "metadata": {},
   "outputs": [],
   "source": []
  },
  {
   "cell_type": "code",
   "execution_count": null,
   "id": "c037a5e6-04c6-434d-b343-00d687ba76aa",
   "metadata": {},
   "outputs": [],
   "source": []
  },
  {
   "cell_type": "markdown",
   "id": "2d534a20-cb4f-49f8-b01e-9c2e293a4faa",
   "metadata": {},
   "source": [
    "More on `resampling` can be found at https://pandas.pydata.org/pandas-docs/stable/user_guide/timeseries.html#resampling"
   ]
  },
  {
   "cell_type": "code",
   "execution_count": null,
   "id": "6e68427f-3c16-415a-a10c-c58fa08e66ee",
   "metadata": {},
   "outputs": [],
   "source": [
    "ts.rolling(window=5).mean() # rolling average"
   ]
  },
  {
   "cell_type": "code",
   "execution_count": null,
   "id": "887269dc-ce31-45eb-a031-9439918f7ab7",
   "metadata": {},
   "outputs": [],
   "source": [
    "ts.rolling(window=5, center=True).mean() # set the label at the center"
   ]
  },
  {
   "cell_type": "code",
   "execution_count": null,
   "id": "9804f563-b719-484e-9eb3-a4410a01bb93",
   "metadata": {},
   "outputs": [],
   "source": []
  },
  {
   "cell_type": "markdown",
   "id": "dac0cb68-de0e-4484-aa04-aa86dbaf8529",
   "metadata": {},
   "source": [
    "More on `pandas.Series.rolling` can be found at https://pandas.pydata.org/pandas-docs/stable/reference/api/pandas.Series.rolling.html"
   ]
  },
  {
   "cell_type": "code",
   "execution_count": null,
   "id": "6a8c29fb-34ea-4c19-bf7e-63db1cef0e16",
   "metadata": {},
   "outputs": [],
   "source": [
    "ts.plot()"
   ]
  },
  {
   "cell_type": "code",
   "execution_count": null,
   "id": "bae7b042-f23c-4d12-9aaf-cb68be4b7d57",
   "metadata": {},
   "outputs": [],
   "source": []
  },
  {
   "cell_type": "code",
   "execution_count": null,
   "id": "0f043cfd-51ef-4b80-852c-3db1de55e934",
   "metadata": {},
   "outputs": [],
   "source": []
  }
 ],
 "metadata": {
  "kernelspec": {
   "display_name": "Python 3 (ipykernel)",
   "language": "python",
   "name": "python3"
  },
  "language_info": {
   "codemirror_mode": {
    "name": "ipython",
    "version": 3
   },
   "file_extension": ".py",
   "mimetype": "text/x-python",
   "name": "python",
   "nbconvert_exporter": "python",
   "pygments_lexer": "ipython3",
   "version": "3.10.8"
  }
 },
 "nbformat": 4,
 "nbformat_minor": 5
}
