{
 "cells": [
  {
   "cell_type": "markdown",
   "id": "82b295d4-7a81-47cb-b956-7d3c50ff6e0c",
   "metadata": {},
   "source": [
    "# Today's Coding Topics\n",
    "[![Open In Colab](https://colab.research.google.com/assets/colab-badge.svg)](https://colab.research.google.com/github/xiangshiyin/data-programming-with-python/blob/main/2023-summmer/2023-06-21/notebook/concept_and_code_demo.ipynb)\n",
    "\n",
    "* Recap of previous lecture\n",
    "  * Numpy\n",
    "  * Nearest neighbor search example review\n",
    "  * Special topic: namespaces in Python\n",
    "* `Pandas`\n"
   ]
  },
  {
   "cell_type": "markdown",
   "id": "76a27977-7001-4c7b-8d86-f7e917189b16",
   "metadata": {},
   "source": [
    "# Recap of previous lecture"
   ]
  },
  {
   "cell_type": "markdown",
   "id": "3c5977eb-964b-4e99-85f9-0d446ccffe23",
   "metadata": {},
   "source": [
    "## Numpy and Numpy Arrays"
   ]
  },
  {
   "cell_type": "markdown",
   "id": "1091c3c1-2c53-4f48-8c11-fba0d66f6456",
   "metadata": {},
   "source": [
    "## import `numpy`"
   ]
  },
  {
   "cell_type": "code",
   "execution_count": null,
   "id": "af78ad1d-c0d6-45b4-8c7d-55ce21bff295",
   "metadata": {},
   "outputs": [],
   "source": []
  },
  {
   "cell_type": "code",
   "execution_count": null,
   "id": "8e345063-a1f3-44e3-a3e0-72160da228ff",
   "metadata": {},
   "outputs": [],
   "source": []
  },
  {
   "cell_type": "markdown",
   "id": "8cac6955-1ff2-49b0-926d-7d0b34e8f8c8",
   "metadata": {},
   "source": [
    "## Create numpy arrays"
   ]
  },
  {
   "cell_type": "code",
   "execution_count": null,
   "id": "4f09ef33-685d-4256-bc15-f1f51f0acffe",
   "metadata": {},
   "outputs": [],
   "source": []
  },
  {
   "cell_type": "code",
   "execution_count": null,
   "id": "def16d51-093c-4ca7-97d3-bc3c31e2d197",
   "metadata": {},
   "outputs": [],
   "source": []
  },
  {
   "cell_type": "markdown",
   "id": "569ee0a4-9267-40ab-8ab5-d5d86baf1d9b",
   "metadata": {},
   "source": [
    "## Operations on numpy arrays"
   ]
  },
  {
   "cell_type": "code",
   "execution_count": null,
   "id": "254d33a7-96be-40e5-a0cc-87fd2552752d",
   "metadata": {},
   "outputs": [],
   "source": []
  },
  {
   "cell_type": "code",
   "execution_count": null,
   "id": "eee45c1f-8723-4a6c-8c87-a92fe444412d",
   "metadata": {},
   "outputs": [],
   "source": []
  },
  {
   "cell_type": "code",
   "execution_count": null,
   "id": "a5807f60-0e73-4535-a41e-79256c341d2b",
   "metadata": {},
   "outputs": [],
   "source": []
  },
  {
   "cell_type": "markdown",
   "id": "01db74e7-5c38-4b6c-9c83-bd1b55c77e94",
   "metadata": {},
   "source": [
    "## Generate random numbers with `numpy`"
   ]
  },
  {
   "cell_type": "code",
   "execution_count": null,
   "id": "77b9c45f-1df1-4db9-ac16-54159dabb39c",
   "metadata": {},
   "outputs": [],
   "source": []
  },
  {
   "cell_type": "code",
   "execution_count": null,
   "id": "8983990d-319a-497b-b0cc-4be74afaf224",
   "metadata": {},
   "outputs": [],
   "source": []
  },
  {
   "cell_type": "code",
   "execution_count": null,
   "id": "b924fd50-ad39-4eb5-9f77-77af2253cf57",
   "metadata": {},
   "outputs": [],
   "source": []
  },
  {
   "cell_type": "markdown",
   "id": "25a9d071-43b3-4408-be56-856546e12fb2",
   "metadata": {},
   "source": [
    "## Example: Nearest neighbor search\n",
    "\n",
    "Euclidean distance between 2 points $(x_1,y_1,z_1)$ and $(x_2,y_2,z_2)$ is:\n",
    "$$\\sqrt{(x_2-x_1)^2+(y_2-y1)^2+(z_2-z_1)^2}$$"
   ]
  },
  {
   "cell_type": "code",
   "execution_count": null,
   "id": "7e1a5192-3b2f-428d-818f-1c00b68f338d",
   "metadata": {},
   "outputs": [],
   "source": [
    "\n",
    "### Pure iterative Python ###\n",
    "points = [[9,2,8],[4,7,2],[3,4,4],[5,6,9],[5,0,7],[8,2,7],[0,3,2],[7,3,0],[6,1,1],[2,9,6]]\n",
    "qPoint = [4,5,3]\n",
    "\n",
    "minIdx = -1\n",
    "minDist = -1\n",
    "for idx, point in enumerate(points):  # iterate over all points\n",
    "    print('index is {}, point is {}'.format(idx, point))\n",
    "    dist = sum([(dp-dq)**2 for dp,dq in zip(point,qPoint)])**0.5  # compute the euclidean distance for each point to q\n",
    "    if dist < minDist or minDist < 0:  # if necessary, update minimum distance and index of the corresponding point\n",
    "        minDist = dist\n",
    "        minIdx = idx\n",
    "\n",
    "print('Nearest point to q: ', points[minIdx])"
   ]
  },
  {
   "cell_type": "code",
   "execution_count": null,
   "id": "ddd2df49-329f-4bfa-a1ac-104c76d0a564",
   "metadata": {},
   "outputs": [],
   "source": [
    "# # # Equivalent NumPy vectorization # # #\n",
    "import numpy as np\n",
    "points = np.array([[9,2,8],[4,7,2],[3,4,4],[5,6,9],[5,0,7],[8,2,7],[0,3,2],[7,3,0],[6,1,1],[2,9,6]])\n",
    "qPoint = np.array([4,5,3]).reshape(1,3)\n",
    "minIdx = np.argmin(np.linalg.norm(points-qPoint,axis=1))  # compute all euclidean distances at once and return the index of the smallest one\n",
    "print('Nearest point to q: ', points[minIdx])"
   ]
  },
  {
   "cell_type": "code",
   "execution_count": null,
   "id": "67f51bfd-c8dc-4ee2-85f7-5eb88c3debc0",
   "metadata": {},
   "outputs": [],
   "source": []
  },
  {
   "cell_type": "code",
   "execution_count": null,
   "id": "b077d53e-7da0-49f5-a44d-a14dcddbbfbf",
   "metadata": {},
   "outputs": [],
   "source": []
  },
  {
   "cell_type": "code",
   "execution_count": null,
   "id": "a6213928-5779-4eea-a5d5-c2c8cb0dcacb",
   "metadata": {},
   "outputs": [],
   "source": []
  },
  {
   "cell_type": "code",
   "execution_count": null,
   "id": "0f043cfd-51ef-4b80-852c-3db1de55e934",
   "metadata": {},
   "outputs": [],
   "source": []
  }
 ],
 "metadata": {
  "kernelspec": {
   "display_name": "Python 3 (ipykernel)",
   "language": "python",
   "name": "python3"
  },
  "language_info": {
   "codemirror_mode": {
    "name": "ipython",
    "version": 3
   },
   "file_extension": ".py",
   "mimetype": "text/x-python",
   "name": "python",
   "nbconvert_exporter": "python",
   "pygments_lexer": "ipython3",
   "version": "3.10.8"
  }
 },
 "nbformat": 4,
 "nbformat_minor": 5
}
