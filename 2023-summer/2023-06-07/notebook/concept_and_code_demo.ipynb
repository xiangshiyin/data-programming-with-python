{
 "cells": [
  {
   "cell_type": "markdown",
   "id": "88576fd4-fe3e-42f7-8341-f0e7030f8065",
   "metadata": {},
   "source": [
    "# Today's Coding Topics\n",
    "[![Open In Colab](https://colab.research.google.com/assets/colab-badge.svg)](https://colab.research.google.com/github/xiangshiyin/data-programming-with-python/blob/main/2023-summer/2023-06-07/notebook/concept_and_code_demo.ipynb)\n",
    "\n",
    "- Recap of previous lecture\n",
    "- Non-primitive data types in Python\n",
    "- Control statements (conditions and loops)\n",
    "- Functions\n"
   ]
  },
  {
   "cell_type": "markdown",
   "id": "8ee6cba1-87f6-4937-bb71-967d0b66b4fc",
   "metadata": {},
   "source": [
    "# Recap of previous lecture"
   ]
  },
  {
   "cell_type": "markdown",
   "id": "c5a29d36-1915-44d2-aa5b-9500d8ed2d1b",
   "metadata": {},
   "source": [
    "## `Hello World` and primitive data types"
   ]
  },
  {
   "cell_type": "code",
   "execution_count": null,
   "id": "de49041d-38f6-475b-a10f-1582fafc32c0",
   "metadata": {},
   "outputs": [],
   "source": []
  },
  {
   "cell_type": "markdown",
   "id": "d83d1fec-171e-4613-84ff-6e660e5b3522",
   "metadata": {},
   "source": [
    "## What is `eval()` really doing?\n",
    "\n",
    "[Official Documentation](https://docs.python.org/3/library/functions.html#eval)"
   ]
  },
  {
   "cell_type": "code",
   "execution_count": 13,
   "id": "f8d815b3-f7f5-4a06-9bc6-d9d2d9c60895",
   "metadata": {},
   "outputs": [
    {
     "data": {
      "text/plain": [
       "1.2"
      ]
     },
     "execution_count": 13,
     "metadata": {},
     "output_type": "execute_result"
    }
   ],
   "source": [
    "eval('1.2')"
   ]
  },
  {
   "cell_type": "code",
   "execution_count": 14,
   "id": "52b712fa",
   "metadata": {},
   "outputs": [
    {
     "data": {
      "text/plain": [
       "123"
      ]
     },
     "execution_count": 14,
     "metadata": {},
     "output_type": "execute_result"
    }
   ],
   "source": [
    "eval('123')"
   ]
  },
  {
   "cell_type": "code",
   "execution_count": 15,
   "id": "153a704d",
   "metadata": {},
   "outputs": [
    {
     "data": {
      "text/plain": [
       "2"
      ]
     },
     "execution_count": 15,
     "metadata": {},
     "output_type": "execute_result"
    }
   ],
   "source": [
    "x = 1\n",
    "eval('x + 1')"
   ]
  },
  {
   "cell_type": "code",
   "execution_count": 16,
   "id": "9ee2b156",
   "metadata": {},
   "outputs": [
    {
     "data": {
      "text/plain": [
       "3.0"
      ]
     },
     "execution_count": 16,
     "metadata": {},
     "output_type": "execute_result"
    }
   ],
   "source": [
    "x = 2\n",
    "eval('x + 2 - x / 2')"
   ]
  },
  {
   "cell_type": "code",
   "execution_count": 17,
   "id": "6a5697dc-1417-4006-b29f-0f5060553971",
   "metadata": {},
   "outputs": [
    {
     "ename": "NameError",
     "evalue": "name 'a' is not defined",
     "output_type": "error",
     "traceback": [
      "\u001b[0;31m---------------------------------------------------------------------------\u001b[0m",
      "\u001b[0;31mNameError\u001b[0m                                 Traceback (most recent call last)",
      "Cell \u001b[0;32mIn[17], line 1\u001b[0m\n\u001b[0;32m----> 1\u001b[0m \u001b[38;5;28;43meval\u001b[39;49m\u001b[43m(\u001b[49m\u001b[38;5;124;43m'\u001b[39;49m\u001b[38;5;124;43ma\u001b[39;49m\u001b[38;5;124;43m'\u001b[39;49m\u001b[43m)\u001b[49m\n",
      "File \u001b[0;32m<string>:1\u001b[0m\n",
      "\u001b[0;31mNameError\u001b[0m: name 'a' is not defined"
     ]
    }
   ],
   "source": [
    "eval('a')"
   ]
  },
  {
   "cell_type": "markdown",
   "id": "cd121389-5bba-48e2-9a87-32be2b640bba",
   "metadata": {},
   "source": [
    "## String formatting"
   ]
  },
  {
   "cell_type": "markdown",
   "id": "3a48c802-ddbf-4fff-85f9-e4fc87401806",
   "metadata": {},
   "source": [
    "**Challenge** - Align a string to right with a predefined window width"
   ]
  },
  {
   "cell_type": "code",
   "execution_count": null,
   "id": "9e2761b9-278f-4304-b279-2d5e18c01136",
   "metadata": {},
   "outputs": [],
   "source": [
    "\"{:>10}\".format(\"Test\")"
   ]
  },
  {
   "cell_type": "code",
   "execution_count": null,
   "id": "7ff0782e-f27e-45c7-b199-0457c83f269c",
   "metadata": {},
   "outputs": [],
   "source": [
    "\"{:^10}\".format(\"Test\")"
   ]
  },
  {
   "cell_type": "code",
   "execution_count": null,
   "id": "f4b24174-ed1c-42b9-818d-d27c4d6d459a",
   "metadata": {},
   "outputs": [],
   "source": [
    "\"{:<10}\".format(\"Test\")"
   ]
  },
  {
   "cell_type": "code",
   "execution_count": null,
   "id": "d297eb56-2cd0-4af4-8da8-40af753ef39e",
   "metadata": {},
   "outputs": [],
   "source": [
    "\"{:>10}\".format(\"This is our first class, I enjoy meeting everyone here\")"
   ]
  },
  {
   "cell_type": "code",
   "execution_count": null,
   "id": "5ff4897b-2b7e-4e04-b8c5-7aff20fd3209",
   "metadata": {},
   "outputs": [],
   "source": [
    "# A different way!!\n",
    "\"Test\".ljust(10, ' ')"
   ]
  },
  {
   "cell_type": "markdown",
   "id": "1c70d66c-fd8d-4d76-adf8-0996263bb608",
   "metadata": {},
   "source": [
    "##### Replace a character within a string"
   ]
  },
  {
   "cell_type": "code",
   "execution_count": null,
   "id": "1a4c464b-e227-45cc-8b78-e4526ee7515a",
   "metadata": {},
   "outputs": [],
   "source": []
  },
  {
   "cell_type": "code",
   "execution_count": null,
   "id": "658fb34e-66f6-45dd-b539-fabb58e38d00",
   "metadata": {},
   "outputs": [],
   "source": []
  },
  {
   "cell_type": "markdown",
   "id": "7cef9bf1-d1a0-4f04-9522-85e6ae540b5a",
   "metadata": {},
   "source": [
    "## Boolean"
   ]
  },
  {
   "cell_type": "markdown",
   "id": "8dd9fe72-bde2-4214-97ad-2f611ee5947a",
   "metadata": {
    "slideshow": {
     "slide_type": "slide"
    }
   },
   "source": [
    "This built-in data type that can take up the values: `True` and `False`, which often makes them interchangeable with the integers 1 and 0. Booleans are useful in conditional and comparison expressions."
   ]
  },
  {
   "cell_type": "code",
   "execution_count": 2,
   "id": "4a3ed180",
   "metadata": {},
   "outputs": [
    {
     "data": {
      "text/plain": [
       "False"
      ]
     },
     "execution_count": 2,
     "metadata": {},
     "output_type": "execute_result"
    }
   ],
   "source": [
    "x = 1\n",
    "x == 2"
   ]
  },
  {
   "cell_type": "code",
   "execution_count": 3,
   "id": "3db156ad-0a5d-4e49-a402-e9e93aa5e86c",
   "metadata": {},
   "outputs": [
    {
     "data": {
      "text/plain": [
       "True"
      ]
     },
     "execution_count": 3,
     "metadata": {},
     "output_type": "execute_result"
    }
   ],
   "source": [
    "x != 2"
   ]
  },
  {
   "cell_type": "code",
   "execution_count": 4,
   "id": "d0268c09",
   "metadata": {},
   "outputs": [
    {
     "data": {
      "text/plain": [
       "False"
      ]
     },
     "execution_count": 4,
     "metadata": {},
     "output_type": "execute_result"
    }
   ],
   "source": [
    "x > 2"
   ]
  },
  {
   "cell_type": "code",
   "execution_count": 5,
   "id": "61c856ae",
   "metadata": {},
   "outputs": [
    {
     "data": {
      "text/plain": [
       "True"
      ]
     },
     "execution_count": 5,
     "metadata": {},
     "output_type": "execute_result"
    }
   ],
   "source": [
    "x < 2"
   ]
  },
  {
   "cell_type": "code",
   "execution_count": null,
   "id": "28ca7908",
   "metadata": {},
   "outputs": [],
   "source": []
  },
  {
   "cell_type": "code",
   "execution_count": 6,
   "id": "1aa0c777-cd36-4d9a-a11d-989a8b9520f5",
   "metadata": {
    "scrolled": true
   },
   "outputs": [
    {
     "data": {
      "text/plain": [
       "True"
      ]
     },
     "execution_count": 6,
     "metadata": {},
     "output_type": "execute_result"
    }
   ],
   "source": [
    "(100>10) and (100<200)"
   ]
  },
  {
   "cell_type": "code",
   "execution_count": 7,
   "id": "293e7aed-dffd-434c-a850-ef0387386c87",
   "metadata": {},
   "outputs": [
    {
     "data": {
      "text/plain": [
       "True"
      ]
     },
     "execution_count": 7,
     "metadata": {},
     "output_type": "execute_result"
    }
   ],
   "source": [
    "(100>10) or (100>200)"
   ]
  },
  {
   "cell_type": "code",
   "execution_count": null,
   "id": "a0fae26e-2c02-4640-95ed-fc5fbadf0df6",
   "metadata": {},
   "outputs": [],
   "source": [
    "((100>10) & (100<200))==True\n",
    "# ((100>10) & (100<200))==False"
   ]
  },
  {
   "cell_type": "code",
   "execution_count": null,
   "id": "27b531d6-3d1b-49d3-834d-276171608187",
   "metadata": {},
   "outputs": [],
   "source": [
    "((100>10) & (100<200))==1"
   ]
  },
  {
   "cell_type": "markdown",
   "id": "288961f3-9ee0-4bbb-8ee9-b8ba3f765368",
   "metadata": {
    "slideshow": {
     "slide_type": "slide"
    }
   },
   "source": [
    "**Logical operators**\n",
    "\n",
    "| Operator                                                              | Description                                                                        |\n",
    "|-----------------------------------------------------------------------|------------------------------------------------------------------------------------|\n",
    "| or                                                                    | Boolean OR                                                                         |\n",
    "| and                                                                   | Boolean AND                                                                        |\n",
    "| not x                                                                 | Boolean NOT                                                                        |\n",
    "| in, not in, is, is not, <, <=, >, >=, !=, ==                          | Comparisons, including membership tests and identity tests                         |"
   ]
  },
  {
   "cell_type": "code",
   "execution_count": 8,
   "id": "60b1cbd5-a757-4e94-8e64-9197fce97105",
   "metadata": {},
   "outputs": [
    {
     "data": {
      "text/plain": [
       "True"
      ]
     },
     "execution_count": 8,
     "metadata": {},
     "output_type": "execute_result"
    }
   ],
   "source": [
    "True and True"
   ]
  },
  {
   "cell_type": "code",
   "execution_count": 9,
   "id": "0caaf4dd-a286-4278-80cd-eac0ac398bd4",
   "metadata": {},
   "outputs": [
    {
     "data": {
      "text/plain": [
       "False"
      ]
     },
     "execution_count": 9,
     "metadata": {},
     "output_type": "execute_result"
    }
   ],
   "source": [
    "True and False"
   ]
  },
  {
   "cell_type": "code",
   "execution_count": 10,
   "id": "206db408-a415-462f-8f1b-0ae36ec474f3",
   "metadata": {},
   "outputs": [
    {
     "data": {
      "text/plain": [
       "True"
      ]
     },
     "execution_count": 10,
     "metadata": {},
     "output_type": "execute_result"
    }
   ],
   "source": [
    "True or True"
   ]
  },
  {
   "cell_type": "code",
   "execution_count": 11,
   "id": "8070ab96",
   "metadata": {},
   "outputs": [
    {
     "data": {
      "text/plain": [
       "True"
      ]
     },
     "execution_count": 11,
     "metadata": {},
     "output_type": "execute_result"
    }
   ],
   "source": [
    "True or False"
   ]
  },
  {
   "cell_type": "code",
   "execution_count": 12,
   "id": "c122a4b7-443b-41b3-a8f6-da4794b8e450",
   "metadata": {},
   "outputs": [
    {
     "data": {
      "text/plain": [
       "False"
      ]
     },
     "execution_count": 12,
     "metadata": {},
     "output_type": "execute_result"
    }
   ],
   "source": [
    "False or False"
   ]
  },
  {
   "cell_type": "code",
   "execution_count": null,
   "id": "3c7c4da9",
   "metadata": {},
   "outputs": [],
   "source": []
  },
  {
   "cell_type": "markdown",
   "id": "d9bfd7d8-a729-4f1b-90a4-277308b82a40",
   "metadata": {
    "slideshow": {
     "slide_type": "slide"
    }
   },
   "source": [
    "# Non-Primitive Data Types\n",
    "## List \n",
    "\n",
    "[[official documentation](https://docs.python.org/3/tutorial/datastructures.html)]\n",
    "* List is a mutable sequence, typically used to store a collection of separate values. It is generally represented in a list of comma separated values(items) between a square bracket.\n",
    "* It is normally used to store homogeneous items. However, items in a list don't necessarily need to be of the same data type.\n",
    "* <span style=\"color:blue\">Each item of a list is assigned a index number representing its position, and the index starts from 0</span>"
   ]
  },
  {
   "cell_type": "markdown",
   "id": "a4959009-2bd3-4598-b96f-9a57c0a03e9c",
   "metadata": {
    "slideshow": {
     "slide_type": "fragment"
    }
   },
   "source": [
    "Does this sound familiar?"
   ]
  },
  {
   "cell_type": "markdown",
   "id": "4ddd22fd-62a8-4a65-bb00-4742dcc352ac",
   "metadata": {
    "slideshow": {
     "slide_type": "fragment"
    }
   },
   "source": [
    "**Both `String` and `List` belong to the so-called `Sequential Data Type`!**"
   ]
  },
  {
   "cell_type": "markdown",
   "id": "31f653e0-32c4-434b-98e0-72e3bd539dde",
   "metadata": {
    "slideshow": {
     "slide_type": "slide"
    }
   },
   "source": [
    "### List operations"
   ]
  },
  {
   "cell_type": "code",
   "execution_count": 18,
   "id": "db7419a6-99c3-4dfd-828e-5fc369477210",
   "metadata": {},
   "outputs": [],
   "source": [
    "## Create a list, an empty list\n",
    "x = [1,2,3]"
   ]
  },
  {
   "cell_type": "code",
   "execution_count": 19,
   "id": "684a690f",
   "metadata": {},
   "outputs": [
    {
     "data": {
      "text/plain": [
       "[1, 2, 3]"
      ]
     },
     "execution_count": 19,
     "metadata": {},
     "output_type": "execute_result"
    }
   ],
   "source": [
    "x"
   ]
  },
  {
   "cell_type": "code",
   "execution_count": 20,
   "id": "b00c03a9-b65a-445e-b759-ae2af8eacb2f",
   "metadata": {},
   "outputs": [
    {
     "data": {
      "text/plain": [
       "3"
      ]
     },
     "execution_count": 20,
     "metadata": {},
     "output_type": "execute_result"
    }
   ],
   "source": [
    "x[2]"
   ]
  },
  {
   "cell_type": "code",
   "execution_count": null,
   "id": "8cbac975",
   "metadata": {},
   "outputs": [],
   "source": []
  },
  {
   "cell_type": "code",
   "execution_count": 21,
   "id": "067a6338-3301-4721-a908-ee5db5441648",
   "metadata": {},
   "outputs": [
    {
     "data": {
      "text/plain": [
       "3"
      ]
     },
     "execution_count": 21,
     "metadata": {},
     "output_type": "execute_result"
    }
   ],
   "source": [
    "## Check the length of a string\n",
    "len(x)"
   ]
  },
  {
   "cell_type": "code",
   "execution_count": 22,
   "id": "d1f0695f-2f2d-4422-9436-c39e8b83ffdf",
   "metadata": {},
   "outputs": [
    {
     "data": {
      "text/plain": [
       "[2, 3]"
      ]
     },
     "execution_count": 22,
     "metadata": {},
     "output_type": "execute_result"
    }
   ],
   "source": [
    "## Position based indexing\n",
    "x = [1,2,3,4,5]\n",
    "x[1:3]"
   ]
  },
  {
   "cell_type": "code",
   "execution_count": 23,
   "id": "393a79cb",
   "metadata": {},
   "outputs": [
    {
     "data": {
      "text/plain": [
       "[2, 3, 4, 5]"
      ]
     },
     "execution_count": 23,
     "metadata": {},
     "output_type": "execute_result"
    }
   ],
   "source": [
    "x[1:]"
   ]
  },
  {
   "cell_type": "code",
   "execution_count": null,
   "id": "f86bf4b5",
   "metadata": {},
   "outputs": [],
   "source": []
  },
  {
   "cell_type": "code",
   "execution_count": 24,
   "id": "adb3e810-9431-4ff7-b27f-dc7bde559191",
   "metadata": {
    "slideshow": {
     "slide_type": "slide"
    }
   },
   "outputs": [
    {
     "data": {
      "text/plain": [
       "5"
      ]
     },
     "execution_count": 24,
     "metadata": {},
     "output_type": "execute_result"
    }
   ],
   "source": [
    "## Negative indexing\n",
    "x[-1]"
   ]
  },
  {
   "cell_type": "code",
   "execution_count": 25,
   "id": "88020e7c",
   "metadata": {},
   "outputs": [
    {
     "data": {
      "text/plain": [
       "4"
      ]
     },
     "execution_count": 25,
     "metadata": {},
     "output_type": "execute_result"
    }
   ],
   "source": [
    "x[-2]"
   ]
  },
  {
   "cell_type": "code",
   "execution_count": null,
   "id": "88a154e1",
   "metadata": {},
   "outputs": [],
   "source": []
  },
  {
   "cell_type": "code",
   "execution_count": 26,
   "id": "5a6d00dc-a73b-4e95-afce-631438fb342f",
   "metadata": {
    "slideshow": {
     "slide_type": "slide"
    }
   },
   "outputs": [
    {
     "data": {
      "text/plain": [
       "[1, 2, 3, 4]"
      ]
     },
     "execution_count": 26,
     "metadata": {},
     "output_type": "execute_result"
    }
   ],
   "source": [
    "## Append an item to the end of the list\n",
    "x = [1,2,3]\n",
    "x.append(4)\n",
    "x"
   ]
  },
  {
   "cell_type": "code",
   "execution_count": 27,
   "id": "66001987",
   "metadata": {},
   "outputs": [
    {
     "data": {
      "text/plain": [
       "[1, 2, 3, 4]"
      ]
     },
     "execution_count": 27,
     "metadata": {},
     "output_type": "execute_result"
    }
   ],
   "source": [
    "x = [1,2,3]\n",
    "x = x + [4]\n",
    "x"
   ]
  },
  {
   "cell_type": "code",
   "execution_count": null,
   "id": "3ff8991e",
   "metadata": {},
   "outputs": [],
   "source": []
  },
  {
   "cell_type": "code",
   "execution_count": 28,
   "id": "328a2ad6-beda-4267-9e9b-67c49cf599ba",
   "metadata": {},
   "outputs": [
    {
     "data": {
      "text/plain": [
       "[1, 2, 3, 4, 5, 6]"
      ]
     },
     "execution_count": 28,
     "metadata": {},
     "output_type": "execute_result"
    }
   ],
   "source": [
    "## Extend the list by appending all the items from another list\n",
    "# x.extend([5,6,7])\n",
    "x = [1,2,3]\n",
    "x = x + [4,5,6]\n",
    "x"
   ]
  },
  {
   "cell_type": "code",
   "execution_count": 29,
   "id": "14b2dc98",
   "metadata": {},
   "outputs": [
    {
     "data": {
      "text/plain": [
       "[1, 2, 3, 4, 5, 6]"
      ]
     },
     "execution_count": 29,
     "metadata": {},
     "output_type": "execute_result"
    }
   ],
   "source": [
    "x = [1,2,3]\n",
    "x.extend([4,5,6])\n",
    "x"
   ]
  },
  {
   "cell_type": "code",
   "execution_count": null,
   "id": "33558bed",
   "metadata": {},
   "outputs": [],
   "source": []
  },
  {
   "cell_type": "markdown",
   "id": "c18e9984-0aa1-4680-a8e9-ff21d7e55d53",
   "metadata": {
    "slideshow": {
     "slide_type": "slide"
    }
   },
   "source": [
    "How about the operations we used for strings? (`+` and `*`)"
   ]
  },
  {
   "cell_type": "code",
   "execution_count": 30,
   "id": "ee55903d-fe92-464a-8529-f8fc511ab521",
   "metadata": {},
   "outputs": [
    {
     "data": {
      "text/plain": [
       "[1, 2, 3, 4, 5, 6]"
      ]
     },
     "execution_count": 30,
     "metadata": {},
     "output_type": "execute_result"
    }
   ],
   "source": [
    "x = [1,2,3]\n",
    "x1 = [4,5,6]\n",
    "x + x1"
   ]
  },
  {
   "cell_type": "code",
   "execution_count": null,
   "id": "7b938930",
   "metadata": {},
   "outputs": [],
   "source": []
  },
  {
   "cell_type": "code",
   "execution_count": 31,
   "id": "c27e1c88",
   "metadata": {},
   "outputs": [
    {
     "data": {
      "text/plain": [
       "[1, 2, 3]"
      ]
     },
     "execution_count": 31,
     "metadata": {},
     "output_type": "execute_result"
    }
   ],
   "source": [
    "x"
   ]
  },
  {
   "cell_type": "code",
   "execution_count": 32,
   "id": "627c0192-454f-4b88-8745-c77d9f21a088",
   "metadata": {},
   "outputs": [
    {
     "data": {
      "text/plain": [
       "[1, 2, 3, 1, 2, 3, 1, 2, 3]"
      ]
     },
     "execution_count": 32,
     "metadata": {},
     "output_type": "execute_result"
    }
   ],
   "source": [
    "x*3"
   ]
  },
  {
   "cell_type": "code",
   "execution_count": 35,
   "id": "7d53d089-cc06-4329-9843-085d73bbc5d3",
   "metadata": {},
   "outputs": [
    {
     "data": {
      "text/plain": [
       "[1, 2, 3, 1, 2, 3, 1, 2, 3, 1, 2, 3, 1, 2, 3]"
      ]
     },
     "execution_count": 35,
     "metadata": {},
     "output_type": "execute_result"
    }
   ],
   "source": [
    "## Augment the list by repeating the set of elements multiple times\n",
    "[1,2,3]*5"
   ]
  },
  {
   "cell_type": "code",
   "execution_count": null,
   "id": "e7dc69d8",
   "metadata": {},
   "outputs": [],
   "source": []
  },
  {
   "cell_type": "markdown",
   "id": "bfc1e186-e51c-4d51-ad56-47ff41815c12",
   "metadata": {
    "slideshow": {
     "slide_type": "slide"
    }
   },
   "source": [
    "Other interesting listing operations"
   ]
  },
  {
   "cell_type": "code",
   "execution_count": 36,
   "id": "63dd564b-f71f-4b83-9be8-225a23ef531b",
   "metadata": {},
   "outputs": [
    {
     "data": {
      "text/plain": [
       "False"
      ]
     },
     "execution_count": 36,
     "metadata": {},
     "output_type": "execute_result"
    }
   ],
   "source": [
    "## value in list, value not in list\n",
    "x = [1,2,3]\n",
    "5 in x"
   ]
  },
  {
   "cell_type": "code",
   "execution_count": 37,
   "id": "84348f69",
   "metadata": {},
   "outputs": [
    {
     "data": {
      "text/plain": [
       "True"
      ]
     },
     "execution_count": 37,
     "metadata": {},
     "output_type": "execute_result"
    }
   ],
   "source": [
    "1 in x"
   ]
  },
  {
   "cell_type": "code",
   "execution_count": null,
   "id": "c7bf2c11",
   "metadata": {},
   "outputs": [],
   "source": []
  },
  {
   "cell_type": "code",
   "execution_count": 38,
   "id": "5b8f817c-9a8e-41cf-9684-0dde21a861bd",
   "metadata": {},
   "outputs": [
    {
     "data": {
      "text/plain": [
       "[1, 4, 2, 3]"
      ]
     },
     "execution_count": 38,
     "metadata": {},
     "output_type": "execute_result"
    }
   ],
   "source": [
    "## list.insert(i, x)\n",
    "x = [1,2,3]\n",
    "x.insert(1,4)\n",
    "x"
   ]
  },
  {
   "cell_type": "code",
   "execution_count": null,
   "id": "1541da00",
   "metadata": {},
   "outputs": [],
   "source": []
  },
  {
   "cell_type": "code",
   "execution_count": 39,
   "id": "bcdc9d45-30cf-484b-94f3-654cf85d744b",
   "metadata": {},
   "outputs": [
    {
     "data": {
      "text/plain": [
       "3"
      ]
     },
     "execution_count": 39,
     "metadata": {},
     "output_type": "execute_result"
    }
   ],
   "source": [
    "x.pop()"
   ]
  },
  {
   "cell_type": "code",
   "execution_count": 40,
   "id": "74a46168",
   "metadata": {},
   "outputs": [
    {
     "data": {
      "text/plain": [
       "2"
      ]
     },
     "execution_count": 40,
     "metadata": {},
     "output_type": "execute_result"
    }
   ],
   "source": [
    "x.pop()"
   ]
  },
  {
   "cell_type": "code",
   "execution_count": 41,
   "id": "30d4fabc",
   "metadata": {},
   "outputs": [
    {
     "data": {
      "text/plain": [
       "[1, 4]"
      ]
     },
     "execution_count": 41,
     "metadata": {},
     "output_type": "execute_result"
    }
   ],
   "source": [
    "x"
   ]
  },
  {
   "cell_type": "code",
   "execution_count": null,
   "id": "c7c39b6c",
   "metadata": {},
   "outputs": [],
   "source": []
  },
  {
   "cell_type": "code",
   "execution_count": 42,
   "id": "a80e8c35-4bd1-4b90-97a2-bb62594ad961",
   "metadata": {},
   "outputs": [
    {
     "data": {
      "text/plain": [
       "4"
      ]
     },
     "execution_count": 42,
     "metadata": {},
     "output_type": "execute_result"
    }
   ],
   "source": [
    "## list.pop(i)\n",
    "x = [1,4,2,3]\n",
    "x.pop(1)"
   ]
  },
  {
   "cell_type": "code",
   "execution_count": 43,
   "id": "f236a990-aadb-4101-99c5-2fc44e94e71f",
   "metadata": {},
   "outputs": [
    {
     "data": {
      "text/plain": [
       "[1, 2, 3]"
      ]
     },
     "execution_count": 43,
     "metadata": {},
     "output_type": "execute_result"
    }
   ],
   "source": [
    "x"
   ]
  },
  {
   "cell_type": "code",
   "execution_count": null,
   "id": "ab757da6",
   "metadata": {},
   "outputs": [],
   "source": []
  },
  {
   "cell_type": "code",
   "execution_count": 44,
   "id": "da1d02ab-625d-41b3-8c80-f5ef79373a99",
   "metadata": {
    "slideshow": {
     "slide_type": "slide"
    }
   },
   "outputs": [
    {
     "data": {
      "text/plain": [
       "[1, 2, 4, 5]"
      ]
     },
     "execution_count": 44,
     "metadata": {},
     "output_type": "execute_result"
    }
   ],
   "source": [
    "## list.sort()\n",
    "x = [4,5,2,1]\n",
    "x.sort() # x.sort() does in-place sorting\n",
    "x"
   ]
  },
  {
   "cell_type": "code",
   "execution_count": 45,
   "id": "e1b67ad7",
   "metadata": {},
   "outputs": [
    {
     "data": {
      "text/plain": [
       "[5, 4, 2, 1]"
      ]
     },
     "execution_count": 45,
     "metadata": {},
     "output_type": "execute_result"
    }
   ],
   "source": [
    "x = [4,5,2,1]\n",
    "x.sort(reverse=True) # x.sort() does in-place sorting\n",
    "x"
   ]
  },
  {
   "cell_type": "code",
   "execution_count": null,
   "id": "9bc4ee8e",
   "metadata": {},
   "outputs": [],
   "source": []
  },
  {
   "cell_type": "code",
   "execution_count": 46,
   "id": "aa0041f8-825b-45c7-8213-c1bff94c7467",
   "metadata": {},
   "outputs": [
    {
     "data": {
      "text/plain": [
       "[1, 2, 4, 5]"
      ]
     },
     "execution_count": 46,
     "metadata": {},
     "output_type": "execute_result"
    }
   ],
   "source": [
    "## sorted()\n",
    "x = [4,5,2,1]\n",
    "sorted(x) # sorted(x) output a new list holding the sorted values"
   ]
  },
  {
   "cell_type": "code",
   "execution_count": 47,
   "id": "f061dcb5-6204-4777-813b-830293e22419",
   "metadata": {},
   "outputs": [
    {
     "data": {
      "text/plain": [
       "[4, 5, 2, 1]"
      ]
     },
     "execution_count": 47,
     "metadata": {},
     "output_type": "execute_result"
    }
   ],
   "source": [
    "x # element order in x isn't impacted by sorted(), the sort is not in place"
   ]
  },
  {
   "cell_type": "code",
   "execution_count": null,
   "id": "ec75a3c5",
   "metadata": {},
   "outputs": [],
   "source": []
  },
  {
   "cell_type": "code",
   "execution_count": 48,
   "id": "26a05909-45f2-4bf8-ad18-16e9619f676b",
   "metadata": {},
   "outputs": [
    {
     "ename": "NameError",
     "evalue": "name 'x' is not defined",
     "output_type": "error",
     "traceback": [
      "\u001b[0;31m---------------------------------------------------------------------------\u001b[0m",
      "\u001b[0;31mNameError\u001b[0m                                 Traceback (most recent call last)",
      "Cell \u001b[0;32mIn[48], line 3\u001b[0m\n\u001b[1;32m      1\u001b[0m \u001b[38;5;66;03m## The del statement\u001b[39;00m\n\u001b[1;32m      2\u001b[0m \u001b[38;5;28;01mdel\u001b[39;00m x\n\u001b[0;32m----> 3\u001b[0m \u001b[43mx\u001b[49m\n",
      "\u001b[0;31mNameError\u001b[0m: name 'x' is not defined"
     ]
    }
   ],
   "source": [
    "## The del statement\n",
    "del x\n",
    "x"
   ]
  },
  {
   "cell_type": "code",
   "execution_count": 49,
   "id": "6b2b97b8",
   "metadata": {},
   "outputs": [],
   "source": [
    "# change the element within a list by referencing its position\n",
    "x = [1,2,3]\n",
    "x[1] = 5"
   ]
  },
  {
   "cell_type": "code",
   "execution_count": 50,
   "id": "b971304d",
   "metadata": {},
   "outputs": [
    {
     "data": {
      "text/plain": [
       "[1, 5, 3]"
      ]
     },
     "execution_count": 50,
     "metadata": {},
     "output_type": "execute_result"
    }
   ],
   "source": [
    "x"
   ]
  },
  {
   "cell_type": "markdown",
   "id": "69f3ec7e-5356-4bb2-87ad-ca6b97caea0d",
   "metadata": {
    "slideshow": {
     "slide_type": "slide"
    }
   },
   "source": [
    "### copy vs. reference (case study)"
   ]
  },
  {
   "cell_type": "code",
   "execution_count": 52,
   "id": "68ab0a65",
   "metadata": {},
   "outputs": [
    {
     "data": {
      "text/plain": [
       "1"
      ]
     },
     "execution_count": 52,
     "metadata": {},
     "output_type": "execute_result"
    }
   ],
   "source": [
    "x = 1\n",
    "y = x\n",
    "x = 2\n",
    "y"
   ]
  },
  {
   "cell_type": "code",
   "execution_count": null,
   "id": "d7cfcdc3",
   "metadata": {},
   "outputs": [],
   "source": []
  },
  {
   "cell_type": "code",
   "execution_count": 56,
   "id": "3c2e3a26-eeb9-4a13-813f-2a6b483ad785",
   "metadata": {},
   "outputs": [
    {
     "data": {
      "text/plain": [
       "[1, 2, 3]"
      ]
     },
     "execution_count": 56,
     "metadata": {},
     "output_type": "execute_result"
    }
   ],
   "source": [
    "x = [1,2,3]\n",
    "y = x\n",
    "x\n"
   ]
  },
  {
   "cell_type": "code",
   "execution_count": 57,
   "id": "bbacb1e9-6f76-462c-82ea-54501d6ed16e",
   "metadata": {},
   "outputs": [
    {
     "data": {
      "text/plain": [
       "[1, 4, 3]"
      ]
     },
     "execution_count": 57,
     "metadata": {},
     "output_type": "execute_result"
    }
   ],
   "source": [
    "x[1] = 4\n",
    "x"
   ]
  },
  {
   "cell_type": "code",
   "execution_count": null,
   "id": "f3e8f324",
   "metadata": {},
   "outputs": [],
   "source": []
  },
  {
   "cell_type": "code",
   "execution_count": 59,
   "id": "233c52d0-b0fb-44dc-85c0-e2dc27bc118a",
   "metadata": {},
   "outputs": [
    {
     "data": {
      "text/plain": [
       "[1, 4, 3]"
      ]
     },
     "execution_count": 59,
     "metadata": {},
     "output_type": "execute_result"
    }
   ],
   "source": [
    "y"
   ]
  },
  {
   "cell_type": "code",
   "execution_count": null,
   "id": "d7d9061a-769b-4d99-996d-903ce3b46071",
   "metadata": {},
   "outputs": [],
   "source": []
  },
  {
   "cell_type": "code",
   "execution_count": null,
   "id": "433eae19-6bf2-4828-bd20-64cd25aa9991",
   "metadata": {},
   "outputs": [],
   "source": [
    "## What happens to l2?\n",
    "l1 = [1,2,3]\n",
    "l2 = l1\n",
    "l2\n",
    "# print('The ID of variable l1 is: ', id(l1))\n",
    "# print('The ID of variable l2 is: ', id(l2))\n",
    "# l1[1] = 5\n",
    "# print('After the value change ...')\n",
    "# print('The value of l2 is: ', l2)\n",
    "# print('The ID of variable l1 is: ', id(l1))\n",
    "# print('The ID of variable l2 is: ', id(l2))"
   ]
  },
  {
   "cell_type": "markdown",
   "id": "cd76f111-228d-4d0b-95e4-06c3bcd065ac",
   "metadata": {
    "slideshow": {
     "slide_type": "fragment"
    }
   },
   "source": [
    "<center><img src=\"../pics/reference-vs-copy-p6.png\"\" style=\"height:250px;\"></center>"
   ]
  },
  {
   "cell_type": "code",
   "execution_count": 62,
   "id": "bd098ccd",
   "metadata": {},
   "outputs": [
    {
     "data": {
      "text/plain": [
       "[1, 2, 3]"
      ]
     },
     "execution_count": 62,
     "metadata": {},
     "output_type": "execute_result"
    }
   ],
   "source": [
    "## Any way to prevent this?\n",
    "x = [1,2,3]\n",
    "y = x.copy()\n",
    "y"
   ]
  },
  {
   "cell_type": "code",
   "execution_count": null,
   "id": "448f3d5f",
   "metadata": {},
   "outputs": [],
   "source": []
  },
  {
   "cell_type": "code",
   "execution_count": 63,
   "id": "fe7d625b",
   "metadata": {},
   "outputs": [
    {
     "data": {
      "text/plain": [
       "[1, 2, 3]"
      ]
     },
     "execution_count": 63,
     "metadata": {},
     "output_type": "execute_result"
    }
   ],
   "source": [
    "x[1] = 4\n",
    "y\n"
   ]
  },
  {
   "cell_type": "code",
   "execution_count": null,
   "id": "c8fa37d0",
   "metadata": {},
   "outputs": [],
   "source": []
  },
  {
   "cell_type": "code",
   "execution_count": null,
   "id": "f678bc50-a72e-417e-bfe6-7bde1f23fa95",
   "metadata": {
    "scrolled": true,
    "slideshow": {
     "slide_type": "slide"
    }
   },
   "outputs": [],
   "source": [
    "## Any way to prevent this?\n",
    "l1 = [1,2,3]\n",
    "l2 = l1.copy()\n",
    "l1[1] = 4\n",
    "l2\n",
    "# print('The ID of variable l1 is: ', id(l1))\n",
    "# print('The ID of variable l2 is: ', id(l2))\n",
    "# l1[1] = 5\n",
    "# print('After the value change ...')\n",
    "# print('The value of l2 is: ', l2)\n",
    "# print('The ID of variable l1 is: ', id(l1))\n",
    "# print('The ID of variable l2 is: ', id(l2))\n",
    "# print(l1)"
   ]
  },
  {
   "cell_type": "markdown",
   "id": "efc8245b-1b7b-4bec-b402-a3a09d52d573",
   "metadata": {
    "slideshow": {
     "slide_type": "fragment"
    }
   },
   "source": [
    "<center><img src=\"../pics/reference-vs-copy-p7.png\"\" style=\"height:250px;\"></center>"
   ]
  },
  {
   "cell_type": "code",
   "execution_count": 64,
   "id": "2d3a4aba",
   "metadata": {},
   "outputs": [
    {
     "data": {
      "text/plain": [
       "140569858007552"
      ]
     },
     "execution_count": 64,
     "metadata": {},
     "output_type": "execute_result"
    }
   ],
   "source": [
    "id(x)"
   ]
  },
  {
   "cell_type": "code",
   "execution_count": 65,
   "id": "006493a8",
   "metadata": {},
   "outputs": [],
   "source": [
    "x = [1,2,3]\n",
    "y = x"
   ]
  },
  {
   "cell_type": "code",
   "execution_count": 66,
   "id": "be0aa683",
   "metadata": {},
   "outputs": [
    {
     "data": {
      "text/plain": [
       "140570129727680"
      ]
     },
     "execution_count": 66,
     "metadata": {},
     "output_type": "execute_result"
    }
   ],
   "source": [
    "id(x)"
   ]
  },
  {
   "cell_type": "code",
   "execution_count": 67,
   "id": "09e029ac",
   "metadata": {},
   "outputs": [
    {
     "data": {
      "text/plain": [
       "140570129727680"
      ]
     },
     "execution_count": 67,
     "metadata": {},
     "output_type": "execute_result"
    }
   ],
   "source": [
    "id(y)"
   ]
  },
  {
   "cell_type": "code",
   "execution_count": 68,
   "id": "9fd28269",
   "metadata": {},
   "outputs": [],
   "source": [
    "x = [1,2,3]\n",
    "y = x.copy()"
   ]
  },
  {
   "cell_type": "code",
   "execution_count": 70,
   "id": "2a79b4e6",
   "metadata": {},
   "outputs": [
    {
     "data": {
      "text/plain": [
       "140569855618752"
      ]
     },
     "execution_count": 70,
     "metadata": {},
     "output_type": "execute_result"
    }
   ],
   "source": [
    "id(x)"
   ]
  },
  {
   "cell_type": "code",
   "execution_count": 71,
   "id": "e1d72eb6",
   "metadata": {},
   "outputs": [
    {
     "data": {
      "text/plain": [
       "140570129343936"
      ]
     },
     "execution_count": 71,
     "metadata": {},
     "output_type": "execute_result"
    }
   ],
   "source": [
    "id(y)"
   ]
  },
  {
   "cell_type": "code",
   "execution_count": null,
   "id": "fb567b38",
   "metadata": {},
   "outputs": [],
   "source": []
  },
  {
   "cell_type": "code",
   "execution_count": null,
   "id": "79dd3e38-f1fc-4996-81db-19dbd0c77f83",
   "metadata": {
    "slideshow": {
     "slide_type": "slide"
    }
   },
   "outputs": [],
   "source": [
    "## Any other ways?\n",
    "import copy\n",
    "l1 = [1,2,3]\n",
    "l2 = copy.copy(l1) ## equivalent to l1.copy()\n",
    "print('The ID of variable l1 is: ', id(l1))\n",
    "print('The ID of variable l2 is: ', id(l2))\n",
    "l1[1] = 5\n",
    "print('After the value change ...')\n",
    "print('The value of l2 is: ', l2)\n",
    "print('The ID of variable l1 is: ', id(l1))\n",
    "print('The ID of variable l2 is: ', id(l2))"
   ]
  },
  {
   "cell_type": "markdown",
   "id": "df9a971d-64b0-4a8a-8d6f-14956c956f81",
   "metadata": {
    "slideshow": {
     "slide_type": "slide"
    }
   },
   "source": [
    "**Key take-away here**:\n",
    "\n",
    "[For non-primitive data structures]\n",
    "* In Python, every variable is holding a reference to an object (a value or an abstract to a compound object) in the memory\n",
    "* Therefore, value assignment `VarB=VarA` only copies the reference `VarA` holds. `VarB` and `VarA` are just two different aliases to the same object.\n",
    "* If you need to create a separate copy from the original object, you need to explicitly call certain modules to do it. Such as `copy.copy()` and `list.copy()` we used in the case study.\n",
    "* Usually, \"shallow copy\" via `copy.copy()` (or `list.copy()` for a list object) would be sufficient for you to create a separate copy. However, under certain special scenarios, you might need to consider using \"deep copy\" `copy.deepcopy()`.\n"
   ]
  },
  {
   "cell_type": "markdown",
   "id": "4ddfaea2-9f60-4797-907a-029c8970f1f2",
   "metadata": {
    "slideshow": {
     "slide_type": "slide"
    }
   },
   "source": [
    "* Offline Reading: **Shallow & Deep Copy**\n",
    "    * [Doc #1](https://towardsdatascience.com/assignment-shallow-or-deep-a-story-about-pythons-memory-management-b8fad87bfa6c)\n",
    "    * [Doc #2](https://www.programiz.com/python-programming/shallow-deep-copy)"
   ]
  },
  {
   "cell_type": "markdown",
   "id": "4ab6ecbc-eb73-4a78-97fe-bfe68ebe0c95",
   "metadata": {
    "slideshow": {
     "slide_type": "slide"
    }
   },
   "source": [
    "## Tuples\n",
    "* Tuples are immutable sequences, typically used to store heterogeneous items.\n",
    "* It is normally represented by a list of comma separated values(items) with surrounding parentheses\n",
    "\n",
    "*Summary*:\n",
    "* List, string, tuple are also called the `Sequence` type"
   ]
  },
  {
   "cell_type": "code",
   "execution_count": 72,
   "id": "baccebe3-647a-496d-8618-811396c3fe52",
   "metadata": {},
   "outputs": [
    {
     "data": {
      "text/plain": [
       "(1, 2)"
      ]
     },
     "execution_count": 72,
     "metadata": {},
     "output_type": "execute_result"
    }
   ],
   "source": [
    "## Create a tuple\n",
    "x = (1,2)\n",
    "x"
   ]
  },
  {
   "cell_type": "code",
   "execution_count": 73,
   "id": "db189f66",
   "metadata": {},
   "outputs": [
    {
     "data": {
      "text/plain": [
       "2"
      ]
     },
     "execution_count": 73,
     "metadata": {},
     "output_type": "execute_result"
    }
   ],
   "source": [
    "x[1]"
   ]
  },
  {
   "cell_type": "code",
   "execution_count": 74,
   "id": "aac7a677",
   "metadata": {},
   "outputs": [
    {
     "ename": "TypeError",
     "evalue": "'tuple' object does not support item assignment",
     "output_type": "error",
     "traceback": [
      "\u001b[0;31m---------------------------------------------------------------------------\u001b[0m",
      "\u001b[0;31mTypeError\u001b[0m                                 Traceback (most recent call last)",
      "Cell \u001b[0;32mIn[74], line 1\u001b[0m\n\u001b[0;32m----> 1\u001b[0m \u001b[43mx\u001b[49m\u001b[43m[\u001b[49m\u001b[38;5;241;43m1\u001b[39;49m\u001b[43m]\u001b[49m \u001b[38;5;241m=\u001b[39m \u001b[38;5;241m3\u001b[39m\n",
      "\u001b[0;31mTypeError\u001b[0m: 'tuple' object does not support item assignment"
     ]
    }
   ],
   "source": [
    "x[1] = 3"
   ]
  },
  {
   "cell_type": "code",
   "execution_count": 75,
   "id": "a83bdfe3",
   "metadata": {},
   "outputs": [
    {
     "ename": "AttributeError",
     "evalue": "'tuple' object has no attribute 'sort'",
     "output_type": "error",
     "traceback": [
      "\u001b[0;31m---------------------------------------------------------------------------\u001b[0m",
      "\u001b[0;31mAttributeError\u001b[0m                            Traceback (most recent call last)",
      "Cell \u001b[0;32mIn[75], line 1\u001b[0m\n\u001b[0;32m----> 1\u001b[0m \u001b[43mx\u001b[49m\u001b[38;5;241;43m.\u001b[39;49m\u001b[43msort\u001b[49m()\n",
      "\u001b[0;31mAttributeError\u001b[0m: 'tuple' object has no attribute 'sort'"
     ]
    }
   ],
   "source": [
    "x.sort()"
   ]
  },
  {
   "cell_type": "code",
   "execution_count": 78,
   "id": "b47899a3",
   "metadata": {},
   "outputs": [
    {
     "data": {
      "text/plain": [
       "list"
      ]
     },
     "execution_count": 78,
     "metadata": {},
     "output_type": "execute_result"
    }
   ],
   "source": [
    "y = sorted(x)\n",
    "type(y)"
   ]
  },
  {
   "cell_type": "code",
   "execution_count": null,
   "id": "42b7454c",
   "metadata": {},
   "outputs": [],
   "source": []
  },
  {
   "cell_type": "code",
   "execution_count": 81,
   "id": "f2ea02c1-aa88-4193-ba0f-961c0b736639",
   "metadata": {},
   "outputs": [
    {
     "data": {
      "text/plain": [
       "(1, 2)"
      ]
     },
     "execution_count": 81,
     "metadata": {},
     "output_type": "execute_result"
    }
   ],
   "source": [
    "## Tuples can be constructed with or without parentheses\n",
    "x = 1,2\n",
    "x"
   ]
  },
  {
   "cell_type": "code",
   "execution_count": null,
   "id": "c11d8204-7c81-4eed-905a-0ce2bb9bf059",
   "metadata": {
    "slideshow": {
     "slide_type": "slide"
    }
   },
   "outputs": [],
   "source": [
    "## Indexing and slicing\n",
    "x = (1,2,3)\n",
    "x[1]"
   ]
  },
  {
   "cell_type": "code",
   "execution_count": 80,
   "id": "25aa4136-e7e8-402b-8bd9-df252d6b62e5",
   "metadata": {},
   "outputs": [
    {
     "data": {
      "text/plain": [
       "True"
      ]
     },
     "execution_count": 80,
     "metadata": {},
     "output_type": "execute_result"
    }
   ],
   "source": [
    "## Value in tuple, value not in tuple\n",
    "x = (1,2,3)\n",
    "1 in x"
   ]
  },
  {
   "cell_type": "code",
   "execution_count": null,
   "id": "9318b8b3",
   "metadata": {},
   "outputs": [],
   "source": []
  },
  {
   "cell_type": "code",
   "execution_count": 82,
   "id": "20f18e83-5a47-47d7-a2f7-b48c87c10a68",
   "metadata": {
    "slideshow": {
     "slide_type": "slide"
    }
   },
   "outputs": [
    {
     "name": "stdout",
     "output_type": "stream",
     "text": [
      "1 2\n"
     ]
    }
   ],
   "source": [
    "## Unpacking tuples\n",
    "x,y = (1,2)\n",
    "print(x,y)"
   ]
  },
  {
   "cell_type": "code",
   "execution_count": 83,
   "id": "99ba491d",
   "metadata": {},
   "outputs": [
    {
     "name": "stdout",
     "output_type": "stream",
     "text": [
      "1 2\n"
     ]
    }
   ],
   "source": [
    "z = (1,2)\n",
    "x = z[0]\n",
    "y = z[1]\n",
    "print(x, y)"
   ]
  },
  {
   "cell_type": "code",
   "execution_count": 84,
   "id": "015ca6e1-6cb2-44ce-b29f-f01d9e49ae95",
   "metadata": {},
   "outputs": [
    {
     "ename": "TypeError",
     "evalue": "'tuple' object does not support item assignment",
     "output_type": "error",
     "traceback": [
      "\u001b[0;31m---------------------------------------------------------------------------\u001b[0m",
      "\u001b[0;31mTypeError\u001b[0m                                 Traceback (most recent call last)",
      "Cell \u001b[0;32mIn[84], line 3\u001b[0m\n\u001b[1;32m      1\u001b[0m \u001b[38;5;66;03m## Is it really immutable?\u001b[39;00m\n\u001b[1;32m      2\u001b[0m x \u001b[38;5;241m=\u001b[39m (\u001b[38;5;241m1\u001b[39m,\u001b[38;5;241m2\u001b[39m,\u001b[38;5;241m3\u001b[39m)\n\u001b[0;32m----> 3\u001b[0m \u001b[43mx\u001b[49m\u001b[43m[\u001b[49m\u001b[38;5;241;43m1\u001b[39;49m\u001b[43m]\u001b[49m\u001b[38;5;241m=\u001b[39m\u001b[38;5;241m4\u001b[39m\n",
      "\u001b[0;31mTypeError\u001b[0m: 'tuple' object does not support item assignment"
     ]
    }
   ],
   "source": [
    "## Is it really immutable?\n",
    "x = (1,2,3)\n",
    "x[1]=4"
   ]
  },
  {
   "cell_type": "code",
   "execution_count": null,
   "id": "82d48e9f",
   "metadata": {},
   "outputs": [],
   "source": []
  },
  {
   "cell_type": "markdown",
   "id": "3a0f666f-5baa-493d-8241-7692bf6d45e1",
   "metadata": {
    "slideshow": {
     "slide_type": "slide"
    }
   },
   "source": [
    "## Sets\n",
    "* A set is an unordered collection with no duplicate elements, same to the mathematical concept of `set`\n",
    "* Set objects support mathematical operations like union, intersection, difference, and symmetric difference\n",
    "* A good tutorial on Set operations: https://www.geeksforgeeks.org/python-set-operations-union-intersection-difference-symmetric-difference/"
   ]
  },
  {
   "cell_type": "code",
   "execution_count": 85,
   "id": "7e177a4a-081d-414a-bbe2-a73e8e32d93d",
   "metadata": {},
   "outputs": [
    {
     "data": {
      "text/plain": [
       "{1, 2, 3, 4}"
      ]
     },
     "execution_count": 85,
     "metadata": {},
     "output_type": "execute_result"
    }
   ],
   "source": [
    "## Create a set: {} and set()\n",
    "x = {1,2,3,4}\n",
    "x"
   ]
  },
  {
   "cell_type": "code",
   "execution_count": 86,
   "id": "22124cf7",
   "metadata": {},
   "outputs": [
    {
     "data": {
      "text/plain": [
       "set"
      ]
     },
     "execution_count": 86,
     "metadata": {},
     "output_type": "execute_result"
    }
   ],
   "source": [
    "type(x)"
   ]
  },
  {
   "cell_type": "code",
   "execution_count": 87,
   "id": "d8ade4cf",
   "metadata": {},
   "outputs": [
    {
     "data": {
      "text/plain": [
       "{1, 2, 3, 4}"
      ]
     },
     "execution_count": 87,
     "metadata": {},
     "output_type": "execute_result"
    }
   ],
   "source": [
    "x = set([1,2,3,4])\n",
    "x"
   ]
  },
  {
   "cell_type": "code",
   "execution_count": 88,
   "id": "179a9c3a",
   "metadata": {},
   "outputs": [
    {
     "data": {
      "text/plain": [
       "set"
      ]
     },
     "execution_count": 88,
     "metadata": {},
     "output_type": "execute_result"
    }
   ],
   "source": [
    "type(x)"
   ]
  },
  {
   "cell_type": "code",
   "execution_count": null,
   "id": "b7f19ecc",
   "metadata": {},
   "outputs": [],
   "source": []
  },
  {
   "cell_type": "code",
   "execution_count": 89,
   "id": "8790d13d",
   "metadata": {},
   "outputs": [
    {
     "data": {
      "text/plain": [
       "{1, 2, 3, 4}"
      ]
     },
     "execution_count": 89,
     "metadata": {},
     "output_type": "execute_result"
    }
   ],
   "source": [
    "x = set([1,2,3,4,4,4])\n",
    "x"
   ]
  },
  {
   "cell_type": "code",
   "execution_count": null,
   "id": "87f72bf4",
   "metadata": {},
   "outputs": [],
   "source": []
  },
  {
   "cell_type": "code",
   "execution_count": null,
   "id": "978c6b37",
   "metadata": {},
   "outputs": [],
   "source": []
  },
  {
   "cell_type": "code",
   "execution_count": 90,
   "id": "da3dd72f-4bac-452f-8f8b-bfd010f37808",
   "metadata": {},
   "outputs": [
    {
     "data": {
      "text/plain": [
       "True"
      ]
     },
     "execution_count": 90,
     "metadata": {},
     "output_type": "execute_result"
    }
   ],
   "source": [
    "## Value in a set, value not in a set\n",
    "2 in x"
   ]
  },
  {
   "cell_type": "code",
   "execution_count": null,
   "id": "8507037b",
   "metadata": {},
   "outputs": [],
   "source": []
  },
  {
   "cell_type": "code",
   "execution_count": 92,
   "id": "de8e2197-ca9c-41a2-a920-392dead9faac",
   "metadata": {
    "slideshow": {
     "slide_type": "slide"
    }
   },
   "outputs": [
    {
     "data": {
      "text/plain": [
       "{2, 3}"
      ]
     },
     "execution_count": 92,
     "metadata": {},
     "output_type": "execute_result"
    }
   ],
   "source": [
    "## Union, intersection, difference, symmetric difference\n",
    "x = {1,2,3}\n",
    "y = {2,3,4,5}\n",
    "\n",
    "x & y"
   ]
  },
  {
   "cell_type": "code",
   "execution_count": 95,
   "id": "ed2e9212",
   "metadata": {},
   "outputs": [
    {
     "data": {
      "text/plain": [
       "{2, 3}"
      ]
     },
     "execution_count": 95,
     "metadata": {},
     "output_type": "execute_result"
    }
   ],
   "source": [
    "x.intersection(y)"
   ]
  },
  {
   "cell_type": "code",
   "execution_count": 93,
   "id": "6a053b56",
   "metadata": {},
   "outputs": [
    {
     "data": {
      "text/plain": [
       "{1, 2, 3, 4, 5}"
      ]
     },
     "execution_count": 93,
     "metadata": {},
     "output_type": "execute_result"
    }
   ],
   "source": [
    "x | y"
   ]
  },
  {
   "cell_type": "code",
   "execution_count": 94,
   "id": "89aa6975",
   "metadata": {},
   "outputs": [
    {
     "data": {
      "text/plain": [
       "{1, 2, 3, 4, 5}"
      ]
     },
     "execution_count": 94,
     "metadata": {},
     "output_type": "execute_result"
    }
   ],
   "source": [
    "x.union(y)"
   ]
  },
  {
   "cell_type": "code",
   "execution_count": null,
   "id": "444379e0",
   "metadata": {},
   "outputs": [],
   "source": []
  },
  {
   "cell_type": "code",
   "execution_count": 98,
   "id": "270720d7",
   "metadata": {},
   "outputs": [
    {
     "data": {
      "text/plain": [
       "{1, 2, 3}"
      ]
     },
     "execution_count": 98,
     "metadata": {},
     "output_type": "execute_result"
    }
   ],
   "source": [
    "x = {1,2,3}\n",
    "x"
   ]
  },
  {
   "cell_type": "code",
   "execution_count": 99,
   "id": "d371d94c-9824-4df6-bede-4e2fdbcd4bc8",
   "metadata": {},
   "outputs": [
    {
     "data": {
      "text/plain": [
       "{1, 2, 3, 6}"
      ]
     },
     "execution_count": 99,
     "metadata": {},
     "output_type": "execute_result"
    }
   ],
   "source": [
    "## Add an element\n",
    "x = x.union({6})\n",
    "x"
   ]
  },
  {
   "cell_type": "code",
   "execution_count": 100,
   "id": "ad76afb1-a6bf-44a9-8bf3-51ea355e3dcf",
   "metadata": {},
   "outputs": [
    {
     "data": {
      "text/plain": [
       "{1, 2, 3, 6, 7}"
      ]
     },
     "execution_count": 100,
     "metadata": {},
     "output_type": "execute_result"
    }
   ],
   "source": [
    "## You can also do\n",
    "x.add(7)\n",
    "x"
   ]
  },
  {
   "cell_type": "code",
   "execution_count": 101,
   "id": "530e3270",
   "metadata": {},
   "outputs": [
    {
     "ename": "TypeError",
     "evalue": "'set' object is not subscriptable",
     "output_type": "error",
     "traceback": [
      "\u001b[0;31m---------------------------------------------------------------------------\u001b[0m",
      "\u001b[0;31mTypeError\u001b[0m                                 Traceback (most recent call last)",
      "Cell \u001b[0;32mIn[101], line 1\u001b[0m\n\u001b[0;32m----> 1\u001b[0m \u001b[43mx\u001b[49m\u001b[43m[\u001b[49m\u001b[38;5;241;43m1\u001b[39;49m\u001b[43m]\u001b[49m\n",
      "\u001b[0;31mTypeError\u001b[0m: 'set' object is not subscriptable"
     ]
    }
   ],
   "source": [
    "# you can't reference element by position\n",
    "x[1]"
   ]
  },
  {
   "cell_type": "code",
   "execution_count": null,
   "id": "4c7d250f",
   "metadata": {},
   "outputs": [],
   "source": []
  },
  {
   "cell_type": "code",
   "execution_count": null,
   "id": "bf213d8f-0cad-41c7-88f2-cc2f936dd720",
   "metadata": {
    "slideshow": {
     "slide_type": "slide"
    }
   },
   "outputs": [],
   "source": [
    "## Add elements from another collection\n",
    "x = {1,2,3}\n",
    "y = {4,5,6}\n",
    "x = x.union(y)\n",
    "x"
   ]
  },
  {
   "cell_type": "code",
   "execution_count": null,
   "id": "e8cb3e42-2a99-402c-8b86-9f25a43526ef",
   "metadata": {},
   "outputs": [],
   "source": [
    "## You can use set to find the distinct values in a sequence (list, tuple, etc.)\n",
    "x = [1,2,2,2,2,2,2,3]\n",
    "set(x)"
   ]
  },
  {
   "cell_type": "markdown",
   "id": "da8fe23c-c7b5-4191-8c9f-8d851bd9b544",
   "metadata": {
    "slideshow": {
     "slide_type": "slide"
    }
   },
   "source": [
    "## Dictionary\n",
    "* Dictionary is the most commonly used data structure to store key-value pairs\n",
    "* Keys are unique within one dictionary, and search by key is of [constant time complexity](https://en.wikipedia.org/wiki/Time_complexity)\n",
    "* The general format of a dictionary: `{key1:value1, key2:value2}`\n"
   ]
  },
  {
   "cell_type": "code",
   "execution_count": 102,
   "id": "60422eb3-a495-4d0f-b950-c480c97fb3d5",
   "metadata": {},
   "outputs": [
    {
     "data": {
      "text/plain": [
       "{'a': 1, 'b': 2}"
      ]
     },
     "execution_count": 102,
     "metadata": {},
     "output_type": "execute_result"
    }
   ],
   "source": [
    "## create a dictionary with {}\n",
    "x = {'a':1, 'b':2}\n",
    "x"
   ]
  },
  {
   "cell_type": "code",
   "execution_count": 103,
   "id": "4f0c5abc",
   "metadata": {},
   "outputs": [
    {
     "data": {
      "text/plain": [
       "dict"
      ]
     },
     "execution_count": 103,
     "metadata": {},
     "output_type": "execute_result"
    }
   ],
   "source": [
    "type(x)"
   ]
  },
  {
   "cell_type": "code",
   "execution_count": 104,
   "id": "4abd9051",
   "metadata": {},
   "outputs": [
    {
     "data": {
      "text/plain": [
       "2"
      ]
     },
     "execution_count": 104,
     "metadata": {},
     "output_type": "execute_result"
    }
   ],
   "source": [
    "x['b']"
   ]
  },
  {
   "cell_type": "code",
   "execution_count": 105,
   "id": "85ae554e",
   "metadata": {},
   "outputs": [
    {
     "data": {
      "text/plain": [
       "1"
      ]
     },
     "execution_count": 105,
     "metadata": {},
     "output_type": "execute_result"
    }
   ],
   "source": [
    "x['a']"
   ]
  },
  {
   "cell_type": "code",
   "execution_count": null,
   "id": "dc6934aa",
   "metadata": {},
   "outputs": [],
   "source": []
  },
  {
   "cell_type": "code",
   "execution_count": 106,
   "id": "55245db8-5273-47d7-90ff-1576e15dba19",
   "metadata": {},
   "outputs": [
    {
     "data": {
      "text/plain": [
       "{'a': 1, 'b': 2}"
      ]
     },
     "execution_count": 106,
     "metadata": {},
     "output_type": "execute_result"
    }
   ],
   "source": [
    "## create a dictionary from a sequence\n",
    "y = dict([['a',1],['b',2]])\n",
    "y"
   ]
  },
  {
   "cell_type": "code",
   "execution_count": null,
   "id": "48336d8f",
   "metadata": {},
   "outputs": [],
   "source": []
  },
  {
   "cell_type": "code",
   "execution_count": null,
   "id": "cf5667f6",
   "metadata": {},
   "outputs": [],
   "source": []
  },
  {
   "cell_type": "code",
   "execution_count": 108,
   "id": "7813648d-cf1a-4fd1-810f-fb88b566f667",
   "metadata": {
    "slideshow": {
     "slide_type": "slide"
    }
   },
   "outputs": [
    {
     "data": {
      "text/plain": [
       "['a', 'b']"
      ]
     },
     "execution_count": 108,
     "metadata": {},
     "output_type": "execute_result"
    }
   ],
   "source": [
    "## get keys and values from a dictionary\n",
    "y = dict([['a',1],['b',2]])\n",
    "z = list(y.keys())\n",
    "z"
   ]
  },
  {
   "cell_type": "code",
   "execution_count": 110,
   "id": "b73441ae",
   "metadata": {},
   "outputs": [
    {
     "data": {
      "text/plain": [
       "list"
      ]
     },
     "execution_count": 110,
     "metadata": {},
     "output_type": "execute_result"
    }
   ],
   "source": [
    "type(z)"
   ]
  },
  {
   "cell_type": "code",
   "execution_count": null,
   "id": "3be89d17",
   "metadata": {},
   "outputs": [],
   "source": []
  },
  {
   "cell_type": "code",
   "execution_count": 111,
   "id": "c2d9ecde-6567-4b7c-bc87-591a3e017979",
   "metadata": {},
   "outputs": [
    {
     "data": {
      "text/plain": [
       "[1, 2]"
      ]
     },
     "execution_count": 111,
     "metadata": {},
     "output_type": "execute_result"
    }
   ],
   "source": [
    "## find value by key\n",
    "list(y.values())"
   ]
  },
  {
   "cell_type": "code",
   "execution_count": 112,
   "id": "f7bd83e8-2342-4ab1-9fe2-5a912b844842",
   "metadata": {
    "slideshow": {
     "slide_type": "slide"
    }
   },
   "outputs": [
    {
     "data": {
      "text/plain": [
       "1"
      ]
     },
     "execution_count": 112,
     "metadata": {},
     "output_type": "execute_result"
    }
   ],
   "source": [
    "## dict.get(key, default)\n",
    "x = {'a':1, 'b':2}\n",
    "# x['a']\n",
    "x.get('a')\n",
    "# x.get('c',-1)"
   ]
  },
  {
   "cell_type": "code",
   "execution_count": 113,
   "id": "d68a2b43",
   "metadata": {},
   "outputs": [
    {
     "ename": "KeyError",
     "evalue": "'c'",
     "output_type": "error",
     "traceback": [
      "\u001b[0;31m---------------------------------------------------------------------------\u001b[0m",
      "\u001b[0;31mKeyError\u001b[0m                                  Traceback (most recent call last)",
      "Cell \u001b[0;32mIn[113], line 1\u001b[0m\n\u001b[0;32m----> 1\u001b[0m \u001b[43mx\u001b[49m\u001b[43m[\u001b[49m\u001b[38;5;124;43m'\u001b[39;49m\u001b[38;5;124;43mc\u001b[39;49m\u001b[38;5;124;43m'\u001b[39;49m\u001b[43m]\u001b[49m\n",
      "\u001b[0;31mKeyError\u001b[0m: 'c'"
     ]
    }
   ],
   "source": [
    "x['c']"
   ]
  },
  {
   "cell_type": "code",
   "execution_count": 114,
   "id": "dd50b7b8",
   "metadata": {},
   "outputs": [
    {
     "data": {
      "text/plain": [
       "-1"
      ]
     },
     "execution_count": 114,
     "metadata": {},
     "output_type": "execute_result"
    }
   ],
   "source": [
    "x.get('c', -1)"
   ]
  },
  {
   "cell_type": "code",
   "execution_count": 115,
   "id": "44c305c4",
   "metadata": {},
   "outputs": [
    {
     "data": {
      "text/plain": [
       "False"
      ]
     },
     "execution_count": 115,
     "metadata": {},
     "output_type": "execute_result"
    }
   ],
   "source": [
    "'c' in x"
   ]
  },
  {
   "cell_type": "code",
   "execution_count": 116,
   "id": "14d59a79",
   "metadata": {},
   "outputs": [
    {
     "data": {
      "text/plain": [
       "True"
      ]
     },
     "execution_count": 116,
     "metadata": {},
     "output_type": "execute_result"
    }
   ],
   "source": [
    "'a' in x"
   ]
  },
  {
   "cell_type": "code",
   "execution_count": null,
   "id": "43f7a8d8",
   "metadata": {},
   "outputs": [],
   "source": []
  },
  {
   "cell_type": "code",
   "execution_count": null,
   "id": "c3cb570b",
   "metadata": {},
   "outputs": [],
   "source": []
  },
  {
   "cell_type": "code",
   "execution_count": null,
   "id": "cf1904bf-f6b5-48f8-9dc5-2fbcbd0ca19e",
   "metadata": {},
   "outputs": [],
   "source": [
    "## key in dict, key not in dict\n",
    "# 'c' in x\n",
    "'a' in x"
   ]
  },
  {
   "cell_type": "code",
   "execution_count": null,
   "id": "7b1e3434-ec74-47fe-b331-0b4ca0c0df32",
   "metadata": {},
   "outputs": [],
   "source": []
  },
  {
   "cell_type": "code",
   "execution_count": 117,
   "id": "4ec7a719",
   "metadata": {},
   "outputs": [
    {
     "data": {
      "text/plain": [
       "{'a': 4, 'b': 2}"
      ]
     },
     "execution_count": 117,
     "metadata": {},
     "output_type": "execute_result"
    }
   ],
   "source": [
    "# update the value associated with a key\n",
    "x = {'a':1, 'b':2}\n",
    "x['a'] = 4\n",
    "x"
   ]
  },
  {
   "cell_type": "code",
   "execution_count": 118,
   "id": "0ba46683-f9d8-4ff2-89c7-ddf9c820bb2f",
   "metadata": {},
   "outputs": [
    {
     "data": {
      "text/plain": [
       "{'a': 1, 'b': 2, 'c': 3, 'd': 4}"
      ]
     },
     "execution_count": 118,
     "metadata": {},
     "output_type": "execute_result"
    }
   ],
   "source": [
    "# update the dictiory\n",
    "x = {'a':1, 'b':2}\n",
    "x.update({'c':3, 'd':4})\n",
    "x"
   ]
  },
  {
   "cell_type": "code",
   "execution_count": 119,
   "id": "b248ae02-340d-4ab0-8f53-617faee646e1",
   "metadata": {},
   "outputs": [
    {
     "data": {
      "text/plain": [
       "{'a': 1, 'b': 3, 'd': 4}"
      ]
     },
     "execution_count": 119,
     "metadata": {},
     "output_type": "execute_result"
    }
   ],
   "source": [
    "x = {'a':1, 'b':2}\n",
    "x.update({'b':3, 'd':4})\n",
    "x"
   ]
  },
  {
   "cell_type": "code",
   "execution_count": 120,
   "id": "f628224e",
   "metadata": {},
   "outputs": [
    {
     "data": {
      "text/plain": [
       "{'a': 1, 'b': 1}"
      ]
     },
     "execution_count": 120,
     "metadata": {},
     "output_type": "execute_result"
    }
   ],
   "source": [
    "x = {'a':1, 'b':1}\n",
    "x"
   ]
  },
  {
   "cell_type": "code",
   "execution_count": null,
   "id": "b12f15c3",
   "metadata": {},
   "outputs": [],
   "source": []
  },
  {
   "cell_type": "markdown",
   "id": "ce20a748-8a71-4102-8191-9251c3eabace",
   "metadata": {},
   "source": [
    "# Control Structures (conditions and loops)"
   ]
  },
  {
   "cell_type": "markdown",
   "id": "e36f0678-cac0-4519-b6d3-2949d374a8d1",
   "metadata": {
    "slideshow": {
     "slide_type": "slide"
    }
   },
   "source": [
    "## Conditions\n",
    "\n",
    "* The program will evaluate the boolean value of the expression to decide which statement to execute\n",
    "* The general code pattern looks like this:\n",
    "```python\n",
    "if <exp>:\n",
    "    <statement>\n",
    "elif <exp>:\n",
    "    <statement>\n",
    "else:\n",
    "    <statement>\n",
    "```\n",
    "* You need to indent each line of the `<statement>` code block by the **same number of whitespace**. It is a required practice to indicate what block of code a statement belongs to. **Default indentation uses 4 spaces. You could use any number that works to you, but a minimum of 1 space has to be used.**\n",
    "\n",
    "Detailed explanation can be found [here](https://docs.google.com/presentation/d/1T8cfUbD1nhGtIAzM6uJuLPAcYzCAfCs5q_4XgVkFQPM/edit#slide=id.p)\n",
    "\n",
    "\n",
    "\n",
    "<center><img src=\"https://www.guru99.com/images/2013/04/if_then_flowchart.png\" style=\"height:400px;\"></center>"
   ]
  },
  {
   "cell_type": "code",
   "execution_count": 122,
   "id": "220f0830",
   "metadata": {},
   "outputs": [
    {
     "name": "stdout",
     "output_type": "stream",
     "text": [
      "x is smaller than 5\n"
     ]
    }
   ],
   "source": [
    "x = 4\n",
    "if x < 5:\n",
    "    print('x is smaller than 5')"
   ]
  },
  {
   "cell_type": "code",
   "execution_count": 123,
   "id": "a4e5849b",
   "metadata": {},
   "outputs": [],
   "source": [
    "x = 4\n",
    "if x > 5:\n",
    "    print('x is greater than 5')"
   ]
  },
  {
   "cell_type": "code",
   "execution_count": 124,
   "id": "9d084fdf",
   "metadata": {},
   "outputs": [
    {
     "name": "stdout",
     "output_type": "stream",
     "text": [
      "x is smaller than 5\n"
     ]
    }
   ],
   "source": [
    "x = 4\n",
    "if x < 5:\n",
    "    print('x is smaller than 5')\n",
    "else:\n",
    "    print('x is greater than or equal to 5')"
   ]
  },
  {
   "cell_type": "code",
   "execution_count": 125,
   "id": "b3382d58",
   "metadata": {},
   "outputs": [
    {
     "name": "stdout",
     "output_type": "stream",
     "text": [
      "x is greater than or equal to 5\n"
     ]
    }
   ],
   "source": [
    "x = 6\n",
    "if x < 5:\n",
    "    print('x is smaller than 5')\n",
    "else:\n",
    "    print('x is greater than or equal to 5')"
   ]
  },
  {
   "cell_type": "code",
   "execution_count": null,
   "id": "46a8bb30",
   "metadata": {},
   "outputs": [],
   "source": []
  },
  {
   "cell_type": "markdown",
   "id": "ce6b9776-e6e3-4183-b351-2925269e3b61",
   "metadata": {},
   "source": [
    "**Example 1**: Print reminder message based on input temperature"
   ]
  },
  {
   "cell_type": "code",
   "execution_count": 128,
   "id": "29d444ba-3183-43a3-a073-56057fc2c2b3",
   "metadata": {},
   "outputs": [
    {
     "name": "stdout",
     "output_type": "stream",
     "text": [
      "Input a temperature value35\n",
      "Oh, it is very hot today\n"
     ]
    }
   ],
   "source": [
    "celcius_temperature = eval(input('Input a temperature value'))\n",
    "\n",
    "if celcius_temperature >= 30:\n",
    "    print('Oh, it is very hot today')\n",
    "else:\n",
    "    print('Hmm, it is not so hot')\n"
   ]
  },
  {
   "cell_type": "code",
   "execution_count": null,
   "id": "30000207-7c9b-4e21-8f91-a1c5183311f9",
   "metadata": {},
   "outputs": [],
   "source": []
  },
  {
   "cell_type": "markdown",
   "id": "0d30880e-edd5-4151-a0c1-8b5fd3cbd0ec",
   "metadata": {
    "slideshow": {
     "slide_type": "slide"
    }
   },
   "source": [
    "**Example 2**: $BMI = w/h^2$(w: weight in kg, h: height in m)\n",
    "<img align=\"right\" src=\"https://i0.wp.com/b-reddy.org/wp-content/uploads/2014/05/bmi-scale.png\" style=\"height:250px;\">"
   ]
  },
  {
   "cell_type": "code",
   "execution_count": null,
   "id": "08a7dac4-6ebc-4bcf-94c1-a78096870323",
   "metadata": {},
   "outputs": [],
   "source": [
    "bmi = eval(input('Please input your BMI value: '))\n",
    "# bmi = 24\n",
    "\n",
    "if bmi<15:\n",
    "    print('Category: Very severely underweight')\n",
    "elif bmi>=15 and bmi<16:\n",
    "    print('Category: Severely underweight')\n",
    "elif bmi>=16 and bmi<18.5:\n",
    "    print('Category: Underweight')\n",
    "elif bmi>=18.5 and bmi<25:\n",
    "    print('Category: Normal')\n",
    "elif bmi>=25 and bmi<30:\n",
    "    print('Category: Overweight')\n",
    "elif bmi>=30 and bmi<35:\n",
    "    print('Category: Obese Class I')\n",
    "elif bmi>=35 and bmi<40:\n",
    "    print('Category: Obese Class II')\n",
    "else:\n",
    "    print('Category: Obese Class III')"
   ]
  },
  {
   "cell_type": "code",
   "execution_count": null,
   "id": "3f0d8686",
   "metadata": {},
   "outputs": [],
   "source": []
  },
  {
   "cell_type": "markdown",
   "id": "665f7732-b505-4925-a684-e68955631b0a",
   "metadata": {
    "slideshow": {
     "slide_type": "slide"
    }
   },
   "source": [
    "**Example 3**:"
   ]
  },
  {
   "cell_type": "code",
   "execution_count": 129,
   "id": "725492ca-0842-4f76-a88c-504f186bb669",
   "metadata": {},
   "outputs": [
    {
     "name": "stdout",
     "output_type": "stream",
     "text": [
      "What's the person's name?Eden\n",
      "Eden is not registered\n"
     ]
    }
   ],
   "source": [
    "name = input('What\\'s the person\\'s name?')\n",
    "registered = ['John','Adam']\n",
    "if name in registered:\n",
    "    print('{} is registered'.format(name))\n",
    "else:\n",
    "    print('{} is not registered'.format(name))"
   ]
  },
  {
   "cell_type": "code",
   "execution_count": 130,
   "id": "bec7e3f9",
   "metadata": {},
   "outputs": [
    {
     "name": "stdout",
     "output_type": "stream",
     "text": [
      "What's the person's name?John\n",
      "John is registered\n"
     ]
    }
   ],
   "source": [
    "name = input('What\\'s the person\\'s name?')\n",
    "registered = ['John','Adam']\n",
    "if name in registered:\n",
    "    print('{} is registered'.format(name))\n",
    "else:\n",
    "    print('{} is not registered'.format(name))"
   ]
  },
  {
   "cell_type": "code",
   "execution_count": null,
   "id": "87d3a2f4",
   "metadata": {},
   "outputs": [],
   "source": []
  },
  {
   "cell_type": "markdown",
   "id": "0e1a29ca-5226-48c2-9983-547e4badab3e",
   "metadata": {
    "slideshow": {
     "slide_type": "slide"
    }
   },
   "source": [
    "### One-line If-else Statement\n",
    "```python\n",
    "var = <value1> if <exp> else <value2>\n",
    "```"
   ]
  },
  {
   "cell_type": "code",
   "execution_count": 131,
   "id": "6350a494-6c27-4fa0-a7fd-0d2cfc191597",
   "metadata": {},
   "outputs": [
    {
     "name": "stdout",
     "output_type": "stream",
     "text": [
      "Please input your exam score: 61\n",
      "Congrats, you passed!\n"
     ]
    }
   ],
   "source": [
    "score = eval(input('Please input your exam score: '))\n",
    "\n",
    "if score >= 60:\n",
    "    print('Congrats, you passed!')\n",
    "else:\n",
    "    print('Sorry, you failed :-(')"
   ]
  },
  {
   "cell_type": "code",
   "execution_count": 132,
   "id": "a2304757-4967-4c2b-aa51-77c46b4b5e5b",
   "metadata": {},
   "outputs": [
    {
     "name": "stdout",
     "output_type": "stream",
     "text": [
      "Please input your exam score: 61\n",
      "Congrats, you passed!\n"
     ]
    }
   ],
   "source": [
    "score = eval(input('Please input your exam score: '))\n",
    "message = 'Congrats, you passed!' if score>=60 else 'Sorry, you failed :-('\n",
    "print(message)"
   ]
  },
  {
   "cell_type": "code",
   "execution_count": null,
   "id": "30d483a6",
   "metadata": {},
   "outputs": [],
   "source": []
  },
  {
   "cell_type": "code",
   "execution_count": null,
   "id": "24684c17",
   "metadata": {},
   "outputs": [],
   "source": []
  },
  {
   "cell_type": "markdown",
   "id": "a96fc09a-c574-4bd8-b8e0-f9520ba9832a",
   "metadata": {},
   "source": [
    "## Loops"
   ]
  },
  {
   "cell_type": "markdown",
   "id": "271b4f3a-a2c6-4490-b651-682958009315",
   "metadata": {},
   "source": [
    "### `while` loops"
   ]
  },
  {
   "cell_type": "markdown",
   "id": "dab15e5b-8541-4e8b-8b21-a7892bad737c",
   "metadata": {},
   "source": [
    "* Example 1: Can we create an endless loop?"
   ]
  },
  {
   "cell_type": "code",
   "execution_count": null,
   "id": "ca095fbf-5bda-4280-ad8b-504229509d97",
   "metadata": {},
   "outputs": [],
   "source": [
    "# while True:\n",
    "#     print('looping')"
   ]
  },
  {
   "cell_type": "markdown",
   "id": "10b59561-a5a8-425d-8bfe-463020130355",
   "metadata": {},
   "source": [
    "* Example 2: Can we create a while-loop that never loops? "
   ]
  },
  {
   "cell_type": "code",
   "execution_count": 133,
   "id": "d71d9543-db69-4a8d-9904-ebfc213f2630",
   "metadata": {},
   "outputs": [],
   "source": [
    "while False:\n",
    "    print('looping')"
   ]
  },
  {
   "cell_type": "code",
   "execution_count": null,
   "id": "49ecea90",
   "metadata": {},
   "outputs": [],
   "source": []
  },
  {
   "cell_type": "markdown",
   "id": "cf7fc1e3-99f0-46f8-8296-eda833125498",
   "metadata": {},
   "source": [
    "* Example 3: Can we use while-loop to print the same message 10 times on the screen?\n",
    "The message could be “hello hello”\n"
   ]
  },
  {
   "cell_type": "code",
   "execution_count": 134,
   "id": "5bb8d2a1-2d6d-4b90-82d4-a85e30ad07bf",
   "metadata": {},
   "outputs": [],
   "source": [
    "message = 'hello hello'"
   ]
  },
  {
   "cell_type": "code",
   "execution_count": 135,
   "id": "675f72f6",
   "metadata": {},
   "outputs": [
    {
     "data": {
      "text/plain": [
       "'hello hellohello hellohello hellohello hellohello hellohello hellohello hellohello hellohello hellohello hello'"
      ]
     },
     "execution_count": 135,
     "metadata": {},
     "output_type": "execute_result"
    }
   ],
   "source": [
    "message * 10"
   ]
  },
  {
   "cell_type": "code",
   "execution_count": null,
   "id": "85210015",
   "metadata": {},
   "outputs": [],
   "source": []
  },
  {
   "cell_type": "code",
   "execution_count": 136,
   "id": "746d8635",
   "metadata": {},
   "outputs": [
    {
     "name": "stdout",
     "output_type": "stream",
     "text": [
      "hello hello\n",
      "hello hello\n",
      "hello hello\n",
      "hello hello\n",
      "hello hello\n",
      "hello hello\n",
      "hello hello\n",
      "hello hello\n",
      "hello hello\n",
      "hello hello\n"
     ]
    }
   ],
   "source": [
    "counter = 1\n",
    "while counter < 11:\n",
    "    print(message)\n",
    "    counter = counter + 1"
   ]
  },
  {
   "cell_type": "code",
   "execution_count": null,
   "id": "a08e1b70",
   "metadata": {},
   "outputs": [],
   "source": []
  },
  {
   "cell_type": "markdown",
   "id": "a09fcbce-e4ef-4406-88a4-7bcdaf137bd7",
   "metadata": {},
   "source": [
    "* Example 4: Can we use while-loop to print all even integers that are less than 20 and greater than 0?"
   ]
  },
  {
   "cell_type": "code",
   "execution_count": 137,
   "id": "c9d32d0f",
   "metadata": {},
   "outputs": [
    {
     "name": "stdout",
     "output_type": "stream",
     "text": [
      "2\n",
      "4\n",
      "6\n",
      "8\n",
      "10\n",
      "12\n",
      "14\n",
      "16\n",
      "18\n"
     ]
    }
   ],
   "source": [
    "number = 1\n",
    "while number < 20:\n",
    "    if number % 2 == 0:\n",
    "        print(number)\n",
    "    number = number + 1"
   ]
  },
  {
   "cell_type": "code",
   "execution_count": null,
   "id": "8f76b43c-819c-4d14-b21b-c0e83573a557",
   "metadata": {},
   "outputs": [],
   "source": []
  },
  {
   "cell_type": "markdown",
   "id": "51071e24-461c-48aa-8bc7-c199c1060ed6",
   "metadata": {},
   "source": [
    "* Example 5: print text in an iterative way\n",
    "\n",
    "  * Requirements:\n",
    "    * Print the given text sentence by sentence.\n",
    "    * Customize the number of sentence to print by user input"
   ]
  },
  {
   "cell_type": "code",
   "execution_count": null,
   "id": "4f3fe30f-17fb-4b08-8964-c2ad18790eca",
   "metadata": {},
   "outputs": [],
   "source": [
    "text = \"The Dursleys had everything they wanted, but they also had a secret, and their greatest fear was that somebody would discover it. They didn't think they could bear it if anyone found out about the Potters. Mrs. Potter was Mrs. Dursley's sister, but they hadn't met for several years; in fact, Mrs. Dursley pretended she didn't have a sister, because her sister and her good-for-nothing husband were as unDursleyish as it was possible to be. The Dursleys shuddered to think what the neighbors would say if the Potters arrived in the street. The Dursleys knew that the Potters had a small son, too, but they had never even seen him. This boy was another good reason for keeping the Potters away; they didn't want Dudley mixing with a child like that.\"\n",
    "\n",
    "## Collect number of sentences from keyboard input\n",
    "\n",
    "## Create a loop to print the text sentence by sentence\n"
   ]
  },
  {
   "cell_type": "markdown",
   "id": "f1c374f4-172b-4f7f-a2a8-ed881920a372",
   "metadata": {},
   "source": [
    "### `for` loops"
   ]
  },
  {
   "cell_type": "markdown",
   "id": "dff811ab-8f40-44dd-b880-8d57b09519b5",
   "metadata": {},
   "source": [
    "* **Example 1**:  Iterate through a range"
   ]
  },
  {
   "cell_type": "code",
   "execution_count": null,
   "id": "d57d6d5b-ec43-47f2-93ba-8045e50e8288",
   "metadata": {},
   "outputs": [],
   "source": []
  },
  {
   "cell_type": "markdown",
   "id": "a30e3912-e898-41f6-9a99-5b319e5df285",
   "metadata": {},
   "source": [
    "* **Example 2**: Iterate through list"
   ]
  },
  {
   "cell_type": "code",
   "execution_count": null,
   "id": "4c600a11-bdfa-4038-a3e5-c9d02c55cb25",
   "metadata": {},
   "outputs": [],
   "source": []
  },
  {
   "cell_type": "markdown",
   "id": "25e05706-216c-44dc-b842-2eb573471a4c",
   "metadata": {},
   "source": [
    "* **Example 3**: Iterate through a dictionary"
   ]
  },
  {
   "cell_type": "code",
   "execution_count": null,
   "id": "012f7c2a-6bdb-43b1-a1a3-6af7e8a3dd0f",
   "metadata": {},
   "outputs": [],
   "source": []
  },
  {
   "cell_type": "code",
   "execution_count": null,
   "id": "92b9714f-7a84-445e-ae04-985c48f647c9",
   "metadata": {},
   "outputs": [],
   "source": []
  },
  {
   "cell_type": "markdown",
   "id": "475fe849-e11e-4660-b1ff-c79c350528d5",
   "metadata": {},
   "source": [
    "### `break` and `continue` statements\n",
    "* `break` is used to exit a loop\n",
    "* `continue` is used to skip the code block after the continue statement for the current iteration"
   ]
  },
  {
   "cell_type": "markdown",
   "id": "70f0865d-b04f-408b-8109-c8478ed2efe8",
   "metadata": {
    "slideshow": {
     "slide_type": "slide"
    }
   },
   "source": [
    "**Example 1**: print the even numbers in a range\n",
    "* Requirements:\n",
    "    * Define the range from keyboard input\n",
    "    * Print the even numbers within the range one at a time"
   ]
  },
  {
   "cell_type": "code",
   "execution_count": null,
   "id": "9a2170b7-f711-443e-8eff-84cffd55813d",
   "metadata": {},
   "outputs": [],
   "source": [
    "numrange = eval(input('Input the upper bound of the range: '))\n",
    "for num in range(numrange):\n"
   ]
  },
  {
   "cell_type": "code",
   "execution_count": null,
   "id": "47335174-cd90-4c15-9211-faa42407d363",
   "metadata": {
    "slideshow": {
     "slide_type": "slide"
    }
   },
   "outputs": [],
   "source": [
    "## How do we achieve the same goal with the break statement?\n",
    "numrange = eval(input('Input the upper bound of the range: '))\n",
    "num = 0\n",
    "while numrange>0:\n"
   ]
  },
  {
   "cell_type": "code",
   "execution_count": null,
   "id": "f9afc59f-470f-45b9-8657-9c9b55ad87cc",
   "metadata": {},
   "outputs": [],
   "source": [
    "## The above two code examples all seem to be an overkill ..."
   ]
  },
  {
   "cell_type": "markdown",
   "id": "40be45e6-eca8-4205-b310-4ecd119a99f3",
   "metadata": {},
   "source": [
    "**Example 2**: Reverse a list\n",
    "* Requirements:\n",
    "    * For any input list, reverse the sequence in-place\n",
    "* Example:\n",
    "    * Input: [1,2,3,4]\n",
    "    * Output: [4,3,2,1]"
   ]
  },
  {
   "cell_type": "code",
   "execution_count": null,
   "id": "835fa010-89c6-40d4-96d6-2752c3111f2a",
   "metadata": {},
   "outputs": [],
   "source": []
  },
  {
   "cell_type": "code",
   "execution_count": null,
   "id": "bb8463ae-f2ac-4f6e-a074-1cf1d0a7a5c8",
   "metadata": {},
   "outputs": [],
   "source": []
  },
  {
   "cell_type": "code",
   "execution_count": null,
   "id": "e93fae88-5087-453f-9611-cc509d0044cf",
   "metadata": {},
   "outputs": [],
   "source": []
  },
  {
   "cell_type": "markdown",
   "id": "56eda18a-fd02-42fd-8e05-ca2711324678",
   "metadata": {},
   "source": [
    "### List Comprehensions\n",
    "List comprehensions are a convenient and widely used Python language feature. They allow you to concisely form a new list by filtering the elements of a collection, transforming the elements passing the filter into one concise expression. They take the basic form:\n",
    "\n",
    "`[expr for value in collection if condition]`\n",
    "\n",
    "This is equivalent to the following for loop:\n",
    "\n",
    "```python\n",
    "result = [] for value in collection:\n",
    "\n",
    "if condition:\n",
    "\n",
    "result.append(expr)\n",
    "```"
   ]
  },
  {
   "cell_type": "code",
   "execution_count": null,
   "id": "a715f572-83cb-48b9-a2a2-9c3926a89c33",
   "metadata": {},
   "outputs": [],
   "source": []
  },
  {
   "cell_type": "code",
   "execution_count": null,
   "id": "5bdd2147-059b-4a37-9fc4-db859193942a",
   "metadata": {},
   "outputs": [],
   "source": []
  },
  {
   "cell_type": "code",
   "execution_count": null,
   "id": "9faf79ec-27cc-4226-97cd-d81e40472475",
   "metadata": {},
   "outputs": [],
   "source": []
  },
  {
   "cell_type": "markdown",
   "id": "8c978ae1-3323-4af3-8128-ba1f96c60f13",
   "metadata": {},
   "source": [
    "# Functions"
   ]
  },
  {
   "cell_type": "markdown",
   "id": "9a693a90-698c-41d8-8b9a-8c6adb33e371",
   "metadata": {
    "slideshow": {
     "slide_type": "slide"
    }
   },
   "source": [
    "## Create a function"
   ]
  },
  {
   "cell_type": "code",
   "execution_count": null,
   "id": "7c893445-0044-4e09-8260-8b31cce1ae5d",
   "metadata": {},
   "outputs": [],
   "source": [
    "## simple hello world\n",
    "def hello():\n",
    "       \n",
    "    \n",
    "## call the function\n",
    "hello()"
   ]
  },
  {
   "cell_type": "code",
   "execution_count": null,
   "id": "135ad46d-1b44-429c-9821-83b7ef9ac585",
   "metadata": {},
   "outputs": [],
   "source": [
    "## two sum\n",
    "def twoSum(num1,num2):\n",
    "\n",
    "## call the function\n",
    "twoSum(1,2)"
   ]
  },
  {
   "cell_type": "code",
   "execution_count": null,
   "id": "723530e0-9769-4d74-841a-081e3649d40e",
   "metadata": {},
   "outputs": [],
   "source": [
    "x = twoSum(1,2)\n",
    "print(x)"
   ]
  },
  {
   "cell_type": "markdown",
   "id": "70fbfc33-63c7-4dfc-83ca-7379376d6b74",
   "metadata": {},
   "source": [
    "### Practice: Calculate the factorial of an integer\n",
    "In mathematics, the factorial of a positive integer n, denoted by n!, is the product of all positive integers less than or equal to n:\n",
    "\n",
    "$n!=n\\times(n-1)\\times(n-2)\\times(n-3)\\times...\\times3\\times2\\times1$\n",
    "\n",
    "For example,\n",
    "$5!=5\\times4\\times3\\times2\\times1=120$"
   ]
  },
  {
   "cell_type": "code",
   "execution_count": null,
   "id": "a0cf3a22-2893-4164-8e76-53763b73c9ca",
   "metadata": {},
   "outputs": [],
   "source": [
    "## The lazy way\n",
    "import math\n",
    "math.factorial(5)"
   ]
  },
  {
   "cell_type": "code",
   "execution_count": null,
   "id": "ae99d604-e0e7-42ec-bf05-f23379206d45",
   "metadata": {},
   "outputs": [],
   "source": [
    "def fact(n):\n",
    "\n",
    "\n",
    "x = fact(5)\n"
   ]
  },
  {
   "cell_type": "markdown",
   "id": "a9ba27a6-d1b2-41f2-aaca-f3fbfa004b10",
   "metadata": {},
   "source": [
    "### Practice: Sum up all integers within a range"
   ]
  },
  {
   "cell_type": "code",
   "execution_count": null,
   "id": "fd3b5230-f125-4ef8-805e-7ff58ca3a6d2",
   "metadata": {},
   "outputs": [],
   "source": [
    "def sumAll(n):\n",
    "\n",
    "\n",
    "sumAll(5) # 0 + 1 + 2 + 3 + 4"
   ]
  },
  {
   "cell_type": "markdown",
   "id": "0ac2c3ec-24dd-4280-9a34-953679409fc4",
   "metadata": {
    "slideshow": {
     "slide_type": "slide"
    }
   },
   "source": [
    "## Lambda Expression\n",
    "* Lambda expressions (sometimes called lambda forms) are often used to create anonymous functions. The expression `lambda <parameters>: <expression>` yields a function object. \n",
    "* You can also name it like `func = lambda <parameters>: <expression>`. The named object behaves like a function object defined with:\n",
    "```python\n",
    "def func(parameters):\n",
    "    return expression\n",
    "```\n",
    "* It can take any number of arguments, but can only have one expression\n",
    "* Note that the function can't contain statement or annotations"
   ]
  },
  {
   "cell_type": "code",
   "execution_count": null,
   "id": "47272860-14bf-420d-bb53-4c25c536daca",
   "metadata": {},
   "outputs": [],
   "source": [
    "f = lambda a: a**(1/2)\n",
    "f(5)"
   ]
  },
  {
   "cell_type": "code",
   "execution_count": null,
   "id": "1849dedd-8beb-4833-8329-0d024799d06c",
   "metadata": {},
   "outputs": [],
   "source": [
    "f = lambda a,b: (a**2+b**2)**(1/2) ## validate the pythagorean theorem\n",
    "f(3,4)"
   ]
  },
  {
   "cell_type": "markdown",
   "id": "730eb94c-fd99-41cc-a091-97f3dcfc8dcd",
   "metadata": {
    "slideshow": {
     "slide_type": "slide"
    }
   },
   "source": [
    "## Built-In Functions\n",
    "[[Official Documentation](https://docs.python.org/3/library/functions.html)]\n",
    "* We actually have used many built-in functions: `enumerate()`, `min()`, `max()`, `int()`, `float()`, `complex()`, `eval()`, `input()`, `list()`, `type()`, etc.\n",
    "* Here are more ..."
   ]
  },
  {
   "cell_type": "markdown",
   "id": "df2e12a9-1561-4eda-9d52-d65876ced2dc",
   "metadata": {
    "slideshow": {
     "slide_type": "slide"
    }
   },
   "source": [
    "**any(), all()**\n",
    "* `any()` takes an `iterable`<sup>[*](#footenote1)</sup>, and return `True` if any of the items is `True`\n",
    "* `all()` takes an `iterable`, and return `True` only if all of the items are `True`\n",
    "\n",
    "<a name=\"footnote1\">*</a> `iterable` is an object that you can loop over. Sequences are a very common type of `iterable`."
   ]
  },
  {
   "cell_type": "code",
   "execution_count": null,
   "id": "8009f120-7e29-4630-8dff-955d556c84de",
   "metadata": {
    "slideshow": {
     "slide_type": "-"
    }
   },
   "outputs": [],
   "source": [
    "any([False, False, False, False])"
   ]
  },
  {
   "cell_type": "code",
   "execution_count": null,
   "id": "2aa53e54-6cba-461b-a9b6-3e66a3710924",
   "metadata": {},
   "outputs": [],
   "source": [
    "all([True, True, True, False])"
   ]
  },
  {
   "cell_type": "markdown",
   "id": "ecd75819-195f-4318-a4c0-a25ea2810961",
   "metadata": {
    "slideshow": {
     "slide_type": "slide"
    }
   },
   "source": [
    "**map()**\n",
    "* `map(func, iter)` applies `func` to every item of the `iterable`, returns an `iterator`<sup>[*](#footenote2)</sup> of the results\n",
    "\n",
    "<a name=\"footnote2\">*</a> `iterator` is an object representing a stream of data. You can use the built-in `next()` function to retrieve the items one by one, and you can also loop over it. A clear distinction between `iterable` and `iterator` is that you can't see all the items of an iterator if you print it. You need to use `list()` function to see the complete set.\n",
    "\n",
    "Offline reading: **Iteration, Iterables, Iterators, and Looping** [Doc #3](https://towardsdatascience.com/python-basics-iteration-and-looping-6ca63b30835c)"
   ]
  },
  {
   "cell_type": "code",
   "execution_count": null,
   "id": "5984a6b8-9045-40a5-a6bc-a84b20863b9a",
   "metadata": {},
   "outputs": [],
   "source": [
    "outputs = map(lambda x: x**2, [1,2,3])\n",
    "print(outputs)\n",
    "i = 0\n",
    "while i<3:\n",
    "    print(next(outputs))\n",
    "    i+=1"
   ]
  },
  {
   "cell_type": "code",
   "execution_count": null,
   "id": "ee6369ab-3ee5-4d66-ba64-9ee21935c475",
   "metadata": {},
   "outputs": [],
   "source": [
    "list(outputs)"
   ]
  },
  {
   "cell_type": "code",
   "execution_count": null,
   "id": "3d65cdc5-2b09-4a78-af83-de71b3294fee",
   "metadata": {
    "scrolled": true
   },
   "outputs": [],
   "source": [
    "outputs = map(lambda x: x**2, [1,2,3])\n",
    "list(outputs)"
   ]
  },
  {
   "cell_type": "markdown",
   "id": "544c948e-2e0f-4e91-adcf-233b87a77c84",
   "metadata": {
    "slideshow": {
     "slide_type": "slide"
    }
   },
   "source": [
    "**zip()**\n",
    "* `zip(*iterables)` takes a list of iterables and returns an iterator that aggregates the elements"
   ]
  },
  {
   "cell_type": "code",
   "execution_count": null,
   "id": "f5bed883-4da3-457d-8680-2854cb1e2a11",
   "metadata": {},
   "outputs": [],
   "source": [
    "## Print the full names of the past 4 presidents of United States\n",
    "first_name = ['Donald','Barack','George','Bill']\n",
    "last_name = ['Trump','Obama','Bush','Clinton']"
   ]
  },
  {
   "cell_type": "code",
   "execution_count": null,
   "id": "e93d2bc0-1bc8-4064-831f-b8be431a259e",
   "metadata": {},
   "outputs": [],
   "source": [
    "['{} {}'.format(first,last) for first,last in zip(first_name,last_name)]"
   ]
  },
  {
   "cell_type": "markdown",
   "id": "d54ff4aa-c8c3-457f-abff-7602edc5328d",
   "metadata": {
    "slideshow": {
     "slide_type": "slide"
    }
   },
   "source": [
    "**abs(), round()**\n",
    "\n",
    "* `abs(num)` returns the absolute value of the input `num`\n",
    "* `round(num,precision)` rounds the input `num` to the defined `precision` digits"
   ]
  },
  {
   "cell_type": "code",
   "execution_count": null,
   "id": "1ef6a8a9-b10e-4bca-b556-3831feecbbf0",
   "metadata": {},
   "outputs": [],
   "source": [
    "## abs()\n",
    "abs(-12)"
   ]
  },
  {
   "cell_type": "code",
   "execution_count": null,
   "id": "190e68da-8013-456d-9564-1ce1e8273282",
   "metadata": {},
   "outputs": [],
   "source": [
    "## round()\n",
    "round(3.567,2)"
   ]
  },
  {
   "cell_type": "code",
   "execution_count": null,
   "id": "369a6d04-6bd9-4f29-8675-e12fcf622260",
   "metadata": {},
   "outputs": [],
   "source": []
  },
  {
   "cell_type": "code",
   "execution_count": null,
   "id": "cfdd01d5-f93d-4749-8e7a-47228e62012b",
   "metadata": {},
   "outputs": [],
   "source": []
  },
  {
   "cell_type": "code",
   "execution_count": null,
   "id": "f0fa0243-4e92-4dd9-8f1f-e5c3ac38fd80",
   "metadata": {},
   "outputs": [],
   "source": []
  }
 ],
 "metadata": {
  "kernelspec": {
   "display_name": "Python 3 (ipykernel)",
   "language": "python",
   "name": "python3"
  },
  "language_info": {
   "codemirror_mode": {
    "name": "ipython",
    "version": 3
   },
   "file_extension": ".py",
   "mimetype": "text/x-python",
   "name": "python",
   "nbconvert_exporter": "python",
   "pygments_lexer": "ipython3",
   "version": "3.10.8"
  }
 },
 "nbformat": 4,
 "nbformat_minor": 5
}
