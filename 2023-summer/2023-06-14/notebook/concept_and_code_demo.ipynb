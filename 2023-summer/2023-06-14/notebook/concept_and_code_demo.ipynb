{
 "cells": [
  {
   "cell_type": "code",
   "execution_count": null,
   "id": "b2b97a8c-cbf8-47c8-bd54-5e60c8b1594c",
   "metadata": {},
   "outputs": [],
   "source": []
  },
  {
   "cell_type": "markdown",
   "id": "d5e728c2-7049-4891-8ef7-fad17e45f58f",
   "metadata": {},
   "source": [
    "# Today's Coding Topics\n",
    "[![Open In Colab](https://colab.research.google.com/assets/colab-badge.svg)](https://colab.research.google.com/github/xiangshiyin/data-programming-with-python/blob/main/2023-summer/2023-06-14/notebook/concept_and_code_demo.ipynb)\n",
    "\n",
    "* Recap of previous lecture\n",
    "* Numpy Arrays\n",
    "  * Numpy Array Indexing\n",
    "  * Numpy Array Operations\n",
    "  * Linear Algebra with Numpy\n",
    "* Application\n",
    "  * Linear Regression With Numpy Implementation\n",
    "  * Nearest Neighbor Search with Numpy Implementation\n"
   ]
  },
  {
   "cell_type": "markdown",
   "id": "e2ceceb2-bd6a-4e6c-a388-bb0633777856",
   "metadata": {},
   "source": [
    "# Recap of previous lecture"
   ]
  },
  {
   "cell_type": "markdown",
   "id": "96de63ce-7c20-4d1e-a39d-461dd482129d",
   "metadata": {},
   "source": [
    "## String operations"
   ]
  },
  {
   "cell_type": "code",
   "execution_count": null,
   "id": "34cd7d50-50da-4fc1-910b-ab8eebc884ac",
   "metadata": {},
   "outputs": [],
   "source": []
  },
  {
   "cell_type": "code",
   "execution_count": 1,
   "id": "fdd46388-7b85-4523-8322-9f10317b5536",
   "metadata": {},
   "outputs": [
    {
     "data": {
      "text/plain": [
       "['a', 'b', 'c']"
      ]
     },
     "execution_count": 1,
     "metadata": {},
     "output_type": "execute_result"
    }
   ],
   "source": [
    "# split string by certain delimiters\n",
    "x = 'a.b.c'\n",
    "x.split('.')"
   ]
  },
  {
   "cell_type": "code",
   "execution_count": 3,
   "id": "892d92e3-d8bd-4f3f-9f43-0127bacd7e1c",
   "metadata": {},
   "outputs": [
    {
     "data": {
      "text/plain": [
       "['a.', '.c']"
      ]
     },
     "execution_count": 3,
     "metadata": {},
     "output_type": "execute_result"
    }
   ],
   "source": [
    "x = 'a.b.c'\n",
    "x.split('b')"
   ]
  },
  {
   "cell_type": "code",
   "execution_count": 4,
   "id": "b887cad0-3b46-42de-8143-5752ad3db12a",
   "metadata": {},
   "outputs": [
    {
     "data": {
      "text/plain": [
       "'adbdc'"
      ]
     },
     "execution_count": 4,
     "metadata": {},
     "output_type": "execute_result"
    }
   ],
   "source": [
    "x = 'adbdc'\n",
    "# x.split('d')\n",
    "x.strip('d')"
   ]
  },
  {
   "cell_type": "code",
   "execution_count": null,
   "id": "08a94fad",
   "metadata": {},
   "outputs": [],
   "source": []
  },
  {
   "cell_type": "code",
   "execution_count": 5,
   "id": "2343ede3-ee00-4573-a356-f70551e3ffde",
   "metadata": {},
   "outputs": [
    {
     "data": {
      "text/plain": [
       "'d  abc'"
      ]
     },
     "execution_count": 5,
     "metadata": {},
     "output_type": "execute_result"
    }
   ],
   "source": [
    "# remove leading or trailing spaces\n",
    "x = 'd  abc   '\n",
    "x.strip()"
   ]
  },
  {
   "cell_type": "code",
   "execution_count": 7,
   "id": "a183c4aa",
   "metadata": {},
   "outputs": [
    {
     "data": {
      "text/plain": [
       "'abc'"
      ]
     },
     "execution_count": 7,
     "metadata": {},
     "output_type": "execute_result"
    }
   ],
   "source": [
    "x = 'dabcd'\n",
    "x1 = x.strip('d')\n",
    "x1"
   ]
  },
  {
   "cell_type": "code",
   "execution_count": null,
   "id": "0d7af924",
   "metadata": {},
   "outputs": [],
   "source": []
  },
  {
   "cell_type": "code",
   "execution_count": 8,
   "id": "d8ee1add-1243-48b2-89eb-1e7220ef65d2",
   "metadata": {},
   "outputs": [
    {
     "data": {
      "text/plain": [
       "'abc   '"
      ]
     },
     "execution_count": 8,
     "metadata": {},
     "output_type": "execute_result"
    }
   ],
   "source": [
    "x = '  abc   '\n",
    "x.lstrip()"
   ]
  },
  {
   "cell_type": "code",
   "execution_count": 9,
   "id": "8afbaa73-fe77-4445-a0de-78be63b6c03c",
   "metadata": {},
   "outputs": [
    {
     "data": {
      "text/plain": [
       "'  abc'"
      ]
     },
     "execution_count": 9,
     "metadata": {},
     "output_type": "execute_result"
    }
   ],
   "source": [
    "x = '  abc   '\n",
    "x.rstrip()"
   ]
  },
  {
   "cell_type": "code",
   "execution_count": null,
   "id": "0df5c57f",
   "metadata": {},
   "outputs": [],
   "source": []
  },
  {
   "cell_type": "code",
   "execution_count": 10,
   "id": "79a0c9ce-1cd6-434c-b5bd-79fa40c718f7",
   "metadata": {},
   "outputs": [
    {
     "data": {
      "text/plain": [
       "'abc123'"
      ]
     },
     "execution_count": 10,
     "metadata": {},
     "output_type": "execute_result"
    }
   ],
   "source": [
    "# replace\n",
    "\n",
    "x = 'abcd'\n",
    "x.replace('d', '123')"
   ]
  },
  {
   "cell_type": "code",
   "execution_count": null,
   "id": "c410879f-d82c-40e6-8b97-4682387765a5",
   "metadata": {},
   "outputs": [],
   "source": []
  },
  {
   "cell_type": "markdown",
   "id": "b5192f7b-2ec4-48d3-92f1-684acfb22f51",
   "metadata": {},
   "source": [
    "## File operations"
   ]
  },
  {
   "cell_type": "code",
   "execution_count": null,
   "id": "9603d906-22ad-42da-aec9-ffa47273ea16",
   "metadata": {},
   "outputs": [],
   "source": []
  },
  {
   "cell_type": "code",
   "execution_count": 11,
   "id": "dbafe36c-6bc6-4ab6-b71c-b5b64d0f9a16",
   "metadata": {},
   "outputs": [],
   "source": [
    "## check if a path exists\n",
    "import os"
   ]
  },
  {
   "cell_type": "code",
   "execution_count": 12,
   "id": "7a484a13-df7d-46a1-b5e2-f13b17773bac",
   "metadata": {},
   "outputs": [
    {
     "data": {
      "text/plain": [
       "False"
      ]
     },
     "execution_count": 12,
     "metadata": {},
     "output_type": "execute_result"
    }
   ],
   "source": [
    "## Check if a director exists, you can replace the directory with yours\n",
    "os.path.exists('/Users/xyin/abc')"
   ]
  },
  {
   "cell_type": "code",
   "execution_count": 13,
   "id": "bd19d91a-fb4d-4794-b270-1c11020819d0",
   "metadata": {},
   "outputs": [
    {
     "data": {
      "text/plain": [
       "True"
      ]
     },
     "execution_count": 13,
     "metadata": {},
     "output_type": "execute_result"
    }
   ],
   "source": [
    "os.path.exists('/Users/xiangshiyin/Documents')"
   ]
  },
  {
   "cell_type": "code",
   "execution_count": 14,
   "id": "24be6cea-1486-41e5-9a4d-6134c8813ad5",
   "metadata": {},
   "outputs": [
    {
     "data": {
      "text/plain": [
       "True"
      ]
     },
     "execution_count": 14,
     "metadata": {},
     "output_type": "execute_result"
    }
   ],
   "source": [
    "## Check if a file exists\n",
    "os.path.exists('/Users/xiangshiyin/Documents/Teaching/data-programming-with-python/2023-summer/2023-06-12/README.md')"
   ]
  },
  {
   "cell_type": "code",
   "execution_count": 15,
   "id": "556f6c62-744d-4909-9575-7d29891a680f",
   "metadata": {},
   "outputs": [
    {
     "data": {
      "text/plain": [
       "False"
      ]
     },
     "execution_count": 15,
     "metadata": {},
     "output_type": "execute_result"
    }
   ],
   "source": [
    "## check if it's a file or a directory\n",
    "os.path.isfile('/Users/xyin/Documents')"
   ]
  },
  {
   "cell_type": "code",
   "execution_count": 16,
   "id": "73a4b24c-5b71-4cce-b7b4-6aecac351fb2",
   "metadata": {},
   "outputs": [
    {
     "data": {
      "text/plain": [
       "False"
      ]
     },
     "execution_count": 16,
     "metadata": {},
     "output_type": "execute_result"
    }
   ],
   "source": [
    "os.path.isdir('/Users/xiangshiyin/Documents/Teaching/data-programming-with-python/2023-summer/2023-06-12/README.md')"
   ]
  },
  {
   "cell_type": "code",
   "execution_count": 17,
   "id": "16859509-ac3c-4054-8316-963b5428e3f0",
   "metadata": {},
   "outputs": [
    {
     "data": {
      "text/plain": [
       "'/Users/xiangshiyin/Documents/Teaching/data-programming-with-python/2023-summer/2023-06-14/notebook/concept_and_code_demo.ipynb'"
      ]
     },
     "execution_count": 17,
     "metadata": {},
     "output_type": "execute_result"
    }
   ],
   "source": [
    "## find the true path, only works in MacOS/Linux. You need to replace the file directory with your own. For windows user, you need to try the relative directory pattern in windows\n",
    "os.path.realpath('concept_and_code_demo.ipynb')"
   ]
  },
  {
   "cell_type": "code",
   "execution_count": 18,
   "id": "e36b9c89-2445-4130-80d5-98f8ec75dd05",
   "metadata": {},
   "outputs": [
    {
     "data": {
      "text/plain": [
       "'/Users/xiangshiyin/Documents/Teaching/data-programming-with-python/2023-summer/2023-06-14/notebook/concept_and_code_demo.ipynb'"
      ]
     },
     "execution_count": 18,
     "metadata": {},
     "output_type": "execute_result"
    }
   ],
   "source": [
    "os.path.abspath('concept_and_code_demo.ipynb')"
   ]
  },
  {
   "cell_type": "code",
   "execution_count": 20,
   "id": "19e9dc9c-9ab2-4e40-af4b-3bd671849327",
   "metadata": {},
   "outputs": [
    {
     "data": {
      "text/plain": [
       "'/Users/xiangshiyin/Documents/Teaching/data-programming-with-python/2023-summer/2023-06-14/notebook'"
      ]
     },
     "execution_count": 20,
     "metadata": {},
     "output_type": "execute_result"
    }
   ],
   "source": [
    "## find the parent directory of a file\n",
    "os.path.dirname('/Users/xiangshiyin/Documents/Teaching/data-programming-with-python/2023-summer/2023-06-14/notebook/concept_and_code_demo.ipynb')"
   ]
  },
  {
   "cell_type": "code",
   "execution_count": 22,
   "id": "21653825-b62b-47a4-8733-f538ea04ae4b",
   "metadata": {},
   "outputs": [
    {
     "data": {
      "text/plain": [
       "'/xyin/Documents'"
      ]
     },
     "execution_count": 22,
     "metadata": {},
     "output_type": "execute_result"
    }
   ],
   "source": [
    "## Join directories and files (need to figure out why???)\n",
    "os.path.join('/Users','/xyin','Documents')"
   ]
  },
  {
   "cell_type": "code",
   "execution_count": null,
   "id": "a8e8b9f0-3ee9-449d-8a54-99cd6b44ef2c",
   "metadata": {},
   "outputs": [],
   "source": [
    "## How do we create an empty file? Any guess?\n"
   ]
  },
  {
   "cell_type": "code",
   "execution_count": 23,
   "id": "54756065-146b-418e-a875-d2f1b71a53e4",
   "metadata": {},
   "outputs": [],
   "source": [
    "## Create a directory\n",
    "os.mkdir('testdir')"
   ]
  },
  {
   "cell_type": "code",
   "execution_count": 24,
   "id": "8666a68e-8ca0-4b0a-90f3-958f1d76c641",
   "metadata": {},
   "outputs": [],
   "source": [
    "## Rename a file\n",
    "os.rename('testfile.txt','testfile2.txt')"
   ]
  },
  {
   "cell_type": "code",
   "execution_count": 25,
   "id": "fafb4024-4dcb-4123-9157-92a95c610ae9",
   "metadata": {},
   "outputs": [],
   "source": [
    "os.rename('testfile2.txt','testfile.txt')"
   ]
  },
  {
   "cell_type": "code",
   "execution_count": null,
   "id": "36aa0caf-8736-42f4-a76d-1574c990125b",
   "metadata": {},
   "outputs": [],
   "source": []
  },
  {
   "cell_type": "code",
   "execution_count": null,
   "id": "ee2461f8-331e-4cd6-b510-80cc6698a708",
   "metadata": {},
   "outputs": [],
   "source": []
  },
  {
   "cell_type": "markdown",
   "id": "41413a10-721d-4518-bf5d-77d13605656e",
   "metadata": {
    "slideshow": {
     "slide_type": "slide"
    }
   },
   "source": [
    "## Python Libraries - A Brief Introduction"
   ]
  },
  {
   "cell_type": "markdown",
   "id": "ad6053b8-cc47-43cb-b12d-a37b88ad5920",
   "metadata": {},
   "source": [
    "### What is a library?\n",
    "* A library is a collection of files/scripts that contains pre-written functions, constants, etc. so any user could use them in their own code\n",
    "* It makes our code easy to write and understand"
   ]
  },
  {
   "cell_type": "markdown",
   "id": "0381b741-c999-44df-bc63-923292ab6768",
   "metadata": {
    "slideshow": {
     "slide_type": "slide"
    }
   },
   "source": [
    "### Import the library\n",
    "* Use `import <libname>` to load the complete library into memory\n",
    "* Use `<libname>.<modulename>` to call the modules within the loaded library (Python uses `.` to reference modules and attributes of given library or object, we'll cover more on this in the next lecture)\n",
    "* You can also define an alias to the library like `import <libname> as abc`, and call the library module with `abc.<modulename>`"
   ]
  },
  {
   "cell_type": "code",
   "execution_count": 26,
   "id": "b14aac9e-ec23-408d-9d51-d24ab806c993",
   "metadata": {},
   "outputs": [],
   "source": [
    "import string\n"
   ]
  },
  {
   "cell_type": "code",
   "execution_count": 29,
   "id": "6c94d5ad",
   "metadata": {},
   "outputs": [
    {
     "data": {
      "text/plain": [
       "'ABCDEFGHIJKLMNOPQRSTUVWXYZ'"
      ]
     },
     "execution_count": 29,
     "metadata": {},
     "output_type": "execute_result"
    }
   ],
   "source": [
    "string.ascii_uppercase"
   ]
  },
  {
   "cell_type": "code",
   "execution_count": 28,
   "id": "9930e824",
   "metadata": {},
   "outputs": [
    {
     "data": {
      "text/plain": [
       "'abcdefghijklmnopqrstuvwxyz'"
      ]
     },
     "execution_count": 28,
     "metadata": {},
     "output_type": "execute_result"
    }
   ],
   "source": [
    "string.ascii_lowercase"
   ]
  },
  {
   "cell_type": "code",
   "execution_count": null,
   "id": "730ac565",
   "metadata": {},
   "outputs": [],
   "source": []
  },
  {
   "cell_type": "markdown",
   "id": "39bd0ef7-6194-42c3-a932-e2c05a0c9a81",
   "metadata": {
    "slideshow": {
     "slide_type": "slide"
    }
   },
   "source": [
    "* You can also import specific modules of a library by doing `from <libname> import <modulename>`\n",
    "* In this case, you can directly use `<modulename>` to call the modules and execute certain operations"
   ]
  },
  {
   "cell_type": "code",
   "execution_count": 32,
   "id": "56d391b5-b342-4edd-8be9-6a30030dd79c",
   "metadata": {},
   "outputs": [
    {
     "data": {
      "text/plain": [
       "('abcdefghijklmnopqrstuvwxyz', 'ABCDEFGHIJKLMNOPQRSTUVWXYZ')"
      ]
     },
     "execution_count": 32,
     "metadata": {},
     "output_type": "execute_result"
    }
   ],
   "source": [
    "from string import ascii_lowercase,ascii_uppercase\n",
    "ascii_lowercase, ascii_uppercase"
   ]
  },
  {
   "cell_type": "code",
   "execution_count": 33,
   "id": "bfc55779-2e54-40b5-b21e-387821c399b5",
   "metadata": {},
   "outputs": [
    {
     "data": {
      "text/plain": [
       "('abcdefghijklmnopqrstuvwxyz', 'ABCDEFGHIJKLMNOPQRSTUVWXYZ', '0123456789')"
      ]
     },
     "execution_count": 33,
     "metadata": {},
     "output_type": "execute_result"
    }
   ],
   "source": [
    "from string import *\n",
    "ascii_lowercase, ascii_uppercase, digits"
   ]
  },
  {
   "cell_type": "code",
   "execution_count": null,
   "id": "955b88aa",
   "metadata": {},
   "outputs": [],
   "source": []
  },
  {
   "cell_type": "markdown",
   "id": "1a6f0f28-e83c-4692-bc79-9075517456c1",
   "metadata": {
    "slideshow": {
     "slide_type": "slide"
    }
   },
   "source": [
    "### Get library documentation\n",
    "* You can always use `help()` function to pull the corresponding documentation of certain modules or submodules\n",
    "* Jupyter notebook and other commonly IDEs (integrated development environment) also has functionalities or plugins to help you access the documentation of certain libraries or modules"
   ]
  },
  {
   "cell_type": "code",
   "execution_count": 35,
   "id": "b8ff5560-8d9e-4e13-b680-88176ea792b6",
   "metadata": {
    "scrolled": false
   },
   "outputs": [],
   "source": [
    "# help(string)"
   ]
  },
  {
   "cell_type": "code",
   "execution_count": null,
   "id": "1be8d670",
   "metadata": {},
   "outputs": [],
   "source": []
  },
  {
   "cell_type": "markdown",
   "id": "4d7a4bff-a587-43c8-97e1-f8092dca2f05",
   "metadata": {
    "slideshow": {
     "slide_type": "slide"
    }
   },
   "source": [
    "### Sample library\n",
    "* `math`: a collection of mathematical functions\n",
    "    * Official documentation: https://docs.python.org/3.8/library/math.html"
   ]
  },
  {
   "cell_type": "code",
   "execution_count": 36,
   "id": "d62ea95b-1eb5-4c95-80de-5d78b434abb1",
   "metadata": {},
   "outputs": [],
   "source": [
    "import math"
   ]
  },
  {
   "cell_type": "code",
   "execution_count": 37,
   "id": "e5b8c8d5",
   "metadata": {},
   "outputs": [
    {
     "data": {
      "text/plain": [
       "5"
      ]
     },
     "execution_count": 37,
     "metadata": {},
     "output_type": "execute_result"
    }
   ],
   "source": [
    "math.ceil(4.6)"
   ]
  },
  {
   "cell_type": "code",
   "execution_count": null,
   "id": "bfa32b39",
   "metadata": {},
   "outputs": [],
   "source": []
  },
  {
   "cell_type": "code",
   "execution_count": 38,
   "id": "2091be68-d4af-4bc5-a5a0-7616a8155b14",
   "metadata": {},
   "outputs": [
    {
     "data": {
      "text/plain": [
       "4"
      ]
     },
     "execution_count": 38,
     "metadata": {},
     "output_type": "execute_result"
    }
   ],
   "source": [
    "math.floor(4.6)"
   ]
  },
  {
   "cell_type": "code",
   "execution_count": null,
   "id": "9f8088a0",
   "metadata": {},
   "outputs": [],
   "source": []
  },
  {
   "cell_type": "code",
   "execution_count": 39,
   "id": "5dc79dc5-5550-4084-b471-2c62e658e4df",
   "metadata": {
    "scrolled": true
   },
   "outputs": [
    {
     "data": {
      "text/plain": [
       "2"
      ]
     },
     "execution_count": 39,
     "metadata": {},
     "output_type": "execute_result"
    }
   ],
   "source": [
    "math.gcd(8,6) # math.gcd(a,b) returns the greatest common divisor of the integers a and b"
   ]
  },
  {
   "cell_type": "code",
   "execution_count": null,
   "id": "2c2b0e43",
   "metadata": {},
   "outputs": [],
   "source": []
  },
  {
   "cell_type": "code",
   "execution_count": 40,
   "id": "eda3d754-af10-4ace-b64f-33b095cc0e90",
   "metadata": {},
   "outputs": [
    {
     "data": {
      "text/plain": [
       "2.718281828459045"
      ]
     },
     "execution_count": 40,
     "metadata": {},
     "output_type": "execute_result"
    }
   ],
   "source": [
    "math.exp(1) # e^1 math.exp(x) returns e raised to the power x, where e = 2.718281"
   ]
  },
  {
   "cell_type": "markdown",
   "id": "bfffc52c-86b6-44b1-94d7-fefd9c24efcd",
   "metadata": {
    "slideshow": {
     "slide_type": "slide"
    }
   },
   "source": [
    "`math.log(x[, base])`\n",
    "* With one argument, return the natural logarithm of x (to base e).\n",
    "* With two arguments, return the logarithm of x to the given base, calculated as log(x)/log(base)."
   ]
  },
  {
   "cell_type": "code",
   "execution_count": 41,
   "id": "3cdf5d8f-17dd-4b05-b43b-e34a3a66ecfe",
   "metadata": {},
   "outputs": [
    {
     "data": {
      "text/plain": [
       "2.0"
      ]
     },
     "execution_count": 41,
     "metadata": {},
     "output_type": "execute_result"
    }
   ],
   "source": [
    "math.log(100, 10)"
   ]
  },
  {
   "cell_type": "code",
   "execution_count": null,
   "id": "126f39eb-bba5-4bad-85b9-371c062fe676",
   "metadata": {},
   "outputs": [],
   "source": [
    "math.log(1)\n",
    "# math.log(4,2)"
   ]
  },
  {
   "cell_type": "code",
   "execution_count": null,
   "id": "4accaefe-7e1c-4c7f-ae45-6007523ca17f",
   "metadata": {},
   "outputs": [],
   "source": [
    "4 ** (1/2)"
   ]
  },
  {
   "cell_type": "code",
   "execution_count": null,
   "id": "b2847562-a63d-451f-bf22-1e8eb351c78c",
   "metadata": {},
   "outputs": [],
   "source": [
    "math.sqrt(4)"
   ]
  },
  {
   "cell_type": "code",
   "execution_count": null,
   "id": "66802e10-f1eb-4546-b340-783f38502d91",
   "metadata": {},
   "outputs": [],
   "source": []
  },
  {
   "cell_type": "markdown",
   "id": "dba2415b-37e1-4f0e-b3ab-8df53b85e07e",
   "metadata": {},
   "source": [
    "### Library import in depth\n",
    "#### A simple Python package\n",
    "Assume we have a package with the following file distribution\n",
    "```md\n",
    "└── sample_package\n",
    "    └── sample.py\n",
    "    └── subpackage\n",
    "        └── subsample.py\n",
    "```\n",
    "The content of `sample.py` is like\n",
    "```python\n",
    "x = 123\n",
    "y = 234\n",
    "\n",
    "def hello():\n",
    "    print('Hello World')\n",
    "```\n",
    "\n",
    "The content of `subsample.py`\n",
    "```python\n",
    "xx = 1\n",
    "yy = 2\n",
    "```\n",
    "\n",
    "### Things might be more complicated\n",
    "![](../pics/library_tree.png)\n",
    "\n",
    "***You could***\n",
    "* `import` the whole library, by `import a`\n",
    "* `import` a module (python script), by `import a.aa`\n",
    "* `import` a object (variable, function, class, etc.) in a module, by `import a.aa.aaa`, or `from a.aa import aaa`\n",
    "\n",
    "\n",
    "**However**, you should keep using the `<object>` name in the `import <object>` statement in your program to reference the object you imported. **Sometimes, this could be quite inconvenient** because the `<object>` string could be pretty long due to the complicatedd file structures in the python library\n",
    "\n",
    "**There are two ways** to solve the problem:\n",
    "* `from a import aa` (use the `from` statement to reference the complicated folder relationships)\n",
    "* `import a.aa as aa` (create an alias)"
   ]
  },
  {
   "cell_type": "code",
   "execution_count": 42,
   "id": "8a22cf56-6db5-42a6-90d2-58a728cccddd",
   "metadata": {},
   "outputs": [
    {
     "name": "stdout",
     "output_type": "stream",
     "text": [
      "\u001b[01;34msample_package\u001b[0m\n",
      "├── \u001b[00msample.py\u001b[0m\n",
      "└── \u001b[01;34msubpackage\u001b[0m\n",
      "    ├── \u001b[01;34m__pycache__\u001b[0m\n",
      "    │   └── \u001b[00msubsample.cpython-310.pyc\u001b[0m\n",
      "    └── \u001b[00msubsample.py\u001b[0m\n",
      "\n",
      "3 directories, 3 files\n"
     ]
    }
   ],
   "source": [
    "%%sh\n",
    "\n",
    "tree sample_package"
   ]
  },
  {
   "cell_type": "code",
   "execution_count": 43,
   "id": "a87230b7-29cb-45c6-9342-6860c46c686b",
   "metadata": {},
   "outputs": [
    {
     "name": "stdout",
     "output_type": "stream",
     "text": [
      "Hello World\n"
     ]
    }
   ],
   "source": [
    "from sample_package.sample import hello\n",
    "hello()"
   ]
  },
  {
   "cell_type": "code",
   "execution_count": 44,
   "id": "24ea347d",
   "metadata": {},
   "outputs": [],
   "source": [
    "import sample_package"
   ]
  },
  {
   "cell_type": "code",
   "execution_count": 45,
   "id": "fc27596f",
   "metadata": {},
   "outputs": [
    {
     "name": "stdout",
     "output_type": "stream",
     "text": [
      "Hello World\n"
     ]
    }
   ],
   "source": [
    "sample_package.sample.hello()"
   ]
  },
  {
   "cell_type": "code",
   "execution_count": null,
   "id": "089d0aa5",
   "metadata": {},
   "outputs": [],
   "source": []
  },
  {
   "cell_type": "code",
   "execution_count": 46,
   "id": "8f923ea8-54a0-4b29-9744-abbaeac25ab5",
   "metadata": {},
   "outputs": [],
   "source": [
    "from sample_package.subpackage.subsample import xx"
   ]
  },
  {
   "cell_type": "code",
   "execution_count": 47,
   "id": "1786d2ce-1cb1-408c-ada4-6ac13825b5c1",
   "metadata": {},
   "outputs": [
    {
     "data": {
      "text/plain": [
       "1"
      ]
     },
     "execution_count": 47,
     "metadata": {},
     "output_type": "execute_result"
    }
   ],
   "source": [
    "xx"
   ]
  },
  {
   "cell_type": "code",
   "execution_count": 49,
   "id": "0e1dc677",
   "metadata": {},
   "outputs": [],
   "source": [
    "import sample_package.subpackage.subsample"
   ]
  },
  {
   "cell_type": "code",
   "execution_count": 50,
   "id": "32de5cf6",
   "metadata": {},
   "outputs": [
    {
     "data": {
      "text/plain": [
       "1"
      ]
     },
     "execution_count": 50,
     "metadata": {},
     "output_type": "execute_result"
    }
   ],
   "source": [
    "sample_package.subpackage.subsample.xx"
   ]
  },
  {
   "cell_type": "code",
   "execution_count": 51,
   "id": "a2e5b3d1-446f-4fde-aec1-3bc932ca2fab",
   "metadata": {},
   "outputs": [],
   "source": [
    "import sample_package.subpackage.subsample as longname"
   ]
  },
  {
   "cell_type": "code",
   "execution_count": 52,
   "id": "799ce950",
   "metadata": {},
   "outputs": [
    {
     "data": {
      "text/plain": [
       "1"
      ]
     },
     "execution_count": 52,
     "metadata": {},
     "output_type": "execute_result"
    }
   ],
   "source": [
    "longname.xx"
   ]
  },
  {
   "cell_type": "code",
   "execution_count": null,
   "id": "9fb2fb04",
   "metadata": {},
   "outputs": [],
   "source": []
  },
  {
   "cell_type": "markdown",
   "id": "2f2ab2ef-ede4-418f-b245-cbc8be97e040",
   "metadata": {
    "slideshow": {
     "slide_type": "slide"
    }
   },
   "source": [
    "## Summary\n",
    "* Python is a high level scripting language\n",
    "* Common coding tools: Jupyter Notebook, Jupyter Lab, Visual Studio Code\n",
    "* Execute Python program in Jupyter Notebook\n",
    "* Basic Data Types: numbers, strings, booleans, list, tuples, sets, dict\n",
    "* Control statement: `if-else` clause and loops\n",
    "* Define and use a Python function\n",
    "* Interact with files (read & write)\n",
    "* How to import and use Python libraries"
   ]
  },
  {
   "cell_type": "code",
   "execution_count": null,
   "id": "5850cf28-4e44-47c3-ae24-326e6087b1bf",
   "metadata": {},
   "outputs": [],
   "source": []
  },
  {
   "cell_type": "code",
   "execution_count": null,
   "id": "2b8d82b4-02af-4854-912a-54852f325582",
   "metadata": {},
   "outputs": [],
   "source": []
  },
  {
   "cell_type": "markdown",
   "id": "41cc55f2-ce5a-4a97-9d2e-bc0726998d04",
   "metadata": {},
   "source": [
    "# Numpy Arrays\n",
    "\n",
    "`Numpy` is Python library supporting linear algebra operations with a large collection of functions to operate on large, multi-dimensional arrays and matrices. The core functionality of Numpy is the `ndarray`, for n-dimensional array, data structure.\n",
    "\n",
    "## What’s the difference between a Python list and a NumPy array? [[source](https://numpy.org/doc/stable/user/absolute_beginners.html#whats-the-difference-between-a-python-list-and-a-numpy-array)]\n",
    "NumPy gives you an enormous range of fast and efficient ways of creating arrays and manipulating numerical data inside them. While a Python list can contain different data types within a single list, all of the elements in a NumPy array should be homogeneous. The mathematical operations that are meant to be performed on arrays would be extremely inefficient if the arrays weren’t homogeneous.\n",
    "\n",
    "## Why use NumPy?\n",
    "\n",
    "NumPy arrays are faster and more compact than Python lists. An array consumes less memory and is convenient to use. NumPy uses much less memory to store data and it provides a mechanism of specifying the data types. This allows the code to be optimized even further.\n",
    "\n",
    "## What is an array?\n",
    "An array is a central data structure of the NumPy library. An array is a grid of values and it contains information about the raw data, how to locate an element, and how to interpret an element. It has a grid of elements that can be indexed in various ways. The elements are all of the same type, referred to as the array dtype.\n",
    "\n",
    "An array can be indexed by a tuple of nonnegative integers, by booleans, by another array, or by integers. The rank of the array is the number of dimensions. The shape of the array is a tuple of integers giving the size of the array along each dimension.\n"
   ]
  },
  {
   "cell_type": "code",
   "execution_count": 53,
   "id": "08165d8a",
   "metadata": {},
   "outputs": [],
   "source": [
    "import numpy\n",
    "# numpy.a.b.c"
   ]
  },
  {
   "cell_type": "code",
   "execution_count": 54,
   "id": "f620e3bc-891e-4e3b-97b3-c63a25444ff6",
   "metadata": {},
   "outputs": [],
   "source": [
    "import numpy as np\n",
    "# numpy.bajbljl\n",
    "# np. bajbljl\n"
   ]
  },
  {
   "cell_type": "code",
   "execution_count": null,
   "id": "0a0ddc6d",
   "metadata": {},
   "outputs": [],
   "source": []
  },
  {
   "cell_type": "code",
   "execution_count": 56,
   "id": "39df9e19-d5e4-4e15-91b9-fe5a04515760",
   "metadata": {},
   "outputs": [],
   "source": [
    "from numpy import array"
   ]
  },
  {
   "cell_type": "code",
   "execution_count": 57,
   "id": "c2e76f94-506a-4a9a-b179-580b47930ba2",
   "metadata": {},
   "outputs": [
    {
     "data": {
      "text/plain": [
       "array([1, 2, 3, 4])"
      ]
     },
     "execution_count": 57,
     "metadata": {},
     "output_type": "execute_result"
    }
   ],
   "source": [
    "x = array([1,2,3,4])\n",
    "x"
   ]
  },
  {
   "cell_type": "code",
   "execution_count": 58,
   "id": "2a5f361a-5e2c-4d14-b82b-6737421563c4",
   "metadata": {},
   "outputs": [
    {
     "data": {
      "text/plain": [
       "1"
      ]
     },
     "execution_count": 58,
     "metadata": {},
     "output_type": "execute_result"
    }
   ],
   "source": [
    "x.ndim"
   ]
  },
  {
   "cell_type": "code",
   "execution_count": 59,
   "id": "dd918751-5b3f-4b8a-a68c-83a8c0024a2d",
   "metadata": {},
   "outputs": [
    {
     "data": {
      "text/plain": [
       "(4,)"
      ]
     },
     "execution_count": 59,
     "metadata": {},
     "output_type": "execute_result"
    }
   ],
   "source": [
    "x.shape"
   ]
  },
  {
   "cell_type": "markdown",
   "id": "e12e9924-4e32-4c74-ac24-08f6f6a1c1a1",
   "metadata": {},
   "source": [
    "## Create Numpy Arrays"
   ]
  },
  {
   "cell_type": "markdown",
   "id": "3728d837-a3df-4ee6-8dd6-3fdc2d62ab5a",
   "metadata": {},
   "source": [
    "### Create from a list"
   ]
  },
  {
   "cell_type": "code",
   "execution_count": 60,
   "id": "b96fed9e",
   "metadata": {},
   "outputs": [],
   "source": [
    "import numpy as np"
   ]
  },
  {
   "cell_type": "code",
   "execution_count": 61,
   "id": "a6bc16d9-a5ff-47d8-96f4-4945e058242b",
   "metadata": {},
   "outputs": [],
   "source": [
    "myList = [1,2,3,4]"
   ]
  },
  {
   "cell_type": "code",
   "execution_count": 62,
   "id": "8a715f27-6447-43e3-bbbc-3e8299947781",
   "metadata": {},
   "outputs": [
    {
     "data": {
      "text/plain": [
       "array([1, 2, 3, 4])"
      ]
     },
     "execution_count": 62,
     "metadata": {},
     "output_type": "execute_result"
    }
   ],
   "source": [
    "myArray = np.array(myList)\n",
    "myArray"
   ]
  },
  {
   "cell_type": "code",
   "execution_count": 63,
   "id": "ef3f9be5-2e84-4fc0-bc5b-b6a0cd9c2178",
   "metadata": {},
   "outputs": [
    {
     "data": {
      "text/plain": [
       "numpy.ndarray"
      ]
     },
     "execution_count": 63,
     "metadata": {},
     "output_type": "execute_result"
    }
   ],
   "source": [
    "type(myArray)"
   ]
  },
  {
   "cell_type": "code",
   "execution_count": null,
   "id": "23a10f57",
   "metadata": {},
   "outputs": [],
   "source": []
  },
  {
   "cell_type": "code",
   "execution_count": 64,
   "id": "0c966f02-bc3a-4eba-b5c2-c15ad1ea621f",
   "metadata": {},
   "outputs": [
    {
     "data": {
      "text/plain": [
       "(4,)"
      ]
     },
     "execution_count": 64,
     "metadata": {},
     "output_type": "execute_result"
    }
   ],
   "source": [
    "myArray.shape"
   ]
  },
  {
   "cell_type": "markdown",
   "id": "ecdd5284-8439-4b41-a7ef-cd85413d9ed0",
   "metadata": {},
   "source": [
    "### 1-D array vs. 2-D array"
   ]
  },
  {
   "cell_type": "code",
   "execution_count": 65,
   "id": "743a9d4b-003f-47bc-81ca-0abd522d5220",
   "metadata": {},
   "outputs": [
    {
     "data": {
      "text/plain": [
       "1"
      ]
     },
     "execution_count": 65,
     "metadata": {},
     "output_type": "execute_result"
    }
   ],
   "source": [
    "myArray.ndim"
   ]
  },
  {
   "cell_type": "code",
   "execution_count": 66,
   "id": "c1432dca-a51f-4347-b3bf-f8e34a91c195",
   "metadata": {},
   "outputs": [
    {
     "data": {
      "text/plain": [
       "(4,)"
      ]
     },
     "execution_count": 66,
     "metadata": {},
     "output_type": "execute_result"
    }
   ],
   "source": [
    "myArray.shape"
   ]
  },
  {
   "cell_type": "code",
   "execution_count": 67,
   "id": "9866ef9e-ae63-4d12-905a-a078ebfcda9c",
   "metadata": {},
   "outputs": [
    {
     "data": {
      "text/plain": [
       "[1, 2, 3, 4]"
      ]
     },
     "execution_count": 67,
     "metadata": {},
     "output_type": "execute_result"
    }
   ],
   "source": [
    "myList"
   ]
  },
  {
   "cell_type": "markdown",
   "id": "c63758cf-aeae-45e5-befb-2eeac47303bd",
   "metadata": {},
   "source": [
    "**Official documentation** of the function `numpy.array()` [[link](https://numpy.org/doc/stable/reference/generated/numpy.array.html)]"
   ]
  },
  {
   "cell_type": "code",
   "execution_count": 68,
   "id": "c9567479",
   "metadata": {},
   "outputs": [
    {
     "data": {
      "text/plain": [
       "[1, 2, 3, 4]"
      ]
     },
     "execution_count": 68,
     "metadata": {},
     "output_type": "execute_result"
    }
   ],
   "source": [
    "myList"
   ]
  },
  {
   "cell_type": "code",
   "execution_count": 69,
   "id": "4475422f-0fe2-4240-8833-96ca2166d033",
   "metadata": {},
   "outputs": [
    {
     "data": {
      "text/plain": [
       "(1, 4)"
      ]
     },
     "execution_count": 69,
     "metadata": {},
     "output_type": "execute_result"
    }
   ],
   "source": [
    "myArray2 = np.array(myList,ndmin=2)\n",
    "myArray2.shape"
   ]
  },
  {
   "cell_type": "code",
   "execution_count": 70,
   "id": "0054a55b-571d-4f6b-bf83-495bc52a6fd2",
   "metadata": {},
   "outputs": [
    {
     "data": {
      "text/plain": [
       "array([[1, 2, 3, 4]])"
      ]
     },
     "execution_count": 70,
     "metadata": {},
     "output_type": "execute_result"
    }
   ],
   "source": [
    "myArray2"
   ]
  },
  {
   "cell_type": "code",
   "execution_count": null,
   "id": "cc0918f0-e029-45b2-acd0-3a2cb44b5cc9",
   "metadata": {},
   "outputs": [],
   "source": []
  },
  {
   "cell_type": "code",
   "execution_count": 71,
   "id": "da44d021-22db-4dc0-b67a-5ccf20bf0eb3",
   "metadata": {},
   "outputs": [
    {
     "data": {
      "text/plain": [
       "(4,)"
      ]
     },
     "execution_count": 71,
     "metadata": {},
     "output_type": "execute_result"
    }
   ],
   "source": [
    "myArray2 = np.array(myList,ndmin=1)\n",
    "myArray2.shape"
   ]
  },
  {
   "cell_type": "code",
   "execution_count": null,
   "id": "58430b86",
   "metadata": {},
   "outputs": [],
   "source": []
  },
  {
   "cell_type": "code",
   "execution_count": 72,
   "id": "30ff1e1c-34ba-4455-8b2d-c5b4f41d2ac2",
   "metadata": {},
   "outputs": [
    {
     "data": {
      "text/plain": [
       "array([1, 2, 3, 4])"
      ]
     },
     "execution_count": 72,
     "metadata": {},
     "output_type": "execute_result"
    }
   ],
   "source": [
    "myArray2"
   ]
  },
  {
   "cell_type": "code",
   "execution_count": 73,
   "id": "19cc62e8-bd32-4424-9763-355581c1b979",
   "metadata": {},
   "outputs": [
    {
     "data": {
      "text/plain": [
       "array([[1],\n",
       "       [2],\n",
       "       [3],\n",
       "       [4]])"
      ]
     },
     "execution_count": 73,
     "metadata": {},
     "output_type": "execute_result"
    }
   ],
   "source": [
    "myArray3 = myArray2.reshape(4,1) # reshape the array dimensions\n",
    "myArray3"
   ]
  },
  {
   "cell_type": "code",
   "execution_count": 74,
   "id": "626a3167",
   "metadata": {},
   "outputs": [
    {
     "data": {
      "text/plain": [
       "array([[1, 2, 3, 4]])"
      ]
     },
     "execution_count": 74,
     "metadata": {},
     "output_type": "execute_result"
    }
   ],
   "source": [
    "myArray3 = myArray2.reshape(1,4) # reshape the array dimensions\n",
    "myArray3"
   ]
  },
  {
   "cell_type": "code",
   "execution_count": null,
   "id": "f4b50bca",
   "metadata": {},
   "outputs": [],
   "source": []
  },
  {
   "cell_type": "code",
   "execution_count": 75,
   "id": "c5c8e189-30ec-4995-9f90-4a46810a4bfb",
   "metadata": {},
   "outputs": [
    {
     "data": {
      "text/plain": [
       "array([[1, 2, 3, 4]])"
      ]
     },
     "execution_count": 75,
     "metadata": {},
     "output_type": "execute_result"
    }
   ],
   "source": [
    "myArray2 = np.array(myList,ndmin=2)\n",
    "myArray2\n",
    "# myArray2.T"
   ]
  },
  {
   "cell_type": "code",
   "execution_count": 76,
   "id": "5aad7378",
   "metadata": {},
   "outputs": [
    {
     "data": {
      "text/plain": [
       "array([[1],\n",
       "       [2],\n",
       "       [3],\n",
       "       [4]])"
      ]
     },
     "execution_count": 76,
     "metadata": {},
     "output_type": "execute_result"
    }
   ],
   "source": [
    "myArray2.T"
   ]
  },
  {
   "cell_type": "code",
   "execution_count": null,
   "id": "d1fbf1cf",
   "metadata": {},
   "outputs": [],
   "source": []
  },
  {
   "cell_type": "code",
   "execution_count": 77,
   "id": "2650db65",
   "metadata": {},
   "outputs": [
    {
     "data": {
      "text/plain": [
       "array([[1, 2],\n",
       "       [3, 4]])"
      ]
     },
     "execution_count": 77,
     "metadata": {},
     "output_type": "execute_result"
    }
   ],
   "source": [
    "myArray3 = myArray2.reshape(2,2) # reshape the array dimensions\n",
    "myArray3"
   ]
  },
  {
   "cell_type": "code",
   "execution_count": 78,
   "id": "2ba627e1",
   "metadata": {},
   "outputs": [
    {
     "data": {
      "text/plain": [
       "2"
      ]
     },
     "execution_count": 78,
     "metadata": {},
     "output_type": "execute_result"
    }
   ],
   "source": [
    "myArray3.ndim"
   ]
  },
  {
   "cell_type": "code",
   "execution_count": 79,
   "id": "2286462b",
   "metadata": {},
   "outputs": [
    {
     "data": {
      "text/plain": [
       "(2, 2)"
      ]
     },
     "execution_count": 79,
     "metadata": {},
     "output_type": "execute_result"
    }
   ],
   "source": [
    "myArray3.shape"
   ]
  },
  {
   "cell_type": "code",
   "execution_count": 80,
   "id": "330f33f4",
   "metadata": {},
   "outputs": [
    {
     "data": {
      "text/plain": [
       "array([[1, 3],\n",
       "       [2, 4]])"
      ]
     },
     "execution_count": 80,
     "metadata": {},
     "output_type": "execute_result"
    }
   ],
   "source": [
    "myArray3.T"
   ]
  },
  {
   "cell_type": "code",
   "execution_count": null,
   "id": "b6c406b6",
   "metadata": {},
   "outputs": [],
   "source": []
  },
  {
   "cell_type": "code",
   "execution_count": 81,
   "id": "1ae6af63",
   "metadata": {},
   "outputs": [
    {
     "data": {
      "text/plain": [
       "[1, 2, 3, 4]"
      ]
     },
     "execution_count": 81,
     "metadata": {},
     "output_type": "execute_result"
    }
   ],
   "source": [
    "myList"
   ]
  },
  {
   "cell_type": "code",
   "execution_count": 82,
   "id": "ecbf9860-7c3d-4e85-9608-4bd73d875d67",
   "metadata": {},
   "outputs": [],
   "source": [
    "myArray2 = np.array(myList,ndmin=1)"
   ]
  },
  {
   "cell_type": "code",
   "execution_count": 83,
   "id": "0292165f",
   "metadata": {},
   "outputs": [
    {
     "data": {
      "text/plain": [
       "array([1, 2, 3, 4])"
      ]
     },
     "execution_count": 83,
     "metadata": {},
     "output_type": "execute_result"
    }
   ],
   "source": [
    "myArray2"
   ]
  },
  {
   "cell_type": "code",
   "execution_count": 84,
   "id": "5c03bac7",
   "metadata": {},
   "outputs": [
    {
     "data": {
      "text/plain": [
       "1"
      ]
     },
     "execution_count": 84,
     "metadata": {},
     "output_type": "execute_result"
    }
   ],
   "source": [
    "myArray2.ndim"
   ]
  },
  {
   "cell_type": "code",
   "execution_count": null,
   "id": "44d62e4b",
   "metadata": {},
   "outputs": [],
   "source": []
  },
  {
   "cell_type": "code",
   "execution_count": 85,
   "id": "fc551c43",
   "metadata": {},
   "outputs": [
    {
     "data": {
      "text/plain": [
       "array([1, 2, 3, 4])"
      ]
     },
     "execution_count": 85,
     "metadata": {},
     "output_type": "execute_result"
    }
   ],
   "source": [
    "myArray2.T"
   ]
  },
  {
   "cell_type": "code",
   "execution_count": 86,
   "id": "040827ba",
   "metadata": {},
   "outputs": [
    {
     "data": {
      "text/plain": [
       "1"
      ]
     },
     "execution_count": 86,
     "metadata": {},
     "output_type": "execute_result"
    }
   ],
   "source": [
    "myArray2.T.ndim"
   ]
  },
  {
   "cell_type": "code",
   "execution_count": null,
   "id": "a6fbbe55",
   "metadata": {},
   "outputs": [],
   "source": []
  },
  {
   "cell_type": "code",
   "execution_count": 87,
   "id": "cb52b347-3441-4740-891a-5069449105c6",
   "metadata": {},
   "outputs": [
    {
     "data": {
      "text/plain": [
       "(4,)"
      ]
     },
     "execution_count": 87,
     "metadata": {},
     "output_type": "execute_result"
    }
   ],
   "source": [
    "myArray2.T.shape"
   ]
  },
  {
   "cell_type": "code",
   "execution_count": null,
   "id": "63976a8b-5e0a-47d2-81bb-bf55466b85c7",
   "metadata": {},
   "outputs": [],
   "source": []
  },
  {
   "cell_type": "markdown",
   "id": "85e6bdaf-b4d8-4ddf-bb14-cfa9b3808fb4",
   "metadata": {},
   "source": [
    "The `flatten()` function [[official doc](https://numpy.org/doc/stable/reference/generated/numpy.ndarray.flatten.html#numpy.ndarray.flatten)]"
   ]
  },
  {
   "cell_type": "code",
   "execution_count": 88,
   "id": "e962e60e",
   "metadata": {},
   "outputs": [
    {
     "data": {
      "text/plain": [
       "array([[1, 2],\n",
       "       [3, 4]])"
      ]
     },
     "execution_count": 88,
     "metadata": {},
     "output_type": "execute_result"
    }
   ],
   "source": [
    "myArray3"
   ]
  },
  {
   "cell_type": "code",
   "execution_count": 89,
   "id": "8788a019-c694-4365-8ca0-d59b46a78d47",
   "metadata": {},
   "outputs": [
    {
     "data": {
      "text/plain": [
       "(2, 2)"
      ]
     },
     "execution_count": 89,
     "metadata": {},
     "output_type": "execute_result"
    }
   ],
   "source": [
    "myArray3.shape"
   ]
  },
  {
   "cell_type": "code",
   "execution_count": 90,
   "id": "a87533b5-79ff-4f6f-b0df-c44e0719ce7f",
   "metadata": {},
   "outputs": [
    {
     "data": {
      "text/plain": [
       "array([1, 2, 3, 4])"
      ]
     },
     "execution_count": 90,
     "metadata": {},
     "output_type": "execute_result"
    }
   ],
   "source": [
    "myArray3.flatten()"
   ]
  },
  {
   "cell_type": "code",
   "execution_count": 91,
   "id": "bc3693ca-c116-485d-97d8-f93ed9071cda",
   "metadata": {},
   "outputs": [
    {
     "data": {
      "text/plain": [
       "1"
      ]
     },
     "execution_count": 91,
     "metadata": {},
     "output_type": "execute_result"
    }
   ],
   "source": [
    "myArray3.flatten().ndim"
   ]
  },
  {
   "cell_type": "code",
   "execution_count": 92,
   "id": "f31034ed-f03a-4e6e-9b0d-bc70b2637c14",
   "metadata": {},
   "outputs": [
    {
     "data": {
      "text/plain": [
       "(4,)"
      ]
     },
     "execution_count": 92,
     "metadata": {},
     "output_type": "execute_result"
    }
   ],
   "source": [
    "myArray3.flatten().shape"
   ]
  },
  {
   "cell_type": "code",
   "execution_count": null,
   "id": "420c90f1-6178-4699-b810-3bc1e938384f",
   "metadata": {},
   "outputs": [],
   "source": []
  },
  {
   "cell_type": "markdown",
   "id": "2e6e3363-e0f2-45ca-be0f-4eecd49ab83b",
   "metadata": {},
   "source": [
    "### Built-in Methods"
   ]
  },
  {
   "cell_type": "markdown",
   "id": "8957b1d3-308e-4dfc-866e-279304930609",
   "metadata": {},
   "source": [
    "**arrange**"
   ]
  },
  {
   "cell_type": "code",
   "execution_count": 95,
   "id": "9eb595ca",
   "metadata": {},
   "outputs": [
    {
     "data": {
      "text/plain": [
       "[0, 1, 2, 3, 4, 5, 6, 7, 8, 9]"
      ]
     },
     "execution_count": 95,
     "metadata": {},
     "output_type": "execute_result"
    }
   ],
   "source": [
    "list(range(0, 10))"
   ]
  },
  {
   "cell_type": "code",
   "execution_count": null,
   "id": "9c1c0dfc",
   "metadata": {},
   "outputs": [],
   "source": []
  },
  {
   "cell_type": "code",
   "execution_count": 93,
   "id": "d44da151-87fd-4509-98fe-4a3d62f45c50",
   "metadata": {},
   "outputs": [
    {
     "data": {
      "text/plain": [
       "array([0, 1, 2, 3, 4, 5, 6, 7, 8, 9])"
      ]
     },
     "execution_count": 93,
     "metadata": {},
     "output_type": "execute_result"
    }
   ],
   "source": [
    "myArray4 = np.arange(0,10)\n",
    "# myArray4.ndim\n",
    "myArray4"
   ]
  },
  {
   "cell_type": "code",
   "execution_count": 96,
   "id": "2c63b86d",
   "metadata": {},
   "outputs": [
    {
     "data": {
      "text/plain": [
       "(10,)"
      ]
     },
     "execution_count": 96,
     "metadata": {},
     "output_type": "execute_result"
    }
   ],
   "source": [
    "myArray4.shape"
   ]
  },
  {
   "cell_type": "code",
   "execution_count": null,
   "id": "3a25d4ef",
   "metadata": {},
   "outputs": [],
   "source": []
  },
  {
   "cell_type": "code",
   "execution_count": 97,
   "id": "dc218c27-ce1a-4828-9259-3d1359b1b51a",
   "metadata": {},
   "outputs": [
    {
     "data": {
      "text/plain": [
       "(2, 5)"
      ]
     },
     "execution_count": 97,
     "metadata": {},
     "output_type": "execute_result"
    }
   ],
   "source": [
    "myArray4 = np.arange(0,10).reshape(2,5)\n",
    "myArray4.shape"
   ]
  },
  {
   "cell_type": "code",
   "execution_count": 98,
   "id": "20021b31-9b8d-4e28-8f9c-e1838025a7d2",
   "metadata": {},
   "outputs": [
    {
     "data": {
      "text/plain": [
       "array([[0, 1, 2, 3, 4],\n",
       "       [5, 6, 7, 8, 9]])"
      ]
     },
     "execution_count": 98,
     "metadata": {},
     "output_type": "execute_result"
    }
   ],
   "source": [
    "myArray4"
   ]
  },
  {
   "cell_type": "code",
   "execution_count": null,
   "id": "015e7863",
   "metadata": {},
   "outputs": [],
   "source": []
  },
  {
   "cell_type": "code",
   "execution_count": 99,
   "id": "e18ef539",
   "metadata": {},
   "outputs": [
    {
     "data": {
      "text/plain": [
       "[0, 3, 6, 9]"
      ]
     },
     "execution_count": 99,
     "metadata": {},
     "output_type": "execute_result"
    }
   ],
   "source": [
    "list(range(0, 10, 3))"
   ]
  },
  {
   "cell_type": "code",
   "execution_count": null,
   "id": "6e401410",
   "metadata": {},
   "outputs": [],
   "source": []
  },
  {
   "cell_type": "code",
   "execution_count": 100,
   "id": "34864877-825e-44d1-b1cc-54d960c53bbd",
   "metadata": {},
   "outputs": [
    {
     "data": {
      "text/plain": [
       "array([0, 3, 6, 9])"
      ]
     },
     "execution_count": 100,
     "metadata": {},
     "output_type": "execute_result"
    }
   ],
   "source": [
    "np.arange(0,10,3)"
   ]
  },
  {
   "cell_type": "code",
   "execution_count": null,
   "id": "40aa083b-a2a4-4609-8231-e1909d3dcfda",
   "metadata": {},
   "outputs": [],
   "source": []
  },
  {
   "cell_type": "markdown",
   "id": "e614c826-4891-481a-9e6c-231824e7ebe7",
   "metadata": {},
   "source": [
    "**zeros and ones**"
   ]
  },
  {
   "cell_type": "code",
   "execution_count": 101,
   "id": "f48d0173-394f-4a9f-a8a2-0ec532874e6e",
   "metadata": {},
   "outputs": [
    {
     "data": {
      "text/plain": [
       "array([0., 0., 0., 0.])"
      ]
     },
     "execution_count": 101,
     "metadata": {},
     "output_type": "execute_result"
    }
   ],
   "source": [
    "np.zeros(4)"
   ]
  },
  {
   "cell_type": "code",
   "execution_count": 102,
   "id": "e9eab6bb-215e-4809-af32-3478df00413f",
   "metadata": {},
   "outputs": [
    {
     "data": {
      "text/plain": [
       "array([[0., 0., 0., 0., 0., 0.],\n",
       "       [0., 0., 0., 0., 0., 0.],\n",
       "       [0., 0., 0., 0., 0., 0.],\n",
       "       [0., 0., 0., 0., 0., 0.]])"
      ]
     },
     "execution_count": 102,
     "metadata": {},
     "output_type": "execute_result"
    }
   ],
   "source": [
    "np.zeros(shape=(4,6))"
   ]
  },
  {
   "cell_type": "code",
   "execution_count": 103,
   "id": "f4c68191-9194-4a11-8bda-4599d7f8e463",
   "metadata": {},
   "outputs": [
    {
     "data": {
      "text/plain": [
       "array([1., 1., 1., 1.])"
      ]
     },
     "execution_count": 103,
     "metadata": {},
     "output_type": "execute_result"
    }
   ],
   "source": [
    "np.ones(4)"
   ]
  },
  {
   "cell_type": "code",
   "execution_count": 104,
   "id": "2f7ec5d5-ea0e-4c05-ac38-112851e70b6f",
   "metadata": {},
   "outputs": [
    {
     "data": {
      "text/plain": [
       "array([[1., 1., 1., 1.],\n",
       "       [1., 1., 1., 1.],\n",
       "       [1., 1., 1., 1.],\n",
       "       [1., 1., 1., 1.]])"
      ]
     },
     "execution_count": 104,
     "metadata": {},
     "output_type": "execute_result"
    }
   ],
   "source": [
    "np.ones((4,4))"
   ]
  },
  {
   "cell_type": "code",
   "execution_count": null,
   "id": "66cd6945-5a06-46a4-b308-e39e60edb154",
   "metadata": {},
   "outputs": [],
   "source": []
  },
  {
   "cell_type": "markdown",
   "id": "483509b8-2ef5-4231-ad3a-b77460769b9c",
   "metadata": {},
   "source": [
    "**linspace**\n",
    "\n",
    "Return evenly spaced numbers over a specified interval."
   ]
  },
  {
   "cell_type": "code",
   "execution_count": 108,
   "id": "13f0108c-05b4-4a54-9485-6fed6b77cab6",
   "metadata": {},
   "outputs": [
    {
     "data": {
      "text/plain": [
       "array([ 0.        ,  0.20408163,  0.40816327,  0.6122449 ,  0.81632653,\n",
       "        1.02040816,  1.2244898 ,  1.42857143,  1.63265306,  1.83673469,\n",
       "        2.04081633,  2.24489796,  2.44897959,  2.65306122,  2.85714286,\n",
       "        3.06122449,  3.26530612,  3.46938776,  3.67346939,  3.87755102,\n",
       "        4.08163265,  4.28571429,  4.48979592,  4.69387755,  4.89795918,\n",
       "        5.10204082,  5.30612245,  5.51020408,  5.71428571,  5.91836735,\n",
       "        6.12244898,  6.32653061,  6.53061224,  6.73469388,  6.93877551,\n",
       "        7.14285714,  7.34693878,  7.55102041,  7.75510204,  7.95918367,\n",
       "        8.16326531,  8.36734694,  8.57142857,  8.7755102 ,  8.97959184,\n",
       "        9.18367347,  9.3877551 ,  9.59183673,  9.79591837, 10.        ])"
      ]
     },
     "execution_count": 108,
     "metadata": {},
     "output_type": "execute_result"
    }
   ],
   "source": [
    "np.linspace(0,10,50)"
   ]
  },
  {
   "cell_type": "code",
   "execution_count": null,
   "id": "6a12a357-6a82-435d-9776-b900b854ee14",
   "metadata": {},
   "outputs": [],
   "source": []
  },
  {
   "cell_type": "markdown",
   "id": "734029df-1e01-4ae6-82d1-8b0aef780259",
   "metadata": {},
   "source": [
    "**eye**\n",
    "\n",
    "Creates the identity matrix, $I$"
   ]
  },
  {
   "cell_type": "code",
   "execution_count": 109,
   "id": "21e46059-9adb-4268-8e6a-c59489b79dfb",
   "metadata": {},
   "outputs": [
    {
     "data": {
      "text/plain": [
       "array([[1., 0., 0., 0., 0.],\n",
       "       [0., 1., 0., 0., 0.],\n",
       "       [0., 0., 1., 0., 0.],\n",
       "       [0., 0., 0., 1., 0.],\n",
       "       [0., 0., 0., 0., 1.]])"
      ]
     },
     "execution_count": 109,
     "metadata": {},
     "output_type": "execute_result"
    }
   ],
   "source": [
    "np.eye(5)"
   ]
  },
  {
   "cell_type": "code",
   "execution_count": 110,
   "id": "f695762e-7067-4bd0-8d37-8563dfb203df",
   "metadata": {},
   "outputs": [
    {
     "data": {
      "text/plain": [
       "array([[1., 0., 0., 0., 0., 0.],\n",
       "       [0., 1., 0., 0., 0., 0.],\n",
       "       [0., 0., 1., 0., 0., 0.],\n",
       "       [0., 0., 0., 1., 0., 0.],\n",
       "       [0., 0., 0., 0., 1., 0.]])"
      ]
     },
     "execution_count": 110,
     "metadata": {},
     "output_type": "execute_result"
    }
   ],
   "source": [
    "np.eye(N=5,M=6)"
   ]
  },
  {
   "cell_type": "code",
   "execution_count": null,
   "id": "2dc69ff2-1c10-47f8-ae47-27aa689a68ea",
   "metadata": {},
   "outputs": [],
   "source": []
  },
  {
   "cell_type": "code",
   "execution_count": null,
   "id": "63391abc-8dba-44bb-b2c6-242fdb32ef3d",
   "metadata": {},
   "outputs": [],
   "source": []
  },
  {
   "cell_type": "markdown",
   "id": "02de562c-1fd9-4788-95cb-39c8d8656e20",
   "metadata": {},
   "source": [
    "### Random Numbers"
   ]
  },
  {
   "cell_type": "markdown",
   "id": "582bb7df-7ebe-495d-bc90-699512e908b5",
   "metadata": {},
   "source": [
    "**rand()**\n",
    "\n",
    "Generate a series of random numbers from the uniform distribution over the range [0,1], and output the data in the form of numpy array based on the pre-defined shape."
   ]
  },
  {
   "cell_type": "code",
   "execution_count": 111,
   "id": "4f8aacb3-ba60-4c34-b40a-6f3a805df2d3",
   "metadata": {},
   "outputs": [
    {
     "data": {
      "text/plain": [
       "array([0.74326285, 0.51733762, 0.15830785])"
      ]
     },
     "execution_count": 111,
     "metadata": {},
     "output_type": "execute_result"
    }
   ],
   "source": [
    "np.random.rand(3)"
   ]
  },
  {
   "cell_type": "code",
   "execution_count": 112,
   "id": "e6df915e-66e9-49f6-af16-51c310e8d8f9",
   "metadata": {},
   "outputs": [
    {
     "data": {
      "text/plain": [
       "array([[0.02898091, 0.72826949, 0.49015659],\n",
       "       [0.65535605, 0.49179707, 0.51227506],\n",
       "       [0.00512194, 0.18888844, 0.80232309]])"
      ]
     },
     "execution_count": 112,
     "metadata": {},
     "output_type": "execute_result"
    }
   ],
   "source": [
    "np.random.rand(3,3)"
   ]
  },
  {
   "cell_type": "code",
   "execution_count": null,
   "id": "c61e841b",
   "metadata": {},
   "outputs": [],
   "source": []
  },
  {
   "cell_type": "markdown",
   "id": "92e4730d-f152-4e45-beb8-506b01e65580",
   "metadata": {},
   "source": [
    "**randn()**\n",
    "\n",
    "Generate a series of random numbers from the standard normal distribution, and output the data in the form of numpy array based on the pre-defined shape."
   ]
  },
  {
   "cell_type": "code",
   "execution_count": 113,
   "id": "81dc1ce1-fdcc-42f4-864b-bfa661d3e316",
   "metadata": {},
   "outputs": [
    {
     "data": {
      "text/plain": [
       "array([[ 0.53942852, -0.59626255,  0.68671924],\n",
       "       [ 1.47555627,  0.8901741 ,  1.67714759],\n",
       "       [-0.771767  , -1.57121005, -0.67468583]])"
      ]
     },
     "execution_count": 113,
     "metadata": {},
     "output_type": "execute_result"
    }
   ],
   "source": [
    "np.random.randn(3,3)"
   ]
  },
  {
   "cell_type": "markdown",
   "id": "19c3cc09-15fb-4c0f-ba81-5bb376a883d0",
   "metadata": {},
   "source": [
    "**randint()** [[official doc](https://numpy.org/doc/stable/reference/random/generated/numpy.random.randint.html#numpy-random-randint)]\n",
    "\n",
    "Return random integers from low (inclusive) to high (exclusive)."
   ]
  },
  {
   "cell_type": "code",
   "execution_count": 114,
   "id": "00eb7c18-e20c-47f6-b4e5-9a7cbf653eff",
   "metadata": {},
   "outputs": [
    {
     "data": {
      "text/plain": [
       "2"
      ]
     },
     "execution_count": 114,
     "metadata": {},
     "output_type": "execute_result"
    }
   ],
   "source": [
    "np.random.randint(low=0,high=11)"
   ]
  },
  {
   "cell_type": "code",
   "execution_count": 115,
   "id": "e221455e-13f0-4474-a754-3568462b02b7",
   "metadata": {
    "scrolled": true
   },
   "outputs": [
    {
     "data": {
      "text/plain": [
       "array([1, 6, 6, 2, 8])"
      ]
     },
     "execution_count": 115,
     "metadata": {},
     "output_type": "execute_result"
    }
   ],
   "source": [
    "np.random.randint(low=0,high=11,size=5)"
   ]
  },
  {
   "cell_type": "code",
   "execution_count": null,
   "id": "d34c139e",
   "metadata": {},
   "outputs": [],
   "source": []
  },
  {
   "cell_type": "markdown",
   "id": "55fb2d41-6741-4ac7-bedc-f356fe0f578a",
   "metadata": {},
   "source": [
    "# Numpy Array Indexing and Selection"
   ]
  },
  {
   "cell_type": "markdown",
   "id": "91eeb9d6-5ed3-4015-af4f-8ea41cb42fba",
   "metadata": {},
   "source": [
    "## 1-D array (similar to the indexing with List)"
   ]
  },
  {
   "cell_type": "code",
   "execution_count": 116,
   "id": "faedb716-e075-4105-b7b2-04d7d61885e1",
   "metadata": {},
   "outputs": [
    {
     "data": {
      "text/plain": [
       "array([1, 2, 3, 4])"
      ]
     },
     "execution_count": 116,
     "metadata": {},
     "output_type": "execute_result"
    }
   ],
   "source": [
    "myArray\n"
   ]
  },
  {
   "cell_type": "code",
   "execution_count": 117,
   "id": "1fcb3daa-accf-4cf5-b1c7-ec9f2ad40370",
   "metadata": {},
   "outputs": [
    {
     "data": {
      "text/plain": [
       "2"
      ]
     },
     "execution_count": 117,
     "metadata": {},
     "output_type": "execute_result"
    }
   ],
   "source": [
    "# Get a value by its position index in the array (remember the index starts from 0)\n",
    "myArray[1]"
   ]
  },
  {
   "cell_type": "code",
   "execution_count": 118,
   "id": "1333736f-17fa-4749-b3f8-903a5c033750",
   "metadata": {},
   "outputs": [
    {
     "data": {
      "text/plain": [
       "array([2, 3, 4])"
      ]
     },
     "execution_count": 118,
     "metadata": {},
     "output_type": "execute_result"
    }
   ],
   "source": [
    "# Get vakyes in a range\n",
    "# myArray[1:3]\n",
    "myArray[1:]"
   ]
  },
  {
   "cell_type": "code",
   "execution_count": 119,
   "id": "5147ce3d-d37c-4e4d-9513-e7be645eb928",
   "metadata": {},
   "outputs": [
    {
     "data": {
      "text/plain": [
       "4"
      ]
     },
     "execution_count": 119,
     "metadata": {},
     "output_type": "execute_result"
    }
   ],
   "source": [
    "myArray[-1]"
   ]
  },
  {
   "cell_type": "code",
   "execution_count": 120,
   "id": "473cf025-e802-45fc-a9c2-ac8b85a68cad",
   "metadata": {},
   "outputs": [
    {
     "data": {
      "text/plain": [
       "array([3, 4])"
      ]
     },
     "execution_count": 120,
     "metadata": {},
     "output_type": "execute_result"
    }
   ],
   "source": [
    "myArray[-2:]"
   ]
  },
  {
   "cell_type": "code",
   "execution_count": null,
   "id": "b9422627",
   "metadata": {},
   "outputs": [],
   "source": []
  },
  {
   "cell_type": "code",
   "execution_count": 121,
   "id": "2e6cbece-7554-484b-affa-ab149fbc7ca9",
   "metadata": {},
   "outputs": [
    {
     "data": {
      "text/plain": [
       "array([3, 4])"
      ]
     },
     "execution_count": 121,
     "metadata": {},
     "output_type": "execute_result"
    }
   ],
   "source": [
    "# You can also select by logic statement\n",
    "myArray[myArray>2]"
   ]
  },
  {
   "cell_type": "code",
   "execution_count": null,
   "id": "0f33c240-d5f5-4f5a-9b9a-4782c0b8cb67",
   "metadata": {},
   "outputs": [],
   "source": []
  },
  {
   "cell_type": "markdown",
   "id": "8a9c42a9-5114-4637-b97a-98b27bdcaeae",
   "metadata": {},
   "source": [
    "## 2-D array\n",
    "* You can think it as a 2-D matrix where you have rows of numbers stacked on top of each other\n",
    "* To locate an element in the 2-D array, the general format is `array2D[rowidx,columnidx]` or `array2D[rowidx][columnidx]`\n",
    "* To select a range of elements, the general format is `array2D[rowidx1:rowidx2,columnidx1:columnidx2]`"
   ]
  },
  {
   "cell_type": "code",
   "execution_count": 122,
   "id": "0a8c79c0-d6bb-4a1a-926e-8cee5962731b",
   "metadata": {},
   "outputs": [
    {
     "data": {
      "text/plain": [
       "array([[0, 1, 2],\n",
       "       [3, 4, 5],\n",
       "       [6, 7, 8]])"
      ]
     },
     "execution_count": 122,
     "metadata": {},
     "output_type": "execute_result"
    }
   ],
   "source": [
    "myArray2D = np.arange(9).reshape(3,3)\n",
    "myArray2D"
   ]
  },
  {
   "cell_type": "code",
   "execution_count": 123,
   "id": "1e6c3871-b6e2-4ec9-9752-504995d96b0c",
   "metadata": {},
   "outputs": [
    {
     "data": {
      "text/plain": [
       "array([0, 1, 2])"
      ]
     },
     "execution_count": 123,
     "metadata": {},
     "output_type": "execute_result"
    }
   ],
   "source": [
    "# pick a row of the array/matrix\n",
    "myArray2D[0] # the 1st row"
   ]
  },
  {
   "cell_type": "code",
   "execution_count": 124,
   "id": "c2209f7a-5a57-43e5-b593-0c2c6b22e566",
   "metadata": {},
   "outputs": [
    {
     "data": {
      "text/plain": [
       "array([[0, 1, 2],\n",
       "       [3, 4, 5]])"
      ]
     },
     "execution_count": 124,
     "metadata": {},
     "output_type": "execute_result"
    }
   ],
   "source": [
    "# pick multiple rows\n",
    "myArray2D[0:2]"
   ]
  },
  {
   "cell_type": "code",
   "execution_count": 125,
   "id": "2e5d271c",
   "metadata": {},
   "outputs": [
    {
     "data": {
      "text/plain": [
       "4"
      ]
     },
     "execution_count": 125,
     "metadata": {},
     "output_type": "execute_result"
    }
   ],
   "source": [
    "myArray2D[1,1]"
   ]
  },
  {
   "cell_type": "code",
   "execution_count": null,
   "id": "12623ee6",
   "metadata": {},
   "outputs": [],
   "source": []
  },
  {
   "cell_type": "code",
   "execution_count": null,
   "id": "6b8d1895",
   "metadata": {},
   "outputs": [],
   "source": []
  },
  {
   "cell_type": "code",
   "execution_count": 126,
   "id": "27ad76fd-1afa-46d0-99bf-8e9fbcb87189",
   "metadata": {},
   "outputs": [
    {
     "data": {
      "text/plain": [
       "array([[0, 1],\n",
       "       [3, 4]])"
      ]
     },
     "execution_count": 126,
     "metadata": {},
     "output_type": "execute_result"
    }
   ],
   "source": [
    "# pick a subset of the array/matrix\n",
    "myArray2D[0:2,0:2]"
   ]
  },
  {
   "cell_type": "code",
   "execution_count": null,
   "id": "ff1868a9",
   "metadata": {},
   "outputs": [],
   "source": []
  },
  {
   "cell_type": "code",
   "execution_count": 127,
   "id": "854c7a2c",
   "metadata": {},
   "outputs": [
    {
     "data": {
      "text/plain": [
       "array([[0, 1, 2],\n",
       "       [3, 4, 5],\n",
       "       [6, 7, 8]])"
      ]
     },
     "execution_count": 127,
     "metadata": {},
     "output_type": "execute_result"
    }
   ],
   "source": [
    "myArray2D"
   ]
  },
  {
   "cell_type": "code",
   "execution_count": 128,
   "id": "12054ffa-cc68-41a5-b7da-22ab743581a8",
   "metadata": {},
   "outputs": [
    {
     "data": {
      "text/plain": [
       "array([7, 8])"
      ]
     },
     "execution_count": 128,
     "metadata": {},
     "output_type": "execute_result"
    }
   ],
   "source": [
    "# You can also select elements by logic statement\n",
    "myArray2D[myArray2D>6] # this way it'll automately output a 1-D arraya"
   ]
  },
  {
   "cell_type": "code",
   "execution_count": 129,
   "id": "2d43f1f8-0745-4e99-ad7f-1c4805833775",
   "metadata": {},
   "outputs": [
    {
     "data": {
      "text/plain": [
       "array([[False, False, False],\n",
       "       [False, False, False],\n",
       "       [False,  True,  True]])"
      ]
     },
     "execution_count": 129,
     "metadata": {},
     "output_type": "execute_result"
    }
   ],
   "source": [
    "myArray2D>6 # the mask you just applied to the previous code statement"
   ]
  },
  {
   "cell_type": "markdown",
   "id": "639ef689-eb57-41e4-929a-1097d7c8e7d5",
   "metadata": {},
   "source": [
    "## Broadcasting"
   ]
  },
  {
   "cell_type": "code",
   "execution_count": 130,
   "id": "94003df9-b239-4e19-b6e2-77ef48bc1f49",
   "metadata": {},
   "outputs": [
    {
     "data": {
      "text/plain": [
       "array([[1., 1., 1.],\n",
       "       [1., 1., 1.],\n",
       "       [1., 1., 1.]])"
      ]
     },
     "execution_count": 130,
     "metadata": {},
     "output_type": "execute_result"
    }
   ],
   "source": [
    "# You can assign a range of array element with one value\n",
    "array = np.ones((3,3))\n",
    "array"
   ]
  },
  {
   "cell_type": "code",
   "execution_count": 131,
   "id": "dd81ca30-a714-4146-bfe6-182220c9f3d1",
   "metadata": {},
   "outputs": [
    {
     "data": {
      "text/plain": [
       "array([[3., 3., 1.],\n",
       "       [3., 3., 1.],\n",
       "       [1., 1., 1.]])"
      ]
     },
     "execution_count": 131,
     "metadata": {},
     "output_type": "execute_result"
    }
   ],
   "source": [
    "array[0:2,0:2]=3\n",
    "array"
   ]
  },
  {
   "cell_type": "markdown",
   "id": "36f92378-edb2-4b8f-b27d-9ffc87060422",
   "metadata": {},
   "source": [
    "# Numpy Operations"
   ]
  },
  {
   "cell_type": "markdown",
   "id": "5eb39ba2-1a43-4ccf-9397-5be75b335d67",
   "metadata": {},
   "source": [
    "## Arithmetic Operations"
   ]
  },
  {
   "cell_type": "code",
   "execution_count": 132,
   "id": "35c65d98-3de5-4d92-b93f-19dae51279f5",
   "metadata": {},
   "outputs": [
    {
     "data": {
      "text/plain": [
       "array([[3., 3., 1.],\n",
       "       [3., 3., 1.],\n",
       "       [1., 1., 1.]])"
      ]
     },
     "execution_count": 132,
     "metadata": {},
     "output_type": "execute_result"
    }
   ],
   "source": [
    "array"
   ]
  },
  {
   "cell_type": "code",
   "execution_count": 133,
   "id": "609fc11e-6afe-481d-bab6-41620ca96796",
   "metadata": {},
   "outputs": [
    {
     "data": {
      "text/plain": [
       "array([[1., 1., 1.],\n",
       "       [1., 1., 1.],\n",
       "       [1., 1., 1.]])"
      ]
     },
     "execution_count": 133,
     "metadata": {},
     "output_type": "execute_result"
    }
   ],
   "source": [
    "array2 = np.ones((3,3))\n",
    "array2"
   ]
  },
  {
   "cell_type": "code",
   "execution_count": 134,
   "id": "fc8054bd-9baa-4fbe-abde-19d6fbe885fd",
   "metadata": {},
   "outputs": [
    {
     "data": {
      "text/plain": [
       "array([[4., 4., 2.],\n",
       "       [4., 4., 2.],\n",
       "       [2., 2., 2.]])"
      ]
     },
     "execution_count": 134,
     "metadata": {},
     "output_type": "execute_result"
    }
   ],
   "source": [
    "array + array2"
   ]
  },
  {
   "cell_type": "code",
   "execution_count": 135,
   "id": "f47f4b91-878d-47cc-9417-44d533b1a728",
   "metadata": {},
   "outputs": [
    {
     "data": {
      "text/plain": [
       "array([[2., 2., 0.],\n",
       "       [2., 2., 0.],\n",
       "       [0., 0., 0.]])"
      ]
     },
     "execution_count": 135,
     "metadata": {},
     "output_type": "execute_result"
    }
   ],
   "source": [
    "array - array2"
   ]
  },
  {
   "cell_type": "code",
   "execution_count": 136,
   "id": "e933440c-a2b0-48d0-813d-3531e2ccb313",
   "metadata": {},
   "outputs": [
    {
     "data": {
      "text/plain": [
       "array([[6., 6., 2.],\n",
       "       [6., 6., 2.],\n",
       "       [2., 2., 2.]])"
      ]
     },
     "execution_count": 136,
     "metadata": {},
     "output_type": "execute_result"
    }
   ],
   "source": [
    "array * 2"
   ]
  },
  {
   "cell_type": "code",
   "execution_count": 137,
   "id": "916b2807-e0c2-431e-b163-19f2a64effe4",
   "metadata": {},
   "outputs": [
    {
     "data": {
      "text/plain": [
       "array([[9., 9., 1.],\n",
       "       [9., 9., 1.],\n",
       "       [1., 1., 1.]])"
      ]
     },
     "execution_count": 137,
     "metadata": {},
     "output_type": "execute_result"
    }
   ],
   "source": [
    "array ** 2"
   ]
  },
  {
   "cell_type": "code",
   "execution_count": null,
   "id": "35d98a78-e2f2-4a36-ac91-44dd71e30933",
   "metadata": {},
   "outputs": [],
   "source": []
  },
  {
   "cell_type": "markdown",
   "id": "da38bbd2-375e-4f42-bc9c-8fc2c5f84086",
   "metadata": {},
   "source": [
    "## Universal Array Functions\n",
    "\n",
    "A universal function (or ufunc for short) is a function that operates on ndarrays in an element-by-element fashion, supporting array broadcasting, type casting, and several other standard features. That is, a ufunc is a “vectorized” wrapper for a function that takes a fixed number of specific inputs and produces a fixed number of specific outputs.\n",
    "\n",
    "More details on the official Numpy documentation at: https://numpy.org/doc/stable/reference/ufuncs.html"
   ]
  },
  {
   "cell_type": "code",
   "execution_count": 138,
   "id": "ba7edaa9-5627-44cc-84d1-aad84c35b313",
   "metadata": {},
   "outputs": [
    {
     "data": {
      "text/plain": [
       "array([[3., 3., 1.],\n",
       "       [3., 3., 1.],\n",
       "       [1., 1., 1.]])"
      ]
     },
     "execution_count": 138,
     "metadata": {},
     "output_type": "execute_result"
    }
   ],
   "source": [
    "array"
   ]
  },
  {
   "cell_type": "code",
   "execution_count": 139,
   "id": "b5a89bf4-d34f-4f77-8d25-e64da19cb502",
   "metadata": {},
   "outputs": [
    {
     "data": {
      "text/plain": [
       "array([[3., 3., 1.],\n",
       "       [3., 3., 1.],\n",
       "       [1., 1., 1.]])"
      ]
     },
     "execution_count": 139,
     "metadata": {},
     "output_type": "execute_result"
    }
   ],
   "source": [
    "np.sqrt(array ** 2)"
   ]
  },
  {
   "cell_type": "code",
   "execution_count": 140,
   "id": "eb3b0213-f3ac-4021-a569-af349bfcf7fd",
   "metadata": {},
   "outputs": [
    {
     "data": {
      "text/plain": [
       "array([[3., 3., 1.],\n",
       "       [3., 3., 1.],\n",
       "       [1., 1., 1.]])"
      ]
     },
     "execution_count": 140,
     "metadata": {},
     "output_type": "execute_result"
    }
   ],
   "source": [
    "(array ** 2)**(0.5)"
   ]
  },
  {
   "cell_type": "code",
   "execution_count": 141,
   "id": "6672c884-d1c6-4511-ae20-bca227282d83",
   "metadata": {},
   "outputs": [
    {
     "data": {
      "text/plain": [
       "array([[20.08553692, 20.08553692,  2.71828183],\n",
       "       [20.08553692, 20.08553692,  2.71828183],\n",
       "       [ 2.71828183,  2.71828183,  2.71828183]])"
      ]
     },
     "execution_count": 141,
     "metadata": {},
     "output_type": "execute_result"
    }
   ],
   "source": [
    "np.exp(array)"
   ]
  },
  {
   "cell_type": "code",
   "execution_count": 142,
   "id": "e4f8b180-3834-448f-abf4-3c736e3cbde6",
   "metadata": {},
   "outputs": [
    {
     "data": {
      "text/plain": [
       "array([[1.09861229, 1.09861229, 0.        ],\n",
       "       [1.09861229, 1.09861229, 0.        ],\n",
       "       [0.        , 0.        , 0.        ]])"
      ]
     },
     "execution_count": 142,
     "metadata": {},
     "output_type": "execute_result"
    }
   ],
   "source": [
    "np.log(array)"
   ]
  },
  {
   "cell_type": "code",
   "execution_count": null,
   "id": "2ad58f48-5ed5-4d60-87c8-9187f69d8ce8",
   "metadata": {},
   "outputs": [],
   "source": []
  },
  {
   "cell_type": "code",
   "execution_count": null,
   "id": "41b61e1b-ec1b-46b3-8fb0-43bacbe15915",
   "metadata": {},
   "outputs": [],
   "source": []
  },
  {
   "cell_type": "markdown",
   "id": "77304353-f76c-4a44-bca5-794f2091800e",
   "metadata": {},
   "source": [
    "The **sigmoid function** $f(x) = \\frac{1}{1+e^{-x}}$"
   ]
  },
  {
   "cell_type": "code",
   "execution_count": 143,
   "id": "c3677be4-62d5-474b-b942-7bb14f87ff5e",
   "metadata": {},
   "outputs": [],
   "source": [
    "def sigmoid(x):\n",
    "    output = 1/(1 + np.exp(-x))\n",
    "    return output"
   ]
  },
  {
   "cell_type": "code",
   "execution_count": 144,
   "id": "aa37a0da-cc7e-468a-bfea-24a433c1a2f5",
   "metadata": {},
   "outputs": [
    {
     "data": {
      "text/plain": [
       "0.5"
      ]
     },
     "execution_count": 144,
     "metadata": {},
     "output_type": "execute_result"
    }
   ],
   "source": [
    "sigmoid(0)"
   ]
  },
  {
   "cell_type": "code",
   "execution_count": 145,
   "id": "227115f8-c661-43c4-8113-4ceaa5995e70",
   "metadata": {},
   "outputs": [
    {
     "data": {
      "text/plain": [
       "array([[3., 3., 1.],\n",
       "       [3., 3., 1.],\n",
       "       [1., 1., 1.]])"
      ]
     },
     "execution_count": 145,
     "metadata": {},
     "output_type": "execute_result"
    }
   ],
   "source": [
    "array"
   ]
  },
  {
   "cell_type": "code",
   "execution_count": 146,
   "id": "a1cdb17d-7846-4ca6-b829-5637f502e6f1",
   "metadata": {},
   "outputs": [
    {
     "data": {
      "text/plain": [
       "array([[0.95257413, 0.95257413, 0.73105858],\n",
       "       [0.95257413, 0.95257413, 0.73105858],\n",
       "       [0.73105858, 0.73105858, 0.73105858]])"
      ]
     },
     "execution_count": 146,
     "metadata": {},
     "output_type": "execute_result"
    }
   ],
   "source": [
    "sigmoid(array)"
   ]
  },
  {
   "cell_type": "code",
   "execution_count": null,
   "id": "16d8deef-8501-4a76-9b0e-3842e39757af",
   "metadata": {},
   "outputs": [],
   "source": []
  },
  {
   "cell_type": "code",
   "execution_count": 149,
   "id": "e52b775c",
   "metadata": {},
   "outputs": [
    {
     "data": {
      "image/png": "[encoded data removed]",
      "text/plain": [
       "<Figure size 640x480 with 1 Axes>"
      ]
     },
     "metadata": {},
     "output_type": "display_data"
    }
   ],
   "source": [
    "import matplotlib.pyplot as plt\n",
    "xs = np.linspace(-10, 10, 1000)\n",
    "ys = [sigmoid(x) for x in xs]\n",
    "plt.plot(xs, ys)\n",
    "plt.title(\"Sigmoid Function\")\n",
    "plt.show()"
   ]
  },
  {
   "cell_type": "code",
   "execution_count": null,
   "id": "349a288b-2164-4f4b-8aab-df38d2ead58c",
   "metadata": {},
   "outputs": [],
   "source": []
  },
  {
   "cell_type": "markdown",
   "id": "43cae9dd-5a8d-463d-8b09-652076212d9b",
   "metadata": {},
   "source": [
    "# Linear Algebra - Matrix Operations"
   ]
  },
  {
   "cell_type": "markdown",
   "id": "6e1fd8d7-1d79-4157-a38d-326f77a1414b",
   "metadata": {},
   "source": [
    "## Add and subtract a scalar value to a matrix (covered above)"
   ]
  },
  {
   "cell_type": "markdown",
   "id": "a7467931-bfd3-46b0-ae86-9e21a862d1cb",
   "metadata": {},
   "source": [
    "## Adding or subtracting two matrices\n",
    "Consider two small $2 \\times 2$ matrices, where $2 \\times 2$ denotes the \\# of rows $\\times$ the \\# of columns.  Let $A$=$\\bigl( \\begin{smallmatrix} a_{11} & a_{12} \\\\ a_{21} & a_{22} \\end{smallmatrix} \\bigr)$ and $B$=$\\bigl( \\begin{smallmatrix} b_{11} & b_{12} \\\\ b_{21} & b_{22} \\end{smallmatrix} \\bigr)$.  To find the result of $A-B$, simply subtract each element of A with the corresponding element of B:\n",
    "\n",
    "$$\n",
    "\\begin{equation}\n",
    "\tA -B =\n",
    "\t\\begin{bmatrix}\n",
    "\t  a_{11} & a_{12} \\\\\n",
    "\t  a_{21} & a_{22} \t\n",
    "\t\\end{bmatrix} -\n",
    "\t\\begin{bmatrix} b_{11} & b_{12} \\\\\n",
    "\t  b_{21} & b_{22}\n",
    "\t\\end{bmatrix}\n",
    "\t=\n",
    "\t\\begin{bmatrix}\n",
    "\t  a_{11}-b_{11} & a_{12}-b_{12} \\\\\n",
    "\t  a_{21}-b_{21} & a_{22}-b_{22} \t\n",
    "\t\\end{bmatrix}\n",
    "\\end{equation}\n",
    "$$\n",
    "\n",
    "Addition works exactly the same way:\n",
    "\n",
    "$$\n",
    "\\begin{equation}\n",
    "\tA + B =\n",
    "\t\\begin{bmatrix}\n",
    "\t  a_{11} & a_{12} \\\\\n",
    "\t  a_{21} & a_{22} \t\n",
    "\t\\end{bmatrix} +\n",
    "\t\\begin{bmatrix} b_{11} & b_{12} \\\\\n",
    "\t  b_{21} & b_{22}\n",
    "\t\\end{bmatrix}\n",
    "\t=\n",
    "\t\\begin{bmatrix}\n",
    "\t  a_{11}+b_{11} & a_{12}+b_{12} \\\\\n",
    "\t  a_{21}+b_{21} & a_{22}+b_{22} \t\n",
    "\t\\end{bmatrix}\n",
    "\\end{equation}\n",
    "$$\n",
    "\n",
    "An important point to know about matrix addition and subtraction is that it is only defined when $A$ and $B$ are of the same size.  Here, both are $2 \\times 2$.  Since operations are performed element by element, these two matrices must be conformable- and for addition and subtraction that means they must have the same numbers of rows and columns.  I like to be explicit about the dimensions of matrices for checking conformability as I write the equations, so write\n",
    "\n",
    "$$\n",
    "A_{2 \\times 2} + B_{2 \\times 2}= \\begin{bmatrix}\n",
    "  a_{11}+b_{11} & a_{12}+b_{12} \\\\\n",
    "  a_{21}+b_{21} & a_{22}+b_{22} \t\n",
    "\\end{bmatrix}_{2 \\times 2}\n",
    "$$\n",
    "\n",
    "Notice that the result of a matrix addition or subtraction operation is always of the same dimension as the two operands.\n",
    "\n",
    "Let's define another matrix, B, that is also $2 \\times 2$ and add it to A:"
   ]
  },
  {
   "cell_type": "code",
   "execution_count": 150,
   "id": "34b07491-f59d-4ad2-a7e8-81ee9b153671",
   "metadata": {},
   "outputs": [
    {
     "data": {
      "text/plain": [
       "array([[-2.31098877,  0.42965001],\n",
       "       [-0.25068191,  1.38454493]])"
      ]
     },
     "execution_count": 150,
     "metadata": {},
     "output_type": "execute_result"
    }
   ],
   "source": [
    "A = np.random.randn(2,2)\n",
    "A"
   ]
  },
  {
   "cell_type": "code",
   "execution_count": 151,
   "id": "05592a89-c67a-4fad-8c05-68e10b0a0d07",
   "metadata": {},
   "outputs": [
    {
     "data": {
      "text/plain": [
       "array([[1., 0.],\n",
       "       [0., 1.]])"
      ]
     },
     "execution_count": 151,
     "metadata": {},
     "output_type": "execute_result"
    }
   ],
   "source": [
    "B = np.eye(2)\n",
    "B"
   ]
  },
  {
   "cell_type": "code",
   "execution_count": 152,
   "id": "b6d8f18f-d6f2-413d-afea-29d7053db684",
   "metadata": {},
   "outputs": [
    {
     "data": {
      "text/plain": [
       "array([[-1.31098877,  0.42965001],\n",
       "       [-0.25068191,  2.38454493]])"
      ]
     },
     "execution_count": 152,
     "metadata": {},
     "output_type": "execute_result"
    }
   ],
   "source": [
    "A + B"
   ]
  },
  {
   "cell_type": "code",
   "execution_count": 153,
   "id": "613742a8-190d-4a3d-9fc3-2d933af688c6",
   "metadata": {},
   "outputs": [
    {
     "data": {
      "text/plain": [
       "array([[-3.31098877,  0.42965001],\n",
       "       [-0.25068191,  0.38454493]])"
      ]
     },
     "execution_count": 153,
     "metadata": {},
     "output_type": "execute_result"
    }
   ],
   "source": [
    "A - B"
   ]
  },
  {
   "cell_type": "markdown",
   "id": "2e550e32-bf23-410e-949c-f799a5b58406",
   "metadata": {},
   "source": [
    "## Multiply the Matrix with a scalar value (already covered above)"
   ]
  },
  {
   "cell_type": "markdown",
   "id": "275bbce4-b3be-41c0-86e4-8961d2d154f9",
   "metadata": {},
   "source": [
    "## Matrix-Matrix Multiplication\n",
    "\n",
    "Now, consider the $2 \\cdot 1$ vector $C=\\bigl( \\begin{smallmatrix} c_{11} \\\\\n",
    "  c_{21}\n",
    "\\end{smallmatrix} \\bigr)$  \n",
    "\n",
    "Consider multiplying matrix $A_{2 \\cdot 2}$ and the vector $C_{2 \\cdot 1}$.  Unlike the addition and subtraction case, this product is defined.  Here, conformability depends not on the row **and** column dimensions, but rather on the column dimensions of the first operand and the row dimensions of the second operand.  We can write this operation as follows\n",
    "\n",
    "$$\n",
    "\\begin{equation}\n",
    "\tA_{2 \\cdot 2} \\cdot C_{2 \\cdot 1} = \n",
    "\t\\begin{bmatrix}\n",
    "\t  a_{11} & a_{12} \\\\\n",
    "\t  a_{21} & a_{22} \t\n",
    "\t\\end{bmatrix}_{2 \\cdot 2}\n",
    "    \\cdot\n",
    "    \\begin{bmatrix}\n",
    "\tc_{11} \\\\\n",
    "\tc_{21}\n",
    "\t\\end{bmatrix}_{2 \\cdot 1}\n",
    "\t=\n",
    "\t\\begin{bmatrix}\n",
    "\t  a_{11}c_{11} + a_{12}c_{21} \\\\\n",
    "\t  a_{21}c_{11} + a_{22}c_{21} \t\n",
    "\t\\end{bmatrix}_{2 \\cdot 1}\n",
    "\\end{equation}\n",
    "$$\n",
    "\n",
    "Alternatively, consider a matrix C of dimension $2 \\cdot 3$ and a matrix A of dimension $3 \\cdot 2$\n",
    "\n",
    "$$\n",
    "\\begin{equation}\n",
    "\tA_{3 \\cdot 2}=\\begin{bmatrix}\n",
    "\t  a_{11} & a_{12} \\\\\n",
    "\t  a_{21} & a_{22} \\\\\n",
    "\t  a_{31} & a_{32} \t\n",
    "\t\\end{bmatrix}_{3 \\cdot 2}\n",
    "\t,\n",
    "\tC_{2 \\cdot 3} = \n",
    "\t\\begin{bmatrix}\n",
    "\t\t  c_{11} & c_{12} & c_{13} \\\\\n",
    "\t\t  c_{21} & c_{22} & c_{23} \\\\\n",
    "\t\\end{bmatrix}_{2 \\cdot 3}\n",
    "\t\\end{equation}\n",
    "$$\n",
    "\n",
    "Here, A $\\cdot$ C is\n",
    "\n",
    "$$\n",
    "\\begin{align}\n",
    "\tA_{3 \\cdot 2} \\cdot C_{2 \\cdot 3}=&\n",
    "\t\\begin{bmatrix}\n",
    "\t  a_{11} & a_{12} \\\\\n",
    "\t  a_{21} & a_{22} \\\\\n",
    "\t  a_{31} & a_{32} \t\n",
    "\t\\end{bmatrix}_{3 \\cdot 2}\n",
    "\t\\cdot\n",
    "\t\\begin{bmatrix}\n",
    "\t  c_{11} & c_{12} & c_{13} \\\\\n",
    "\t  c_{21} & c_{22} & c_{23} \n",
    "\t\\end{bmatrix}_{2 \\cdot 3} \\\\\n",
    "\t=&\n",
    "\t\\begin{bmatrix}\n",
    "\t  a_{11} c_{11}+a_{12} c_{21} & a_{11} c_{12}+a_{12} c_{22} & a_{11} c_{13}+a_{12} c_{23} \\\\\n",
    "\t  a_{21} c_{11}+a_{22} c_{21} & a_{21} c_{12}+a_{22} c_{22} & a_{21} c_{13}+a_{22} c_{23} \\\\\n",
    "\t  a_{31} c_{11}+a_{32} c_{21} & a_{31} c_{12}+a_{32} c_{22} & a_{31} c_{13}+a_{32} c_{23}\n",
    "\t\\end{bmatrix}_{3 \\cdot 3}\t\n",
    "\\end{align}\n",
    "$$\n",
    "\n",
    "So in general, $X_{r_x \\cdot c_x} \\cdot Y_{r_y \\cdot c_y}$ we have two important things to remember: \n",
    "\n",
    "* For conformability in matrix multiplication, $c_x=r_y$, or the columns in the first operand must be equal to the rows of the second operand.\n",
    "* The result will be of dimension $r_x \\cdot c_y$, or of dimensions equal to the rows of the first operand and columns equal to columns of the second operand.\n",
    "\n",
    "Given these facts, you should convince yourself that matrix multiplication is not generally commutative, that the relationship $X \\cdot Y = Y \\cdot X$ does **not** hold in all cases.\n",
    "For this reason, we will always be very explicit about whether we are pre multiplying ($X \\cdot Y$) or post multiplying ($Y \\cdot X$) the vectors/matrices $X$ and $Y$.\n",
    "\n",
    "For more information on this topic, see this\n",
    "http://en.wikipedia.org/wiki/Matrix_multiplication."
   ]
  },
  {
   "cell_type": "code",
   "execution_count": 154,
   "id": "b9cdd732-8380-475b-8190-44c03d2da11e",
   "metadata": {},
   "outputs": [
    {
     "data": {
      "text/plain": [
       "array([[0, 1, 2],\n",
       "       [3, 4, 5],\n",
       "       [6, 7, 8]])"
      ]
     },
     "execution_count": 154,
     "metadata": {},
     "output_type": "execute_result"
    }
   ],
   "source": [
    "A = np.arange(9).reshape(3,3)\n",
    "A"
   ]
  },
  {
   "cell_type": "code",
   "execution_count": 155,
   "id": "de0edbac-ae27-4097-99f5-adb8506e97b8",
   "metadata": {
    "slideshow": {
     "slide_type": "subslide"
    }
   },
   "outputs": [
    {
     "data": {
      "text/plain": [
       "array([[1., 0., 0.],\n",
       "       [0., 1., 0.],\n",
       "       [0., 0., 1.]])"
      ]
     },
     "execution_count": 155,
     "metadata": {},
     "output_type": "execute_result"
    }
   ],
   "source": [
    "C = np.eye(3)\n",
    "C"
   ]
  },
  {
   "cell_type": "code",
   "execution_count": 156,
   "id": "84efc751-e4c7-4ee0-acc8-764ffa8931c0",
   "metadata": {},
   "outputs": [
    {
     "data": {
      "text/plain": [
       "array([[0., 1., 2.],\n",
       "       [3., 4., 5.],\n",
       "       [6., 7., 8.]])"
      ]
     },
     "execution_count": 156,
     "metadata": {},
     "output_type": "execute_result"
    }
   ],
   "source": [
    "A.dot(C)"
   ]
  },
  {
   "cell_type": "code",
   "execution_count": 157,
   "id": "48243f26-7685-4348-8095-a04112611be6",
   "metadata": {},
   "outputs": [
    {
     "data": {
      "text/plain": [
       "array([[0., 1., 2.],\n",
       "       [3., 4., 5.],\n",
       "       [6., 7., 8.]])"
      ]
     },
     "execution_count": 157,
     "metadata": {},
     "output_type": "execute_result"
    }
   ],
   "source": [
    "np.dot(A, C)"
   ]
  },
  {
   "cell_type": "code",
   "execution_count": 158,
   "id": "e216dded-da5d-458a-8a3a-8c4e8504d604",
   "metadata": {},
   "outputs": [
    {
     "data": {
      "text/plain": [
       "array([[1., 1., 1.],\n",
       "       [1., 1., 1.],\n",
       "       [1., 1., 1.]])"
      ]
     },
     "execution_count": 158,
     "metadata": {},
     "output_type": "execute_result"
    }
   ],
   "source": [
    "C = np.ones(shape=(3,3))\n",
    "C"
   ]
  },
  {
   "cell_type": "code",
   "execution_count": 159,
   "id": "7bef721a-9a50-48ab-8677-4977d1f9129f",
   "metadata": {},
   "outputs": [
    {
     "data": {
      "text/plain": [
       "array([[ 3.,  3.,  3.],\n",
       "       [12., 12., 12.],\n",
       "       [21., 21., 21.]])"
      ]
     },
     "execution_count": 159,
     "metadata": {},
     "output_type": "execute_result"
    }
   ],
   "source": [
    "A.dot(C)"
   ]
  },
  {
   "cell_type": "code",
   "execution_count": null,
   "id": "aa57b033",
   "metadata": {},
   "outputs": [],
   "source": []
  },
  {
   "cell_type": "code",
   "execution_count": null,
   "id": "50384d0f",
   "metadata": {},
   "outputs": [],
   "source": []
  },
  {
   "cell_type": "markdown",
   "id": "d2fb3b75-15a3-4eb0-b851-92450b0fe7a0",
   "metadata": {},
   "source": [
    "## Matrix Division\n",
    "The term matrix division is actually a misnomer.  To divide in a matrix algebra world we first need to invert the matrix.  It is useful to consider the analog case in a scalar work.  Suppose we want to divide the $f$ by $g$.  We could do this in two different ways:\n",
    "$$\n",
    "\\begin{equation}\n",
    "\t\\frac{f}{g}=f \\times g^{-1}.\n",
    "\\end{equation}\n",
    "$$\n",
    "In a scalar seeting, these are equivalent ways of solving the division problem.  The second one requires two steps: first we invert g and then we multiply f times g.  In a matrix world, we need to think about this second approach.  First we have to invert the matrix g and then we will need to pre or post multiply depending on the exact situation we encounter (this is intended to be vague for now).\n",
    "\n",
    "### Inverting a Matrix\n",
    "\n",
    "As before, consider the square $2 \\times 2$ matrix $A$=$\\bigl( \\begin{smallmatrix} a_{11} & a_{12} \\\\ a_{21} & a_{22}\\end{smallmatrix} \\bigr)$.  Let the inverse of matrix A (denoted as $A^{-1}$) be \n",
    "\n",
    "$$\n",
    "\\begin{equation}\n",
    "\tA^{-1}=\\begin{bmatrix}\n",
    "             a_{11} & a_{12} \\\\\n",
    "\t\t     a_{21} & a_{22} \n",
    "           \\end{bmatrix}^{-1}=\\frac{1}{a_{11}a_{22}-a_{12}a_{21}}\t\\begin{bmatrix}\n",
    "\t\t             a_{22} & -a_{12} \\\\\n",
    "\t\t\t\t     -a_{21} & a_{11} \n",
    "\t\t           \\end{bmatrix}\n",
    "\\end{equation}\n",
    "$$\n",
    "\n",
    "The inverted matrix $A^{-1}$ has a useful property:\n",
    "$$\n",
    "\\begin{equation}\n",
    "\tA \\times A^{-1}=A^{-1} \\times A=I\n",
    "\\end{equation}\n",
    "$$\n",
    "where I, the identity matrix (the matrix equivalent of the scalar value 1), is\n",
    "$$\n",
    "\\begin{equation}\n",
    "\tI_{2 \\times 2}=\\begin{bmatrix}\n",
    "             1 & 0 \\\\\n",
    "\t\t     0 & 1 \n",
    "           \\end{bmatrix}\n",
    "\\end{equation}\n",
    "$$\n",
    "furthermore, $A \\times I = A$ and $I \\times A = A$.\n",
    "\n",
    "An important feature about matrix inversion is that it is undefined if (in the $2 \\times 2$ case), $a_{11}a_{22}-a_{12}a_{21}=0$.  If this relationship is equal to zero the inverse of A does not exist.  If this term is very close to zero, an inverse may exist but $A^{-1}$ may be poorly conditioned meaning it is prone to rounding error and is likely not well identified computationally.  The term $a_{11}a_{22}-a_{12}a_{21}$ is the determinant of matrix A, and for square matrices of size greater than $2 \\times 2$, if equal to zero indicates that you have a problem with your data matrix (columns are linearly dependent on other columns).  The inverse of matrix A exists if A is square and is of full rank (ie. the columns of A are not linear combinations of other columns of A).\n",
    "\n",
    "For more information on this topic, see this\n",
    "http://en.wikipedia.org/wiki/Matrix_inversion, for example, on inverting matrices."
   ]
  },
  {
   "cell_type": "code",
   "execution_count": 160,
   "id": "2703d4e4-70b1-414e-85f5-a19341e7842e",
   "metadata": {},
   "outputs": [
    {
     "data": {
      "text/plain": [
       "array([[ 1.1827346 ,  0.01906542, -0.0461591 ],\n",
       "       [ 1.50885314,  0.35147036,  0.58735153],\n",
       "       [ 0.50081581,  1.74293136,  1.37651093]])"
      ]
     },
     "execution_count": 160,
     "metadata": {},
     "output_type": "execute_result"
    }
   ],
   "source": [
    "A = np.random.randn(3,3)\n",
    "A"
   ]
  },
  {
   "cell_type": "code",
   "execution_count": 161,
   "id": "8ab3f69e-b3c8-47d4-a05b-3a4bd7a65df3",
   "metadata": {},
   "outputs": [
    {
     "data": {
      "text/plain": [
       "array([[ 0.68706109,  0.13577545, -0.03489532],\n",
       "       [ 2.26869239, -2.10118257,  0.97264291],\n",
       "       [-3.12258049,  2.61110787, -0.49238527]])"
      ]
     },
     "execution_count": 161,
     "metadata": {},
     "output_type": "execute_result"
    }
   ],
   "source": [
    "Ainv = np.linalg.inv(A)\n",
    "Ainv"
   ]
  },
  {
   "cell_type": "code",
   "execution_count": 162,
   "id": "6838b8e8-9430-432c-a7d1-197dc9685391",
   "metadata": {
    "scrolled": true
   },
   "outputs": [
    {
     "data": {
      "text/plain": [
       "array([[ 1.00000000e+00, -6.58992274e-17, -2.35354318e-17],\n",
       "       [-8.01831307e-17,  1.00000000e+00, -4.51713274e-19],\n",
       "       [ 4.86058448e-16, -2.22656983e-16,  1.00000000e+00]])"
      ]
     },
     "execution_count": 162,
     "metadata": {},
     "output_type": "execute_result"
    }
   ],
   "source": [
    "A.dot(Ainv)"
   ]
  },
  {
   "cell_type": "code",
   "execution_count": 163,
   "id": "578f8083-68af-43b7-bcd8-b6814c663283",
   "metadata": {},
   "outputs": [
    {
     "data": {
      "text/plain": [
       "array([[ 1., -0., -0.],\n",
       "       [-0.,  1., -0.],\n",
       "       [ 0., -0.,  1.]])"
      ]
     },
     "execution_count": 163,
     "metadata": {},
     "output_type": "execute_result"
    }
   ],
   "source": [
    "np.round(A.dot(Ainv),2)"
   ]
  },
  {
   "cell_type": "code",
   "execution_count": null,
   "id": "c167db79",
   "metadata": {},
   "outputs": [],
   "source": []
  },
  {
   "cell_type": "code",
   "execution_count": 164,
   "id": "a36540c8",
   "metadata": {},
   "outputs": [
    {
     "data": {
      "text/plain": [
       "0.0"
      ]
     },
     "execution_count": 164,
     "metadata": {},
     "output_type": "execute_result"
    }
   ],
   "source": [
    "round(0.00000001, 2)"
   ]
  },
  {
   "cell_type": "code",
   "execution_count": null,
   "id": "d167b6ea",
   "metadata": {},
   "outputs": [],
   "source": []
  },
  {
   "cell_type": "code",
   "execution_count": 165,
   "id": "6a417ba4-c736-4527-a2a9-73561ad5a2da",
   "metadata": {},
   "outputs": [
    {
     "data": {
      "text/plain": [
       "array([[1.23, 2.34, 3.45],\n",
       "       [6.78, 7.89, 8.91]])"
      ]
     },
     "execution_count": 165,
     "metadata": {},
     "output_type": "execute_result"
    }
   ],
   "source": [
    "A = np.array([1.23, 2.34, 3.45, 6.78, 7.89, 8.91]).reshape(2,3)\n",
    "A"
   ]
  },
  {
   "cell_type": "code",
   "execution_count": 166,
   "id": "afaedef7-2ca1-429e-a737-cc7b528221ae",
   "metadata": {},
   "outputs": [
    {
     "data": {
      "text/plain": [
       "array([[1.2, 2.3, 3.4],\n",
       "       [6.8, 7.9, 8.9]])"
      ]
     },
     "execution_count": 166,
     "metadata": {},
     "output_type": "execute_result"
    }
   ],
   "source": [
    "np.round(A,1)"
   ]
  },
  {
   "cell_type": "code",
   "execution_count": null,
   "id": "ee6f5c28-a6fd-44bf-b457-f72df1c46727",
   "metadata": {},
   "outputs": [],
   "source": []
  },
  {
   "cell_type": "markdown",
   "id": "703d907c-9ce5-4f20-9b0c-943ff78347ae",
   "metadata": {},
   "source": [
    "## Transpose a Matrix\n",
    "\n",
    "At times it is useful to pivot a matrix for conformability- that is in order to matrix divide or multiply, we need to switch the rows and column dimensions of matrices.  Consider the matrix\n",
    "$$\n",
    "\\begin{equation}\n",
    "\tA_{3 \\times 2}=\\begin{bmatrix}\n",
    "\t  a_{11} & a_{12} \\\\\n",
    "\t  a_{21} & a_{22} \\\\\n",
    "\t  a_{31} & a_{32} \t\n",
    "\t\\end{bmatrix}_{3 \\times 2}\t\n",
    "\\end{equation}\n",
    "$$\n",
    "The transpose of A (denoted as $A^{\\prime}$) is\n",
    "$$\n",
    "\\begin{equation}\n",
    "   A^{\\prime}=\\begin{bmatrix}\n",
    "\t  a_{11} & a_{21} & a_{31} \\\\\n",
    "\t  a_{12} & a_{22} & a_{32} \\\\\n",
    "\t\\end{bmatrix}_{2 \\times 3}\n",
    "\\end{equation}\n",
    "$$"
   ]
  },
  {
   "cell_type": "code",
   "execution_count": 167,
   "id": "0fc84cb5-664d-4334-b0fd-aadf684a1e49",
   "metadata": {},
   "outputs": [],
   "source": [
    "A = np.arange(6).reshape((6,1))\n",
    "B = np.arange(6).reshape((1,6))"
   ]
  },
  {
   "cell_type": "code",
   "execution_count": 168,
   "id": "25d2ac20-d0a0-4b69-8767-2f5a72087042",
   "metadata": {},
   "outputs": [
    {
     "data": {
      "text/plain": [
       "array([[0],\n",
       "       [1],\n",
       "       [2],\n",
       "       [3],\n",
       "       [4],\n",
       "       [5]])"
      ]
     },
     "execution_count": 168,
     "metadata": {},
     "output_type": "execute_result"
    }
   ],
   "source": [
    "A"
   ]
  },
  {
   "cell_type": "code",
   "execution_count": 169,
   "id": "31d16157-2b33-4c5b-9226-01ee92ecff47",
   "metadata": {},
   "outputs": [
    {
     "data": {
      "text/plain": [
       "array([[0, 1, 2, 3, 4, 5]])"
      ]
     },
     "execution_count": 169,
     "metadata": {},
     "output_type": "execute_result"
    }
   ],
   "source": [
    "B"
   ]
  },
  {
   "cell_type": "code",
   "execution_count": 170,
   "id": "479f7e44-f622-42a5-bb22-8f1fa41f6eff",
   "metadata": {},
   "outputs": [
    {
     "data": {
      "text/plain": [
       "array([[0, 1, 2, 3, 4, 5]])"
      ]
     },
     "execution_count": 170,
     "metadata": {},
     "output_type": "execute_result"
    }
   ],
   "source": [
    "A.T"
   ]
  },
  {
   "cell_type": "code",
   "execution_count": 171,
   "id": "af63e008-9717-4943-98e7-c43bd3efe33c",
   "metadata": {},
   "outputs": [
    {
     "data": {
      "text/plain": [
       "array([[0],\n",
       "       [1],\n",
       "       [2],\n",
       "       [3],\n",
       "       [4],\n",
       "       [5]])"
      ]
     },
     "execution_count": 171,
     "metadata": {},
     "output_type": "execute_result"
    }
   ],
   "source": [
    "B.T"
   ]
  },
  {
   "cell_type": "code",
   "execution_count": 172,
   "id": "b67bc14d-3dbb-4fb2-ac35-2cb21210e82c",
   "metadata": {},
   "outputs": [
    {
     "data": {
      "text/plain": [
       "array([[ 0.81649014,  0.59690292],\n",
       "       [-1.1475457 ,  0.30884073],\n",
       "       [ 0.58147358,  0.33195622]])"
      ]
     },
     "execution_count": 172,
     "metadata": {},
     "output_type": "execute_result"
    }
   ],
   "source": [
    "A = np.random.randn(3,2)\n",
    "A"
   ]
  },
  {
   "cell_type": "code",
   "execution_count": 173,
   "id": "b46420b8-0a5d-4461-bd71-44013a736467",
   "metadata": {},
   "outputs": [
    {
     "data": {
      "text/plain": [
       "array([[ 0.81649014, -1.1475457 ,  0.58147358],\n",
       "       [ 0.59690292,  0.30884073,  0.33195622]])"
      ]
     },
     "execution_count": 173,
     "metadata": {},
     "output_type": "execute_result"
    }
   ],
   "source": [
    "A.T"
   ]
  },
  {
   "cell_type": "code",
   "execution_count": 174,
   "id": "c5543c5f-69a9-4e3d-8664-de41bdd128c8",
   "metadata": {},
   "outputs": [
    {
     "data": {
      "text/plain": [
       "(2, 3)"
      ]
     },
     "execution_count": 174,
     "metadata": {},
     "output_type": "execute_result"
    }
   ],
   "source": [
    "A.T.shape"
   ]
  },
  {
   "cell_type": "code",
   "execution_count": 175,
   "id": "c5438643-89a2-4629-a18e-477748bde094",
   "metadata": {},
   "outputs": [
    {
     "data": {
      "text/plain": [
       "2"
      ]
     },
     "execution_count": 175,
     "metadata": {},
     "output_type": "execute_result"
    }
   ],
   "source": [
    "A.T.ndim"
   ]
  },
  {
   "cell_type": "code",
   "execution_count": null,
   "id": "561ac605",
   "metadata": {},
   "outputs": [],
   "source": []
  },
  {
   "cell_type": "markdown",
   "id": "0f8159b8-2712-4728-9616-91133e8ba992",
   "metadata": {},
   "source": [
    "One important property of transposing a matrix is the transpose of a product of two matrices.  Let matrix A be of dimension $N \\times M$ and let B of of dimension $M \\times P$.  Then\n",
    "$$\n",
    "\\begin{equation}\n",
    "\t(AB)^{\\prime}=B^{\\prime}A^{\\prime}\n",
    "\\end{equation}\n",
    "$$\n",
    "For more information, see this http://en.wikipedia.org/wiki/Matrix_transposition on matrix transposition.  This is also easy to implement:"
   ]
  },
  {
   "cell_type": "code",
   "execution_count": 176,
   "id": "73e625ca-9f20-4fee-98c0-ca521971704a",
   "metadata": {},
   "outputs": [],
   "source": [
    "A = np.arange(6).reshape((3,2))\n",
    "B = np.arange(8).reshape((2,4))"
   ]
  },
  {
   "cell_type": "code",
   "execution_count": 177,
   "id": "30b0c928-f9eb-40fe-b6f5-23f602c423b8",
   "metadata": {},
   "outputs": [
    {
     "data": {
      "text/plain": [
       "array([[0, 1],\n",
       "       [2, 3],\n",
       "       [4, 5]])"
      ]
     },
     "execution_count": 177,
     "metadata": {},
     "output_type": "execute_result"
    }
   ],
   "source": [
    "A"
   ]
  },
  {
   "cell_type": "code",
   "execution_count": 178,
   "id": "e7052a84-c714-46b4-b589-3d4cc114dc6c",
   "metadata": {},
   "outputs": [
    {
     "data": {
      "text/plain": [
       "array([[0, 1, 2, 3],\n",
       "       [4, 5, 6, 7]])"
      ]
     },
     "execution_count": 178,
     "metadata": {},
     "output_type": "execute_result"
    }
   ],
   "source": [
    "B"
   ]
  },
  {
   "cell_type": "code",
   "execution_count": 179,
   "id": "2c6fdd00-401f-44c7-9d6b-690ac3866647",
   "metadata": {},
   "outputs": [
    {
     "name": "stdout",
     "output_type": "stream",
     "text": [
      "[[ 4 12 20]\n",
      " [ 5 17 29]\n",
      " [ 6 22 38]\n",
      " [ 7 27 47]]\n",
      "\n",
      "\n",
      "Is identical to:\n",
      "\n",
      "\n",
      "[[ 4 12 20]\n",
      " [ 5 17 29]\n",
      " [ 6 22 38]\n",
      " [ 7 27 47]]\n"
     ]
    }
   ],
   "source": [
    "print(B.T.dot(A.T))\n",
    "print('\\n')\n",
    "print(\"Is identical to:\")\n",
    "print('\\n')\n",
    "print((A.dot(B)).T)"
   ]
  },
  {
   "cell_type": "code",
   "execution_count": null,
   "id": "2942d2e4-476d-4537-b1d9-5e162a51423a",
   "metadata": {},
   "outputs": [],
   "source": []
  },
  {
   "cell_type": "code",
   "execution_count": null,
   "id": "a25666f1-f038-4191-8bf8-1d31d98b10aa",
   "metadata": {},
   "outputs": [],
   "source": []
  },
  {
   "cell_type": "markdown",
   "id": "af92b284-3162-4e03-a0b7-6a07c3e95174",
   "metadata": {},
   "source": [
    "# Example 1: Linear Regression Model with Numpy Implementation\n",
    "\n",
    "**Linear regression** is an approach for modeling the relationship between a scalar dependent variable $y$ and one or more explanatory variables (or independent variables) denoted $X$. The case of one explanatory variable is called *simple linear regression*. For more than one explanatory variable, the process is called *multiple linear regression*.$^1$ (This term is distinct from multivariate linear regression, where multiple correlated dependent variables are predicted, rather than a single scalar variable.$^2$. **It is the most commonly used predictive model in industry due to its easiness on model interpretation.**\n",
    "\n",
    "***\n",
    "$^1$ David A. Freedman (2009). Statistical Models: Theory and Practice. Cambridge University Press. p. 26. A simple regression equation has on the right hand side an intercept and an explanatory variable with a slope coefficient. A multiple regression equation has two or more explanatory variables on the right hand side, each with its own slope coefficient\n",
    "\n",
    "$^2$ Rencher, Alvin C.; Christensen, William F. (2012), \"Chapter 10, Multivariate regression – Section 10.1, Introduction\", Methods of Multivariate Analysis, Wiley Series in Probability and Statistics, 709 (3rd ed.), John Wiley &amp; Sons, p. 19, ISBN 9781118391679."
   ]
  },
  {
   "cell_type": "markdown",
   "id": "3b731cc7-6188-4aeb-8c4c-3735625fa30f",
   "metadata": {},
   "source": [
    "## Closed-form Linear Regression\n",
    "\n",
    "The linear regression model assumes the relation between `X` and `y` should be something close to this:\n",
    "\n",
    "$y_i = \\beta_0 + \\beta_1x_{i1} + \\beta_2x_{i2} + ... + \\beta_kx_{ik} + \\epsilon_i$ where $\\epsilon_i \\approx N(0,\\sigma^2)$\n",
    "\n",
    "If we format matrix $X$ like below, in which $X$ becomes a $N\\times (k+1)$ matrix,\n",
    "$$\n",
    "\\begin{equation}\n",
    "\t\\begin{bmatrix}\n",
    "\t  1 & x_{11} & ...& x_{1k} \\\\\n",
    "\t  1 & x_{21} & ...& x_{2k} \\\\\n",
    "      ... & ...  & ...& ...\\\\\n",
    "\t  1 & x_{N1} & ...& x_{Nk} \t\n",
    "\t\\end{bmatrix}\n",
    "\\end{equation}\n",
    "$$\n",
    "then the relation between `X` and `y` can be rewritten like $y = X\\beta + \\epsilon$ where $\\beta$ here becomes a $(k+1)\\times1$ matrix/vector,\n",
    "\n",
    "$$\n",
    "\\begin{equation}\n",
    "\t\\begin{bmatrix}\n",
    "\t  \\beta_0 \\\\\n",
    "\t  \\beta_1 \\\\\n",
    "      ... \\\\\n",
    "\t  \\beta_k \t\n",
    "\t\\end{bmatrix}\n",
    "\\end{equation}\n",
    "$$\n",
    "and $\\epsilon$ becomes a $N\\times1$ matrix/vector\n",
    "\n",
    "$$\n",
    "\\begin{equation}\n",
    "\t\\begin{bmatrix}\n",
    "\t  \\epsilon_0 \\\\\n",
    "\t  \\epsilon_1 \\\\\n",
    "      ... \\\\\n",
    "\t  \\epsilon_k \t\n",
    "\t\\end{bmatrix}\n",
    "\\end{equation}\n",
    "$$\n",
    "\n",
    "In this case, `y` would be a $N\\times1$ matrix, `X` is a $N\\times k$ matrix, $\\beta_1$ would be a $k\\times 1$ matrix, $\\beta_0$ would be a $N\\times1$ matrix, and $\\epsilon$ would be a $N\\times1$ matrix too. Here `N` is the number of data points we have, `k` is the number of $x$ features we have for each data point. \n",
    "\n",
    "When we fit the linear regression model, we can drop random error term, which means that we just need to solve the following relation:\n",
    "\n",
    "$$\n",
    "y = X\\beta\n",
    "$$\n",
    "\n",
    "With the help of linear algebra, we can get the solution like this: \n",
    "\n",
    "$$\n",
    "\\beta = (X^\\prime X)^{-1} X^\\prime y\n",
    "$$\n",
    "\n",
    "This tells us that if we have the corresponding `x` values and `y` values and represent them in the appropriate matrix format like illustrated above, we can get the best fit linear relation by simply doing matrix multiplication!!\n",
    "\n",
    "References on matrix form representation on linear regression can be found here:\n",
    "* https://en.wikipedia.org/wiki/Linear_regression\n",
    "* http://faculty.cas.usf.edu/mbrannick/regression/regma.htm\n",
    "* https://machinelearningmastery.com/solve-linear-regression-using-linear-algebra/"
   ]
  },
  {
   "cell_type": "markdown",
   "id": "1c7fcad3-50b2-43f4-b422-2b9d85965460",
   "metadata": {},
   "source": [
    "## Test the Linear Regression model fitting"
   ]
  },
  {
   "cell_type": "markdown",
   "id": "d28ba0b2-5714-4efb-b06b-fa6ac48becfe",
   "metadata": {},
   "source": [
    "### Create a set of data points (x,y) - 2D scenario"
   ]
  },
  {
   "cell_type": "code",
   "execution_count": 180,
   "id": "ec8bdee9-9b98-4f2f-a651-a22d65da7d06",
   "metadata": {},
   "outputs": [],
   "source": [
    "import matplotlib.pyplot as plt"
   ]
  },
  {
   "cell_type": "code",
   "execution_count": 181,
   "id": "5291c611-702d-4db7-84b4-66497084ed71",
   "metadata": {},
   "outputs": [
    {
     "data": {
      "image/png": "[encoded data removed]",
      "text/plain": [
       "<Figure size 1000x500 with 1 Axes>"
      ]
     },
     "metadata": {},
     "output_type": "display_data"
    }
   ],
   "source": [
    "n = 100  # numeber of samples\n",
    "X_raw = np.random.rand(n).reshape(n,1)*99.0\n",
    "y = -7.3 + 2.5*X_raw + np.random.randn(n).reshape(n,1)*27.0\n",
    "\n",
    "plt.figure(figsize=(10,5))\n",
    "plt.xticks(fontsize=14)\n",
    "plt.yticks(fontsize=14)\n",
    "plt.plot(X_raw, y, \"o\");"
   ]
  },
  {
   "cell_type": "code",
   "execution_count": null,
   "id": "328b0dc5-7a1f-4bf9-9566-7b620cef66b5",
   "metadata": {},
   "outputs": [],
   "source": [
    "# X_raw"
   ]
  },
  {
   "cell_type": "markdown",
   "id": "2f5d1e8e-8f6b-4170-a46e-9fd3fbc4c107",
   "metadata": {},
   "source": [
    "### Fit a linear line\n",
    "\n",
    "$$\n",
    "\\beta = (X^\\prime X)^{-1} X^\\prime y\n",
    "$$\n",
    "\n",
    "$$\n",
    "X = \\begin{equation}\n",
    "\t\\begin{bmatrix}\n",
    "\t  1 & x_{11} & ...& x_{1k} \\\\\n",
    "\t  1 & x_{21} & ...& x_{2k} \\\\\n",
    "      ... & ...  & ...& ...\\\\\n",
    "\t  1 & x_{N1} & ...& x_{Nk} \t\n",
    "\t\\end{bmatrix}\n",
    "\\end{equation}\n",
    "$$"
   ]
  },
  {
   "cell_type": "code",
   "execution_count": 182,
   "id": "4efa7ef0-c70d-4e89-9558-dc3097627d50",
   "metadata": {},
   "outputs": [
    {
     "data": {
      "text/plain": [
       "(100, 1)"
      ]
     },
     "execution_count": 182,
     "metadata": {},
     "output_type": "execute_result"
    }
   ],
   "source": [
    "X_raw.shape"
   ]
  },
  {
   "cell_type": "code",
   "execution_count": 183,
   "id": "59a10cc3-fdd3-4a10-837a-785b4971c557",
   "metadata": {},
   "outputs": [
    {
     "name": "stdout",
     "output_type": "stream",
     "text": [
      "(100, 2)\n"
     ]
    }
   ],
   "source": [
    "## reconstruct X\n",
    "X = np.hstack((np.ones((n,1)), X_raw))\n",
    "print(X.shape)"
   ]
  },
  {
   "cell_type": "code",
   "execution_count": 184,
   "id": "538499c6-97c9-4cc4-b63b-595ef36943b7",
   "metadata": {},
   "outputs": [
    {
     "data": {
      "text/plain": [
       "array([[ 1.        , 30.34647896],\n",
       "       [ 1.        , 37.39313509],\n",
       "       [ 1.        , 21.82901308],\n",
       "       [ 1.        , 34.74493188],\n",
       "       [ 1.        , 28.0111884 ],\n",
       "       [ 1.        , 41.5192653 ],\n",
       "       [ 1.        , 58.85075374],\n",
       "       [ 1.        , 14.85427631],\n",
       "       [ 1.        , 30.4181022 ],\n",
       "       [ 1.        , 13.75792756]])"
      ]
     },
     "execution_count": 184,
     "metadata": {},
     "output_type": "execute_result"
    }
   ],
   "source": [
    "X[0:10,:]"
   ]
  },
  {
   "cell_type": "code",
   "execution_count": 185,
   "id": "e8ebb3c1-2202-4b81-839c-240a439caff9",
   "metadata": {},
   "outputs": [
    {
     "data": {
      "text/plain": [
       "(100, 2)"
      ]
     },
     "execution_count": 185,
     "metadata": {},
     "output_type": "execute_result"
    }
   ],
   "source": [
    "X.shape"
   ]
  },
  {
   "cell_type": "code",
   "execution_count": 186,
   "id": "184f40cb-b1f7-4775-b149-cec43835b362",
   "metadata": {},
   "outputs": [
    {
     "data": {
      "text/plain": [
       "(100, 1)"
      ]
     },
     "execution_count": 186,
     "metadata": {},
     "output_type": "execute_result"
    }
   ],
   "source": [
    "y.shape"
   ]
  },
  {
   "cell_type": "code",
   "execution_count": 187,
   "id": "2a6e596a-e9bf-4244-a5c3-cb70c12e3eee",
   "metadata": {},
   "outputs": [],
   "source": [
    "beta = np.linalg.inv(X.T.dot(X)).dot(X.T).dot(y)"
   ]
  },
  {
   "cell_type": "code",
   "execution_count": 188,
   "id": "fb3c579f-3c56-40e0-bc46-b964ce7ae178",
   "metadata": {},
   "outputs": [
    {
     "data": {
      "text/plain": [
       "array([[-5.41621782],\n",
       "       [ 2.48948332]])"
      ]
     },
     "execution_count": 188,
     "metadata": {},
     "output_type": "execute_result"
    }
   ],
   "source": [
    "beta"
   ]
  },
  {
   "cell_type": "code",
   "execution_count": 189,
   "id": "5f0cb8e7-c1fb-486e-8666-58b61d77f1f3",
   "metadata": {},
   "outputs": [
    {
     "data": {
      "text/plain": [
       "(2, 1)"
      ]
     },
     "execution_count": 189,
     "metadata": {},
     "output_type": "execute_result"
    }
   ],
   "source": [
    "beta.shape"
   ]
  },
  {
   "cell_type": "code",
   "execution_count": 190,
   "id": "2f3190dd-7c67-4e4a-b384-62ee305e5474",
   "metadata": {},
   "outputs": [],
   "source": [
    "## make the prediction on given X\n",
    "y_hat = X.dot(beta)"
   ]
  },
  {
   "cell_type": "code",
   "execution_count": 191,
   "id": "c81b168b-c35e-4bf1-9b37-997737813ee6",
   "metadata": {},
   "outputs": [
    {
     "data": {
      "text/plain": [
       "(100, 1)"
      ]
     },
     "execution_count": 191,
     "metadata": {},
     "output_type": "execute_result"
    }
   ],
   "source": [
    "y_hat.shape"
   ]
  },
  {
   "cell_type": "code",
   "execution_count": 192,
   "id": "5161e868-6417-4b1a-bfdc-77f83a606712",
   "metadata": {},
   "outputs": [
    {
     "data": {
      "image/png": "[encoded data removed]",
      "text/plain": [
       "<Figure size 1000x500 with 1 Axes>"
      ]
     },
     "metadata": {},
     "output_type": "display_data"
    }
   ],
   "source": [
    "## plot the linear line along with the original data points we created\n",
    "\n",
    "plt.figure(figsize=(10,5))\n",
    "plt.xticks(fontsize=14)\n",
    "plt.yticks(fontsize=14)\n",
    "plt.plot(X_raw, y, \"o\", label='raw data')\n",
    "plt.plot(X_raw, y_hat, label='fitted line')\n",
    "plt.legend()\n",
    "plt.show()"
   ]
  },
  {
   "cell_type": "markdown",
   "id": "defd68f6-01e0-4668-98b1-da35678a91a1",
   "metadata": {},
   "source": [
    "### Explain your model fit"
   ]
  },
  {
   "cell_type": "code",
   "execution_count": 193,
   "id": "32d4e9cf-1421-4d64-8503-5e5042c6016d",
   "metadata": {},
   "outputs": [
    {
     "data": {
      "text/plain": [
       "array([[-5.41621782],\n",
       "       [ 2.48948332]])"
      ]
     },
     "execution_count": 193,
     "metadata": {},
     "output_type": "execute_result"
    }
   ],
   "source": [
    "beta"
   ]
  },
  {
   "cell_type": "code",
   "execution_count": 194,
   "id": "be7e4034-0dae-4ba0-9cde-f7f0894ff7c6",
   "metadata": {},
   "outputs": [
    {
     "data": {
      "text/plain": [
       "(2, 1)"
      ]
     },
     "execution_count": 194,
     "metadata": {},
     "output_type": "execute_result"
    }
   ],
   "source": [
    "beta.shape"
   ]
  },
  {
   "cell_type": "code",
   "execution_count": 195,
   "id": "d0548347-b91c-4c1f-96fd-0252291fcad4",
   "metadata": {},
   "outputs": [
    {
     "data": {
      "text/plain": [
       "(array([-5.41621782]), array([2.48948332]))"
      ]
     },
     "execution_count": 195,
     "metadata": {},
     "output_type": "execute_result"
    }
   ],
   "source": [
    "beta0 = beta[0]\n",
    "beta1 = beta[1]\n",
    "beta0, beta1"
   ]
  },
  {
   "cell_type": "markdown",
   "id": "533fdb5d-8f76-4eb5-8179-526994d21016",
   "metadata": {},
   "source": [
    "Remember the fitted linear function: $\\hat{y} = \\beta_0 + \\beta_1x$\n",
    "\n",
    "**Therefore, we can tell based on the fitted linear trend that whenever x increases 1 unit, y changes 2.5 units**"
   ]
  },
  {
   "cell_type": "markdown",
   "id": "91cdb06f-9cee-444d-9c6c-88406ea1bcc2",
   "metadata": {},
   "source": [
    "### Evaluate your linear regression model: RMSE\n",
    "\n",
    "`RMSE` stands for Root Mean Squared Error:\n",
    "$$\n",
    "RMSE = \\sqrt{\\frac{1}{N}\\displaystyle\\sum_{i=1}^{N} (y_i-\\hat{y_i})^2} = \\sqrt{\\frac{1}{N}\\displaystyle\\sum_{i=1}^{N} \\epsilon^2}\n",
    "$$\n",
    "\n",
    "![](../pics/rmse.png)"
   ]
  },
  {
   "cell_type": "markdown",
   "id": "167bf8c0-d917-48f4-a6da-af32467601c4",
   "metadata": {},
   "source": [
    "**What if we fit a different linear trend?? How do we know if it's better or worse than our previously fitted model??**"
   ]
  },
  {
   "cell_type": "code",
   "execution_count": 196,
   "id": "7d7c8b4a-f199-4eca-a564-44a7285045fb",
   "metadata": {},
   "outputs": [
    {
     "data": {
      "image/png": "[encoded data removed]",
      "text/plain": [
       "<Figure size 1000x500 with 1 Axes>"
      ]
     },
     "metadata": {},
     "output_type": "display_data"
    }
   ],
   "source": [
    "## define a new linear trend\n",
    "beta_alt = np.array([-4,1.7]).reshape(2,1)\n",
    "y_alt = X.dot(beta_alt)\n",
    "\n",
    "## compare it with own previous fitted model\n",
    "plt.figure(figsize=(10,5))\n",
    "plt.xticks(fontsize=14)\n",
    "plt.yticks(fontsize=14)\n",
    "plt.plot(X_raw, y, \"o\", label='raw data')\n",
    "plt.plot(X_raw, y_hat, label='fitted line')\n",
    "plt.plot(X_raw, y_alt, label='alternative fit')\n",
    "plt.legend()\n",
    "plt.show()"
   ]
  },
  {
   "cell_type": "markdown",
   "id": "58163e11-b0c2-4b45-aa19-0ab4b8b5ce36",
   "metadata": {},
   "source": [
    "Let's calculate the `RMSE` of the 2 linear models here!"
   ]
  },
  {
   "cell_type": "code",
   "execution_count": 197,
   "id": "55ec135c-5662-428e-9d03-e8f12d2c3e17",
   "metadata": {},
   "outputs": [],
   "source": [
    "## create a function to calculate rmse\n",
    "import math\n",
    "\n",
    "def rmse(y,y_fit):\n",
    "    assert len(y)==len(y_fit), 'y and y_fit should have the same length'\n",
    "    N = len(y)\n",
    "    sse = 0 # sum of squared errors\n",
    "    for idx in range(N):\n",
    "        sse += (y[idx]-y_fit[idx])**2\n",
    "    rmse_out = math.sqrt(sse/N)\n",
    "    return rmse_out\n"
   ]
  },
  {
   "cell_type": "code",
   "execution_count": 198,
   "id": "63b156fb-7570-44cb-86a8-7e9b39262e28",
   "metadata": {},
   "outputs": [
    {
     "data": {
      "text/plain": [
       "26.07504748266199"
      ]
     },
     "execution_count": 198,
     "metadata": {},
     "output_type": "execute_result"
    }
   ],
   "source": [
    "rmse(y,y_hat)"
   ]
  },
  {
   "cell_type": "code",
   "execution_count": 199,
   "id": "bdc61684-71c9-4a8d-89d9-d4288bab5760",
   "metadata": {},
   "outputs": [
    {
     "data": {
      "text/plain": [
       "44.521295180701024"
      ]
     },
     "execution_count": 199,
     "metadata": {},
     "output_type": "execute_result"
    }
   ],
   "source": [
    "rmse(y,y_alt)"
   ]
  },
  {
   "cell_type": "markdown",
   "id": "64dff445-2b5f-402c-9470-516588ad55b5",
   "metadata": {},
   "source": [
    "**How to do it with matrix arithmetics? (offline-practice)**"
   ]
  },
  {
   "cell_type": "markdown",
   "id": "57e17b1f-8673-4c69-bfba-91943a8d44e2",
   "metadata": {},
   "source": [
    "### Evaluate your linear regression model: $R^2$\n",
    "\n",
    "Reference: https://en.wikipedia.org/wiki/Coefficient_of_determination\n",
    "\n",
    "![](../pics/r2-score.png)"
   ]
  },
  {
   "cell_type": "code",
   "execution_count": 200,
   "id": "d198e461-d956-4415-bf46-d1218026d5be",
   "metadata": {},
   "outputs": [],
   "source": [
    "## create a function to calculate the R2-score\n",
    "\n",
    "def r2(y, y_fit):\n",
    "    assert len(y)==len(y_fit), 'y and y_fit should have the same length'\n",
    "    N = len(y)\n",
    "    y_bar = sum(y)/N\n",
    "    ## calculate the total sum of squares\n",
    "    ss = 0\n",
    "    for idx in range(N):\n",
    "        ss += (y[idx] - y_bar)**2\n",
    "    ## calculate the sum of squared errors\n",
    "    sse = 0\n",
    "    for idx in range(N):\n",
    "        sse += (y[idx] - y_fit[idx])**2\n",
    "    ## calculate the R2 score\n",
    "    r2 = 1 - sse/ss\n",
    "    ## return the R2 score\n",
    "    return r2"
   ]
  },
  {
   "cell_type": "code",
   "execution_count": 201,
   "id": "4e93b5d8-0f57-4482-97a6-c57f85b344fb",
   "metadata": {},
   "outputs": [
    {
     "data": {
      "text/plain": [
       "array([0.84265648])"
      ]
     },
     "execution_count": 201,
     "metadata": {},
     "output_type": "execute_result"
    }
   ],
   "source": [
    "r2(y, y_hat)"
   ]
  },
  {
   "cell_type": "code",
   "execution_count": 202,
   "id": "e41e6cd2-bbcd-40e9-a6f9-5ce36e0df6f3",
   "metadata": {},
   "outputs": [
    {
     "data": {
      "text/plain": [
       "array([0.54129419])"
      ]
     },
     "execution_count": 202,
     "metadata": {},
     "output_type": "execute_result"
    }
   ],
   "source": [
    "r2(y, y_alt)"
   ]
  },
  {
   "cell_type": "markdown",
   "id": "ea1902f9-8dc6-4fdb-836e-0e70c9feb588",
   "metadata": {},
   "source": [
    "### Linear Regression Model fit with *scikit-learn* library\n",
    "\n",
    "We will cover this topic in later lectures, but I encourage you to read the materials and get yourself familiar with this and spend some time play with it if you have enough bandwidth in time.\n",
    "\n",
    "* The official documentation: https://scikit-learn.org/stable/modules/generated/sklearn.linear_model.LinearRegression.html\n",
    "* Hands-on Tutorial: https://benalexkeen.com/linear-regression-in-python-using-scikit-learn/"
   ]
  },
  {
   "cell_type": "markdown",
   "id": "c8b49dc2-41ea-4358-8eb9-6594992f435a",
   "metadata": {},
   "source": [
    "# Appendix A: Nearest Neighbor Search\n",
    "\n",
    "Nearest Neighbor search is a common technique in Machine Learning"
   ]
  },
  {
   "cell_type": "code",
   "execution_count": 203,
   "id": "a499ded2-d646-4a3a-88ee-0cca05f26a85",
   "metadata": {},
   "outputs": [],
   "source": [
    "# which point in points is closest to qPoint?\n",
    "points = [[9,2,8],[4,7,2],[3,4,4],[5,6,9],[5,0,7],[8,2,7],[0,3,2],[7,3,0],[6,1,1],[2,9,6]]\n",
    "qPoint = [4,5,3]\n"
   ]
  },
  {
   "cell_type": "code",
   "execution_count": 204,
   "id": "80260377",
   "metadata": {},
   "outputs": [
    {
     "data": {
      "text/plain": [
       "10"
      ]
     },
     "execution_count": 204,
     "metadata": {},
     "output_type": "execute_result"
    }
   ],
   "source": [
    "len(points)"
   ]
  },
  {
   "cell_type": "code",
   "execution_count": null,
   "id": "7a80bfec",
   "metadata": {},
   "outputs": [],
   "source": []
  },
  {
   "cell_type": "markdown",
   "id": "ba65cc2b-c173-4f6b-bf89-d626d99a5ce5",
   "metadata": {},
   "source": [
    "# Euclidean distance between 2 points $(x_1,y_1,z_1)$ and $(x_2,y_2,z_2)$ is:\n",
    "$$\\sqrt{(x_2-x_1)^2+(y_2-y1)^2+(z_2-z_1)^2}$$"
   ]
  },
  {
   "cell_type": "code",
   "execution_count": null,
   "id": "60867167-6b85-4e76-85c8-9d957c968905",
   "metadata": {},
   "outputs": [],
   "source": [
    "\n",
    "### Pure iterative Python ###\n",
    "points = [[9,2,8],[4,7,2],[3,4,4],[5,6,9],[5,0,7],[8,2,7],[0,3,2],[7,3,0],[6,1,1],[2,9,6]]\n",
    "qPoint = [4,5,3]\n",
    "\n",
    "minIdx = -1\n",
    "minDist = -1\n",
    "for idx, point in enumerate(points):  # iterate over all points\n",
    "    print('index is {}, point is {}'.format(idx, point))\n",
    "    dist = sum([(dp-dq)**2 for dp,dq in zip(point,qPoint)])**0.5  # compute the euclidean distance for each point to q\n",
    "    if dist < minDist or minDist < 0:  # if necessary, update minimum distance and index of the corresponding point\n",
    "        minDist = dist\n",
    "        minIdx = idx\n",
    "\n",
    "print('Nearest point to q: ', points[minIdx])"
   ]
  },
  {
   "cell_type": "code",
   "execution_count": null,
   "id": "ac863d1f-88fa-42d6-96f1-afb0cb0f6027",
   "metadata": {},
   "outputs": [],
   "source": [
    "# # # Equivalent NumPy vectorization # # #\n",
    "import numpy as np\n",
    "points = np.array([[9,2,8],[4,7,2],[3,4,4],[5,6,9],[5,0,7],[8,2,7],[0,3,2],[7,3,0],[6,1,1],[2,9,6]])\n",
    "qPoint = np.array([4,5,3]).reshape(1,3)\n",
    "minIdx = np.argmin(np.linalg.norm(points-qPoint,axis=1))  # compute all euclidean distances at once and return the index of the smallest one\n",
    "print('Nearest point to q: ', points[minIdx])"
   ]
  },
  {
   "cell_type": "code",
   "execution_count": null,
   "id": "ad749a06-ac2e-43b5-9f2a-e2ca20de598f",
   "metadata": {},
   "outputs": [],
   "source": []
  },
  {
   "cell_type": "code",
   "execution_count": null,
   "id": "d01455b2-9eec-4902-8009-1a7b8ce655f6",
   "metadata": {},
   "outputs": [],
   "source": []
  },
  {
   "cell_type": "code",
   "execution_count": null,
   "id": "34976210-123c-462b-a222-b7314eb5cc7e",
   "metadata": {},
   "outputs": [],
   "source": []
  }
 ],
 "metadata": {
  "kernelspec": {
   "display_name": "Python 3 (ipykernel)",
   "language": "python",
   "name": "python3"
  },
  "language_info": {
   "codemirror_mode": {
    "name": "ipython",
    "version": 3
   },
   "file_extension": ".py",
   "mimetype": "text/x-python",
   "name": "python",
   "nbconvert_exporter": "python",
   "pygments_lexer": "ipython3",
   "version": "3.10.8"
  }
 },
 "nbformat": 4,
 "nbformat_minor": 5
}
