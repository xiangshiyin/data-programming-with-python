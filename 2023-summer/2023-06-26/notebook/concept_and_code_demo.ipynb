{
 "cells": [
  {
   "cell_type": "markdown",
   "id": "b7f44070-28d4-468c-9cde-0a125bd33286",
   "metadata": {},
   "source": [
    "# Today's Coding Topics\n",
    "[![Open In Colab](https://colab.research.google.com/assets/colab-badge.svg)](https://colab.research.google.com/github/xiangshiyin/data-programming-with-python/blob/main/2023-summer/2023-06-26/notebook/concept_and_code_demo.ipynb)\n",
    "\n",
    "* Recap of previous lecture\n",
    "* `Pandas` exercise\n"
   ]
  },
  {
   "cell_type": "code",
   "execution_count": null,
   "id": "c5f77814-6ce4-4f92-aabb-eb93b1a181d3",
   "metadata": {},
   "outputs": [],
   "source": []
  },
  {
   "cell_type": "markdown",
   "id": "65d758c9-b300-40cd-97dc-4f0915c65fcb",
   "metadata": {},
   "source": [
    "## Pandas intro\n",
    "\n",
    "* `pandas` is a Python package providing fast, flexible, and expressive data structures designed to make working with “relational” or “labeled” data both easy and intuitive. It aims to be the fundamental high-level building block for doing practical, real world data analysis in Python. Additionally, it has the broader goal of becoming the most powerful and flexible open source data analysis / manipulation tool available in any language. It is already well on its way toward this goal.\n",
    "* It is included in the installation of the Anaconda distribution\n",
    "* When working with tabular data, such as data stored in spreadsheets or databases, pandas is the right tool for you. pandas will help you to explore, clean and process your data. In pandas, a data table is called a DataFrame.\n",
    "\n",
    "<img align=\"center\" src=\"../pics/dataframe-structure.png\" style=\"height:300px;\">\n"
   ]
  },
  {
   "cell_type": "code",
   "execution_count": 1,
   "id": "faba3eaa-0f18-442c-b181-e6960360e2d3",
   "metadata": {},
   "outputs": [],
   "source": [
    "import pandas as pd"
   ]
  },
  {
   "cell_type": "code",
   "execution_count": 2,
   "id": "9fb38a3d-a9f2-4097-a06e-bfb839a674ae",
   "metadata": {},
   "outputs": [
    {
     "data": {
      "text/plain": [
       "'2.0.2'"
      ]
     },
     "execution_count": 2,
     "metadata": {},
     "output_type": "execute_result"
    }
   ],
   "source": [
    "pd.__version__"
   ]
  },
  {
   "cell_type": "code",
   "execution_count": 4,
   "id": "a9a7a9f5-370a-4426-8200-c2b4b623a76d",
   "metadata": {},
   "outputs": [],
   "source": [
    "import numpy as np"
   ]
  },
  {
   "cell_type": "code",
   "execution_count": 5,
   "id": "1e2a1abb",
   "metadata": {},
   "outputs": [],
   "source": [
    "x = {\n",
    "    'A':[1,2,'a',4],\n",
    "    'B':np.arange(5,9),\n",
    "    'C':['abc','def','ghi','jkl']\n",
    "}"
   ]
  },
  {
   "cell_type": "code",
   "execution_count": 6,
   "id": "05788ecb-7e2c-4075-9764-0879df5fc1a3",
   "metadata": {},
   "outputs": [],
   "source": [
    "# create df from a dictionary\n",
    "df1 = pd.DataFrame(x)"
   ]
  },
  {
   "cell_type": "code",
   "execution_count": 7,
   "id": "bbfd3c4b-c4b7-4a57-8779-db6eb75e5839",
   "metadata": {},
   "outputs": [
    {
     "data": {
      "text/html": [
       "<div>\n",
       "<style scoped>\n",
       "    .dataframe tbody tr th:only-of-type {\n",
       "        vertical-align: middle;\n",
       "    }\n",
       "\n",
       "    .dataframe tbody tr th {\n",
       "        vertical-align: top;\n",
       "    }\n",
       "\n",
       "    .dataframe thead th {\n",
       "        text-align: right;\n",
       "    }\n",
       "</style>\n",
       "<table border=\"1\" class=\"dataframe\">\n",
       "  <thead>\n",
       "    <tr style=\"text-align: right;\">\n",
       "      <th></th>\n",
       "      <th>A</th>\n",
       "      <th>B</th>\n",
       "      <th>C</th>\n",
       "    </tr>\n",
       "  </thead>\n",
       "  <tbody>\n",
       "    <tr>\n",
       "      <th>0</th>\n",
       "      <td>1</td>\n",
       "      <td>5</td>\n",
       "      <td>abc</td>\n",
       "    </tr>\n",
       "    <tr>\n",
       "      <th>1</th>\n",
       "      <td>2</td>\n",
       "      <td>6</td>\n",
       "      <td>def</td>\n",
       "    </tr>\n",
       "    <tr>\n",
       "      <th>2</th>\n",
       "      <td>a</td>\n",
       "      <td>7</td>\n",
       "      <td>ghi</td>\n",
       "    </tr>\n",
       "    <tr>\n",
       "      <th>3</th>\n",
       "      <td>4</td>\n",
       "      <td>8</td>\n",
       "      <td>jkl</td>\n",
       "    </tr>\n",
       "  </tbody>\n",
       "</table>\n",
       "</div>"
      ],
      "text/plain": [
       "   A  B    C\n",
       "0  1  5  abc\n",
       "1  2  6  def\n",
       "2  a  7  ghi\n",
       "3  4  8  jkl"
      ]
     },
     "execution_count": 7,
     "metadata": {},
     "output_type": "execute_result"
    }
   ],
   "source": [
    "df1"
   ]
  },
  {
   "cell_type": "code",
   "execution_count": null,
   "id": "9dff82ca",
   "metadata": {},
   "outputs": [],
   "source": []
  },
  {
   "cell_type": "code",
   "execution_count": 8,
   "id": "b94ba732-4b47-4983-98e4-20a513448481",
   "metadata": {},
   "outputs": [],
   "source": [
    "y = [\n",
    "    ['a','b','c'],\n",
    "    ['d','e','f']\n",
    "]"
   ]
  },
  {
   "cell_type": "code",
   "execution_count": 9,
   "id": "c303bf06",
   "metadata": {},
   "outputs": [
    {
     "data": {
      "text/plain": [
       "[['a', 'b', 'c'], ['d', 'e', 'f']]"
      ]
     },
     "execution_count": 9,
     "metadata": {},
     "output_type": "execute_result"
    }
   ],
   "source": [
    "y"
   ]
  },
  {
   "cell_type": "code",
   "execution_count": 10,
   "id": "4eab3135",
   "metadata": {},
   "outputs": [
    {
     "data": {
      "text/html": [
       "<div>\n",
       "<style scoped>\n",
       "    .dataframe tbody tr th:only-of-type {\n",
       "        vertical-align: middle;\n",
       "    }\n",
       "\n",
       "    .dataframe tbody tr th {\n",
       "        vertical-align: top;\n",
       "    }\n",
       "\n",
       "    .dataframe thead th {\n",
       "        text-align: right;\n",
       "    }\n",
       "</style>\n",
       "<table border=\"1\" class=\"dataframe\">\n",
       "  <thead>\n",
       "    <tr style=\"text-align: right;\">\n",
       "      <th></th>\n",
       "      <th>0</th>\n",
       "      <th>1</th>\n",
       "      <th>2</th>\n",
       "    </tr>\n",
       "  </thead>\n",
       "  <tbody>\n",
       "    <tr>\n",
       "      <th>0</th>\n",
       "      <td>a</td>\n",
       "      <td>b</td>\n",
       "      <td>c</td>\n",
       "    </tr>\n",
       "    <tr>\n",
       "      <th>1</th>\n",
       "      <td>d</td>\n",
       "      <td>e</td>\n",
       "      <td>f</td>\n",
       "    </tr>\n",
       "  </tbody>\n",
       "</table>\n",
       "</div>"
      ],
      "text/plain": [
       "   0  1  2\n",
       "0  a  b  c\n",
       "1  d  e  f"
      ]
     },
     "execution_count": 10,
     "metadata": {},
     "output_type": "execute_result"
    }
   ],
   "source": [
    "df2 = pd.DataFrame(y)\n",
    "df2"
   ]
  },
  {
   "cell_type": "code",
   "execution_count": null,
   "id": "0162b457",
   "metadata": {},
   "outputs": [],
   "source": []
  },
  {
   "cell_type": "code",
   "execution_count": 11,
   "id": "5577a192-b4b5-420b-b6c0-cb960e38a73a",
   "metadata": {},
   "outputs": [
    {
     "data": {
      "text/html": [
       "<div>\n",
       "<style scoped>\n",
       "    .dataframe tbody tr th:only-of-type {\n",
       "        vertical-align: middle;\n",
       "    }\n",
       "\n",
       "    .dataframe tbody tr th {\n",
       "        vertical-align: top;\n",
       "    }\n",
       "\n",
       "    .dataframe thead th {\n",
       "        text-align: right;\n",
       "    }\n",
       "</style>\n",
       "<table border=\"1\" class=\"dataframe\">\n",
       "  <thead>\n",
       "    <tr style=\"text-align: right;\">\n",
       "      <th></th>\n",
       "      <th>col1</th>\n",
       "      <th>col2</th>\n",
       "      <th>col3</th>\n",
       "    </tr>\n",
       "  </thead>\n",
       "  <tbody>\n",
       "    <tr>\n",
       "      <th>0</th>\n",
       "      <td>a</td>\n",
       "      <td>b</td>\n",
       "      <td>c</td>\n",
       "    </tr>\n",
       "    <tr>\n",
       "      <th>1</th>\n",
       "      <td>d</td>\n",
       "      <td>e</td>\n",
       "      <td>f</td>\n",
       "    </tr>\n",
       "  </tbody>\n",
       "</table>\n",
       "</div>"
      ],
      "text/plain": [
       "  col1 col2 col3\n",
       "0    a    b    c\n",
       "1    d    e    f"
      ]
     },
     "execution_count": 11,
     "metadata": {},
     "output_type": "execute_result"
    }
   ],
   "source": [
    "# create df from a list\n",
    "df2 = pd.DataFrame(y, columns=['col1','col2','col3'])\n",
    "df2"
   ]
  },
  {
   "cell_type": "code",
   "execution_count": null,
   "id": "bf22f1a0",
   "metadata": {},
   "outputs": [],
   "source": []
  },
  {
   "cell_type": "markdown",
   "id": "42d63ef9-028c-4215-8883-1110dae7c11b",
   "metadata": {},
   "source": [
    "## Create `dataframe` from text file"
   ]
  },
  {
   "cell_type": "code",
   "execution_count": 12,
   "id": "4f1dcc06-d56a-4ba7-a984-2dd7f3b31d42",
   "metadata": {},
   "outputs": [],
   "source": [
    "# df = pd.read_csv('../data/imf-gdp-per-capita-2015.csv',sep=',',header=0, thousands=',')\n",
    "# df = pd.read_csv('/Users/xiangshiyin/Downloads/2023-06-26/data/imf-gdp-per-capita-2015.csv',sep=',',header=0)\n",
    "df = pd.read_csv('../data/imf-gdp-per-capita-2015.csv',sep=',',header=0)"
   ]
  },
  {
   "cell_type": "code",
   "execution_count": 13,
   "id": "08761141",
   "metadata": {},
   "outputs": [
    {
     "data": {
      "text/html": [
       "<div>\n",
       "<style scoped>\n",
       "    .dataframe tbody tr th:only-of-type {\n",
       "        vertical-align: middle;\n",
       "    }\n",
       "\n",
       "    .dataframe tbody tr th {\n",
       "        vertical-align: top;\n",
       "    }\n",
       "\n",
       "    .dataframe thead th {\n",
       "        text-align: right;\n",
       "    }\n",
       "</style>\n",
       "<table border=\"1\" class=\"dataframe\">\n",
       "  <thead>\n",
       "    <tr style=\"text-align: right;\">\n",
       "      <th></th>\n",
       "      <th>Country</th>\n",
       "      <th>Subject Descriptor</th>\n",
       "      <th>Units</th>\n",
       "      <th>Scale</th>\n",
       "      <th>Country/Series-specific Notes</th>\n",
       "      <th>2015</th>\n",
       "      <th>Estimates Start After</th>\n",
       "    </tr>\n",
       "  </thead>\n",
       "  <tbody>\n",
       "    <tr>\n",
       "      <th>0</th>\n",
       "      <td>Afghanistan</td>\n",
       "      <td>Gross domestic product per capita, current prices</td>\n",
       "      <td>U.S. dollars</td>\n",
       "      <td>Units</td>\n",
       "      <td>See notes for:  Gross domestic product, curren...</td>\n",
       "      <td>599.994</td>\n",
       "      <td>2013.0</td>\n",
       "    </tr>\n",
       "    <tr>\n",
       "      <th>1</th>\n",
       "      <td>Albania</td>\n",
       "      <td>Gross domestic product per capita, current prices</td>\n",
       "      <td>U.S. dollars</td>\n",
       "      <td>Units</td>\n",
       "      <td>See notes for:  Gross domestic product, curren...</td>\n",
       "      <td>3,995.38</td>\n",
       "      <td>2010.0</td>\n",
       "    </tr>\n",
       "    <tr>\n",
       "      <th>2</th>\n",
       "      <td>Algeria</td>\n",
       "      <td>Gross domestic product per capita, current prices</td>\n",
       "      <td>U.S. dollars</td>\n",
       "      <td>Units</td>\n",
       "      <td>See notes for:  Gross domestic product, curren...</td>\n",
       "      <td>4,318.14</td>\n",
       "      <td>2014.0</td>\n",
       "    </tr>\n",
       "    <tr>\n",
       "      <th>3</th>\n",
       "      <td>Angola</td>\n",
       "      <td>Gross domestic product per capita, current prices</td>\n",
       "      <td>U.S. dollars</td>\n",
       "      <td>Units</td>\n",
       "      <td>See notes for:  Gross domestic product, curren...</td>\n",
       "      <td>4,100.32</td>\n",
       "      <td>2014.0</td>\n",
       "    </tr>\n",
       "    <tr>\n",
       "      <th>4</th>\n",
       "      <td>Antigua and Barbuda</td>\n",
       "      <td>Gross domestic product per capita, current prices</td>\n",
       "      <td>U.S. dollars</td>\n",
       "      <td>Units</td>\n",
       "      <td>See notes for:  Gross domestic product, curren...</td>\n",
       "      <td>14,414.30</td>\n",
       "      <td>2011.0</td>\n",
       "    </tr>\n",
       "    <tr>\n",
       "      <th>...</th>\n",
       "      <td>...</td>\n",
       "      <td>...</td>\n",
       "      <td>...</td>\n",
       "      <td>...</td>\n",
       "      <td>...</td>\n",
       "      <td>...</td>\n",
       "      <td>...</td>\n",
       "    </tr>\n",
       "    <tr>\n",
       "      <th>184</th>\n",
       "      <td>Venezuela</td>\n",
       "      <td>Gross domestic product per capita, current prices</td>\n",
       "      <td>U.S. dollars</td>\n",
       "      <td>Units</td>\n",
       "      <td>See notes for:  Gross domestic product, curren...</td>\n",
       "      <td>7,744.75</td>\n",
       "      <td>2010.0</td>\n",
       "    </tr>\n",
       "    <tr>\n",
       "      <th>185</th>\n",
       "      <td>Vietnam</td>\n",
       "      <td>Gross domestic product per capita, current prices</td>\n",
       "      <td>U.S. dollars</td>\n",
       "      <td>Units</td>\n",
       "      <td>See notes for:  Gross domestic product, curren...</td>\n",
       "      <td>2,088.34</td>\n",
       "      <td>2012.0</td>\n",
       "    </tr>\n",
       "    <tr>\n",
       "      <th>186</th>\n",
       "      <td>Yemen</td>\n",
       "      <td>Gross domestic product per capita, current prices</td>\n",
       "      <td>U.S. dollars</td>\n",
       "      <td>Units</td>\n",
       "      <td>See notes for:  Gross domestic product, curren...</td>\n",
       "      <td>1,302.94</td>\n",
       "      <td>2008.0</td>\n",
       "    </tr>\n",
       "    <tr>\n",
       "      <th>187</th>\n",
       "      <td>Zambia</td>\n",
       "      <td>Gross domestic product per capita, current prices</td>\n",
       "      <td>U.S. dollars</td>\n",
       "      <td>Units</td>\n",
       "      <td>See notes for:  Gross domestic product, curren...</td>\n",
       "      <td>1,350.15</td>\n",
       "      <td>2010.0</td>\n",
       "    </tr>\n",
       "    <tr>\n",
       "      <th>188</th>\n",
       "      <td>Zimbabwe</td>\n",
       "      <td>Gross domestic product per capita, current prices</td>\n",
       "      <td>U.S. dollars</td>\n",
       "      <td>Units</td>\n",
       "      <td>See notes for:  Gross domestic product, curren...</td>\n",
       "      <td>1,064.35</td>\n",
       "      <td>2012.0</td>\n",
       "    </tr>\n",
       "  </tbody>\n",
       "</table>\n",
       "<p>189 rows × 7 columns</p>\n",
       "</div>"
      ],
      "text/plain": [
       "                 Country                                 Subject Descriptor  \\\n",
       "0            Afghanistan  Gross domestic product per capita, current prices   \n",
       "1                Albania  Gross domestic product per capita, current prices   \n",
       "2                Algeria  Gross domestic product per capita, current prices   \n",
       "3                 Angola  Gross domestic product per capita, current prices   \n",
       "4    Antigua and Barbuda  Gross domestic product per capita, current prices   \n",
       "..                   ...                                                ...   \n",
       "184            Venezuela  Gross domestic product per capita, current prices   \n",
       "185              Vietnam  Gross domestic product per capita, current prices   \n",
       "186                Yemen  Gross domestic product per capita, current prices   \n",
       "187               Zambia  Gross domestic product per capita, current prices   \n",
       "188             Zimbabwe  Gross domestic product per capita, current prices   \n",
       "\n",
       "            Units  Scale                      Country/Series-specific Notes  \\\n",
       "0    U.S. dollars  Units  See notes for:  Gross domestic product, curren...   \n",
       "1    U.S. dollars  Units  See notes for:  Gross domestic product, curren...   \n",
       "2    U.S. dollars  Units  See notes for:  Gross domestic product, curren...   \n",
       "3    U.S. dollars  Units  See notes for:  Gross domestic product, curren...   \n",
       "4    U.S. dollars  Units  See notes for:  Gross domestic product, curren...   \n",
       "..            ...    ...                                                ...   \n",
       "184  U.S. dollars  Units  See notes for:  Gross domestic product, curren...   \n",
       "185  U.S. dollars  Units  See notes for:  Gross domestic product, curren...   \n",
       "186  U.S. dollars  Units  See notes for:  Gross domestic product, curren...   \n",
       "187  U.S. dollars  Units  See notes for:  Gross domestic product, curren...   \n",
       "188  U.S. dollars  Units  See notes for:  Gross domestic product, curren...   \n",
       "\n",
       "          2015  Estimates Start After  \n",
       "0      599.994                 2013.0  \n",
       "1     3,995.38                 2010.0  \n",
       "2     4,318.14                 2014.0  \n",
       "3     4,100.32                 2014.0  \n",
       "4    14,414.30                 2011.0  \n",
       "..         ...                    ...  \n",
       "184   7,744.75                 2010.0  \n",
       "185   2,088.34                 2012.0  \n",
       "186   1,302.94                 2008.0  \n",
       "187   1,350.15                 2010.0  \n",
       "188   1,064.35                 2012.0  \n",
       "\n",
       "[189 rows x 7 columns]"
      ]
     },
     "execution_count": 13,
     "metadata": {},
     "output_type": "execute_result"
    }
   ],
   "source": [
    "df"
   ]
  },
  {
   "cell_type": "code",
   "execution_count": 14,
   "id": "aeffd012",
   "metadata": {},
   "outputs": [
    {
     "data": {
      "text/plain": [
       "pandas.core.frame.DataFrame"
      ]
     },
     "execution_count": 14,
     "metadata": {},
     "output_type": "execute_result"
    }
   ],
   "source": [
    "type(df)"
   ]
  },
  {
   "cell_type": "code",
   "execution_count": null,
   "id": "70e630f3",
   "metadata": {},
   "outputs": [],
   "source": []
  },
  {
   "cell_type": "code",
   "execution_count": 15,
   "id": "9c144015-0f05-4a0f-8e5f-81fce426df3b",
   "metadata": {},
   "outputs": [
    {
     "data": {
      "text/html": [
       "<div>\n",
       "<style scoped>\n",
       "    .dataframe tbody tr th:only-of-type {\n",
       "        vertical-align: middle;\n",
       "    }\n",
       "\n",
       "    .dataframe tbody tr th {\n",
       "        vertical-align: top;\n",
       "    }\n",
       "\n",
       "    .dataframe thead th {\n",
       "        text-align: right;\n",
       "    }\n",
       "</style>\n",
       "<table border=\"1\" class=\"dataframe\">\n",
       "  <thead>\n",
       "    <tr style=\"text-align: right;\">\n",
       "      <th></th>\n",
       "      <th>Country</th>\n",
       "      <th>Subject Descriptor</th>\n",
       "      <th>Units</th>\n",
       "      <th>Scale</th>\n",
       "      <th>Country/Series-specific Notes</th>\n",
       "      <th>2015</th>\n",
       "      <th>Estimates Start After</th>\n",
       "    </tr>\n",
       "  </thead>\n",
       "  <tbody>\n",
       "    <tr>\n",
       "      <th>0</th>\n",
       "      <td>Afghanistan</td>\n",
       "      <td>Gross domestic product per capita, current prices</td>\n",
       "      <td>U.S. dollars</td>\n",
       "      <td>Units</td>\n",
       "      <td>See notes for:  Gross domestic product, curren...</td>\n",
       "      <td>599.994</td>\n",
       "      <td>2013.0</td>\n",
       "    </tr>\n",
       "    <tr>\n",
       "      <th>1</th>\n",
       "      <td>Albania</td>\n",
       "      <td>Gross domestic product per capita, current prices</td>\n",
       "      <td>U.S. dollars</td>\n",
       "      <td>Units</td>\n",
       "      <td>See notes for:  Gross domestic product, curren...</td>\n",
       "      <td>3,995.38</td>\n",
       "      <td>2010.0</td>\n",
       "    </tr>\n",
       "  </tbody>\n",
       "</table>\n",
       "</div>"
      ],
      "text/plain": [
       "       Country                                 Subject Descriptor  \\\n",
       "0  Afghanistan  Gross domestic product per capita, current prices   \n",
       "1      Albania  Gross domestic product per capita, current prices   \n",
       "\n",
       "          Units  Scale                      Country/Series-specific Notes  \\\n",
       "0  U.S. dollars  Units  See notes for:  Gross domestic product, curren...   \n",
       "1  U.S. dollars  Units  See notes for:  Gross domestic product, curren...   \n",
       "\n",
       "       2015  Estimates Start After  \n",
       "0   599.994                 2013.0  \n",
       "1  3,995.38                 2010.0  "
      ]
     },
     "execution_count": 15,
     "metadata": {},
     "output_type": "execute_result"
    }
   ],
   "source": [
    "df.head(2)"
   ]
  },
  {
   "cell_type": "code",
   "execution_count": 16,
   "id": "4f7dabeb-bd8b-44bb-ad17-c1e3dca809d4",
   "metadata": {},
   "outputs": [
    {
     "data": {
      "text/html": [
       "<div>\n",
       "<style scoped>\n",
       "    .dataframe tbody tr th:only-of-type {\n",
       "        vertical-align: middle;\n",
       "    }\n",
       "\n",
       "    .dataframe tbody tr th {\n",
       "        vertical-align: top;\n",
       "    }\n",
       "\n",
       "    .dataframe thead th {\n",
       "        text-align: right;\n",
       "    }\n",
       "</style>\n",
       "<table border=\"1\" class=\"dataframe\">\n",
       "  <thead>\n",
       "    <tr style=\"text-align: right;\">\n",
       "      <th></th>\n",
       "      <th>Country</th>\n",
       "      <th>Subject Descriptor</th>\n",
       "      <th>Units</th>\n",
       "      <th>Scale</th>\n",
       "      <th>Country/Series-specific Notes</th>\n",
       "      <th>2015</th>\n",
       "      <th>Estimates Start After</th>\n",
       "    </tr>\n",
       "  </thead>\n",
       "  <tbody>\n",
       "    <tr>\n",
       "      <th>187</th>\n",
       "      <td>Zambia</td>\n",
       "      <td>Gross domestic product per capita, current prices</td>\n",
       "      <td>U.S. dollars</td>\n",
       "      <td>Units</td>\n",
       "      <td>See notes for:  Gross domestic product, curren...</td>\n",
       "      <td>1,350.15</td>\n",
       "      <td>2010.0</td>\n",
       "    </tr>\n",
       "    <tr>\n",
       "      <th>188</th>\n",
       "      <td>Zimbabwe</td>\n",
       "      <td>Gross domestic product per capita, current prices</td>\n",
       "      <td>U.S. dollars</td>\n",
       "      <td>Units</td>\n",
       "      <td>See notes for:  Gross domestic product, curren...</td>\n",
       "      <td>1,064.35</td>\n",
       "      <td>2012.0</td>\n",
       "    </tr>\n",
       "  </tbody>\n",
       "</table>\n",
       "</div>"
      ],
      "text/plain": [
       "      Country                                 Subject Descriptor  \\\n",
       "187    Zambia  Gross domestic product per capita, current prices   \n",
       "188  Zimbabwe  Gross domestic product per capita, current prices   \n",
       "\n",
       "            Units  Scale                      Country/Series-specific Notes  \\\n",
       "187  U.S. dollars  Units  See notes for:  Gross domestic product, curren...   \n",
       "188  U.S. dollars  Units  See notes for:  Gross domestic product, curren...   \n",
       "\n",
       "         2015  Estimates Start After  \n",
       "187  1,350.15                 2010.0  \n",
       "188  1,064.35                 2012.0  "
      ]
     },
     "execution_count": 16,
     "metadata": {},
     "output_type": "execute_result"
    }
   ],
   "source": [
    "df.tail(2)"
   ]
  },
  {
   "cell_type": "code",
   "execution_count": 17,
   "id": "f182f8a9-94c5-4059-acf6-27c6d1ee521c",
   "metadata": {},
   "outputs": [
    {
     "name": "stdout",
     "output_type": "stream",
     "text": [
      "<class 'pandas.core.frame.DataFrame'>\n",
      "RangeIndex: 189 entries, 0 to 188\n",
      "Data columns (total 7 columns):\n",
      " #   Column                         Non-Null Count  Dtype  \n",
      "---  ------                         --------------  -----  \n",
      " 0   Country                        189 non-null    object \n",
      " 1   Subject Descriptor             189 non-null    object \n",
      " 2   Units                          189 non-null    object \n",
      " 3   Scale                          189 non-null    object \n",
      " 4   Country/Series-specific Notes  188 non-null    object \n",
      " 5   2015                           187 non-null    object \n",
      " 6   Estimates Start After          188 non-null    float64\n",
      "dtypes: float64(1), object(6)\n",
      "memory usage: 10.5+ KB\n"
     ]
    }
   ],
   "source": [
    "df.info()"
   ]
  },
  {
   "cell_type": "code",
   "execution_count": null,
   "id": "b7ec94a5-df46-4fa1-9038-f11b9c306dc8",
   "metadata": {},
   "outputs": [],
   "source": []
  },
  {
   "cell_type": "code",
   "execution_count": null,
   "id": "36b65990-0100-48b9-b4a3-6d7197bbfc2d",
   "metadata": {},
   "outputs": [],
   "source": []
  },
  {
   "cell_type": "code",
   "execution_count": null,
   "id": "d1b41106-c905-492e-a035-a3da5995c656",
   "metadata": {},
   "outputs": [],
   "source": []
  },
  {
   "cell_type": "markdown",
   "id": "ff2eae46-0569-48e1-a68a-ecd49eae8331",
   "metadata": {},
   "source": [
    "## Left-over topics"
   ]
  },
  {
   "cell_type": "code",
   "execution_count": 18,
   "id": "e5995695-3829-4821-98cd-b20c4641d37e",
   "metadata": {},
   "outputs": [
    {
     "data": {
      "text/html": [
       "<div>\n",
       "<style scoped>\n",
       "    .dataframe tbody tr th:only-of-type {\n",
       "        vertical-align: middle;\n",
       "    }\n",
       "\n",
       "    .dataframe tbody tr th {\n",
       "        vertical-align: top;\n",
       "    }\n",
       "\n",
       "    .dataframe thead th {\n",
       "        text-align: right;\n",
       "    }\n",
       "</style>\n",
       "<table border=\"1\" class=\"dataframe\">\n",
       "  <thead>\n",
       "    <tr style=\"text-align: right;\">\n",
       "      <th></th>\n",
       "      <th>Ann</th>\n",
       "      <th>Bob</th>\n",
       "      <th>Charly</th>\n",
       "      <th>Don</th>\n",
       "    </tr>\n",
       "  </thead>\n",
       "  <tbody>\n",
       "    <tr>\n",
       "      <th>0</th>\n",
       "      <td>-0.529609</td>\n",
       "      <td>-0.992113</td>\n",
       "      <td>-0.186842</td>\n",
       "      <td>-1.201507</td>\n",
       "    </tr>\n",
       "    <tr>\n",
       "      <th>1</th>\n",
       "      <td>0.117599</td>\n",
       "      <td>-0.082121</td>\n",
       "      <td>0.428800</td>\n",
       "      <td>2.366233</td>\n",
       "    </tr>\n",
       "    <tr>\n",
       "      <th>2</th>\n",
       "      <td>-1.598973</td>\n",
       "      <td>0.815992</td>\n",
       "      <td>-0.282021</td>\n",
       "      <td>-1.146180</td>\n",
       "    </tr>\n",
       "    <tr>\n",
       "      <th>3</th>\n",
       "      <td>0.671040</td>\n",
       "      <td>-0.916267</td>\n",
       "      <td>-0.366229</td>\n",
       "      <td>1.077208</td>\n",
       "    </tr>\n",
       "    <tr>\n",
       "      <th>4</th>\n",
       "      <td>-0.006897</td>\n",
       "      <td>-1.048466</td>\n",
       "      <td>-0.452772</td>\n",
       "      <td>0.620554</td>\n",
       "    </tr>\n",
       "    <tr>\n",
       "      <th>5</th>\n",
       "      <td>-1.545505</td>\n",
       "      <td>-0.465299</td>\n",
       "      <td>1.055477</td>\n",
       "      <td>0.415989</td>\n",
       "    </tr>\n",
       "  </tbody>\n",
       "</table>\n",
       "</div>"
      ],
      "text/plain": [
       "        Ann       Bob    Charly       Don\n",
       "0 -0.529609 -0.992113 -0.186842 -1.201507\n",
       "1  0.117599 -0.082121  0.428800  2.366233\n",
       "2 -1.598973  0.815992 -0.282021 -1.146180\n",
       "3  0.671040 -0.916267 -0.366229  1.077208\n",
       "4 -0.006897 -1.048466 -0.452772  0.620554\n",
       "5 -1.545505 -0.465299  1.055477  0.415989"
      ]
     },
     "execution_count": 18,
     "metadata": {},
     "output_type": "execute_result"
    }
   ],
   "source": [
    "# create a dataframe from a numpy array, with columns labeled\n",
    "df = pd.DataFrame(np.random.randn(6,4), columns = ['Ann', \"Bob\", \"Charly\", \"Don\"])\n",
    "df"
   ]
  },
  {
   "cell_type": "markdown",
   "id": "a6338067-9aa6-4a44-9ac3-d984fba1ed32",
   "metadata": {},
   "source": [
    "**Apply functions/logics to the data**"
   ]
  },
  {
   "cell_type": "code",
   "execution_count": 19,
   "id": "4a00cae5-218d-4a94-b918-5f354635c394",
   "metadata": {},
   "outputs": [
    {
     "data": {
      "text/html": [
       "<div>\n",
       "<style scoped>\n",
       "    .dataframe tbody tr th:only-of-type {\n",
       "        vertical-align: middle;\n",
       "    }\n",
       "\n",
       "    .dataframe tbody tr th {\n",
       "        vertical-align: top;\n",
       "    }\n",
       "\n",
       "    .dataframe thead th {\n",
       "        text-align: right;\n",
       "    }\n",
       "</style>\n",
       "<table border=\"1\" class=\"dataframe\">\n",
       "  <thead>\n",
       "    <tr style=\"text-align: right;\">\n",
       "      <th></th>\n",
       "      <th>Ann</th>\n",
       "      <th>Bob</th>\n",
       "      <th>Charly</th>\n",
       "      <th>Don</th>\n",
       "    </tr>\n",
       "  </thead>\n",
       "  <tbody>\n",
       "    <tr>\n",
       "      <th>0</th>\n",
       "      <td>-0.529609</td>\n",
       "      <td>-0.992113</td>\n",
       "      <td>-0.186842</td>\n",
       "      <td>-1.201507</td>\n",
       "    </tr>\n",
       "    <tr>\n",
       "      <th>1</th>\n",
       "      <td>-0.412010</td>\n",
       "      <td>-1.074234</td>\n",
       "      <td>0.241958</td>\n",
       "      <td>1.164726</td>\n",
       "    </tr>\n",
       "    <tr>\n",
       "      <th>2</th>\n",
       "      <td>-2.010983</td>\n",
       "      <td>-0.258242</td>\n",
       "      <td>-0.040063</td>\n",
       "      <td>0.018546</td>\n",
       "    </tr>\n",
       "    <tr>\n",
       "      <th>3</th>\n",
       "      <td>-1.339943</td>\n",
       "      <td>-1.174509</td>\n",
       "      <td>-0.406292</td>\n",
       "      <td>1.095754</td>\n",
       "    </tr>\n",
       "    <tr>\n",
       "      <th>4</th>\n",
       "      <td>-1.346839</td>\n",
       "      <td>-2.222975</td>\n",
       "      <td>-0.859064</td>\n",
       "      <td>1.716308</td>\n",
       "    </tr>\n",
       "    <tr>\n",
       "      <th>5</th>\n",
       "      <td>-2.892344</td>\n",
       "      <td>-2.688274</td>\n",
       "      <td>0.196413</td>\n",
       "      <td>2.132297</td>\n",
       "    </tr>\n",
       "  </tbody>\n",
       "</table>\n",
       "</div>"
      ],
      "text/plain": [
       "        Ann       Bob    Charly       Don\n",
       "0 -0.529609 -0.992113 -0.186842 -1.201507\n",
       "1 -0.412010 -1.074234  0.241958  1.164726\n",
       "2 -2.010983 -0.258242 -0.040063  0.018546\n",
       "3 -1.339943 -1.174509 -0.406292  1.095754\n",
       "4 -1.346839 -2.222975 -0.859064  1.716308\n",
       "5 -2.892344 -2.688274  0.196413  2.132297"
      ]
     },
     "execution_count": 19,
     "metadata": {},
     "output_type": "execute_result"
    }
   ],
   "source": [
    "df.apply(np.cumsum) # apply the function on all columns"
   ]
  },
  {
   "cell_type": "code",
   "execution_count": 20,
   "id": "bcac79c3-c7ec-4004-8fcf-25dabdaa176d",
   "metadata": {},
   "outputs": [
    {
     "data": {
      "text/html": [
       "<div>\n",
       "<style scoped>\n",
       "    .dataframe tbody tr th:only-of-type {\n",
       "        vertical-align: middle;\n",
       "    }\n",
       "\n",
       "    .dataframe tbody tr th {\n",
       "        vertical-align: top;\n",
       "    }\n",
       "\n",
       "    .dataframe thead th {\n",
       "        text-align: right;\n",
       "    }\n",
       "</style>\n",
       "<table border=\"1\" class=\"dataframe\">\n",
       "  <thead>\n",
       "    <tr style=\"text-align: right;\">\n",
       "      <th></th>\n",
       "      <th>Ann</th>\n",
       "      <th>Bob</th>\n",
       "      <th>Charly</th>\n",
       "      <th>Don</th>\n",
       "    </tr>\n",
       "  </thead>\n",
       "  <tbody>\n",
       "    <tr>\n",
       "      <th>0</th>\n",
       "      <td>0.529609</td>\n",
       "      <td>0.992113</td>\n",
       "      <td>0.186842</td>\n",
       "      <td>1.201507</td>\n",
       "    </tr>\n",
       "    <tr>\n",
       "      <th>1</th>\n",
       "      <td>-0.117599</td>\n",
       "      <td>0.082121</td>\n",
       "      <td>-0.428800</td>\n",
       "      <td>-2.366233</td>\n",
       "    </tr>\n",
       "    <tr>\n",
       "      <th>2</th>\n",
       "      <td>1.598973</td>\n",
       "      <td>-0.815992</td>\n",
       "      <td>0.282021</td>\n",
       "      <td>1.146180</td>\n",
       "    </tr>\n",
       "    <tr>\n",
       "      <th>3</th>\n",
       "      <td>-0.671040</td>\n",
       "      <td>0.916267</td>\n",
       "      <td>0.366229</td>\n",
       "      <td>-1.077208</td>\n",
       "    </tr>\n",
       "    <tr>\n",
       "      <th>4</th>\n",
       "      <td>0.006897</td>\n",
       "      <td>1.048466</td>\n",
       "      <td>0.452772</td>\n",
       "      <td>-0.620554</td>\n",
       "    </tr>\n",
       "    <tr>\n",
       "      <th>5</th>\n",
       "      <td>1.545505</td>\n",
       "      <td>0.465299</td>\n",
       "      <td>-1.055477</td>\n",
       "      <td>-0.415989</td>\n",
       "    </tr>\n",
       "  </tbody>\n",
       "</table>\n",
       "</div>"
      ],
      "text/plain": [
       "        Ann       Bob    Charly       Don\n",
       "0  0.529609  0.992113  0.186842  1.201507\n",
       "1 -0.117599  0.082121 -0.428800 -2.366233\n",
       "2  1.598973 -0.815992  0.282021  1.146180\n",
       "3 -0.671040  0.916267  0.366229 -1.077208\n",
       "4  0.006897  1.048466  0.452772 -0.620554\n",
       "5  1.545505  0.465299 -1.055477 -0.415989"
      ]
     },
     "execution_count": 20,
     "metadata": {},
     "output_type": "execute_result"
    }
   ],
   "source": [
    "df.apply(lambda x: -x) # apply the function on all columns"
   ]
  },
  {
   "cell_type": "code",
   "execution_count": 21,
   "id": "2b893e2d",
   "metadata": {},
   "outputs": [
    {
     "data": {
      "text/plain": [
       "0   -0.201507\n",
       "1    3.366233\n",
       "2   -0.146180\n",
       "3    2.077208\n",
       "4    1.620554\n",
       "5    1.415989\n",
       "Name: Don, dtype: float64"
      ]
     },
     "execution_count": 21,
     "metadata": {},
     "output_type": "execute_result"
    }
   ],
   "source": [
    "df.Don.apply(lambda x: x+1) # apply the function on one single column"
   ]
  },
  {
   "cell_type": "code",
   "execution_count": 22,
   "id": "0312c777",
   "metadata": {},
   "outputs": [
    {
     "data": {
      "text/html": [
       "<div>\n",
       "<style scoped>\n",
       "    .dataframe tbody tr th:only-of-type {\n",
       "        vertical-align: middle;\n",
       "    }\n",
       "\n",
       "    .dataframe tbody tr th {\n",
       "        vertical-align: top;\n",
       "    }\n",
       "\n",
       "    .dataframe thead th {\n",
       "        text-align: right;\n",
       "    }\n",
       "</style>\n",
       "<table border=\"1\" class=\"dataframe\">\n",
       "  <thead>\n",
       "    <tr style=\"text-align: right;\">\n",
       "      <th></th>\n",
       "      <th>Don</th>\n",
       "    </tr>\n",
       "  </thead>\n",
       "  <tbody>\n",
       "    <tr>\n",
       "      <th>0</th>\n",
       "      <td>-0.201507</td>\n",
       "    </tr>\n",
       "    <tr>\n",
       "      <th>1</th>\n",
       "      <td>3.366233</td>\n",
       "    </tr>\n",
       "    <tr>\n",
       "      <th>2</th>\n",
       "      <td>-0.146180</td>\n",
       "    </tr>\n",
       "    <tr>\n",
       "      <th>3</th>\n",
       "      <td>2.077208</td>\n",
       "    </tr>\n",
       "    <tr>\n",
       "      <th>4</th>\n",
       "      <td>1.620554</td>\n",
       "    </tr>\n",
       "    <tr>\n",
       "      <th>5</th>\n",
       "      <td>1.415989</td>\n",
       "    </tr>\n",
       "  </tbody>\n",
       "</table>\n",
       "</div>"
      ],
      "text/plain": [
       "        Don\n",
       "0 -0.201507\n",
       "1  3.366233\n",
       "2 -0.146180\n",
       "3  2.077208\n",
       "4  1.620554\n",
       "5  1.415989"
      ]
     },
     "execution_count": 22,
     "metadata": {},
     "output_type": "execute_result"
    }
   ],
   "source": [
    "df[['Don']].apply(lambda x: x+1)"
   ]
  },
  {
   "cell_type": "code",
   "execution_count": null,
   "id": "a154fd56",
   "metadata": {},
   "outputs": [],
   "source": []
  },
  {
   "cell_type": "code",
   "execution_count": 23,
   "id": "037a9830-d464-4713-a7ee-92f62ca9e329",
   "metadata": {},
   "outputs": [
    {
     "data": {
      "text/plain": [
       "0   -0.201507\n",
       "1    3.366233\n",
       "2   -0.146180\n",
       "3    2.077208\n",
       "4    1.620554\n",
       "5    1.415989\n",
       "Name: Don, dtype: float64"
      ]
     },
     "execution_count": 23,
     "metadata": {},
     "output_type": "execute_result"
    }
   ],
   "source": [
    "df.Don.map(lambda x: x+1) # apply the function on one single column"
   ]
  },
  {
   "cell_type": "code",
   "execution_count": 26,
   "id": "5d5b4d74",
   "metadata": {},
   "outputs": [
    {
     "ename": "AttributeError",
     "evalue": "'DataFrame' object has no attribute 'map'",
     "output_type": "error",
     "traceback": [
      "\u001b[0;31m---------------------------------------------------------------------------\u001b[0m",
      "\u001b[0;31mAttributeError\u001b[0m                            Traceback (most recent call last)",
      "\u001b[0;32m/var/folders/78/njcscll93_s6cc27zw_h0pmr0000gn/T/ipykernel_22031/1829204247.py\u001b[0m in \u001b[0;36m?\u001b[0;34m()\u001b[0m\n\u001b[0;32m----> 1\u001b[0;31m \u001b[0mdf\u001b[0m\u001b[0;34m[\u001b[0m\u001b[0;34m[\u001b[0m\u001b[0;34m'Don'\u001b[0m\u001b[0;34m]\u001b[0m\u001b[0;34m]\u001b[0m\u001b[0;34m.\u001b[0m\u001b[0mmap\u001b[0m\u001b[0;34m(\u001b[0m\u001b[0;32mlambda\u001b[0m \u001b[0mx\u001b[0m\u001b[0;34m:\u001b[0m \u001b[0mx\u001b[0m\u001b[0;34m+\u001b[0m\u001b[0;36m1\u001b[0m\u001b[0;34m)\u001b[0m\u001b[0;34m\u001b[0m\u001b[0;34m\u001b[0m\u001b[0m\n\u001b[0m",
      "\u001b[0;32m~/Library/Caches/pypoetry/virtualenvs/data-programming-with-python-h2fMFruk-py3.10/lib/python3.10/site-packages/pandas/core/generic.py\u001b[0m in \u001b[0;36m?\u001b[0;34m(self, name)\u001b[0m\n\u001b[1;32m   5985\u001b[0m             \u001b[0;32mand\u001b[0m \u001b[0mname\u001b[0m \u001b[0;32mnot\u001b[0m \u001b[0;32min\u001b[0m \u001b[0mself\u001b[0m\u001b[0;34m.\u001b[0m\u001b[0m_accessors\u001b[0m\u001b[0;34m\u001b[0m\u001b[0;34m\u001b[0m\u001b[0m\n\u001b[1;32m   5986\u001b[0m             \u001b[0;32mand\u001b[0m \u001b[0mself\u001b[0m\u001b[0;34m.\u001b[0m\u001b[0m_info_axis\u001b[0m\u001b[0;34m.\u001b[0m\u001b[0m_can_hold_identifiers_and_holds_name\u001b[0m\u001b[0;34m(\u001b[0m\u001b[0mname\u001b[0m\u001b[0;34m)\u001b[0m\u001b[0;34m\u001b[0m\u001b[0;34m\u001b[0m\u001b[0m\n\u001b[1;32m   5987\u001b[0m         ):\n\u001b[1;32m   5988\u001b[0m             \u001b[0;32mreturn\u001b[0m \u001b[0mself\u001b[0m\u001b[0;34m[\u001b[0m\u001b[0mname\u001b[0m\u001b[0;34m]\u001b[0m\u001b[0;34m\u001b[0m\u001b[0;34m\u001b[0m\u001b[0m\n\u001b[0;32m-> 5989\u001b[0;31m         \u001b[0;32mreturn\u001b[0m \u001b[0mobject\u001b[0m\u001b[0;34m.\u001b[0m\u001b[0m__getattribute__\u001b[0m\u001b[0;34m(\u001b[0m\u001b[0mself\u001b[0m\u001b[0;34m,\u001b[0m \u001b[0mname\u001b[0m\u001b[0;34m)\u001b[0m\u001b[0;34m\u001b[0m\u001b[0;34m\u001b[0m\u001b[0m\n\u001b[0m",
      "\u001b[0;31mAttributeError\u001b[0m: 'DataFrame' object has no attribute 'map'"
     ]
    }
   ],
   "source": [
    "df[['Don']].map(lambda x: x+1)"
   ]
  },
  {
   "cell_type": "code",
   "execution_count": null,
   "id": "40664f65-9eb0-4333-812d-8da94fab4ada",
   "metadata": {},
   "outputs": [],
   "source": []
  },
  {
   "cell_type": "markdown",
   "id": "33404221-fba0-43b8-ab33-9194f694028f",
   "metadata": {},
   "source": [
    "**`dataframe` and table operations**"
   ]
  },
  {
   "cell_type": "code",
   "execution_count": 27,
   "id": "feb054c6-fb1a-4c30-8dd1-b1295b35953e",
   "metadata": {},
   "outputs": [
    {
     "data": {
      "text/html": [
       "<div>\n",
       "<style scoped>\n",
       "    .dataframe tbody tr th:only-of-type {\n",
       "        vertical-align: middle;\n",
       "    }\n",
       "\n",
       "    .dataframe tbody tr th {\n",
       "        vertical-align: top;\n",
       "    }\n",
       "\n",
       "    .dataframe thead th {\n",
       "        text-align: right;\n",
       "    }\n",
       "</style>\n",
       "<table border=\"1\" class=\"dataframe\">\n",
       "  <thead>\n",
       "    <tr style=\"text-align: right;\">\n",
       "      <th></th>\n",
       "      <th>a</th>\n",
       "      <th>b</th>\n",
       "      <th>c</th>\n",
       "      <th>d</th>\n",
       "    </tr>\n",
       "  </thead>\n",
       "  <tbody>\n",
       "    <tr>\n",
       "      <th>0</th>\n",
       "      <td>-0.203283</td>\n",
       "      <td>-1.005227</td>\n",
       "      <td>1.451550</td>\n",
       "      <td>-0.210442</td>\n",
       "    </tr>\n",
       "    <tr>\n",
       "      <th>1</th>\n",
       "      <td>-1.944991</td>\n",
       "      <td>-1.095959</td>\n",
       "      <td>-1.724071</td>\n",
       "      <td>-0.092406</td>\n",
       "    </tr>\n",
       "    <tr>\n",
       "      <th>2</th>\n",
       "      <td>0.734761</td>\n",
       "      <td>-1.019218</td>\n",
       "      <td>0.113762</td>\n",
       "      <td>2.122268</td>\n",
       "    </tr>\n",
       "    <tr>\n",
       "      <th>3</th>\n",
       "      <td>0.122388</td>\n",
       "      <td>-0.713059</td>\n",
       "      <td>1.561926</td>\n",
       "      <td>-0.264754</td>\n",
       "    </tr>\n",
       "    <tr>\n",
       "      <th>4</th>\n",
       "      <td>0.221250</td>\n",
       "      <td>1.300123</td>\n",
       "      <td>0.116931</td>\n",
       "      <td>0.764971</td>\n",
       "    </tr>\n",
       "    <tr>\n",
       "      <th>5</th>\n",
       "      <td>-1.840479</td>\n",
       "      <td>1.528076</td>\n",
       "      <td>0.040473</td>\n",
       "      <td>0.107120</td>\n",
       "    </tr>\n",
       "    <tr>\n",
       "      <th>6</th>\n",
       "      <td>-0.725554</td>\n",
       "      <td>0.004309</td>\n",
       "      <td>1.133448</td>\n",
       "      <td>0.246196</td>\n",
       "    </tr>\n",
       "    <tr>\n",
       "      <th>7</th>\n",
       "      <td>0.232094</td>\n",
       "      <td>-0.002987</td>\n",
       "      <td>-1.701746</td>\n",
       "      <td>0.353314</td>\n",
       "    </tr>\n",
       "    <tr>\n",
       "      <th>8</th>\n",
       "      <td>-0.364404</td>\n",
       "      <td>1.997004</td>\n",
       "      <td>-1.132634</td>\n",
       "      <td>-1.403338</td>\n",
       "    </tr>\n",
       "    <tr>\n",
       "      <th>9</th>\n",
       "      <td>-1.623864</td>\n",
       "      <td>-1.325168</td>\n",
       "      <td>1.000760</td>\n",
       "      <td>0.482729</td>\n",
       "    </tr>\n",
       "  </tbody>\n",
       "</table>\n",
       "</div>"
      ],
      "text/plain": [
       "          a         b         c         d\n",
       "0 -0.203283 -1.005227  1.451550 -0.210442\n",
       "1 -1.944991 -1.095959 -1.724071 -0.092406\n",
       "2  0.734761 -1.019218  0.113762  2.122268\n",
       "3  0.122388 -0.713059  1.561926 -0.264754\n",
       "4  0.221250  1.300123  0.116931  0.764971\n",
       "5 -1.840479  1.528076  0.040473  0.107120\n",
       "6 -0.725554  0.004309  1.133448  0.246196\n",
       "7  0.232094 -0.002987 -1.701746  0.353314\n",
       "8 -0.364404  1.997004 -1.132634 -1.403338\n",
       "9 -1.623864 -1.325168  1.000760  0.482729"
      ]
     },
     "execution_count": 27,
     "metadata": {},
     "output_type": "execute_result"
    }
   ],
   "source": [
    "df = pd.DataFrame(np.random.randn(10, 4), columns=['a','b','c','d'])\n",
    "df"
   ]
  },
  {
   "cell_type": "markdown",
   "id": "de46c5b1-f1f5-45f3-811d-552f9b7bda1e",
   "metadata": {},
   "source": [
    "**Concat**"
   ]
  },
  {
   "cell_type": "code",
   "execution_count": 28,
   "id": "5b67e404",
   "metadata": {},
   "outputs": [
    {
     "data": {
      "text/html": [
       "<div>\n",
       "<style scoped>\n",
       "    .dataframe tbody tr th:only-of-type {\n",
       "        vertical-align: middle;\n",
       "    }\n",
       "\n",
       "    .dataframe tbody tr th {\n",
       "        vertical-align: top;\n",
       "    }\n",
       "\n",
       "    .dataframe thead th {\n",
       "        text-align: right;\n",
       "    }\n",
       "</style>\n",
       "<table border=\"1\" class=\"dataframe\">\n",
       "  <thead>\n",
       "    <tr style=\"text-align: right;\">\n",
       "      <th></th>\n",
       "      <th>a</th>\n",
       "      <th>b</th>\n",
       "      <th>c</th>\n",
       "      <th>d</th>\n",
       "    </tr>\n",
       "  </thead>\n",
       "  <tbody>\n",
       "    <tr>\n",
       "      <th>0</th>\n",
       "      <td>-0.203283</td>\n",
       "      <td>-1.005227</td>\n",
       "      <td>1.451550</td>\n",
       "      <td>-0.210442</td>\n",
       "    </tr>\n",
       "    <tr>\n",
       "      <th>1</th>\n",
       "      <td>-1.944991</td>\n",
       "      <td>-1.095959</td>\n",
       "      <td>-1.724071</td>\n",
       "      <td>-0.092406</td>\n",
       "    </tr>\n",
       "    <tr>\n",
       "      <th>2</th>\n",
       "      <td>0.734761</td>\n",
       "      <td>-1.019218</td>\n",
       "      <td>0.113762</td>\n",
       "      <td>2.122268</td>\n",
       "    </tr>\n",
       "  </tbody>\n",
       "</table>\n",
       "</div>"
      ],
      "text/plain": [
       "          a         b         c         d\n",
       "0 -0.203283 -1.005227  1.451550 -0.210442\n",
       "1 -1.944991 -1.095959 -1.724071 -0.092406\n",
       "2  0.734761 -1.019218  0.113762  2.122268"
      ]
     },
     "execution_count": 28,
     "metadata": {},
     "output_type": "execute_result"
    }
   ],
   "source": [
    "df[:3]"
   ]
  },
  {
   "cell_type": "code",
   "execution_count": 29,
   "id": "0250553b",
   "metadata": {},
   "outputs": [
    {
     "data": {
      "text/html": [
       "<div>\n",
       "<style scoped>\n",
       "    .dataframe tbody tr th:only-of-type {\n",
       "        vertical-align: middle;\n",
       "    }\n",
       "\n",
       "    .dataframe tbody tr th {\n",
       "        vertical-align: top;\n",
       "    }\n",
       "\n",
       "    .dataframe thead th {\n",
       "        text-align: right;\n",
       "    }\n",
       "</style>\n",
       "<table border=\"1\" class=\"dataframe\">\n",
       "  <thead>\n",
       "    <tr style=\"text-align: right;\">\n",
       "      <th></th>\n",
       "      <th>a</th>\n",
       "      <th>b</th>\n",
       "      <th>c</th>\n",
       "      <th>d</th>\n",
       "    </tr>\n",
       "  </thead>\n",
       "  <tbody>\n",
       "    <tr>\n",
       "      <th>7</th>\n",
       "      <td>0.232094</td>\n",
       "      <td>-0.002987</td>\n",
       "      <td>-1.701746</td>\n",
       "      <td>0.353314</td>\n",
       "    </tr>\n",
       "    <tr>\n",
       "      <th>8</th>\n",
       "      <td>-0.364404</td>\n",
       "      <td>1.997004</td>\n",
       "      <td>-1.132634</td>\n",
       "      <td>-1.403338</td>\n",
       "    </tr>\n",
       "    <tr>\n",
       "      <th>9</th>\n",
       "      <td>-1.623864</td>\n",
       "      <td>-1.325168</td>\n",
       "      <td>1.000760</td>\n",
       "      <td>0.482729</td>\n",
       "    </tr>\n",
       "  </tbody>\n",
       "</table>\n",
       "</div>"
      ],
      "text/plain": [
       "          a         b         c         d\n",
       "7  0.232094 -0.002987 -1.701746  0.353314\n",
       "8 -0.364404  1.997004 -1.132634 -1.403338\n",
       "9 -1.623864 -1.325168  1.000760  0.482729"
      ]
     },
     "execution_count": 29,
     "metadata": {},
     "output_type": "execute_result"
    }
   ],
   "source": [
    "df[7:]"
   ]
  },
  {
   "cell_type": "code",
   "execution_count": 30,
   "id": "9a5a73d3",
   "metadata": {},
   "outputs": [
    {
     "name": "stdout",
     "output_type": "stream",
     "text": [
      "pieces:\n",
      " [          a         b         c         d\n",
      "0 -0.203283 -1.005227  1.451550 -0.210442\n",
      "1 -1.944991 -1.095959 -1.724071 -0.092406\n",
      "2  0.734761 -1.019218  0.113762  2.122268,           a         b         c         d\n",
      "7  0.232094 -0.002987 -1.701746  0.353314\n",
      "8 -0.364404  1.997004 -1.132634 -1.403338\n",
      "9 -1.623864 -1.325168  1.000760  0.482729]\n"
     ]
    }
   ],
   "source": [
    "pieces = [df[:3], df[7:]]\n",
    "print(\"pieces:\\n\", pieces)"
   ]
  },
  {
   "cell_type": "code",
   "execution_count": 31,
   "id": "862a3b2d-661b-443f-ac0e-6f576c24f28f",
   "metadata": {},
   "outputs": [
    {
     "name": "stdout",
     "output_type": "stream",
     "text": [
      "put back together:\n",
      "\n"
     ]
    },
    {
     "data": {
      "text/html": [
       "<div>\n",
       "<style scoped>\n",
       "    .dataframe tbody tr th:only-of-type {\n",
       "        vertical-align: middle;\n",
       "    }\n",
       "\n",
       "    .dataframe tbody tr th {\n",
       "        vertical-align: top;\n",
       "    }\n",
       "\n",
       "    .dataframe thead th {\n",
       "        text-align: right;\n",
       "    }\n",
       "</style>\n",
       "<table border=\"1\" class=\"dataframe\">\n",
       "  <thead>\n",
       "    <tr style=\"text-align: right;\">\n",
       "      <th></th>\n",
       "      <th>a</th>\n",
       "      <th>b</th>\n",
       "      <th>c</th>\n",
       "      <th>d</th>\n",
       "    </tr>\n",
       "  </thead>\n",
       "  <tbody>\n",
       "    <tr>\n",
       "      <th>0</th>\n",
       "      <td>-0.203283</td>\n",
       "      <td>-1.005227</td>\n",
       "      <td>1.451550</td>\n",
       "      <td>-0.210442</td>\n",
       "    </tr>\n",
       "    <tr>\n",
       "      <th>1</th>\n",
       "      <td>-1.944991</td>\n",
       "      <td>-1.095959</td>\n",
       "      <td>-1.724071</td>\n",
       "      <td>-0.092406</td>\n",
       "    </tr>\n",
       "    <tr>\n",
       "      <th>2</th>\n",
       "      <td>0.734761</td>\n",
       "      <td>-1.019218</td>\n",
       "      <td>0.113762</td>\n",
       "      <td>2.122268</td>\n",
       "    </tr>\n",
       "    <tr>\n",
       "      <th>7</th>\n",
       "      <td>0.232094</td>\n",
       "      <td>-0.002987</td>\n",
       "      <td>-1.701746</td>\n",
       "      <td>0.353314</td>\n",
       "    </tr>\n",
       "    <tr>\n",
       "      <th>8</th>\n",
       "      <td>-0.364404</td>\n",
       "      <td>1.997004</td>\n",
       "      <td>-1.132634</td>\n",
       "      <td>-1.403338</td>\n",
       "    </tr>\n",
       "    <tr>\n",
       "      <th>9</th>\n",
       "      <td>-1.623864</td>\n",
       "      <td>-1.325168</td>\n",
       "      <td>1.000760</td>\n",
       "      <td>0.482729</td>\n",
       "    </tr>\n",
       "  </tbody>\n",
       "</table>\n",
       "</div>"
      ],
      "text/plain": [
       "          a         b         c         d\n",
       "0 -0.203283 -1.005227  1.451550 -0.210442\n",
       "1 -1.944991 -1.095959 -1.724071 -0.092406\n",
       "2  0.734761 -1.019218  0.113762  2.122268\n",
       "7  0.232094 -0.002987 -1.701746  0.353314\n",
       "8 -0.364404  1.997004 -1.132634 -1.403338\n",
       "9 -1.623864 -1.325168  1.000760  0.482729"
      ]
     },
     "execution_count": 31,
     "metadata": {},
     "output_type": "execute_result"
    }
   ],
   "source": [
    "print(\"put back together:\\n\")\n",
    "pd.concat(pieces, axis=0)"
   ]
  },
  {
   "cell_type": "code",
   "execution_count": 33,
   "id": "dee4762d",
   "metadata": {},
   "outputs": [],
   "source": [
    "# pd.concat(pieces, axis=1)"
   ]
  },
  {
   "cell_type": "code",
   "execution_count": 34,
   "id": "8013a78a",
   "metadata": {},
   "outputs": [
    {
     "name": "stdout",
     "output_type": "stream",
     "text": [
      "put back together:\n",
      "\n"
     ]
    },
    {
     "data": {
      "text/html": [
       "<div>\n",
       "<style scoped>\n",
       "    .dataframe tbody tr th:only-of-type {\n",
       "        vertical-align: middle;\n",
       "    }\n",
       "\n",
       "    .dataframe tbody tr th {\n",
       "        vertical-align: top;\n",
       "    }\n",
       "\n",
       "    .dataframe thead th {\n",
       "        text-align: right;\n",
       "    }\n",
       "</style>\n",
       "<table border=\"1\" class=\"dataframe\">\n",
       "  <thead>\n",
       "    <tr style=\"text-align: right;\">\n",
       "      <th></th>\n",
       "      <th>a</th>\n",
       "      <th>b</th>\n",
       "      <th>c</th>\n",
       "      <th>d</th>\n",
       "    </tr>\n",
       "  </thead>\n",
       "  <tbody>\n",
       "    <tr>\n",
       "      <th>0</th>\n",
       "      <td>-0.203283</td>\n",
       "      <td>-1.005227</td>\n",
       "      <td>1.451550</td>\n",
       "      <td>-0.210442</td>\n",
       "    </tr>\n",
       "    <tr>\n",
       "      <th>1</th>\n",
       "      <td>-1.944991</td>\n",
       "      <td>-1.095959</td>\n",
       "      <td>-1.724071</td>\n",
       "      <td>-0.092406</td>\n",
       "    </tr>\n",
       "    <tr>\n",
       "      <th>2</th>\n",
       "      <td>0.734761</td>\n",
       "      <td>-1.019218</td>\n",
       "      <td>0.113762</td>\n",
       "      <td>2.122268</td>\n",
       "    </tr>\n",
       "    <tr>\n",
       "      <th>3</th>\n",
       "      <td>0.232094</td>\n",
       "      <td>-0.002987</td>\n",
       "      <td>-1.701746</td>\n",
       "      <td>0.353314</td>\n",
       "    </tr>\n",
       "    <tr>\n",
       "      <th>4</th>\n",
       "      <td>-0.364404</td>\n",
       "      <td>1.997004</td>\n",
       "      <td>-1.132634</td>\n",
       "      <td>-1.403338</td>\n",
       "    </tr>\n",
       "    <tr>\n",
       "      <th>5</th>\n",
       "      <td>-1.623864</td>\n",
       "      <td>-1.325168</td>\n",
       "      <td>1.000760</td>\n",
       "      <td>0.482729</td>\n",
       "    </tr>\n",
       "  </tbody>\n",
       "</table>\n",
       "</div>"
      ],
      "text/plain": [
       "          a         b         c         d\n",
       "0 -0.203283 -1.005227  1.451550 -0.210442\n",
       "1 -1.944991 -1.095959 -1.724071 -0.092406\n",
       "2  0.734761 -1.019218  0.113762  2.122268\n",
       "3  0.232094 -0.002987 -1.701746  0.353314\n",
       "4 -0.364404  1.997004 -1.132634 -1.403338\n",
       "5 -1.623864 -1.325168  1.000760  0.482729"
      ]
     },
     "execution_count": 34,
     "metadata": {},
     "output_type": "execute_result"
    }
   ],
   "source": [
    "print(\"put back together:\\n\")\n",
    "pd.concat(pieces, axis=0, ignore_index=True)"
   ]
  },
  {
   "cell_type": "code",
   "execution_count": null,
   "id": "de04b9f6",
   "metadata": {},
   "outputs": [],
   "source": []
  },
  {
   "cell_type": "markdown",
   "id": "3baf6b67-ff12-43c2-bed1-22c72c37839a",
   "metadata": {},
   "source": [
    "**Append new data from another `dataframe`**"
   ]
  },
  {
   "cell_type": "code",
   "execution_count": 35,
   "id": "ed3e446d-5821-4d2f-9385-138a62a98b9e",
   "metadata": {},
   "outputs": [
    {
     "data": {
      "text/html": [
       "<div>\n",
       "<style scoped>\n",
       "    .dataframe tbody tr th:only-of-type {\n",
       "        vertical-align: middle;\n",
       "    }\n",
       "\n",
       "    .dataframe tbody tr th {\n",
       "        vertical-align: top;\n",
       "    }\n",
       "\n",
       "    .dataframe thead th {\n",
       "        text-align: right;\n",
       "    }\n",
       "</style>\n",
       "<table border=\"1\" class=\"dataframe\">\n",
       "  <thead>\n",
       "    <tr style=\"text-align: right;\">\n",
       "      <th></th>\n",
       "      <th>a</th>\n",
       "      <th>b</th>\n",
       "      <th>c</th>\n",
       "      <th>d</th>\n",
       "    </tr>\n",
       "  </thead>\n",
       "  <tbody>\n",
       "    <tr>\n",
       "      <th>0</th>\n",
       "      <td>0.856823</td>\n",
       "      <td>1.207297</td>\n",
       "      <td>1.074037</td>\n",
       "      <td>-0.088272</td>\n",
       "    </tr>\n",
       "    <tr>\n",
       "      <th>1</th>\n",
       "      <td>2.082606</td>\n",
       "      <td>1.097481</td>\n",
       "      <td>0.327872</td>\n",
       "      <td>1.026959</td>\n",
       "    </tr>\n",
       "    <tr>\n",
       "      <th>2</th>\n",
       "      <td>-0.663520</td>\n",
       "      <td>0.174239</td>\n",
       "      <td>-1.134953</td>\n",
       "      <td>1.188880</td>\n",
       "    </tr>\n",
       "    <tr>\n",
       "      <th>3</th>\n",
       "      <td>0.180761</td>\n",
       "      <td>-0.921303</td>\n",
       "      <td>-0.192347</td>\n",
       "      <td>0.784204</td>\n",
       "    </tr>\n",
       "  </tbody>\n",
       "</table>\n",
       "</div>"
      ],
      "text/plain": [
       "          a         b         c         d\n",
       "0  0.856823  1.207297  1.074037 -0.088272\n",
       "1  2.082606  1.097481  0.327872  1.026959\n",
       "2 -0.663520  0.174239 -1.134953  1.188880\n",
       "3  0.180761 -0.921303 -0.192347  0.784204"
      ]
     },
     "execution_count": 35,
     "metadata": {},
     "output_type": "execute_result"
    }
   ],
   "source": [
    "df_p2 = pd.DataFrame(np.random.randn(4, 4), columns=['a','b','c','d'])\n",
    "df_p2"
   ]
  },
  {
   "cell_type": "code",
   "execution_count": 36,
   "id": "044a6bd8",
   "metadata": {},
   "outputs": [
    {
     "data": {
      "text/html": [
       "<div>\n",
       "<style scoped>\n",
       "    .dataframe tbody tr th:only-of-type {\n",
       "        vertical-align: middle;\n",
       "    }\n",
       "\n",
       "    .dataframe tbody tr th {\n",
       "        vertical-align: top;\n",
       "    }\n",
       "\n",
       "    .dataframe thead th {\n",
       "        text-align: right;\n",
       "    }\n",
       "</style>\n",
       "<table border=\"1\" class=\"dataframe\">\n",
       "  <thead>\n",
       "    <tr style=\"text-align: right;\">\n",
       "      <th></th>\n",
       "      <th>a</th>\n",
       "      <th>b</th>\n",
       "      <th>c</th>\n",
       "      <th>d</th>\n",
       "    </tr>\n",
       "  </thead>\n",
       "  <tbody>\n",
       "    <tr>\n",
       "      <th>0</th>\n",
       "      <td>-0.203283</td>\n",
       "      <td>-1.005227</td>\n",
       "      <td>1.451550</td>\n",
       "      <td>-0.210442</td>\n",
       "    </tr>\n",
       "    <tr>\n",
       "      <th>1</th>\n",
       "      <td>-1.944991</td>\n",
       "      <td>-1.095959</td>\n",
       "      <td>-1.724071</td>\n",
       "      <td>-0.092406</td>\n",
       "    </tr>\n",
       "    <tr>\n",
       "      <th>2</th>\n",
       "      <td>0.734761</td>\n",
       "      <td>-1.019218</td>\n",
       "      <td>0.113762</td>\n",
       "      <td>2.122268</td>\n",
       "    </tr>\n",
       "    <tr>\n",
       "      <th>3</th>\n",
       "      <td>0.122388</td>\n",
       "      <td>-0.713059</td>\n",
       "      <td>1.561926</td>\n",
       "      <td>-0.264754</td>\n",
       "    </tr>\n",
       "    <tr>\n",
       "      <th>4</th>\n",
       "      <td>0.221250</td>\n",
       "      <td>1.300123</td>\n",
       "      <td>0.116931</td>\n",
       "      <td>0.764971</td>\n",
       "    </tr>\n",
       "    <tr>\n",
       "      <th>5</th>\n",
       "      <td>-1.840479</td>\n",
       "      <td>1.528076</td>\n",
       "      <td>0.040473</td>\n",
       "      <td>0.107120</td>\n",
       "    </tr>\n",
       "    <tr>\n",
       "      <th>6</th>\n",
       "      <td>-0.725554</td>\n",
       "      <td>0.004309</td>\n",
       "      <td>1.133448</td>\n",
       "      <td>0.246196</td>\n",
       "    </tr>\n",
       "    <tr>\n",
       "      <th>7</th>\n",
       "      <td>0.232094</td>\n",
       "      <td>-0.002987</td>\n",
       "      <td>-1.701746</td>\n",
       "      <td>0.353314</td>\n",
       "    </tr>\n",
       "    <tr>\n",
       "      <th>8</th>\n",
       "      <td>-0.364404</td>\n",
       "      <td>1.997004</td>\n",
       "      <td>-1.132634</td>\n",
       "      <td>-1.403338</td>\n",
       "    </tr>\n",
       "    <tr>\n",
       "      <th>9</th>\n",
       "      <td>-1.623864</td>\n",
       "      <td>-1.325168</td>\n",
       "      <td>1.000760</td>\n",
       "      <td>0.482729</td>\n",
       "    </tr>\n",
       "  </tbody>\n",
       "</table>\n",
       "</div>"
      ],
      "text/plain": [
       "          a         b         c         d\n",
       "0 -0.203283 -1.005227  1.451550 -0.210442\n",
       "1 -1.944991 -1.095959 -1.724071 -0.092406\n",
       "2  0.734761 -1.019218  0.113762  2.122268\n",
       "3  0.122388 -0.713059  1.561926 -0.264754\n",
       "4  0.221250  1.300123  0.116931  0.764971\n",
       "5 -1.840479  1.528076  0.040473  0.107120\n",
       "6 -0.725554  0.004309  1.133448  0.246196\n",
       "7  0.232094 -0.002987 -1.701746  0.353314\n",
       "8 -0.364404  1.997004 -1.132634 -1.403338\n",
       "9 -1.623864 -1.325168  1.000760  0.482729"
      ]
     },
     "execution_count": 36,
     "metadata": {},
     "output_type": "execute_result"
    }
   ],
   "source": [
    "df"
   ]
  },
  {
   "cell_type": "code",
   "execution_count": 37,
   "id": "4eb7e280-1351-4ee5-a2ba-7e153c1446fd",
   "metadata": {},
   "outputs": [
    {
     "ename": "AttributeError",
     "evalue": "'DataFrame' object has no attribute 'append'",
     "output_type": "error",
     "traceback": [
      "\u001b[0;31m---------------------------------------------------------------------------\u001b[0m",
      "\u001b[0;31mAttributeError\u001b[0m                            Traceback (most recent call last)",
      "\u001b[0;32m/var/folders/78/njcscll93_s6cc27zw_h0pmr0000gn/T/ipykernel_22031/2094904254.py\u001b[0m in \u001b[0;36m?\u001b[0;34m()\u001b[0m\n\u001b[0;32m----> 1\u001b[0;31m \u001b[0mdf\u001b[0m\u001b[0;34m.\u001b[0m\u001b[0mappend\u001b[0m\u001b[0;34m(\u001b[0m\u001b[0mdf2\u001b[0m\u001b[0;34m)\u001b[0m\u001b[0;34m\u001b[0m\u001b[0;34m\u001b[0m\u001b[0m\n\u001b[0m",
      "\u001b[0;32m~/Library/Caches/pypoetry/virtualenvs/data-programming-with-python-h2fMFruk-py3.10/lib/python3.10/site-packages/pandas/core/generic.py\u001b[0m in \u001b[0;36m?\u001b[0;34m(self, name)\u001b[0m\n\u001b[1;32m   5985\u001b[0m             \u001b[0;32mand\u001b[0m \u001b[0mname\u001b[0m \u001b[0;32mnot\u001b[0m \u001b[0;32min\u001b[0m \u001b[0mself\u001b[0m\u001b[0;34m.\u001b[0m\u001b[0m_accessors\u001b[0m\u001b[0;34m\u001b[0m\u001b[0;34m\u001b[0m\u001b[0m\n\u001b[1;32m   5986\u001b[0m             \u001b[0;32mand\u001b[0m \u001b[0mself\u001b[0m\u001b[0;34m.\u001b[0m\u001b[0m_info_axis\u001b[0m\u001b[0;34m.\u001b[0m\u001b[0m_can_hold_identifiers_and_holds_name\u001b[0m\u001b[0;34m(\u001b[0m\u001b[0mname\u001b[0m\u001b[0;34m)\u001b[0m\u001b[0;34m\u001b[0m\u001b[0;34m\u001b[0m\u001b[0m\n\u001b[1;32m   5987\u001b[0m         ):\n\u001b[1;32m   5988\u001b[0m             \u001b[0;32mreturn\u001b[0m \u001b[0mself\u001b[0m\u001b[0;34m[\u001b[0m\u001b[0mname\u001b[0m\u001b[0;34m]\u001b[0m\u001b[0;34m\u001b[0m\u001b[0;34m\u001b[0m\u001b[0m\n\u001b[0;32m-> 5989\u001b[0;31m         \u001b[0;32mreturn\u001b[0m \u001b[0mobject\u001b[0m\u001b[0;34m.\u001b[0m\u001b[0m__getattribute__\u001b[0m\u001b[0;34m(\u001b[0m\u001b[0mself\u001b[0m\u001b[0;34m,\u001b[0m \u001b[0mname\u001b[0m\u001b[0;34m)\u001b[0m\u001b[0;34m\u001b[0m\u001b[0;34m\u001b[0m\u001b[0m\n\u001b[0m",
      "\u001b[0;31mAttributeError\u001b[0m: 'DataFrame' object has no attribute 'append'"
     ]
    }
   ],
   "source": [
    "df.append(df2)"
   ]
  },
  {
   "cell_type": "code",
   "execution_count": null,
   "id": "68e53a4c-3800-463f-be62-a2b625f03278",
   "metadata": {},
   "outputs": [],
   "source": []
  },
  {
   "cell_type": "markdown",
   "id": "14d53544-c04e-4c75-92c5-0044917cb752",
   "metadata": {},
   "source": [
    "**Joins**\n",
    "\n",
    "More details at https://pandas.pydata.org/pandas-docs/stable/user_guide/merging.html\n",
    "![](../pics/joins.jpg)"
   ]
  },
  {
   "cell_type": "code",
   "execution_count": 38,
   "id": "4c628906-c648-44cc-a3b3-26a3d65a55b0",
   "metadata": {},
   "outputs": [],
   "source": [
    "tb1 = pd.DataFrame({'key': ['foo', 'boo', 'foo'], 'lval': [1, 2, 3]})\n",
    "tb2 = pd.DataFrame({'key': ['foo', 'coo'], 'rval': [5, 6]})"
   ]
  },
  {
   "cell_type": "code",
   "execution_count": 39,
   "id": "e9d50e83-916e-4227-9f9a-4c69efdde306",
   "metadata": {},
   "outputs": [
    {
     "data": {
      "text/html": [
       "<div>\n",
       "<style scoped>\n",
       "    .dataframe tbody tr th:only-of-type {\n",
       "        vertical-align: middle;\n",
       "    }\n",
       "\n",
       "    .dataframe tbody tr th {\n",
       "        vertical-align: top;\n",
       "    }\n",
       "\n",
       "    .dataframe thead th {\n",
       "        text-align: right;\n",
       "    }\n",
       "</style>\n",
       "<table border=\"1\" class=\"dataframe\">\n",
       "  <thead>\n",
       "    <tr style=\"text-align: right;\">\n",
       "      <th></th>\n",
       "      <th>key</th>\n",
       "      <th>lval</th>\n",
       "    </tr>\n",
       "  </thead>\n",
       "  <tbody>\n",
       "    <tr>\n",
       "      <th>0</th>\n",
       "      <td>foo</td>\n",
       "      <td>1</td>\n",
       "    </tr>\n",
       "    <tr>\n",
       "      <th>1</th>\n",
       "      <td>boo</td>\n",
       "      <td>2</td>\n",
       "    </tr>\n",
       "    <tr>\n",
       "      <th>2</th>\n",
       "      <td>foo</td>\n",
       "      <td>3</td>\n",
       "    </tr>\n",
       "  </tbody>\n",
       "</table>\n",
       "</div>"
      ],
      "text/plain": [
       "   key  lval\n",
       "0  foo     1\n",
       "1  boo     2\n",
       "2  foo     3"
      ]
     },
     "execution_count": 39,
     "metadata": {},
     "output_type": "execute_result"
    }
   ],
   "source": [
    "tb1"
   ]
  },
  {
   "cell_type": "code",
   "execution_count": 40,
   "id": "d999cde8-c55e-4d18-839e-f799ce6f0344",
   "metadata": {},
   "outputs": [
    {
     "data": {
      "text/html": [
       "<div>\n",
       "<style scoped>\n",
       "    .dataframe tbody tr th:only-of-type {\n",
       "        vertical-align: middle;\n",
       "    }\n",
       "\n",
       "    .dataframe tbody tr th {\n",
       "        vertical-align: top;\n",
       "    }\n",
       "\n",
       "    .dataframe thead th {\n",
       "        text-align: right;\n",
       "    }\n",
       "</style>\n",
       "<table border=\"1\" class=\"dataframe\">\n",
       "  <thead>\n",
       "    <tr style=\"text-align: right;\">\n",
       "      <th></th>\n",
       "      <th>key</th>\n",
       "      <th>rval</th>\n",
       "    </tr>\n",
       "  </thead>\n",
       "  <tbody>\n",
       "    <tr>\n",
       "      <th>0</th>\n",
       "      <td>foo</td>\n",
       "      <td>5</td>\n",
       "    </tr>\n",
       "    <tr>\n",
       "      <th>1</th>\n",
       "      <td>coo</td>\n",
       "      <td>6</td>\n",
       "    </tr>\n",
       "  </tbody>\n",
       "</table>\n",
       "</div>"
      ],
      "text/plain": [
       "   key  rval\n",
       "0  foo     5\n",
       "1  coo     6"
      ]
     },
     "execution_count": 40,
     "metadata": {},
     "output_type": "execute_result"
    }
   ],
   "source": [
    "tb2"
   ]
  },
  {
   "cell_type": "code",
   "execution_count": 41,
   "id": "29d5f5e9-f55e-410c-8517-3df7a8dfd4b7",
   "metadata": {},
   "outputs": [
    {
     "data": {
      "text/html": [
       "<div>\n",
       "<style scoped>\n",
       "    .dataframe tbody tr th:only-of-type {\n",
       "        vertical-align: middle;\n",
       "    }\n",
       "\n",
       "    .dataframe tbody tr th {\n",
       "        vertical-align: top;\n",
       "    }\n",
       "\n",
       "    .dataframe thead th {\n",
       "        text-align: right;\n",
       "    }\n",
       "</style>\n",
       "<table border=\"1\" class=\"dataframe\">\n",
       "  <thead>\n",
       "    <tr style=\"text-align: right;\">\n",
       "      <th></th>\n",
       "      <th>key</th>\n",
       "      <th>lval</th>\n",
       "      <th>rval</th>\n",
       "    </tr>\n",
       "  </thead>\n",
       "  <tbody>\n",
       "    <tr>\n",
       "      <th>0</th>\n",
       "      <td>foo</td>\n",
       "      <td>1</td>\n",
       "      <td>5</td>\n",
       "    </tr>\n",
       "    <tr>\n",
       "      <th>1</th>\n",
       "      <td>foo</td>\n",
       "      <td>3</td>\n",
       "      <td>5</td>\n",
       "    </tr>\n",
       "  </tbody>\n",
       "</table>\n",
       "</div>"
      ],
      "text/plain": [
       "   key  lval  rval\n",
       "0  foo     1     5\n",
       "1  foo     3     5"
      ]
     },
     "execution_count": 41,
     "metadata": {},
     "output_type": "execute_result"
    }
   ],
   "source": [
    "pd.merge(tb1, tb2, on='key', how='inner')"
   ]
  },
  {
   "cell_type": "code",
   "execution_count": 42,
   "id": "6168c293-2830-4461-967d-968b17e8fe9a",
   "metadata": {},
   "outputs": [
    {
     "data": {
      "text/html": [
       "<div>\n",
       "<style scoped>\n",
       "    .dataframe tbody tr th:only-of-type {\n",
       "        vertical-align: middle;\n",
       "    }\n",
       "\n",
       "    .dataframe tbody tr th {\n",
       "        vertical-align: top;\n",
       "    }\n",
       "\n",
       "    .dataframe thead th {\n",
       "        text-align: right;\n",
       "    }\n",
       "</style>\n",
       "<table border=\"1\" class=\"dataframe\">\n",
       "  <thead>\n",
       "    <tr style=\"text-align: right;\">\n",
       "      <th></th>\n",
       "      <th>key</th>\n",
       "      <th>lval</th>\n",
       "      <th>rval</th>\n",
       "    </tr>\n",
       "  </thead>\n",
       "  <tbody>\n",
       "    <tr>\n",
       "      <th>0</th>\n",
       "      <td>foo</td>\n",
       "      <td>1</td>\n",
       "      <td>5.0</td>\n",
       "    </tr>\n",
       "    <tr>\n",
       "      <th>1</th>\n",
       "      <td>boo</td>\n",
       "      <td>2</td>\n",
       "      <td>NaN</td>\n",
       "    </tr>\n",
       "    <tr>\n",
       "      <th>2</th>\n",
       "      <td>foo</td>\n",
       "      <td>3</td>\n",
       "      <td>5.0</td>\n",
       "    </tr>\n",
       "  </tbody>\n",
       "</table>\n",
       "</div>"
      ],
      "text/plain": [
       "   key  lval  rval\n",
       "0  foo     1   5.0\n",
       "1  boo     2   NaN\n",
       "2  foo     3   5.0"
      ]
     },
     "execution_count": 42,
     "metadata": {},
     "output_type": "execute_result"
    }
   ],
   "source": [
    "pd.merge(tb1, tb2, on='key', how='left')"
   ]
  },
  {
   "cell_type": "code",
   "execution_count": 43,
   "id": "6c6c315e-a089-4904-9697-d8ca4da6e92a",
   "metadata": {},
   "outputs": [
    {
     "data": {
      "text/html": [
       "<div>\n",
       "<style scoped>\n",
       "    .dataframe tbody tr th:only-of-type {\n",
       "        vertical-align: middle;\n",
       "    }\n",
       "\n",
       "    .dataframe tbody tr th {\n",
       "        vertical-align: top;\n",
       "    }\n",
       "\n",
       "    .dataframe thead th {\n",
       "        text-align: right;\n",
       "    }\n",
       "</style>\n",
       "<table border=\"1\" class=\"dataframe\">\n",
       "  <thead>\n",
       "    <tr style=\"text-align: right;\">\n",
       "      <th></th>\n",
       "      <th>key</th>\n",
       "      <th>lval</th>\n",
       "      <th>rval</th>\n",
       "    </tr>\n",
       "  </thead>\n",
       "  <tbody>\n",
       "    <tr>\n",
       "      <th>0</th>\n",
       "      <td>foo</td>\n",
       "      <td>1.0</td>\n",
       "      <td>5</td>\n",
       "    </tr>\n",
       "    <tr>\n",
       "      <th>1</th>\n",
       "      <td>foo</td>\n",
       "      <td>3.0</td>\n",
       "      <td>5</td>\n",
       "    </tr>\n",
       "    <tr>\n",
       "      <th>2</th>\n",
       "      <td>coo</td>\n",
       "      <td>NaN</td>\n",
       "      <td>6</td>\n",
       "    </tr>\n",
       "  </tbody>\n",
       "</table>\n",
       "</div>"
      ],
      "text/plain": [
       "   key  lval  rval\n",
       "0  foo   1.0     5\n",
       "1  foo   3.0     5\n",
       "2  coo   NaN     6"
      ]
     },
     "execution_count": 43,
     "metadata": {},
     "output_type": "execute_result"
    }
   ],
   "source": [
    "pd.merge(tb1, tb2, on='key', how='right')"
   ]
  },
  {
   "cell_type": "code",
   "execution_count": 44,
   "id": "08179eec-88ad-41b4-bf32-2d92d586ae00",
   "metadata": {},
   "outputs": [
    {
     "data": {
      "text/html": [
       "<div>\n",
       "<style scoped>\n",
       "    .dataframe tbody tr th:only-of-type {\n",
       "        vertical-align: middle;\n",
       "    }\n",
       "\n",
       "    .dataframe tbody tr th {\n",
       "        vertical-align: top;\n",
       "    }\n",
       "\n",
       "    .dataframe thead th {\n",
       "        text-align: right;\n",
       "    }\n",
       "</style>\n",
       "<table border=\"1\" class=\"dataframe\">\n",
       "  <thead>\n",
       "    <tr style=\"text-align: right;\">\n",
       "      <th></th>\n",
       "      <th>key</th>\n",
       "      <th>lval</th>\n",
       "      <th>rval</th>\n",
       "    </tr>\n",
       "  </thead>\n",
       "  <tbody>\n",
       "    <tr>\n",
       "      <th>0</th>\n",
       "      <td>foo</td>\n",
       "      <td>1.0</td>\n",
       "      <td>5.0</td>\n",
       "    </tr>\n",
       "    <tr>\n",
       "      <th>1</th>\n",
       "      <td>foo</td>\n",
       "      <td>3.0</td>\n",
       "      <td>5.0</td>\n",
       "    </tr>\n",
       "    <tr>\n",
       "      <th>2</th>\n",
       "      <td>boo</td>\n",
       "      <td>2.0</td>\n",
       "      <td>NaN</td>\n",
       "    </tr>\n",
       "    <tr>\n",
       "      <th>3</th>\n",
       "      <td>coo</td>\n",
       "      <td>NaN</td>\n",
       "      <td>6.0</td>\n",
       "    </tr>\n",
       "  </tbody>\n",
       "</table>\n",
       "</div>"
      ],
      "text/plain": [
       "   key  lval  rval\n",
       "0  foo   1.0   5.0\n",
       "1  foo   3.0   5.0\n",
       "2  boo   2.0   NaN\n",
       "3  coo   NaN   6.0"
      ]
     },
     "execution_count": 44,
     "metadata": {},
     "output_type": "execute_result"
    }
   ],
   "source": [
    "pd.merge(tb1, tb2, on='key', how='outer')"
   ]
  },
  {
   "cell_type": "code",
   "execution_count": null,
   "id": "c44d2ad1-f72c-4b55-911f-791c7965209c",
   "metadata": {},
   "outputs": [],
   "source": []
  },
  {
   "cell_type": "markdown",
   "id": "6eaa0cb9-582b-426c-8427-b97463b1da9f",
   "metadata": {},
   "source": [
    "**Grouping**\n",
    "\n",
    "By `group by` we are referring to a process involving one or more of the following steps\n",
    "\n",
    "* Splitting the data into groups based on some criteria\n",
    "* Applying a function to each group independently\n",
    "* Combining the results into a data structure\n",
    "See the Grouping section from the `pandas` official documentation: https://pandas.pydata.org/pandas-docs/stable/user_guide/groupby.html"
   ]
  },
  {
   "cell_type": "code",
   "execution_count": 45,
   "id": "aa452f88-78a6-4fa9-87b5-31b3c95b44e8",
   "metadata": {},
   "outputs": [
    {
     "data": {
      "text/html": [
       "<div>\n",
       "<style scoped>\n",
       "    .dataframe tbody tr th:only-of-type {\n",
       "        vertical-align: middle;\n",
       "    }\n",
       "\n",
       "    .dataframe tbody tr th {\n",
       "        vertical-align: top;\n",
       "    }\n",
       "\n",
       "    .dataframe thead th {\n",
       "        text-align: right;\n",
       "    }\n",
       "</style>\n",
       "<table border=\"1\" class=\"dataframe\">\n",
       "  <thead>\n",
       "    <tr style=\"text-align: right;\">\n",
       "      <th></th>\n",
       "      <th>A</th>\n",
       "      <th>B</th>\n",
       "      <th>C</th>\n",
       "      <th>D</th>\n",
       "    </tr>\n",
       "  </thead>\n",
       "  <tbody>\n",
       "    <tr>\n",
       "      <th>0</th>\n",
       "      <td>foo</td>\n",
       "      <td>one</td>\n",
       "      <td>-0.442363</td>\n",
       "      <td>1.267936</td>\n",
       "    </tr>\n",
       "    <tr>\n",
       "      <th>1</th>\n",
       "      <td>bar</td>\n",
       "      <td>one</td>\n",
       "      <td>0.832728</td>\n",
       "      <td>0.477826</td>\n",
       "    </tr>\n",
       "    <tr>\n",
       "      <th>2</th>\n",
       "      <td>foo</td>\n",
       "      <td>two</td>\n",
       "      <td>1.668707</td>\n",
       "      <td>-0.960048</td>\n",
       "    </tr>\n",
       "    <tr>\n",
       "      <th>3</th>\n",
       "      <td>bar</td>\n",
       "      <td>three</td>\n",
       "      <td>-0.733803</td>\n",
       "      <td>-0.978669</td>\n",
       "    </tr>\n",
       "    <tr>\n",
       "      <th>4</th>\n",
       "      <td>foo</td>\n",
       "      <td>two</td>\n",
       "      <td>0.421418</td>\n",
       "      <td>-1.591831</td>\n",
       "    </tr>\n",
       "    <tr>\n",
       "      <th>5</th>\n",
       "      <td>bar</td>\n",
       "      <td>two</td>\n",
       "      <td>0.439527</td>\n",
       "      <td>-0.523856</td>\n",
       "    </tr>\n",
       "    <tr>\n",
       "      <th>6</th>\n",
       "      <td>foo</td>\n",
       "      <td>one</td>\n",
       "      <td>-0.108889</td>\n",
       "      <td>1.091792</td>\n",
       "    </tr>\n",
       "    <tr>\n",
       "      <th>7</th>\n",
       "      <td>foo</td>\n",
       "      <td>three</td>\n",
       "      <td>1.192294</td>\n",
       "      <td>-0.061249</td>\n",
       "    </tr>\n",
       "  </tbody>\n",
       "</table>\n",
       "</div>"
      ],
      "text/plain": [
       "     A      B         C         D\n",
       "0  foo    one -0.442363  1.267936\n",
       "1  bar    one  0.832728  0.477826\n",
       "2  foo    two  1.668707 -0.960048\n",
       "3  bar  three -0.733803 -0.978669\n",
       "4  foo    two  0.421418 -1.591831\n",
       "5  bar    two  0.439527 -0.523856\n",
       "6  foo    one -0.108889  1.091792\n",
       "7  foo  three  1.192294 -0.061249"
      ]
     },
     "execution_count": 45,
     "metadata": {},
     "output_type": "execute_result"
    }
   ],
   "source": [
    "df = pd.DataFrame({'A' : ['foo', 'bar', 'foo', 'bar', 'foo', 'bar', 'foo', 'foo'],\n",
    "                   'B' : ['one', 'one', 'two', 'three', 'two', 'two', 'one', 'three'],\n",
    "                   'C' : np.random.randn(8),\n",
    "                   'D' : np.random.randn(8)})\n",
    "\n",
    "df"
   ]
  },
  {
   "cell_type": "code",
   "execution_count": null,
   "id": "a9d944d6-bc96-4705-804e-5515302a79cf",
   "metadata": {},
   "outputs": [],
   "source": []
  },
  {
   "cell_type": "code",
   "execution_count": null,
   "id": "b8ad9522-cce0-44f5-9c6f-370757268fc1",
   "metadata": {},
   "outputs": [],
   "source": []
  },
  {
   "cell_type": "code",
   "execution_count": 46,
   "id": "3cab5174-5524-44fe-b88d-4bfb6cd70630",
   "metadata": {},
   "outputs": [
    {
     "data": {
      "text/html": [
       "<div>\n",
       "<style scoped>\n",
       "    .dataframe tbody tr th:only-of-type {\n",
       "        vertical-align: middle;\n",
       "    }\n",
       "\n",
       "    .dataframe tbody tr th {\n",
       "        vertical-align: top;\n",
       "    }\n",
       "\n",
       "    .dataframe thead th {\n",
       "        text-align: right;\n",
       "    }\n",
       "</style>\n",
       "<table border=\"1\" class=\"dataframe\">\n",
       "  <thead>\n",
       "    <tr style=\"text-align: right;\">\n",
       "      <th></th>\n",
       "      <th>A</th>\n",
       "      <th>C</th>\n",
       "    </tr>\n",
       "  </thead>\n",
       "  <tbody>\n",
       "    <tr>\n",
       "      <th>0</th>\n",
       "      <td>bar</td>\n",
       "      <td>0.179484</td>\n",
       "    </tr>\n",
       "    <tr>\n",
       "      <th>1</th>\n",
       "      <td>foo</td>\n",
       "      <td>0.546233</td>\n",
       "    </tr>\n",
       "  </tbody>\n",
       "</table>\n",
       "</div>"
      ],
      "text/plain": [
       "     A         C\n",
       "0  bar  0.179484\n",
       "1  foo  0.546233"
      ]
     },
     "execution_count": 46,
     "metadata": {},
     "output_type": "execute_result"
    }
   ],
   "source": [
    "df.groupby('A')['C'].mean().reset_index() # simple stats grouped by 1 column"
   ]
  },
  {
   "cell_type": "code",
   "execution_count": 47,
   "id": "fb66ea2b-68db-408e-8753-c0c403e2ffc1",
   "metadata": {},
   "outputs": [
    {
     "data": {
      "text/html": [
       "<div>\n",
       "<style scoped>\n",
       "    .dataframe tbody tr th:only-of-type {\n",
       "        vertical-align: middle;\n",
       "    }\n",
       "\n",
       "    .dataframe tbody tr th {\n",
       "        vertical-align: top;\n",
       "    }\n",
       "\n",
       "    .dataframe thead th {\n",
       "        text-align: right;\n",
       "    }\n",
       "</style>\n",
       "<table border=\"1\" class=\"dataframe\">\n",
       "  <thead>\n",
       "    <tr style=\"text-align: right;\">\n",
       "      <th></th>\n",
       "      <th>A</th>\n",
       "      <th>B</th>\n",
       "      <th>C</th>\n",
       "      <th>D</th>\n",
       "    </tr>\n",
       "  </thead>\n",
       "  <tbody>\n",
       "    <tr>\n",
       "      <th>0</th>\n",
       "      <td>bar</td>\n",
       "      <td>one</td>\n",
       "      <td>0.832728</td>\n",
       "      <td>0.477826</td>\n",
       "    </tr>\n",
       "    <tr>\n",
       "      <th>1</th>\n",
       "      <td>bar</td>\n",
       "      <td>three</td>\n",
       "      <td>-0.733803</td>\n",
       "      <td>-0.978669</td>\n",
       "    </tr>\n",
       "    <tr>\n",
       "      <th>2</th>\n",
       "      <td>bar</td>\n",
       "      <td>two</td>\n",
       "      <td>0.439527</td>\n",
       "      <td>-0.523856</td>\n",
       "    </tr>\n",
       "    <tr>\n",
       "      <th>3</th>\n",
       "      <td>foo</td>\n",
       "      <td>one</td>\n",
       "      <td>-0.551253</td>\n",
       "      <td>2.359727</td>\n",
       "    </tr>\n",
       "    <tr>\n",
       "      <th>4</th>\n",
       "      <td>foo</td>\n",
       "      <td>three</td>\n",
       "      <td>1.192294</td>\n",
       "      <td>-0.061249</td>\n",
       "    </tr>\n",
       "    <tr>\n",
       "      <th>5</th>\n",
       "      <td>foo</td>\n",
       "      <td>two</td>\n",
       "      <td>2.090124</td>\n",
       "      <td>-2.551879</td>\n",
       "    </tr>\n",
       "  </tbody>\n",
       "</table>\n",
       "</div>"
      ],
      "text/plain": [
       "     A      B         C         D\n",
       "0  bar    one  0.832728  0.477826\n",
       "1  bar  three -0.733803 -0.978669\n",
       "2  bar    two  0.439527 -0.523856\n",
       "3  foo    one -0.551253  2.359727\n",
       "4  foo  three  1.192294 -0.061249\n",
       "5  foo    two  2.090124 -2.551879"
      ]
     },
     "execution_count": 47,
     "metadata": {},
     "output_type": "execute_result"
    }
   ],
   "source": [
    "df.groupby(['A','B']).sum().reset_index() # simple stats grouped by multiple columns"
   ]
  },
  {
   "cell_type": "code",
   "execution_count": 48,
   "id": "e8fb5224-4469-4704-81b4-f280d2084cb8",
   "metadata": {},
   "outputs": [
    {
     "data": {
      "text/html": [
       "<div>\n",
       "<style scoped>\n",
       "    .dataframe tbody tr th:only-of-type {\n",
       "        vertical-align: middle;\n",
       "    }\n",
       "\n",
       "    .dataframe tbody tr th {\n",
       "        vertical-align: top;\n",
       "    }\n",
       "\n",
       "    .dataframe thead th {\n",
       "        text-align: right;\n",
       "    }\n",
       "</style>\n",
       "<table border=\"1\" class=\"dataframe\">\n",
       "  <thead>\n",
       "    <tr style=\"text-align: right;\">\n",
       "      <th></th>\n",
       "      <th>A</th>\n",
       "      <th>B</th>\n",
       "      <th>C</th>\n",
       "      <th>D</th>\n",
       "    </tr>\n",
       "  </thead>\n",
       "  <tbody>\n",
       "    <tr>\n",
       "      <th>0</th>\n",
       "      <td>bar</td>\n",
       "      <td>one</td>\n",
       "      <td>0.832728</td>\n",
       "      <td>0.477826</td>\n",
       "    </tr>\n",
       "    <tr>\n",
       "      <th>1</th>\n",
       "      <td>bar</td>\n",
       "      <td>three</td>\n",
       "      <td>-0.733803</td>\n",
       "      <td>-0.978669</td>\n",
       "    </tr>\n",
       "    <tr>\n",
       "      <th>2</th>\n",
       "      <td>bar</td>\n",
       "      <td>two</td>\n",
       "      <td>0.439527</td>\n",
       "      <td>-0.523856</td>\n",
       "    </tr>\n",
       "    <tr>\n",
       "      <th>3</th>\n",
       "      <td>foo</td>\n",
       "      <td>one</td>\n",
       "      <td>-0.275626</td>\n",
       "      <td>1.179864</td>\n",
       "    </tr>\n",
       "    <tr>\n",
       "      <th>4</th>\n",
       "      <td>foo</td>\n",
       "      <td>three</td>\n",
       "      <td>1.192294</td>\n",
       "      <td>-0.061249</td>\n",
       "    </tr>\n",
       "    <tr>\n",
       "      <th>5</th>\n",
       "      <td>foo</td>\n",
       "      <td>two</td>\n",
       "      <td>1.045062</td>\n",
       "      <td>-1.275939</td>\n",
       "    </tr>\n",
       "  </tbody>\n",
       "</table>\n",
       "</div>"
      ],
      "text/plain": [
       "     A      B         C         D\n",
       "0  bar    one  0.832728  0.477826\n",
       "1  bar  three -0.733803 -0.978669\n",
       "2  bar    two  0.439527 -0.523856\n",
       "3  foo    one -0.275626  1.179864\n",
       "4  foo  three  1.192294 -0.061249\n",
       "5  foo    two  1.045062 -1.275939"
      ]
     },
     "execution_count": 48,
     "metadata": {},
     "output_type": "execute_result"
    }
   ],
   "source": [
    "df.groupby(['A','B']).mean().reset_index() # simple stats grouped by multiple columns"
   ]
  },
  {
   "cell_type": "code",
   "execution_count": null,
   "id": "e7eda69e-e37f-4aaf-8ad9-626059566021",
   "metadata": {},
   "outputs": [],
   "source": []
  },
  {
   "cell_type": "code",
   "execution_count": 49,
   "id": "6cba6875-1d89-40c1-b751-a4202f94b14e",
   "metadata": {},
   "outputs": [
    {
     "data": {
      "text/html": [
       "<div>\n",
       "<style scoped>\n",
       "    .dataframe tbody tr th:only-of-type {\n",
       "        vertical-align: middle;\n",
       "    }\n",
       "\n",
       "    .dataframe tbody tr th {\n",
       "        vertical-align: top;\n",
       "    }\n",
       "\n",
       "    .dataframe thead th {\n",
       "        text-align: right;\n",
       "    }\n",
       "</style>\n",
       "<table border=\"1\" class=\"dataframe\">\n",
       "  <thead>\n",
       "    <tr style=\"text-align: right;\">\n",
       "      <th></th>\n",
       "      <th>A</th>\n",
       "      <th>B</th>\n",
       "      <th>C</th>\n",
       "    </tr>\n",
       "  </thead>\n",
       "  <tbody>\n",
       "    <tr>\n",
       "      <th>0</th>\n",
       "      <td>bar</td>\n",
       "      <td>one</td>\n",
       "      <td>0.832728</td>\n",
       "    </tr>\n",
       "    <tr>\n",
       "      <th>1</th>\n",
       "      <td>bar</td>\n",
       "      <td>three</td>\n",
       "      <td>-0.733803</td>\n",
       "    </tr>\n",
       "    <tr>\n",
       "      <th>2</th>\n",
       "      <td>bar</td>\n",
       "      <td>two</td>\n",
       "      <td>0.439527</td>\n",
       "    </tr>\n",
       "    <tr>\n",
       "      <th>3</th>\n",
       "      <td>foo</td>\n",
       "      <td>one</td>\n",
       "      <td>-0.551253</td>\n",
       "    </tr>\n",
       "    <tr>\n",
       "      <th>4</th>\n",
       "      <td>foo</td>\n",
       "      <td>three</td>\n",
       "      <td>1.192294</td>\n",
       "    </tr>\n",
       "    <tr>\n",
       "      <th>5</th>\n",
       "      <td>foo</td>\n",
       "      <td>two</td>\n",
       "      <td>2.090124</td>\n",
       "    </tr>\n",
       "  </tbody>\n",
       "</table>\n",
       "</div>"
      ],
      "text/plain": [
       "     A      B         C\n",
       "0  bar    one  0.832728\n",
       "1  bar  three -0.733803\n",
       "2  bar    two  0.439527\n",
       "3  foo    one -0.551253\n",
       "4  foo  three  1.192294\n",
       "5  foo    two  2.090124"
      ]
     },
     "execution_count": 49,
     "metadata": {},
     "output_type": "execute_result"
    }
   ],
   "source": [
    "df.groupby(['A','B'])['C'].apply(lambda x: np.sum(x)).reset_index() # customized aggregation"
   ]
  },
  {
   "cell_type": "code",
   "execution_count": 50,
   "id": "7f59cceb",
   "metadata": {},
   "outputs": [
    {
     "data": {
      "text/html": [
       "<div>\n",
       "<style scoped>\n",
       "    .dataframe tbody tr th:only-of-type {\n",
       "        vertical-align: middle;\n",
       "    }\n",
       "\n",
       "    .dataframe tbody tr th {\n",
       "        vertical-align: top;\n",
       "    }\n",
       "\n",
       "    .dataframe thead th {\n",
       "        text-align: right;\n",
       "    }\n",
       "</style>\n",
       "<table border=\"1\" class=\"dataframe\">\n",
       "  <thead>\n",
       "    <tr style=\"text-align: right;\">\n",
       "      <th></th>\n",
       "      <th>A</th>\n",
       "      <th>B</th>\n",
       "      <th>C</th>\n",
       "    </tr>\n",
       "  </thead>\n",
       "  <tbody>\n",
       "    <tr>\n",
       "      <th>0</th>\n",
       "      <td>bar</td>\n",
       "      <td>one</td>\n",
       "      <td>0.693435</td>\n",
       "    </tr>\n",
       "    <tr>\n",
       "      <th>1</th>\n",
       "      <td>bar</td>\n",
       "      <td>three</td>\n",
       "      <td>0.538467</td>\n",
       "    </tr>\n",
       "    <tr>\n",
       "      <th>2</th>\n",
       "      <td>bar</td>\n",
       "      <td>two</td>\n",
       "      <td>0.193184</td>\n",
       "    </tr>\n",
       "    <tr>\n",
       "      <th>3</th>\n",
       "      <td>foo</td>\n",
       "      <td>one</td>\n",
       "      <td>0.207542</td>\n",
       "    </tr>\n",
       "    <tr>\n",
       "      <th>4</th>\n",
       "      <td>foo</td>\n",
       "      <td>three</td>\n",
       "      <td>1.421566</td>\n",
       "    </tr>\n",
       "    <tr>\n",
       "      <th>5</th>\n",
       "      <td>foo</td>\n",
       "      <td>two</td>\n",
       "      <td>2.962175</td>\n",
       "    </tr>\n",
       "  </tbody>\n",
       "</table>\n",
       "</div>"
      ],
      "text/plain": [
       "     A      B         C\n",
       "0  bar    one  0.693435\n",
       "1  bar  three  0.538467\n",
       "2  bar    two  0.193184\n",
       "3  foo    one  0.207542\n",
       "4  foo  three  1.421566\n",
       "5  foo    two  2.962175"
      ]
     },
     "execution_count": 50,
     "metadata": {},
     "output_type": "execute_result"
    }
   ],
   "source": [
    "df.groupby(['A','B'])['C'].apply(lambda x: np.sum(x**2)).reset_index() # customized aggregation\n"
   ]
  },
  {
   "cell_type": "code",
   "execution_count": 52,
   "id": "d85e0c4e",
   "metadata": {},
   "outputs": [
    {
     "data": {
      "text/html": [
       "<div>\n",
       "<style scoped>\n",
       "    .dataframe tbody tr th:only-of-type {\n",
       "        vertical-align: middle;\n",
       "    }\n",
       "\n",
       "    .dataframe tbody tr th {\n",
       "        vertical-align: top;\n",
       "    }\n",
       "\n",
       "    .dataframe thead th {\n",
       "        text-align: right;\n",
       "    }\n",
       "</style>\n",
       "<table border=\"1\" class=\"dataframe\">\n",
       "  <thead>\n",
       "    <tr style=\"text-align: right;\">\n",
       "      <th></th>\n",
       "      <th></th>\n",
       "      <th>C</th>\n",
       "    </tr>\n",
       "    <tr>\n",
       "      <th>A</th>\n",
       "      <th>B</th>\n",
       "      <th></th>\n",
       "    </tr>\n",
       "  </thead>\n",
       "  <tbody>\n",
       "    <tr>\n",
       "      <th rowspan=\"3\" valign=\"top\">bar</th>\n",
       "      <th>one</th>\n",
       "      <td>0.693435</td>\n",
       "    </tr>\n",
       "    <tr>\n",
       "      <th>three</th>\n",
       "      <td>0.538467</td>\n",
       "    </tr>\n",
       "    <tr>\n",
       "      <th>two</th>\n",
       "      <td>0.193184</td>\n",
       "    </tr>\n",
       "    <tr>\n",
       "      <th rowspan=\"3\" valign=\"top\">foo</th>\n",
       "      <th>one</th>\n",
       "      <td>0.207542</td>\n",
       "    </tr>\n",
       "    <tr>\n",
       "      <th>three</th>\n",
       "      <td>1.421566</td>\n",
       "    </tr>\n",
       "    <tr>\n",
       "      <th>two</th>\n",
       "      <td>2.962175</td>\n",
       "    </tr>\n",
       "  </tbody>\n",
       "</table>\n",
       "</div>"
      ],
      "text/plain": [
       "                  C\n",
       "A   B              \n",
       "bar one    0.693435\n",
       "    three  0.538467\n",
       "    two    0.193184\n",
       "foo one    0.207542\n",
       "    three  1.421566\n",
       "    two    2.962175"
      ]
     },
     "execution_count": 52,
     "metadata": {},
     "output_type": "execute_result"
    }
   ],
   "source": [
    "output = df.groupby(['A','B'])[['C']].apply(lambda x: np.sum(x**2))\n",
    "# type(output)\n",
    "\n",
    "output"
   ]
  },
  {
   "cell_type": "code",
   "execution_count": 53,
   "id": "268f6f72",
   "metadata": {},
   "outputs": [
    {
     "data": {
      "text/html": [
       "<div>\n",
       "<style scoped>\n",
       "    .dataframe tbody tr th:only-of-type {\n",
       "        vertical-align: middle;\n",
       "    }\n",
       "\n",
       "    .dataframe tbody tr th {\n",
       "        vertical-align: top;\n",
       "    }\n",
       "\n",
       "    .dataframe thead th {\n",
       "        text-align: right;\n",
       "    }\n",
       "</style>\n",
       "<table border=\"1\" class=\"dataframe\">\n",
       "  <thead>\n",
       "    <tr style=\"text-align: right;\">\n",
       "      <th></th>\n",
       "      <th>A</th>\n",
       "      <th>B</th>\n",
       "      <th>C</th>\n",
       "    </tr>\n",
       "  </thead>\n",
       "  <tbody>\n",
       "    <tr>\n",
       "      <th>0</th>\n",
       "      <td>bar</td>\n",
       "      <td>one</td>\n",
       "      <td>0.693435</td>\n",
       "    </tr>\n",
       "    <tr>\n",
       "      <th>1</th>\n",
       "      <td>bar</td>\n",
       "      <td>three</td>\n",
       "      <td>0.538467</td>\n",
       "    </tr>\n",
       "    <tr>\n",
       "      <th>2</th>\n",
       "      <td>bar</td>\n",
       "      <td>two</td>\n",
       "      <td>0.193184</td>\n",
       "    </tr>\n",
       "    <tr>\n",
       "      <th>3</th>\n",
       "      <td>foo</td>\n",
       "      <td>one</td>\n",
       "      <td>0.207542</td>\n",
       "    </tr>\n",
       "    <tr>\n",
       "      <th>4</th>\n",
       "      <td>foo</td>\n",
       "      <td>three</td>\n",
       "      <td>1.421566</td>\n",
       "    </tr>\n",
       "    <tr>\n",
       "      <th>5</th>\n",
       "      <td>foo</td>\n",
       "      <td>two</td>\n",
       "      <td>2.962175</td>\n",
       "    </tr>\n",
       "  </tbody>\n",
       "</table>\n",
       "</div>"
      ],
      "text/plain": [
       "     A      B         C\n",
       "0  bar    one  0.693435\n",
       "1  bar  three  0.538467\n",
       "2  bar    two  0.193184\n",
       "3  foo    one  0.207542\n",
       "4  foo  three  1.421566\n",
       "5  foo    two  2.962175"
      ]
     },
     "execution_count": 53,
     "metadata": {},
     "output_type": "execute_result"
    }
   ],
   "source": [
    "df.groupby(['A','B'])['C'].apply(lambda x: np.sum(x**2)).reset_index()"
   ]
  },
  {
   "cell_type": "code",
   "execution_count": null,
   "id": "79220147",
   "metadata": {},
   "outputs": [],
   "source": []
  },
  {
   "cell_type": "code",
   "execution_count": null,
   "id": "e78f4ea2-13b0-43fd-be4f-aa1769ff3ba4",
   "metadata": {},
   "outputs": [],
   "source": []
  },
  {
   "cell_type": "markdown",
   "id": "40ad2d84-87d5-4d0c-9b39-138dd354166a",
   "metadata": {},
   "source": [
    "**Pivot table**"
   ]
  },
  {
   "cell_type": "code",
   "execution_count": 54,
   "id": "6dcd0e4a-8524-495d-ab08-b30fd2a0b30d",
   "metadata": {},
   "outputs": [
    {
     "data": {
      "text/html": [
       "<div>\n",
       "<style scoped>\n",
       "    .dataframe tbody tr th:only-of-type {\n",
       "        vertical-align: middle;\n",
       "    }\n",
       "\n",
       "    .dataframe tbody tr th {\n",
       "        vertical-align: top;\n",
       "    }\n",
       "\n",
       "    .dataframe thead th {\n",
       "        text-align: right;\n",
       "    }\n",
       "</style>\n",
       "<table border=\"1\" class=\"dataframe\">\n",
       "  <thead>\n",
       "    <tr style=\"text-align: right;\">\n",
       "      <th></th>\n",
       "      <th>ModelNumber</th>\n",
       "      <th>Submodel</th>\n",
       "      <th>Type</th>\n",
       "      <th>Xval</th>\n",
       "      <th>Yval</th>\n",
       "    </tr>\n",
       "  </thead>\n",
       "  <tbody>\n",
       "    <tr>\n",
       "      <th>0</th>\n",
       "      <td>one</td>\n",
       "      <td>A</td>\n",
       "      <td>foo</td>\n",
       "      <td>0.023584</td>\n",
       "      <td>-0.570346</td>\n",
       "    </tr>\n",
       "    <tr>\n",
       "      <th>1</th>\n",
       "      <td>one</td>\n",
       "      <td>B</td>\n",
       "      <td>foo</td>\n",
       "      <td>0.438156</td>\n",
       "      <td>-0.215334</td>\n",
       "    </tr>\n",
       "    <tr>\n",
       "      <th>2</th>\n",
       "      <td>two</td>\n",
       "      <td>C</td>\n",
       "      <td>foo</td>\n",
       "      <td>-0.909017</td>\n",
       "      <td>-2.011637</td>\n",
       "    </tr>\n",
       "    <tr>\n",
       "      <th>3</th>\n",
       "      <td>three</td>\n",
       "      <td>A</td>\n",
       "      <td>bar</td>\n",
       "      <td>-0.727137</td>\n",
       "      <td>0.933237</td>\n",
       "    </tr>\n",
       "    <tr>\n",
       "      <th>4</th>\n",
       "      <td>one</td>\n",
       "      <td>B</td>\n",
       "      <td>bar</td>\n",
       "      <td>-0.956029</td>\n",
       "      <td>0.577700</td>\n",
       "    </tr>\n",
       "    <tr>\n",
       "      <th>5</th>\n",
       "      <td>one</td>\n",
       "      <td>C</td>\n",
       "      <td>bar</td>\n",
       "      <td>0.295525</td>\n",
       "      <td>-1.911593</td>\n",
       "    </tr>\n",
       "    <tr>\n",
       "      <th>6</th>\n",
       "      <td>two</td>\n",
       "      <td>A</td>\n",
       "      <td>foo</td>\n",
       "      <td>-0.113633</td>\n",
       "      <td>-0.376586</td>\n",
       "    </tr>\n",
       "    <tr>\n",
       "      <th>7</th>\n",
       "      <td>three</td>\n",
       "      <td>B</td>\n",
       "      <td>foo</td>\n",
       "      <td>-0.110332</td>\n",
       "      <td>-0.420940</td>\n",
       "    </tr>\n",
       "    <tr>\n",
       "      <th>8</th>\n",
       "      <td>one</td>\n",
       "      <td>C</td>\n",
       "      <td>foo</td>\n",
       "      <td>1.785561</td>\n",
       "      <td>-0.327511</td>\n",
       "    </tr>\n",
       "    <tr>\n",
       "      <th>9</th>\n",
       "      <td>one</td>\n",
       "      <td>A</td>\n",
       "      <td>bar</td>\n",
       "      <td>0.419486</td>\n",
       "      <td>0.104260</td>\n",
       "    </tr>\n",
       "    <tr>\n",
       "      <th>10</th>\n",
       "      <td>two</td>\n",
       "      <td>B</td>\n",
       "      <td>bar</td>\n",
       "      <td>0.605151</td>\n",
       "      <td>-0.089723</td>\n",
       "    </tr>\n",
       "    <tr>\n",
       "      <th>11</th>\n",
       "      <td>three</td>\n",
       "      <td>C</td>\n",
       "      <td>bar</td>\n",
       "      <td>0.284524</td>\n",
       "      <td>-0.422109</td>\n",
       "    </tr>\n",
       "  </tbody>\n",
       "</table>\n",
       "</div>"
      ],
      "text/plain": [
       "   ModelNumber Submodel Type      Xval      Yval\n",
       "0          one        A  foo  0.023584 -0.570346\n",
       "1          one        B  foo  0.438156 -0.215334\n",
       "2          two        C  foo -0.909017 -2.011637\n",
       "3        three        A  bar -0.727137  0.933237\n",
       "4          one        B  bar -0.956029  0.577700\n",
       "5          one        C  bar  0.295525 -1.911593\n",
       "6          two        A  foo -0.113633 -0.376586\n",
       "7        three        B  foo -0.110332 -0.420940\n",
       "8          one        C  foo  1.785561 -0.327511\n",
       "9          one        A  bar  0.419486  0.104260\n",
       "10         two        B  bar  0.605151 -0.089723\n",
       "11       three        C  bar  0.284524 -0.422109"
      ]
     },
     "execution_count": 54,
     "metadata": {},
     "output_type": "execute_result"
    }
   ],
   "source": [
    "df = pd.DataFrame({'ModelNumber' : ['one', 'one', 'two', 'three'] * 3,\n",
    "                   'Submodel' : ['A', 'B', 'C'] * 4,\n",
    "                   'Type' : ['foo', 'foo', 'foo', 'bar', 'bar', 'bar'] * 2,\n",
    "                   'Xval' : np.random.randn(12),\n",
    "                   'Yval' : np.random.randn(12)})\n",
    "\n",
    "df"
   ]
  },
  {
   "cell_type": "markdown",
   "id": "1e640a94-e102-46d8-b7ed-301fda1560e4",
   "metadata": {},
   "source": [
    "We can produce pivot tables from this data very easily:"
   ]
  },
  {
   "cell_type": "code",
   "execution_count": 55,
   "id": "1eee58c3-0454-47ce-8ab7-a72ebfdb3183",
   "metadata": {},
   "outputs": [
    {
     "data": {
      "text/html": [
       "<div>\n",
       "<style scoped>\n",
       "    .dataframe tbody tr th:only-of-type {\n",
       "        vertical-align: middle;\n",
       "    }\n",
       "\n",
       "    .dataframe tbody tr th {\n",
       "        vertical-align: top;\n",
       "    }\n",
       "\n",
       "    .dataframe thead th {\n",
       "        text-align: right;\n",
       "    }\n",
       "</style>\n",
       "<table border=\"1\" class=\"dataframe\">\n",
       "  <thead>\n",
       "    <tr style=\"text-align: right;\">\n",
       "      <th></th>\n",
       "      <th>Type</th>\n",
       "      <th>bar</th>\n",
       "      <th>foo</th>\n",
       "    </tr>\n",
       "    <tr>\n",
       "      <th>ModelNumber</th>\n",
       "      <th>Submodel</th>\n",
       "      <th></th>\n",
       "      <th></th>\n",
       "    </tr>\n",
       "  </thead>\n",
       "  <tbody>\n",
       "    <tr>\n",
       "      <th rowspan=\"3\" valign=\"top\">one</th>\n",
       "      <th>A</th>\n",
       "      <td>0.419486</td>\n",
       "      <td>0.023584</td>\n",
       "    </tr>\n",
       "    <tr>\n",
       "      <th>B</th>\n",
       "      <td>-0.956029</td>\n",
       "      <td>0.438156</td>\n",
       "    </tr>\n",
       "    <tr>\n",
       "      <th>C</th>\n",
       "      <td>0.295525</td>\n",
       "      <td>1.785561</td>\n",
       "    </tr>\n",
       "    <tr>\n",
       "      <th rowspan=\"3\" valign=\"top\">three</th>\n",
       "      <th>A</th>\n",
       "      <td>-0.727137</td>\n",
       "      <td>NaN</td>\n",
       "    </tr>\n",
       "    <tr>\n",
       "      <th>B</th>\n",
       "      <td>NaN</td>\n",
       "      <td>-0.110332</td>\n",
       "    </tr>\n",
       "    <tr>\n",
       "      <th>C</th>\n",
       "      <td>0.284524</td>\n",
       "      <td>NaN</td>\n",
       "    </tr>\n",
       "    <tr>\n",
       "      <th rowspan=\"3\" valign=\"top\">two</th>\n",
       "      <th>A</th>\n",
       "      <td>NaN</td>\n",
       "      <td>-0.113633</td>\n",
       "    </tr>\n",
       "    <tr>\n",
       "      <th>B</th>\n",
       "      <td>0.605151</td>\n",
       "      <td>NaN</td>\n",
       "    </tr>\n",
       "    <tr>\n",
       "      <th>C</th>\n",
       "      <td>NaN</td>\n",
       "      <td>-0.909017</td>\n",
       "    </tr>\n",
       "  </tbody>\n",
       "</table>\n",
       "</div>"
      ],
      "text/plain": [
       "Type                       bar       foo\n",
       "ModelNumber Submodel                    \n",
       "one         A         0.419486  0.023584\n",
       "            B        -0.956029  0.438156\n",
       "            C         0.295525  1.785561\n",
       "three       A        -0.727137       NaN\n",
       "            B              NaN -0.110332\n",
       "            C         0.284524       NaN\n",
       "two         A              NaN -0.113633\n",
       "            B         0.605151       NaN\n",
       "            C              NaN -0.909017"
      ]
     },
     "execution_count": 55,
     "metadata": {},
     "output_type": "execute_result"
    }
   ],
   "source": [
    "pd.pivot_table(\n",
    "    df\n",
    "    , values='Xval'\n",
    "    , index=['ModelNumber', 'Submodel']\n",
    "    , columns=['Type']\n",
    ")"
   ]
  },
  {
   "cell_type": "code",
   "execution_count": 56,
   "id": "de07f41e-d653-4468-b24d-8a91a09e1451",
   "metadata": {},
   "outputs": [
    {
     "data": {
      "text/html": [
       "<div>\n",
       "<style scoped>\n",
       "    .dataframe tbody tr th:only-of-type {\n",
       "        vertical-align: middle;\n",
       "    }\n",
       "\n",
       "    .dataframe tbody tr th {\n",
       "        vertical-align: top;\n",
       "    }\n",
       "\n",
       "    .dataframe thead th {\n",
       "        text-align: right;\n",
       "    }\n",
       "</style>\n",
       "<table border=\"1\" class=\"dataframe\">\n",
       "  <thead>\n",
       "    <tr style=\"text-align: right;\">\n",
       "      <th></th>\n",
       "      <th>Type</th>\n",
       "      <th>bar</th>\n",
       "      <th>foo</th>\n",
       "    </tr>\n",
       "    <tr>\n",
       "      <th>ModelNumber</th>\n",
       "      <th>Submodel</th>\n",
       "      <th></th>\n",
       "      <th></th>\n",
       "    </tr>\n",
       "  </thead>\n",
       "  <tbody>\n",
       "    <tr>\n",
       "      <th rowspan=\"3\" valign=\"top\">one</th>\n",
       "      <th>A</th>\n",
       "      <td>0.419486</td>\n",
       "      <td>0.023584</td>\n",
       "    </tr>\n",
       "    <tr>\n",
       "      <th>B</th>\n",
       "      <td>0.956029</td>\n",
       "      <td>0.438156</td>\n",
       "    </tr>\n",
       "    <tr>\n",
       "      <th>C</th>\n",
       "      <td>0.295525</td>\n",
       "      <td>1.785561</td>\n",
       "    </tr>\n",
       "    <tr>\n",
       "      <th rowspan=\"3\" valign=\"top\">three</th>\n",
       "      <th>A</th>\n",
       "      <td>0.727137</td>\n",
       "      <td>NaN</td>\n",
       "    </tr>\n",
       "    <tr>\n",
       "      <th>B</th>\n",
       "      <td>NaN</td>\n",
       "      <td>0.110332</td>\n",
       "    </tr>\n",
       "    <tr>\n",
       "      <th>C</th>\n",
       "      <td>0.284524</td>\n",
       "      <td>NaN</td>\n",
       "    </tr>\n",
       "    <tr>\n",
       "      <th rowspan=\"3\" valign=\"top\">two</th>\n",
       "      <th>A</th>\n",
       "      <td>NaN</td>\n",
       "      <td>0.113633</td>\n",
       "    </tr>\n",
       "    <tr>\n",
       "      <th>B</th>\n",
       "      <td>0.605151</td>\n",
       "      <td>NaN</td>\n",
       "    </tr>\n",
       "    <tr>\n",
       "      <th>C</th>\n",
       "      <td>NaN</td>\n",
       "      <td>0.909017</td>\n",
       "    </tr>\n",
       "  </tbody>\n",
       "</table>\n",
       "</div>"
      ],
      "text/plain": [
       "Type                       bar       foo\n",
       "ModelNumber Submodel                    \n",
       "one         A         0.419486  0.023584\n",
       "            B         0.956029  0.438156\n",
       "            C         0.295525  1.785561\n",
       "three       A         0.727137       NaN\n",
       "            B              NaN  0.110332\n",
       "            C         0.284524       NaN\n",
       "two         A              NaN  0.113633\n",
       "            B         0.605151       NaN\n",
       "            C              NaN  0.909017"
      ]
     },
     "execution_count": 56,
     "metadata": {},
     "output_type": "execute_result"
    }
   ],
   "source": [
    "pd.pivot_table(\n",
    "    df\n",
    "    , values='Xval'\n",
    "    , index=['ModelNumber', 'Submodel']\n",
    "    , columns=['Type']\n",
    "#     , aggfunc='count'\n",
    "    ,aggfunc=lambda x: abs(x)\n",
    ")"
   ]
  },
  {
   "cell_type": "code",
   "execution_count": null,
   "id": "e0d6ca1d",
   "metadata": {},
   "outputs": [],
   "source": []
  },
  {
   "cell_type": "code",
   "execution_count": null,
   "id": "4b0b6cb1",
   "metadata": {},
   "outputs": [],
   "source": []
  },
  {
   "cell_type": "markdown",
   "id": "8276ce68-9661-46d0-aad0-4c66777fed0e",
   "metadata": {},
   "source": [
    "**Write/Export `dataframe` to files**"
   ]
  },
  {
   "cell_type": "markdown",
   "id": "a1e6430b-3c05-488e-958a-128657a25146",
   "metadata": {},
   "source": [
    "**CSV file**"
   ]
  },
  {
   "cell_type": "code",
   "execution_count": 57,
   "id": "34d13252-45f4-4b36-b5dc-778cd635b578",
   "metadata": {},
   "outputs": [
    {
     "data": {
      "text/html": [
       "<div>\n",
       "<style scoped>\n",
       "    .dataframe tbody tr th:only-of-type {\n",
       "        vertical-align: middle;\n",
       "    }\n",
       "\n",
       "    .dataframe tbody tr th {\n",
       "        vertical-align: top;\n",
       "    }\n",
       "\n",
       "    .dataframe thead th {\n",
       "        text-align: right;\n",
       "    }\n",
       "</style>\n",
       "<table border=\"1\" class=\"dataframe\">\n",
       "  <thead>\n",
       "    <tr style=\"text-align: right;\">\n",
       "      <th></th>\n",
       "      <th>ModelNumber</th>\n",
       "      <th>Submodel</th>\n",
       "      <th>Type</th>\n",
       "      <th>Xval</th>\n",
       "      <th>Yval</th>\n",
       "    </tr>\n",
       "  </thead>\n",
       "  <tbody>\n",
       "    <tr>\n",
       "      <th>0</th>\n",
       "      <td>one</td>\n",
       "      <td>A</td>\n",
       "      <td>foo</td>\n",
       "      <td>0.023584</td>\n",
       "      <td>-0.570346</td>\n",
       "    </tr>\n",
       "    <tr>\n",
       "      <th>1</th>\n",
       "      <td>one</td>\n",
       "      <td>B</td>\n",
       "      <td>foo</td>\n",
       "      <td>0.438156</td>\n",
       "      <td>-0.215334</td>\n",
       "    </tr>\n",
       "    <tr>\n",
       "      <th>2</th>\n",
       "      <td>two</td>\n",
       "      <td>C</td>\n",
       "      <td>foo</td>\n",
       "      <td>-0.909017</td>\n",
       "      <td>-2.011637</td>\n",
       "    </tr>\n",
       "    <tr>\n",
       "      <th>3</th>\n",
       "      <td>three</td>\n",
       "      <td>A</td>\n",
       "      <td>bar</td>\n",
       "      <td>-0.727137</td>\n",
       "      <td>0.933237</td>\n",
       "    </tr>\n",
       "    <tr>\n",
       "      <th>4</th>\n",
       "      <td>one</td>\n",
       "      <td>B</td>\n",
       "      <td>bar</td>\n",
       "      <td>-0.956029</td>\n",
       "      <td>0.577700</td>\n",
       "    </tr>\n",
       "    <tr>\n",
       "      <th>5</th>\n",
       "      <td>one</td>\n",
       "      <td>C</td>\n",
       "      <td>bar</td>\n",
       "      <td>0.295525</td>\n",
       "      <td>-1.911593</td>\n",
       "    </tr>\n",
       "    <tr>\n",
       "      <th>6</th>\n",
       "      <td>two</td>\n",
       "      <td>A</td>\n",
       "      <td>foo</td>\n",
       "      <td>-0.113633</td>\n",
       "      <td>-0.376586</td>\n",
       "    </tr>\n",
       "    <tr>\n",
       "      <th>7</th>\n",
       "      <td>three</td>\n",
       "      <td>B</td>\n",
       "      <td>foo</td>\n",
       "      <td>-0.110332</td>\n",
       "      <td>-0.420940</td>\n",
       "    </tr>\n",
       "    <tr>\n",
       "      <th>8</th>\n",
       "      <td>one</td>\n",
       "      <td>C</td>\n",
       "      <td>foo</td>\n",
       "      <td>1.785561</td>\n",
       "      <td>-0.327511</td>\n",
       "    </tr>\n",
       "    <tr>\n",
       "      <th>9</th>\n",
       "      <td>one</td>\n",
       "      <td>A</td>\n",
       "      <td>bar</td>\n",
       "      <td>0.419486</td>\n",
       "      <td>0.104260</td>\n",
       "    </tr>\n",
       "    <tr>\n",
       "      <th>10</th>\n",
       "      <td>two</td>\n",
       "      <td>B</td>\n",
       "      <td>bar</td>\n",
       "      <td>0.605151</td>\n",
       "      <td>-0.089723</td>\n",
       "    </tr>\n",
       "    <tr>\n",
       "      <th>11</th>\n",
       "      <td>three</td>\n",
       "      <td>C</td>\n",
       "      <td>bar</td>\n",
       "      <td>0.284524</td>\n",
       "      <td>-0.422109</td>\n",
       "    </tr>\n",
       "  </tbody>\n",
       "</table>\n",
       "</div>"
      ],
      "text/plain": [
       "   ModelNumber Submodel Type      Xval      Yval\n",
       "0          one        A  foo  0.023584 -0.570346\n",
       "1          one        B  foo  0.438156 -0.215334\n",
       "2          two        C  foo -0.909017 -2.011637\n",
       "3        three        A  bar -0.727137  0.933237\n",
       "4          one        B  bar -0.956029  0.577700\n",
       "5          one        C  bar  0.295525 -1.911593\n",
       "6          two        A  foo -0.113633 -0.376586\n",
       "7        three        B  foo -0.110332 -0.420940\n",
       "8          one        C  foo  1.785561 -0.327511\n",
       "9          one        A  bar  0.419486  0.104260\n",
       "10         two        B  bar  0.605151 -0.089723\n",
       "11       three        C  bar  0.284524 -0.422109"
      ]
     },
     "execution_count": 57,
     "metadata": {},
     "output_type": "execute_result"
    }
   ],
   "source": [
    "df"
   ]
  },
  {
   "cell_type": "code",
   "execution_count": 59,
   "id": "1ec66ba4-5d44-4a37-84d3-5f650173b09e",
   "metadata": {},
   "outputs": [],
   "source": [
    "df.to_csv('../data/to-csv-test.csv',sep=',',header=True, index=None)\n",
    "# df.to_csv('../data/to-csv-test.csv',sep=',',header=True)"
   ]
  },
  {
   "cell_type": "markdown",
   "id": "a1735c93-021b-4517-b477-775e8ef85bfc",
   "metadata": {},
   "source": [
    "**Excel spreadsheet**"
   ]
  },
  {
   "cell_type": "code",
   "execution_count": 60,
   "id": "19965915-a833-4117-948e-26bd8c2670e7",
   "metadata": {},
   "outputs": [],
   "source": [
    "df.to_excel('../data/to-excel-test.xlsx',sheet_name='tab1',header=True,index=None)"
   ]
  },
  {
   "cell_type": "code",
   "execution_count": null,
   "id": "0d050d7c-0721-4b57-a270-a0f4a99ac23b",
   "metadata": {},
   "outputs": [],
   "source": []
  },
  {
   "cell_type": "code",
   "execution_count": null,
   "id": "916daffc-29e1-4cd5-b2ff-bb15b31389d8",
   "metadata": {},
   "outputs": [],
   "source": []
  },
  {
   "cell_type": "code",
   "execution_count": null,
   "id": "a327fd94-c96a-4134-98d7-6ad90ff9d34d",
   "metadata": {},
   "outputs": [],
   "source": []
  },
  {
   "cell_type": "markdown",
   "id": "fbdcf681-358b-41e8-9f2d-280cfc5c7bd6",
   "metadata": {},
   "source": [
    "# Pandas Exercise\n",
    "\n",
    "Microsoft created a long time ago the fictitious multinational manufacturing company called Adventure Works and shipped the AdventureWorks database as part of SQL Server.\n",
    "\n",
    "**TASK**\n",
    "1. write the Python Pandas expression to produce a table as described in the problem statements.\n",
    "2. The SQL expression may give you a hint. It also allows you to see both systems side-by-side.\n",
    "3. If you don't know SQL just ignore the SQL code."
   ]
  },
  {
   "cell_type": "code",
   "execution_count": 61,
   "id": "39b87811-1746-423d-91bb-4082937f7431",
   "metadata": {},
   "outputs": [],
   "source": [
    "import pandas as pd\n",
    "import numpy as np"
   ]
  },
  {
   "cell_type": "code",
   "execution_count": 62,
   "id": "36f56b15-defe-4243-9dac-34ac209ad4fa",
   "metadata": {},
   "outputs": [],
   "source": [
    "pd.set_option('display.max_columns',None) #unlimited\n",
    "pd.set_option('display.max_rows',None)"
   ]
  },
  {
   "cell_type": "markdown",
   "id": "85ab923a-9f2b-4944-9d79-08e0148f2ca7",
   "metadata": {},
   "source": [
    "## import the dataset"
   ]
  },
  {
   "cell_type": "code",
   "execution_count": 63,
   "id": "d813ee73-969d-477c-b3b3-28e37846a9a2",
   "metadata": {},
   "outputs": [
    {
     "name": "stdout",
     "output_type": "stream",
     "text": [
      "CPU times: user 44.4 ms, sys: 6.8 ms, total: 51.2 ms\n",
      "Wall time: 62.7 ms\n"
     ]
    }
   ],
   "source": [
    "%%time\n",
    "\n",
    "Employees = pd.read_excel('../data/Employees.xls')\n",
    "Territory = pd.read_excel('../data/SalesTerritory.xls')\n",
    "Customers = pd.read_excel('../data/Customers.xls')\n",
    "Orders = pd.read_excel('../data/ItemsOrdered.xls')"
   ]
  },
  {
   "cell_type": "code",
   "execution_count": 64,
   "id": "3b3faa66-24e8-433d-89bb-a11e0565154c",
   "metadata": {},
   "outputs": [
    {
     "data": {
      "text/html": [
       "<div>\n",
       "<style scoped>\n",
       "    .dataframe tbody tr th:only-of-type {\n",
       "        vertical-align: middle;\n",
       "    }\n",
       "\n",
       "    .dataframe tbody tr th {\n",
       "        vertical-align: top;\n",
       "    }\n",
       "\n",
       "    .dataframe thead th {\n",
       "        text-align: right;\n",
       "    }\n",
       "</style>\n",
       "<table border=\"1\" class=\"dataframe\">\n",
       "  <thead>\n",
       "    <tr style=\"text-align: right;\">\n",
       "      <th></th>\n",
       "      <th>EmployeeID</th>\n",
       "      <th>ManagerID</th>\n",
       "      <th>TerritoryID</th>\n",
       "      <th>Title</th>\n",
       "      <th>FirstName</th>\n",
       "      <th>MiddleName</th>\n",
       "      <th>LastName</th>\n",
       "      <th>Suffix</th>\n",
       "      <th>JobTitle</th>\n",
       "      <th>NationalIDNumber</th>\n",
       "      <th>BirthDate</th>\n",
       "      <th>MaritalStatus</th>\n",
       "      <th>Gender</th>\n",
       "      <th>HireDate</th>\n",
       "      <th>SalariedFlag</th>\n",
       "      <th>VacationHours</th>\n",
       "      <th>SickLeaveHours</th>\n",
       "      <th>PhoneNumber</th>\n",
       "      <th>PhoneNumberType</th>\n",
       "      <th>EmailAddress</th>\n",
       "      <th>AddressLine1</th>\n",
       "      <th>AddressLine2</th>\n",
       "      <th>City</th>\n",
       "      <th>StateProvinceName</th>\n",
       "      <th>PostalCode</th>\n",
       "      <th>CountryName</th>\n",
       "    </tr>\n",
       "  </thead>\n",
       "  <tbody>\n",
       "    <tr>\n",
       "      <th>0</th>\n",
       "      <td>259</td>\n",
       "      <td>250.0</td>\n",
       "      <td>NaN</td>\n",
       "      <td>NaN</td>\n",
       "      <td>Ben</td>\n",
       "      <td>T</td>\n",
       "      <td>Miller</td>\n",
       "      <td>NaN</td>\n",
       "      <td>Buyer</td>\n",
       "      <td>20269531</td>\n",
       "      <td>1967-07-05</td>\n",
       "      <td>M</td>\n",
       "      <td>M</td>\n",
       "      <td>2004-04-09</td>\n",
       "      <td>0</td>\n",
       "      <td>55</td>\n",
       "      <td>47</td>\n",
       "      <td>151-555-0113</td>\n",
       "      <td>Work</td>\n",
       "      <td>ben0@adventure-works.com</td>\n",
       "      <td>101 Candy Rd.</td>\n",
       "      <td>NaN</td>\n",
       "      <td>Redmond</td>\n",
       "      <td>Washington</td>\n",
       "      <td>98052</td>\n",
       "      <td>United States</td>\n",
       "    </tr>\n",
       "    <tr>\n",
       "      <th>1</th>\n",
       "      <td>278</td>\n",
       "      <td>274.0</td>\n",
       "      <td>6.0</td>\n",
       "      <td>NaN</td>\n",
       "      <td>Garrett</td>\n",
       "      <td>R</td>\n",
       "      <td>Vargas</td>\n",
       "      <td>NaN</td>\n",
       "      <td>Sales Representative</td>\n",
       "      <td>234474252</td>\n",
       "      <td>1969-03-07</td>\n",
       "      <td>M</td>\n",
       "      <td>M</td>\n",
       "      <td>2005-07-01</td>\n",
       "      <td>1</td>\n",
       "      <td>33</td>\n",
       "      <td>36</td>\n",
       "      <td>922-555-0165</td>\n",
       "      <td>Work</td>\n",
       "      <td>garrett1@mapleleafmail.ca</td>\n",
       "      <td>10203 Acorn Avenue</td>\n",
       "      <td>NaN</td>\n",
       "      <td>Calgary</td>\n",
       "      <td>Alberta</td>\n",
       "      <td>T2P 2G8</td>\n",
       "      <td>Canada</td>\n",
       "    </tr>\n",
       "    <tr>\n",
       "      <th>2</th>\n",
       "      <td>204</td>\n",
       "      <td>26.0</td>\n",
       "      <td>NaN</td>\n",
       "      <td>NaN</td>\n",
       "      <td>Gabe</td>\n",
       "      <td>B</td>\n",
       "      <td>Mares</td>\n",
       "      <td>NaN</td>\n",
       "      <td>Production Technician - WC40</td>\n",
       "      <td>440379437</td>\n",
       "      <td>1982-06-11</td>\n",
       "      <td>M</td>\n",
       "      <td>M</td>\n",
       "      <td>2003-04-09</td>\n",
       "      <td>0</td>\n",
       "      <td>57</td>\n",
       "      <td>48</td>\n",
       "      <td>310-555-0117</td>\n",
       "      <td>Work</td>\n",
       "      <td>gabe0@adventure-works.com</td>\n",
       "      <td>1061 Buskrik Avenue</td>\n",
       "      <td>NaN</td>\n",
       "      <td>Edmonds</td>\n",
       "      <td>Washington</td>\n",
       "      <td>98020</td>\n",
       "      <td>United States</td>\n",
       "    </tr>\n",
       "  </tbody>\n",
       "</table>\n",
       "</div>"
      ],
      "text/plain": [
       "   EmployeeID  ManagerID  TerritoryID Title FirstName MiddleName LastName  \\\n",
       "0         259      250.0          NaN   NaN       Ben          T   Miller   \n",
       "1         278      274.0          6.0   NaN   Garrett          R   Vargas   \n",
       "2         204       26.0          NaN   NaN      Gabe          B    Mares   \n",
       "\n",
       "  Suffix                      JobTitle  NationalIDNumber   BirthDate  \\\n",
       "0    NaN                         Buyer          20269531  1967-07-05   \n",
       "1    NaN          Sales Representative         234474252  1969-03-07   \n",
       "2    NaN  Production Technician - WC40         440379437  1982-06-11   \n",
       "\n",
       "  MaritalStatus Gender   HireDate  SalariedFlag  VacationHours  \\\n",
       "0             M      M 2004-04-09             0             55   \n",
       "1             M      M 2005-07-01             1             33   \n",
       "2             M      M 2003-04-09             0             57   \n",
       "\n",
       "   SickLeaveHours   PhoneNumber PhoneNumberType               EmailAddress  \\\n",
       "0              47  151-555-0113            Work   ben0@adventure-works.com   \n",
       "1              36  922-555-0165            Work  garrett1@mapleleafmail.ca   \n",
       "2              48  310-555-0117            Work  gabe0@adventure-works.com   \n",
       "\n",
       "          AddressLine1 AddressLine2     City StateProvinceName PostalCode  \\\n",
       "0        101 Candy Rd.          NaN  Redmond        Washington      98052   \n",
       "1   10203 Acorn Avenue          NaN  Calgary           Alberta    T2P 2G8   \n",
       "2  1061 Buskrik Avenue          NaN  Edmonds        Washington      98020   \n",
       "\n",
       "     CountryName  \n",
       "0  United States  \n",
       "1         Canada  \n",
       "2  United States  "
      ]
     },
     "execution_count": 64,
     "metadata": {},
     "output_type": "execute_result"
    }
   ],
   "source": [
    "Employees.head(3)"
   ]
  },
  {
   "cell_type": "code",
   "execution_count": 70,
   "id": "975d5ee2",
   "metadata": {},
   "outputs": [
    {
     "data": {
      "text/plain": [
       "(291, 26)"
      ]
     },
     "execution_count": 70,
     "metadata": {},
     "output_type": "execute_result"
    }
   ],
   "source": [
    "Employees.shape"
   ]
  },
  {
   "cell_type": "code",
   "execution_count": null,
   "id": "05328657",
   "metadata": {},
   "outputs": [],
   "source": []
  },
  {
   "cell_type": "code",
   "execution_count": 65,
   "id": "d98ee868-88a3-41f0-8336-58422aab139b",
   "metadata": {},
   "outputs": [
    {
     "data": {
      "text/html": [
       "<div>\n",
       "<style scoped>\n",
       "    .dataframe tbody tr th:only-of-type {\n",
       "        vertical-align: middle;\n",
       "    }\n",
       "\n",
       "    .dataframe tbody tr th {\n",
       "        vertical-align: top;\n",
       "    }\n",
       "\n",
       "    .dataframe thead th {\n",
       "        text-align: right;\n",
       "    }\n",
       "</style>\n",
       "<table border=\"1\" class=\"dataframe\">\n",
       "  <thead>\n",
       "    <tr style=\"text-align: right;\">\n",
       "      <th></th>\n",
       "      <th>TerritoryID</th>\n",
       "      <th>Name</th>\n",
       "      <th>CountryCode</th>\n",
       "      <th>Region</th>\n",
       "      <th>SalesYTD</th>\n",
       "      <th>SalesLastYear</th>\n",
       "    </tr>\n",
       "  </thead>\n",
       "  <tbody>\n",
       "    <tr>\n",
       "      <th>0</th>\n",
       "      <td>1</td>\n",
       "      <td>Northwest</td>\n",
       "      <td>US</td>\n",
       "      <td>North America</td>\n",
       "      <td>7887186.79</td>\n",
       "      <td>3298694.49</td>\n",
       "    </tr>\n",
       "    <tr>\n",
       "      <th>1</th>\n",
       "      <td>2</td>\n",
       "      <td>Northeast</td>\n",
       "      <td>US</td>\n",
       "      <td>North America</td>\n",
       "      <td>2402176.85</td>\n",
       "      <td>3607148.94</td>\n",
       "    </tr>\n",
       "    <tr>\n",
       "      <th>2</th>\n",
       "      <td>3</td>\n",
       "      <td>Central</td>\n",
       "      <td>US</td>\n",
       "      <td>North America</td>\n",
       "      <td>3072175.12</td>\n",
       "      <td>3205014.08</td>\n",
       "    </tr>\n",
       "  </tbody>\n",
       "</table>\n",
       "</div>"
      ],
      "text/plain": [
       "   TerritoryID       Name CountryCode         Region    SalesYTD  \\\n",
       "0            1  Northwest          US  North America  7887186.79   \n",
       "1            2  Northeast          US  North America  2402176.85   \n",
       "2            3    Central          US  North America  3072175.12   \n",
       "\n",
       "   SalesLastYear  \n",
       "0     3298694.49  \n",
       "1     3607148.94  \n",
       "2     3205014.08  "
      ]
     },
     "execution_count": 65,
     "metadata": {},
     "output_type": "execute_result"
    }
   ],
   "source": [
    "Territory.head(3)"
   ]
  },
  {
   "cell_type": "code",
   "execution_count": 66,
   "id": "ff4774dd",
   "metadata": {},
   "outputs": [
    {
     "data": {
      "text/plain": [
       "(12, 6)"
      ]
     },
     "execution_count": 66,
     "metadata": {},
     "output_type": "execute_result"
    }
   ],
   "source": [
    "Territory.shape"
   ]
  },
  {
   "cell_type": "code",
   "execution_count": 67,
   "id": "c4b3acc8",
   "metadata": {},
   "outputs": [
    {
     "data": {
      "text/html": [
       "<div>\n",
       "<style scoped>\n",
       "    .dataframe tbody tr th:only-of-type {\n",
       "        vertical-align: middle;\n",
       "    }\n",
       "\n",
       "    .dataframe tbody tr th {\n",
       "        vertical-align: top;\n",
       "    }\n",
       "\n",
       "    .dataframe thead th {\n",
       "        text-align: right;\n",
       "    }\n",
       "</style>\n",
       "<table border=\"1\" class=\"dataframe\">\n",
       "  <thead>\n",
       "    <tr style=\"text-align: right;\">\n",
       "      <th></th>\n",
       "      <th>TerritoryID</th>\n",
       "      <th>Name</th>\n",
       "      <th>CountryCode</th>\n",
       "      <th>Region</th>\n",
       "      <th>SalesYTD</th>\n",
       "      <th>SalesLastYear</th>\n",
       "    </tr>\n",
       "  </thead>\n",
       "  <tbody>\n",
       "    <tr>\n",
       "      <th>0</th>\n",
       "      <td>1</td>\n",
       "      <td>Northwest</td>\n",
       "      <td>US</td>\n",
       "      <td>North America</td>\n",
       "      <td>7887186.79</td>\n",
       "      <td>3298694.490</td>\n",
       "    </tr>\n",
       "    <tr>\n",
       "      <th>1</th>\n",
       "      <td>2</td>\n",
       "      <td>Northeast</td>\n",
       "      <td>US</td>\n",
       "      <td>North America</td>\n",
       "      <td>2402176.85</td>\n",
       "      <td>3607148.940</td>\n",
       "    </tr>\n",
       "    <tr>\n",
       "      <th>2</th>\n",
       "      <td>3</td>\n",
       "      <td>Central</td>\n",
       "      <td>US</td>\n",
       "      <td>North America</td>\n",
       "      <td>3072175.12</td>\n",
       "      <td>3205014.080</td>\n",
       "    </tr>\n",
       "    <tr>\n",
       "      <th>3</th>\n",
       "      <td>4</td>\n",
       "      <td>Southwest</td>\n",
       "      <td>US</td>\n",
       "      <td>North America</td>\n",
       "      <td>10510853.87</td>\n",
       "      <td>5366575.710</td>\n",
       "    </tr>\n",
       "    <tr>\n",
       "      <th>4</th>\n",
       "      <td>5</td>\n",
       "      <td>Southeast</td>\n",
       "      <td>US</td>\n",
       "      <td>North America</td>\n",
       "      <td>2538667.25</td>\n",
       "      <td>3925071.430</td>\n",
       "    </tr>\n",
       "    <tr>\n",
       "      <th>5</th>\n",
       "      <td>6</td>\n",
       "      <td>Canada</td>\n",
       "      <td>CA</td>\n",
       "      <td>North America</td>\n",
       "      <td>6771829.14</td>\n",
       "      <td>5693988.860</td>\n",
       "    </tr>\n",
       "    <tr>\n",
       "      <th>6</th>\n",
       "      <td>7</td>\n",
       "      <td>France</td>\n",
       "      <td>FR</td>\n",
       "      <td>Europe</td>\n",
       "      <td>4772398.31</td>\n",
       "      <td>2396539.760</td>\n",
       "    </tr>\n",
       "    <tr>\n",
       "      <th>7</th>\n",
       "      <td>8</td>\n",
       "      <td>Germany</td>\n",
       "      <td>DE</td>\n",
       "      <td>Europe</td>\n",
       "      <td>3805202.35</td>\n",
       "      <td>1307949.790</td>\n",
       "    </tr>\n",
       "    <tr>\n",
       "      <th>8</th>\n",
       "      <td>9</td>\n",
       "      <td>Australia</td>\n",
       "      <td>AU</td>\n",
       "      <td>Pacific</td>\n",
       "      <td>5977814.92</td>\n",
       "      <td>2278548.980</td>\n",
       "    </tr>\n",
       "    <tr>\n",
       "      <th>9</th>\n",
       "      <td>10</td>\n",
       "      <td>United Kingdom</td>\n",
       "      <td>GB</td>\n",
       "      <td>Europe</td>\n",
       "      <td>5012905.37</td>\n",
       "      <td>1635823.400</td>\n",
       "    </tr>\n",
       "    <tr>\n",
       "      <th>10</th>\n",
       "      <td>11</td>\n",
       "      <td>Brazil</td>\n",
       "      <td>BR</td>\n",
       "      <td>South America</td>\n",
       "      <td>0.00</td>\n",
       "      <td>261589.958</td>\n",
       "    </tr>\n",
       "    <tr>\n",
       "      <th>11</th>\n",
       "      <td>12</td>\n",
       "      <td>Mexico</td>\n",
       "      <td>MX</td>\n",
       "      <td>North America</td>\n",
       "      <td>0.00</td>\n",
       "      <td>0.000</td>\n",
       "    </tr>\n",
       "  </tbody>\n",
       "</table>\n",
       "</div>"
      ],
      "text/plain": [
       "    TerritoryID            Name CountryCode         Region     SalesYTD  \\\n",
       "0             1       Northwest          US  North America   7887186.79   \n",
       "1             2       Northeast          US  North America   2402176.85   \n",
       "2             3         Central          US  North America   3072175.12   \n",
       "3             4       Southwest          US  North America  10510853.87   \n",
       "4             5       Southeast          US  North America   2538667.25   \n",
       "5             6          Canada          CA  North America   6771829.14   \n",
       "6             7          France          FR         Europe   4772398.31   \n",
       "7             8         Germany          DE         Europe   3805202.35   \n",
       "8             9       Australia          AU        Pacific   5977814.92   \n",
       "9            10  United Kingdom          GB         Europe   5012905.37   \n",
       "10           11          Brazil          BR  South America         0.00   \n",
       "11           12          Mexico          MX  North America         0.00   \n",
       "\n",
       "    SalesLastYear  \n",
       "0     3298694.490  \n",
       "1     3607148.940  \n",
       "2     3205014.080  \n",
       "3     5366575.710  \n",
       "4     3925071.430  \n",
       "5     5693988.860  \n",
       "6     2396539.760  \n",
       "7     1307949.790  \n",
       "8     2278548.980  \n",
       "9     1635823.400  \n",
       "10     261589.958  \n",
       "11          0.000  "
      ]
     },
     "execution_count": 67,
     "metadata": {},
     "output_type": "execute_result"
    }
   ],
   "source": [
    "Territory"
   ]
  },
  {
   "cell_type": "code",
   "execution_count": null,
   "id": "4c46845b",
   "metadata": {},
   "outputs": [],
   "source": []
  },
  {
   "cell_type": "code",
   "execution_count": 68,
   "id": "6ea27727-ec36-43fd-a74b-43620200da16",
   "metadata": {},
   "outputs": [
    {
     "data": {
      "text/html": [
       "<div>\n",
       "<style scoped>\n",
       "    .dataframe tbody tr th:only-of-type {\n",
       "        vertical-align: middle;\n",
       "    }\n",
       "\n",
       "    .dataframe tbody tr th {\n",
       "        vertical-align: top;\n",
       "    }\n",
       "\n",
       "    .dataframe thead th {\n",
       "        text-align: right;\n",
       "    }\n",
       "</style>\n",
       "<table border=\"1\" class=\"dataframe\">\n",
       "  <thead>\n",
       "    <tr style=\"text-align: right;\">\n",
       "      <th></th>\n",
       "      <th>CustomerID</th>\n",
       "      <th>SalesTerritoryID</th>\n",
       "      <th>FirstName</th>\n",
       "      <th>LastName</th>\n",
       "      <th>City</th>\n",
       "      <th>StateName</th>\n",
       "    </tr>\n",
       "  </thead>\n",
       "  <tbody>\n",
       "    <tr>\n",
       "      <th>0</th>\n",
       "      <td>10101</td>\n",
       "      <td>1</td>\n",
       "      <td>John</td>\n",
       "      <td>Gray</td>\n",
       "      <td>Lynden</td>\n",
       "      <td>Washington</td>\n",
       "    </tr>\n",
       "    <tr>\n",
       "      <th>1</th>\n",
       "      <td>10298</td>\n",
       "      <td>4</td>\n",
       "      <td>Leroy</td>\n",
       "      <td>Brown</td>\n",
       "      <td>Pinetop</td>\n",
       "      <td>Arizona</td>\n",
       "    </tr>\n",
       "    <tr>\n",
       "      <th>2</th>\n",
       "      <td>10299</td>\n",
       "      <td>1</td>\n",
       "      <td>Elroy</td>\n",
       "      <td>Keller</td>\n",
       "      <td>Snoqualmie</td>\n",
       "      <td>Washington</td>\n",
       "    </tr>\n",
       "  </tbody>\n",
       "</table>\n",
       "</div>"
      ],
      "text/plain": [
       "   CustomerID  SalesTerritoryID FirstName LastName        City   StateName\n",
       "0       10101                 1      John     Gray      Lynden  Washington\n",
       "1       10298                 4     Leroy    Brown     Pinetop     Arizona\n",
       "2       10299                 1     Elroy   Keller  Snoqualmie  Washington"
      ]
     },
     "execution_count": 68,
     "metadata": {},
     "output_type": "execute_result"
    }
   ],
   "source": [
    "Customers.head(3)"
   ]
  },
  {
   "cell_type": "code",
   "execution_count": 69,
   "id": "3b6f10d6",
   "metadata": {},
   "outputs": [
    {
     "data": {
      "text/plain": [
       "(17, 6)"
      ]
     },
     "execution_count": 69,
     "metadata": {},
     "output_type": "execute_result"
    }
   ],
   "source": [
    "Customers.shape"
   ]
  },
  {
   "cell_type": "code",
   "execution_count": null,
   "id": "00b36465",
   "metadata": {},
   "outputs": [],
   "source": []
  },
  {
   "cell_type": "code",
   "execution_count": 71,
   "id": "0599601b-3fb5-456a-ab22-21fd9891dc64",
   "metadata": {},
   "outputs": [
    {
     "data": {
      "text/html": [
       "<div>\n",
       "<style scoped>\n",
       "    .dataframe tbody tr th:only-of-type {\n",
       "        vertical-align: middle;\n",
       "    }\n",
       "\n",
       "    .dataframe tbody tr th {\n",
       "        vertical-align: top;\n",
       "    }\n",
       "\n",
       "    .dataframe thead th {\n",
       "        text-align: right;\n",
       "    }\n",
       "</style>\n",
       "<table border=\"1\" class=\"dataframe\">\n",
       "  <thead>\n",
       "    <tr style=\"text-align: right;\">\n",
       "      <th></th>\n",
       "      <th>CustomerID</th>\n",
       "      <th>OrderDate</th>\n",
       "      <th>Item</th>\n",
       "      <th>Quantity</th>\n",
       "      <th>Price</th>\n",
       "    </tr>\n",
       "  </thead>\n",
       "  <tbody>\n",
       "    <tr>\n",
       "      <th>0</th>\n",
       "      <td>10330</td>\n",
       "      <td>2004-06-30</td>\n",
       "      <td>Pogo stick</td>\n",
       "      <td>1</td>\n",
       "      <td>28.0</td>\n",
       "    </tr>\n",
       "    <tr>\n",
       "      <th>1</th>\n",
       "      <td>10101</td>\n",
       "      <td>2004-06-30</td>\n",
       "      <td>Raft</td>\n",
       "      <td>1</td>\n",
       "      <td>58.0</td>\n",
       "    </tr>\n",
       "    <tr>\n",
       "      <th>2</th>\n",
       "      <td>10298</td>\n",
       "      <td>2004-07-01</td>\n",
       "      <td>Skateboard</td>\n",
       "      <td>1</td>\n",
       "      <td>33.0</td>\n",
       "    </tr>\n",
       "  </tbody>\n",
       "</table>\n",
       "</div>"
      ],
      "text/plain": [
       "   CustomerID  OrderDate        Item  Quantity  Price\n",
       "0       10330 2004-06-30  Pogo stick         1   28.0\n",
       "1       10101 2004-06-30        Raft         1   58.0\n",
       "2       10298 2004-07-01  Skateboard         1   33.0"
      ]
     },
     "execution_count": 71,
     "metadata": {},
     "output_type": "execute_result"
    }
   ],
   "source": [
    "Orders.head(3)"
   ]
  },
  {
   "cell_type": "code",
   "execution_count": 72,
   "id": "c7f6ce66",
   "metadata": {},
   "outputs": [
    {
     "data": {
      "text/plain": [
       "(32, 5)"
      ]
     },
     "execution_count": 72,
     "metadata": {},
     "output_type": "execute_result"
    }
   ],
   "source": [
    "Orders.shape"
   ]
  },
  {
   "cell_type": "code",
   "execution_count": null,
   "id": "33fe9d17",
   "metadata": {},
   "outputs": [],
   "source": []
  },
  {
   "cell_type": "code",
   "execution_count": null,
   "id": "5bde7da6-4e2b-4942-b82d-248f3dd578f1",
   "metadata": {},
   "outputs": [],
   "source": []
  },
  {
   "cell_type": "markdown",
   "id": "2b2813ff-48fd-4d53-bdd7-d065e9c09b56",
   "metadata": {},
   "source": [
    "## Filtering"
   ]
  },
  {
   "cell_type": "markdown",
   "id": "68eebfc3-b4cc-456c-b6ee-25af5458bc4e",
   "metadata": {},
   "source": [
    "### Provide a list of employees that are married\n",
    "\n",
    "SQL logic\n",
    "```sql\n",
    "SELECT \n",
    "  e.EmployeeID\n",
    "  , e.FirstName\n",
    "  , e.LastName \n",
    "FROM dbo.Employees AS e\n",
    "WHERE e.MaritalStatus = 'M';\n",
    "```"
   ]
  },
  {
   "cell_type": "code",
   "execution_count": 73,
   "id": "6e96a621",
   "metadata": {},
   "outputs": [
    {
     "data": {
      "text/html": [
       "<div>\n",
       "<style scoped>\n",
       "    .dataframe tbody tr th:only-of-type {\n",
       "        vertical-align: middle;\n",
       "    }\n",
       "\n",
       "    .dataframe tbody tr th {\n",
       "        vertical-align: top;\n",
       "    }\n",
       "\n",
       "    .dataframe thead th {\n",
       "        text-align: right;\n",
       "    }\n",
       "</style>\n",
       "<table border=\"1\" class=\"dataframe\">\n",
       "  <thead>\n",
       "    <tr style=\"text-align: right;\">\n",
       "      <th></th>\n",
       "      <th>EmployeeID</th>\n",
       "      <th>ManagerID</th>\n",
       "      <th>TerritoryID</th>\n",
       "      <th>Title</th>\n",
       "      <th>FirstName</th>\n",
       "      <th>MiddleName</th>\n",
       "      <th>LastName</th>\n",
       "      <th>Suffix</th>\n",
       "      <th>JobTitle</th>\n",
       "      <th>NationalIDNumber</th>\n",
       "      <th>BirthDate</th>\n",
       "      <th>MaritalStatus</th>\n",
       "      <th>Gender</th>\n",
       "      <th>HireDate</th>\n",
       "      <th>SalariedFlag</th>\n",
       "      <th>VacationHours</th>\n",
       "      <th>SickLeaveHours</th>\n",
       "      <th>PhoneNumber</th>\n",
       "      <th>PhoneNumberType</th>\n",
       "      <th>EmailAddress</th>\n",
       "      <th>AddressLine1</th>\n",
       "      <th>AddressLine2</th>\n",
       "      <th>City</th>\n",
       "      <th>StateProvinceName</th>\n",
       "      <th>PostalCode</th>\n",
       "      <th>CountryName</th>\n",
       "    </tr>\n",
       "  </thead>\n",
       "  <tbody>\n",
       "    <tr>\n",
       "      <th>0</th>\n",
       "      <td>259</td>\n",
       "      <td>250.0</td>\n",
       "      <td>NaN</td>\n",
       "      <td>NaN</td>\n",
       "      <td>Ben</td>\n",
       "      <td>T</td>\n",
       "      <td>Miller</td>\n",
       "      <td>NaN</td>\n",
       "      <td>Buyer</td>\n",
       "      <td>20269531</td>\n",
       "      <td>1967-07-05</td>\n",
       "      <td>M</td>\n",
       "      <td>M</td>\n",
       "      <td>2004-04-09</td>\n",
       "      <td>0</td>\n",
       "      <td>55</td>\n",
       "      <td>47</td>\n",
       "      <td>151-555-0113</td>\n",
       "      <td>Work</td>\n",
       "      <td>ben0@adventure-works.com</td>\n",
       "      <td>101 Candy Rd.</td>\n",
       "      <td>NaN</td>\n",
       "      <td>Redmond</td>\n",
       "      <td>Washington</td>\n",
       "      <td>98052</td>\n",
       "      <td>United States</td>\n",
       "    </tr>\n",
       "    <tr>\n",
       "      <th>1</th>\n",
       "      <td>278</td>\n",
       "      <td>274.0</td>\n",
       "      <td>6.0</td>\n",
       "      <td>NaN</td>\n",
       "      <td>Garrett</td>\n",
       "      <td>R</td>\n",
       "      <td>Vargas</td>\n",
       "      <td>NaN</td>\n",
       "      <td>Sales Representative</td>\n",
       "      <td>234474252</td>\n",
       "      <td>1969-03-07</td>\n",
       "      <td>M</td>\n",
       "      <td>M</td>\n",
       "      <td>2005-07-01</td>\n",
       "      <td>1</td>\n",
       "      <td>33</td>\n",
       "      <td>36</td>\n",
       "      <td>922-555-0165</td>\n",
       "      <td>Work</td>\n",
       "      <td>garrett1@mapleleafmail.ca</td>\n",
       "      <td>10203 Acorn Avenue</td>\n",
       "      <td>NaN</td>\n",
       "      <td>Calgary</td>\n",
       "      <td>Alberta</td>\n",
       "      <td>T2P 2G8</td>\n",
       "      <td>Canada</td>\n",
       "    </tr>\n",
       "    <tr>\n",
       "      <th>2</th>\n",
       "      <td>204</td>\n",
       "      <td>26.0</td>\n",
       "      <td>NaN</td>\n",
       "      <td>NaN</td>\n",
       "      <td>Gabe</td>\n",
       "      <td>B</td>\n",
       "      <td>Mares</td>\n",
       "      <td>NaN</td>\n",
       "      <td>Production Technician - WC40</td>\n",
       "      <td>440379437</td>\n",
       "      <td>1982-06-11</td>\n",
       "      <td>M</td>\n",
       "      <td>M</td>\n",
       "      <td>2003-04-09</td>\n",
       "      <td>0</td>\n",
       "      <td>57</td>\n",
       "      <td>48</td>\n",
       "      <td>310-555-0117</td>\n",
       "      <td>Work</td>\n",
       "      <td>gabe0@adventure-works.com</td>\n",
       "      <td>1061 Buskrik Avenue</td>\n",
       "      <td>NaN</td>\n",
       "      <td>Edmonds</td>\n",
       "      <td>Washington</td>\n",
       "      <td>98020</td>\n",
       "      <td>United States</td>\n",
       "    </tr>\n",
       "  </tbody>\n",
       "</table>\n",
       "</div>"
      ],
      "text/plain": [
       "   EmployeeID  ManagerID  TerritoryID Title FirstName MiddleName LastName  \\\n",
       "0         259      250.0          NaN   NaN       Ben          T   Miller   \n",
       "1         278      274.0          6.0   NaN   Garrett          R   Vargas   \n",
       "2         204       26.0          NaN   NaN      Gabe          B    Mares   \n",
       "\n",
       "  Suffix                      JobTitle  NationalIDNumber   BirthDate  \\\n",
       "0    NaN                         Buyer          20269531  1967-07-05   \n",
       "1    NaN          Sales Representative         234474252  1969-03-07   \n",
       "2    NaN  Production Technician - WC40         440379437  1982-06-11   \n",
       "\n",
       "  MaritalStatus Gender   HireDate  SalariedFlag  VacationHours  \\\n",
       "0             M      M 2004-04-09             0             55   \n",
       "1             M      M 2005-07-01             1             33   \n",
       "2             M      M 2003-04-09             0             57   \n",
       "\n",
       "   SickLeaveHours   PhoneNumber PhoneNumberType               EmailAddress  \\\n",
       "0              47  151-555-0113            Work   ben0@adventure-works.com   \n",
       "1              36  922-555-0165            Work  garrett1@mapleleafmail.ca   \n",
       "2              48  310-555-0117            Work  gabe0@adventure-works.com   \n",
       "\n",
       "          AddressLine1 AddressLine2     City StateProvinceName PostalCode  \\\n",
       "0        101 Candy Rd.          NaN  Redmond        Washington      98052   \n",
       "1   10203 Acorn Avenue          NaN  Calgary           Alberta    T2P 2G8   \n",
       "2  1061 Buskrik Avenue          NaN  Edmonds        Washington      98020   \n",
       "\n",
       "     CountryName  \n",
       "0  United States  \n",
       "1         Canada  \n",
       "2  United States  "
      ]
     },
     "execution_count": 73,
     "metadata": {},
     "output_type": "execute_result"
    }
   ],
   "source": [
    "Employees.head(3)"
   ]
  },
  {
   "cell_type": "code",
   "execution_count": null,
   "id": "baa57b04",
   "metadata": {},
   "outputs": [],
   "source": []
  },
  {
   "cell_type": "code",
   "execution_count": 75,
   "id": "6166836b",
   "metadata": {},
   "outputs": [
    {
     "data": {
      "text/plain": [
       "2"
      ]
     },
     "execution_count": 75,
     "metadata": {},
     "output_type": "execute_result"
    }
   ],
   "source": [
    "Employees.MaritalStatus.nunique()"
   ]
  },
  {
   "cell_type": "code",
   "execution_count": 76,
   "id": "4ae7028c-3a27-4f75-b601-3f48f430cdb0",
   "metadata": {},
   "outputs": [
    {
     "data": {
      "text/plain": [
       "array(['M', 'S'], dtype=object)"
      ]
     },
     "execution_count": 76,
     "metadata": {},
     "output_type": "execute_result"
    }
   ],
   "source": [
    "Employees.MaritalStatus.unique()"
   ]
  },
  {
   "cell_type": "code",
   "execution_count": null,
   "id": "037e72c7",
   "metadata": {},
   "outputs": [],
   "source": []
  },
  {
   "cell_type": "code",
   "execution_count": 77,
   "id": "0bb4e36c-4289-4b20-af01-fd782157bc69",
   "metadata": {},
   "outputs": [
    {
     "data": {
      "text/html": [
       "<div>\n",
       "<style scoped>\n",
       "    .dataframe tbody tr th:only-of-type {\n",
       "        vertical-align: middle;\n",
       "    }\n",
       "\n",
       "    .dataframe tbody tr th {\n",
       "        vertical-align: top;\n",
       "    }\n",
       "\n",
       "    .dataframe thead th {\n",
       "        text-align: right;\n",
       "    }\n",
       "</style>\n",
       "<table border=\"1\" class=\"dataframe\">\n",
       "  <thead>\n",
       "    <tr style=\"text-align: right;\">\n",
       "      <th></th>\n",
       "      <th>EmployeeID</th>\n",
       "      <th>FirstName</th>\n",
       "      <th>LastName</th>\n",
       "    </tr>\n",
       "  </thead>\n",
       "  <tbody>\n",
       "    <tr>\n",
       "      <th>0</th>\n",
       "      <td>259</td>\n",
       "      <td>Ben</td>\n",
       "      <td>Miller</td>\n",
       "    </tr>\n",
       "    <tr>\n",
       "      <th>1</th>\n",
       "      <td>278</td>\n",
       "      <td>Garrett</td>\n",
       "      <td>Vargas</td>\n",
       "    </tr>\n",
       "    <tr>\n",
       "      <th>2</th>\n",
       "      <td>204</td>\n",
       "      <td>Gabe</td>\n",
       "      <td>Mares</td>\n",
       "    </tr>\n",
       "  </tbody>\n",
       "</table>\n",
       "</div>"
      ],
      "text/plain": [
       "   EmployeeID FirstName LastName\n",
       "0         259       Ben   Miller\n",
       "1         278   Garrett   Vargas\n",
       "2         204      Gabe    Mares"
      ]
     },
     "execution_count": 77,
     "metadata": {},
     "output_type": "execute_result"
    }
   ],
   "source": [
    "## select by condition\n",
    "Employees.loc[Employees.MaritalStatus == 'M', ['EmployeeID', 'FirstName', 'LastName']].head(3)"
   ]
  },
  {
   "cell_type": "code",
   "execution_count": 84,
   "id": "6c860d71-c32f-43ac-b03b-28347cd2681e",
   "metadata": {},
   "outputs": [
    {
     "data": {
      "text/plain": [
       "(147, 3)"
      ]
     },
     "execution_count": 84,
     "metadata": {},
     "output_type": "execute_result"
    }
   ],
   "source": [
    "x = Employees.loc[Employees.MaritalStatus == 'M', ['EmployeeID', 'FirstName', 'LastName']].shape\n",
    "\n",
    "# type(x)\n",
    "x"
   ]
  },
  {
   "cell_type": "code",
   "execution_count": 85,
   "id": "5d9bc256",
   "metadata": {},
   "outputs": [
    {
     "data": {
      "text/plain": [
       "147"
      ]
     },
     "execution_count": 85,
     "metadata": {},
     "output_type": "execute_result"
    }
   ],
   "source": [
    "x[0]"
   ]
  },
  {
   "cell_type": "code",
   "execution_count": 79,
   "id": "718063af-37c8-486f-bf9c-298fadb6bb2b",
   "metadata": {},
   "outputs": [
    {
     "data": {
      "text/plain": [
       "144"
      ]
     },
     "execution_count": 79,
     "metadata": {},
     "output_type": "execute_result"
    }
   ],
   "source": [
    "Employees.loc[Employees.MaritalStatus == 'S', ['EmployeeID', 'FirstName', 'LastName']].shape[0]"
   ]
  },
  {
   "cell_type": "code",
   "execution_count": 86,
   "id": "b0dba85d",
   "metadata": {},
   "outputs": [
    {
     "data": {
      "text/plain": [
       "3"
      ]
     },
     "execution_count": 86,
     "metadata": {},
     "output_type": "execute_result"
    }
   ],
   "source": [
    "x[1]"
   ]
  },
  {
   "cell_type": "code",
   "execution_count": null,
   "id": "a56260f9",
   "metadata": {},
   "outputs": [],
   "source": []
  },
  {
   "cell_type": "code",
   "execution_count": 80,
   "id": "ebf762b2",
   "metadata": {},
   "outputs": [
    {
     "data": {
      "text/html": [
       "<div>\n",
       "<style scoped>\n",
       "    .dataframe tbody tr th:only-of-type {\n",
       "        vertical-align: middle;\n",
       "    }\n",
       "\n",
       "    .dataframe tbody tr th {\n",
       "        vertical-align: top;\n",
       "    }\n",
       "\n",
       "    .dataframe thead th {\n",
       "        text-align: right;\n",
       "    }\n",
       "</style>\n",
       "<table border=\"1\" class=\"dataframe\">\n",
       "  <thead>\n",
       "    <tr style=\"text-align: right;\">\n",
       "      <th></th>\n",
       "      <th>EmployeeID</th>\n",
       "      <th>FirstName</th>\n",
       "      <th>LastName</th>\n",
       "    </tr>\n",
       "  </thead>\n",
       "  <tbody>\n",
       "    <tr>\n",
       "      <th>5</th>\n",
       "      <td>66</td>\n",
       "      <td>Karan</td>\n",
       "      <td>Khanna</td>\n",
       "    </tr>\n",
       "    <tr>\n",
       "      <th>6</th>\n",
       "      <td>270</td>\n",
       "      <td>François</td>\n",
       "      <td>Ajenstat</td>\n",
       "    </tr>\n",
       "    <tr>\n",
       "      <th>7</th>\n",
       "      <td>22</td>\n",
       "      <td>Sariya</td>\n",
       "      <td>Harnpadoungsataya</td>\n",
       "    </tr>\n",
       "  </tbody>\n",
       "</table>\n",
       "</div>"
      ],
      "text/plain": [
       "   EmployeeID FirstName           LastName\n",
       "5          66     Karan             Khanna\n",
       "6         270  François           Ajenstat\n",
       "7          22    Sariya  Harnpadoungsataya"
      ]
     },
     "execution_count": 80,
     "metadata": {},
     "output_type": "execute_result"
    }
   ],
   "source": [
    "Employees.loc[Employees.MaritalStatus == 'S', ['EmployeeID', 'FirstName', 'LastName']].head(3)"
   ]
  },
  {
   "cell_type": "code",
   "execution_count": null,
   "id": "27800cc6",
   "metadata": {},
   "outputs": [],
   "source": []
  },
  {
   "cell_type": "markdown",
   "id": "318bf4a2-1b14-495a-a7d7-4fb56903c3f9",
   "metadata": {},
   "source": [
    "### Show me a list of employees that have a lastname that begins with \"R\"\n",
    "\n",
    "SQL logic\n",
    "```sql\n",
    "SELECT \n",
    "  e.EmployeeID\n",
    "  , e.FirstName\n",
    "  , e.LastName \n",
    "FROM dbo.Employees AS e\n",
    "WHERE e.LastName LIKE 'R%';\n",
    "```"
   ]
  },
  {
   "cell_type": "code",
   "execution_count": 81,
   "id": "87a38322-e36d-40ea-8b52-2d5a4a4a670c",
   "metadata": {},
   "outputs": [
    {
     "data": {
      "text/plain": [
       "True"
      ]
     },
     "execution_count": 81,
     "metadata": {},
     "output_type": "execute_result"
    }
   ],
   "source": [
    "'Robert'.startswith('R')"
   ]
  },
  {
   "cell_type": "code",
   "execution_count": 82,
   "id": "5f3e87c9",
   "metadata": {},
   "outputs": [
    {
     "data": {
      "text/plain": [
       "False"
      ]
     },
     "execution_count": 82,
     "metadata": {},
     "output_type": "execute_result"
    }
   ],
   "source": [
    "'Robert'.startswith('S')"
   ]
  },
  {
   "cell_type": "code",
   "execution_count": null,
   "id": "bff7b68c",
   "metadata": {},
   "outputs": [],
   "source": []
  },
  {
   "cell_type": "code",
   "execution_count": null,
   "id": "be494c0f",
   "metadata": {},
   "outputs": [],
   "source": []
  },
  {
   "cell_type": "code",
   "execution_count": 90,
   "id": "ce8411b7-16b6-4516-b9be-2680ec9fce1b",
   "metadata": {},
   "outputs": [
    {
     "data": {
      "text/html": [
       "<div>\n",
       "<style scoped>\n",
       "    .dataframe tbody tr th:only-of-type {\n",
       "        vertical-align: middle;\n",
       "    }\n",
       "\n",
       "    .dataframe tbody tr th {\n",
       "        vertical-align: top;\n",
       "    }\n",
       "\n",
       "    .dataframe thead th {\n",
       "        text-align: right;\n",
       "    }\n",
       "</style>\n",
       "<table border=\"1\" class=\"dataframe\">\n",
       "  <thead>\n",
       "    <tr style=\"text-align: right;\">\n",
       "      <th></th>\n",
       "      <th>EmployeeID</th>\n",
       "      <th>FirstName</th>\n",
       "      <th>LastName</th>\n",
       "    </tr>\n",
       "  </thead>\n",
       "  <tbody>\n",
       "    <tr>\n",
       "      <th>9</th>\n",
       "      <td>124</td>\n",
       "      <td>Kim</td>\n",
       "      <td>Ralls</td>\n",
       "    </tr>\n",
       "    <tr>\n",
       "      <th>10</th>\n",
       "      <td>10</td>\n",
       "      <td>Michael</td>\n",
       "      <td>Raheem</td>\n",
       "    </tr>\n",
       "    <tr>\n",
       "      <th>16</th>\n",
       "      <td>166</td>\n",
       "      <td>Jack</td>\n",
       "      <td>Richins</td>\n",
       "    </tr>\n",
       "    <tr>\n",
       "      <th>27</th>\n",
       "      <td>147</td>\n",
       "      <td>Sandra</td>\n",
       "      <td>Reátegui Alayo</td>\n",
       "    </tr>\n",
       "    <tr>\n",
       "      <th>44</th>\n",
       "      <td>133</td>\n",
       "      <td>Michael</td>\n",
       "      <td>Rothkugel</td>\n",
       "    </tr>\n",
       "    <tr>\n",
       "      <th>95</th>\n",
       "      <td>44</td>\n",
       "      <td>Simon</td>\n",
       "      <td>Rapier</td>\n",
       "    </tr>\n",
       "    <tr>\n",
       "      <th>99</th>\n",
       "      <td>65</td>\n",
       "      <td>Randy</td>\n",
       "      <td>Reeves</td>\n",
       "    </tr>\n",
       "    <tr>\n",
       "      <th>128</th>\n",
       "      <td>145</td>\n",
       "      <td>Cynthia</td>\n",
       "      <td>Randall</td>\n",
       "    </tr>\n",
       "    <tr>\n",
       "      <th>131</th>\n",
       "      <td>149</td>\n",
       "      <td>Andy</td>\n",
       "      <td>Ruth</td>\n",
       "    </tr>\n",
       "    <tr>\n",
       "      <th>166</th>\n",
       "      <td>74</td>\n",
       "      <td>Bjorn</td>\n",
       "      <td>Rettig</td>\n",
       "    </tr>\n",
       "  </tbody>\n",
       "</table>\n",
       "</div>"
      ],
      "text/plain": [
       "     EmployeeID FirstName        LastName\n",
       "9           124       Kim           Ralls\n",
       "10           10   Michael          Raheem\n",
       "16          166      Jack         Richins\n",
       "27          147    Sandra  Reátegui Alayo\n",
       "44          133   Michael       Rothkugel\n",
       "95           44     Simon          Rapier\n",
       "99           65     Randy          Reeves\n",
       "128         145   Cynthia         Randall\n",
       "131         149      Andy            Ruth\n",
       "166          74     Bjorn          Rettig"
      ]
     },
     "execution_count": 90,
     "metadata": {},
     "output_type": "execute_result"
    }
   ],
   "source": [
    "Employees.loc[Employees.LastName.str.startswith(\"R\"), ['EmployeeID', 'FirstName', 'LastName']].head(10)"
   ]
  },
  {
   "cell_type": "code",
   "execution_count": 91,
   "id": "fc426b07-bd03-4939-995d-facde07cbaa9",
   "metadata": {},
   "outputs": [
    {
     "data": {
      "text/plain": [
       "15"
      ]
     },
     "execution_count": 91,
     "metadata": {},
     "output_type": "execute_result"
    }
   ],
   "source": [
    "Employees.loc[Employees.LastName.str.startswith(\"R\"), ['EmployeeID', 'FirstName', 'LastName']].shape[0]"
   ]
  },
  {
   "cell_type": "code",
   "execution_count": 92,
   "id": "4f21127d-13b5-4ce7-bbbd-ab5f0b848103",
   "metadata": {},
   "outputs": [
    {
     "data": {
      "text/plain": [
       "15"
      ]
     },
     "execution_count": 92,
     "metadata": {},
     "output_type": "execute_result"
    }
   ],
   "source": [
    "Employees.loc[Employees.LastName.map(lambda x: str(x).startswith('R')), ['EmployeeID', 'FirstName', 'LastName']].shape[0]"
   ]
  },
  {
   "cell_type": "code",
   "execution_count": 93,
   "id": "f518ea68-2538-4be2-9c95-73d22d08343c",
   "metadata": {},
   "outputs": [
    {
     "data": {
      "text/html": [
       "<div>\n",
       "<style scoped>\n",
       "    .dataframe tbody tr th:only-of-type {\n",
       "        vertical-align: middle;\n",
       "    }\n",
       "\n",
       "    .dataframe tbody tr th {\n",
       "        vertical-align: top;\n",
       "    }\n",
       "\n",
       "    .dataframe thead th {\n",
       "        text-align: right;\n",
       "    }\n",
       "</style>\n",
       "<table border=\"1\" class=\"dataframe\">\n",
       "  <thead>\n",
       "    <tr style=\"text-align: right;\">\n",
       "      <th></th>\n",
       "      <th>EmployeeID</th>\n",
       "      <th>FirstName</th>\n",
       "      <th>LastName</th>\n",
       "    </tr>\n",
       "  </thead>\n",
       "  <tbody>\n",
       "    <tr>\n",
       "      <th>9</th>\n",
       "      <td>124</td>\n",
       "      <td>Kim</td>\n",
       "      <td>Ralls</td>\n",
       "    </tr>\n",
       "    <tr>\n",
       "      <th>10</th>\n",
       "      <td>10</td>\n",
       "      <td>Michael</td>\n",
       "      <td>Raheem</td>\n",
       "    </tr>\n",
       "    <tr>\n",
       "      <th>16</th>\n",
       "      <td>166</td>\n",
       "      <td>Jack</td>\n",
       "      <td>Richins</td>\n",
       "    </tr>\n",
       "  </tbody>\n",
       "</table>\n",
       "</div>"
      ],
      "text/plain": [
       "    EmployeeID FirstName LastName\n",
       "9          124       Kim    Ralls\n",
       "10          10   Michael   Raheem\n",
       "16         166      Jack  Richins"
      ]
     },
     "execution_count": 93,
     "metadata": {},
     "output_type": "execute_result"
    }
   ],
   "source": [
    "Employees.loc[Employees.LastName.map(lambda x: str(x).startswith('R')), ['EmployeeID', 'FirstName', 'LastName']].head(3)"
   ]
  },
  {
   "cell_type": "code",
   "execution_count": null,
   "id": "3ae24def-3765-43c7-87fb-fa6f89402c7b",
   "metadata": {},
   "outputs": [],
   "source": []
  },
  {
   "cell_type": "markdown",
   "id": "51f5f7c6-be9d-4107-b0ed-0e933b043ddf",
   "metadata": {},
   "source": [
    "### Show me a list of employees that have a lastname that ends with \"r\"\n",
    "\n",
    "SQL logic\n",
    "```sql\n",
    "SELECT \n",
    "  e.EmployeeID\n",
    "  , e.FirstName\n",
    "  , e.LastName \n",
    "FROM dbo.Employees AS e\n",
    "WHERE e.LastName LIKE '%r';\n",
    "```"
   ]
  },
  {
   "cell_type": "code",
   "execution_count": 94,
   "id": "709aebe4-32d8-437b-bd24-456db3c7e195",
   "metadata": {},
   "outputs": [
    {
     "data": {
      "text/plain": [
       "False"
      ]
     },
     "execution_count": 94,
     "metadata": {},
     "output_type": "execute_result"
    }
   ],
   "source": [
    "'Robert'.endswith('a')"
   ]
  },
  {
   "cell_type": "code",
   "execution_count": 95,
   "id": "e08f9dbd",
   "metadata": {},
   "outputs": [
    {
     "data": {
      "text/plain": [
       "True"
      ]
     },
     "execution_count": 95,
     "metadata": {},
     "output_type": "execute_result"
    }
   ],
   "source": [
    "'Robert'.endswith('t')"
   ]
  },
  {
   "cell_type": "code",
   "execution_count": null,
   "id": "7fc6cd25",
   "metadata": {},
   "outputs": [],
   "source": []
  },
  {
   "cell_type": "code",
   "execution_count": 96,
   "id": "44d8cc91-8ca8-4a28-9ed7-739193e24c83",
   "metadata": {},
   "outputs": [
    {
     "data": {
      "text/html": [
       "<div>\n",
       "<style scoped>\n",
       "    .dataframe tbody tr th:only-of-type {\n",
       "        vertical-align: middle;\n",
       "    }\n",
       "\n",
       "    .dataframe tbody tr th {\n",
       "        vertical-align: top;\n",
       "    }\n",
       "\n",
       "    .dataframe thead th {\n",
       "        text-align: right;\n",
       "    }\n",
       "</style>\n",
       "<table border=\"1\" class=\"dataframe\">\n",
       "  <thead>\n",
       "    <tr style=\"text-align: right;\">\n",
       "      <th></th>\n",
       "      <th>EmployeeID</th>\n",
       "      <th>FirstName</th>\n",
       "      <th>LastName</th>\n",
       "    </tr>\n",
       "  </thead>\n",
       "  <tbody>\n",
       "    <tr>\n",
       "      <th>0</th>\n",
       "      <td>259</td>\n",
       "      <td>Ben</td>\n",
       "      <td>Miller</td>\n",
       "    </tr>\n",
       "    <tr>\n",
       "      <th>8</th>\n",
       "      <td>161</td>\n",
       "      <td>Kirk</td>\n",
       "      <td>Koenigsbauer</td>\n",
       "    </tr>\n",
       "    <tr>\n",
       "      <th>18</th>\n",
       "      <td>203</td>\n",
       "      <td>Ken</td>\n",
       "      <td>Myer</td>\n",
       "    </tr>\n",
       "    <tr>\n",
       "      <th>49</th>\n",
       "      <td>199</td>\n",
       "      <td>Paula</td>\n",
       "      <td>Nartker</td>\n",
       "    </tr>\n",
       "    <tr>\n",
       "      <th>53</th>\n",
       "      <td>41</td>\n",
       "      <td>Bryan</td>\n",
       "      <td>Baker</td>\n",
       "    </tr>\n",
       "    <tr>\n",
       "      <th>56</th>\n",
       "      <td>104</td>\n",
       "      <td>Mary</td>\n",
       "      <td>Baker</td>\n",
       "    </tr>\n",
       "    <tr>\n",
       "      <th>64</th>\n",
       "      <td>225</td>\n",
       "      <td>Alan</td>\n",
       "      <td>Brewer</td>\n",
       "    </tr>\n",
       "    <tr>\n",
       "      <th>75</th>\n",
       "      <td>156</td>\n",
       "      <td>Lane</td>\n",
       "      <td>Sacksteder</td>\n",
       "    </tr>\n",
       "    <tr>\n",
       "      <th>95</th>\n",
       "      <td>44</td>\n",
       "      <td>Simon</td>\n",
       "      <td>Rapier</td>\n",
       "    </tr>\n",
       "    <tr>\n",
       "      <th>97</th>\n",
       "      <td>96</td>\n",
       "      <td>Elizabeth</td>\n",
       "      <td>Keyser</td>\n",
       "    </tr>\n",
       "  </tbody>\n",
       "</table>\n",
       "</div>"
      ],
      "text/plain": [
       "    EmployeeID  FirstName      LastName\n",
       "0          259        Ben        Miller\n",
       "8          161       Kirk  Koenigsbauer\n",
       "18         203        Ken          Myer\n",
       "49         199      Paula       Nartker\n",
       "53          41      Bryan         Baker\n",
       "56         104       Mary         Baker\n",
       "64         225       Alan        Brewer\n",
       "75         156       Lane    Sacksteder\n",
       "95          44      Simon        Rapier\n",
       "97          96  Elizabeth        Keyser"
      ]
     },
     "execution_count": 96,
     "metadata": {},
     "output_type": "execute_result"
    }
   ],
   "source": [
    "Employees.loc[Employees.LastName.map(lambda x: str(x).endswith('r')), ['EmployeeID', 'FirstName', 'LastName']].head(10)"
   ]
  },
  {
   "cell_type": "code",
   "execution_count": null,
   "id": "588677d4",
   "metadata": {},
   "outputs": [],
   "source": []
  },
  {
   "cell_type": "markdown",
   "id": "645d57b1-bde8-44ba-a828-66bf0df48d52",
   "metadata": {},
   "source": [
    "### Provide a list of employees that have a hyphenated lastname.\n",
    "\n",
    "SQL logic\n",
    "```sql\n",
    "SELECT \n",
    "  e.EmployeeID\n",
    "  , e.FirstName\n",
    "  , e.LastName \n",
    "FROM dbo.Employees AS e\n",
    "WHERE e.LastName LIKE '%-%';\n",
    "```"
   ]
  },
  {
   "cell_type": "code",
   "execution_count": 97,
   "id": "89d94970-8b60-4fae-a75f-de7ac7b820ee",
   "metadata": {},
   "outputs": [
    {
     "data": {
      "text/plain": [
       "False"
      ]
     },
     "execution_count": 97,
     "metadata": {},
     "output_type": "execute_result"
    }
   ],
   "source": [
    "'d' in 'abc'"
   ]
  },
  {
   "cell_type": "code",
   "execution_count": 98,
   "id": "8ec1a390",
   "metadata": {},
   "outputs": [
    {
     "data": {
      "text/plain": [
       "True"
      ]
     },
     "execution_count": 98,
     "metadata": {},
     "output_type": "execute_result"
    }
   ],
   "source": [
    "'b' in 'abc'"
   ]
  },
  {
   "cell_type": "code",
   "execution_count": 99,
   "id": "22fbc6e2",
   "metadata": {},
   "outputs": [
    {
     "data": {
      "text/plain": [
       "3"
      ]
     },
     "execution_count": 99,
     "metadata": {},
     "output_type": "execute_result"
    }
   ],
   "source": [
    "Employees.loc[Employees.LastName.map(lambda x: '-' in str(x)), \n",
    "              ['EmployeeID', 'FirstName', 'LastName']].shape[0]"
   ]
  },
  {
   "cell_type": "code",
   "execution_count": 100,
   "id": "14b3b320",
   "metadata": {},
   "outputs": [
    {
     "data": {
      "text/html": [
       "<div>\n",
       "<style scoped>\n",
       "    .dataframe tbody tr th:only-of-type {\n",
       "        vertical-align: middle;\n",
       "    }\n",
       "\n",
       "    .dataframe tbody tr th {\n",
       "        vertical-align: top;\n",
       "    }\n",
       "\n",
       "    .dataframe thead th {\n",
       "        text-align: right;\n",
       "    }\n",
       "</style>\n",
       "<table border=\"1\" class=\"dataframe\">\n",
       "  <thead>\n",
       "    <tr style=\"text-align: right;\">\n",
       "      <th></th>\n",
       "      <th>EmployeeID</th>\n",
       "      <th>FirstName</th>\n",
       "      <th>LastName</th>\n",
       "    </tr>\n",
       "  </thead>\n",
       "  <tbody>\n",
       "    <tr>\n",
       "      <th>114</th>\n",
       "      <td>284</td>\n",
       "      <td>Tete</td>\n",
       "      <td>Mensa-Annan</td>\n",
       "    </tr>\n",
       "    <tr>\n",
       "      <th>134</th>\n",
       "      <td>180</td>\n",
       "      <td>Katie</td>\n",
       "      <td>McAskill-White</td>\n",
       "    </tr>\n",
       "    <tr>\n",
       "      <th>176</th>\n",
       "      <td>280</td>\n",
       "      <td>Pamela</td>\n",
       "      <td>Ansman-Wolfe</td>\n",
       "    </tr>\n",
       "  </tbody>\n",
       "</table>\n",
       "</div>"
      ],
      "text/plain": [
       "     EmployeeID FirstName        LastName\n",
       "114         284      Tete     Mensa-Annan\n",
       "134         180     Katie  McAskill-White\n",
       "176         280    Pamela    Ansman-Wolfe"
      ]
     },
     "execution_count": 100,
     "metadata": {},
     "output_type": "execute_result"
    }
   ],
   "source": [
    "Employees.loc[Employees.LastName.map(lambda x: '-' in str(x)), \n",
    "              ['EmployeeID', 'FirstName', 'LastName']]"
   ]
  },
  {
   "cell_type": "code",
   "execution_count": null,
   "id": "48106f4c",
   "metadata": {},
   "outputs": [],
   "source": []
  },
  {
   "cell_type": "code",
   "execution_count": 102,
   "id": "016df463",
   "metadata": {},
   "outputs": [
    {
     "data": {
      "text/html": [
       "<div>\n",
       "<style scoped>\n",
       "    .dataframe tbody tr th:only-of-type {\n",
       "        vertical-align: middle;\n",
       "    }\n",
       "\n",
       "    .dataframe tbody tr th {\n",
       "        vertical-align: top;\n",
       "    }\n",
       "\n",
       "    .dataframe thead th {\n",
       "        text-align: right;\n",
       "    }\n",
       "</style>\n",
       "<table border=\"1\" class=\"dataframe\">\n",
       "  <thead>\n",
       "    <tr style=\"text-align: right;\">\n",
       "      <th></th>\n",
       "      <th>EmployeeID</th>\n",
       "      <th>FirstName</th>\n",
       "      <th>LastName</th>\n",
       "    </tr>\n",
       "  </thead>\n",
       "  <tbody>\n",
       "    <tr>\n",
       "      <th>114</th>\n",
       "      <td>284</td>\n",
       "      <td>Tete</td>\n",
       "      <td>Mensa-Annan</td>\n",
       "    </tr>\n",
       "    <tr>\n",
       "      <th>134</th>\n",
       "      <td>180</td>\n",
       "      <td>Katie</td>\n",
       "      <td>McAskill-White</td>\n",
       "    </tr>\n",
       "    <tr>\n",
       "      <th>176</th>\n",
       "      <td>280</td>\n",
       "      <td>Pamela</td>\n",
       "      <td>Ansman-Wolfe</td>\n",
       "    </tr>\n",
       "  </tbody>\n",
       "</table>\n",
       "</div>"
      ],
      "text/plain": [
       "     EmployeeID FirstName        LastName\n",
       "114         284      Tete     Mensa-Annan\n",
       "134         180     Katie  McAskill-White\n",
       "176         280    Pamela    Ansman-Wolfe"
      ]
     },
     "execution_count": 102,
     "metadata": {},
     "output_type": "execute_result"
    }
   ],
   "source": [
    "Employees.loc[Employees.LastName.apply(lambda x: '-' in str(x)), \n",
    "              ['EmployeeID', 'FirstName', 'LastName']]"
   ]
  },
  {
   "cell_type": "code",
   "execution_count": null,
   "id": "406fcd11",
   "metadata": {},
   "outputs": [],
   "source": []
  },
  {
   "cell_type": "code",
   "execution_count": 103,
   "id": "4d4a8130",
   "metadata": {},
   "outputs": [
    {
     "data": {
      "text/html": [
       "<div>\n",
       "<style scoped>\n",
       "    .dataframe tbody tr th:only-of-type {\n",
       "        vertical-align: middle;\n",
       "    }\n",
       "\n",
       "    .dataframe tbody tr th {\n",
       "        vertical-align: top;\n",
       "    }\n",
       "\n",
       "    .dataframe thead th {\n",
       "        text-align: right;\n",
       "    }\n",
       "</style>\n",
       "<table border=\"1\" class=\"dataframe\">\n",
       "  <thead>\n",
       "    <tr style=\"text-align: right;\">\n",
       "      <th></th>\n",
       "      <th>EmployeeID</th>\n",
       "      <th>FirstName</th>\n",
       "      <th>LastName</th>\n",
       "    </tr>\n",
       "  </thead>\n",
       "  <tbody>\n",
       "    <tr>\n",
       "      <th>114</th>\n",
       "      <td>284</td>\n",
       "      <td>Tete</td>\n",
       "      <td>Mensa-Annan</td>\n",
       "    </tr>\n",
       "    <tr>\n",
       "      <th>134</th>\n",
       "      <td>180</td>\n",
       "      <td>Katie</td>\n",
       "      <td>McAskill-White</td>\n",
       "    </tr>\n",
       "    <tr>\n",
       "      <th>176</th>\n",
       "      <td>280</td>\n",
       "      <td>Pamela</td>\n",
       "      <td>Ansman-Wolfe</td>\n",
       "    </tr>\n",
       "  </tbody>\n",
       "</table>\n",
       "</div>"
      ],
      "text/plain": [
       "     EmployeeID FirstName        LastName\n",
       "114         284      Tete     Mensa-Annan\n",
       "134         180     Katie  McAskill-White\n",
       "176         280    Pamela    Ansman-Wolfe"
      ]
     },
     "execution_count": 103,
     "metadata": {},
     "output_type": "execute_result"
    }
   ],
   "source": [
    "Employees.loc[Employees.LastName.str.contains('-'), \n",
    "              ['EmployeeID', 'FirstName', 'LastName']].head(3)"
   ]
  },
  {
   "cell_type": "code",
   "execution_count": null,
   "id": "158e854a",
   "metadata": {},
   "outputs": [],
   "source": []
  },
  {
   "cell_type": "markdown",
   "id": "4b65daab-3bb0-4f7e-a875-2ed00f83c88e",
   "metadata": {},
   "source": [
    "### Provide a list of employees that are on salary and have more than 35 vacation hours left.\n",
    "\n",
    "SQL logic\n",
    "```sql\n",
    "SELECT \t\n",
    "  e.EmployeeID\n",
    "  , e.FirstName\n",
    "  , e.LastName\n",
    "  , e.VacationHours\n",
    "  , e.SalariedFlag\n",
    "FROM dbo.Employees AS e\n",
    "WHERE (e.SalariedFlag = 1) AND (e.VacationHours > 35);\n",
    "```"
   ]
  },
  {
   "cell_type": "code",
   "execution_count": 104,
   "id": "9efbf957-f37b-4c74-bf7d-d7fcfab98411",
   "metadata": {},
   "outputs": [
    {
     "data": {
      "text/html": [
       "<div>\n",
       "<style scoped>\n",
       "    .dataframe tbody tr th:only-of-type {\n",
       "        vertical-align: middle;\n",
       "    }\n",
       "\n",
       "    .dataframe tbody tr th {\n",
       "        vertical-align: top;\n",
       "    }\n",
       "\n",
       "    .dataframe thead th {\n",
       "        text-align: right;\n",
       "    }\n",
       "</style>\n",
       "<table border=\"1\" class=\"dataframe\">\n",
       "  <thead>\n",
       "    <tr style=\"text-align: right;\">\n",
       "      <th></th>\n",
       "      <th>EmployeeID</th>\n",
       "      <th>ManagerID</th>\n",
       "      <th>TerritoryID</th>\n",
       "      <th>Title</th>\n",
       "      <th>FirstName</th>\n",
       "      <th>MiddleName</th>\n",
       "      <th>LastName</th>\n",
       "      <th>Suffix</th>\n",
       "      <th>JobTitle</th>\n",
       "      <th>NationalIDNumber</th>\n",
       "      <th>BirthDate</th>\n",
       "      <th>MaritalStatus</th>\n",
       "      <th>Gender</th>\n",
       "      <th>HireDate</th>\n",
       "      <th>SalariedFlag</th>\n",
       "      <th>VacationHours</th>\n",
       "      <th>SickLeaveHours</th>\n",
       "      <th>PhoneNumber</th>\n",
       "      <th>PhoneNumberType</th>\n",
       "      <th>EmailAddress</th>\n",
       "      <th>AddressLine1</th>\n",
       "      <th>AddressLine2</th>\n",
       "      <th>City</th>\n",
       "      <th>StateProvinceName</th>\n",
       "      <th>PostalCode</th>\n",
       "      <th>CountryName</th>\n",
       "    </tr>\n",
       "  </thead>\n",
       "  <tbody>\n",
       "    <tr>\n",
       "      <th>0</th>\n",
       "      <td>259</td>\n",
       "      <td>250.0</td>\n",
       "      <td>NaN</td>\n",
       "      <td>NaN</td>\n",
       "      <td>Ben</td>\n",
       "      <td>T</td>\n",
       "      <td>Miller</td>\n",
       "      <td>NaN</td>\n",
       "      <td>Buyer</td>\n",
       "      <td>20269531</td>\n",
       "      <td>1967-07-05</td>\n",
       "      <td>M</td>\n",
       "      <td>M</td>\n",
       "      <td>2004-04-09</td>\n",
       "      <td>0</td>\n",
       "      <td>55</td>\n",
       "      <td>47</td>\n",
       "      <td>151-555-0113</td>\n",
       "      <td>Work</td>\n",
       "      <td>ben0@adventure-works.com</td>\n",
       "      <td>101 Candy Rd.</td>\n",
       "      <td>NaN</td>\n",
       "      <td>Redmond</td>\n",
       "      <td>Washington</td>\n",
       "      <td>98052</td>\n",
       "      <td>United States</td>\n",
       "    </tr>\n",
       "    <tr>\n",
       "      <th>1</th>\n",
       "      <td>278</td>\n",
       "      <td>274.0</td>\n",
       "      <td>6.0</td>\n",
       "      <td>NaN</td>\n",
       "      <td>Garrett</td>\n",
       "      <td>R</td>\n",
       "      <td>Vargas</td>\n",
       "      <td>NaN</td>\n",
       "      <td>Sales Representative</td>\n",
       "      <td>234474252</td>\n",
       "      <td>1969-03-07</td>\n",
       "      <td>M</td>\n",
       "      <td>M</td>\n",
       "      <td>2005-07-01</td>\n",
       "      <td>1</td>\n",
       "      <td>33</td>\n",
       "      <td>36</td>\n",
       "      <td>922-555-0165</td>\n",
       "      <td>Work</td>\n",
       "      <td>garrett1@mapleleafmail.ca</td>\n",
       "      <td>10203 Acorn Avenue</td>\n",
       "      <td>NaN</td>\n",
       "      <td>Calgary</td>\n",
       "      <td>Alberta</td>\n",
       "      <td>T2P 2G8</td>\n",
       "      <td>Canada</td>\n",
       "    </tr>\n",
       "    <tr>\n",
       "      <th>2</th>\n",
       "      <td>204</td>\n",
       "      <td>26.0</td>\n",
       "      <td>NaN</td>\n",
       "      <td>NaN</td>\n",
       "      <td>Gabe</td>\n",
       "      <td>B</td>\n",
       "      <td>Mares</td>\n",
       "      <td>NaN</td>\n",
       "      <td>Production Technician - WC40</td>\n",
       "      <td>440379437</td>\n",
       "      <td>1982-06-11</td>\n",
       "      <td>M</td>\n",
       "      <td>M</td>\n",
       "      <td>2003-04-09</td>\n",
       "      <td>0</td>\n",
       "      <td>57</td>\n",
       "      <td>48</td>\n",
       "      <td>310-555-0117</td>\n",
       "      <td>Work</td>\n",
       "      <td>gabe0@adventure-works.com</td>\n",
       "      <td>1061 Buskrik Avenue</td>\n",
       "      <td>NaN</td>\n",
       "      <td>Edmonds</td>\n",
       "      <td>Washington</td>\n",
       "      <td>98020</td>\n",
       "      <td>United States</td>\n",
       "    </tr>\n",
       "  </tbody>\n",
       "</table>\n",
       "</div>"
      ],
      "text/plain": [
       "   EmployeeID  ManagerID  TerritoryID Title FirstName MiddleName LastName  \\\n",
       "0         259      250.0          NaN   NaN       Ben          T   Miller   \n",
       "1         278      274.0          6.0   NaN   Garrett          R   Vargas   \n",
       "2         204       26.0          NaN   NaN      Gabe          B    Mares   \n",
       "\n",
       "  Suffix                      JobTitle  NationalIDNumber   BirthDate  \\\n",
       "0    NaN                         Buyer          20269531  1967-07-05   \n",
       "1    NaN          Sales Representative         234474252  1969-03-07   \n",
       "2    NaN  Production Technician - WC40         440379437  1982-06-11   \n",
       "\n",
       "  MaritalStatus Gender   HireDate  SalariedFlag  VacationHours  \\\n",
       "0             M      M 2004-04-09             0             55   \n",
       "1             M      M 2005-07-01             1             33   \n",
       "2             M      M 2003-04-09             0             57   \n",
       "\n",
       "   SickLeaveHours   PhoneNumber PhoneNumberType               EmailAddress  \\\n",
       "0              47  151-555-0113            Work   ben0@adventure-works.com   \n",
       "1              36  922-555-0165            Work  garrett1@mapleleafmail.ca   \n",
       "2              48  310-555-0117            Work  gabe0@adventure-works.com   \n",
       "\n",
       "          AddressLine1 AddressLine2     City StateProvinceName PostalCode  \\\n",
       "0        101 Candy Rd.          NaN  Redmond        Washington      98052   \n",
       "1   10203 Acorn Avenue          NaN  Calgary           Alberta    T2P 2G8   \n",
       "2  1061 Buskrik Avenue          NaN  Edmonds        Washington      98020   \n",
       "\n",
       "     CountryName  \n",
       "0  United States  \n",
       "1         Canada  \n",
       "2  United States  "
      ]
     },
     "execution_count": 104,
     "metadata": {},
     "output_type": "execute_result"
    }
   ],
   "source": [
    "Employees.head(3)"
   ]
  },
  {
   "cell_type": "code",
   "execution_count": 105,
   "id": "e36b5b0e-08ad-471c-bbfe-3fdf13c62dd6",
   "metadata": {},
   "outputs": [
    {
     "data": {
      "text/plain": [
       "Index(['EmployeeID', 'ManagerID', 'TerritoryID', 'Title', 'FirstName',\n",
       "       'MiddleName', 'LastName', 'Suffix', 'JobTitle', 'NationalIDNumber',\n",
       "       'BirthDate', 'MaritalStatus', 'Gender', 'HireDate', 'SalariedFlag',\n",
       "       'VacationHours', 'SickLeaveHours', 'PhoneNumber', 'PhoneNumberType',\n",
       "       'EmailAddress', 'AddressLine1', 'AddressLine2', 'City',\n",
       "       'StateProvinceName', 'PostalCode', 'CountryName'],\n",
       "      dtype='object')"
      ]
     },
     "execution_count": 105,
     "metadata": {},
     "output_type": "execute_result"
    }
   ],
   "source": [
    "Employees.columns"
   ]
  },
  {
   "cell_type": "code",
   "execution_count": null,
   "id": "f7c0a5bb-f6fe-49f3-84f0-09ed8f6650d0",
   "metadata": {},
   "outputs": [],
   "source": []
  },
  {
   "cell_type": "code",
   "execution_count": 106,
   "id": "65b3e6d2-f4b6-49eb-bc3a-b631e36f3171",
   "metadata": {},
   "outputs": [
    {
     "data": {
      "text/plain": [
       "array([0, 1])"
      ]
     },
     "execution_count": 106,
     "metadata": {},
     "output_type": "execute_result"
    }
   ],
   "source": [
    "Employees.SalariedFlag.unique()"
   ]
  },
  {
   "cell_type": "code",
   "execution_count": 107,
   "id": "ede8a6ae",
   "metadata": {},
   "outputs": [
    {
     "name": "stdout",
     "output_type": "stream",
     "text": [
      "<class 'pandas.core.frame.DataFrame'>\n",
      "RangeIndex: 291 entries, 0 to 290\n",
      "Data columns (total 26 columns):\n",
      " #   Column             Non-Null Count  Dtype         \n",
      "---  ------             --------------  -----         \n",
      " 0   EmployeeID         291 non-null    int64         \n",
      " 1   ManagerID          290 non-null    float64       \n",
      " 2   TerritoryID        14 non-null     float64       \n",
      " 3   Title              8 non-null      object        \n",
      " 4   FirstName          291 non-null    object        \n",
      " 5   MiddleName         278 non-null    object        \n",
      " 6   LastName           291 non-null    object        \n",
      " 7   Suffix             2 non-null      object        \n",
      " 8   JobTitle           291 non-null    object        \n",
      " 9   NationalIDNumber   291 non-null    int64         \n",
      " 10  BirthDate          291 non-null    object        \n",
      " 11  MaritalStatus      291 non-null    object        \n",
      " 12  Gender             291 non-null    object        \n",
      " 13  HireDate           291 non-null    datetime64[ns]\n",
      " 14  SalariedFlag       291 non-null    int64         \n",
      " 15  VacationHours      291 non-null    int64         \n",
      " 16  SickLeaveHours     291 non-null    int64         \n",
      " 17  PhoneNumber        291 non-null    object        \n",
      " 18  PhoneNumberType    291 non-null    object        \n",
      " 19  EmailAddress       291 non-null    object        \n",
      " 20  AddressLine1       291 non-null    object        \n",
      " 21  AddressLine2       8 non-null      object        \n",
      " 22  City               291 non-null    object        \n",
      " 23  StateProvinceName  291 non-null    object        \n",
      " 24  PostalCode         291 non-null    object        \n",
      " 25  CountryName        291 non-null    object        \n",
      "dtypes: datetime64[ns](1), float64(2), int64(5), object(18)\n",
      "memory usage: 59.2+ KB\n"
     ]
    }
   ],
   "source": [
    "Employees.info()"
   ]
  },
  {
   "cell_type": "code",
   "execution_count": null,
   "id": "3184819e",
   "metadata": {},
   "outputs": [],
   "source": []
  },
  {
   "cell_type": "code",
   "execution_count": 108,
   "id": "8f2241f9-a287-40a1-8f30-5378ceb387b1",
   "metadata": {},
   "outputs": [
    {
     "data": {
      "text/html": [
       "<div>\n",
       "<style scoped>\n",
       "    .dataframe tbody tr th:only-of-type {\n",
       "        vertical-align: middle;\n",
       "    }\n",
       "\n",
       "    .dataframe tbody tr th {\n",
       "        vertical-align: top;\n",
       "    }\n",
       "\n",
       "    .dataframe thead th {\n",
       "        text-align: right;\n",
       "    }\n",
       "</style>\n",
       "<table border=\"1\" class=\"dataframe\">\n",
       "  <thead>\n",
       "    <tr style=\"text-align: right;\">\n",
       "      <th></th>\n",
       "      <th>EmployeeID</th>\n",
       "      <th>FirstName</th>\n",
       "      <th>LastName</th>\n",
       "      <th>VacationHours</th>\n",
       "      <th>SalariedFlag</th>\n",
       "    </tr>\n",
       "  </thead>\n",
       "  <tbody>\n",
       "    <tr>\n",
       "      <th>6</th>\n",
       "      <td>270</td>\n",
       "      <td>François</td>\n",
       "      <td>Ajenstat</td>\n",
       "      <td>67</td>\n",
       "      <td>1</td>\n",
       "    </tr>\n",
       "    <tr>\n",
       "      <th>11</th>\n",
       "      <td>248</td>\n",
       "      <td>Mike</td>\n",
       "      <td>Seamans</td>\n",
       "      <td>59</td>\n",
       "      <td>1</td>\n",
       "    </tr>\n",
       "    <tr>\n",
       "      <th>19</th>\n",
       "      <td>245</td>\n",
       "      <td>Barbara</td>\n",
       "      <td>Moreland</td>\n",
       "      <td>58</td>\n",
       "      <td>1</td>\n",
       "    </tr>\n",
       "  </tbody>\n",
       "</table>\n",
       "</div>"
      ],
      "text/plain": [
       "    EmployeeID FirstName  LastName  VacationHours  SalariedFlag\n",
       "6          270  François  Ajenstat             67             1\n",
       "11         248      Mike   Seamans             59             1\n",
       "19         245   Barbara  Moreland             58             1"
      ]
     },
     "execution_count": 108,
     "metadata": {},
     "output_type": "execute_result"
    }
   ],
   "source": [
    "Employees.loc[(Employees.SalariedFlag==1)&(Employees.VacationHours>35), \n",
    "              ['EmployeeID', 'FirstName', 'LastName','VacationHours','SalariedFlag']].head(3)"
   ]
  },
  {
   "cell_type": "code",
   "execution_count": 109,
   "id": "d4fb8e35",
   "metadata": {},
   "outputs": [
    {
     "data": {
      "text/plain": [
       "30"
      ]
     },
     "execution_count": 109,
     "metadata": {},
     "output_type": "execute_result"
    }
   ],
   "source": [
    "Employees.loc[(Employees.SalariedFlag==1)&(Employees.VacationHours>35), \n",
    "              ['EmployeeID', 'FirstName', 'LastName','VacationHours','SalariedFlag']].shape[0]"
   ]
  },
  {
   "cell_type": "code",
   "execution_count": null,
   "id": "5c488f41",
   "metadata": {},
   "outputs": [],
   "source": []
  },
  {
   "cell_type": "code",
   "execution_count": 110,
   "id": "a0a10449",
   "metadata": {},
   "outputs": [
    {
     "data": {
      "text/plain": [
       "30"
      ]
     },
     "execution_count": 110,
     "metadata": {},
     "output_type": "execute_result"
    }
   ],
   "source": [
    "Employees.loc[(Employees.SalariedFlag==1)&(Employees.VacationHours>35), \n",
    "              ['EmployeeID', 'FirstName', 'LastName','VacationHours','SalariedFlag']].EmployeeID.nunique()\n"
   ]
  },
  {
   "cell_type": "code",
   "execution_count": null,
   "id": "2124a218",
   "metadata": {},
   "outputs": [],
   "source": []
  },
  {
   "cell_type": "markdown",
   "id": "769b25a8-92c8-449d-b7c9-6d777aa315a5",
   "metadata": {},
   "source": [
    "### Show the same as above but limit it to American employees. [practice]\n",
    "\n",
    "SQL logic\n",
    "```sql\n",
    "SELECT DISTINCT CountryName FROM dbo.Employees;\n",
    "\n",
    "SELECT \t\n",
    "  e.EmployeeID \n",
    "  , e.FirstName\n",
    "  , e.LastName\n",
    "  , e.VacationHours\n",
    "  , e.SalariedFlag\n",
    "  , e.CountryName\n",
    "FROM dbo.Employees AS e\n",
    "WHERE \n",
    "  e.SalariedFlag = 1\n",
    "  AND e.VacationHours > 35\n",
    "  AND e.CountryName = 'United States';\n",
    "```"
   ]
  },
  {
   "cell_type": "code",
   "execution_count": 111,
   "id": "caaa575b-55bf-4efb-bdc0-da2c18bd2cb9",
   "metadata": {},
   "outputs": [
    {
     "data": {
      "text/plain": [
       "array(['United States', 'Canada', 'Australia', 'France', 'United Kingdom',\n",
       "       'Germany'], dtype=object)"
      ]
     },
     "execution_count": 111,
     "metadata": {},
     "output_type": "execute_result"
    }
   ],
   "source": [
    "Employees.CountryName.unique()"
   ]
  },
  {
   "cell_type": "code",
   "execution_count": 113,
   "id": "3fbfe397",
   "metadata": {},
   "outputs": [
    {
     "data": {
      "text/plain": [
       "28"
      ]
     },
     "execution_count": 113,
     "metadata": {},
     "output_type": "execute_result"
    }
   ],
   "source": [
    "Employees.loc[(Employees.SalariedFlag==1)&(Employees.VacationHours>35)&(Employees.CountryName=='United States'), \n",
    "              ['EmployeeID', 'FirstName', 'LastName','VacationHours','SalariedFlag']].shape[0]"
   ]
  },
  {
   "cell_type": "code",
   "execution_count": null,
   "id": "22bfc5f6-2092-4b81-91fc-cab5e7189b27",
   "metadata": {},
   "outputs": [],
   "source": []
  },
  {
   "cell_type": "markdown",
   "id": "3faee3ef-2402-4955-97a0-8f1e06f9b61c",
   "metadata": {},
   "source": [
    "### Change the logic to include anyone who meets any of the 3 conditions (i.e., people who are either married, live in Washington state, or have more than 35 vacation hours left)\n",
    "\n",
    "SQL logic\n",
    "```sql\n",
    "SELECT \t\n",
    "  e.EmployeeID\n",
    "  ,e.FirstName\n",
    "  ,e.LastName\n",
    "  ,e.MaritalStatus\n",
    "  ,e.VacationHours\n",
    "  ,e.SalariedFlag\n",
    "  ,e.StateProvinceName\n",
    "  ,e.CountryName\n",
    "FROM dbo.Employees AS e\n",
    "WHERE \n",
    "  e.MaritalStatus = 'M' \n",
    "  OR e.VacationHours > 35 \n",
    "  OR e.StateProvinceName = 'Washington'\n",
    "\t;\n",
    "```"
   ]
  },
  {
   "cell_type": "code",
   "execution_count": 115,
   "id": "388009d7-1ad1-4447-927f-8cd2f053f56f",
   "metadata": {},
   "outputs": [
    {
     "data": {
      "text/html": [
       "<div>\n",
       "<style scoped>\n",
       "    .dataframe tbody tr th:only-of-type {\n",
       "        vertical-align: middle;\n",
       "    }\n",
       "\n",
       "    .dataframe tbody tr th {\n",
       "        vertical-align: top;\n",
       "    }\n",
       "\n",
       "    .dataframe thead th {\n",
       "        text-align: right;\n",
       "    }\n",
       "</style>\n",
       "<table border=\"1\" class=\"dataframe\">\n",
       "  <thead>\n",
       "    <tr style=\"text-align: right;\">\n",
       "      <th></th>\n",
       "      <th>EmployeeID</th>\n",
       "      <th>FirstName</th>\n",
       "      <th>LastName</th>\n",
       "      <th>MaritalStatus</th>\n",
       "      <th>VacationHours</th>\n",
       "      <th>SalariedFlag</th>\n",
       "      <th>StateProvinceName</th>\n",
       "      <th>CountryName</th>\n",
       "    </tr>\n",
       "  </thead>\n",
       "  <tbody>\n",
       "    <tr>\n",
       "      <th>0</th>\n",
       "      <td>259</td>\n",
       "      <td>Ben</td>\n",
       "      <td>Miller</td>\n",
       "      <td>M</td>\n",
       "      <td>55</td>\n",
       "      <td>0</td>\n",
       "      <td>Washington</td>\n",
       "      <td>United States</td>\n",
       "    </tr>\n",
       "    <tr>\n",
       "      <th>1</th>\n",
       "      <td>278</td>\n",
       "      <td>Garrett</td>\n",
       "      <td>Vargas</td>\n",
       "      <td>M</td>\n",
       "      <td>33</td>\n",
       "      <td>1</td>\n",
       "      <td>Alberta</td>\n",
       "      <td>Canada</td>\n",
       "    </tr>\n",
       "    <tr>\n",
       "      <th>2</th>\n",
       "      <td>204</td>\n",
       "      <td>Gabe</td>\n",
       "      <td>Mares</td>\n",
       "      <td>M</td>\n",
       "      <td>57</td>\n",
       "      <td>0</td>\n",
       "      <td>Washington</td>\n",
       "      <td>United States</td>\n",
       "    </tr>\n",
       "  </tbody>\n",
       "</table>\n",
       "</div>"
      ],
      "text/plain": [
       "   EmployeeID FirstName LastName MaritalStatus  VacationHours  SalariedFlag  \\\n",
       "0         259       Ben   Miller             M             55             0   \n",
       "1         278   Garrett   Vargas             M             33             1   \n",
       "2         204      Gabe    Mares             M             57             0   \n",
       "\n",
       "  StateProvinceName    CountryName  \n",
       "0        Washington  United States  \n",
       "1           Alberta         Canada  \n",
       "2        Washington  United States  "
      ]
     },
     "execution_count": 115,
     "metadata": {},
     "output_type": "execute_result"
    }
   ],
   "source": [
    "Employees.loc[(Employees.MaritalStatus=='M')|(Employees.VacationHours>35)|(Employees.StateProvinceName=='Washington'), \n",
    "              ['EmployeeID', 'FirstName', 'LastName','MaritalStatus','VacationHours','SalariedFlag','StateProvinceName','CountryName']].head(3)"
   ]
  },
  {
   "cell_type": "code",
   "execution_count": 116,
   "id": "fc7bfb5d",
   "metadata": {},
   "outputs": [
    {
     "data": {
      "text/plain": [
       "286"
      ]
     },
     "execution_count": 116,
     "metadata": {},
     "output_type": "execute_result"
    }
   ],
   "source": [
    "Employees.loc[(Employees.MaritalStatus=='M')|(Employees.VacationHours>35)|(Employees.StateProvinceName=='Washington'), \n",
    "              ['EmployeeID', 'FirstName', 'LastName','MaritalStatus','VacationHours','SalariedFlag','StateProvinceName','CountryName']].EmployeeID.nunique()"
   ]
  },
  {
   "cell_type": "code",
   "execution_count": null,
   "id": "4a9024c9",
   "metadata": {},
   "outputs": [],
   "source": []
  },
  {
   "cell_type": "code",
   "execution_count": null,
   "id": "9790ed80",
   "metadata": {},
   "outputs": [],
   "source": []
  },
  {
   "cell_type": "markdown",
   "id": "4cfd4f86-3aad-4709-b501-12568b1844dd",
   "metadata": {},
   "source": [
    "## Joins\n",
    "![](../pics/joins.jpg)"
   ]
  },
  {
   "cell_type": "markdown",
   "id": "8ee99904-f9ed-4073-9e19-47f87acd3fa9",
   "metadata": {},
   "source": [
    "### If any are salespeople then show me the details about their sales territory\n",
    "```sql\n",
    "SELECT e.EmployeeID ,e.FirstName + ' ' + e.LastName AS EmployeeName ,st.* \n",
    "FROM dbo.Employees AS e \n",
    "INNER JOIN dbo.SalesTerritory AS st ON e.TerritoryID = st.TerritoryID\n",
    "```"
   ]
  },
  {
   "cell_type": "code",
   "execution_count": 117,
   "id": "de747ed4-6bf9-492e-87b2-1aef50818e10",
   "metadata": {},
   "outputs": [
    {
     "data": {
      "text/plain": [
       "(12, 6)"
      ]
     },
     "execution_count": 117,
     "metadata": {},
     "output_type": "execute_result"
    }
   ],
   "source": [
    "Territory.shape"
   ]
  },
  {
   "cell_type": "code",
   "execution_count": 118,
   "id": "90a3de03-8a41-48ed-927d-6452f1f621f3",
   "metadata": {},
   "outputs": [
    {
     "data": {
      "text/html": [
       "<div>\n",
       "<style scoped>\n",
       "    .dataframe tbody tr th:only-of-type {\n",
       "        vertical-align: middle;\n",
       "    }\n",
       "\n",
       "    .dataframe tbody tr th {\n",
       "        vertical-align: top;\n",
       "    }\n",
       "\n",
       "    .dataframe thead th {\n",
       "        text-align: right;\n",
       "    }\n",
       "</style>\n",
       "<table border=\"1\" class=\"dataframe\">\n",
       "  <thead>\n",
       "    <tr style=\"text-align: right;\">\n",
       "      <th></th>\n",
       "      <th>TerritoryID</th>\n",
       "      <th>Name</th>\n",
       "      <th>CountryCode</th>\n",
       "      <th>Region</th>\n",
       "      <th>SalesYTD</th>\n",
       "      <th>SalesLastYear</th>\n",
       "    </tr>\n",
       "  </thead>\n",
       "  <tbody>\n",
       "    <tr>\n",
       "      <th>0</th>\n",
       "      <td>1</td>\n",
       "      <td>Northwest</td>\n",
       "      <td>US</td>\n",
       "      <td>North America</td>\n",
       "      <td>7887186.79</td>\n",
       "      <td>3298694.490</td>\n",
       "    </tr>\n",
       "    <tr>\n",
       "      <th>1</th>\n",
       "      <td>2</td>\n",
       "      <td>Northeast</td>\n",
       "      <td>US</td>\n",
       "      <td>North America</td>\n",
       "      <td>2402176.85</td>\n",
       "      <td>3607148.940</td>\n",
       "    </tr>\n",
       "    <tr>\n",
       "      <th>2</th>\n",
       "      <td>3</td>\n",
       "      <td>Central</td>\n",
       "      <td>US</td>\n",
       "      <td>North America</td>\n",
       "      <td>3072175.12</td>\n",
       "      <td>3205014.080</td>\n",
       "    </tr>\n",
       "    <tr>\n",
       "      <th>3</th>\n",
       "      <td>4</td>\n",
       "      <td>Southwest</td>\n",
       "      <td>US</td>\n",
       "      <td>North America</td>\n",
       "      <td>10510853.87</td>\n",
       "      <td>5366575.710</td>\n",
       "    </tr>\n",
       "    <tr>\n",
       "      <th>4</th>\n",
       "      <td>5</td>\n",
       "      <td>Southeast</td>\n",
       "      <td>US</td>\n",
       "      <td>North America</td>\n",
       "      <td>2538667.25</td>\n",
       "      <td>3925071.430</td>\n",
       "    </tr>\n",
       "    <tr>\n",
       "      <th>5</th>\n",
       "      <td>6</td>\n",
       "      <td>Canada</td>\n",
       "      <td>CA</td>\n",
       "      <td>North America</td>\n",
       "      <td>6771829.14</td>\n",
       "      <td>5693988.860</td>\n",
       "    </tr>\n",
       "    <tr>\n",
       "      <th>6</th>\n",
       "      <td>7</td>\n",
       "      <td>France</td>\n",
       "      <td>FR</td>\n",
       "      <td>Europe</td>\n",
       "      <td>4772398.31</td>\n",
       "      <td>2396539.760</td>\n",
       "    </tr>\n",
       "    <tr>\n",
       "      <th>7</th>\n",
       "      <td>8</td>\n",
       "      <td>Germany</td>\n",
       "      <td>DE</td>\n",
       "      <td>Europe</td>\n",
       "      <td>3805202.35</td>\n",
       "      <td>1307949.790</td>\n",
       "    </tr>\n",
       "    <tr>\n",
       "      <th>8</th>\n",
       "      <td>9</td>\n",
       "      <td>Australia</td>\n",
       "      <td>AU</td>\n",
       "      <td>Pacific</td>\n",
       "      <td>5977814.92</td>\n",
       "      <td>2278548.980</td>\n",
       "    </tr>\n",
       "    <tr>\n",
       "      <th>9</th>\n",
       "      <td>10</td>\n",
       "      <td>United Kingdom</td>\n",
       "      <td>GB</td>\n",
       "      <td>Europe</td>\n",
       "      <td>5012905.37</td>\n",
       "      <td>1635823.400</td>\n",
       "    </tr>\n",
       "    <tr>\n",
       "      <th>10</th>\n",
       "      <td>11</td>\n",
       "      <td>Brazil</td>\n",
       "      <td>BR</td>\n",
       "      <td>South America</td>\n",
       "      <td>0.00</td>\n",
       "      <td>261589.958</td>\n",
       "    </tr>\n",
       "    <tr>\n",
       "      <th>11</th>\n",
       "      <td>12</td>\n",
       "      <td>Mexico</td>\n",
       "      <td>MX</td>\n",
       "      <td>North America</td>\n",
       "      <td>0.00</td>\n",
       "      <td>0.000</td>\n",
       "    </tr>\n",
       "  </tbody>\n",
       "</table>\n",
       "</div>"
      ],
      "text/plain": [
       "    TerritoryID            Name CountryCode         Region     SalesYTD  \\\n",
       "0             1       Northwest          US  North America   7887186.79   \n",
       "1             2       Northeast          US  North America   2402176.85   \n",
       "2             3         Central          US  North America   3072175.12   \n",
       "3             4       Southwest          US  North America  10510853.87   \n",
       "4             5       Southeast          US  North America   2538667.25   \n",
       "5             6          Canada          CA  North America   6771829.14   \n",
       "6             7          France          FR         Europe   4772398.31   \n",
       "7             8         Germany          DE         Europe   3805202.35   \n",
       "8             9       Australia          AU        Pacific   5977814.92   \n",
       "9            10  United Kingdom          GB         Europe   5012905.37   \n",
       "10           11          Brazil          BR  South America         0.00   \n",
       "11           12          Mexico          MX  North America         0.00   \n",
       "\n",
       "    SalesLastYear  \n",
       "0     3298694.490  \n",
       "1     3607148.940  \n",
       "2     3205014.080  \n",
       "3     5366575.710  \n",
       "4     3925071.430  \n",
       "5     5693988.860  \n",
       "6     2396539.760  \n",
       "7     1307949.790  \n",
       "8     2278548.980  \n",
       "9     1635823.400  \n",
       "10     261589.958  \n",
       "11          0.000  "
      ]
     },
     "execution_count": 118,
     "metadata": {},
     "output_type": "execute_result"
    }
   ],
   "source": [
    "Territory"
   ]
  },
  {
   "cell_type": "code",
   "execution_count": 119,
   "id": "3c05adf4-9de3-41c7-b1f1-b0bf77409512",
   "metadata": {},
   "outputs": [
    {
     "data": {
      "text/plain": [
       "Index(['EmployeeID', 'ManagerID', 'TerritoryID', 'Title', 'FirstName',\n",
       "       'MiddleName', 'LastName', 'Suffix', 'JobTitle', 'NationalIDNumber',\n",
       "       'BirthDate', 'MaritalStatus', 'Gender', 'HireDate', 'SalariedFlag',\n",
       "       'VacationHours', 'SickLeaveHours', 'PhoneNumber', 'PhoneNumberType',\n",
       "       'EmailAddress', 'AddressLine1', 'AddressLine2', 'City',\n",
       "       'StateProvinceName', 'PostalCode', 'CountryName'],\n",
       "      dtype='object')"
      ]
     },
     "execution_count": 119,
     "metadata": {},
     "output_type": "execute_result"
    }
   ],
   "source": [
    "Employees.columns"
   ]
  },
  {
   "cell_type": "code",
   "execution_count": 120,
   "id": "d26b1198-7ab5-46f1-9a50-2130bebab3c9",
   "metadata": {},
   "outputs": [
    {
     "data": {
      "text/html": [
       "<div>\n",
       "<style scoped>\n",
       "    .dataframe tbody tr th:only-of-type {\n",
       "        vertical-align: middle;\n",
       "    }\n",
       "\n",
       "    .dataframe tbody tr th {\n",
       "        vertical-align: top;\n",
       "    }\n",
       "\n",
       "    .dataframe thead th {\n",
       "        text-align: right;\n",
       "    }\n",
       "</style>\n",
       "<table border=\"1\" class=\"dataframe\">\n",
       "  <thead>\n",
       "    <tr style=\"text-align: right;\">\n",
       "      <th></th>\n",
       "      <th>EmployeeID</th>\n",
       "      <th>ManagerID</th>\n",
       "      <th>TerritoryID</th>\n",
       "      <th>Title</th>\n",
       "      <th>FirstName</th>\n",
       "      <th>MiddleName</th>\n",
       "      <th>LastName</th>\n",
       "      <th>Suffix</th>\n",
       "      <th>JobTitle</th>\n",
       "      <th>NationalIDNumber</th>\n",
       "      <th>BirthDate</th>\n",
       "      <th>MaritalStatus</th>\n",
       "      <th>Gender</th>\n",
       "      <th>HireDate</th>\n",
       "      <th>SalariedFlag</th>\n",
       "      <th>VacationHours</th>\n",
       "      <th>SickLeaveHours</th>\n",
       "      <th>PhoneNumber</th>\n",
       "      <th>PhoneNumberType</th>\n",
       "      <th>EmailAddress</th>\n",
       "      <th>AddressLine1</th>\n",
       "      <th>AddressLine2</th>\n",
       "      <th>City</th>\n",
       "      <th>StateProvinceName</th>\n",
       "      <th>PostalCode</th>\n",
       "      <th>CountryName</th>\n",
       "    </tr>\n",
       "  </thead>\n",
       "  <tbody>\n",
       "    <tr>\n",
       "      <th>0</th>\n",
       "      <td>259</td>\n",
       "      <td>250.0</td>\n",
       "      <td>NaN</td>\n",
       "      <td>NaN</td>\n",
       "      <td>Ben</td>\n",
       "      <td>T</td>\n",
       "      <td>Miller</td>\n",
       "      <td>NaN</td>\n",
       "      <td>Buyer</td>\n",
       "      <td>20269531</td>\n",
       "      <td>1967-07-05</td>\n",
       "      <td>M</td>\n",
       "      <td>M</td>\n",
       "      <td>2004-04-09</td>\n",
       "      <td>0</td>\n",
       "      <td>55</td>\n",
       "      <td>47</td>\n",
       "      <td>151-555-0113</td>\n",
       "      <td>Work</td>\n",
       "      <td>ben0@adventure-works.com</td>\n",
       "      <td>101 Candy Rd.</td>\n",
       "      <td>NaN</td>\n",
       "      <td>Redmond</td>\n",
       "      <td>Washington</td>\n",
       "      <td>98052</td>\n",
       "      <td>United States</td>\n",
       "    </tr>\n",
       "    <tr>\n",
       "      <th>1</th>\n",
       "      <td>278</td>\n",
       "      <td>274.0</td>\n",
       "      <td>6.0</td>\n",
       "      <td>NaN</td>\n",
       "      <td>Garrett</td>\n",
       "      <td>R</td>\n",
       "      <td>Vargas</td>\n",
       "      <td>NaN</td>\n",
       "      <td>Sales Representative</td>\n",
       "      <td>234474252</td>\n",
       "      <td>1969-03-07</td>\n",
       "      <td>M</td>\n",
       "      <td>M</td>\n",
       "      <td>2005-07-01</td>\n",
       "      <td>1</td>\n",
       "      <td>33</td>\n",
       "      <td>36</td>\n",
       "      <td>922-555-0165</td>\n",
       "      <td>Work</td>\n",
       "      <td>garrett1@mapleleafmail.ca</td>\n",
       "      <td>10203 Acorn Avenue</td>\n",
       "      <td>NaN</td>\n",
       "      <td>Calgary</td>\n",
       "      <td>Alberta</td>\n",
       "      <td>T2P 2G8</td>\n",
       "      <td>Canada</td>\n",
       "    </tr>\n",
       "    <tr>\n",
       "      <th>2</th>\n",
       "      <td>204</td>\n",
       "      <td>26.0</td>\n",
       "      <td>NaN</td>\n",
       "      <td>NaN</td>\n",
       "      <td>Gabe</td>\n",
       "      <td>B</td>\n",
       "      <td>Mares</td>\n",
       "      <td>NaN</td>\n",
       "      <td>Production Technician - WC40</td>\n",
       "      <td>440379437</td>\n",
       "      <td>1982-06-11</td>\n",
       "      <td>M</td>\n",
       "      <td>M</td>\n",
       "      <td>2003-04-09</td>\n",
       "      <td>0</td>\n",
       "      <td>57</td>\n",
       "      <td>48</td>\n",
       "      <td>310-555-0117</td>\n",
       "      <td>Work</td>\n",
       "      <td>gabe0@adventure-works.com</td>\n",
       "      <td>1061 Buskrik Avenue</td>\n",
       "      <td>NaN</td>\n",
       "      <td>Edmonds</td>\n",
       "      <td>Washington</td>\n",
       "      <td>98020</td>\n",
       "      <td>United States</td>\n",
       "    </tr>\n",
       "    <tr>\n",
       "      <th>3</th>\n",
       "      <td>78</td>\n",
       "      <td>26.0</td>\n",
       "      <td>NaN</td>\n",
       "      <td>NaN</td>\n",
       "      <td>Reuben</td>\n",
       "      <td>H</td>\n",
       "      <td>D'sa</td>\n",
       "      <td>NaN</td>\n",
       "      <td>Production Supervisor - WC40</td>\n",
       "      <td>370989364</td>\n",
       "      <td>1981-09-27</td>\n",
       "      <td>M</td>\n",
       "      <td>M</td>\n",
       "      <td>2003-01-16</td>\n",
       "      <td>0</td>\n",
       "      <td>72</td>\n",
       "      <td>56</td>\n",
       "      <td>191-555-0112</td>\n",
       "      <td>Work</td>\n",
       "      <td>reuben0@adventure-works.com</td>\n",
       "      <td>1064 Slow Creek Road</td>\n",
       "      <td>NaN</td>\n",
       "      <td>Seattle</td>\n",
       "      <td>Washington</td>\n",
       "      <td>98104</td>\n",
       "      <td>United States</td>\n",
       "    </tr>\n",
       "    <tr>\n",
       "      <th>4</th>\n",
       "      <td>255</td>\n",
       "      <td>250.0</td>\n",
       "      <td>NaN</td>\n",
       "      <td>NaN</td>\n",
       "      <td>Gordon</td>\n",
       "      <td>L</td>\n",
       "      <td>Hee</td>\n",
       "      <td>NaN</td>\n",
       "      <td>Buyer</td>\n",
       "      <td>466142721</td>\n",
       "      <td>1960-12-30</td>\n",
       "      <td>M</td>\n",
       "      <td>M</td>\n",
       "      <td>2004-02-12</td>\n",
       "      <td>0</td>\n",
       "      <td>52</td>\n",
       "      <td>46</td>\n",
       "      <td>230-555-0144</td>\n",
       "      <td>Cell</td>\n",
       "      <td>gordon0@adventure-works.com</td>\n",
       "      <td>108 Lakeside Court</td>\n",
       "      <td>NaN</td>\n",
       "      <td>Bellevue</td>\n",
       "      <td>Washington</td>\n",
       "      <td>98004</td>\n",
       "      <td>United States</td>\n",
       "    </tr>\n",
       "    <tr>\n",
       "      <th>5</th>\n",
       "      <td>66</td>\n",
       "      <td>26.0</td>\n",
       "      <td>NaN</td>\n",
       "      <td>NaN</td>\n",
       "      <td>Karan</td>\n",
       "      <td>R</td>\n",
       "      <td>Khanna</td>\n",
       "      <td>NaN</td>\n",
       "      <td>Production Technician - WC60</td>\n",
       "      <td>834186596</td>\n",
       "      <td>1964-04-07</td>\n",
       "      <td>S</td>\n",
       "      <td>M</td>\n",
       "      <td>2004-01-23</td>\n",
       "      <td>0</td>\n",
       "      <td>28</td>\n",
       "      <td>34</td>\n",
       "      <td>447-555-0186</td>\n",
       "      <td>Work</td>\n",
       "      <td>karan0@hotmail.com</td>\n",
       "      <td>1102 Ravenwood</td>\n",
       "      <td>NaN</td>\n",
       "      <td>Seattle</td>\n",
       "      <td>Washington</td>\n",
       "      <td>98104</td>\n",
       "      <td>United States</td>\n",
       "    </tr>\n",
       "    <tr>\n",
       "      <th>6</th>\n",
       "      <td>270</td>\n",
       "      <td>263.0</td>\n",
       "      <td>NaN</td>\n",
       "      <td>NaN</td>\n",
       "      <td>François</td>\n",
       "      <td>P</td>\n",
       "      <td>Ajenstat</td>\n",
       "      <td>NaN</td>\n",
       "      <td>Database Administrator</td>\n",
       "      <td>643805155</td>\n",
       "      <td>1969-06-17</td>\n",
       "      <td>S</td>\n",
       "      <td>M</td>\n",
       "      <td>2003-02-18</td>\n",
       "      <td>1</td>\n",
       "      <td>67</td>\n",
       "      <td>53</td>\n",
       "      <td>785-555-0110</td>\n",
       "      <td>Cell</td>\n",
       "      <td>françois0@yahoo.com</td>\n",
       "      <td>1144 Paradise Ct.</td>\n",
       "      <td>NaN</td>\n",
       "      <td>Issaquah</td>\n",
       "      <td>Washington</td>\n",
       "      <td>98027</td>\n",
       "      <td>United States</td>\n",
       "    </tr>\n",
       "    <tr>\n",
       "      <th>7</th>\n",
       "      <td>22</td>\n",
       "      <td>16.0</td>\n",
       "      <td>NaN</td>\n",
       "      <td>NaN</td>\n",
       "      <td>Sariya</td>\n",
       "      <td>E</td>\n",
       "      <td>Harnpadoungsataya</td>\n",
       "      <td>NaN</td>\n",
       "      <td>Marketing Specialist</td>\n",
       "      <td>95958330</td>\n",
       "      <td>1981-06-21</td>\n",
       "      <td>S</td>\n",
       "      <td>M</td>\n",
       "      <td>2003-01-13</td>\n",
       "      <td>0</td>\n",
       "      <td>45</td>\n",
       "      <td>42</td>\n",
       "      <td>399-555-0176</td>\n",
       "      <td>Work</td>\n",
       "      <td>sariya0@adventure-works.com</td>\n",
       "      <td>1185 Dallas Drive</td>\n",
       "      <td>NaN</td>\n",
       "      <td>Everett</td>\n",
       "      <td>Washington</td>\n",
       "      <td>98201</td>\n",
       "      <td>United States</td>\n",
       "    </tr>\n",
       "    <tr>\n",
       "      <th>8</th>\n",
       "      <td>161</td>\n",
       "      <td>26.0</td>\n",
       "      <td>NaN</td>\n",
       "      <td>NaN</td>\n",
       "      <td>Kirk</td>\n",
       "      <td>J</td>\n",
       "      <td>Koenigsbauer</td>\n",
       "      <td>NaN</td>\n",
       "      <td>Production Technician - WC45</td>\n",
       "      <td>275962311</td>\n",
       "      <td>1979-03-10</td>\n",
       "      <td>S</td>\n",
       "      <td>M</td>\n",
       "      <td>2003-01-16</td>\n",
       "      <td>0</td>\n",
       "      <td>74</td>\n",
       "      <td>57</td>\n",
       "      <td>669-555-0150</td>\n",
       "      <td>Work</td>\n",
       "      <td>kirk0@hotmail.com</td>\n",
       "      <td>1220 Bradford Way</td>\n",
       "      <td>NaN</td>\n",
       "      <td>Seattle</td>\n",
       "      <td>Washington</td>\n",
       "      <td>98104</td>\n",
       "      <td>United States</td>\n",
       "    </tr>\n",
       "    <tr>\n",
       "      <th>9</th>\n",
       "      <td>124</td>\n",
       "      <td>250.0</td>\n",
       "      <td>NaN</td>\n",
       "      <td>NaN</td>\n",
       "      <td>Kim</td>\n",
       "      <td>T</td>\n",
       "      <td>Ralls</td>\n",
       "      <td>NaN</td>\n",
       "      <td>Stocker</td>\n",
       "      <td>420776180</td>\n",
       "      <td>1978-06-01</td>\n",
       "      <td>S</td>\n",
       "      <td>F</td>\n",
       "      <td>2003-01-27</td>\n",
       "      <td>0</td>\n",
       "      <td>98</td>\n",
       "      <td>69</td>\n",
       "      <td>309-555-0129</td>\n",
       "      <td>Work</td>\n",
       "      <td>kim0@adventure-works.com</td>\n",
       "      <td>1226 Shoe St.</td>\n",
       "      <td>NaN</td>\n",
       "      <td>Bothell</td>\n",
       "      <td>Washington</td>\n",
       "      <td>98011</td>\n",
       "      <td>United States</td>\n",
       "    </tr>\n",
       "  </tbody>\n",
       "</table>\n",
       "</div>"
      ],
      "text/plain": [
       "   EmployeeID  ManagerID  TerritoryID Title FirstName MiddleName  \\\n",
       "0         259      250.0          NaN   NaN       Ben          T   \n",
       "1         278      274.0          6.0   NaN   Garrett          R   \n",
       "2         204       26.0          NaN   NaN      Gabe          B   \n",
       "3          78       26.0          NaN   NaN    Reuben          H   \n",
       "4         255      250.0          NaN   NaN    Gordon          L   \n",
       "5          66       26.0          NaN   NaN     Karan          R   \n",
       "6         270      263.0          NaN   NaN  François          P   \n",
       "7          22       16.0          NaN   NaN    Sariya          E   \n",
       "8         161       26.0          NaN   NaN      Kirk          J   \n",
       "9         124      250.0          NaN   NaN       Kim          T   \n",
       "\n",
       "            LastName Suffix                      JobTitle  NationalIDNumber  \\\n",
       "0             Miller    NaN                         Buyer          20269531   \n",
       "1             Vargas    NaN          Sales Representative         234474252   \n",
       "2              Mares    NaN  Production Technician - WC40         440379437   \n",
       "3               D'sa    NaN  Production Supervisor - WC40         370989364   \n",
       "4                Hee    NaN                         Buyer         466142721   \n",
       "5             Khanna    NaN  Production Technician - WC60         834186596   \n",
       "6           Ajenstat    NaN        Database Administrator         643805155   \n",
       "7  Harnpadoungsataya    NaN          Marketing Specialist          95958330   \n",
       "8       Koenigsbauer    NaN  Production Technician - WC45         275962311   \n",
       "9              Ralls    NaN                       Stocker         420776180   \n",
       "\n",
       "    BirthDate MaritalStatus Gender   HireDate  SalariedFlag  VacationHours  \\\n",
       "0  1967-07-05             M      M 2004-04-09             0             55   \n",
       "1  1969-03-07             M      M 2005-07-01             1             33   \n",
       "2  1982-06-11             M      M 2003-04-09             0             57   \n",
       "3  1981-09-27             M      M 2003-01-16             0             72   \n",
       "4  1960-12-30             M      M 2004-02-12             0             52   \n",
       "5  1964-04-07             S      M 2004-01-23             0             28   \n",
       "6  1969-06-17             S      M 2003-02-18             1             67   \n",
       "7  1981-06-21             S      M 2003-01-13             0             45   \n",
       "8  1979-03-10             S      M 2003-01-16             0             74   \n",
       "9  1978-06-01             S      F 2003-01-27             0             98   \n",
       "\n",
       "   SickLeaveHours   PhoneNumber PhoneNumberType                 EmailAddress  \\\n",
       "0              47  151-555-0113            Work     ben0@adventure-works.com   \n",
       "1              36  922-555-0165            Work    garrett1@mapleleafmail.ca   \n",
       "2              48  310-555-0117            Work    gabe0@adventure-works.com   \n",
       "3              56  191-555-0112            Work  reuben0@adventure-works.com   \n",
       "4              46  230-555-0144            Cell  gordon0@adventure-works.com   \n",
       "5              34  447-555-0186            Work           karan0@hotmail.com   \n",
       "6              53  785-555-0110            Cell          françois0@yahoo.com   \n",
       "7              42  399-555-0176            Work  sariya0@adventure-works.com   \n",
       "8              57  669-555-0150            Work            kirk0@hotmail.com   \n",
       "9              69  309-555-0129            Work     kim0@adventure-works.com   \n",
       "\n",
       "           AddressLine1 AddressLine2      City StateProvinceName PostalCode  \\\n",
       "0         101 Candy Rd.          NaN   Redmond        Washington      98052   \n",
       "1    10203 Acorn Avenue          NaN   Calgary           Alberta    T2P 2G8   \n",
       "2   1061 Buskrik Avenue          NaN   Edmonds        Washington      98020   \n",
       "3  1064 Slow Creek Road          NaN   Seattle        Washington      98104   \n",
       "4    108 Lakeside Court          NaN  Bellevue        Washington      98004   \n",
       "5        1102 Ravenwood          NaN   Seattle        Washington      98104   \n",
       "6     1144 Paradise Ct.          NaN  Issaquah        Washington      98027   \n",
       "7     1185 Dallas Drive          NaN   Everett        Washington      98201   \n",
       "8     1220 Bradford Way          NaN   Seattle        Washington      98104   \n",
       "9         1226 Shoe St.          NaN   Bothell        Washington      98011   \n",
       "\n",
       "     CountryName  \n",
       "0  United States  \n",
       "1         Canada  \n",
       "2  United States  \n",
       "3  United States  \n",
       "4  United States  \n",
       "5  United States  \n",
       "6  United States  \n",
       "7  United States  \n",
       "8  United States  \n",
       "9  United States  "
      ]
     },
     "execution_count": 120,
     "metadata": {},
     "output_type": "execute_result"
    }
   ],
   "source": [
    "Employees.head(10)"
   ]
  },
  {
   "cell_type": "code",
   "execution_count": 121,
   "id": "096d5aac-acbe-4bc7-928b-bdb526d02574",
   "metadata": {},
   "outputs": [
    {
     "data": {
      "text/html": [
       "<div>\n",
       "<style scoped>\n",
       "    .dataframe tbody tr th:only-of-type {\n",
       "        vertical-align: middle;\n",
       "    }\n",
       "\n",
       "    .dataframe tbody tr th {\n",
       "        vertical-align: top;\n",
       "    }\n",
       "\n",
       "    .dataframe thead th {\n",
       "        text-align: right;\n",
       "    }\n",
       "</style>\n",
       "<table border=\"1\" class=\"dataframe\">\n",
       "  <thead>\n",
       "    <tr style=\"text-align: right;\">\n",
       "      <th></th>\n",
       "      <th>TerritoryID</th>\n",
       "      <th>EmployeeID</th>\n",
       "      <th>FirstName</th>\n",
       "      <th>LastName</th>\n",
       "      <th>Name</th>\n",
       "      <th>CountryCode</th>\n",
       "      <th>Region</th>\n",
       "      <th>SalesYTD</th>\n",
       "      <th>SalesLastYear</th>\n",
       "    </tr>\n",
       "  </thead>\n",
       "  <tbody>\n",
       "    <tr>\n",
       "      <th>0</th>\n",
       "      <td>6.0</td>\n",
       "      <td>278</td>\n",
       "      <td>Garrett</td>\n",
       "      <td>Vargas</td>\n",
       "      <td>Canada</td>\n",
       "      <td>CA</td>\n",
       "      <td>North America</td>\n",
       "      <td>6771829.14</td>\n",
       "      <td>5693988.86</td>\n",
       "    </tr>\n",
       "    <tr>\n",
       "      <th>1</th>\n",
       "      <td>6.0</td>\n",
       "      <td>282</td>\n",
       "      <td>José</td>\n",
       "      <td>Saraiva</td>\n",
       "      <td>Canada</td>\n",
       "      <td>CA</td>\n",
       "      <td>North America</td>\n",
       "      <td>6771829.14</td>\n",
       "      <td>5693988.86</td>\n",
       "    </tr>\n",
       "    <tr>\n",
       "      <th>2</th>\n",
       "      <td>1.0</td>\n",
       "      <td>283</td>\n",
       "      <td>David</td>\n",
       "      <td>Campbell</td>\n",
       "      <td>Northwest</td>\n",
       "      <td>US</td>\n",
       "      <td>North America</td>\n",
       "      <td>7887186.79</td>\n",
       "      <td>3298694.49</td>\n",
       "    </tr>\n",
       "  </tbody>\n",
       "</table>\n",
       "</div>"
      ],
      "text/plain": [
       "   TerritoryID  EmployeeID FirstName  LastName       Name CountryCode  \\\n",
       "0          6.0         278   Garrett    Vargas     Canada          CA   \n",
       "1          6.0         282      José   Saraiva     Canada          CA   \n",
       "2          1.0         283     David  Campbell  Northwest          US   \n",
       "\n",
       "          Region    SalesYTD  SalesLastYear  \n",
       "0  North America  6771829.14     5693988.86  \n",
       "1  North America  6771829.14     5693988.86  \n",
       "2  North America  7887186.79     3298694.49  "
      ]
     },
     "execution_count": 121,
     "metadata": {},
     "output_type": "execute_result"
    }
   ],
   "source": [
    "df = pd.merge(\n",
    "    Employees.loc[:,['TerritoryID','EmployeeID','FirstName','LastName']],\n",
    "    Territory,\n",
    "    on = 'TerritoryID',\n",
    "    how = 'inner'\n",
    ")\n",
    "df.head(3)"
   ]
  },
  {
   "cell_type": "code",
   "execution_count": 122,
   "id": "55dfdd59",
   "metadata": {},
   "outputs": [
    {
     "data": {
      "text/plain": [
       "14"
      ]
     },
     "execution_count": 122,
     "metadata": {},
     "output_type": "execute_result"
    }
   ],
   "source": [
    "df.EmployeeID.nunique()"
   ]
  },
  {
   "cell_type": "code",
   "execution_count": null,
   "id": "6d02ed9c",
   "metadata": {},
   "outputs": [],
   "source": []
  },
  {
   "cell_type": "code",
   "execution_count": 123,
   "id": "36d663b7-9b9b-45a7-815d-5c80427e8620",
   "metadata": {},
   "outputs": [
    {
     "data": {
      "text/html": [
       "<div>\n",
       "<style scoped>\n",
       "    .dataframe tbody tr th:only-of-type {\n",
       "        vertical-align: middle;\n",
       "    }\n",
       "\n",
       "    .dataframe tbody tr th {\n",
       "        vertical-align: top;\n",
       "    }\n",
       "\n",
       "    .dataframe thead th {\n",
       "        text-align: right;\n",
       "    }\n",
       "</style>\n",
       "<table border=\"1\" class=\"dataframe\">\n",
       "  <thead>\n",
       "    <tr style=\"text-align: right;\">\n",
       "      <th></th>\n",
       "      <th>TerritoryID</th>\n",
       "      <th>EmployeeID</th>\n",
       "      <th>FirstName</th>\n",
       "      <th>LastName</th>\n",
       "      <th>Name</th>\n",
       "      <th>CountryCode</th>\n",
       "      <th>Region</th>\n",
       "      <th>SalesYTD</th>\n",
       "      <th>SalesLastYear</th>\n",
       "    </tr>\n",
       "  </thead>\n",
       "  <tbody>\n",
       "    <tr>\n",
       "      <th>0</th>\n",
       "      <td>NaN</td>\n",
       "      <td>259</td>\n",
       "      <td>Ben</td>\n",
       "      <td>Miller</td>\n",
       "      <td>NaN</td>\n",
       "      <td>NaN</td>\n",
       "      <td>NaN</td>\n",
       "      <td>NaN</td>\n",
       "      <td>NaN</td>\n",
       "    </tr>\n",
       "    <tr>\n",
       "      <th>1</th>\n",
       "      <td>6.0</td>\n",
       "      <td>278</td>\n",
       "      <td>Garrett</td>\n",
       "      <td>Vargas</td>\n",
       "      <td>Canada</td>\n",
       "      <td>CA</td>\n",
       "      <td>North America</td>\n",
       "      <td>6771829.14</td>\n",
       "      <td>5693988.86</td>\n",
       "    </tr>\n",
       "    <tr>\n",
       "      <th>2</th>\n",
       "      <td>NaN</td>\n",
       "      <td>204</td>\n",
       "      <td>Gabe</td>\n",
       "      <td>Mares</td>\n",
       "      <td>NaN</td>\n",
       "      <td>NaN</td>\n",
       "      <td>NaN</td>\n",
       "      <td>NaN</td>\n",
       "      <td>NaN</td>\n",
       "    </tr>\n",
       "  </tbody>\n",
       "</table>\n",
       "</div>"
      ],
      "text/plain": [
       "   TerritoryID  EmployeeID FirstName LastName    Name CountryCode  \\\n",
       "0          NaN         259       Ben   Miller     NaN         NaN   \n",
       "1          6.0         278   Garrett   Vargas  Canada          CA   \n",
       "2          NaN         204      Gabe    Mares     NaN         NaN   \n",
       "\n",
       "          Region    SalesYTD  SalesLastYear  \n",
       "0            NaN         NaN            NaN  \n",
       "1  North America  6771829.14     5693988.86  \n",
       "2            NaN         NaN            NaN  "
      ]
     },
     "execution_count": 123,
     "metadata": {},
     "output_type": "execute_result"
    }
   ],
   "source": [
    "df = pd.merge(\n",
    "    Employees.loc[:,['TerritoryID','EmployeeID','FirstName','LastName']],\n",
    "    Territory,\n",
    "    on = 'TerritoryID',\n",
    "    how = 'left'\n",
    ")\n",
    "df.head(3)"
   ]
  },
  {
   "cell_type": "code",
   "execution_count": 124,
   "id": "d65cde38-8d2c-4f33-b09d-41186cfe6284",
   "metadata": {},
   "outputs": [
    {
     "data": {
      "text/plain": [
       "(291, 9)"
      ]
     },
     "execution_count": 124,
     "metadata": {},
     "output_type": "execute_result"
    }
   ],
   "source": [
    "df.shape"
   ]
  },
  {
   "cell_type": "code",
   "execution_count": null,
   "id": "6dec04d5",
   "metadata": {},
   "outputs": [],
   "source": []
  },
  {
   "cell_type": "code",
   "execution_count": null,
   "id": "2de81d02-8ffa-49be-bb3d-8f1ac5182eb9",
   "metadata": {},
   "outputs": [],
   "source": [
    "Employees.shape"
   ]
  },
  {
   "cell_type": "code",
   "execution_count": 125,
   "id": "724c73bd-864b-47d6-84c0-6d3ab7df26f3",
   "metadata": {},
   "outputs": [],
   "source": [
    "df['EmployeeName'] = [\n",
    "    first + ' ' + last\n",
    "    for first,last in zip(df.FirstName, df.LastName)\n",
    "]"
   ]
  },
  {
   "cell_type": "code",
   "execution_count": 126,
   "id": "8e765552-6752-45b6-b7bd-de4c64bec544",
   "metadata": {},
   "outputs": [
    {
     "data": {
      "text/html": [
       "<div>\n",
       "<style scoped>\n",
       "    .dataframe tbody tr th:only-of-type {\n",
       "        vertical-align: middle;\n",
       "    }\n",
       "\n",
       "    .dataframe tbody tr th {\n",
       "        vertical-align: top;\n",
       "    }\n",
       "\n",
       "    .dataframe thead th {\n",
       "        text-align: right;\n",
       "    }\n",
       "</style>\n",
       "<table border=\"1\" class=\"dataframe\">\n",
       "  <thead>\n",
       "    <tr style=\"text-align: right;\">\n",
       "      <th></th>\n",
       "      <th>TerritoryID</th>\n",
       "      <th>EmployeeID</th>\n",
       "      <th>FirstName</th>\n",
       "      <th>LastName</th>\n",
       "      <th>Name</th>\n",
       "      <th>CountryCode</th>\n",
       "      <th>Region</th>\n",
       "      <th>SalesYTD</th>\n",
       "      <th>SalesLastYear</th>\n",
       "      <th>EmployeeName</th>\n",
       "    </tr>\n",
       "  </thead>\n",
       "  <tbody>\n",
       "    <tr>\n",
       "      <th>0</th>\n",
       "      <td>NaN</td>\n",
       "      <td>259</td>\n",
       "      <td>Ben</td>\n",
       "      <td>Miller</td>\n",
       "      <td>NaN</td>\n",
       "      <td>NaN</td>\n",
       "      <td>NaN</td>\n",
       "      <td>NaN</td>\n",
       "      <td>NaN</td>\n",
       "      <td>Ben Miller</td>\n",
       "    </tr>\n",
       "    <tr>\n",
       "      <th>1</th>\n",
       "      <td>6.0</td>\n",
       "      <td>278</td>\n",
       "      <td>Garrett</td>\n",
       "      <td>Vargas</td>\n",
       "      <td>Canada</td>\n",
       "      <td>CA</td>\n",
       "      <td>North America</td>\n",
       "      <td>6771829.14</td>\n",
       "      <td>5693988.86</td>\n",
       "      <td>Garrett Vargas</td>\n",
       "    </tr>\n",
       "    <tr>\n",
       "      <th>2</th>\n",
       "      <td>NaN</td>\n",
       "      <td>204</td>\n",
       "      <td>Gabe</td>\n",
       "      <td>Mares</td>\n",
       "      <td>NaN</td>\n",
       "      <td>NaN</td>\n",
       "      <td>NaN</td>\n",
       "      <td>NaN</td>\n",
       "      <td>NaN</td>\n",
       "      <td>Gabe Mares</td>\n",
       "    </tr>\n",
       "  </tbody>\n",
       "</table>\n",
       "</div>"
      ],
      "text/plain": [
       "   TerritoryID  EmployeeID FirstName LastName    Name CountryCode  \\\n",
       "0          NaN         259       Ben   Miller     NaN         NaN   \n",
       "1          6.0         278   Garrett   Vargas  Canada          CA   \n",
       "2          NaN         204      Gabe    Mares     NaN         NaN   \n",
       "\n",
       "          Region    SalesYTD  SalesLastYear    EmployeeName  \n",
       "0            NaN         NaN            NaN      Ben Miller  \n",
       "1  North America  6771829.14     5693988.86  Garrett Vargas  \n",
       "2            NaN         NaN            NaN      Gabe Mares  "
      ]
     },
     "execution_count": 126,
     "metadata": {},
     "output_type": "execute_result"
    }
   ],
   "source": [
    "df.head(3)"
   ]
  },
  {
   "cell_type": "code",
   "execution_count": null,
   "id": "99ff119d",
   "metadata": {},
   "outputs": [],
   "source": []
  },
  {
   "cell_type": "code",
   "execution_count": null,
   "id": "89883921",
   "metadata": {},
   "outputs": [],
   "source": []
  },
  {
   "cell_type": "markdown",
   "id": "7d340314-8c25-4287-b1b0-74d341fe7ab4",
   "metadata": {},
   "source": [
    "### For all sales territories, also show what customers fall under them\n",
    "```sql\n",
    "SELECT * \n",
    "FROM dbo.SalesTerritory AS st \n",
    "LEFT OUTER JOIN dbo.Customers AS c ON c.SalesTerritoryID = st.TerritoryID ;\n",
    "```"
   ]
  },
  {
   "cell_type": "code",
   "execution_count": 127,
   "id": "7adb1757-96e7-4261-b68d-e7079ea431de",
   "metadata": {},
   "outputs": [
    {
     "data": {
      "text/html": [
       "<div>\n",
       "<style scoped>\n",
       "    .dataframe tbody tr th:only-of-type {\n",
       "        vertical-align: middle;\n",
       "    }\n",
       "\n",
       "    .dataframe tbody tr th {\n",
       "        vertical-align: top;\n",
       "    }\n",
       "\n",
       "    .dataframe thead th {\n",
       "        text-align: right;\n",
       "    }\n",
       "</style>\n",
       "<table border=\"1\" class=\"dataframe\">\n",
       "  <thead>\n",
       "    <tr style=\"text-align: right;\">\n",
       "      <th></th>\n",
       "      <th>CustomerID</th>\n",
       "      <th>SalesTerritoryID</th>\n",
       "      <th>FirstName</th>\n",
       "      <th>LastName</th>\n",
       "      <th>City</th>\n",
       "      <th>StateName</th>\n",
       "    </tr>\n",
       "  </thead>\n",
       "  <tbody>\n",
       "    <tr>\n",
       "      <th>0</th>\n",
       "      <td>10101</td>\n",
       "      <td>1</td>\n",
       "      <td>John</td>\n",
       "      <td>Gray</td>\n",
       "      <td>Lynden</td>\n",
       "      <td>Washington</td>\n",
       "    </tr>\n",
       "    <tr>\n",
       "      <th>1</th>\n",
       "      <td>10298</td>\n",
       "      <td>4</td>\n",
       "      <td>Leroy</td>\n",
       "      <td>Brown</td>\n",
       "      <td>Pinetop</td>\n",
       "      <td>Arizona</td>\n",
       "    </tr>\n",
       "    <tr>\n",
       "      <th>2</th>\n",
       "      <td>10299</td>\n",
       "      <td>1</td>\n",
       "      <td>Elroy</td>\n",
       "      <td>Keller</td>\n",
       "      <td>Snoqualmie</td>\n",
       "      <td>Washington</td>\n",
       "    </tr>\n",
       "  </tbody>\n",
       "</table>\n",
       "</div>"
      ],
      "text/plain": [
       "   CustomerID  SalesTerritoryID FirstName LastName        City   StateName\n",
       "0       10101                 1      John     Gray      Lynden  Washington\n",
       "1       10298                 4     Leroy    Brown     Pinetop     Arizona\n",
       "2       10299                 1     Elroy   Keller  Snoqualmie  Washington"
      ]
     },
     "execution_count": 127,
     "metadata": {},
     "output_type": "execute_result"
    }
   ],
   "source": [
    "Customers.head(3)"
   ]
  },
  {
   "cell_type": "code",
   "execution_count": 128,
   "id": "8aaf2057-1a4e-454a-bb99-6f65a4fb5c4f",
   "metadata": {},
   "outputs": [
    {
     "data": {
      "text/html": [
       "<div>\n",
       "<style scoped>\n",
       "    .dataframe tbody tr th:only-of-type {\n",
       "        vertical-align: middle;\n",
       "    }\n",
       "\n",
       "    .dataframe tbody tr th {\n",
       "        vertical-align: top;\n",
       "    }\n",
       "\n",
       "    .dataframe thead th {\n",
       "        text-align: right;\n",
       "    }\n",
       "</style>\n",
       "<table border=\"1\" class=\"dataframe\">\n",
       "  <thead>\n",
       "    <tr style=\"text-align: right;\">\n",
       "      <th></th>\n",
       "      <th>TerritoryID</th>\n",
       "      <th>Name</th>\n",
       "      <th>CountryCode</th>\n",
       "      <th>Region</th>\n",
       "      <th>SalesYTD</th>\n",
       "      <th>SalesLastYear</th>\n",
       "    </tr>\n",
       "  </thead>\n",
       "  <tbody>\n",
       "    <tr>\n",
       "      <th>0</th>\n",
       "      <td>1</td>\n",
       "      <td>Northwest</td>\n",
       "      <td>US</td>\n",
       "      <td>North America</td>\n",
       "      <td>7887186.79</td>\n",
       "      <td>3298694.49</td>\n",
       "    </tr>\n",
       "    <tr>\n",
       "      <th>1</th>\n",
       "      <td>2</td>\n",
       "      <td>Northeast</td>\n",
       "      <td>US</td>\n",
       "      <td>North America</td>\n",
       "      <td>2402176.85</td>\n",
       "      <td>3607148.94</td>\n",
       "    </tr>\n",
       "    <tr>\n",
       "      <th>2</th>\n",
       "      <td>3</td>\n",
       "      <td>Central</td>\n",
       "      <td>US</td>\n",
       "      <td>North America</td>\n",
       "      <td>3072175.12</td>\n",
       "      <td>3205014.08</td>\n",
       "    </tr>\n",
       "  </tbody>\n",
       "</table>\n",
       "</div>"
      ],
      "text/plain": [
       "   TerritoryID       Name CountryCode         Region    SalesYTD  \\\n",
       "0            1  Northwest          US  North America  7887186.79   \n",
       "1            2  Northeast          US  North America  2402176.85   \n",
       "2            3    Central          US  North America  3072175.12   \n",
       "\n",
       "   SalesLastYear  \n",
       "0     3298694.49  \n",
       "1     3607148.94  \n",
       "2     3205014.08  "
      ]
     },
     "execution_count": 128,
     "metadata": {},
     "output_type": "execute_result"
    }
   ],
   "source": [
    "Territory.head(3)"
   ]
  },
  {
   "cell_type": "code",
   "execution_count": 131,
   "id": "79508390",
   "metadata": {},
   "outputs": [
    {
     "data": {
      "text/plain": [
       "(12, 6)"
      ]
     },
     "execution_count": 131,
     "metadata": {},
     "output_type": "execute_result"
    }
   ],
   "source": [
    "Territory.shape"
   ]
  },
  {
   "cell_type": "code",
   "execution_count": null,
   "id": "2dd87ef6",
   "metadata": {},
   "outputs": [],
   "source": []
  },
  {
   "cell_type": "code",
   "execution_count": 129,
   "id": "45cad95e-0c83-4360-93d0-f18c8bef232f",
   "metadata": {},
   "outputs": [
    {
     "data": {
      "text/html": [
       "<div>\n",
       "<style scoped>\n",
       "    .dataframe tbody tr th:only-of-type {\n",
       "        vertical-align: middle;\n",
       "    }\n",
       "\n",
       "    .dataframe tbody tr th {\n",
       "        vertical-align: top;\n",
       "    }\n",
       "\n",
       "    .dataframe thead th {\n",
       "        text-align: right;\n",
       "    }\n",
       "</style>\n",
       "<table border=\"1\" class=\"dataframe\">\n",
       "  <thead>\n",
       "    <tr style=\"text-align: right;\">\n",
       "      <th></th>\n",
       "      <th>TerritoryID</th>\n",
       "      <th>Name</th>\n",
       "      <th>CountryCode</th>\n",
       "      <th>Region</th>\n",
       "      <th>SalesYTD</th>\n",
       "      <th>SalesLastYear</th>\n",
       "      <th>CustomerID</th>\n",
       "      <th>SalesTerritoryID</th>\n",
       "      <th>FirstName</th>\n",
       "      <th>LastName</th>\n",
       "      <th>City</th>\n",
       "      <th>StateName</th>\n",
       "    </tr>\n",
       "  </thead>\n",
       "  <tbody>\n",
       "    <tr>\n",
       "      <th>0</th>\n",
       "      <td>1</td>\n",
       "      <td>Northwest</td>\n",
       "      <td>US</td>\n",
       "      <td>North America</td>\n",
       "      <td>7887186.79</td>\n",
       "      <td>3298694.49</td>\n",
       "      <td>10101.0</td>\n",
       "      <td>1.0</td>\n",
       "      <td>John</td>\n",
       "      <td>Gray</td>\n",
       "      <td>Lynden</td>\n",
       "      <td>Washington</td>\n",
       "    </tr>\n",
       "    <tr>\n",
       "      <th>1</th>\n",
       "      <td>1</td>\n",
       "      <td>Northwest</td>\n",
       "      <td>US</td>\n",
       "      <td>North America</td>\n",
       "      <td>7887186.79</td>\n",
       "      <td>3298694.49</td>\n",
       "      <td>10299.0</td>\n",
       "      <td>1.0</td>\n",
       "      <td>Elroy</td>\n",
       "      <td>Keller</td>\n",
       "      <td>Snoqualmie</td>\n",
       "      <td>Washington</td>\n",
       "    </tr>\n",
       "    <tr>\n",
       "      <th>2</th>\n",
       "      <td>1</td>\n",
       "      <td>Northwest</td>\n",
       "      <td>US</td>\n",
       "      <td>North America</td>\n",
       "      <td>7887186.79</td>\n",
       "      <td>3298694.49</td>\n",
       "      <td>10325.0</td>\n",
       "      <td>1.0</td>\n",
       "      <td>Ginger</td>\n",
       "      <td>Schultz</td>\n",
       "      <td>Pocatello</td>\n",
       "      <td>Idaho</td>\n",
       "    </tr>\n",
       "  </tbody>\n",
       "</table>\n",
       "</div>"
      ],
      "text/plain": [
       "   TerritoryID       Name CountryCode         Region    SalesYTD  \\\n",
       "0            1  Northwest          US  North America  7887186.79   \n",
       "1            1  Northwest          US  North America  7887186.79   \n",
       "2            1  Northwest          US  North America  7887186.79   \n",
       "\n",
       "   SalesLastYear  CustomerID  SalesTerritoryID FirstName LastName        City  \\\n",
       "0     3298694.49     10101.0               1.0      John     Gray      Lynden   \n",
       "1     3298694.49     10299.0               1.0     Elroy   Keller  Snoqualmie   \n",
       "2     3298694.49     10325.0               1.0    Ginger  Schultz   Pocatello   \n",
       "\n",
       "    StateName  \n",
       "0  Washington  \n",
       "1  Washington  \n",
       "2       Idaho  "
      ]
     },
     "execution_count": 129,
     "metadata": {},
     "output_type": "execute_result"
    }
   ],
   "source": [
    "df = pd.merge(\n",
    "    Territory,\n",
    "    Customers,\n",
    "#     on = 'TerritoryID',\n",
    "    left_on='TerritoryID',\n",
    "    right_on='SalesTerritoryID',\n",
    "    how = 'left'\n",
    ")\n",
    "df.head(3)"
   ]
  },
  {
   "cell_type": "code",
   "execution_count": 130,
   "id": "d0a77aaf",
   "metadata": {},
   "outputs": [
    {
     "data": {
      "text/plain": [
       "(25, 12)"
      ]
     },
     "execution_count": 130,
     "metadata": {},
     "output_type": "execute_result"
    }
   ],
   "source": [
    "df.shape"
   ]
  },
  {
   "cell_type": "code",
   "execution_count": null,
   "id": "1d3536e4",
   "metadata": {},
   "outputs": [],
   "source": []
  },
  {
   "cell_type": "code",
   "execution_count": 132,
   "id": "854a271c-d976-4858-be87-8ee1a1c6036e",
   "metadata": {},
   "outputs": [
    {
     "data": {
      "text/html": [
       "<div>\n",
       "<style scoped>\n",
       "    .dataframe tbody tr th:only-of-type {\n",
       "        vertical-align: middle;\n",
       "    }\n",
       "\n",
       "    .dataframe tbody tr th {\n",
       "        vertical-align: top;\n",
       "    }\n",
       "\n",
       "    .dataframe thead th {\n",
       "        text-align: right;\n",
       "    }\n",
       "</style>\n",
       "<table border=\"1\" class=\"dataframe\">\n",
       "  <thead>\n",
       "    <tr style=\"text-align: right;\">\n",
       "      <th></th>\n",
       "      <th>TerritoryID</th>\n",
       "      <th>Name</th>\n",
       "      <th>CountryCode</th>\n",
       "      <th>Region</th>\n",
       "      <th>SalesYTD</th>\n",
       "      <th>SalesLastYear</th>\n",
       "      <th>CustomerID</th>\n",
       "      <th>FirstName</th>\n",
       "      <th>LastName</th>\n",
       "      <th>City</th>\n",
       "      <th>StateName</th>\n",
       "    </tr>\n",
       "  </thead>\n",
       "  <tbody>\n",
       "    <tr>\n",
       "      <th>0</th>\n",
       "      <td>1</td>\n",
       "      <td>Northwest</td>\n",
       "      <td>US</td>\n",
       "      <td>North America</td>\n",
       "      <td>7887186.79</td>\n",
       "      <td>3298694.49</td>\n",
       "      <td>10101.0</td>\n",
       "      <td>John</td>\n",
       "      <td>Gray</td>\n",
       "      <td>Lynden</td>\n",
       "      <td>Washington</td>\n",
       "    </tr>\n",
       "    <tr>\n",
       "      <th>1</th>\n",
       "      <td>1</td>\n",
       "      <td>Northwest</td>\n",
       "      <td>US</td>\n",
       "      <td>North America</td>\n",
       "      <td>7887186.79</td>\n",
       "      <td>3298694.49</td>\n",
       "      <td>10299.0</td>\n",
       "      <td>Elroy</td>\n",
       "      <td>Keller</td>\n",
       "      <td>Snoqualmie</td>\n",
       "      <td>Washington</td>\n",
       "    </tr>\n",
       "    <tr>\n",
       "      <th>2</th>\n",
       "      <td>1</td>\n",
       "      <td>Northwest</td>\n",
       "      <td>US</td>\n",
       "      <td>North America</td>\n",
       "      <td>7887186.79</td>\n",
       "      <td>3298694.49</td>\n",
       "      <td>10325.0</td>\n",
       "      <td>Ginger</td>\n",
       "      <td>Schultz</td>\n",
       "      <td>Pocatello</td>\n",
       "      <td>Idaho</td>\n",
       "    </tr>\n",
       "  </tbody>\n",
       "</table>\n",
       "</div>"
      ],
      "text/plain": [
       "   TerritoryID       Name CountryCode         Region    SalesYTD  \\\n",
       "0            1  Northwest          US  North America  7887186.79   \n",
       "1            1  Northwest          US  North America  7887186.79   \n",
       "2            1  Northwest          US  North America  7887186.79   \n",
       "\n",
       "   SalesLastYear  CustomerID FirstName LastName        City   StateName  \n",
       "0     3298694.49     10101.0      John     Gray      Lynden  Washington  \n",
       "1     3298694.49     10299.0     Elroy   Keller  Snoqualmie  Washington  \n",
       "2     3298694.49     10325.0    Ginger  Schultz   Pocatello       Idaho  "
      ]
     },
     "execution_count": 132,
     "metadata": {},
     "output_type": "execute_result"
    }
   ],
   "source": [
    "df = pd.merge(\n",
    "    Territory,\n",
    "    Customers.rename(columns={'SalesTerritoryID':'TerritoryID'}),\n",
    "    on = 'TerritoryID',\n",
    "    how = 'left'\n",
    ")\n",
    "df.head(3)"
   ]
  },
  {
   "cell_type": "code",
   "execution_count": null,
   "id": "b5f9e39d",
   "metadata": {},
   "outputs": [],
   "source": []
  },
  {
   "cell_type": "code",
   "execution_count": null,
   "id": "22412625",
   "metadata": {},
   "outputs": [],
   "source": []
  },
  {
   "cell_type": "markdown",
   "id": "c6ee959b-d787-45db-be9d-42164e2db88a",
   "metadata": {},
   "source": [
    "Are there any sales territories that don't have any customers associated?"
   ]
  },
  {
   "cell_type": "code",
   "execution_count": 133,
   "id": "07a62640-3a4c-48e1-ada5-6a677ef1db2b",
   "metadata": {},
   "outputs": [
    {
     "data": {
      "text/html": [
       "<div>\n",
       "<style scoped>\n",
       "    .dataframe tbody tr th:only-of-type {\n",
       "        vertical-align: middle;\n",
       "    }\n",
       "\n",
       "    .dataframe tbody tr th {\n",
       "        vertical-align: top;\n",
       "    }\n",
       "\n",
       "    .dataframe thead th {\n",
       "        text-align: right;\n",
       "    }\n",
       "</style>\n",
       "<table border=\"1\" class=\"dataframe\">\n",
       "  <thead>\n",
       "    <tr style=\"text-align: right;\">\n",
       "      <th></th>\n",
       "      <th>TerritoryID</th>\n",
       "      <th>Name</th>\n",
       "      <th>CountryCode</th>\n",
       "      <th>Region</th>\n",
       "      <th>SalesYTD</th>\n",
       "      <th>SalesLastYear</th>\n",
       "      <th>CustomerID</th>\n",
       "      <th>FirstName</th>\n",
       "      <th>LastName</th>\n",
       "      <th>City</th>\n",
       "      <th>StateName</th>\n",
       "    </tr>\n",
       "  </thead>\n",
       "  <tbody>\n",
       "    <tr>\n",
       "      <th>5</th>\n",
       "      <td>2</td>\n",
       "      <td>Northeast</td>\n",
       "      <td>US</td>\n",
       "      <td>North America</td>\n",
       "      <td>2402176.85</td>\n",
       "      <td>3607148.940</td>\n",
       "      <td>NaN</td>\n",
       "      <td>NaN</td>\n",
       "      <td>NaN</td>\n",
       "      <td>NaN</td>\n",
       "      <td>NaN</td>\n",
       "    </tr>\n",
       "    <tr>\n",
       "      <th>18</th>\n",
       "      <td>6</td>\n",
       "      <td>Canada</td>\n",
       "      <td>CA</td>\n",
       "      <td>North America</td>\n",
       "      <td>6771829.14</td>\n",
       "      <td>5693988.860</td>\n",
       "      <td>NaN</td>\n",
       "      <td>NaN</td>\n",
       "      <td>NaN</td>\n",
       "      <td>NaN</td>\n",
       "      <td>NaN</td>\n",
       "    </tr>\n",
       "    <tr>\n",
       "      <th>19</th>\n",
       "      <td>7</td>\n",
       "      <td>France</td>\n",
       "      <td>FR</td>\n",
       "      <td>Europe</td>\n",
       "      <td>4772398.31</td>\n",
       "      <td>2396539.760</td>\n",
       "      <td>NaN</td>\n",
       "      <td>NaN</td>\n",
       "      <td>NaN</td>\n",
       "      <td>NaN</td>\n",
       "      <td>NaN</td>\n",
       "    </tr>\n",
       "    <tr>\n",
       "      <th>20</th>\n",
       "      <td>8</td>\n",
       "      <td>Germany</td>\n",
       "      <td>DE</td>\n",
       "      <td>Europe</td>\n",
       "      <td>3805202.35</td>\n",
       "      <td>1307949.790</td>\n",
       "      <td>NaN</td>\n",
       "      <td>NaN</td>\n",
       "      <td>NaN</td>\n",
       "      <td>NaN</td>\n",
       "      <td>NaN</td>\n",
       "    </tr>\n",
       "    <tr>\n",
       "      <th>21</th>\n",
       "      <td>9</td>\n",
       "      <td>Australia</td>\n",
       "      <td>AU</td>\n",
       "      <td>Pacific</td>\n",
       "      <td>5977814.92</td>\n",
       "      <td>2278548.980</td>\n",
       "      <td>NaN</td>\n",
       "      <td>NaN</td>\n",
       "      <td>NaN</td>\n",
       "      <td>NaN</td>\n",
       "      <td>NaN</td>\n",
       "    </tr>\n",
       "    <tr>\n",
       "      <th>22</th>\n",
       "      <td>10</td>\n",
       "      <td>United Kingdom</td>\n",
       "      <td>GB</td>\n",
       "      <td>Europe</td>\n",
       "      <td>5012905.37</td>\n",
       "      <td>1635823.400</td>\n",
       "      <td>NaN</td>\n",
       "      <td>NaN</td>\n",
       "      <td>NaN</td>\n",
       "      <td>NaN</td>\n",
       "      <td>NaN</td>\n",
       "    </tr>\n",
       "    <tr>\n",
       "      <th>23</th>\n",
       "      <td>11</td>\n",
       "      <td>Brazil</td>\n",
       "      <td>BR</td>\n",
       "      <td>South America</td>\n",
       "      <td>0.00</td>\n",
       "      <td>261589.958</td>\n",
       "      <td>NaN</td>\n",
       "      <td>NaN</td>\n",
       "      <td>NaN</td>\n",
       "      <td>NaN</td>\n",
       "      <td>NaN</td>\n",
       "    </tr>\n",
       "    <tr>\n",
       "      <th>24</th>\n",
       "      <td>12</td>\n",
       "      <td>Mexico</td>\n",
       "      <td>MX</td>\n",
       "      <td>North America</td>\n",
       "      <td>0.00</td>\n",
       "      <td>0.000</td>\n",
       "      <td>NaN</td>\n",
       "      <td>NaN</td>\n",
       "      <td>NaN</td>\n",
       "      <td>NaN</td>\n",
       "      <td>NaN</td>\n",
       "    </tr>\n",
       "  </tbody>\n",
       "</table>\n",
       "</div>"
      ],
      "text/plain": [
       "    TerritoryID            Name CountryCode         Region    SalesYTD  \\\n",
       "5             2       Northeast          US  North America  2402176.85   \n",
       "18            6          Canada          CA  North America  6771829.14   \n",
       "19            7          France          FR         Europe  4772398.31   \n",
       "20            8         Germany          DE         Europe  3805202.35   \n",
       "21            9       Australia          AU        Pacific  5977814.92   \n",
       "22           10  United Kingdom          GB         Europe  5012905.37   \n",
       "23           11          Brazil          BR  South America        0.00   \n",
       "24           12          Mexico          MX  North America        0.00   \n",
       "\n",
       "    SalesLastYear  CustomerID FirstName LastName City StateName  \n",
       "5     3607148.940         NaN       NaN      NaN  NaN       NaN  \n",
       "18    5693988.860         NaN       NaN      NaN  NaN       NaN  \n",
       "19    2396539.760         NaN       NaN      NaN  NaN       NaN  \n",
       "20    1307949.790         NaN       NaN      NaN  NaN       NaN  \n",
       "21    2278548.980         NaN       NaN      NaN  NaN       NaN  \n",
       "22    1635823.400         NaN       NaN      NaN  NaN       NaN  \n",
       "23     261589.958         NaN       NaN      NaN  NaN       NaN  \n",
       "24          0.000         NaN       NaN      NaN  NaN       NaN  "
      ]
     },
     "execution_count": 133,
     "metadata": {},
     "output_type": "execute_result"
    }
   ],
   "source": [
    "# df.loc[condition, column_list]\n",
    "df[df.CustomerID.isna()]"
   ]
  },
  {
   "cell_type": "code",
   "execution_count": 134,
   "id": "e4e9e07b",
   "metadata": {},
   "outputs": [
    {
     "data": {
      "text/plain": [
       "8"
      ]
     },
     "execution_count": 134,
     "metadata": {},
     "output_type": "execute_result"
    }
   ],
   "source": [
    "df[df.CustomerID.isna()].shape[0]"
   ]
  },
  {
   "cell_type": "code",
   "execution_count": null,
   "id": "e5be22db",
   "metadata": {},
   "outputs": [],
   "source": []
  },
  {
   "cell_type": "markdown",
   "id": "238ecdac-7363-4b37-a8f1-0dc5aae5583f",
   "metadata": {},
   "source": [
    "## Grouping\n",
    "\n",
    "Reading Materials: \n",
    "* (official doc): https://pandas.pydata.org/pandas-docs/stable/reference/api/pandas.DataFrame.agg.html\n",
    "* (summary) https://www.shanelynn.ie/summarising-aggregation-and-grouping-data-in-python-pandas/"
   ]
  },
  {
   "cell_type": "markdown",
   "id": "319bc4cb-cfda-494f-83c5-6e73ce4058e3",
   "metadata": {},
   "source": [
    "### What is the earliest birthdate for all employees?\n",
    "\n",
    "SQL logic\n",
    "```sql\n",
    "SELECT MIN(e.BirthDate) FROM dbo.Employees AS e;\n",
    "```"
   ]
  },
  {
   "cell_type": "code",
   "execution_count": 135,
   "id": "ef2406db-ef06-40e3-b220-7b3d0c2cf608",
   "metadata": {},
   "outputs": [
    {
     "data": {
      "text/html": [
       "<div>\n",
       "<style scoped>\n",
       "    .dataframe tbody tr th:only-of-type {\n",
       "        vertical-align: middle;\n",
       "    }\n",
       "\n",
       "    .dataframe tbody tr th {\n",
       "        vertical-align: top;\n",
       "    }\n",
       "\n",
       "    .dataframe thead th {\n",
       "        text-align: right;\n",
       "    }\n",
       "</style>\n",
       "<table border=\"1\" class=\"dataframe\">\n",
       "  <thead>\n",
       "    <tr style=\"text-align: right;\">\n",
       "      <th></th>\n",
       "      <th>EmployeeID</th>\n",
       "      <th>ManagerID</th>\n",
       "      <th>TerritoryID</th>\n",
       "      <th>Title</th>\n",
       "      <th>FirstName</th>\n",
       "      <th>MiddleName</th>\n",
       "      <th>LastName</th>\n",
       "      <th>Suffix</th>\n",
       "      <th>JobTitle</th>\n",
       "      <th>NationalIDNumber</th>\n",
       "      <th>BirthDate</th>\n",
       "      <th>MaritalStatus</th>\n",
       "      <th>Gender</th>\n",
       "      <th>HireDate</th>\n",
       "      <th>SalariedFlag</th>\n",
       "      <th>VacationHours</th>\n",
       "      <th>SickLeaveHours</th>\n",
       "      <th>PhoneNumber</th>\n",
       "      <th>PhoneNumberType</th>\n",
       "      <th>EmailAddress</th>\n",
       "      <th>AddressLine1</th>\n",
       "      <th>AddressLine2</th>\n",
       "      <th>City</th>\n",
       "      <th>StateProvinceName</th>\n",
       "      <th>PostalCode</th>\n",
       "      <th>CountryName</th>\n",
       "    </tr>\n",
       "  </thead>\n",
       "  <tbody>\n",
       "    <tr>\n",
       "      <th>0</th>\n",
       "      <td>259</td>\n",
       "      <td>250.0</td>\n",
       "      <td>NaN</td>\n",
       "      <td>NaN</td>\n",
       "      <td>Ben</td>\n",
       "      <td>T</td>\n",
       "      <td>Miller</td>\n",
       "      <td>NaN</td>\n",
       "      <td>Buyer</td>\n",
       "      <td>20269531</td>\n",
       "      <td>1967-07-05</td>\n",
       "      <td>M</td>\n",
       "      <td>M</td>\n",
       "      <td>2004-04-09</td>\n",
       "      <td>0</td>\n",
       "      <td>55</td>\n",
       "      <td>47</td>\n",
       "      <td>151-555-0113</td>\n",
       "      <td>Work</td>\n",
       "      <td>ben0@adventure-works.com</td>\n",
       "      <td>101 Candy Rd.</td>\n",
       "      <td>NaN</td>\n",
       "      <td>Redmond</td>\n",
       "      <td>Washington</td>\n",
       "      <td>98052</td>\n",
       "      <td>United States</td>\n",
       "    </tr>\n",
       "    <tr>\n",
       "      <th>1</th>\n",
       "      <td>278</td>\n",
       "      <td>274.0</td>\n",
       "      <td>6.0</td>\n",
       "      <td>NaN</td>\n",
       "      <td>Garrett</td>\n",
       "      <td>R</td>\n",
       "      <td>Vargas</td>\n",
       "      <td>NaN</td>\n",
       "      <td>Sales Representative</td>\n",
       "      <td>234474252</td>\n",
       "      <td>1969-03-07</td>\n",
       "      <td>M</td>\n",
       "      <td>M</td>\n",
       "      <td>2005-07-01</td>\n",
       "      <td>1</td>\n",
       "      <td>33</td>\n",
       "      <td>36</td>\n",
       "      <td>922-555-0165</td>\n",
       "      <td>Work</td>\n",
       "      <td>garrett1@mapleleafmail.ca</td>\n",
       "      <td>10203 Acorn Avenue</td>\n",
       "      <td>NaN</td>\n",
       "      <td>Calgary</td>\n",
       "      <td>Alberta</td>\n",
       "      <td>T2P 2G8</td>\n",
       "      <td>Canada</td>\n",
       "    </tr>\n",
       "    <tr>\n",
       "      <th>2</th>\n",
       "      <td>204</td>\n",
       "      <td>26.0</td>\n",
       "      <td>NaN</td>\n",
       "      <td>NaN</td>\n",
       "      <td>Gabe</td>\n",
       "      <td>B</td>\n",
       "      <td>Mares</td>\n",
       "      <td>NaN</td>\n",
       "      <td>Production Technician - WC40</td>\n",
       "      <td>440379437</td>\n",
       "      <td>1982-06-11</td>\n",
       "      <td>M</td>\n",
       "      <td>M</td>\n",
       "      <td>2003-04-09</td>\n",
       "      <td>0</td>\n",
       "      <td>57</td>\n",
       "      <td>48</td>\n",
       "      <td>310-555-0117</td>\n",
       "      <td>Work</td>\n",
       "      <td>gabe0@adventure-works.com</td>\n",
       "      <td>1061 Buskrik Avenue</td>\n",
       "      <td>NaN</td>\n",
       "      <td>Edmonds</td>\n",
       "      <td>Washington</td>\n",
       "      <td>98020</td>\n",
       "      <td>United States</td>\n",
       "    </tr>\n",
       "  </tbody>\n",
       "</table>\n",
       "</div>"
      ],
      "text/plain": [
       "   EmployeeID  ManagerID  TerritoryID Title FirstName MiddleName LastName  \\\n",
       "0         259      250.0          NaN   NaN       Ben          T   Miller   \n",
       "1         278      274.0          6.0   NaN   Garrett          R   Vargas   \n",
       "2         204       26.0          NaN   NaN      Gabe          B    Mares   \n",
       "\n",
       "  Suffix                      JobTitle  NationalIDNumber   BirthDate  \\\n",
       "0    NaN                         Buyer          20269531  1967-07-05   \n",
       "1    NaN          Sales Representative         234474252  1969-03-07   \n",
       "2    NaN  Production Technician - WC40         440379437  1982-06-11   \n",
       "\n",
       "  MaritalStatus Gender   HireDate  SalariedFlag  VacationHours  \\\n",
       "0             M      M 2004-04-09             0             55   \n",
       "1             M      M 2005-07-01             1             33   \n",
       "2             M      M 2003-04-09             0             57   \n",
       "\n",
       "   SickLeaveHours   PhoneNumber PhoneNumberType               EmailAddress  \\\n",
       "0              47  151-555-0113            Work   ben0@adventure-works.com   \n",
       "1              36  922-555-0165            Work  garrett1@mapleleafmail.ca   \n",
       "2              48  310-555-0117            Work  gabe0@adventure-works.com   \n",
       "\n",
       "          AddressLine1 AddressLine2     City StateProvinceName PostalCode  \\\n",
       "0        101 Candy Rd.          NaN  Redmond        Washington      98052   \n",
       "1   10203 Acorn Avenue          NaN  Calgary           Alberta    T2P 2G8   \n",
       "2  1061 Buskrik Avenue          NaN  Edmonds        Washington      98020   \n",
       "\n",
       "     CountryName  \n",
       "0  United States  \n",
       "1         Canada  \n",
       "2  United States  "
      ]
     },
     "execution_count": 135,
     "metadata": {},
     "output_type": "execute_result"
    }
   ],
   "source": [
    "Employees.head(3)"
   ]
  },
  {
   "cell_type": "code",
   "execution_count": 137,
   "id": "5f78b63f",
   "metadata": {},
   "outputs": [
    {
     "data": {
      "text/plain": [
       "Index(['EmployeeID', 'ManagerID', 'TerritoryID', 'Title', 'FirstName',\n",
       "       'MiddleName', 'LastName', 'Suffix', 'JobTitle', 'NationalIDNumber',\n",
       "       'BirthDate', 'MaritalStatus', 'Gender', 'HireDate', 'SalariedFlag',\n",
       "       'VacationHours', 'SickLeaveHours', 'PhoneNumber', 'PhoneNumberType',\n",
       "       'EmailAddress', 'AddressLine1', 'AddressLine2', 'City',\n",
       "       'StateProvinceName', 'PostalCode', 'CountryName'],\n",
       "      dtype='object')"
      ]
     },
     "execution_count": 137,
     "metadata": {},
     "output_type": "execute_result"
    }
   ],
   "source": [
    "Employees.columns"
   ]
  },
  {
   "cell_type": "code",
   "execution_count": null,
   "id": "77ce8afb-622b-44a9-924d-35633b659f80",
   "metadata": {},
   "outputs": [],
   "source": [
    "type(Employees.dtypes)"
   ]
  },
  {
   "cell_type": "code",
   "execution_count": null,
   "id": "8c9b4961-4428-428e-a14c-a2331fca9cfc",
   "metadata": {},
   "outputs": [],
   "source": [
    "Employees.loc[:,['BirthDate']].head(3)"
   ]
  },
  {
   "cell_type": "code",
   "execution_count": null,
   "id": "2144fca8",
   "metadata": {},
   "outputs": [],
   "source": []
  },
  {
   "cell_type": "code",
   "execution_count": 138,
   "id": "426aad4d",
   "metadata": {},
   "outputs": [
    {
     "data": {
      "text/plain": [
       "EmployeeID                    int64\n",
       "ManagerID                   float64\n",
       "TerritoryID                 float64\n",
       "Title                        object\n",
       "FirstName                    object\n",
       "MiddleName                   object\n",
       "LastName                     object\n",
       "Suffix                       object\n",
       "JobTitle                     object\n",
       "NationalIDNumber              int64\n",
       "BirthDate                    object\n",
       "MaritalStatus                object\n",
       "Gender                       object\n",
       "HireDate             datetime64[ns]\n",
       "SalariedFlag                  int64\n",
       "VacationHours                 int64\n",
       "SickLeaveHours                int64\n",
       "PhoneNumber                  object\n",
       "PhoneNumberType              object\n",
       "EmailAddress                 object\n",
       "AddressLine1                 object\n",
       "AddressLine2                 object\n",
       "City                         object\n",
       "StateProvinceName            object\n",
       "PostalCode                   object\n",
       "CountryName                  object\n",
       "dtype: object"
      ]
     },
     "execution_count": 138,
     "metadata": {},
     "output_type": "execute_result"
    }
   ],
   "source": [
    "Employees.dtypes"
   ]
  },
  {
   "cell_type": "code",
   "execution_count": null,
   "id": "8a207598",
   "metadata": {},
   "outputs": [],
   "source": []
  },
  {
   "cell_type": "code",
   "execution_count": 139,
   "id": "557e0f31-c863-4b0d-91ef-46861e053672",
   "metadata": {},
   "outputs": [
    {
     "data": {
      "text/plain": [
       "'object'"
      ]
     },
     "execution_count": 139,
     "metadata": {},
     "output_type": "execute_result"
    }
   ],
   "source": [
    "# Employees.dtypes.reset_index()\n",
    "# Employees.dtypes['BirthDate']\n",
    "str(Employees.dtypes['BirthDate'])"
   ]
  },
  {
   "cell_type": "code",
   "execution_count": null,
   "id": "3d83970e-dba6-424d-917e-049149697a47",
   "metadata": {},
   "outputs": [],
   "source": [
    "Employees.BirthDate.dtypes"
   ]
  },
  {
   "cell_type": "code",
   "execution_count": 140,
   "id": "9f31a6be",
   "metadata": {},
   "outputs": [
    {
     "data": {
      "text/plain": [
       "True"
      ]
     },
     "execution_count": 140,
     "metadata": {},
     "output_type": "execute_result"
    }
   ],
   "source": [
    "'1970-01-01' < '2023-06-26'"
   ]
  },
  {
   "cell_type": "code",
   "execution_count": 141,
   "id": "61d96b5e-45f9-4391-84b5-08e939672af9",
   "metadata": {},
   "outputs": [
    {
     "data": {
      "text/plain": [
       "'1945-11-17'"
      ]
     },
     "execution_count": 141,
     "metadata": {},
     "output_type": "execute_result"
    }
   ],
   "source": [
    "Employees.BirthDate.min()"
   ]
  },
  {
   "cell_type": "code",
   "execution_count": 142,
   "id": "05823566-e813-423a-be49-de81da61259b",
   "metadata": {},
   "outputs": [
    {
     "data": {
      "text/plain": [
       "'1985-07-01'"
      ]
     },
     "execution_count": 142,
     "metadata": {},
     "output_type": "execute_result"
    }
   ],
   "source": [
    "Employees.BirthDate.max()"
   ]
  },
  {
   "cell_type": "code",
   "execution_count": 143,
   "id": "ad0ce595-ef64-4dad-9ed2-ef8725257e25",
   "metadata": {},
   "outputs": [
    {
     "data": {
      "text/plain": [
       "279"
      ]
     },
     "execution_count": 143,
     "metadata": {},
     "output_type": "execute_result"
    }
   ],
   "source": [
    "Employees.BirthDate.nunique()"
   ]
  },
  {
   "cell_type": "code",
   "execution_count": null,
   "id": "5b6e892c",
   "metadata": {},
   "outputs": [],
   "source": []
  },
  {
   "cell_type": "code",
   "execution_count": null,
   "id": "20289ea9",
   "metadata": {},
   "outputs": [],
   "source": []
  },
  {
   "cell_type": "markdown",
   "id": "8ca206cc-f514-41ea-a4c1-0d63b97c6835",
   "metadata": {},
   "source": [
    "### Add to the above, the most recent birthdate for all employees\n",
    "\n",
    "SQL logic\n",
    "```sql\n",
    "SELECT \n",
    "  MIN(e.BirthDate) AS 'Earliest Birthday'\n",
    "  , MAX(e.BirthDate) AS 'Most Reecent Birthday'\n",
    "FROM dbo.Employees AS e;\n",
    "```"
   ]
  },
  {
   "cell_type": "code",
   "execution_count": null,
   "id": "67a8d0f4-d6ef-49be-8611-d63047b001ca",
   "metadata": {},
   "outputs": [],
   "source": [
    "x = [4,5,1,2,3]\n",
    "min(x), max(x)"
   ]
  },
  {
   "cell_type": "markdown",
   "id": "b46adfae-1e92-4a61-9feb-4c2c662e3294",
   "metadata": {},
   "source": [
    "* Lexicographic order [[wikipedia](https://en.wikipedia.org/wiki/Lexicographic_order)]"
   ]
  },
  {
   "cell_type": "code",
   "execution_count": null,
   "id": "b99b7440-7346-41d6-a96e-04af5154b535",
   "metadata": {},
   "outputs": [],
   "source": [
    "'2ab' < '1ab'"
   ]
  },
  {
   "cell_type": "code",
   "execution_count": null,
   "id": "17c3dea8-d6d2-4a67-9811-ba59f6075e28",
   "metadata": {},
   "outputs": [],
   "source": [
    "# 'abcdefg'\n",
    "\n",
    "'a' > 'b'"
   ]
  },
  {
   "cell_type": "code",
   "execution_count": null,
   "id": "c29dcae6-8f14-4fb1-976f-b62495f1455a",
   "metadata": {},
   "outputs": [],
   "source": [
    "Employees.agg({'BirthDate':['min','max']}).T\n",
    "\n",
    "# Employees.agg({'BirthDate':['min','max']})"
   ]
  },
  {
   "cell_type": "code",
   "execution_count": null,
   "id": "746bd194-9a49-409c-b52f-1b47f4f31272",
   "metadata": {},
   "outputs": [],
   "source": [
    "Employees.agg({'BirthDate':[min,max]}).T"
   ]
  },
  {
   "cell_type": "code",
   "execution_count": null,
   "id": "32e2b937-153a-4ab8-a527-1177c57ac8fb",
   "metadata": {},
   "outputs": [],
   "source": [
    "Employees.agg({'BirthDate':[min,max]}).T.reset_index(drop=True)\n",
    "# Employees.agg({'BirthDate':['min','max']}).T.reset_index(drop=False)"
   ]
  },
  {
   "cell_type": "markdown",
   "id": "c2a25333-743b-4157-9e9b-62900c03da6d",
   "metadata": {},
   "source": [
    "### Show the above results broken down by gender\n",
    "\n",
    "SQL logic\n",
    "```sql\n",
    "SELECT \n",
    "  e.Gender\n",
    "  , MIN(e.BirthDate) AS 'Earliest Birthday'\n",
    "  , MAX(e.BirthDate) AS 'Most Reecent Birthday'\n",
    "FROM dbo.Employees AS e\n",
    "GROUP BY e.Gender\n",
    ";\n",
    "```"
   ]
  },
  {
   "cell_type": "code",
   "execution_count": null,
   "id": "be57135b-6e3b-4b73-aec1-ee4cd1cebca2",
   "metadata": {},
   "outputs": [],
   "source": [
    "Employees.groupby('Gender')['BirthDate'].min().reset_index()"
   ]
  },
  {
   "cell_type": "code",
   "execution_count": null,
   "id": "001517e9-90f3-45e0-8522-d6c2f03eb682",
   "metadata": {},
   "outputs": [],
   "source": [
    "Employees.groupby('Gender').agg({'BirthDate':[min,max]})"
   ]
  },
  {
   "cell_type": "code",
   "execution_count": null,
   "id": "a7d58209-5ab9-4b4d-bf37-408e49c4a572",
   "metadata": {},
   "outputs": [],
   "source": [
    "Employees.groupby('Gender').agg(\n",
    "    min_bday=('BirthDate',min),\n",
    "    max_bday=('BirthDate',max)\n",
    ").reset_index()"
   ]
  },
  {
   "cell_type": "markdown",
   "id": "739f22eb-0a4e-4926-9405-c45efa22483b",
   "metadata": {},
   "source": [
    "### Show the above results broken down by gender, and salaried/hourly\n",
    "\n",
    "SQL logic\n",
    "```sql\n",
    "SELECT \n",
    "  e.Gender\n",
    "  , e.SalariedFlag\n",
    "  , MIN(e.BirthDate) AS 'Earliest Birthday'\n",
    "  , MAX(e.BirthDate) AS 'Most Reecent Birthday'\n",
    "FROM dbo.Employees AS e\n",
    "GROUP BY e.Gender, e.SalariedFlag\n",
    ";\n",
    "```"
   ]
  },
  {
   "cell_type": "code",
   "execution_count": null,
   "id": "5664e16b-249a-4bc0-a386-26693dd81b68",
   "metadata": {},
   "outputs": [],
   "source": [
    "Employees.groupby(['Gender','SalariedFlag']).agg(\n",
    "    min_bday=('BirthDate',min),\n",
    "    max_bday=('BirthDate',max)\n",
    ").reset_index()"
   ]
  },
  {
   "cell_type": "markdown",
   "id": "88a6ac4a-be2f-48da-b5ff-fb78e139fc29",
   "metadata": {},
   "source": [
    "### What are the average vacation hours for all employees?\n",
    "\n",
    "SQL logic\n",
    "```sql\n",
    "SELECT AVG(e.VacationHours)\n",
    "FROM dbo.Employees AS e\t\n",
    ";\n",
    "```"
   ]
  },
  {
   "cell_type": "code",
   "execution_count": null,
   "id": "2309c030-c4a1-41a6-a670-49d29f797053",
   "metadata": {},
   "outputs": [],
   "source": [
    "Employees.VacationHours.mean()"
   ]
  },
  {
   "cell_type": "markdown",
   "id": "d4a9c426-e72f-4e91-aa3e-6353b1087b09",
   "metadata": {},
   "source": [
    "### Show the above results broken down and ordered by job title¶\n",
    "\n",
    "SQL logic\n",
    "```sql\n",
    "SELECT \n",
    "  e.JobTitle\n",
    "  , AVG(e.VacationHours) AS 'Average Vacation'\n",
    "  , MIN(e.VacationHours) AS 'Minimum Vacation'\n",
    "FROM dbo.Employees AS e\n",
    "GROUP BY e.JobTitle\n",
    ";\n",
    "```"
   ]
  },
  {
   "cell_type": "code",
   "execution_count": null,
   "id": "d226f0bd-ac6a-4cab-a4b7-cb826306732a",
   "metadata": {},
   "outputs": [],
   "source": [
    "Employees.groupby('JobTitle')['VacationHours'].min().reset_index().head(3)"
   ]
  },
  {
   "cell_type": "code",
   "execution_count": null,
   "id": "e3d76cb6-849d-4f52-96e5-8cb135921cc9",
   "metadata": {},
   "outputs": [],
   "source": [
    "Employees.groupby('JobTitle')['VacationHours'].mean().reset_index().head(3)"
   ]
  },
  {
   "cell_type": "code",
   "execution_count": null,
   "id": "02a73c8e-ddc6-4edf-9704-c619aa0e1b6e",
   "metadata": {},
   "outputs": [],
   "source": [
    "Employees.groupby('JobTitle')['VacationHours'].apply(lambda x: sum(x)/len(x)).reset_index().head(3)"
   ]
  },
  {
   "cell_type": "code",
   "execution_count": null,
   "id": "2b867cd2-fa06-469f-b91b-364ea09335ee",
   "metadata": {
    "scrolled": true
   },
   "outputs": [],
   "source": [
    "Employees.groupby('JobTitle').agg(\n",
    "    avg_pto_left=('VacationHours',lambda x: sum(x)/len(x)),\n",
    "    min_pto_left=('VacationHours',min)\n",
    ").reset_index()"
   ]
  },
  {
   "cell_type": "code",
   "execution_count": null,
   "id": "65b021b8-5bc2-4e98-94f5-343b6adca42a",
   "metadata": {},
   "outputs": [],
   "source": []
  },
  {
   "cell_type": "code",
   "execution_count": null,
   "id": "d02540ce-d4ea-4170-b02c-6c64d7c6e5a5",
   "metadata": {},
   "outputs": [],
   "source": []
  },
  {
   "cell_type": "code",
   "execution_count": null,
   "id": "ec04cd1a-d297-4843-b948-1a58ae94e5cf",
   "metadata": {},
   "outputs": [],
   "source": []
  },
  {
   "cell_type": "markdown",
   "id": "759b09a7-7737-4653-9911-0ae552d9781f",
   "metadata": {},
   "source": [
    "# The Python Statistics Landscape\n",
    "\n",
    "There are many Python statistics libraries for you to work with.\n",
    "\n",
    "* **Foundation Libraries**\n",
    "    * `statistics`: built-in Python library for descriptive statistics (link: https://docs.python.org/3/library/statistics.html)\n",
    "    * `numpy`: numerical computing, numpy arrays, covered in lecture 03\n",
    "    * `scipy`: scientific computing based on numpy, the `scipy.stats` module (link: https://docs.scipy.org/doc/scipy/reference/stats.html) covers a large number of probability distributions and statistical functions (link: https://www.scipy.org/)\n",
    "    \n",
    "* **Data Science Libraries**\n",
    "    * `pandas`: 1D and 2D labeled data manipulations and computation, covered in lecture 04\n",
    "    * `statsmodels`: a Python module that provides classes and functions for the estimation of many different statistical models, as well as for conducting statistical tests, and statistical data exploration (link: https://www.statsmodels.org/stable/index.html)\n",
    "    * `matplotlib`: graphs and visualization (link: https://matplotlib.org/)"
   ]
  },
  {
   "cell_type": "markdown",
   "id": "5e86f7dd-fc57-4917-93d4-f78635fde08a",
   "metadata": {},
   "source": [
    "# Descriptive Statistical Analysis\n",
    "\n",
    "Descriptive statistics is about describing and summarizing data. It uses two main approaches:\n",
    "\n",
    "* The quantitative approach describes and summarizes data numerically.\n",
    "* The visual approach illustrates data with charts, plots, histograms, and other graphs.\n",
    "\n",
    "You can apply descriptive statistics to one or many datasets or variables. When you describe and summarize a single variable, you’re performing univariate analysis. When you search for statistical relationships among a pair of variables, you’re doing a bivariate analysis. Similarly, a multivariate analysis is concerned with multiple variables at once.\n"
   ]
  },
  {
   "cell_type": "markdown",
   "id": "879dc9df-8b7b-4eb7-a95c-8dd9b3e395c5",
   "metadata": {},
   "source": [
    "**[Case Study]**\n",
    "\n",
    "**Atlanta Police Department Crime Data** ![APD Logo](https://atlantapd.galls.com/photos/partners/atlantapd/logo.jpg)\n",
    "\n",
    "\n",
    "The Atlanta Police Department provides raw crime data at http://www.atlantapd.org/i-want-to/crime-data-downloads\n"
   ]
  },
  {
   "cell_type": "code",
   "execution_count": null,
   "id": "97fa7b22-4da8-46ec-843c-125ca1ed671f",
   "metadata": {},
   "outputs": [],
   "source": [
    "import pandas as pd\n",
    "import matplotlib.pyplot as plt"
   ]
  },
  {
   "cell_type": "markdown",
   "id": "19e98e2f-bdcf-4317-b1d8-d1d81298dc5e",
   "metadata": {},
   "source": [
    "## Load the 2009-2019 crime data"
   ]
  },
  {
   "cell_type": "code",
   "execution_count": null,
   "id": "f71e32a5-9e16-42c3-84c2-0957d4cc5a74",
   "metadata": {},
   "outputs": [],
   "source": [
    "df = pd.read_csv('../data/COBRA-2009-2019.csv',sep=',',header=0)\n",
    "df.head(3)"
   ]
  },
  {
   "cell_type": "code",
   "execution_count": null,
   "id": "4e8422b5-9b01-4a56-af1f-f5c6f5fede8f",
   "metadata": {},
   "outputs": [],
   "source": [
    "df.shape"
   ]
  },
  {
   "cell_type": "code",
   "execution_count": null,
   "id": "314beeaf-c731-4e4f-850f-697146294442",
   "metadata": {},
   "outputs": [],
   "source": [
    "df.info()"
   ]
  },
  {
   "cell_type": "markdown",
   "id": "b3c10acf-8888-41a2-b937-c292096e711d",
   "metadata": {},
   "source": [
    "## Quantitative Analysis"
   ]
  },
  {
   "cell_type": "code",
   "execution_count": null,
   "id": "2b87125c-e551-44b1-b67b-ebbfad7d8d79",
   "metadata": {},
   "outputs": [],
   "source": [
    "df['rpt_yr'] = df['Report Date'].map(lambda x: x[:4])\n",
    "\n",
    "df.head(3)"
   ]
  },
  {
   "cell_type": "code",
   "execution_count": null,
   "id": "55a4662d-fd2b-4c49-aea5-a7abc42db3d3",
   "metadata": {},
   "outputs": [],
   "source": [
    "## number of reports every year\n",
    "# df['rpt_yr'] = df['Report Date'].map(lambda x: x[:4])\n",
    "\n",
    "num_rpt_by_yr = df.groupby('rpt_yr').agg(\n",
    "    num_row=('Report Number',len),\n",
    "    num_rpt=('Report Number',lambda x: len(set(x)))\n",
    ").reset_index()\n",
    "num_rpt_by_yr"
   ]
  },
  {
   "cell_type": "code",
   "execution_count": null,
   "id": "16bce962-7782-4443-a386-1615b1351975",
   "metadata": {},
   "outputs": [],
   "source": [
    "df.groupby('rpt_yr')['Report Number'].nunique().reset_index()"
   ]
  },
  {
   "cell_type": "code",
   "execution_count": null,
   "id": "930c5b78-2c16-4996-842f-1dda80341b4c",
   "metadata": {},
   "outputs": [],
   "source": [
    "## number of cases per shift in 2019\n",
    "num_rpt_by_shift = df[df.rpt_yr=='2019'].groupby('Shift Occurence').agg(\n",
    "    num_rpt=('Report Number',lambda x: len(set(x)))\n",
    ").reset_index()\n",
    "num_rpt_by_shift"
   ]
  },
  {
   "cell_type": "code",
   "execution_count": null,
   "id": "32436974-b87f-440e-9537-f67fd0d4a8a2",
   "metadata": {},
   "outputs": [],
   "source": [
    "## number of cases per shift in the past 3 years\n",
    "num_rpt_by_yr_shift = df[df.rpt_yr>='2017'].groupby(['rpt_yr','Shift Occurence']).agg(\n",
    "    num_rpt=('Report Number',lambda x: len(set(x)))\n",
    ").reset_index()\n",
    "# num_rpt_by_yr_shift\n",
    "num_rpt_by_yr_shift.sort_values(by=['Shift Occurence','rpt_yr'])"
   ]
  },
  {
   "cell_type": "code",
   "execution_count": null,
   "id": "7808e4ff-bfb0-4830-9c94-4fa018175615",
   "metadata": {},
   "outputs": [],
   "source": [
    "## % of cases per shift in the past 3 years\n",
    "num_rpt_by_yr_shift2 = pd.merge(\n",
    "    num_rpt_by_yr_shift,\n",
    "    num_rpt_by_yr.loc[:,['rpt_yr','num_rpt']].copy().rename(columns={'num_rpt':'annual_total'}),\n",
    "    on='rpt_yr'\n",
    ")\n",
    "num_rpt_by_yr_shift2.sort_values(by=['Shift Occurence','rpt_yr'])"
   ]
  },
  {
   "cell_type": "code",
   "execution_count": null,
   "id": "03758b1e-32bc-40f3-8145-e78e62c37d07",
   "metadata": {},
   "outputs": [],
   "source": [
    "num_rpt_by_yr_shift2['percent'] = [\n",
    "    round(subtotal/total,2)\n",
    "    for subtotal,total in zip(num_rpt_by_yr_shift2.num_rpt,num_rpt_by_yr_shift2.annual_total)\n",
    "]\n",
    "num_rpt_by_yr_shift2.sort_values(by=['Shift Occurence','rpt_yr'])"
   ]
  },
  {
   "cell_type": "markdown",
   "id": "956ce05d-ac56-4cfc-98f6-d66f426004e9",
   "metadata": {},
   "source": [
    "**Can you do better??**"
   ]
  },
  {
   "cell_type": "markdown",
   "id": "a061d987-9b9c-4183-8951-ea29d0807eb2",
   "metadata": {},
   "source": [
    "## Visual Analysis"
   ]
  },
  {
   "cell_type": "markdown",
   "id": "b8520dff-9e33-43e9-9b77-f4976902cf2a",
   "metadata": {},
   "source": [
    "### Visualize the YOY change of % by shift with bar chart"
   ]
  },
  {
   "cell_type": "code",
   "execution_count": null,
   "id": "275bd5b5-a190-40a9-b2aa-20e8c76e00fb",
   "metadata": {},
   "outputs": [],
   "source": [
    "num_rpt_by_yr_shift2.rpt_yr = num_rpt_by_yr_shift2.rpt_yr.astype(int)\n",
    "dw = num_rpt_by_yr_shift2[num_rpt_by_yr_shift2['Shift Occurence']=='Day Watch']\n",
    "ew = num_rpt_by_yr_shift2[num_rpt_by_yr_shift2['Shift Occurence']=='Evening Watch']\n",
    "mw = num_rpt_by_yr_shift2[num_rpt_by_yr_shift2['Shift Occurence']=='Morning Watch']\n",
    "unk = num_rpt_by_yr_shift2[num_rpt_by_yr_shift2['Shift Occurence']=='Unknown']\n",
    "\n",
    "plt.plot(dw.rpt_yr, dw.percent, '-o', label='day watch')\n",
    "plt.plot(ew.rpt_yr, ew.percent, '-o', label='evening watch')\n",
    "plt.plot(mw.rpt_yr, mw.percent, '-o', label='morning watch')\n",
    "plt.plot(unk.rpt_yr, unk.percent, '-o', label='unknown')\n",
    "\n",
    "plt.xticks(ticks=[2017,2018,2019])\n",
    "plt.legend()\n",
    "plt.show()"
   ]
  },
  {
   "cell_type": "code",
   "execution_count": null,
   "id": "3f0638cb-3ce2-4323-bc44-fd7427d5a2b2",
   "metadata": {},
   "outputs": [],
   "source": []
  }
 ],
 "metadata": {
  "kernelspec": {
   "display_name": "Python 3 (ipykernel)",
   "language": "python",
   "name": "python3"
  },
  "language_info": {
   "codemirror_mode": {
    "name": "ipython",
    "version": 3
   },
   "file_extension": ".py",
   "mimetype": "text/x-python",
   "name": "python",
   "nbconvert_exporter": "python",
   "pygments_lexer": "ipython3",
   "version": "3.10.8"
  }
 },
 "nbformat": 4,
 "nbformat_minor": 5
}
